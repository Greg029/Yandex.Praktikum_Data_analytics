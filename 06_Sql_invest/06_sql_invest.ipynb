{
 "cells": [
  {
   "cell_type": "markdown",
   "id": "3cb8d0f0",
   "metadata": {},
   "source": [
    "# SQL. Работа с базой данных, хранящей информацию о венчурных фондах и инвестициях в компании-стартапы"
   ]
  },
  {
   "cell_type": "markdown",
   "id": "20bbb1cd",
   "metadata": {},
   "source": [
    "**Задача проекта** - проанализировать данные о фондах и инвестициях и написать запросы к базе. "
   ]
  },
  {
   "cell_type": "markdown",
   "id": "0c0441a2",
   "metadata": {},
   "source": [
    "## Задание 1"
   ]
  },
  {
   "cell_type": "markdown",
   "id": "57479b0f",
   "metadata": {},
   "source": [
    "Посчитайте, сколько компаний закрылось."
   ]
  },
  {
   "cell_type": "code",
   "execution_count": null,
   "id": "b711ebe9",
   "metadata": {},
   "outputs": [],
   "source": [
    "'''\n",
    "SELECT COUNT(status)\n",
    "FROM company\n",
    "WHERE status = 'closed';\n",
    "'''"
   ]
  },
  {
   "cell_type": "markdown",
   "id": "236190f9",
   "metadata": {},
   "source": [
    "## Задание 2"
   ]
  },
  {
   "cell_type": "markdown",
   "id": "5e5559b2",
   "metadata": {},
   "source": [
    "Отобразите количество привлечённых средств для новостных компаний США. Используйте данные из таблицы company. Отсортируйте таблицу по убыванию значений в поле `funding_total`."
   ]
  },
  {
   "cell_type": "code",
   "execution_count": null,
   "id": "9b562e43",
   "metadata": {},
   "outputs": [],
   "source": [
    "'''\n",
    "SELECT funding_total\n",
    "FROM company\n",
    "WHERE category_code = 'news'\n",
    "AND country_code = 'USA'\n",
    "ORDER BY funding_total DESC;\n",
    "'''"
   ]
  },
  {
   "cell_type": "markdown",
   "id": "5ae39817",
   "metadata": {},
   "source": [
    "## Задание 3"
   ]
  },
  {
   "cell_type": "markdown",
   "id": "d6091101",
   "metadata": {},
   "source": [
    "Найдите общую сумму сделок по покупке одних компаний другими в долларах. Отберите сделки, которые осуществлялись только за наличные с 2011 по 2013 год включительно."
   ]
  },
  {
   "cell_type": "code",
   "execution_count": null,
   "id": "a7427f1d",
   "metadata": {},
   "outputs": [],
   "source": [
    "'''\n",
    "SELECT SUM(price_amount)\n",
    "FROM acquisition\n",
    "WHERE term_code = 'cash' \n",
    "AND EXTRACT(YEAR FROM CAST(acquired_at AS DATE)) BETWEEN 2011 AND 2013;\n",
    "'''"
   ]
  },
  {
   "cell_type": "markdown",
   "id": "3110dbd3",
   "metadata": {},
   "source": [
    "## Задание 4"
   ]
  },
  {
   "cell_type": "markdown",
   "id": "5b18e941",
   "metadata": {},
   "source": [
    "Отобразите имя, фамилию и названия аккаунтов людей в твиттере, у которых названия аккаунтов начинаются на `Silver`."
   ]
  },
  {
   "cell_type": "code",
   "execution_count": null,
   "id": "d663d2f7",
   "metadata": {},
   "outputs": [],
   "source": [
    "'''\n",
    "SELECT first_name,\n",
    "    last_name,\n",
    "    twitter_username\n",
    "FROM people\n",
    "WHERE twitter_username LIKE 'Silver%';\n",
    "'''"
   ]
  },
  {
   "cell_type": "markdown",
   "id": "cbf02d20",
   "metadata": {},
   "source": [
    "## Задание 5"
   ]
  },
  {
   "cell_type": "markdown",
   "id": "5b9ab490",
   "metadata": {},
   "source": [
    "Выведите на экран всю информацию о людях, у которых названия аккаунтов в твиттере содержат подстроку `money`, а фамилия начинается на `K`."
   ]
  },
  {
   "cell_type": "code",
   "execution_count": null,
   "id": "0233d8f0",
   "metadata": {},
   "outputs": [],
   "source": [
    "'''\n",
    "SELECT *\n",
    "FROM people\n",
    "WHERE twitter_username LIKE '%money%'\n",
    "AND last_name LIKE 'K%';\n",
    "'''"
   ]
  },
  {
   "cell_type": "markdown",
   "id": "c8982dba",
   "metadata": {},
   "source": [
    "## Задание 6"
   ]
  },
  {
   "cell_type": "markdown",
   "id": "eb579fd1",
   "metadata": {},
   "source": [
    "Для каждой страны отобразите общую сумму привлечённых инвестиций, которые получили компании, зарегистрированные в этой стране. Страну, в которой зарегистрирована компания, можно определить по коду страны. Отсортируйте данные по убыванию суммы."
   ]
  },
  {
   "cell_type": "code",
   "execution_count": null,
   "id": "14ca69b7",
   "metadata": {},
   "outputs": [],
   "source": [
    "'''\n",
    "SELECT country_code,\n",
    "     SUM(funding_total)\n",
    "FROM company\n",
    "GROUP BY  country_code\n",
    "ORDER BY SUM(funding_total) DESC;\n",
    "'''"
   ]
  },
  {
   "cell_type": "markdown",
   "id": "10e9b778",
   "metadata": {},
   "source": [
    "## Задание 7"
   ]
  },
  {
   "cell_type": "markdown",
   "id": "ad7c7970",
   "metadata": {},
   "source": [
    "Составьте таблицу, в которую войдёт дата проведения раунда, а также минимальное и максимальное значения суммы инвестиций, привлечённых в эту дату.\n",
    "\n",
    "Оставьте в итоговой таблице только те записи, в которых минимальное значение суммы инвестиций не равно нулю и не равно максимальному значению."
   ]
  },
  {
   "cell_type": "code",
   "execution_count": null,
   "id": "c708d3b6",
   "metadata": {},
   "outputs": [],
   "source": [
    "'''\n",
    "SELECT funded_at,\n",
    "    MIN(raised_amount),\n",
    "    MAX(raised_amount)\n",
    "FROM funding_round\n",
    "GROUP BY funded_at\n",
    "HAVING MIN(raised_amount) <> 0 \n",
    "AND MIN(raised_amount) <> MAX(raised_amount);\n",
    "'''"
   ]
  },
  {
   "cell_type": "markdown",
   "id": "f22dd982",
   "metadata": {},
   "source": [
    "## Задание 8"
   ]
  },
  {
   "cell_type": "markdown",
   "id": "29ef2a4c",
   "metadata": {},
   "source": [
    "Создайте поле с категориями:\n",
    "* Для фондов, которые инвестируют в 100 и более компаний, назначьте категорию `high_activity`.\n",
    "* Для фондов, которые инвестируют в 20 и более компаний до 100, назначьте категорию `middle_activity`.\n",
    "* Если количество инвестируемых компаний фонда не достигает 20, назначьте категорию `low_activity`.\n",
    "\n",
    "Отобразите все поля таблицы `fund` и новое поле с категориями."
   ]
  },
  {
   "cell_type": "code",
   "execution_count": null,
   "id": "22c4f0b4",
   "metadata": {},
   "outputs": [],
   "source": [
    "'''\n",
    "SELECT *,\n",
    "      CASE\n",
    "          WHEN invested_companies >= 100 THEN 'high_activity'\n",
    "          WHEN invested_companies BETWEEN 20 AND 100 THEN 'middle_activity'\n",
    "          WHEN invested_companies < 20 THEN 'low_activity'\n",
    "      END\n",
    "FROM fund;\n",
    "'''"
   ]
  },
  {
   "cell_type": "markdown",
   "id": "8e4eeb0d",
   "metadata": {},
   "source": [
    "## Задание 9"
   ]
  },
  {
   "cell_type": "markdown",
   "id": "c7c6d58a",
   "metadata": {},
   "source": [
    "Для каждой из категорий, назначенных в предыдущем задании, посчитайте округлённое до ближайшего целого числа среднее количество инвестиционных раундов, в которых фонд принимал участие. Выведите на экран категории и среднее число инвестиционных раундов. Отсортируйте таблицу по возрастанию среднего."
   ]
  },
  {
   "cell_type": "code",
   "execution_count": null,
   "id": "f18f1cee",
   "metadata": {},
   "outputs": [],
   "source": [
    "'''\n",
    "SELECT ROUND(AVG(investment_rounds)),\n",
    "       CASE\n",
    "           WHEN invested_companies>=100 THEN 'high_activity'\n",
    "           WHEN invested_companies>=20 THEN 'middle_activity'\n",
    "           ELSE 'low_activity'\n",
    "       END AS activity\n",
    "FROM fund\n",
    "GROUP BY activity\n",
    "ORDER BY ROUND(AVG(investment_rounds));\n",
    "'''"
   ]
  },
  {
   "cell_type": "markdown",
   "id": "8d0a3c0a",
   "metadata": {},
   "source": [
    "## Задание 10"
   ]
  },
  {
   "cell_type": "markdown",
   "id": "b79331aa",
   "metadata": {},
   "source": [
    "Выгрузите таблицу с десятью самыми активными инвестирующими странами. Активность страны определите по среднему количеству компаний, в которые инвестируют фонды этой страны.\n",
    "\n",
    "Для каждой страны посчитайте минимальное, максимальное и среднее число компаний, в которые инвестировали фонды, основанные с 2010 по 2012 год включительно.\n",
    "\n",
    "Исключите из таблицы страны с фондами, у которых минимальное число компаний, получивших инвестиции, равно нулю. Отсортируйте таблицу по среднему количеству компаний от большего к меньшему, а затем по коду страны в лексикографическом порядке.\n",
    "\n",
    "Для фильтрации диапазона по годам используйте оператор `BETWEEN`."
   ]
  },
  {
   "cell_type": "code",
   "execution_count": null,
   "id": "513722ab",
   "metadata": {},
   "outputs": [],
   "source": [
    "'''\n",
    "SELECT country_code,\n",
    "       MIN(invested_companies),\n",
    "       MAX(invested_companies),\n",
    "       AVG(invested_companies)\n",
    "FROM fund\n",
    "WHERE EXTRACT(YEAR FROM CAST(founded_at AS DATE)) BETWEEN 2010 AND 2012\n",
    "GROUP BY country_code\n",
    "HAVING MIN(invested_companies) <> 0\n",
    "ORDER BY AVG(invested_companies) DESC\n",
    "LIMIT 10;\n",
    "'''"
   ]
  },
  {
   "cell_type": "markdown",
   "id": "6060be35",
   "metadata": {},
   "source": [
    "## Задание 11"
   ]
  },
  {
   "cell_type": "markdown",
   "id": "36cd7b0c",
   "metadata": {},
   "source": [
    "Отобразите имя и фамилию всех сотрудников стартапов. Добавьте поле с названием учебного заведения, которое окончил сотрудник, если эта информация известна."
   ]
  },
  {
   "cell_type": "code",
   "execution_count": null,
   "id": "4c532bb4",
   "metadata": {},
   "outputs": [],
   "source": [
    "'''\n",
    "SELECT first_name,\n",
    "       last_name,\n",
    "       instituition\n",
    "FROM people \n",
    "LEFT OUTER JOIN education ON people.id = education.person_id;\n",
    "'''"
   ]
  },
  {
   "cell_type": "markdown",
   "id": "9a7d5e11",
   "metadata": {},
   "source": [
    "## Задание 12"
   ]
  },
  {
   "cell_type": "markdown",
   "id": "34214c2f",
   "metadata": {},
   "source": [
    "Для каждой компании найдите количество учебных заведений, которые окончили её сотрудники. Выведите название компании и число уникальных названий учебных заведений. Составьте топ-5 компаний по количеству университетов."
   ]
  },
  {
   "cell_type": "code",
   "execution_count": null,
   "id": "d959136a",
   "metadata": {},
   "outputs": [],
   "source": [
    "'''\n",
    "SELECT c.name,\n",
    "       COUNT(DISTINCT instituition)\n",
    "FROM company AS c\n",
    "INNER JOIN people AS p ON c.id = p.company_id\n",
    "INNER JOIN education AS e ON p.id = e.person_id\n",
    "GROUP BY c.name\n",
    "ORDER BY COUNT(DISTINCT instituition) DESC\n",
    "LIMIT 5;\n",
    "'''"
   ]
  },
  {
   "cell_type": "markdown",
   "id": "2e41c206",
   "metadata": {},
   "source": [
    "## Задание 13"
   ]
  },
  {
   "cell_type": "markdown",
   "id": "5f831d20",
   "metadata": {},
   "source": [
    "Составьте список с уникальными названиями закрытых компаний, для которых первый раунд финансирования оказался последним."
   ]
  },
  {
   "cell_type": "code",
   "execution_count": null,
   "id": "357a477e",
   "metadata": {},
   "outputs": [],
   "source": [
    "'''\n",
    "SELECT DISTINCT name\n",
    "FROM company AS c\n",
    "INNER JOIN funding_round AS f ON c.id = f.company_id\n",
    "WHERE status = 'closed'\n",
    "AND is_first_round = 1\n",
    "AND is_last_round = 1;\n",
    "'''"
   ]
  },
  {
   "cell_type": "markdown",
   "id": "2dec26b0",
   "metadata": {},
   "source": [
    "## Задание 14"
   ]
  },
  {
   "cell_type": "markdown",
   "id": "0de77de8",
   "metadata": {},
   "source": [
    "Составьте список уникальных номеров сотрудников, которые работают в компаниях, отобранных в предыдущем задании."
   ]
  },
  {
   "cell_type": "code",
   "execution_count": null,
   "id": "7f6dd9a5",
   "metadata": {},
   "outputs": [],
   "source": [
    "'''\n",
    "SELECT DISTINCT p.id\n",
    "FROM people AS p\n",
    "INNER join company AS c ON p.company_id = c.id\n",
    "INNER JOIN funding_round AS f ON c.id = f.company_id\n",
    "WHERE status = 'closed'\n",
    "AND is_first_round = 1\n",
    "AND is_last_round = 1;\n",
    "'''"
   ]
  },
  {
   "cell_type": "markdown",
   "id": "ca91d120",
   "metadata": {},
   "source": [
    "## Задание 15"
   ]
  },
  {
   "cell_type": "markdown",
   "id": "959a7b0c",
   "metadata": {},
   "source": [
    "Составьте таблицу, куда войдут уникальные пары с номерами сотрудников из предыдущей задачи и учебным заведением, которое окончил сотрудник."
   ]
  },
  {
   "cell_type": "code",
   "execution_count": null,
   "id": "e386510f",
   "metadata": {},
   "outputs": [],
   "source": [
    "'''\n",
    "SELECT DISTINCT p.id,\n",
    "                e.instituition\n",
    "FROM people AS p JOIN education AS e ON p.id = e.person_id\n",
    "WHERE company_id IN (SELECT id\n",
    "                     FROM company\n",
    "                     WHERE id IN (SELECT company_id\n",
    "                                  FROM funding_round\n",
    "                                  WHERE is_first_round = 1 AND is_last_round = 1)\n",
    "AND status = 'closed');\n",
    "'''"
   ]
  },
  {
   "cell_type": "markdown",
   "id": "33341e3d",
   "metadata": {},
   "source": [
    "## Задание 16"
   ]
  },
  {
   "cell_type": "markdown",
   "id": "c3685b80",
   "metadata": {},
   "source": [
    "Посчитайте количество учебных заведений для каждого сотрудника из предыдущего задания. При подсчёте учитывайте, что некоторые сотрудники могли окончить одно и то же заведение дважды."
   ]
  },
  {
   "cell_type": "code",
   "execution_count": null,
   "id": "051f2fe5",
   "metadata": {},
   "outputs": [],
   "source": [
    "'''\n",
    "COUNT(e.instituition) AS total_instituition\n",
    "FROM people AS p JOIN education AS e ON p.id = e.person_id\n",
    "WHERE company_id in (SELECT id\n",
    "                     FROM company \n",
    "                     WHERE id in (SELECT company_id\n",
    "                                  FROM funding_round\n",
    "                                  WHERE is_first_round = 1 AND is_last_round = 1)\n",
    "                     AND status = 'closed')\n",
    "GROUP BY p.id;\n",
    "'''"
   ]
  },
  {
   "cell_type": "markdown",
   "id": "6739d147",
   "metadata": {},
   "source": [
    "## Задание 17 "
   ]
  },
  {
   "cell_type": "markdown",
   "id": "e523372a",
   "metadata": {},
   "source": [
    "Дополните предыдущий запрос и выведите среднее число учебных заведений (всех, не только уникальных), которые окончили сотрудники разных компаний. Нужно вывести только одну запись, группировка здесь не понадобится."
   ]
  },
  {
   "cell_type": "code",
   "execution_count": null,
   "id": "dc6f6ba5",
   "metadata": {},
   "outputs": [],
   "source": [
    "'''\n",
    "SELECT AVG(ins)\n",
    "FROM (SELECT COUNT(e.instituition) AS ins\n",
    "      FROM people AS p JOIN education AS e ON p.id = e.person_id\n",
    "WHERE company_id in (SELECT id\n",
    "                     FROM company \n",
    "                     WHERE id in (SELECT company_id\n",
    "                                  FROM funding_round\n",
    "                                  WHERE is_first_round = 1 AND is_last_round = 1)\n",
    "                     AND status = 'closed')\n",
    "GROUP BY p.id) nested;\n",
    "'''"
   ]
  },
  {
   "cell_type": "markdown",
   "id": "c1f724eb",
   "metadata": {},
   "source": [
    "## Задание 18"
   ]
  },
  {
   "cell_type": "markdown",
   "id": "e217c08b",
   "metadata": {},
   "source": [
    "Напишите похожий запрос: выведите среднее число учебных заведений (всех, не только уникальных), которые окончили сотрудники Facebook*.\n",
    "\n",
    "*(сервис, запрещённый на территории РФ)"
   ]
  },
  {
   "cell_type": "code",
   "execution_count": null,
   "id": "ddb12ab0",
   "metadata": {},
   "outputs": [],
   "source": [
    "'''\n",
    "SELECT AVG(ins)\n",
    "FROM (SELECT COUNT(e.instituition) AS ins\n",
    "      FROM people AS p JOIN education AS e ON p.id = e.person_id\n",
    "      WHERE company_id in (SELECT id\n",
    "                          FROM company \n",
    "                          WHERE name = 'Facebook')\n",
    "      GROUP BY p.id) nested;\n",
    "'''"
   ]
  },
  {
   "cell_type": "markdown",
   "id": "45f38c6a",
   "metadata": {},
   "source": [
    "## Задание 19"
   ]
  },
  {
   "cell_type": "markdown",
   "id": "be569ac0",
   "metadata": {},
   "source": [
    "Составьте таблицу из полей:\n",
    "* name_of_fund — название фонда;\n",
    "* name_of_company — название компании;\n",
    "* amount — сумма инвестиций, которую привлекла компания в раунде.\n",
    "\n",
    "В таблицу войдут данные о компаниях, в истории которых было больше шести важных этапов, а раунды финансирования проходили с 2012 по 2013 год включительно."
   ]
  },
  {
   "cell_type": "code",
   "execution_count": null,
   "id": "dc2f250a",
   "metadata": {},
   "outputs": [],
   "source": [
    "'''\n",
    "SELECT f.name AS name_of_fund,\n",
    "       c.name AS name_of_company,\n",
    "       fr.raised_amount AS amount\n",
    "FROM investment AS i\n",
    "INNER JOIN company AS c ON i.company_id = c.id\n",
    "INNER JOIN fund AS f ON i.fund_id = f.id\n",
    "INNER JOIN funding_round AS fr ON i.funding_round_id = fr.id\n",
    "WHERE c.milestones > 6\n",
    "AND EXTRACT(YEAR FROM CAST(funded_at AS DATE)) BETWEEN 2012 AND 2013;\n",
    "'''"
   ]
  },
  {
   "cell_type": "markdown",
   "id": "befb5f8c",
   "metadata": {},
   "source": [
    "## Задание 20"
   ]
  },
  {
   "cell_type": "markdown",
   "id": "e0b0e46e",
   "metadata": {},
   "source": [
    "Выгрузите таблицу, в которой будут такие поля:\n",
    "* название компании-покупателя;\n",
    "* сумма сделки;\n",
    "* название компании, которую купили;\n",
    "* сумма инвестиций, вложенных в купленную компанию;\n",
    "* доля, которая отображает, во сколько раз сумма покупки превысила сумму вложенных в компанию инвестиций, округлённая до ближайшего целого числа.\n",
    "\n",
    "Не учитывайте те сделки, в которых сумма покупки равна нулю. Если сумма инвестиций в компанию равна нулю, исключите такую компанию из таблицы.\n",
    "\n",
    "Отсортируйте таблицу по сумме сделки от большей к меньшей, а затем по названию купленной компании в лексикографическом порядке. Ограничьте таблицу первыми десятью записями."
   ]
  },
  {
   "cell_type": "code",
   "execution_count": null,
   "id": "ad341c7f",
   "metadata": {},
   "outputs": [],
   "source": [
    "'''\n",
    "SELECT c.name,\n",
    "       a.price_amount,\n",
    "       co.name,\n",
    "       co.funding_total,\n",
    "       ROUND(a.price_amount/co.funding_total)\n",
    "FROM acquisition AS a\n",
    "INNER JOIN company AS c ON a.acquiring_company_id = c.id\n",
    "INNER JOIN company AS co ON a.acquired_company_id = co.id\n",
    "WHERE a.price_amount!=0 AND co.funding_total!=0\n",
    "ORDER BY a.price_amount DESC, co.name ASC\n",
    "LIMIT 10;\n",
    "'''"
   ]
  },
  {
   "cell_type": "markdown",
   "id": "f42243ca",
   "metadata": {},
   "source": [
    "## Задание 21 "
   ]
  },
  {
   "cell_type": "markdown",
   "id": "8706df67",
   "metadata": {},
   "source": [
    "Выгрузите таблицу, в которую войдут названия компаний из категории `social`, получившие финансирование с 2010 по 2013 год включительно. Проверьте, что сумма инвестиций не равна нулю. Выведите также номер месяца, в котором проходил раунд финансирования."
   ]
  },
  {
   "cell_type": "code",
   "execution_count": null,
   "id": "df3079ae",
   "metadata": {},
   "outputs": [],
   "source": [
    "'''\n",
    "SELECT c.name,\n",
    "       EXTRACT(MONTH from CAST(funded_at AS DATE)) \n",
    "FROM company AS c\n",
    "INNER JOIN funding_round AS fr ON c.id = fr.company_id\n",
    "WHERE category_code = 'social'\n",
    "AND EXTRACT(YEAR from CAST(funded_at AS DATE)) BETWEEN 2010 AND 2013;\n",
    "'''"
   ]
  },
  {
   "cell_type": "markdown",
   "id": "7957959b",
   "metadata": {},
   "source": [
    "## Задание 22 "
   ]
  },
  {
   "cell_type": "markdown",
   "id": "ec1e6dd9",
   "metadata": {},
   "source": [
    "Отберите данные по месяцам с 2010 по 2013 год, когда проходили инвестиционные раунды. Сгруппируйте данные по номеру месяца и получите таблицу, в которой будут поля:\n",
    "* номер месяца, в котором проходили раунды;\n",
    "* количество уникальных названий фондов из США, которые инвестировали в этом месяце;\n",
    "* количество компаний, купленных за этот месяц;\n",
    "* общая сумма сделок по покупкам в этом месяце."
   ]
  },
  {
   "cell_type": "code",
   "execution_count": null,
   "id": "adc5fb3b",
   "metadata": {},
   "outputs": [],
   "source": [
    "'''\n",
    "WITH\n",
    "fu AS (SELECT COUNT(DISTINCT fd.id) AS funds,\n",
    "              EXTRACT(MONTH FROM CAST(fr.funded_at AS timestamp)) AS mo\n",
    "              FROM fund AS fd\n",
    "              LEFT JOIN investment AS i ON fd.id=i.fund_id\n",
    "              LEFT JOIN funding_round AS fr ON i.funding_round_id = fr.id\n",
    "              LEFT JOIN company AS c ON c.id=fr.company_id\n",
    "              WHERE fd.country_code = 'USA' \n",
    "              AND EXTRACT(YEAR FROM CAST(fr.funded_at AS timestamp)) BETWEEN '2010' AND '2013' \n",
    "              GROUP BY EXTRACT(MONTH FROM CAST(fr.funded_at AS timestamp))),\n",
    "ac AS (SELECT COUNT(acquired_company_id) AS cc,\n",
    "              SUM(price_amount) AS total,\n",
    "              EXTRACT(MONTH FROM CAST(acquired_at AS timestamp)) AS mo\n",
    "              FROM acquisition\n",
    "              WHERE EXTRACT(YEAR FROM CAST(acquired_at AS timestamp)) BETWEEN '2010' AND '2013'\n",
    "              GROUP BY EXTRACT(MONTH FROM CAST(acquired_at AS timestamp)))   \n",
    "SELECT fu.mo AS number_of_month,\n",
    "       fu.funds,\n",
    "       ac.cc,\n",
    "       ac.total\n",
    "FROM fu\n",
    "JOIN ac ON fu.mo=ac.mo;\n",
    "'''"
   ]
  },
  {
   "cell_type": "markdown",
   "id": "8ec755ac",
   "metadata": {},
   "source": [
    "## Задание 23"
   ]
  },
  {
   "cell_type": "markdown",
   "id": "0abab13d",
   "metadata": {},
   "source": [
    "Составьте сводную таблицу и выведите среднюю сумму инвестиций для стран, в которых есть стартапы, зарегистрированные в 2011, 2012 и 2013 годах. Данные за каждый год должны быть в отдельном поле. Отсортируйте таблицу по среднему значению инвестиций за 2011 год от большего к меньшему."
   ]
  },
  {
   "cell_type": "code",
   "execution_count": null,
   "id": "8612994b",
   "metadata": {},
   "outputs": [],
   "source": [
    "'''\n",
    "WITH\n",
    "i11 as(SELECT country_code,\n",
    "            AVG(funding_total) AS i1\n",
    "            FROM company\n",
    "            WHERE EXTRACT(YEAR FROM founded_at) = 2011\n",
    "            GROUP BY country_code),\n",
    "i12 as(SELECT country_code,\n",
    "            AVG(funding_total) AS i2\n",
    "            FROM company\n",
    "            WHERE EXTRACT(YEAR FROM founded_at) = 2012\n",
    "            GROUP BY country_code),           \n",
    "i13 as(SELECT country_code,\n",
    "            AVG(funding_total) AS i3\n",
    "            FROM company\n",
    "            WHERE EXTRACT(YEAR FROM founded_at) = 2013\n",
    "            GROUP BY country_code)\n",
    "SELECT\n",
    "i11.country_code,\n",
    "i1,\n",
    "i2,\n",
    "i3\n",
    "FROM i11\n",
    "INNER JOIN i12 ON i12.country_code=i11.country_code\n",
    "INNER JOIN i13 ON i11.country_code=i13.country_code\n",
    "ORDER BY i1 DESC;\n",
    "'''"
   ]
  }
 ],
 "metadata": {
  "ExecuteTimeLog": [
   {
    "duration": 45,
    "start_time": "2022-10-02T11:59:41.184Z"
   },
   {
    "duration": 10,
    "start_time": "2022-10-02T12:02:34.081Z"
   },
   {
    "duration": 12,
    "start_time": "2022-10-02T13:14:18.025Z"
   },
   {
    "duration": 7,
    "start_time": "2022-10-02T13:14:18.039Z"
   },
   {
    "duration": 3,
    "start_time": "2022-10-02T13:14:18.050Z"
   },
   {
    "duration": 3,
    "start_time": "2022-10-02T13:14:18.067Z"
   },
   {
    "duration": 3,
    "start_time": "2022-10-02T13:14:18.088Z"
   },
   {
    "duration": 4,
    "start_time": "2022-10-02T13:14:18.107Z"
   },
   {
    "duration": 3,
    "start_time": "2022-10-02T13:14:18.131Z"
   },
   {
    "duration": 3,
    "start_time": "2022-10-02T13:14:18.155Z"
   },
   {
    "duration": 3,
    "start_time": "2022-10-02T13:14:18.172Z"
   },
   {
    "duration": 3,
    "start_time": "2022-10-02T13:14:18.197Z"
   },
   {
    "duration": 3,
    "start_time": "2022-10-02T13:14:18.240Z"
   },
   {
    "duration": 3,
    "start_time": "2022-10-02T13:14:18.274Z"
   },
   {
    "duration": 3,
    "start_time": "2022-10-02T13:14:18.304Z"
   },
   {
    "duration": 4,
    "start_time": "2022-10-02T13:14:18.349Z"
   },
   {
    "duration": 4,
    "start_time": "2022-10-02T13:14:18.398Z"
   },
   {
    "duration": 5,
    "start_time": "2022-10-02T13:14:18.411Z"
   },
   {
    "duration": 3,
    "start_time": "2022-10-02T13:14:18.442Z"
   },
   {
    "duration": 4,
    "start_time": "2022-10-02T13:14:18.472Z"
   },
   {
    "duration": 3,
    "start_time": "2022-10-02T13:14:18.506Z"
   },
   {
    "duration": 4,
    "start_time": "2022-10-02T13:14:18.528Z"
   },
   {
    "duration": 4,
    "start_time": "2022-10-02T13:14:18.574Z"
   },
   {
    "duration": 4,
    "start_time": "2022-10-02T13:14:18.595Z"
   },
   {
    "duration": 4,
    "start_time": "2022-10-02T13:14:18.624Z"
   },
   {
    "duration": 14,
    "start_time": "2022-10-02T13:16:51.625Z"
   },
   {
    "duration": 5,
    "start_time": "2022-10-02T13:16:51.641Z"
   },
   {
    "duration": 5,
    "start_time": "2022-10-02T13:16:51.648Z"
   },
   {
    "duration": 6,
    "start_time": "2022-10-02T13:16:51.655Z"
   },
   {
    "duration": 5,
    "start_time": "2022-10-02T13:16:51.662Z"
   },
   {
    "duration": 5,
    "start_time": "2022-10-02T13:16:51.669Z"
   },
   {
    "duration": 4,
    "start_time": "2022-10-02T13:16:51.676Z"
   },
   {
    "duration": 29,
    "start_time": "2022-10-02T13:16:51.682Z"
   },
   {
    "duration": 12,
    "start_time": "2022-10-02T13:16:51.713Z"
   },
   {
    "duration": 14,
    "start_time": "2022-10-02T13:16:51.728Z"
   },
   {
    "duration": 11,
    "start_time": "2022-10-02T13:16:51.743Z"
   },
   {
    "duration": 5,
    "start_time": "2022-10-02T13:16:51.756Z"
   },
   {
    "duration": 9,
    "start_time": "2022-10-02T13:16:51.762Z"
   },
   {
    "duration": 18,
    "start_time": "2022-10-02T13:16:51.773Z"
   },
   {
    "duration": 15,
    "start_time": "2022-10-02T13:16:51.792Z"
   },
   {
    "duration": 19,
    "start_time": "2022-10-02T13:16:51.809Z"
   },
   {
    "duration": 12,
    "start_time": "2022-10-02T13:16:51.830Z"
   },
   {
    "duration": 7,
    "start_time": "2022-10-02T13:16:51.843Z"
   },
   {
    "duration": 6,
    "start_time": "2022-10-02T13:16:51.851Z"
   },
   {
    "duration": 5,
    "start_time": "2022-10-02T13:16:51.859Z"
   },
   {
    "duration": 10,
    "start_time": "2022-10-02T13:16:51.865Z"
   },
   {
    "duration": 14,
    "start_time": "2022-10-02T13:16:51.877Z"
   },
   {
    "duration": 9,
    "start_time": "2022-10-02T13:16:51.893Z"
   }
  ],
  "kernelspec": {
   "display_name": "Python 3 (ipykernel)",
   "language": "python",
   "name": "python3"
  },
  "language_info": {
   "codemirror_mode": {
    "name": "ipython",
    "version": 3
   },
   "file_extension": ".py",
   "mimetype": "text/x-python",
   "name": "python",
   "nbconvert_exporter": "python",
   "pygments_lexer": "ipython3",
   "version": "3.9.5"
  },
  "toc": {
   "base_numbering": 1,
   "nav_menu": {},
   "number_sections": true,
   "sideBar": true,
   "skip_h1_title": true,
   "title_cell": "Table of Contents",
   "title_sidebar": "Contents",
   "toc_cell": false,
   "toc_position": {},
   "toc_section_display": true,
   "toc_window_display": false
  }
 },
 "nbformat": 4,
 "nbformat_minor": 5
}
