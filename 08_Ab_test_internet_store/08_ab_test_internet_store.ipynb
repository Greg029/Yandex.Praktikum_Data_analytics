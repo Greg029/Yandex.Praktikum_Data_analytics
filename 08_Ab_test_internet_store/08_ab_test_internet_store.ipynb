{
 "cells": [
  {
   "cell_type": "markdown",
   "metadata": {},
   "source": [
    "# А/В-тестирование. Проверка гипотез и принятие решений в интернет-магазине"
   ]
  },
  {
   "cell_type": "markdown",
   "metadata": {},
   "source": [
    "**Описание проекта:**\n",
    "\n",
    "В крупном интернет-магазине, совместно с отделом маркетинга был подготовлен список гипотез для увеличения выручки.\n",
    "Необходимо приоритизировать гипотезы, запустить A/B-тест и проанализировать результаты.\n",
    "\n",
    "**Задачи проекта:**\n",
    "\n",
    "**Часть 1. Приоритизация гипотез**\n",
    "\n",
    "* Применить фреймворк ICE для приоритизации гипотез. Отсортировать их по убыванию приоритета.\n",
    "* Применить фреймворк RICE для приоритизации гипотез. Отсортировать их по убыванию приоритета.\n",
    "* Указать, как изменилась приоритизация гипотез при применении RICE вместо ICE. Объяснить, почему так произошло.\n",
    "\n",
    "**Часть 2. Анализ A/B-теста**\n",
    "\n",
    "* Проанализировать A/B-тест:\n",
    "  * Построить график кумулятивной выручки по группам. Сделать выводы и предположения.\n",
    "  * Построить график кумулятивного среднего чека по группам. Сделать выводы и предположения.\n",
    "  * Построить график относительного изменения кумулятивного среднего чека группы B к группе A. Сделать выводы и предположения.\n",
    "  * Построить график кумулятивной конверсии по группам. Сделать выводы и предположения.\n",
    "  * Построить график относительного изменения кумулятивной конверсии группы B к группе A. Сделать выводы и предположения.\n",
    "  * Построить точечный график количества заказов по пользователям. Сделать выводы и предположения.\n",
    "  * Посчитать 95-й и 99-й перцентили количества заказов на пользователя. Выбрать границу для определения аномальных пользователей.\n",
    "  * Построить точечный график стоимостей заказов. Сделать выводы и предположения.\n",
    "  * Посчитать 95-й и 99-й перцентили стоимости заказов. Выбрать границу для определения аномальных заказов.\n",
    "  * Посчитать статистическую значимость различий в конверсии между группами по «сырым» данным. Сделать выводы и предположения.\n",
    "  * Посчитать статистическую значимость различий в среднем чеке заказа между группами по «сырым» данным. Сделать выводы и предположения.\n",
    "  * Посчитать статистическую значимость различий в конверсии между группами по «очищенным» данным. Сделать выводы и предположения.\n",
    "  * Посчитать статистическую значимость различий в среднем чеке заказа между группами по «очищенным» данным. Сделать выводы и предположения.\n",
    "  * Принять решение по результатам теста и объясните его. Варианты решений: \n",
    "    * 1. Остановить тест, зафиксировать победу одной из групп. \n",
    "    * 2. Остановить тест, зафиксировать отсутствие различий между группами. \n",
    "    * 3. Продолжить тест.\n",
    "  \n",
    "**Описание данных:**\n",
    "\n",
    "**Данные для первой части**\n",
    "\n",
    "Таблица `hypothesis.csv`\n",
    "* `Hypothesis` — краткое описание гипотезы;\n",
    "* `Reach` — охват пользователей по 10-балльной шкале;\n",
    "* `Impact` — влияние на пользователей по 10-балльной шкале;\n",
    "* `Confidence` — уверенность в гипотезе по 10-балльной шкале;\n",
    "* `Efforts` — затраты ресурсов на проверку гипотезы по 10-балльной шкале. Чем больше значение Efforts, тем дороже проверка гипотезы.\n",
    "\n",
    "**Данные для второй части**\n",
    "\n",
    "Таблица `orders.csv`\n",
    "* `transactionId` — идентификатор заказа;\n",
    "* `visitorId` — идентификатор пользователя, совершившего заказ;\n",
    "* `date` — дата, когда был совершён заказ;\n",
    "* `revenue` — выручка заказа;\n",
    "* `group` — группа A/B-теста, в которую попал заказ.\n",
    "\n",
    "Таблица `visitors.csv`\n",
    "* `date` — дата;\n",
    "* `group` — группа A/B-теста;\n",
    "* `visitors` — количество пользователей в указанную дату в указанной группе A/B-теста"
   ]
  },
  {
   "cell_type": "markdown",
   "metadata": {},
   "source": [
    "## Загрузка данных и подготовка к анализу"
   ]
  },
  {
   "cell_type": "markdown",
   "metadata": {},
   "source": [
    "Импортируем нужные нам библиотеки."
   ]
  },
  {
   "cell_type": "code",
   "execution_count": 1,
   "metadata": {},
   "outputs": [],
   "source": [
    "import numpy as np\n",
    "import pandas as pd\n",
    "from datetime import datetime, timedelta\n",
    "from matplotlib import pyplot as plt\n",
    "import math\n",
    "import scipy.stats as stats\n",
    "pd.set_option('display.max_colwidth', 300)\n",
    "\n",
    "import warnings\n",
    "warnings.filterwarnings('ignore')"
   ]
  },
  {
   "cell_type": "markdown",
   "metadata": {},
   "source": [
    "Загружаем данные."
   ]
  },
  {
   "cell_type": "code",
   "execution_count": 2,
   "metadata": {},
   "outputs": [],
   "source": [
    "hypothesis = pd.read_csv('/datasets/hypothesis.csv')\n",
    "orders = pd.read_csv('/datasets/orders.csv')\n",
    "visitors = pd.read_csv('/datasets/visitors.csv')"
   ]
  },
  {
   "cell_type": "markdown",
   "metadata": {},
   "source": [
    "Поочередно посмотрим на данные, а также изучим общую информацию."
   ]
  },
  {
   "cell_type": "code",
   "execution_count": 3,
   "metadata": {},
   "outputs": [
    {
     "name": "stdout",
     "output_type": "stream",
     "text": [
      "<class 'pandas.core.frame.DataFrame'>\n",
      "RangeIndex: 9 entries, 0 to 8\n",
      "Data columns (total 5 columns):\n",
      " #   Column      Non-Null Count  Dtype \n",
      "---  ------      --------------  ----- \n",
      " 0   Hypothesis  9 non-null      object\n",
      " 1   Reach       9 non-null      int64 \n",
      " 2   Impact      9 non-null      int64 \n",
      " 3   Confidence  9 non-null      int64 \n",
      " 4   Efforts     9 non-null      int64 \n",
      "dtypes: int64(4), object(1)\n",
      "memory usage: 488.0+ bytes\n"
     ]
    }
   ],
   "source": [
    "hypothesis.info()"
   ]
  },
  {
   "cell_type": "code",
   "execution_count": 4,
   "metadata": {
    "scrolled": true
   },
   "outputs": [
    {
     "data": {
      "text/html": [
       "<div>\n",
       "<style scoped>\n",
       "    .dataframe tbody tr th:only-of-type {\n",
       "        vertical-align: middle;\n",
       "    }\n",
       "\n",
       "    .dataframe tbody tr th {\n",
       "        vertical-align: top;\n",
       "    }\n",
       "\n",
       "    .dataframe thead th {\n",
       "        text-align: right;\n",
       "    }\n",
       "</style>\n",
       "<table border=\"1\" class=\"dataframe\">\n",
       "  <thead>\n",
       "    <tr style=\"text-align: right;\">\n",
       "      <th></th>\n",
       "      <th>Hypothesis</th>\n",
       "      <th>Reach</th>\n",
       "      <th>Impact</th>\n",
       "      <th>Confidence</th>\n",
       "      <th>Efforts</th>\n",
       "    </tr>\n",
       "  </thead>\n",
       "  <tbody>\n",
       "    <tr>\n",
       "      <th>0</th>\n",
       "      <td>Добавить два новых канала привлечения трафика, что позволит привлекать на 30% больше пользователей</td>\n",
       "      <td>3</td>\n",
       "      <td>10</td>\n",
       "      <td>8</td>\n",
       "      <td>6</td>\n",
       "    </tr>\n",
       "    <tr>\n",
       "      <th>1</th>\n",
       "      <td>Запустить собственную службу доставки, что сократит срок доставки заказов</td>\n",
       "      <td>2</td>\n",
       "      <td>5</td>\n",
       "      <td>4</td>\n",
       "      <td>10</td>\n",
       "    </tr>\n",
       "    <tr>\n",
       "      <th>2</th>\n",
       "      <td>Добавить блоки рекомендаций товаров на сайт интернет магазина, чтобы повысить конверсию и средний чек заказа</td>\n",
       "      <td>8</td>\n",
       "      <td>3</td>\n",
       "      <td>7</td>\n",
       "      <td>3</td>\n",
       "    </tr>\n",
       "    <tr>\n",
       "      <th>3</th>\n",
       "      <td>Изменить структура категорий, что увеличит конверсию, т.к. пользователи быстрее найдут нужный товар</td>\n",
       "      <td>8</td>\n",
       "      <td>3</td>\n",
       "      <td>3</td>\n",
       "      <td>8</td>\n",
       "    </tr>\n",
       "    <tr>\n",
       "      <th>4</th>\n",
       "      <td>Изменить цвет фона главной страницы, чтобы увеличить вовлеченность пользователей</td>\n",
       "      <td>3</td>\n",
       "      <td>1</td>\n",
       "      <td>1</td>\n",
       "      <td>1</td>\n",
       "    </tr>\n",
       "  </tbody>\n",
       "</table>\n",
       "</div>"
      ],
      "text/plain": [
       "                                                                                                     Hypothesis  \\\n",
       "0            Добавить два новых канала привлечения трафика, что позволит привлекать на 30% больше пользователей   \n",
       "1                                     Запустить собственную службу доставки, что сократит срок доставки заказов   \n",
       "2  Добавить блоки рекомендаций товаров на сайт интернет магазина, чтобы повысить конверсию и средний чек заказа   \n",
       "3           Изменить структура категорий, что увеличит конверсию, т.к. пользователи быстрее найдут нужный товар   \n",
       "4                              Изменить цвет фона главной страницы, чтобы увеличить вовлеченность пользователей   \n",
       "\n",
       "   Reach  Impact  Confidence  Efforts  \n",
       "0      3      10           8        6  \n",
       "1      2       5           4       10  \n",
       "2      8       3           7        3  \n",
       "3      8       3           3        8  \n",
       "4      3       1           1        1  "
      ]
     },
     "execution_count": 4,
     "metadata": {},
     "output_type": "execute_result"
    }
   ],
   "source": [
    "hypothesis.head()"
   ]
  },
  {
   "cell_type": "code",
   "execution_count": 5,
   "metadata": {},
   "outputs": [
    {
     "name": "stdout",
     "output_type": "stream",
     "text": [
      "<class 'pandas.core.frame.DataFrame'>\n",
      "RangeIndex: 1197 entries, 0 to 1196\n",
      "Data columns (total 5 columns):\n",
      " #   Column         Non-Null Count  Dtype \n",
      "---  ------         --------------  ----- \n",
      " 0   transactionId  1197 non-null   int64 \n",
      " 1   visitorId      1197 non-null   int64 \n",
      " 2   date           1197 non-null   object\n",
      " 3   revenue        1197 non-null   int64 \n",
      " 4   group          1197 non-null   object\n",
      "dtypes: int64(3), object(2)\n",
      "memory usage: 46.9+ KB\n"
     ]
    }
   ],
   "source": [
    "orders.info()"
   ]
  },
  {
   "cell_type": "code",
   "execution_count": 6,
   "metadata": {
    "scrolled": false
   },
   "outputs": [
    {
     "data": {
      "text/html": [
       "<div>\n",
       "<style scoped>\n",
       "    .dataframe tbody tr th:only-of-type {\n",
       "        vertical-align: middle;\n",
       "    }\n",
       "\n",
       "    .dataframe tbody tr th {\n",
       "        vertical-align: top;\n",
       "    }\n",
       "\n",
       "    .dataframe thead th {\n",
       "        text-align: right;\n",
       "    }\n",
       "</style>\n",
       "<table border=\"1\" class=\"dataframe\">\n",
       "  <thead>\n",
       "    <tr style=\"text-align: right;\">\n",
       "      <th></th>\n",
       "      <th>transactionId</th>\n",
       "      <th>visitorId</th>\n",
       "      <th>date</th>\n",
       "      <th>revenue</th>\n",
       "      <th>group</th>\n",
       "    </tr>\n",
       "  </thead>\n",
       "  <tbody>\n",
       "    <tr>\n",
       "      <th>0</th>\n",
       "      <td>3667963787</td>\n",
       "      <td>3312258926</td>\n",
       "      <td>2019-08-15</td>\n",
       "      <td>1650</td>\n",
       "      <td>B</td>\n",
       "    </tr>\n",
       "    <tr>\n",
       "      <th>1</th>\n",
       "      <td>2804400009</td>\n",
       "      <td>3642806036</td>\n",
       "      <td>2019-08-15</td>\n",
       "      <td>730</td>\n",
       "      <td>B</td>\n",
       "    </tr>\n",
       "    <tr>\n",
       "      <th>2</th>\n",
       "      <td>2961555356</td>\n",
       "      <td>4069496402</td>\n",
       "      <td>2019-08-15</td>\n",
       "      <td>400</td>\n",
       "      <td>A</td>\n",
       "    </tr>\n",
       "    <tr>\n",
       "      <th>3</th>\n",
       "      <td>3797467345</td>\n",
       "      <td>1196621759</td>\n",
       "      <td>2019-08-15</td>\n",
       "      <td>9759</td>\n",
       "      <td>B</td>\n",
       "    </tr>\n",
       "    <tr>\n",
       "      <th>4</th>\n",
       "      <td>2282983706</td>\n",
       "      <td>2322279887</td>\n",
       "      <td>2019-08-15</td>\n",
       "      <td>2308</td>\n",
       "      <td>B</td>\n",
       "    </tr>\n",
       "  </tbody>\n",
       "</table>\n",
       "</div>"
      ],
      "text/plain": [
       "   transactionId   visitorId        date  revenue group\n",
       "0     3667963787  3312258926  2019-08-15     1650     B\n",
       "1     2804400009  3642806036  2019-08-15      730     B\n",
       "2     2961555356  4069496402  2019-08-15      400     A\n",
       "3     3797467345  1196621759  2019-08-15     9759     B\n",
       "4     2282983706  2322279887  2019-08-15     2308     B"
      ]
     },
     "execution_count": 6,
     "metadata": {},
     "output_type": "execute_result"
    }
   ],
   "source": [
    "orders.head()"
   ]
  },
  {
   "cell_type": "code",
   "execution_count": 7,
   "metadata": {
    "scrolled": true
   },
   "outputs": [
    {
     "name": "stdout",
     "output_type": "stream",
     "text": [
      "<class 'pandas.core.frame.DataFrame'>\n",
      "RangeIndex: 62 entries, 0 to 61\n",
      "Data columns (total 3 columns):\n",
      " #   Column    Non-Null Count  Dtype \n",
      "---  ------    --------------  ----- \n",
      " 0   date      62 non-null     object\n",
      " 1   group     62 non-null     object\n",
      " 2   visitors  62 non-null     int64 \n",
      "dtypes: int64(1), object(2)\n",
      "memory usage: 1.6+ KB\n"
     ]
    }
   ],
   "source": [
    "visitors.info()"
   ]
  },
  {
   "cell_type": "code",
   "execution_count": 8,
   "metadata": {
    "scrolled": true
   },
   "outputs": [
    {
     "data": {
      "text/html": [
       "<div>\n",
       "<style scoped>\n",
       "    .dataframe tbody tr th:only-of-type {\n",
       "        vertical-align: middle;\n",
       "    }\n",
       "\n",
       "    .dataframe tbody tr th {\n",
       "        vertical-align: top;\n",
       "    }\n",
       "\n",
       "    .dataframe thead th {\n",
       "        text-align: right;\n",
       "    }\n",
       "</style>\n",
       "<table border=\"1\" class=\"dataframe\">\n",
       "  <thead>\n",
       "    <tr style=\"text-align: right;\">\n",
       "      <th></th>\n",
       "      <th>date</th>\n",
       "      <th>group</th>\n",
       "      <th>visitors</th>\n",
       "    </tr>\n",
       "  </thead>\n",
       "  <tbody>\n",
       "    <tr>\n",
       "      <th>0</th>\n",
       "      <td>2019-08-01</td>\n",
       "      <td>A</td>\n",
       "      <td>719</td>\n",
       "    </tr>\n",
       "    <tr>\n",
       "      <th>1</th>\n",
       "      <td>2019-08-02</td>\n",
       "      <td>A</td>\n",
       "      <td>619</td>\n",
       "    </tr>\n",
       "    <tr>\n",
       "      <th>2</th>\n",
       "      <td>2019-08-03</td>\n",
       "      <td>A</td>\n",
       "      <td>507</td>\n",
       "    </tr>\n",
       "    <tr>\n",
       "      <th>3</th>\n",
       "      <td>2019-08-04</td>\n",
       "      <td>A</td>\n",
       "      <td>717</td>\n",
       "    </tr>\n",
       "    <tr>\n",
       "      <th>4</th>\n",
       "      <td>2019-08-05</td>\n",
       "      <td>A</td>\n",
       "      <td>756</td>\n",
       "    </tr>\n",
       "  </tbody>\n",
       "</table>\n",
       "</div>"
      ],
      "text/plain": [
       "         date group  visitors\n",
       "0  2019-08-01     A       719\n",
       "1  2019-08-02     A       619\n",
       "2  2019-08-03     A       507\n",
       "3  2019-08-04     A       717\n",
       "4  2019-08-05     A       756"
      ]
     },
     "execution_count": 8,
     "metadata": {},
     "output_type": "execute_result"
    }
   ],
   "source": [
    "visitors.head()"
   ]
  },
  {
   "cell_type": "markdown",
   "metadata": {},
   "source": [
    "Приведем названия столбцов в таблице `hypothesis` к нижнему регистру."
   ]
  },
  {
   "cell_type": "code",
   "execution_count": 9,
   "metadata": {},
   "outputs": [],
   "source": [
    "hypothesis.columns = hypothesis.columns.str.lower()"
   ]
  },
  {
   "cell_type": "markdown",
   "metadata": {},
   "source": [
    "В таблицах `orders` и `visitors` столбцы с датами имеют тип данных `object`. Приведем их к корректному типу `datetime`."
   ]
  },
  {
   "cell_type": "code",
   "execution_count": 10,
   "metadata": {},
   "outputs": [
    {
     "name": "stdout",
     "output_type": "stream",
     "text": [
      "<class 'pandas.core.frame.DataFrame'>\n",
      "RangeIndex: 1197 entries, 0 to 1196\n",
      "Data columns (total 5 columns):\n",
      " #   Column         Non-Null Count  Dtype         \n",
      "---  ------         --------------  -----         \n",
      " 0   transactionId  1197 non-null   int64         \n",
      " 1   visitorId      1197 non-null   int64         \n",
      " 2   date           1197 non-null   datetime64[ns]\n",
      " 3   revenue        1197 non-null   int64         \n",
      " 4   group          1197 non-null   object        \n",
      "dtypes: datetime64[ns](1), int64(3), object(1)\n",
      "memory usage: 46.9+ KB\n",
      "<class 'pandas.core.frame.DataFrame'>\n",
      "RangeIndex: 62 entries, 0 to 61\n",
      "Data columns (total 3 columns):\n",
      " #   Column    Non-Null Count  Dtype         \n",
      "---  ------    --------------  -----         \n",
      " 0   date      62 non-null     datetime64[ns]\n",
      " 1   group     62 non-null     object        \n",
      " 2   visitors  62 non-null     int64         \n",
      "dtypes: datetime64[ns](1), int64(1), object(1)\n",
      "memory usage: 1.6+ KB\n"
     ]
    }
   ],
   "source": [
    "orders['date'] = pd.to_datetime(orders['date'])\n",
    "visitors['date'] = pd.to_datetime(visitors['date'])\n",
    "# сразу проверим\n",
    "orders.info()\n",
    "visitors.info()"
   ]
  },
  {
   "cell_type": "markdown",
   "metadata": {},
   "source": [
    "Проверим одинаковы ли периоды исследования в таблицах `orders` и `visitors`."
   ]
  },
  {
   "cell_type": "code",
   "execution_count": 11,
   "metadata": {
    "scrolled": true
   },
   "outputs": [
    {
     "data": {
      "text/plain": [
       "count                      62\n",
       "unique                     31\n",
       "top       2019-08-27 00:00:00\n",
       "freq                        2\n",
       "first     2019-08-01 00:00:00\n",
       "last      2019-08-31 00:00:00\n",
       "Name: date, dtype: object"
      ]
     },
     "execution_count": 11,
     "metadata": {},
     "output_type": "execute_result"
    }
   ],
   "source": [
    "visitors['date'].describe()"
   ]
  },
  {
   "cell_type": "code",
   "execution_count": 12,
   "metadata": {
    "scrolled": true
   },
   "outputs": [
    {
     "data": {
      "text/plain": [
       "count                    1197\n",
       "unique                     31\n",
       "top       2019-08-05 00:00:00\n",
       "freq                       48\n",
       "first     2019-08-01 00:00:00\n",
       "last      2019-08-31 00:00:00\n",
       "Name: date, dtype: object"
      ]
     },
     "execution_count": 12,
     "metadata": {},
     "output_type": "execute_result"
    }
   ],
   "source": [
    "orders['date'].describe()"
   ]
  },
  {
   "cell_type": "markdown",
   "metadata": {},
   "source": [
    "Рассматриваемые периоды совпадают. Проверим наличие дубликатов:"
   ]
  },
  {
   "cell_type": "code",
   "execution_count": 13,
   "metadata": {
    "scrolled": true
   },
   "outputs": [
    {
     "data": {
      "text/html": [
       "<div>\n",
       "<style scoped>\n",
       "    .dataframe tbody tr th:only-of-type {\n",
       "        vertical-align: middle;\n",
       "    }\n",
       "\n",
       "    .dataframe tbody tr th {\n",
       "        vertical-align: top;\n",
       "    }\n",
       "\n",
       "    .dataframe thead th {\n",
       "        text-align: right;\n",
       "    }\n",
       "</style>\n",
       "<table border=\"1\" class=\"dataframe\">\n",
       "  <thead>\n",
       "    <tr style=\"text-align: right;\">\n",
       "      <th></th>\n",
       "      <th>hypothesis</th>\n",
       "      <th>reach</th>\n",
       "      <th>impact</th>\n",
       "      <th>confidence</th>\n",
       "      <th>efforts</th>\n",
       "    </tr>\n",
       "  </thead>\n",
       "  <tbody>\n",
       "  </tbody>\n",
       "</table>\n",
       "</div>"
      ],
      "text/plain": [
       "Empty DataFrame\n",
       "Columns: [hypothesis, reach, impact, confidence, efforts]\n",
       "Index: []"
      ]
     },
     "execution_count": 13,
     "metadata": {},
     "output_type": "execute_result"
    }
   ],
   "source": [
    "# в таблице гипотез\n",
    "hypothesis[hypothesis.duplicated()]"
   ]
  },
  {
   "cell_type": "code",
   "execution_count": 14,
   "metadata": {},
   "outputs": [
    {
     "data": {
      "text/html": [
       "<div>\n",
       "<style scoped>\n",
       "    .dataframe tbody tr th:only-of-type {\n",
       "        vertical-align: middle;\n",
       "    }\n",
       "\n",
       "    .dataframe tbody tr th {\n",
       "        vertical-align: top;\n",
       "    }\n",
       "\n",
       "    .dataframe thead th {\n",
       "        text-align: right;\n",
       "    }\n",
       "</style>\n",
       "<table border=\"1\" class=\"dataframe\">\n",
       "  <thead>\n",
       "    <tr style=\"text-align: right;\">\n",
       "      <th></th>\n",
       "      <th>transactionId</th>\n",
       "      <th>visitorId</th>\n",
       "      <th>date</th>\n",
       "      <th>revenue</th>\n",
       "      <th>group</th>\n",
       "    </tr>\n",
       "  </thead>\n",
       "  <tbody>\n",
       "  </tbody>\n",
       "</table>\n",
       "</div>"
      ],
      "text/plain": [
       "Empty DataFrame\n",
       "Columns: [transactionId, visitorId, date, revenue, group]\n",
       "Index: []"
      ]
     },
     "execution_count": 14,
     "metadata": {},
     "output_type": "execute_result"
    }
   ],
   "source": [
    "# в таблице заказов\n",
    "orders[orders.duplicated()]"
   ]
  },
  {
   "cell_type": "code",
   "execution_count": 15,
   "metadata": {},
   "outputs": [
    {
     "data": {
      "text/html": [
       "<div>\n",
       "<style scoped>\n",
       "    .dataframe tbody tr th:only-of-type {\n",
       "        vertical-align: middle;\n",
       "    }\n",
       "\n",
       "    .dataframe tbody tr th {\n",
       "        vertical-align: top;\n",
       "    }\n",
       "\n",
       "    .dataframe thead th {\n",
       "        text-align: right;\n",
       "    }\n",
       "</style>\n",
       "<table border=\"1\" class=\"dataframe\">\n",
       "  <thead>\n",
       "    <tr style=\"text-align: right;\">\n",
       "      <th></th>\n",
       "      <th>date</th>\n",
       "      <th>group</th>\n",
       "      <th>visitors</th>\n",
       "    </tr>\n",
       "  </thead>\n",
       "  <tbody>\n",
       "  </tbody>\n",
       "</table>\n",
       "</div>"
      ],
      "text/plain": [
       "Empty DataFrame\n",
       "Columns: [date, group, visitors]\n",
       "Index: []"
      ]
     },
     "execution_count": 15,
     "metadata": {},
     "output_type": "execute_result"
    }
   ],
   "source": [
    "# в таблице пользователей\n",
    "visitors[visitors.duplicated()]"
   ]
  },
  {
   "cell_type": "markdown",
   "metadata": {},
   "source": [
    "Дубликаты не обнаружены."
   ]
  },
  {
   "cell_type": "markdown",
   "metadata": {},
   "source": [
    "Теперь проверим наличие пропусков:"
   ]
  },
  {
   "cell_type": "code",
   "execution_count": 16,
   "metadata": {},
   "outputs": [
    {
     "data": {
      "text/plain": [
       "hypothesis    0\n",
       "reach         0\n",
       "impact        0\n",
       "confidence    0\n",
       "efforts       0\n",
       "dtype: int64"
      ]
     },
     "execution_count": 16,
     "metadata": {},
     "output_type": "execute_result"
    }
   ],
   "source": [
    "hypothesis.isna().sum()"
   ]
  },
  {
   "cell_type": "code",
   "execution_count": 17,
   "metadata": {},
   "outputs": [
    {
     "data": {
      "text/plain": [
       "transactionId    0\n",
       "visitorId        0\n",
       "date             0\n",
       "revenue          0\n",
       "group            0\n",
       "dtype: int64"
      ]
     },
     "execution_count": 17,
     "metadata": {},
     "output_type": "execute_result"
    }
   ],
   "source": [
    "orders.isna().sum()"
   ]
  },
  {
   "cell_type": "code",
   "execution_count": 18,
   "metadata": {},
   "outputs": [
    {
     "data": {
      "text/plain": [
       "date        0\n",
       "group       0\n",
       "visitors    0\n",
       "dtype: int64"
      ]
     },
     "execution_count": 18,
     "metadata": {},
     "output_type": "execute_result"
    }
   ],
   "source": [
    "visitors.isna().sum()"
   ]
  },
  {
   "cell_type": "markdown",
   "metadata": {},
   "source": [
    "Пропуски также не обнаружены."
   ]
  },
  {
   "cell_type": "markdown",
   "metadata": {},
   "source": [
    "Проверим наличие пользователей, попавших одновременно в обе группы."
   ]
  },
  {
   "cell_type": "code",
   "execution_count": 19,
   "metadata": {
    "scrolled": true
   },
   "outputs": [
    {
     "data": {
      "text/plain": [
       "58"
      ]
     },
     "execution_count": 19,
     "metadata": {},
     "output_type": "execute_result"
    }
   ],
   "source": [
    "# сгруппируем данные по идентификаторам пользователей и агрегируем по уникальным значения группы\n",
    "both_gr_check = orders.groupby('visitorId').agg({'group': 'nunique'}).query('group>1')\n",
    "# оставим пользователей, попавших в обе группы\n",
    "both_gr_check = both_gr_check.query('group > 1')\n",
    "# посчитаем\n",
    "both_gr_check['group'].count()"
   ]
  },
  {
   "cell_type": "markdown",
   "metadata": {},
   "source": [
    "58 пользователей оказались в двух группах одновременно. Необходимо их убрать."
   ]
  },
  {
   "cell_type": "code",
   "execution_count": 20,
   "metadata": {},
   "outputs": [
    {
     "data": {
      "text/plain": [
       "0"
      ]
     },
     "execution_count": 20,
     "metadata": {},
     "output_type": "execute_result"
    }
   ],
   "source": [
    "# создадим два фрейма с группой А и группой В\n",
    "gr_A = orders[orders['group'] == 'A']\n",
    "gr_B = orders[orders['group'] == 'B']\n",
    "# создадим общий список с идентификаторами пользователей\n",
    "two_gr_list = list(orders['visitorId'])\n",
    "# и аналогично для каждой группы\n",
    "gr_A_list = list(gr_A['visitorId'])\n",
    "gr_B_list = list(gr_B['visitorId'])\n",
    "\n",
    "# создадим пустой список и будем добавлять в него идентификаторы пользователей попавших в обе группы\n",
    "all = []\n",
    "for i in two_gr_list:\n",
    "    if i in gr_A_list and i in gr_B_list:\n",
    "        all.append(i)\n",
    "# применим фильтр, чтобы отсеять \"неугодных\" нам пользователей\n",
    "orders_new = orders[~orders['visitorId'].isin(all)]\n",
    "# проводим проверку\n",
    "both_gr_check = orders_new.groupby('visitorId').agg({'group': 'nunique'}).query('group>1')\n",
    "both_gr_check['group'].count()"
   ]
  },
  {
   "cell_type": "markdown",
   "metadata": {},
   "source": [
    "Фильтр сработал. Теперь можно не беспокоиться за чистоту последующего анализа."
   ]
  },
  {
   "cell_type": "markdown",
   "metadata": {},
   "source": [
    "**Вывод:**\n",
    "\n",
    "Данные загруженны и предобработаныы. Что было сделано:\n",
    "* Привели названия столбцов в таблице `hypothesis` к нижнему регистру.\n",
    "* Привели тип данных столбцов с датами в таблицах `orders` и `visitors` к типу datetime.\n",
    "* Проверили периоды исследования в таблицах `orders` и `visitors`. Все в порядке.\n",
    "* Проверили таблицы на наличие дубликатов и пропусков. Ни первого, ни второго не обнаружено.\n",
    "* Убрали из датафрейма 58 пользователей, попавших одновременно в обе исследуемые группы."
   ]
  },
  {
   "cell_type": "markdown",
   "metadata": {},
   "source": [
    "##  Приоритизация гипотез"
   ]
  },
  {
   "cell_type": "markdown",
   "metadata": {},
   "source": [
    "**Фреймворк ICE**"
   ]
  },
  {
   "cell_type": "markdown",
   "metadata": {},
   "source": [
    "Применим фреймворк ICE для приоритизации гипотез. Отсортируем их по убыванию приоритета."
   ]
  },
  {
   "cell_type": "code",
   "execution_count": 21,
   "metadata": {},
   "outputs": [],
   "source": [
    "hypothesis['ICE'] = ((hypothesis['impact'] * hypothesis['confidence']) / hypothesis['efforts']).round(0)"
   ]
  },
  {
   "cell_type": "code",
   "execution_count": 22,
   "metadata": {},
   "outputs": [
    {
     "data": {
      "text/html": [
       "<div>\n",
       "<style scoped>\n",
       "    .dataframe tbody tr th:only-of-type {\n",
       "        vertical-align: middle;\n",
       "    }\n",
       "\n",
       "    .dataframe tbody tr th {\n",
       "        vertical-align: top;\n",
       "    }\n",
       "\n",
       "    .dataframe thead th {\n",
       "        text-align: right;\n",
       "    }\n",
       "</style>\n",
       "<table border=\"1\" class=\"dataframe\">\n",
       "  <thead>\n",
       "    <tr style=\"text-align: right;\">\n",
       "      <th></th>\n",
       "      <th>hypothesis</th>\n",
       "      <th>ICE</th>\n",
       "    </tr>\n",
       "  </thead>\n",
       "  <tbody>\n",
       "    <tr>\n",
       "      <th>8</th>\n",
       "      <td>Запустить акцию, дающую скидку на товар в день рождения</td>\n",
       "      <td>16.0</td>\n",
       "    </tr>\n",
       "    <tr>\n",
       "      <th>0</th>\n",
       "      <td>Добавить два новых канала привлечения трафика, что позволит привлекать на 30% больше пользователей</td>\n",
       "      <td>13.0</td>\n",
       "    </tr>\n",
       "    <tr>\n",
       "      <th>7</th>\n",
       "      <td>Добавить форму подписки на все основные страницы, чтобы собрать базу клиентов для email-рассылок</td>\n",
       "      <td>11.0</td>\n",
       "    </tr>\n",
       "    <tr>\n",
       "      <th>6</th>\n",
       "      <td>Показать на главной странице баннеры с актуальными акциями и распродажами, чтобы увеличить конверсию</td>\n",
       "      <td>8.0</td>\n",
       "    </tr>\n",
       "    <tr>\n",
       "      <th>2</th>\n",
       "      <td>Добавить блоки рекомендаций товаров на сайт интернет магазина, чтобы повысить конверсию и средний чек заказа</td>\n",
       "      <td>7.0</td>\n",
       "    </tr>\n",
       "    <tr>\n",
       "      <th>1</th>\n",
       "      <td>Запустить собственную службу доставки, что сократит срок доставки заказов</td>\n",
       "      <td>2.0</td>\n",
       "    </tr>\n",
       "    <tr>\n",
       "      <th>3</th>\n",
       "      <td>Изменить структура категорий, что увеличит конверсию, т.к. пользователи быстрее найдут нужный товар</td>\n",
       "      <td>1.0</td>\n",
       "    </tr>\n",
       "    <tr>\n",
       "      <th>4</th>\n",
       "      <td>Изменить цвет фона главной страницы, чтобы увеличить вовлеченность пользователей</td>\n",
       "      <td>1.0</td>\n",
       "    </tr>\n",
       "    <tr>\n",
       "      <th>5</th>\n",
       "      <td>Добавить страницу отзывов клиентов о магазине, что позволит увеличить количество заказов</td>\n",
       "      <td>1.0</td>\n",
       "    </tr>\n",
       "  </tbody>\n",
       "</table>\n",
       "</div>"
      ],
      "text/plain": [
       "                                                                                                     hypothesis  \\\n",
       "8                                                       Запустить акцию, дающую скидку на товар в день рождения   \n",
       "0            Добавить два новых канала привлечения трафика, что позволит привлекать на 30% больше пользователей   \n",
       "7              Добавить форму подписки на все основные страницы, чтобы собрать базу клиентов для email-рассылок   \n",
       "6          Показать на главной странице баннеры с актуальными акциями и распродажами, чтобы увеличить конверсию   \n",
       "2  Добавить блоки рекомендаций товаров на сайт интернет магазина, чтобы повысить конверсию и средний чек заказа   \n",
       "1                                     Запустить собственную службу доставки, что сократит срок доставки заказов   \n",
       "3           Изменить структура категорий, что увеличит конверсию, т.к. пользователи быстрее найдут нужный товар   \n",
       "4                              Изменить цвет фона главной страницы, чтобы увеличить вовлеченность пользователей   \n",
       "5                      Добавить страницу отзывов клиентов о магазине, что позволит увеличить количество заказов   \n",
       "\n",
       "    ICE  \n",
       "8  16.0  \n",
       "0  13.0  \n",
       "7  11.0  \n",
       "6   8.0  \n",
       "2   7.0  \n",
       "1   2.0  \n",
       "3   1.0  \n",
       "4   1.0  \n",
       "5   1.0  "
      ]
     },
     "execution_count": 22,
     "metadata": {},
     "output_type": "execute_result"
    }
   ],
   "source": [
    "hypothesis[['hypothesis', 'ICE']].sort_values(by='ICE', ascending = False)"
   ]
  },
  {
   "cell_type": "markdown",
   "metadata": {},
   "source": [
    "**Фреймворк RICE**"
   ]
  },
  {
   "cell_type": "markdown",
   "metadata": {},
   "source": [
    "Теперь применим фреймворк RICE для приоритизации гипотез. И также отсортируем их по убыванию приоритета."
   ]
  },
  {
   "cell_type": "code",
   "execution_count": 23,
   "metadata": {},
   "outputs": [],
   "source": [
    "hypothesis['RICE'] = ((hypothesis['reach']*hypothesis['impact']*hypothesis['confidence']) / hypothesis['efforts']).round(2)"
   ]
  },
  {
   "cell_type": "code",
   "execution_count": 24,
   "metadata": {},
   "outputs": [
    {
     "data": {
      "text/html": [
       "<div>\n",
       "<style scoped>\n",
       "    .dataframe tbody tr th:only-of-type {\n",
       "        vertical-align: middle;\n",
       "    }\n",
       "\n",
       "    .dataframe tbody tr th {\n",
       "        vertical-align: top;\n",
       "    }\n",
       "\n",
       "    .dataframe thead th {\n",
       "        text-align: right;\n",
       "    }\n",
       "</style>\n",
       "<table border=\"1\" class=\"dataframe\">\n",
       "  <thead>\n",
       "    <tr style=\"text-align: right;\">\n",
       "      <th></th>\n",
       "      <th>hypothesis</th>\n",
       "      <th>RICE</th>\n",
       "    </tr>\n",
       "  </thead>\n",
       "  <tbody>\n",
       "    <tr>\n",
       "      <th>7</th>\n",
       "      <td>Добавить форму подписки на все основные страницы, чтобы собрать базу клиентов для email-рассылок</td>\n",
       "      <td>112.0</td>\n",
       "    </tr>\n",
       "    <tr>\n",
       "      <th>2</th>\n",
       "      <td>Добавить блоки рекомендаций товаров на сайт интернет магазина, чтобы повысить конверсию и средний чек заказа</td>\n",
       "      <td>56.0</td>\n",
       "    </tr>\n",
       "    <tr>\n",
       "      <th>0</th>\n",
       "      <td>Добавить два новых канала привлечения трафика, что позволит привлекать на 30% больше пользователей</td>\n",
       "      <td>40.0</td>\n",
       "    </tr>\n",
       "    <tr>\n",
       "      <th>6</th>\n",
       "      <td>Показать на главной странице баннеры с актуальными акциями и распродажами, чтобы увеличить конверсию</td>\n",
       "      <td>40.0</td>\n",
       "    </tr>\n",
       "    <tr>\n",
       "      <th>8</th>\n",
       "      <td>Запустить акцию, дающую скидку на товар в день рождения</td>\n",
       "      <td>16.2</td>\n",
       "    </tr>\n",
       "    <tr>\n",
       "      <th>3</th>\n",
       "      <td>Изменить структура категорий, что увеличит конверсию, т.к. пользователи быстрее найдут нужный товар</td>\n",
       "      <td>9.0</td>\n",
       "    </tr>\n",
       "    <tr>\n",
       "      <th>1</th>\n",
       "      <td>Запустить собственную службу доставки, что сократит срок доставки заказов</td>\n",
       "      <td>4.0</td>\n",
       "    </tr>\n",
       "    <tr>\n",
       "      <th>5</th>\n",
       "      <td>Добавить страницу отзывов клиентов о магазине, что позволит увеличить количество заказов</td>\n",
       "      <td>4.0</td>\n",
       "    </tr>\n",
       "    <tr>\n",
       "      <th>4</th>\n",
       "      <td>Изменить цвет фона главной страницы, чтобы увеличить вовлеченность пользователей</td>\n",
       "      <td>3.0</td>\n",
       "    </tr>\n",
       "  </tbody>\n",
       "</table>\n",
       "</div>"
      ],
      "text/plain": [
       "                                                                                                     hypothesis  \\\n",
       "7              Добавить форму подписки на все основные страницы, чтобы собрать базу клиентов для email-рассылок   \n",
       "2  Добавить блоки рекомендаций товаров на сайт интернет магазина, чтобы повысить конверсию и средний чек заказа   \n",
       "0            Добавить два новых канала привлечения трафика, что позволит привлекать на 30% больше пользователей   \n",
       "6          Показать на главной странице баннеры с актуальными акциями и распродажами, чтобы увеличить конверсию   \n",
       "8                                                       Запустить акцию, дающую скидку на товар в день рождения   \n",
       "3           Изменить структура категорий, что увеличит конверсию, т.к. пользователи быстрее найдут нужный товар   \n",
       "1                                     Запустить собственную службу доставки, что сократит срок доставки заказов   \n",
       "5                      Добавить страницу отзывов клиентов о магазине, что позволит увеличить количество заказов   \n",
       "4                              Изменить цвет фона главной страницы, чтобы увеличить вовлеченность пользователей   \n",
       "\n",
       "    RICE  \n",
       "7  112.0  \n",
       "2   56.0  \n",
       "0   40.0  \n",
       "6   40.0  \n",
       "8   16.2  \n",
       "3    9.0  \n",
       "1    4.0  \n",
       "5    4.0  \n",
       "4    3.0  "
      ]
     },
     "execution_count": 24,
     "metadata": {},
     "output_type": "execute_result"
    }
   ],
   "source": [
    "hypothesis[['hypothesis', 'RICE']].sort_values(by='RICE', ascending=False)"
   ]
  },
  {
   "cell_type": "code",
   "execution_count": 25,
   "metadata": {},
   "outputs": [
    {
     "data": {
      "text/html": [
       "<style  type=\"text/css\" >\n",
       "#T_7e7fa_row0_col1{\n",
       "            background-color:  #0567a2;\n",
       "            color:  #f1f1f1;\n",
       "        }#T_7e7fa_row0_col2,#T_7e7fa_row6_col2{\n",
       "            background-color:  #b3c3de;\n",
       "            color:  #000000;\n",
       "        }#T_7e7fa_row1_col1{\n",
       "            background-color:  #f5eef6;\n",
       "            color:  #000000;\n",
       "        }#T_7e7fa_row1_col2,#T_7e7fa_row5_col2{\n",
       "            background-color:  #fef6fa;\n",
       "            color:  #000000;\n",
       "        }#T_7e7fa_row2_col1{\n",
       "            background-color:  #9cb9d9;\n",
       "            color:  #000000;\n",
       "        }#T_7e7fa_row2_col2{\n",
       "            background-color:  #79abd0;\n",
       "            color:  #000000;\n",
       "        }#T_7e7fa_row3_col1,#T_7e7fa_row4_col1,#T_7e7fa_row4_col2,#T_7e7fa_row5_col1{\n",
       "            background-color:  #fff7fb;\n",
       "            color:  #000000;\n",
       "        }#T_7e7fa_row3_col2{\n",
       "            background-color:  #f7f0f7;\n",
       "            color:  #000000;\n",
       "        }#T_7e7fa_row6_col1{\n",
       "            background-color:  #81aed2;\n",
       "            color:  #000000;\n",
       "        }#T_7e7fa_row7_col1{\n",
       "            background-color:  #2685bb;\n",
       "            color:  #000000;\n",
       "        }#T_7e7fa_row7_col2,#T_7e7fa_row8_col1{\n",
       "            background-color:  #023858;\n",
       "            color:  #f1f1f1;\n",
       "        }#T_7e7fa_row8_col2{\n",
       "            background-color:  #ede7f2;\n",
       "            color:  #000000;\n",
       "        }</style><table id=\"T_7e7fa_\" ><thead>    <tr>        <th class=\"blank level0\" ></th>        <th class=\"col_heading level0 col0\" >hypothesis</th>        <th class=\"col_heading level0 col1\" >ICE</th>        <th class=\"col_heading level0 col2\" >RICE</th>    </tr></thead><tbody>\n",
       "                <tr>\n",
       "                        <th id=\"T_7e7fa_level0_row0\" class=\"row_heading level0 row0\" >0</th>\n",
       "                        <td id=\"T_7e7fa_row0_col0\" class=\"data row0 col0\" >Добавить два новых канала привлечения трафика, что позволит привлекать на 30% больше пользователей</td>\n",
       "                        <td id=\"T_7e7fa_row0_col1\" class=\"data row0 col1\" >13.000000</td>\n",
       "                        <td id=\"T_7e7fa_row0_col2\" class=\"data row0 col2\" >40.000000</td>\n",
       "            </tr>\n",
       "            <tr>\n",
       "                        <th id=\"T_7e7fa_level0_row1\" class=\"row_heading level0 row1\" >1</th>\n",
       "                        <td id=\"T_7e7fa_row1_col0\" class=\"data row1 col0\" >Запустить собственную службу доставки, что сократит срок доставки заказов</td>\n",
       "                        <td id=\"T_7e7fa_row1_col1\" class=\"data row1 col1\" >2.000000</td>\n",
       "                        <td id=\"T_7e7fa_row1_col2\" class=\"data row1 col2\" >4.000000</td>\n",
       "            </tr>\n",
       "            <tr>\n",
       "                        <th id=\"T_7e7fa_level0_row2\" class=\"row_heading level0 row2\" >2</th>\n",
       "                        <td id=\"T_7e7fa_row2_col0\" class=\"data row2 col0\" >Добавить блоки рекомендаций товаров на сайт интернет магазина, чтобы повысить конверсию и средний чек заказа</td>\n",
       "                        <td id=\"T_7e7fa_row2_col1\" class=\"data row2 col1\" >7.000000</td>\n",
       "                        <td id=\"T_7e7fa_row2_col2\" class=\"data row2 col2\" >56.000000</td>\n",
       "            </tr>\n",
       "            <tr>\n",
       "                        <th id=\"T_7e7fa_level0_row3\" class=\"row_heading level0 row3\" >3</th>\n",
       "                        <td id=\"T_7e7fa_row3_col0\" class=\"data row3 col0\" >Изменить структура категорий, что увеличит конверсию, т.к. пользователи быстрее найдут нужный товар</td>\n",
       "                        <td id=\"T_7e7fa_row3_col1\" class=\"data row3 col1\" >1.000000</td>\n",
       "                        <td id=\"T_7e7fa_row3_col2\" class=\"data row3 col2\" >9.000000</td>\n",
       "            </tr>\n",
       "            <tr>\n",
       "                        <th id=\"T_7e7fa_level0_row4\" class=\"row_heading level0 row4\" >4</th>\n",
       "                        <td id=\"T_7e7fa_row4_col0\" class=\"data row4 col0\" >Изменить цвет фона главной страницы, чтобы увеличить вовлеченность пользователей</td>\n",
       "                        <td id=\"T_7e7fa_row4_col1\" class=\"data row4 col1\" >1.000000</td>\n",
       "                        <td id=\"T_7e7fa_row4_col2\" class=\"data row4 col2\" >3.000000</td>\n",
       "            </tr>\n",
       "            <tr>\n",
       "                        <th id=\"T_7e7fa_level0_row5\" class=\"row_heading level0 row5\" >5</th>\n",
       "                        <td id=\"T_7e7fa_row5_col0\" class=\"data row5 col0\" >Добавить страницу отзывов клиентов о магазине, что позволит увеличить количество заказов</td>\n",
       "                        <td id=\"T_7e7fa_row5_col1\" class=\"data row5 col1\" >1.000000</td>\n",
       "                        <td id=\"T_7e7fa_row5_col2\" class=\"data row5 col2\" >4.000000</td>\n",
       "            </tr>\n",
       "            <tr>\n",
       "                        <th id=\"T_7e7fa_level0_row6\" class=\"row_heading level0 row6\" >6</th>\n",
       "                        <td id=\"T_7e7fa_row6_col0\" class=\"data row6 col0\" >Показать на главной странице баннеры с актуальными акциями и распродажами, чтобы увеличить конверсию</td>\n",
       "                        <td id=\"T_7e7fa_row6_col1\" class=\"data row6 col1\" >8.000000</td>\n",
       "                        <td id=\"T_7e7fa_row6_col2\" class=\"data row6 col2\" >40.000000</td>\n",
       "            </tr>\n",
       "            <tr>\n",
       "                        <th id=\"T_7e7fa_level0_row7\" class=\"row_heading level0 row7\" >7</th>\n",
       "                        <td id=\"T_7e7fa_row7_col0\" class=\"data row7 col0\" >Добавить форму подписки на все основные страницы, чтобы собрать базу клиентов для email-рассылок</td>\n",
       "                        <td id=\"T_7e7fa_row7_col1\" class=\"data row7 col1\" >11.000000</td>\n",
       "                        <td id=\"T_7e7fa_row7_col2\" class=\"data row7 col2\" >112.000000</td>\n",
       "            </tr>\n",
       "            <tr>\n",
       "                        <th id=\"T_7e7fa_level0_row8\" class=\"row_heading level0 row8\" >8</th>\n",
       "                        <td id=\"T_7e7fa_row8_col0\" class=\"data row8 col0\" >Запустить акцию, дающую скидку на товар в день рождения</td>\n",
       "                        <td id=\"T_7e7fa_row8_col1\" class=\"data row8 col1\" >16.000000</td>\n",
       "                        <td id=\"T_7e7fa_row8_col2\" class=\"data row8 col2\" >16.200000</td>\n",
       "            </tr>\n",
       "    </tbody></table>"
      ],
      "text/plain": [
       "<pandas.io.formats.style.Styler at 0x7f79bd05b2e0>"
      ]
     },
     "execution_count": 25,
     "metadata": {},
     "output_type": "execute_result"
    }
   ],
   "source": [
    "hypothesis[['hypothesis', 'ICE', 'RICE']].style.background_gradient()"
   ]
  },
  {
   "cell_type": "markdown",
   "metadata": {},
   "source": [
    "**Изменение приоритизации гипотез при применении RICE вместо ICE**"
   ]
  },
  {
   "cell_type": "markdown",
   "metadata": {},
   "source": [
    "Наиболее перспективные гипотезы после применения фреймворка ICE:\n",
    "\n",
    "* №8. Запустить акцию, дающую скидку на товар в день рождения \n",
    "* №0. Добавить два новых канала привлечения трафика, что позволит привлекать на 30% больше пользователей \n",
    "* №7. Добавить форму подписки на все основные страницы, чтобы собрать базу клиентов для email-рассылок \n",
    "\n",
    "Наиболее перспективные гипотезы после применения фреймворка RICE::\n",
    "\n",
    "* №7. Добавить форму подписки на все основные страницы, чтобы собрать базу клиентов для email-рассылок \n",
    "* №2. Добавить блоки рекомендаций товаров на сайт интернет магазина, чтобы повысить конверсию и средний чек заказа \n",
    "* №0. Добавить два новых канала привлечения трафика, что позволит привлекать на 30% больше пользователей \n",
    "\n",
    "При применении фреймворка RICE также учитывается параметр `Reach`- охват. В связи с этим считаю, что необходимо в первую очередь протестировать Гиппотезу №0 \"Добавить форму подписки на все основные страницы, чтобы собрать базу клиентов для email-рассылок\"."
   ]
  },
  {
   "cell_type": "markdown",
   "metadata": {},
   "source": [
    "## Анализ A/B-теста"
   ]
  },
  {
   "cell_type": "markdown",
   "metadata": {},
   "source": [
    "**Построение графика кумулятивной выручки по группам**"
   ]
  },
  {
   "cell_type": "code",
   "execution_count": 26,
   "metadata": {},
   "outputs": [],
   "source": [
    "# создаем массив уникальных пар значений дат и групп теста\n",
    "datesGroups = orders_new[['date','group']].drop_duplicates()"
   ]
  },
  {
   "cell_type": "code",
   "execution_count": 27,
   "metadata": {},
   "outputs": [],
   "source": [
    "# получаем агрегированные кумулятивные по дням данные о заказах \n",
    "ordersAggregated = datesGroups.apply(\n",
    "    lambda x: orders[\n",
    "        np.logical_and(\n",
    "            orders['date'] <= x['date'], orders['group'] == x['group']\n",
    "        )\n",
    "    ].agg(\n",
    "        {\n",
    "            'date': 'max',\n",
    "            'group': 'max',\n",
    "            'transactionId': pd.Series.nunique,\n",
    "            'visitorId': pd.Series.nunique,\n",
    "            'revenue': 'sum',\n",
    "        }\n",
    "    ),\n",
    "    axis=1,\n",
    ").sort_values(by=['date', 'group'])"
   ]
  },
  {
   "cell_type": "markdown",
   "metadata": {},
   "source": [
    "Этот код работает так, будто мы ежедневно считали результаты тестирования до выбранного дня включительно и сохраняли их в строках таблицы `ordersAggregated`."
   ]
  },
  {
   "cell_type": "code",
   "execution_count": 28,
   "metadata": {},
   "outputs": [
    {
     "data": {
      "text/html": [
       "<div>\n",
       "<style scoped>\n",
       "    .dataframe tbody tr th:only-of-type {\n",
       "        vertical-align: middle;\n",
       "    }\n",
       "\n",
       "    .dataframe tbody tr th {\n",
       "        vertical-align: top;\n",
       "    }\n",
       "\n",
       "    .dataframe thead th {\n",
       "        text-align: right;\n",
       "    }\n",
       "</style>\n",
       "<table border=\"1\" class=\"dataframe\">\n",
       "  <thead>\n",
       "    <tr style=\"text-align: right;\">\n",
       "      <th></th>\n",
       "      <th>date</th>\n",
       "      <th>group</th>\n",
       "      <th>transactionId</th>\n",
       "      <th>visitorId</th>\n",
       "      <th>revenue</th>\n",
       "    </tr>\n",
       "  </thead>\n",
       "  <tbody>\n",
       "    <tr>\n",
       "      <th>55</th>\n",
       "      <td>2019-08-01</td>\n",
       "      <td>A</td>\n",
       "      <td>24</td>\n",
       "      <td>20</td>\n",
       "      <td>148579</td>\n",
       "    </tr>\n",
       "    <tr>\n",
       "      <th>66</th>\n",
       "      <td>2019-08-01</td>\n",
       "      <td>B</td>\n",
       "      <td>21</td>\n",
       "      <td>20</td>\n",
       "      <td>101217</td>\n",
       "    </tr>\n",
       "    <tr>\n",
       "      <th>175</th>\n",
       "      <td>2019-08-02</td>\n",
       "      <td>A</td>\n",
       "      <td>44</td>\n",
       "      <td>38</td>\n",
       "      <td>242401</td>\n",
       "    </tr>\n",
       "    <tr>\n",
       "      <th>173</th>\n",
       "      <td>2019-08-02</td>\n",
       "      <td>B</td>\n",
       "      <td>45</td>\n",
       "      <td>43</td>\n",
       "      <td>266748</td>\n",
       "    </tr>\n",
       "    <tr>\n",
       "      <th>291</th>\n",
       "      <td>2019-08-03</td>\n",
       "      <td>A</td>\n",
       "      <td>68</td>\n",
       "      <td>62</td>\n",
       "      <td>354874</td>\n",
       "    </tr>\n",
       "  </tbody>\n",
       "</table>\n",
       "</div>"
      ],
      "text/plain": [
       "          date group  transactionId  visitorId  revenue\n",
       "55  2019-08-01     A             24         20   148579\n",
       "66  2019-08-01     B             21         20   101217\n",
       "175 2019-08-02     A             44         38   242401\n",
       "173 2019-08-02     B             45         43   266748\n",
       "291 2019-08-03     A             68         62   354874"
      ]
     },
     "execution_count": 28,
     "metadata": {},
     "output_type": "execute_result"
    }
   ],
   "source": [
    "ordersAggregated.head()"
   ]
  },
  {
   "cell_type": "markdown",
   "metadata": {},
   "source": [
    "Аналогично получим агрегированные кумулятивные по дням данные о посетителях интернет-магазина."
   ]
  },
  {
   "cell_type": "code",
   "execution_count": 29,
   "metadata": {},
   "outputs": [],
   "source": [
    "visitorsAggregated = datesGroups.apply(\n",
    "    lambda x: visitors[\n",
    "        np.logical_and(\n",
    "            visitors['date'] <= x['date'], visitors['group'] == x['group']\n",
    "        )\n",
    "    ].agg({'date': 'max', 'group': 'max', 'visitors': 'sum'}),\n",
    "    axis=1,\n",
    ").sort_values(by=['date', 'group'])"
   ]
  },
  {
   "cell_type": "code",
   "execution_count": 30,
   "metadata": {},
   "outputs": [
    {
     "data": {
      "text/html": [
       "<div>\n",
       "<style scoped>\n",
       "    .dataframe tbody tr th:only-of-type {\n",
       "        vertical-align: middle;\n",
       "    }\n",
       "\n",
       "    .dataframe tbody tr th {\n",
       "        vertical-align: top;\n",
       "    }\n",
       "\n",
       "    .dataframe thead th {\n",
       "        text-align: right;\n",
       "    }\n",
       "</style>\n",
       "<table border=\"1\" class=\"dataframe\">\n",
       "  <thead>\n",
       "    <tr style=\"text-align: right;\">\n",
       "      <th></th>\n",
       "      <th>date</th>\n",
       "      <th>group</th>\n",
       "      <th>visitors</th>\n",
       "    </tr>\n",
       "  </thead>\n",
       "  <tbody>\n",
       "    <tr>\n",
       "      <th>55</th>\n",
       "      <td>2019-08-01</td>\n",
       "      <td>A</td>\n",
       "      <td>719</td>\n",
       "    </tr>\n",
       "    <tr>\n",
       "      <th>66</th>\n",
       "      <td>2019-08-01</td>\n",
       "      <td>B</td>\n",
       "      <td>713</td>\n",
       "    </tr>\n",
       "    <tr>\n",
       "      <th>175</th>\n",
       "      <td>2019-08-02</td>\n",
       "      <td>A</td>\n",
       "      <td>1338</td>\n",
       "    </tr>\n",
       "    <tr>\n",
       "      <th>173</th>\n",
       "      <td>2019-08-02</td>\n",
       "      <td>B</td>\n",
       "      <td>1294</td>\n",
       "    </tr>\n",
       "    <tr>\n",
       "      <th>291</th>\n",
       "      <td>2019-08-03</td>\n",
       "      <td>A</td>\n",
       "      <td>1845</td>\n",
       "    </tr>\n",
       "  </tbody>\n",
       "</table>\n",
       "</div>"
      ],
      "text/plain": [
       "          date group  visitors\n",
       "55  2019-08-01     A       719\n",
       "66  2019-08-01     B       713\n",
       "175 2019-08-02     A      1338\n",
       "173 2019-08-02     B      1294\n",
       "291 2019-08-03     A      1845"
      ]
     },
     "execution_count": 30,
     "metadata": {},
     "output_type": "execute_result"
    }
   ],
   "source": [
    "visitorsAggregated.head()"
   ]
  },
  {
   "cell_type": "code",
   "execution_count": 31,
   "metadata": {},
   "outputs": [],
   "source": [
    "# объединяем кумулятивные данные в одной таблице и присваиваем ее столбцам понятные названия\n",
    "cumulativeData = ordersAggregated.merge(visitorsAggregated, left_on=['date', 'group'], right_on=['date', 'group'])\n",
    "cumulativeData.columns = ['date', 'group', 'orders', 'buyers', 'revenue', 'visitors']"
   ]
  },
  {
   "cell_type": "code",
   "execution_count": 32,
   "metadata": {},
   "outputs": [
    {
     "data": {
      "text/html": [
       "<div>\n",
       "<style scoped>\n",
       "    .dataframe tbody tr th:only-of-type {\n",
       "        vertical-align: middle;\n",
       "    }\n",
       "\n",
       "    .dataframe tbody tr th {\n",
       "        vertical-align: top;\n",
       "    }\n",
       "\n",
       "    .dataframe thead th {\n",
       "        text-align: right;\n",
       "    }\n",
       "</style>\n",
       "<table border=\"1\" class=\"dataframe\">\n",
       "  <thead>\n",
       "    <tr style=\"text-align: right;\">\n",
       "      <th></th>\n",
       "      <th>date</th>\n",
       "      <th>group</th>\n",
       "      <th>orders</th>\n",
       "      <th>buyers</th>\n",
       "      <th>revenue</th>\n",
       "      <th>visitors</th>\n",
       "    </tr>\n",
       "  </thead>\n",
       "  <tbody>\n",
       "    <tr>\n",
       "      <th>0</th>\n",
       "      <td>2019-08-01</td>\n",
       "      <td>A</td>\n",
       "      <td>24</td>\n",
       "      <td>20</td>\n",
       "      <td>148579</td>\n",
       "      <td>719</td>\n",
       "    </tr>\n",
       "    <tr>\n",
       "      <th>1</th>\n",
       "      <td>2019-08-01</td>\n",
       "      <td>B</td>\n",
       "      <td>21</td>\n",
       "      <td>20</td>\n",
       "      <td>101217</td>\n",
       "      <td>713</td>\n",
       "    </tr>\n",
       "    <tr>\n",
       "      <th>2</th>\n",
       "      <td>2019-08-02</td>\n",
       "      <td>A</td>\n",
       "      <td>44</td>\n",
       "      <td>38</td>\n",
       "      <td>242401</td>\n",
       "      <td>1338</td>\n",
       "    </tr>\n",
       "    <tr>\n",
       "      <th>3</th>\n",
       "      <td>2019-08-02</td>\n",
       "      <td>B</td>\n",
       "      <td>45</td>\n",
       "      <td>43</td>\n",
       "      <td>266748</td>\n",
       "      <td>1294</td>\n",
       "    </tr>\n",
       "    <tr>\n",
       "      <th>4</th>\n",
       "      <td>2019-08-03</td>\n",
       "      <td>A</td>\n",
       "      <td>68</td>\n",
       "      <td>62</td>\n",
       "      <td>354874</td>\n",
       "      <td>1845</td>\n",
       "    </tr>\n",
       "  </tbody>\n",
       "</table>\n",
       "</div>"
      ],
      "text/plain": [
       "        date group  orders  buyers  revenue  visitors\n",
       "0 2019-08-01     A      24      20   148579       719\n",
       "1 2019-08-01     B      21      20   101217       713\n",
       "2 2019-08-02     A      44      38   242401      1338\n",
       "3 2019-08-02     B      45      43   266748      1294\n",
       "4 2019-08-03     A      68      62   354874      1845"
      ]
     },
     "execution_count": 32,
     "metadata": {},
     "output_type": "execute_result"
    }
   ],
   "source": [
    "cumulativeData.head()"
   ]
  },
  {
   "cell_type": "code",
   "execution_count": 33,
   "metadata": {},
   "outputs": [
    {
     "data": {
      "text/html": [
       "<div>\n",
       "<style scoped>\n",
       "    .dataframe tbody tr th:only-of-type {\n",
       "        vertical-align: middle;\n",
       "    }\n",
       "\n",
       "    .dataframe tbody tr th {\n",
       "        vertical-align: top;\n",
       "    }\n",
       "\n",
       "    .dataframe thead th {\n",
       "        text-align: right;\n",
       "    }\n",
       "</style>\n",
       "<table border=\"1\" class=\"dataframe\">\n",
       "  <thead>\n",
       "    <tr style=\"text-align: right;\">\n",
       "      <th></th>\n",
       "      <th>date</th>\n",
       "      <th>revenue</th>\n",
       "      <th>orders</th>\n",
       "    </tr>\n",
       "  </thead>\n",
       "  <tbody>\n",
       "    <tr>\n",
       "      <th>0</th>\n",
       "      <td>2019-08-01</td>\n",
       "      <td>148579</td>\n",
       "      <td>24</td>\n",
       "    </tr>\n",
       "    <tr>\n",
       "      <th>2</th>\n",
       "      <td>2019-08-02</td>\n",
       "      <td>242401</td>\n",
       "      <td>44</td>\n",
       "    </tr>\n",
       "    <tr>\n",
       "      <th>4</th>\n",
       "      <td>2019-08-03</td>\n",
       "      <td>354874</td>\n",
       "      <td>68</td>\n",
       "    </tr>\n",
       "    <tr>\n",
       "      <th>6</th>\n",
       "      <td>2019-08-04</td>\n",
       "      <td>425699</td>\n",
       "      <td>84</td>\n",
       "    </tr>\n",
       "    <tr>\n",
       "      <th>8</th>\n",
       "      <td>2019-08-05</td>\n",
       "      <td>549917</td>\n",
       "      <td>109</td>\n",
       "    </tr>\n",
       "  </tbody>\n",
       "</table>\n",
       "</div>"
      ],
      "text/plain": [
       "        date  revenue  orders\n",
       "0 2019-08-01   148579      24\n",
       "2 2019-08-02   242401      44\n",
       "4 2019-08-03   354874      68\n",
       "6 2019-08-04   425699      84\n",
       "8 2019-08-05   549917     109"
      ]
     },
     "execution_count": 33,
     "metadata": {},
     "output_type": "execute_result"
    }
   ],
   "source": [
    "# датафрейм с кумулятивным количеством заказов и кумулятивной выручкой по дням в группе А\n",
    "cumulativeRevenueA = cumulativeData[cumulativeData['group']=='A'][['date','revenue', 'orders']]\n",
    "cumulativeRevenueA.head()"
   ]
  },
  {
   "cell_type": "code",
   "execution_count": 34,
   "metadata": {},
   "outputs": [
    {
     "data": {
      "text/html": [
       "<div>\n",
       "<style scoped>\n",
       "    .dataframe tbody tr th:only-of-type {\n",
       "        vertical-align: middle;\n",
       "    }\n",
       "\n",
       "    .dataframe tbody tr th {\n",
       "        vertical-align: top;\n",
       "    }\n",
       "\n",
       "    .dataframe thead th {\n",
       "        text-align: right;\n",
       "    }\n",
       "</style>\n",
       "<table border=\"1\" class=\"dataframe\">\n",
       "  <thead>\n",
       "    <tr style=\"text-align: right;\">\n",
       "      <th></th>\n",
       "      <th>date</th>\n",
       "      <th>revenue</th>\n",
       "      <th>orders</th>\n",
       "    </tr>\n",
       "  </thead>\n",
       "  <tbody>\n",
       "    <tr>\n",
       "      <th>1</th>\n",
       "      <td>2019-08-01</td>\n",
       "      <td>101217</td>\n",
       "      <td>21</td>\n",
       "    </tr>\n",
       "    <tr>\n",
       "      <th>3</th>\n",
       "      <td>2019-08-02</td>\n",
       "      <td>266748</td>\n",
       "      <td>45</td>\n",
       "    </tr>\n",
       "    <tr>\n",
       "      <th>5</th>\n",
       "      <td>2019-08-03</td>\n",
       "      <td>380996</td>\n",
       "      <td>61</td>\n",
       "    </tr>\n",
       "    <tr>\n",
       "      <th>7</th>\n",
       "      <td>2019-08-04</td>\n",
       "      <td>489567</td>\n",
       "      <td>78</td>\n",
       "    </tr>\n",
       "    <tr>\n",
       "      <th>9</th>\n",
       "      <td>2019-08-05</td>\n",
       "      <td>581995</td>\n",
       "      <td>101</td>\n",
       "    </tr>\n",
       "  </tbody>\n",
       "</table>\n",
       "</div>"
      ],
      "text/plain": [
       "        date  revenue  orders\n",
       "1 2019-08-01   101217      21\n",
       "3 2019-08-02   266748      45\n",
       "5 2019-08-03   380996      61\n",
       "7 2019-08-04   489567      78\n",
       "9 2019-08-05   581995     101"
      ]
     },
     "execution_count": 34,
     "metadata": {},
     "output_type": "execute_result"
    }
   ],
   "source": [
    "# датафрейм с кумулятивным количеством заказов и кумулятивной выручкой по дням в группе B\n",
    "cumulativeRevenueB = cumulativeData[cumulativeData['group']=='B'][['date','revenue', 'orders']]\n",
    "cumulativeRevenueB.head()"
   ]
  },
  {
   "cell_type": "code",
   "execution_count": 35,
   "metadata": {
    "scrolled": true
   },
   "outputs": [
    {
     "data": {
      "image/png": "[encoded data removed]",
      "text/plain": [
       "<Figure size 1080x360 with 1 Axes>"
      ]
     },
     "metadata": {
      "needs_background": "light"
     },
     "output_type": "display_data"
    }
   ],
   "source": [
    "plt.figure(figsize=(15,5))\n",
    "\n",
    "# строим график выручки группы А\n",
    "plt.plot(cumulativeRevenueA['date'], cumulativeRevenueA['revenue'], label='A')\n",
    "\n",
    "# строим график выручки группы B\n",
    "plt.plot(cumulativeRevenueB['date'], cumulativeRevenueB['revenue'], label='B')\n",
    "\n",
    "plt.title('Кумулятивная выручка по группам')\n",
    "plt.xlabel('Дата')\n",
    "plt.ylabel('Выручка')\n",
    "plt.grid()\n",
    "plt.legend()\n",
    "plt.show()"
   ]
  },
  {
   "cell_type": "markdown",
   "metadata": {},
   "source": [
    "Кумулятивная выручка обеих групп равномерно увеличиваестя в течении всего исследуемого периода. Отдельно стоит обратить внимание на резкий скачок группы В, что может означать появление очень дорого заказа, либо же увеличение количества заказов."
   ]
  },
  {
   "cell_type": "markdown",
   "metadata": {},
   "source": [
    "**Построение графика кумулятивного среднего чека по группам**"
   ]
  },
  {
   "cell_type": "markdown",
   "metadata": {},
   "source": [
    "Построим графики среднего чека по группам — разделим кумулятивную выручку на кумулятивное число заказов:"
   ]
  },
  {
   "cell_type": "code",
   "execution_count": 36,
   "metadata": {
    "scrolled": true
   },
   "outputs": [
    {
     "data": {
      "image/png": "[encoded data removed]",
      "text/plain": [
       "<Figure size 1080x360 with 1 Axes>"
      ]
     },
     "metadata": {
      "needs_background": "light"
     },
     "output_type": "display_data"
    }
   ],
   "source": [
    "plt.figure(figsize=(15,5))\n",
    "\n",
    "plt.plot(cumulativeRevenueA['date'], cumulativeRevenueA['revenue']/cumulativeRevenueA['orders'], label='A')\n",
    "plt.plot(cumulativeRevenueB['date'], cumulativeRevenueB['revenue']/cumulativeRevenueB['orders'], label='B')\n",
    "\n",
    "plt.title('Кумулятивный средний чек по группам')\n",
    "plt.xlabel('Дата')\n",
    "plt.ylabel('Средний чек')\n",
    "plt.grid()\n",
    "plt.legend()\n",
    "plt.show()"
   ]
  },
  {
   "cell_type": "markdown",
   "metadata": {},
   "source": [
    "Кумулятивный средний чек к концу теста установился для группы А, но для группы В продолжает снижаться. Скорее всего это связано появлением крупных заказов в этой группе, поэтому потребуется немного больше времени для стабилизации среднего чека."
   ]
  },
  {
   "cell_type": "markdown",
   "metadata": {},
   "source": [
    "**Построение графика относительного изменения кумулятивного среднего чека группы B к группе A**"
   ]
  },
  {
   "cell_type": "markdown",
   "metadata": {},
   "source": [
    "Построим график относительного различия для среднего чека. Добавим горизонтальную ось методом axhline() (от англ. horizontal line across the axis*, «горизонтальная линия поперек оси»):"
   ]
  },
  {
   "cell_type": "code",
   "execution_count": 37,
   "metadata": {},
   "outputs": [],
   "source": [
    "# собираем данные в одном датафрейме\n",
    "mergedCumulativeRevenue = cumulativeRevenueA.merge(\n",
    "    cumulativeRevenueB, left_on='date', right_on='date', how='left', suffixes=['A', 'B'])"
   ]
  },
  {
   "cell_type": "code",
   "execution_count": 38,
   "metadata": {
    "scrolled": true
   },
   "outputs": [
    {
     "data": {
      "image/png": "[encoded data removed]",
      "text/plain": [
       "<Figure size 1080x360 with 1 Axes>"
      ]
     },
     "metadata": {
      "needs_background": "light"
     },
     "output_type": "display_data"
    }
   ],
   "source": [
    "plt.figure(figsize=(15,5))\n",
    "\n",
    "# cтроим отношение средних чеков\n",
    "plt.plot(mergedCumulativeRevenue['date'], (mergedCumulativeRevenue['revenueB']/mergedCumulativeRevenue['ordersB'])\n",
    "         /(mergedCumulativeRevenue['revenueA']/mergedCumulativeRevenue['ordersA'])-1)\n",
    "\n",
    "# добавляем ось X\n",
    "plt.axhline(y=0, color='black', linestyle='--') \n",
    "\n",
    "plt.title('Относительное изменение кумулятивного среднего чека группы B к группе A')\n",
    "plt.xlabel('Дата')\n",
    "plt.ylabel('Отношение средних чеков')\n",
    "plt.show()"
   ]
  },
  {
   "cell_type": "markdown",
   "metadata": {},
   "source": [
    "График относительного изменения кумулятивного среднего чека нестабилен, имеются резкие перепады. Почти наверняка где-то спрятались крупные заказы и выбросы."
   ]
  },
  {
   "cell_type": "markdown",
   "metadata": {},
   "source": [
    "**Построение графика кумулятивной конверсии по группам**"
   ]
  },
  {
   "cell_type": "markdown",
   "metadata": {},
   "source": [
    "Аналогично проанализируем график кумулятивной конверсии. Зададим масштаб осей методом plt.axis(). Передадим ему минимальное и максимальное значения оси x; минимальное и максимальное значения оси y. Для начала определим минимальную и максимальную даты."
   ]
  },
  {
   "cell_type": "code",
   "execution_count": 39,
   "metadata": {},
   "outputs": [
    {
     "data": {
      "text/plain": [
       "Timestamp('2019-08-01 00:00:00')"
      ]
     },
     "metadata": {},
     "output_type": "display_data"
    },
    {
     "data": {
      "text/plain": [
       "Timestamp('2019-08-31 00:00:00')"
      ]
     },
     "metadata": {},
     "output_type": "display_data"
    }
   ],
   "source": [
    "display(mergedCumulativeRevenue['date'].min())\n",
    "display(mergedCumulativeRevenue['date'].max())"
   ]
  },
  {
   "cell_type": "code",
   "execution_count": 40,
   "metadata": {},
   "outputs": [
    {
     "data": {
      "text/html": [
       "<div>\n",
       "<style scoped>\n",
       "    .dataframe tbody tr th:only-of-type {\n",
       "        vertical-align: middle;\n",
       "    }\n",
       "\n",
       "    .dataframe tbody tr th {\n",
       "        vertical-align: top;\n",
       "    }\n",
       "\n",
       "    .dataframe thead th {\n",
       "        text-align: right;\n",
       "    }\n",
       "</style>\n",
       "<table border=\"1\" class=\"dataframe\">\n",
       "  <thead>\n",
       "    <tr style=\"text-align: right;\">\n",
       "      <th></th>\n",
       "      <th>date</th>\n",
       "      <th>group</th>\n",
       "      <th>orders</th>\n",
       "      <th>buyers</th>\n",
       "      <th>revenue</th>\n",
       "      <th>visitors</th>\n",
       "      <th>conversion</th>\n",
       "    </tr>\n",
       "  </thead>\n",
       "  <tbody>\n",
       "    <tr>\n",
       "      <th>0</th>\n",
       "      <td>2019-08-01</td>\n",
       "      <td>A</td>\n",
       "      <td>24</td>\n",
       "      <td>20</td>\n",
       "      <td>148579</td>\n",
       "      <td>719</td>\n",
       "      <td>0.033380</td>\n",
       "    </tr>\n",
       "    <tr>\n",
       "      <th>1</th>\n",
       "      <td>2019-08-01</td>\n",
       "      <td>B</td>\n",
       "      <td>21</td>\n",
       "      <td>20</td>\n",
       "      <td>101217</td>\n",
       "      <td>713</td>\n",
       "      <td>0.029453</td>\n",
       "    </tr>\n",
       "    <tr>\n",
       "      <th>2</th>\n",
       "      <td>2019-08-02</td>\n",
       "      <td>A</td>\n",
       "      <td>44</td>\n",
       "      <td>38</td>\n",
       "      <td>242401</td>\n",
       "      <td>1338</td>\n",
       "      <td>0.032885</td>\n",
       "    </tr>\n",
       "    <tr>\n",
       "      <th>3</th>\n",
       "      <td>2019-08-02</td>\n",
       "      <td>B</td>\n",
       "      <td>45</td>\n",
       "      <td>43</td>\n",
       "      <td>266748</td>\n",
       "      <td>1294</td>\n",
       "      <td>0.034776</td>\n",
       "    </tr>\n",
       "    <tr>\n",
       "      <th>4</th>\n",
       "      <td>2019-08-03</td>\n",
       "      <td>A</td>\n",
       "      <td>68</td>\n",
       "      <td>62</td>\n",
       "      <td>354874</td>\n",
       "      <td>1845</td>\n",
       "      <td>0.036856</td>\n",
       "    </tr>\n",
       "    <tr>\n",
       "      <th>...</th>\n",
       "      <td>...</td>\n",
       "      <td>...</td>\n",
       "      <td>...</td>\n",
       "      <td>...</td>\n",
       "      <td>...</td>\n",
       "      <td>...</td>\n",
       "      <td>...</td>\n",
       "    </tr>\n",
       "    <tr>\n",
       "      <th>57</th>\n",
       "      <td>2019-08-29</td>\n",
       "      <td>B</td>\n",
       "      <td>596</td>\n",
       "      <td>544</td>\n",
       "      <td>5559398</td>\n",
       "      <td>17708</td>\n",
       "      <td>0.033657</td>\n",
       "    </tr>\n",
       "    <tr>\n",
       "      <th>58</th>\n",
       "      <td>2019-08-30</td>\n",
       "      <td>A</td>\n",
       "      <td>545</td>\n",
       "      <td>493</td>\n",
       "      <td>4022970</td>\n",
       "      <td>18037</td>\n",
       "      <td>0.030216</td>\n",
       "    </tr>\n",
       "    <tr>\n",
       "      <th>59</th>\n",
       "      <td>2019-08-30</td>\n",
       "      <td>B</td>\n",
       "      <td>620</td>\n",
       "      <td>567</td>\n",
       "      <td>5774631</td>\n",
       "      <td>18198</td>\n",
       "      <td>0.034070</td>\n",
       "    </tr>\n",
       "    <tr>\n",
       "      <th>60</th>\n",
       "      <td>2019-08-31</td>\n",
       "      <td>A</td>\n",
       "      <td>557</td>\n",
       "      <td>503</td>\n",
       "      <td>4084803</td>\n",
       "      <td>18736</td>\n",
       "      <td>0.029729</td>\n",
       "    </tr>\n",
       "    <tr>\n",
       "      <th>61</th>\n",
       "      <td>2019-08-31</td>\n",
       "      <td>B</td>\n",
       "      <td>640</td>\n",
       "      <td>586</td>\n",
       "      <td>5907760</td>\n",
       "      <td>18916</td>\n",
       "      <td>0.033834</td>\n",
       "    </tr>\n",
       "  </tbody>\n",
       "</table>\n",
       "<p>62 rows × 7 columns</p>\n",
       "</div>"
      ],
      "text/plain": [
       "         date group  orders  buyers  revenue  visitors  conversion\n",
       "0  2019-08-01     A      24      20   148579       719    0.033380\n",
       "1  2019-08-01     B      21      20   101217       713    0.029453\n",
       "2  2019-08-02     A      44      38   242401      1338    0.032885\n",
       "3  2019-08-02     B      45      43   266748      1294    0.034776\n",
       "4  2019-08-03     A      68      62   354874      1845    0.036856\n",
       "..        ...   ...     ...     ...      ...       ...         ...\n",
       "57 2019-08-29     B     596     544  5559398     17708    0.033657\n",
       "58 2019-08-30     A     545     493  4022970     18037    0.030216\n",
       "59 2019-08-30     B     620     567  5774631     18198    0.034070\n",
       "60 2019-08-31     A     557     503  4084803     18736    0.029729\n",
       "61 2019-08-31     B     640     586  5907760     18916    0.033834\n",
       "\n",
       "[62 rows x 7 columns]"
      ]
     },
     "execution_count": 40,
     "metadata": {},
     "output_type": "execute_result"
    }
   ],
   "source": [
    "# считаем кумулятивную конверсию\n",
    "cumulativeData['conversion'] = cumulativeData['orders']/cumulativeData['visitors']\n",
    "cumulativeData"
   ]
  },
  {
   "cell_type": "code",
   "execution_count": 41,
   "metadata": {},
   "outputs": [],
   "source": [
    "# отделяем данные по группе A\n",
    "cumulativeDataA = cumulativeData[cumulativeData['group']=='A']\n",
    "\n",
    "# отделяем данные по группе B\n",
    "cumulativeDataB = cumulativeData[cumulativeData['group']=='B']"
   ]
  },
  {
   "cell_type": "code",
   "execution_count": 42,
   "metadata": {
    "scrolled": true
   },
   "outputs": [
    {
     "data": {
      "image/png": "[encoded data removed]",
      "text/plain": [
       "<Figure size 1080x360 with 1 Axes>"
      ]
     },
     "metadata": {
      "needs_background": "light"
     },
     "output_type": "display_data"
    }
   ],
   "source": [
    "plt.figure(figsize=(15,5))\n",
    "\n",
    "# строим графики\n",
    "plt.plot(cumulativeDataA['date'], cumulativeDataA['conversion'], label='A')\n",
    "plt.plot(cumulativeDataB['date'], cumulativeDataB['conversion'], label='B')\n",
    "\n",
    "# задаем масштаб осей\n",
    "plt.axis([datetime(2019, 8, 1), datetime(2019, 8, 31), 0.025, 0.04])\n",
    "plt.title('Кумулятивная конверсия по группам')\n",
    "plt.xlabel('Дата')\n",
    "plt.ylabel('Конверсия')\n",
    "plt.grid()\n",
    "plt.legend()\n",
    "plt.show()"
   ]
  },
  {
   "cell_type": "markdown",
   "metadata": {},
   "source": [
    "В начале теста данные по кумулятивной конверсии обеих групп были примерно на равных значениях. Однако после 6 августа конверсия группы В выросла и зафиксировалась на значении 0.034. Группа А же наооборот опустилась до значения 0.03, где также зафиксировалась. "
   ]
  },
  {
   "cell_type": "markdown",
   "metadata": {},
   "source": [
    "**Построение графика относительного изменения кумулятивной конверсии группы B к группе A**"
   ]
  },
  {
   "cell_type": "code",
   "execution_count": 43,
   "metadata": {},
   "outputs": [
    {
     "data": {
      "text/html": [
       "<div>\n",
       "<style scoped>\n",
       "    .dataframe tbody tr th:only-of-type {\n",
       "        vertical-align: middle;\n",
       "    }\n",
       "\n",
       "    .dataframe tbody tr th {\n",
       "        vertical-align: top;\n",
       "    }\n",
       "\n",
       "    .dataframe thead th {\n",
       "        text-align: right;\n",
       "    }\n",
       "</style>\n",
       "<table border=\"1\" class=\"dataframe\">\n",
       "  <thead>\n",
       "    <tr style=\"text-align: right;\">\n",
       "      <th></th>\n",
       "      <th>date</th>\n",
       "      <th>conversionA</th>\n",
       "      <th>conversionB</th>\n",
       "    </tr>\n",
       "  </thead>\n",
       "  <tbody>\n",
       "    <tr>\n",
       "      <th>0</th>\n",
       "      <td>2019-08-01</td>\n",
       "      <td>0.033380</td>\n",
       "      <td>0.029453</td>\n",
       "    </tr>\n",
       "    <tr>\n",
       "      <th>1</th>\n",
       "      <td>2019-08-02</td>\n",
       "      <td>0.032885</td>\n",
       "      <td>0.034776</td>\n",
       "    </tr>\n",
       "    <tr>\n",
       "      <th>2</th>\n",
       "      <td>2019-08-03</td>\n",
       "      <td>0.036856</td>\n",
       "      <td>0.033833</td>\n",
       "    </tr>\n",
       "    <tr>\n",
       "      <th>3</th>\n",
       "      <td>2019-08-04</td>\n",
       "      <td>0.032787</td>\n",
       "      <td>0.030315</td>\n",
       "    </tr>\n",
       "    <tr>\n",
       "      <th>4</th>\n",
       "      <td>2019-08-05</td>\n",
       "      <td>0.032851</td>\n",
       "      <td>0.030793</td>\n",
       "    </tr>\n",
       "  </tbody>\n",
       "</table>\n",
       "</div>"
      ],
      "text/plain": [
       "        date  conversionA  conversionB\n",
       "0 2019-08-01     0.033380     0.029453\n",
       "1 2019-08-02     0.032885     0.034776\n",
       "2 2019-08-03     0.036856     0.033833\n",
       "3 2019-08-04     0.032787     0.030315\n",
       "4 2019-08-05     0.032851     0.030793"
      ]
     },
     "execution_count": 43,
     "metadata": {},
     "output_type": "execute_result"
    }
   ],
   "source": [
    "mergedCumulativeConversions = cumulativeDataA[['date','conversion']].merge(\n",
    "    cumulativeDataB[['date','conversion']], left_on='date', right_on='date', how='left', suffixes=['A', 'B'])\n",
    "mergedCumulativeConversions.head()"
   ]
  },
  {
   "cell_type": "code",
   "execution_count": 44,
   "metadata": {
    "scrolled": true
   },
   "outputs": [
    {
     "data": {
      "image/png": "[encoded data removed]",
      "text/plain": [
       "<Figure size 1080x360 with 1 Axes>"
      ]
     },
     "metadata": {
      "needs_background": "light"
     },
     "output_type": "display_data"
    }
   ],
   "source": [
    "plt.figure(figsize=(15,5))\n",
    "\n",
    "plt.plot(mergedCumulativeConversions['date'], \n",
    "    mergedCumulativeConversions['conversionB']/mergedCumulativeConversions['conversionA']-1, \n",
    "    label=\"Относительный прирост конверсии группы B относительно группы A\")\n",
    "\n",
    "# добавим пунктирную линию оси X чёрного цвета ('black') со значением оси Y = 0 методом plt.axhline(). \n",
    "plt.axhline(y=0, color='black', linestyle='--')\n",
    "# и ещё две линии оси X серого цвета ('grey') со значением оси Y = 0.2 и Y = 0.1.\n",
    "plt.axhline(y=0.2, color='grey', linestyle='--')\n",
    "plt.axhline(y=0.1, color='grey', linestyle='--')\n",
    "\n",
    "plt.axis([datetime(2019, 8, 1), datetime(2019, 8, 31), - 0.15, 0.25])\n",
    "\n",
    "plt.xlabel('Дата')\n",
    "plt.ylabel('Относительное изменение')\n",
    "plt.grid()\n",
    "plt.legend()\n",
    "plt.show()"
   ]
  },
  {
   "cell_type": "markdown",
   "metadata": {},
   "source": [
    "В начале теста группа B немного проигрывала группе A. Однако 6 августа вырвалась вперёд, вплоть до отметки в 20%, после чего начала постепенно снижаться до 10-13%. Пока что нельзя с полной уверенностью сказать, что конверсия зафиксировалась."
   ]
  },
  {
   "cell_type": "markdown",
   "metadata": {},
   "source": [
    "**Построение точечного графика количества заказов по пользователям**"
   ]
  },
  {
   "cell_type": "markdown",
   "metadata": {},
   "source": [
    "Подсчитаем количество заказов по пользователям и посмотрим на результат."
   ]
  },
  {
   "cell_type": "code",
   "execution_count": 45,
   "metadata": {},
   "outputs": [
    {
     "data": {
      "text/html": [
       "<div>\n",
       "<style scoped>\n",
       "    .dataframe tbody tr th:only-of-type {\n",
       "        vertical-align: middle;\n",
       "    }\n",
       "\n",
       "    .dataframe tbody tr th {\n",
       "        vertical-align: top;\n",
       "    }\n",
       "\n",
       "    .dataframe thead th {\n",
       "        text-align: right;\n",
       "    }\n",
       "</style>\n",
       "<table border=\"1\" class=\"dataframe\">\n",
       "  <thead>\n",
       "    <tr style=\"text-align: right;\">\n",
       "      <th></th>\n",
       "      <th>userId</th>\n",
       "      <th>orders</th>\n",
       "    </tr>\n",
       "  </thead>\n",
       "  <tbody>\n",
       "    <tr>\n",
       "      <th>0</th>\n",
       "      <td>5114589</td>\n",
       "      <td>1</td>\n",
       "    </tr>\n",
       "    <tr>\n",
       "      <th>1</th>\n",
       "      <td>6958315</td>\n",
       "      <td>1</td>\n",
       "    </tr>\n",
       "    <tr>\n",
       "      <th>2</th>\n",
       "      <td>8300375</td>\n",
       "      <td>2</td>\n",
       "    </tr>\n",
       "    <tr>\n",
       "      <th>3</th>\n",
       "      <td>11685486</td>\n",
       "      <td>1</td>\n",
       "    </tr>\n",
       "    <tr>\n",
       "      <th>4</th>\n",
       "      <td>39475350</td>\n",
       "      <td>1</td>\n",
       "    </tr>\n",
       "    <tr>\n",
       "      <th>...</th>\n",
       "      <td>...</td>\n",
       "      <td>...</td>\n",
       "    </tr>\n",
       "    <tr>\n",
       "      <th>1026</th>\n",
       "      <td>4266935830</td>\n",
       "      <td>2</td>\n",
       "    </tr>\n",
       "    <tr>\n",
       "      <th>1027</th>\n",
       "      <td>4278982564</td>\n",
       "      <td>1</td>\n",
       "    </tr>\n",
       "    <tr>\n",
       "      <th>1028</th>\n",
       "      <td>4279090005</td>\n",
       "      <td>1</td>\n",
       "    </tr>\n",
       "    <tr>\n",
       "      <th>1029</th>\n",
       "      <td>4281247801</td>\n",
       "      <td>1</td>\n",
       "    </tr>\n",
       "    <tr>\n",
       "      <th>1030</th>\n",
       "      <td>4283872382</td>\n",
       "      <td>1</td>\n",
       "    </tr>\n",
       "  </tbody>\n",
       "</table>\n",
       "<p>1031 rows × 2 columns</p>\n",
       "</div>"
      ],
      "text/plain": [
       "          userId  orders\n",
       "0        5114589       1\n",
       "1        6958315       1\n",
       "2        8300375       2\n",
       "3       11685486       1\n",
       "4       39475350       1\n",
       "...          ...     ...\n",
       "1026  4266935830       2\n",
       "1027  4278982564       1\n",
       "1028  4279090005       1\n",
       "1029  4281247801       1\n",
       "1030  4283872382       1\n",
       "\n",
       "[1031 rows x 2 columns]"
      ]
     },
     "execution_count": 45,
     "metadata": {},
     "output_type": "execute_result"
    }
   ],
   "source": [
    "ordersByUsers  = orders.drop(['group', 'revenue', 'date'], \n",
    "                             axis=1).groupby('visitorId', as_index=False).agg({'transactionId': 'nunique'})\n",
    "ordersByUsers.columns = ['userId', 'orders']\n",
    "ordersByUsers.sort_values('orders')\n",
    "ordersByUsers"
   ]
  },
  {
   "cell_type": "markdown",
   "metadata": {},
   "source": [
    "Изучим гистограмму распределения количества заказов."
   ]
  },
  {
   "cell_type": "code",
   "execution_count": 46,
   "metadata": {},
   "outputs": [
    {
     "data": {
      "image/png": "[encoded data removed]",
      "text/plain": [
       "<Figure size 432x288 with 1 Axes>"
      ]
     },
     "metadata": {
      "needs_background": "light"
     },
     "output_type": "display_data"
    }
   ],
   "source": [
    "plt.hist(ordersByUsers['orders']) \n",
    "\n",
    "plt.title('Распределение заказов по пользователям')\n",
    "plt.xlabel('Заказы')\n",
    "plt.ylabel('Пользователи')\n",
    "plt.grid()\n",
    "plt.show()"
   ]
  },
  {
   "cell_type": "markdown",
   "metadata": {},
   "source": [
    "Очевидно, что имеются пользователи, оформившие больше одного заказа. Однако определить сколько их проблематично. Оценим распределение заказов ещё одним способом."
   ]
  },
  {
   "cell_type": "code",
   "execution_count": 47,
   "metadata": {},
   "outputs": [
    {
     "data": {
      "image/png": "[encoded data removed]",
      "text/plain": [
       "<Figure size 432x288 with 1 Axes>"
      ]
     },
     "metadata": {
      "needs_background": "light"
     },
     "output_type": "display_data"
    }
   ],
   "source": [
    "x_values = pd.Series(range(0, len(ordersByUsers)))\n",
    "plt.scatter(x_values, ordersByUsers['orders'], alpha=0.05)\n",
    "\n",
    "plt.xlabel('Заказы')\n",
    "plt.ylabel('Пользователи')\n",
    "plt.show()"
   ]
  },
  {
   "cell_type": "markdown",
   "metadata": {},
   "source": [
    "Имеется небольшое количество пользователей оформивших заказ более 2 раз. Они вполне могут быть аномальными."
   ]
  },
  {
   "cell_type": "markdown",
   "metadata": {},
   "source": [
    "**Расчет 95-го и 99-го перцентилей количества заказов на пользователя**"
   ]
  },
  {
   "cell_type": "code",
   "execution_count": 48,
   "metadata": {
    "scrolled": true
   },
   "outputs": [
    {
     "data": {
      "text/plain": [
       "array([2., 4.])"
      ]
     },
     "execution_count": 48,
     "metadata": {},
     "output_type": "execute_result"
    }
   ],
   "source": [
    "np.percentile(ordersByUsers['orders'], [95, 99])"
   ]
  },
  {
   "cell_type": "markdown",
   "metadata": {},
   "source": [
    "Примем 99-й перцентиль количества заказов на пользователя, как аномальный уровень"
   ]
  },
  {
   "cell_type": "code",
   "execution_count": 49,
   "metadata": {},
   "outputs": [],
   "source": [
    "# сохраним его в переменной anomaly_orders\n",
    "anomaly_orders = np.percentile(ordersByUsers['orders'], [99])"
   ]
  },
  {
   "cell_type": "markdown",
   "metadata": {},
   "source": [
    "Не более 5% пользователей совершали более 2 заказов, и не более 1% - больше 4 заказов"
   ]
  },
  {
   "cell_type": "markdown",
   "metadata": {},
   "source": [
    "**Построение точечного графика стоимостей заказов**"
   ]
  },
  {
   "cell_type": "markdown",
   "metadata": {},
   "source": [
    "Изучим гистограмму распределения стоимостей заказов."
   ]
  },
  {
   "cell_type": "code",
   "execution_count": 50,
   "metadata": {},
   "outputs": [
    {
     "data": {
      "image/png": "[encoded data removed]",
      "text/plain": [
       "<Figure size 432x288 with 1 Axes>"
      ]
     },
     "metadata": {
      "needs_background": "light"
     },
     "output_type": "display_data"
    }
   ],
   "source": [
    "plt.hist(orders['revenue'])\n",
    "\n",
    "plt.title('Распределение стоимости заказов')\n",
    "plt.xlabel('Стоимость')\n",
    "plt.ylabel('Заказы')\n",
    "plt.grid()\n",
    "plt.show()"
   ]
  },
  {
   "cell_type": "markdown",
   "metadata": {},
   "source": [
    "На графике не видно заказов стоимостью больше 200 тыс. рублей. Нужно оценить стоимость заказов ещё одним способом."
   ]
  },
  {
   "cell_type": "code",
   "execution_count": 51,
   "metadata": {},
   "outputs": [
    {
     "data": {
      "image/png": "[encoded data removed]",
      "text/plain": [
       "<Figure size 432x288 with 1 Axes>"
      ]
     },
     "metadata": {
      "needs_background": "light"
     },
     "output_type": "display_data"
    }
   ],
   "source": [
    "x_values = pd.Series(range(0, len(orders['revenue'])))\n",
    "plt.scatter(x_values, orders['revenue'])\n",
    "\n",
    "plt.xlabel('Заказы')\n",
    "plt.ylabel('Стоимость')\n",
    "plt.show()"
   ]
  },
  {
   "cell_type": "markdown",
   "metadata": {},
   "source": [
    "Видим очень серьезный выброс (больше  1.2 млн. рублей за заказ) и более скромный - в районе 200 тыс. рублей). Построим еще один график, ограничим его по оси `y` до 150 тыс. рублей."
   ]
  },
  {
   "cell_type": "code",
   "execution_count": 52,
   "metadata": {},
   "outputs": [
    {
     "data": {
      "image/png": "[encoded data removed]",
      "text/plain": [
       "<Figure size 432x288 with 1 Axes>"
      ]
     },
     "metadata": {
      "needs_background": "light"
     },
     "output_type": "display_data"
    }
   ],
   "source": [
    "x_values = pd.Series(range(0, len(orders['revenue'])))\n",
    "plt.scatter(x_values, orders['revenue'])\n",
    "\n",
    "plt.axis([0, 1200, 0, 150000])\n",
    "plt.xlabel('Заказы')\n",
    "plt.ylabel('Стоимость')\n",
    "plt.show()"
   ]
  },
  {
   "cell_type": "markdown",
   "metadata": {},
   "source": [
    "Так же видим выбросы в районе 35-100 тыс. рублей. Основная масса заказов распределена до 20 тыс. рублей. "
   ]
  },
  {
   "cell_type": "markdown",
   "metadata": {},
   "source": [
    "**Расчет 95-го и 99-го перцентилей стоимости заказов**"
   ]
  },
  {
   "cell_type": "code",
   "execution_count": 53,
   "metadata": {
    "scrolled": true
   },
   "outputs": [
    {
     "data": {
      "text/plain": [
       "array([28000. , 58233.2])"
      ]
     },
     "execution_count": 53,
     "metadata": {},
     "output_type": "execute_result"
    }
   ],
   "source": [
    "np.percentile(orders['revenue'], [95, 99])"
   ]
  },
  {
   "cell_type": "markdown",
   "metadata": {},
   "source": [
    "Примем 95-й перцентиль стоимости заказа, как аномальный уровень"
   ]
  },
  {
   "cell_type": "code",
   "execution_count": 54,
   "metadata": {
    "scrolled": true
   },
   "outputs": [],
   "source": [
    "# сохраним его в переменной anomaly_revenue\n",
    "anomaly_revenue = np.percentile(orders['revenue'], [95])"
   ]
  },
  {
   "cell_type": "markdown",
   "metadata": {},
   "source": [
    "Не более, чем у 5% заказов чек больше 28 000 рублей. И не больше, чем у 1%  больше 58 233.2 рублей."
   ]
  },
  {
   "cell_type": "markdown",
   "metadata": {},
   "source": [
    "**Расчет статистической значимости различий в конверсии между группами по «сырым» данным**"
   ]
  },
  {
   "cell_type": "markdown",
   "metadata": {},
   "source": [
    "Посчитаем статистическую значимость различий в конверсии и среднем чеке между группами по «сырым» данным — без удаления аномальных пользователей."
   ]
  },
  {
   "cell_type": "markdown",
   "metadata": {},
   "source": [
    "Сформулируем гипотезы. \n",
    "\n",
    "* Нулевая H0: различия в конверсиях между группами по «сырым» данным статистически не значимы.\n",
    "\n",
    "* Альтернативная H1: различия в конверсиях между группами по «сырым» данным статистически значимы."
   ]
  },
  {
   "cell_type": "code",
   "execution_count": 55,
   "metadata": {
    "scrolled": true
   },
   "outputs": [
    {
     "data": {
      "text/html": [
       "<div>\n",
       "<style scoped>\n",
       "    .dataframe tbody tr th:only-of-type {\n",
       "        vertical-align: middle;\n",
       "    }\n",
       "\n",
       "    .dataframe tbody tr th {\n",
       "        vertical-align: top;\n",
       "    }\n",
       "\n",
       "    .dataframe thead th {\n",
       "        text-align: right;\n",
       "    }\n",
       "</style>\n",
       "<table border=\"1\" class=\"dataframe\">\n",
       "  <thead>\n",
       "    <tr style=\"text-align: right;\">\n",
       "      <th></th>\n",
       "      <th>date</th>\n",
       "      <th>visitorsPerDateA</th>\n",
       "    </tr>\n",
       "  </thead>\n",
       "  <tbody>\n",
       "    <tr>\n",
       "      <th>0</th>\n",
       "      <td>2019-08-01</td>\n",
       "      <td>719</td>\n",
       "    </tr>\n",
       "    <tr>\n",
       "      <th>1</th>\n",
       "      <td>2019-08-02</td>\n",
       "      <td>619</td>\n",
       "    </tr>\n",
       "    <tr>\n",
       "      <th>2</th>\n",
       "      <td>2019-08-03</td>\n",
       "      <td>507</td>\n",
       "    </tr>\n",
       "    <tr>\n",
       "      <th>3</th>\n",
       "      <td>2019-08-04</td>\n",
       "      <td>717</td>\n",
       "    </tr>\n",
       "    <tr>\n",
       "      <th>4</th>\n",
       "      <td>2019-08-05</td>\n",
       "      <td>756</td>\n",
       "    </tr>\n",
       "  </tbody>\n",
       "</table>\n",
       "</div>"
      ],
      "text/plain": [
       "        date  visitorsPerDateA\n",
       "0 2019-08-01               719\n",
       "1 2019-08-02               619\n",
       "2 2019-08-03               507\n",
       "3 2019-08-04               717\n",
       "4 2019-08-05               756"
      ]
     },
     "execution_count": 55,
     "metadata": {},
     "output_type": "execute_result"
    }
   ],
   "source": [
    "# получаем агрегированные по дням данные о посетителях группы А\n",
    "visitorsADaily = visitors[visitors['group'] == 'A'][['date', 'visitors']]\n",
    "visitorsADaily.columns = ['date', 'visitorsPerDateA']\n",
    "visitorsADaily.head()"
   ]
  },
  {
   "cell_type": "code",
   "execution_count": 56,
   "metadata": {},
   "outputs": [
    {
     "data": {
      "text/html": [
       "<div>\n",
       "<style scoped>\n",
       "    .dataframe tbody tr th:only-of-type {\n",
       "        vertical-align: middle;\n",
       "    }\n",
       "\n",
       "    .dataframe tbody tr th {\n",
       "        vertical-align: top;\n",
       "    }\n",
       "\n",
       "    .dataframe thead th {\n",
       "        text-align: right;\n",
       "    }\n",
       "</style>\n",
       "<table border=\"1\" class=\"dataframe\">\n",
       "  <thead>\n",
       "    <tr style=\"text-align: right;\">\n",
       "      <th></th>\n",
       "      <th>date</th>\n",
       "      <th>visitorsCummulativeA</th>\n",
       "    </tr>\n",
       "  </thead>\n",
       "  <tbody>\n",
       "    <tr>\n",
       "      <th>0</th>\n",
       "      <td>2019-08-01</td>\n",
       "      <td>719</td>\n",
       "    </tr>\n",
       "    <tr>\n",
       "      <th>1</th>\n",
       "      <td>2019-08-02</td>\n",
       "      <td>1338</td>\n",
       "    </tr>\n",
       "    <tr>\n",
       "      <th>2</th>\n",
       "      <td>2019-08-03</td>\n",
       "      <td>1845</td>\n",
       "    </tr>\n",
       "    <tr>\n",
       "      <th>3</th>\n",
       "      <td>2019-08-04</td>\n",
       "      <td>2562</td>\n",
       "    </tr>\n",
       "    <tr>\n",
       "      <th>4</th>\n",
       "      <td>2019-08-05</td>\n",
       "      <td>3318</td>\n",
       "    </tr>\n",
       "  </tbody>\n",
       "</table>\n",
       "</div>"
      ],
      "text/plain": [
       "        date  visitorsCummulativeA\n",
       "0 2019-08-01                   719\n",
       "1 2019-08-02                  1338\n",
       "2 2019-08-03                  1845\n",
       "3 2019-08-04                  2562\n",
       "4 2019-08-05                  3318"
      ]
     },
     "execution_count": 56,
     "metadata": {},
     "output_type": "execute_result"
    }
   ],
   "source": [
    "# получаем кумулятивные по дням данные о посетителях группы А\n",
    "visitorsACummulative = visitorsADaily.apply(\n",
    "    lambda x: visitorsADaily[visitorsADaily['date'] <= x['date']].agg(\n",
    "        {'date': 'max', 'visitorsPerDateA': 'sum'}\n",
    "    ),\n",
    "    axis=1,\n",
    ")\n",
    "visitorsACummulative.columns = ['date', 'visitorsCummulativeA']\n",
    "visitorsACummulative.head()"
   ]
  },
  {
   "cell_type": "code",
   "execution_count": 57,
   "metadata": {},
   "outputs": [
    {
     "data": {
      "text/html": [
       "<div>\n",
       "<style scoped>\n",
       "    .dataframe tbody tr th:only-of-type {\n",
       "        vertical-align: middle;\n",
       "    }\n",
       "\n",
       "    .dataframe tbody tr th {\n",
       "        vertical-align: top;\n",
       "    }\n",
       "\n",
       "    .dataframe thead th {\n",
       "        text-align: right;\n",
       "    }\n",
       "</style>\n",
       "<table border=\"1\" class=\"dataframe\">\n",
       "  <thead>\n",
       "    <tr style=\"text-align: right;\">\n",
       "      <th></th>\n",
       "      <th>date</th>\n",
       "      <th>visitorsPerDateB</th>\n",
       "    </tr>\n",
       "  </thead>\n",
       "  <tbody>\n",
       "    <tr>\n",
       "      <th>31</th>\n",
       "      <td>2019-08-01</td>\n",
       "      <td>713</td>\n",
       "    </tr>\n",
       "    <tr>\n",
       "      <th>32</th>\n",
       "      <td>2019-08-02</td>\n",
       "      <td>581</td>\n",
       "    </tr>\n",
       "    <tr>\n",
       "      <th>33</th>\n",
       "      <td>2019-08-03</td>\n",
       "      <td>509</td>\n",
       "    </tr>\n",
       "    <tr>\n",
       "      <th>34</th>\n",
       "      <td>2019-08-04</td>\n",
       "      <td>770</td>\n",
       "    </tr>\n",
       "    <tr>\n",
       "      <th>35</th>\n",
       "      <td>2019-08-05</td>\n",
       "      <td>707</td>\n",
       "    </tr>\n",
       "  </tbody>\n",
       "</table>\n",
       "</div>"
      ],
      "text/plain": [
       "         date  visitorsPerDateB\n",
       "31 2019-08-01               713\n",
       "32 2019-08-02               581\n",
       "33 2019-08-03               509\n",
       "34 2019-08-04               770\n",
       "35 2019-08-05               707"
      ]
     },
     "execution_count": 57,
     "metadata": {},
     "output_type": "execute_result"
    }
   ],
   "source": [
    "# получаем агрегированные кумулятивные по дням данные о посетителях группы В\n",
    "visitorsBDaily = visitors[visitors['group'] == 'B'][['date', 'visitors']]\n",
    "visitorsBDaily.columns = ['date', 'visitorsPerDateB']\n",
    "visitorsBDaily.head()"
   ]
  },
  {
   "cell_type": "code",
   "execution_count": 58,
   "metadata": {},
   "outputs": [
    {
     "data": {
      "text/html": [
       "<div>\n",
       "<style scoped>\n",
       "    .dataframe tbody tr th:only-of-type {\n",
       "        vertical-align: middle;\n",
       "    }\n",
       "\n",
       "    .dataframe tbody tr th {\n",
       "        vertical-align: top;\n",
       "    }\n",
       "\n",
       "    .dataframe thead th {\n",
       "        text-align: right;\n",
       "    }\n",
       "</style>\n",
       "<table border=\"1\" class=\"dataframe\">\n",
       "  <thead>\n",
       "    <tr style=\"text-align: right;\">\n",
       "      <th></th>\n",
       "      <th>date</th>\n",
       "      <th>visitorsCummulativeB</th>\n",
       "    </tr>\n",
       "  </thead>\n",
       "  <tbody>\n",
       "    <tr>\n",
       "      <th>31</th>\n",
       "      <td>2019-08-01</td>\n",
       "      <td>713</td>\n",
       "    </tr>\n",
       "    <tr>\n",
       "      <th>32</th>\n",
       "      <td>2019-08-02</td>\n",
       "      <td>1294</td>\n",
       "    </tr>\n",
       "    <tr>\n",
       "      <th>33</th>\n",
       "      <td>2019-08-03</td>\n",
       "      <td>1803</td>\n",
       "    </tr>\n",
       "    <tr>\n",
       "      <th>34</th>\n",
       "      <td>2019-08-04</td>\n",
       "      <td>2573</td>\n",
       "    </tr>\n",
       "    <tr>\n",
       "      <th>35</th>\n",
       "      <td>2019-08-05</td>\n",
       "      <td>3280</td>\n",
       "    </tr>\n",
       "  </tbody>\n",
       "</table>\n",
       "</div>"
      ],
      "text/plain": [
       "         date  visitorsCummulativeB\n",
       "31 2019-08-01                   713\n",
       "32 2019-08-02                  1294\n",
       "33 2019-08-03                  1803\n",
       "34 2019-08-04                  2573\n",
       "35 2019-08-05                  3280"
      ]
     },
     "execution_count": 58,
     "metadata": {},
     "output_type": "execute_result"
    }
   ],
   "source": [
    "# получаем кумулятивные по дням данные о посетителях группы В\n",
    "visitorsBCummulative = visitorsBDaily.apply(\n",
    "    lambda x: visitorsBDaily[visitorsBDaily['date'] <= x['date']].agg(\n",
    "        {'date': 'max', 'visitorsPerDateB': 'sum'}\n",
    "    ),\n",
    "    axis=1,\n",
    ")\n",
    "visitorsBCummulative.columns = ['date', 'visitorsCummulativeB']\n",
    "visitorsBCummulative.head()"
   ]
  },
  {
   "cell_type": "code",
   "execution_count": 59,
   "metadata": {},
   "outputs": [
    {
     "data": {
      "text/html": [
       "<div>\n",
       "<style scoped>\n",
       "    .dataframe tbody tr th:only-of-type {\n",
       "        vertical-align: middle;\n",
       "    }\n",
       "\n",
       "    .dataframe tbody tr th {\n",
       "        vertical-align: top;\n",
       "    }\n",
       "\n",
       "    .dataframe thead th {\n",
       "        text-align: right;\n",
       "    }\n",
       "</style>\n",
       "<table border=\"1\" class=\"dataframe\">\n",
       "  <thead>\n",
       "    <tr style=\"text-align: right;\">\n",
       "      <th></th>\n",
       "      <th>date</th>\n",
       "      <th>ordersPerDateA</th>\n",
       "      <th>revenuePerDateA</th>\n",
       "    </tr>\n",
       "  </thead>\n",
       "  <tbody>\n",
       "    <tr>\n",
       "      <th>0</th>\n",
       "      <td>2019-08-01</td>\n",
       "      <td>24</td>\n",
       "      <td>148579</td>\n",
       "    </tr>\n",
       "    <tr>\n",
       "      <th>1</th>\n",
       "      <td>2019-08-02</td>\n",
       "      <td>20</td>\n",
       "      <td>93822</td>\n",
       "    </tr>\n",
       "    <tr>\n",
       "      <th>2</th>\n",
       "      <td>2019-08-03</td>\n",
       "      <td>24</td>\n",
       "      <td>112473</td>\n",
       "    </tr>\n",
       "    <tr>\n",
       "      <th>3</th>\n",
       "      <td>2019-08-04</td>\n",
       "      <td>16</td>\n",
       "      <td>70825</td>\n",
       "    </tr>\n",
       "    <tr>\n",
       "      <th>4</th>\n",
       "      <td>2019-08-05</td>\n",
       "      <td>25</td>\n",
       "      <td>124218</td>\n",
       "    </tr>\n",
       "  </tbody>\n",
       "</table>\n",
       "</div>"
      ],
      "text/plain": [
       "        date  ordersPerDateA  revenuePerDateA\n",
       "0 2019-08-01              24           148579\n",
       "1 2019-08-02              20            93822\n",
       "2 2019-08-03              24           112473\n",
       "3 2019-08-04              16            70825\n",
       "4 2019-08-05              25           124218"
      ]
     },
     "execution_count": 59,
     "metadata": {},
     "output_type": "execute_result"
    }
   ],
   "source": [
    "# получаем агрегированные по дням данные о заказах и выручке группы А\n",
    "ordersADaily = (\n",
    "    orders[orders['group'] == 'A'][['date', 'transactionId', 'visitorId', 'revenue']]\n",
    "    .groupby('date', as_index=False)\n",
    "    .agg({'transactionId': pd.Series.nunique, 'revenue': 'sum'})\n",
    ")\n",
    "ordersADaily.columns = ['date', 'ordersPerDateA', 'revenuePerDateA']\n",
    "ordersADaily.head()"
   ]
  },
  {
   "cell_type": "code",
   "execution_count": 60,
   "metadata": {
    "scrolled": true
   },
   "outputs": [
    {
     "data": {
      "text/html": [
       "<div>\n",
       "<style scoped>\n",
       "    .dataframe tbody tr th:only-of-type {\n",
       "        vertical-align: middle;\n",
       "    }\n",
       "\n",
       "    .dataframe tbody tr th {\n",
       "        vertical-align: top;\n",
       "    }\n",
       "\n",
       "    .dataframe thead th {\n",
       "        text-align: right;\n",
       "    }\n",
       "</style>\n",
       "<table border=\"1\" class=\"dataframe\">\n",
       "  <thead>\n",
       "    <tr style=\"text-align: right;\">\n",
       "      <th></th>\n",
       "      <th>date</th>\n",
       "      <th>ordersCummulativeA</th>\n",
       "      <th>revenueCummulativeA</th>\n",
       "    </tr>\n",
       "  </thead>\n",
       "  <tbody>\n",
       "    <tr>\n",
       "      <th>0</th>\n",
       "      <td>2019-08-01</td>\n",
       "      <td>24</td>\n",
       "      <td>148579</td>\n",
       "    </tr>\n",
       "    <tr>\n",
       "      <th>1</th>\n",
       "      <td>2019-08-02</td>\n",
       "      <td>44</td>\n",
       "      <td>242401</td>\n",
       "    </tr>\n",
       "    <tr>\n",
       "      <th>2</th>\n",
       "      <td>2019-08-03</td>\n",
       "      <td>68</td>\n",
       "      <td>354874</td>\n",
       "    </tr>\n",
       "    <tr>\n",
       "      <th>3</th>\n",
       "      <td>2019-08-04</td>\n",
       "      <td>84</td>\n",
       "      <td>425699</td>\n",
       "    </tr>\n",
       "    <tr>\n",
       "      <th>4</th>\n",
       "      <td>2019-08-05</td>\n",
       "      <td>109</td>\n",
       "      <td>549917</td>\n",
       "    </tr>\n",
       "  </tbody>\n",
       "</table>\n",
       "</div>"
      ],
      "text/plain": [
       "        date  ordersCummulativeA  revenueCummulativeA\n",
       "0 2019-08-01                  24               148579\n",
       "1 2019-08-02                  44               242401\n",
       "2 2019-08-03                  68               354874\n",
       "3 2019-08-04                  84               425699\n",
       "4 2019-08-05                 109               549917"
      ]
     },
     "execution_count": 60,
     "metadata": {},
     "output_type": "execute_result"
    }
   ],
   "source": [
    "# получаем кумулятивные по дням данные о заказах и выручке группы А\n",
    "ordersACummulative = ordersADaily.apply(\n",
    "    lambda x: ordersADaily[ordersADaily['date'] <= x['date']].agg(\n",
    "        {'date': 'max', 'ordersPerDateA': 'sum', 'revenuePerDateA': 'sum'}\n",
    "    ),\n",
    "    axis=1,\n",
    ").sort_values(by=['date'])\n",
    "ordersACummulative.columns = [\n",
    "    'date',\n",
    "    'ordersCummulativeA',\n",
    "    'revenueCummulativeA',\n",
    "]\n",
    "ordersACummulative.head()"
   ]
  },
  {
   "cell_type": "code",
   "execution_count": 61,
   "metadata": {},
   "outputs": [
    {
     "data": {
      "text/html": [
       "<div>\n",
       "<style scoped>\n",
       "    .dataframe tbody tr th:only-of-type {\n",
       "        vertical-align: middle;\n",
       "    }\n",
       "\n",
       "    .dataframe tbody tr th {\n",
       "        vertical-align: top;\n",
       "    }\n",
       "\n",
       "    .dataframe thead th {\n",
       "        text-align: right;\n",
       "    }\n",
       "</style>\n",
       "<table border=\"1\" class=\"dataframe\">\n",
       "  <thead>\n",
       "    <tr style=\"text-align: right;\">\n",
       "      <th></th>\n",
       "      <th>date</th>\n",
       "      <th>ordersPerDateB</th>\n",
       "      <th>revenuePerDateB</th>\n",
       "    </tr>\n",
       "  </thead>\n",
       "  <tbody>\n",
       "    <tr>\n",
       "      <th>0</th>\n",
       "      <td>2019-08-01</td>\n",
       "      <td>21</td>\n",
       "      <td>101217</td>\n",
       "    </tr>\n",
       "    <tr>\n",
       "      <th>1</th>\n",
       "      <td>2019-08-02</td>\n",
       "      <td>24</td>\n",
       "      <td>165531</td>\n",
       "    </tr>\n",
       "    <tr>\n",
       "      <th>2</th>\n",
       "      <td>2019-08-03</td>\n",
       "      <td>16</td>\n",
       "      <td>114248</td>\n",
       "    </tr>\n",
       "    <tr>\n",
       "      <th>3</th>\n",
       "      <td>2019-08-04</td>\n",
       "      <td>17</td>\n",
       "      <td>108571</td>\n",
       "    </tr>\n",
       "    <tr>\n",
       "      <th>4</th>\n",
       "      <td>2019-08-05</td>\n",
       "      <td>23</td>\n",
       "      <td>92428</td>\n",
       "    </tr>\n",
       "  </tbody>\n",
       "</table>\n",
       "</div>"
      ],
      "text/plain": [
       "        date  ordersPerDateB  revenuePerDateB\n",
       "0 2019-08-01              21           101217\n",
       "1 2019-08-02              24           165531\n",
       "2 2019-08-03              16           114248\n",
       "3 2019-08-04              17           108571\n",
       "4 2019-08-05              23            92428"
      ]
     },
     "execution_count": 61,
     "metadata": {},
     "output_type": "execute_result"
    }
   ],
   "source": [
    "# получаем агрегированные по дням данные о заказах и выручке группы В\n",
    "ordersBDaily = (\n",
    "    orders[orders['group'] == 'B'][['date', 'transactionId', 'visitorId', 'revenue']]\n",
    "    .groupby('date', as_index=False)\n",
    "    .agg({'transactionId': pd.Series.nunique, 'revenue': 'sum'})\n",
    ")\n",
    "ordersBDaily.columns = ['date', 'ordersPerDateB', 'revenuePerDateB']\n",
    "ordersBDaily.head()"
   ]
  },
  {
   "cell_type": "code",
   "execution_count": 62,
   "metadata": {},
   "outputs": [
    {
     "data": {
      "text/html": [
       "<div>\n",
       "<style scoped>\n",
       "    .dataframe tbody tr th:only-of-type {\n",
       "        vertical-align: middle;\n",
       "    }\n",
       "\n",
       "    .dataframe tbody tr th {\n",
       "        vertical-align: top;\n",
       "    }\n",
       "\n",
       "    .dataframe thead th {\n",
       "        text-align: right;\n",
       "    }\n",
       "</style>\n",
       "<table border=\"1\" class=\"dataframe\">\n",
       "  <thead>\n",
       "    <tr style=\"text-align: right;\">\n",
       "      <th></th>\n",
       "      <th>date</th>\n",
       "      <th>ordersCummulativeB</th>\n",
       "      <th>revenueCummulativeB</th>\n",
       "    </tr>\n",
       "  </thead>\n",
       "  <tbody>\n",
       "    <tr>\n",
       "      <th>0</th>\n",
       "      <td>2019-08-01</td>\n",
       "      <td>21</td>\n",
       "      <td>101217</td>\n",
       "    </tr>\n",
       "    <tr>\n",
       "      <th>1</th>\n",
       "      <td>2019-08-02</td>\n",
       "      <td>45</td>\n",
       "      <td>266748</td>\n",
       "    </tr>\n",
       "    <tr>\n",
       "      <th>2</th>\n",
       "      <td>2019-08-03</td>\n",
       "      <td>61</td>\n",
       "      <td>380996</td>\n",
       "    </tr>\n",
       "    <tr>\n",
       "      <th>3</th>\n",
       "      <td>2019-08-04</td>\n",
       "      <td>78</td>\n",
       "      <td>489567</td>\n",
       "    </tr>\n",
       "    <tr>\n",
       "      <th>4</th>\n",
       "      <td>2019-08-05</td>\n",
       "      <td>101</td>\n",
       "      <td>581995</td>\n",
       "    </tr>\n",
       "  </tbody>\n",
       "</table>\n",
       "</div>"
      ],
      "text/plain": [
       "        date  ordersCummulativeB  revenueCummulativeB\n",
       "0 2019-08-01                  21               101217\n",
       "1 2019-08-02                  45               266748\n",
       "2 2019-08-03                  61               380996\n",
       "3 2019-08-04                  78               489567\n",
       "4 2019-08-05                 101               581995"
      ]
     },
     "execution_count": 62,
     "metadata": {},
     "output_type": "execute_result"
    }
   ],
   "source": [
    "# получаем кумулятивные по дням данные о заказах и выручке группы В\n",
    "ordersBCummulative = ordersBDaily.apply(\n",
    "    lambda x: ordersBDaily[ordersBDaily['date'] <= x['date']].agg(\n",
    "        {'date': 'max', 'ordersPerDateB': 'sum', 'revenuePerDateB': 'sum'}\n",
    "    ),\n",
    "    axis=1,\n",
    ").sort_values(by=['date'])\n",
    "ordersBCummulative.columns = [\n",
    "    'date',\n",
    "    'ordersCummulativeB',\n",
    "    'revenueCummulativeB',\n",
    "]\n",
    "ordersBCummulative.head()"
   ]
  },
  {
   "cell_type": "code",
   "execution_count": 63,
   "metadata": {},
   "outputs": [
    {
     "data": {
      "text/html": [
       "<div>\n",
       "<style scoped>\n",
       "    .dataframe tbody tr th:only-of-type {\n",
       "        vertical-align: middle;\n",
       "    }\n",
       "\n",
       "    .dataframe tbody tr th {\n",
       "        vertical-align: top;\n",
       "    }\n",
       "\n",
       "    .dataframe thead th {\n",
       "        text-align: right;\n",
       "    }\n",
       "</style>\n",
       "<table border=\"1\" class=\"dataframe\">\n",
       "  <thead>\n",
       "    <tr style=\"text-align: right;\">\n",
       "      <th></th>\n",
       "      <th>date</th>\n",
       "      <th>ordersPerDateA</th>\n",
       "      <th>revenuePerDateA</th>\n",
       "      <th>ordersPerDateB</th>\n",
       "      <th>revenuePerDateB</th>\n",
       "      <th>ordersCummulativeA</th>\n",
       "      <th>revenueCummulativeA</th>\n",
       "      <th>ordersCummulativeB</th>\n",
       "      <th>revenueCummulativeB</th>\n",
       "      <th>visitorsPerDateA</th>\n",
       "      <th>visitorsPerDateB</th>\n",
       "      <th>visitorsCummulativeA</th>\n",
       "      <th>visitorsCummulativeB</th>\n",
       "    </tr>\n",
       "  </thead>\n",
       "  <tbody>\n",
       "    <tr>\n",
       "      <th>0</th>\n",
       "      <td>2019-08-01</td>\n",
       "      <td>24</td>\n",
       "      <td>148579</td>\n",
       "      <td>21</td>\n",
       "      <td>101217</td>\n",
       "      <td>24</td>\n",
       "      <td>148579</td>\n",
       "      <td>21</td>\n",
       "      <td>101217</td>\n",
       "      <td>719</td>\n",
       "      <td>713</td>\n",
       "      <td>719</td>\n",
       "      <td>713</td>\n",
       "    </tr>\n",
       "    <tr>\n",
       "      <th>1</th>\n",
       "      <td>2019-08-02</td>\n",
       "      <td>20</td>\n",
       "      <td>93822</td>\n",
       "      <td>24</td>\n",
       "      <td>165531</td>\n",
       "      <td>44</td>\n",
       "      <td>242401</td>\n",
       "      <td>45</td>\n",
       "      <td>266748</td>\n",
       "      <td>619</td>\n",
       "      <td>581</td>\n",
       "      <td>1338</td>\n",
       "      <td>1294</td>\n",
       "    </tr>\n",
       "    <tr>\n",
       "      <th>2</th>\n",
       "      <td>2019-08-03</td>\n",
       "      <td>24</td>\n",
       "      <td>112473</td>\n",
       "      <td>16</td>\n",
       "      <td>114248</td>\n",
       "      <td>68</td>\n",
       "      <td>354874</td>\n",
       "      <td>61</td>\n",
       "      <td>380996</td>\n",
       "      <td>507</td>\n",
       "      <td>509</td>\n",
       "      <td>1845</td>\n",
       "      <td>1803</td>\n",
       "    </tr>\n",
       "    <tr>\n",
       "      <th>3</th>\n",
       "      <td>2019-08-04</td>\n",
       "      <td>16</td>\n",
       "      <td>70825</td>\n",
       "      <td>17</td>\n",
       "      <td>108571</td>\n",
       "      <td>84</td>\n",
       "      <td>425699</td>\n",
       "      <td>78</td>\n",
       "      <td>489567</td>\n",
       "      <td>717</td>\n",
       "      <td>770</td>\n",
       "      <td>2562</td>\n",
       "      <td>2573</td>\n",
       "    </tr>\n",
       "    <tr>\n",
       "      <th>4</th>\n",
       "      <td>2019-08-05</td>\n",
       "      <td>25</td>\n",
       "      <td>124218</td>\n",
       "      <td>23</td>\n",
       "      <td>92428</td>\n",
       "      <td>109</td>\n",
       "      <td>549917</td>\n",
       "      <td>101</td>\n",
       "      <td>581995</td>\n",
       "      <td>756</td>\n",
       "      <td>707</td>\n",
       "      <td>3318</td>\n",
       "      <td>3280</td>\n",
       "    </tr>\n",
       "  </tbody>\n",
       "</table>\n",
       "</div>"
      ],
      "text/plain": [
       "        date  ordersPerDateA  revenuePerDateA  ordersPerDateB  \\\n",
       "0 2019-08-01              24           148579              21   \n",
       "1 2019-08-02              20            93822              24   \n",
       "2 2019-08-03              24           112473              16   \n",
       "3 2019-08-04              16            70825              17   \n",
       "4 2019-08-05              25           124218              23   \n",
       "\n",
       "   revenuePerDateB  ordersCummulativeA  revenueCummulativeA  \\\n",
       "0           101217                  24               148579   \n",
       "1           165531                  44               242401   \n",
       "2           114248                  68               354874   \n",
       "3           108571                  84               425699   \n",
       "4            92428                 109               549917   \n",
       "\n",
       "   ordersCummulativeB  revenueCummulativeB  visitorsPerDateA  \\\n",
       "0                  21               101217               719   \n",
       "1                  45               266748               619   \n",
       "2                  61               380996               507   \n",
       "3                  78               489567               717   \n",
       "4                 101               581995               756   \n",
       "\n",
       "   visitorsPerDateB  visitorsCummulativeA  visitorsCummulativeB  \n",
       "0               713                   719                   713  \n",
       "1               581                  1338                  1294  \n",
       "2               509                  1845                  1803  \n",
       "3               770                  2562                  2573  \n",
       "4               707                  3318                  3280  "
      ]
     },
     "execution_count": 63,
     "metadata": {},
     "output_type": "execute_result"
    }
   ],
   "source": [
    "# объединяем по дате все полученные кумулятивные данные в один датафрейм\n",
    "data = (\n",
    "    ordersADaily.merge(\n",
    "        ordersBDaily, left_on='date', right_on='date', how='left'\n",
    "    )\n",
    "    .merge(ordersACummulative, left_on='date', right_on='date', how='left')\n",
    "    .merge(ordersBCummulative, left_on='date', right_on='date', how='left')\n",
    "    .merge(visitorsADaily, left_on='date', right_on='date', how='left')\n",
    "    .merge(visitorsBDaily, left_on='date', right_on='date', how='left')\n",
    "    .merge(visitorsACummulative, left_on='date', right_on='date', how='left')\n",
    "    .merge(visitorsBCummulative, left_on='date', right_on='date', how='left')\n",
    ")\n",
    "data.head()"
   ]
  },
  {
   "cell_type": "markdown",
   "metadata": {},
   "source": [
    "Создадим переменные ordersByUsersA и ordersByUsersB со столбцами ['userId', 'orders']. В них для пользователей, которые заказывали хотя бы 1 раз, укажем число совершённых заказов."
   ]
  },
  {
   "cell_type": "code",
   "execution_count": 64,
   "metadata": {},
   "outputs": [
    {
     "data": {
      "text/html": [
       "<div>\n",
       "<style scoped>\n",
       "    .dataframe tbody tr th:only-of-type {\n",
       "        vertical-align: middle;\n",
       "    }\n",
       "\n",
       "    .dataframe tbody tr th {\n",
       "        vertical-align: top;\n",
       "    }\n",
       "\n",
       "    .dataframe thead th {\n",
       "        text-align: right;\n",
       "    }\n",
       "</style>\n",
       "<table border=\"1\" class=\"dataframe\">\n",
       "  <thead>\n",
       "    <tr style=\"text-align: right;\">\n",
       "      <th></th>\n",
       "      <th>userId</th>\n",
       "      <th>orders</th>\n",
       "    </tr>\n",
       "  </thead>\n",
       "  <tbody>\n",
       "    <tr>\n",
       "      <th>0</th>\n",
       "      <td>8300375</td>\n",
       "      <td>1</td>\n",
       "    </tr>\n",
       "    <tr>\n",
       "      <th>1</th>\n",
       "      <td>11685486</td>\n",
       "      <td>1</td>\n",
       "    </tr>\n",
       "    <tr>\n",
       "      <th>2</th>\n",
       "      <td>54447517</td>\n",
       "      <td>1</td>\n",
       "    </tr>\n",
       "    <tr>\n",
       "      <th>3</th>\n",
       "      <td>66685450</td>\n",
       "      <td>1</td>\n",
       "    </tr>\n",
       "    <tr>\n",
       "      <th>4</th>\n",
       "      <td>78758296</td>\n",
       "      <td>1</td>\n",
       "    </tr>\n",
       "  </tbody>\n",
       "</table>\n",
       "</div>"
      ],
      "text/plain": [
       "     userId  orders\n",
       "0   8300375       1\n",
       "1  11685486       1\n",
       "2  54447517       1\n",
       "3  66685450       1\n",
       "4  78758296       1"
      ]
     },
     "execution_count": 64,
     "metadata": {},
     "output_type": "execute_result"
    }
   ],
   "source": [
    "ordersByUsersA = (\n",
    "    orders[orders['group'] == 'A']\n",
    "    .groupby('visitorId', as_index=False)\n",
    "    .agg({'transactionId': pd.Series.nunique})\n",
    ")\n",
    "ordersByUsersA.columns = ['userId', 'orders']\n",
    "ordersByUsersA.head()"
   ]
  },
  {
   "cell_type": "code",
   "execution_count": 65,
   "metadata": {},
   "outputs": [
    {
     "data": {
      "text/html": [
       "<div>\n",
       "<style scoped>\n",
       "    .dataframe tbody tr th:only-of-type {\n",
       "        vertical-align: middle;\n",
       "    }\n",
       "\n",
       "    .dataframe tbody tr th {\n",
       "        vertical-align: top;\n",
       "    }\n",
       "\n",
       "    .dataframe thead th {\n",
       "        text-align: right;\n",
       "    }\n",
       "</style>\n",
       "<table border=\"1\" class=\"dataframe\">\n",
       "  <thead>\n",
       "    <tr style=\"text-align: right;\">\n",
       "      <th></th>\n",
       "      <th>userId</th>\n",
       "      <th>orders</th>\n",
       "    </tr>\n",
       "  </thead>\n",
       "  <tbody>\n",
       "    <tr>\n",
       "      <th>0</th>\n",
       "      <td>5114589</td>\n",
       "      <td>1</td>\n",
       "    </tr>\n",
       "    <tr>\n",
       "      <th>1</th>\n",
       "      <td>6958315</td>\n",
       "      <td>1</td>\n",
       "    </tr>\n",
       "    <tr>\n",
       "      <th>2</th>\n",
       "      <td>8300375</td>\n",
       "      <td>1</td>\n",
       "    </tr>\n",
       "    <tr>\n",
       "      <th>3</th>\n",
       "      <td>39475350</td>\n",
       "      <td>1</td>\n",
       "    </tr>\n",
       "    <tr>\n",
       "      <th>4</th>\n",
       "      <td>47206413</td>\n",
       "      <td>1</td>\n",
       "    </tr>\n",
       "  </tbody>\n",
       "</table>\n",
       "</div>"
      ],
      "text/plain": [
       "     userId  orders\n",
       "0   5114589       1\n",
       "1   6958315       1\n",
       "2   8300375       1\n",
       "3  39475350       1\n",
       "4  47206413       1"
      ]
     },
     "execution_count": 65,
     "metadata": {},
     "output_type": "execute_result"
    }
   ],
   "source": [
    "ordersByUsersB = (\n",
    "    orders[orders['group'] == 'B']\n",
    "    .groupby('visitorId', as_index=False)\n",
    "    .agg({'transactionId': pd.Series.nunique})\n",
    ")\n",
    "ordersByUsersB.columns = ['userId', 'orders'] \n",
    "ordersByUsersB.head()"
   ]
  },
  {
   "cell_type": "markdown",
   "metadata": {},
   "source": [
    "Объявим переменные sampleA и sampleB, в которых пользователям из разных групп будет соответствовать количество заказов. Тем, кто ничего не заказал, будут соответствовать нули. Это нужно, чтобы подготовить выборки к проверке критерием Манна-Уитни."
   ]
  },
  {
   "cell_type": "code",
   "execution_count": 66,
   "metadata": {},
   "outputs": [],
   "source": [
    "sampleA = pd.concat(\n",
    "    [\n",
    "        ordersByUsersA['orders'],\n",
    "        pd.Series(\n",
    "            0,\n",
    "            index=np.arange(\n",
    "                data['visitorsPerDateA'].sum() - len(ordersByUsersA['orders'])\n",
    "            ),\n",
    "            name='orders',\n",
    "        ),\n",
    "    ],\n",
    "    axis=0,\n",
    ")"
   ]
  },
  {
   "cell_type": "code",
   "execution_count": 67,
   "metadata": {},
   "outputs": [],
   "source": [
    "sampleB = pd.concat(\n",
    "    [\n",
    "        ordersByUsersB['orders'],\n",
    "        pd.Series(\n",
    "            0,\n",
    "            index=np.arange(\n",
    "                data['visitorsPerDateB'].sum() - len(ordersByUsersB['orders'])\n",
    "            ),\n",
    "            name='orders',\n",
    "        ),\n",
    "    ],\n",
    "    axis=0,\n",
    ")"
   ]
  },
  {
   "cell_type": "markdown",
   "metadata": {},
   "source": [
    "Пороговое значение alpha примем за 5%.\n",
    "\n",
    "Применим критерий и отформатируем p-value, округлив его до трёх знаков после запятой."
   ]
  },
  {
   "cell_type": "code",
   "execution_count": 68,
   "metadata": {},
   "outputs": [
    {
     "name": "stdout",
     "output_type": "stream",
     "text": [
      "1.679236e-02\n",
      "0.138\n"
     ]
    }
   ],
   "source": [
    "print(\"{0:e}\".format(stats.mannwhitneyu(sampleA, sampleB)[1]))\n",
    "\n",
    "print(\"{0:.3f}\".format(sampleB.mean() / sampleA.mean() - 1))"
   ]
  },
  {
   "cell_type": "markdown",
   "metadata": {},
   "source": [
    "* Первое число — `p-value` = 1.679236e-02, что значиительно меньше 5e-02, поэтому нулевую гипотезу отвергаем. Анализ \"сырых\" данных сообщает, что в конверсии между группами есть статистически значимые различия. \n",
    "* Относительный прирост конверсии группы В к конверсии группы А равен 13.8%."
   ]
  },
  {
   "cell_type": "markdown",
   "metadata": {},
   "source": [
    "**Расчет статистической значимости различий в среднем чеке заказа между группами по «сырым» данным**"
   ]
  },
  {
   "cell_type": "markdown",
   "metadata": {},
   "source": [
    "Теперь проверим статистическую значимость различий в среднем чеке между сегментами.\n",
    "\n",
    "Сформулируем гипотезы. \n",
    "\n",
    "* Нулевая H0: различия в среднем чеке заказа между группами по «сырым» данным статистически не значимы.\n",
    "\n",
    "* Альтернативная H1: различия в среднем чеке заказа между группами по «сырым» данным статистически значимы."
   ]
  },
  {
   "cell_type": "code",
   "execution_count": 69,
   "metadata": {},
   "outputs": [
    {
     "name": "stdout",
     "output_type": "stream",
     "text": [
      "0.729\n",
      "0.259\n"
     ]
    }
   ],
   "source": [
    "print('{0:.3f}'.format(stats.mannwhitneyu(\n",
    "    orders[orders['group']=='A']['revenue'], \n",
    "    orders[orders['group']=='B']['revenue'])[1]))\n",
    "\n",
    "print('{0:.3f}'.format(orders[orders['group']=='B']['revenue'].mean()/\n",
    "                       orders[orders['group']=='A']['revenue'].mean()-1)) "
   ]
  },
  {
   "cell_type": "markdown",
   "metadata": {},
   "source": [
    "* `P-value` больше 0.05. Значит, причин отвергать нулевую гипотезу и считать, что в среднем чеке есть различия, нет.\n",
    "* При этом относительное различие среднего чека между сегментами равно 25.9%, что противоречит первому выводу. Думаю это связано с отдельными аномальными заказами в группе В. Нужно проверить."
   ]
  },
  {
   "cell_type": "code",
   "execution_count": 70,
   "metadata": {
    "scrolled": true
   },
   "outputs": [
    {
     "data": {
      "text/html": [
       "<div>\n",
       "<style scoped>\n",
       "    .dataframe tbody tr th:only-of-type {\n",
       "        vertical-align: middle;\n",
       "    }\n",
       "\n",
       "    .dataframe tbody tr th {\n",
       "        vertical-align: top;\n",
       "    }\n",
       "\n",
       "    .dataframe thead th {\n",
       "        text-align: right;\n",
       "    }\n",
       "</style>\n",
       "<table border=\"1\" class=\"dataframe\">\n",
       "  <thead>\n",
       "    <tr style=\"text-align: right;\">\n",
       "      <th></th>\n",
       "      <th>transactionId</th>\n",
       "      <th>visitorId</th>\n",
       "      <th>date</th>\n",
       "      <th>revenue</th>\n",
       "      <th>group</th>\n",
       "    </tr>\n",
       "  </thead>\n",
       "  <tbody>\n",
       "    <tr>\n",
       "      <th>425</th>\n",
       "      <td>590470918</td>\n",
       "      <td>1920142716</td>\n",
       "      <td>2019-08-19</td>\n",
       "      <td>1294500</td>\n",
       "      <td>B</td>\n",
       "    </tr>\n",
       "    <tr>\n",
       "      <th>1196</th>\n",
       "      <td>3936777065</td>\n",
       "      <td>2108080724</td>\n",
       "      <td>2019-08-15</td>\n",
       "      <td>202740</td>\n",
       "      <td>B</td>\n",
       "    </tr>\n",
       "    <tr>\n",
       "      <th>858</th>\n",
       "      <td>192721366</td>\n",
       "      <td>1316129916</td>\n",
       "      <td>2019-08-27</td>\n",
       "      <td>93940</td>\n",
       "      <td>A</td>\n",
       "    </tr>\n",
       "    <tr>\n",
       "      <th>1136</th>\n",
       "      <td>666610489</td>\n",
       "      <td>1307669133</td>\n",
       "      <td>2019-08-13</td>\n",
       "      <td>92550</td>\n",
       "      <td>A</td>\n",
       "    </tr>\n",
       "    <tr>\n",
       "      <th>744</th>\n",
       "      <td>3668308183</td>\n",
       "      <td>888512513</td>\n",
       "      <td>2019-08-27</td>\n",
       "      <td>86620</td>\n",
       "      <td>B</td>\n",
       "    </tr>\n",
       "  </tbody>\n",
       "</table>\n",
       "</div>"
      ],
      "text/plain": [
       "      transactionId   visitorId       date  revenue group\n",
       "425       590470918  1920142716 2019-08-19  1294500     B\n",
       "1196     3936777065  2108080724 2019-08-15   202740     B\n",
       "858       192721366  1316129916 2019-08-27    93940     A\n",
       "1136      666610489  1307669133 2019-08-13    92550     A\n",
       "744      3668308183   888512513 2019-08-27    86620     B"
      ]
     },
     "execution_count": 70,
     "metadata": {},
     "output_type": "execute_result"
    }
   ],
   "source": [
    "orders.sort_values('revenue', ascending=False).head()"
   ]
  },
  {
   "cell_type": "markdown",
   "metadata": {},
   "source": [
    "Действительно два аномально больших заказа оказались в группе В. Однако нас это не должно смущать, т.к. метод «U-критерий Манна-Уитни» работает с рангами — номерами значений в упорядоченном ряду, никак не учитывая сами значения. "
   ]
  },
  {
   "cell_type": "markdown",
   "metadata": {},
   "source": [
    "**Расчет статистической значимости различий в конверсии между группами по «очищенным» данным**"
   ]
  },
  {
   "cell_type": "markdown",
   "metadata": {},
   "source": [
    "95-й и 99-й перцентили средних чеков равны 28 000  и 58 233.2 рублям.\n",
    "\n",
    "95-й и 99-й перцентили количества заказов на одного пользователя равны 2 и 4 заказам на пользователя."
   ]
  },
  {
   "cell_type": "markdown",
   "metadata": {},
   "source": [
    "Примем за аномальных пользователей тех, кто совершил более 4 заказов или совершил заказ на сумму свыше 28 000 рублей."
   ]
  },
  {
   "cell_type": "markdown",
   "metadata": {},
   "source": [
    "Сделаем срезы пользователей с числом заказов больше 4 — `usersWithManyOrders`и пользователей, совершивших заказы дороже 28 000 рублей — `usersWithExpensiveOrders`."
   ]
  },
  {
   "cell_type": "code",
   "execution_count": 71,
   "metadata": {},
   "outputs": [],
   "source": [
    "usersWithManyOrders = pd.concat(\n",
    "    [\n",
    "        ordersByUsersA[ordersByUsersA['orders'] > 4]['userId'],\n",
    "        ordersByUsersB[ordersByUsersB['orders'] > 4]['userId'],\n",
    "    ],\n",
    "    axis=0,\n",
    ")"
   ]
  },
  {
   "cell_type": "code",
   "execution_count": 72,
   "metadata": {},
   "outputs": [],
   "source": [
    "usersWithExpensiveOrders = orders[orders['revenue'] > 28000]['visitorId']"
   ]
  },
  {
   "cell_type": "markdown",
   "metadata": {},
   "source": [
    "Объединим их в таблице `abnormalUsers`."
   ]
  },
  {
   "cell_type": "code",
   "execution_count": 73,
   "metadata": {},
   "outputs": [
    {
     "name": "stdout",
     "output_type": "stream",
     "text": [
      "1099    148427295\n",
      "928     204675465\n",
      "684     358944393\n",
      "648     382846391\n",
      "1189    393266494\n",
      "dtype: int64\n",
      "59\n"
     ]
    }
   ],
   "source": [
    "abnormalUsers = (\n",
    "    pd.concat([usersWithManyOrders, usersWithExpensiveOrders], axis=0)\n",
    "    .drop_duplicates()\n",
    "    .sort_values()\n",
    ")\n",
    "print(abnormalUsers.head())\n",
    "\n",
    "# также посчитаем общее количество аномальных пользователей\n",
    "print(abnormalUsers.shape[0]) "
   ]
  },
  {
   "cell_type": "markdown",
   "metadata": {},
   "source": [
    "На выходе получили 59  аномальных пользователей."
   ]
  },
  {
   "cell_type": "markdown",
   "metadata": {},
   "source": [
    "Сформулируем гипотезы. \n",
    "\n",
    "* Нулевая H0: различия в конверсии между группами по «очищенным» данным статистически не значимы.\n",
    "\n",
    "* Альтернативная H1: различия в конверсии заказа между группами по «очищенным» данным статистически значимы."
   ]
  },
  {
   "cell_type": "markdown",
   "metadata": {},
   "source": [
    "Посчитаем статистическую значимость различий в конверсии между группами теста по очищенным данным. Сначала подготовим выборки количества заказов по пользователям по группам теста. Сохраним их в переменных `sampleAFiltered` и `sampleBFiltered `."
   ]
  },
  {
   "cell_type": "code",
   "execution_count": 74,
   "metadata": {},
   "outputs": [],
   "source": [
    "sampleAFiltered = pd.concat(\n",
    "    [\n",
    "        ordersByUsersA[\n",
    "            np.logical_not(ordersByUsersA['userId'].isin(abnormalUsers))\n",
    "        ]['orders'],\n",
    "        pd.Series(\n",
    "            0,\n",
    "            index=np.arange(\n",
    "                data['visitorsPerDateA'].sum() - len(ordersByUsersA['orders'])\n",
    "            ),\n",
    "            name='orders',\n",
    "        ),\n",
    "    ],\n",
    "    axis=0,\n",
    ")"
   ]
  },
  {
   "cell_type": "code",
   "execution_count": 75,
   "metadata": {},
   "outputs": [],
   "source": [
    "sampleBFiltered = pd.concat(\n",
    "    [\n",
    "        ordersByUsersB[\n",
    "            np.logical_not(ordersByUsersB['userId'].isin(abnormalUsers))\n",
    "        ]['orders'],\n",
    "        pd.Series(\n",
    "            0,\n",
    "            index=np.arange(\n",
    "                data['visitorsPerDateB'].sum() - len(ordersByUsersB['orders'])\n",
    "            ),\n",
    "            name='orders',\n",
    "        ),\n",
    "    ],\n",
    "    axis=0,\n",
    ")"
   ]
  },
  {
   "cell_type": "markdown",
   "metadata": {},
   "source": [
    "Пороговое значение alpha примем за 5%."
   ]
  },
  {
   "cell_type": "code",
   "execution_count": 76,
   "metadata": {},
   "outputs": [
    {
     "name": "stdout",
     "output_type": "stream",
     "text": [
      "1.845708e-02\n",
      "0.145\n"
     ]
    }
   ],
   "source": [
    "print('{0:e}'.format(stats.mannwhitneyu(sampleAFiltered, sampleBFiltered)[1]))\n",
    "print('{0:.3f}'.format(sampleBFiltered.mean()/sampleAFiltered.mean()-1)) "
   ]
  },
  {
   "cell_type": "markdown",
   "metadata": {},
   "source": [
    "* Как и в случае с \"сырыми данными\" `P-value` оказался меньше 0.05, поэтому нулевую гипотезу отвергаем. Анализ \"очищенных\" данных сообщает, что в конверсии между группами по прежнему есть статистически значимые различия.\n",
    "* Относительный прирост конверсии очищенной группы B к конверсии группы А увеличился на 0.7 процентных пунктов и равен 14.5%."
   ]
  },
  {
   "cell_type": "code",
   "execution_count": 77,
   "metadata": {
    "scrolled": true
   },
   "outputs": [
    {
     "data": {
      "text/plain": [
       "'5.1%'"
      ]
     },
     "execution_count": 77,
     "metadata": {},
     "output_type": "execute_result"
    }
   ],
   "source": [
    "f'{(0.145 - 0.138) / 0.138:.1%}'"
   ]
  },
  {
   "cell_type": "markdown",
   "metadata": {},
   "source": [
    "**Расчет статистической значимости различий в среднем чеке заказа между группами по «очищенным» данным**"
   ]
  },
  {
   "cell_type": "markdown",
   "metadata": {},
   "source": [
    "Сформулируем гипотезы. \n",
    "\n",
    "* Нулевая H0: различия в среднем чеке заказа между группами по «очищенным» данным статистически не значимы.\n",
    "\n",
    "* Альтернативная H1: различия в среднем чеке заказа между группами по «очищенным» данным статистически значимы."
   ]
  },
  {
   "cell_type": "markdown",
   "metadata": {},
   "source": [
    "Пороговое значение alpha примем за 5%."
   ]
  },
  {
   "cell_type": "code",
   "execution_count": 78,
   "metadata": {
    "scrolled": false
   },
   "outputs": [
    {
     "name": "stdout",
     "output_type": "stream",
     "text": [
      "0.961\n",
      "-0.014\n"
     ]
    }
   ],
   "source": [
    "print(\n",
    "    '{0:.3f}'.format(\n",
    "        stats.mannwhitneyu(\n",
    "            orders[\n",
    "                np.logical_and(\n",
    "                    orders['group'] == 'A',\n",
    "                    np.logical_not(orders['visitorId'].isin(abnormalUsers)),\n",
    "                )\n",
    "            ]['revenue'],\n",
    "            orders[\n",
    "                np.logical_and(\n",
    "                    orders['group'] == 'B',\n",
    "                    np.logical_not(orders['visitorId'].isin(abnormalUsers)),\n",
    "                )\n",
    "            ]['revenue'],\n",
    "        )[1]\n",
    "    )\n",
    ")\n",
    "\n",
    "print(\n",
    "    \"{0:.3f}\".format(\n",
    "        orders[\n",
    "            np.logical_and(\n",
    "                orders['group'] == 'B',\n",
    "                np.logical_not(orders['visitorId'].isin(abnormalUsers)),\n",
    "            )\n",
    "        ]['revenue'].mean()\n",
    "        / orders[\n",
    "            np.logical_and(\n",
    "                orders['group'] == 'A',\n",
    "                np.logical_not(orders['visitorId'].isin(abnormalUsers)),\n",
    "            )\n",
    "        ]['revenue'].mean()\n",
    "        - 1\n",
    "    )\n",
    ")"
   ]
  },
  {
   "cell_type": "markdown",
   "metadata": {},
   "source": [
    "* После очистки данных от аномалий `P-value` по-прежнему больше 0.05. Значит, причин отвергать нулевую гипотезу и считать, что в среднем чеке есть различия, также нет.\n",
    "* Относительное различие среднего чека между сегментами равно 1.4%, но теперь уже в пользу группы А."
   ]
  },
  {
   "cell_type": "markdown",
   "metadata": {},
   "source": [
    "**Вывод:**\n",
    "* Кумулятивная выручка обеих групп равномерно увеличиваестя в течении всего исследуемого периода. Отдельно стоит обратить внимание на резкий скачок группы В, что может означать появление очень дорого заказа, либо же увеличение количества заказов.\n",
    "* Кумулятивный средний чек к концу теста установился для группы А, но для группы В продолжает снижаться. Скорее всего это связано появлением крупных заказов в этой группе, поэтому потребуется немного больше времени для стабилизации среднего чека.\n",
    "* График относительного изменения кумулятивного среднего чека нестабилен, имеются резкие перепады. Почти наверняка где-то спрятались крупные заказы и выбросы.\n",
    "* В начале теста данные по кумулятивной конверсии обеих групп были примерно на равных значениях. Однако после 6 августа конверсия группы В выросла и зафиксировалась на значении 0.034. Группа А же наооборот опустилась до значения 0.03, где также зафиксировалась. \n",
    "* В начале теста группа B немного проигрывала группе A. Однако 6 августа вырвалась вперёд, вплоть до отметки в 20%, после чего начала постепенно снижаться до 10-13%. Пока что нельзя с полной уверенностью сказать, что конверсия зафиксировалась.\n",
    "* Не более 5% пользователей совершали более 2 заказов, и не более 1% - больше 4 заказов\n",
    "* Не более, чем у 5% заказов чек больше 28 000 рублей. И не больше, чем у 1%  больше 58 233.2 рублей.\n",
    "* Анализ \"сырых\" данных сообщает, что в конверсии между группами есть статистически значимые различия. Относительный прирост конверсии группы В к конверсии группы А равен 13.8%.\n",
    "* Причин отвергать нулевую гипотезу и считать, что в среднем чеке есть различия, нет. При этом относительное различие среднего чека между сегментами равно 25.9% из-за отдельных аномальных заказов в группе В. \n",
    "* Анализ \"очищенных\" данных сообщает, что в конверсии между группами по прежнему есть статистически значимые различия.\n",
    "* Относительный прирост конверсии очищенной группы B к конверсии группы А увеличился на 0.7 процентных пунктов и равен 14.5%.\n",
    "* Причин отвергать нулевую гипотезу и считать, что в среднем чеке есть различия, также нет. Относительное различие среднего чека между сегментами равно 1.4%, но теперь уже в пользу группы А."
   ]
  },
  {
   "cell_type": "markdown",
   "metadata": {},
   "source": [
    "**Решение по результатам теста**"
   ]
  },
  {
   "cell_type": "markdown",
   "metadata": {},
   "source": [
    "По результатам теста имеем следующие факты:\n",
    "\n",
    "* Есть статистически значимое различие по конверсии между группами. Как по «сырым» данным , так и по данным после фильтрации аномалий. \n",
    "* После фильтрации, относительный прирост конверсии группы В к конверсии группы А повысился с 13.8% до 14.5%.\n",
    "* Нет статистически значимого различия по среднему чеку между группами ни по «сырым» данным, ни по данным после фильтрации аномалий.\n",
    "\n",
    "Исходя из обнаруженных фактов, тест следует остановить и признать его успешным, ввиду того, что значения кумулятивных метрик к концу теста были практически стабилизированы.\n",
    "\n",
    "При этом группу В можно считать лучше группы А, так как даже при одинаковом среднем чеке, конверсия выросла. А значит выросла и выручка, что для бизнеса играет ключевую роль."
   ]
  },
  {
   "cell_type": "markdown",
   "metadata": {},
   "source": [
    "## Общий вывод"
   ]
  },
  {
   "cell_type": "markdown",
   "metadata": {},
   "source": [
    "**Что было сделано:**\n",
    "\n",
    "1\\. Загрузка данных и подготовка к анализу.\n",
    "\n",
    "* Привели названия столбцов в таблице `hypothesis` к нижнему регистру.\n",
    "* Привели тип данных столбцов с датами в таблицах `orders` и `visitors` к типу datetime.\n",
    "* Проверили периоды исследования в таблицах `orders` и `visitors`. Все в порядке.\n",
    "* Проверили таблицы на наличие дубликатов и пропусков. Ни первого, ни второго не обнаружено.\n",
    "* Убрали из датафрейма 58 пользователей, попавших одновременно в обе исследуемые группы.\n",
    "\n",
    "2\\. Приоритизация гипотез.\n",
    "\n",
    "Самая перспективная гипотеза после применения фреймворка ICE:\n",
    "* №8. Запустить акцию, дающую скидку на товар в день рождения.\n",
    "\n",
    "При применении фреймворка RICE также учитывается параметр `Reach`- охват. В связи с этим принято решение - в первую очередь протестировать гиппотезу:\n",
    "* №0 \"Добавить форму подписки на все основные страницы, чтобы собрать базу клиентов для email-рассылок\".\n",
    "\n",
    "3\\. Анализ А/В-теста.\n",
    "\n",
    "* Кумулятивная выручка обеих групп равномерно увеличиваестя в течении всего исследуемого периода. Отдельно стоит обратить внимание на резкий скачок группы В, что может означать появление очень дорого заказа, либо же увеличение количества заказов.\n",
    "* Кумулятивный средний чек к концу теста установился для группы А, но для группы В продолжает снижаться. Скорее всего это связано появлением крупных заказов в этой группе, поэтому потребуется немного больше времени для стабилизации среднего чека.\n",
    "* График относительного изменения кумулятивного среднего чека нестабилен, имеются резкие перепады. Почти наверняка где-то спрятались крупные заказы и выбросы.\n",
    "* В начале теста данные по кумулятивной конверсии обеих групп были примерно на равных значениях. Однако после 6 августа конверсия группы В выросла и зафиксировалась на значении 0.034. Группа А же наооборот опустилась до значения 0.03, где также зафиксировалась. \n",
    "* В начале теста группа B немного проигрывала группе A. Однако 6 августа вырвалась вперёд, вплоть до отметки в 20%, после чего начала постепенно снижаться до 10-13%. Пока что нельзя с полной уверенностью сказать, что конверсия зафиксировалась.\n",
    "* Не более 5% пользователей совершали более 2 заказов, и не более 1% - больше 4 заказов\n",
    "* Не более, чем у 5% заказов чек больше 28 000 рублей. И не больше, чем у 1%  больше 58 233.2 рублей.\n",
    "* Анализ \"сырых\" данных сообщает, что в конверсии между группами есть статистически значимые различия. Относительный прирост конверсии группы В к конверсии группы А равен 13.8%.\n",
    "* Причин отвергать нулевую гипотезу и считать, что в среднем чеке есть различия, нет. При этом относительное различие среднего чека между сегментами равно 25.9% из-за отдельных аномальных заказов в группе В. \n",
    "* Анализ \"очищенных\" данных сообщает, что в конверсии между группами по прежнему есть статистически значимые различия.\n",
    "* Относительный прирост конверсии очищенной группы B к конверсии группы А увеличился на 0.7 процентных пунктов и равен 14.5%.\n",
    "* Причин отвергать нулевую гипотезу и считать, что в среднем чеке есть различия, также нет. Относительное различие среднего чека между сегментами равно 1.4%, но теперь уже в пользу группы А.\n",
    "\n",
    "4\\. Решение по результатам теста.\n",
    "\n",
    "По результатам теста имеем следующие факты:\n",
    "\n",
    "* Есть статистически значимое различие по конверсии между группами. Как по «сырым» данным , так и по данным после фильтрации аномалий. \n",
    "* После фильтрации, относительный прирост конверсии группы В к конверсии группы А повысился с 13.8% до 14.5%.\n",
    "* Нет статистически значимого различия по среднему чеку между группами ни по «сырым» данным, ни по данным после фильтрации аномалий.\n",
    "\n",
    "Исходя из обнаруженных фактов, тест следует остановить и признать его успешным, ввиду того, что значения кумулятивных метрик к концу теста были практически стабилизированы.\n",
    "\n",
    "При этом группу В можно считать лучше группы А, так как даже при одинаковом среднем чеке, конверсия выросла. А значит выросла и выручка, что для бизнеса играет ключевую роль."
   ]
  }
 ],
 "metadata": {
  "ExecuteTimeLog": [
   {
    "duration": 1128,
    "start_time": "2022-06-09T08:18:04.956Z"
   },
   {
    "duration": 5,
    "start_time": "2022-06-09T08:18:27.787Z"
   },
   {
    "duration": 189,
    "start_time": "2022-06-09T08:21:40.556Z"
   },
   {
    "duration": 923,
    "start_time": "2022-06-09T08:30:32.694Z"
   },
   {
    "duration": 74,
    "start_time": "2022-06-09T08:30:33.619Z"
   },
   {
    "duration": 13,
    "start_time": "2022-06-09T08:30:33.694Z"
   },
   {
    "duration": 15,
    "start_time": "2022-06-09T08:30:33.709Z"
   },
   {
    "duration": 15,
    "start_time": "2022-06-09T08:30:33.726Z"
   },
   {
    "duration": 11,
    "start_time": "2022-06-09T08:30:33.743Z"
   },
   {
    "duration": 25,
    "start_time": "2022-06-09T08:30:33.756Z"
   },
   {
    "duration": 14,
    "start_time": "2022-06-09T08:30:33.782Z"
   },
   {
    "duration": 7,
    "start_time": "2022-06-09T08:30:41.160Z"
   },
   {
    "duration": 10,
    "start_time": "2022-06-09T08:30:51.718Z"
   },
   {
    "duration": 2,
    "start_time": "2022-06-09T08:32:30.537Z"
   },
   {
    "duration": 73,
    "start_time": "2022-06-09T08:32:31.761Z"
   },
   {
    "duration": 9,
    "start_time": "2022-06-09T08:32:32.528Z"
   },
   {
    "duration": 9,
    "start_time": "2022-06-09T08:32:35.936Z"
   },
   {
    "duration": 12,
    "start_time": "2022-06-09T08:32:36.152Z"
   },
   {
    "duration": 6,
    "start_time": "2022-06-09T08:32:36.352Z"
   },
   {
    "duration": 11,
    "start_time": "2022-06-09T08:32:36.929Z"
   },
   {
    "duration": 7,
    "start_time": "2022-06-09T08:32:37.152Z"
   },
   {
    "duration": 2,
    "start_time": "2022-06-09T08:32:56.025Z"
   },
   {
    "duration": 74,
    "start_time": "2022-06-09T08:32:57.288Z"
   },
   {
    "duration": 11,
    "start_time": "2022-06-09T08:32:57.633Z"
   },
   {
    "duration": 7,
    "start_time": "2022-06-09T08:32:58.208Z"
   },
   {
    "duration": 3,
    "start_time": "2022-06-09T08:49:55.309Z"
   },
   {
    "duration": 82,
    "start_time": "2022-06-09T08:54:00.947Z"
   },
   {
    "duration": 7,
    "start_time": "2022-06-09T08:54:06.960Z"
   },
   {
    "duration": 13,
    "start_time": "2022-06-09T08:54:14.318Z"
   },
   {
    "duration": 15,
    "start_time": "2022-06-09T08:54:40.953Z"
   },
   {
    "duration": 7,
    "start_time": "2022-06-09T09:24:10.831Z"
   },
   {
    "duration": 7,
    "start_time": "2022-06-09T09:24:11.023Z"
   },
   {
    "duration": 7,
    "start_time": "2022-06-09T09:24:11.207Z"
   },
   {
    "duration": 5,
    "start_time": "2022-06-09T09:29:02.938Z"
   },
   {
    "duration": 8,
    "start_time": "2022-06-09T09:29:11.416Z"
   },
   {
    "duration": 6,
    "start_time": "2022-06-09T09:29:27.257Z"
   },
   {
    "duration": 5,
    "start_time": "2022-06-09T09:29:29.121Z"
   },
   {
    "duration": 6,
    "start_time": "2022-06-09T09:29:49.505Z"
   },
   {
    "duration": 7,
    "start_time": "2022-06-09T09:50:10.873Z"
   },
   {
    "duration": 8,
    "start_time": "2022-06-09T09:50:17.440Z"
   },
   {
    "duration": 7,
    "start_time": "2022-06-09T09:51:04.337Z"
   },
   {
    "duration": 7,
    "start_time": "2022-06-09T09:51:18.576Z"
   },
   {
    "duration": 9,
    "start_time": "2022-06-09T09:51:46.571Z"
   },
   {
    "duration": 8,
    "start_time": "2022-06-09T09:51:54.297Z"
   },
   {
    "duration": 7,
    "start_time": "2022-06-09T09:52:19.010Z"
   },
   {
    "duration": 27,
    "start_time": "2022-06-09T09:53:57.818Z"
   },
   {
    "duration": 5,
    "start_time": "2022-06-09T09:54:02.490Z"
   },
   {
    "duration": 7,
    "start_time": "2022-06-09T09:54:27.682Z"
   },
   {
    "duration": 6,
    "start_time": "2022-06-09T09:54:33.873Z"
   },
   {
    "duration": 6,
    "start_time": "2022-06-09T09:54:49.561Z"
   },
   {
    "duration": 8,
    "start_time": "2022-06-09T09:56:17.043Z"
   },
   {
    "duration": 8,
    "start_time": "2022-06-09T09:57:24.371Z"
   },
   {
    "duration": 8,
    "start_time": "2022-06-09T09:57:45.995Z"
   },
   {
    "duration": 10,
    "start_time": "2022-06-09T09:58:16.907Z"
   },
   {
    "duration": 10,
    "start_time": "2022-06-09T09:59:08.067Z"
   },
   {
    "duration": 7,
    "start_time": "2022-06-09T09:59:18.972Z"
   },
   {
    "duration": 7,
    "start_time": "2022-06-09T09:59:45.779Z"
   },
   {
    "duration": 28,
    "start_time": "2022-06-09T10:00:00.628Z"
   },
   {
    "duration": 32,
    "start_time": "2022-06-09T10:00:15.604Z"
   },
   {
    "duration": 32,
    "start_time": "2022-06-09T10:02:04.925Z"
   },
   {
    "duration": 34,
    "start_time": "2022-06-09T10:02:30.206Z"
   },
   {
    "duration": 37,
    "start_time": "2022-06-09T10:02:40.628Z"
   },
   {
    "duration": 2,
    "start_time": "2022-06-09T10:02:56.572Z"
   },
   {
    "duration": 7,
    "start_time": "2022-06-09T10:02:59.066Z"
   },
   {
    "duration": 6,
    "start_time": "2022-06-09T10:02:59.513Z"
   },
   {
    "duration": 8,
    "start_time": "2022-06-09T10:03:00.196Z"
   },
   {
    "duration": 7,
    "start_time": "2022-06-09T10:03:19.124Z"
   },
   {
    "duration": 9,
    "start_time": "2022-06-09T10:03:19.342Z"
   },
   {
    "duration": 7,
    "start_time": "2022-06-09T10:03:19.662Z"
   },
   {
    "duration": 10,
    "start_time": "2022-06-09T10:04:09.280Z"
   },
   {
    "duration": 7,
    "start_time": "2022-06-09T10:04:09.863Z"
   },
   {
    "duration": 8,
    "start_time": "2022-06-09T10:04:10.046Z"
   },
   {
    "duration": 6,
    "start_time": "2022-06-09T10:04:16.501Z"
   },
   {
    "duration": 47,
    "start_time": "2022-06-09T10:14:36.991Z"
   },
   {
    "duration": 16,
    "start_time": "2022-06-09T10:14:37.658Z"
   },
   {
    "duration": 21,
    "start_time": "2022-06-09T10:14:55.160Z"
   },
   {
    "duration": 33,
    "start_time": "2022-06-09T10:15:47.608Z"
   },
   {
    "duration": 15,
    "start_time": "2022-06-09T10:16:09.342Z"
   },
   {
    "duration": 31,
    "start_time": "2022-06-09T10:16:40.248Z"
   },
   {
    "duration": 13,
    "start_time": "2022-06-09T10:16:55.758Z"
   },
   {
    "duration": 25,
    "start_time": "2022-06-09T10:19:40.817Z"
   },
   {
    "duration": 9,
    "start_time": "2022-06-09T12:12:54.995Z"
   },
   {
    "duration": 8,
    "start_time": "2022-06-09T12:13:09.610Z"
   },
   {
    "duration": 9,
    "start_time": "2022-06-09T12:15:07.556Z"
   },
   {
    "duration": 20,
    "start_time": "2022-06-09T12:18:49.357Z"
   },
   {
    "duration": 21,
    "start_time": "2022-06-09T12:19:00.949Z"
   },
   {
    "duration": 32,
    "start_time": "2022-06-09T12:22:00.081Z"
   },
   {
    "duration": 517,
    "start_time": "2022-06-09T12:22:06.565Z"
   },
   {
    "duration": 478,
    "start_time": "2022-06-09T12:22:17.071Z"
   },
   {
    "duration": 532,
    "start_time": "2022-06-09T12:22:28.118Z"
   },
   {
    "duration": 21,
    "start_time": "2022-06-09T12:31:44.059Z"
   },
   {
    "duration": 12,
    "start_time": "2022-06-09T12:47:39.710Z"
   },
   {
    "duration": 15,
    "start_time": "2022-06-09T12:47:46.173Z"
   },
   {
    "duration": 18,
    "start_time": "2022-06-09T12:48:14.450Z"
   },
   {
    "duration": 7,
    "start_time": "2022-06-09T12:49:41.590Z"
   },
   {
    "duration": 8,
    "start_time": "2022-06-09T12:49:54.254Z"
   },
   {
    "duration": 8,
    "start_time": "2022-06-09T12:50:15.118Z"
   },
   {
    "duration": 11,
    "start_time": "2022-06-09T12:50:51.902Z"
   },
   {
    "duration": 17,
    "start_time": "2022-06-09T13:13:21.888Z"
   },
   {
    "duration": 19,
    "start_time": "2022-06-09T13:13:26.858Z"
   },
   {
    "duration": 16,
    "start_time": "2022-06-09T13:13:30.618Z"
   },
   {
    "duration": 15,
    "start_time": "2022-06-09T13:13:35.287Z"
   },
   {
    "duration": 22,
    "start_time": "2022-06-09T13:13:50.175Z"
   },
   {
    "duration": 9,
    "start_time": "2022-06-09T13:14:26.549Z"
   },
   {
    "duration": 9,
    "start_time": "2022-06-09T13:14:29.892Z"
   },
   {
    "duration": 7,
    "start_time": "2022-06-09T13:14:54.599Z"
   },
   {
    "duration": 11,
    "start_time": "2022-06-09T13:16:03.027Z"
   },
   {
    "duration": 885,
    "start_time": "2022-06-09T13:16:48.293Z"
   },
   {
    "duration": 72,
    "start_time": "2022-06-09T13:16:49.179Z"
   },
   {
    "duration": 10,
    "start_time": "2022-06-09T13:16:49.252Z"
   },
   {
    "duration": 15,
    "start_time": "2022-06-09T13:16:49.263Z"
   },
   {
    "duration": 10,
    "start_time": "2022-06-09T13:16:49.280Z"
   },
   {
    "duration": 9,
    "start_time": "2022-06-09T13:16:49.293Z"
   },
   {
    "duration": 15,
    "start_time": "2022-06-09T13:16:49.303Z"
   },
   {
    "duration": 11,
    "start_time": "2022-06-09T13:16:49.319Z"
   },
   {
    "duration": 7,
    "start_time": "2022-06-09T13:16:49.332Z"
   },
   {
    "duration": 24,
    "start_time": "2022-06-09T13:16:49.341Z"
   },
   {
    "duration": 16,
    "start_time": "2022-06-09T13:16:49.367Z"
   },
   {
    "duration": 12,
    "start_time": "2022-06-09T13:16:49.384Z"
   },
   {
    "duration": 6,
    "start_time": "2022-06-09T13:16:49.397Z"
   },
   {
    "duration": 23,
    "start_time": "2022-06-09T13:16:49.405Z"
   },
   {
    "duration": 6,
    "start_time": "2022-06-09T13:16:49.430Z"
   },
   {
    "duration": 7,
    "start_time": "2022-06-09T13:16:49.437Z"
   },
   {
    "duration": 12,
    "start_time": "2022-06-09T13:16:49.445Z"
   },
   {
    "duration": 10,
    "start_time": "2022-06-09T13:16:49.458Z"
   },
   {
    "duration": 82,
    "start_time": "2022-06-09T13:16:49.478Z"
   },
   {
    "duration": 9,
    "start_time": "2022-06-09T13:17:58.901Z"
   },
   {
    "duration": 23,
    "start_time": "2022-06-09T13:19:59.165Z"
   },
   {
    "duration": 4,
    "start_time": "2022-06-09T13:20:25.405Z"
   },
   {
    "duration": 27,
    "start_time": "2022-06-09T13:33:58.599Z"
   },
   {
    "duration": 7,
    "start_time": "2022-06-09T13:37:15.548Z"
   },
   {
    "duration": 11,
    "start_time": "2022-06-09T13:37:17.279Z"
   },
   {
    "duration": 1041,
    "start_time": "2022-06-09T13:39:47.548Z"
   },
   {
    "duration": 72,
    "start_time": "2022-06-09T13:39:48.591Z"
   },
   {
    "duration": 10,
    "start_time": "2022-06-09T13:39:48.665Z"
   },
   {
    "duration": 16,
    "start_time": "2022-06-09T13:39:48.676Z"
   },
   {
    "duration": 10,
    "start_time": "2022-06-09T13:39:48.694Z"
   },
   {
    "duration": 29,
    "start_time": "2022-06-09T13:39:48.706Z"
   },
   {
    "duration": 17,
    "start_time": "2022-06-09T13:39:48.736Z"
   },
   {
    "duration": 14,
    "start_time": "2022-06-09T13:39:48.754Z"
   },
   {
    "duration": 13,
    "start_time": "2022-06-09T13:39:48.770Z"
   },
   {
    "duration": 29,
    "start_time": "2022-06-09T13:39:48.785Z"
   },
   {
    "duration": 6,
    "start_time": "2022-06-09T13:39:48.816Z"
   },
   {
    "duration": 9,
    "start_time": "2022-06-09T13:39:48.824Z"
   },
   {
    "duration": 6,
    "start_time": "2022-06-09T13:39:48.835Z"
   },
   {
    "duration": 8,
    "start_time": "2022-06-09T13:39:48.843Z"
   },
   {
    "duration": 26,
    "start_time": "2022-06-09T13:39:48.853Z"
   },
   {
    "duration": 6,
    "start_time": "2022-06-09T13:39:48.880Z"
   },
   {
    "duration": 22,
    "start_time": "2022-06-09T13:39:48.888Z"
   },
   {
    "duration": 11,
    "start_time": "2022-06-09T13:39:48.911Z"
   },
   {
    "duration": 39,
    "start_time": "2022-06-09T13:39:48.923Z"
   },
   {
    "duration": 16,
    "start_time": "2022-06-09T13:40:05.841Z"
   },
   {
    "duration": 22,
    "start_time": "2022-06-09T13:40:42.320Z"
   },
   {
    "duration": 25,
    "start_time": "2022-06-09T13:41:03.887Z"
   },
   {
    "duration": 9,
    "start_time": "2022-06-09T13:41:05.915Z"
   },
   {
    "duration": 1037,
    "start_time": "2022-06-09T13:41:31.477Z"
   },
   {
    "duration": 75,
    "start_time": "2022-06-09T13:41:32.516Z"
   },
   {
    "duration": 12,
    "start_time": "2022-06-09T13:41:32.593Z"
   },
   {
    "duration": 21,
    "start_time": "2022-06-09T13:41:32.607Z"
   },
   {
    "duration": 38,
    "start_time": "2022-06-09T13:41:32.630Z"
   },
   {
    "duration": 38,
    "start_time": "2022-06-09T13:41:32.670Z"
   },
   {
    "duration": 25,
    "start_time": "2022-06-09T13:41:32.710Z"
   },
   {
    "duration": 10,
    "start_time": "2022-06-09T13:41:32.737Z"
   },
   {
    "duration": 50,
    "start_time": "2022-06-09T13:41:32.748Z"
   },
   {
    "duration": 38,
    "start_time": "2022-06-09T13:41:32.800Z"
   },
   {
    "duration": 32,
    "start_time": "2022-06-09T13:41:32.840Z"
   },
   {
    "duration": 34,
    "start_time": "2022-06-09T13:41:32.873Z"
   },
   {
    "duration": 18,
    "start_time": "2022-06-09T13:41:32.908Z"
   },
   {
    "duration": 20,
    "start_time": "2022-06-09T13:41:32.928Z"
   },
   {
    "duration": 50,
    "start_time": "2022-06-09T13:41:32.949Z"
   },
   {
    "duration": 39,
    "start_time": "2022-06-09T13:41:33.001Z"
   },
   {
    "duration": 43,
    "start_time": "2022-06-09T13:41:33.041Z"
   },
   {
    "duration": 18,
    "start_time": "2022-06-09T13:41:33.086Z"
   },
   {
    "duration": 40,
    "start_time": "2022-06-09T13:41:33.105Z"
   },
   {
    "duration": 12,
    "start_time": "2022-06-09T13:41:41.609Z"
   },
   {
    "duration": 96,
    "start_time": "2022-06-09T13:41:48.912Z"
   },
   {
    "duration": 10,
    "start_time": "2022-06-09T13:41:55.955Z"
   },
   {
    "duration": 8,
    "start_time": "2022-06-09T13:42:17.530Z"
   },
   {
    "duration": 16,
    "start_time": "2022-06-09T13:42:42.809Z"
   },
   {
    "duration": 11,
    "start_time": "2022-06-09T13:43:54.395Z"
   },
   {
    "duration": 32,
    "start_time": "2022-06-09T13:46:57.932Z"
   },
   {
    "duration": 21,
    "start_time": "2022-06-09T13:47:04.988Z"
   },
   {
    "duration": 18,
    "start_time": "2022-06-09T13:47:12.602Z"
   },
   {
    "duration": 28,
    "start_time": "2022-06-09T13:47:21.723Z"
   },
   {
    "duration": 9,
    "start_time": "2022-06-09T13:49:30.699Z"
   },
   {
    "duration": 12,
    "start_time": "2022-06-09T13:54:00.896Z"
   },
   {
    "duration": 35,
    "start_time": "2022-06-09T13:59:39.816Z"
   },
   {
    "duration": 21,
    "start_time": "2022-06-09T13:59:46.742Z"
   },
   {
    "duration": 5,
    "start_time": "2022-06-09T14:11:36.903Z"
   },
   {
    "duration": 8,
    "start_time": "2022-06-09T14:11:41.403Z"
   },
   {
    "duration": 13,
    "start_time": "2022-06-09T14:11:46.454Z"
   },
   {
    "duration": 9,
    "start_time": "2022-06-09T14:12:05.908Z"
   },
   {
    "duration": 9,
    "start_time": "2022-06-09T14:12:06.305Z"
   },
   {
    "duration": 4,
    "start_time": "2022-06-09T14:12:14.904Z"
   },
   {
    "duration": 9,
    "start_time": "2022-06-09T14:12:15.165Z"
   },
   {
    "duration": 3,
    "start_time": "2022-06-09T14:12:17.572Z"
   },
   {
    "duration": 13,
    "start_time": "2022-06-09T14:12:17.768Z"
   },
   {
    "duration": 13,
    "start_time": "2022-06-09T14:12:47.373Z"
   },
   {
    "duration": 10,
    "start_time": "2022-06-09T14:12:55.093Z"
   },
   {
    "duration": 17,
    "start_time": "2022-06-09T14:12:59.570Z"
   },
   {
    "duration": 13,
    "start_time": "2022-06-09T14:13:04.905Z"
   },
   {
    "duration": 3,
    "start_time": "2022-06-09T14:13:30.133Z"
   },
   {
    "duration": 9,
    "start_time": "2022-06-09T14:13:30.407Z"
   },
   {
    "duration": 6,
    "start_time": "2022-06-09T14:13:39.914Z"
   },
   {
    "duration": 6,
    "start_time": "2022-06-09T14:13:43.861Z"
   },
   {
    "duration": 4,
    "start_time": "2022-06-09T14:14:11.063Z"
   },
   {
    "duration": 14,
    "start_time": "2022-06-09T14:20:55.369Z"
   },
   {
    "duration": 11,
    "start_time": "2022-06-09T14:22:55.764Z"
   },
   {
    "duration": 10,
    "start_time": "2022-06-09T14:23:14.112Z"
   },
   {
    "duration": 10,
    "start_time": "2022-06-09T14:23:33.560Z"
   },
   {
    "duration": 80,
    "start_time": "2022-06-09T14:23:39.511Z"
   },
   {
    "duration": 5,
    "start_time": "2022-06-09T14:25:19.607Z"
   },
   {
    "duration": 13,
    "start_time": "2022-06-09T14:25:19.956Z"
   },
   {
    "duration": 6,
    "start_time": "2022-06-09T14:25:26.631Z"
   },
   {
    "duration": 13,
    "start_time": "2022-06-09T14:25:29.823Z"
   },
   {
    "duration": 4,
    "start_time": "2022-06-09T14:27:04.334Z"
   },
   {
    "duration": 12,
    "start_time": "2022-06-09T14:27:05.207Z"
   },
   {
    "duration": 4,
    "start_time": "2022-06-09T14:27:06.303Z"
   },
   {
    "duration": 12,
    "start_time": "2022-06-09T14:27:07.084Z"
   },
   {
    "duration": 15,
    "start_time": "2022-06-09T14:27:07.735Z"
   },
   {
    "duration": 69,
    "start_time": "2022-06-09T14:27:41.006Z"
   },
   {
    "duration": 15,
    "start_time": "2022-06-09T14:27:41.807Z"
   },
   {
    "duration": 1479,
    "start_time": "2022-06-10T10:14:52.698Z"
   },
   {
    "duration": 180,
    "start_time": "2022-06-10T10:14:54.179Z"
   },
   {
    "duration": 13,
    "start_time": "2022-06-10T10:14:54.360Z"
   },
   {
    "duration": 20,
    "start_time": "2022-06-10T10:14:54.375Z"
   },
   {
    "duration": 13,
    "start_time": "2022-06-10T10:14:54.403Z"
   },
   {
    "duration": 14,
    "start_time": "2022-06-10T10:14:54.417Z"
   },
   {
    "duration": 15,
    "start_time": "2022-06-10T10:14:54.433Z"
   },
   {
    "duration": 17,
    "start_time": "2022-06-10T10:14:54.450Z"
   },
   {
    "duration": 8,
    "start_time": "2022-06-10T10:14:54.469Z"
   },
   {
    "duration": 46,
    "start_time": "2022-06-10T10:14:54.480Z"
   },
   {
    "duration": 15,
    "start_time": "2022-06-10T10:14:54.527Z"
   },
   {
    "duration": 10,
    "start_time": "2022-06-10T10:14:54.543Z"
   },
   {
    "duration": 9,
    "start_time": "2022-06-10T10:14:54.555Z"
   },
   {
    "duration": 8,
    "start_time": "2022-06-10T10:14:54.566Z"
   },
   {
    "duration": 30,
    "start_time": "2022-06-10T10:14:54.576Z"
   },
   {
    "duration": 6,
    "start_time": "2022-06-10T10:14:54.608Z"
   },
   {
    "duration": 20,
    "start_time": "2022-06-10T10:14:54.615Z"
   },
   {
    "duration": 28,
    "start_time": "2022-06-10T10:14:54.637Z"
   },
   {
    "duration": 47,
    "start_time": "2022-06-10T10:14:54.666Z"
   },
   {
    "duration": 15,
    "start_time": "2022-06-10T10:14:54.714Z"
   },
   {
    "duration": 8,
    "start_time": "2022-06-10T10:14:54.730Z"
   },
   {
    "duration": 12,
    "start_time": "2022-06-10T10:14:54.740Z"
   },
   {
    "duration": 71,
    "start_time": "2022-06-10T10:14:54.754Z"
   },
   {
    "duration": 3,
    "start_time": "2022-06-10T10:14:54.827Z"
   },
   {
    "duration": 13,
    "start_time": "2022-06-10T10:14:54.832Z"
   },
   {
    "duration": 7,
    "start_time": "2022-06-10T10:14:54.846Z"
   },
   {
    "duration": 16,
    "start_time": "2022-06-10T10:14:54.854Z"
   },
   {
    "duration": 97,
    "start_time": "2022-06-10T10:14:54.872Z"
   },
   {
    "duration": 16,
    "start_time": "2022-06-10T10:14:54.970Z"
   },
   {
    "duration": 19,
    "start_time": "2022-06-10T10:40:22.294Z"
   },
   {
    "duration": 15,
    "start_time": "2022-06-10T10:40:32.053Z"
   },
   {
    "duration": 14,
    "start_time": "2022-06-10T10:40:41.605Z"
   },
   {
    "duration": 6,
    "start_time": "2022-06-10T11:10:03.114Z"
   },
   {
    "duration": 14,
    "start_time": "2022-06-10T11:10:59.516Z"
   },
   {
    "duration": 10,
    "start_time": "2022-06-10T11:11:29.125Z"
   },
   {
    "duration": 10,
    "start_time": "2022-06-10T11:11:29.821Z"
   },
   {
    "duration": 117,
    "start_time": "2022-06-10T11:14:38.307Z"
   },
   {
    "duration": 192,
    "start_time": "2022-06-10T11:16:46.980Z"
   },
   {
    "duration": 6,
    "start_time": "2022-06-10T11:21:13.382Z"
   },
   {
    "duration": 192,
    "start_time": "2022-06-10T11:21:13.630Z"
   },
   {
    "duration": 8,
    "start_time": "2022-06-10T11:21:21.270Z"
   },
   {
    "duration": 165,
    "start_time": "2022-06-10T11:22:28.951Z"
   },
   {
    "duration": 7,
    "start_time": "2022-06-10T11:22:55.631Z"
   },
   {
    "duration": 9,
    "start_time": "2022-06-10T14:28:46.515Z"
   },
   {
    "duration": 10,
    "start_time": "2022-06-10T14:29:01.717Z"
   },
   {
    "duration": 50,
    "start_time": "2022-06-13T07:51:28.236Z"
   },
   {
    "duration": 1336,
    "start_time": "2022-06-13T07:51:33.445Z"
   },
   {
    "duration": 176,
    "start_time": "2022-06-13T07:51:34.783Z"
   },
   {
    "duration": 11,
    "start_time": "2022-06-13T07:51:34.961Z"
   },
   {
    "duration": 19,
    "start_time": "2022-06-13T07:51:34.974Z"
   },
   {
    "duration": 16,
    "start_time": "2022-06-13T07:51:34.995Z"
   },
   {
    "duration": 13,
    "start_time": "2022-06-13T07:51:35.012Z"
   },
   {
    "duration": 13,
    "start_time": "2022-06-13T07:51:35.027Z"
   },
   {
    "duration": 20,
    "start_time": "2022-06-13T07:51:35.042Z"
   },
   {
    "duration": 5,
    "start_time": "2022-06-13T07:51:35.064Z"
   },
   {
    "duration": 21,
    "start_time": "2022-06-13T07:51:35.073Z"
   },
   {
    "duration": 8,
    "start_time": "2022-06-13T07:51:35.097Z"
   },
   {
    "duration": 10,
    "start_time": "2022-06-13T07:51:35.107Z"
   },
   {
    "duration": 40,
    "start_time": "2022-06-13T07:51:35.119Z"
   },
   {
    "duration": 6,
    "start_time": "2022-06-13T07:51:35.161Z"
   },
   {
    "duration": 23,
    "start_time": "2022-06-13T07:51:35.169Z"
   },
   {
    "duration": 12,
    "start_time": "2022-06-13T07:51:35.194Z"
   },
   {
    "duration": 23,
    "start_time": "2022-06-13T07:51:35.208Z"
   },
   {
    "duration": 39,
    "start_time": "2022-06-13T07:51:35.233Z"
   },
   {
    "duration": 5,
    "start_time": "2022-06-13T07:51:35.273Z"
   },
   {
    "duration": 15,
    "start_time": "2022-06-13T07:51:35.279Z"
   },
   {
    "duration": 19,
    "start_time": "2022-06-13T07:51:35.296Z"
   },
   {
    "duration": 45,
    "start_time": "2022-06-13T07:51:35.316Z"
   },
   {
    "duration": 62,
    "start_time": "2022-06-13T07:51:35.363Z"
   },
   {
    "duration": 6,
    "start_time": "2022-06-13T07:51:35.427Z"
   },
   {
    "duration": 197,
    "start_time": "2022-06-13T07:51:35.434Z"
   },
   {
    "duration": 8,
    "start_time": "2022-06-13T07:51:35.632Z"
   },
   {
    "duration": 132,
    "start_time": "2022-06-13T07:51:35.642Z"
   },
   {
    "duration": 12,
    "start_time": "2022-06-13T07:51:35.777Z"
   },
   {
    "duration": 12,
    "start_time": "2022-06-13T07:51:35.791Z"
   },
   {
    "duration": 14,
    "start_time": "2022-06-13T07:51:35.805Z"
   },
   {
    "duration": 18,
    "start_time": "2022-06-13T07:51:35.820Z"
   },
   {
    "duration": 5,
    "start_time": "2022-06-13T07:51:42.783Z"
   },
   {
    "duration": 97,
    "start_time": "2022-06-13T07:51:56.543Z"
   },
   {
    "duration": 9,
    "start_time": "2022-06-13T07:52:03.683Z"
   },
   {
    "duration": 252,
    "start_time": "2022-06-13T07:52:36.322Z"
   },
   {
    "duration": 228,
    "start_time": "2022-06-13T07:53:14.625Z"
   },
   {
    "duration": 201,
    "start_time": "2022-06-13T07:53:33.762Z"
   },
   {
    "duration": 188,
    "start_time": "2022-06-13T07:54:28.394Z"
   },
   {
    "duration": 317,
    "start_time": "2022-06-13T07:55:10.073Z"
   },
   {
    "duration": 203,
    "start_time": "2022-06-13T07:55:29.595Z"
   },
   {
    "duration": 201,
    "start_time": "2022-06-13T07:55:36.524Z"
   },
   {
    "duration": 341,
    "start_time": "2022-06-13T07:56:10.685Z"
   },
   {
    "duration": 284,
    "start_time": "2022-06-13T07:56:15.236Z"
   },
   {
    "duration": 388,
    "start_time": "2022-06-13T07:56:18.163Z"
   },
   {
    "duration": 247,
    "start_time": "2022-06-13T07:56:28.726Z"
   },
   {
    "duration": 326,
    "start_time": "2022-06-13T07:57:01.111Z"
   },
   {
    "duration": 367,
    "start_time": "2022-06-13T07:57:13.729Z"
   },
   {
    "duration": 314,
    "start_time": "2022-06-13T07:57:45.734Z"
   },
   {
    "duration": 304,
    "start_time": "2022-06-13T07:57:52.492Z"
   },
   {
    "duration": 338,
    "start_time": "2022-06-13T07:58:00.027Z"
   },
   {
    "duration": 328,
    "start_time": "2022-06-13T07:58:10.572Z"
   },
   {
    "duration": 359,
    "start_time": "2022-06-13T07:58:37.088Z"
   },
   {
    "duration": 236,
    "start_time": "2022-06-13T07:58:45.619Z"
   },
   {
    "duration": 347,
    "start_time": "2022-06-13T07:58:51.950Z"
   },
   {
    "duration": 161,
    "start_time": "2022-06-13T08:02:28.511Z"
   },
   {
    "duration": 203,
    "start_time": "2022-06-13T08:05:07.445Z"
   },
   {
    "duration": 235,
    "start_time": "2022-06-13T08:05:20.614Z"
   },
   {
    "duration": 222,
    "start_time": "2022-06-13T08:05:30.171Z"
   },
   {
    "duration": 326,
    "start_time": "2022-06-13T08:07:58.406Z"
   },
   {
    "duration": 266,
    "start_time": "2022-06-13T08:09:17.475Z"
   },
   {
    "duration": 290,
    "start_time": "2022-06-13T08:10:52.893Z"
   },
   {
    "duration": 322,
    "start_time": "2022-06-13T08:11:23.317Z"
   },
   {
    "duration": 355,
    "start_time": "2022-06-13T08:12:00.933Z"
   },
   {
    "duration": 340,
    "start_time": "2022-06-13T08:12:09.654Z"
   },
   {
    "duration": 424,
    "start_time": "2022-06-13T08:12:28.065Z"
   },
   {
    "duration": 293,
    "start_time": "2022-06-13T08:12:37.593Z"
   },
   {
    "duration": 320,
    "start_time": "2022-06-13T08:13:00.777Z"
   },
   {
    "duration": 322,
    "start_time": "2022-06-13T08:13:07.293Z"
   },
   {
    "duration": 342,
    "start_time": "2022-06-13T08:13:19.468Z"
   },
   {
    "duration": 5,
    "start_time": "2022-06-13T08:23:00.920Z"
   },
   {
    "duration": 7,
    "start_time": "2022-06-13T08:23:30.515Z"
   },
   {
    "duration": 5,
    "start_time": "2022-06-13T08:23:38.129Z"
   },
   {
    "duration": 9,
    "start_time": "2022-06-13T08:23:49.156Z"
   },
   {
    "duration": 16,
    "start_time": "2022-06-13T08:25:26.221Z"
   },
   {
    "duration": 15,
    "start_time": "2022-06-13T08:25:36.668Z"
   },
   {
    "duration": 6,
    "start_time": "2022-06-13T08:25:36.890Z"
   },
   {
    "duration": 219,
    "start_time": "2022-06-13T08:25:40.437Z"
   },
   {
    "duration": 225,
    "start_time": "2022-06-13T08:26:22.034Z"
   },
   {
    "duration": 207,
    "start_time": "2022-06-13T08:27:39.559Z"
   },
   {
    "duration": 1106,
    "start_time": "2022-06-13T08:28:04.273Z"
   },
   {
    "duration": 69,
    "start_time": "2022-06-13T08:28:05.382Z"
   },
   {
    "duration": 12,
    "start_time": "2022-06-13T08:28:05.453Z"
   },
   {
    "duration": 18,
    "start_time": "2022-06-13T08:28:05.467Z"
   },
   {
    "duration": 11,
    "start_time": "2022-06-13T08:28:05.487Z"
   },
   {
    "duration": 11,
    "start_time": "2022-06-13T08:28:05.499Z"
   },
   {
    "duration": 13,
    "start_time": "2022-06-13T08:28:05.512Z"
   },
   {
    "duration": 9,
    "start_time": "2022-06-13T08:28:05.527Z"
   },
   {
    "duration": 5,
    "start_time": "2022-06-13T08:28:05.559Z"
   },
   {
    "duration": 22,
    "start_time": "2022-06-13T08:28:05.566Z"
   },
   {
    "duration": 7,
    "start_time": "2022-06-13T08:28:05.590Z"
   },
   {
    "duration": 9,
    "start_time": "2022-06-13T08:28:05.599Z"
   },
   {
    "duration": 9,
    "start_time": "2022-06-13T08:28:05.610Z"
   },
   {
    "duration": 37,
    "start_time": "2022-06-13T08:28:05.622Z"
   },
   {
    "duration": 7,
    "start_time": "2022-06-13T08:28:05.661Z"
   },
   {
    "duration": 14,
    "start_time": "2022-06-13T08:28:05.669Z"
   },
   {
    "duration": 14,
    "start_time": "2022-06-13T08:28:05.685Z"
   },
   {
    "duration": 27,
    "start_time": "2022-06-13T08:28:05.701Z"
   },
   {
    "duration": 30,
    "start_time": "2022-06-13T08:28:05.730Z"
   },
   {
    "duration": 12,
    "start_time": "2022-06-13T08:28:05.762Z"
   },
   {
    "duration": 5,
    "start_time": "2022-06-13T08:28:05.776Z"
   },
   {
    "duration": 12,
    "start_time": "2022-06-13T08:28:05.783Z"
   },
   {
    "duration": 82,
    "start_time": "2022-06-13T08:28:05.797Z"
   },
   {
    "duration": 6,
    "start_time": "2022-06-13T08:28:05.881Z"
   },
   {
    "duration": 205,
    "start_time": "2022-06-13T08:28:05.889Z"
   },
   {
    "duration": 9,
    "start_time": "2022-06-13T08:28:06.096Z"
   },
   {
    "duration": 139,
    "start_time": "2022-06-13T08:28:06.107Z"
   },
   {
    "duration": 10,
    "start_time": "2022-06-13T08:28:06.258Z"
   },
   {
    "duration": 10,
    "start_time": "2022-06-13T08:28:06.270Z"
   },
   {
    "duration": 15,
    "start_time": "2022-06-13T08:28:06.281Z"
   },
   {
    "duration": 16,
    "start_time": "2022-06-13T08:28:06.298Z"
   },
   {
    "duration": 12,
    "start_time": "2022-06-13T08:28:06.316Z"
   },
   {
    "duration": 326,
    "start_time": "2022-06-13T08:28:06.330Z"
   },
   {
    "duration": 217,
    "start_time": "2022-06-13T08:28:06.658Z"
   },
   {
    "duration": 6,
    "start_time": "2022-06-13T08:28:06.877Z"
   },
   {
    "duration": 307,
    "start_time": "2022-06-13T08:28:06.884Z"
   },
   {
    "duration": 7,
    "start_time": "2022-06-13T08:28:07.193Z"
   },
   {
    "duration": 18,
    "start_time": "2022-06-13T08:28:07.201Z"
   },
   {
    "duration": 6,
    "start_time": "2022-06-13T08:28:07.221Z"
   },
   {
    "duration": 306,
    "start_time": "2022-06-13T08:28:07.229Z"
   },
   {
    "duration": 230,
    "start_time": "2022-06-13T08:28:30.560Z"
   },
   {
    "duration": 212,
    "start_time": "2022-06-13T08:30:42.136Z"
   },
   {
    "duration": 256,
    "start_time": "2022-06-13T08:31:32.053Z"
   },
   {
    "duration": 288,
    "start_time": "2022-06-13T08:31:38.738Z"
   },
   {
    "duration": 226,
    "start_time": "2022-06-13T08:31:43.252Z"
   },
   {
    "duration": 231,
    "start_time": "2022-06-13T08:31:50.018Z"
   },
   {
    "duration": 199,
    "start_time": "2022-06-13T08:31:56.438Z"
   },
   {
    "duration": 212,
    "start_time": "2022-06-13T08:32:13.225Z"
   },
   {
    "duration": 227,
    "start_time": "2022-06-13T08:32:31.256Z"
   },
   {
    "duration": 33,
    "start_time": "2022-06-13T08:34:07.431Z"
   },
   {
    "duration": 26,
    "start_time": "2022-06-13T08:34:15.119Z"
   },
   {
    "duration": 10,
    "start_time": "2022-06-13T08:34:21.849Z"
   },
   {
    "duration": 26,
    "start_time": "2022-06-13T08:34:58.465Z"
   },
   {
    "duration": 8,
    "start_time": "2022-06-13T08:35:07.948Z"
   },
   {
    "duration": 17,
    "start_time": "2022-06-13T08:35:21.925Z"
   },
   {
    "duration": 357,
    "start_time": "2022-06-13T08:36:28.258Z"
   },
   {
    "duration": 316,
    "start_time": "2022-06-13T08:38:17.484Z"
   },
   {
    "duration": 328,
    "start_time": "2022-06-13T08:38:30.385Z"
   },
   {
    "duration": 269,
    "start_time": "2022-06-13T08:38:34.495Z"
   },
   {
    "duration": 296,
    "start_time": "2022-06-13T08:38:43.694Z"
   },
   {
    "duration": 428,
    "start_time": "2022-06-13T08:38:49.379Z"
   },
   {
    "duration": 315,
    "start_time": "2022-06-13T08:38:54.547Z"
   },
   {
    "duration": 338,
    "start_time": "2022-06-13T08:39:22.550Z"
   },
   {
    "duration": 330,
    "start_time": "2022-06-13T08:39:57.856Z"
   },
   {
    "duration": 335,
    "start_time": "2022-06-13T08:40:28.332Z"
   },
   {
    "duration": 357,
    "start_time": "2022-06-13T08:41:03.674Z"
   },
   {
    "duration": 312,
    "start_time": "2022-06-13T08:41:49.479Z"
   },
   {
    "duration": 395,
    "start_time": "2022-06-13T08:45:09.441Z"
   },
   {
    "duration": 19,
    "start_time": "2022-06-13T08:53:51.296Z"
   },
   {
    "duration": 496,
    "start_time": "2022-06-13T08:55:15.829Z"
   },
   {
    "duration": 169,
    "start_time": "2022-06-13T08:55:32.786Z"
   },
   {
    "duration": 130,
    "start_time": "2022-06-13T08:55:52.519Z"
   },
   {
    "duration": 137,
    "start_time": "2022-06-13T08:56:50.840Z"
   },
   {
    "duration": 223,
    "start_time": "2022-06-13T08:57:44.625Z"
   },
   {
    "duration": 138,
    "start_time": "2022-06-13T08:57:50.526Z"
   },
   {
    "duration": 141,
    "start_time": "2022-06-13T08:58:02.909Z"
   },
   {
    "duration": 130,
    "start_time": "2022-06-13T08:58:14.967Z"
   },
   {
    "duration": 129,
    "start_time": "2022-06-13T09:02:49.106Z"
   },
   {
    "duration": 7,
    "start_time": "2022-06-13T09:05:11.342Z"
   },
   {
    "duration": 5,
    "start_time": "2022-06-13T09:05:42.730Z"
   },
   {
    "duration": 5,
    "start_time": "2022-06-13T09:05:50.299Z"
   },
   {
    "duration": 6,
    "start_time": "2022-06-13T09:06:24.023Z"
   },
   {
    "duration": 157,
    "start_time": "2022-06-13T09:09:24.861Z"
   },
   {
    "duration": 146,
    "start_time": "2022-06-13T09:09:48.341Z"
   },
   {
    "duration": 123,
    "start_time": "2022-06-13T09:12:47.280Z"
   },
   {
    "duration": 180,
    "start_time": "2022-06-13T09:13:01.757Z"
   },
   {
    "duration": 133,
    "start_time": "2022-06-13T09:13:21.615Z"
   },
   {
    "duration": 138,
    "start_time": "2022-06-13T09:17:45.774Z"
   },
   {
    "duration": 217,
    "start_time": "2022-06-13T09:17:57.846Z"
   },
   {
    "duration": 141,
    "start_time": "2022-06-13T09:18:03.992Z"
   },
   {
    "duration": 159,
    "start_time": "2022-06-13T09:18:12.875Z"
   },
   {
    "duration": 159,
    "start_time": "2022-06-13T09:18:18.812Z"
   },
   {
    "duration": 147,
    "start_time": "2022-06-13T09:18:27.286Z"
   },
   {
    "duration": 138,
    "start_time": "2022-06-13T09:19:26.361Z"
   },
   {
    "duration": 138,
    "start_time": "2022-06-13T09:20:23.180Z"
   },
   {
    "duration": 5,
    "start_time": "2022-06-13T09:22:49.889Z"
   },
   {
    "duration": 1167,
    "start_time": "2022-06-13T09:23:19.646Z"
   },
   {
    "duration": 72,
    "start_time": "2022-06-13T09:23:20.816Z"
   },
   {
    "duration": 14,
    "start_time": "2022-06-13T09:23:20.889Z"
   },
   {
    "duration": 16,
    "start_time": "2022-06-13T09:23:20.905Z"
   },
   {
    "duration": 18,
    "start_time": "2022-06-13T09:23:20.922Z"
   },
   {
    "duration": 12,
    "start_time": "2022-06-13T09:23:20.942Z"
   },
   {
    "duration": 25,
    "start_time": "2022-06-13T09:23:20.956Z"
   },
   {
    "duration": 17,
    "start_time": "2022-06-13T09:23:20.983Z"
   },
   {
    "duration": 17,
    "start_time": "2022-06-13T09:23:21.002Z"
   },
   {
    "duration": 36,
    "start_time": "2022-06-13T09:23:21.024Z"
   },
   {
    "duration": 25,
    "start_time": "2022-06-13T09:23:21.062Z"
   },
   {
    "duration": 23,
    "start_time": "2022-06-13T09:23:21.089Z"
   },
   {
    "duration": 11,
    "start_time": "2022-06-13T09:23:21.114Z"
   },
   {
    "duration": 19,
    "start_time": "2022-06-13T09:23:21.127Z"
   },
   {
    "duration": 27,
    "start_time": "2022-06-13T09:23:21.148Z"
   },
   {
    "duration": 23,
    "start_time": "2022-06-13T09:23:21.177Z"
   },
   {
    "duration": 31,
    "start_time": "2022-06-13T09:23:21.202Z"
   },
   {
    "duration": 38,
    "start_time": "2022-06-13T09:23:21.236Z"
   },
   {
    "duration": 18,
    "start_time": "2022-06-13T09:23:21.275Z"
   },
   {
    "duration": 25,
    "start_time": "2022-06-13T09:23:21.294Z"
   },
   {
    "duration": 29,
    "start_time": "2022-06-13T09:23:21.320Z"
   },
   {
    "duration": 19,
    "start_time": "2022-06-13T09:23:21.351Z"
   },
   {
    "duration": 74,
    "start_time": "2022-06-13T09:23:21.372Z"
   },
   {
    "duration": 6,
    "start_time": "2022-06-13T09:23:21.448Z"
   },
   {
    "duration": 193,
    "start_time": "2022-06-13T09:23:21.456Z"
   },
   {
    "duration": 9,
    "start_time": "2022-06-13T09:23:21.651Z"
   },
   {
    "duration": 140,
    "start_time": "2022-06-13T09:23:21.662Z"
   },
   {
    "duration": 12,
    "start_time": "2022-06-13T09:23:21.807Z"
   },
   {
    "duration": 12,
    "start_time": "2022-06-13T09:23:21.821Z"
   },
   {
    "duration": 28,
    "start_time": "2022-06-13T09:23:21.836Z"
   },
   {
    "duration": 23,
    "start_time": "2022-06-13T09:23:21.866Z"
   },
   {
    "duration": 22,
    "start_time": "2022-06-13T09:23:21.892Z"
   },
   {
    "duration": 355,
    "start_time": "2022-06-13T09:23:21.916Z"
   },
   {
    "duration": 226,
    "start_time": "2022-06-13T09:23:22.273Z"
   },
   {
    "duration": 5,
    "start_time": "2022-06-13T09:23:22.501Z"
   },
   {
    "duration": 314,
    "start_time": "2022-06-13T09:23:22.508Z"
   },
   {
    "duration": 7,
    "start_time": "2022-06-13T09:23:22.825Z"
   },
   {
    "duration": 31,
    "start_time": "2022-06-13T09:23:22.834Z"
   },
   {
    "duration": 20,
    "start_time": "2022-06-13T09:23:22.867Z"
   },
   {
    "duration": 232,
    "start_time": "2022-06-13T09:23:22.889Z"
   },
   {
    "duration": 15,
    "start_time": "2022-06-13T09:23:23.124Z"
   },
   {
    "duration": 361,
    "start_time": "2022-06-13T09:23:23.141Z"
   },
   {
    "duration": 13,
    "start_time": "2022-06-13T09:23:23.504Z"
   },
   {
    "duration": 148,
    "start_time": "2022-06-13T09:23:23.518Z"
   },
   {
    "duration": 147,
    "start_time": "2022-06-13T09:23:23.668Z"
   },
   {
    "duration": 5,
    "start_time": "2022-06-13T09:23:23.817Z"
   },
   {
    "duration": 244,
    "start_time": "2022-06-13T09:23:23.824Z"
   },
   {
    "duration": 148,
    "start_time": "2022-06-13T09:23:24.070Z"
   },
   {
    "duration": 147,
    "start_time": "2022-06-13T09:23:24.220Z"
   },
   {
    "duration": 5,
    "start_time": "2022-06-13T09:23:24.369Z"
   },
   {
    "duration": 28,
    "start_time": "2022-06-13T09:53:02.844Z"
   },
   {
    "duration": 71,
    "start_time": "2022-06-13T09:53:17.790Z"
   },
   {
    "duration": 9,
    "start_time": "2022-06-13T09:58:14.902Z"
   },
   {
    "duration": 52,
    "start_time": "2022-06-13T09:58:15.071Z"
   },
   {
    "duration": 54,
    "start_time": "2022-06-13T09:58:33.846Z"
   },
   {
    "duration": 108,
    "start_time": "2022-06-13T10:05:28.277Z"
   },
   {
    "duration": 1131,
    "start_time": "2022-06-13T10:05:46.503Z"
   },
   {
    "duration": 69,
    "start_time": "2022-06-13T10:05:47.637Z"
   },
   {
    "duration": 13,
    "start_time": "2022-06-13T10:05:47.708Z"
   },
   {
    "duration": 17,
    "start_time": "2022-06-13T10:05:47.724Z"
   },
   {
    "duration": 12,
    "start_time": "2022-06-13T10:05:47.742Z"
   },
   {
    "duration": 14,
    "start_time": "2022-06-13T10:05:47.756Z"
   },
   {
    "duration": 12,
    "start_time": "2022-06-13T10:05:47.771Z"
   },
   {
    "duration": 11,
    "start_time": "2022-06-13T10:05:47.785Z"
   },
   {
    "duration": 5,
    "start_time": "2022-06-13T10:05:47.798Z"
   },
   {
    "duration": 23,
    "start_time": "2022-06-13T10:05:47.805Z"
   },
   {
    "duration": 29,
    "start_time": "2022-06-13T10:05:47.830Z"
   },
   {
    "duration": 9,
    "start_time": "2022-06-13T10:05:47.861Z"
   },
   {
    "duration": 8,
    "start_time": "2022-06-13T10:05:47.871Z"
   },
   {
    "duration": 9,
    "start_time": "2022-06-13T10:05:47.881Z"
   },
   {
    "duration": 8,
    "start_time": "2022-06-13T10:05:47.892Z"
   },
   {
    "duration": 10,
    "start_time": "2022-06-13T10:05:47.902Z"
   },
   {
    "duration": 46,
    "start_time": "2022-06-13T10:05:47.914Z"
   },
   {
    "duration": 28,
    "start_time": "2022-06-13T10:05:47.961Z"
   },
   {
    "duration": 5,
    "start_time": "2022-06-13T10:05:47.990Z"
   },
   {
    "duration": 15,
    "start_time": "2022-06-13T10:05:47.996Z"
   },
   {
    "duration": 6,
    "start_time": "2022-06-13T10:05:48.013Z"
   },
   {
    "duration": 13,
    "start_time": "2022-06-13T10:05:48.020Z"
   },
   {
    "duration": 54,
    "start_time": "2022-06-13T10:05:48.059Z"
   },
   {
    "duration": 6,
    "start_time": "2022-06-13T10:05:48.115Z"
   },
   {
    "duration": 212,
    "start_time": "2022-06-13T10:05:48.123Z"
   },
   {
    "duration": 9,
    "start_time": "2022-06-13T10:05:48.337Z"
   },
   {
    "duration": 144,
    "start_time": "2022-06-13T10:05:48.348Z"
   },
   {
    "duration": 9,
    "start_time": "2022-06-13T10:05:48.496Z"
   },
   {
    "duration": 16,
    "start_time": "2022-06-13T10:05:48.507Z"
   },
   {
    "duration": 16,
    "start_time": "2022-06-13T10:05:48.525Z"
   },
   {
    "duration": 18,
    "start_time": "2022-06-13T10:05:48.543Z"
   },
   {
    "duration": 16,
    "start_time": "2022-06-13T10:05:48.562Z"
   },
   {
    "duration": 317,
    "start_time": "2022-06-13T10:05:48.579Z"
   },
   {
    "duration": 229,
    "start_time": "2022-06-13T10:05:48.897Z"
   },
   {
    "duration": 7,
    "start_time": "2022-06-13T10:05:49.127Z"
   },
   {
    "duration": 363,
    "start_time": "2022-06-13T10:05:49.136Z"
   },
   {
    "duration": 7,
    "start_time": "2022-06-13T10:05:49.501Z"
   },
   {
    "duration": 16,
    "start_time": "2022-06-13T10:05:49.510Z"
   },
   {
    "duration": 8,
    "start_time": "2022-06-13T10:05:49.528Z"
   },
   {
    "duration": 264,
    "start_time": "2022-06-13T10:05:49.538Z"
   },
   {
    "duration": 22,
    "start_time": "2022-06-13T10:05:49.805Z"
   },
   {
    "duration": 387,
    "start_time": "2022-06-13T10:05:49.829Z"
   },
   {
    "duration": 14,
    "start_time": "2022-06-13T10:05:50.218Z"
   },
   {
    "duration": 150,
    "start_time": "2022-06-13T10:05:50.234Z"
   },
   {
    "duration": 145,
    "start_time": "2022-06-13T10:05:50.386Z"
   },
   {
    "duration": 6,
    "start_time": "2022-06-13T10:05:50.534Z"
   },
   {
    "duration": 241,
    "start_time": "2022-06-13T10:05:50.542Z"
   },
   {
    "duration": 169,
    "start_time": "2022-06-13T10:05:50.785Z"
   },
   {
    "duration": 148,
    "start_time": "2022-06-13T10:05:50.959Z"
   },
   {
    "duration": 6,
    "start_time": "2022-06-13T10:05:51.109Z"
   },
   {
    "duration": 12,
    "start_time": "2022-06-13T10:05:51.117Z"
   },
   {
    "duration": 74,
    "start_time": "2022-06-13T10:05:51.131Z"
   },
   {
    "duration": 13,
    "start_time": "2022-06-13T10:05:51.207Z"
   },
   {
    "duration": 69,
    "start_time": "2022-06-13T10:05:51.222Z"
   },
   {
    "duration": 112,
    "start_time": "2022-06-13T10:05:51.292Z"
   },
   {
    "duration": 0,
    "start_time": "2022-06-13T10:05:51.406Z"
   },
   {
    "duration": 0,
    "start_time": "2022-06-13T10:05:51.407Z"
   },
   {
    "duration": 0,
    "start_time": "2022-06-13T10:05:51.408Z"
   },
   {
    "duration": 0,
    "start_time": "2022-06-13T10:05:51.409Z"
   },
   {
    "duration": 0,
    "start_time": "2022-06-13T10:05:51.411Z"
   },
   {
    "duration": 0,
    "start_time": "2022-06-13T10:05:51.412Z"
   },
   {
    "duration": 0,
    "start_time": "2022-06-13T10:05:51.413Z"
   },
   {
    "duration": 22,
    "start_time": "2022-06-13T10:07:20.050Z"
   },
   {
    "duration": 59,
    "start_time": "2022-06-13T10:07:24.266Z"
   },
   {
    "duration": 23,
    "start_time": "2022-06-13T10:07:45.491Z"
   },
   {
    "duration": 22,
    "start_time": "2022-06-13T10:07:53.295Z"
   },
   {
    "duration": 57,
    "start_time": "2022-06-13T10:08:27.442Z"
   },
   {
    "duration": 31,
    "start_time": "2022-06-13T10:08:30.995Z"
   },
   {
    "duration": 17,
    "start_time": "2022-06-13T10:08:34.404Z"
   },
   {
    "duration": 81,
    "start_time": "2022-06-13T10:08:45.525Z"
   },
   {
    "duration": 126,
    "start_time": "2022-06-13T10:09:00.090Z"
   },
   {
    "duration": 5,
    "start_time": "2022-06-13T10:10:30.090Z"
   },
   {
    "duration": 5,
    "start_time": "2022-06-13T10:10:30.291Z"
   },
   {
    "duration": 24,
    "start_time": "2022-06-13T10:10:38.294Z"
   },
   {
    "duration": 33,
    "start_time": "2022-06-13T10:24:15.929Z"
   },
   {
    "duration": 35,
    "start_time": "2022-06-13T10:24:36.839Z"
   },
   {
    "duration": 23,
    "start_time": "2022-06-13T10:25:26.708Z"
   },
   {
    "duration": 9,
    "start_time": "2022-06-13T10:33:57.017Z"
   },
   {
    "duration": 10,
    "start_time": "2022-06-13T10:34:29.803Z"
   },
   {
    "duration": 13,
    "start_time": "2022-06-13T10:36:06.203Z"
   },
   {
    "duration": 9,
    "start_time": "2022-06-13T10:36:23.115Z"
   },
   {
    "duration": 36,
    "start_time": "2022-06-13T12:24:58.302Z"
   },
   {
    "duration": 12,
    "start_time": "2022-06-13T12:31:21.166Z"
   },
   {
    "duration": 6,
    "start_time": "2022-06-13T12:31:25.138Z"
   },
   {
    "duration": 5,
    "start_time": "2022-06-13T12:31:25.850Z"
   },
   {
    "duration": 8,
    "start_time": "2022-06-13T12:31:49.574Z"
   },
   {
    "duration": 6,
    "start_time": "2022-06-13T12:32:28.751Z"
   },
   {
    "duration": 7,
    "start_time": "2022-06-13T12:33:06.918Z"
   },
   {
    "duration": 7,
    "start_time": "2022-06-13T12:33:26.371Z"
   },
   {
    "duration": 6,
    "start_time": "2022-06-13T12:33:33.830Z"
   },
   {
    "duration": 7,
    "start_time": "2022-06-13T12:38:58.633Z"
   },
   {
    "duration": 6,
    "start_time": "2022-06-13T12:39:06.611Z"
   },
   {
    "duration": 26,
    "start_time": "2022-06-13T12:39:52.585Z"
   },
   {
    "duration": 6,
    "start_time": "2022-06-13T12:50:44.209Z"
   },
   {
    "duration": 193,
    "start_time": "2022-06-13T12:50:44.359Z"
   },
   {
    "duration": 8,
    "start_time": "2022-06-13T12:50:44.702Z"
   },
   {
    "duration": 138,
    "start_time": "2022-06-13T12:50:45.045Z"
   },
   {
    "duration": 9,
    "start_time": "2022-06-13T12:50:45.236Z"
   },
   {
    "duration": 8,
    "start_time": "2022-06-13T12:50:45.400Z"
   },
   {
    "duration": 10,
    "start_time": "2022-06-13T12:50:45.583Z"
   },
   {
    "duration": 13,
    "start_time": "2022-06-13T12:50:45.753Z"
   },
   {
    "duration": 10,
    "start_time": "2022-06-13T12:50:45.928Z"
   },
   {
    "duration": 248,
    "start_time": "2022-06-13T12:50:46.136Z"
   },
   {
    "duration": 237,
    "start_time": "2022-06-13T12:50:46.974Z"
   },
   {
    "duration": 7,
    "start_time": "2022-06-13T12:50:48.129Z"
   },
   {
    "duration": 310,
    "start_time": "2022-06-13T12:50:48.919Z"
   },
   {
    "duration": 8,
    "start_time": "2022-06-13T12:50:50.050Z"
   },
   {
    "duration": 15,
    "start_time": "2022-06-13T12:50:50.400Z"
   },
   {
    "duration": 5,
    "start_time": "2022-06-13T12:50:50.727Z"
   },
   {
    "duration": 254,
    "start_time": "2022-06-13T12:50:51.033Z"
   },
   {
    "duration": 14,
    "start_time": "2022-06-13T12:50:52.223Z"
   },
   {
    "duration": 359,
    "start_time": "2022-06-13T12:50:52.548Z"
   },
   {
    "duration": 10,
    "start_time": "2022-06-13T12:56:31.311Z"
   },
   {
    "duration": 446,
    "start_time": "2022-06-13T12:56:40.112Z"
   },
   {
    "duration": 11,
    "start_time": "2022-06-13T13:03:32.824Z"
   },
   {
    "duration": 8,
    "start_time": "2022-06-13T13:03:48.779Z"
   },
   {
    "duration": 15,
    "start_time": "2022-06-13T13:09:34.927Z"
   },
   {
    "duration": 5,
    "start_time": "2022-06-13T13:14:35.787Z"
   },
   {
    "duration": 5,
    "start_time": "2022-06-13T13:14:36.595Z"
   },
   {
    "duration": 6,
    "start_time": "2022-06-13T13:14:38.627Z"
   },
   {
    "duration": 6,
    "start_time": "2022-06-13T13:14:53.513Z"
   },
   {
    "duration": 6,
    "start_time": "2022-06-13T13:14:54.247Z"
   },
   {
    "duration": 39,
    "start_time": "2022-06-13T13:14:56.449Z"
   },
   {
    "duration": 15,
    "start_time": "2022-06-13T13:16:38.704Z"
   },
   {
    "duration": 16,
    "start_time": "2022-06-13T13:36:56.497Z"
   },
   {
    "duration": 1138,
    "start_time": "2022-06-13T13:37:17.899Z"
   },
   {
    "duration": 81,
    "start_time": "2022-06-13T13:37:19.040Z"
   },
   {
    "duration": 13,
    "start_time": "2022-06-13T13:37:19.123Z"
   },
   {
    "duration": 35,
    "start_time": "2022-06-13T13:37:19.138Z"
   },
   {
    "duration": 24,
    "start_time": "2022-06-13T13:37:19.175Z"
   },
   {
    "duration": 23,
    "start_time": "2022-06-13T13:37:19.201Z"
   },
   {
    "duration": 22,
    "start_time": "2022-06-13T13:37:19.226Z"
   },
   {
    "duration": 32,
    "start_time": "2022-06-13T13:37:19.250Z"
   },
   {
    "duration": 16,
    "start_time": "2022-06-13T13:37:19.284Z"
   },
   {
    "duration": 36,
    "start_time": "2022-06-13T13:37:19.302Z"
   },
   {
    "duration": 12,
    "start_time": "2022-06-13T13:37:19.339Z"
   },
   {
    "duration": 45,
    "start_time": "2022-06-13T13:37:19.353Z"
   },
   {
    "duration": 27,
    "start_time": "2022-06-13T13:37:19.400Z"
   },
   {
    "duration": 30,
    "start_time": "2022-06-13T13:37:19.429Z"
   },
   {
    "duration": 39,
    "start_time": "2022-06-13T13:37:19.461Z"
   },
   {
    "duration": 15,
    "start_time": "2022-06-13T13:37:19.501Z"
   },
   {
    "duration": 30,
    "start_time": "2022-06-13T13:37:19.518Z"
   },
   {
    "duration": 33,
    "start_time": "2022-06-13T13:37:19.550Z"
   },
   {
    "duration": 5,
    "start_time": "2022-06-13T13:37:19.585Z"
   },
   {
    "duration": 25,
    "start_time": "2022-06-13T13:37:19.592Z"
   },
   {
    "duration": 19,
    "start_time": "2022-06-13T13:37:19.619Z"
   },
   {
    "duration": 19,
    "start_time": "2022-06-13T13:37:19.639Z"
   },
   {
    "duration": 71,
    "start_time": "2022-06-13T13:37:19.660Z"
   },
   {
    "duration": 6,
    "start_time": "2022-06-13T13:37:19.733Z"
   },
   {
    "duration": 217,
    "start_time": "2022-06-13T13:37:19.740Z"
   },
   {
    "duration": 13,
    "start_time": "2022-06-13T13:37:19.960Z"
   },
   {
    "duration": 152,
    "start_time": "2022-06-13T13:37:19.975Z"
   },
   {
    "duration": 8,
    "start_time": "2022-06-13T13:37:20.131Z"
   },
   {
    "duration": 30,
    "start_time": "2022-06-13T13:37:20.140Z"
   },
   {
    "duration": 43,
    "start_time": "2022-06-13T13:37:20.173Z"
   },
   {
    "duration": 24,
    "start_time": "2022-06-13T13:37:20.218Z"
   },
   {
    "duration": 40,
    "start_time": "2022-06-13T13:37:20.244Z"
   },
   {
    "duration": 336,
    "start_time": "2022-06-13T13:37:20.286Z"
   },
   {
    "duration": 243,
    "start_time": "2022-06-13T13:37:20.624Z"
   },
   {
    "duration": 9,
    "start_time": "2022-06-13T13:37:20.870Z"
   },
   {
    "duration": 334,
    "start_time": "2022-06-13T13:37:20.881Z"
   },
   {
    "duration": 6,
    "start_time": "2022-06-13T13:37:21.217Z"
   },
   {
    "duration": 24,
    "start_time": "2022-06-13T13:37:21.224Z"
   },
   {
    "duration": 35,
    "start_time": "2022-06-13T13:37:21.249Z"
   },
   {
    "duration": 281,
    "start_time": "2022-06-13T13:37:21.286Z"
   },
   {
    "duration": 16,
    "start_time": "2022-06-13T13:37:21.569Z"
   },
   {
    "duration": 388,
    "start_time": "2022-06-13T13:37:21.587Z"
   },
   {
    "duration": 17,
    "start_time": "2022-06-13T13:37:21.979Z"
   },
   {
    "duration": 189,
    "start_time": "2022-06-13T13:37:21.999Z"
   },
   {
    "duration": 150,
    "start_time": "2022-06-13T13:37:22.192Z"
   },
   {
    "duration": 19,
    "start_time": "2022-06-13T13:37:22.344Z"
   },
   {
    "duration": 266,
    "start_time": "2022-06-13T13:37:22.365Z"
   },
   {
    "duration": 166,
    "start_time": "2022-06-13T13:37:22.633Z"
   },
   {
    "duration": 167,
    "start_time": "2022-06-13T13:37:22.801Z"
   },
   {
    "duration": 7,
    "start_time": "2022-06-13T13:37:22.970Z"
   },
   {
    "duration": 13,
    "start_time": "2022-06-13T13:37:22.979Z"
   },
   {
    "duration": 76,
    "start_time": "2022-06-13T13:37:22.993Z"
   },
   {
    "duration": 14,
    "start_time": "2022-06-13T13:37:23.073Z"
   },
   {
    "duration": 55,
    "start_time": "2022-06-13T13:37:23.089Z"
   },
   {
    "duration": 37,
    "start_time": "2022-06-13T13:37:23.146Z"
   },
   {
    "duration": 74,
    "start_time": "2022-06-13T13:37:23.185Z"
   },
   {
    "duration": 25,
    "start_time": "2022-06-13T13:37:23.261Z"
   },
   {
    "duration": 81,
    "start_time": "2022-06-13T13:37:23.288Z"
   },
   {
    "duration": 40,
    "start_time": "2022-06-13T13:37:23.372Z"
   },
   {
    "duration": 94,
    "start_time": "2022-06-13T13:37:23.414Z"
   },
   {
    "duration": 112,
    "start_time": "2022-06-13T13:37:23.510Z"
   },
   {
    "duration": 6,
    "start_time": "2022-06-13T13:37:23.624Z"
   },
   {
    "duration": 6,
    "start_time": "2022-06-13T13:37:23.632Z"
   },
   {
    "duration": 54,
    "start_time": "2022-06-13T13:37:23.640Z"
   },
   {
    "duration": 13,
    "start_time": "2022-06-13T13:37:23.696Z"
   },
   {
    "duration": 20,
    "start_time": "2022-06-13T13:37:23.713Z"
   },
   {
    "duration": 15,
    "start_time": "2022-06-13T13:37:23.735Z"
   },
   {
    "duration": 8,
    "start_time": "2022-06-13T13:37:23.758Z"
   },
   {
    "duration": 28,
    "start_time": "2022-06-13T13:37:23.769Z"
   },
   {
    "duration": 11,
    "start_time": "2022-06-13T13:37:23.799Z"
   },
   {
    "duration": 32,
    "start_time": "2022-06-13T13:37:23.812Z"
   },
   {
    "duration": 20,
    "start_time": "2022-06-13T13:37:23.846Z"
   },
   {
    "duration": 1273,
    "start_time": "2022-06-13T13:43:18.379Z"
   },
   {
    "duration": 82,
    "start_time": "2022-06-13T13:43:19.654Z"
   },
   {
    "duration": 13,
    "start_time": "2022-06-13T13:43:19.738Z"
   },
   {
    "duration": 35,
    "start_time": "2022-06-13T13:43:19.755Z"
   },
   {
    "duration": 19,
    "start_time": "2022-06-13T13:43:19.792Z"
   },
   {
    "duration": 17,
    "start_time": "2022-06-13T13:43:19.813Z"
   },
   {
    "duration": 17,
    "start_time": "2022-06-13T13:43:19.833Z"
   },
   {
    "duration": 15,
    "start_time": "2022-06-13T13:43:19.852Z"
   },
   {
    "duration": 22,
    "start_time": "2022-06-13T13:43:19.869Z"
   },
   {
    "duration": 28,
    "start_time": "2022-06-13T13:43:19.894Z"
   },
   {
    "duration": 8,
    "start_time": "2022-06-13T13:43:19.924Z"
   },
   {
    "duration": 9,
    "start_time": "2022-06-13T13:43:19.934Z"
   },
   {
    "duration": 24,
    "start_time": "2022-06-13T13:43:19.945Z"
   },
   {
    "duration": 22,
    "start_time": "2022-06-13T13:43:19.971Z"
   },
   {
    "duration": 10,
    "start_time": "2022-06-13T13:43:19.995Z"
   },
   {
    "duration": 12,
    "start_time": "2022-06-13T13:43:20.006Z"
   },
   {
    "duration": 37,
    "start_time": "2022-06-13T13:43:20.020Z"
   },
   {
    "duration": 36,
    "start_time": "2022-06-13T13:43:20.060Z"
   },
   {
    "duration": 5,
    "start_time": "2022-06-13T13:43:20.099Z"
   },
   {
    "duration": 20,
    "start_time": "2022-06-13T13:43:20.106Z"
   },
   {
    "duration": 31,
    "start_time": "2022-06-13T13:43:20.128Z"
   },
   {
    "duration": 34,
    "start_time": "2022-06-13T13:43:20.161Z"
   },
   {
    "duration": 54,
    "start_time": "2022-06-13T13:43:20.197Z"
   },
   {
    "duration": 13,
    "start_time": "2022-06-13T13:43:20.253Z"
   },
   {
    "duration": 235,
    "start_time": "2022-06-13T13:43:20.269Z"
   },
   {
    "duration": 9,
    "start_time": "2022-06-13T13:43:20.506Z"
   },
   {
    "duration": 162,
    "start_time": "2022-06-13T13:43:20.516Z"
   },
   {
    "duration": 9,
    "start_time": "2022-06-13T13:43:20.683Z"
   },
   {
    "duration": 15,
    "start_time": "2022-06-13T13:43:20.694Z"
   },
   {
    "duration": 25,
    "start_time": "2022-06-13T13:43:20.712Z"
   },
   {
    "duration": 21,
    "start_time": "2022-06-13T13:43:20.739Z"
   },
   {
    "duration": 31,
    "start_time": "2022-06-13T13:43:20.762Z"
   },
   {
    "duration": 355,
    "start_time": "2022-06-13T13:43:20.795Z"
   },
   {
    "duration": 259,
    "start_time": "2022-06-13T13:43:21.152Z"
   },
   {
    "duration": 7,
    "start_time": "2022-06-13T13:43:21.414Z"
   },
   {
    "duration": 409,
    "start_time": "2022-06-13T13:43:21.422Z"
   },
   {
    "duration": 7,
    "start_time": "2022-06-13T13:43:21.834Z"
   },
   {
    "duration": 59,
    "start_time": "2022-06-13T13:43:21.843Z"
   },
   {
    "duration": 10,
    "start_time": "2022-06-13T13:43:21.904Z"
   },
   {
    "duration": 330,
    "start_time": "2022-06-13T13:43:21.916Z"
   },
   {
    "duration": 25,
    "start_time": "2022-06-13T13:43:22.249Z"
   },
   {
    "duration": 362,
    "start_time": "2022-06-13T13:43:22.277Z"
   },
   {
    "duration": 25,
    "start_time": "2022-06-13T13:43:22.641Z"
   },
   {
    "duration": 202,
    "start_time": "2022-06-13T13:43:22.668Z"
   },
   {
    "duration": 154,
    "start_time": "2022-06-13T13:43:22.873Z"
   },
   {
    "duration": 5,
    "start_time": "2022-06-13T13:43:23.029Z"
   },
   {
    "duration": 279,
    "start_time": "2022-06-13T13:43:23.036Z"
   },
   {
    "duration": 185,
    "start_time": "2022-06-13T13:43:23.317Z"
   },
   {
    "duration": 167,
    "start_time": "2022-06-13T13:43:23.504Z"
   },
   {
    "duration": 12,
    "start_time": "2022-06-13T13:43:23.674Z"
   },
   {
    "duration": 28,
    "start_time": "2022-06-13T13:43:23.690Z"
   },
   {
    "duration": 83,
    "start_time": "2022-06-13T13:43:23.720Z"
   },
   {
    "duration": 9,
    "start_time": "2022-06-13T13:43:23.805Z"
   },
   {
    "duration": 69,
    "start_time": "2022-06-13T13:43:23.815Z"
   },
   {
    "duration": 25,
    "start_time": "2022-06-13T13:43:23.886Z"
   },
   {
    "duration": 77,
    "start_time": "2022-06-13T13:43:23.913Z"
   },
   {
    "duration": 38,
    "start_time": "2022-06-13T13:43:23.992Z"
   },
   {
    "duration": 69,
    "start_time": "2022-06-13T13:43:24.032Z"
   },
   {
    "duration": 49,
    "start_time": "2022-06-13T13:43:24.102Z"
   },
   {
    "duration": 93,
    "start_time": "2022-06-13T13:43:24.153Z"
   },
   {
    "duration": 97,
    "start_time": "2022-06-13T13:43:24.248Z"
   },
   {
    "duration": 5,
    "start_time": "2022-06-13T13:43:24.347Z"
   },
   {
    "duration": 22,
    "start_time": "2022-06-13T13:43:24.359Z"
   },
   {
    "duration": 30,
    "start_time": "2022-06-13T13:43:24.383Z"
   },
   {
    "duration": 12,
    "start_time": "2022-06-13T13:43:24.414Z"
   },
   {
    "duration": 12,
    "start_time": "2022-06-13T13:43:24.428Z"
   },
   {
    "duration": 11,
    "start_time": "2022-06-13T13:43:24.442Z"
   },
   {
    "duration": 28,
    "start_time": "2022-06-13T13:43:24.455Z"
   },
   {
    "duration": 13,
    "start_time": "2022-06-13T13:43:24.485Z"
   },
   {
    "duration": 11,
    "start_time": "2022-06-13T13:43:24.500Z"
   },
   {
    "duration": 30,
    "start_time": "2022-06-13T13:43:24.513Z"
   },
   {
    "duration": 17,
    "start_time": "2022-06-13T13:43:24.545Z"
   },
   {
    "duration": 42,
    "start_time": "2022-06-14T10:16:19.672Z"
   },
   {
    "duration": 1129,
    "start_time": "2022-06-14T10:16:58.182Z"
   },
   {
    "duration": 206,
    "start_time": "2022-06-14T10:16:59.313Z"
   },
   {
    "duration": 10,
    "start_time": "2022-06-14T10:16:59.521Z"
   },
   {
    "duration": 11,
    "start_time": "2022-06-14T10:16:59.533Z"
   },
   {
    "duration": 9,
    "start_time": "2022-06-14T10:16:59.546Z"
   },
   {
    "duration": 8,
    "start_time": "2022-06-14T10:16:59.556Z"
   },
   {
    "duration": 9,
    "start_time": "2022-06-14T10:16:59.566Z"
   },
   {
    "duration": 9,
    "start_time": "2022-06-14T10:16:59.576Z"
   },
   {
    "duration": 3,
    "start_time": "2022-06-14T10:16:59.591Z"
   },
   {
    "duration": 18,
    "start_time": "2022-06-14T10:16:59.596Z"
   },
   {
    "duration": 6,
    "start_time": "2022-06-14T10:16:59.615Z"
   },
   {
    "duration": 11,
    "start_time": "2022-06-14T10:16:59.622Z"
   },
   {
    "duration": 6,
    "start_time": "2022-06-14T10:16:59.634Z"
   },
   {
    "duration": 8,
    "start_time": "2022-06-14T10:16:59.641Z"
   },
   {
    "duration": 9,
    "start_time": "2022-06-14T10:16:59.650Z"
   },
   {
    "duration": 7,
    "start_time": "2022-06-14T10:16:59.691Z"
   },
   {
    "duration": 11,
    "start_time": "2022-06-14T10:16:59.699Z"
   },
   {
    "duration": 19,
    "start_time": "2022-06-14T10:16:59.712Z"
   },
   {
    "duration": 3,
    "start_time": "2022-06-14T10:16:59.732Z"
   },
   {
    "duration": 11,
    "start_time": "2022-06-14T10:16:59.737Z"
   },
   {
    "duration": 9,
    "start_time": "2022-06-14T10:16:59.749Z"
   },
   {
    "duration": 39,
    "start_time": "2022-06-14T10:16:59.759Z"
   },
   {
    "duration": 49,
    "start_time": "2022-06-14T10:16:59.799Z"
   },
   {
    "duration": 4,
    "start_time": "2022-06-14T10:16:59.849Z"
   },
   {
    "duration": 175,
    "start_time": "2022-06-14T10:16:59.854Z"
   },
   {
    "duration": 7,
    "start_time": "2022-06-14T10:17:00.031Z"
   },
   {
    "duration": 120,
    "start_time": "2022-06-14T10:17:00.040Z"
   },
   {
    "duration": 19,
    "start_time": "2022-06-14T10:17:00.164Z"
   },
   {
    "duration": 35,
    "start_time": "2022-06-14T10:17:00.184Z"
   },
   {
    "duration": 20,
    "start_time": "2022-06-14T10:17:00.221Z"
   },
   {
    "duration": 20,
    "start_time": "2022-06-14T10:17:00.243Z"
   },
   {
    "duration": 22,
    "start_time": "2022-06-14T10:17:00.265Z"
   },
   {
    "duration": 264,
    "start_time": "2022-06-14T10:17:00.289Z"
   },
   {
    "duration": 189,
    "start_time": "2022-06-14T10:17:00.554Z"
   },
   {
    "duration": 5,
    "start_time": "2022-06-14T10:17:00.745Z"
   },
   {
    "duration": 371,
    "start_time": "2022-06-14T10:17:00.751Z"
   },
   {
    "duration": 5,
    "start_time": "2022-06-14T10:17:01.123Z"
   },
   {
    "duration": 30,
    "start_time": "2022-06-14T10:17:01.130Z"
   },
   {
    "duration": 35,
    "start_time": "2022-06-14T10:17:01.161Z"
   },
   {
    "duration": 213,
    "start_time": "2022-06-14T10:17:01.198Z"
   },
   {
    "duration": 11,
    "start_time": "2022-06-14T10:17:01.413Z"
   },
   {
    "duration": 279,
    "start_time": "2022-06-14T10:17:01.425Z"
   },
   {
    "duration": 11,
    "start_time": "2022-06-14T10:17:01.706Z"
   },
   {
    "duration": 140,
    "start_time": "2022-06-14T10:17:01.718Z"
   },
   {
    "duration": 117,
    "start_time": "2022-06-14T10:17:01.859Z"
   },
   {
    "duration": 14,
    "start_time": "2022-06-14T10:17:01.977Z"
   },
   {
    "duration": 234,
    "start_time": "2022-06-14T10:17:01.993Z"
   },
   {
    "duration": 120,
    "start_time": "2022-06-14T10:17:02.228Z"
   },
   {
    "duration": 126,
    "start_time": "2022-06-14T10:17:02.349Z"
   },
   {
    "duration": 4,
    "start_time": "2022-06-14T10:17:02.477Z"
   },
   {
    "duration": 16,
    "start_time": "2022-06-14T10:17:02.482Z"
   },
   {
    "duration": 43,
    "start_time": "2022-06-14T10:17:02.499Z"
   },
   {
    "duration": 10,
    "start_time": "2022-06-14T10:17:02.543Z"
   },
   {
    "duration": 68,
    "start_time": "2022-06-14T10:17:02.555Z"
   },
   {
    "duration": 17,
    "start_time": "2022-06-14T10:17:02.625Z"
   },
   {
    "duration": 63,
    "start_time": "2022-06-14T10:17:02.644Z"
   },
   {
    "duration": 16,
    "start_time": "2022-06-14T10:17:02.708Z"
   },
   {
    "duration": 69,
    "start_time": "2022-06-14T10:17:02.726Z"
   },
   {
    "duration": 35,
    "start_time": "2022-06-14T10:17:02.796Z"
   },
   {
    "duration": 78,
    "start_time": "2022-06-14T10:17:02.833Z"
   },
   {
    "duration": 80,
    "start_time": "2022-06-14T10:17:02.913Z"
   },
   {
    "duration": 6,
    "start_time": "2022-06-14T10:17:02.995Z"
   },
   {
    "duration": 6,
    "start_time": "2022-06-14T10:17:03.002Z"
   },
   {
    "duration": 21,
    "start_time": "2022-06-14T10:17:03.009Z"
   },
   {
    "duration": 9,
    "start_time": "2022-06-14T10:17:03.032Z"
   },
   {
    "duration": 120,
    "start_time": "2022-06-14T10:17:03.043Z"
   },
   {
    "duration": 0,
    "start_time": "2022-06-14T10:17:03.164Z"
   },
   {
    "duration": 0,
    "start_time": "2022-06-14T10:17:03.165Z"
   },
   {
    "duration": 0,
    "start_time": "2022-06-14T10:17:03.166Z"
   },
   {
    "duration": 0,
    "start_time": "2022-06-14T10:17:03.167Z"
   },
   {
    "duration": 0,
    "start_time": "2022-06-14T10:17:03.168Z"
   },
   {
    "duration": 0,
    "start_time": "2022-06-14T10:17:03.169Z"
   },
   {
    "duration": 8,
    "start_time": "2022-06-14T10:19:59.204Z"
   },
   {
    "duration": 14,
    "start_time": "2022-06-14T10:20:11.508Z"
   },
   {
    "duration": 12,
    "start_time": "2022-06-14T10:20:19.246Z"
   },
   {
    "duration": 6,
    "start_time": "2022-06-14T10:25:51.605Z"
   },
   {
    "duration": 11,
    "start_time": "2022-06-14T10:44:50.949Z"
   },
   {
    "duration": 3,
    "start_time": "2022-06-14T10:48:09.670Z"
   },
   {
    "duration": 3,
    "start_time": "2022-06-14T10:48:12.701Z"
   },
   {
    "duration": 9,
    "start_time": "2022-06-14T10:48:38.558Z"
   },
   {
    "duration": 3,
    "start_time": "2022-06-14T10:48:51.156Z"
   },
   {
    "duration": 3,
    "start_time": "2022-06-14T10:48:54.710Z"
   },
   {
    "duration": 9,
    "start_time": "2022-06-14T10:48:55.868Z"
   },
   {
    "duration": 4,
    "start_time": "2022-06-14T10:50:09.413Z"
   },
   {
    "duration": 4,
    "start_time": "2022-06-14T10:50:13.284Z"
   },
   {
    "duration": 7,
    "start_time": "2022-06-14T10:51:05.199Z"
   },
   {
    "duration": 9,
    "start_time": "2022-06-14T10:52:34.583Z"
   },
   {
    "duration": 11,
    "start_time": "2022-06-14T10:57:06.415Z"
   },
   {
    "duration": 11,
    "start_time": "2022-06-14T11:07:09.044Z"
   },
   {
    "duration": 31,
    "start_time": "2022-06-14T11:07:21.490Z"
   },
   {
    "duration": 45,
    "start_time": "2022-06-14T11:08:18.003Z"
   },
   {
    "duration": 4,
    "start_time": "2022-06-14T11:08:53.860Z"
   },
   {
    "duration": 4,
    "start_time": "2022-06-14T11:08:54.697Z"
   },
   {
    "duration": 69,
    "start_time": "2022-06-14T11:16:10.092Z"
   },
   {
    "duration": 111,
    "start_time": "2022-06-14T11:16:16.965Z"
   },
   {
    "duration": 68,
    "start_time": "2022-06-14T11:16:25.722Z"
   },
   {
    "duration": 74,
    "start_time": "2022-06-14T11:16:42.354Z"
   },
   {
    "duration": 72,
    "start_time": "2022-06-14T11:16:50.126Z"
   },
   {
    "duration": 38,
    "start_time": "2022-06-14T11:23:02.219Z"
   },
   {
    "duration": 5,
    "start_time": "2022-06-14T11:23:20.719Z"
   },
   {
    "duration": 4,
    "start_time": "2022-06-14T11:23:29.790Z"
   },
   {
    "duration": 5,
    "start_time": "2022-06-14T11:23:31.324Z"
   },
   {
    "duration": 6,
    "start_time": "2022-06-14T11:23:33.652Z"
   },
   {
    "duration": 6,
    "start_time": "2022-06-14T11:23:34.181Z"
   },
   {
    "duration": 18,
    "start_time": "2022-06-14T11:23:35.278Z"
   },
   {
    "duration": 13,
    "start_time": "2022-06-14T11:23:47.798Z"
   },
   {
    "duration": 3,
    "start_time": "2022-06-14T11:29:47.481Z"
   },
   {
    "duration": 7,
    "start_time": "2022-06-14T11:29:56.169Z"
   },
   {
    "duration": 7,
    "start_time": "2022-06-14T11:30:04.633Z"
   },
   {
    "duration": 5,
    "start_time": "2022-06-14T11:30:52.784Z"
   },
   {
    "duration": 8,
    "start_time": "2022-06-14T11:30:53.337Z"
   },
   {
    "duration": 5,
    "start_time": "2022-06-14T11:31:08.666Z"
   },
   {
    "duration": 5,
    "start_time": "2022-06-14T11:31:12.605Z"
   },
   {
    "duration": 18,
    "start_time": "2022-06-14T11:31:15.385Z"
   },
   {
    "duration": 4,
    "start_time": "2022-06-14T11:31:31.915Z"
   },
   {
    "duration": 4,
    "start_time": "2022-06-14T11:31:42.003Z"
   },
   {
    "duration": 3,
    "start_time": "2022-06-14T11:31:43.610Z"
   },
   {
    "duration": 8,
    "start_time": "2022-06-14T11:32:21.634Z"
   },
   {
    "duration": 9,
    "start_time": "2022-06-14T11:32:51.703Z"
   },
   {
    "duration": 12,
    "start_time": "2022-06-14T11:33:34.108Z"
   },
   {
    "duration": 3,
    "start_time": "2022-06-14T11:35:58.903Z"
   },
   {
    "duration": 13,
    "start_time": "2022-06-14T11:36:09.787Z"
   },
   {
    "duration": 5,
    "start_time": "2022-06-14T11:36:23.430Z"
   },
   {
    "duration": 4,
    "start_time": "2022-06-14T11:43:59.143Z"
   },
   {
    "duration": 6,
    "start_time": "2022-06-14T11:44:01.805Z"
   },
   {
    "duration": 1010,
    "start_time": "2022-06-14T11:44:07.353Z"
   },
   {
    "duration": 71,
    "start_time": "2022-06-14T11:44:08.365Z"
   },
   {
    "duration": 10,
    "start_time": "2022-06-14T11:44:08.437Z"
   },
   {
    "duration": 12,
    "start_time": "2022-06-14T11:44:08.449Z"
   },
   {
    "duration": 9,
    "start_time": "2022-06-14T11:44:08.463Z"
   },
   {
    "duration": 16,
    "start_time": "2022-06-14T11:44:08.474Z"
   },
   {
    "duration": 22,
    "start_time": "2022-06-14T11:44:08.492Z"
   },
   {
    "duration": 14,
    "start_time": "2022-06-14T11:44:08.516Z"
   },
   {
    "duration": 3,
    "start_time": "2022-06-14T11:44:08.531Z"
   },
   {
    "duration": 20,
    "start_time": "2022-06-14T11:44:08.536Z"
   },
   {
    "duration": 6,
    "start_time": "2022-06-14T11:44:08.557Z"
   },
   {
    "duration": 10,
    "start_time": "2022-06-14T11:44:08.564Z"
   },
   {
    "duration": 20,
    "start_time": "2022-06-14T11:44:08.576Z"
   },
   {
    "duration": 13,
    "start_time": "2022-06-14T11:44:08.599Z"
   },
   {
    "duration": 12,
    "start_time": "2022-06-14T11:44:08.614Z"
   },
   {
    "duration": 5,
    "start_time": "2022-06-14T11:44:08.628Z"
   },
   {
    "duration": 15,
    "start_time": "2022-06-14T11:44:08.634Z"
   },
   {
    "duration": 20,
    "start_time": "2022-06-14T11:44:08.651Z"
   },
   {
    "duration": 20,
    "start_time": "2022-06-14T11:44:08.672Z"
   },
   {
    "duration": 23,
    "start_time": "2022-06-14T11:44:08.694Z"
   },
   {
    "duration": 7,
    "start_time": "2022-06-14T11:44:08.718Z"
   },
   {
    "duration": 11,
    "start_time": "2022-06-14T11:44:08.727Z"
   },
   {
    "duration": 45,
    "start_time": "2022-06-14T11:44:08.739Z"
   },
   {
    "duration": 5,
    "start_time": "2022-06-14T11:44:08.791Z"
   },
   {
    "duration": 198,
    "start_time": "2022-06-14T11:44:08.798Z"
   },
   {
    "duration": 10,
    "start_time": "2022-06-14T11:44:08.997Z"
   },
   {
    "duration": 129,
    "start_time": "2022-06-14T11:44:09.008Z"
   },
   {
    "duration": 13,
    "start_time": "2022-06-14T11:44:09.138Z"
   },
   {
    "duration": 10,
    "start_time": "2022-06-14T11:44:09.152Z"
   },
   {
    "duration": 10,
    "start_time": "2022-06-14T11:44:09.164Z"
   },
   {
    "duration": 18,
    "start_time": "2022-06-14T11:44:09.175Z"
   },
   {
    "duration": 21,
    "start_time": "2022-06-14T11:44:09.194Z"
   },
   {
    "duration": 255,
    "start_time": "2022-06-14T11:44:09.219Z"
   },
   {
    "duration": 202,
    "start_time": "2022-06-14T11:44:09.476Z"
   },
   {
    "duration": 14,
    "start_time": "2022-06-14T11:44:09.680Z"
   },
   {
    "duration": 306,
    "start_time": "2022-06-14T11:44:09.695Z"
   },
   {
    "duration": 6,
    "start_time": "2022-06-14T11:44:10.004Z"
   },
   {
    "duration": 13,
    "start_time": "2022-06-14T11:44:10.012Z"
   },
   {
    "duration": 18,
    "start_time": "2022-06-14T11:44:10.027Z"
   },
   {
    "duration": 206,
    "start_time": "2022-06-14T11:44:10.046Z"
   },
   {
    "duration": 12,
    "start_time": "2022-06-14T11:44:10.256Z"
   },
   {
    "duration": 335,
    "start_time": "2022-06-14T11:44:10.269Z"
   },
   {
    "duration": 13,
    "start_time": "2022-06-14T11:44:10.606Z"
   },
   {
    "duration": 125,
    "start_time": "2022-06-14T11:44:10.621Z"
   },
   {
    "duration": 113,
    "start_time": "2022-06-14T11:44:10.748Z"
   },
   {
    "duration": 4,
    "start_time": "2022-06-14T11:44:10.862Z"
   },
   {
    "duration": 198,
    "start_time": "2022-06-14T11:44:10.868Z"
   },
   {
    "duration": 122,
    "start_time": "2022-06-14T11:44:11.067Z"
   },
   {
    "duration": 130,
    "start_time": "2022-06-14T11:44:11.192Z"
   },
   {
    "duration": 4,
    "start_time": "2022-06-14T11:44:11.323Z"
   },
   {
    "duration": 14,
    "start_time": "2022-06-14T11:44:11.328Z"
   },
   {
    "duration": 59,
    "start_time": "2022-06-14T11:44:11.343Z"
   },
   {
    "duration": 13,
    "start_time": "2022-06-14T11:44:11.404Z"
   },
   {
    "duration": 44,
    "start_time": "2022-06-14T11:44:11.419Z"
   },
   {
    "duration": 28,
    "start_time": "2022-06-14T11:44:11.465Z"
   },
   {
    "duration": 50,
    "start_time": "2022-06-14T11:44:11.495Z"
   },
   {
    "duration": 16,
    "start_time": "2022-06-14T11:44:11.546Z"
   },
   {
    "duration": 83,
    "start_time": "2022-06-14T11:44:11.563Z"
   },
   {
    "duration": 23,
    "start_time": "2022-06-14T11:44:11.647Z"
   },
   {
    "duration": 84,
    "start_time": "2022-06-14T11:44:11.672Z"
   },
   {
    "duration": 80,
    "start_time": "2022-06-14T11:44:11.757Z"
   },
   {
    "duration": 5,
    "start_time": "2022-06-14T11:44:11.839Z"
   },
   {
    "duration": 8,
    "start_time": "2022-06-14T11:44:11.845Z"
   },
   {
    "duration": 24,
    "start_time": "2022-06-14T11:44:11.854Z"
   },
   {
    "duration": 24,
    "start_time": "2022-06-14T11:44:11.879Z"
   },
   {
    "duration": 8,
    "start_time": "2022-06-14T11:44:11.904Z"
   },
   {
    "duration": 5,
    "start_time": "2022-06-14T11:44:11.913Z"
   },
   {
    "duration": 7,
    "start_time": "2022-06-14T11:44:11.920Z"
   },
   {
    "duration": 5,
    "start_time": "2022-06-14T11:44:11.929Z"
   },
   {
    "duration": 6,
    "start_time": "2022-06-14T11:44:11.936Z"
   },
   {
    "duration": 22,
    "start_time": "2022-06-14T11:44:11.943Z"
   },
   {
    "duration": 15,
    "start_time": "2022-06-14T11:44:11.991Z"
   },
   {
    "duration": 5,
    "start_time": "2022-06-14T11:44:27.289Z"
   },
   {
    "duration": 4,
    "start_time": "2022-06-14T11:44:37.653Z"
   },
   {
    "duration": 5,
    "start_time": "2022-06-14T11:44:38.312Z"
   },
   {
    "duration": 5,
    "start_time": "2022-06-14T11:44:43.277Z"
   },
   {
    "duration": 5,
    "start_time": "2022-06-14T11:44:43.554Z"
   },
   {
    "duration": 21,
    "start_time": "2022-06-14T11:44:45.520Z"
   },
   {
    "duration": 14,
    "start_time": "2022-06-14T11:44:51.441Z"
   },
   {
    "duration": 996,
    "start_time": "2022-06-14T13:58:32.500Z"
   },
   {
    "duration": 71,
    "start_time": "2022-06-14T13:58:33.498Z"
   },
   {
    "duration": 10,
    "start_time": "2022-06-14T13:58:33.570Z"
   },
   {
    "duration": 23,
    "start_time": "2022-06-14T13:58:33.582Z"
   },
   {
    "duration": 17,
    "start_time": "2022-06-14T13:58:33.606Z"
   },
   {
    "duration": 11,
    "start_time": "2022-06-14T13:58:33.625Z"
   },
   {
    "duration": 25,
    "start_time": "2022-06-14T13:58:33.637Z"
   },
   {
    "duration": 21,
    "start_time": "2022-06-14T13:58:33.663Z"
   },
   {
    "duration": 21,
    "start_time": "2022-06-14T13:58:33.685Z"
   },
   {
    "duration": 26,
    "start_time": "2022-06-14T13:58:33.708Z"
   },
   {
    "duration": 6,
    "start_time": "2022-06-14T13:58:33.736Z"
   },
   {
    "duration": 19,
    "start_time": "2022-06-14T13:58:33.743Z"
   },
   {
    "duration": 19,
    "start_time": "2022-06-14T13:58:33.763Z"
   },
   {
    "duration": 15,
    "start_time": "2022-06-14T13:58:33.784Z"
   },
   {
    "duration": 22,
    "start_time": "2022-06-14T13:58:33.800Z"
   },
   {
    "duration": 17,
    "start_time": "2022-06-14T13:58:33.824Z"
   },
   {
    "duration": 14,
    "start_time": "2022-06-14T13:58:33.842Z"
   },
   {
    "duration": 36,
    "start_time": "2022-06-14T13:58:33.858Z"
   },
   {
    "duration": 17,
    "start_time": "2022-06-14T13:58:33.895Z"
   },
   {
    "duration": 13,
    "start_time": "2022-06-14T13:58:33.914Z"
   },
   {
    "duration": 5,
    "start_time": "2022-06-14T13:58:33.928Z"
   },
   {
    "duration": 9,
    "start_time": "2022-06-14T13:58:33.935Z"
   },
   {
    "duration": 54,
    "start_time": "2022-06-14T13:58:33.945Z"
   },
   {
    "duration": 4,
    "start_time": "2022-06-14T13:58:34.001Z"
   },
   {
    "duration": 173,
    "start_time": "2022-06-14T13:58:34.007Z"
   },
   {
    "duration": 11,
    "start_time": "2022-06-14T13:58:34.181Z"
   },
   {
    "duration": 114,
    "start_time": "2022-06-14T13:58:34.193Z"
   },
   {
    "duration": 8,
    "start_time": "2022-06-14T13:58:34.310Z"
   },
   {
    "duration": 7,
    "start_time": "2022-06-14T13:58:34.319Z"
   },
   {
    "duration": 9,
    "start_time": "2022-06-14T13:58:34.328Z"
   },
   {
    "duration": 8,
    "start_time": "2022-06-14T13:58:34.339Z"
   },
   {
    "duration": 9,
    "start_time": "2022-06-14T13:58:34.348Z"
   },
   {
    "duration": 270,
    "start_time": "2022-06-14T13:58:34.358Z"
   },
   {
    "duration": 183,
    "start_time": "2022-06-14T13:58:34.630Z"
   },
   {
    "duration": 5,
    "start_time": "2022-06-14T13:58:34.815Z"
   },
   {
    "duration": 260,
    "start_time": "2022-06-14T13:58:34.822Z"
   },
   {
    "duration": 4,
    "start_time": "2022-06-14T13:58:35.091Z"
   },
   {
    "duration": 16,
    "start_time": "2022-06-14T13:58:35.097Z"
   },
   {
    "duration": 4,
    "start_time": "2022-06-14T13:58:35.115Z"
   },
   {
    "duration": 193,
    "start_time": "2022-06-14T13:58:35.121Z"
   },
   {
    "duration": 12,
    "start_time": "2022-06-14T13:58:35.316Z"
   },
   {
    "duration": 289,
    "start_time": "2022-06-14T13:58:35.329Z"
   },
   {
    "duration": 11,
    "start_time": "2022-06-14T13:58:35.620Z"
   },
   {
    "duration": 125,
    "start_time": "2022-06-14T13:58:35.632Z"
   },
   {
    "duration": 104,
    "start_time": "2022-06-14T13:58:35.758Z"
   },
   {
    "duration": 4,
    "start_time": "2022-06-14T13:58:35.863Z"
   },
   {
    "duration": 192,
    "start_time": "2022-06-14T13:58:35.869Z"
   },
   {
    "duration": 123,
    "start_time": "2022-06-14T13:58:36.062Z"
   },
   {
    "duration": 140,
    "start_time": "2022-06-14T13:58:36.191Z"
   },
   {
    "duration": 5,
    "start_time": "2022-06-14T13:58:36.333Z"
   },
   {
    "duration": 9,
    "start_time": "2022-06-14T13:58:36.339Z"
   },
   {
    "duration": 75,
    "start_time": "2022-06-14T13:58:36.350Z"
   },
   {
    "duration": 8,
    "start_time": "2022-06-14T13:58:36.427Z"
   },
   {
    "duration": 61,
    "start_time": "2022-06-14T13:58:36.436Z"
   },
   {
    "duration": 17,
    "start_time": "2022-06-14T13:58:36.498Z"
   },
   {
    "duration": 50,
    "start_time": "2022-06-14T13:58:36.516Z"
   },
   {
    "duration": 38,
    "start_time": "2022-06-14T13:58:36.567Z"
   },
   {
    "duration": 47,
    "start_time": "2022-06-14T13:58:36.606Z"
   },
   {
    "duration": 43,
    "start_time": "2022-06-14T13:58:36.654Z"
   },
   {
    "duration": 61,
    "start_time": "2022-06-14T13:58:36.699Z"
   },
   {
    "duration": 85,
    "start_time": "2022-06-14T13:58:36.761Z"
   },
   {
    "duration": 5,
    "start_time": "2022-06-14T13:58:36.847Z"
   },
   {
    "duration": 5,
    "start_time": "2022-06-14T13:58:36.854Z"
   },
   {
    "duration": 42,
    "start_time": "2022-06-14T13:58:36.861Z"
   },
   {
    "duration": 11,
    "start_time": "2022-06-14T13:58:36.905Z"
   },
   {
    "duration": 30,
    "start_time": "2022-06-14T13:58:36.917Z"
   },
   {
    "duration": 11,
    "start_time": "2022-06-14T13:58:36.949Z"
   },
   {
    "duration": 25,
    "start_time": "2022-06-14T13:58:36.962Z"
   },
   {
    "duration": 11,
    "start_time": "2022-06-14T13:58:36.989Z"
   },
   {
    "duration": 8,
    "start_time": "2022-06-14T13:58:37.002Z"
   },
   {
    "duration": 26,
    "start_time": "2022-06-14T13:58:37.012Z"
   },
   {
    "duration": 15,
    "start_time": "2022-06-14T13:58:37.040Z"
   },
   {
    "duration": 962,
    "start_time": "2022-06-14T14:24:19.824Z"
   },
   {
    "duration": 71,
    "start_time": "2022-06-14T14:24:20.787Z"
   },
   {
    "duration": 10,
    "start_time": "2022-06-14T14:24:20.859Z"
   },
   {
    "duration": 12,
    "start_time": "2022-06-14T14:24:20.871Z"
   },
   {
    "duration": 9,
    "start_time": "2022-06-14T14:24:20.884Z"
   },
   {
    "duration": 15,
    "start_time": "2022-06-14T14:24:20.894Z"
   },
   {
    "duration": 23,
    "start_time": "2022-06-14T14:24:20.911Z"
   },
   {
    "duration": 11,
    "start_time": "2022-06-14T14:24:20.935Z"
   },
   {
    "duration": 7,
    "start_time": "2022-06-14T14:24:20.948Z"
   },
   {
    "duration": 22,
    "start_time": "2022-06-14T14:24:20.957Z"
   },
   {
    "duration": 6,
    "start_time": "2022-06-14T14:24:20.980Z"
   },
   {
    "duration": 12,
    "start_time": "2022-06-14T14:24:20.987Z"
   },
   {
    "duration": 6,
    "start_time": "2022-06-14T14:24:21.000Z"
   },
   {
    "duration": 6,
    "start_time": "2022-06-14T14:24:21.007Z"
   },
   {
    "duration": 6,
    "start_time": "2022-06-14T14:24:21.015Z"
   },
   {
    "duration": 8,
    "start_time": "2022-06-14T14:24:21.022Z"
   },
   {
    "duration": 11,
    "start_time": "2022-06-14T14:24:21.031Z"
   },
   {
    "duration": 56,
    "start_time": "2022-06-14T14:24:21.043Z"
   },
   {
    "duration": 3,
    "start_time": "2022-06-14T14:24:21.101Z"
   },
   {
    "duration": 14,
    "start_time": "2022-06-14T14:24:21.105Z"
   },
   {
    "duration": 7,
    "start_time": "2022-06-14T14:24:21.120Z"
   },
   {
    "duration": 10,
    "start_time": "2022-06-14T14:24:21.129Z"
   },
   {
    "duration": 63,
    "start_time": "2022-06-14T14:24:21.140Z"
   },
   {
    "duration": 6,
    "start_time": "2022-06-14T14:24:21.205Z"
   },
   {
    "duration": 183,
    "start_time": "2022-06-14T14:24:21.212Z"
   },
   {
    "duration": 6,
    "start_time": "2022-06-14T14:24:21.397Z"
   },
   {
    "duration": 116,
    "start_time": "2022-06-14T14:24:21.405Z"
   },
   {
    "duration": 7,
    "start_time": "2022-06-14T14:24:21.524Z"
   },
   {
    "duration": 7,
    "start_time": "2022-06-14T14:24:21.532Z"
   },
   {
    "duration": 7,
    "start_time": "2022-06-14T14:24:21.540Z"
   },
   {
    "duration": 9,
    "start_time": "2022-06-14T14:24:21.548Z"
   },
   {
    "duration": 35,
    "start_time": "2022-06-14T14:24:21.558Z"
   },
   {
    "duration": 250,
    "start_time": "2022-06-14T14:24:21.594Z"
   },
   {
    "duration": 178,
    "start_time": "2022-06-14T14:24:21.846Z"
   },
   {
    "duration": 5,
    "start_time": "2022-06-14T14:24:22.026Z"
   },
   {
    "duration": 269,
    "start_time": "2022-06-14T14:24:22.033Z"
   },
   {
    "duration": 5,
    "start_time": "2022-06-14T14:24:22.304Z"
   },
   {
    "duration": 14,
    "start_time": "2022-06-14T14:24:22.310Z"
   },
   {
    "duration": 5,
    "start_time": "2022-06-14T14:24:22.325Z"
   },
   {
    "duration": 215,
    "start_time": "2022-06-14T14:24:22.331Z"
   },
   {
    "duration": 13,
    "start_time": "2022-06-14T14:24:22.548Z"
   },
   {
    "duration": 362,
    "start_time": "2022-06-14T14:24:22.562Z"
   },
   {
    "duration": 13,
    "start_time": "2022-06-14T14:24:22.925Z"
   },
   {
    "duration": 142,
    "start_time": "2022-06-14T14:24:22.939Z"
   },
   {
    "duration": 122,
    "start_time": "2022-06-14T14:24:23.082Z"
   },
   {
    "duration": 4,
    "start_time": "2022-06-14T14:24:23.206Z"
   },
   {
    "duration": 230,
    "start_time": "2022-06-14T14:24:23.211Z"
   },
   {
    "duration": 148,
    "start_time": "2022-06-14T14:24:23.443Z"
   },
   {
    "duration": 128,
    "start_time": "2022-06-14T14:24:23.592Z"
   },
   {
    "duration": 5,
    "start_time": "2022-06-14T14:24:23.722Z"
   },
   {
    "duration": 10,
    "start_time": "2022-06-14T14:24:23.729Z"
   },
   {
    "duration": 67,
    "start_time": "2022-06-14T14:24:23.741Z"
   },
   {
    "duration": 7,
    "start_time": "2022-06-14T14:24:23.809Z"
   },
   {
    "duration": 43,
    "start_time": "2022-06-14T14:24:23.818Z"
   },
   {
    "duration": 34,
    "start_time": "2022-06-14T14:24:23.862Z"
   },
   {
    "duration": 47,
    "start_time": "2022-06-14T14:24:23.898Z"
   },
   {
    "duration": 16,
    "start_time": "2022-06-14T14:24:23.946Z"
   },
   {
    "duration": 73,
    "start_time": "2022-06-14T14:24:23.964Z"
   },
   {
    "duration": 24,
    "start_time": "2022-06-14T14:24:24.038Z"
   },
   {
    "duration": 81,
    "start_time": "2022-06-14T14:24:24.063Z"
   },
   {
    "duration": 79,
    "start_time": "2022-06-14T14:24:24.146Z"
   },
   {
    "duration": 4,
    "start_time": "2022-06-14T14:24:24.227Z"
   },
   {
    "duration": 5,
    "start_time": "2022-06-14T14:24:24.232Z"
   },
   {
    "duration": 18,
    "start_time": "2022-06-14T14:24:24.238Z"
   },
   {
    "duration": 33,
    "start_time": "2022-06-14T14:24:24.258Z"
   },
   {
    "duration": 4,
    "start_time": "2022-06-14T14:24:24.292Z"
   },
   {
    "duration": 5,
    "start_time": "2022-06-14T14:24:24.298Z"
   },
   {
    "duration": 6,
    "start_time": "2022-06-14T14:24:24.304Z"
   },
   {
    "duration": 5,
    "start_time": "2022-06-14T14:24:24.312Z"
   },
   {
    "duration": 6,
    "start_time": "2022-06-14T14:24:24.318Z"
   },
   {
    "duration": 17,
    "start_time": "2022-06-14T14:24:24.325Z"
   },
   {
    "duration": 10,
    "start_time": "2022-06-14T14:24:24.344Z"
   },
   {
    "duration": 982,
    "start_time": "2022-06-14T14:46:42.422Z"
   },
   {
    "duration": 70,
    "start_time": "2022-06-14T14:46:43.406Z"
   },
   {
    "duration": 10,
    "start_time": "2022-06-14T14:46:43.478Z"
   },
   {
    "duration": 13,
    "start_time": "2022-06-14T14:46:43.489Z"
   },
   {
    "duration": 8,
    "start_time": "2022-06-14T14:46:43.503Z"
   },
   {
    "duration": 6,
    "start_time": "2022-06-14T14:46:43.513Z"
   },
   {
    "duration": 11,
    "start_time": "2022-06-14T14:46:43.520Z"
   },
   {
    "duration": 8,
    "start_time": "2022-06-14T14:46:43.533Z"
   },
   {
    "duration": 7,
    "start_time": "2022-06-14T14:46:43.542Z"
   },
   {
    "duration": 50,
    "start_time": "2022-06-14T14:46:43.551Z"
   },
   {
    "duration": 6,
    "start_time": "2022-06-14T14:46:43.603Z"
   },
   {
    "duration": 15,
    "start_time": "2022-06-14T14:46:43.611Z"
   },
   {
    "duration": 9,
    "start_time": "2022-06-14T14:46:43.628Z"
   },
   {
    "duration": 9,
    "start_time": "2022-06-14T14:46:43.639Z"
   },
   {
    "duration": 9,
    "start_time": "2022-06-14T14:46:43.649Z"
   },
   {
    "duration": 7,
    "start_time": "2022-06-14T14:46:43.660Z"
   },
   {
    "duration": 12,
    "start_time": "2022-06-14T14:46:43.691Z"
   },
   {
    "duration": 21,
    "start_time": "2022-06-14T14:46:43.704Z"
   },
   {
    "duration": 3,
    "start_time": "2022-06-14T14:46:43.726Z"
   },
   {
    "duration": 13,
    "start_time": "2022-06-14T14:46:43.730Z"
   },
   {
    "duration": 7,
    "start_time": "2022-06-14T14:46:43.745Z"
   },
   {
    "duration": 11,
    "start_time": "2022-06-14T14:46:43.753Z"
   },
   {
    "duration": 71,
    "start_time": "2022-06-14T14:46:43.765Z"
   },
   {
    "duration": 5,
    "start_time": "2022-06-14T14:46:43.838Z"
   },
   {
    "duration": 177,
    "start_time": "2022-06-14T14:46:43.844Z"
   },
   {
    "duration": 7,
    "start_time": "2022-06-14T14:46:44.022Z"
   },
   {
    "duration": 112,
    "start_time": "2022-06-14T14:46:44.030Z"
   },
   {
    "duration": 7,
    "start_time": "2022-06-14T14:46:44.145Z"
   },
   {
    "duration": 11,
    "start_time": "2022-06-14T14:46:44.153Z"
   },
   {
    "duration": 11,
    "start_time": "2022-06-14T14:46:44.165Z"
   },
   {
    "duration": 20,
    "start_time": "2022-06-14T14:46:44.177Z"
   },
   {
    "duration": 9,
    "start_time": "2022-06-14T14:46:44.199Z"
   },
   {
    "duration": 273,
    "start_time": "2022-06-14T14:46:44.209Z"
   },
   {
    "duration": 181,
    "start_time": "2022-06-14T14:46:44.484Z"
   },
   {
    "duration": 6,
    "start_time": "2022-06-14T14:46:44.666Z"
   },
   {
    "duration": 303,
    "start_time": "2022-06-14T14:46:44.673Z"
   },
   {
    "duration": 14,
    "start_time": "2022-06-14T14:46:44.978Z"
   },
   {
    "duration": 12,
    "start_time": "2022-06-14T14:46:44.993Z"
   },
   {
    "duration": 16,
    "start_time": "2022-06-14T14:46:45.006Z"
   },
   {
    "duration": 194,
    "start_time": "2022-06-14T14:46:45.023Z"
   },
   {
    "duration": 11,
    "start_time": "2022-06-14T14:46:45.219Z"
   },
   {
    "duration": 291,
    "start_time": "2022-06-14T14:46:45.231Z"
   },
   {
    "duration": 12,
    "start_time": "2022-06-14T14:46:45.523Z"
   },
   {
    "duration": 125,
    "start_time": "2022-06-14T14:46:45.536Z"
   },
   {
    "duration": 109,
    "start_time": "2022-06-14T14:46:45.663Z"
   },
   {
    "duration": 5,
    "start_time": "2022-06-14T14:46:45.773Z"
   },
   {
    "duration": 199,
    "start_time": "2022-06-14T14:46:45.779Z"
   },
   {
    "duration": 112,
    "start_time": "2022-06-14T14:46:45.979Z"
   },
   {
    "duration": 118,
    "start_time": "2022-06-14T14:46:46.093Z"
   },
   {
    "duration": 5,
    "start_time": "2022-06-14T14:46:46.213Z"
   },
   {
    "duration": 12,
    "start_time": "2022-06-14T14:46:46.220Z"
   },
   {
    "duration": 72,
    "start_time": "2022-06-14T14:46:46.233Z"
   },
   {
    "duration": 11,
    "start_time": "2022-06-14T14:46:46.306Z"
   },
   {
    "duration": 47,
    "start_time": "2022-06-14T14:46:46.318Z"
   },
   {
    "duration": 32,
    "start_time": "2022-06-14T14:46:46.366Z"
   },
   {
    "duration": 46,
    "start_time": "2022-06-14T14:46:46.400Z"
   },
   {
    "duration": 16,
    "start_time": "2022-06-14T14:46:46.447Z"
   },
   {
    "duration": 67,
    "start_time": "2022-06-14T14:46:46.464Z"
   },
   {
    "duration": 28,
    "start_time": "2022-06-14T14:46:46.533Z"
   },
   {
    "duration": 80,
    "start_time": "2022-06-14T14:46:46.563Z"
   },
   {
    "duration": 79,
    "start_time": "2022-06-14T14:46:46.645Z"
   },
   {
    "duration": 4,
    "start_time": "2022-06-14T14:46:46.725Z"
   },
   {
    "duration": 6,
    "start_time": "2022-06-14T14:46:46.730Z"
   },
   {
    "duration": 30,
    "start_time": "2022-06-14T14:46:46.737Z"
   },
   {
    "duration": 25,
    "start_time": "2022-06-14T14:46:46.768Z"
   },
   {
    "duration": 9,
    "start_time": "2022-06-14T14:46:46.795Z"
   },
   {
    "duration": 12,
    "start_time": "2022-06-14T14:46:46.805Z"
   },
   {
    "duration": 14,
    "start_time": "2022-06-14T14:46:46.818Z"
   },
   {
    "duration": 8,
    "start_time": "2022-06-14T14:46:46.833Z"
   },
   {
    "duration": 7,
    "start_time": "2022-06-14T14:46:46.843Z"
   },
   {
    "duration": 46,
    "start_time": "2022-06-14T14:46:46.851Z"
   },
   {
    "duration": 15,
    "start_time": "2022-06-14T14:46:46.899Z"
   },
   {
    "duration": 40,
    "start_time": "2022-06-14T16:20:52.293Z"
   },
   {
    "duration": 8,
    "start_time": "2022-06-14T16:35:01.865Z"
   },
   {
    "duration": 4,
    "start_time": "2022-06-14T16:35:33.133Z"
   },
   {
    "duration": 44,
    "start_time": "2022-06-15T07:45:42.067Z"
   },
   {
    "duration": 1138,
    "start_time": "2022-06-15T07:45:49.889Z"
   },
   {
    "duration": 176,
    "start_time": "2022-06-15T07:45:51.030Z"
   },
   {
    "duration": 13,
    "start_time": "2022-06-15T07:45:51.208Z"
   },
   {
    "duration": 20,
    "start_time": "2022-06-15T07:45:51.223Z"
   },
   {
    "duration": 18,
    "start_time": "2022-06-15T07:45:51.244Z"
   },
   {
    "duration": 19,
    "start_time": "2022-06-15T07:45:51.264Z"
   },
   {
    "duration": 11,
    "start_time": "2022-06-15T07:45:51.286Z"
   },
   {
    "duration": 11,
    "start_time": "2022-06-15T07:45:51.299Z"
   },
   {
    "duration": 5,
    "start_time": "2022-06-15T07:45:51.312Z"
   },
   {
    "duration": 21,
    "start_time": "2022-06-15T07:45:51.321Z"
   },
   {
    "duration": 14,
    "start_time": "2022-06-15T07:45:51.343Z"
   },
   {
    "duration": 37,
    "start_time": "2022-06-15T07:45:51.359Z"
   },
   {
    "duration": 8,
    "start_time": "2022-06-15T07:45:51.398Z"
   },
   {
    "duration": 12,
    "start_time": "2022-06-15T07:45:51.407Z"
   },
   {
    "duration": 9,
    "start_time": "2022-06-15T07:45:51.421Z"
   },
   {
    "duration": 9,
    "start_time": "2022-06-15T07:45:51.432Z"
   },
   {
    "duration": 19,
    "start_time": "2022-06-15T07:45:51.442Z"
   },
   {
    "duration": 42,
    "start_time": "2022-06-15T07:45:51.463Z"
   },
   {
    "duration": 4,
    "start_time": "2022-06-15T07:45:51.507Z"
   },
   {
    "duration": 12,
    "start_time": "2022-06-15T07:45:51.513Z"
   },
   {
    "duration": 10,
    "start_time": "2022-06-15T07:45:51.527Z"
   },
   {
    "duration": 12,
    "start_time": "2022-06-15T07:45:51.538Z"
   },
   {
    "duration": 77,
    "start_time": "2022-06-15T07:45:51.552Z"
   },
   {
    "duration": 6,
    "start_time": "2022-06-15T07:45:51.630Z"
   },
   {
    "duration": 192,
    "start_time": "2022-06-15T07:45:51.637Z"
   },
   {
    "duration": 8,
    "start_time": "2022-06-15T07:45:51.831Z"
   },
   {
    "duration": 126,
    "start_time": "2022-06-15T07:45:51.840Z"
   },
   {
    "duration": 8,
    "start_time": "2022-06-15T07:45:51.970Z"
   },
   {
    "duration": 7,
    "start_time": "2022-06-15T07:45:51.995Z"
   },
   {
    "duration": 12,
    "start_time": "2022-06-15T07:45:52.004Z"
   },
   {
    "duration": 17,
    "start_time": "2022-06-15T07:45:52.019Z"
   },
   {
    "duration": 22,
    "start_time": "2022-06-15T07:45:52.038Z"
   },
   {
    "duration": 279,
    "start_time": "2022-06-15T07:45:52.061Z"
   },
   {
    "duration": 204,
    "start_time": "2022-06-15T07:45:52.341Z"
   },
   {
    "duration": 6,
    "start_time": "2022-06-15T07:45:52.547Z"
   },
   {
    "duration": 368,
    "start_time": "2022-06-15T07:45:52.555Z"
   },
   {
    "duration": 6,
    "start_time": "2022-06-15T07:45:52.925Z"
   },
   {
    "duration": 18,
    "start_time": "2022-06-15T07:45:52.933Z"
   },
   {
    "duration": 10,
    "start_time": "2022-06-15T07:45:52.952Z"
   },
   {
    "duration": 210,
    "start_time": "2022-06-15T07:45:52.964Z"
   },
   {
    "duration": 19,
    "start_time": "2022-06-15T07:45:53.176Z"
   },
   {
    "duration": 534,
    "start_time": "2022-06-15T07:45:53.197Z"
   },
   {
    "duration": 75,
    "start_time": "2022-06-15T07:45:53.733Z"
   },
   {
    "duration": 325,
    "start_time": "2022-06-15T07:45:53.809Z"
   },
   {
    "duration": 382,
    "start_time": "2022-06-15T07:45:54.136Z"
   },
   {
    "duration": 6,
    "start_time": "2022-06-15T07:45:54.520Z"
   },
   {
    "duration": 309,
    "start_time": "2022-06-15T07:45:54.528Z"
   },
   {
    "duration": 355,
    "start_time": "2022-06-15T07:45:54.839Z"
   },
   {
    "duration": 302,
    "start_time": "2022-06-15T07:45:55.197Z"
   },
   {
    "duration": 5,
    "start_time": "2022-06-15T07:45:55.501Z"
   },
   {
    "duration": 10,
    "start_time": "2022-06-15T07:45:55.508Z"
   },
   {
    "duration": 46,
    "start_time": "2022-06-15T07:45:55.520Z"
   },
   {
    "duration": 30,
    "start_time": "2022-06-15T07:45:55.568Z"
   },
   {
    "duration": 51,
    "start_time": "2022-06-15T07:45:55.600Z"
   },
   {
    "duration": 47,
    "start_time": "2022-06-15T07:45:55.653Z"
   },
   {
    "duration": 50,
    "start_time": "2022-06-15T07:45:55.701Z"
   },
   {
    "duration": 20,
    "start_time": "2022-06-15T07:45:55.752Z"
   },
   {
    "duration": 67,
    "start_time": "2022-06-15T07:45:55.773Z"
   },
   {
    "duration": 28,
    "start_time": "2022-06-15T07:45:55.841Z"
   },
   {
    "duration": 77,
    "start_time": "2022-06-15T07:45:55.871Z"
   },
   {
    "duration": 97,
    "start_time": "2022-06-15T07:45:55.950Z"
   },
   {
    "duration": 38,
    "start_time": "2022-06-15T07:45:56.049Z"
   },
   {
    "duration": 5,
    "start_time": "2022-06-15T07:45:56.089Z"
   },
   {
    "duration": 24,
    "start_time": "2022-06-15T07:45:56.096Z"
   },
   {
    "duration": 11,
    "start_time": "2022-06-15T07:45:56.122Z"
   },
   {
    "duration": 6,
    "start_time": "2022-06-15T07:45:56.135Z"
   },
   {
    "duration": 6,
    "start_time": "2022-06-15T07:45:56.143Z"
   },
   {
    "duration": 8,
    "start_time": "2022-06-15T07:45:56.151Z"
   },
   {
    "duration": 9,
    "start_time": "2022-06-15T07:45:56.161Z"
   },
   {
    "duration": 7,
    "start_time": "2022-06-15T07:45:56.194Z"
   },
   {
    "duration": 27,
    "start_time": "2022-06-15T07:45:56.203Z"
   },
   {
    "duration": 4,
    "start_time": "2022-06-15T07:45:56.232Z"
   },
   {
    "duration": 17,
    "start_time": "2022-06-15T07:45:56.237Z"
   },
   {
    "duration": 13,
    "start_time": "2022-06-15T07:46:03.483Z"
   },
   {
    "duration": 12,
    "start_time": "2022-06-15T07:46:19.423Z"
   },
   {
    "duration": 4,
    "start_time": "2022-06-15T07:48:19.556Z"
   },
   {
    "duration": 5,
    "start_time": "2022-06-15T07:48:25.069Z"
   },
   {
    "duration": 7,
    "start_time": "2022-06-15T07:48:45.921Z"
   },
   {
    "duration": 7,
    "start_time": "2022-06-15T07:48:56.872Z"
   },
   {
    "duration": 5,
    "start_time": "2022-06-15T07:48:59.968Z"
   },
   {
    "duration": 4,
    "start_time": "2022-06-15T07:49:10.401Z"
   },
   {
    "duration": 111,
    "start_time": "2022-06-15T09:48:14.139Z"
   },
   {
    "duration": 106,
    "start_time": "2022-06-15T09:48:18.260Z"
   },
   {
    "duration": 104,
    "start_time": "2022-06-15T09:48:21.796Z"
   },
   {
    "duration": 110,
    "start_time": "2022-06-15T09:48:32.973Z"
   },
   {
    "duration": 105,
    "start_time": "2022-06-15T09:48:56.509Z"
   },
   {
    "duration": 113,
    "start_time": "2022-06-15T09:49:01.647Z"
   },
   {
    "duration": 115,
    "start_time": "2022-06-15T09:49:15.743Z"
   },
   {
    "duration": 343,
    "start_time": "2022-06-15T09:52:37.590Z"
   },
   {
    "duration": 4,
    "start_time": "2022-06-15T09:55:09.359Z"
   },
   {
    "duration": 4,
    "start_time": "2022-06-15T09:57:12.649Z"
   },
   {
    "duration": 3,
    "start_time": "2022-06-15T09:57:19.055Z"
   },
   {
    "duration": 4,
    "start_time": "2022-06-15T10:00:20.502Z"
   },
   {
    "duration": 3,
    "start_time": "2022-06-15T10:00:28.246Z"
   },
   {
    "duration": 5,
    "start_time": "2022-06-15T10:00:32.198Z"
   },
   {
    "duration": 3,
    "start_time": "2022-06-15T10:00:39.579Z"
   },
   {
    "duration": 4,
    "start_time": "2022-06-15T10:02:57.192Z"
   },
   {
    "duration": 3,
    "start_time": "2022-06-15T10:02:57.888Z"
   },
   {
    "duration": 975,
    "start_time": "2022-06-15T10:03:26.038Z"
   },
   {
    "duration": 66,
    "start_time": "2022-06-15T10:03:27.015Z"
   },
   {
    "duration": 11,
    "start_time": "2022-06-15T10:03:27.083Z"
   },
   {
    "duration": 12,
    "start_time": "2022-06-15T10:03:27.096Z"
   },
   {
    "duration": 9,
    "start_time": "2022-06-15T10:03:27.110Z"
   },
   {
    "duration": 27,
    "start_time": "2022-06-15T10:03:27.121Z"
   },
   {
    "duration": 12,
    "start_time": "2022-06-15T10:03:27.150Z"
   },
   {
    "duration": 10,
    "start_time": "2022-06-15T10:03:27.164Z"
   },
   {
    "duration": 20,
    "start_time": "2022-06-15T10:03:27.175Z"
   },
   {
    "duration": 26,
    "start_time": "2022-06-15T10:03:27.198Z"
   },
   {
    "duration": 9,
    "start_time": "2022-06-15T10:03:27.226Z"
   },
   {
    "duration": 12,
    "start_time": "2022-06-15T10:03:27.237Z"
   },
   {
    "duration": 9,
    "start_time": "2022-06-15T10:03:27.251Z"
   },
   {
    "duration": 33,
    "start_time": "2022-06-15T10:03:27.262Z"
   },
   {
    "duration": 7,
    "start_time": "2022-06-15T10:03:27.297Z"
   },
   {
    "duration": 8,
    "start_time": "2022-06-15T10:03:27.306Z"
   },
   {
    "duration": 12,
    "start_time": "2022-06-15T10:03:27.315Z"
   },
   {
    "duration": 23,
    "start_time": "2022-06-15T10:03:27.329Z"
   },
   {
    "duration": 5,
    "start_time": "2022-06-15T10:03:27.353Z"
   },
   {
    "duration": 50,
    "start_time": "2022-06-15T10:03:27.359Z"
   },
   {
    "duration": 10,
    "start_time": "2022-06-15T10:03:27.411Z"
   },
   {
    "duration": 21,
    "start_time": "2022-06-15T10:03:27.423Z"
   },
   {
    "duration": 74,
    "start_time": "2022-06-15T10:03:27.446Z"
   },
   {
    "duration": 7,
    "start_time": "2022-06-15T10:03:27.522Z"
   },
   {
    "duration": 211,
    "start_time": "2022-06-15T10:03:27.531Z"
   },
   {
    "duration": 9,
    "start_time": "2022-06-15T10:03:27.744Z"
   },
   {
    "duration": 128,
    "start_time": "2022-06-15T10:03:27.755Z"
   },
   {
    "duration": 15,
    "start_time": "2022-06-15T10:03:27.887Z"
   },
   {
    "duration": 9,
    "start_time": "2022-06-15T10:03:27.903Z"
   },
   {
    "duration": 11,
    "start_time": "2022-06-15T10:03:27.914Z"
   },
   {
    "duration": 12,
    "start_time": "2022-06-15T10:03:27.927Z"
   },
   {
    "duration": 11,
    "start_time": "2022-06-15T10:03:27.941Z"
   },
   {
    "duration": 300,
    "start_time": "2022-06-15T10:03:27.953Z"
   },
   {
    "duration": 197,
    "start_time": "2022-06-15T10:03:28.254Z"
   },
   {
    "duration": 6,
    "start_time": "2022-06-15T10:03:28.453Z"
   },
   {
    "duration": 306,
    "start_time": "2022-06-15T10:03:28.460Z"
   },
   {
    "duration": 6,
    "start_time": "2022-06-15T10:03:28.768Z"
   },
   {
    "duration": 28,
    "start_time": "2022-06-15T10:03:28.776Z"
   },
   {
    "duration": 5,
    "start_time": "2022-06-15T10:03:28.806Z"
   },
   {
    "duration": 205,
    "start_time": "2022-06-15T10:03:28.813Z"
   },
   {
    "duration": 12,
    "start_time": "2022-06-15T10:03:29.019Z"
   },
   {
    "duration": 296,
    "start_time": "2022-06-15T10:03:29.032Z"
   },
   {
    "duration": 12,
    "start_time": "2022-06-15T10:03:29.329Z"
   },
   {
    "duration": 134,
    "start_time": "2022-06-15T10:03:29.342Z"
   },
   {
    "duration": 118,
    "start_time": "2022-06-15T10:03:29.478Z"
   },
   {
    "duration": 5,
    "start_time": "2022-06-15T10:03:29.598Z"
   },
   {
    "duration": 4,
    "start_time": "2022-06-15T10:03:29.605Z"
   },
   {
    "duration": 218,
    "start_time": "2022-06-15T10:03:29.611Z"
   },
   {
    "duration": 126,
    "start_time": "2022-06-15T10:03:29.831Z"
   },
   {
    "duration": 133,
    "start_time": "2022-06-15T10:03:29.958Z"
   },
   {
    "duration": 5,
    "start_time": "2022-06-15T10:03:30.092Z"
   },
   {
    "duration": 6,
    "start_time": "2022-06-15T10:03:30.099Z"
   },
   {
    "duration": 25,
    "start_time": "2022-06-15T10:03:30.107Z"
   },
   {
    "duration": 64,
    "start_time": "2022-06-15T10:03:30.134Z"
   },
   {
    "duration": 19,
    "start_time": "2022-06-15T10:03:30.200Z"
   },
   {
    "duration": 78,
    "start_time": "2022-06-15T10:03:30.221Z"
   },
   {
    "duration": 34,
    "start_time": "2022-06-15T10:03:30.300Z"
   },
   {
    "duration": 80,
    "start_time": "2022-06-15T10:03:30.336Z"
   },
   {
    "duration": 41,
    "start_time": "2022-06-15T10:03:30.418Z"
   },
   {
    "duration": 63,
    "start_time": "2022-06-15T10:03:30.461Z"
   },
   {
    "duration": 41,
    "start_time": "2022-06-15T10:03:30.526Z"
   },
   {
    "duration": 80,
    "start_time": "2022-06-15T10:03:30.569Z"
   },
   {
    "duration": 81,
    "start_time": "2022-06-15T10:03:30.651Z"
   },
   {
    "duration": 5,
    "start_time": "2022-06-15T10:03:30.734Z"
   },
   {
    "duration": 26,
    "start_time": "2022-06-15T10:03:30.740Z"
   },
   {
    "duration": 48,
    "start_time": "2022-06-15T10:03:30.768Z"
   },
   {
    "duration": 39,
    "start_time": "2022-06-15T10:03:30.817Z"
   },
   {
    "duration": 32,
    "start_time": "2022-06-15T10:03:30.858Z"
   },
   {
    "duration": 22,
    "start_time": "2022-06-15T10:03:30.892Z"
   },
   {
    "duration": 22,
    "start_time": "2022-06-15T10:03:30.915Z"
   },
   {
    "duration": 16,
    "start_time": "2022-06-15T10:03:30.938Z"
   },
   {
    "duration": 23,
    "start_time": "2022-06-15T10:03:30.955Z"
   },
   {
    "duration": 58,
    "start_time": "2022-06-15T10:03:30.979Z"
   },
   {
    "duration": 19,
    "start_time": "2022-06-15T10:03:31.038Z"
   },
   {
    "duration": 41,
    "start_time": "2022-06-15T10:03:31.058Z"
   },
   {
    "duration": 8,
    "start_time": "2022-06-15T11:28:25.309Z"
   },
   {
    "duration": 9,
    "start_time": "2022-06-15T11:28:29.387Z"
   },
   {
    "duration": 142,
    "start_time": "2022-06-15T11:36:59.350Z"
   },
   {
    "duration": 22,
    "start_time": "2022-06-15T11:37:07.459Z"
   },
   {
    "duration": 18,
    "start_time": "2022-06-15T11:37:11.510Z"
   },
   {
    "duration": 18,
    "start_time": "2022-06-15T11:37:16.849Z"
   },
   {
    "duration": 20,
    "start_time": "2022-06-15T11:37:20.061Z"
   },
   {
    "duration": 18,
    "start_time": "2022-06-15T11:37:27.021Z"
   },
   {
    "duration": 27,
    "start_time": "2022-06-15T11:37:31.189Z"
   },
   {
    "duration": 20,
    "start_time": "2022-06-15T11:37:34.518Z"
   },
   {
    "duration": 19,
    "start_time": "2022-06-15T11:37:38.142Z"
   },
   {
    "duration": 30,
    "start_time": "2022-06-15T11:37:40.957Z"
   },
   {
    "duration": 17,
    "start_time": "2022-06-15T11:39:12.454Z"
   },
   {
    "duration": 18,
    "start_time": "2022-06-15T11:42:33.108Z"
   },
   {
    "duration": 18,
    "start_time": "2022-06-15T12:12:33.192Z"
   },
   {
    "duration": 11,
    "start_time": "2022-06-15T12:26:45.805Z"
   },
   {
    "duration": 9,
    "start_time": "2022-06-15T12:26:55.109Z"
   },
   {
    "duration": 8,
    "start_time": "2022-06-15T12:27:08.386Z"
   },
   {
    "duration": 5,
    "start_time": "2022-06-15T12:27:12.509Z"
   },
   {
    "duration": 12,
    "start_time": "2022-06-15T12:29:02.438Z"
   },
   {
    "duration": 12,
    "start_time": "2022-06-15T12:29:57.839Z"
   },
   {
    "duration": 12,
    "start_time": "2022-06-15T12:30:26.422Z"
   },
   {
    "duration": 11,
    "start_time": "2022-06-15T12:30:31.791Z"
   },
   {
    "duration": 4,
    "start_time": "2022-06-15T12:30:34.486Z"
   },
   {
    "duration": 12,
    "start_time": "2022-06-15T12:39:11.681Z"
   },
   {
    "duration": 5,
    "start_time": "2022-06-15T12:39:24.138Z"
   },
   {
    "duration": 3,
    "start_time": "2022-06-15T12:39:25.960Z"
   },
   {
    "duration": 4,
    "start_time": "2022-06-15T12:39:40.160Z"
   },
   {
    "duration": 6,
    "start_time": "2022-06-15T12:39:49.744Z"
   },
   {
    "duration": 5,
    "start_time": "2022-06-15T12:40:11.784Z"
   },
   {
    "duration": 4,
    "start_time": "2022-06-15T12:40:13.457Z"
   },
   {
    "duration": 5,
    "start_time": "2022-06-15T12:56:42.829Z"
   },
   {
    "duration": 4,
    "start_time": "2022-06-15T12:56:43.317Z"
   },
   {
    "duration": 4,
    "start_time": "2022-06-15T12:56:44.013Z"
   },
   {
    "duration": 5,
    "start_time": "2022-06-15T12:56:48.389Z"
   },
   {
    "duration": 9,
    "start_time": "2022-06-15T13:04:04.391Z"
   },
   {
    "duration": 7,
    "start_time": "2022-06-15T13:04:12.568Z"
   },
   {
    "duration": 6,
    "start_time": "2022-06-15T13:04:21.824Z"
   },
   {
    "duration": 4,
    "start_time": "2022-06-15T13:09:03.193Z"
   },
   {
    "duration": 5,
    "start_time": "2022-06-15T13:09:27.786Z"
   },
   {
    "duration": 7,
    "start_time": "2022-06-15T13:10:01.187Z"
   },
   {
    "duration": 5,
    "start_time": "2022-06-15T13:10:28.085Z"
   },
   {
    "duration": 12,
    "start_time": "2022-06-15T13:12:56.125Z"
   },
   {
    "duration": 4,
    "start_time": "2022-06-15T13:13:38.564Z"
   },
   {
    "duration": 4,
    "start_time": "2022-06-15T13:14:31.290Z"
   },
   {
    "duration": 5,
    "start_time": "2022-06-15T13:14:58.081Z"
   },
   {
    "duration": 5,
    "start_time": "2022-06-15T13:14:58.270Z"
   },
   {
    "duration": 3,
    "start_time": "2022-06-15T13:15:32.196Z"
   },
   {
    "duration": 19,
    "start_time": "2022-06-15T13:18:45.945Z"
   },
   {
    "duration": 17,
    "start_time": "2022-06-15T13:18:51.300Z"
   },
   {
    "duration": 18,
    "start_time": "2022-06-15T13:38:10.068Z"
   },
   {
    "duration": 8,
    "start_time": "2022-06-15T14:11:57.996Z"
   },
   {
    "duration": 5,
    "start_time": "2022-06-15T14:12:28.228Z"
   },
   {
    "duration": 4,
    "start_time": "2022-06-15T14:12:42.213Z"
   },
   {
    "duration": 12,
    "start_time": "2022-06-15T14:12:52.958Z"
   },
   {
    "duration": 10,
    "start_time": "2022-06-15T14:13:06.160Z"
   },
   {
    "duration": 11,
    "start_time": "2022-06-15T14:13:15.460Z"
   },
   {
    "duration": 4,
    "start_time": "2022-06-15T14:13:20.565Z"
   },
   {
    "duration": 11,
    "start_time": "2022-06-15T14:13:38.733Z"
   },
   {
    "duration": 7,
    "start_time": "2022-06-15T14:20:11.175Z"
   },
   {
    "duration": 7,
    "start_time": "2022-06-15T14:21:34.264Z"
   },
   {
    "duration": 5,
    "start_time": "2022-06-15T14:21:57.682Z"
   },
   {
    "duration": 2,
    "start_time": "2022-06-15T14:40:58.543Z"
   },
   {
    "duration": 3,
    "start_time": "2022-06-15T14:49:29.991Z"
   },
   {
    "duration": 3,
    "start_time": "2022-06-15T14:49:35.393Z"
   },
   {
    "duration": 2,
    "start_time": "2022-06-15T14:53:48.601Z"
   },
   {
    "duration": 11,
    "start_time": "2022-06-15T14:54:05.355Z"
   },
   {
    "duration": 2,
    "start_time": "2022-06-15T14:57:34.712Z"
   },
   {
    "duration": 2,
    "start_time": "2022-06-15T14:58:17.245Z"
   },
   {
    "duration": 12,
    "start_time": "2022-06-15T14:58:28.531Z"
   },
   {
    "duration": 2,
    "start_time": "2022-06-15T14:58:43.239Z"
   },
   {
    "duration": 10,
    "start_time": "2022-06-15T20:08:14.393Z"
   },
   {
    "duration": 5,
    "start_time": "2022-06-15T20:16:50.171Z"
   },
   {
    "duration": 36,
    "start_time": "2022-06-15T20:17:24.661Z"
   },
   {
    "duration": 12,
    "start_time": "2022-06-15T20:17:28.527Z"
   },
   {
    "duration": 384,
    "start_time": "2022-06-15T20:18:23.136Z"
   },
   {
    "duration": 8,
    "start_time": "2022-06-15T20:19:22.567Z"
   },
   {
    "duration": 9,
    "start_time": "2022-06-15T20:19:41.924Z"
   },
   {
    "duration": 10,
    "start_time": "2022-06-15T20:19:46.737Z"
   },
   {
    "duration": 26,
    "start_time": "2022-06-15T20:20:02.312Z"
   },
   {
    "duration": 14,
    "start_time": "2022-06-15T20:20:16.180Z"
   },
   {
    "duration": 9,
    "start_time": "2022-06-15T20:20:38.660Z"
   },
   {
    "duration": 6,
    "start_time": "2022-06-15T20:20:54.558Z"
   },
   {
    "duration": 6,
    "start_time": "2022-06-15T20:21:15.920Z"
   },
   {
    "duration": 7,
    "start_time": "2022-06-15T20:21:17.849Z"
   },
   {
    "duration": 8,
    "start_time": "2022-06-15T20:30:08.969Z"
   },
   {
    "duration": 7,
    "start_time": "2022-06-15T20:30:17.219Z"
   },
   {
    "duration": 120,
    "start_time": "2022-06-16T06:40:19.503Z"
   },
   {
    "duration": 12003,
    "start_time": "2022-06-16T06:40:31.522Z"
   },
   {
    "duration": 293,
    "start_time": "2022-06-16T06:40:43.534Z"
   },
   {
    "duration": 58,
    "start_time": "2022-06-16T06:40:43.838Z"
   },
   {
    "duration": 16,
    "start_time": "2022-06-16T06:40:43.898Z"
   },
   {
    "duration": 19,
    "start_time": "2022-06-16T06:40:43.915Z"
   },
   {
    "duration": 82,
    "start_time": "2022-06-16T06:40:43.937Z"
   },
   {
    "duration": 13,
    "start_time": "2022-06-16T06:40:44.022Z"
   },
   {
    "duration": 90,
    "start_time": "2022-06-16T06:40:44.036Z"
   },
   {
    "duration": 36,
    "start_time": "2022-06-16T06:40:44.142Z"
   },
   {
    "duration": 31,
    "start_time": "2022-06-16T06:40:44.182Z"
   },
   {
    "duration": 49,
    "start_time": "2022-06-16T06:40:44.215Z"
   },
   {
    "duration": 23,
    "start_time": "2022-06-16T06:40:44.267Z"
   },
   {
    "duration": 12,
    "start_time": "2022-06-16T06:40:44.302Z"
   },
   {
    "duration": 11,
    "start_time": "2022-06-16T06:40:44.316Z"
   },
   {
    "duration": 71,
    "start_time": "2022-06-16T06:40:44.329Z"
   },
   {
    "duration": 17,
    "start_time": "2022-06-16T06:40:44.402Z"
   },
   {
    "duration": 9,
    "start_time": "2022-06-16T06:40:44.420Z"
   },
   {
    "duration": 81,
    "start_time": "2022-06-16T06:40:44.431Z"
   },
   {
    "duration": 35,
    "start_time": "2022-06-16T06:40:44.514Z"
   },
   {
    "duration": 41,
    "start_time": "2022-06-16T06:40:44.556Z"
   },
   {
    "duration": 17,
    "start_time": "2022-06-16T06:40:44.599Z"
   },
   {
    "duration": 8,
    "start_time": "2022-06-16T06:40:44.617Z"
   },
   {
    "duration": 82,
    "start_time": "2022-06-16T06:40:44.626Z"
   },
   {
    "duration": 112,
    "start_time": "2022-06-16T06:40:44.710Z"
   },
   {
    "duration": 6,
    "start_time": "2022-06-16T06:40:44.823Z"
   },
   {
    "duration": 332,
    "start_time": "2022-06-16T06:40:44.831Z"
   },
   {
    "duration": 12,
    "start_time": "2022-06-16T06:40:45.177Z"
   },
   {
    "duration": 181,
    "start_time": "2022-06-16T06:40:45.194Z"
   },
   {
    "duration": 8,
    "start_time": "2022-06-16T06:40:45.377Z"
   },
   {
    "duration": 29,
    "start_time": "2022-06-16T06:40:45.388Z"
   },
   {
    "duration": 17,
    "start_time": "2022-06-16T06:40:45.418Z"
   },
   {
    "duration": 68,
    "start_time": "2022-06-16T06:40:45.437Z"
   },
   {
    "duration": 15,
    "start_time": "2022-06-16T06:40:45.507Z"
   },
   {
    "duration": 694,
    "start_time": "2022-06-16T06:40:45.524Z"
   },
   {
    "duration": 302,
    "start_time": "2022-06-16T06:40:46.220Z"
   },
   {
    "duration": 8,
    "start_time": "2022-06-16T06:40:46.527Z"
   },
   {
    "duration": 516,
    "start_time": "2022-06-16T06:40:46.540Z"
   },
   {
    "duration": 10,
    "start_time": "2022-06-16T06:40:47.061Z"
   },
   {
    "duration": 42,
    "start_time": "2022-06-16T06:40:47.076Z"
   },
   {
    "duration": 100,
    "start_time": "2022-06-16T06:40:47.121Z"
   },
   {
    "duration": 426,
    "start_time": "2022-06-16T06:40:47.223Z"
   },
   {
    "duration": 21,
    "start_time": "2022-06-16T06:40:47.651Z"
   },
   {
    "duration": 461,
    "start_time": "2022-06-16T06:40:47.674Z"
   },
   {
    "duration": 45,
    "start_time": "2022-06-16T06:40:48.141Z"
   },
   {
    "duration": 201,
    "start_time": "2022-06-16T06:40:48.197Z"
   },
   {
    "duration": 252,
    "start_time": "2022-06-16T06:40:48.406Z"
   },
   {
    "duration": 5,
    "start_time": "2022-06-16T06:40:48.660Z"
   },
   {
    "duration": 39,
    "start_time": "2022-06-16T06:40:48.667Z"
   },
   {
    "duration": 267,
    "start_time": "2022-06-16T06:40:48.708Z"
   },
   {
    "duration": 145,
    "start_time": "2022-06-16T06:40:48.977Z"
   },
   {
    "duration": 191,
    "start_time": "2022-06-16T06:40:49.129Z"
   },
   {
    "duration": 17,
    "start_time": "2022-06-16T06:40:49.322Z"
   },
   {
    "duration": 62,
    "start_time": "2022-06-16T06:40:49.341Z"
   },
   {
    "duration": 15,
    "start_time": "2022-06-16T06:40:49.405Z"
   },
   {
    "duration": 118,
    "start_time": "2022-06-16T06:40:49.422Z"
   },
   {
    "duration": 161,
    "start_time": "2022-06-16T06:40:49.542Z"
   },
   {
    "duration": 114,
    "start_time": "2022-06-16T06:40:49.705Z"
   },
   {
    "duration": 109,
    "start_time": "2022-06-16T06:40:49.824Z"
   },
   {
    "duration": 176,
    "start_time": "2022-06-16T06:40:49.934Z"
   },
   {
    "duration": 42,
    "start_time": "2022-06-16T06:40:50.114Z"
   },
   {
    "duration": 130,
    "start_time": "2022-06-16T06:40:50.158Z"
   },
   {
    "duration": 60,
    "start_time": "2022-06-16T06:40:50.290Z"
   },
   {
    "duration": 185,
    "start_time": "2022-06-16T06:40:50.357Z"
   },
   {
    "duration": 145,
    "start_time": "2022-06-16T06:40:50.544Z"
   },
   {
    "duration": 26,
    "start_time": "2022-06-16T06:40:50.695Z"
   },
   {
    "duration": 12,
    "start_time": "2022-06-16T06:40:50.732Z"
   },
   {
    "duration": 57,
    "start_time": "2022-06-16T06:40:50.746Z"
   },
   {
    "duration": 31,
    "start_time": "2022-06-16T06:40:50.805Z"
   },
   {
    "duration": 74,
    "start_time": "2022-06-16T06:40:50.842Z"
   },
   {
    "duration": 13,
    "start_time": "2022-06-16T06:40:50.918Z"
   },
   {
    "duration": 71,
    "start_time": "2022-06-16T06:40:50.934Z"
   },
   {
    "duration": 7,
    "start_time": "2022-06-16T06:40:51.006Z"
   },
   {
    "duration": 18,
    "start_time": "2022-06-16T06:40:51.015Z"
   },
   {
    "duration": 78,
    "start_time": "2022-06-16T06:40:51.035Z"
   },
   {
    "duration": 9,
    "start_time": "2022-06-16T06:40:51.115Z"
   },
   {
    "duration": 87,
    "start_time": "2022-06-16T06:40:51.126Z"
   },
   {
    "duration": 7,
    "start_time": "2022-06-16T06:40:51.215Z"
   },
   {
    "duration": 118,
    "start_time": "2022-06-16T06:40:51.223Z"
   },
   {
    "duration": 60,
    "start_time": "2022-06-16T06:40:51.343Z"
   },
   {
    "duration": 20,
    "start_time": "2022-06-16T06:40:51.406Z"
   },
   {
    "duration": 9,
    "start_time": "2022-06-16T06:41:43.221Z"
   },
   {
    "duration": 12,
    "start_time": "2022-06-16T06:42:10.822Z"
   },
   {
    "duration": 7,
    "start_time": "2022-06-16T06:42:51.960Z"
   },
   {
    "duration": 106,
    "start_time": "2022-06-16T06:42:53.404Z"
   },
   {
    "duration": 20,
    "start_time": "2022-06-16T06:42:53.743Z"
   },
   {
    "duration": 16,
    "start_time": "2022-06-16T06:42:53.951Z"
   },
   {
    "duration": 15,
    "start_time": "2022-06-16T06:42:57.178Z"
   },
   {
    "duration": 28,
    "start_time": "2022-06-16T06:42:57.572Z"
   },
   {
    "duration": 21,
    "start_time": "2022-06-16T06:42:57.873Z"
   },
   {
    "duration": 24,
    "start_time": "2022-06-16T06:42:58.022Z"
   },
   {
    "duration": 5,
    "start_time": "2022-06-16T06:43:00.158Z"
   },
   {
    "duration": 55,
    "start_time": "2022-06-16T06:43:02.633Z"
   },
   {
    "duration": 9,
    "start_time": "2022-06-16T06:43:03.804Z"
   },
   {
    "duration": 23,
    "start_time": "2022-06-16T06:43:04.653Z"
   },
   {
    "duration": 1242,
    "start_time": "2022-06-16T06:43:10.094Z"
   },
   {
    "duration": 132,
    "start_time": "2022-06-16T06:43:11.339Z"
   },
   {
    "duration": 14,
    "start_time": "2022-06-16T06:43:11.473Z"
   },
   {
    "duration": 31,
    "start_time": "2022-06-16T06:43:11.492Z"
   },
   {
    "duration": 101,
    "start_time": "2022-06-16T06:43:11.525Z"
   },
   {
    "duration": 58,
    "start_time": "2022-06-16T06:43:11.639Z"
   },
   {
    "duration": 66,
    "start_time": "2022-06-16T06:43:11.699Z"
   },
   {
    "duration": 45,
    "start_time": "2022-06-16T06:43:11.766Z"
   },
   {
    "duration": 9,
    "start_time": "2022-06-16T06:43:11.813Z"
   },
   {
    "duration": 99,
    "start_time": "2022-06-16T06:43:11.825Z"
   },
   {
    "duration": 84,
    "start_time": "2022-06-16T06:43:11.926Z"
   },
   {
    "duration": 46,
    "start_time": "2022-06-16T06:43:12.011Z"
   },
   {
    "duration": 45,
    "start_time": "2022-06-16T06:43:12.058Z"
   },
   {
    "duration": 22,
    "start_time": "2022-06-16T06:43:12.107Z"
   },
   {
    "duration": 67,
    "start_time": "2022-06-16T06:43:12.131Z"
   },
   {
    "duration": 55,
    "start_time": "2022-06-16T06:43:12.200Z"
   },
   {
    "duration": 51,
    "start_time": "2022-06-16T06:43:12.256Z"
   },
   {
    "duration": 51,
    "start_time": "2022-06-16T06:43:12.308Z"
   },
   {
    "duration": 60,
    "start_time": "2022-06-16T06:43:12.361Z"
   },
   {
    "duration": 64,
    "start_time": "2022-06-16T06:43:12.423Z"
   },
   {
    "duration": 19,
    "start_time": "2022-06-16T06:43:12.494Z"
   },
   {
    "duration": 91,
    "start_time": "2022-06-16T06:43:12.515Z"
   },
   {
    "duration": 57,
    "start_time": "2022-06-16T06:43:12.608Z"
   },
   {
    "duration": 38,
    "start_time": "2022-06-16T06:43:12.671Z"
   },
   {
    "duration": 186,
    "start_time": "2022-06-16T06:43:12.711Z"
   },
   {
    "duration": 11,
    "start_time": "2022-06-16T06:43:12.898Z"
   },
   {
    "duration": 307,
    "start_time": "2022-06-16T06:43:12.917Z"
   },
   {
    "duration": 18,
    "start_time": "2022-06-16T06:43:13.227Z"
   },
   {
    "duration": 248,
    "start_time": "2022-06-16T06:43:13.247Z"
   },
   {
    "duration": 9,
    "start_time": "2022-06-16T06:43:13.497Z"
   },
   {
    "duration": 87,
    "start_time": "2022-06-16T06:43:13.507Z"
   },
   {
    "duration": 29,
    "start_time": "2022-06-16T06:43:13.596Z"
   },
   {
    "duration": 90,
    "start_time": "2022-06-16T06:43:13.627Z"
   },
   {
    "duration": 148,
    "start_time": "2022-06-16T06:43:13.719Z"
   },
   {
    "duration": 475,
    "start_time": "2022-06-16T06:43:13.869Z"
   },
   {
    "duration": 321,
    "start_time": "2022-06-16T06:43:14.346Z"
   },
   {
    "duration": 13,
    "start_time": "2022-06-16T06:43:14.669Z"
   },
   {
    "duration": 501,
    "start_time": "2022-06-16T06:43:14.685Z"
   },
   {
    "duration": 6,
    "start_time": "2022-06-16T06:43:15.188Z"
   },
   {
    "duration": 96,
    "start_time": "2022-06-16T06:43:15.196Z"
   },
   {
    "duration": 103,
    "start_time": "2022-06-16T06:43:15.301Z"
   },
   {
    "duration": 381,
    "start_time": "2022-06-16T06:43:15.406Z"
   },
   {
    "duration": 15,
    "start_time": "2022-06-16T06:43:15.788Z"
   },
   {
    "duration": 390,
    "start_time": "2022-06-16T06:43:15.804Z"
   },
   {
    "duration": 26,
    "start_time": "2022-06-16T06:43:16.199Z"
   },
   {
    "duration": 243,
    "start_time": "2022-06-16T06:43:16.228Z"
   },
   {
    "duration": 169,
    "start_time": "2022-06-16T06:43:16.475Z"
   },
   {
    "duration": 8,
    "start_time": "2022-06-16T06:43:16.650Z"
   },
   {
    "duration": 39,
    "start_time": "2022-06-16T06:43:16.664Z"
   },
   {
    "duration": 388,
    "start_time": "2022-06-16T06:43:16.705Z"
   },
   {
    "duration": 244,
    "start_time": "2022-06-16T06:43:17.101Z"
   },
   {
    "duration": 190,
    "start_time": "2022-06-16T06:43:17.347Z"
   },
   {
    "duration": 15,
    "start_time": "2022-06-16T06:43:17.541Z"
   },
   {
    "duration": 7,
    "start_time": "2022-06-16T06:43:17.560Z"
   },
   {
    "duration": 89,
    "start_time": "2022-06-16T06:43:17.569Z"
   },
   {
    "duration": 111,
    "start_time": "2022-06-16T06:43:17.660Z"
   },
   {
    "duration": 29,
    "start_time": "2022-06-16T06:43:17.773Z"
   },
   {
    "duration": 63,
    "start_time": "2022-06-16T06:43:17.806Z"
   },
   {
    "duration": 89,
    "start_time": "2022-06-16T06:43:17.876Z"
   },
   {
    "duration": 105,
    "start_time": "2022-06-16T06:43:17.969Z"
   },
   {
    "duration": 35,
    "start_time": "2022-06-16T06:43:18.081Z"
   },
   {
    "duration": 70,
    "start_time": "2022-06-16T06:43:18.117Z"
   },
   {
    "duration": 34,
    "start_time": "2022-06-16T06:43:18.189Z"
   },
   {
    "duration": 80,
    "start_time": "2022-06-16T06:43:18.225Z"
   },
   {
    "duration": 92,
    "start_time": "2022-06-16T06:43:18.308Z"
   },
   {
    "duration": 8,
    "start_time": "2022-06-16T06:43:18.401Z"
   },
   {
    "duration": 47,
    "start_time": "2022-06-16T06:43:18.410Z"
   },
   {
    "duration": 53,
    "start_time": "2022-06-16T06:43:18.459Z"
   },
   {
    "duration": 16,
    "start_time": "2022-06-16T06:43:18.514Z"
   },
   {
    "duration": 22,
    "start_time": "2022-06-16T06:43:18.532Z"
   },
   {
    "duration": 40,
    "start_time": "2022-06-16T06:43:18.556Z"
   },
   {
    "duration": 12,
    "start_time": "2022-06-16T06:43:18.598Z"
   },
   {
    "duration": 10,
    "start_time": "2022-06-16T06:43:18.612Z"
   },
   {
    "duration": 64,
    "start_time": "2022-06-16T06:43:18.624Z"
   },
   {
    "duration": 10,
    "start_time": "2022-06-16T06:43:18.690Z"
   },
   {
    "duration": 8,
    "start_time": "2022-06-16T06:43:18.701Z"
   },
   {
    "duration": 22,
    "start_time": "2022-06-16T06:43:18.711Z"
   },
   {
    "duration": 65,
    "start_time": "2022-06-16T06:43:18.739Z"
   },
   {
    "duration": 33,
    "start_time": "2022-06-16T06:43:18.806Z"
   },
   {
    "duration": 6,
    "start_time": "2022-06-16T06:43:18.840Z"
   },
   {
    "duration": 63,
    "start_time": "2022-06-16T06:43:18.853Z"
   },
   {
    "duration": 45,
    "start_time": "2022-06-16T07:25:28.079Z"
   },
   {
    "duration": 7,
    "start_time": "2022-06-16T07:25:31.492Z"
   },
   {
    "duration": 294,
    "start_time": "2022-06-16T07:25:56.124Z"
   },
   {
    "duration": 55,
    "start_time": "2022-06-16T07:28:13.850Z"
   },
   {
    "duration": 1757,
    "start_time": "2022-06-16T07:28:26.364Z"
   },
   {
    "duration": 6,
    "start_time": "2022-06-16T07:28:37.616Z"
   },
   {
    "duration": 5,
    "start_time": "2022-06-16T07:28:39.844Z"
   },
   {
    "duration": 21,
    "start_time": "2022-06-16T07:28:43.220Z"
   },
   {
    "duration": 8,
    "start_time": "2022-06-16T07:28:55.984Z"
   },
   {
    "duration": 16,
    "start_time": "2022-06-16T07:29:40.046Z"
   },
   {
    "duration": 5,
    "start_time": "2022-06-16T07:29:58.813Z"
   },
   {
    "duration": 90,
    "start_time": "2022-06-16T07:30:15.744Z"
   },
   {
    "duration": 4,
    "start_time": "2022-06-16T07:30:27.611Z"
   },
   {
    "duration": 15,
    "start_time": "2022-06-16T07:30:28.009Z"
   },
   {
    "duration": 12,
    "start_time": "2022-06-16T07:30:28.556Z"
   },
   {
    "duration": 84,
    "start_time": "2022-06-16T07:30:30.012Z"
   },
   {
    "duration": 7,
    "start_time": "2022-06-16T07:30:37.895Z"
   },
   {
    "duration": 3,
    "start_time": "2022-06-16T07:54:52.891Z"
   },
   {
    "duration": 23,
    "start_time": "2022-06-16T07:55:02.771Z"
   },
   {
    "duration": 4,
    "start_time": "2022-06-16T07:57:13.016Z"
   },
   {
    "duration": 3,
    "start_time": "2022-06-16T07:57:29.647Z"
   },
   {
    "duration": 5,
    "start_time": "2022-06-16T07:57:33.904Z"
   },
   {
    "duration": 6,
    "start_time": "2022-06-16T07:58:00.361Z"
   },
   {
    "duration": 3,
    "start_time": "2022-06-16T07:58:24.608Z"
   },
   {
    "duration": 49,
    "start_time": "2022-06-16T07:58:26.694Z"
   },
   {
    "duration": 34,
    "start_time": "2022-06-16T08:05:34.743Z"
   },
   {
    "duration": 22,
    "start_time": "2022-06-16T08:06:58.829Z"
   },
   {
    "duration": 1172,
    "start_time": "2022-06-16T08:07:20.561Z"
   },
   {
    "duration": 190,
    "start_time": "2022-06-16T08:07:21.739Z"
   },
   {
    "duration": 15,
    "start_time": "2022-06-16T08:07:21.936Z"
   },
   {
    "duration": 27,
    "start_time": "2022-06-16T08:07:21.955Z"
   },
   {
    "duration": 20,
    "start_time": "2022-06-16T08:07:21.984Z"
   },
   {
    "duration": 20,
    "start_time": "2022-06-16T08:07:22.006Z"
   },
   {
    "duration": 53,
    "start_time": "2022-06-16T08:07:22.028Z"
   },
   {
    "duration": 11,
    "start_time": "2022-06-16T08:07:22.083Z"
   },
   {
    "duration": 8,
    "start_time": "2022-06-16T08:07:22.096Z"
   },
   {
    "duration": 31,
    "start_time": "2022-06-16T08:07:22.108Z"
   },
   {
    "duration": 35,
    "start_time": "2022-06-16T08:07:22.143Z"
   },
   {
    "duration": 10,
    "start_time": "2022-06-16T08:07:22.180Z"
   },
   {
    "duration": 12,
    "start_time": "2022-06-16T08:07:22.192Z"
   },
   {
    "duration": 15,
    "start_time": "2022-06-16T08:07:22.206Z"
   },
   {
    "duration": 25,
    "start_time": "2022-06-16T08:07:22.223Z"
   },
   {
    "duration": 25,
    "start_time": "2022-06-16T08:07:22.250Z"
   },
   {
    "duration": 9,
    "start_time": "2022-06-16T08:07:22.277Z"
   },
   {
    "duration": 11,
    "start_time": "2022-06-16T08:07:22.288Z"
   },
   {
    "duration": 28,
    "start_time": "2022-06-16T08:07:22.300Z"
   },
   {
    "duration": 39,
    "start_time": "2022-06-16T08:07:22.330Z"
   },
   {
    "duration": 15,
    "start_time": "2022-06-16T08:07:22.371Z"
   },
   {
    "duration": 15,
    "start_time": "2022-06-16T08:07:22.389Z"
   },
   {
    "duration": 13,
    "start_time": "2022-06-16T08:07:22.406Z"
   },
   {
    "duration": 53,
    "start_time": "2022-06-16T08:07:22.421Z"
   },
   {
    "duration": 59,
    "start_time": "2022-06-16T08:07:22.477Z"
   },
   {
    "duration": 26,
    "start_time": "2022-06-16T08:07:22.537Z"
   },
   {
    "duration": 195,
    "start_time": "2022-06-16T08:07:22.565Z"
   },
   {
    "duration": 9,
    "start_time": "2022-06-16T08:07:22.766Z"
   },
   {
    "duration": 129,
    "start_time": "2022-06-16T08:07:22.776Z"
   },
   {
    "duration": 9,
    "start_time": "2022-06-16T08:07:22.907Z"
   },
   {
    "duration": 6,
    "start_time": "2022-06-16T08:07:22.927Z"
   },
   {
    "duration": 45,
    "start_time": "2022-06-16T08:07:22.935Z"
   },
   {
    "duration": 17,
    "start_time": "2022-06-16T08:07:22.982Z"
   },
   {
    "duration": 29,
    "start_time": "2022-06-16T08:07:23.001Z"
   },
   {
    "duration": 389,
    "start_time": "2022-06-16T08:07:23.032Z"
   },
   {
    "duration": 245,
    "start_time": "2022-06-16T08:07:23.427Z"
   },
   {
    "duration": 7,
    "start_time": "2022-06-16T08:07:23.675Z"
   },
   {
    "duration": 380,
    "start_time": "2022-06-16T08:07:23.684Z"
   },
   {
    "duration": 7,
    "start_time": "2022-06-16T08:07:24.066Z"
   },
   {
    "duration": 15,
    "start_time": "2022-06-16T08:07:24.075Z"
   },
   {
    "duration": 6,
    "start_time": "2022-06-16T08:07:24.092Z"
   },
   {
    "duration": 227,
    "start_time": "2022-06-16T08:07:24.100Z"
   },
   {
    "duration": 17,
    "start_time": "2022-06-16T08:07:24.330Z"
   },
   {
    "duration": 339,
    "start_time": "2022-06-16T08:07:24.349Z"
   },
   {
    "duration": 16,
    "start_time": "2022-06-16T08:07:24.689Z"
   },
   {
    "duration": 155,
    "start_time": "2022-06-16T08:07:24.707Z"
   },
   {
    "duration": 127,
    "start_time": "2022-06-16T08:07:24.878Z"
   },
   {
    "duration": 5,
    "start_time": "2022-06-16T08:07:25.007Z"
   },
   {
    "duration": 14,
    "start_time": "2022-06-16T08:07:25.013Z"
   },
   {
    "duration": 257,
    "start_time": "2022-06-16T08:07:25.034Z"
   },
   {
    "duration": 164,
    "start_time": "2022-06-16T08:07:25.293Z"
   },
   {
    "duration": 152,
    "start_time": "2022-06-16T08:07:25.461Z"
   },
   {
    "duration": 6,
    "start_time": "2022-06-16T08:07:25.615Z"
   },
   {
    "duration": 42,
    "start_time": "2022-06-16T08:07:25.634Z"
   },
   {
    "duration": 34,
    "start_time": "2022-06-16T08:07:25.678Z"
   },
   {
    "duration": 128,
    "start_time": "2022-06-16T08:07:25.714Z"
   },
   {
    "duration": 81,
    "start_time": "2022-06-16T08:07:25.844Z"
   },
   {
    "duration": 115,
    "start_time": "2022-06-16T08:07:25.928Z"
   },
   {
    "duration": 62,
    "start_time": "2022-06-16T08:07:26.045Z"
   },
   {
    "duration": 93,
    "start_time": "2022-06-16T08:07:26.109Z"
   },
   {
    "duration": 100,
    "start_time": "2022-06-16T08:07:26.204Z"
   },
   {
    "duration": 165,
    "start_time": "2022-06-16T08:07:26.306Z"
   },
   {
    "duration": 89,
    "start_time": "2022-06-16T08:07:26.475Z"
   },
   {
    "duration": 117,
    "start_time": "2022-06-16T08:07:26.570Z"
   },
   {
    "duration": 131,
    "start_time": "2022-06-16T08:07:26.689Z"
   },
   {
    "duration": 15,
    "start_time": "2022-06-16T08:07:26.821Z"
   },
   {
    "duration": 68,
    "start_time": "2022-06-16T08:07:26.842Z"
   },
   {
    "duration": 103,
    "start_time": "2022-06-16T08:07:26.912Z"
   },
   {
    "duration": 23,
    "start_time": "2022-06-16T08:07:27.017Z"
   },
   {
    "duration": 56,
    "start_time": "2022-06-16T08:07:27.045Z"
   },
   {
    "duration": 73,
    "start_time": "2022-06-16T08:07:27.104Z"
   },
   {
    "duration": 31,
    "start_time": "2022-06-16T08:07:27.179Z"
   },
   {
    "duration": 14,
    "start_time": "2022-06-16T08:07:27.212Z"
   },
   {
    "duration": 204,
    "start_time": "2022-06-16T08:07:27.232Z"
   },
   {
    "duration": 0,
    "start_time": "2022-06-16T08:07:27.438Z"
   },
   {
    "duration": 0,
    "start_time": "2022-06-16T08:07:27.439Z"
   },
   {
    "duration": 0,
    "start_time": "2022-06-16T08:07:27.440Z"
   },
   {
    "duration": 0,
    "start_time": "2022-06-16T08:07:27.441Z"
   },
   {
    "duration": 0,
    "start_time": "2022-06-16T08:07:27.442Z"
   },
   {
    "duration": 0,
    "start_time": "2022-06-16T08:07:27.444Z"
   },
   {
    "duration": 1205,
    "start_time": "2022-06-16T08:07:49.921Z"
   },
   {
    "duration": 92,
    "start_time": "2022-06-16T08:07:51.129Z"
   },
   {
    "duration": 16,
    "start_time": "2022-06-16T08:07:51.223Z"
   },
   {
    "duration": 51,
    "start_time": "2022-06-16T08:07:51.242Z"
   },
   {
    "duration": 14,
    "start_time": "2022-06-16T08:07:51.294Z"
   },
   {
    "duration": 13,
    "start_time": "2022-06-16T08:07:51.310Z"
   },
   {
    "duration": 48,
    "start_time": "2022-06-16T08:07:51.325Z"
   },
   {
    "duration": 13,
    "start_time": "2022-06-16T08:07:51.375Z"
   },
   {
    "duration": 10,
    "start_time": "2022-06-16T08:07:51.390Z"
   },
   {
    "duration": 23,
    "start_time": "2022-06-16T08:07:51.402Z"
   },
   {
    "duration": 7,
    "start_time": "2022-06-16T08:07:51.427Z"
   },
   {
    "duration": 46,
    "start_time": "2022-06-16T08:07:51.436Z"
   },
   {
    "duration": 18,
    "start_time": "2022-06-16T08:07:51.484Z"
   },
   {
    "duration": 12,
    "start_time": "2022-06-16T08:07:51.504Z"
   },
   {
    "duration": 29,
    "start_time": "2022-06-16T08:07:51.518Z"
   },
   {
    "duration": 25,
    "start_time": "2022-06-16T08:07:51.551Z"
   },
   {
    "duration": 11,
    "start_time": "2022-06-16T08:07:51.578Z"
   },
   {
    "duration": 9,
    "start_time": "2022-06-16T08:07:51.591Z"
   },
   {
    "duration": 15,
    "start_time": "2022-06-16T08:07:51.602Z"
   },
   {
    "duration": 34,
    "start_time": "2022-06-16T08:07:51.619Z"
   },
   {
    "duration": 19,
    "start_time": "2022-06-16T08:07:51.655Z"
   },
   {
    "duration": 15,
    "start_time": "2022-06-16T08:07:51.676Z"
   },
   {
    "duration": 6,
    "start_time": "2022-06-16T08:07:51.693Z"
   },
   {
    "duration": 14,
    "start_time": "2022-06-16T08:07:51.700Z"
   },
   {
    "duration": 66,
    "start_time": "2022-06-16T08:07:51.716Z"
   },
   {
    "duration": 6,
    "start_time": "2022-06-16T08:07:51.783Z"
   },
   {
    "duration": 225,
    "start_time": "2022-06-16T08:07:51.791Z"
   },
   {
    "duration": 14,
    "start_time": "2022-06-16T08:07:52.030Z"
   },
   {
    "duration": 155,
    "start_time": "2022-06-16T08:07:52.050Z"
   },
   {
    "duration": 9,
    "start_time": "2022-06-16T08:07:52.206Z"
   },
   {
    "duration": 60,
    "start_time": "2022-06-16T08:07:52.217Z"
   },
   {
    "duration": 16,
    "start_time": "2022-06-16T08:07:52.279Z"
   },
   {
    "duration": 33,
    "start_time": "2022-06-16T08:07:52.297Z"
   },
   {
    "duration": 47,
    "start_time": "2022-06-16T08:07:52.334Z"
   },
   {
    "duration": 326,
    "start_time": "2022-06-16T08:07:52.383Z"
   },
   {
    "duration": 257,
    "start_time": "2022-06-16T08:07:52.711Z"
   },
   {
    "duration": 6,
    "start_time": "2022-06-16T08:07:52.970Z"
   },
   {
    "duration": 331,
    "start_time": "2022-06-16T08:07:52.978Z"
   },
   {
    "duration": 18,
    "start_time": "2022-06-16T08:07:53.311Z"
   },
   {
    "duration": 23,
    "start_time": "2022-06-16T08:07:53.343Z"
   },
   {
    "duration": 27,
    "start_time": "2022-06-16T08:07:53.368Z"
   },
   {
    "duration": 220,
    "start_time": "2022-06-16T08:07:53.397Z"
   },
   {
    "duration": 24,
    "start_time": "2022-06-16T08:07:53.618Z"
   },
   {
    "duration": 344,
    "start_time": "2022-06-16T08:07:53.647Z"
   },
   {
    "duration": 15,
    "start_time": "2022-06-16T08:07:53.993Z"
   },
   {
    "duration": 161,
    "start_time": "2022-06-16T08:07:54.010Z"
   },
   {
    "duration": 130,
    "start_time": "2022-06-16T08:07:54.173Z"
   },
   {
    "duration": 6,
    "start_time": "2022-06-16T08:07:54.305Z"
   },
   {
    "duration": 20,
    "start_time": "2022-06-16T08:07:54.312Z"
   },
   {
    "duration": 250,
    "start_time": "2022-06-16T08:07:54.333Z"
   },
   {
    "duration": 194,
    "start_time": "2022-06-16T08:07:54.585Z"
   },
   {
    "duration": 173,
    "start_time": "2022-06-16T08:07:54.781Z"
   },
   {
    "duration": 8,
    "start_time": "2022-06-16T08:07:54.955Z"
   },
   {
    "duration": 5,
    "start_time": "2022-06-16T08:07:54.966Z"
   },
   {
    "duration": 12,
    "start_time": "2022-06-16T08:07:54.973Z"
   },
   {
    "duration": 73,
    "start_time": "2022-06-16T08:07:54.987Z"
   },
   {
    "duration": 17,
    "start_time": "2022-06-16T08:07:55.062Z"
   },
   {
    "duration": 52,
    "start_time": "2022-06-16T08:07:55.082Z"
   },
   {
    "duration": 43,
    "start_time": "2022-06-16T08:07:55.136Z"
   },
   {
    "duration": 84,
    "start_time": "2022-06-16T08:07:55.181Z"
   },
   {
    "duration": 23,
    "start_time": "2022-06-16T08:07:55.270Z"
   },
   {
    "duration": 67,
    "start_time": "2022-06-16T08:07:55.295Z"
   },
   {
    "duration": 40,
    "start_time": "2022-06-16T08:07:55.364Z"
   },
   {
    "duration": 102,
    "start_time": "2022-06-16T08:07:55.406Z"
   },
   {
    "duration": 104,
    "start_time": "2022-06-16T08:07:55.510Z"
   },
   {
    "duration": 54,
    "start_time": "2022-06-16T08:07:55.616Z"
   },
   {
    "duration": 10,
    "start_time": "2022-06-16T08:07:55.671Z"
   },
   {
    "duration": 24,
    "start_time": "2022-06-16T08:07:55.682Z"
   },
   {
    "duration": 11,
    "start_time": "2022-06-16T08:07:55.708Z"
   },
   {
    "duration": 10,
    "start_time": "2022-06-16T08:07:55.721Z"
   },
   {
    "duration": 37,
    "start_time": "2022-06-16T08:07:55.732Z"
   },
   {
    "duration": 8,
    "start_time": "2022-06-16T08:07:55.771Z"
   },
   {
    "duration": 6,
    "start_time": "2022-06-16T08:07:55.781Z"
   },
   {
    "duration": 7,
    "start_time": "2022-06-16T08:07:55.788Z"
   },
   {
    "duration": 0,
    "start_time": "2022-06-16T08:07:55.797Z"
   },
   {
    "duration": 0,
    "start_time": "2022-06-16T08:07:55.799Z"
   },
   {
    "duration": 0,
    "start_time": "2022-06-16T08:07:55.800Z"
   },
   {
    "duration": 0,
    "start_time": "2022-06-16T08:07:55.801Z"
   },
   {
    "duration": 0,
    "start_time": "2022-06-16T08:07:55.802Z"
   },
   {
    "duration": 0,
    "start_time": "2022-06-16T08:07:55.804Z"
   },
   {
    "duration": 4,
    "start_time": "2022-06-16T08:13:09.377Z"
   },
   {
    "duration": 12,
    "start_time": "2022-06-16T08:14:56.153Z"
   },
   {
    "duration": 5,
    "start_time": "2022-06-16T08:50:27.858Z"
   },
   {
    "duration": 5,
    "start_time": "2022-06-16T08:50:28.201Z"
   },
   {
    "duration": 3,
    "start_time": "2022-06-16T08:50:28.587Z"
   },
   {
    "duration": 5,
    "start_time": "2022-06-16T08:50:36.882Z"
   },
   {
    "duration": 6,
    "start_time": "2022-06-16T08:50:41.280Z"
   },
   {
    "duration": 6,
    "start_time": "2022-06-16T08:50:41.594Z"
   },
   {
    "duration": 22,
    "start_time": "2022-06-16T08:50:43.039Z"
   },
   {
    "duration": 4,
    "start_time": "2022-06-16T08:50:45.289Z"
   },
   {
    "duration": 1051,
    "start_time": "2022-06-16T08:55:23.460Z"
   },
   {
    "duration": 75,
    "start_time": "2022-06-16T08:55:24.513Z"
   },
   {
    "duration": 12,
    "start_time": "2022-06-16T08:55:24.589Z"
   },
   {
    "duration": 34,
    "start_time": "2022-06-16T08:55:24.602Z"
   },
   {
    "duration": 20,
    "start_time": "2022-06-16T08:55:24.638Z"
   },
   {
    "duration": 20,
    "start_time": "2022-06-16T08:55:24.660Z"
   },
   {
    "duration": 28,
    "start_time": "2022-06-16T08:55:24.682Z"
   },
   {
    "duration": 20,
    "start_time": "2022-06-16T08:55:24.712Z"
   },
   {
    "duration": 28,
    "start_time": "2022-06-16T08:55:24.733Z"
   },
   {
    "duration": 38,
    "start_time": "2022-06-16T08:55:24.763Z"
   },
   {
    "duration": 20,
    "start_time": "2022-06-16T08:55:24.802Z"
   },
   {
    "duration": 22,
    "start_time": "2022-06-16T08:55:24.824Z"
   },
   {
    "duration": 37,
    "start_time": "2022-06-16T08:55:24.848Z"
   },
   {
    "duration": 28,
    "start_time": "2022-06-16T08:55:24.887Z"
   },
   {
    "duration": 28,
    "start_time": "2022-06-16T08:55:24.917Z"
   },
   {
    "duration": 12,
    "start_time": "2022-06-16T08:55:24.947Z"
   },
   {
    "duration": 9,
    "start_time": "2022-06-16T08:55:24.961Z"
   },
   {
    "duration": 13,
    "start_time": "2022-06-16T08:55:24.971Z"
   },
   {
    "duration": 15,
    "start_time": "2022-06-16T08:55:24.986Z"
   },
   {
    "duration": 24,
    "start_time": "2022-06-16T08:55:25.003Z"
   },
   {
    "duration": 5,
    "start_time": "2022-06-16T08:55:25.029Z"
   },
   {
    "duration": 16,
    "start_time": "2022-06-16T08:55:25.035Z"
   },
   {
    "duration": 12,
    "start_time": "2022-06-16T08:55:25.053Z"
   },
   {
    "duration": 15,
    "start_time": "2022-06-16T08:55:25.067Z"
   },
   {
    "duration": 86,
    "start_time": "2022-06-16T08:55:25.084Z"
   },
   {
    "duration": 57,
    "start_time": "2022-06-16T08:55:25.172Z"
   },
   {
    "duration": 417,
    "start_time": "2022-06-16T08:55:25.231Z"
   },
   {
    "duration": 16,
    "start_time": "2022-06-16T08:55:25.658Z"
   },
   {
    "duration": 274,
    "start_time": "2022-06-16T08:55:25.676Z"
   },
   {
    "duration": 7,
    "start_time": "2022-06-16T08:55:25.952Z"
   },
   {
    "duration": 67,
    "start_time": "2022-06-16T08:55:25.961Z"
   },
   {
    "duration": 14,
    "start_time": "2022-06-16T08:55:26.030Z"
   },
   {
    "duration": 18,
    "start_time": "2022-06-16T08:55:26.045Z"
   },
   {
    "duration": 11,
    "start_time": "2022-06-16T08:55:26.065Z"
   },
   {
    "duration": 676,
    "start_time": "2022-06-16T08:55:26.077Z"
   },
   {
    "duration": 345,
    "start_time": "2022-06-16T08:55:26.755Z"
   },
   {
    "duration": 5,
    "start_time": "2022-06-16T08:55:27.102Z"
   },
   {
    "duration": 330,
    "start_time": "2022-06-16T08:55:27.109Z"
   },
   {
    "duration": 5,
    "start_time": "2022-06-16T08:55:27.441Z"
   },
   {
    "duration": 20,
    "start_time": "2022-06-16T08:55:27.448Z"
   },
   {
    "duration": 6,
    "start_time": "2022-06-16T08:55:27.469Z"
   },
   {
    "duration": 211,
    "start_time": "2022-06-16T08:55:27.477Z"
   },
   {
    "duration": 12,
    "start_time": "2022-06-16T08:55:27.690Z"
   },
   {
    "duration": 356,
    "start_time": "2022-06-16T08:55:27.704Z"
   },
   {
    "duration": 12,
    "start_time": "2022-06-16T08:55:28.061Z"
   },
   {
    "duration": 130,
    "start_time": "2022-06-16T08:55:28.075Z"
   },
   {
    "duration": 117,
    "start_time": "2022-06-16T08:55:28.206Z"
   },
   {
    "duration": 5,
    "start_time": "2022-06-16T08:55:28.327Z"
   },
   {
    "duration": 5,
    "start_time": "2022-06-16T08:55:28.333Z"
   },
   {
    "duration": 231,
    "start_time": "2022-06-16T08:55:28.340Z"
   },
   {
    "duration": 127,
    "start_time": "2022-06-16T08:55:28.574Z"
   },
   {
    "duration": 131,
    "start_time": "2022-06-16T08:55:28.703Z"
   },
   {
    "duration": 5,
    "start_time": "2022-06-16T08:55:28.836Z"
   },
   {
    "duration": 5,
    "start_time": "2022-06-16T08:55:28.842Z"
   },
   {
    "duration": 14,
    "start_time": "2022-06-16T08:55:28.848Z"
   },
   {
    "duration": 47,
    "start_time": "2022-06-16T08:55:28.863Z"
   },
   {
    "duration": 13,
    "start_time": "2022-06-16T08:55:28.928Z"
   },
   {
    "duration": 49,
    "start_time": "2022-06-16T08:55:28.943Z"
   },
   {
    "duration": 47,
    "start_time": "2022-06-16T08:55:28.994Z"
   },
   {
    "duration": 61,
    "start_time": "2022-06-16T08:55:29.043Z"
   },
   {
    "duration": 37,
    "start_time": "2022-06-16T08:55:29.106Z"
   },
   {
    "duration": 56,
    "start_time": "2022-06-16T08:55:29.145Z"
   },
   {
    "duration": 43,
    "start_time": "2022-06-16T08:55:29.203Z"
   },
   {
    "duration": 99,
    "start_time": "2022-06-16T08:55:29.248Z"
   },
   {
    "duration": 99,
    "start_time": "2022-06-16T08:55:29.349Z"
   },
   {
    "duration": 4,
    "start_time": "2022-06-16T08:55:29.450Z"
   },
   {
    "duration": 9,
    "start_time": "2022-06-16T08:55:29.456Z"
   },
   {
    "duration": 24,
    "start_time": "2022-06-16T08:55:29.467Z"
   },
   {
    "duration": 11,
    "start_time": "2022-06-16T08:55:29.493Z"
   },
   {
    "duration": 9,
    "start_time": "2022-06-16T08:55:29.526Z"
   },
   {
    "duration": 7,
    "start_time": "2022-06-16T08:55:29.537Z"
   },
   {
    "duration": 6,
    "start_time": "2022-06-16T08:55:29.545Z"
   },
   {
    "duration": 7,
    "start_time": "2022-06-16T08:55:29.553Z"
   },
   {
    "duration": 9,
    "start_time": "2022-06-16T08:55:29.561Z"
   },
   {
    "duration": 8,
    "start_time": "2022-06-16T08:55:29.572Z"
   },
   {
    "duration": 10,
    "start_time": "2022-06-16T08:55:29.581Z"
   },
   {
    "duration": 49,
    "start_time": "2022-06-16T08:55:29.592Z"
   },
   {
    "duration": 3,
    "start_time": "2022-06-16T08:55:29.643Z"
   },
   {
    "duration": 14,
    "start_time": "2022-06-16T08:55:29.648Z"
   },
   {
    "duration": 1011,
    "start_time": "2022-08-18T14:47:45.460Z"
   },
   {
    "duration": 78,
    "start_time": "2022-08-18T14:47:46.473Z"
   },
   {
    "duration": 14,
    "start_time": "2022-08-18T14:47:46.552Z"
   },
   {
    "duration": 12,
    "start_time": "2022-08-18T14:47:46.568Z"
   },
   {
    "duration": 9,
    "start_time": "2022-08-18T14:47:46.581Z"
   },
   {
    "duration": 10,
    "start_time": "2022-08-18T14:47:46.591Z"
   },
   {
    "duration": 9,
    "start_time": "2022-08-18T14:47:46.602Z"
   },
   {
    "duration": 8,
    "start_time": "2022-08-18T14:47:46.613Z"
   },
   {
    "duration": 5,
    "start_time": "2022-08-18T14:47:46.622Z"
   },
   {
    "duration": 20,
    "start_time": "2022-08-18T14:47:46.629Z"
   },
   {
    "duration": 8,
    "start_time": "2022-08-18T14:47:46.650Z"
   },
   {
    "duration": 6,
    "start_time": "2022-08-18T14:47:46.659Z"
   },
   {
    "duration": 8,
    "start_time": "2022-08-18T14:47:46.667Z"
   },
   {
    "duration": 31,
    "start_time": "2022-08-18T14:47:46.676Z"
   },
   {
    "duration": 7,
    "start_time": "2022-08-18T14:47:46.708Z"
   },
   {
    "duration": 6,
    "start_time": "2022-08-18T14:47:46.716Z"
   },
   {
    "duration": 6,
    "start_time": "2022-08-18T14:47:46.724Z"
   },
   {
    "duration": 6,
    "start_time": "2022-08-18T14:47:46.731Z"
   },
   {
    "duration": 10,
    "start_time": "2022-08-18T14:47:46.739Z"
   },
   {
    "duration": 73,
    "start_time": "2022-08-18T14:47:46.750Z"
   },
   {
    "duration": 3,
    "start_time": "2022-08-18T14:47:46.825Z"
   },
   {
    "duration": 10,
    "start_time": "2022-08-18T14:47:46.829Z"
   },
   {
    "duration": 5,
    "start_time": "2022-08-18T14:47:46.840Z"
   },
   {
    "duration": 65,
    "start_time": "2022-08-18T14:47:46.847Z"
   },
   {
    "duration": 94,
    "start_time": "2022-08-18T14:47:46.913Z"
   },
   {
    "duration": 5,
    "start_time": "2022-08-18T14:47:47.008Z"
   },
   {
    "duration": 314,
    "start_time": "2022-08-18T14:47:47.014Z"
   },
   {
    "duration": 11,
    "start_time": "2022-08-18T14:47:47.332Z"
   },
   {
    "duration": 270,
    "start_time": "2022-08-18T14:47:47.345Z"
   },
   {
    "duration": 7,
    "start_time": "2022-08-18T14:47:47.616Z"
   },
   {
    "duration": 6,
    "start_time": "2022-08-18T14:47:47.624Z"
   },
   {
    "duration": 11,
    "start_time": "2022-08-18T14:47:47.632Z"
   },
   {
    "duration": 11,
    "start_time": "2022-08-18T14:47:47.645Z"
   },
   {
    "duration": 8,
    "start_time": "2022-08-18T14:47:47.706Z"
   },
   {
    "duration": 533,
    "start_time": "2022-08-18T14:47:47.715Z"
   },
   {
    "duration": 321,
    "start_time": "2022-08-18T14:47:48.250Z"
   },
   {
    "duration": 6,
    "start_time": "2022-08-18T14:47:48.572Z"
   },
   {
    "duration": 317,
    "start_time": "2022-08-18T14:47:48.580Z"
   },
   {
    "duration": 5,
    "start_time": "2022-08-18T14:47:48.905Z"
   },
   {
    "duration": 15,
    "start_time": "2022-08-18T14:47:48.912Z"
   },
   {
    "duration": 7,
    "start_time": "2022-08-18T14:47:48.928Z"
   },
   {
    "duration": 199,
    "start_time": "2022-08-18T14:47:48.936Z"
   },
   {
    "duration": 11,
    "start_time": "2022-08-18T14:47:49.137Z"
   },
   {
    "duration": 294,
    "start_time": "2022-08-18T14:47:49.149Z"
   },
   {
    "duration": 13,
    "start_time": "2022-08-18T14:47:49.445Z"
   },
   {
    "duration": 126,
    "start_time": "2022-08-18T14:47:49.459Z"
   },
   {
    "duration": 104,
    "start_time": "2022-08-18T14:47:49.586Z"
   },
   {
    "duration": 16,
    "start_time": "2022-08-18T14:47:49.692Z"
   },
   {
    "duration": 9,
    "start_time": "2022-08-18T14:47:49.709Z"
   },
   {
    "duration": 207,
    "start_time": "2022-08-18T14:47:49.720Z"
   },
   {
    "duration": 125,
    "start_time": "2022-08-18T14:47:49.928Z"
   },
   {
    "duration": 134,
    "start_time": "2022-08-18T14:47:50.055Z"
   },
   {
    "duration": 5,
    "start_time": "2022-08-18T14:47:50.191Z"
   },
   {
    "duration": 10,
    "start_time": "2022-08-18T14:47:50.197Z"
   },
   {
    "duration": 21,
    "start_time": "2022-08-18T14:47:50.209Z"
   },
   {
    "duration": 53,
    "start_time": "2022-08-18T14:47:50.231Z"
   },
   {
    "duration": 21,
    "start_time": "2022-08-18T14:47:50.285Z"
   },
   {
    "duration": 56,
    "start_time": "2022-08-18T14:47:50.307Z"
   },
   {
    "duration": 31,
    "start_time": "2022-08-18T14:47:50.364Z"
   },
   {
    "duration": 48,
    "start_time": "2022-08-18T14:47:50.397Z"
   },
   {
    "duration": 22,
    "start_time": "2022-08-18T14:47:50.447Z"
   },
   {
    "duration": 58,
    "start_time": "2022-08-18T14:47:50.470Z"
   },
   {
    "duration": 25,
    "start_time": "2022-08-18T14:47:50.530Z"
   },
   {
    "duration": 76,
    "start_time": "2022-08-18T14:47:50.557Z"
   },
   {
    "duration": 81,
    "start_time": "2022-08-18T14:47:50.634Z"
   },
   {
    "duration": 4,
    "start_time": "2022-08-18T14:47:50.717Z"
   },
   {
    "duration": 7,
    "start_time": "2022-08-18T14:47:50.722Z"
   },
   {
    "duration": 19,
    "start_time": "2022-08-18T14:47:50.730Z"
   },
   {
    "duration": 8,
    "start_time": "2022-08-18T14:47:50.750Z"
   },
   {
    "duration": 9,
    "start_time": "2022-08-18T14:47:50.759Z"
   },
   {
    "duration": 5,
    "start_time": "2022-08-18T14:47:50.770Z"
   },
   {
    "duration": 30,
    "start_time": "2022-08-18T14:47:50.776Z"
   },
   {
    "duration": 2,
    "start_time": "2022-08-18T14:47:50.808Z"
   },
   {
    "duration": 8,
    "start_time": "2022-08-18T14:47:50.811Z"
   },
   {
    "duration": 8,
    "start_time": "2022-08-18T14:47:50.820Z"
   },
   {
    "duration": 6,
    "start_time": "2022-08-18T14:47:50.829Z"
   },
   {
    "duration": 18,
    "start_time": "2022-08-18T14:47:50.837Z"
   },
   {
    "duration": 4,
    "start_time": "2022-08-18T14:47:50.856Z"
   },
   {
    "duration": 44,
    "start_time": "2022-08-18T14:47:50.862Z"
   },
   {
    "duration": 958,
    "start_time": "2022-08-18T14:49:54.964Z"
   },
   {
    "duration": 76,
    "start_time": "2022-08-18T14:49:55.924Z"
   },
   {
    "duration": 16,
    "start_time": "2022-08-18T14:49:56.001Z"
   },
   {
    "duration": 30,
    "start_time": "2022-08-18T14:49:56.020Z"
   },
   {
    "duration": 13,
    "start_time": "2022-08-18T14:49:56.052Z"
   },
   {
    "duration": 18,
    "start_time": "2022-08-18T14:49:56.067Z"
   },
   {
    "duration": 18,
    "start_time": "2022-08-18T14:49:56.087Z"
   },
   {
    "duration": 14,
    "start_time": "2022-08-18T14:49:56.107Z"
   },
   {
    "duration": 8,
    "start_time": "2022-08-18T14:49:56.122Z"
   },
   {
    "duration": 29,
    "start_time": "2022-08-18T14:49:56.132Z"
   },
   {
    "duration": 9,
    "start_time": "2022-08-18T14:49:56.163Z"
   },
   {
    "duration": 16,
    "start_time": "2022-08-18T14:49:56.174Z"
   },
   {
    "duration": 9,
    "start_time": "2022-08-18T14:49:56.207Z"
   },
   {
    "duration": 32,
    "start_time": "2022-08-18T14:49:56.218Z"
   },
   {
    "duration": 9,
    "start_time": "2022-08-18T14:49:56.252Z"
   },
   {
    "duration": 13,
    "start_time": "2022-08-18T14:49:56.263Z"
   },
   {
    "duration": 9,
    "start_time": "2022-08-18T14:49:56.277Z"
   },
   {
    "duration": 7,
    "start_time": "2022-08-18T14:49:56.287Z"
   },
   {
    "duration": 14,
    "start_time": "2022-08-18T14:49:56.295Z"
   },
   {
    "duration": 20,
    "start_time": "2022-08-18T14:49:56.310Z"
   },
   {
    "duration": 4,
    "start_time": "2022-08-18T14:49:56.331Z"
   },
   {
    "duration": 12,
    "start_time": "2022-08-18T14:49:56.336Z"
   },
   {
    "duration": 6,
    "start_time": "2022-08-18T14:49:56.349Z"
   },
   {
    "duration": 11,
    "start_time": "2022-08-18T14:49:56.356Z"
   },
   {
    "duration": 64,
    "start_time": "2022-08-18T14:49:56.368Z"
   },
   {
    "duration": 5,
    "start_time": "2022-08-18T14:49:56.433Z"
   },
   {
    "duration": 186,
    "start_time": "2022-08-18T14:49:56.439Z"
   },
   {
    "duration": 7,
    "start_time": "2022-08-18T14:49:56.628Z"
   },
   {
    "duration": 119,
    "start_time": "2022-08-18T14:49:56.636Z"
   },
   {
    "duration": 7,
    "start_time": "2022-08-18T14:49:56.756Z"
   },
   {
    "duration": 11,
    "start_time": "2022-08-18T14:49:56.764Z"
   },
   {
    "duration": 13,
    "start_time": "2022-08-18T14:49:56.777Z"
   },
   {
    "duration": 19,
    "start_time": "2022-08-18T14:49:56.792Z"
   },
   {
    "duration": 9,
    "start_time": "2022-08-18T14:49:56.812Z"
   },
   {
    "duration": 281,
    "start_time": "2022-08-18T14:49:56.822Z"
   },
   {
    "duration": 198,
    "start_time": "2022-08-18T14:49:57.105Z"
   },
   {
    "duration": 6,
    "start_time": "2022-08-18T14:49:57.306Z"
   },
   {
    "duration": 295,
    "start_time": "2022-08-18T14:49:57.314Z"
   },
   {
    "duration": 5,
    "start_time": "2022-08-18T14:49:57.611Z"
   },
   {
    "duration": 18,
    "start_time": "2022-08-18T14:49:57.617Z"
   },
   {
    "duration": 6,
    "start_time": "2022-08-18T14:49:57.636Z"
   },
   {
    "duration": 209,
    "start_time": "2022-08-18T14:49:57.643Z"
   },
   {
    "duration": 13,
    "start_time": "2022-08-18T14:49:57.854Z"
   },
   {
    "duration": 357,
    "start_time": "2022-08-18T14:49:57.868Z"
   },
   {
    "duration": 15,
    "start_time": "2022-08-18T14:49:58.226Z"
   },
   {
    "duration": 150,
    "start_time": "2022-08-18T14:49:58.243Z"
   },
   {
    "duration": 118,
    "start_time": "2022-08-18T14:49:58.394Z"
   },
   {
    "duration": 5,
    "start_time": "2022-08-18T14:49:58.514Z"
   },
   {
    "duration": 17,
    "start_time": "2022-08-18T14:49:58.521Z"
   },
   {
    "duration": 237,
    "start_time": "2022-08-18T14:49:58.540Z"
   },
   {
    "duration": 136,
    "start_time": "2022-08-18T14:49:58.779Z"
   },
   {
    "duration": 139,
    "start_time": "2022-08-18T14:49:58.916Z"
   },
   {
    "duration": 5,
    "start_time": "2022-08-18T14:49:59.056Z"
   },
   {
    "duration": 7,
    "start_time": "2022-08-18T14:49:59.062Z"
   },
   {
    "duration": 14,
    "start_time": "2022-08-18T14:49:59.070Z"
   },
   {
    "duration": 66,
    "start_time": "2022-08-18T14:49:59.086Z"
   },
   {
    "duration": 8,
    "start_time": "2022-08-18T14:49:59.154Z"
   },
   {
    "duration": 61,
    "start_time": "2022-08-18T14:49:59.164Z"
   },
   {
    "duration": 17,
    "start_time": "2022-08-18T14:49:59.226Z"
   },
   {
    "duration": 64,
    "start_time": "2022-08-18T14:49:59.245Z"
   },
   {
    "duration": 25,
    "start_time": "2022-08-18T14:49:59.310Z"
   },
   {
    "duration": 70,
    "start_time": "2022-08-18T14:49:59.337Z"
   },
   {
    "duration": 25,
    "start_time": "2022-08-18T14:49:59.409Z"
   },
   {
    "duration": 80,
    "start_time": "2022-08-18T14:49:59.436Z"
   },
   {
    "duration": 88,
    "start_time": "2022-08-18T14:49:59.518Z"
   },
   {
    "duration": 5,
    "start_time": "2022-08-18T14:49:59.608Z"
   },
   {
    "duration": 6,
    "start_time": "2022-08-18T14:49:59.615Z"
   },
   {
    "duration": 24,
    "start_time": "2022-08-18T14:49:59.623Z"
   },
   {
    "duration": 11,
    "start_time": "2022-08-18T14:49:59.649Z"
   },
   {
    "duration": 14,
    "start_time": "2022-08-18T14:49:59.662Z"
   },
   {
    "duration": 28,
    "start_time": "2022-08-18T14:49:59.678Z"
   },
   {
    "duration": 9,
    "start_time": "2022-08-18T14:49:59.708Z"
   },
   {
    "duration": 12,
    "start_time": "2022-08-18T14:49:59.719Z"
   },
   {
    "duration": 9,
    "start_time": "2022-08-18T14:49:59.732Z"
   },
   {
    "duration": 6,
    "start_time": "2022-08-18T14:49:59.743Z"
   },
   {
    "duration": 27,
    "start_time": "2022-08-18T14:49:59.750Z"
   },
   {
    "duration": 4,
    "start_time": "2022-08-18T14:49:59.779Z"
   },
   {
    "duration": 13,
    "start_time": "2022-08-18T14:49:59.806Z"
   },
   {
    "duration": 1112,
    "start_time": "2022-10-02T13:56:50.933Z"
   },
   {
    "duration": 184,
    "start_time": "2022-10-02T13:56:52.047Z"
   },
   {
    "duration": 12,
    "start_time": "2022-10-02T13:56:52.233Z"
   },
   {
    "duration": 17,
    "start_time": "2022-10-02T13:56:52.247Z"
   },
   {
    "duration": 33,
    "start_time": "2022-10-02T13:56:52.266Z"
   },
   {
    "duration": 45,
    "start_time": "2022-10-02T13:56:52.301Z"
   },
   {
    "duration": 35,
    "start_time": "2022-10-02T13:56:52.347Z"
   },
   {
    "duration": 38,
    "start_time": "2022-10-02T13:56:52.384Z"
   },
   {
    "duration": 19,
    "start_time": "2022-10-02T13:56:52.423Z"
   },
   {
    "duration": 32,
    "start_time": "2022-10-02T13:56:52.445Z"
   },
   {
    "duration": 21,
    "start_time": "2022-10-02T13:56:52.478Z"
   },
   {
    "duration": 46,
    "start_time": "2022-10-02T13:56:52.501Z"
   },
   {
    "duration": 34,
    "start_time": "2022-10-02T13:56:52.549Z"
   },
   {
    "duration": 21,
    "start_time": "2022-10-02T13:56:52.585Z"
   },
   {
    "duration": 25,
    "start_time": "2022-10-02T13:56:52.608Z"
   },
   {
    "duration": 37,
    "start_time": "2022-10-02T13:56:52.635Z"
   },
   {
    "duration": 20,
    "start_time": "2022-10-02T13:56:52.674Z"
   },
   {
    "duration": 44,
    "start_time": "2022-10-02T13:56:52.695Z"
   },
   {
    "duration": 19,
    "start_time": "2022-10-02T13:56:52.741Z"
   },
   {
    "duration": 58,
    "start_time": "2022-10-02T13:56:52.762Z"
   },
   {
    "duration": 3,
    "start_time": "2022-10-02T13:56:52.822Z"
   },
   {
    "duration": 32,
    "start_time": "2022-10-02T13:56:52.827Z"
   },
   {
    "duration": 50,
    "start_time": "2022-10-02T13:56:52.861Z"
   },
   {
    "duration": 17,
    "start_time": "2022-10-02T13:56:52.912Z"
   },
   {
    "duration": 84,
    "start_time": "2022-10-02T13:56:52.931Z"
   },
   {
    "duration": 5,
    "start_time": "2022-10-02T13:56:53.017Z"
   },
   {
    "duration": 208,
    "start_time": "2022-10-02T13:56:53.024Z"
   },
   {
    "duration": 9,
    "start_time": "2022-10-02T13:56:53.236Z"
   },
   {
    "duration": 178,
    "start_time": "2022-10-02T13:56:53.247Z"
   },
   {
    "duration": 7,
    "start_time": "2022-10-02T13:56:53.426Z"
   },
   {
    "duration": 21,
    "start_time": "2022-10-02T13:56:53.435Z"
   },
   {
    "duration": 35,
    "start_time": "2022-10-02T13:56:53.457Z"
   },
   {
    "duration": 30,
    "start_time": "2022-10-02T13:56:53.494Z"
   },
   {
    "duration": 20,
    "start_time": "2022-10-02T13:56:53.525Z"
   },
   {
    "duration": 296,
    "start_time": "2022-10-02T13:56:53.546Z"
   },
   {
    "duration": 209,
    "start_time": "2022-10-02T13:56:53.844Z"
   },
   {
    "duration": 6,
    "start_time": "2022-10-02T13:56:54.054Z"
   },
   {
    "duration": 283,
    "start_time": "2022-10-02T13:56:54.061Z"
   },
   {
    "duration": 6,
    "start_time": "2022-10-02T13:56:54.345Z"
   },
   {
    "duration": 14,
    "start_time": "2022-10-02T13:56:54.352Z"
   },
   {
    "duration": 6,
    "start_time": "2022-10-02T13:56:54.367Z"
   },
   {
    "duration": 222,
    "start_time": "2022-10-02T13:56:54.375Z"
   },
   {
    "duration": 16,
    "start_time": "2022-10-02T13:56:54.599Z"
   },
   {
    "duration": 324,
    "start_time": "2022-10-02T13:56:54.616Z"
   },
   {
    "duration": 12,
    "start_time": "2022-10-02T13:56:54.941Z"
   },
   {
    "duration": 130,
    "start_time": "2022-10-02T13:56:54.954Z"
   },
   {
    "duration": 119,
    "start_time": "2022-10-02T13:56:55.085Z"
   },
   {
    "duration": 5,
    "start_time": "2022-10-02T13:56:55.208Z"
   },
   {
    "duration": 6,
    "start_time": "2022-10-02T13:56:55.214Z"
   },
   {
    "duration": 198,
    "start_time": "2022-10-02T13:56:55.222Z"
   },
   {
    "duration": 130,
    "start_time": "2022-10-02T13:56:55.421Z"
   },
   {
    "duration": 129,
    "start_time": "2022-10-02T13:56:55.552Z"
   },
   {
    "duration": 4,
    "start_time": "2022-10-02T13:56:55.682Z"
   },
   {
    "duration": 7,
    "start_time": "2022-10-02T13:56:55.687Z"
   },
   {
    "duration": 19,
    "start_time": "2022-10-02T13:56:55.695Z"
   },
   {
    "duration": 46,
    "start_time": "2022-10-02T13:56:55.715Z"
   },
   {
    "duration": 12,
    "start_time": "2022-10-02T13:56:55.763Z"
   },
   {
    "duration": 60,
    "start_time": "2022-10-02T13:56:55.776Z"
   },
   {
    "duration": 19,
    "start_time": "2022-10-02T13:56:55.838Z"
   },
   {
    "duration": 61,
    "start_time": "2022-10-02T13:56:55.858Z"
   },
   {
    "duration": 18,
    "start_time": "2022-10-02T13:56:55.921Z"
   },
   {
    "duration": 69,
    "start_time": "2022-10-02T13:56:55.941Z"
   },
   {
    "duration": 29,
    "start_time": "2022-10-02T13:56:56.012Z"
   },
   {
    "duration": 89,
    "start_time": "2022-10-02T13:56:56.042Z"
   },
   {
    "duration": 88,
    "start_time": "2022-10-02T13:56:56.133Z"
   },
   {
    "duration": 4,
    "start_time": "2022-10-02T13:56:56.223Z"
   },
   {
    "duration": 6,
    "start_time": "2022-10-02T13:56:56.229Z"
   },
   {
    "duration": 22,
    "start_time": "2022-10-02T13:56:56.236Z"
   },
   {
    "duration": 10,
    "start_time": "2022-10-02T13:56:56.260Z"
   },
   {
    "duration": 42,
    "start_time": "2022-10-02T13:56:56.272Z"
   },
   {
    "duration": 5,
    "start_time": "2022-10-02T13:56:56.315Z"
   },
   {
    "duration": 5,
    "start_time": "2022-10-02T13:56:56.321Z"
   },
   {
    "duration": 11,
    "start_time": "2022-10-02T13:56:56.327Z"
   },
   {
    "duration": 8,
    "start_time": "2022-10-02T13:56:56.340Z"
   },
   {
    "duration": 7,
    "start_time": "2022-10-02T13:56:56.350Z"
   },
   {
    "duration": 21,
    "start_time": "2022-10-02T13:56:56.359Z"
   },
   {
    "duration": 4,
    "start_time": "2022-10-02T13:56:56.381Z"
   },
   {
    "duration": 34,
    "start_time": "2022-10-02T13:56:56.387Z"
   },
   {
    "duration": 1109,
    "start_time": "2022-10-02T14:13:11.878Z"
   },
   {
    "duration": 76,
    "start_time": "2022-10-02T14:13:12.988Z"
   },
   {
    "duration": 12,
    "start_time": "2022-10-02T14:13:13.066Z"
   },
   {
    "duration": 12,
    "start_time": "2022-10-02T14:13:13.080Z"
   },
   {
    "duration": 9,
    "start_time": "2022-10-02T14:13:13.093Z"
   },
   {
    "duration": 10,
    "start_time": "2022-10-02T14:13:13.103Z"
   },
   {
    "duration": 16,
    "start_time": "2022-10-02T14:13:13.115Z"
   },
   {
    "duration": 10,
    "start_time": "2022-10-02T14:13:13.133Z"
   },
   {
    "duration": 8,
    "start_time": "2022-10-02T14:13:13.144Z"
   },
   {
    "duration": 22,
    "start_time": "2022-10-02T14:13:13.155Z"
   },
   {
    "duration": 7,
    "start_time": "2022-10-02T14:13:13.178Z"
   },
   {
    "duration": 23,
    "start_time": "2022-10-02T14:13:13.186Z"
   },
   {
    "duration": 22,
    "start_time": "2022-10-02T14:13:13.211Z"
   },
   {
    "duration": 12,
    "start_time": "2022-10-02T14:13:13.235Z"
   },
   {
    "duration": 12,
    "start_time": "2022-10-02T14:13:13.248Z"
   },
   {
    "duration": 13,
    "start_time": "2022-10-02T14:13:13.262Z"
   },
   {
    "duration": 12,
    "start_time": "2022-10-02T14:13:13.276Z"
   },
   {
    "duration": 9,
    "start_time": "2022-10-02T14:13:13.290Z"
   },
   {
    "duration": 14,
    "start_time": "2022-10-02T14:13:13.300Z"
   },
   {
    "duration": 22,
    "start_time": "2022-10-02T14:13:13.315Z"
   },
   {
    "duration": 4,
    "start_time": "2022-10-02T14:13:13.338Z"
   },
   {
    "duration": 12,
    "start_time": "2022-10-02T14:13:13.344Z"
   },
   {
    "duration": 13,
    "start_time": "2022-10-02T14:13:13.358Z"
   },
   {
    "duration": 11,
    "start_time": "2022-10-02T14:13:13.373Z"
   },
   {
    "duration": 70,
    "start_time": "2022-10-02T14:13:13.386Z"
   },
   {
    "duration": 5,
    "start_time": "2022-10-02T14:13:13.457Z"
   },
   {
    "duration": 191,
    "start_time": "2022-10-02T14:13:13.464Z"
   },
   {
    "duration": 8,
    "start_time": "2022-10-02T14:13:13.660Z"
   },
   {
    "duration": 131,
    "start_time": "2022-10-02T14:13:13.670Z"
   },
   {
    "duration": 10,
    "start_time": "2022-10-02T14:13:13.809Z"
   },
   {
    "duration": 19,
    "start_time": "2022-10-02T14:13:13.821Z"
   },
   {
    "duration": 11,
    "start_time": "2022-10-02T14:13:13.842Z"
   },
   {
    "duration": 20,
    "start_time": "2022-10-02T14:13:13.855Z"
   },
   {
    "duration": 23,
    "start_time": "2022-10-02T14:13:13.877Z"
   },
   {
    "duration": 301,
    "start_time": "2022-10-02T14:13:13.902Z"
   },
   {
    "duration": 205,
    "start_time": "2022-10-02T14:13:14.208Z"
   },
   {
    "duration": 6,
    "start_time": "2022-10-02T14:13:14.414Z"
   },
   {
    "duration": 304,
    "start_time": "2022-10-02T14:13:14.422Z"
   },
   {
    "duration": 5,
    "start_time": "2022-10-02T14:13:14.728Z"
   },
   {
    "duration": 30,
    "start_time": "2022-10-02T14:13:14.735Z"
   },
   {
    "duration": 26,
    "start_time": "2022-10-02T14:13:14.767Z"
   },
   {
    "duration": 234,
    "start_time": "2022-10-02T14:13:14.795Z"
   },
   {
    "duration": 13,
    "start_time": "2022-10-02T14:13:15.031Z"
   },
   {
    "duration": 318,
    "start_time": "2022-10-02T14:13:15.046Z"
   },
   {
    "duration": 11,
    "start_time": "2022-10-02T14:13:15.366Z"
   },
   {
    "duration": 149,
    "start_time": "2022-10-02T14:13:15.379Z"
   },
   {
    "duration": 130,
    "start_time": "2022-10-02T14:13:15.531Z"
   },
   {
    "duration": 5,
    "start_time": "2022-10-02T14:13:15.663Z"
   },
   {
    "duration": 6,
    "start_time": "2022-10-02T14:13:15.669Z"
   },
   {
    "duration": 207,
    "start_time": "2022-10-02T14:13:15.677Z"
   },
   {
    "duration": 126,
    "start_time": "2022-10-02T14:13:15.885Z"
   },
   {
    "duration": 139,
    "start_time": "2022-10-02T14:13:16.013Z"
   },
   {
    "duration": 5,
    "start_time": "2022-10-02T14:13:16.153Z"
   },
   {
    "duration": 11,
    "start_time": "2022-10-02T14:13:16.159Z"
   },
   {
    "duration": 14,
    "start_time": "2022-10-02T14:13:16.171Z"
   },
   {
    "duration": 61,
    "start_time": "2022-10-02T14:13:16.186Z"
   },
   {
    "duration": 11,
    "start_time": "2022-10-02T14:13:16.249Z"
   },
   {
    "duration": 68,
    "start_time": "2022-10-02T14:13:16.261Z"
   },
   {
    "duration": 21,
    "start_time": "2022-10-02T14:13:16.330Z"
   },
   {
    "duration": 60,
    "start_time": "2022-10-02T14:13:16.353Z"
   },
   {
    "duration": 29,
    "start_time": "2022-10-02T14:13:16.414Z"
   },
   {
    "duration": 50,
    "start_time": "2022-10-02T14:13:16.445Z"
   },
   {
    "duration": 35,
    "start_time": "2022-10-02T14:13:16.497Z"
   },
   {
    "duration": 81,
    "start_time": "2022-10-02T14:13:16.533Z"
   },
   {
    "duration": 94,
    "start_time": "2022-10-02T14:13:16.616Z"
   },
   {
    "duration": 7,
    "start_time": "2022-10-02T14:13:16.711Z"
   },
   {
    "duration": 5,
    "start_time": "2022-10-02T14:13:16.720Z"
   },
   {
    "duration": 22,
    "start_time": "2022-10-02T14:13:16.726Z"
   },
   {
    "duration": 9,
    "start_time": "2022-10-02T14:13:16.750Z"
   },
   {
    "duration": 15,
    "start_time": "2022-10-02T14:13:16.760Z"
   },
   {
    "duration": 10,
    "start_time": "2022-10-02T14:13:16.777Z"
   },
   {
    "duration": 4,
    "start_time": "2022-10-02T14:13:16.808Z"
   },
   {
    "duration": 10,
    "start_time": "2022-10-02T14:13:16.813Z"
   },
   {
    "duration": 8,
    "start_time": "2022-10-02T14:13:16.825Z"
   },
   {
    "duration": 9,
    "start_time": "2022-10-02T14:13:16.835Z"
   },
   {
    "duration": 23,
    "start_time": "2022-10-02T14:13:16.846Z"
   },
   {
    "duration": 3,
    "start_time": "2022-10-02T14:13:16.871Z"
   },
   {
    "duration": 36,
    "start_time": "2022-10-02T14:13:16.876Z"
   }
  ],
  "kernelspec": {
   "display_name": "Python 3 (ipykernel)",
   "language": "python",
   "name": "python3"
  },
  "language_info": {
   "codemirror_mode": {
    "name": "ipython",
    "version": 3
   },
   "file_extension": ".py",
   "mimetype": "text/x-python",
   "name": "python",
   "nbconvert_exporter": "python",
   "pygments_lexer": "ipython3",
   "version": "3.9.5"
  },
  "toc": {
   "base_numbering": 1,
   "nav_menu": {},
   "number_sections": true,
   "sideBar": true,
   "skip_h1_title": true,
   "title_cell": "Содержание",
   "title_sidebar": "Contents",
   "toc_cell": false,
   "toc_position": {
    "height": "calc(100% - 180px)",
    "left": "10px",
    "top": "150px",
    "width": "396px"
   },
   "toc_section_display": true,
   "toc_window_display": false
  }
 },
 "nbformat": 4,
 "nbformat_minor": 2
}
