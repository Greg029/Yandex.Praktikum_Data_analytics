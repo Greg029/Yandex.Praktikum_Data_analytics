{
 "cells": [
  {
   "cell_type": "markdown",
   "metadata": {
    "id": "E0vqbgi9ay0H"
   },
   "source": [
    "# Исследование музыкальных предпочтений пользователей сервиса"
   ]
  },
  {
   "cell_type": "markdown",
   "metadata": {
    "id": "VUC88oWjTJw2"
   },
   "source": [
    "**Описание проекта:**\n",
    "\n",
    "Сравнение Москвы и Петербурга окружено мифами. Например:\n",
    " * Москва — мегаполис, подчинённый жёсткому ритму рабочей недели;\n",
    " * Петербург — культурная столица, со своими вкусами.\n",
    "\n",
    "На данных Яндекс.Музыки необходимо сравнить поведение пользователей двух столиц.\n",
    "\n",
    "**Цель исследования** — проверить три гипотезы:\n",
    "1. Активность пользователей зависит от дня недели. Причём в Москве и Петербурге это проявляется по-разному.\n",
    "2. В понедельник утром в Москве преобладают одни жанры, а в Петербурге — другие. Так же и вечером пятницы преобладают разные жанры — в зависимости от города. \n",
    "3. Москва и Петербург предпочитают разные жанры музыки. В Москве чаще слушают поп-музыку, в Петербурге — русский рэп.\n",
    "\n",
    " \n",
    "**Таким образом, исследование пройдёт в три этапа:**\n",
    "* обзор данных\n",
    "* предобработка данных\n",
    "* проверка гипотез"
   ]
  },
  {
   "cell_type": "markdown",
   "metadata": {
    "id": "Ml1hmfXC_Zcs"
   },
   "source": [
    "## Обзор данных\n",
    "\n",
    "Составим первое представление о данных Яндекс.Музыки."
   ]
  },
  {
   "cell_type": "code",
   "execution_count": 1,
   "metadata": {
    "id": "AXN7PHPN_Zcs"
   },
   "outputs": [],
   "source": [
    "import pandas as pd # импорт библиотеки pandas"
   ]
  },
  {
   "cell_type": "markdown",
   "metadata": {
    "id": "SG23P8tt_Zcs"
   },
   "source": [
    "Прочитаем файл `yandex_music_project.csv` из папки `/datasets` и сохраним его в переменной `df`:"
   ]
  },
  {
   "cell_type": "code",
   "execution_count": 2,
   "metadata": {
    "id": "fFVu7vqh_Zct"
   },
   "outputs": [],
   "source": [
    " df = pd.read_csv('/datasets/yandex_music_project.csv') # чтение файла с данными и сохранение в df"
   ]
  },
  {
   "cell_type": "markdown",
   "metadata": {
    "id": "rDoOMd3uTqnZ"
   },
   "source": [
    "Выведем на экран первые десять строк таблицы:"
   ]
  },
  {
   "cell_type": "code",
   "execution_count": 3,
   "metadata": {
    "id": "oWTVX3gW_Zct",
    "scrolled": true
   },
   "outputs": [
    {
     "data": {
      "text/html": [
       "<div>\n",
       "<style scoped>\n",
       "    .dataframe tbody tr th:only-of-type {\n",
       "        vertical-align: middle;\n",
       "    }\n",
       "\n",
       "    .dataframe tbody tr th {\n",
       "        vertical-align: top;\n",
       "    }\n",
       "\n",
       "    .dataframe thead th {\n",
       "        text-align: right;\n",
       "    }\n",
       "</style>\n",
       "<table border=\"1\" class=\"dataframe\">\n",
       "  <thead>\n",
       "    <tr style=\"text-align: right;\">\n",
       "      <th></th>\n",
       "      <th>userID</th>\n",
       "      <th>Track</th>\n",
       "      <th>artist</th>\n",
       "      <th>genre</th>\n",
       "      <th>City</th>\n",
       "      <th>time</th>\n",
       "      <th>Day</th>\n",
       "    </tr>\n",
       "  </thead>\n",
       "  <tbody>\n",
       "    <tr>\n",
       "      <th>0</th>\n",
       "      <td>FFB692EC</td>\n",
       "      <td>Kamigata To Boots</td>\n",
       "      <td>The Mass Missile</td>\n",
       "      <td>rock</td>\n",
       "      <td>Saint-Petersburg</td>\n",
       "      <td>20:28:33</td>\n",
       "      <td>Wednesday</td>\n",
       "    </tr>\n",
       "    <tr>\n",
       "      <th>1</th>\n",
       "      <td>55204538</td>\n",
       "      <td>Delayed Because of Accident</td>\n",
       "      <td>Andreas Rönnberg</td>\n",
       "      <td>rock</td>\n",
       "      <td>Moscow</td>\n",
       "      <td>14:07:09</td>\n",
       "      <td>Friday</td>\n",
       "    </tr>\n",
       "    <tr>\n",
       "      <th>2</th>\n",
       "      <td>20EC38</td>\n",
       "      <td>Funiculì funiculà</td>\n",
       "      <td>Mario Lanza</td>\n",
       "      <td>pop</td>\n",
       "      <td>Saint-Petersburg</td>\n",
       "      <td>20:58:07</td>\n",
       "      <td>Wednesday</td>\n",
       "    </tr>\n",
       "    <tr>\n",
       "      <th>3</th>\n",
       "      <td>A3DD03C9</td>\n",
       "      <td>Dragons in the Sunset</td>\n",
       "      <td>Fire + Ice</td>\n",
       "      <td>folk</td>\n",
       "      <td>Saint-Petersburg</td>\n",
       "      <td>08:37:09</td>\n",
       "      <td>Monday</td>\n",
       "    </tr>\n",
       "    <tr>\n",
       "      <th>4</th>\n",
       "      <td>E2DC1FAE</td>\n",
       "      <td>Soul People</td>\n",
       "      <td>Space Echo</td>\n",
       "      <td>dance</td>\n",
       "      <td>Moscow</td>\n",
       "      <td>08:34:34</td>\n",
       "      <td>Monday</td>\n",
       "    </tr>\n",
       "    <tr>\n",
       "      <th>5</th>\n",
       "      <td>842029A1</td>\n",
       "      <td>Преданная</td>\n",
       "      <td>IMPERVTOR</td>\n",
       "      <td>rusrap</td>\n",
       "      <td>Saint-Petersburg</td>\n",
       "      <td>13:09:41</td>\n",
       "      <td>Friday</td>\n",
       "    </tr>\n",
       "    <tr>\n",
       "      <th>6</th>\n",
       "      <td>4CB90AA5</td>\n",
       "      <td>True</td>\n",
       "      <td>Roman Messer</td>\n",
       "      <td>dance</td>\n",
       "      <td>Moscow</td>\n",
       "      <td>13:00:07</td>\n",
       "      <td>Wednesday</td>\n",
       "    </tr>\n",
       "    <tr>\n",
       "      <th>7</th>\n",
       "      <td>F03E1C1F</td>\n",
       "      <td>Feeling This Way</td>\n",
       "      <td>Polina Griffith</td>\n",
       "      <td>dance</td>\n",
       "      <td>Moscow</td>\n",
       "      <td>20:47:49</td>\n",
       "      <td>Wednesday</td>\n",
       "    </tr>\n",
       "    <tr>\n",
       "      <th>8</th>\n",
       "      <td>8FA1D3BE</td>\n",
       "      <td>И вновь продолжается бой</td>\n",
       "      <td>NaN</td>\n",
       "      <td>ruspop</td>\n",
       "      <td>Moscow</td>\n",
       "      <td>09:17:40</td>\n",
       "      <td>Friday</td>\n",
       "    </tr>\n",
       "    <tr>\n",
       "      <th>9</th>\n",
       "      <td>E772D5C0</td>\n",
       "      <td>Pessimist</td>\n",
       "      <td>NaN</td>\n",
       "      <td>dance</td>\n",
       "      <td>Saint-Petersburg</td>\n",
       "      <td>21:20:49</td>\n",
       "      <td>Wednesday</td>\n",
       "    </tr>\n",
       "  </tbody>\n",
       "</table>\n",
       "</div>"
      ],
      "text/plain": [
       "     userID                        Track            artist   genre  \\\n",
       "0  FFB692EC            Kamigata To Boots  The Mass Missile    rock   \n",
       "1  55204538  Delayed Because of Accident  Andreas Rönnberg    rock   \n",
       "2    20EC38            Funiculì funiculà       Mario Lanza     pop   \n",
       "3  A3DD03C9        Dragons in the Sunset        Fire + Ice    folk   \n",
       "4  E2DC1FAE                  Soul People        Space Echo   dance   \n",
       "5  842029A1                    Преданная         IMPERVTOR  rusrap   \n",
       "6  4CB90AA5                         True      Roman Messer   dance   \n",
       "7  F03E1C1F             Feeling This Way   Polina Griffith   dance   \n",
       "8  8FA1D3BE     И вновь продолжается бой               NaN  ruspop   \n",
       "9  E772D5C0                    Pessimist               NaN   dance   \n",
       "\n",
       "             City        time        Day  \n",
       "0  Saint-Petersburg  20:28:33  Wednesday  \n",
       "1            Moscow  14:07:09     Friday  \n",
       "2  Saint-Petersburg  20:58:07  Wednesday  \n",
       "3  Saint-Petersburg  08:37:09     Monday  \n",
       "4            Moscow  08:34:34     Monday  \n",
       "5  Saint-Petersburg  13:09:41     Friday  \n",
       "6            Moscow  13:00:07  Wednesday  \n",
       "7            Moscow  20:47:49  Wednesday  \n",
       "8            Moscow  09:17:40     Friday  \n",
       "9  Saint-Petersburg  21:20:49  Wednesday  "
      ]
     },
     "execution_count": 3,
     "metadata": {},
     "output_type": "execute_result"
    }
   ],
   "source": [
    "df.head(10) # получение первых 10 строк таблицы df"
   ]
  },
  {
   "cell_type": "markdown",
   "metadata": {
    "id": "EO73Kwic_Zct"
   },
   "source": [
    "Получим общую информацию о таблице:"
   ]
  },
  {
   "cell_type": "code",
   "execution_count": 4,
   "metadata": {
    "id": "DSf2kIb-_Zct"
   },
   "outputs": [
    {
     "name": "stdout",
     "output_type": "stream",
     "text": [
      "<class 'pandas.core.frame.DataFrame'>\n",
      "RangeIndex: 65079 entries, 0 to 65078\n",
      "Data columns (total 7 columns):\n",
      " #   Column    Non-Null Count  Dtype \n",
      "---  ------    --------------  ----- \n",
      " 0     userID  65079 non-null  object\n",
      " 1   Track     63848 non-null  object\n",
      " 2   artist    57876 non-null  object\n",
      " 3   genre     63881 non-null  object\n",
      " 4     City    65079 non-null  object\n",
      " 5   time      65079 non-null  object\n",
      " 6   Day       65079 non-null  object\n",
      "dtypes: object(7)\n",
      "memory usage: 3.5+ MB\n"
     ]
    }
   ],
   "source": [
    "df.info() # получение общей информации о данных в таблице df"
   ]
  },
  {
   "cell_type": "markdown",
   "metadata": {
    "id": "TaQ2Iwbr_Zct"
   },
   "source": [
    "Итак, в таблице семь столбцов. Тип данных во всех столбцах — `object`.\n",
    "\n",
    "Согласно документации к данным:\n",
    "* `userID` — идентификатор пользователя;\n",
    "* `Track` — название трека;  \n",
    "* `artist` — имя исполнителя;\n",
    "* `genre` — название жанра;\n",
    "* `City` — город пользователя;\n",
    "* `time` — время начала прослушивания;\n",
    "* `Day` — день недели.\n",
    "\n",
    "В названиях колонок видны три нарушения стиля:\n",
    "1. Строчные буквы сочетаются с прописными.\n",
    "2. Встречаются пробелы.\n",
    "3. Название колонки `userID` должно быть разделено нижним подчеркиванием - `user_id`.\n",
    "\n",
    "Количество значений в столбцах различается. Значит, в данных есть пропущенные значения."
   ]
  },
  {
   "cell_type": "markdown",
   "metadata": {
    "id": "MCB6-dXG_Zct"
   },
   "source": [
    "**Вывод:**\n",
    "\n",
    "В каждой строке таблицы — данные о прослушанном треке. Часть колонок описывает саму композицию: название, исполнителя и жанр. Остальные данные рассказывают о пользователе: из какого он города, когда он слушал музыку. \n",
    "\n",
    "Предварительно можно утверждать, что данных достаточно для проверки гипотез. Но встречаются пропуски в данных, а в названиях колонок — расхождения с хорошим стилем.\n",
    "\n",
    "Чтобы двигаться дальше, нужно устранить проблемы в данных."
   ]
  },
  {
   "cell_type": "markdown",
   "metadata": {
    "id": "SjYF6Ub9_Zct"
   },
   "source": [
    "## Предобработка данных\n",
    "Исправим стиль в заголовках столбцов, исключим пропуски. Затем проверим данные на дубликаты."
   ]
  },
  {
   "cell_type": "markdown",
   "metadata": {
    "id": "dIaKXr29_Zct"
   },
   "source": [
    "### Стиль заголовков\n",
    "Выведем на экран названия столбцов:"
   ]
  },
  {
   "cell_type": "code",
   "execution_count": 5,
   "metadata": {
    "id": "oKOTdF_Q_Zct"
   },
   "outputs": [
    {
     "data": {
      "text/plain": [
       "Index(['  userID', 'Track', 'artist', 'genre', '  City  ', 'time', 'Day'], dtype='object')"
      ]
     },
     "execution_count": 5,
     "metadata": {},
     "output_type": "execute_result"
    }
   ],
   "source": [
    "df.columns # перечень названий столбцов таблицы df"
   ]
  },
  {
   "cell_type": "markdown",
   "metadata": {
    "id": "zj5534cv_Zct"
   },
   "source": [
    "Приведем названия в соответствие с хорошим стилем:\n",
    "* несколько слов в названии запишем в «змеином_регистре»,\n",
    "* все символы сделаем строчными,\n",
    "* устранем пробелы.\n",
    "\n",
    "Для этого переименуем колонки так:\n",
    "* `'  userID'` → `'user_id'`;\n",
    "* `'Track'` → `'track'`;\n",
    "* `'  City  '` → `'city'`;\n",
    "* `'Day'` → `'day'`."
   ]
  },
  {
   "cell_type": "code",
   "execution_count": 6,
   "metadata": {
    "id": "ISlFqs5y_Zct"
   },
   "outputs": [],
   "source": [
    "df = df.rename(columns={'  userID' : 'user_id', 'Track' : 'track', '  City  ' : 'city', 'Day' : 'day'}) # переименование столбцов"
   ]
  },
  {
   "cell_type": "markdown",
   "metadata": {
    "id": "1dqbh00J_Zct"
   },
   "source": [
    "Проверим результат. Для этого ещё раз выведем на экран названия столбцов:"
   ]
  },
  {
   "cell_type": "code",
   "execution_count": 7,
   "metadata": {
    "id": "d4NOAmTW_Zct"
   },
   "outputs": [
    {
     "data": {
      "text/plain": [
       "Index(['user_id', 'track', 'artist', 'genre', 'city', 'time', 'day'], dtype='object')"
      ]
     },
     "execution_count": 7,
     "metadata": {},
     "output_type": "execute_result"
    }
   ],
   "source": [
    "df.columns # проверка результатов - перечень названий столбцов"
   ]
  },
  {
   "cell_type": "markdown",
   "metadata": {
    "id": "5ISfbcfY_Zct"
   },
   "source": [
    "### Пропуски значений\n",
    "Сначала посчитаем, сколько в таблице пропущенных значений. Для этого достаточно двух методов `pandas`:"
   ]
  },
  {
   "cell_type": "code",
   "execution_count": 8,
   "metadata": {
    "id": "RskX29qr_Zct"
   },
   "outputs": [
    {
     "data": {
      "text/plain": [
       "user_id       0\n",
       "track      1231\n",
       "artist     7203\n",
       "genre      1198\n",
       "city          0\n",
       "time          0\n",
       "day           0\n",
       "dtype: int64"
      ]
     },
     "execution_count": 8,
     "metadata": {},
     "output_type": "execute_result"
    }
   ],
   "source": [
    "df.isna().sum() # подсчёт пропусков"
   ]
  },
  {
   "cell_type": "markdown",
   "metadata": {
    "id": "qubhgnlO_Zct"
   },
   "source": [
    "Не все пропущенные значения влияют на исследование. Так в `track` и `artist` пропуски не важны для нашей работы. Достаточно заменить их явными обозначениями.\n",
    "\n",
    "Но пропуски в `genre` могут помешать сравнению музыкальных вкусов в Москве и Санкт-Петербурге. На практике было бы правильно установить причину пропусков и восстановить данные. Такой возможности нет в учебном проекте. Придётся:\n",
    "* заполнить и эти пропуски явными обозначениями,\n",
    "* оценить, насколько они повредят расчётам. "
   ]
  },
  {
   "cell_type": "markdown",
   "metadata": {
    "id": "fSv2laPA_Zct"
   },
   "source": [
    "Заменим пропущенные значения в столбцах `track`, `artist` и `genre` на строку `'unknown'`. Для этого создадим список `columns_to_replace`, переберем его элементы циклом `for` и для каждого столбца выполним замену пропущенных значений:"
   ]
  },
  {
   "cell_type": "code",
   "execution_count": 9,
   "metadata": {
    "id": "KplB5qWs_Zct"
   },
   "outputs": [],
   "source": [
    "columns_to_replace = ['track', 'artist', 'genre']\n",
    "for column in columns_to_replace:\n",
    "    df[column] = df[column].fillna('unknown') # перебор названий столбцов в цикле и замена пропущенных значений на 'unknown'"
   ]
  },
  {
   "cell_type": "markdown",
   "metadata": {
    "id": "Ilsm-MZo_Zct"
   },
   "source": [
    "Убедимся, что в таблице не осталось пропусков. Для этого ещё раз посчитаем пропущенные значения."
   ]
  },
  {
   "cell_type": "code",
   "execution_count": 10,
   "metadata": {
    "id": "Tq4nYRX4_Zct"
   },
   "outputs": [
    {
     "data": {
      "text/plain": [
       "user_id    0\n",
       "track      0\n",
       "artist     0\n",
       "genre      0\n",
       "city       0\n",
       "time       0\n",
       "day        0\n",
       "dtype: int64"
      ]
     },
     "execution_count": 10,
     "metadata": {},
     "output_type": "execute_result"
    }
   ],
   "source": [
    "df.isna().sum() # подсчёт пропусков"
   ]
  },
  {
   "cell_type": "markdown",
   "metadata": {
    "id": "BWKRtBJ3_Zct"
   },
   "source": [
    "### Дубликаты\n",
    "Посчитаем явные дубликаты в таблице одной командой:"
   ]
  },
  {
   "cell_type": "code",
   "execution_count": 11,
   "metadata": {
    "id": "36eES_S0_Zct"
   },
   "outputs": [
    {
     "data": {
      "text/plain": [
       "3826"
      ]
     },
     "execution_count": 11,
     "metadata": {},
     "output_type": "execute_result"
    }
   ],
   "source": [
    "df.duplicated().sum() # подсчёт явных дубликатов"
   ]
  },
  {
   "cell_type": "markdown",
   "metadata": {
    "id": "Ot25h6XR_Zct"
   },
   "source": [
    "Вызовем специальный метод `pandas`, чтобы удалить явные дубликаты:"
   ]
  },
  {
   "cell_type": "code",
   "execution_count": 12,
   "metadata": {
    "id": "exFHq6tt_Zct"
   },
   "outputs": [],
   "source": [
    "df = df.drop_duplicates().reset_index() # удаление явных дубликатов (с удалением старых индексов и формированием новых)"
   ]
  },
  {
   "cell_type": "markdown",
   "metadata": {
    "id": "Im2YwBEG_Zct"
   },
   "source": [
    "Ещё раз посчитаем явные дубликаты в таблице — убедимся, что полностью от них избавились:"
   ]
  },
  {
   "cell_type": "code",
   "execution_count": 13,
   "metadata": {
    "id": "-8PuNWQ0_Zct"
   },
   "outputs": [
    {
     "data": {
      "text/plain": [
       "0"
      ]
     },
     "execution_count": 13,
     "metadata": {},
     "output_type": "execute_result"
    }
   ],
   "source": [
    "df.duplicated().sum() # проверка на отсутствие дубликатов"
   ]
  },
  {
   "cell_type": "markdown",
   "metadata": {
    "id": "QlFBsxAr_Zct"
   },
   "source": [
    "Теперь избавимся от неявных дубликатов в колонке `genre`. Например, название одного и того же жанра может быть записано немного по-разному. Такие ошибки тоже повлияют на результат исследования."
   ]
  },
  {
   "cell_type": "markdown",
   "metadata": {
    "id": "eSjWwsOh_Zct"
   },
   "source": [
    "Выведем на экран список уникальных названий жанров, отсортированный в алфавитном порядке. Для этого:\n",
    "* извлечем нужный столбец датафрейма, \n",
    "* применим к нему метод сортировки,\n",
    "* для отсортированного столбца вызовем метод, который вернёт уникальные значения из столбца."
   ]
  },
  {
   "cell_type": "code",
   "execution_count": 14,
   "metadata": {
    "id": "JIUcqzZN_Zct"
   },
   "outputs": [
    {
     "data": {
      "text/plain": [
       "array(['acid', 'acoustic', 'action', 'adult', 'africa', 'afrikaans',\n",
       "       'alternative', 'alternativepunk', 'ambient', 'americana',\n",
       "       'animated', 'anime', 'arabesk', 'arabic', 'arena',\n",
       "       'argentinetango', 'art', 'audiobook', 'author', 'avantgarde',\n",
       "       'axé', 'baile', 'balkan', 'beats', 'bigroom', 'black', 'bluegrass',\n",
       "       'blues', 'bollywood', 'bossa', 'brazilian', 'breakbeat', 'breaks',\n",
       "       'broadway', 'cantautori', 'cantopop', 'canzone', 'caribbean',\n",
       "       'caucasian', 'celtic', 'chamber', 'chanson', 'children', 'chill',\n",
       "       'chinese', 'choral', 'christian', 'christmas', 'classical',\n",
       "       'classicmetal', 'club', 'colombian', 'comedy', 'conjazz',\n",
       "       'contemporary', 'country', 'cuban', 'dance', 'dancehall',\n",
       "       'dancepop', 'dark', 'death', 'deep', 'deutschrock', 'deutschspr',\n",
       "       'dirty', 'disco', 'dnb', 'documentary', 'downbeat', 'downtempo',\n",
       "       'drum', 'dub', 'dubstep', 'eastern', 'easy', 'electronic',\n",
       "       'electropop', 'emo', 'entehno', 'epicmetal', 'estrada', 'ethnic',\n",
       "       'eurofolk', 'european', 'experimental', 'extrememetal', 'fado',\n",
       "       'fairytail', 'film', 'fitness', 'flamenco', 'folk', 'folklore',\n",
       "       'folkmetal', 'folkrock', 'folktronica', 'forró', 'frankreich',\n",
       "       'französisch', 'french', 'funk', 'future', 'gangsta', 'garage',\n",
       "       'german', 'ghazal', 'gitarre', 'glitch', 'gospel', 'gothic',\n",
       "       'grime', 'grunge', 'gypsy', 'handsup', \"hard'n'heavy\", 'hardcore',\n",
       "       'hardstyle', 'hardtechno', 'hip', 'hip-hop', 'hiphop',\n",
       "       'historisch', 'holiday', 'hop', 'horror', 'house', 'hymn', 'idm',\n",
       "       'independent', 'indian', 'indie', 'indipop', 'industrial',\n",
       "       'inspirational', 'instrumental', 'international', 'irish', 'jam',\n",
       "       'japanese', 'jazz', 'jewish', 'jpop', 'jungle', 'k-pop',\n",
       "       'karadeniz', 'karaoke', 'kayokyoku', 'korean', 'laiko', 'latin',\n",
       "       'latino', 'leftfield', 'local', 'lounge', 'loungeelectronic',\n",
       "       'lovers', 'malaysian', 'mandopop', 'marschmusik', 'meditative',\n",
       "       'mediterranean', 'melodic', 'metal', 'metalcore', 'mexican',\n",
       "       'middle', 'minimal', 'miscellaneous', 'modern', 'mood', 'mpb',\n",
       "       'muslim', 'native', 'neoklassik', 'neue', 'new', 'newage',\n",
       "       'newwave', 'nu', 'nujazz', 'numetal', 'oceania', 'old', 'opera',\n",
       "       'orchestral', 'other', 'piano', 'podcasts', 'pop', 'popdance',\n",
       "       'popelectronic', 'popeurodance', 'poprussian', 'post',\n",
       "       'posthardcore', 'postrock', 'power', 'progmetal', 'progressive',\n",
       "       'psychedelic', 'punjabi', 'punk', 'quebecois', 'ragga', 'ram',\n",
       "       'rancheras', 'rap', 'rave', 'reggae', 'reggaeton', 'regional',\n",
       "       'relax', 'religious', 'retro', 'rhythm', 'rnb', 'rnr', 'rock',\n",
       "       'rockabilly', 'rockalternative', 'rockindie', 'rockother',\n",
       "       'romance', 'roots', 'ruspop', 'rusrap', 'rusrock', 'russian',\n",
       "       'salsa', 'samba', 'scenic', 'schlager', 'self', 'sertanejo',\n",
       "       'shanson', 'shoegazing', 'showtunes', 'singer', 'ska', 'skarock',\n",
       "       'slow', 'smooth', 'soft', 'soul', 'soulful', 'sound', 'soundtrack',\n",
       "       'southern', 'specialty', 'speech', 'spiritual', 'sport',\n",
       "       'stonerrock', 'surf', 'swing', 'synthpop', 'synthrock',\n",
       "       'sängerportrait', 'tango', 'tanzorchester', 'taraftar', 'tatar',\n",
       "       'tech', 'techno', 'teen', 'thrash', 'top', 'traditional',\n",
       "       'tradjazz', 'trance', 'tribal', 'trip', 'triphop', 'tropical',\n",
       "       'türk', 'türkçe', 'ukrrock', 'unknown', 'urban', 'uzbek',\n",
       "       'variété', 'vi', 'videogame', 'vocal', 'western', 'world',\n",
       "       'worldbeat', 'ïîï', 'электроника'], dtype=object)"
      ]
     },
     "execution_count": 14,
     "metadata": {},
     "output_type": "execute_result"
    }
   ],
   "source": [
    "df['genre'].sort_values().unique() # Просмотр уникальных названий жанров"
   ]
  },
  {
   "cell_type": "markdown",
   "metadata": {
    "id": "qej-Qmuo_Zct"
   },
   "source": [
    "Просмотрим список и найдем неявные дубликаты названия `hiphop`. Это могут быть названия с ошибками или альтернативные названия того же жанра.\n",
    "\n",
    "Видим следующие неявные дубликаты:\n",
    "* *hip*,\n",
    "* *hop*,\n",
    "* *hip-hop*.\n",
    "\n",
    "Чтобы очистить от них таблицу, напишем функцию `replace_wrong_genres()` с двумя параметрами: \n",
    "* `wrong_genres` — список дубликатов,\n",
    "* `correct_genre` — строка с правильным значением.\n",
    "\n",
    "Функция должна исправить колонку `genre` в таблице `df`: заменить каждое значение из списка `wrong_genres` на значение из `correct_genre`."
   ]
  },
  {
   "cell_type": "code",
   "execution_count": 15,
   "metadata": {
    "id": "ErNDkmns_Zct"
   },
   "outputs": [],
   "source": [
    "def replace_wrong_genres(wrong_genres, correct_genre):\n",
    "    for wrong_genre in wrong_genres:\n",
    "        df['genre'] = df['genre'].replace(wrong_genre, correct_genre) # Функция для замены неявных дубликатов"
   ]
  },
  {
   "cell_type": "markdown",
   "metadata": {
    "id": "aDoBJxbA_Zct"
   },
   "source": [
    "Вызовем `replace_wrong_genres()` и передадим ей такие аргументы, чтобы она устранила неявные дубликаты: вместо `hip`, `hop` и `hip-hop` в таблице должно быть значение `hiphop`:"
   ]
  },
  {
   "cell_type": "code",
   "execution_count": 16,
   "metadata": {
    "id": "YN5i2hpmSo09"
   },
   "outputs": [],
   "source": [
    "hiphop_duplicates = ['hip', 'hop', 'hip-hop']\n",
    "replace_wrong_genres(hiphop_duplicates, 'hiphop') # Устранение неявных дубликатов"
   ]
  },
  {
   "cell_type": "markdown",
   "metadata": {
    "id": "zQKF16_RG15m"
   },
   "source": [
    "Проверим, что заменили неправильные названия:\n",
    "\n",
    "*   hip\n",
    "*   hop\n",
    "*   hip-hop\n",
    "\n",
    "Выведем отсортированный список уникальных значений столбца `genre`:"
   ]
  },
  {
   "cell_type": "code",
   "execution_count": 17,
   "metadata": {
    "id": "wvixALnFG15m"
   },
   "outputs": [
    {
     "data": {
      "text/plain": [
       "array(['acid', 'acoustic', 'action', 'adult', 'africa', 'afrikaans',\n",
       "       'alternative', 'alternativepunk', 'ambient', 'americana',\n",
       "       'animated', 'anime', 'arabesk', 'arabic', 'arena',\n",
       "       'argentinetango', 'art', 'audiobook', 'author', 'avantgarde',\n",
       "       'axé', 'baile', 'balkan', 'beats', 'bigroom', 'black', 'bluegrass',\n",
       "       'blues', 'bollywood', 'bossa', 'brazilian', 'breakbeat', 'breaks',\n",
       "       'broadway', 'cantautori', 'cantopop', 'canzone', 'caribbean',\n",
       "       'caucasian', 'celtic', 'chamber', 'chanson', 'children', 'chill',\n",
       "       'chinese', 'choral', 'christian', 'christmas', 'classical',\n",
       "       'classicmetal', 'club', 'colombian', 'comedy', 'conjazz',\n",
       "       'contemporary', 'country', 'cuban', 'dance', 'dancehall',\n",
       "       'dancepop', 'dark', 'death', 'deep', 'deutschrock', 'deutschspr',\n",
       "       'dirty', 'disco', 'dnb', 'documentary', 'downbeat', 'downtempo',\n",
       "       'drum', 'dub', 'dubstep', 'eastern', 'easy', 'electronic',\n",
       "       'electropop', 'emo', 'entehno', 'epicmetal', 'estrada', 'ethnic',\n",
       "       'eurofolk', 'european', 'experimental', 'extrememetal', 'fado',\n",
       "       'fairytail', 'film', 'fitness', 'flamenco', 'folk', 'folklore',\n",
       "       'folkmetal', 'folkrock', 'folktronica', 'forró', 'frankreich',\n",
       "       'französisch', 'french', 'funk', 'future', 'gangsta', 'garage',\n",
       "       'german', 'ghazal', 'gitarre', 'glitch', 'gospel', 'gothic',\n",
       "       'grime', 'grunge', 'gypsy', 'handsup', \"hard'n'heavy\", 'hardcore',\n",
       "       'hardstyle', 'hardtechno', 'hiphop', 'historisch', 'holiday',\n",
       "       'horror', 'house', 'hymn', 'idm', 'independent', 'indian', 'indie',\n",
       "       'indipop', 'industrial', 'inspirational', 'instrumental',\n",
       "       'international', 'irish', 'jam', 'japanese', 'jazz', 'jewish',\n",
       "       'jpop', 'jungle', 'k-pop', 'karadeniz', 'karaoke', 'kayokyoku',\n",
       "       'korean', 'laiko', 'latin', 'latino', 'leftfield', 'local',\n",
       "       'lounge', 'loungeelectronic', 'lovers', 'malaysian', 'mandopop',\n",
       "       'marschmusik', 'meditative', 'mediterranean', 'melodic', 'metal',\n",
       "       'metalcore', 'mexican', 'middle', 'minimal', 'miscellaneous',\n",
       "       'modern', 'mood', 'mpb', 'muslim', 'native', 'neoklassik', 'neue',\n",
       "       'new', 'newage', 'newwave', 'nu', 'nujazz', 'numetal', 'oceania',\n",
       "       'old', 'opera', 'orchestral', 'other', 'piano', 'podcasts', 'pop',\n",
       "       'popdance', 'popelectronic', 'popeurodance', 'poprussian', 'post',\n",
       "       'posthardcore', 'postrock', 'power', 'progmetal', 'progressive',\n",
       "       'psychedelic', 'punjabi', 'punk', 'quebecois', 'ragga', 'ram',\n",
       "       'rancheras', 'rap', 'rave', 'reggae', 'reggaeton', 'regional',\n",
       "       'relax', 'religious', 'retro', 'rhythm', 'rnb', 'rnr', 'rock',\n",
       "       'rockabilly', 'rockalternative', 'rockindie', 'rockother',\n",
       "       'romance', 'roots', 'ruspop', 'rusrap', 'rusrock', 'russian',\n",
       "       'salsa', 'samba', 'scenic', 'schlager', 'self', 'sertanejo',\n",
       "       'shanson', 'shoegazing', 'showtunes', 'singer', 'ska', 'skarock',\n",
       "       'slow', 'smooth', 'soft', 'soul', 'soulful', 'sound', 'soundtrack',\n",
       "       'southern', 'specialty', 'speech', 'spiritual', 'sport',\n",
       "       'stonerrock', 'surf', 'swing', 'synthpop', 'synthrock',\n",
       "       'sängerportrait', 'tango', 'tanzorchester', 'taraftar', 'tatar',\n",
       "       'tech', 'techno', 'teen', 'thrash', 'top', 'traditional',\n",
       "       'tradjazz', 'trance', 'tribal', 'trip', 'triphop', 'tropical',\n",
       "       'türk', 'türkçe', 'ukrrock', 'unknown', 'urban', 'uzbek',\n",
       "       'variété', 'vi', 'videogame', 'vocal', 'western', 'world',\n",
       "       'worldbeat', 'ïîï', 'электроника'], dtype=object)"
      ]
     },
     "execution_count": 17,
     "metadata": {},
     "output_type": "execute_result"
    }
   ],
   "source": [
    "df['genre'].sort_values().unique() # Проверка на неявные дубликаты"
   ]
  },
  {
   "cell_type": "markdown",
   "metadata": {
    "id": "jz6a9-7HQUDd"
   },
   "source": [
    "**Вывод:**\n",
    "\n",
    "Предобработка обнаружила три проблемы в данных:\n",
    "\n",
    "- нарушения в стиле заголовков,\n",
    "- пропущенные значения,\n",
    "- дубликаты — явные и неявные.\n",
    "\n",
    "Мы исправили заголовки, чтобы упростить работу с таблицей. Без дубликатов исследование станет более точным.\n",
    "\n",
    "Пропущенные значения заменили на `'unknown'`. Ещё предстоит увидеть, не повредят ли исследованию пропуски в колонке `genre`.\n",
    "\n",
    "Теперь можно перейти к проверке гипотез. "
   ]
  },
  {
   "cell_type": "markdown",
   "metadata": {
    "id": "WttZHXH0SqKk"
   },
   "source": [
    "## Проверка гипотез"
   ]
  },
  {
   "cell_type": "markdown",
   "metadata": {
    "id": "Im936VVi_Zcu"
   },
   "source": [
    "### Сравнение поведения пользователей двух столиц"
   ]
  },
  {
   "cell_type": "markdown",
   "metadata": {
    "id": "nwt_MuaL_Zcu"
   },
   "source": [
    "Первая гипотеза утверждает, что пользователи по-разному слушают музыку в Москве и Санкт-Петербурге. Проверим это предположение по данным о трёх днях недели — понедельнике, среде и пятнице. Для этого:\n",
    "\n",
    "* Разделим пользователей Москвы и Санкт-Петербурга\n",
    "* Сравним, сколько треков послушала каждая группа пользователей в понедельник, среду и пятницу.\n"
   ]
  },
  {
   "cell_type": "markdown",
   "metadata": {
    "id": "8Dw_YMmT_Zcu"
   },
   "source": [
    "Для тренировки сначала выполним каждый из расчётов по отдельности. \n",
    "\n",
    "Оценим активность пользователей в каждом городе. Сгруппируем данные по городу и посчитаем прослушивания в каждой группе.\n"
   ]
  },
  {
   "cell_type": "code",
   "execution_count": 18,
   "metadata": {
    "id": "0_Qs96oh_Zcu",
    "scrolled": true
   },
   "outputs": [
    {
     "data": {
      "text/plain": [
       "city\n",
       "Moscow              42741\n",
       "Saint-Petersburg    18512\n",
       "Name: track, dtype: int64"
      ]
     },
     "execution_count": 18,
     "metadata": {},
     "output_type": "execute_result"
    }
   ],
   "source": [
    "df.groupby('city')['track'].count() # Подсчёт прослушиваний в каждом городе"
   ]
  },
  {
   "cell_type": "markdown",
   "metadata": {
    "id": "dzli3w8o_Zcu"
   },
   "source": [
    "В Москве прослушиваний больше, чем в Петербурге. Из этого не следует, что московские пользователи чаще слушают музыку. Просто самих пользователей в Москве больше.\n",
    "\n",
    "Теперь сгруппируем данные по дню недели и подсчитаем прослушивания в понедельник, среду и пятницу. Учтем, что в данных есть информация только о прослушиваниях только за эти дни.\n"
   ]
  },
  {
   "cell_type": "code",
   "execution_count": 19,
   "metadata": {
    "id": "uZMKjiJz_Zcu"
   },
   "outputs": [
    {
     "data": {
      "text/plain": [
       "day\n",
       "Friday       21840\n",
       "Monday       21354\n",
       "Wednesday    18059\n",
       "Name: track, dtype: int64"
      ]
     },
     "execution_count": 19,
     "metadata": {},
     "output_type": "execute_result"
    }
   ],
   "source": [
    "df.groupby('day')['track'].count() # Подсчёт прослушиваний в каждый из трёх дней"
   ]
  },
  {
   "cell_type": "markdown",
   "metadata": {
    "id": "cC2tNrlL_Zcu"
   },
   "source": [
    "В среднем пользователи из двух городов менее активны по средам. Но картина может измениться, если рассмотреть каждый город в отдельности."
   ]
  },
  {
   "cell_type": "markdown",
   "metadata": {
    "id": "POzs8bGa_Zcu"
   },
   "source": [
    "Мы увидели, как работает группировка по городу и по дням недели. Теперь напишем функцию, которая объединит два эти расчёта.\n",
    "\n",
    "Создадим функцию `number_tracks()`, которая посчитает прослушивания для заданного дня и города. Ей понадобятся два параметра:\n",
    "* день недели,\n",
    "* название города.\n",
    "\n",
    "В функции сохраним в переменную строки исходной таблицы, у которых значение:\n",
    "  * в колонке `day` равно параметру `day`,\n",
    "  * в колонке `city` равно параметру `city`.\n",
    "\n",
    "Для этого применим последовательную фильтрацию с логической индексацией.\n",
    "\n",
    "Затем посчитаем значения в столбце `user_id` получившейся таблицы. Результат сохраним в новую переменную. Вернем эту переменную из функции."
   ]
  },
  {
   "cell_type": "code",
   "execution_count": 20,
   "metadata": {
    "id": "Nz3GdQB1_Zcu"
   },
   "outputs": [],
   "source": [
    "def number_tracks(day, city): \n",
    "# <создание функции number_tracks()>\n",
    "# Объявляется функция с двумя параметрами: day, city.\n",
    "    track_list = df.loc[(df['day'] == day) & (df['city'] == city)]\n",
    "# В переменной track_list сохраняются те строки таблицы df, для которых \n",
    "# значение в столбце 'day' равно параметру day и одновременно значение\n",
    "# в столбце 'city' равно параметру city (используем последовательную фильтрацию\n",
    "# с помощью логической индексации).\n",
    "    track_list_count = track_list['user_id'].count() \n",
    "# В переменной track_list_count сохраняется число значений столбца 'user_id',\n",
    "# рассчитанное методом count() для таблицы track_list.\n",
    "    return track_list_count \n",
    "# Функция возвращает число - значение track_list_count.\n",
    "\n",
    "# Функция для подсчёта прослушиваний для конкретного города и дня.\n",
    "# С помощью последовательной фильтрации с логической индексацией она \n",
    "# сначала получит из исходной таблицы строки с нужным днём,\n",
    "# затем из результата отфильтрует строки с нужным городом,\n",
    "# методом count() посчитает количество значений в колонке user_id. \n",
    "# Это количество функция вернёт в качестве результата"
   ]
  },
  {
   "cell_type": "markdown",
   "metadata": {
    "id": "ytf7xFrFJQ2r"
   },
   "source": [
    "Вызовем `number_tracks()` шесть раз, меняя значение параметров — так, чтобы получить данные для каждого города в каждый из трёх дней."
   ]
  },
  {
   "cell_type": "code",
   "execution_count": 21,
   "metadata": {
    "id": "rJcRATNQ_Zcu"
   },
   "outputs": [
    {
     "data": {
      "text/plain": [
       "15740"
      ]
     },
     "execution_count": 21,
     "metadata": {},
     "output_type": "execute_result"
    }
   ],
   "source": [
    "number_tracks('Monday', 'Moscow') # количество прослушиваний в Москве по понедельникам"
   ]
  },
  {
   "cell_type": "code",
   "execution_count": 22,
   "metadata": {
    "id": "hq_ncZ5T_Zcu"
   },
   "outputs": [
    {
     "data": {
      "text/plain": [
       "5614"
      ]
     },
     "execution_count": 22,
     "metadata": {},
     "output_type": "execute_result"
    }
   ],
   "source": [
    "number_tracks('Monday', 'Saint-Petersburg') # количество прослушиваний в Санкт-Петербурге по понедельникам"
   ]
  },
  {
   "cell_type": "code",
   "execution_count": 23,
   "metadata": {
    "id": "_NTy2VPU_Zcu"
   },
   "outputs": [
    {
     "data": {
      "text/plain": [
       "11056"
      ]
     },
     "execution_count": 23,
     "metadata": {},
     "output_type": "execute_result"
    }
   ],
   "source": [
    "number_tracks('Wednesday', 'Moscow') # количество прослушиваний в Москве по средам"
   ]
  },
  {
   "cell_type": "code",
   "execution_count": 24,
   "metadata": {
    "id": "j2y3TAwo_Zcu"
   },
   "outputs": [
    {
     "data": {
      "text/plain": [
       "7003"
      ]
     },
     "execution_count": 24,
     "metadata": {},
     "output_type": "execute_result"
    }
   ],
   "source": [
    "number_tracks('Wednesday', 'Saint-Petersburg') # количество прослушиваний в Санкт-Петербурге по средам"
   ]
  },
  {
   "cell_type": "code",
   "execution_count": 25,
   "metadata": {
    "id": "vYDw5u_K_Zcu"
   },
   "outputs": [
    {
     "data": {
      "text/plain": [
       "15945"
      ]
     },
     "execution_count": 25,
     "metadata": {},
     "output_type": "execute_result"
    }
   ],
   "source": [
    "number_tracks('Friday', 'Moscow') # количество прослушиваний в Москве по пятницам"
   ]
  },
  {
   "cell_type": "code",
   "execution_count": 26,
   "metadata": {
    "id": "8_yzFtW3_Zcu"
   },
   "outputs": [
    {
     "data": {
      "text/plain": [
       "5895"
      ]
     },
     "execution_count": 26,
     "metadata": {},
     "output_type": "execute_result"
    }
   ],
   "source": [
    "number_tracks('Friday', 'Saint-Petersburg') # количество прослушиваний в Санкт-Петербурге по пятницам"
   ]
  },
  {
   "cell_type": "markdown",
   "metadata": {
    "id": "7QXffbO-_Zcu"
   },
   "source": [
    "Создадим c помощью конструктора `pd.DataFrame` таблицу, где\n",
    "* названия колонок — `['city', 'monday', 'wednesday', 'friday']`;\n",
    "* данные — результаты, которые получили с помощью `number_tracks`."
   ]
  },
  {
   "cell_type": "code",
   "execution_count": 27,
   "metadata": {
    "id": "APAcLpOr_Zcu"
   },
   "outputs": [
    {
     "data": {
      "text/html": [
       "<div>\n",
       "<style scoped>\n",
       "    .dataframe tbody tr th:only-of-type {\n",
       "        vertical-align: middle;\n",
       "    }\n",
       "\n",
       "    .dataframe tbody tr th {\n",
       "        vertical-align: top;\n",
       "    }\n",
       "\n",
       "    .dataframe thead th {\n",
       "        text-align: right;\n",
       "    }\n",
       "</style>\n",
       "<table border=\"1\" class=\"dataframe\">\n",
       "  <thead>\n",
       "    <tr style=\"text-align: right;\">\n",
       "      <th></th>\n",
       "      <th>city</th>\n",
       "      <th>monday</th>\n",
       "      <th>wednesday</th>\n",
       "      <th>friday</th>\n",
       "    </tr>\n",
       "  </thead>\n",
       "  <tbody>\n",
       "    <tr>\n",
       "      <th>0</th>\n",
       "      <td>Moscow</td>\n",
       "      <td>15740</td>\n",
       "      <td>11056</td>\n",
       "      <td>15945</td>\n",
       "    </tr>\n",
       "    <tr>\n",
       "      <th>1</th>\n",
       "      <td>Saint-Petersburg</td>\n",
       "      <td>5614</td>\n",
       "      <td>7003</td>\n",
       "      <td>5895</td>\n",
       "    </tr>\n",
       "  </tbody>\n",
       "</table>\n",
       "</div>"
      ],
      "text/plain": [
       "               city  monday  wednesday  friday\n",
       "0            Moscow   15740      11056   15945\n",
       "1  Saint-Petersburg    5614       7003    5895"
      ]
     },
     "execution_count": 27,
     "metadata": {},
     "output_type": "execute_result"
    }
   ],
   "source": [
    "data_results = [['Moscow', 15740, 11056, 15945], ['Saint-Petersburg', 5614, 7003, 5895]] # задаем данные для построения таблицы\n",
    "columns_name = ['city', 'monday', 'wednesday', 'friday'] # задаем названия столбцов для построения таблицы\n",
    "pd.DataFrame(data = data_results, columns = columns_name) # выводим таблицу с результатами\n"
   ]
  },
  {
   "cell_type": "markdown",
   "metadata": {
    "id": "-EgPIHYu_Zcu"
   },
   "source": [
    "**Вывод:**\n",
    "\n",
    "Данные показывают разницу поведения пользователей:\n",
    "\n",
    "- В Москве пик прослушиваний приходится на понедельник и пятницу, а в среду заметен спад.\n",
    "- В Петербурге, наоборот, больше слушают музыку по средам. Активность в понедельник и пятницу здесь почти в равной мере уступает среде.\n",
    "\n",
    "Значит, данные говорят в пользу первой гипотезы."
   ]
  },
  {
   "cell_type": "markdown",
   "metadata": {
    "id": "atZAxtq4_Zcu"
   },
   "source": [
    "### Музыка в начале и в конце недели"
   ]
  },
  {
   "cell_type": "markdown",
   "metadata": {
    "id": "eXrQqXFH_Zcu"
   },
   "source": [
    "Согласно второй гипотезе, утром в понедельник в Москве преобладают одни жанры, а в Петербурге — другие. Так же и вечером пятницы преобладают разные жанры — в зависимости от города."
   ]
  },
  {
   "cell_type": "markdown",
   "metadata": {
    "id": "S8UcW6Hw_Zcu"
   },
   "source": [
    "Сохраним таблицы с данными в две переменные:\n",
    "* по Москве — в `moscow_general`;\n",
    "* по Санкт-Петербургу — в `spb_general`."
   ]
  },
  {
   "cell_type": "code",
   "execution_count": 28,
   "metadata": {
    "id": "qeaFfM_P_Zcu"
   },
   "outputs": [],
   "source": [
    "moscow_general = df[df.city == 'Moscow'] # получение таблицы moscow_general из тех строк таблицы df, \n",
    "# для которых значение в столбце 'city' равно 'Moscow'"
   ]
  },
  {
   "cell_type": "code",
   "execution_count": 29,
   "metadata": {
    "id": "ORaVRKto_Zcu"
   },
   "outputs": [],
   "source": [
    "spb_general = df[df.city == 'Saint-Petersburg'] # получение таблицы spb_general из тех строк таблицы df,\n",
    "# для которых значение в столбце 'city' равно 'Saint-Petersburg'\n"
   ]
  },
  {
   "cell_type": "markdown",
   "metadata": {
    "id": "MEJV-CX2_Zcu"
   },
   "source": [
    "Создадим функцию `genre_weekday()` с четырьмя параметрами:\n",
    "* таблица (датафрейм) с данными,\n",
    "* день недели,\n",
    "* начальная временная метка в формате 'hh:mm', \n",
    "* последняя временная метка в формате 'hh:mm'.\n",
    "\n",
    "Функция должна вернуть информацию о топ-10 жанров тех треков, которые прослушивали в указанный день, в промежутке между двумя отметками времени."
   ]
  },
  {
   "cell_type": "code",
   "execution_count": 30,
   "metadata": {
    "id": "laJT9BYl_Zcu"
   },
   "outputs": [],
   "source": [
    "# Объявление функции genre_weekday() с параметрами table, day, time1, time2,\n",
    "# которая возвращает информацию о самых популярных жанрах в указанный день в\n",
    "# заданное время:\n",
    "def genre_weekday(table, day, time1, time2): \n",
    "    genre_df = table[table['day'] == day]\n",
    "    genre_df = genre_df[genre_df['time'] > time1]\n",
    "    genre_df = genre_df[genre_df['time'] < time2]\n",
    "    genre_df_count = genre_df.groupby('genre')['day'].count()\n",
    "    genre_df_sorted = genre_df_count.sort_values(ascending=False)\n",
    "    return genre_df_sorted.head(10)\n",
    "                     \n",
    "# 1) в переменную genre_df сохраняются те строки переданного датафрейма table, для\n",
    "#    которых одновременно:\n",
    "#    - значение в столбце day равно значению аргумента day\n",
    "#    - значение в столбце time больше значения аргумента time1\n",
    "#    - значение в столбце time меньше значения аргумента time2\n",
    "#    Используем последовательную фильтрацию с помощью логической индексации.  \n",
    "# 2) сгруппируем датафрейм genre_df по столбцу genre, возьмем один из его\n",
    "#    столбцов и посчитаем методом count() количество записей для каждого из\n",
    "#    присутствующих жанров, получившийся Series записать в переменную\n",
    "#    genre_df_count   \n",
    "# 3) отсортируемь genre_df_count по убыванию встречаемости и сохраним\n",
    "#    в переменную genre_df_sorted   \n",
    "# 4) вернем Series из 10 первых значений genre_df_sorted, это будут топ-10\n",
    "#    популярных жанров (в указанный день, в заданное время)"
   ]
  },
  {
   "cell_type": "markdown",
   "metadata": {
    "id": "la2s2_PF_Zcu"
   },
   "source": [
    "Cравним результаты функции `genre_weekday()` для Москвы и Санкт-Петербурга в понедельник утром (с 7:00 до 11:00) и в пятницу вечером (с 17:00 до 23:00):"
   ]
  },
  {
   "cell_type": "code",
   "execution_count": 31,
   "metadata": {
    "id": "yz7itPUQ_Zcu"
   },
   "outputs": [
    {
     "data": {
      "text/plain": [
       "genre\n",
       "pop            781\n",
       "dance          549\n",
       "electronic     480\n",
       "rock           474\n",
       "hiphop         286\n",
       "ruspop         186\n",
       "world          181\n",
       "rusrap         175\n",
       "alternative    164\n",
       "unknown        161\n",
       "Name: day, dtype: int64"
      ]
     },
     "execution_count": 31,
     "metadata": {},
     "output_type": "execute_result"
    }
   ],
   "source": [
    "# вызов функции для утра понедельника в Москве (вместо df — таблица moscow_general)\n",
    "# объекты, хранящие время, являются строками и сравниваются как строки\n",
    "# пример вызова: \n",
    "genre_weekday(moscow_general, 'Monday', '07:00', '11:00')"
   ]
  },
  {
   "cell_type": "code",
   "execution_count": 32,
   "metadata": {
    "id": "kwUcHPdy_Zcu"
   },
   "outputs": [
    {
     "data": {
      "text/plain": [
       "genre\n",
       "pop            218\n",
       "dance          182\n",
       "rock           162\n",
       "electronic     147\n",
       "hiphop          80\n",
       "ruspop          64\n",
       "alternative     58\n",
       "rusrap          55\n",
       "jazz            44\n",
       "classical       40\n",
       "Name: day, dtype: int64"
      ]
     },
     "execution_count": 32,
     "metadata": {},
     "output_type": "execute_result"
    }
   ],
   "source": [
    "genre_weekday(spb_general, 'Monday', '07:00', '11:00') # вызов функции для утра понедельника в Петербурге (вместо df — таблица spb_general)"
   ]
  },
  {
   "cell_type": "code",
   "execution_count": 33,
   "metadata": {
    "id": "EzXVRE1o_Zcu"
   },
   "outputs": [
    {
     "data": {
      "text/plain": [
       "genre\n",
       "pop            713\n",
       "rock           517\n",
       "dance          495\n",
       "electronic     482\n",
       "hiphop         273\n",
       "world          208\n",
       "ruspop         170\n",
       "alternative    163\n",
       "classical      163\n",
       "rusrap         142\n",
       "Name: day, dtype: int64"
      ]
     },
     "execution_count": 33,
     "metadata": {},
     "output_type": "execute_result"
    }
   ],
   "source": [
    "genre_weekday(moscow_general, 'Friday', '17:00', '23:00') # вызов функции для вечера пятницы в Москве"
   ]
  },
  {
   "cell_type": "code",
   "execution_count": 34,
   "metadata": {
    "id": "JZaEKu5v_Zcu"
   },
   "outputs": [
    {
     "data": {
      "text/plain": [
       "genre\n",
       "pop            256\n",
       "electronic     216\n",
       "rock           216\n",
       "dance          210\n",
       "hiphop          97\n",
       "alternative     63\n",
       "jazz            61\n",
       "classical       60\n",
       "rusrap          59\n",
       "world           54\n",
       "Name: day, dtype: int64"
      ]
     },
     "execution_count": 34,
     "metadata": {},
     "output_type": "execute_result"
    }
   ],
   "source": [
    "genre_weekday(spb_general, 'Friday', '17:00', '23:00') # вызов функции для вечера пятницы в Петербурге"
   ]
  },
  {
   "cell_type": "markdown",
   "metadata": {
    "id": "wrCe4MNX_Zcu"
   },
   "source": [
    "**Вывод:**\n",
    "\n",
    "Если сравнить топ-10 жанров в понедельник утром, можно сделать такие выводы:\n",
    "\n",
    "1. В Москве и Петербурге слушают похожую музыку. Единственное отличие — в московский рейтинг вошёл жанр “world”, а в петербургский — джаз и классика.\n",
    "\n",
    "2. В Москве пропущенных значений оказалось так много, что значение `'unknown'` заняло десятое место среди самых популярных жанров. Значит, пропущенные значения занимают существенную долю в данных и угрожают достоверности исследования.\n",
    "\n",
    "Вечер пятницы не меняет эту картину. Некоторые жанры поднимаются немного выше, другие спускаются, но в целом топ-10 остаётся тем же самым.\n",
    "\n",
    "Таким образом, вторая гипотеза подтвердилась лишь частично:\n",
    "* Пользователи слушают похожую музыку в начале недели и в конце.\n",
    "* Разница между Москвой и Петербургом не слишком выражена. В Москве чаще слушают русскую популярную музыку, в Петербурге — джаз.\n",
    "\n",
    "Однако пропуски в данных ставят под сомнение этот результат. В Москве их так много, что рейтинг топ-10 мог бы выглядеть иначе, если бы не утерянные  данные о жанрах."
   ]
  },
  {
   "cell_type": "markdown",
   "metadata": {
    "id": "JolODAqr_Zcu"
   },
   "source": [
    "### Жанровые предпочтения в Москве и Петербурге\n",
    "\n",
    "Гипотеза: Петербург — столица рэпа, музыку этого жанра там слушают чаще, чем в Москве.  А Москва — город контрастов, в котором, тем не менее, преобладает поп-музыка."
   ]
  },
  {
   "cell_type": "markdown",
   "metadata": {
    "id": "DlegSvaT_Zcu"
   },
   "source": [
    "Сгруппируем таблицу `moscow_general` по жанру и посчитаем прослушивания треков каждого жанра методом `count()`. Затем отсортируем результат в порядке убывания и сохраним его в таблице `moscow_genres`."
   ]
  },
  {
   "cell_type": "code",
   "execution_count": 35,
   "metadata": {
    "id": "r19lIPke_Zcu"
   },
   "outputs": [],
   "source": [
    "moscow_genres = moscow_general.groupby('genre')['genre'].count().sort_values(ascending=False)\n",
    "# одной строкой: группировка таблицы moscow_general по столбцу 'genre', \n",
    "# подсчёт числа значений 'genre' в этой группировке методом count(), \n",
    "# сортировка получившегося Series в порядке убывания и сохранение в moscow_genres"
   ]
  },
  {
   "cell_type": "markdown",
   "metadata": {
    "id": "6kMuomxTiIr8"
   },
   "source": [
    "Выведем на экран первые десять строк `moscow_genres`:"
   ]
  },
  {
   "cell_type": "code",
   "execution_count": 36,
   "metadata": {
    "id": "WhCSooF8_Zcv"
   },
   "outputs": [
    {
     "data": {
      "text/plain": [
       "genre\n",
       "pop            5892\n",
       "dance          4435\n",
       "rock           3965\n",
       "electronic     3786\n",
       "hiphop         2096\n",
       "classical      1616\n",
       "world          1432\n",
       "alternative    1379\n",
       "ruspop         1372\n",
       "rusrap         1161\n",
       "Name: genre, dtype: int64"
      ]
     },
     "execution_count": 36,
     "metadata": {},
     "output_type": "execute_result"
    }
   ],
   "source": [
    "moscow_genres.head(10)\n",
    "# просмотр первых 10 строк moscow_genres"
   ]
  },
  {
   "cell_type": "markdown",
   "metadata": {
    "id": "cnPG2vnN_Zcv"
   },
   "source": [
    "Теперь повторим то же и для Петербурга.\n",
    "\n",
    "Сгруппируем таблицу `spb_general` по жанру. Посчитаем прослушивания треков каждого жанра. Результат отсортируем в порядке убывания и сохраним в таблице `spb_genres`:\n"
   ]
  },
  {
   "cell_type": "code",
   "execution_count": 37,
   "metadata": {
    "id": "gluLIpE7_Zcv"
   },
   "outputs": [],
   "source": [
    "spb_genres = spb_general.groupby('genre')['genre'].count().sort_values(ascending=False)\n",
    "# одной строкой: группировка таблицы spb_general по столбцу 'genre', \n",
    "# подсчёт числа значений 'genre' в этой группировке методом count(), \n",
    "# сортировка получившегося Series в порядке убывания и сохранение в spb_genres"
   ]
  },
  {
   "cell_type": "markdown",
   "metadata": {
    "id": "5Doha_ODgyQ8"
   },
   "source": [
    "Выведем на экран первые десять строк `spb_genres`:"
   ]
  },
  {
   "cell_type": "code",
   "execution_count": 38,
   "metadata": {
    "id": "uaGJHjVU_Zcv"
   },
   "outputs": [
    {
     "data": {
      "text/plain": [
       "genre\n",
       "pop            2431\n",
       "dance          1932\n",
       "rock           1879\n",
       "electronic     1736\n",
       "hiphop          960\n",
       "alternative     649\n",
       "classical       646\n",
       "rusrap          564\n",
       "ruspop          538\n",
       "world           515\n",
       "Name: genre, dtype: int64"
      ]
     },
     "execution_count": 38,
     "metadata": {},
     "output_type": "execute_result"
    }
   ],
   "source": [
    "spb_genres.head(10)\n",
    "# просмотр первых 10 строк spb_genres"
   ]
  },
  {
   "cell_type": "markdown",
   "metadata": {
    "id": "RY51YJYu_Zcv"
   },
   "source": [
    "**Вывод:**"
   ]
  },
  {
   "cell_type": "markdown",
   "metadata": {
    "id": "nVhnJEm__Zcv"
   },
   "source": [
    "Гипотеза частично подтвердилась:\n",
    "* Поп-музыка — самый популярный жанр в Москве, как и предполагала гипотеза. Более того, в топ-10 жанров встречается близкий жанр — русская популярная музыка.\n",
    "* Вопреки ожиданиям, рэп одинаково популярен в Москве и Петербурге. \n"
   ]
  },
  {
   "cell_type": "markdown",
   "metadata": {
    "id": "ykKQ0N65_Zcv"
   },
   "source": [
    "## Итоги исследования"
   ]
  },
  {
   "cell_type": "markdown",
   "metadata": {
    "id": "tjUwbHb3_Zcv"
   },
   "source": [
    "Мы проверили три гипотезы и установили:\n",
    "\n",
    "1. День недели по-разному влияет на активность пользователей в Москве и Петербурге. \n",
    "\n",
    "Первая гипотеза полностью подтвердилась.\n",
    "\n",
    "2. Музыкальные предпочтения не сильно меняются в течение недели — будь то Москва или Петербург. Небольшие различия заметны в начале недели, по понедельникам:\n",
    "* в Москве слушают музыку жанра “world”,\n",
    "* в Петербурге — джаз и классику.\n",
    "\n",
    "Таким образом, вторая гипотеза подтвердилась лишь отчасти. Этот результат мог оказаться иным, если бы не пропуски в данных.\n",
    "\n",
    "3. Во вкусах пользователей Москвы и Петербурга больше общего чем различий. Вопреки ожиданиям, предпочтения жанров в Петербурге напоминают московские.\n",
    "\n",
    "Третья гипотеза не подтвердилась. Если различия в предпочтениях и существуют, на основной массе пользователей они незаметны.\n"
   ]
  }
 ],
 "metadata": {
  "ExecuteTimeLog": [
   {
    "duration": 662,
    "start_time": "2022-02-22T18:46:31.465Z"
   },
   {
    "duration": 1620,
    "start_time": "2022-02-22T18:46:36.004Z"
   },
   {
    "duration": 1335,
    "start_time": "2022-02-22T18:46:49.838Z"
   },
   {
    "duration": 240,
    "start_time": "2022-02-22T18:47:07.093Z"
   },
   {
    "duration": 130,
    "start_time": "2022-02-22T18:49:18.554Z"
   },
   {
    "duration": 144,
    "start_time": "2022-02-22T18:49:22.645Z"
   },
   {
    "duration": 148,
    "start_time": "2022-02-22T18:49:35.006Z"
   },
   {
    "duration": 219,
    "start_time": "2022-02-22T19:07:05.419Z"
   },
   {
    "duration": 181,
    "start_time": "2022-02-22T19:07:24.300Z"
   },
   {
    "duration": 179,
    "start_time": "2022-02-22T19:10:14.036Z"
   },
   {
    "duration": 180,
    "start_time": "2022-02-22T19:10:42.089Z"
   },
   {
    "duration": 194,
    "start_time": "2022-02-22T19:11:01.245Z"
   },
   {
    "duration": 248,
    "start_time": "2022-02-22T19:11:47.131Z"
   },
   {
    "duration": 181,
    "start_time": "2022-02-22T19:12:01.048Z"
   },
   {
    "duration": 545,
    "start_time": "2022-02-22T19:12:12.105Z"
   },
   {
    "duration": 3,
    "start_time": "2022-02-22T19:12:17.864Z"
   },
   {
    "duration": 5,
    "start_time": "2022-02-22T19:12:20.604Z"
   },
   {
    "duration": 143,
    "start_time": "2022-02-22T19:12:23.876Z"
   },
   {
    "duration": 141,
    "start_time": "2022-02-22T19:12:32.431Z"
   },
   {
    "duration": 136,
    "start_time": "2022-02-22T19:12:34.687Z"
   },
   {
    "duration": 19,
    "start_time": "2022-02-22T19:12:41.890Z"
   },
   {
    "duration": 149,
    "start_time": "2022-02-22T19:12:51.123Z"
   },
   {
    "duration": 11,
    "start_time": "2022-02-22T19:12:58.405Z"
   },
   {
    "duration": 11,
    "start_time": "2022-02-22T19:13:05.745Z"
   },
   {
    "duration": 28,
    "start_time": "2022-02-22T19:13:12.715Z"
   },
   {
    "duration": 12,
    "start_time": "2022-02-22T19:13:22.307Z"
   },
   {
    "duration": 8,
    "start_time": "2022-02-22T19:16:02.068Z"
   },
   {
    "duration": 13,
    "start_time": "2022-02-22T19:16:19.998Z"
   },
   {
    "duration": 204,
    "start_time": "2022-02-22T19:16:52.427Z"
   },
   {
    "duration": 67,
    "start_time": "2022-02-22T19:17:04.962Z"
   },
   {
    "duration": 4433,
    "start_time": "2022-02-22T19:17:10.924Z"
   },
   {
    "duration": 4,
    "start_time": "2022-02-22T19:17:34.304Z"
   },
   {
    "duration": 4,
    "start_time": "2022-02-22T19:17:51.986Z"
   },
   {
    "duration": 25,
    "start_time": "2022-02-22T19:18:06.544Z"
   },
   {
    "duration": 25,
    "start_time": "2022-02-22T19:18:23.405Z"
   },
   {
    "duration": 24,
    "start_time": "2022-02-22T19:18:34.286Z"
   },
   {
    "duration": 4,
    "start_time": "2022-02-22T19:23:39.370Z"
   },
   {
    "duration": 57,
    "start_time": "2022-02-22T19:23:51.864Z"
   },
   {
    "duration": 278,
    "start_time": "2022-02-23T11:11:48.685Z"
   },
   {
    "duration": 1024,
    "start_time": "2022-02-23T11:11:55.101Z"
   },
   {
    "duration": 392,
    "start_time": "2022-02-23T11:12:04.049Z"
   },
   {
    "duration": 185,
    "start_time": "2022-02-23T11:12:18.828Z"
   },
   {
    "duration": 186,
    "start_time": "2022-02-23T11:12:24.328Z"
   },
   {
    "duration": 27,
    "start_time": "2022-02-23T11:12:26.765Z"
   },
   {
    "duration": 36,
    "start_time": "2022-02-23T11:12:33.506Z"
   },
   {
    "duration": 6,
    "start_time": "2022-02-23T11:12:50.177Z"
   },
   {
    "duration": 92,
    "start_time": "2022-02-23T11:19:30.426Z"
   },
   {
    "duration": 94,
    "start_time": "2022-02-23T11:19:46.211Z"
   },
   {
    "duration": 99,
    "start_time": "2022-02-23T11:20:11.261Z"
   },
   {
    "duration": 281,
    "start_time": "2022-02-23T11:20:27.339Z"
   },
   {
    "duration": 5,
    "start_time": "2022-02-23T11:21:36.636Z"
   },
   {
    "duration": 6,
    "start_time": "2022-02-23T11:21:39.579Z"
   },
   {
    "duration": 328,
    "start_time": "2022-02-23T11:22:02.221Z"
   },
   {
    "duration": 289,
    "start_time": "2022-02-23T11:28:24.211Z"
   },
   {
    "duration": 286,
    "start_time": "2022-02-23T11:32:51.272Z"
   },
   {
    "duration": 6,
    "start_time": "2022-02-23T11:32:58.636Z"
   },
   {
    "duration": 319,
    "start_time": "2022-02-23T11:33:11.997Z"
   },
   {
    "duration": 3,
    "start_time": "2022-02-23T11:33:26.834Z"
   },
   {
    "duration": 299,
    "start_time": "2022-02-23T11:33:33.077Z"
   },
   {
    "duration": 3,
    "start_time": "2022-02-23T11:35:14.512Z"
   },
   {
    "duration": 27,
    "start_time": "2022-02-23T11:36:51.333Z"
   },
   {
    "duration": 6,
    "start_time": "2022-02-23T11:37:01.544Z"
   },
   {
    "duration": 41,
    "start_time": "2022-02-23T11:40:47.573Z"
   },
   {
    "duration": 34,
    "start_time": "2022-02-23T11:41:03.399Z"
   },
   {
    "duration": 30,
    "start_time": "2022-02-23T11:42:19.144Z"
   },
   {
    "duration": 368,
    "start_time": "2022-02-23T11:56:56.827Z"
   },
   {
    "duration": 24,
    "start_time": "2022-02-23T11:59:14.082Z"
   },
   {
    "duration": 31,
    "start_time": "2022-02-23T11:59:30.935Z"
   },
   {
    "duration": 119,
    "start_time": "2022-02-23T12:00:08.474Z"
   },
   {
    "duration": 84,
    "start_time": "2022-02-23T12:00:18.913Z"
   },
   {
    "duration": 91,
    "start_time": "2022-02-23T12:00:37.775Z"
   },
   {
    "duration": 359,
    "start_time": "2022-02-23T12:03:59.590Z"
   },
   {
    "duration": 285,
    "start_time": "2022-02-23T12:04:23.106Z"
   },
   {
    "duration": 278,
    "start_time": "2022-02-23T12:04:39.842Z"
   },
   {
    "duration": 296,
    "start_time": "2022-02-23T12:05:24.209Z"
   },
   {
    "duration": 353,
    "start_time": "2022-02-23T12:05:41.888Z"
   },
   {
    "duration": 97,
    "start_time": "2022-02-23T12:05:51.661Z"
   },
   {
    "duration": 19,
    "start_time": "2022-02-23T12:07:00.800Z"
   },
   {
    "duration": 23,
    "start_time": "2022-02-23T12:07:18.178Z"
   },
   {
    "duration": 476,
    "start_time": "2022-02-23T12:08:03.597Z"
   },
   {
    "duration": 300,
    "start_time": "2022-02-23T12:08:12.024Z"
   },
   {
    "duration": 78,
    "start_time": "2022-02-23T12:08:28.779Z"
   },
   {
    "duration": 76,
    "start_time": "2022-02-23T12:08:34.134Z"
   },
   {
    "duration": 76,
    "start_time": "2022-02-23T12:08:39.723Z"
   },
   {
    "duration": 76,
    "start_time": "2022-02-23T12:08:48.117Z"
   },
   {
    "duration": 32,
    "start_time": "2022-02-23T12:08:56.966Z"
   },
   {
    "duration": 78,
    "start_time": "2022-02-23T12:08:59.340Z"
   },
   {
    "duration": 92,
    "start_time": "2022-02-23T12:10:46.739Z"
   },
   {
    "duration": 83,
    "start_time": "2022-02-23T12:10:50.118Z"
   },
   {
    "duration": 293,
    "start_time": "2022-02-23T12:13:50.194Z"
   },
   {
    "duration": 11,
    "start_time": "2022-02-23T12:17:59.279Z"
   },
   {
    "duration": 65,
    "start_time": "2022-02-23T12:19:07.118Z"
   },
   {
    "duration": 62,
    "start_time": "2022-02-23T12:20:26.985Z"
   },
   {
    "duration": 347,
    "start_time": "2022-02-23T12:20:44.648Z"
   },
   {
    "duration": 412,
    "start_time": "2022-02-23T12:20:49.338Z"
   },
   {
    "duration": 61,
    "start_time": "2022-02-23T12:21:00.130Z"
   },
   {
    "duration": 138,
    "start_time": "2022-02-23T12:25:32.529Z"
   },
   {
    "duration": 106,
    "start_time": "2022-02-23T12:26:53.656Z"
   },
   {
    "duration": 3,
    "start_time": "2022-02-23T12:27:47.386Z"
   },
   {
    "duration": 146,
    "start_time": "2022-02-23T12:28:15.898Z"
   },
   {
    "duration": 5,
    "start_time": "2022-02-23T12:37:11.197Z"
   },
   {
    "duration": 4,
    "start_time": "2022-02-23T12:37:21.568Z"
   },
   {
    "duration": 328,
    "start_time": "2022-02-23T12:51:01.400Z"
   },
   {
    "duration": 421,
    "start_time": "2022-02-23T12:54:15.480Z"
   },
   {
    "duration": 19,
    "start_time": "2022-02-23T12:54:48.342Z"
   },
   {
    "duration": 17,
    "start_time": "2022-02-23T12:56:57.010Z"
   },
   {
    "duration": 301,
    "start_time": "2022-02-23T12:57:59.763Z"
   },
   {
    "duration": 435,
    "start_time": "2022-02-23T12:58:22.439Z"
   },
   {
    "duration": 63,
    "start_time": "2022-02-23T12:58:35.621Z"
   },
   {
    "duration": 2,
    "start_time": "2022-02-24T11:58:07.318Z"
   },
   {
    "duration": 284,
    "start_time": "2022-02-24T11:58:11.117Z"
   },
   {
    "duration": 676,
    "start_time": "2022-02-24T11:58:30.534Z"
   },
   {
    "duration": 149,
    "start_time": "2022-02-24T11:58:32.550Z"
   },
   {
    "duration": 19,
    "start_time": "2022-02-24T11:58:36.043Z"
   },
   {
    "duration": 2,
    "start_time": "2022-02-24T11:58:42.780Z"
   },
   {
    "duration": 155,
    "start_time": "2022-02-24T11:58:49.988Z"
   },
   {
    "duration": 11,
    "start_time": "2022-02-24T11:58:50.145Z"
   },
   {
    "duration": 34,
    "start_time": "2022-02-24T11:58:50.158Z"
   },
   {
    "duration": 5,
    "start_time": "2022-02-24T11:58:50.194Z"
   },
   {
    "duration": 27,
    "start_time": "2022-02-24T11:58:50.201Z"
   },
   {
    "duration": 3,
    "start_time": "2022-02-24T11:58:50.230Z"
   },
   {
    "duration": 43,
    "start_time": "2022-02-24T11:58:50.235Z"
   },
   {
    "duration": 18,
    "start_time": "2022-02-24T11:58:50.280Z"
   },
   {
    "duration": 24,
    "start_time": "2022-02-24T11:58:50.301Z"
   },
   {
    "duration": 84,
    "start_time": "2022-02-24T11:58:50.327Z"
   },
   {
    "duration": 77,
    "start_time": "2022-02-24T11:58:50.413Z"
   },
   {
    "duration": 56,
    "start_time": "2022-02-24T11:58:50.492Z"
   },
   {
    "duration": 52,
    "start_time": "2022-02-24T11:58:50.550Z"
   },
   {
    "duration": 2,
    "start_time": "2022-02-24T11:58:50.604Z"
   },
   {
    "duration": 46,
    "start_time": "2022-02-24T11:58:50.608Z"
   },
   {
    "duration": 2,
    "start_time": "2022-02-24T11:58:50.669Z"
   },
   {
    "duration": 10,
    "start_time": "2022-02-24T11:58:50.673Z"
   },
   {
    "duration": 9,
    "start_time": "2022-02-24T11:58:50.684Z"
   },
   {
    "duration": 12,
    "start_time": "2022-02-24T11:58:50.694Z"
   },
   {
    "duration": 9,
    "start_time": "2022-02-24T11:58:50.708Z"
   },
   {
    "duration": 6,
    "start_time": "2022-02-24T11:58:50.718Z"
   },
   {
    "duration": 10,
    "start_time": "2022-02-24T11:58:50.726Z"
   },
   {
    "duration": 9,
    "start_time": "2022-02-24T11:58:50.738Z"
   },
   {
    "duration": 9,
    "start_time": "2022-02-24T11:58:50.748Z"
   },
   {
    "duration": 11,
    "start_time": "2022-02-24T11:58:50.758Z"
   },
   {
    "duration": 7,
    "start_time": "2022-02-24T11:58:50.770Z"
   },
   {
    "duration": 3,
    "start_time": "2022-02-24T11:58:50.780Z"
   },
   {
    "duration": 7,
    "start_time": "2022-02-24T11:58:50.785Z"
   },
   {
    "duration": 8,
    "start_time": "2022-02-24T11:58:50.793Z"
   },
   {
    "duration": 6,
    "start_time": "2022-02-24T11:58:50.803Z"
   },
   {
    "duration": 8,
    "start_time": "2022-02-24T11:58:50.810Z"
   },
   {
    "duration": 5,
    "start_time": "2022-02-24T11:58:50.819Z"
   },
   {
    "duration": 5,
    "start_time": "2022-02-24T11:58:50.825Z"
   },
   {
    "duration": 5,
    "start_time": "2022-02-24T11:58:50.832Z"
   },
   {
    "duration": 5,
    "start_time": "2022-02-24T11:58:50.839Z"
   },
   {
    "duration": 13,
    "start_time": "2022-02-24T11:58:50.846Z"
   },
   {
    "duration": 12,
    "start_time": "2022-02-24T12:04:58.549Z"
   },
   {
    "duration": 13,
    "start_time": "2022-02-24T12:08:50.783Z"
   },
   {
    "duration": 5,
    "start_time": "2022-02-24T12:56:19.593Z"
   },
   {
    "duration": 3,
    "start_time": "2022-02-24T12:58:08.963Z"
   },
   {
    "duration": 14,
    "start_time": "2022-02-24T12:59:58.061Z"
   },
   {
    "duration": 15,
    "start_time": "2022-02-24T13:00:38.165Z"
   },
   {
    "duration": 18,
    "start_time": "2022-02-24T13:00:42.741Z"
   },
   {
    "duration": 20,
    "start_time": "2022-02-24T13:01:48.285Z"
   },
   {
    "duration": 15,
    "start_time": "2022-02-24T13:02:16.054Z"
   },
   {
    "duration": 355,
    "start_time": "2022-02-24T13:03:11.822Z"
   },
   {
    "duration": 535,
    "start_time": "2022-02-24T13:03:22.286Z"
   },
   {
    "duration": 294,
    "start_time": "2022-02-24T13:03:41.302Z"
   },
   {
    "duration": 18,
    "start_time": "2022-02-24T13:04:17.302Z"
   },
   {
    "duration": 17,
    "start_time": "2022-02-24T13:04:55.693Z"
   },
   {
    "duration": 334,
    "start_time": "2022-02-24T13:05:30.846Z"
   },
   {
    "duration": 28,
    "start_time": "2022-02-24T13:05:36.662Z"
   },
   {
    "duration": 16,
    "start_time": "2022-02-24T13:06:08.750Z"
   },
   {
    "duration": 2,
    "start_time": "2022-02-24T13:11:14.968Z"
   },
   {
    "duration": 4,
    "start_time": "2022-02-24T13:19:32.464Z"
   },
   {
    "duration": 5,
    "start_time": "2022-02-24T13:19:36.633Z"
   },
   {
    "duration": 5,
    "start_time": "2022-02-24T13:19:54.322Z"
   },
   {
    "duration": 797,
    "start_time": "2022-02-24T13:20:12.001Z"
   },
   {
    "duration": 3,
    "start_time": "2022-02-24T13:20:59.298Z"
   },
   {
    "duration": 294,
    "start_time": "2022-02-24T13:21:47.587Z"
   },
   {
    "duration": 291,
    "start_time": "2022-02-24T13:22:05.035Z"
   },
   {
    "duration": 335,
    "start_time": "2022-02-24T13:23:02.548Z"
   },
   {
    "duration": 303,
    "start_time": "2022-02-24T13:23:54.667Z"
   },
   {
    "duration": 275,
    "start_time": "2022-02-24T13:24:06.418Z"
   },
   {
    "duration": 6,
    "start_time": "2022-02-24T13:25:33.907Z"
   },
   {
    "duration": 284,
    "start_time": "2022-02-24T13:25:43.732Z"
   },
   {
    "duration": 6741,
    "start_time": "2022-02-24T13:51:32.114Z"
   },
   {
    "duration": -21,
    "start_time": "2022-02-24T13:51:38.879Z"
   },
   {
    "duration": 274,
    "start_time": "2022-02-24T13:56:55.563Z"
   },
   {
    "duration": 2,
    "start_time": "2022-02-24T14:00:22.908Z"
   },
   {
    "duration": 646,
    "start_time": "2022-02-24T14:00:40.700Z"
   },
   {
    "duration": 150,
    "start_time": "2022-02-24T14:00:41.516Z"
   },
   {
    "duration": 19,
    "start_time": "2022-02-24T14:00:42.491Z"
   },
   {
    "duration": 12,
    "start_time": "2022-02-24T14:00:47.874Z"
   },
   {
    "duration": 27,
    "start_time": "2022-02-24T14:00:48.700Z"
   },
   {
    "duration": 323,
    "start_time": "2022-02-24T14:01:22.911Z"
   },
   {
    "duration": 267,
    "start_time": "2022-02-24T14:01:26.806Z"
   },
   {
    "duration": 612,
    "start_time": "2022-02-24T14:01:31.015Z"
   },
   {
    "duration": 146,
    "start_time": "2022-02-24T14:01:31.911Z"
   },
   {
    "duration": 20,
    "start_time": "2022-02-24T14:01:33.839Z"
   },
   {
    "duration": 3,
    "start_time": "2022-02-24T14:01:48.343Z"
   },
   {
    "duration": 170,
    "start_time": "2022-02-24T14:01:48.348Z"
   },
   {
    "duration": 11,
    "start_time": "2022-02-24T14:01:48.520Z"
   },
   {
    "duration": 41,
    "start_time": "2022-02-24T14:01:48.533Z"
   },
   {
    "duration": 5,
    "start_time": "2022-02-24T14:01:48.577Z"
   },
   {
    "duration": 27,
    "start_time": "2022-02-24T14:01:48.584Z"
   },
   {
    "duration": 3,
    "start_time": "2022-02-24T14:01:48.613Z"
   },
   {
    "duration": 28,
    "start_time": "2022-02-24T14:01:48.619Z"
   },
   {
    "duration": 19,
    "start_time": "2022-02-24T14:01:48.670Z"
   },
   {
    "duration": 31,
    "start_time": "2022-02-24T14:01:48.691Z"
   },
   {
    "duration": 81,
    "start_time": "2022-02-24T14:01:48.724Z"
   },
   {
    "duration": 79,
    "start_time": "2022-02-24T14:01:48.807Z"
   },
   {
    "duration": 60,
    "start_time": "2022-02-24T14:01:48.888Z"
   },
   {
    "duration": 58,
    "start_time": "2022-02-24T14:01:48.951Z"
   },
   {
    "duration": 3,
    "start_time": "2022-02-24T14:01:49.011Z"
   },
   {
    "duration": 58,
    "start_time": "2022-02-24T14:01:49.016Z"
   },
   {
    "duration": 13,
    "start_time": "2022-02-24T14:01:49.075Z"
   },
   {
    "duration": 12,
    "start_time": "2022-02-24T14:01:49.090Z"
   },
   {
    "duration": 3,
    "start_time": "2022-02-24T14:01:49.104Z"
   },
   {
    "duration": 26,
    "start_time": "2022-02-24T14:01:49.109Z"
   },
   {
    "duration": 42,
    "start_time": "2022-02-24T14:01:49.137Z"
   },
   {
    "duration": 18,
    "start_time": "2022-02-24T14:01:49.181Z"
   },
   {
    "duration": 16,
    "start_time": "2022-02-24T14:01:49.203Z"
   },
   {
    "duration": 53,
    "start_time": "2022-02-24T14:01:49.222Z"
   },
   {
    "duration": 17,
    "start_time": "2022-02-24T14:01:49.277Z"
   },
   {
    "duration": 9,
    "start_time": "2022-02-24T14:01:49.296Z"
   },
   {
    "duration": 7,
    "start_time": "2022-02-24T14:01:49.307Z"
   },
   {
    "duration": 6,
    "start_time": "2022-02-24T14:01:49.315Z"
   },
   {
    "duration": 6,
    "start_time": "2022-02-24T14:01:49.322Z"
   },
   {
    "duration": 7,
    "start_time": "2022-02-24T14:01:49.329Z"
   },
   {
    "duration": 4,
    "start_time": "2022-02-24T14:01:49.338Z"
   },
   {
    "duration": 3,
    "start_time": "2022-02-24T14:01:49.369Z"
   },
   {
    "duration": 5,
    "start_time": "2022-02-24T14:01:49.373Z"
   },
   {
    "duration": 5,
    "start_time": "2022-02-24T14:01:49.380Z"
   },
   {
    "duration": 5,
    "start_time": "2022-02-24T14:01:49.387Z"
   },
   {
    "duration": 7,
    "start_time": "2022-02-24T14:01:49.394Z"
   },
   {
    "duration": 6,
    "start_time": "2022-02-24T14:01:49.402Z"
   },
   {
    "duration": 3,
    "start_time": "2022-02-24T14:02:25.210Z"
   },
   {
    "duration": 172,
    "start_time": "2022-02-24T14:02:25.215Z"
   },
   {
    "duration": 11,
    "start_time": "2022-02-24T14:02:25.390Z"
   },
   {
    "duration": 29,
    "start_time": "2022-02-24T14:02:25.403Z"
   },
   {
    "duration": 4,
    "start_time": "2022-02-24T14:02:25.434Z"
   },
   {
    "duration": 42,
    "start_time": "2022-02-24T14:02:25.440Z"
   },
   {
    "duration": 4,
    "start_time": "2022-02-24T14:02:25.484Z"
   },
   {
    "duration": 35,
    "start_time": "2022-02-24T14:02:25.490Z"
   },
   {
    "duration": 20,
    "start_time": "2022-02-24T14:02:25.527Z"
   },
   {
    "duration": 33,
    "start_time": "2022-02-24T14:02:25.548Z"
   },
   {
    "duration": 60,
    "start_time": "2022-02-24T14:02:25.583Z"
   },
   {
    "duration": 85,
    "start_time": "2022-02-24T14:02:25.645Z"
   },
   {
    "duration": 70,
    "start_time": "2022-02-24T14:02:25.732Z"
   },
   {
    "duration": 43,
    "start_time": "2022-02-24T14:02:25.804Z"
   },
   {
    "duration": 3,
    "start_time": "2022-02-24T14:02:25.849Z"
   },
   {
    "duration": 10,
    "start_time": "2022-02-24T14:02:25.869Z"
   },
   {
    "duration": 47,
    "start_time": "2022-02-24T14:02:25.881Z"
   },
   {
    "duration": 12,
    "start_time": "2022-02-24T14:02:25.930Z"
   },
   {
    "duration": 34,
    "start_time": "2022-02-24T14:02:25.944Z"
   },
   {
    "duration": 4,
    "start_time": "2022-02-24T14:02:25.980Z"
   },
   {
    "duration": 25,
    "start_time": "2022-02-24T14:02:25.985Z"
   },
   {
    "duration": 17,
    "start_time": "2022-02-24T14:02:26.012Z"
   },
   {
    "duration": 47,
    "start_time": "2022-02-24T14:02:26.034Z"
   },
   {
    "duration": 16,
    "start_time": "2022-02-24T14:02:26.084Z"
   },
   {
    "duration": 20,
    "start_time": "2022-02-24T14:02:26.102Z"
   },
   {
    "duration": 51,
    "start_time": "2022-02-24T14:02:26.124Z"
   },
   {
    "duration": 11,
    "start_time": "2022-02-24T14:02:26.177Z"
   },
   {
    "duration": 5,
    "start_time": "2022-02-24T14:02:26.190Z"
   },
   {
    "duration": 5,
    "start_time": "2022-02-24T14:02:26.197Z"
   },
   {
    "duration": 13,
    "start_time": "2022-02-24T14:02:26.203Z"
   },
   {
    "duration": 10,
    "start_time": "2022-02-24T14:02:26.217Z"
   },
   {
    "duration": 7,
    "start_time": "2022-02-24T14:02:26.229Z"
   },
   {
    "duration": 7,
    "start_time": "2022-02-24T14:02:26.238Z"
   },
   {
    "duration": 22,
    "start_time": "2022-02-24T14:02:26.247Z"
   },
   {
    "duration": 2,
    "start_time": "2022-02-24T14:02:26.272Z"
   },
   {
    "duration": 6,
    "start_time": "2022-02-24T14:02:26.276Z"
   },
   {
    "duration": 5,
    "start_time": "2022-02-24T14:02:26.284Z"
   },
   {
    "duration": 6,
    "start_time": "2022-02-24T14:02:26.291Z"
   },
   {
    "duration": 9,
    "start_time": "2022-02-24T14:03:54.047Z"
   },
   {
    "duration": 9,
    "start_time": "2022-02-24T14:05:38.360Z"
   },
   {
    "duration": 9,
    "start_time": "2022-02-24T14:05:47.145Z"
   },
   {
    "duration": 12,
    "start_time": "2022-02-24T14:07:18.256Z"
   },
   {
    "duration": 8,
    "start_time": "2022-02-24T14:07:50.329Z"
   },
   {
    "duration": 8,
    "start_time": "2022-02-24T14:30:08.598Z"
   },
   {
    "duration": 13,
    "start_time": "2022-02-24T14:32:56.335Z"
   },
   {
    "duration": 10,
    "start_time": "2022-02-24T14:34:22.327Z"
   },
   {
    "duration": 3,
    "start_time": "2022-02-24T14:48:39.449Z"
   },
   {
    "duration": 4,
    "start_time": "2022-02-24T14:53:06.041Z"
   },
   {
    "duration": 4,
    "start_time": "2022-02-24T14:58:21.131Z"
   },
   {
    "duration": 813,
    "start_time": "2022-02-24T18:48:24.980Z"
   },
   {
    "duration": 192,
    "start_time": "2022-02-24T18:48:25.796Z"
   },
   {
    "duration": 26,
    "start_time": "2022-02-24T18:48:25.991Z"
   },
   {
    "duration": 32,
    "start_time": "2022-02-24T18:48:26.021Z"
   },
   {
    "duration": 8,
    "start_time": "2022-02-24T18:48:26.055Z"
   },
   {
    "duration": 38,
    "start_time": "2022-02-24T18:48:26.095Z"
   },
   {
    "duration": 5,
    "start_time": "2022-02-24T18:48:26.136Z"
   },
   {
    "duration": 59,
    "start_time": "2022-02-24T18:48:26.147Z"
   },
   {
    "duration": 23,
    "start_time": "2022-02-24T18:48:26.210Z"
   },
   {
    "duration": 33,
    "start_time": "2022-02-24T18:48:26.236Z"
   },
   {
    "duration": 100,
    "start_time": "2022-02-24T18:48:26.294Z"
   },
   {
    "duration": 119,
    "start_time": "2022-02-24T18:48:26.397Z"
   },
   {
    "duration": 92,
    "start_time": "2022-02-24T18:48:26.519Z"
   },
   {
    "duration": 58,
    "start_time": "2022-02-24T18:48:26.614Z"
   },
   {
    "duration": 5,
    "start_time": "2022-02-24T18:48:26.695Z"
   },
   {
    "duration": 19,
    "start_time": "2022-02-24T18:48:26.702Z"
   },
   {
    "duration": 80,
    "start_time": "2022-02-24T18:48:26.723Z"
   },
   {
    "duration": 15,
    "start_time": "2022-02-24T18:48:26.805Z"
   },
   {
    "duration": 22,
    "start_time": "2022-02-24T18:48:26.823Z"
   },
   {
    "duration": 6,
    "start_time": "2022-02-24T18:48:26.848Z"
   },
   {
    "duration": 66,
    "start_time": "2022-02-24T18:48:26.856Z"
   },
   {
    "duration": 27,
    "start_time": "2022-02-24T18:48:26.925Z"
   },
   {
    "duration": 59,
    "start_time": "2022-02-24T18:48:26.959Z"
   },
   {
    "duration": 29,
    "start_time": "2022-02-24T18:48:27.022Z"
   },
   {
    "duration": 43,
    "start_time": "2022-02-24T18:48:27.054Z"
   },
   {
    "duration": 28,
    "start_time": "2022-02-24T18:48:27.100Z"
   },
   {
    "duration": 17,
    "start_time": "2022-02-24T18:48:27.133Z"
   },
   {
    "duration": 51,
    "start_time": "2022-02-24T18:48:27.152Z"
   },
   {
    "duration": 13,
    "start_time": "2022-02-24T18:48:27.208Z"
   },
   {
    "duration": 428,
    "start_time": "2022-02-24T18:48:27.223Z"
   },
   {
    "duration": -971,
    "start_time": "2022-02-24T18:48:28.626Z"
   },
   {
    "duration": -970,
    "start_time": "2022-02-24T18:48:28.627Z"
   },
   {
    "duration": -971,
    "start_time": "2022-02-24T18:48:28.629Z"
   },
   {
    "duration": -970,
    "start_time": "2022-02-24T18:48:28.630Z"
   },
   {
    "duration": -970,
    "start_time": "2022-02-24T18:48:28.631Z"
   },
   {
    "duration": -969,
    "start_time": "2022-02-24T18:48:28.632Z"
   },
   {
    "duration": -969,
    "start_time": "2022-02-24T18:48:28.633Z"
   },
   {
    "duration": -969,
    "start_time": "2022-02-24T18:48:28.634Z"
   },
   {
    "duration": 24,
    "start_time": "2022-02-24T18:48:55.050Z"
   },
   {
    "duration": 379,
    "start_time": "2022-02-24T18:50:53.840Z"
   },
   {
    "duration": 392,
    "start_time": "2022-02-24T18:51:08.531Z"
   },
   {
    "duration": 394,
    "start_time": "2022-02-24T18:51:25.760Z"
   },
   {
    "duration": 6,
    "start_time": "2022-02-24T18:51:33.501Z"
   },
   {
    "duration": 5,
    "start_time": "2022-02-24T18:51:39.177Z"
   },
   {
    "duration": 4,
    "start_time": "2022-02-24T18:57:08.305Z"
   },
   {
    "duration": 542,
    "start_time": "2022-02-24T18:57:11.373Z"
   },
   {
    "duration": 6,
    "start_time": "2022-02-24T18:57:40.710Z"
   },
   {
    "duration": 6,
    "start_time": "2022-02-24T18:59:28.612Z"
   },
   {
    "duration": 5,
    "start_time": "2022-02-24T18:59:31.782Z"
   },
   {
    "duration": 5,
    "start_time": "2022-02-24T18:59:37.977Z"
   },
   {
    "duration": 6,
    "start_time": "2022-02-24T18:59:49.407Z"
   },
   {
    "duration": 481,
    "start_time": "2022-02-24T18:59:53.721Z"
   },
   {
    "duration": 466,
    "start_time": "2022-02-24T19:01:22.026Z"
   },
   {
    "duration": 15,
    "start_time": "2022-02-24T19:04:29.665Z"
   },
   {
    "duration": 471,
    "start_time": "2022-02-24T19:14:56.499Z"
   },
   {
    "duration": 8,
    "start_time": "2022-02-24T19:23:21.668Z"
   },
   {
    "duration": 95,
    "start_time": "2022-02-24T19:29:45.814Z"
   },
   {
    "duration": 86,
    "start_time": "2022-02-24T19:30:36.243Z"
   },
   {
    "duration": 6,
    "start_time": "2022-02-24T19:30:50.641Z"
   },
   {
    "duration": 522,
    "start_time": "2022-02-24T19:31:01.049Z"
   },
   {
    "duration": 6,
    "start_time": "2022-02-24T19:31:29.816Z"
   },
   {
    "duration": 13,
    "start_time": "2022-02-24T19:32:36.233Z"
   },
   {
    "duration": 4,
    "start_time": "2022-02-24T19:33:03.313Z"
   },
   {
    "duration": 200,
    "start_time": "2022-02-24T19:33:03.319Z"
   },
   {
    "duration": 17,
    "start_time": "2022-02-24T19:33:03.522Z"
   },
   {
    "duration": 38,
    "start_time": "2022-02-24T19:33:03.541Z"
   },
   {
    "duration": 14,
    "start_time": "2022-02-24T19:33:03.581Z"
   },
   {
    "duration": 29,
    "start_time": "2022-02-24T19:33:03.598Z"
   },
   {
    "duration": 4,
    "start_time": "2022-02-24T19:33:03.630Z"
   },
   {
    "duration": 60,
    "start_time": "2022-02-24T19:33:03.638Z"
   },
   {
    "duration": 24,
    "start_time": "2022-02-24T19:33:03.702Z"
   },
   {
    "duration": 32,
    "start_time": "2022-02-24T19:33:03.729Z"
   },
   {
    "duration": 131,
    "start_time": "2022-02-24T19:33:03.764Z"
   },
   {
    "duration": 109,
    "start_time": "2022-02-24T19:33:03.897Z"
   },
   {
    "duration": 96,
    "start_time": "2022-02-24T19:33:04.009Z"
   },
   {
    "duration": 59,
    "start_time": "2022-02-24T19:33:04.108Z"
   },
   {
    "duration": 23,
    "start_time": "2022-02-24T19:33:04.171Z"
   },
   {
    "duration": 24,
    "start_time": "2022-02-24T19:33:04.196Z"
   },
   {
    "duration": 74,
    "start_time": "2022-02-24T19:33:04.222Z"
   },
   {
    "duration": 15,
    "start_time": "2022-02-24T19:33:04.299Z"
   },
   {
    "duration": 16,
    "start_time": "2022-02-24T19:33:04.317Z"
   },
   {
    "duration": 6,
    "start_time": "2022-02-24T19:33:04.336Z"
   },
   {
    "duration": 64,
    "start_time": "2022-02-24T19:33:04.344Z"
   },
   {
    "duration": 18,
    "start_time": "2022-02-24T19:33:04.411Z"
   },
   {
    "duration": 21,
    "start_time": "2022-02-24T19:33:04.435Z"
   },
   {
    "duration": 19,
    "start_time": "2022-02-24T19:33:04.493Z"
   },
   {
    "duration": 23,
    "start_time": "2022-02-24T19:33:04.515Z"
   },
   {
    "duration": 20,
    "start_time": "2022-02-24T19:33:04.541Z"
   },
   {
    "duration": 13,
    "start_time": "2022-02-24T19:33:04.595Z"
   },
   {
    "duration": 23,
    "start_time": "2022-02-24T19:33:04.611Z"
   },
   {
    "duration": 21,
    "start_time": "2022-02-24T19:33:04.637Z"
   },
   {
    "duration": 7,
    "start_time": "2022-02-24T19:33:04.661Z"
   },
   {
    "duration": 560,
    "start_time": "2022-02-24T19:33:04.694Z"
   },
   {
    "duration": -1043,
    "start_time": "2022-02-24T19:33:06.300Z"
   },
   {
    "duration": -1043,
    "start_time": "2022-02-24T19:33:06.301Z"
   },
   {
    "duration": -1042,
    "start_time": "2022-02-24T19:33:06.302Z"
   },
   {
    "duration": -1043,
    "start_time": "2022-02-24T19:33:06.304Z"
   },
   {
    "duration": -1042,
    "start_time": "2022-02-24T19:33:06.305Z"
   },
   {
    "duration": -1043,
    "start_time": "2022-02-24T19:33:06.307Z"
   },
   {
    "duration": -1042,
    "start_time": "2022-02-24T19:33:06.308Z"
   },
   {
    "duration": 26,
    "start_time": "2022-02-24T19:34:15.437Z"
   },
   {
    "duration": 16,
    "start_time": "2022-02-24T19:34:33.188Z"
   },
   {
    "duration": 15,
    "start_time": "2022-02-24T19:34:33.801Z"
   },
   {
    "duration": 5,
    "start_time": "2022-02-24T19:38:17.452Z"
   },
   {
    "duration": 202,
    "start_time": "2022-02-24T19:38:17.460Z"
   },
   {
    "duration": 28,
    "start_time": "2022-02-24T19:38:17.666Z"
   },
   {
    "duration": 34,
    "start_time": "2022-02-24T19:38:17.697Z"
   },
   {
    "duration": 4,
    "start_time": "2022-02-24T19:38:17.734Z"
   },
   {
    "duration": 53,
    "start_time": "2022-02-24T19:38:17.741Z"
   },
   {
    "duration": 5,
    "start_time": "2022-02-24T19:38:17.797Z"
   },
   {
    "duration": 38,
    "start_time": "2022-02-24T19:38:17.805Z"
   },
   {
    "duration": 52,
    "start_time": "2022-02-24T19:38:17.848Z"
   },
   {
    "duration": 35,
    "start_time": "2022-02-24T19:38:17.904Z"
   },
   {
    "duration": 108,
    "start_time": "2022-02-24T19:38:17.941Z"
   },
   {
    "duration": 114,
    "start_time": "2022-02-24T19:38:18.052Z"
   },
   {
    "duration": 89,
    "start_time": "2022-02-24T19:38:18.168Z"
   },
   {
    "duration": 73,
    "start_time": "2022-02-24T19:38:18.260Z"
   },
   {
    "duration": 4,
    "start_time": "2022-02-24T19:38:18.335Z"
   },
   {
    "duration": 16,
    "start_time": "2022-02-24T19:38:18.342Z"
   },
   {
    "duration": 81,
    "start_time": "2022-02-24T19:38:18.361Z"
   },
   {
    "duration": 20,
    "start_time": "2022-02-24T19:38:18.444Z"
   },
   {
    "duration": 46,
    "start_time": "2022-02-24T19:38:18.467Z"
   },
   {
    "duration": 6,
    "start_time": "2022-02-24T19:38:18.516Z"
   },
   {
    "duration": 27,
    "start_time": "2022-02-24T19:38:18.525Z"
   },
   {
    "duration": 51,
    "start_time": "2022-02-24T19:38:18.555Z"
   },
   {
    "duration": 21,
    "start_time": "2022-02-24T19:38:18.609Z"
   },
   {
    "duration": 21,
    "start_time": "2022-02-24T19:38:18.633Z"
   },
   {
    "duration": 23,
    "start_time": "2022-02-24T19:38:18.693Z"
   },
   {
    "duration": 28,
    "start_time": "2022-02-24T19:38:18.718Z"
   },
   {
    "duration": 45,
    "start_time": "2022-02-24T19:38:18.753Z"
   },
   {
    "duration": 26,
    "start_time": "2022-02-24T19:38:18.802Z"
   },
   {
    "duration": 19,
    "start_time": "2022-02-24T19:38:18.831Z"
   },
   {
    "duration": 5,
    "start_time": "2022-02-24T19:38:18.853Z"
   },
   {
    "duration": 453,
    "start_time": "2022-02-24T19:38:18.893Z"
   },
   {
    "duration": -1000,
    "start_time": "2022-02-24T19:38:20.348Z"
   },
   {
    "duration": -999,
    "start_time": "2022-02-24T19:38:20.349Z"
   },
   {
    "duration": -1000,
    "start_time": "2022-02-24T19:38:20.351Z"
   },
   {
    "duration": -1005,
    "start_time": "2022-02-24T19:38:20.358Z"
   },
   {
    "duration": -1005,
    "start_time": "2022-02-24T19:38:20.359Z"
   },
   {
    "duration": -1006,
    "start_time": "2022-02-24T19:38:20.361Z"
   },
   {
    "duration": -1005,
    "start_time": "2022-02-24T19:38:20.362Z"
   },
   {
    "duration": 6,
    "start_time": "2022-02-24T19:40:37.963Z"
   },
   {
    "duration": 6,
    "start_time": "2022-02-24T19:41:25.404Z"
   },
   {
    "duration": 462,
    "start_time": "2022-02-24T19:41:28.593Z"
   },
   {
    "duration": 7,
    "start_time": "2022-02-24T19:45:38.955Z"
   },
   {
    "duration": 5,
    "start_time": "2022-02-24T19:45:54.758Z"
   },
   {
    "duration": 27,
    "start_time": "2022-02-24T19:45:57.891Z"
   },
   {
    "duration": 20,
    "start_time": "2022-02-24T19:47:16.725Z"
   },
   {
    "duration": 4,
    "start_time": "2022-02-24T19:47:24.431Z"
   },
   {
    "duration": 191,
    "start_time": "2022-02-24T19:47:24.437Z"
   },
   {
    "duration": 15,
    "start_time": "2022-02-24T19:47:24.632Z"
   },
   {
    "duration": 58,
    "start_time": "2022-02-24T19:47:24.650Z"
   },
   {
    "duration": 17,
    "start_time": "2022-02-24T19:47:24.710Z"
   },
   {
    "duration": 28,
    "start_time": "2022-02-24T19:47:24.730Z"
   },
   {
    "duration": 4,
    "start_time": "2022-02-24T19:47:24.761Z"
   },
   {
    "duration": 56,
    "start_time": "2022-02-24T19:47:24.767Z"
   },
   {
    "duration": 23,
    "start_time": "2022-02-24T19:47:24.828Z"
   },
   {
    "duration": 50,
    "start_time": "2022-02-24T19:47:24.854Z"
   },
   {
    "duration": 103,
    "start_time": "2022-02-24T19:47:24.907Z"
   },
   {
    "duration": 108,
    "start_time": "2022-02-24T19:47:25.012Z"
   },
   {
    "duration": 100,
    "start_time": "2022-02-24T19:47:25.122Z"
   },
   {
    "duration": 70,
    "start_time": "2022-02-24T19:47:25.225Z"
   },
   {
    "duration": 5,
    "start_time": "2022-02-24T19:47:25.297Z"
   },
   {
    "duration": 16,
    "start_time": "2022-02-24T19:47:25.305Z"
   },
   {
    "duration": 90,
    "start_time": "2022-02-24T19:47:25.323Z"
   },
   {
    "duration": 19,
    "start_time": "2022-02-24T19:47:25.416Z"
   },
   {
    "duration": 18,
    "start_time": "2022-02-24T19:47:25.437Z"
   },
   {
    "duration": 38,
    "start_time": "2022-02-24T19:47:25.458Z"
   },
   {
    "duration": 25,
    "start_time": "2022-02-24T19:47:25.499Z"
   },
   {
    "duration": 21,
    "start_time": "2022-02-24T19:47:25.528Z"
   },
   {
    "duration": 59,
    "start_time": "2022-02-24T19:47:25.552Z"
   },
   {
    "duration": 25,
    "start_time": "2022-02-24T19:47:25.614Z"
   },
   {
    "duration": 22,
    "start_time": "2022-02-24T19:47:25.642Z"
   },
   {
    "duration": 45,
    "start_time": "2022-02-24T19:47:25.666Z"
   },
   {
    "duration": 13,
    "start_time": "2022-02-24T19:47:25.716Z"
   },
   {
    "duration": 22,
    "start_time": "2022-02-24T19:47:25.732Z"
   },
   {
    "duration": 47,
    "start_time": "2022-02-24T19:47:25.757Z"
   },
   {
    "duration": 5,
    "start_time": "2022-02-24T19:47:25.806Z"
   },
   {
    "duration": 33,
    "start_time": "2022-02-24T19:47:25.814Z"
   },
   {
    "duration": 45,
    "start_time": "2022-02-24T19:47:25.850Z"
   },
   {
    "duration": 4,
    "start_time": "2022-02-24T19:47:25.897Z"
   },
   {
    "duration": 6,
    "start_time": "2022-02-24T19:47:25.903Z"
   },
   {
    "duration": 6,
    "start_time": "2022-02-24T19:47:25.911Z"
   },
   {
    "duration": 13,
    "start_time": "2022-02-24T19:47:25.919Z"
   },
   {
    "duration": 8,
    "start_time": "2022-02-24T19:47:25.934Z"
   },
   {
    "duration": 6,
    "start_time": "2022-02-24T19:47:25.944Z"
   },
   {
    "duration": 6,
    "start_time": "2022-02-24T19:47:59.690Z"
   },
   {
    "duration": 26,
    "start_time": "2022-02-24T19:48:05.552Z"
   },
   {
    "duration": 4,
    "start_time": "2022-02-24T19:48:44.060Z"
   },
   {
    "duration": 189,
    "start_time": "2022-02-24T19:48:44.066Z"
   },
   {
    "duration": 15,
    "start_time": "2022-02-24T19:48:44.258Z"
   },
   {
    "duration": 53,
    "start_time": "2022-02-24T19:48:44.276Z"
   },
   {
    "duration": 5,
    "start_time": "2022-02-24T19:48:44.331Z"
   },
   {
    "duration": 21,
    "start_time": "2022-02-24T19:48:44.338Z"
   },
   {
    "duration": 33,
    "start_time": "2022-02-24T19:48:44.361Z"
   },
   {
    "duration": 35,
    "start_time": "2022-02-24T19:48:44.398Z"
   },
   {
    "duration": 22,
    "start_time": "2022-02-24T19:48:44.436Z"
   },
   {
    "duration": 63,
    "start_time": "2022-02-24T19:48:44.461Z"
   },
   {
    "duration": 114,
    "start_time": "2022-02-24T19:48:44.526Z"
   },
   {
    "duration": 111,
    "start_time": "2022-02-24T19:48:44.643Z"
   },
   {
    "duration": 93,
    "start_time": "2022-02-24T19:48:44.756Z"
   },
   {
    "duration": 65,
    "start_time": "2022-02-24T19:48:44.851Z"
   },
   {
    "duration": 3,
    "start_time": "2022-02-24T19:48:44.919Z"
   },
   {
    "duration": 19,
    "start_time": "2022-02-24T19:48:44.925Z"
   },
   {
    "duration": 77,
    "start_time": "2022-02-24T19:48:44.946Z"
   },
   {
    "duration": 17,
    "start_time": "2022-02-24T19:48:45.026Z"
   },
   {
    "duration": 16,
    "start_time": "2022-02-24T19:48:45.046Z"
   },
   {
    "duration": 5,
    "start_time": "2022-02-24T19:48:45.094Z"
   },
   {
    "duration": 26,
    "start_time": "2022-02-24T19:48:45.102Z"
   },
   {
    "duration": 19,
    "start_time": "2022-02-24T19:48:45.130Z"
   },
   {
    "duration": 42,
    "start_time": "2022-02-24T19:48:45.154Z"
   },
   {
    "duration": 18,
    "start_time": "2022-02-24T19:48:45.199Z"
   },
   {
    "duration": 20,
    "start_time": "2022-02-24T19:48:45.219Z"
   },
   {
    "duration": 19,
    "start_time": "2022-02-24T19:48:45.241Z"
   },
   {
    "duration": 12,
    "start_time": "2022-02-24T19:48:45.293Z"
   },
   {
    "duration": 23,
    "start_time": "2022-02-24T19:48:45.308Z"
   },
   {
    "duration": 16,
    "start_time": "2022-02-24T19:48:45.334Z"
   },
   {
    "duration": 5,
    "start_time": "2022-02-24T19:48:45.353Z"
   },
   {
    "duration": 26,
    "start_time": "2022-02-24T19:48:45.393Z"
   },
   {
    "duration": 19,
    "start_time": "2022-02-24T19:48:45.422Z"
   },
   {
    "duration": 3,
    "start_time": "2022-02-24T19:48:45.443Z"
   },
   {
    "duration": 6,
    "start_time": "2022-02-24T19:48:45.449Z"
   },
   {
    "duration": 40,
    "start_time": "2022-02-24T19:48:45.457Z"
   },
   {
    "duration": 5,
    "start_time": "2022-02-24T19:48:45.500Z"
   },
   {
    "duration": 7,
    "start_time": "2022-02-24T19:48:45.507Z"
   },
   {
    "duration": 6,
    "start_time": "2022-02-24T19:48:45.516Z"
   },
   {
    "duration": 234,
    "start_time": "2022-02-24T19:49:49.085Z"
   },
   {
    "duration": 25,
    "start_time": "2022-02-24T19:49:59.416Z"
   },
   {
    "duration": 18,
    "start_time": "2022-02-24T19:52:08.115Z"
   },
   {
    "duration": 3,
    "start_time": "2022-02-24T19:55:04.012Z"
   },
   {
    "duration": 205,
    "start_time": "2022-02-24T19:55:04.018Z"
   },
   {
    "duration": 16,
    "start_time": "2022-02-24T19:55:04.226Z"
   },
   {
    "duration": 61,
    "start_time": "2022-02-24T19:55:04.245Z"
   },
   {
    "duration": 5,
    "start_time": "2022-02-24T19:55:04.309Z"
   },
   {
    "duration": 27,
    "start_time": "2022-02-24T19:55:04.317Z"
   },
   {
    "duration": 4,
    "start_time": "2022-02-24T19:55:04.347Z"
   },
   {
    "duration": 78,
    "start_time": "2022-02-24T19:55:04.356Z"
   },
   {
    "duration": 32,
    "start_time": "2022-02-24T19:55:04.437Z"
   },
   {
    "duration": 53,
    "start_time": "2022-02-24T19:55:04.471Z"
   },
   {
    "duration": 120,
    "start_time": "2022-02-24T19:55:04.526Z"
   },
   {
    "duration": 123,
    "start_time": "2022-02-24T19:55:04.648Z"
   },
   {
    "duration": 102,
    "start_time": "2022-02-24T19:55:04.774Z"
   },
   {
    "duration": 63,
    "start_time": "2022-02-24T19:55:04.879Z"
   },
   {
    "duration": 94,
    "start_time": "2022-02-24T19:55:04.944Z"
   },
   {
    "duration": 21,
    "start_time": "2022-02-24T19:55:05.041Z"
   },
   {
    "duration": 70,
    "start_time": "2022-02-24T19:55:05.064Z"
   },
   {
    "duration": 25,
    "start_time": "2022-02-24T19:55:05.136Z"
   },
   {
    "duration": 35,
    "start_time": "2022-02-24T19:55:05.163Z"
   },
   {
    "duration": 5,
    "start_time": "2022-02-24T19:55:05.200Z"
   },
   {
    "duration": 29,
    "start_time": "2022-02-24T19:55:05.207Z"
   },
   {
    "duration": 19,
    "start_time": "2022-02-24T19:55:05.239Z"
   },
   {
    "duration": 51,
    "start_time": "2022-02-24T19:55:05.264Z"
   },
   {
    "duration": 20,
    "start_time": "2022-02-24T19:55:05.318Z"
   },
   {
    "duration": 55,
    "start_time": "2022-02-24T19:55:05.340Z"
   },
   {
    "duration": 21,
    "start_time": "2022-02-24T19:55:05.397Z"
   },
   {
    "duration": 40,
    "start_time": "2022-02-24T19:55:05.420Z"
   },
   {
    "duration": 31,
    "start_time": "2022-02-24T19:55:05.463Z"
   },
   {
    "duration": 57,
    "start_time": "2022-02-24T19:55:05.497Z"
   },
   {
    "duration": 6,
    "start_time": "2022-02-24T19:55:05.557Z"
   },
   {
    "duration": 35,
    "start_time": "2022-02-24T19:55:05.567Z"
   },
   {
    "duration": 19,
    "start_time": "2022-02-24T19:55:05.604Z"
   },
   {
    "duration": 24,
    "start_time": "2022-02-24T19:55:05.625Z"
   },
   {
    "duration": 46,
    "start_time": "2022-02-24T19:55:05.652Z"
   },
   {
    "duration": 2,
    "start_time": "2022-02-24T19:55:05.701Z"
   },
   {
    "duration": 6,
    "start_time": "2022-02-24T19:55:05.706Z"
   },
   {
    "duration": 8,
    "start_time": "2022-02-24T19:55:05.715Z"
   },
   {
    "duration": 10,
    "start_time": "2022-02-24T19:55:05.726Z"
   },
   {
    "duration": 3,
    "start_time": "2022-02-24T19:57:16.309Z"
   },
   {
    "duration": 12,
    "start_time": "2022-02-24T20:00:22.869Z"
   },
   {
    "duration": 8,
    "start_time": "2022-02-24T20:00:55.443Z"
   },
   {
    "duration": 9,
    "start_time": "2022-02-24T20:04:26.144Z"
   },
   {
    "duration": 6,
    "start_time": "2022-02-24T20:04:46.478Z"
   },
   {
    "duration": 4,
    "start_time": "2022-02-24T20:06:50.658Z"
   },
   {
    "duration": 200,
    "start_time": "2022-02-24T20:06:50.665Z"
   },
   {
    "duration": 15,
    "start_time": "2022-02-24T20:06:50.868Z"
   },
   {
    "duration": 37,
    "start_time": "2022-02-24T20:06:50.894Z"
   },
   {
    "duration": 4,
    "start_time": "2022-02-24T20:06:50.934Z"
   },
   {
    "duration": 57,
    "start_time": "2022-02-24T20:06:50.940Z"
   },
   {
    "duration": 5,
    "start_time": "2022-02-24T20:06:50.999Z"
   },
   {
    "duration": 35,
    "start_time": "2022-02-24T20:06:51.008Z"
   },
   {
    "duration": 50,
    "start_time": "2022-02-24T20:06:51.046Z"
   },
   {
    "duration": 36,
    "start_time": "2022-02-24T20:06:51.098Z"
   },
   {
    "duration": 105,
    "start_time": "2022-02-24T20:06:51.136Z"
   },
   {
    "duration": 123,
    "start_time": "2022-02-24T20:06:51.243Z"
   },
   {
    "duration": 99,
    "start_time": "2022-02-24T20:06:51.369Z"
   },
   {
    "duration": 73,
    "start_time": "2022-02-24T20:06:51.471Z"
   },
   {
    "duration": 3,
    "start_time": "2022-02-24T20:06:51.547Z"
   },
   {
    "duration": 20,
    "start_time": "2022-02-24T20:06:51.552Z"
   },
   {
    "duration": 78,
    "start_time": "2022-02-24T20:06:51.574Z"
   },
   {
    "duration": 40,
    "start_time": "2022-02-24T20:06:51.655Z"
   },
   {
    "duration": 20,
    "start_time": "2022-02-24T20:06:51.698Z"
   },
   {
    "duration": 6,
    "start_time": "2022-02-24T20:06:51.720Z"
   },
   {
    "duration": 26,
    "start_time": "2022-02-24T20:06:51.729Z"
   },
   {
    "duration": 54,
    "start_time": "2022-02-24T20:06:51.757Z"
   },
   {
    "duration": 20,
    "start_time": "2022-02-24T20:06:51.817Z"
   },
   {
    "duration": 60,
    "start_time": "2022-02-24T20:06:51.840Z"
   },
   {
    "duration": 24,
    "start_time": "2022-02-24T20:06:51.903Z"
   },
   {
    "duration": 21,
    "start_time": "2022-02-24T20:06:51.930Z"
   },
   {
    "duration": 41,
    "start_time": "2022-02-24T20:06:51.954Z"
   },
   {
    "duration": 25,
    "start_time": "2022-02-24T20:06:51.998Z"
   },
   {
    "duration": 16,
    "start_time": "2022-02-24T20:06:52.026Z"
   },
   {
    "duration": 6,
    "start_time": "2022-02-24T20:06:52.044Z"
   },
   {
    "duration": 63,
    "start_time": "2022-02-24T20:06:52.053Z"
   },
   {
    "duration": 20,
    "start_time": "2022-02-24T20:06:52.119Z"
   },
   {
    "duration": 24,
    "start_time": "2022-02-24T20:06:52.141Z"
   },
   {
    "duration": 41,
    "start_time": "2022-02-24T20:06:52.167Z"
   },
   {
    "duration": 13,
    "start_time": "2022-02-24T20:06:52.210Z"
   },
   {
    "duration": 7,
    "start_time": "2022-02-24T20:06:52.225Z"
   },
   {
    "duration": 13,
    "start_time": "2022-02-24T20:06:52.234Z"
   },
   {
    "duration": 5,
    "start_time": "2022-02-24T20:06:52.250Z"
   },
   {
    "duration": 849,
    "start_time": "2022-03-06T11:06:03.506Z"
   },
   {
    "duration": 198,
    "start_time": "2022-03-06T11:06:04.358Z"
   },
   {
    "duration": 26,
    "start_time": "2022-03-06T11:06:04.559Z"
   },
   {
    "duration": 54,
    "start_time": "2022-03-06T11:06:04.587Z"
   },
   {
    "duration": 5,
    "start_time": "2022-03-06T11:06:04.644Z"
   },
   {
    "duration": 29,
    "start_time": "2022-03-06T11:06:04.651Z"
   },
   {
    "duration": 4,
    "start_time": "2022-03-06T11:06:04.682Z"
   },
   {
    "duration": 72,
    "start_time": "2022-03-06T11:06:04.690Z"
   },
   {
    "duration": 21,
    "start_time": "2022-03-06T11:06:04.765Z"
   },
   {
    "duration": 48,
    "start_time": "2022-03-06T11:06:04.789Z"
   },
   {
    "duration": 97,
    "start_time": "2022-03-06T11:06:04.840Z"
   },
   {
    "duration": 94,
    "start_time": "2022-03-06T11:06:04.940Z"
   },
   {
    "duration": 80,
    "start_time": "2022-03-06T11:06:05.037Z"
   },
   {
    "duration": 57,
    "start_time": "2022-03-06T11:06:05.131Z"
   },
   {
    "duration": 4,
    "start_time": "2022-03-06T11:06:05.191Z"
   },
   {
    "duration": 41,
    "start_time": "2022-03-06T11:06:05.198Z"
   },
   {
    "duration": 56,
    "start_time": "2022-03-06T11:06:05.241Z"
   },
   {
    "duration": 36,
    "start_time": "2022-03-06T11:06:05.299Z"
   },
   {
    "duration": 15,
    "start_time": "2022-03-06T11:06:05.338Z"
   },
   {
    "duration": 5,
    "start_time": "2022-03-06T11:06:05.355Z"
   },
   {
    "duration": 29,
    "start_time": "2022-03-06T11:06:05.363Z"
   },
   {
    "duration": 47,
    "start_time": "2022-03-06T11:06:05.394Z"
   },
   {
    "duration": 19,
    "start_time": "2022-03-06T11:06:05.446Z"
   },
   {
    "duration": 17,
    "start_time": "2022-03-06T11:06:05.468Z"
   },
   {
    "duration": 54,
    "start_time": "2022-03-06T11:06:05.488Z"
   },
   {
    "duration": 20,
    "start_time": "2022-03-06T11:06:05.544Z"
   },
   {
    "duration": 12,
    "start_time": "2022-03-06T11:06:05.566Z"
   },
   {
    "duration": 60,
    "start_time": "2022-03-06T11:06:05.581Z"
   },
   {
    "duration": 15,
    "start_time": "2022-03-06T11:06:05.643Z"
   },
   {
    "duration": 7,
    "start_time": "2022-03-06T11:06:05.661Z"
   },
   {
    "duration": 31,
    "start_time": "2022-03-06T11:06:05.670Z"
   },
   {
    "duration": 45,
    "start_time": "2022-03-06T11:06:05.703Z"
   },
   {
    "duration": 24,
    "start_time": "2022-03-06T11:06:05.750Z"
   },
   {
    "duration": 18,
    "start_time": "2022-03-06T11:06:05.776Z"
   },
   {
    "duration": 43,
    "start_time": "2022-03-06T11:06:05.796Z"
   },
   {
    "duration": 5,
    "start_time": "2022-03-06T11:06:05.842Z"
   },
   {
    "duration": 12,
    "start_time": "2022-03-06T11:06:05.850Z"
   },
   {
    "duration": 8,
    "start_time": "2022-03-06T11:06:05.864Z"
   },
   {
    "duration": 819,
    "start_time": "2022-03-06T11:07:36.372Z"
   },
   {
    "duration": 184,
    "start_time": "2022-03-06T11:07:37.194Z"
   },
   {
    "duration": 25,
    "start_time": "2022-03-06T11:07:37.382Z"
   },
   {
    "duration": 49,
    "start_time": "2022-03-06T11:07:37.411Z"
   },
   {
    "duration": 5,
    "start_time": "2022-03-06T11:07:37.463Z"
   },
   {
    "duration": 62,
    "start_time": "2022-03-06T11:07:37.471Z"
   },
   {
    "duration": 5,
    "start_time": "2022-03-06T11:07:37.535Z"
   },
   {
    "duration": 31,
    "start_time": "2022-03-06T11:07:37.544Z"
   },
   {
    "duration": 22,
    "start_time": "2022-03-06T11:07:37.578Z"
   },
   {
    "duration": 32,
    "start_time": "2022-03-06T11:07:37.633Z"
   },
   {
    "duration": 99,
    "start_time": "2022-03-06T11:07:37.668Z"
   },
   {
    "duration": 112,
    "start_time": "2022-03-06T11:07:37.769Z"
   },
   {
    "duration": 104,
    "start_time": "2022-03-06T11:07:37.883Z"
   },
   {
    "duration": 67,
    "start_time": "2022-03-06T11:07:37.990Z"
   },
   {
    "duration": 5,
    "start_time": "2022-03-06T11:07:38.060Z"
   },
   {
    "duration": 21,
    "start_time": "2022-03-06T11:07:38.068Z"
   },
   {
    "duration": 119,
    "start_time": "2022-03-06T11:07:38.092Z"
   },
   {
    "duration": 32,
    "start_time": "2022-03-06T11:07:38.214Z"
   },
   {
    "duration": 15,
    "start_time": "2022-03-06T11:07:38.248Z"
   },
   {
    "duration": 6,
    "start_time": "2022-03-06T11:07:38.266Z"
   },
   {
    "duration": 61,
    "start_time": "2022-03-06T11:07:38.275Z"
   },
   {
    "duration": 19,
    "start_time": "2022-03-06T11:07:38.338Z"
   },
   {
    "duration": 20,
    "start_time": "2022-03-06T11:07:38.362Z"
   },
   {
    "duration": 53,
    "start_time": "2022-03-06T11:07:38.386Z"
   },
   {
    "duration": 23,
    "start_time": "2022-03-06T11:07:38.442Z"
   },
   {
    "duration": 18,
    "start_time": "2022-03-06T11:07:38.468Z"
   },
   {
    "duration": 48,
    "start_time": "2022-03-06T11:07:38.488Z"
   },
   {
    "duration": 16,
    "start_time": "2022-03-06T11:07:38.539Z"
   },
   {
    "duration": 13,
    "start_time": "2022-03-06T11:07:38.557Z"
   },
   {
    "duration": 5,
    "start_time": "2022-03-06T11:07:38.573Z"
   },
   {
    "duration": 65,
    "start_time": "2022-03-06T11:07:38.581Z"
   },
   {
    "duration": 18,
    "start_time": "2022-03-06T11:07:38.648Z"
   },
   {
    "duration": 23,
    "start_time": "2022-03-06T11:07:38.668Z"
   },
   {
    "duration": 49,
    "start_time": "2022-03-06T11:07:38.693Z"
   },
   {
    "duration": 11,
    "start_time": "2022-03-06T11:07:38.745Z"
   },
   {
    "duration": 6,
    "start_time": "2022-03-06T11:07:38.758Z"
   },
   {
    "duration": 12,
    "start_time": "2022-03-06T11:07:38.766Z"
   },
   {
    "duration": 6,
    "start_time": "2022-03-06T11:07:38.780Z"
   },
   {
    "duration": 278,
    "start_time": "2022-03-06T11:08:25.963Z"
   },
   {
    "duration": 254,
    "start_time": "2022-03-06T11:08:39.743Z"
   },
   {
    "duration": -382,
    "start_time": "2022-03-06T11:08:40.382Z"
   },
   {
    "duration": -384,
    "start_time": "2022-03-06T11:08:40.386Z"
   },
   {
    "duration": -389,
    "start_time": "2022-03-06T11:08:40.392Z"
   },
   {
    "duration": -391,
    "start_time": "2022-03-06T11:08:40.396Z"
   },
   {
    "duration": 681,
    "start_time": "2022-03-06T11:08:40.038Z"
   },
   {
    "duration": -605,
    "start_time": "2022-03-06T11:08:41.330Z"
   },
   {
    "duration": -608,
    "start_time": "2022-03-06T11:08:41.335Z"
   },
   {
    "duration": -611,
    "start_time": "2022-03-06T11:08:41.339Z"
   },
   {
    "duration": -612,
    "start_time": "2022-03-06T11:08:41.342Z"
   },
   {
    "duration": -616,
    "start_time": "2022-03-06T11:08:41.348Z"
   },
   {
    "duration": -628,
    "start_time": "2022-03-06T11:08:41.362Z"
   },
   {
    "duration": -629,
    "start_time": "2022-03-06T11:08:41.365Z"
   },
   {
    "duration": -632,
    "start_time": "2022-03-06T11:08:41.369Z"
   },
   {
    "duration": -632,
    "start_time": "2022-03-06T11:08:41.372Z"
   },
   {
    "duration": -633,
    "start_time": "2022-03-06T11:08:41.375Z"
   },
   {
    "duration": -635,
    "start_time": "2022-03-06T11:08:41.379Z"
   },
   {
    "duration": -637,
    "start_time": "2022-03-06T11:08:41.382Z"
   },
   {
    "duration": -644,
    "start_time": "2022-03-06T11:08:41.391Z"
   },
   {
    "duration": -647,
    "start_time": "2022-03-06T11:08:41.395Z"
   },
   {
    "duration": -651,
    "start_time": "2022-03-06T11:08:41.401Z"
   },
   {
    "duration": -653,
    "start_time": "2022-03-06T11:08:41.404Z"
   },
   {
    "duration": -655,
    "start_time": "2022-03-06T11:08:41.408Z"
   },
   {
    "duration": -657,
    "start_time": "2022-03-06T11:08:41.411Z"
   },
   {
    "duration": -659,
    "start_time": "2022-03-06T11:08:41.414Z"
   },
   {
    "duration": -660,
    "start_time": "2022-03-06T11:08:41.417Z"
   },
   {
    "duration": -669,
    "start_time": "2022-03-06T11:08:41.427Z"
   },
   {
    "duration": -670,
    "start_time": "2022-03-06T11:08:41.430Z"
   },
   {
    "duration": -674,
    "start_time": "2022-03-06T11:08:41.435Z"
   },
   {
    "duration": -675,
    "start_time": "2022-03-06T11:08:41.438Z"
   },
   {
    "duration": -677,
    "start_time": "2022-03-06T11:08:41.441Z"
   },
   {
    "duration": -678,
    "start_time": "2022-03-06T11:08:41.444Z"
   },
   {
    "duration": -680,
    "start_time": "2022-03-06T11:08:41.447Z"
   },
   {
    "duration": -683,
    "start_time": "2022-03-06T11:08:41.451Z"
   },
   {
    "duration": -691,
    "start_time": "2022-03-06T11:08:41.461Z"
   },
   {
    "duration": -692,
    "start_time": "2022-03-06T11:08:41.464Z"
   },
   {
    "duration": -638,
    "start_time": "2022-03-06T11:08:41.470Z"
   },
   {
    "duration": -639,
    "start_time": "2022-03-06T11:08:41.473Z"
   },
   {
    "duration": -640,
    "start_time": "2022-03-06T11:08:41.476Z"
   },
   {
    "duration": 881,
    "start_time": "2022-03-06T11:09:07.406Z"
   },
   {
    "duration": 188,
    "start_time": "2022-03-06T11:09:08.289Z"
   },
   {
    "duration": 28,
    "start_time": "2022-03-06T11:09:08.480Z"
   },
   {
    "duration": 48,
    "start_time": "2022-03-06T11:09:08.512Z"
   },
   {
    "duration": 5,
    "start_time": "2022-03-06T11:09:08.562Z"
   },
   {
    "duration": 30,
    "start_time": "2022-03-06T11:09:08.569Z"
   },
   {
    "duration": 34,
    "start_time": "2022-03-06T11:09:08.601Z"
   },
   {
    "duration": 31,
    "start_time": "2022-03-06T11:09:08.640Z"
   },
   {
    "duration": 23,
    "start_time": "2022-03-06T11:09:08.674Z"
   },
   {
    "duration": 31,
    "start_time": "2022-03-06T11:09:08.732Z"
   },
   {
    "duration": 115,
    "start_time": "2022-03-06T11:09:08.766Z"
   },
   {
    "duration": 121,
    "start_time": "2022-03-06T11:09:08.884Z"
   },
   {
    "duration": 92,
    "start_time": "2022-03-06T11:09:09.007Z"
   },
   {
    "duration": 63,
    "start_time": "2022-03-06T11:09:09.101Z"
   },
   {
    "duration": 4,
    "start_time": "2022-03-06T11:09:09.166Z"
   },
   {
    "duration": 20,
    "start_time": "2022-03-06T11:09:09.172Z"
   },
   {
    "duration": 87,
    "start_time": "2022-03-06T11:09:09.195Z"
   },
   {
    "duration": 15,
    "start_time": "2022-03-06T11:09:09.285Z"
   },
   {
    "duration": 38,
    "start_time": "2022-03-06T11:09:09.302Z"
   },
   {
    "duration": 5,
    "start_time": "2022-03-06T11:09:09.342Z"
   },
   {
    "duration": 35,
    "start_time": "2022-03-06T11:09:09.350Z"
   },
   {
    "duration": 46,
    "start_time": "2022-03-06T11:09:09.388Z"
   },
   {
    "duration": 22,
    "start_time": "2022-03-06T11:09:09.441Z"
   },
   {
    "duration": 19,
    "start_time": "2022-03-06T11:09:09.466Z"
   },
   {
    "duration": 51,
    "start_time": "2022-03-06T11:09:09.488Z"
   },
   {
    "duration": 18,
    "start_time": "2022-03-06T11:09:09.542Z"
   },
   {
    "duration": 17,
    "start_time": "2022-03-06T11:09:09.563Z"
   },
   {
    "duration": 53,
    "start_time": "2022-03-06T11:09:09.582Z"
   },
   {
    "duration": 13,
    "start_time": "2022-03-06T11:09:09.638Z"
   },
   {
    "duration": 6,
    "start_time": "2022-03-06T11:09:09.654Z"
   },
   {
    "duration": 69,
    "start_time": "2022-03-06T11:09:09.664Z"
   },
   {
    "duration": 19,
    "start_time": "2022-03-06T11:09:09.736Z"
   },
   {
    "duration": 24,
    "start_time": "2022-03-06T11:09:09.757Z"
   },
   {
    "duration": 54,
    "start_time": "2022-03-06T11:09:09.784Z"
   },
   {
    "duration": 13,
    "start_time": "2022-03-06T11:09:09.840Z"
   },
   {
    "duration": 6,
    "start_time": "2022-03-06T11:09:09.855Z"
   },
   {
    "duration": 9,
    "start_time": "2022-03-06T11:09:09.864Z"
   },
   {
    "duration": 7,
    "start_time": "2022-03-06T11:09:09.875Z"
   },
   {
    "duration": 797,
    "start_time": "2022-03-06T11:12:51.383Z"
   },
   {
    "duration": 188,
    "start_time": "2022-03-06T11:12:52.182Z"
   },
   {
    "duration": 113,
    "start_time": "2022-03-06T11:12:52.373Z"
   },
   {
    "duration": -385,
    "start_time": "2022-03-06T11:12:52.876Z"
   },
   {
    "duration": -388,
    "start_time": "2022-03-06T11:12:52.881Z"
   },
   {
    "duration": -391,
    "start_time": "2022-03-06T11:12:52.885Z"
   },
   {
    "duration": -394,
    "start_time": "2022-03-06T11:12:52.889Z"
   },
   {
    "duration": -395,
    "start_time": "2022-03-06T11:12:52.892Z"
   },
   {
    "duration": -398,
    "start_time": "2022-03-06T11:12:52.896Z"
   },
   {
    "duration": -400,
    "start_time": "2022-03-06T11:12:52.900Z"
   },
   {
    "duration": -403,
    "start_time": "2022-03-06T11:12:52.904Z"
   },
   {
    "duration": -406,
    "start_time": "2022-03-06T11:12:52.909Z"
   },
   {
    "duration": -410,
    "start_time": "2022-03-06T11:12:52.914Z"
   },
   {
    "duration": -421,
    "start_time": "2022-03-06T11:12:52.926Z"
   },
   {
    "duration": -423,
    "start_time": "2022-03-06T11:12:52.930Z"
   },
   {
    "duration": -426,
    "start_time": "2022-03-06T11:12:52.934Z"
   },
   {
    "duration": -428,
    "start_time": "2022-03-06T11:12:52.937Z"
   },
   {
    "duration": -430,
    "start_time": "2022-03-06T11:12:52.941Z"
   },
   {
    "duration": -432,
    "start_time": "2022-03-06T11:12:52.944Z"
   },
   {
    "duration": -435,
    "start_time": "2022-03-06T11:12:52.948Z"
   },
   {
    "duration": -437,
    "start_time": "2022-03-06T11:12:52.952Z"
   },
   {
    "duration": -439,
    "start_time": "2022-03-06T11:12:52.955Z"
   },
   {
    "duration": -440,
    "start_time": "2022-03-06T11:12:52.958Z"
   },
   {
    "duration": -443,
    "start_time": "2022-03-06T11:12:52.962Z"
   },
   {
    "duration": -445,
    "start_time": "2022-03-06T11:12:52.966Z"
   },
   {
    "duration": -447,
    "start_time": "2022-03-06T11:12:52.969Z"
   },
   {
    "duration": -450,
    "start_time": "2022-03-06T11:12:52.973Z"
   },
   {
    "duration": -452,
    "start_time": "2022-03-06T11:12:52.977Z"
   },
   {
    "duration": -455,
    "start_time": "2022-03-06T11:12:52.981Z"
   },
   {
    "duration": -457,
    "start_time": "2022-03-06T11:12:52.985Z"
   },
   {
    "duration": -459,
    "start_time": "2022-03-06T11:12:52.988Z"
   },
   {
    "duration": -462,
    "start_time": "2022-03-06T11:12:52.992Z"
   },
   {
    "duration": -464,
    "start_time": "2022-03-06T11:12:52.995Z"
   },
   {
    "duration": -467,
    "start_time": "2022-03-06T11:12:53.000Z"
   },
   {
    "duration": -470,
    "start_time": "2022-03-06T11:12:53.004Z"
   },
   {
    "duration": -473,
    "start_time": "2022-03-06T11:12:53.008Z"
   },
   {
    "duration": -474,
    "start_time": "2022-03-06T11:12:53.011Z"
   },
   {
    "duration": -477,
    "start_time": "2022-03-06T11:12:53.015Z"
   },
   {
    "duration": 26,
    "start_time": "2022-03-06T11:13:20.646Z"
   },
   {
    "duration": 112,
    "start_time": "2022-03-06T11:13:26.229Z"
   },
   {
    "duration": 16,
    "start_time": "2022-03-06T11:13:31.446Z"
   },
   {
    "duration": 123,
    "start_time": "2022-03-06T11:14:11.531Z"
   },
   {
    "duration": 786,
    "start_time": "2022-03-06T11:14:36.118Z"
   },
   {
    "duration": 189,
    "start_time": "2022-03-06T11:14:36.912Z"
   },
   {
    "duration": 37,
    "start_time": "2022-03-06T11:14:37.104Z"
   },
   {
    "duration": 31,
    "start_time": "2022-03-06T11:14:37.144Z"
   },
   {
    "duration": 4,
    "start_time": "2022-03-06T11:14:37.178Z"
   },
   {
    "duration": 62,
    "start_time": "2022-03-06T11:14:37.185Z"
   },
   {
    "duration": 4,
    "start_time": "2022-03-06T11:14:37.251Z"
   },
   {
    "duration": 32,
    "start_time": "2022-03-06T11:14:37.257Z"
   },
   {
    "duration": 45,
    "start_time": "2022-03-06T11:14:37.292Z"
   },
   {
    "duration": 31,
    "start_time": "2022-03-06T11:14:37.340Z"
   },
   {
    "duration": 107,
    "start_time": "2022-03-06T11:14:37.373Z"
   },
   {
    "duration": 112,
    "start_time": "2022-03-06T11:14:37.482Z"
   },
   {
    "duration": 87,
    "start_time": "2022-03-06T11:14:37.596Z"
   },
   {
    "duration": 59,
    "start_time": "2022-03-06T11:14:37.686Z"
   },
   {
    "duration": 4,
    "start_time": "2022-03-06T11:14:37.748Z"
   },
   {
    "duration": 16,
    "start_time": "2022-03-06T11:14:37.754Z"
   },
   {
    "duration": 86,
    "start_time": "2022-03-06T11:14:37.773Z"
   },
   {
    "duration": 18,
    "start_time": "2022-03-06T11:14:37.862Z"
   },
   {
    "duration": 51,
    "start_time": "2022-03-06T11:14:37.883Z"
   },
   {
    "duration": 6,
    "start_time": "2022-03-06T11:14:37.937Z"
   },
   {
    "duration": 30,
    "start_time": "2022-03-06T11:14:37.946Z"
   },
   {
    "duration": 19,
    "start_time": "2022-03-06T11:14:37.981Z"
   },
   {
    "duration": 27,
    "start_time": "2022-03-06T11:14:38.034Z"
   },
   {
    "duration": 19,
    "start_time": "2022-03-06T11:14:38.064Z"
   },
   {
    "duration": 55,
    "start_time": "2022-03-06T11:14:38.085Z"
   },
   {
    "duration": 25,
    "start_time": "2022-03-06T11:14:38.142Z"
   },
   {
    "duration": 12,
    "start_time": "2022-03-06T11:14:38.170Z"
   },
   {
    "duration": 59,
    "start_time": "2022-03-06T11:14:38.185Z"
   },
   {
    "duration": 14,
    "start_time": "2022-03-06T11:14:38.247Z"
   },
   {
    "duration": 6,
    "start_time": "2022-03-06T11:14:38.264Z"
   },
   {
    "duration": 27,
    "start_time": "2022-03-06T11:14:38.273Z"
   },
   {
    "duration": 49,
    "start_time": "2022-03-06T11:14:38.303Z"
   },
   {
    "duration": 23,
    "start_time": "2022-03-06T11:14:38.355Z"
   },
   {
    "duration": 54,
    "start_time": "2022-03-06T11:14:38.381Z"
   },
   {
    "duration": 13,
    "start_time": "2022-03-06T11:14:38.438Z"
   },
   {
    "duration": 7,
    "start_time": "2022-03-06T11:14:38.454Z"
   },
   {
    "duration": 12,
    "start_time": "2022-03-06T11:14:38.464Z"
   },
   {
    "duration": 6,
    "start_time": "2022-03-06T11:14:38.478Z"
   },
   {
    "duration": 189,
    "start_time": "2022-03-06T11:17:03.434Z"
   },
   {
    "duration": 187,
    "start_time": "2022-03-06T11:17:05.589Z"
   },
   {
    "duration": 16,
    "start_time": "2022-03-06T11:17:10.345Z"
   },
   {
    "duration": 134,
    "start_time": "2022-03-06T11:23:26.059Z"
   },
   {
    "duration": 16,
    "start_time": "2022-03-06T11:27:46.835Z"
   },
   {
    "duration": 16,
    "start_time": "2022-03-06T11:27:53.568Z"
   },
   {
    "duration": 16,
    "start_time": "2022-03-06T11:27:57.036Z"
   },
   {
    "duration": 6,
    "start_time": "2022-03-06T11:29:01.845Z"
   },
   {
    "duration": 116,
    "start_time": "2022-03-06T11:29:21.625Z"
   },
   {
    "duration": 5,
    "start_time": "2022-03-06T11:30:03.334Z"
   },
   {
    "duration": 13,
    "start_time": "2022-03-06T11:38:17.850Z"
   },
   {
    "duration": 6,
    "start_time": "2022-03-06T11:44:02.045Z"
   },
   {
    "duration": 796,
    "start_time": "2022-03-06T11:45:52.219Z"
   },
   {
    "duration": 207,
    "start_time": "2022-03-06T11:45:53.017Z"
   },
   {
    "duration": 25,
    "start_time": "2022-03-06T11:45:53.231Z"
   },
   {
    "duration": 34,
    "start_time": "2022-03-06T11:45:53.260Z"
   },
   {
    "duration": 6,
    "start_time": "2022-03-06T11:45:53.297Z"
   },
   {
    "duration": 27,
    "start_time": "2022-03-06T11:45:53.333Z"
   },
   {
    "duration": 11,
    "start_time": "2022-03-06T11:45:53.362Z"
   },
   {
    "duration": 35,
    "start_time": "2022-03-06T11:45:53.376Z"
   },
   {
    "duration": 22,
    "start_time": "2022-03-06T11:45:53.435Z"
   },
   {
    "duration": 31,
    "start_time": "2022-03-06T11:45:53.460Z"
   },
   {
    "duration": 111,
    "start_time": "2022-03-06T11:45:53.493Z"
   },
   {
    "duration": 106,
    "start_time": "2022-03-06T11:45:53.607Z"
   },
   {
    "duration": 86,
    "start_time": "2022-03-06T11:45:53.715Z"
   },
   {
    "duration": 60,
    "start_time": "2022-03-06T11:45:53.804Z"
   },
   {
    "duration": 3,
    "start_time": "2022-03-06T11:45:53.867Z"
   },
   {
    "duration": 15,
    "start_time": "2022-03-06T11:45:53.873Z"
   },
   {
    "duration": 80,
    "start_time": "2022-03-06T11:45:53.890Z"
   },
   {
    "duration": 15,
    "start_time": "2022-03-06T11:45:53.973Z"
   },
   {
    "duration": 13,
    "start_time": "2022-03-06T11:45:53.990Z"
   },
   {
    "duration": 5,
    "start_time": "2022-03-06T11:45:54.034Z"
   },
   {
    "duration": 23,
    "start_time": "2022-03-06T11:45:54.042Z"
   },
   {
    "duration": 18,
    "start_time": "2022-03-06T11:45:54.067Z"
   },
   {
    "duration": 47,
    "start_time": "2022-03-06T11:45:54.090Z"
   },
   {
    "duration": 18,
    "start_time": "2022-03-06T11:45:54.141Z"
   },
   {
    "duration": 21,
    "start_time": "2022-03-06T11:45:54.161Z"
   },
   {
    "duration": 49,
    "start_time": "2022-03-06T11:45:54.184Z"
   },
   {
    "duration": 11,
    "start_time": "2022-03-06T11:45:54.236Z"
   },
   {
    "duration": 15,
    "start_time": "2022-03-06T11:45:54.250Z"
   },
   {
    "duration": 12,
    "start_time": "2022-03-06T11:45:54.267Z"
   },
   {
    "duration": 6,
    "start_time": "2022-03-06T11:45:54.282Z"
   },
   {
    "duration": 63,
    "start_time": "2022-03-06T11:45:54.290Z"
   },
   {
    "duration": 18,
    "start_time": "2022-03-06T11:45:54.356Z"
   },
   {
    "duration": 65,
    "start_time": "2022-03-06T11:45:54.377Z"
   },
   {
    "duration": 19,
    "start_time": "2022-03-06T11:45:54.445Z"
   },
   {
    "duration": 13,
    "start_time": "2022-03-06T11:45:54.466Z"
   },
   {
    "duration": 6,
    "start_time": "2022-03-06T11:45:54.481Z"
   },
   {
    "duration": 45,
    "start_time": "2022-03-06T11:45:54.489Z"
   },
   {
    "duration": 5,
    "start_time": "2022-03-06T11:45:54.537Z"
   },
   {
    "duration": 391,
    "start_time": "2022-08-18T10:30:56.992Z"
   },
   {
    "duration": 441,
    "start_time": "2022-08-18T10:30:57.385Z"
   },
   {
    "duration": 17,
    "start_time": "2022-08-18T10:30:57.828Z"
   },
   {
    "duration": 28,
    "start_time": "2022-08-18T10:30:57.847Z"
   },
   {
    "duration": 4,
    "start_time": "2022-08-18T10:30:57.876Z"
   },
   {
    "duration": 12,
    "start_time": "2022-08-18T10:30:57.882Z"
   },
   {
    "duration": 12,
    "start_time": "2022-08-18T10:30:57.896Z"
   },
   {
    "duration": 23,
    "start_time": "2022-08-18T10:30:57.910Z"
   },
   {
    "duration": 19,
    "start_time": "2022-08-18T10:30:57.934Z"
   },
   {
    "duration": 21,
    "start_time": "2022-08-18T10:30:57.955Z"
   },
   {
    "duration": 62,
    "start_time": "2022-08-18T10:30:58.006Z"
   },
   {
    "duration": 89,
    "start_time": "2022-08-18T10:30:58.070Z"
   },
   {
    "duration": 66,
    "start_time": "2022-08-18T10:30:58.160Z"
   },
   {
    "duration": 32,
    "start_time": "2022-08-18T10:30:58.227Z"
   },
   {
    "duration": 3,
    "start_time": "2022-08-18T10:30:58.260Z"
   },
   {
    "duration": 12,
    "start_time": "2022-08-18T10:30:58.265Z"
   },
   {
    "duration": 60,
    "start_time": "2022-08-18T10:30:58.279Z"
   },
   {
    "duration": 12,
    "start_time": "2022-08-18T10:30:58.341Z"
   },
   {
    "duration": 12,
    "start_time": "2022-08-18T10:30:58.355Z"
   },
   {
    "duration": 5,
    "start_time": "2022-08-18T10:30:58.369Z"
   },
   {
    "duration": 38,
    "start_time": "2022-08-18T10:30:58.375Z"
   },
   {
    "duration": 13,
    "start_time": "2022-08-18T10:30:58.414Z"
   },
   {
    "duration": 15,
    "start_time": "2022-08-18T10:30:58.428Z"
   },
   {
    "duration": 14,
    "start_time": "2022-08-18T10:30:58.444Z"
   },
   {
    "duration": 18,
    "start_time": "2022-08-18T10:30:58.460Z"
   },
   {
    "duration": 13,
    "start_time": "2022-08-18T10:30:58.506Z"
   },
   {
    "duration": 9,
    "start_time": "2022-08-18T10:30:58.521Z"
   },
   {
    "duration": 13,
    "start_time": "2022-08-18T10:30:58.532Z"
   },
   {
    "duration": 12,
    "start_time": "2022-08-18T10:30:58.547Z"
   },
   {
    "duration": 4,
    "start_time": "2022-08-18T10:30:58.560Z"
   },
   {
    "duration": 65,
    "start_time": "2022-08-18T10:30:58.566Z"
   },
   {
    "duration": 12,
    "start_time": "2022-08-18T10:30:58.634Z"
   },
   {
    "duration": 20,
    "start_time": "2022-08-18T10:30:58.648Z"
   },
   {
    "duration": 11,
    "start_time": "2022-08-18T10:30:58.669Z"
   },
   {
    "duration": 11,
    "start_time": "2022-08-18T10:30:58.706Z"
   },
   {
    "duration": 26,
    "start_time": "2022-08-18T10:30:58.719Z"
   },
   {
    "duration": 12,
    "start_time": "2022-08-18T10:30:58.747Z"
   },
   {
    "duration": 15,
    "start_time": "2022-08-18T10:30:58.760Z"
   },
   {
    "duration": 389,
    "start_time": "2022-08-18T10:32:25.302Z"
   },
   {
    "duration": 153,
    "start_time": "2022-08-18T10:32:25.693Z"
   },
   {
    "duration": 17,
    "start_time": "2022-08-18T10:32:25.848Z"
   },
   {
    "duration": 50,
    "start_time": "2022-08-18T10:32:25.867Z"
   },
   {
    "duration": 4,
    "start_time": "2022-08-18T10:32:25.919Z"
   },
   {
    "duration": 25,
    "start_time": "2022-08-18T10:32:25.925Z"
   },
   {
    "duration": 12,
    "start_time": "2022-08-18T10:32:25.951Z"
   },
   {
    "duration": 26,
    "start_time": "2022-08-18T10:32:25.965Z"
   },
   {
    "duration": 44,
    "start_time": "2022-08-18T10:32:25.993Z"
   },
   {
    "duration": 64,
    "start_time": "2022-08-18T10:32:26.040Z"
   },
   {
    "duration": 99,
    "start_time": "2022-08-18T10:32:26.106Z"
   },
   {
    "duration": 114,
    "start_time": "2022-08-18T10:32:26.207Z"
   },
   {
    "duration": 112,
    "start_time": "2022-08-18T10:32:26.324Z"
   },
   {
    "duration": 43,
    "start_time": "2022-08-18T10:32:26.437Z"
   },
   {
    "duration": 4,
    "start_time": "2022-08-18T10:32:26.482Z"
   },
   {
    "duration": 33,
    "start_time": "2022-08-18T10:32:26.489Z"
   },
   {
    "duration": 59,
    "start_time": "2022-08-18T10:32:26.524Z"
   },
   {
    "duration": 34,
    "start_time": "2022-08-18T10:32:26.585Z"
   },
   {
    "duration": 12,
    "start_time": "2022-08-18T10:32:26.621Z"
   },
   {
    "duration": 5,
    "start_time": "2022-08-18T10:32:26.635Z"
   },
   {
    "duration": 19,
    "start_time": "2022-08-18T10:32:26.642Z"
   },
   {
    "duration": 14,
    "start_time": "2022-08-18T10:32:26.662Z"
   },
   {
    "duration": 14,
    "start_time": "2022-08-18T10:32:26.678Z"
   },
   {
    "duration": 21,
    "start_time": "2022-08-18T10:32:26.693Z"
   },
   {
    "duration": 16,
    "start_time": "2022-08-18T10:32:26.715Z"
   },
   {
    "duration": 17,
    "start_time": "2022-08-18T10:32:26.733Z"
   },
   {
    "duration": 12,
    "start_time": "2022-08-18T10:32:26.752Z"
   },
   {
    "duration": 20,
    "start_time": "2022-08-18T10:32:26.768Z"
   },
   {
    "duration": 21,
    "start_time": "2022-08-18T10:32:26.790Z"
   },
   {
    "duration": 4,
    "start_time": "2022-08-18T10:32:26.814Z"
   },
   {
    "duration": 29,
    "start_time": "2022-08-18T10:32:26.820Z"
   },
   {
    "duration": 12,
    "start_time": "2022-08-18T10:32:26.851Z"
   },
   {
    "duration": 15,
    "start_time": "2022-08-18T10:32:26.864Z"
   },
   {
    "duration": 12,
    "start_time": "2022-08-18T10:32:26.881Z"
   },
   {
    "duration": 15,
    "start_time": "2022-08-18T10:32:26.894Z"
   },
   {
    "duration": 8,
    "start_time": "2022-08-18T10:32:26.910Z"
   },
   {
    "duration": 11,
    "start_time": "2022-08-18T10:32:26.920Z"
   },
   {
    "duration": 5,
    "start_time": "2022-08-18T10:32:26.933Z"
   },
   {
    "duration": 426,
    "start_time": "2022-10-01T15:15:24.394Z"
   },
   {
    "duration": 604,
    "start_time": "2022-10-01T15:15:24.827Z"
   },
   {
    "duration": 17,
    "start_time": "2022-10-01T15:15:25.433Z"
   },
   {
    "duration": 28,
    "start_time": "2022-10-01T15:15:25.452Z"
   },
   {
    "duration": 4,
    "start_time": "2022-10-01T15:15:25.481Z"
   },
   {
    "duration": 26,
    "start_time": "2022-10-01T15:15:25.487Z"
   },
   {
    "duration": 25,
    "start_time": "2022-10-01T15:15:25.516Z"
   },
   {
    "duration": 29,
    "start_time": "2022-10-01T15:15:25.543Z"
   },
   {
    "duration": 20,
    "start_time": "2022-10-01T15:15:25.573Z"
   },
   {
    "duration": 39,
    "start_time": "2022-10-01T15:15:25.598Z"
   },
   {
    "duration": 78,
    "start_time": "2022-10-01T15:15:25.638Z"
   },
   {
    "duration": 102,
    "start_time": "2022-10-01T15:15:25.718Z"
   },
   {
    "duration": 78,
    "start_time": "2022-10-01T15:15:25.821Z"
   },
   {
    "duration": 53,
    "start_time": "2022-10-01T15:15:25.900Z"
   },
   {
    "duration": 3,
    "start_time": "2022-10-01T15:15:25.954Z"
   },
   {
    "duration": 24,
    "start_time": "2022-10-01T15:15:25.958Z"
   },
   {
    "duration": 57,
    "start_time": "2022-10-01T15:15:25.983Z"
   },
   {
    "duration": 14,
    "start_time": "2022-10-01T15:15:26.042Z"
   },
   {
    "duration": 13,
    "start_time": "2022-10-01T15:15:26.058Z"
   },
   {
    "duration": 4,
    "start_time": "2022-10-01T15:15:26.072Z"
   },
   {
    "duration": 72,
    "start_time": "2022-10-01T15:15:26.077Z"
   },
   {
    "duration": 15,
    "start_time": "2022-10-01T15:15:26.151Z"
   },
   {
    "duration": 14,
    "start_time": "2022-10-01T15:15:26.168Z"
   },
   {
    "duration": 20,
    "start_time": "2022-10-01T15:15:26.184Z"
   },
   {
    "duration": 47,
    "start_time": "2022-10-01T15:15:26.205Z"
   },
   {
    "duration": 14,
    "start_time": "2022-10-01T15:15:26.253Z"
   },
   {
    "duration": 8,
    "start_time": "2022-10-01T15:15:26.268Z"
   },
   {
    "duration": 13,
    "start_time": "2022-10-01T15:15:26.279Z"
   },
   {
    "duration": 18,
    "start_time": "2022-10-01T15:15:26.293Z"
   },
   {
    "duration": 29,
    "start_time": "2022-10-01T15:15:26.317Z"
   },
   {
    "duration": 24,
    "start_time": "2022-10-01T15:15:26.348Z"
   },
   {
    "duration": 12,
    "start_time": "2022-10-01T15:15:26.374Z"
   },
   {
    "duration": 19,
    "start_time": "2022-10-01T15:15:26.388Z"
   },
   {
    "duration": 29,
    "start_time": "2022-10-01T15:15:26.417Z"
   },
   {
    "duration": 8,
    "start_time": "2022-10-01T15:15:26.448Z"
   },
   {
    "duration": 4,
    "start_time": "2022-10-01T15:15:26.458Z"
   },
   {
    "duration": 7,
    "start_time": "2022-10-01T15:15:26.464Z"
   },
   {
    "duration": 5,
    "start_time": "2022-10-01T15:15:26.472Z"
   }
  ],
  "colab": {
   "collapsed_sections": [
    "E0vqbgi9ay0H",
    "VUC88oWjTJw2"
   ],
   "name": "yandex_music_project_2021.2.ipynb",
   "provenance": []
  },
  "kernelspec": {
   "display_name": "Python 3 (ipykernel)",
   "language": "python",
   "name": "python3"
  },
  "language_info": {
   "codemirror_mode": {
    "name": "ipython",
    "version": 3
   },
   "file_extension": ".py",
   "mimetype": "text/x-python",
   "name": "python",
   "nbconvert_exporter": "python",
   "pygments_lexer": "ipython3",
   "version": "3.9.5"
  },
  "toc": {
   "base_numbering": 1,
   "nav_menu": {
    "height": "33px",
    "width": "380px"
   },
   "number_sections": true,
   "sideBar": true,
   "skip_h1_title": true,
   "title_cell": "Содержание",
   "title_sidebar": "Contents",
   "toc_cell": false,
   "toc_position": {
    "height": "calc(100% - 180px)",
    "left": "10px",
    "top": "150px",
    "width": "200.387px"
   },
   "toc_section_display": true,
   "toc_window_display": false
  }
 },
 "nbformat": 4,
 "nbformat_minor": 4
}
