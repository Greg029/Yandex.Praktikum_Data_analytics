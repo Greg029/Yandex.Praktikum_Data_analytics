{
 "cells": [
  {
   "cell_type": "markdown",
   "metadata": {},
   "source": [
    "# Определение перспективного тарифа для телеком-компании"
   ]
  },
  {
   "cell_type": "markdown",
   "metadata": {},
   "source": [
    "**Задача исследования:**\n",
    "\n",
    "В распоряжении имеются данные 500 пользователей «Мегалайна»: кто они, откуда, каким тарифом пользуются, сколько звонков и сообщений каждый отправил за 2018 год. \n",
    "\n",
    "Необходимо провести предварительный анализ тарифов на небольшой выборке клиентов,проанализировать поведение клиентов и сделать вывод — какой тариф лучше.\n",
    "\n",
    "**Описание тарифов:**\n",
    "\n",
    "**Тариф «Смарт»**\n",
    "* Ежемесячная плата: 550 рублей\n",
    "* Включено 500 минут разговора, 50 сообщений и 15 Гб интернет-трафика\n",
    "* Стоимость услуг сверх тарифного пакета:\n",
    " * минута разговора: 3 рубля\n",
    " * сообщение: 3 рубля\n",
    " * 1 Гб интернет-трафика: 200 рублей\n",
    "\n",
    "**Тариф «Ультра»**\n",
    "* Ежемесячная плата: 1950 рублей\n",
    "* Включено 3000 минут разговора, 1000 сообщений и 30 Гб интернет-трафика\n",
    "* Стоимость услуг сверх тарифного пакета:\n",
    " * минута разговора: 1 рубль\n",
    " * сообщение: 1 рубль\n",
    " * 1 Гб интернет-трафика: 150 рублей\n",
    " \n",
    "**Описание данных:**\n",
    "\n",
    "**Таблица `users` (информация о пользователях):**\n",
    "* `user_id` — уникальный идентификатор пользователя\n",
    "* `first_name` — имя пользователя\n",
    "* `last_name` — фамилия пользователя\n",
    "* `age` — возраст пользователя (годы)\n",
    "* `reg_date` — дата подключения тарифа (день, месяц, год)\n",
    "* `churn_date` — дата прекращения пользования тарифом (если значение пропущено, то тариф ещё действовал на момент выгрузки данных)\n",
    "* `city` — город проживания пользователя\n",
    "* `tariff` — название тарифного плана\n",
    "\n",
    "**Таблица `calls` (информация о звонках):**\n",
    "* `id` — уникальный номер звонка\n",
    "* `call_date` — дата звонка\n",
    "* `duration` — длительность звонка в минутах\n",
    "* `user_id` — идентификатор пользователя, сделавшего звонок\n",
    "\n",
    "**Таблица `messages` (информация о сообщениях):**\n",
    "* `id` — уникальный номер сообщения\n",
    "* `message_date` — дата сообщения\n",
    "* `user_id` — идентификатор пользователя, отправившего сообщение\n",
    "\n",
    "**Таблица `internet` (информация об интернет-сессиях):**\n",
    "* `id` — уникальный номер сессии\n",
    "* `mb_used` — объём потраченного за сессию интернет-трафика (в мегабайтах)\n",
    "* `session_date` — дата интернет-сессии\n",
    "* `user_id` — идентификатор пользователя\n",
    "\n",
    "**Таблица `tariffs` (информация о тарифах):**\n",
    "* `tariff_name` — название тарифа\n",
    "* `rub_monthly_fee` — ежемесячная абонентская плата в рублях\n",
    "* `minutes_included` — количество минут разговора в месяц, включённых в абонентскую плату\n",
    "* `messages_included` — количество сообщений в месяц, включённых в абонентскую плату\n",
    "* `mb_per_month_included` — объём интернет-трафика, включённого в абонентскую плату (в мегабайтах)\n",
    "* `rub_per_minute` — стоимость минуты разговора сверх тарифного пакета (например, если в тарифе 100 минут разговора в месяц, то со * 101 минуты будет взиматься плата)\n",
    "* `rub_per_message` — стоимость отправки сообщения сверх тарифного пакета\n",
    "* `rub_per_gb` — стоимость дополнительного гигабайта интернет-трафика сверх тарифного пакета (1 гигабайт = 1024 мегабайта)\n",
    "\n",
    "**Таким образом, исследование проведем по следующему плану:**\n",
    "\n",
    "* обзор данных\n",
    "* предобработка данных\n",
    "* анализ данных\n",
    "* проверка гипотез\n",
    "* общий вывод"
   ]
  },
  {
   "cell_type": "markdown",
   "metadata": {},
   "source": [
    "##  Обзор данных"
   ]
  },
  {
   "cell_type": "code",
   "execution_count": 1,
   "metadata": {},
   "outputs": [],
   "source": [
    "# импортируем нужные нам в проекте библиотеки\n",
    "import pandas as pd\n",
    "import numpy as np\n",
    "import math\n",
    "import matplotlib.pyplot as plt\n",
    "from scipy import stats as st"
   ]
  },
  {
   "cell_type": "code",
   "execution_count": 2,
   "metadata": {},
   "outputs": [],
   "source": [
    "# сохраним в переменных данные из таблиц\n",
    "df_calls = pd.read_csv('/datasets/calls.csv')\n",
    "df_internet = pd.read_csv('/datasets/internet.csv')\n",
    "df_messages = pd.read_csv('/datasets/messages.csv')\n",
    "df_tariffs = pd.read_csv('/datasets/tariffs.csv')\n",
    "df_users = pd.read_csv('/datasets/users.csv')"
   ]
  },
  {
   "cell_type": "code",
   "execution_count": 3,
   "metadata": {},
   "outputs": [
    {
     "name": "stdout",
     "output_type": "stream",
     "text": [
      "<class 'pandas.core.frame.DataFrame'>\n",
      "RangeIndex: 202607 entries, 0 to 202606\n",
      "Data columns (total 4 columns):\n",
      " #   Column     Non-Null Count   Dtype  \n",
      "---  ------     --------------   -----  \n",
      " 0   id         202607 non-null  object \n",
      " 1   call_date  202607 non-null  object \n",
      " 2   duration   202607 non-null  float64\n",
      " 3   user_id    202607 non-null  int64  \n",
      "dtypes: float64(1), int64(1), object(2)\n",
      "memory usage: 6.2+ MB\n",
      "\n",
      "<class 'pandas.core.frame.DataFrame'>\n",
      "RangeIndex: 149396 entries, 0 to 149395\n",
      "Data columns (total 5 columns):\n",
      " #   Column        Non-Null Count   Dtype  \n",
      "---  ------        --------------   -----  \n",
      " 0   Unnamed: 0    149396 non-null  int64  \n",
      " 1   id            149396 non-null  object \n",
      " 2   mb_used       149396 non-null  float64\n",
      " 3   session_date  149396 non-null  object \n",
      " 4   user_id       149396 non-null  int64  \n",
      "dtypes: float64(1), int64(2), object(2)\n",
      "memory usage: 5.7+ MB\n",
      "\n",
      "<class 'pandas.core.frame.DataFrame'>\n",
      "RangeIndex: 123036 entries, 0 to 123035\n",
      "Data columns (total 3 columns):\n",
      " #   Column        Non-Null Count   Dtype \n",
      "---  ------        --------------   ----- \n",
      " 0   id            123036 non-null  object\n",
      " 1   message_date  123036 non-null  object\n",
      " 2   user_id       123036 non-null  int64 \n",
      "dtypes: int64(1), object(2)\n",
      "memory usage: 2.8+ MB\n",
      "\n",
      "<class 'pandas.core.frame.DataFrame'>\n",
      "RangeIndex: 2 entries, 0 to 1\n",
      "Data columns (total 8 columns):\n",
      " #   Column                 Non-Null Count  Dtype \n",
      "---  ------                 --------------  ----- \n",
      " 0   messages_included      2 non-null      int64 \n",
      " 1   mb_per_month_included  2 non-null      int64 \n",
      " 2   minutes_included       2 non-null      int64 \n",
      " 3   rub_monthly_fee        2 non-null      int64 \n",
      " 4   rub_per_gb             2 non-null      int64 \n",
      " 5   rub_per_message        2 non-null      int64 \n",
      " 6   rub_per_minute         2 non-null      int64 \n",
      " 7   tariff_name            2 non-null      object\n",
      "dtypes: int64(7), object(1)\n",
      "memory usage: 256.0+ bytes\n",
      "\n",
      "<class 'pandas.core.frame.DataFrame'>\n",
      "RangeIndex: 500 entries, 0 to 499\n",
      "Data columns (total 8 columns):\n",
      " #   Column      Non-Null Count  Dtype \n",
      "---  ------      --------------  ----- \n",
      " 0   user_id     500 non-null    int64 \n",
      " 1   age         500 non-null    int64 \n",
      " 2   churn_date  38 non-null     object\n",
      " 3   city        500 non-null    object\n",
      " 4   first_name  500 non-null    object\n",
      " 5   last_name   500 non-null    object\n",
      " 6   reg_date    500 non-null    object\n",
      " 7   tariff      500 non-null    object\n",
      "dtypes: int64(2), object(6)\n",
      "memory usage: 31.4+ KB\n",
      "\n"
     ]
    }
   ],
   "source": [
    "# соберем таблицы в список для удобства работы\n",
    "df_list = (df_calls, df_internet, df_messages, df_tariffs, df_users)\n",
    "for df in df_list:\n",
    "    df.info()\n",
    "    print()"
   ]
  },
  {
   "cell_type": "code",
   "execution_count": 4,
   "metadata": {},
   "outputs": [
    {
     "data": {
      "text/html": [
       "<div>\n",
       "<style scoped>\n",
       "    .dataframe tbody tr th:only-of-type {\n",
       "        vertical-align: middle;\n",
       "    }\n",
       "\n",
       "    .dataframe tbody tr th {\n",
       "        vertical-align: top;\n",
       "    }\n",
       "\n",
       "    .dataframe thead th {\n",
       "        text-align: right;\n",
       "    }\n",
       "</style>\n",
       "<table border=\"1\" class=\"dataframe\">\n",
       "  <thead>\n",
       "    <tr style=\"text-align: right;\">\n",
       "      <th></th>\n",
       "      <th>id</th>\n",
       "      <th>call_date</th>\n",
       "      <th>duration</th>\n",
       "      <th>user_id</th>\n",
       "    </tr>\n",
       "  </thead>\n",
       "  <tbody>\n",
       "    <tr>\n",
       "      <th>0</th>\n",
       "      <td>1000_0</td>\n",
       "      <td>2018-07-25</td>\n",
       "      <td>0.00</td>\n",
       "      <td>1000</td>\n",
       "    </tr>\n",
       "    <tr>\n",
       "      <th>1</th>\n",
       "      <td>1000_1</td>\n",
       "      <td>2018-08-17</td>\n",
       "      <td>0.00</td>\n",
       "      <td>1000</td>\n",
       "    </tr>\n",
       "    <tr>\n",
       "      <th>2</th>\n",
       "      <td>1000_2</td>\n",
       "      <td>2018-06-11</td>\n",
       "      <td>2.85</td>\n",
       "      <td>1000</td>\n",
       "    </tr>\n",
       "    <tr>\n",
       "      <th>3</th>\n",
       "      <td>1000_3</td>\n",
       "      <td>2018-09-21</td>\n",
       "      <td>13.80</td>\n",
       "      <td>1000</td>\n",
       "    </tr>\n",
       "    <tr>\n",
       "      <th>4</th>\n",
       "      <td>1000_4</td>\n",
       "      <td>2018-12-15</td>\n",
       "      <td>5.18</td>\n",
       "      <td>1000</td>\n",
       "    </tr>\n",
       "  </tbody>\n",
       "</table>\n",
       "</div>"
      ],
      "text/plain": [
       "       id   call_date  duration  user_id\n",
       "0  1000_0  2018-07-25      0.00     1000\n",
       "1  1000_1  2018-08-17      0.00     1000\n",
       "2  1000_2  2018-06-11      2.85     1000\n",
       "3  1000_3  2018-09-21     13.80     1000\n",
       "4  1000_4  2018-12-15      5.18     1000"
      ]
     },
     "execution_count": 4,
     "metadata": {},
     "output_type": "execute_result"
    }
   ],
   "source": [
    "df_calls.head()"
   ]
  },
  {
   "cell_type": "code",
   "execution_count": 5,
   "metadata": {},
   "outputs": [
    {
     "data": {
      "text/html": [
       "<div>\n",
       "<style scoped>\n",
       "    .dataframe tbody tr th:only-of-type {\n",
       "        vertical-align: middle;\n",
       "    }\n",
       "\n",
       "    .dataframe tbody tr th {\n",
       "        vertical-align: top;\n",
       "    }\n",
       "\n",
       "    .dataframe thead th {\n",
       "        text-align: right;\n",
       "    }\n",
       "</style>\n",
       "<table border=\"1\" class=\"dataframe\">\n",
       "  <thead>\n",
       "    <tr style=\"text-align: right;\">\n",
       "      <th></th>\n",
       "      <th>duration</th>\n",
       "      <th>user_id</th>\n",
       "    </tr>\n",
       "  </thead>\n",
       "  <tbody>\n",
       "    <tr>\n",
       "      <th>count</th>\n",
       "      <td>202607.000000</td>\n",
       "      <td>202607.000000</td>\n",
       "    </tr>\n",
       "    <tr>\n",
       "      <th>mean</th>\n",
       "      <td>6.755887</td>\n",
       "      <td>1253.940619</td>\n",
       "    </tr>\n",
       "    <tr>\n",
       "      <th>std</th>\n",
       "      <td>5.843365</td>\n",
       "      <td>144.722751</td>\n",
       "    </tr>\n",
       "    <tr>\n",
       "      <th>min</th>\n",
       "      <td>0.000000</td>\n",
       "      <td>1000.000000</td>\n",
       "    </tr>\n",
       "    <tr>\n",
       "      <th>25%</th>\n",
       "      <td>1.300000</td>\n",
       "      <td>1126.000000</td>\n",
       "    </tr>\n",
       "    <tr>\n",
       "      <th>50%</th>\n",
       "      <td>6.000000</td>\n",
       "      <td>1260.000000</td>\n",
       "    </tr>\n",
       "    <tr>\n",
       "      <th>75%</th>\n",
       "      <td>10.700000</td>\n",
       "      <td>1379.000000</td>\n",
       "    </tr>\n",
       "    <tr>\n",
       "      <th>max</th>\n",
       "      <td>38.000000</td>\n",
       "      <td>1499.000000</td>\n",
       "    </tr>\n",
       "  </tbody>\n",
       "</table>\n",
       "</div>"
      ],
      "text/plain": [
       "            duration        user_id\n",
       "count  202607.000000  202607.000000\n",
       "mean        6.755887    1253.940619\n",
       "std         5.843365     144.722751\n",
       "min         0.000000    1000.000000\n",
       "25%         1.300000    1126.000000\n",
       "50%         6.000000    1260.000000\n",
       "75%        10.700000    1379.000000\n",
       "max        38.000000    1499.000000"
      ]
     },
     "execution_count": 5,
     "metadata": {},
     "output_type": "execute_result"
    }
   ],
   "source": [
    "df_calls.describe()"
   ]
  },
  {
   "cell_type": "code",
   "execution_count": 6,
   "metadata": {},
   "outputs": [
    {
     "data": {
      "text/html": [
       "<div>\n",
       "<style scoped>\n",
       "    .dataframe tbody tr th:only-of-type {\n",
       "        vertical-align: middle;\n",
       "    }\n",
       "\n",
       "    .dataframe tbody tr th {\n",
       "        vertical-align: top;\n",
       "    }\n",
       "\n",
       "    .dataframe thead th {\n",
       "        text-align: right;\n",
       "    }\n",
       "</style>\n",
       "<table border=\"1\" class=\"dataframe\">\n",
       "  <thead>\n",
       "    <tr style=\"text-align: right;\">\n",
       "      <th></th>\n",
       "      <th>Unnamed: 0</th>\n",
       "      <th>id</th>\n",
       "      <th>mb_used</th>\n",
       "      <th>session_date</th>\n",
       "      <th>user_id</th>\n",
       "    </tr>\n",
       "  </thead>\n",
       "  <tbody>\n",
       "    <tr>\n",
       "      <th>0</th>\n",
       "      <td>0</td>\n",
       "      <td>1000_0</td>\n",
       "      <td>112.95</td>\n",
       "      <td>2018-11-25</td>\n",
       "      <td>1000</td>\n",
       "    </tr>\n",
       "    <tr>\n",
       "      <th>1</th>\n",
       "      <td>1</td>\n",
       "      <td>1000_1</td>\n",
       "      <td>1052.81</td>\n",
       "      <td>2018-09-07</td>\n",
       "      <td>1000</td>\n",
       "    </tr>\n",
       "    <tr>\n",
       "      <th>2</th>\n",
       "      <td>2</td>\n",
       "      <td>1000_2</td>\n",
       "      <td>1197.26</td>\n",
       "      <td>2018-06-25</td>\n",
       "      <td>1000</td>\n",
       "    </tr>\n",
       "    <tr>\n",
       "      <th>3</th>\n",
       "      <td>3</td>\n",
       "      <td>1000_3</td>\n",
       "      <td>550.27</td>\n",
       "      <td>2018-08-22</td>\n",
       "      <td>1000</td>\n",
       "    </tr>\n",
       "    <tr>\n",
       "      <th>4</th>\n",
       "      <td>4</td>\n",
       "      <td>1000_4</td>\n",
       "      <td>302.56</td>\n",
       "      <td>2018-09-24</td>\n",
       "      <td>1000</td>\n",
       "    </tr>\n",
       "  </tbody>\n",
       "</table>\n",
       "</div>"
      ],
      "text/plain": [
       "   Unnamed: 0      id  mb_used session_date  user_id\n",
       "0           0  1000_0   112.95   2018-11-25     1000\n",
       "1           1  1000_1  1052.81   2018-09-07     1000\n",
       "2           2  1000_2  1197.26   2018-06-25     1000\n",
       "3           3  1000_3   550.27   2018-08-22     1000\n",
       "4           4  1000_4   302.56   2018-09-24     1000"
      ]
     },
     "execution_count": 6,
     "metadata": {},
     "output_type": "execute_result"
    }
   ],
   "source": [
    "df_internet.head()"
   ]
  },
  {
   "cell_type": "code",
   "execution_count": 7,
   "metadata": {},
   "outputs": [
    {
     "data": {
      "text/html": [
       "<div>\n",
       "<style scoped>\n",
       "    .dataframe tbody tr th:only-of-type {\n",
       "        vertical-align: middle;\n",
       "    }\n",
       "\n",
       "    .dataframe tbody tr th {\n",
       "        vertical-align: top;\n",
       "    }\n",
       "\n",
       "    .dataframe thead th {\n",
       "        text-align: right;\n",
       "    }\n",
       "</style>\n",
       "<table border=\"1\" class=\"dataframe\">\n",
       "  <thead>\n",
       "    <tr style=\"text-align: right;\">\n",
       "      <th></th>\n",
       "      <th>Unnamed: 0</th>\n",
       "      <th>mb_used</th>\n",
       "      <th>user_id</th>\n",
       "    </tr>\n",
       "  </thead>\n",
       "  <tbody>\n",
       "    <tr>\n",
       "      <th>count</th>\n",
       "      <td>149396.000000</td>\n",
       "      <td>149396.000000</td>\n",
       "      <td>149396.000000</td>\n",
       "    </tr>\n",
       "    <tr>\n",
       "      <th>mean</th>\n",
       "      <td>74697.500000</td>\n",
       "      <td>370.192426</td>\n",
       "      <td>1252.099842</td>\n",
       "    </tr>\n",
       "    <tr>\n",
       "      <th>std</th>\n",
       "      <td>43127.054745</td>\n",
       "      <td>278.300951</td>\n",
       "      <td>144.050823</td>\n",
       "    </tr>\n",
       "    <tr>\n",
       "      <th>min</th>\n",
       "      <td>0.000000</td>\n",
       "      <td>0.000000</td>\n",
       "      <td>1000.000000</td>\n",
       "    </tr>\n",
       "    <tr>\n",
       "      <th>25%</th>\n",
       "      <td>37348.750000</td>\n",
       "      <td>138.187500</td>\n",
       "      <td>1130.000000</td>\n",
       "    </tr>\n",
       "    <tr>\n",
       "      <th>50%</th>\n",
       "      <td>74697.500000</td>\n",
       "      <td>348.015000</td>\n",
       "      <td>1251.000000</td>\n",
       "    </tr>\n",
       "    <tr>\n",
       "      <th>75%</th>\n",
       "      <td>112046.250000</td>\n",
       "      <td>559.552500</td>\n",
       "      <td>1380.000000</td>\n",
       "    </tr>\n",
       "    <tr>\n",
       "      <th>max</th>\n",
       "      <td>149395.000000</td>\n",
       "      <td>1724.830000</td>\n",
       "      <td>1499.000000</td>\n",
       "    </tr>\n",
       "  </tbody>\n",
       "</table>\n",
       "</div>"
      ],
      "text/plain": [
       "          Unnamed: 0        mb_used        user_id\n",
       "count  149396.000000  149396.000000  149396.000000\n",
       "mean    74697.500000     370.192426    1252.099842\n",
       "std     43127.054745     278.300951     144.050823\n",
       "min         0.000000       0.000000    1000.000000\n",
       "25%     37348.750000     138.187500    1130.000000\n",
       "50%     74697.500000     348.015000    1251.000000\n",
       "75%    112046.250000     559.552500    1380.000000\n",
       "max    149395.000000    1724.830000    1499.000000"
      ]
     },
     "execution_count": 7,
     "metadata": {},
     "output_type": "execute_result"
    }
   ],
   "source": [
    "df_internet.describe()"
   ]
  },
  {
   "cell_type": "code",
   "execution_count": 8,
   "metadata": {},
   "outputs": [
    {
     "data": {
      "text/html": [
       "<div>\n",
       "<style scoped>\n",
       "    .dataframe tbody tr th:only-of-type {\n",
       "        vertical-align: middle;\n",
       "    }\n",
       "\n",
       "    .dataframe tbody tr th {\n",
       "        vertical-align: top;\n",
       "    }\n",
       "\n",
       "    .dataframe thead th {\n",
       "        text-align: right;\n",
       "    }\n",
       "</style>\n",
       "<table border=\"1\" class=\"dataframe\">\n",
       "  <thead>\n",
       "    <tr style=\"text-align: right;\">\n",
       "      <th></th>\n",
       "      <th>id</th>\n",
       "      <th>message_date</th>\n",
       "      <th>user_id</th>\n",
       "    </tr>\n",
       "  </thead>\n",
       "  <tbody>\n",
       "    <tr>\n",
       "      <th>0</th>\n",
       "      <td>1000_0</td>\n",
       "      <td>2018-06-27</td>\n",
       "      <td>1000</td>\n",
       "    </tr>\n",
       "    <tr>\n",
       "      <th>1</th>\n",
       "      <td>1000_1</td>\n",
       "      <td>2018-10-08</td>\n",
       "      <td>1000</td>\n",
       "    </tr>\n",
       "    <tr>\n",
       "      <th>2</th>\n",
       "      <td>1000_2</td>\n",
       "      <td>2018-08-04</td>\n",
       "      <td>1000</td>\n",
       "    </tr>\n",
       "    <tr>\n",
       "      <th>3</th>\n",
       "      <td>1000_3</td>\n",
       "      <td>2018-06-16</td>\n",
       "      <td>1000</td>\n",
       "    </tr>\n",
       "    <tr>\n",
       "      <th>4</th>\n",
       "      <td>1000_4</td>\n",
       "      <td>2018-12-05</td>\n",
       "      <td>1000</td>\n",
       "    </tr>\n",
       "  </tbody>\n",
       "</table>\n",
       "</div>"
      ],
      "text/plain": [
       "       id message_date  user_id\n",
       "0  1000_0   2018-06-27     1000\n",
       "1  1000_1   2018-10-08     1000\n",
       "2  1000_2   2018-08-04     1000\n",
       "3  1000_3   2018-06-16     1000\n",
       "4  1000_4   2018-12-05     1000"
      ]
     },
     "execution_count": 8,
     "metadata": {},
     "output_type": "execute_result"
    }
   ],
   "source": [
    "df_messages.head()"
   ]
  },
  {
   "cell_type": "code",
   "execution_count": 9,
   "metadata": {},
   "outputs": [
    {
     "data": {
      "text/html": [
       "<div>\n",
       "<style scoped>\n",
       "    .dataframe tbody tr th:only-of-type {\n",
       "        vertical-align: middle;\n",
       "    }\n",
       "\n",
       "    .dataframe tbody tr th {\n",
       "        vertical-align: top;\n",
       "    }\n",
       "\n",
       "    .dataframe thead th {\n",
       "        text-align: right;\n",
       "    }\n",
       "</style>\n",
       "<table border=\"1\" class=\"dataframe\">\n",
       "  <thead>\n",
       "    <tr style=\"text-align: right;\">\n",
       "      <th></th>\n",
       "      <th>user_id</th>\n",
       "    </tr>\n",
       "  </thead>\n",
       "  <tbody>\n",
       "    <tr>\n",
       "      <th>count</th>\n",
       "      <td>123036.000000</td>\n",
       "    </tr>\n",
       "    <tr>\n",
       "      <th>mean</th>\n",
       "      <td>1256.989410</td>\n",
       "    </tr>\n",
       "    <tr>\n",
       "      <th>std</th>\n",
       "      <td>143.523967</td>\n",
       "    </tr>\n",
       "    <tr>\n",
       "      <th>min</th>\n",
       "      <td>1000.000000</td>\n",
       "    </tr>\n",
       "    <tr>\n",
       "      <th>25%</th>\n",
       "      <td>1134.000000</td>\n",
       "    </tr>\n",
       "    <tr>\n",
       "      <th>50%</th>\n",
       "      <td>1271.000000</td>\n",
       "    </tr>\n",
       "    <tr>\n",
       "      <th>75%</th>\n",
       "      <td>1381.000000</td>\n",
       "    </tr>\n",
       "    <tr>\n",
       "      <th>max</th>\n",
       "      <td>1499.000000</td>\n",
       "    </tr>\n",
       "  </tbody>\n",
       "</table>\n",
       "</div>"
      ],
      "text/plain": [
       "             user_id\n",
       "count  123036.000000\n",
       "mean     1256.989410\n",
       "std       143.523967\n",
       "min      1000.000000\n",
       "25%      1134.000000\n",
       "50%      1271.000000\n",
       "75%      1381.000000\n",
       "max      1499.000000"
      ]
     },
     "execution_count": 9,
     "metadata": {},
     "output_type": "execute_result"
    }
   ],
   "source": [
    "df_messages.describe()"
   ]
  },
  {
   "cell_type": "code",
   "execution_count": 10,
   "metadata": {},
   "outputs": [
    {
     "data": {
      "text/html": [
       "<div>\n",
       "<style scoped>\n",
       "    .dataframe tbody tr th:only-of-type {\n",
       "        vertical-align: middle;\n",
       "    }\n",
       "\n",
       "    .dataframe tbody tr th {\n",
       "        vertical-align: top;\n",
       "    }\n",
       "\n",
       "    .dataframe thead th {\n",
       "        text-align: right;\n",
       "    }\n",
       "</style>\n",
       "<table border=\"1\" class=\"dataframe\">\n",
       "  <thead>\n",
       "    <tr style=\"text-align: right;\">\n",
       "      <th></th>\n",
       "      <th>messages_included</th>\n",
       "      <th>mb_per_month_included</th>\n",
       "      <th>minutes_included</th>\n",
       "      <th>rub_monthly_fee</th>\n",
       "      <th>rub_per_gb</th>\n",
       "      <th>rub_per_message</th>\n",
       "      <th>rub_per_minute</th>\n",
       "      <th>tariff_name</th>\n",
       "    </tr>\n",
       "  </thead>\n",
       "  <tbody>\n",
       "    <tr>\n",
       "      <th>0</th>\n",
       "      <td>50</td>\n",
       "      <td>15360</td>\n",
       "      <td>500</td>\n",
       "      <td>550</td>\n",
       "      <td>200</td>\n",
       "      <td>3</td>\n",
       "      <td>3</td>\n",
       "      <td>smart</td>\n",
       "    </tr>\n",
       "    <tr>\n",
       "      <th>1</th>\n",
       "      <td>1000</td>\n",
       "      <td>30720</td>\n",
       "      <td>3000</td>\n",
       "      <td>1950</td>\n",
       "      <td>150</td>\n",
       "      <td>1</td>\n",
       "      <td>1</td>\n",
       "      <td>ultra</td>\n",
       "    </tr>\n",
       "  </tbody>\n",
       "</table>\n",
       "</div>"
      ],
      "text/plain": [
       "   messages_included  mb_per_month_included  minutes_included  \\\n",
       "0                 50                  15360               500   \n",
       "1               1000                  30720              3000   \n",
       "\n",
       "   rub_monthly_fee  rub_per_gb  rub_per_message  rub_per_minute tariff_name  \n",
       "0              550         200                3               3       smart  \n",
       "1             1950         150                1               1       ultra  "
      ]
     },
     "execution_count": 10,
     "metadata": {},
     "output_type": "execute_result"
    }
   ],
   "source": [
    "df_tariffs.head()"
   ]
  },
  {
   "cell_type": "code",
   "execution_count": 11,
   "metadata": {},
   "outputs": [
    {
     "data": {
      "text/html": [
       "<div>\n",
       "<style scoped>\n",
       "    .dataframe tbody tr th:only-of-type {\n",
       "        vertical-align: middle;\n",
       "    }\n",
       "\n",
       "    .dataframe tbody tr th {\n",
       "        vertical-align: top;\n",
       "    }\n",
       "\n",
       "    .dataframe thead th {\n",
       "        text-align: right;\n",
       "    }\n",
       "</style>\n",
       "<table border=\"1\" class=\"dataframe\">\n",
       "  <thead>\n",
       "    <tr style=\"text-align: right;\">\n",
       "      <th></th>\n",
       "      <th>messages_included</th>\n",
       "      <th>mb_per_month_included</th>\n",
       "      <th>minutes_included</th>\n",
       "      <th>rub_monthly_fee</th>\n",
       "      <th>rub_per_gb</th>\n",
       "      <th>rub_per_message</th>\n",
       "      <th>rub_per_minute</th>\n",
       "    </tr>\n",
       "  </thead>\n",
       "  <tbody>\n",
       "    <tr>\n",
       "      <th>count</th>\n",
       "      <td>2.000000</td>\n",
       "      <td>2.000000</td>\n",
       "      <td>2.000000</td>\n",
       "      <td>2.000000</td>\n",
       "      <td>2.000000</td>\n",
       "      <td>2.000000</td>\n",
       "      <td>2.000000</td>\n",
       "    </tr>\n",
       "    <tr>\n",
       "      <th>mean</th>\n",
       "      <td>525.000000</td>\n",
       "      <td>23040.000000</td>\n",
       "      <td>1750.000000</td>\n",
       "      <td>1250.000000</td>\n",
       "      <td>175.000000</td>\n",
       "      <td>2.000000</td>\n",
       "      <td>2.000000</td>\n",
       "    </tr>\n",
       "    <tr>\n",
       "      <th>std</th>\n",
       "      <td>671.751442</td>\n",
       "      <td>10861.160159</td>\n",
       "      <td>1767.766953</td>\n",
       "      <td>989.949494</td>\n",
       "      <td>35.355339</td>\n",
       "      <td>1.414214</td>\n",
       "      <td>1.414214</td>\n",
       "    </tr>\n",
       "    <tr>\n",
       "      <th>min</th>\n",
       "      <td>50.000000</td>\n",
       "      <td>15360.000000</td>\n",
       "      <td>500.000000</td>\n",
       "      <td>550.000000</td>\n",
       "      <td>150.000000</td>\n",
       "      <td>1.000000</td>\n",
       "      <td>1.000000</td>\n",
       "    </tr>\n",
       "    <tr>\n",
       "      <th>25%</th>\n",
       "      <td>287.500000</td>\n",
       "      <td>19200.000000</td>\n",
       "      <td>1125.000000</td>\n",
       "      <td>900.000000</td>\n",
       "      <td>162.500000</td>\n",
       "      <td>1.500000</td>\n",
       "      <td>1.500000</td>\n",
       "    </tr>\n",
       "    <tr>\n",
       "      <th>50%</th>\n",
       "      <td>525.000000</td>\n",
       "      <td>23040.000000</td>\n",
       "      <td>1750.000000</td>\n",
       "      <td>1250.000000</td>\n",
       "      <td>175.000000</td>\n",
       "      <td>2.000000</td>\n",
       "      <td>2.000000</td>\n",
       "    </tr>\n",
       "    <tr>\n",
       "      <th>75%</th>\n",
       "      <td>762.500000</td>\n",
       "      <td>26880.000000</td>\n",
       "      <td>2375.000000</td>\n",
       "      <td>1600.000000</td>\n",
       "      <td>187.500000</td>\n",
       "      <td>2.500000</td>\n",
       "      <td>2.500000</td>\n",
       "    </tr>\n",
       "    <tr>\n",
       "      <th>max</th>\n",
       "      <td>1000.000000</td>\n",
       "      <td>30720.000000</td>\n",
       "      <td>3000.000000</td>\n",
       "      <td>1950.000000</td>\n",
       "      <td>200.000000</td>\n",
       "      <td>3.000000</td>\n",
       "      <td>3.000000</td>\n",
       "    </tr>\n",
       "  </tbody>\n",
       "</table>\n",
       "</div>"
      ],
      "text/plain": [
       "       messages_included  mb_per_month_included  minutes_included  \\\n",
       "count           2.000000               2.000000          2.000000   \n",
       "mean          525.000000           23040.000000       1750.000000   \n",
       "std           671.751442           10861.160159       1767.766953   \n",
       "min            50.000000           15360.000000        500.000000   \n",
       "25%           287.500000           19200.000000       1125.000000   \n",
       "50%           525.000000           23040.000000       1750.000000   \n",
       "75%           762.500000           26880.000000       2375.000000   \n",
       "max          1000.000000           30720.000000       3000.000000   \n",
       "\n",
       "       rub_monthly_fee  rub_per_gb  rub_per_message  rub_per_minute  \n",
       "count         2.000000    2.000000         2.000000        2.000000  \n",
       "mean       1250.000000  175.000000         2.000000        2.000000  \n",
       "std         989.949494   35.355339         1.414214        1.414214  \n",
       "min         550.000000  150.000000         1.000000        1.000000  \n",
       "25%         900.000000  162.500000         1.500000        1.500000  \n",
       "50%        1250.000000  175.000000         2.000000        2.000000  \n",
       "75%        1600.000000  187.500000         2.500000        2.500000  \n",
       "max        1950.000000  200.000000         3.000000        3.000000  "
      ]
     },
     "execution_count": 11,
     "metadata": {},
     "output_type": "execute_result"
    }
   ],
   "source": [
    "df_tariffs.describe()"
   ]
  },
  {
   "cell_type": "code",
   "execution_count": 12,
   "metadata": {
    "scrolled": false
   },
   "outputs": [
    {
     "data": {
      "text/html": [
       "<div>\n",
       "<style scoped>\n",
       "    .dataframe tbody tr th:only-of-type {\n",
       "        vertical-align: middle;\n",
       "    }\n",
       "\n",
       "    .dataframe tbody tr th {\n",
       "        vertical-align: top;\n",
       "    }\n",
       "\n",
       "    .dataframe thead th {\n",
       "        text-align: right;\n",
       "    }\n",
       "</style>\n",
       "<table border=\"1\" class=\"dataframe\">\n",
       "  <thead>\n",
       "    <tr style=\"text-align: right;\">\n",
       "      <th></th>\n",
       "      <th>user_id</th>\n",
       "      <th>age</th>\n",
       "      <th>churn_date</th>\n",
       "      <th>city</th>\n",
       "      <th>first_name</th>\n",
       "      <th>last_name</th>\n",
       "      <th>reg_date</th>\n",
       "      <th>tariff</th>\n",
       "    </tr>\n",
       "  </thead>\n",
       "  <tbody>\n",
       "    <tr>\n",
       "      <th>0</th>\n",
       "      <td>1000</td>\n",
       "      <td>52</td>\n",
       "      <td>NaN</td>\n",
       "      <td>Краснодар</td>\n",
       "      <td>Рафаил</td>\n",
       "      <td>Верещагин</td>\n",
       "      <td>2018-05-25</td>\n",
       "      <td>ultra</td>\n",
       "    </tr>\n",
       "    <tr>\n",
       "      <th>1</th>\n",
       "      <td>1001</td>\n",
       "      <td>41</td>\n",
       "      <td>NaN</td>\n",
       "      <td>Москва</td>\n",
       "      <td>Иван</td>\n",
       "      <td>Ежов</td>\n",
       "      <td>2018-11-01</td>\n",
       "      <td>smart</td>\n",
       "    </tr>\n",
       "    <tr>\n",
       "      <th>2</th>\n",
       "      <td>1002</td>\n",
       "      <td>59</td>\n",
       "      <td>NaN</td>\n",
       "      <td>Стерлитамак</td>\n",
       "      <td>Евгений</td>\n",
       "      <td>Абрамович</td>\n",
       "      <td>2018-06-17</td>\n",
       "      <td>smart</td>\n",
       "    </tr>\n",
       "    <tr>\n",
       "      <th>3</th>\n",
       "      <td>1003</td>\n",
       "      <td>23</td>\n",
       "      <td>NaN</td>\n",
       "      <td>Москва</td>\n",
       "      <td>Белла</td>\n",
       "      <td>Белякова</td>\n",
       "      <td>2018-08-17</td>\n",
       "      <td>ultra</td>\n",
       "    </tr>\n",
       "    <tr>\n",
       "      <th>4</th>\n",
       "      <td>1004</td>\n",
       "      <td>68</td>\n",
       "      <td>NaN</td>\n",
       "      <td>Новокузнецк</td>\n",
       "      <td>Татьяна</td>\n",
       "      <td>Авдеенко</td>\n",
       "      <td>2018-05-14</td>\n",
       "      <td>ultra</td>\n",
       "    </tr>\n",
       "  </tbody>\n",
       "</table>\n",
       "</div>"
      ],
      "text/plain": [
       "   user_id  age churn_date         city first_name  last_name    reg_date  \\\n",
       "0     1000   52        NaN    Краснодар     Рафаил  Верещагин  2018-05-25   \n",
       "1     1001   41        NaN       Москва       Иван       Ежов  2018-11-01   \n",
       "2     1002   59        NaN  Стерлитамак    Евгений  Абрамович  2018-06-17   \n",
       "3     1003   23        NaN       Москва      Белла   Белякова  2018-08-17   \n",
       "4     1004   68        NaN  Новокузнецк    Татьяна   Авдеенко  2018-05-14   \n",
       "\n",
       "  tariff  \n",
       "0  ultra  \n",
       "1  smart  \n",
       "2  smart  \n",
       "3  ultra  \n",
       "4  ultra  "
      ]
     },
     "execution_count": 12,
     "metadata": {},
     "output_type": "execute_result"
    }
   ],
   "source": [
    "df_users.head()"
   ]
  },
  {
   "cell_type": "code",
   "execution_count": 13,
   "metadata": {},
   "outputs": [
    {
     "data": {
      "text/html": [
       "<div>\n",
       "<style scoped>\n",
       "    .dataframe tbody tr th:only-of-type {\n",
       "        vertical-align: middle;\n",
       "    }\n",
       "\n",
       "    .dataframe tbody tr th {\n",
       "        vertical-align: top;\n",
       "    }\n",
       "\n",
       "    .dataframe thead th {\n",
       "        text-align: right;\n",
       "    }\n",
       "</style>\n",
       "<table border=\"1\" class=\"dataframe\">\n",
       "  <thead>\n",
       "    <tr style=\"text-align: right;\">\n",
       "      <th></th>\n",
       "      <th>user_id</th>\n",
       "      <th>age</th>\n",
       "    </tr>\n",
       "  </thead>\n",
       "  <tbody>\n",
       "    <tr>\n",
       "      <th>count</th>\n",
       "      <td>500.000000</td>\n",
       "      <td>500.00000</td>\n",
       "    </tr>\n",
       "    <tr>\n",
       "      <th>mean</th>\n",
       "      <td>1249.500000</td>\n",
       "      <td>46.58800</td>\n",
       "    </tr>\n",
       "    <tr>\n",
       "      <th>std</th>\n",
       "      <td>144.481833</td>\n",
       "      <td>16.66763</td>\n",
       "    </tr>\n",
       "    <tr>\n",
       "      <th>min</th>\n",
       "      <td>1000.000000</td>\n",
       "      <td>18.00000</td>\n",
       "    </tr>\n",
       "    <tr>\n",
       "      <th>25%</th>\n",
       "      <td>1124.750000</td>\n",
       "      <td>32.00000</td>\n",
       "    </tr>\n",
       "    <tr>\n",
       "      <th>50%</th>\n",
       "      <td>1249.500000</td>\n",
       "      <td>46.00000</td>\n",
       "    </tr>\n",
       "    <tr>\n",
       "      <th>75%</th>\n",
       "      <td>1374.250000</td>\n",
       "      <td>62.00000</td>\n",
       "    </tr>\n",
       "    <tr>\n",
       "      <th>max</th>\n",
       "      <td>1499.000000</td>\n",
       "      <td>75.00000</td>\n",
       "    </tr>\n",
       "  </tbody>\n",
       "</table>\n",
       "</div>"
      ],
      "text/plain": [
       "           user_id        age\n",
       "count   500.000000  500.00000\n",
       "mean   1249.500000   46.58800\n",
       "std     144.481833   16.66763\n",
       "min    1000.000000   18.00000\n",
       "25%    1124.750000   32.00000\n",
       "50%    1249.500000   46.00000\n",
       "75%    1374.250000   62.00000\n",
       "max    1499.000000   75.00000"
      ]
     },
     "execution_count": 13,
     "metadata": {},
     "output_type": "execute_result"
    }
   ],
   "source": [
    "df_users.describe()"
   ]
  },
  {
   "cell_type": "code",
   "execution_count": 14,
   "metadata": {
    "scrolled": true
   },
   "outputs": [
    {
     "name": "stdout",
     "output_type": "stream",
     "text": [
      "0\n",
      "\n",
      "0\n",
      "\n",
      "0\n",
      "\n",
      "0\n",
      "\n",
      "0\n",
      "\n"
     ]
    }
   ],
   "source": [
    "# проверим наличие дубликатов\n",
    "for df in df_list:\n",
    "    print(df.duplicated().sum())\n",
    "    print()"
   ]
  },
  {
   "cell_type": "markdown",
   "metadata": {},
   "source": [
    "**Вывод:**\n",
    "\n",
    "В целом с данными все в порядке, дубликатов и некорректных значений нет, пропусков также не обнаруженно за исключением столбца`churn_date` в таблице `df_users`.\n",
    "\n",
    "В таблице `df_calls`: \n",
    "* столбец `call_date` нужно перевести тип данных в DateTime\n",
    "* в столбце `duration` длительность звонка нужно перевести в целое число (так как по правилам компании значения округляются до большего значения)\n",
    "\n",
    "В таблице `df_internet`: \n",
    "* столбец `session_date` нужно перевести тип данных в DateTime\n",
    "* в столбце `mb_used` объем трафика нужно перевести в целое число (так как по правилам компании значения округляются до большего значения)\n",
    "* столбец `Unnamed: 0` можно удалить, так как его нет в описании к заданию\n",
    "\n",
    "В таблице `df_messages`: \n",
    "* столбец `massage_date` нужно перевести тип данных в DateTime  \n",
    "\n",
    "В таблице `df_users`:\n",
    "* столбцы `churn_date` и `reg_data` нужно перевести тип данных в DateTime\n",
    "* в столбце `churn_date`значения `NaN` заменим на 0  \n",
    "\n"
   ]
  },
  {
   "cell_type": "markdown",
   "metadata": {},
   "source": [
    "##  Предобработка данных"
   ]
  },
  {
   "cell_type": "markdown",
   "metadata": {},
   "source": [
    "Проведем запланированные в первом этапе изменения в данных.\n",
    "\n",
    "Так же посчитаем для каждого пользователя:\n",
    "* количество сделанных звонков и израсходованных минут разговора по месяцам\n",
    "* количество отправленных сообщений по месяцам\n",
    "* объем израсходованного интернет-трафика по месяцам\n",
    "* помесячную выручку с каждого пользователя "
   ]
  },
  {
   "cell_type": "code",
   "execution_count": 15,
   "metadata": {},
   "outputs": [],
   "source": [
    "# начнем с замены типа данных\n",
    "df_calls['call_date'] = pd.to_datetime(df_calls['call_date'], format='%Y-%m-%d')\n",
    "df_internet['session_date'] = pd.to_datetime(df_internet['session_date'], format='%Y-%m-%d')\n",
    "df_messages['message_date'] = pd.to_datetime(df_messages['message_date'], format='%Y-%m-%d')\n",
    "df_users['churn_date'] = pd.to_datetime(df_users['churn_date'], format='%Y-%m-%d')\n",
    "df_users['reg_date'] = pd.to_datetime(df_users['reg_date'], format='%Y-%m-%d')"
   ]
  },
  {
   "cell_type": "code",
   "execution_count": 16,
   "metadata": {},
   "outputs": [],
   "source": [
    "# округлим значения продолжительности звонков, согласно условиям тарифов\n",
    "df_calls['duration'] = np.ceil(df_calls['duration'])"
   ]
  },
  {
   "cell_type": "code",
   "execution_count": 17,
   "metadata": {},
   "outputs": [],
   "source": [
    "# удалим столбец Unnamed: 0\n",
    "del df_internet['Unnamed: 0']"
   ]
  },
  {
   "cell_type": "code",
   "execution_count": 18,
   "metadata": {},
   "outputs": [],
   "source": [
    "# добавим в таблицы df_calls, df_internet, df_messages столбец с месяцем, для расчета помесячных затрат\n",
    "df_calls['month'] = df_calls['call_date'].dt.month\n",
    "df_internet['month'] = df_internet['session_date'].dt.month\n",
    "df_messages['month'] = df_messages['message_date'].dt.month"
   ]
  },
  {
   "cell_type": "code",
   "execution_count": 19,
   "metadata": {},
   "outputs": [
    {
     "data": {
      "text/html": [
       "<div>\n",
       "<style scoped>\n",
       "    .dataframe tbody tr th:only-of-type {\n",
       "        vertical-align: middle;\n",
       "    }\n",
       "\n",
       "    .dataframe tbody tr th {\n",
       "        vertical-align: top;\n",
       "    }\n",
       "\n",
       "    .dataframe thead th {\n",
       "        text-align: right;\n",
       "    }\n",
       "</style>\n",
       "<table border=\"1\" class=\"dataframe\">\n",
       "  <thead>\n",
       "    <tr style=\"text-align: right;\">\n",
       "      <th></th>\n",
       "      <th>user_id</th>\n",
       "      <th>month</th>\n",
       "      <th>calls_count</th>\n",
       "      <th>calls_sum</th>\n",
       "    </tr>\n",
       "  </thead>\n",
       "  <tbody>\n",
       "    <tr>\n",
       "      <th>0</th>\n",
       "      <td>1000</td>\n",
       "      <td>5</td>\n",
       "      <td>22</td>\n",
       "      <td>159.0</td>\n",
       "    </tr>\n",
       "    <tr>\n",
       "      <th>1</th>\n",
       "      <td>1000</td>\n",
       "      <td>6</td>\n",
       "      <td>43</td>\n",
       "      <td>172.0</td>\n",
       "    </tr>\n",
       "    <tr>\n",
       "      <th>2</th>\n",
       "      <td>1000</td>\n",
       "      <td>7</td>\n",
       "      <td>47</td>\n",
       "      <td>340.0</td>\n",
       "    </tr>\n",
       "    <tr>\n",
       "      <th>3</th>\n",
       "      <td>1000</td>\n",
       "      <td>8</td>\n",
       "      <td>52</td>\n",
       "      <td>408.0</td>\n",
       "    </tr>\n",
       "    <tr>\n",
       "      <th>4</th>\n",
       "      <td>1000</td>\n",
       "      <td>9</td>\n",
       "      <td>58</td>\n",
       "      <td>466.0</td>\n",
       "    </tr>\n",
       "    <tr>\n",
       "      <th>...</th>\n",
       "      <td>...</td>\n",
       "      <td>...</td>\n",
       "      <td>...</td>\n",
       "      <td>...</td>\n",
       "    </tr>\n",
       "    <tr>\n",
       "      <th>3169</th>\n",
       "      <td>1498</td>\n",
       "      <td>10</td>\n",
       "      <td>41</td>\n",
       "      <td>247.0</td>\n",
       "    </tr>\n",
       "    <tr>\n",
       "      <th>3170</th>\n",
       "      <td>1499</td>\n",
       "      <td>9</td>\n",
       "      <td>9</td>\n",
       "      <td>70.0</td>\n",
       "    </tr>\n",
       "    <tr>\n",
       "      <th>3171</th>\n",
       "      <td>1499</td>\n",
       "      <td>10</td>\n",
       "      <td>68</td>\n",
       "      <td>449.0</td>\n",
       "    </tr>\n",
       "    <tr>\n",
       "      <th>3172</th>\n",
       "      <td>1499</td>\n",
       "      <td>11</td>\n",
       "      <td>74</td>\n",
       "      <td>612.0</td>\n",
       "    </tr>\n",
       "    <tr>\n",
       "      <th>3173</th>\n",
       "      <td>1499</td>\n",
       "      <td>12</td>\n",
       "      <td>69</td>\n",
       "      <td>492.0</td>\n",
       "    </tr>\n",
       "  </tbody>\n",
       "</table>\n",
       "<p>3174 rows × 4 columns</p>\n",
       "</div>"
      ],
      "text/plain": [
       "      user_id  month  calls_count  calls_sum\n",
       "0        1000      5           22      159.0\n",
       "1        1000      6           43      172.0\n",
       "2        1000      7           47      340.0\n",
       "3        1000      8           52      408.0\n",
       "4        1000      9           58      466.0\n",
       "...       ...    ...          ...        ...\n",
       "3169     1498     10           41      247.0\n",
       "3170     1499      9            9       70.0\n",
       "3171     1499     10           68      449.0\n",
       "3172     1499     11           74      612.0\n",
       "3173     1499     12           69      492.0\n",
       "\n",
       "[3174 rows x 4 columns]"
      ]
     },
     "execution_count": 19,
     "metadata": {},
     "output_type": "execute_result"
    }
   ],
   "source": [
    "# посчитаем колличество звонков и их продолжительность \n",
    "df_calls_grouped = df_calls.groupby(['user_id', 'month'])['duration'].agg(['count', 'sum'])\n",
    "df_calls_grouped.columns = ['calls_count', 'calls_sum']\n",
    "df_calls_grouped.reset_index(inplace=True)\n",
    "df_calls_grouped"
   ]
  },
  {
   "cell_type": "code",
   "execution_count": 20,
   "metadata": {
    "scrolled": false
   },
   "outputs": [
    {
     "data": {
      "text/html": [
       "<div>\n",
       "<style scoped>\n",
       "    .dataframe tbody tr th:only-of-type {\n",
       "        vertical-align: middle;\n",
       "    }\n",
       "\n",
       "    .dataframe tbody tr th {\n",
       "        vertical-align: top;\n",
       "    }\n",
       "\n",
       "    .dataframe thead th {\n",
       "        text-align: right;\n",
       "    }\n",
       "</style>\n",
       "<table border=\"1\" class=\"dataframe\">\n",
       "  <thead>\n",
       "    <tr style=\"text-align: right;\">\n",
       "      <th></th>\n",
       "      <th>user_id</th>\n",
       "      <th>month</th>\n",
       "      <th>mb_used</th>\n",
       "    </tr>\n",
       "  </thead>\n",
       "  <tbody>\n",
       "    <tr>\n",
       "      <th>0</th>\n",
       "      <td>1000</td>\n",
       "      <td>5</td>\n",
       "      <td>2253.49</td>\n",
       "    </tr>\n",
       "    <tr>\n",
       "      <th>1</th>\n",
       "      <td>1000</td>\n",
       "      <td>6</td>\n",
       "      <td>23233.77</td>\n",
       "    </tr>\n",
       "    <tr>\n",
       "      <th>2</th>\n",
       "      <td>1000</td>\n",
       "      <td>7</td>\n",
       "      <td>14003.64</td>\n",
       "    </tr>\n",
       "    <tr>\n",
       "      <th>3</th>\n",
       "      <td>1000</td>\n",
       "      <td>8</td>\n",
       "      <td>14055.93</td>\n",
       "    </tr>\n",
       "    <tr>\n",
       "      <th>4</th>\n",
       "      <td>1000</td>\n",
       "      <td>9</td>\n",
       "      <td>14568.91</td>\n",
       "    </tr>\n",
       "    <tr>\n",
       "      <th>...</th>\n",
       "      <td>...</td>\n",
       "      <td>...</td>\n",
       "      <td>...</td>\n",
       "    </tr>\n",
       "    <tr>\n",
       "      <th>3198</th>\n",
       "      <td>1498</td>\n",
       "      <td>10</td>\n",
       "      <td>20579.36</td>\n",
       "    </tr>\n",
       "    <tr>\n",
       "      <th>3199</th>\n",
       "      <td>1499</td>\n",
       "      <td>9</td>\n",
       "      <td>1845.75</td>\n",
       "    </tr>\n",
       "    <tr>\n",
       "      <th>3200</th>\n",
       "      <td>1499</td>\n",
       "      <td>10</td>\n",
       "      <td>17788.51</td>\n",
       "    </tr>\n",
       "    <tr>\n",
       "      <th>3201</th>\n",
       "      <td>1499</td>\n",
       "      <td>11</td>\n",
       "      <td>17963.31</td>\n",
       "    </tr>\n",
       "    <tr>\n",
       "      <th>3202</th>\n",
       "      <td>1499</td>\n",
       "      <td>12</td>\n",
       "      <td>13055.58</td>\n",
       "    </tr>\n",
       "  </tbody>\n",
       "</table>\n",
       "<p>3203 rows × 3 columns</p>\n",
       "</div>"
      ],
      "text/plain": [
       "      user_id  month   mb_used\n",
       "0        1000      5   2253.49\n",
       "1        1000      6  23233.77\n",
       "2        1000      7  14003.64\n",
       "3        1000      8  14055.93\n",
       "4        1000      9  14568.91\n",
       "...       ...    ...       ...\n",
       "3198     1498     10  20579.36\n",
       "3199     1499      9   1845.75\n",
       "3200     1499     10  17788.51\n",
       "3201     1499     11  17963.31\n",
       "3202     1499     12  13055.58\n",
       "\n",
       "[3203 rows x 3 columns]"
      ]
     },
     "execution_count": 20,
     "metadata": {},
     "output_type": "execute_result"
    }
   ],
   "source": [
    "# посчитаем размер трафика в Мб\n",
    "df_internet_grouped = df_internet.groupby(['user_id', 'month'])['mb_used'].agg(['sum'])\n",
    "df_internet_grouped.columns = ['mb_used']\n",
    "df_internet_grouped.reset_index(inplace=True)\n",
    "df_internet_grouped"
   ]
  },
  {
   "cell_type": "code",
   "execution_count": 21,
   "metadata": {},
   "outputs": [],
   "source": [
    "# округлим значения колличества использьзованного трафика до целых, согласно условиям тарифов\n",
    "df_internet['mb_used'] = np.ceil(df_internet['mb_used'])"
   ]
  },
  {
   "cell_type": "markdown",
   "metadata": {},
   "source": [
    "Добавим в `df_internet_grouped` столбец с израсходованными Гб, так как в тарифе указаны именно гигабайты"
   ]
  },
  {
   "cell_type": "code",
   "execution_count": 22,
   "metadata": {},
   "outputs": [
    {
     "data": {
      "text/html": [
       "<div>\n",
       "<style scoped>\n",
       "    .dataframe tbody tr th:only-of-type {\n",
       "        vertical-align: middle;\n",
       "    }\n",
       "\n",
       "    .dataframe tbody tr th {\n",
       "        vertical-align: top;\n",
       "    }\n",
       "\n",
       "    .dataframe thead th {\n",
       "        text-align: right;\n",
       "    }\n",
       "</style>\n",
       "<table border=\"1\" class=\"dataframe\">\n",
       "  <thead>\n",
       "    <tr style=\"text-align: right;\">\n",
       "      <th></th>\n",
       "      <th>user_id</th>\n",
       "      <th>month</th>\n",
       "      <th>mb_used</th>\n",
       "      <th>gb_used</th>\n",
       "    </tr>\n",
       "  </thead>\n",
       "  <tbody>\n",
       "    <tr>\n",
       "      <th>0</th>\n",
       "      <td>1000</td>\n",
       "      <td>5</td>\n",
       "      <td>2253.49</td>\n",
       "      <td>3</td>\n",
       "    </tr>\n",
       "    <tr>\n",
       "      <th>1</th>\n",
       "      <td>1000</td>\n",
       "      <td>6</td>\n",
       "      <td>23233.77</td>\n",
       "      <td>23</td>\n",
       "    </tr>\n",
       "    <tr>\n",
       "      <th>2</th>\n",
       "      <td>1000</td>\n",
       "      <td>7</td>\n",
       "      <td>14003.64</td>\n",
       "      <td>14</td>\n",
       "    </tr>\n",
       "    <tr>\n",
       "      <th>3</th>\n",
       "      <td>1000</td>\n",
       "      <td>8</td>\n",
       "      <td>14055.93</td>\n",
       "      <td>14</td>\n",
       "    </tr>\n",
       "    <tr>\n",
       "      <th>4</th>\n",
       "      <td>1000</td>\n",
       "      <td>9</td>\n",
       "      <td>14568.91</td>\n",
       "      <td>15</td>\n",
       "    </tr>\n",
       "    <tr>\n",
       "      <th>...</th>\n",
       "      <td>...</td>\n",
       "      <td>...</td>\n",
       "      <td>...</td>\n",
       "      <td>...</td>\n",
       "    </tr>\n",
       "    <tr>\n",
       "      <th>3198</th>\n",
       "      <td>1498</td>\n",
       "      <td>10</td>\n",
       "      <td>20579.36</td>\n",
       "      <td>21</td>\n",
       "    </tr>\n",
       "    <tr>\n",
       "      <th>3199</th>\n",
       "      <td>1499</td>\n",
       "      <td>9</td>\n",
       "      <td>1845.75</td>\n",
       "      <td>2</td>\n",
       "    </tr>\n",
       "    <tr>\n",
       "      <th>3200</th>\n",
       "      <td>1499</td>\n",
       "      <td>10</td>\n",
       "      <td>17788.51</td>\n",
       "      <td>18</td>\n",
       "    </tr>\n",
       "    <tr>\n",
       "      <th>3201</th>\n",
       "      <td>1499</td>\n",
       "      <td>11</td>\n",
       "      <td>17963.31</td>\n",
       "      <td>18</td>\n",
       "    </tr>\n",
       "    <tr>\n",
       "      <th>3202</th>\n",
       "      <td>1499</td>\n",
       "      <td>12</td>\n",
       "      <td>13055.58</td>\n",
       "      <td>13</td>\n",
       "    </tr>\n",
       "  </tbody>\n",
       "</table>\n",
       "<p>3203 rows × 4 columns</p>\n",
       "</div>"
      ],
      "text/plain": [
       "      user_id  month   mb_used  gb_used\n",
       "0        1000      5   2253.49        3\n",
       "1        1000      6  23233.77       23\n",
       "2        1000      7  14003.64       14\n",
       "3        1000      8  14055.93       14\n",
       "4        1000      9  14568.91       15\n",
       "...       ...    ...       ...      ...\n",
       "3198     1498     10  20579.36       21\n",
       "3199     1499      9   1845.75        2\n",
       "3200     1499     10  17788.51       18\n",
       "3201     1499     11  17963.31       18\n",
       "3202     1499     12  13055.58       13\n",
       "\n",
       "[3203 rows x 4 columns]"
      ]
     },
     "execution_count": 22,
     "metadata": {},
     "output_type": "execute_result"
    }
   ],
   "source": [
    "df_internet_grouped['gb_used'] = (df_internet_grouped['mb_used']/1024).apply(math.ceil)\n",
    "df_internet_grouped"
   ]
  },
  {
   "cell_type": "code",
   "execution_count": 23,
   "metadata": {
    "scrolled": true
   },
   "outputs": [
    {
     "data": {
      "text/html": [
       "<div>\n",
       "<style scoped>\n",
       "    .dataframe tbody tr th:only-of-type {\n",
       "        vertical-align: middle;\n",
       "    }\n",
       "\n",
       "    .dataframe tbody tr th {\n",
       "        vertical-align: top;\n",
       "    }\n",
       "\n",
       "    .dataframe thead th {\n",
       "        text-align: right;\n",
       "    }\n",
       "</style>\n",
       "<table border=\"1\" class=\"dataframe\">\n",
       "  <thead>\n",
       "    <tr style=\"text-align: right;\">\n",
       "      <th></th>\n",
       "      <th>user_id</th>\n",
       "      <th>month</th>\n",
       "      <th>messages_count</th>\n",
       "    </tr>\n",
       "  </thead>\n",
       "  <tbody>\n",
       "    <tr>\n",
       "      <th>0</th>\n",
       "      <td>1000</td>\n",
       "      <td>5</td>\n",
       "      <td>22</td>\n",
       "    </tr>\n",
       "    <tr>\n",
       "      <th>1</th>\n",
       "      <td>1000</td>\n",
       "      <td>6</td>\n",
       "      <td>60</td>\n",
       "    </tr>\n",
       "    <tr>\n",
       "      <th>2</th>\n",
       "      <td>1000</td>\n",
       "      <td>7</td>\n",
       "      <td>75</td>\n",
       "    </tr>\n",
       "    <tr>\n",
       "      <th>3</th>\n",
       "      <td>1000</td>\n",
       "      <td>8</td>\n",
       "      <td>81</td>\n",
       "    </tr>\n",
       "    <tr>\n",
       "      <th>4</th>\n",
       "      <td>1000</td>\n",
       "      <td>9</td>\n",
       "      <td>57</td>\n",
       "    </tr>\n",
       "    <tr>\n",
       "      <th>...</th>\n",
       "      <td>...</td>\n",
       "      <td>...</td>\n",
       "      <td>...</td>\n",
       "    </tr>\n",
       "    <tr>\n",
       "      <th>2712</th>\n",
       "      <td>1498</td>\n",
       "      <td>10</td>\n",
       "      <td>42</td>\n",
       "    </tr>\n",
       "    <tr>\n",
       "      <th>2713</th>\n",
       "      <td>1499</td>\n",
       "      <td>9</td>\n",
       "      <td>11</td>\n",
       "    </tr>\n",
       "    <tr>\n",
       "      <th>2714</th>\n",
       "      <td>1499</td>\n",
       "      <td>10</td>\n",
       "      <td>48</td>\n",
       "    </tr>\n",
       "    <tr>\n",
       "      <th>2715</th>\n",
       "      <td>1499</td>\n",
       "      <td>11</td>\n",
       "      <td>59</td>\n",
       "    </tr>\n",
       "    <tr>\n",
       "      <th>2716</th>\n",
       "      <td>1499</td>\n",
       "      <td>12</td>\n",
       "      <td>66</td>\n",
       "    </tr>\n",
       "  </tbody>\n",
       "</table>\n",
       "<p>2717 rows × 3 columns</p>\n",
       "</div>"
      ],
      "text/plain": [
       "      user_id  month  messages_count\n",
       "0        1000      5              22\n",
       "1        1000      6              60\n",
       "2        1000      7              75\n",
       "3        1000      8              81\n",
       "4        1000      9              57\n",
       "...       ...    ...             ...\n",
       "2712     1498     10              42\n",
       "2713     1499      9              11\n",
       "2714     1499     10              48\n",
       "2715     1499     11              59\n",
       "2716     1499     12              66\n",
       "\n",
       "[2717 rows x 3 columns]"
      ]
     },
     "execution_count": 23,
     "metadata": {},
     "output_type": "execute_result"
    }
   ],
   "source": [
    "# посчитаем колличество отправленных смс\n",
    "df_messages_grouped = df_messages.groupby(['user_id', 'month'])['id'].agg(['count'])\n",
    "df_messages_grouped.columns = ['messages_count']\n",
    "df_messages_grouped.reset_index(inplace=True)\n",
    "df_messages_grouped"
   ]
  },
  {
   "cell_type": "code",
   "execution_count": 24,
   "metadata": {
    "scrolled": true
   },
   "outputs": [
    {
     "data": {
      "text/html": [
       "<div>\n",
       "<style scoped>\n",
       "    .dataframe tbody tr th:only-of-type {\n",
       "        vertical-align: middle;\n",
       "    }\n",
       "\n",
       "    .dataframe tbody tr th {\n",
       "        vertical-align: top;\n",
       "    }\n",
       "\n",
       "    .dataframe thead th {\n",
       "        text-align: right;\n",
       "    }\n",
       "</style>\n",
       "<table border=\"1\" class=\"dataframe\">\n",
       "  <thead>\n",
       "    <tr style=\"text-align: right;\">\n",
       "      <th></th>\n",
       "      <th>user_id</th>\n",
       "      <th>month</th>\n",
       "      <th>calls_count</th>\n",
       "      <th>calls_sum</th>\n",
       "      <th>messages_count</th>\n",
       "      <th>mb_used</th>\n",
       "      <th>gb_used</th>\n",
       "      <th>tariff</th>\n",
       "      <th>city</th>\n",
       "    </tr>\n",
       "  </thead>\n",
       "  <tbody>\n",
       "    <tr>\n",
       "      <th>0</th>\n",
       "      <td>1000</td>\n",
       "      <td>5.0</td>\n",
       "      <td>22.0</td>\n",
       "      <td>159.0</td>\n",
       "      <td>22.0</td>\n",
       "      <td>2253.49</td>\n",
       "      <td>3.0</td>\n",
       "      <td>ultra</td>\n",
       "      <td>Краснодар</td>\n",
       "    </tr>\n",
       "    <tr>\n",
       "      <th>1</th>\n",
       "      <td>1000</td>\n",
       "      <td>6.0</td>\n",
       "      <td>43.0</td>\n",
       "      <td>172.0</td>\n",
       "      <td>60.0</td>\n",
       "      <td>23233.77</td>\n",
       "      <td>23.0</td>\n",
       "      <td>ultra</td>\n",
       "      <td>Краснодар</td>\n",
       "    </tr>\n",
       "    <tr>\n",
       "      <th>2</th>\n",
       "      <td>1000</td>\n",
       "      <td>7.0</td>\n",
       "      <td>47.0</td>\n",
       "      <td>340.0</td>\n",
       "      <td>75.0</td>\n",
       "      <td>14003.64</td>\n",
       "      <td>14.0</td>\n",
       "      <td>ultra</td>\n",
       "      <td>Краснодар</td>\n",
       "    </tr>\n",
       "    <tr>\n",
       "      <th>3</th>\n",
       "      <td>1000</td>\n",
       "      <td>8.0</td>\n",
       "      <td>52.0</td>\n",
       "      <td>408.0</td>\n",
       "      <td>81.0</td>\n",
       "      <td>14055.93</td>\n",
       "      <td>14.0</td>\n",
       "      <td>ultra</td>\n",
       "      <td>Краснодар</td>\n",
       "    </tr>\n",
       "    <tr>\n",
       "      <th>4</th>\n",
       "      <td>1000</td>\n",
       "      <td>9.0</td>\n",
       "      <td>58.0</td>\n",
       "      <td>466.0</td>\n",
       "      <td>57.0</td>\n",
       "      <td>14568.91</td>\n",
       "      <td>15.0</td>\n",
       "      <td>ultra</td>\n",
       "      <td>Краснодар</td>\n",
       "    </tr>\n",
       "    <tr>\n",
       "      <th>...</th>\n",
       "      <td>...</td>\n",
       "      <td>...</td>\n",
       "      <td>...</td>\n",
       "      <td>...</td>\n",
       "      <td>...</td>\n",
       "      <td>...</td>\n",
       "      <td>...</td>\n",
       "      <td>...</td>\n",
       "      <td>...</td>\n",
       "    </tr>\n",
       "    <tr>\n",
       "      <th>3211</th>\n",
       "      <td>1489</td>\n",
       "      <td>10.0</td>\n",
       "      <td>NaN</td>\n",
       "      <td>NaN</td>\n",
       "      <td>21.0</td>\n",
       "      <td>19559.44</td>\n",
       "      <td>20.0</td>\n",
       "      <td>smart</td>\n",
       "      <td>Санкт-Петербург</td>\n",
       "    </tr>\n",
       "    <tr>\n",
       "      <th>3212</th>\n",
       "      <td>1489</td>\n",
       "      <td>11.0</td>\n",
       "      <td>NaN</td>\n",
       "      <td>NaN</td>\n",
       "      <td>20.0</td>\n",
       "      <td>17491.56</td>\n",
       "      <td>18.0</td>\n",
       "      <td>smart</td>\n",
       "      <td>Санкт-Петербург</td>\n",
       "    </tr>\n",
       "    <tr>\n",
       "      <th>3213</th>\n",
       "      <td>1489</td>\n",
       "      <td>12.0</td>\n",
       "      <td>NaN</td>\n",
       "      <td>NaN</td>\n",
       "      <td>35.0</td>\n",
       "      <td>17322.51</td>\n",
       "      <td>17.0</td>\n",
       "      <td>smart</td>\n",
       "      <td>Санкт-Петербург</td>\n",
       "    </tr>\n",
       "    <tr>\n",
       "      <th>3214</th>\n",
       "      <td>1128</td>\n",
       "      <td>NaN</td>\n",
       "      <td>NaN</td>\n",
       "      <td>NaN</td>\n",
       "      <td>NaN</td>\n",
       "      <td>NaN</td>\n",
       "      <td>NaN</td>\n",
       "      <td>ultra</td>\n",
       "      <td>Волжский</td>\n",
       "    </tr>\n",
       "    <tr>\n",
       "      <th>3215</th>\n",
       "      <td>1371</td>\n",
       "      <td>NaN</td>\n",
       "      <td>NaN</td>\n",
       "      <td>NaN</td>\n",
       "      <td>NaN</td>\n",
       "      <td>NaN</td>\n",
       "      <td>NaN</td>\n",
       "      <td>smart</td>\n",
       "      <td>Омск</td>\n",
       "    </tr>\n",
       "  </tbody>\n",
       "</table>\n",
       "<p>3216 rows × 9 columns</p>\n",
       "</div>"
      ],
      "text/plain": [
       "      user_id  month  calls_count  calls_sum  messages_count   mb_used  \\\n",
       "0        1000    5.0         22.0      159.0            22.0   2253.49   \n",
       "1        1000    6.0         43.0      172.0            60.0  23233.77   \n",
       "2        1000    7.0         47.0      340.0            75.0  14003.64   \n",
       "3        1000    8.0         52.0      408.0            81.0  14055.93   \n",
       "4        1000    9.0         58.0      466.0            57.0  14568.91   \n",
       "...       ...    ...          ...        ...             ...       ...   \n",
       "3211     1489   10.0          NaN        NaN            21.0  19559.44   \n",
       "3212     1489   11.0          NaN        NaN            20.0  17491.56   \n",
       "3213     1489   12.0          NaN        NaN            35.0  17322.51   \n",
       "3214     1128    NaN          NaN        NaN             NaN       NaN   \n",
       "3215     1371    NaN          NaN        NaN             NaN       NaN   \n",
       "\n",
       "      gb_used tariff             city  \n",
       "0         3.0  ultra        Краснодар  \n",
       "1        23.0  ultra        Краснодар  \n",
       "2        14.0  ultra        Краснодар  \n",
       "3        14.0  ultra        Краснодар  \n",
       "4        15.0  ultra        Краснодар  \n",
       "...       ...    ...              ...  \n",
       "3211     20.0  smart  Санкт-Петербург  \n",
       "3212     18.0  smart  Санкт-Петербург  \n",
       "3213     17.0  smart  Санкт-Петербург  \n",
       "3214      NaN  ultra         Волжский  \n",
       "3215      NaN  smart             Омск  \n",
       "\n",
       "[3216 rows x 9 columns]"
      ]
     },
     "execution_count": 24,
     "metadata": {},
     "output_type": "execute_result"
    }
   ],
   "source": [
    "# объединим расчеты в одну таблицу\n",
    "df_grouped = df_calls_grouped.merge(df_messages_grouped, on=['user_id', 'month'], how='outer')\n",
    "df_grouped = df_grouped.merge(df_internet_grouped, on=['user_id', 'month'], how='outer')\n",
    "df_grouped= df_grouped.merge(df_users[['user_id', 'tariff', 'city']], on=['user_id'], how='outer')\n",
    "df_grouped"
   ]
  },
  {
   "cell_type": "code",
   "execution_count": 25,
   "metadata": {
    "scrolled": true
   },
   "outputs": [
    {
     "data": {
      "text/plain": [
       "user_id             0\n",
       "month               2\n",
       "calls_count        42\n",
       "calls_sum          42\n",
       "messages_count    499\n",
       "mb_used            13\n",
       "gb_used            13\n",
       "tariff              0\n",
       "city                0\n",
       "dtype: int64"
      ]
     },
     "execution_count": 25,
     "metadata": {},
     "output_type": "execute_result"
    }
   ],
   "source": [
    "# проверим пропущенные значения\n",
    "df_grouped.isna().sum()"
   ]
  },
  {
   "cell_type": "code",
   "execution_count": 26,
   "metadata": {},
   "outputs": [
    {
     "data": {
      "text/html": [
       "<div>\n",
       "<style scoped>\n",
       "    .dataframe tbody tr th:only-of-type {\n",
       "        vertical-align: middle;\n",
       "    }\n",
       "\n",
       "    .dataframe tbody tr th {\n",
       "        vertical-align: top;\n",
       "    }\n",
       "\n",
       "    .dataframe thead th {\n",
       "        text-align: right;\n",
       "    }\n",
       "</style>\n",
       "<table border=\"1\" class=\"dataframe\">\n",
       "  <thead>\n",
       "    <tr style=\"text-align: right;\">\n",
       "      <th></th>\n",
       "      <th>user_id</th>\n",
       "      <th>month</th>\n",
       "      <th>calls_count</th>\n",
       "      <th>calls_sum</th>\n",
       "      <th>messages_count</th>\n",
       "      <th>mb_used</th>\n",
       "      <th>gb_used</th>\n",
       "      <th>tariff</th>\n",
       "      <th>city</th>\n",
       "    </tr>\n",
       "  </thead>\n",
       "  <tbody>\n",
       "    <tr>\n",
       "      <th>0</th>\n",
       "      <td>1000</td>\n",
       "      <td>5</td>\n",
       "      <td>22</td>\n",
       "      <td>159</td>\n",
       "      <td>22</td>\n",
       "      <td>2253</td>\n",
       "      <td>3</td>\n",
       "      <td>ultra</td>\n",
       "      <td>Краснодар</td>\n",
       "    </tr>\n",
       "    <tr>\n",
       "      <th>1</th>\n",
       "      <td>1000</td>\n",
       "      <td>6</td>\n",
       "      <td>43</td>\n",
       "      <td>172</td>\n",
       "      <td>60</td>\n",
       "      <td>23233</td>\n",
       "      <td>23</td>\n",
       "      <td>ultra</td>\n",
       "      <td>Краснодар</td>\n",
       "    </tr>\n",
       "    <tr>\n",
       "      <th>2</th>\n",
       "      <td>1000</td>\n",
       "      <td>7</td>\n",
       "      <td>47</td>\n",
       "      <td>340</td>\n",
       "      <td>75</td>\n",
       "      <td>14003</td>\n",
       "      <td>14</td>\n",
       "      <td>ultra</td>\n",
       "      <td>Краснодар</td>\n",
       "    </tr>\n",
       "    <tr>\n",
       "      <th>3</th>\n",
       "      <td>1000</td>\n",
       "      <td>8</td>\n",
       "      <td>52</td>\n",
       "      <td>408</td>\n",
       "      <td>81</td>\n",
       "      <td>14055</td>\n",
       "      <td>14</td>\n",
       "      <td>ultra</td>\n",
       "      <td>Краснодар</td>\n",
       "    </tr>\n",
       "    <tr>\n",
       "      <th>4</th>\n",
       "      <td>1000</td>\n",
       "      <td>9</td>\n",
       "      <td>58</td>\n",
       "      <td>466</td>\n",
       "      <td>57</td>\n",
       "      <td>14568</td>\n",
       "      <td>15</td>\n",
       "      <td>ultra</td>\n",
       "      <td>Краснодар</td>\n",
       "    </tr>\n",
       "    <tr>\n",
       "      <th>...</th>\n",
       "      <td>...</td>\n",
       "      <td>...</td>\n",
       "      <td>...</td>\n",
       "      <td>...</td>\n",
       "      <td>...</td>\n",
       "      <td>...</td>\n",
       "      <td>...</td>\n",
       "      <td>...</td>\n",
       "      <td>...</td>\n",
       "    </tr>\n",
       "    <tr>\n",
       "      <th>3211</th>\n",
       "      <td>1489</td>\n",
       "      <td>10</td>\n",
       "      <td>0</td>\n",
       "      <td>0</td>\n",
       "      <td>21</td>\n",
       "      <td>19559</td>\n",
       "      <td>20</td>\n",
       "      <td>smart</td>\n",
       "      <td>Санкт-Петербург</td>\n",
       "    </tr>\n",
       "    <tr>\n",
       "      <th>3212</th>\n",
       "      <td>1489</td>\n",
       "      <td>11</td>\n",
       "      <td>0</td>\n",
       "      <td>0</td>\n",
       "      <td>20</td>\n",
       "      <td>17491</td>\n",
       "      <td>18</td>\n",
       "      <td>smart</td>\n",
       "      <td>Санкт-Петербург</td>\n",
       "    </tr>\n",
       "    <tr>\n",
       "      <th>3213</th>\n",
       "      <td>1489</td>\n",
       "      <td>12</td>\n",
       "      <td>0</td>\n",
       "      <td>0</td>\n",
       "      <td>35</td>\n",
       "      <td>17322</td>\n",
       "      <td>17</td>\n",
       "      <td>smart</td>\n",
       "      <td>Санкт-Петербург</td>\n",
       "    </tr>\n",
       "    <tr>\n",
       "      <th>3214</th>\n",
       "      <td>1128</td>\n",
       "      <td>0</td>\n",
       "      <td>0</td>\n",
       "      <td>0</td>\n",
       "      <td>0</td>\n",
       "      <td>0</td>\n",
       "      <td>0</td>\n",
       "      <td>ultra</td>\n",
       "      <td>Волжский</td>\n",
       "    </tr>\n",
       "    <tr>\n",
       "      <th>3215</th>\n",
       "      <td>1371</td>\n",
       "      <td>0</td>\n",
       "      <td>0</td>\n",
       "      <td>0</td>\n",
       "      <td>0</td>\n",
       "      <td>0</td>\n",
       "      <td>0</td>\n",
       "      <td>smart</td>\n",
       "      <td>Омск</td>\n",
       "    </tr>\n",
       "  </tbody>\n",
       "</table>\n",
       "<p>3216 rows × 9 columns</p>\n",
       "</div>"
      ],
      "text/plain": [
       "      user_id  month  calls_count  calls_sum  messages_count  mb_used  \\\n",
       "0        1000      5           22        159              22     2253   \n",
       "1        1000      6           43        172              60    23233   \n",
       "2        1000      7           47        340              75    14003   \n",
       "3        1000      8           52        408              81    14055   \n",
       "4        1000      9           58        466              57    14568   \n",
       "...       ...    ...          ...        ...             ...      ...   \n",
       "3211     1489     10            0          0              21    19559   \n",
       "3212     1489     11            0          0              20    17491   \n",
       "3213     1489     12            0          0              35    17322   \n",
       "3214     1128      0            0          0               0        0   \n",
       "3215     1371      0            0          0               0        0   \n",
       "\n",
       "      gb_used tariff             city  \n",
       "0           3  ultra        Краснодар  \n",
       "1          23  ultra        Краснодар  \n",
       "2          14  ultra        Краснодар  \n",
       "3          14  ultra        Краснодар  \n",
       "4          15  ultra        Краснодар  \n",
       "...       ...    ...              ...  \n",
       "3211       20  smart  Санкт-Петербург  \n",
       "3212       18  smart  Санкт-Петербург  \n",
       "3213       17  smart  Санкт-Петербург  \n",
       "3214        0  ultra         Волжский  \n",
       "3215        0  smart             Омск  \n",
       "\n",
       "[3216 rows x 9 columns]"
      ]
     },
     "execution_count": 26,
     "metadata": {},
     "output_type": "execute_result"
    }
   ],
   "source": [
    "# заполним все значения NAN нулями и приведем к целочисленным значениям, одной строкой\n",
    "df_grouped[['month', 'calls_count', 'calls_sum',\n",
    "            'messages_count', 'mb_used', 'gb_used']] = df_grouped[['month', 'calls_count', 'calls_sum',\n",
    "                                                                   'messages_count', 'mb_used', 'gb_used']].fillna(0).astype(int)\n",
    "df_grouped    "
   ]
  },
  {
   "cell_type": "code",
   "execution_count": 27,
   "metadata": {
    "scrolled": false
   },
   "outputs": [
    {
     "data": {
      "text/html": [
       "<div>\n",
       "<style scoped>\n",
       "    .dataframe tbody tr th:only-of-type {\n",
       "        vertical-align: middle;\n",
       "    }\n",
       "\n",
       "    .dataframe tbody tr th {\n",
       "        vertical-align: top;\n",
       "    }\n",
       "\n",
       "    .dataframe thead th {\n",
       "        text-align: right;\n",
       "    }\n",
       "</style>\n",
       "<table border=\"1\" class=\"dataframe\">\n",
       "  <thead>\n",
       "    <tr style=\"text-align: right;\">\n",
       "      <th></th>\n",
       "      <th>messages_included</th>\n",
       "      <th>mb_per_month_included</th>\n",
       "      <th>minutes_included</th>\n",
       "      <th>rub_monthly_fee</th>\n",
       "      <th>rub_per_gb</th>\n",
       "      <th>rub_per_message</th>\n",
       "      <th>rub_per_minute</th>\n",
       "      <th>tariff_name</th>\n",
       "    </tr>\n",
       "  </thead>\n",
       "  <tbody>\n",
       "    <tr>\n",
       "      <th>0</th>\n",
       "      <td>50</td>\n",
       "      <td>15360</td>\n",
       "      <td>500</td>\n",
       "      <td>550</td>\n",
       "      <td>200</td>\n",
       "      <td>3</td>\n",
       "      <td>3</td>\n",
       "      <td>smart</td>\n",
       "    </tr>\n",
       "    <tr>\n",
       "      <th>1</th>\n",
       "      <td>1000</td>\n",
       "      <td>30720</td>\n",
       "      <td>3000</td>\n",
       "      <td>1950</td>\n",
       "      <td>150</td>\n",
       "      <td>1</td>\n",
       "      <td>1</td>\n",
       "      <td>ultra</td>\n",
       "    </tr>\n",
       "  </tbody>\n",
       "</table>\n",
       "</div>"
      ],
      "text/plain": [
       "   messages_included  mb_per_month_included  minutes_included  \\\n",
       "0                 50                  15360               500   \n",
       "1               1000                  30720              3000   \n",
       "\n",
       "   rub_monthly_fee  rub_per_gb  rub_per_message  rub_per_minute tariff_name  \n",
       "0              550         200                3               3       smart  \n",
       "1             1950         150                1               1       ultra  "
      ]
     },
     "execution_count": 27,
     "metadata": {},
     "output_type": "execute_result"
    }
   ],
   "source": [
    "df_tariffs"
   ]
  },
  {
   "cell_type": "markdown",
   "metadata": {},
   "source": [
    "Для дальнейшего расчета помесячной выручки нам понадобится объединить сводную таблицу с таблицей тарифов"
   ]
  },
  {
   "cell_type": "code",
   "execution_count": 28,
   "metadata": {
    "scrolled": false
   },
   "outputs": [],
   "source": [
    "# для этого изменим название столбца tariff_name на tariff\n",
    "df_tariffs = df_tariffs.rename(columns={'tariff_name':'tariff'})\n",
    "# добавим столбец с трафиком в гигабайтах\n",
    "df_tariffs.insert(2, 'gb_per_month_included', (df_tariffs['mb_per_month_included']/1024).astype('int'))"
   ]
  },
  {
   "cell_type": "code",
   "execution_count": 29,
   "metadata": {
    "scrolled": true
   },
   "outputs": [
    {
     "data": {
      "text/html": [
       "<div>\n",
       "<style scoped>\n",
       "    .dataframe tbody tr th:only-of-type {\n",
       "        vertical-align: middle;\n",
       "    }\n",
       "\n",
       "    .dataframe tbody tr th {\n",
       "        vertical-align: top;\n",
       "    }\n",
       "\n",
       "    .dataframe thead th {\n",
       "        text-align: right;\n",
       "    }\n",
       "</style>\n",
       "<table border=\"1\" class=\"dataframe\">\n",
       "  <thead>\n",
       "    <tr style=\"text-align: right;\">\n",
       "      <th></th>\n",
       "      <th>user_id</th>\n",
       "      <th>month</th>\n",
       "      <th>calls_count</th>\n",
       "      <th>calls_sum</th>\n",
       "      <th>messages_count</th>\n",
       "      <th>mb_used</th>\n",
       "      <th>gb_used</th>\n",
       "      <th>tariff</th>\n",
       "      <th>city</th>\n",
       "      <th>messages_included</th>\n",
       "      <th>mb_per_month_included</th>\n",
       "      <th>gb_per_month_included</th>\n",
       "      <th>minutes_included</th>\n",
       "      <th>rub_monthly_fee</th>\n",
       "      <th>rub_per_gb</th>\n",
       "      <th>rub_per_message</th>\n",
       "      <th>rub_per_minute</th>\n",
       "    </tr>\n",
       "  </thead>\n",
       "  <tbody>\n",
       "    <tr>\n",
       "      <th>0</th>\n",
       "      <td>1000</td>\n",
       "      <td>5</td>\n",
       "      <td>22</td>\n",
       "      <td>159</td>\n",
       "      <td>22</td>\n",
       "      <td>2253</td>\n",
       "      <td>3</td>\n",
       "      <td>ultra</td>\n",
       "      <td>Краснодар</td>\n",
       "      <td>1000</td>\n",
       "      <td>30720</td>\n",
       "      <td>30</td>\n",
       "      <td>3000</td>\n",
       "      <td>1950</td>\n",
       "      <td>150</td>\n",
       "      <td>1</td>\n",
       "      <td>1</td>\n",
       "    </tr>\n",
       "    <tr>\n",
       "      <th>1</th>\n",
       "      <td>1000</td>\n",
       "      <td>6</td>\n",
       "      <td>43</td>\n",
       "      <td>172</td>\n",
       "      <td>60</td>\n",
       "      <td>23233</td>\n",
       "      <td>23</td>\n",
       "      <td>ultra</td>\n",
       "      <td>Краснодар</td>\n",
       "      <td>1000</td>\n",
       "      <td>30720</td>\n",
       "      <td>30</td>\n",
       "      <td>3000</td>\n",
       "      <td>1950</td>\n",
       "      <td>150</td>\n",
       "      <td>1</td>\n",
       "      <td>1</td>\n",
       "    </tr>\n",
       "    <tr>\n",
       "      <th>2</th>\n",
       "      <td>1000</td>\n",
       "      <td>7</td>\n",
       "      <td>47</td>\n",
       "      <td>340</td>\n",
       "      <td>75</td>\n",
       "      <td>14003</td>\n",
       "      <td>14</td>\n",
       "      <td>ultra</td>\n",
       "      <td>Краснодар</td>\n",
       "      <td>1000</td>\n",
       "      <td>30720</td>\n",
       "      <td>30</td>\n",
       "      <td>3000</td>\n",
       "      <td>1950</td>\n",
       "      <td>150</td>\n",
       "      <td>1</td>\n",
       "      <td>1</td>\n",
       "    </tr>\n",
       "    <tr>\n",
       "      <th>3</th>\n",
       "      <td>1000</td>\n",
       "      <td>8</td>\n",
       "      <td>52</td>\n",
       "      <td>408</td>\n",
       "      <td>81</td>\n",
       "      <td>14055</td>\n",
       "      <td>14</td>\n",
       "      <td>ultra</td>\n",
       "      <td>Краснодар</td>\n",
       "      <td>1000</td>\n",
       "      <td>30720</td>\n",
       "      <td>30</td>\n",
       "      <td>3000</td>\n",
       "      <td>1950</td>\n",
       "      <td>150</td>\n",
       "      <td>1</td>\n",
       "      <td>1</td>\n",
       "    </tr>\n",
       "    <tr>\n",
       "      <th>4</th>\n",
       "      <td>1000</td>\n",
       "      <td>9</td>\n",
       "      <td>58</td>\n",
       "      <td>466</td>\n",
       "      <td>57</td>\n",
       "      <td>14568</td>\n",
       "      <td>15</td>\n",
       "      <td>ultra</td>\n",
       "      <td>Краснодар</td>\n",
       "      <td>1000</td>\n",
       "      <td>30720</td>\n",
       "      <td>30</td>\n",
       "      <td>3000</td>\n",
       "      <td>1950</td>\n",
       "      <td>150</td>\n",
       "      <td>1</td>\n",
       "      <td>1</td>\n",
       "    </tr>\n",
       "    <tr>\n",
       "      <th>...</th>\n",
       "      <td>...</td>\n",
       "      <td>...</td>\n",
       "      <td>...</td>\n",
       "      <td>...</td>\n",
       "      <td>...</td>\n",
       "      <td>...</td>\n",
       "      <td>...</td>\n",
       "      <td>...</td>\n",
       "      <td>...</td>\n",
       "      <td>...</td>\n",
       "      <td>...</td>\n",
       "      <td>...</td>\n",
       "      <td>...</td>\n",
       "      <td>...</td>\n",
       "      <td>...</td>\n",
       "      <td>...</td>\n",
       "      <td>...</td>\n",
       "    </tr>\n",
       "    <tr>\n",
       "      <th>3211</th>\n",
       "      <td>1489</td>\n",
       "      <td>9</td>\n",
       "      <td>0</td>\n",
       "      <td>0</td>\n",
       "      <td>32</td>\n",
       "      <td>17206</td>\n",
       "      <td>17</td>\n",
       "      <td>smart</td>\n",
       "      <td>Санкт-Петербург</td>\n",
       "      <td>50</td>\n",
       "      <td>15360</td>\n",
       "      <td>15</td>\n",
       "      <td>500</td>\n",
       "      <td>550</td>\n",
       "      <td>200</td>\n",
       "      <td>3</td>\n",
       "      <td>3</td>\n",
       "    </tr>\n",
       "    <tr>\n",
       "      <th>3212</th>\n",
       "      <td>1489</td>\n",
       "      <td>10</td>\n",
       "      <td>0</td>\n",
       "      <td>0</td>\n",
       "      <td>21</td>\n",
       "      <td>19559</td>\n",
       "      <td>20</td>\n",
       "      <td>smart</td>\n",
       "      <td>Санкт-Петербург</td>\n",
       "      <td>50</td>\n",
       "      <td>15360</td>\n",
       "      <td>15</td>\n",
       "      <td>500</td>\n",
       "      <td>550</td>\n",
       "      <td>200</td>\n",
       "      <td>3</td>\n",
       "      <td>3</td>\n",
       "    </tr>\n",
       "    <tr>\n",
       "      <th>3213</th>\n",
       "      <td>1489</td>\n",
       "      <td>11</td>\n",
       "      <td>0</td>\n",
       "      <td>0</td>\n",
       "      <td>20</td>\n",
       "      <td>17491</td>\n",
       "      <td>18</td>\n",
       "      <td>smart</td>\n",
       "      <td>Санкт-Петербург</td>\n",
       "      <td>50</td>\n",
       "      <td>15360</td>\n",
       "      <td>15</td>\n",
       "      <td>500</td>\n",
       "      <td>550</td>\n",
       "      <td>200</td>\n",
       "      <td>3</td>\n",
       "      <td>3</td>\n",
       "    </tr>\n",
       "    <tr>\n",
       "      <th>3214</th>\n",
       "      <td>1489</td>\n",
       "      <td>12</td>\n",
       "      <td>0</td>\n",
       "      <td>0</td>\n",
       "      <td>35</td>\n",
       "      <td>17322</td>\n",
       "      <td>17</td>\n",
       "      <td>smart</td>\n",
       "      <td>Санкт-Петербург</td>\n",
       "      <td>50</td>\n",
       "      <td>15360</td>\n",
       "      <td>15</td>\n",
       "      <td>500</td>\n",
       "      <td>550</td>\n",
       "      <td>200</td>\n",
       "      <td>3</td>\n",
       "      <td>3</td>\n",
       "    </tr>\n",
       "    <tr>\n",
       "      <th>3215</th>\n",
       "      <td>1371</td>\n",
       "      <td>0</td>\n",
       "      <td>0</td>\n",
       "      <td>0</td>\n",
       "      <td>0</td>\n",
       "      <td>0</td>\n",
       "      <td>0</td>\n",
       "      <td>smart</td>\n",
       "      <td>Омск</td>\n",
       "      <td>50</td>\n",
       "      <td>15360</td>\n",
       "      <td>15</td>\n",
       "      <td>500</td>\n",
       "      <td>550</td>\n",
       "      <td>200</td>\n",
       "      <td>3</td>\n",
       "      <td>3</td>\n",
       "    </tr>\n",
       "  </tbody>\n",
       "</table>\n",
       "<p>3216 rows × 17 columns</p>\n",
       "</div>"
      ],
      "text/plain": [
       "      user_id  month  calls_count  calls_sum  messages_count  mb_used  \\\n",
       "0        1000      5           22        159              22     2253   \n",
       "1        1000      6           43        172              60    23233   \n",
       "2        1000      7           47        340              75    14003   \n",
       "3        1000      8           52        408              81    14055   \n",
       "4        1000      9           58        466              57    14568   \n",
       "...       ...    ...          ...        ...             ...      ...   \n",
       "3211     1489      9            0          0              32    17206   \n",
       "3212     1489     10            0          0              21    19559   \n",
       "3213     1489     11            0          0              20    17491   \n",
       "3214     1489     12            0          0              35    17322   \n",
       "3215     1371      0            0          0               0        0   \n",
       "\n",
       "      gb_used tariff             city  messages_included  \\\n",
       "0           3  ultra        Краснодар               1000   \n",
       "1          23  ultra        Краснодар               1000   \n",
       "2          14  ultra        Краснодар               1000   \n",
       "3          14  ultra        Краснодар               1000   \n",
       "4          15  ultra        Краснодар               1000   \n",
       "...       ...    ...              ...                ...   \n",
       "3211       17  smart  Санкт-Петербург                 50   \n",
       "3212       20  smart  Санкт-Петербург                 50   \n",
       "3213       18  smart  Санкт-Петербург                 50   \n",
       "3214       17  smart  Санкт-Петербург                 50   \n",
       "3215        0  smart             Омск                 50   \n",
       "\n",
       "      mb_per_month_included  gb_per_month_included  minutes_included  \\\n",
       "0                     30720                     30              3000   \n",
       "1                     30720                     30              3000   \n",
       "2                     30720                     30              3000   \n",
       "3                     30720                     30              3000   \n",
       "4                     30720                     30              3000   \n",
       "...                     ...                    ...               ...   \n",
       "3211                  15360                     15               500   \n",
       "3212                  15360                     15               500   \n",
       "3213                  15360                     15               500   \n",
       "3214                  15360                     15               500   \n",
       "3215                  15360                     15               500   \n",
       "\n",
       "      rub_monthly_fee  rub_per_gb  rub_per_message  rub_per_minute  \n",
       "0                1950         150                1               1  \n",
       "1                1950         150                1               1  \n",
       "2                1950         150                1               1  \n",
       "3                1950         150                1               1  \n",
       "4                1950         150                1               1  \n",
       "...               ...         ...              ...             ...  \n",
       "3211              550         200                3               3  \n",
       "3212              550         200                3               3  \n",
       "3213              550         200                3               3  \n",
       "3214              550         200                3               3  \n",
       "3215              550         200                3               3  \n",
       "\n",
       "[3216 rows x 17 columns]"
      ]
     },
     "execution_count": 29,
     "metadata": {},
     "output_type": "execute_result"
    }
   ],
   "source": [
    "df_grouped = df_grouped.merge(df_tariffs, on='tariff', how='outer')\n",
    "df_grouped"
   ]
  },
  {
   "cell_type": "code",
   "execution_count": 30,
   "metadata": {
    "scrolled": true
   },
   "outputs": [
    {
     "data": {
      "text/html": [
       "<div>\n",
       "<style scoped>\n",
       "    .dataframe tbody tr th:only-of-type {\n",
       "        vertical-align: middle;\n",
       "    }\n",
       "\n",
       "    .dataframe tbody tr th {\n",
       "        vertical-align: top;\n",
       "    }\n",
       "\n",
       "    .dataframe thead th {\n",
       "        text-align: right;\n",
       "    }\n",
       "</style>\n",
       "<table border=\"1\" class=\"dataframe\">\n",
       "  <thead>\n",
       "    <tr style=\"text-align: right;\">\n",
       "      <th></th>\n",
       "      <th>user_id</th>\n",
       "      <th>month</th>\n",
       "      <th>calls_count</th>\n",
       "      <th>calls_sum</th>\n",
       "      <th>messages_count</th>\n",
       "      <th>mb_used</th>\n",
       "      <th>gb_used</th>\n",
       "      <th>tariff</th>\n",
       "      <th>city</th>\n",
       "      <th>messages_included</th>\n",
       "      <th>mb_per_month_included</th>\n",
       "      <th>gb_per_month_included</th>\n",
       "      <th>minutes_included</th>\n",
       "      <th>rub_monthly_fee</th>\n",
       "      <th>rub_per_gb</th>\n",
       "      <th>rub_per_message</th>\n",
       "      <th>rub_per_minute</th>\n",
       "      <th>monthly_income</th>\n",
       "    </tr>\n",
       "  </thead>\n",
       "  <tbody>\n",
       "    <tr>\n",
       "      <th>3211</th>\n",
       "      <td>1489</td>\n",
       "      <td>9</td>\n",
       "      <td>0</td>\n",
       "      <td>0</td>\n",
       "      <td>32</td>\n",
       "      <td>17206</td>\n",
       "      <td>17</td>\n",
       "      <td>smart</td>\n",
       "      <td>Санкт-Петербург</td>\n",
       "      <td>50</td>\n",
       "      <td>15360</td>\n",
       "      <td>15</td>\n",
       "      <td>500</td>\n",
       "      <td>550</td>\n",
       "      <td>200</td>\n",
       "      <td>3</td>\n",
       "      <td>3</td>\n",
       "      <td>950</td>\n",
       "    </tr>\n",
       "    <tr>\n",
       "      <th>3212</th>\n",
       "      <td>1489</td>\n",
       "      <td>10</td>\n",
       "      <td>0</td>\n",
       "      <td>0</td>\n",
       "      <td>21</td>\n",
       "      <td>19559</td>\n",
       "      <td>20</td>\n",
       "      <td>smart</td>\n",
       "      <td>Санкт-Петербург</td>\n",
       "      <td>50</td>\n",
       "      <td>15360</td>\n",
       "      <td>15</td>\n",
       "      <td>500</td>\n",
       "      <td>550</td>\n",
       "      <td>200</td>\n",
       "      <td>3</td>\n",
       "      <td>3</td>\n",
       "      <td>1550</td>\n",
       "    </tr>\n",
       "    <tr>\n",
       "      <th>3213</th>\n",
       "      <td>1489</td>\n",
       "      <td>11</td>\n",
       "      <td>0</td>\n",
       "      <td>0</td>\n",
       "      <td>20</td>\n",
       "      <td>17491</td>\n",
       "      <td>18</td>\n",
       "      <td>smart</td>\n",
       "      <td>Санкт-Петербург</td>\n",
       "      <td>50</td>\n",
       "      <td>15360</td>\n",
       "      <td>15</td>\n",
       "      <td>500</td>\n",
       "      <td>550</td>\n",
       "      <td>200</td>\n",
       "      <td>3</td>\n",
       "      <td>3</td>\n",
       "      <td>1150</td>\n",
       "    </tr>\n",
       "    <tr>\n",
       "      <th>3214</th>\n",
       "      <td>1489</td>\n",
       "      <td>12</td>\n",
       "      <td>0</td>\n",
       "      <td>0</td>\n",
       "      <td>35</td>\n",
       "      <td>17322</td>\n",
       "      <td>17</td>\n",
       "      <td>smart</td>\n",
       "      <td>Санкт-Петербург</td>\n",
       "      <td>50</td>\n",
       "      <td>15360</td>\n",
       "      <td>15</td>\n",
       "      <td>500</td>\n",
       "      <td>550</td>\n",
       "      <td>200</td>\n",
       "      <td>3</td>\n",
       "      <td>3</td>\n",
       "      <td>950</td>\n",
       "    </tr>\n",
       "    <tr>\n",
       "      <th>3215</th>\n",
       "      <td>1371</td>\n",
       "      <td>0</td>\n",
       "      <td>0</td>\n",
       "      <td>0</td>\n",
       "      <td>0</td>\n",
       "      <td>0</td>\n",
       "      <td>0</td>\n",
       "      <td>smart</td>\n",
       "      <td>Омск</td>\n",
       "      <td>50</td>\n",
       "      <td>15360</td>\n",
       "      <td>15</td>\n",
       "      <td>500</td>\n",
       "      <td>550</td>\n",
       "      <td>200</td>\n",
       "      <td>3</td>\n",
       "      <td>3</td>\n",
       "      <td>550</td>\n",
       "    </tr>\n",
       "  </tbody>\n",
       "</table>\n",
       "</div>"
      ],
      "text/plain": [
       "      user_id  month  calls_count  calls_sum  messages_count  mb_used  \\\n",
       "3211     1489      9            0          0              32    17206   \n",
       "3212     1489     10            0          0              21    19559   \n",
       "3213     1489     11            0          0              20    17491   \n",
       "3214     1489     12            0          0              35    17322   \n",
       "3215     1371      0            0          0               0        0   \n",
       "\n",
       "      gb_used tariff             city  messages_included  \\\n",
       "3211       17  smart  Санкт-Петербург                 50   \n",
       "3212       20  smart  Санкт-Петербург                 50   \n",
       "3213       18  smart  Санкт-Петербург                 50   \n",
       "3214       17  smart  Санкт-Петербург                 50   \n",
       "3215        0  smart             Омск                 50   \n",
       "\n",
       "      mb_per_month_included  gb_per_month_included  minutes_included  \\\n",
       "3211                  15360                     15               500   \n",
       "3212                  15360                     15               500   \n",
       "3213                  15360                     15               500   \n",
       "3214                  15360                     15               500   \n",
       "3215                  15360                     15               500   \n",
       "\n",
       "      rub_monthly_fee  rub_per_gb  rub_per_message  rub_per_minute  \\\n",
       "3211              550         200                3               3   \n",
       "3212              550         200                3               3   \n",
       "3213              550         200                3               3   \n",
       "3214              550         200                3               3   \n",
       "3215              550         200                3               3   \n",
       "\n",
       "      monthly_income  \n",
       "3211             950  \n",
       "3212            1550  \n",
       "3213            1150  \n",
       "3214             950  \n",
       "3215             550  "
      ]
     },
     "execution_count": 30,
     "metadata": {},
     "output_type": "execute_result"
    }
   ],
   "source": [
    "# расчитаем выручку по месяцам при помощи функции\n",
    "def monthly_income(row):\n",
    "    revenue = 0\n",
    "    revenue += max(row['calls_sum']-row['minutes_included'],0)*row['rub_per_minute']\n",
    "    revenue += max(row['messages_count']-row['messages_included'],0)*row['rub_per_message']\n",
    "    revenue += max(row['gb_used']-row['gb_per_month_included'],0)*row['rub_per_gb']\n",
    "    return revenue\n",
    "\n",
    "# добавим в сводную таблицу расчет выручки\n",
    "df_grouped['monthly_income'] = (df_grouped.apply(monthly_income, axis=1)+df_grouped['rub_monthly_fee'])\n",
    "df_grouped.tail()"
   ]
  },
  {
   "cell_type": "markdown",
   "metadata": {},
   "source": [
    "**Вывод:**\n",
    "\n",
    "Что было сделано в этом блоке:\n",
    "* значения приведены к нужным типам данных \n",
    "* был удален ненужный столбец `Unnamed: 0`\n",
    "* округлены до целого количества минуты и мегабайты, а также гигабайты\n",
    "* расчитаны и подготовлены дополнительные данные, нужные для дальнейшего анализа"
   ]
  },
  {
   "cell_type": "markdown",
   "metadata": {},
   "source": [
    "## Анализ данных"
   ]
  },
  {
   "cell_type": "markdown",
   "metadata": {},
   "source": [
    "Посчитаем среднее значение, медиану, дисперсию и стандартное отклонение для каждого из интересующих нас значений."
   ]
  },
  {
   "cell_type": "code",
   "execution_count": 31,
   "metadata": {},
   "outputs": [
    {
     "data": {
      "text/html": [
       "<div>\n",
       "<style scoped>\n",
       "    .dataframe tbody tr th:only-of-type {\n",
       "        vertical-align: middle;\n",
       "    }\n",
       "\n",
       "    .dataframe tbody tr th {\n",
       "        vertical-align: top;\n",
       "    }\n",
       "\n",
       "    .dataframe thead th {\n",
       "        text-align: right;\n",
       "    }\n",
       "</style>\n",
       "<table border=\"1\" class=\"dataframe\">\n",
       "  <thead>\n",
       "    <tr style=\"text-align: right;\">\n",
       "      <th></th>\n",
       "      <th>mean_calls_sum</th>\n",
       "      <th>mean_gb_used</th>\n",
       "      <th>mean_messages_count</th>\n",
       "      <th>mean_monthly_income</th>\n",
       "      <th>median_calls_sum</th>\n",
       "      <th>median_gb_used</th>\n",
       "      <th>median_messages_count</th>\n",
       "      <th>median_monthly_income</th>\n",
       "      <th>var_calls_sum</th>\n",
       "      <th>var_gb_used</th>\n",
       "      <th>var_messages_count</th>\n",
       "      <th>var_monthly_income</th>\n",
       "      <th>std_calls_sum</th>\n",
       "      <th>std_gb_used</th>\n",
       "      <th>std_messages_count</th>\n",
       "      <th>std_monthly_income</th>\n",
       "    </tr>\n",
       "    <tr>\n",
       "      <th>tariff</th>\n",
       "      <th></th>\n",
       "      <th></th>\n",
       "      <th></th>\n",
       "      <th></th>\n",
       "      <th></th>\n",
       "      <th></th>\n",
       "      <th></th>\n",
       "      <th></th>\n",
       "      <th></th>\n",
       "      <th></th>\n",
       "      <th></th>\n",
       "      <th></th>\n",
       "      <th></th>\n",
       "      <th></th>\n",
       "      <th></th>\n",
       "      <th></th>\n",
       "    </tr>\n",
       "  </thead>\n",
       "  <tbody>\n",
       "    <tr>\n",
       "      <th>smart</th>\n",
       "      <td>417.75</td>\n",
       "      <td>16.32</td>\n",
       "      <td>33.37</td>\n",
       "      <td>1289.64</td>\n",
       "      <td>421.5</td>\n",
       "      <td>17</td>\n",
       "      <td>28</td>\n",
       "      <td>1021</td>\n",
       "      <td>36281.39</td>\n",
       "      <td>33.13</td>\n",
       "      <td>796.96</td>\n",
       "      <td>669730.76</td>\n",
       "      <td>190.48</td>\n",
       "      <td>5.76</td>\n",
       "      <td>28.23</td>\n",
       "      <td>818.37</td>\n",
       "    </tr>\n",
       "    <tr>\n",
       "      <th>ultra</th>\n",
       "      <td>526.09</td>\n",
       "      <td>19.47</td>\n",
       "      <td>49.31</td>\n",
       "      <td>2070.03</td>\n",
       "      <td>518.0</td>\n",
       "      <td>19</td>\n",
       "      <td>38</td>\n",
       "      <td>1950</td>\n",
       "      <td>101052.49</td>\n",
       "      <td>97.38</td>\n",
       "      <td>2285.42</td>\n",
       "      <td>141387.71</td>\n",
       "      <td>317.89</td>\n",
       "      <td>9.87</td>\n",
       "      <td>47.81</td>\n",
       "      <td>376.02</td>\n",
       "    </tr>\n",
       "  </tbody>\n",
       "</table>\n",
       "</div>"
      ],
      "text/plain": [
       "        mean_calls_sum  mean_gb_used  mean_messages_count  \\\n",
       "tariff                                                      \n",
       "smart           417.75         16.32                33.37   \n",
       "ultra           526.09         19.47                49.31   \n",
       "\n",
       "        mean_monthly_income  median_calls_sum  median_gb_used  \\\n",
       "tariff                                                          \n",
       "smart               1289.64             421.5              17   \n",
       "ultra               2070.03             518.0              19   \n",
       "\n",
       "        median_messages_count  median_monthly_income  var_calls_sum  \\\n",
       "tariff                                                                \n",
       "smart                      28                   1021       36281.39   \n",
       "ultra                      38                   1950      101052.49   \n",
       "\n",
       "        var_gb_used  var_messages_count  var_monthly_income  std_calls_sum  \\\n",
       "tariff                                                                       \n",
       "smart         33.13              796.96           669730.76         190.48   \n",
       "ultra         97.38             2285.42           141387.71         317.89   \n",
       "\n",
       "        std_gb_used  std_messages_count  std_monthly_income  \n",
       "tariff                                                       \n",
       "smart          5.76               28.23              818.37  \n",
       "ultra          9.87               47.81              376.02  "
      ]
     },
     "execution_count": 31,
     "metadata": {},
     "output_type": "execute_result"
    }
   ],
   "source": [
    "df_statistic_param = df_grouped.pivot_table(index = 'tariff'\n",
    "                             , values = ['calls_sum', 'gb_used', 'messages_count', 'monthly_income']\n",
    "                             , aggfunc = ['mean', 'median', 'var', 'std']).round(2)\n",
    "# для компактности таблицы переименуем столбцы\n",
    "df_statistic_param.columns = [\"_\".join(x) for x in df_statistic_param.columns]                                                        \n",
    "df_statistic_param"
   ]
  },
  {
   "cell_type": "markdown",
   "metadata": {},
   "source": [
    "Построим гистрограмы для оценки поведения пользователей по следующим параметрам:\n",
    "* количество минут разговора\n",
    "* количество сообщений\n",
    "* объём интернет-трафика \n",
    "* расходы на тариф"
   ]
  },
  {
   "cell_type": "code",
   "execution_count": 32,
   "metadata": {},
   "outputs": [
    {
     "data": {
      "image/png": "[encoded data removed]",
      "text/plain": [
       "<Figure size 720x360 with 1 Axes>"
      ]
     },
     "metadata": {
      "needs_background": "light"
     },
     "output_type": "display_data"
    }
   ],
   "source": [
    "ax = df_grouped.loc[df_grouped['tariff'] == 'smart']['calls_sum'].plot(\n",
    "    kind = 'hist', bins = 25, label = 'smart', figsize = (10,5), legend=True)\n",
    "df_grouped.loc[df_grouped['tariff'] == 'ultra']['calls_sum'].plot(\n",
    "    kind = 'hist', bins = 30, alpha =0.7, label = 'smart', figsize = (10,5), legend=True, ax=ax)\n",
    "plt.title('Продолжительность разговоров')\n",
    "plt.xlabel('Количество минут')\n",
    "plt.ylabel('Количество пользователей')\n",
    "plt.show()"
   ]
  },
  {
   "cell_type": "code",
   "execution_count": 33,
   "metadata": {},
   "outputs": [
    {
     "data": {
      "image/png": "[encoded data removed]",
      "text/plain": [
       "<Figure size 720x360 with 1 Axes>"
      ]
     },
     "metadata": {
      "needs_background": "light"
     },
     "output_type": "display_data"
    }
   ],
   "source": [
    "ax = df_grouped.loc[df_grouped['tariff'] == 'smart']['messages_count'].plot(\n",
    "    kind = 'hist', bins = 50, label = 'smart', figsize = (10,5), legend=True)\n",
    "df_grouped.loc[df_grouped['tariff'] == 'ultra']['messages_count'].plot(\n",
    "    kind = 'hist', bins = 50, alpha =0.7, label = 'smart', figsize = (10,5), legend=True, ax=ax)\n",
    "plt.title('Сообщения')\n",
    "plt.xlabel('Количество сообщений')\n",
    "plt.ylabel('Количество пользователей')\n",
    "plt.show()"
   ]
  },
  {
   "cell_type": "code",
   "execution_count": 34,
   "metadata": {},
   "outputs": [
    {
     "data": {
      "image/png": "[encoded data removed]",
      "text/plain": [
       "<Figure size 720x360 with 1 Axes>"
      ]
     },
     "metadata": {
      "needs_background": "light"
     },
     "output_type": "display_data"
    }
   ],
   "source": [
    "ax = df_grouped.loc[df_grouped['tariff'] == 'smart']['gb_used'].plot(\n",
    "    kind = 'hist', bins = 20, label = 'smart', figsize = (10,5), legend=True)\n",
    "df_grouped.loc[df_grouped['tariff'] == 'ultra']['gb_used'].plot(\n",
    "    kind = 'hist', bins = 15, alpha =0.7, label = 'smart', figsize = (10,5), legend=True, ax=ax)\n",
    "plt.title('Трафик')\n",
    "plt.xlabel('Количество гигабайт')\n",
    "plt.ylabel('Количество пользователей')\n",
    "plt.show()"
   ]
  },
  {
   "cell_type": "code",
   "execution_count": 35,
   "metadata": {
    "scrolled": true
   },
   "outputs": [
    {
     "data": {
      "image/png": "[encoded data removed]",
      "text/plain": [
       "<Figure size 720x360 with 1 Axes>"
      ]
     },
     "metadata": {
      "needs_background": "light"
     },
     "output_type": "display_data"
    }
   ],
   "source": [
    "ax = df_grouped.loc[df_grouped['tariff'] == 'smart']['monthly_income'].plot(\n",
    "    kind = 'hist', bins = 30, label = 'smart', figsize = (10,5), legend=True)\n",
    "df_grouped.loc[df_grouped['tariff'] == 'ultra']['monthly_income'].plot(\n",
    "    kind = 'hist', bins = 30, alpha =0.7, label = 'smart', figsize = (10,5), legend=True, ax=ax)\n",
    "plt.title('Траты на тариф')\n",
    "plt.xlabel('Расходы в рублях')\n",
    "plt.ylabel('Количество пользователей')\n",
    "plt.show()"
   ]
  },
  {
   "cell_type": "markdown",
   "metadata": {},
   "source": [
    "**Вывод:**\n",
    "\n",
    "По гистограмам видим, что данные для исследуюмых значений распределены по разному:\n",
    "* Так, для тарифа Смарт графики \"Продолжительность разговоров\" и \"Трафик\" скошены влево, что подтвержают цифры из сводной таблицы - средние значения меньше  медианных. Для тарифа Ультра обратная ситуация - там графики скошены вправо.\n",
    "* Имеется достаточно большое количество пользователей, совсем не использующие смс-сообщения.  \n",
    "* Клиенты, пользующиеся тарифом Смарт часто превышают пороговые значения, что приводит к большим переплатам.\n",
    "* В среднем клиенты, пользующиеся тарифом Ультра платят почти на 700 рублей больше.Значит для компании, в плане прибыльности, приорететней именно тариф Ультра."
   ]
  },
  {
   "cell_type": "markdown",
   "metadata": {},
   "source": [
    "## Проверка гипотез"
   ]
  },
  {
   "cell_type": "markdown",
   "metadata": {},
   "source": [
    "Проверим гипотезы:\n",
    "* средняя выручка пользователей тарифов «Ультра» и «Смарт» различаются;\n",
    "* средняя выручка пользователей из Москвы отличается от выручки пользователей из других регионов."
   ]
  },
  {
   "cell_type": "markdown",
   "metadata": {},
   "source": [
    "### Выручка пользователей тарифов \"Ультра\" и \"Смарт\""
   ]
  },
  {
   "cell_type": "markdown",
   "metadata": {},
   "source": [
    "**Нулевая гипотеза:** средняя выручка пользователей тарифов «Ультра» и «Смарт» одинаковая.\n",
    "\n",
    "**Альтернативная гипотеза:** средняя выручка пользователей тарифов «Ультра» и «Смарт» различаются.   "
   ]
  },
  {
   "cell_type": "code",
   "execution_count": 36,
   "metadata": {
    "scrolled": true
   },
   "outputs": [
    {
     "name": "stdout",
     "output_type": "stream",
     "text": [
      "p-значение: 1.927011394420941e-250\n",
      "Отвергаем нулевую гипотезу\n"
     ]
    }
   ],
   "source": [
    "# зададим критический уровень статистической значимости равным 5%\n",
    "alpha = 0.05\n",
    "smart_ttest = df_grouped[df_grouped['tariff']=='smart']['monthly_income']\n",
    "ultra_ttest = df_grouped[df_grouped['tariff']=='ultra']['monthly_income']\n",
    "\n",
    "# значение equal_var установим False, так как выборки имеют различные дисперсии\n",
    "results = st.ttest_ind(smart_ttest, ultra_ttest, equal_var=False)\n",
    "\n",
    "print('p-значение:', results.pvalue)\n",
    "\n",
    "if (results.pvalue < alpha):\n",
    "    print(\"Отвергаем нулевую гипотезу\")\n",
    "else:\n",
    "    print(\"Не получилось отвергнуть нулевую гипотезу\")"
   ]
  },
  {
   "cell_type": "markdown",
   "metadata": {},
   "source": [
    "**Вывод:**\n",
    "\n",
    "* Отвергаем нулевую гипотезу, значит средняя выручка пользователей тарфиов \"Ультра\" и \"Смарт\" различаются."
   ]
  },
  {
   "cell_type": "markdown",
   "metadata": {},
   "source": [
    "### Выручка пользователей из Москвы и других регионов"
   ]
  },
  {
   "cell_type": "markdown",
   "metadata": {},
   "source": [
    "**Нулевая гипотеза:** средняя выручка пользователей из Москвы равна средней выручке пользователей из других регионов.\n",
    "\n",
    "**Альтернативная гипотеза:** средняя выручка пользователей из Москвы отличается от выручки пользователей из других регионов. "
   ]
  },
  {
   "cell_type": "code",
   "execution_count": 37,
   "metadata": {
    "scrolled": false
   },
   "outputs": [
    {
     "name": "stdout",
     "output_type": "stream",
     "text": [
      "p-значение:  0.5216952110000278\n",
      "Не получилось отвергнуть нулевую гипотезу\n"
     ]
    }
   ],
   "source": [
    "# зададим критический уровень статистической значимости равным 5%\n",
    "alpha = 0.05\n",
    "moscow_ttest = df_grouped[df_grouped['city']=='Москва']['monthly_income']\n",
    "popmean = df_grouped[df_grouped['city']!='Москва']['monthly_income']\n",
    "\n",
    "results = st.ttest_ind(moscow_ttest, popmean,equal_var=False)\n",
    "\n",
    "print('p-значение: ', results.pvalue)\n",
    "\n",
    "if results.pvalue < alpha:\n",
    "    print(\"Отвергаем нулевую гипотезу\")\n",
    "else:\n",
    "    print(\"Не получилось отвергнуть нулевую гипотезу\")"
   ]
  },
  {
   "cell_type": "markdown",
   "metadata": {},
   "source": [
    "**Вывод:**\n",
    "* Нулевую гипотезу отвергнуть не получилось. Так как вероятность получить такие или более значимые различия средних в данном случае при справедливости нулевой гипотезы (более 52%), то мы не можем сказать, что выручка абонентов из Москвы достаточно сильно отличается от пользователей других городов."
   ]
  },
  {
   "cell_type": "markdown",
   "metadata": {},
   "source": [
    "## Общий вывод"
   ]
  },
  {
   "cell_type": "markdown",
   "metadata": {},
   "source": [
    "В подготовке данных было сделано:\n",
    "\n",
    "* значения приведены к нужным типам данных \n",
    "* был удален ненужный столбец `Unnamed: 0`\n",
    "* округлены до целого количества минуты и мегабайты, а также гигабайты\n",
    "* расчитаны и подготовлены дополнительные данные\n",
    "\n",
    "Из анализа данных выявили, что:\n",
    "\n",
    "- Имеется достаточно большое количество пользователей, совсем не использующие смс-сообщения.  \n",
    "- Клиенты, пользующиеся тарифом Смарт часто превышают пороговые значения, что приводит к большим переплатам.\n",
    "- выручка по тарифам отличается, и очень сильно - пользователи тарифа Ультра тратят на услуги связи в среднем на 700 рублей больше. Поэтому можно уверенно сказать, что для телеком-компании выгоднее продвигать именно тариф Ультра.\n",
    "\n",
    "Проверка гипотез:\n",
    "\n",
    "- Нам удалось опровергнуть гипотезу о том, что средние выручки в обоих тарифах равны.\n",
    "- Однако, нам не удалось отвергнуть гипотезу о том, что средняя выручка пользователей из Москвы отличается от других регионов.\n",
    "\n",
    "Из рекомендаций можем добавить:\n",
    "- рекламный бюджет выгоднее всего перераспределить в пользу тарифа Ультра, несмотря на то, что его пользователи меньше выходят за рамки тарифного пакета, в отличие от абонентов тарифа Смарт."
   ]
  }
 ],
 "metadata": {
  "ExecuteTimeLog": [
   {
    "duration": 1258,
    "start_time": "2022-04-18T20:25:38.306Z"
   },
   {
    "duration": 160,
    "start_time": "2022-04-18T20:25:39.566Z"
   },
   {
    "duration": 0,
    "start_time": "2022-04-18T20:25:39.728Z"
   },
   {
    "duration": 0,
    "start_time": "2022-04-18T20:25:39.732Z"
   },
   {
    "duration": 0,
    "start_time": "2022-04-18T20:25:39.734Z"
   },
   {
    "duration": 0,
    "start_time": "2022-04-18T20:25:39.735Z"
   },
   {
    "duration": 0,
    "start_time": "2022-04-18T20:25:39.736Z"
   },
   {
    "duration": 0,
    "start_time": "2022-04-18T20:25:39.738Z"
   },
   {
    "duration": 0,
    "start_time": "2022-04-18T20:25:39.739Z"
   },
   {
    "duration": 0,
    "start_time": "2022-04-18T20:25:39.740Z"
   },
   {
    "duration": 0,
    "start_time": "2022-04-18T20:25:39.741Z"
   },
   {
    "duration": 0,
    "start_time": "2022-04-18T20:25:39.743Z"
   },
   {
    "duration": 0,
    "start_time": "2022-04-18T20:25:39.744Z"
   },
   {
    "duration": 368,
    "start_time": "2022-04-18T20:27:54.764Z"
   },
   {
    "duration": 356,
    "start_time": "2022-04-18T20:28:10.812Z"
   },
   {
    "duration": 1096,
    "start_time": "2022-04-18T20:28:17.873Z"
   },
   {
    "duration": 391,
    "start_time": "2022-04-18T20:28:18.971Z"
   },
   {
    "duration": 16,
    "start_time": "2022-04-18T20:28:19.364Z"
   },
   {
    "duration": 35,
    "start_time": "2022-04-18T20:28:19.383Z"
   },
   {
    "duration": 11,
    "start_time": "2022-04-18T20:28:19.420Z"
   },
   {
    "duration": 32,
    "start_time": "2022-04-18T20:28:19.433Z"
   },
   {
    "duration": 8,
    "start_time": "2022-04-18T20:28:19.466Z"
   },
   {
    "duration": 19,
    "start_time": "2022-04-18T20:28:19.475Z"
   },
   {
    "duration": 8,
    "start_time": "2022-04-18T20:28:19.495Z"
   },
   {
    "duration": 24,
    "start_time": "2022-04-18T20:28:19.506Z"
   },
   {
    "duration": 11,
    "start_time": "2022-04-18T20:28:19.532Z"
   },
   {
    "duration": 15,
    "start_time": "2022-04-18T20:28:19.545Z"
   },
   {
    "duration": 112,
    "start_time": "2022-04-18T20:28:19.562Z"
   },
   {
    "duration": 71,
    "start_time": "2022-04-20T14:41:44.970Z"
   },
   {
    "duration": 1335,
    "start_time": "2022-04-20T14:41:49.235Z"
   },
   {
    "duration": 435,
    "start_time": "2022-04-20T14:41:50.572Z"
   },
   {
    "duration": 13,
    "start_time": "2022-04-20T14:41:51.009Z"
   },
   {
    "duration": 28,
    "start_time": "2022-04-20T14:41:51.024Z"
   },
   {
    "duration": 9,
    "start_time": "2022-04-20T14:41:51.053Z"
   },
   {
    "duration": 25,
    "start_time": "2022-04-20T14:41:51.064Z"
   },
   {
    "duration": 7,
    "start_time": "2022-04-20T14:41:51.091Z"
   },
   {
    "duration": 40,
    "start_time": "2022-04-20T14:41:51.100Z"
   },
   {
    "duration": 8,
    "start_time": "2022-04-20T14:41:51.141Z"
   },
   {
    "duration": 11,
    "start_time": "2022-04-20T14:41:51.151Z"
   },
   {
    "duration": 12,
    "start_time": "2022-04-20T14:41:51.164Z"
   },
   {
    "duration": 45,
    "start_time": "2022-04-20T14:41:51.178Z"
   },
   {
    "duration": 81,
    "start_time": "2022-04-20T14:41:51.225Z"
   },
   {
    "duration": 3311,
    "start_time": "2022-04-20T14:41:51.308Z"
   },
   {
    "duration": 0,
    "start_time": "2022-04-20T14:41:54.620Z"
   },
   {
    "duration": 24,
    "start_time": "2022-04-20T14:42:19.377Z"
   },
   {
    "duration": 58,
    "start_time": "2022-04-20T14:53:11.602Z"
   },
   {
    "duration": 55,
    "start_time": "2022-04-20T14:53:25.796Z"
   },
   {
    "duration": 50,
    "start_time": "2022-04-20T14:53:36.907Z"
   },
   {
    "duration": 55,
    "start_time": "2022-04-20T14:53:44.420Z"
   },
   {
    "duration": 55,
    "start_time": "2022-04-20T14:53:50.900Z"
   },
   {
    "duration": 57,
    "start_time": "2022-04-20T14:53:59.988Z"
   },
   {
    "duration": 1626,
    "start_time": "2022-04-20T17:28:14.123Z"
   },
   {
    "duration": 507,
    "start_time": "2022-04-20T17:28:15.752Z"
   },
   {
    "duration": 17,
    "start_time": "2022-04-20T17:28:16.261Z"
   },
   {
    "duration": 37,
    "start_time": "2022-04-20T17:28:16.280Z"
   },
   {
    "duration": 13,
    "start_time": "2022-04-20T17:28:16.321Z"
   },
   {
    "duration": 59,
    "start_time": "2022-04-20T17:28:16.337Z"
   },
   {
    "duration": 12,
    "start_time": "2022-04-20T17:28:16.399Z"
   },
   {
    "duration": 30,
    "start_time": "2022-04-20T17:28:16.415Z"
   },
   {
    "duration": 39,
    "start_time": "2022-04-20T17:28:16.448Z"
   },
   {
    "duration": 20,
    "start_time": "2022-04-20T17:28:16.489Z"
   },
   {
    "duration": 14,
    "start_time": "2022-04-20T17:28:16.511Z"
   },
   {
    "duration": 18,
    "start_time": "2022-04-20T17:28:16.527Z"
   },
   {
    "duration": 151,
    "start_time": "2022-04-20T17:28:16.547Z"
   },
   {
    "duration": 86,
    "start_time": "2022-04-20T17:28:16.702Z"
   },
   {
    "duration": 4,
    "start_time": "2022-04-20T17:28:16.790Z"
   },
   {
    "duration": 215,
    "start_time": "2022-04-20T17:30:06.587Z"
   },
   {
    "duration": 202,
    "start_time": "2022-04-20T17:30:15.495Z"
   },
   {
    "duration": 12,
    "start_time": "2022-04-20T18:31:30.234Z"
   },
   {
    "duration": 12,
    "start_time": "2022-04-20T18:31:43.339Z"
   },
   {
    "duration": 11,
    "start_time": "2022-04-20T18:31:48.305Z"
   },
   {
    "duration": 76,
    "start_time": "2022-04-20T18:31:51.881Z"
   },
   {
    "duration": 83,
    "start_time": "2022-04-20T18:32:04.326Z"
   },
   {
    "duration": 73,
    "start_time": "2022-04-20T18:32:14.562Z"
   },
   {
    "duration": 82,
    "start_time": "2022-04-20T18:32:28.117Z"
   },
   {
    "duration": 21,
    "start_time": "2022-04-20T18:35:01.617Z"
   },
   {
    "duration": 46,
    "start_time": "2022-04-21T17:32:45.923Z"
   },
   {
    "duration": 1246,
    "start_time": "2022-04-21T17:32:54.500Z"
   },
   {
    "duration": 374,
    "start_time": "2022-04-21T17:32:55.748Z"
   },
   {
    "duration": 12,
    "start_time": "2022-04-21T17:32:56.123Z"
   },
   {
    "duration": 26,
    "start_time": "2022-04-21T17:32:56.137Z"
   },
   {
    "duration": 8,
    "start_time": "2022-04-21T17:32:56.165Z"
   },
   {
    "duration": 33,
    "start_time": "2022-04-21T17:32:56.174Z"
   },
   {
    "duration": 6,
    "start_time": "2022-04-21T17:32:56.209Z"
   },
   {
    "duration": 19,
    "start_time": "2022-04-21T17:32:56.217Z"
   },
   {
    "duration": 7,
    "start_time": "2022-04-21T17:32:56.238Z"
   },
   {
    "duration": 9,
    "start_time": "2022-04-21T17:32:56.248Z"
   },
   {
    "duration": 9,
    "start_time": "2022-04-21T17:32:56.258Z"
   },
   {
    "duration": 39,
    "start_time": "2022-04-21T17:32:56.268Z"
   },
   {
    "duration": 72,
    "start_time": "2022-04-21T17:32:56.309Z"
   },
   {
    "duration": 60,
    "start_time": "2022-04-21T17:32:56.383Z"
   },
   {
    "duration": 110,
    "start_time": "2022-04-21T17:32:56.445Z"
   },
   {
    "duration": 68,
    "start_time": "2022-04-21T17:32:56.556Z"
   },
   {
    "duration": 28,
    "start_time": "2022-04-21T17:32:56.626Z"
   },
   {
    "duration": 102,
    "start_time": "2022-04-21T17:37:19.880Z"
   },
   {
    "duration": 22,
    "start_time": "2022-04-21T17:37:51.054Z"
   },
   {
    "duration": 30,
    "start_time": "2022-04-21T17:38:08.617Z"
   },
   {
    "duration": 2,
    "start_time": "2022-04-21T17:39:47.587Z"
   },
   {
    "duration": 4,
    "start_time": "2022-04-21T17:52:37.335Z"
   },
   {
    "duration": 14,
    "start_time": "2022-04-21T17:52:52.630Z"
   },
   {
    "duration": 30,
    "start_time": "2022-04-21T17:53:00.132Z"
   },
   {
    "duration": 2,
    "start_time": "2022-04-21T17:53:02.222Z"
   },
   {
    "duration": 65,
    "start_time": "2022-04-21T18:02:59.858Z"
   },
   {
    "duration": 58,
    "start_time": "2022-04-21T18:03:09.139Z"
   },
   {
    "duration": 59,
    "start_time": "2022-04-21T18:03:14.567Z"
   },
   {
    "duration": 54,
    "start_time": "2022-04-21T18:03:23.483Z"
   },
   {
    "duration": 52,
    "start_time": "2022-04-21T18:03:32.471Z"
   },
   {
    "duration": 14,
    "start_time": "2022-04-21T18:04:22.386Z"
   },
   {
    "duration": 30,
    "start_time": "2022-04-21T18:04:58.588Z"
   },
   {
    "duration": 10,
    "start_time": "2022-04-21T18:23:50.944Z"
   },
   {
    "duration": 11,
    "start_time": "2022-04-21T18:26:35.264Z"
   },
   {
    "duration": 7,
    "start_time": "2022-04-21T18:27:03.139Z"
   },
   {
    "duration": 24,
    "start_time": "2022-04-21T18:27:09.937Z"
   },
   {
    "duration": 23,
    "start_time": "2022-04-21T18:28:08.832Z"
   },
   {
    "duration": 1151,
    "start_time": "2022-04-21T18:28:17.830Z"
   },
   {
    "duration": 403,
    "start_time": "2022-04-21T18:28:18.983Z"
   },
   {
    "duration": 13,
    "start_time": "2022-04-21T18:28:19.388Z"
   },
   {
    "duration": 28,
    "start_time": "2022-04-21T18:28:19.403Z"
   },
   {
    "duration": 9,
    "start_time": "2022-04-21T18:28:19.433Z"
   },
   {
    "duration": 35,
    "start_time": "2022-04-21T18:28:19.444Z"
   },
   {
    "duration": 7,
    "start_time": "2022-04-21T18:28:19.481Z"
   },
   {
    "duration": 32,
    "start_time": "2022-04-21T18:28:19.490Z"
   },
   {
    "duration": 9,
    "start_time": "2022-04-21T18:28:19.523Z"
   },
   {
    "duration": 11,
    "start_time": "2022-04-21T18:28:19.534Z"
   },
   {
    "duration": 12,
    "start_time": "2022-04-21T18:28:19.546Z"
   },
   {
    "duration": 11,
    "start_time": "2022-04-21T18:28:19.560Z"
   },
   {
    "duration": 82,
    "start_time": "2022-04-21T18:28:19.607Z"
   },
   {
    "duration": 66,
    "start_time": "2022-04-21T18:28:19.691Z"
   },
   {
    "duration": 125,
    "start_time": "2022-04-21T18:28:19.759Z"
   },
   {
    "duration": 80,
    "start_time": "2022-04-21T18:28:19.885Z"
   },
   {
    "duration": 25,
    "start_time": "2022-04-21T18:28:19.968Z"
   },
   {
    "duration": 15,
    "start_time": "2022-04-21T18:28:20.008Z"
   },
   {
    "duration": 32,
    "start_time": "2022-04-21T18:28:20.025Z"
   },
   {
    "duration": 51,
    "start_time": "2022-04-21T18:28:20.059Z"
   },
   {
    "duration": 33,
    "start_time": "2022-04-21T18:29:13.635Z"
   },
   {
    "duration": 29,
    "start_time": "2022-04-21T18:29:24.662Z"
   },
   {
    "duration": 26,
    "start_time": "2022-04-21T18:30:20.793Z"
   },
   {
    "duration": 26,
    "start_time": "2022-04-21T18:30:41.135Z"
   },
   {
    "duration": 102,
    "start_time": "2022-04-21T18:32:52.909Z"
   },
   {
    "duration": 30,
    "start_time": "2022-04-21T18:36:19.468Z"
   },
   {
    "duration": 25,
    "start_time": "2022-04-21T18:36:54.275Z"
   },
   {
    "duration": 50,
    "start_time": "2022-04-21T18:42:17.530Z"
   },
   {
    "duration": 311,
    "start_time": "2022-04-21T18:42:38.625Z"
   },
   {
    "duration": 277,
    "start_time": "2022-04-21T18:42:54.080Z"
   },
   {
    "duration": 53,
    "start_time": "2022-04-21T18:43:07.557Z"
   },
   {
    "duration": 61,
    "start_time": "2022-04-21T18:45:57.776Z"
   },
   {
    "duration": 57,
    "start_time": "2022-04-21T18:46:08.091Z"
   },
   {
    "duration": 53,
    "start_time": "2022-04-21T18:47:27.927Z"
   },
   {
    "duration": 1020,
    "start_time": "2022-04-21T18:47:41.326Z"
   },
   {
    "duration": 363,
    "start_time": "2022-04-21T18:47:42.348Z"
   },
   {
    "duration": 12,
    "start_time": "2022-04-21T18:47:42.713Z"
   },
   {
    "duration": 40,
    "start_time": "2022-04-21T18:47:42.727Z"
   },
   {
    "duration": 8,
    "start_time": "2022-04-21T18:47:42.769Z"
   },
   {
    "duration": 29,
    "start_time": "2022-04-21T18:47:42.779Z"
   },
   {
    "duration": 8,
    "start_time": "2022-04-21T18:47:42.809Z"
   },
   {
    "duration": 25,
    "start_time": "2022-04-21T18:47:42.818Z"
   },
   {
    "duration": 7,
    "start_time": "2022-04-21T18:47:42.845Z"
   },
   {
    "duration": 9,
    "start_time": "2022-04-21T18:47:42.855Z"
   },
   {
    "duration": 13,
    "start_time": "2022-04-21T18:47:42.866Z"
   },
   {
    "duration": 11,
    "start_time": "2022-04-21T18:47:42.907Z"
   },
   {
    "duration": 87,
    "start_time": "2022-04-21T18:47:42.920Z"
   },
   {
    "duration": 49,
    "start_time": "2022-04-21T18:47:43.009Z"
   },
   {
    "duration": 114,
    "start_time": "2022-04-21T18:47:43.060Z"
   },
   {
    "duration": 70,
    "start_time": "2022-04-21T18:47:43.176Z"
   },
   {
    "duration": 21,
    "start_time": "2022-04-21T18:47:43.248Z"
   },
   {
    "duration": 12,
    "start_time": "2022-04-21T18:47:43.271Z"
   },
   {
    "duration": 43,
    "start_time": "2022-04-21T18:47:43.285Z"
   },
   {
    "duration": 27,
    "start_time": "2022-04-21T18:47:43.330Z"
   },
   {
    "duration": 52,
    "start_time": "2022-04-21T18:54:59.536Z"
   },
   {
    "duration": 35,
    "start_time": "2022-04-21T18:55:11.120Z"
   },
   {
    "duration": 1035,
    "start_time": "2022-04-21T18:55:34.623Z"
   },
   {
    "duration": 385,
    "start_time": "2022-04-21T18:55:35.660Z"
   },
   {
    "duration": 12,
    "start_time": "2022-04-21T18:55:36.046Z"
   },
   {
    "duration": 27,
    "start_time": "2022-04-21T18:55:36.060Z"
   },
   {
    "duration": 9,
    "start_time": "2022-04-21T18:55:36.089Z"
   },
   {
    "duration": 26,
    "start_time": "2022-04-21T18:55:36.099Z"
   },
   {
    "duration": 7,
    "start_time": "2022-04-21T18:55:36.127Z"
   },
   {
    "duration": 21,
    "start_time": "2022-04-21T18:55:36.136Z"
   },
   {
    "duration": 8,
    "start_time": "2022-04-21T18:55:36.159Z"
   },
   {
    "duration": 10,
    "start_time": "2022-04-21T18:55:36.170Z"
   },
   {
    "duration": 38,
    "start_time": "2022-04-21T18:55:36.181Z"
   },
   {
    "duration": 15,
    "start_time": "2022-04-21T18:55:36.220Z"
   },
   {
    "duration": 131,
    "start_time": "2022-04-21T18:55:36.236Z"
   },
   {
    "duration": 48,
    "start_time": "2022-04-21T18:55:36.368Z"
   },
   {
    "duration": 107,
    "start_time": "2022-04-21T18:55:36.418Z"
   },
   {
    "duration": 42,
    "start_time": "2022-04-21T18:55:36.527Z"
   },
   {
    "duration": 42,
    "start_time": "2022-04-21T18:55:36.571Z"
   },
   {
    "duration": 15,
    "start_time": "2022-04-21T18:55:36.614Z"
   },
   {
    "duration": 29,
    "start_time": "2022-04-21T18:55:36.631Z"
   },
   {
    "duration": 47,
    "start_time": "2022-04-21T18:55:36.662Z"
   },
   {
    "duration": 26,
    "start_time": "2022-04-21T18:55:54.600Z"
   },
   {
    "duration": 60,
    "start_time": "2022-04-21T18:56:05.476Z"
   },
   {
    "duration": 31,
    "start_time": "2022-04-21T18:56:20.165Z"
   },
   {
    "duration": 32,
    "start_time": "2022-04-21T18:57:17.769Z"
   },
   {
    "duration": 11,
    "start_time": "2022-04-21T19:00:18.786Z"
   },
   {
    "duration": 52,
    "start_time": "2022-04-21T19:00:56.546Z"
   },
   {
    "duration": 133,
    "start_time": "2022-04-21T19:01:50.842Z"
   },
   {
    "duration": 54,
    "start_time": "2022-04-21T19:02:02.476Z"
   },
   {
    "duration": 25,
    "start_time": "2022-04-21T19:02:21.602Z"
   },
   {
    "duration": 14,
    "start_time": "2022-04-21T19:03:35.580Z"
   },
   {
    "duration": 8,
    "start_time": "2022-04-21T19:03:48.085Z"
   },
   {
    "duration": 8,
    "start_time": "2022-04-21T19:04:38.840Z"
   },
   {
    "duration": 10,
    "start_time": "2022-04-21T19:04:45.927Z"
   },
   {
    "duration": 23,
    "start_time": "2022-04-21T19:10:24.090Z"
   },
   {
    "duration": 28,
    "start_time": "2022-04-21T19:11:40.714Z"
   },
   {
    "duration": 35,
    "start_time": "2022-04-21T19:12:33.247Z"
   },
   {
    "duration": 31,
    "start_time": "2022-04-21T19:13:56.573Z"
   },
   {
    "duration": 30,
    "start_time": "2022-04-21T19:14:04.559Z"
   },
   {
    "duration": 30,
    "start_time": "2022-04-21T19:14:10.857Z"
   },
   {
    "duration": 33,
    "start_time": "2022-04-21T19:14:22.981Z"
   },
   {
    "duration": 449,
    "start_time": "2022-04-21T19:14:29.778Z"
   },
   {
    "duration": 59,
    "start_time": "2022-04-21T19:14:42.189Z"
   },
   {
    "duration": 29,
    "start_time": "2022-04-21T19:14:48.251Z"
   },
   {
    "duration": 37,
    "start_time": "2022-04-21T19:14:53.554Z"
   },
   {
    "duration": 1052,
    "start_time": "2022-04-21T19:18:20.614Z"
   },
   {
    "duration": 390,
    "start_time": "2022-04-21T19:18:21.668Z"
   },
   {
    "duration": 12,
    "start_time": "2022-04-21T19:18:22.060Z"
   },
   {
    "duration": 27,
    "start_time": "2022-04-21T19:18:22.074Z"
   },
   {
    "duration": 10,
    "start_time": "2022-04-21T19:18:22.103Z"
   },
   {
    "duration": 21,
    "start_time": "2022-04-21T19:18:22.115Z"
   },
   {
    "duration": 7,
    "start_time": "2022-04-21T19:18:22.138Z"
   },
   {
    "duration": 19,
    "start_time": "2022-04-21T19:18:22.148Z"
   },
   {
    "duration": 8,
    "start_time": "2022-04-21T19:18:22.168Z"
   },
   {
    "duration": 10,
    "start_time": "2022-04-21T19:18:22.208Z"
   },
   {
    "duration": 11,
    "start_time": "2022-04-21T19:18:22.220Z"
   },
   {
    "duration": 12,
    "start_time": "2022-04-21T19:18:22.233Z"
   },
   {
    "duration": 102,
    "start_time": "2022-04-21T19:18:22.247Z"
   },
   {
    "duration": 50,
    "start_time": "2022-04-21T19:18:22.350Z"
   },
   {
    "duration": 116,
    "start_time": "2022-04-21T19:18:22.408Z"
   },
   {
    "duration": 64,
    "start_time": "2022-04-21T19:18:22.526Z"
   },
   {
    "duration": 103,
    "start_time": "2022-04-21T19:18:22.592Z"
   },
   {
    "duration": 0,
    "start_time": "2022-04-21T19:18:22.707Z"
   },
   {
    "duration": 0,
    "start_time": "2022-04-21T19:18:22.708Z"
   },
   {
    "duration": 0,
    "start_time": "2022-04-21T19:18:22.710Z"
   },
   {
    "duration": 10,
    "start_time": "2022-04-21T19:19:33.031Z"
   },
   {
    "duration": 29,
    "start_time": "2022-04-21T19:20:02.688Z"
   },
   {
    "duration": 1145,
    "start_time": "2022-04-21T19:20:10.576Z"
   },
   {
    "duration": 390,
    "start_time": "2022-04-21T19:20:11.723Z"
   },
   {
    "duration": 13,
    "start_time": "2022-04-21T19:20:12.115Z"
   },
   {
    "duration": 27,
    "start_time": "2022-04-21T19:20:12.129Z"
   },
   {
    "duration": 8,
    "start_time": "2022-04-21T19:20:12.158Z"
   },
   {
    "duration": 43,
    "start_time": "2022-04-21T19:20:12.168Z"
   },
   {
    "duration": 7,
    "start_time": "2022-04-21T19:20:12.213Z"
   },
   {
    "duration": 21,
    "start_time": "2022-04-21T19:20:12.222Z"
   },
   {
    "duration": 9,
    "start_time": "2022-04-21T19:20:12.245Z"
   },
   {
    "duration": 17,
    "start_time": "2022-04-21T19:20:12.256Z"
   },
   {
    "duration": 36,
    "start_time": "2022-04-21T19:20:12.275Z"
   },
   {
    "duration": 19,
    "start_time": "2022-04-21T19:20:12.312Z"
   },
   {
    "duration": 92,
    "start_time": "2022-04-21T19:20:12.333Z"
   },
   {
    "duration": 54,
    "start_time": "2022-04-21T19:20:12.428Z"
   },
   {
    "duration": 129,
    "start_time": "2022-04-21T19:20:12.484Z"
   },
   {
    "duration": 64,
    "start_time": "2022-04-21T19:20:12.615Z"
   },
   {
    "duration": 40,
    "start_time": "2022-04-21T19:20:12.681Z"
   },
   {
    "duration": 14,
    "start_time": "2022-04-21T19:20:12.723Z"
   },
   {
    "duration": 45,
    "start_time": "2022-04-21T19:20:12.740Z"
   },
   {
    "duration": 53,
    "start_time": "2022-04-21T19:20:12.787Z"
   },
   {
    "duration": 49,
    "start_time": "2022-04-21T19:24:45.403Z"
   },
   {
    "duration": 67,
    "start_time": "2022-04-21T19:26:47.524Z"
   },
   {
    "duration": 48,
    "start_time": "2022-04-21T19:30:05.907Z"
   },
   {
    "duration": 20,
    "start_time": "2022-04-21T19:30:11.933Z"
   },
   {
    "duration": 14,
    "start_time": "2022-04-21T19:30:12.639Z"
   },
   {
    "duration": 30,
    "start_time": "2022-04-21T19:30:13.051Z"
   },
   {
    "duration": 48,
    "start_time": "2022-04-21T19:30:14.172Z"
   },
   {
    "duration": 118,
    "start_time": "2022-04-21T19:32:58.409Z"
   },
   {
    "duration": 29,
    "start_time": "2022-04-21T19:33:16.939Z"
   },
   {
    "duration": 42,
    "start_time": "2022-04-21T19:33:29.370Z"
   },
   {
    "duration": 331,
    "start_time": "2022-04-21T19:35:52.547Z"
   },
   {
    "duration": 43,
    "start_time": "2022-04-21T19:36:22.657Z"
   },
   {
    "duration": 24,
    "start_time": "2022-04-21T19:37:20.050Z"
   },
   {
    "duration": 25,
    "start_time": "2022-04-21T19:38:21.905Z"
   },
   {
    "duration": 45,
    "start_time": "2022-04-21T19:38:39.306Z"
   },
   {
    "duration": 47,
    "start_time": "2022-04-21T19:41:13.491Z"
   },
   {
    "duration": 306,
    "start_time": "2022-04-21T19:52:23.200Z"
   },
   {
    "duration": 44,
    "start_time": "2022-04-21T19:53:10.961Z"
   },
   {
    "duration": 1082,
    "start_time": "2022-04-21T19:54:15.437Z"
   },
   {
    "duration": 29,
    "start_time": "2022-04-21T19:54:40.974Z"
   },
   {
    "duration": 25,
    "start_time": "2022-04-21T19:56:14.865Z"
   },
   {
    "duration": 42,
    "start_time": "2022-04-21T19:58:24.500Z"
   },
   {
    "duration": 48,
    "start_time": "2022-04-21T19:59:12.321Z"
   },
   {
    "duration": 124,
    "start_time": "2022-04-23T09:00:36.670Z"
   },
   {
    "duration": 2296,
    "start_time": "2022-04-23T09:00:45.919Z"
   },
   {
    "duration": 702,
    "start_time": "2022-04-23T09:00:48.219Z"
   },
   {
    "duration": 21,
    "start_time": "2022-04-23T09:00:48.924Z"
   },
   {
    "duration": 36,
    "start_time": "2022-04-23T09:00:48.949Z"
   },
   {
    "duration": 12,
    "start_time": "2022-04-23T09:00:48.987Z"
   },
   {
    "duration": 54,
    "start_time": "2022-04-23T09:00:49.004Z"
   },
   {
    "duration": 16,
    "start_time": "2022-04-23T09:00:49.061Z"
   },
   {
    "duration": 47,
    "start_time": "2022-04-23T09:00:49.080Z"
   },
   {
    "duration": 32,
    "start_time": "2022-04-23T09:00:49.130Z"
   },
   {
    "duration": 40,
    "start_time": "2022-04-23T09:00:49.167Z"
   },
   {
    "duration": 24,
    "start_time": "2022-04-23T09:00:49.210Z"
   },
   {
    "duration": 26,
    "start_time": "2022-04-23T09:00:49.236Z"
   },
   {
    "duration": 130,
    "start_time": "2022-04-23T09:00:49.264Z"
   },
   {
    "duration": 87,
    "start_time": "2022-04-23T09:00:49.397Z"
   },
   {
    "duration": 166,
    "start_time": "2022-04-23T09:00:49.486Z"
   },
   {
    "duration": 106,
    "start_time": "2022-04-23T09:00:49.654Z"
   },
   {
    "duration": 28,
    "start_time": "2022-04-23T09:00:49.762Z"
   },
   {
    "duration": 21,
    "start_time": "2022-04-23T09:00:49.792Z"
   },
   {
    "duration": 86,
    "start_time": "2022-04-23T09:00:49.816Z"
   },
   {
    "duration": 288,
    "start_time": "2022-04-23T09:00:49.904Z"
   },
   {
    "duration": 46,
    "start_time": "2022-04-23T09:02:28.412Z"
   },
   {
    "duration": 71,
    "start_time": "2022-04-23T09:03:25.105Z"
   },
   {
    "duration": 42,
    "start_time": "2022-04-23T09:03:44.885Z"
   },
   {
    "duration": 42,
    "start_time": "2022-04-23T09:06:52.511Z"
   },
   {
    "duration": 44,
    "start_time": "2022-04-23T09:07:01.625Z"
   },
   {
    "duration": 57,
    "start_time": "2022-04-23T09:07:31.556Z"
   },
   {
    "duration": 1458,
    "start_time": "2022-04-23T09:08:35.035Z"
   },
   {
    "duration": 696,
    "start_time": "2022-04-23T09:08:36.497Z"
   },
   {
    "duration": 22,
    "start_time": "2022-04-23T09:08:37.195Z"
   },
   {
    "duration": 55,
    "start_time": "2022-04-23T09:08:37.220Z"
   },
   {
    "duration": 16,
    "start_time": "2022-04-23T09:08:37.278Z"
   },
   {
    "duration": 63,
    "start_time": "2022-04-23T09:08:37.296Z"
   },
   {
    "duration": 13,
    "start_time": "2022-04-23T09:08:37.362Z"
   },
   {
    "duration": 43,
    "start_time": "2022-04-23T09:08:37.378Z"
   },
   {
    "duration": 13,
    "start_time": "2022-04-23T09:08:37.423Z"
   },
   {
    "duration": 15,
    "start_time": "2022-04-23T09:08:37.452Z"
   },
   {
    "duration": 22,
    "start_time": "2022-04-23T09:08:37.469Z"
   },
   {
    "duration": 16,
    "start_time": "2022-04-23T09:08:37.494Z"
   },
   {
    "duration": 143,
    "start_time": "2022-04-23T09:08:37.513Z"
   },
   {
    "duration": 75,
    "start_time": "2022-04-23T09:08:37.658Z"
   },
   {
    "duration": 168,
    "start_time": "2022-04-23T09:08:37.735Z"
   },
   {
    "duration": 98,
    "start_time": "2022-04-23T09:08:37.906Z"
   },
   {
    "duration": 32,
    "start_time": "2022-04-23T09:08:38.006Z"
   },
   {
    "duration": 28,
    "start_time": "2022-04-23T09:08:38.040Z"
   },
   {
    "duration": 42,
    "start_time": "2022-04-23T09:08:38.071Z"
   },
   {
    "duration": 100,
    "start_time": "2022-04-23T09:08:38.115Z"
   },
   {
    "duration": 74,
    "start_time": "2022-04-23T09:09:30.210Z"
   },
   {
    "duration": 1881,
    "start_time": "2022-04-23T09:09:51.033Z"
   },
   {
    "duration": 699,
    "start_time": "2022-04-23T09:09:52.918Z"
   },
   {
    "duration": 28,
    "start_time": "2022-04-23T09:09:53.625Z"
   },
   {
    "duration": 54,
    "start_time": "2022-04-23T09:09:53.656Z"
   },
   {
    "duration": 40,
    "start_time": "2022-04-23T09:09:53.713Z"
   },
   {
    "duration": 30,
    "start_time": "2022-04-23T09:09:53.755Z"
   },
   {
    "duration": 10,
    "start_time": "2022-04-23T09:09:53.788Z"
   },
   {
    "duration": 64,
    "start_time": "2022-04-23T09:09:53.800Z"
   },
   {
    "duration": 16,
    "start_time": "2022-04-23T09:09:53.868Z"
   },
   {
    "duration": 15,
    "start_time": "2022-04-23T09:09:53.886Z"
   },
   {
    "duration": 51,
    "start_time": "2022-04-23T09:09:53.904Z"
   },
   {
    "duration": 19,
    "start_time": "2022-04-23T09:09:53.958Z"
   },
   {
    "duration": 151,
    "start_time": "2022-04-23T09:09:53.979Z"
   },
   {
    "duration": 81,
    "start_time": "2022-04-23T09:09:54.132Z"
   },
   {
    "duration": 293,
    "start_time": "2022-04-23T09:09:54.215Z"
   },
   {
    "duration": 134,
    "start_time": "2022-04-23T09:09:54.511Z"
   },
   {
    "duration": 41,
    "start_time": "2022-04-23T09:09:54.648Z"
   },
   {
    "duration": 26,
    "start_time": "2022-04-23T09:09:54.694Z"
   },
   {
    "duration": 72,
    "start_time": "2022-04-23T09:09:54.722Z"
   },
   {
    "duration": 129,
    "start_time": "2022-04-23T09:09:54.798Z"
   },
   {
    "duration": 40,
    "start_time": "2022-04-23T09:10:13.228Z"
   },
   {
    "duration": 671,
    "start_time": "2022-04-23T09:10:42.969Z"
   },
   {
    "duration": 41,
    "start_time": "2022-04-23T09:14:13.048Z"
   },
   {
    "duration": 112,
    "start_time": "2022-04-23T09:15:27.099Z"
   },
   {
    "duration": 41,
    "start_time": "2022-04-23T09:16:13.655Z"
   },
   {
    "duration": 30,
    "start_time": "2022-04-23T09:16:47.361Z"
   },
   {
    "duration": 104,
    "start_time": "2022-04-23T09:17:06.168Z"
   },
   {
    "duration": 42,
    "start_time": "2022-04-23T09:17:56.648Z"
   },
   {
    "duration": 87,
    "start_time": "2022-04-23T09:18:07.686Z"
   },
   {
    "duration": 14,
    "start_time": "2022-04-23T09:21:58.427Z"
   },
   {
    "duration": 1809,
    "start_time": "2022-04-23T09:22:25.325Z"
   },
   {
    "duration": 373,
    "start_time": "2022-04-23T09:23:18.958Z"
   },
   {
    "duration": 1966,
    "start_time": "2022-04-23T09:24:07.545Z"
   },
   {
    "duration": 1540,
    "start_time": "2022-04-23T09:24:22.111Z"
   },
   {
    "duration": 493,
    "start_time": "2022-04-23T09:24:23.654Z"
   },
   {
    "duration": 17,
    "start_time": "2022-04-23T09:24:24.149Z"
   },
   {
    "duration": 43,
    "start_time": "2022-04-23T09:24:24.168Z"
   },
   {
    "duration": 12,
    "start_time": "2022-04-23T09:24:24.215Z"
   },
   {
    "duration": 32,
    "start_time": "2022-04-23T09:24:24.253Z"
   },
   {
    "duration": 11,
    "start_time": "2022-04-23T09:24:24.289Z"
   },
   {
    "duration": 59,
    "start_time": "2022-04-23T09:24:24.303Z"
   },
   {
    "duration": 17,
    "start_time": "2022-04-23T09:24:24.365Z"
   },
   {
    "duration": 19,
    "start_time": "2022-04-23T09:24:24.384Z"
   },
   {
    "duration": 22,
    "start_time": "2022-04-23T09:24:24.406Z"
   },
   {
    "duration": 19,
    "start_time": "2022-04-23T09:24:24.452Z"
   },
   {
    "duration": 188,
    "start_time": "2022-04-23T09:24:24.473Z"
   },
   {
    "duration": 101,
    "start_time": "2022-04-23T09:24:24.666Z"
   },
   {
    "duration": 155,
    "start_time": "2022-04-23T09:24:24.770Z"
   },
   {
    "duration": 114,
    "start_time": "2022-04-23T09:24:24.928Z"
   },
   {
    "duration": 41,
    "start_time": "2022-04-23T09:24:25.045Z"
   },
   {
    "duration": 21,
    "start_time": "2022-04-23T09:24:25.089Z"
   },
   {
    "duration": 65,
    "start_time": "2022-04-23T09:24:25.113Z"
   },
   {
    "duration": 1753,
    "start_time": "2022-04-23T09:24:25.181Z"
   },
   {
    "duration": 0,
    "start_time": "2022-04-23T09:24:26.937Z"
   },
   {
    "duration": 4,
    "start_time": "2022-04-23T09:26:54.201Z"
   },
   {
    "duration": 68,
    "start_time": "2022-04-23T09:26:54.614Z"
   },
   {
    "duration": 146,
    "start_time": "2022-04-23T09:26:55.002Z"
   },
   {
    "duration": 92,
    "start_time": "2022-04-23T09:26:55.710Z"
   },
   {
    "duration": 31,
    "start_time": "2022-04-23T09:26:56.204Z"
   },
   {
    "duration": 20,
    "start_time": "2022-04-23T09:26:56.653Z"
   },
   {
    "duration": 44,
    "start_time": "2022-04-23T09:26:57.186Z"
   },
   {
    "duration": 1780,
    "start_time": "2022-04-23T09:26:57.769Z"
   },
   {
    "duration": 0,
    "start_time": "2022-04-23T09:26:59.553Z"
   },
   {
    "duration": 1477,
    "start_time": "2022-04-23T09:27:16.305Z"
   },
   {
    "duration": 488,
    "start_time": "2022-04-23T09:27:17.785Z"
   },
   {
    "duration": 20,
    "start_time": "2022-04-23T09:27:18.275Z"
   },
   {
    "duration": 34,
    "start_time": "2022-04-23T09:27:18.299Z"
   },
   {
    "duration": 24,
    "start_time": "2022-04-23T09:27:18.336Z"
   },
   {
    "duration": 53,
    "start_time": "2022-04-23T09:27:18.363Z"
   },
   {
    "duration": 10,
    "start_time": "2022-04-23T09:27:18.419Z"
   },
   {
    "duration": 30,
    "start_time": "2022-04-23T09:27:18.451Z"
   },
   {
    "duration": 16,
    "start_time": "2022-04-23T09:27:18.483Z"
   },
   {
    "duration": 20,
    "start_time": "2022-04-23T09:27:18.504Z"
   },
   {
    "duration": 20,
    "start_time": "2022-04-23T09:27:18.553Z"
   },
   {
    "duration": 21,
    "start_time": "2022-04-23T09:27:18.575Z"
   },
   {
    "duration": 4,
    "start_time": "2022-04-23T09:27:18.599Z"
   },
   {
    "duration": 258,
    "start_time": "2022-04-23T09:27:18.606Z"
   },
   {
    "duration": 0,
    "start_time": "2022-04-23T09:27:18.867Z"
   },
   {
    "duration": 0,
    "start_time": "2022-04-23T09:27:18.869Z"
   },
   {
    "duration": 0,
    "start_time": "2022-04-23T09:27:18.871Z"
   },
   {
    "duration": 0,
    "start_time": "2022-04-23T09:27:18.873Z"
   },
   {
    "duration": 0,
    "start_time": "2022-04-23T09:27:18.877Z"
   },
   {
    "duration": 0,
    "start_time": "2022-04-23T09:27:18.879Z"
   },
   {
    "duration": 0,
    "start_time": "2022-04-23T09:27:18.880Z"
   },
   {
    "duration": 115,
    "start_time": "2022-04-23T09:27:55.621Z"
   },
   {
    "duration": 98,
    "start_time": "2022-04-23T09:27:56.355Z"
   },
   {
    "duration": 152,
    "start_time": "2022-04-23T09:28:08.715Z"
   },
   {
    "duration": 93,
    "start_time": "2022-04-23T09:28:09.173Z"
   },
   {
    "duration": 44,
    "start_time": "2022-04-23T09:28:20.927Z"
   },
   {
    "duration": 27,
    "start_time": "2022-04-23T09:28:21.389Z"
   },
   {
    "duration": 43,
    "start_time": "2022-04-23T09:28:23.837Z"
   },
   {
    "duration": 1883,
    "start_time": "2022-04-23T09:28:25.725Z"
   },
   {
    "duration": 1734,
    "start_time": "2022-04-23T09:28:50.192Z"
   },
   {
    "duration": 77,
    "start_time": "2022-04-23T09:34:30.706Z"
   },
   {
    "duration": 37,
    "start_time": "2022-04-23T09:34:49.579Z"
   },
   {
    "duration": 1704,
    "start_time": "2022-04-23T09:37:01.131Z"
   },
   {
    "duration": 2526,
    "start_time": "2022-04-23T09:37:37.772Z"
   },
   {
    "duration": 83,
    "start_time": "2022-04-23T09:38:02.033Z"
   },
   {
    "duration": 77,
    "start_time": "2022-04-23T09:39:02.498Z"
   },
   {
    "duration": 40,
    "start_time": "2022-04-23T09:40:03.905Z"
   },
   {
    "duration": 45,
    "start_time": "2022-04-23T09:40:24.340Z"
   },
   {
    "duration": 41,
    "start_time": "2022-04-23T09:40:48.615Z"
   },
   {
    "duration": 22,
    "start_time": "2022-04-23T09:41:06.551Z"
   },
   {
    "duration": 79,
    "start_time": "2022-04-23T09:41:17.507Z"
   },
   {
    "duration": 127,
    "start_time": "2022-04-23T09:41:47.764Z"
   },
   {
    "duration": 62,
    "start_time": "2022-04-23T09:44:40.006Z"
   },
   {
    "duration": 1453,
    "start_time": "2022-04-23T09:46:14.270Z"
   },
   {
    "duration": 503,
    "start_time": "2022-04-23T09:46:15.726Z"
   },
   {
    "duration": 22,
    "start_time": "2022-04-23T09:46:16.232Z"
   },
   {
    "duration": 40,
    "start_time": "2022-04-23T09:46:16.258Z"
   },
   {
    "duration": 14,
    "start_time": "2022-04-23T09:46:16.301Z"
   },
   {
    "duration": 59,
    "start_time": "2022-04-23T09:46:16.318Z"
   },
   {
    "duration": 11,
    "start_time": "2022-04-23T09:46:16.379Z"
   },
   {
    "duration": 67,
    "start_time": "2022-04-23T09:46:16.393Z"
   },
   {
    "duration": 15,
    "start_time": "2022-04-23T09:46:16.463Z"
   },
   {
    "duration": 18,
    "start_time": "2022-04-23T09:46:16.484Z"
   },
   {
    "duration": 54,
    "start_time": "2022-04-23T09:46:16.505Z"
   },
   {
    "duration": 18,
    "start_time": "2022-04-23T09:46:16.562Z"
   },
   {
    "duration": 146,
    "start_time": "2022-04-23T09:46:16.582Z"
   },
   {
    "duration": 81,
    "start_time": "2022-04-23T09:46:16.731Z"
   },
   {
    "duration": 290,
    "start_time": "2022-04-23T09:46:16.815Z"
   },
   {
    "duration": 94,
    "start_time": "2022-04-23T09:46:17.108Z"
   },
   {
    "duration": 47,
    "start_time": "2022-04-23T09:46:17.205Z"
   },
   {
    "duration": 21,
    "start_time": "2022-04-23T09:46:17.254Z"
   },
   {
    "duration": 44,
    "start_time": "2022-04-23T09:46:17.277Z"
   },
   {
    "duration": 90,
    "start_time": "2022-04-23T09:46:17.323Z"
   },
   {
    "duration": 87,
    "start_time": "2022-04-23T09:46:55.119Z"
   },
   {
    "duration": 63,
    "start_time": "2022-04-23T09:47:15.974Z"
   },
   {
    "duration": 61,
    "start_time": "2022-04-23T09:47:28.122Z"
   },
   {
    "duration": 62,
    "start_time": "2022-04-23T09:47:32.185Z"
   },
   {
    "duration": 61,
    "start_time": "2022-04-23T09:47:39.292Z"
   },
   {
    "duration": 59,
    "start_time": "2022-04-23T09:47:47.193Z"
   },
   {
    "duration": 84,
    "start_time": "2022-04-23T09:47:55.552Z"
   },
   {
    "duration": 89,
    "start_time": "2022-04-23T09:47:58.587Z"
   },
   {
    "duration": 79,
    "start_time": "2022-04-23T09:48:23.288Z"
   },
   {
    "duration": 82,
    "start_time": "2022-04-23T09:48:34.463Z"
   },
   {
    "duration": 62,
    "start_time": "2022-04-23T09:51:13.515Z"
   },
   {
    "duration": 38,
    "start_time": "2022-04-23T09:51:31.549Z"
   },
   {
    "duration": 35,
    "start_time": "2022-04-23T09:51:45.087Z"
   },
   {
    "duration": 32,
    "start_time": "2022-04-23T09:52:29.919Z"
   },
   {
    "duration": 36,
    "start_time": "2022-04-23T09:52:44.449Z"
   },
   {
    "duration": 60,
    "start_time": "2022-04-23T09:53:05.373Z"
   },
   {
    "duration": 59,
    "start_time": "2022-04-23T09:53:29.513Z"
   },
   {
    "duration": 56,
    "start_time": "2022-04-23T09:53:37.292Z"
   },
   {
    "duration": 51,
    "start_time": "2022-04-23T09:53:48.267Z"
   },
   {
    "duration": 78,
    "start_time": "2022-04-23T09:53:53.691Z"
   },
   {
    "duration": 77,
    "start_time": "2022-04-23T09:54:06.911Z"
   },
   {
    "duration": 87,
    "start_time": "2022-04-23T09:54:20.855Z"
   },
   {
    "duration": 118,
    "start_time": "2022-04-23T09:54:27.599Z"
   },
   {
    "duration": 64,
    "start_time": "2022-04-23T09:54:53.759Z"
   },
   {
    "duration": 96,
    "start_time": "2022-04-23T10:39:09.187Z"
   },
   {
    "duration": 110,
    "start_time": "2022-04-23T10:39:43.461Z"
   },
   {
    "duration": 62,
    "start_time": "2022-04-23T10:42:47.085Z"
   },
   {
    "duration": 81,
    "start_time": "2022-04-23T10:49:25.906Z"
   },
   {
    "duration": 255,
    "start_time": "2022-04-23T10:51:38.420Z"
   },
   {
    "duration": 92,
    "start_time": "2022-04-23T10:55:12.737Z"
   },
   {
    "duration": 47,
    "start_time": "2022-04-23T10:56:43.235Z"
   },
   {
    "duration": 56,
    "start_time": "2022-04-23T10:56:52.065Z"
   },
   {
    "duration": 53,
    "start_time": "2022-04-23T10:56:58.131Z"
   },
   {
    "duration": 54,
    "start_time": "2022-04-23T10:57:06.279Z"
   },
   {
    "duration": 56,
    "start_time": "2022-04-23T10:57:15.470Z"
   },
   {
    "duration": 53,
    "start_time": "2022-04-23T10:58:31.866Z"
   },
   {
    "duration": 39,
    "start_time": "2022-04-23T11:00:49.884Z"
   },
   {
    "duration": 1458,
    "start_time": "2022-04-23T11:02:28.013Z"
   },
   {
    "duration": 591,
    "start_time": "2022-04-23T11:02:29.474Z"
   },
   {
    "duration": 19,
    "start_time": "2022-04-23T11:02:30.067Z"
   },
   {
    "duration": 36,
    "start_time": "2022-04-23T11:02:30.088Z"
   },
   {
    "duration": 28,
    "start_time": "2022-04-23T11:02:30.127Z"
   },
   {
    "duration": 42,
    "start_time": "2022-04-23T11:02:30.157Z"
   },
   {
    "duration": 11,
    "start_time": "2022-04-23T11:02:30.201Z"
   },
   {
    "duration": 48,
    "start_time": "2022-04-23T11:02:30.214Z"
   },
   {
    "duration": 12,
    "start_time": "2022-04-23T11:02:30.264Z"
   },
   {
    "duration": 28,
    "start_time": "2022-04-23T11:02:30.279Z"
   },
   {
    "duration": 31,
    "start_time": "2022-04-23T11:02:30.309Z"
   },
   {
    "duration": 25,
    "start_time": "2022-04-23T11:02:30.342Z"
   },
   {
    "duration": 135,
    "start_time": "2022-04-23T11:02:30.369Z"
   },
   {
    "duration": 82,
    "start_time": "2022-04-23T11:02:30.506Z"
   },
   {
    "duration": 167,
    "start_time": "2022-04-23T11:02:30.591Z"
   },
   {
    "duration": 95,
    "start_time": "2022-04-23T11:02:30.760Z"
   },
   {
    "duration": 33,
    "start_time": "2022-04-23T11:02:30.857Z"
   },
   {
    "duration": 37,
    "start_time": "2022-04-23T11:02:30.892Z"
   },
   {
    "duration": 57,
    "start_time": "2022-04-23T11:02:30.932Z"
   },
   {
    "duration": 81,
    "start_time": "2022-04-23T11:02:30.991Z"
   },
   {
    "duration": 228,
    "start_time": "2022-04-23T11:02:31.075Z"
   },
   {
    "duration": 257,
    "start_time": "2022-04-23T11:03:18.016Z"
   },
   {
    "duration": 1887,
    "start_time": "2022-04-23T11:03:34.358Z"
   },
   {
    "duration": 495,
    "start_time": "2022-04-23T11:03:36.249Z"
   },
   {
    "duration": 17,
    "start_time": "2022-04-23T11:03:36.746Z"
   },
   {
    "duration": 60,
    "start_time": "2022-04-23T11:03:36.765Z"
   },
   {
    "duration": 26,
    "start_time": "2022-04-23T11:03:36.828Z"
   },
   {
    "duration": 44,
    "start_time": "2022-04-23T11:03:36.856Z"
   },
   {
    "duration": 11,
    "start_time": "2022-04-23T11:03:36.902Z"
   },
   {
    "duration": 73,
    "start_time": "2022-04-23T11:03:36.915Z"
   },
   {
    "duration": 12,
    "start_time": "2022-04-23T11:03:36.990Z"
   },
   {
    "duration": 18,
    "start_time": "2022-04-23T11:03:37.004Z"
   },
   {
    "duration": 42,
    "start_time": "2022-04-23T11:03:37.025Z"
   },
   {
    "duration": 19,
    "start_time": "2022-04-23T11:03:37.070Z"
   },
   {
    "duration": 150,
    "start_time": "2022-04-23T11:03:37.091Z"
   },
   {
    "duration": 75,
    "start_time": "2022-04-23T11:03:37.245Z"
   },
   {
    "duration": 165,
    "start_time": "2022-04-23T11:03:37.323Z"
   },
   {
    "duration": 95,
    "start_time": "2022-04-23T11:03:37.490Z"
   },
   {
    "duration": 31,
    "start_time": "2022-04-23T11:03:37.587Z"
   },
   {
    "duration": 46,
    "start_time": "2022-04-23T11:03:37.620Z"
   },
   {
    "duration": 67,
    "start_time": "2022-04-23T11:03:37.669Z"
   },
   {
    "duration": 105,
    "start_time": "2022-04-23T11:03:37.752Z"
   },
   {
    "duration": 89,
    "start_time": "2022-04-23T11:03:37.860Z"
   },
   {
    "duration": 167,
    "start_time": "2022-04-23T11:05:24.635Z"
   },
   {
    "duration": 1434,
    "start_time": "2022-04-23T11:05:33.763Z"
   },
   {
    "duration": 630,
    "start_time": "2022-04-23T11:05:35.201Z"
   },
   {
    "duration": 21,
    "start_time": "2022-04-23T11:05:35.834Z"
   },
   {
    "duration": 56,
    "start_time": "2022-04-23T11:05:35.858Z"
   },
   {
    "duration": 35,
    "start_time": "2022-04-23T11:05:35.917Z"
   },
   {
    "duration": 42,
    "start_time": "2022-04-23T11:05:35.955Z"
   },
   {
    "duration": 10,
    "start_time": "2022-04-23T11:05:36.002Z"
   },
   {
    "duration": 68,
    "start_time": "2022-04-23T11:05:36.015Z"
   },
   {
    "duration": 14,
    "start_time": "2022-04-23T11:05:36.085Z"
   },
   {
    "duration": 48,
    "start_time": "2022-04-23T11:05:36.105Z"
   },
   {
    "duration": 27,
    "start_time": "2022-04-23T11:05:36.156Z"
   },
   {
    "duration": 25,
    "start_time": "2022-04-23T11:05:36.186Z"
   },
   {
    "duration": 130,
    "start_time": "2022-04-23T11:05:36.213Z"
   },
   {
    "duration": 71,
    "start_time": "2022-04-23T11:05:36.351Z"
   },
   {
    "duration": 292,
    "start_time": "2022-04-23T11:05:36.425Z"
   },
   {
    "duration": 127,
    "start_time": "2022-04-23T11:05:36.720Z"
   },
   {
    "duration": 31,
    "start_time": "2022-04-23T11:05:36.849Z"
   },
   {
    "duration": 21,
    "start_time": "2022-04-23T11:05:36.882Z"
   },
   {
    "duration": 90,
    "start_time": "2022-04-23T11:05:36.906Z"
   },
   {
    "duration": 300,
    "start_time": "2022-04-23T11:05:36.999Z"
   },
   {
    "duration": 0,
    "start_time": "2022-04-23T11:05:37.302Z"
   },
   {
    "duration": 96,
    "start_time": "2022-04-23T11:06:09.225Z"
   },
   {
    "duration": 121,
    "start_time": "2022-04-23T11:06:35.322Z"
   },
   {
    "duration": 41,
    "start_time": "2022-04-23T11:06:39.472Z"
   },
   {
    "duration": 1439,
    "start_time": "2022-04-23T11:06:59.466Z"
   },
   {
    "duration": 525,
    "start_time": "2022-04-23T11:07:00.908Z"
   },
   {
    "duration": 24,
    "start_time": "2022-04-23T11:07:01.435Z"
   },
   {
    "duration": 54,
    "start_time": "2022-04-23T11:07:01.463Z"
   },
   {
    "duration": 14,
    "start_time": "2022-04-23T11:07:01.519Z"
   },
   {
    "duration": 29,
    "start_time": "2022-04-23T11:07:01.552Z"
   },
   {
    "duration": 14,
    "start_time": "2022-04-23T11:07:01.583Z"
   },
   {
    "duration": 60,
    "start_time": "2022-04-23T11:07:01.600Z"
   },
   {
    "duration": 13,
    "start_time": "2022-04-23T11:07:01.662Z"
   },
   {
    "duration": 19,
    "start_time": "2022-04-23T11:07:01.679Z"
   },
   {
    "duration": 19,
    "start_time": "2022-04-23T11:07:01.701Z"
   },
   {
    "duration": 15,
    "start_time": "2022-04-23T11:07:01.751Z"
   },
   {
    "duration": 136,
    "start_time": "2022-04-23T11:07:01.769Z"
   },
   {
    "duration": 75,
    "start_time": "2022-04-23T11:07:01.908Z"
   },
   {
    "duration": 158,
    "start_time": "2022-04-23T11:07:01.986Z"
   },
   {
    "duration": 85,
    "start_time": "2022-04-23T11:07:02.146Z"
   },
   {
    "duration": 44,
    "start_time": "2022-04-23T11:07:02.233Z"
   },
   {
    "duration": 26,
    "start_time": "2022-04-23T11:07:02.279Z"
   },
   {
    "duration": 88,
    "start_time": "2022-04-23T11:07:02.308Z"
   },
   {
    "duration": 280,
    "start_time": "2022-04-23T11:07:02.398Z"
   },
   {
    "duration": 0,
    "start_time": "2022-04-23T11:07:02.681Z"
   },
   {
    "duration": 44,
    "start_time": "2022-04-23T11:08:05.100Z"
   },
   {
    "duration": 1451,
    "start_time": "2022-04-23T11:08:12.581Z"
   },
   {
    "duration": 498,
    "start_time": "2022-04-23T11:08:14.035Z"
   },
   {
    "duration": 16,
    "start_time": "2022-04-23T11:08:14.536Z"
   },
   {
    "duration": 35,
    "start_time": "2022-04-23T11:08:14.555Z"
   },
   {
    "duration": 13,
    "start_time": "2022-04-23T11:08:14.592Z"
   },
   {
    "duration": 57,
    "start_time": "2022-04-23T11:08:14.607Z"
   },
   {
    "duration": 10,
    "start_time": "2022-04-23T11:08:14.667Z"
   },
   {
    "duration": 38,
    "start_time": "2022-04-23T11:08:14.680Z"
   },
   {
    "duration": 34,
    "start_time": "2022-04-23T11:08:14.721Z"
   },
   {
    "duration": 15,
    "start_time": "2022-04-23T11:08:14.759Z"
   },
   {
    "duration": 26,
    "start_time": "2022-04-23T11:08:14.777Z"
   },
   {
    "duration": 17,
    "start_time": "2022-04-23T11:08:14.806Z"
   },
   {
    "duration": 127,
    "start_time": "2022-04-23T11:08:14.853Z"
   },
   {
    "duration": 83,
    "start_time": "2022-04-23T11:08:14.982Z"
   },
   {
    "duration": 159,
    "start_time": "2022-04-23T11:08:15.067Z"
   },
   {
    "duration": 98,
    "start_time": "2022-04-23T11:08:15.229Z"
   },
   {
    "duration": 41,
    "start_time": "2022-04-23T11:08:15.329Z"
   },
   {
    "duration": 21,
    "start_time": "2022-04-23T11:08:15.372Z"
   },
   {
    "duration": 82,
    "start_time": "2022-04-23T11:08:15.395Z"
   },
   {
    "duration": 192,
    "start_time": "2022-04-23T11:08:15.480Z"
   },
   {
    "duration": 0,
    "start_time": "2022-04-23T11:08:15.674Z"
   },
   {
    "duration": 56,
    "start_time": "2022-04-23T11:09:35.049Z"
   },
   {
    "duration": 1421,
    "start_time": "2022-04-23T11:09:54.912Z"
   },
   {
    "duration": 531,
    "start_time": "2022-04-23T11:09:56.336Z"
   },
   {
    "duration": 18,
    "start_time": "2022-04-23T11:09:56.870Z"
   },
   {
    "duration": 41,
    "start_time": "2022-04-23T11:09:56.892Z"
   },
   {
    "duration": 19,
    "start_time": "2022-04-23T11:09:56.935Z"
   },
   {
    "duration": 33,
    "start_time": "2022-04-23T11:09:56.957Z"
   },
   {
    "duration": 12,
    "start_time": "2022-04-23T11:09:56.992Z"
   },
   {
    "duration": 61,
    "start_time": "2022-04-23T11:09:57.007Z"
   },
   {
    "duration": 12,
    "start_time": "2022-04-23T11:09:57.070Z"
   },
   {
    "duration": 17,
    "start_time": "2022-04-23T11:09:57.088Z"
   },
   {
    "duration": 47,
    "start_time": "2022-04-23T11:09:57.107Z"
   },
   {
    "duration": 18,
    "start_time": "2022-04-23T11:09:57.156Z"
   },
   {
    "duration": 140,
    "start_time": "2022-04-23T11:09:57.176Z"
   },
   {
    "duration": 85,
    "start_time": "2022-04-23T11:09:57.318Z"
   },
   {
    "duration": 166,
    "start_time": "2022-04-23T11:09:57.405Z"
   },
   {
    "duration": 100,
    "start_time": "2022-04-23T11:09:57.573Z"
   },
   {
    "duration": 31,
    "start_time": "2022-04-23T11:09:57.675Z"
   },
   {
    "duration": 46,
    "start_time": "2022-04-23T11:09:57.708Z"
   },
   {
    "duration": 43,
    "start_time": "2022-04-23T11:09:57.756Z"
   },
   {
    "duration": 195,
    "start_time": "2022-04-23T11:09:57.801Z"
   },
   {
    "duration": 0,
    "start_time": "2022-04-23T11:09:57.999Z"
   },
   {
    "duration": 68,
    "start_time": "2022-04-23T11:10:14.145Z"
   },
   {
    "duration": 40,
    "start_time": "2022-04-23T11:10:33.164Z"
   },
   {
    "duration": 1529,
    "start_time": "2022-04-23T11:10:40.254Z"
   },
   {
    "duration": 632,
    "start_time": "2022-04-23T11:10:41.786Z"
   },
   {
    "duration": 21,
    "start_time": "2022-04-23T11:10:42.420Z"
   },
   {
    "duration": 53,
    "start_time": "2022-04-23T11:10:42.444Z"
   },
   {
    "duration": 12,
    "start_time": "2022-04-23T11:10:42.499Z"
   },
   {
    "duration": 48,
    "start_time": "2022-04-23T11:10:42.513Z"
   },
   {
    "duration": 10,
    "start_time": "2022-04-23T11:10:42.563Z"
   },
   {
    "duration": 28,
    "start_time": "2022-04-23T11:10:42.576Z"
   },
   {
    "duration": 46,
    "start_time": "2022-04-23T11:10:42.607Z"
   },
   {
    "duration": 18,
    "start_time": "2022-04-23T11:10:42.657Z"
   },
   {
    "duration": 18,
    "start_time": "2022-04-23T11:10:42.678Z"
   },
   {
    "duration": 54,
    "start_time": "2022-04-23T11:10:42.698Z"
   },
   {
    "duration": 180,
    "start_time": "2022-04-23T11:10:42.755Z"
   },
   {
    "duration": 77,
    "start_time": "2022-04-23T11:10:42.938Z"
   },
   {
    "duration": 158,
    "start_time": "2022-04-23T11:10:43.017Z"
   },
   {
    "duration": 96,
    "start_time": "2022-04-23T11:10:43.178Z"
   },
   {
    "duration": 32,
    "start_time": "2022-04-23T11:10:43.276Z"
   },
   {
    "duration": 44,
    "start_time": "2022-04-23T11:10:43.311Z"
   },
   {
    "duration": 57,
    "start_time": "2022-04-23T11:10:43.358Z"
   },
   {
    "duration": 90,
    "start_time": "2022-04-23T11:10:43.418Z"
   },
   {
    "duration": 174,
    "start_time": "2022-04-23T11:10:43.511Z"
   },
   {
    "duration": 168,
    "start_time": "2022-04-23T11:11:10.477Z"
   },
   {
    "duration": 1445,
    "start_time": "2022-04-23T11:11:19.660Z"
   },
   {
    "duration": 505,
    "start_time": "2022-04-23T11:11:21.108Z"
   },
   {
    "duration": 19,
    "start_time": "2022-04-23T11:11:21.616Z"
   },
   {
    "duration": 42,
    "start_time": "2022-04-23T11:11:21.639Z"
   },
   {
    "duration": 16,
    "start_time": "2022-04-23T11:11:21.684Z"
   },
   {
    "duration": 58,
    "start_time": "2022-04-23T11:11:21.702Z"
   },
   {
    "duration": 14,
    "start_time": "2022-04-23T11:11:21.762Z"
   },
   {
    "duration": 42,
    "start_time": "2022-04-23T11:11:21.778Z"
   },
   {
    "duration": 39,
    "start_time": "2022-04-23T11:11:21.824Z"
   },
   {
    "duration": 20,
    "start_time": "2022-04-23T11:11:21.867Z"
   },
   {
    "duration": 19,
    "start_time": "2022-04-23T11:11:21.889Z"
   },
   {
    "duration": 44,
    "start_time": "2022-04-23T11:11:21.910Z"
   },
   {
    "duration": 136,
    "start_time": "2022-04-23T11:11:21.957Z"
   },
   {
    "duration": 81,
    "start_time": "2022-04-23T11:11:22.096Z"
   },
   {
    "duration": 157,
    "start_time": "2022-04-23T11:11:22.180Z"
   },
   {
    "duration": 89,
    "start_time": "2022-04-23T11:11:22.340Z"
   },
   {
    "duration": 46,
    "start_time": "2022-04-23T11:11:22.432Z"
   },
   {
    "duration": 19,
    "start_time": "2022-04-23T11:11:22.480Z"
   },
   {
    "duration": 67,
    "start_time": "2022-04-23T11:11:22.502Z"
   },
   {
    "duration": 67,
    "start_time": "2022-04-23T11:11:22.571Z"
   },
   {
    "duration": 105,
    "start_time": "2022-04-23T11:11:22.652Z"
   },
   {
    "duration": 274,
    "start_time": "2022-04-23T11:13:29.760Z"
   },
   {
    "duration": 1421,
    "start_time": "2022-04-23T11:13:36.984Z"
   },
   {
    "duration": 713,
    "start_time": "2022-04-23T11:13:38.408Z"
   },
   {
    "duration": 24,
    "start_time": "2022-04-23T11:13:39.124Z"
   },
   {
    "duration": 44,
    "start_time": "2022-04-23T11:13:39.152Z"
   },
   {
    "duration": 13,
    "start_time": "2022-04-23T11:13:39.199Z"
   },
   {
    "duration": 60,
    "start_time": "2022-04-23T11:13:39.215Z"
   },
   {
    "duration": 14,
    "start_time": "2022-04-23T11:13:39.278Z"
   },
   {
    "duration": 59,
    "start_time": "2022-04-23T11:13:39.294Z"
   },
   {
    "duration": 13,
    "start_time": "2022-04-23T11:13:39.355Z"
   },
   {
    "duration": 17,
    "start_time": "2022-04-23T11:13:39.374Z"
   },
   {
    "duration": 18,
    "start_time": "2022-04-23T11:13:39.393Z"
   },
   {
    "duration": 56,
    "start_time": "2022-04-23T11:13:39.413Z"
   },
   {
    "duration": 125,
    "start_time": "2022-04-23T11:13:39.471Z"
   },
   {
    "duration": 81,
    "start_time": "2022-04-23T11:13:39.598Z"
   },
   {
    "duration": 194,
    "start_time": "2022-04-23T11:13:39.681Z"
   },
   {
    "duration": 94,
    "start_time": "2022-04-23T11:13:39.878Z"
   },
   {
    "duration": 30,
    "start_time": "2022-04-23T11:13:39.975Z"
   },
   {
    "duration": 21,
    "start_time": "2022-04-23T11:13:40.007Z"
   },
   {
    "duration": 43,
    "start_time": "2022-04-23T11:13:40.053Z"
   },
   {
    "duration": 97,
    "start_time": "2022-04-23T11:13:40.099Z"
   },
   {
    "duration": 107,
    "start_time": "2022-04-23T11:13:40.199Z"
   },
   {
    "duration": 184,
    "start_time": "2022-04-23T12:04:07.335Z"
   },
   {
    "duration": 1485,
    "start_time": "2022-04-23T12:04:44.181Z"
   },
   {
    "duration": 498,
    "start_time": "2022-04-23T12:04:45.669Z"
   },
   {
    "duration": 21,
    "start_time": "2022-04-23T12:04:46.170Z"
   },
   {
    "duration": 36,
    "start_time": "2022-04-23T12:04:46.194Z"
   },
   {
    "duration": 30,
    "start_time": "2022-04-23T12:04:46.233Z"
   },
   {
    "duration": 30,
    "start_time": "2022-04-23T12:04:46.266Z"
   },
   {
    "duration": 11,
    "start_time": "2022-04-23T12:04:46.299Z"
   },
   {
    "duration": 76,
    "start_time": "2022-04-23T12:04:46.312Z"
   },
   {
    "duration": 16,
    "start_time": "2022-04-23T12:04:46.390Z"
   },
   {
    "duration": 15,
    "start_time": "2022-04-23T12:04:46.411Z"
   },
   {
    "duration": 15,
    "start_time": "2022-04-23T12:04:46.452Z"
   },
   {
    "duration": 17,
    "start_time": "2022-04-23T12:04:46.470Z"
   },
   {
    "duration": 140,
    "start_time": "2022-04-23T12:04:46.490Z"
   },
   {
    "duration": 79,
    "start_time": "2022-04-23T12:04:46.632Z"
   },
   {
    "duration": 156,
    "start_time": "2022-04-23T12:04:46.714Z"
   },
   {
    "duration": 92,
    "start_time": "2022-04-23T12:04:46.873Z"
   },
   {
    "duration": 29,
    "start_time": "2022-04-23T12:04:46.967Z"
   },
   {
    "duration": 20,
    "start_time": "2022-04-23T12:04:46.999Z"
   },
   {
    "duration": 57,
    "start_time": "2022-04-23T12:04:47.051Z"
   },
   {
    "duration": 88,
    "start_time": "2022-04-23T12:04:47.111Z"
   },
   {
    "duration": 91,
    "start_time": "2022-04-23T12:04:47.202Z"
   },
   {
    "duration": 269,
    "start_time": "2022-04-23T12:24:06.549Z"
   },
   {
    "duration": 1896,
    "start_time": "2022-04-23T12:24:28.258Z"
   },
   {
    "duration": 738,
    "start_time": "2022-04-23T12:24:30.157Z"
   },
   {
    "duration": 20,
    "start_time": "2022-04-23T12:24:30.898Z"
   },
   {
    "duration": 66,
    "start_time": "2022-04-23T12:24:30.921Z"
   },
   {
    "duration": 16,
    "start_time": "2022-04-23T12:24:30.990Z"
   },
   {
    "duration": 70,
    "start_time": "2022-04-23T12:24:31.009Z"
   },
   {
    "duration": 13,
    "start_time": "2022-04-23T12:24:31.081Z"
   },
   {
    "duration": 64,
    "start_time": "2022-04-23T12:24:31.097Z"
   },
   {
    "duration": 16,
    "start_time": "2022-04-23T12:24:31.163Z"
   },
   {
    "duration": 23,
    "start_time": "2022-04-23T12:24:31.183Z"
   },
   {
    "duration": 43,
    "start_time": "2022-04-23T12:24:31.208Z"
   },
   {
    "duration": 20,
    "start_time": "2022-04-23T12:24:31.254Z"
   },
   {
    "duration": 181,
    "start_time": "2022-04-23T12:24:31.276Z"
   },
   {
    "duration": 101,
    "start_time": "2022-04-23T12:24:31.460Z"
   },
   {
    "duration": 237,
    "start_time": "2022-04-23T12:24:31.564Z"
   },
   {
    "duration": 101,
    "start_time": "2022-04-23T12:24:31.803Z"
   },
   {
    "duration": 45,
    "start_time": "2022-04-23T12:24:31.906Z"
   },
   {
    "duration": 28,
    "start_time": "2022-04-23T12:24:31.954Z"
   },
   {
    "duration": 80,
    "start_time": "2022-04-23T12:24:31.985Z"
   },
   {
    "duration": 109,
    "start_time": "2022-04-23T12:24:32.068Z"
   },
   {
    "duration": 8,
    "start_time": "2022-04-23T12:24:32.179Z"
   },
   {
    "duration": 102,
    "start_time": "2022-04-23T12:25:14.925Z"
   },
   {
    "duration": 6,
    "start_time": "2022-04-23T12:25:30.767Z"
   },
   {
    "duration": 8,
    "start_time": "2022-04-23T12:25:48.285Z"
   },
   {
    "duration": 157,
    "start_time": "2022-04-23T12:31:34.264Z"
   },
   {
    "duration": 266,
    "start_time": "2022-04-23T12:31:43.291Z"
   },
   {
    "duration": 175,
    "start_time": "2022-04-23T12:32:31.779Z"
   },
   {
    "duration": 252,
    "start_time": "2022-04-23T13:42:41.092Z"
   },
   {
    "duration": 1761,
    "start_time": "2022-04-23T13:42:58.954Z"
   },
   {
    "duration": 745,
    "start_time": "2022-04-23T13:43:00.718Z"
   },
   {
    "duration": 25,
    "start_time": "2022-04-23T13:43:01.467Z"
   },
   {
    "duration": 74,
    "start_time": "2022-04-23T13:43:01.495Z"
   },
   {
    "duration": 23,
    "start_time": "2022-04-23T13:43:01.574Z"
   },
   {
    "duration": 66,
    "start_time": "2022-04-23T13:43:01.600Z"
   },
   {
    "duration": 15,
    "start_time": "2022-04-23T13:43:01.672Z"
   },
   {
    "duration": 69,
    "start_time": "2022-04-23T13:43:01.690Z"
   },
   {
    "duration": 16,
    "start_time": "2022-04-23T13:43:01.763Z"
   },
   {
    "duration": 22,
    "start_time": "2022-04-23T13:43:01.782Z"
   },
   {
    "duration": 51,
    "start_time": "2022-04-23T13:43:01.807Z"
   },
   {
    "duration": 33,
    "start_time": "2022-04-23T13:43:01.861Z"
   },
   {
    "duration": 195,
    "start_time": "2022-04-23T13:43:01.897Z"
   },
   {
    "duration": 105,
    "start_time": "2022-04-23T13:43:02.098Z"
   },
   {
    "duration": 284,
    "start_time": "2022-04-23T13:43:02.206Z"
   },
   {
    "duration": 132,
    "start_time": "2022-04-23T13:43:02.494Z"
   },
   {
    "duration": 56,
    "start_time": "2022-04-23T13:43:02.629Z"
   },
   {
    "duration": 28,
    "start_time": "2022-04-23T13:43:02.688Z"
   },
   {
    "duration": 88,
    "start_time": "2022-04-23T13:43:02.719Z"
   },
   {
    "duration": 97,
    "start_time": "2022-04-23T13:43:02.811Z"
   },
   {
    "duration": 9,
    "start_time": "2022-04-23T13:43:02.911Z"
   },
   {
    "duration": 310,
    "start_time": "2022-04-23T13:43:02.923Z"
   },
   {
    "duration": 4,
    "start_time": "2022-04-23T13:44:09.132Z"
   },
   {
    "duration": 235,
    "start_time": "2022-04-23T13:53:15.976Z"
   },
   {
    "duration": 20,
    "start_time": "2022-04-23T13:53:28.540Z"
   },
   {
    "duration": 15,
    "start_time": "2022-04-23T13:54:53.570Z"
   },
   {
    "duration": 792,
    "start_time": "2022-04-23T13:55:31.600Z"
   },
   {
    "duration": 66,
    "start_time": "2022-04-23T13:57:07.293Z"
   },
   {
    "duration": 18,
    "start_time": "2022-04-23T13:57:30.809Z"
   },
   {
    "duration": 21,
    "start_time": "2022-04-23T14:00:04.973Z"
   },
   {
    "duration": 97,
    "start_time": "2022-04-23T14:00:13.732Z"
   },
   {
    "duration": 29,
    "start_time": "2022-04-23T14:00:25.041Z"
   },
   {
    "duration": 30,
    "start_time": "2022-04-23T14:00:47.319Z"
   },
   {
    "duration": 30,
    "start_time": "2022-04-23T14:00:51.666Z"
   },
   {
    "duration": 68,
    "start_time": "2022-04-23T14:01:04.296Z"
   },
   {
    "duration": 37,
    "start_time": "2022-04-23T14:01:13.992Z"
   },
   {
    "duration": 28,
    "start_time": "2022-04-23T14:01:34.909Z"
   },
   {
    "duration": 53,
    "start_time": "2022-04-23T14:02:22.818Z"
   },
   {
    "duration": 23,
    "start_time": "2022-04-23T14:02:37.987Z"
   },
   {
    "duration": 43,
    "start_time": "2022-04-23T14:03:36.204Z"
   },
   {
    "duration": 26,
    "start_time": "2022-04-23T14:03:44.038Z"
   },
   {
    "duration": 25,
    "start_time": "2022-04-23T14:03:47.535Z"
   },
   {
    "duration": 23,
    "start_time": "2022-04-23T14:05:18.927Z"
   },
   {
    "duration": 47,
    "start_time": "2022-04-23T14:06:03.756Z"
   },
   {
    "duration": 45,
    "start_time": "2022-04-23T14:06:49.509Z"
   },
   {
    "duration": 66,
    "start_time": "2022-04-23T14:20:17.584Z"
   },
   {
    "duration": 105,
    "start_time": "2022-04-23T14:22:23.356Z"
   },
   {
    "duration": 1822,
    "start_time": "2022-04-23T14:27:41.479Z"
   },
   {
    "duration": 693,
    "start_time": "2022-04-23T14:27:43.306Z"
   },
   {
    "duration": 23,
    "start_time": "2022-04-23T14:27:44.001Z"
   },
   {
    "duration": 56,
    "start_time": "2022-04-23T14:27:44.026Z"
   },
   {
    "duration": 16,
    "start_time": "2022-04-23T14:27:44.086Z"
   },
   {
    "duration": 62,
    "start_time": "2022-04-23T14:27:44.105Z"
   },
   {
    "duration": 13,
    "start_time": "2022-04-23T14:27:44.170Z"
   },
   {
    "duration": 48,
    "start_time": "2022-04-23T14:27:44.186Z"
   },
   {
    "duration": 20,
    "start_time": "2022-04-23T14:27:44.253Z"
   },
   {
    "duration": 24,
    "start_time": "2022-04-23T14:27:44.276Z"
   },
   {
    "duration": 40,
    "start_time": "2022-04-23T14:27:44.304Z"
   },
   {
    "duration": 24,
    "start_time": "2022-04-23T14:27:44.351Z"
   },
   {
    "duration": 289,
    "start_time": "2022-04-23T14:27:44.377Z"
   },
   {
    "duration": 104,
    "start_time": "2022-04-23T14:27:44.672Z"
   },
   {
    "duration": 264,
    "start_time": "2022-04-23T14:27:44.780Z"
   },
   {
    "duration": 120,
    "start_time": "2022-04-23T14:27:45.051Z"
   },
   {
    "duration": 39,
    "start_time": "2022-04-23T14:27:45.174Z"
   },
   {
    "duration": 52,
    "start_time": "2022-04-23T14:27:45.219Z"
   },
   {
    "duration": 61,
    "start_time": "2022-04-23T14:27:45.274Z"
   },
   {
    "duration": 93,
    "start_time": "2022-04-23T14:27:45.338Z"
   },
   {
    "duration": 25,
    "start_time": "2022-04-23T14:27:45.433Z"
   },
   {
    "duration": 303,
    "start_time": "2022-04-23T14:27:45.461Z"
   },
   {
    "duration": 103,
    "start_time": "2022-04-23T14:27:45.767Z"
   },
   {
    "duration": 236,
    "start_time": "2022-04-23T14:28:09.593Z"
   },
   {
    "duration": 101,
    "start_time": "2022-04-23T14:28:16.243Z"
   },
   {
    "duration": 92,
    "start_time": "2022-04-23T14:28:31.818Z"
   },
   {
    "duration": 21,
    "start_time": "2022-04-23T14:29:33.840Z"
   },
   {
    "duration": 95,
    "start_time": "2022-04-23T14:30:36.111Z"
   },
   {
    "duration": 80,
    "start_time": "2022-04-23T14:30:48.061Z"
   },
   {
    "duration": 65,
    "start_time": "2022-04-23T14:31:25.189Z"
   },
   {
    "duration": 28,
    "start_time": "2022-04-23T14:31:45.851Z"
   },
   {
    "duration": 70,
    "start_time": "2022-04-23T14:31:53.009Z"
   },
   {
    "duration": 78,
    "start_time": "2022-04-23T14:32:03.309Z"
   },
   {
    "duration": 69,
    "start_time": "2022-04-23T14:32:11.996Z"
   },
   {
    "duration": 77,
    "start_time": "2022-04-23T14:32:35.699Z"
   },
   {
    "duration": 86,
    "start_time": "2022-04-23T14:32:49.123Z"
   },
   {
    "duration": 513,
    "start_time": "2022-04-23T14:33:46.677Z"
   },
   {
    "duration": 54,
    "start_time": "2022-04-23T14:35:01.427Z"
   },
   {
    "duration": 71,
    "start_time": "2022-04-23T14:35:33.960Z"
   },
   {
    "duration": 81,
    "start_time": "2022-04-23T14:35:39.569Z"
   },
   {
    "duration": 73,
    "start_time": "2022-04-23T14:35:57.236Z"
   },
   {
    "duration": 74,
    "start_time": "2022-04-23T14:36:23.488Z"
   },
   {
    "duration": 82,
    "start_time": "2022-04-23T14:37:04.637Z"
   },
   {
    "duration": 104,
    "start_time": "2022-04-23T14:38:04.881Z"
   },
   {
    "duration": 80,
    "start_time": "2022-04-23T14:39:22.701Z"
   },
   {
    "duration": 66,
    "start_time": "2022-04-23T14:41:26.936Z"
   },
   {
    "duration": 75,
    "start_time": "2022-04-23T14:43:10.631Z"
   },
   {
    "duration": 88,
    "start_time": "2022-04-23T14:44:02.873Z"
   },
   {
    "duration": 1758,
    "start_time": "2022-04-23T14:44:44.989Z"
   },
   {
    "duration": 645,
    "start_time": "2022-04-23T14:44:46.753Z"
   },
   {
    "duration": 27,
    "start_time": "2022-04-23T14:44:47.401Z"
   },
   {
    "duration": 45,
    "start_time": "2022-04-23T14:44:47.431Z"
   },
   {
    "duration": 13,
    "start_time": "2022-04-23T14:44:47.479Z"
   },
   {
    "duration": 57,
    "start_time": "2022-04-23T14:44:47.495Z"
   },
   {
    "duration": 13,
    "start_time": "2022-04-23T14:44:47.555Z"
   },
   {
    "duration": 37,
    "start_time": "2022-04-23T14:44:47.571Z"
   },
   {
    "duration": 43,
    "start_time": "2022-04-23T14:44:47.611Z"
   },
   {
    "duration": 21,
    "start_time": "2022-04-23T14:44:47.659Z"
   },
   {
    "duration": 27,
    "start_time": "2022-04-23T14:44:47.684Z"
   },
   {
    "duration": 48,
    "start_time": "2022-04-23T14:44:47.714Z"
   },
   {
    "duration": 180,
    "start_time": "2022-04-23T14:44:47.765Z"
   },
   {
    "duration": 91,
    "start_time": "2022-04-23T14:44:47.948Z"
   },
   {
    "duration": 284,
    "start_time": "2022-04-23T14:44:48.053Z"
   },
   {
    "duration": 117,
    "start_time": "2022-04-23T14:44:48.339Z"
   },
   {
    "duration": 39,
    "start_time": "2022-04-23T14:44:48.458Z"
   },
   {
    "duration": 52,
    "start_time": "2022-04-23T14:44:48.500Z"
   },
   {
    "duration": 58,
    "start_time": "2022-04-23T14:44:48.554Z"
   },
   {
    "duration": 97,
    "start_time": "2022-04-23T14:44:48.614Z"
   },
   {
    "duration": 8,
    "start_time": "2022-04-23T14:44:48.713Z"
   },
   {
    "duration": 269,
    "start_time": "2022-04-23T14:44:48.724Z"
   },
   {
    "duration": 110,
    "start_time": "2022-04-23T14:44:48.995Z"
   },
   {
    "duration": 99,
    "start_time": "2022-04-23T14:44:49.108Z"
   },
   {
    "duration": 87,
    "start_time": "2022-04-23T14:45:08.795Z"
   },
   {
    "duration": 65,
    "start_time": "2022-04-23T14:45:48.319Z"
   },
   {
    "duration": 85,
    "start_time": "2022-04-23T14:46:15.362Z"
   },
   {
    "duration": 83,
    "start_time": "2022-04-23T14:52:10.797Z"
   },
   {
    "duration": 241,
    "start_time": "2022-04-23T14:58:02.808Z"
   },
   {
    "duration": 24,
    "start_time": "2022-04-23T14:58:21.183Z"
   },
   {
    "duration": 31,
    "start_time": "2022-04-23T14:58:32.394Z"
   },
   {
    "duration": 61,
    "start_time": "2022-04-23T14:58:45.931Z"
   },
   {
    "duration": 60,
    "start_time": "2022-04-23T14:59:40.425Z"
   },
   {
    "duration": 51,
    "start_time": "2022-04-23T15:00:24.006Z"
   },
   {
    "duration": 86,
    "start_time": "2022-04-23T15:05:08.447Z"
   },
   {
    "duration": 41,
    "start_time": "2022-04-23T15:05:22.093Z"
   },
   {
    "duration": 157,
    "start_time": "2022-04-23T15:06:33.069Z"
   },
   {
    "duration": 101,
    "start_time": "2022-04-23T15:06:48.343Z"
   },
   {
    "duration": 105,
    "start_time": "2022-04-23T15:07:20.670Z"
   },
   {
    "duration": 146,
    "start_time": "2022-04-23T15:07:26.293Z"
   },
   {
    "duration": 46,
    "start_time": "2022-04-23T15:07:38.948Z"
   },
   {
    "duration": 545,
    "start_time": "2022-04-23T15:09:04.905Z"
   },
   {
    "duration": 466,
    "start_time": "2022-04-23T15:10:11.510Z"
   },
   {
    "duration": 33,
    "start_time": "2022-04-23T15:10:51.796Z"
   },
   {
    "duration": 37,
    "start_time": "2022-04-23T15:10:57.624Z"
   },
   {
    "duration": 48,
    "start_time": "2022-04-23T15:11:00.742Z"
   },
   {
    "duration": 44,
    "start_time": "2022-04-23T15:11:32.791Z"
   },
   {
    "duration": 55,
    "start_time": "2022-04-23T15:11:50.975Z"
   },
   {
    "duration": 51,
    "start_time": "2022-04-23T15:12:03.372Z"
   },
   {
    "duration": 103,
    "start_time": "2022-04-23T15:12:12.784Z"
   },
   {
    "duration": 52,
    "start_time": "2022-04-23T15:12:33.008Z"
   },
   {
    "duration": 58,
    "start_time": "2022-04-23T15:13:27.784Z"
   },
   {
    "duration": 64,
    "start_time": "2022-04-23T15:14:03.699Z"
   },
   {
    "duration": 58,
    "start_time": "2022-04-23T15:19:56.204Z"
   },
   {
    "duration": 52,
    "start_time": "2022-04-23T15:20:54.709Z"
   },
   {
    "duration": 81,
    "start_time": "2022-04-23T15:21:30.734Z"
   },
   {
    "duration": 55,
    "start_time": "2022-04-23T15:22:08.363Z"
   },
   {
    "duration": 57,
    "start_time": "2022-04-23T15:22:16.058Z"
   },
   {
    "duration": 43,
    "start_time": "2022-04-23T15:22:47.044Z"
   },
   {
    "duration": 42,
    "start_time": "2022-04-23T15:23:01.018Z"
   },
   {
    "duration": 2072,
    "start_time": "2022-04-23T15:23:15.816Z"
   },
   {
    "duration": 741,
    "start_time": "2022-04-23T15:23:17.892Z"
   },
   {
    "duration": 21,
    "start_time": "2022-04-23T15:23:18.637Z"
   },
   {
    "duration": 48,
    "start_time": "2022-04-23T15:23:18.660Z"
   },
   {
    "duration": 38,
    "start_time": "2022-04-23T15:23:18.714Z"
   },
   {
    "duration": 32,
    "start_time": "2022-04-23T15:23:18.755Z"
   },
   {
    "duration": 12,
    "start_time": "2022-04-23T15:23:18.793Z"
   },
   {
    "duration": 63,
    "start_time": "2022-04-23T15:23:18.807Z"
   },
   {
    "duration": 16,
    "start_time": "2022-04-23T15:23:18.874Z"
   },
   {
    "duration": 24,
    "start_time": "2022-04-23T15:23:18.893Z"
   },
   {
    "duration": 42,
    "start_time": "2022-04-23T15:23:18.921Z"
   },
   {
    "duration": 23,
    "start_time": "2022-04-23T15:23:18.966Z"
   },
   {
    "duration": 135,
    "start_time": "2022-04-23T15:23:18.991Z"
   },
   {
    "duration": 88,
    "start_time": "2022-04-23T15:23:19.131Z"
   },
   {
    "duration": 158,
    "start_time": "2022-04-23T15:23:19.222Z"
   },
   {
    "duration": 104,
    "start_time": "2022-04-23T15:23:19.383Z"
   },
   {
    "duration": 31,
    "start_time": "2022-04-23T15:23:19.490Z"
   },
   {
    "duration": 39,
    "start_time": "2022-04-23T15:23:19.523Z"
   },
   {
    "duration": 47,
    "start_time": "2022-04-23T15:23:19.565Z"
   },
   {
    "duration": 92,
    "start_time": "2022-04-23T15:23:19.616Z"
   },
   {
    "duration": 7,
    "start_time": "2022-04-23T15:23:19.711Z"
   },
   {
    "duration": 346,
    "start_time": "2022-04-23T15:23:19.722Z"
   },
   {
    "duration": 87,
    "start_time": "2022-04-23T15:23:20.071Z"
   },
   {
    "duration": 62,
    "start_time": "2022-04-23T15:23:20.161Z"
   },
   {
    "duration": 60,
    "start_time": "2022-04-23T15:23:20.225Z"
   },
   {
    "duration": 82,
    "start_time": "2022-04-23T15:23:20.288Z"
   },
   {
    "duration": 79,
    "start_time": "2022-04-23T15:23:20.373Z"
   },
   {
    "duration": 154,
    "start_time": "2022-04-23T15:26:52.332Z"
   },
   {
    "duration": 24,
    "start_time": "2022-04-23T15:27:01.102Z"
   },
   {
    "duration": 74,
    "start_time": "2022-04-23T15:27:11.297Z"
   },
   {
    "duration": 37,
    "start_time": "2022-04-23T15:30:32.503Z"
   },
   {
    "duration": 59,
    "start_time": "2022-04-23T15:30:41.777Z"
   },
   {
    "duration": 57,
    "start_time": "2022-04-23T15:31:16.324Z"
   },
   {
    "duration": 47,
    "start_time": "2022-04-23T15:31:31.814Z"
   },
   {
    "duration": 51,
    "start_time": "2022-04-23T15:31:43.310Z"
   },
   {
    "duration": 78,
    "start_time": "2022-04-23T15:31:58.204Z"
   },
   {
    "duration": 72,
    "start_time": "2022-04-23T15:35:47.767Z"
   },
   {
    "duration": 1459,
    "start_time": "2022-04-23T15:39:15.411Z"
   },
   {
    "duration": 505,
    "start_time": "2022-04-23T15:39:16.873Z"
   },
   {
    "duration": 18,
    "start_time": "2022-04-23T15:39:17.380Z"
   },
   {
    "duration": 34,
    "start_time": "2022-04-23T15:39:17.402Z"
   },
   {
    "duration": 26,
    "start_time": "2022-04-23T15:39:17.439Z"
   },
   {
    "duration": 45,
    "start_time": "2022-04-23T15:39:17.467Z"
   },
   {
    "duration": 10,
    "start_time": "2022-04-23T15:39:17.515Z"
   },
   {
    "duration": 58,
    "start_time": "2022-04-23T15:39:17.528Z"
   },
   {
    "duration": 11,
    "start_time": "2022-04-23T15:39:17.589Z"
   },
   {
    "duration": 16,
    "start_time": "2022-04-23T15:39:17.604Z"
   },
   {
    "duration": 48,
    "start_time": "2022-04-23T15:39:17.623Z"
   },
   {
    "duration": 21,
    "start_time": "2022-04-23T15:39:17.674Z"
   },
   {
    "duration": 154,
    "start_time": "2022-04-23T15:39:17.698Z"
   },
   {
    "duration": 99,
    "start_time": "2022-04-23T15:39:17.854Z"
   },
   {
    "duration": 157,
    "start_time": "2022-04-23T15:39:17.956Z"
   },
   {
    "duration": 101,
    "start_time": "2022-04-23T15:39:18.115Z"
   },
   {
    "duration": 37,
    "start_time": "2022-04-23T15:39:18.219Z"
   },
   {
    "duration": 25,
    "start_time": "2022-04-23T15:39:18.259Z"
   },
   {
    "duration": 84,
    "start_time": "2022-04-23T15:39:18.286Z"
   },
   {
    "duration": 93,
    "start_time": "2022-04-23T15:39:18.373Z"
   },
   {
    "duration": 8,
    "start_time": "2022-04-23T15:39:18.469Z"
   },
   {
    "duration": 285,
    "start_time": "2022-04-23T15:39:18.480Z"
   },
   {
    "duration": 120,
    "start_time": "2022-04-23T15:39:18.769Z"
   },
   {
    "duration": 92,
    "start_time": "2022-04-23T15:39:18.892Z"
   },
   {
    "duration": 643,
    "start_time": "2022-04-23T15:44:02.198Z"
   },
   {
    "duration": 96,
    "start_time": "2022-04-23T15:44:08.379Z"
   },
   {
    "duration": 46,
    "start_time": "2022-04-23T15:44:12.929Z"
   },
   {
    "duration": 64,
    "start_time": "2022-04-23T15:44:25.472Z"
   },
   {
    "duration": 61,
    "start_time": "2022-04-23T15:49:27.386Z"
   },
   {
    "duration": 71,
    "start_time": "2022-04-23T15:50:05.547Z"
   },
   {
    "duration": 55,
    "start_time": "2022-04-23T15:55:40.021Z"
   },
   {
    "duration": 23,
    "start_time": "2022-04-23T16:09:11.349Z"
   },
   {
    "duration": 18,
    "start_time": "2022-04-23T16:09:51.485Z"
   },
   {
    "duration": 564,
    "start_time": "2022-04-23T16:09:52.125Z"
   },
   {
    "duration": 17,
    "start_time": "2022-04-23T16:10:02.618Z"
   },
   {
    "duration": 516,
    "start_time": "2022-04-23T16:10:03.646Z"
   },
   {
    "duration": 40,
    "start_time": "2022-04-23T16:12:21.246Z"
   },
   {
    "duration": 26,
    "start_time": "2022-04-23T16:12:53.193Z"
   },
   {
    "duration": 18,
    "start_time": "2022-04-23T16:13:05.433Z"
   },
   {
    "duration": 436,
    "start_time": "2022-04-23T16:13:05.830Z"
   },
   {
    "duration": 402,
    "start_time": "2022-04-23T16:13:27.114Z"
   },
   {
    "duration": 319,
    "start_time": "2022-04-23T16:13:34.372Z"
   },
   {
    "duration": 389,
    "start_time": "2022-04-23T16:13:40.608Z"
   },
   {
    "duration": 395,
    "start_time": "2022-04-23T16:14:03.050Z"
   },
   {
    "duration": 395,
    "start_time": "2022-04-23T16:14:14.501Z"
   },
   {
    "duration": 379,
    "start_time": "2022-04-23T16:24:31.662Z"
   },
   {
    "duration": 432,
    "start_time": "2022-04-23T16:24:35.173Z"
   },
   {
    "duration": 21,
    "start_time": "2022-04-23T16:33:31.440Z"
   },
   {
    "duration": 15,
    "start_time": "2022-04-23T16:33:48.863Z"
   },
   {
    "duration": 1716,
    "start_time": "2022-04-23T16:33:54.552Z"
   },
   {
    "duration": 14,
    "start_time": "2022-04-23T16:37:33.586Z"
   },
   {
    "duration": 69,
    "start_time": "2022-04-23T16:38:16.664Z"
   },
   {
    "duration": 18,
    "start_time": "2022-04-23T16:38:33.602Z"
   },
   {
    "duration": 21,
    "start_time": "2022-04-23T16:38:53.360Z"
   },
   {
    "duration": 324,
    "start_time": "2022-04-23T16:39:16.591Z"
   },
   {
    "duration": 458,
    "start_time": "2022-04-23T16:39:36.759Z"
   },
   {
    "duration": 642,
    "start_time": "2022-04-23T16:39:56.497Z"
   },
   {
    "duration": 546,
    "start_time": "2022-04-23T16:40:23.138Z"
   },
   {
    "duration": 493,
    "start_time": "2022-04-23T16:42:00.327Z"
   },
   {
    "duration": 357,
    "start_time": "2022-04-23T16:42:16.372Z"
   },
   {
    "duration": 449,
    "start_time": "2022-04-23T16:42:58.610Z"
   },
   {
    "duration": 1174,
    "start_time": "2022-04-23T16:53:00.462Z"
   },
   {
    "duration": 1754,
    "start_time": "2022-04-23T16:53:39.880Z"
   },
   {
    "duration": 1324,
    "start_time": "2022-04-23T16:57:03.229Z"
   },
   {
    "duration": 2629,
    "start_time": "2022-04-23T16:58:16.167Z"
   },
   {
    "duration": 1814,
    "start_time": "2022-04-23T16:58:30.091Z"
   },
   {
    "duration": 567,
    "start_time": "2022-04-23T17:00:33.581Z"
   },
   {
    "duration": 409,
    "start_time": "2022-04-23T17:02:00.065Z"
   },
   {
    "duration": 508,
    "start_time": "2022-04-23T17:05:22.859Z"
   },
   {
    "duration": 124,
    "start_time": "2022-04-23T17:06:16.810Z"
   },
   {
    "duration": 387,
    "start_time": "2022-04-23T17:06:46.432Z"
   },
   {
    "duration": 600,
    "start_time": "2022-04-23T17:07:25.052Z"
   },
   {
    "duration": 387,
    "start_time": "2022-04-23T17:07:33.946Z"
   },
   {
    "duration": 15,
    "start_time": "2022-04-23T17:09:33.394Z"
   },
   {
    "duration": 15,
    "start_time": "2022-04-23T17:09:40.493Z"
   },
   {
    "duration": 14,
    "start_time": "2022-04-23T17:10:11.242Z"
   },
   {
    "duration": 1487,
    "start_time": "2022-04-23T17:10:15.165Z"
   },
   {
    "duration": 1643,
    "start_time": "2022-04-23T17:10:26.281Z"
   },
   {
    "duration": 2351,
    "start_time": "2022-04-23T17:10:49.235Z"
   },
   {
    "duration": 2384,
    "start_time": "2022-04-23T17:12:33.643Z"
   },
   {
    "duration": 1627,
    "start_time": "2022-04-23T17:13:06.360Z"
   },
   {
    "duration": 2408,
    "start_time": "2022-04-23T17:13:23.018Z"
   },
   {
    "duration": 2401,
    "start_time": "2022-04-23T17:14:01.228Z"
   },
   {
    "duration": 1774,
    "start_time": "2022-04-23T17:14:31.080Z"
   },
   {
    "duration": 2520,
    "start_time": "2022-04-23T17:14:46.081Z"
   },
   {
    "duration": 2446,
    "start_time": "2022-04-23T17:15:04.158Z"
   },
   {
    "duration": 2653,
    "start_time": "2022-04-23T17:15:18.770Z"
   },
   {
    "duration": 2292,
    "start_time": "2022-04-23T17:15:31.350Z"
   },
   {
    "duration": 72,
    "start_time": "2022-04-23T17:23:55.532Z"
   },
   {
    "duration": 2721,
    "start_time": "2022-04-23T17:24:06.382Z"
   },
   {
    "duration": 2451,
    "start_time": "2022-04-23T17:24:50.531Z"
   },
   {
    "duration": 4788,
    "start_time": "2022-04-23T17:25:12.208Z"
   },
   {
    "duration": 2044,
    "start_time": "2022-04-23T17:25:43.312Z"
   },
   {
    "duration": 1517,
    "start_time": "2022-04-23T17:26:18.995Z"
   },
   {
    "duration": 2066,
    "start_time": "2022-04-23T17:29:07.222Z"
   },
   {
    "duration": 4081,
    "start_time": "2022-04-23T17:29:38.506Z"
   },
   {
    "duration": 4078,
    "start_time": "2022-04-23T17:30:17.730Z"
   },
   {
    "duration": 1876,
    "start_time": "2022-04-23T17:30:31.267Z"
   },
   {
    "duration": 1825,
    "start_time": "2022-04-23T17:30:47.802Z"
   },
   {
    "duration": 1551,
    "start_time": "2022-04-23T17:33:04.829Z"
   },
   {
    "duration": 516,
    "start_time": "2022-04-23T17:33:06.383Z"
   },
   {
    "duration": 23,
    "start_time": "2022-04-23T17:33:06.902Z"
   },
   {
    "duration": 45,
    "start_time": "2022-04-23T17:33:06.928Z"
   },
   {
    "duration": 12,
    "start_time": "2022-04-23T17:33:06.977Z"
   },
   {
    "duration": 65,
    "start_time": "2022-04-23T17:33:06.992Z"
   },
   {
    "duration": 11,
    "start_time": "2022-04-23T17:33:07.060Z"
   },
   {
    "duration": 35,
    "start_time": "2022-04-23T17:33:07.074Z"
   },
   {
    "duration": 40,
    "start_time": "2022-04-23T17:33:07.112Z"
   },
   {
    "duration": 16,
    "start_time": "2022-04-23T17:33:07.157Z"
   },
   {
    "duration": 29,
    "start_time": "2022-04-23T17:33:07.175Z"
   },
   {
    "duration": 18,
    "start_time": "2022-04-23T17:33:07.207Z"
   },
   {
    "duration": 187,
    "start_time": "2022-04-23T17:33:07.251Z"
   },
   {
    "duration": 98,
    "start_time": "2022-04-23T17:33:07.443Z"
   },
   {
    "duration": 264,
    "start_time": "2022-04-23T17:33:07.551Z"
   },
   {
    "duration": 132,
    "start_time": "2022-04-23T17:33:07.818Z"
   },
   {
    "duration": 32,
    "start_time": "2022-04-23T17:33:07.953Z"
   },
   {
    "duration": 19,
    "start_time": "2022-04-23T17:33:07.988Z"
   },
   {
    "duration": 73,
    "start_time": "2022-04-23T17:33:08.009Z"
   },
   {
    "duration": 87,
    "start_time": "2022-04-23T17:33:08.084Z"
   },
   {
    "duration": 8,
    "start_time": "2022-04-23T17:33:08.173Z"
   },
   {
    "duration": 187,
    "start_time": "2022-04-23T17:33:08.183Z"
   },
   {
    "duration": 52,
    "start_time": "2022-04-23T17:33:08.372Z"
   },
   {
    "duration": 2533,
    "start_time": "2022-04-23T17:33:08.426Z"
   },
   {
    "duration": 1927,
    "start_time": "2022-04-23T17:33:41.300Z"
   },
   {
    "duration": 1788,
    "start_time": "2022-04-23T17:34:29.303Z"
   },
   {
    "duration": 1642,
    "start_time": "2022-04-23T17:34:34.674Z"
   },
   {
    "duration": 1832,
    "start_time": "2022-04-23T17:34:41.648Z"
   },
   {
    "duration": 447,
    "start_time": "2022-04-23T18:01:08.318Z"
   },
   {
    "duration": 516,
    "start_time": "2022-04-23T18:01:33.717Z"
   },
   {
    "duration": 592,
    "start_time": "2022-04-23T18:01:43.530Z"
   },
   {
    "duration": 552,
    "start_time": "2022-04-23T18:01:58.527Z"
   },
   {
    "duration": 127,
    "start_time": "2022-04-23T18:03:11.637Z"
   },
   {
    "duration": 564,
    "start_time": "2022-04-23T18:03:20.892Z"
   },
   {
    "duration": 684,
    "start_time": "2022-04-23T18:05:37.978Z"
   },
   {
    "duration": 605,
    "start_time": "2022-04-23T18:05:42.826Z"
   },
   {
    "duration": 402,
    "start_time": "2022-04-23T18:06:12.527Z"
   },
   {
    "duration": 560,
    "start_time": "2022-04-23T18:06:27.632Z"
   },
   {
    "duration": 605,
    "start_time": "2022-04-23T18:06:39.968Z"
   },
   {
    "duration": 390,
    "start_time": "2022-04-23T18:06:49.287Z"
   },
   {
    "duration": 411,
    "start_time": "2022-04-23T18:06:57.531Z"
   },
   {
    "duration": 466,
    "start_time": "2022-04-23T18:07:03.916Z"
   },
   {
    "duration": 380,
    "start_time": "2022-04-23T18:07:25.014Z"
   },
   {
    "duration": 470,
    "start_time": "2022-04-23T18:07:34.135Z"
   },
   {
    "duration": 486,
    "start_time": "2022-04-23T18:07:43.331Z"
   },
   {
    "duration": 821,
    "start_time": "2022-04-23T18:07:52.217Z"
   },
   {
    "duration": 667,
    "start_time": "2022-04-23T18:08:00.247Z"
   },
   {
    "duration": 2842,
    "start_time": "2022-04-23T18:08:10.567Z"
   },
   {
    "duration": 553,
    "start_time": "2022-04-23T18:08:19.299Z"
   },
   {
    "duration": 575,
    "start_time": "2022-04-23T18:08:26.677Z"
   },
   {
    "duration": 558,
    "start_time": "2022-04-23T18:08:36.285Z"
   },
   {
    "duration": 615,
    "start_time": "2022-04-23T18:09:08.108Z"
   },
   {
    "duration": 43,
    "start_time": "2022-04-23T18:25:54.399Z"
   },
   {
    "duration": 211,
    "start_time": "2022-04-23T18:26:24.604Z"
   },
   {
    "duration": 71,
    "start_time": "2022-04-23T18:26:43.547Z"
   },
   {
    "duration": 1771,
    "start_time": "2022-04-23T18:27:32.763Z"
   },
   {
    "duration": 659,
    "start_time": "2022-04-23T18:27:34.538Z"
   },
   {
    "duration": 17,
    "start_time": "2022-04-23T18:27:35.202Z"
   },
   {
    "duration": 60,
    "start_time": "2022-04-23T18:27:35.222Z"
   },
   {
    "duration": 16,
    "start_time": "2022-04-23T18:27:35.285Z"
   },
   {
    "duration": 53,
    "start_time": "2022-04-23T18:27:35.304Z"
   },
   {
    "duration": 10,
    "start_time": "2022-04-23T18:27:35.360Z"
   },
   {
    "duration": 36,
    "start_time": "2022-04-23T18:27:35.372Z"
   },
   {
    "duration": 20,
    "start_time": "2022-04-23T18:27:35.410Z"
   },
   {
    "duration": 15,
    "start_time": "2022-04-23T18:27:35.454Z"
   },
   {
    "duration": 32,
    "start_time": "2022-04-23T18:27:35.471Z"
   },
   {
    "duration": 28,
    "start_time": "2022-04-23T18:27:35.506Z"
   },
   {
    "duration": 183,
    "start_time": "2022-04-23T18:27:35.536Z"
   },
   {
    "duration": 85,
    "start_time": "2022-04-23T18:27:35.721Z"
   },
   {
    "duration": 214,
    "start_time": "2022-04-23T18:27:35.809Z"
   },
   {
    "duration": 116,
    "start_time": "2022-04-23T18:27:36.026Z"
   },
   {
    "duration": 35,
    "start_time": "2022-04-23T18:27:36.145Z"
   },
   {
    "duration": 25,
    "start_time": "2022-04-23T18:27:36.183Z"
   },
   {
    "duration": 70,
    "start_time": "2022-04-23T18:27:36.210Z"
   },
   {
    "duration": 71,
    "start_time": "2022-04-23T18:27:36.282Z"
   },
   {
    "duration": 8,
    "start_time": "2022-04-23T18:27:36.355Z"
   },
   {
    "duration": 2190,
    "start_time": "2022-04-23T18:27:36.365Z"
   },
   {
    "duration": 0,
    "start_time": "2022-04-23T18:27:38.558Z"
   },
   {
    "duration": 0,
    "start_time": "2022-04-23T18:27:38.560Z"
   },
   {
    "duration": 0,
    "start_time": "2022-04-23T18:27:38.561Z"
   },
   {
    "duration": 0,
    "start_time": "2022-04-23T18:27:38.563Z"
   },
   {
    "duration": 0,
    "start_time": "2022-04-23T18:27:38.565Z"
   },
   {
    "duration": 8,
    "start_time": "2022-04-23T18:29:42.418Z"
   },
   {
    "duration": 6,
    "start_time": "2022-04-23T18:30:01.102Z"
   },
   {
    "duration": 2148,
    "start_time": "2022-04-23T18:30:02.314Z"
   },
   {
    "duration": 1959,
    "start_time": "2022-04-23T18:30:12.005Z"
   },
   {
    "duration": 705,
    "start_time": "2022-04-23T18:30:13.967Z"
   },
   {
    "duration": 28,
    "start_time": "2022-04-23T18:30:14.676Z"
   },
   {
    "duration": 58,
    "start_time": "2022-04-23T18:30:14.708Z"
   },
   {
    "duration": 32,
    "start_time": "2022-04-23T18:30:14.768Z"
   },
   {
    "duration": 43,
    "start_time": "2022-04-23T18:30:14.804Z"
   },
   {
    "duration": 22,
    "start_time": "2022-04-23T18:30:14.849Z"
   },
   {
    "duration": 37,
    "start_time": "2022-04-23T18:30:14.874Z"
   },
   {
    "duration": 23,
    "start_time": "2022-04-23T18:30:14.913Z"
   },
   {
    "duration": 56,
    "start_time": "2022-04-23T18:30:14.951Z"
   },
   {
    "duration": 27,
    "start_time": "2022-04-23T18:30:15.010Z"
   },
   {
    "duration": 35,
    "start_time": "2022-04-23T18:30:15.040Z"
   },
   {
    "duration": 168,
    "start_time": "2022-04-23T18:30:15.078Z"
   },
   {
    "duration": 86,
    "start_time": "2022-04-23T18:30:15.248Z"
   },
   {
    "duration": 208,
    "start_time": "2022-04-23T18:30:15.338Z"
   },
   {
    "duration": 116,
    "start_time": "2022-04-23T18:30:15.548Z"
   },
   {
    "duration": 45,
    "start_time": "2022-04-23T18:30:15.667Z"
   },
   {
    "duration": 49,
    "start_time": "2022-04-23T18:30:15.715Z"
   },
   {
    "duration": 56,
    "start_time": "2022-04-23T18:30:15.767Z"
   },
   {
    "duration": 88,
    "start_time": "2022-04-23T18:30:15.827Z"
   },
   {
    "duration": 26,
    "start_time": "2022-04-23T18:30:15.917Z"
   },
   {
    "duration": 2318,
    "start_time": "2022-04-23T18:30:15.950Z"
   },
   {
    "duration": 0,
    "start_time": "2022-04-23T18:30:18.277Z"
   },
   {
    "duration": 0,
    "start_time": "2022-04-23T18:30:18.286Z"
   },
   {
    "duration": 0,
    "start_time": "2022-04-23T18:30:18.297Z"
   },
   {
    "duration": 0,
    "start_time": "2022-04-23T18:30:18.299Z"
   },
   {
    "duration": 0,
    "start_time": "2022-04-23T18:30:18.302Z"
   },
   {
    "duration": 63,
    "start_time": "2022-04-23T18:32:10.305Z"
   },
   {
    "duration": 8,
    "start_time": "2022-04-23T18:32:11.875Z"
   },
   {
    "duration": 15,
    "start_time": "2022-04-23T18:32:49.024Z"
   },
   {
    "duration": 8,
    "start_time": "2022-04-23T18:34:39.840Z"
   },
   {
    "duration": 1693,
    "start_time": "2022-04-23T18:36:29.460Z"
   },
   {
    "duration": 81,
    "start_time": "2022-04-23T18:45:11.113Z"
   },
   {
    "duration": 12,
    "start_time": "2022-04-23T18:45:15.337Z"
   },
   {
    "duration": 8,
    "start_time": "2022-04-23T18:45:45.557Z"
   },
   {
    "duration": 165,
    "start_time": "2022-04-23T18:45:47.860Z"
   },
   {
    "duration": 1479,
    "start_time": "2022-04-23T18:46:00.896Z"
   },
   {
    "duration": 606,
    "start_time": "2022-04-23T18:46:02.378Z"
   },
   {
    "duration": 28,
    "start_time": "2022-04-23T18:46:02.988Z"
   },
   {
    "duration": 58,
    "start_time": "2022-04-23T18:46:03.019Z"
   },
   {
    "duration": 17,
    "start_time": "2022-04-23T18:46:03.081Z"
   },
   {
    "duration": 66,
    "start_time": "2022-04-23T18:46:03.101Z"
   },
   {
    "duration": 11,
    "start_time": "2022-04-23T18:46:03.170Z"
   },
   {
    "duration": 39,
    "start_time": "2022-04-23T18:46:03.183Z"
   },
   {
    "duration": 33,
    "start_time": "2022-04-23T18:46:03.225Z"
   },
   {
    "duration": 16,
    "start_time": "2022-04-23T18:46:03.260Z"
   },
   {
    "duration": 20,
    "start_time": "2022-04-23T18:46:03.279Z"
   },
   {
    "duration": 54,
    "start_time": "2022-04-23T18:46:03.302Z"
   },
   {
    "duration": 127,
    "start_time": "2022-04-23T18:46:03.358Z"
   },
   {
    "duration": 84,
    "start_time": "2022-04-23T18:46:03.490Z"
   },
   {
    "duration": 162,
    "start_time": "2022-04-23T18:46:03.577Z"
   },
   {
    "duration": 92,
    "start_time": "2022-04-23T18:46:03.742Z"
   },
   {
    "duration": 41,
    "start_time": "2022-04-23T18:46:03.837Z"
   },
   {
    "duration": 22,
    "start_time": "2022-04-23T18:46:03.881Z"
   },
   {
    "duration": 72,
    "start_time": "2022-04-23T18:46:03.908Z"
   },
   {
    "duration": 15,
    "start_time": "2022-04-23T18:46:03.982Z"
   },
   {
    "duration": 85,
    "start_time": "2022-04-23T18:46:04.000Z"
   },
   {
    "duration": 6,
    "start_time": "2022-04-23T18:46:04.088Z"
   },
   {
    "duration": 295,
    "start_time": "2022-04-23T18:46:04.097Z"
   },
   {
    "duration": 65,
    "start_time": "2022-04-23T18:46:04.395Z"
   },
   {
    "duration": 650,
    "start_time": "2022-04-23T18:46:04.463Z"
   },
   {
    "duration": 433,
    "start_time": "2022-04-23T18:46:05.115Z"
   },
   {
    "duration": 601,
    "start_time": "2022-04-23T18:46:05.553Z"
   },
   {
    "duration": 622,
    "start_time": "2022-04-23T18:46:06.157Z"
   },
   {
    "duration": 50,
    "start_time": "2022-04-24T07:39:54.095Z"
   },
   {
    "duration": 1322,
    "start_time": "2022-04-24T07:40:00.960Z"
   },
   {
    "duration": 373,
    "start_time": "2022-04-24T07:40:02.284Z"
   },
   {
    "duration": 75,
    "start_time": "2022-04-24T07:40:02.658Z"
   },
   {
    "duration": 26,
    "start_time": "2022-04-24T07:40:02.735Z"
   },
   {
    "duration": 15,
    "start_time": "2022-04-24T07:40:02.762Z"
   },
   {
    "duration": 32,
    "start_time": "2022-04-24T07:40:02.778Z"
   },
   {
    "duration": 10,
    "start_time": "2022-04-24T07:40:02.812Z"
   },
   {
    "duration": 27,
    "start_time": "2022-04-24T07:40:02.824Z"
   },
   {
    "duration": 8,
    "start_time": "2022-04-24T07:40:02.853Z"
   },
   {
    "duration": 28,
    "start_time": "2022-04-24T07:40:02.864Z"
   },
   {
    "duration": 9,
    "start_time": "2022-04-24T07:40:02.894Z"
   },
   {
    "duration": 12,
    "start_time": "2022-04-24T07:40:02.905Z"
   },
   {
    "duration": 101,
    "start_time": "2022-04-24T07:40:02.918Z"
   },
   {
    "duration": 54,
    "start_time": "2022-04-24T07:40:03.021Z"
   },
   {
    "duration": 120,
    "start_time": "2022-04-24T07:40:03.077Z"
   },
   {
    "duration": 62,
    "start_time": "2022-04-24T07:40:03.199Z"
   },
   {
    "duration": 36,
    "start_time": "2022-04-24T07:40:03.262Z"
   },
   {
    "duration": 15,
    "start_time": "2022-04-24T07:40:03.301Z"
   },
   {
    "duration": 31,
    "start_time": "2022-04-24T07:40:03.318Z"
   },
   {
    "duration": 7,
    "start_time": "2022-04-24T07:40:03.351Z"
   },
   {
    "duration": 67,
    "start_time": "2022-04-24T07:40:03.361Z"
   },
   {
    "duration": 5,
    "start_time": "2022-04-24T07:40:03.430Z"
   },
   {
    "duration": 116,
    "start_time": "2022-04-24T07:40:03.437Z"
   },
   {
    "duration": 48,
    "start_time": "2022-04-24T07:40:03.555Z"
   },
   {
    "duration": 261,
    "start_time": "2022-04-24T07:40:03.605Z"
   },
   {
    "duration": 253,
    "start_time": "2022-04-24T07:40:03.869Z"
   },
   {
    "duration": 250,
    "start_time": "2022-04-24T07:40:04.124Z"
   },
   {
    "duration": 260,
    "start_time": "2022-04-24T07:40:04.378Z"
   },
   {
    "duration": 125,
    "start_time": "2022-04-24T07:40:44.153Z"
   },
   {
    "duration": 59,
    "start_time": "2022-04-24T07:40:54.486Z"
   },
   {
    "duration": 1158,
    "start_time": "2022-04-24T07:46:42.985Z"
   },
   {
    "duration": 377,
    "start_time": "2022-04-24T07:46:44.145Z"
   },
   {
    "duration": 71,
    "start_time": "2022-04-24T07:46:44.761Z"
   },
   {
    "duration": 70,
    "start_time": "2022-04-24T07:46:49.556Z"
   },
   {
    "duration": 70,
    "start_time": "2022-04-24T07:46:54.960Z"
   },
   {
    "duration": 1175,
    "start_time": "2022-04-24T07:47:01.768Z"
   },
   {
    "duration": 375,
    "start_time": "2022-04-24T07:47:02.945Z"
   },
   {
    "duration": 71,
    "start_time": "2022-04-24T07:47:03.321Z"
   },
   {
    "duration": 67,
    "start_time": "2022-04-24T07:47:03.394Z"
   },
   {
    "duration": 12,
    "start_time": "2022-04-24T07:47:03.463Z"
   },
   {
    "duration": 24,
    "start_time": "2022-04-24T07:47:03.476Z"
   },
   {
    "duration": 23,
    "start_time": "2022-04-24T07:47:03.501Z"
   },
   {
    "duration": 21,
    "start_time": "2022-04-24T07:47:03.526Z"
   },
   {
    "duration": 27,
    "start_time": "2022-04-24T07:47:03.549Z"
   },
   {
    "duration": 326,
    "start_time": "2022-04-24T07:47:03.578Z"
   },
   {
    "duration": 89,
    "start_time": "2022-04-24T07:47:03.906Z"
   },
   {
    "duration": 53,
    "start_time": "2022-04-24T07:47:03.997Z"
   },
   {
    "duration": 120,
    "start_time": "2022-04-24T07:47:04.052Z"
   },
   {
    "duration": 65,
    "start_time": "2022-04-24T07:47:04.176Z"
   },
   {
    "duration": 24,
    "start_time": "2022-04-24T07:47:04.243Z"
   },
   {
    "duration": 34,
    "start_time": "2022-04-24T07:47:04.269Z"
   },
   {
    "duration": 37,
    "start_time": "2022-04-24T07:47:04.305Z"
   },
   {
    "duration": 7,
    "start_time": "2022-04-24T07:47:04.344Z"
   },
   {
    "duration": 52,
    "start_time": "2022-04-24T07:47:04.352Z"
   },
   {
    "duration": 4,
    "start_time": "2022-04-24T07:47:04.406Z"
   },
   {
    "duration": 135,
    "start_time": "2022-04-24T07:47:04.411Z"
   },
   {
    "duration": 33,
    "start_time": "2022-04-24T07:47:04.548Z"
   },
   {
    "duration": 251,
    "start_time": "2022-04-24T07:47:04.583Z"
   },
   {
    "duration": 251,
    "start_time": "2022-04-24T07:47:04.836Z"
   },
   {
    "duration": 233,
    "start_time": "2022-04-24T07:47:05.092Z"
   },
   {
    "duration": 248,
    "start_time": "2022-04-24T07:47:05.326Z"
   },
   {
    "duration": 77,
    "start_time": "2022-04-24T07:47:22.836Z"
   },
   {
    "duration": 30,
    "start_time": "2022-04-24T07:47:29.468Z"
   },
   {
    "duration": 50,
    "start_time": "2022-04-24T08:26:53.396Z"
   },
   {
    "duration": 1129,
    "start_time": "2022-04-24T08:27:00.132Z"
   },
   {
    "duration": 499,
    "start_time": "2022-04-24T08:27:01.264Z"
   },
   {
    "duration": 72,
    "start_time": "2022-04-24T08:27:02.740Z"
   },
   {
    "duration": 82,
    "start_time": "2022-04-24T08:27:08.066Z"
   },
   {
    "duration": 116,
    "start_time": "2022-04-24T08:27:13.912Z"
   },
   {
    "duration": 98,
    "start_time": "2022-04-24T08:27:50.715Z"
   },
   {
    "duration": 16,
    "start_time": "2022-04-24T08:28:00.899Z"
   },
   {
    "duration": 15,
    "start_time": "2022-04-24T08:28:51.891Z"
   },
   {
    "duration": 9,
    "start_time": "2022-04-24T08:28:56.442Z"
   },
   {
    "duration": 1119,
    "start_time": "2022-04-24T08:29:05.225Z"
   },
   {
    "duration": 387,
    "start_time": "2022-04-24T08:29:06.347Z"
   },
   {
    "duration": 72,
    "start_time": "2022-04-24T08:29:06.736Z"
   },
   {
    "duration": 12,
    "start_time": "2022-04-24T08:29:06.810Z"
   },
   {
    "duration": 51,
    "start_time": "2022-04-24T08:29:06.824Z"
   },
   {
    "duration": 8,
    "start_time": "2022-04-24T08:29:06.877Z"
   },
   {
    "duration": 32,
    "start_time": "2022-04-24T08:29:06.886Z"
   },
   {
    "duration": 7,
    "start_time": "2022-04-24T08:29:06.920Z"
   },
   {
    "duration": 15,
    "start_time": "2022-04-24T08:29:06.928Z"
   },
   {
    "duration": 10,
    "start_time": "2022-04-24T08:29:06.944Z"
   },
   {
    "duration": 46,
    "start_time": "2022-04-24T08:29:06.955Z"
   },
   {
    "duration": 10,
    "start_time": "2022-04-24T08:29:07.003Z"
   },
   {
    "duration": 15,
    "start_time": "2022-04-24T08:29:07.015Z"
   },
   {
    "duration": 251,
    "start_time": "2022-04-24T08:29:07.033Z"
   },
   {
    "duration": 77,
    "start_time": "2022-04-24T08:29:07.286Z"
   },
   {
    "duration": 119,
    "start_time": "2022-04-24T08:29:07.364Z"
   },
   {
    "duration": 12,
    "start_time": "2022-04-24T08:29:07.485Z"
   },
   {
    "duration": 16,
    "start_time": "2022-04-24T08:29:07.499Z"
   },
   {
    "duration": 54,
    "start_time": "2022-04-24T08:29:07.516Z"
   },
   {
    "duration": 81,
    "start_time": "2022-04-24T08:29:07.572Z"
   },
   {
    "duration": 42,
    "start_time": "2022-04-24T08:29:07.655Z"
   },
   {
    "duration": 15,
    "start_time": "2022-04-24T08:29:07.699Z"
   },
   {
    "duration": 31,
    "start_time": "2022-04-24T08:29:07.716Z"
   },
   {
    "duration": 8,
    "start_time": "2022-04-24T08:29:07.750Z"
   },
   {
    "duration": 67,
    "start_time": "2022-04-24T08:29:07.760Z"
   },
   {
    "duration": 4,
    "start_time": "2022-04-24T08:29:07.829Z"
   },
   {
    "duration": 118,
    "start_time": "2022-04-24T08:29:07.835Z"
   },
   {
    "duration": 46,
    "start_time": "2022-04-24T08:29:07.955Z"
   },
   {
    "duration": 249,
    "start_time": "2022-04-24T08:29:08.003Z"
   },
   {
    "duration": 253,
    "start_time": "2022-04-24T08:29:08.253Z"
   },
   {
    "duration": 256,
    "start_time": "2022-04-24T08:29:08.508Z"
   },
   {
    "duration": 255,
    "start_time": "2022-04-24T08:29:08.766Z"
   },
   {
    "duration": 280,
    "start_time": "2022-04-24T08:31:27.889Z"
   },
   {
    "duration": 99,
    "start_time": "2022-04-24T08:41:13.371Z"
   },
   {
    "duration": 8,
    "start_time": "2022-04-24T08:41:19.971Z"
   },
   {
    "duration": 9,
    "start_time": "2022-04-24T08:53:49.838Z"
   },
   {
    "duration": 2258,
    "start_time": "2022-04-24T08:53:53.814Z"
   },
   {
    "duration": 14,
    "start_time": "2022-04-24T08:54:01.573Z"
   },
   {
    "duration": 12,
    "start_time": "2022-04-24T09:02:03.346Z"
   },
   {
    "duration": 24,
    "start_time": "2022-04-24T09:02:35.223Z"
   },
   {
    "duration": 31,
    "start_time": "2022-04-24T09:02:42.621Z"
   },
   {
    "duration": 9,
    "start_time": "2022-04-24T09:06:11.002Z"
   },
   {
    "duration": 5,
    "start_time": "2022-04-24T09:06:24.023Z"
   },
   {
    "duration": 5,
    "start_time": "2022-04-24T09:06:54.975Z"
   },
   {
    "duration": 1185,
    "start_time": "2022-04-24T09:07:01.254Z"
   },
   {
    "duration": 388,
    "start_time": "2022-04-24T09:07:02.441Z"
   },
   {
    "duration": 73,
    "start_time": "2022-04-24T09:07:02.831Z"
   },
   {
    "duration": 12,
    "start_time": "2022-04-24T09:07:02.907Z"
   },
   {
    "duration": 34,
    "start_time": "2022-04-24T09:07:02.921Z"
   },
   {
    "duration": 9,
    "start_time": "2022-04-24T09:07:02.956Z"
   },
   {
    "duration": 49,
    "start_time": "2022-04-24T09:07:02.967Z"
   },
   {
    "duration": 7,
    "start_time": "2022-04-24T09:07:03.018Z"
   },
   {
    "duration": 14,
    "start_time": "2022-04-24T09:07:03.026Z"
   },
   {
    "duration": 11,
    "start_time": "2022-04-24T09:07:03.044Z"
   },
   {
    "duration": 51,
    "start_time": "2022-04-24T09:07:03.057Z"
   },
   {
    "duration": 10,
    "start_time": "2022-04-24T09:07:03.110Z"
   },
   {
    "duration": 23,
    "start_time": "2022-04-24T09:07:03.121Z"
   },
   {
    "duration": 330,
    "start_time": "2022-04-24T09:07:03.145Z"
   },
   {
    "duration": 78,
    "start_time": "2022-04-24T09:07:03.476Z"
   },
   {
    "duration": 123,
    "start_time": "2022-04-24T09:07:03.556Z"
   },
   {
    "duration": 11,
    "start_time": "2022-04-24T09:07:03.681Z"
   },
   {
    "duration": 64,
    "start_time": "2022-04-24T09:07:03.695Z"
   },
   {
    "duration": 6,
    "start_time": "2022-04-24T09:07:03.761Z"
   },
   {
    "duration": 39,
    "start_time": "2022-04-24T09:07:03.769Z"
   },
   {
    "duration": 13,
    "start_time": "2022-04-24T09:07:03.810Z"
   },
   {
    "duration": 31,
    "start_time": "2022-04-24T09:07:03.825Z"
   },
   {
    "duration": 8,
    "start_time": "2022-04-24T09:07:03.858Z"
   },
   {
    "duration": 103,
    "start_time": "2022-04-24T09:07:03.892Z"
   },
   {
    "duration": 0,
    "start_time": "2022-04-24T09:07:03.998Z"
   },
   {
    "duration": 0,
    "start_time": "2022-04-24T09:07:04.000Z"
   },
   {
    "duration": 0,
    "start_time": "2022-04-24T09:07:04.001Z"
   },
   {
    "duration": 0,
    "start_time": "2022-04-24T09:07:04.003Z"
   },
   {
    "duration": 0,
    "start_time": "2022-04-24T09:07:04.004Z"
   },
   {
    "duration": 0,
    "start_time": "2022-04-24T09:07:04.005Z"
   },
   {
    "duration": 0,
    "start_time": "2022-04-24T09:07:04.006Z"
   },
   {
    "duration": 4,
    "start_time": "2022-04-24T09:07:57.011Z"
   },
   {
    "duration": 4,
    "start_time": "2022-04-24T09:07:58.403Z"
   },
   {
    "duration": 4,
    "start_time": "2022-04-24T09:08:20.661Z"
   },
   {
    "duration": 22,
    "start_time": "2022-04-24T09:09:29.397Z"
   },
   {
    "duration": 23,
    "start_time": "2022-04-24T09:09:55.516Z"
   },
   {
    "duration": 580,
    "start_time": "2022-04-24T09:11:57.135Z"
   },
   {
    "duration": 22,
    "start_time": "2022-04-24T09:12:06.049Z"
   },
   {
    "duration": 24,
    "start_time": "2022-04-24T09:12:45.391Z"
   },
   {
    "duration": 24,
    "start_time": "2022-04-24T09:13:29.882Z"
   },
   {
    "duration": 26,
    "start_time": "2022-04-24T09:14:01.789Z"
   },
   {
    "duration": 22,
    "start_time": "2022-04-24T09:14:08.022Z"
   },
   {
    "duration": 25,
    "start_time": "2022-04-24T09:14:11.875Z"
   },
   {
    "duration": 24,
    "start_time": "2022-04-24T09:14:15.529Z"
   },
   {
    "duration": 23,
    "start_time": "2022-04-24T09:14:17.993Z"
   },
   {
    "duration": 23,
    "start_time": "2022-04-24T09:14:31.783Z"
   },
   {
    "duration": 23,
    "start_time": "2022-04-24T09:18:53.960Z"
   },
   {
    "duration": 23,
    "start_time": "2022-04-24T09:19:23.729Z"
   },
   {
    "duration": 24,
    "start_time": "2022-04-24T09:19:43.565Z"
   },
   {
    "duration": 24,
    "start_time": "2022-04-24T09:19:51.871Z"
   },
   {
    "duration": 23,
    "start_time": "2022-04-24T09:19:55.941Z"
   },
   {
    "duration": 25,
    "start_time": "2022-04-24T09:20:25.717Z"
   },
   {
    "duration": 24,
    "start_time": "2022-04-24T09:20:33.191Z"
   },
   {
    "duration": 24,
    "start_time": "2022-04-24T09:20:36.895Z"
   },
   {
    "duration": 25,
    "start_time": "2022-04-24T09:20:39.372Z"
   },
   {
    "duration": 24,
    "start_time": "2022-04-24T09:20:42.622Z"
   },
   {
    "duration": 24,
    "start_time": "2022-04-24T09:21:02.684Z"
   },
   {
    "duration": 21,
    "start_time": "2022-04-24T09:22:52.692Z"
   },
   {
    "duration": 2334,
    "start_time": "2022-04-24T09:23:35.798Z"
   },
   {
    "duration": 22,
    "start_time": "2022-04-24T09:24:08.652Z"
   },
   {
    "duration": 19,
    "start_time": "2022-04-24T09:25:04.854Z"
   },
   {
    "duration": 19,
    "start_time": "2022-04-24T09:25:11.574Z"
   },
   {
    "duration": 21,
    "start_time": "2022-04-24T09:25:23.094Z"
   },
   {
    "duration": 16,
    "start_time": "2022-04-24T09:25:37.869Z"
   },
   {
    "duration": 23,
    "start_time": "2022-04-24T09:25:43.335Z"
   },
   {
    "duration": 1209,
    "start_time": "2022-04-24T09:27:59.631Z"
   },
   {
    "duration": 398,
    "start_time": "2022-04-24T09:28:00.843Z"
   },
   {
    "duration": 75,
    "start_time": "2022-04-24T09:28:01.243Z"
   },
   {
    "duration": 13,
    "start_time": "2022-04-24T09:28:01.320Z"
   },
   {
    "duration": 31,
    "start_time": "2022-04-24T09:28:01.336Z"
   },
   {
    "duration": 29,
    "start_time": "2022-04-24T09:28:01.370Z"
   },
   {
    "duration": 40,
    "start_time": "2022-04-24T09:28:01.402Z"
   },
   {
    "duration": 9,
    "start_time": "2022-04-24T09:28:01.443Z"
   },
   {
    "duration": 49,
    "start_time": "2022-04-24T09:28:01.454Z"
   },
   {
    "duration": 17,
    "start_time": "2022-04-24T09:28:01.505Z"
   },
   {
    "duration": 51,
    "start_time": "2022-04-24T09:28:01.524Z"
   },
   {
    "duration": 19,
    "start_time": "2022-04-24T09:28:01.577Z"
   },
   {
    "duration": 29,
    "start_time": "2022-04-24T09:28:01.598Z"
   },
   {
    "duration": 244,
    "start_time": "2022-04-24T09:28:01.631Z"
   },
   {
    "duration": 80,
    "start_time": "2022-04-24T09:28:01.878Z"
   },
   {
    "duration": 114,
    "start_time": "2022-04-24T09:28:01.960Z"
   },
   {
    "duration": 3,
    "start_time": "2022-04-24T09:28:02.076Z"
   },
   {
    "duration": 76,
    "start_time": "2022-04-24T09:28:02.081Z"
   },
   {
    "duration": 31,
    "start_time": "2022-04-24T09:28:02.158Z"
   },
   {
    "duration": 25,
    "start_time": "2022-04-24T09:28:02.191Z"
   },
   {
    "duration": 26,
    "start_time": "2022-04-24T09:28:02.217Z"
   },
   {
    "duration": 48,
    "start_time": "2022-04-24T09:28:02.244Z"
   },
   {
    "duration": 7,
    "start_time": "2022-04-24T09:28:02.294Z"
   },
   {
    "duration": 56,
    "start_time": "2022-04-24T09:28:02.302Z"
   },
   {
    "duration": 4,
    "start_time": "2022-04-24T09:28:02.360Z"
   },
   {
    "duration": 130,
    "start_time": "2022-04-24T09:28:02.365Z"
   },
   {
    "duration": 32,
    "start_time": "2022-04-24T09:28:02.497Z"
   },
   {
    "duration": 256,
    "start_time": "2022-04-24T09:28:02.531Z"
   },
   {
    "duration": 240,
    "start_time": "2022-04-24T09:28:02.789Z"
   },
   {
    "duration": 239,
    "start_time": "2022-04-24T09:28:03.031Z"
   },
   {
    "duration": 257,
    "start_time": "2022-04-24T09:28:03.272Z"
   },
   {
    "duration": 15,
    "start_time": "2022-04-24T09:28:58.456Z"
   },
   {
    "duration": 14,
    "start_time": "2022-04-24T09:29:11.725Z"
   },
   {
    "duration": 14,
    "start_time": "2022-04-24T09:29:15.030Z"
   },
   {
    "duration": 23,
    "start_time": "2022-04-24T09:29:16.726Z"
   },
   {
    "duration": 26,
    "start_time": "2022-04-24T09:29:20.692Z"
   },
   {
    "duration": 14,
    "start_time": "2022-04-24T09:29:24.208Z"
   },
   {
    "duration": 109,
    "start_time": "2022-04-24T09:31:12.387Z"
   },
   {
    "duration": 25,
    "start_time": "2022-04-24T09:31:18.044Z"
   },
   {
    "duration": 14,
    "start_time": "2022-04-24T09:34:48.512Z"
   },
   {
    "duration": 26,
    "start_time": "2022-04-24T09:34:59.177Z"
   },
   {
    "duration": 30,
    "start_time": "2022-04-24T09:36:10.324Z"
   },
   {
    "duration": 44,
    "start_time": "2022-04-24T09:37:35.677Z"
   },
   {
    "duration": 27,
    "start_time": "2022-04-24T09:38:22.459Z"
   },
   {
    "duration": 150,
    "start_time": "2022-04-24T09:39:57.767Z"
   },
   {
    "duration": 12,
    "start_time": "2022-04-24T09:40:06.239Z"
   },
   {
    "duration": 26,
    "start_time": "2022-04-24T09:40:16.871Z"
   },
   {
    "duration": 12,
    "start_time": "2022-04-24T09:40:28.608Z"
   },
   {
    "duration": 1141,
    "start_time": "2022-04-24T09:40:54.809Z"
   },
   {
    "duration": 405,
    "start_time": "2022-04-24T09:40:55.952Z"
   },
   {
    "duration": 72,
    "start_time": "2022-04-24T09:40:56.358Z"
   },
   {
    "duration": 12,
    "start_time": "2022-04-24T09:40:56.432Z"
   },
   {
    "duration": 31,
    "start_time": "2022-04-24T09:40:56.446Z"
   },
   {
    "duration": 9,
    "start_time": "2022-04-24T09:40:56.493Z"
   },
   {
    "duration": 30,
    "start_time": "2022-04-24T09:40:56.503Z"
   },
   {
    "duration": 8,
    "start_time": "2022-04-24T09:40:56.535Z"
   },
   {
    "duration": 20,
    "start_time": "2022-04-24T09:40:56.544Z"
   },
   {
    "duration": 29,
    "start_time": "2022-04-24T09:40:56.567Z"
   },
   {
    "duration": 24,
    "start_time": "2022-04-24T09:40:56.598Z"
   },
   {
    "duration": 9,
    "start_time": "2022-04-24T09:40:56.624Z"
   },
   {
    "duration": 15,
    "start_time": "2022-04-24T09:40:56.635Z"
   },
   {
    "duration": 267,
    "start_time": "2022-04-24T09:40:56.652Z"
   },
   {
    "duration": 89,
    "start_time": "2022-04-24T09:40:56.920Z"
   },
   {
    "duration": 111,
    "start_time": "2022-04-24T09:40:57.011Z"
   },
   {
    "duration": 4,
    "start_time": "2022-04-24T09:40:57.123Z"
   },
   {
    "duration": 67,
    "start_time": "2022-04-24T09:40:57.129Z"
   },
   {
    "duration": 32,
    "start_time": "2022-04-24T09:40:57.198Z"
   },
   {
    "duration": 25,
    "start_time": "2022-04-24T09:40:57.232Z"
   },
   {
    "duration": 36,
    "start_time": "2022-04-24T09:40:57.258Z"
   },
   {
    "duration": 27,
    "start_time": "2022-04-24T09:40:57.295Z"
   },
   {
    "duration": 7,
    "start_time": "2022-04-24T09:40:57.323Z"
   },
   {
    "duration": 62,
    "start_time": "2022-04-24T09:40:57.332Z"
   },
   {
    "duration": 5,
    "start_time": "2022-04-24T09:40:57.395Z"
   },
   {
    "duration": 124,
    "start_time": "2022-04-24T09:40:57.402Z"
   },
   {
    "duration": 34,
    "start_time": "2022-04-24T09:40:57.528Z"
   },
   {
    "duration": 265,
    "start_time": "2022-04-24T09:40:57.565Z"
   },
   {
    "duration": 248,
    "start_time": "2022-04-24T09:40:57.832Z"
   },
   {
    "duration": 244,
    "start_time": "2022-04-24T09:40:58.082Z"
   },
   {
    "duration": 257,
    "start_time": "2022-04-24T09:40:58.328Z"
   },
   {
    "duration": 109,
    "start_time": "2022-04-24T09:42:10.555Z"
   },
   {
    "duration": 26,
    "start_time": "2022-04-24T09:42:22.253Z"
   },
   {
    "duration": 24,
    "start_time": "2022-04-24T09:42:33.592Z"
   },
   {
    "duration": 21,
    "start_time": "2022-04-24T09:43:02.962Z"
   },
   {
    "duration": 30,
    "start_time": "2022-04-24T09:43:19.573Z"
   },
   {
    "duration": 28,
    "start_time": "2022-04-24T09:43:26.917Z"
   },
   {
    "duration": 27,
    "start_time": "2022-04-24T09:43:35.038Z"
   },
   {
    "duration": 27,
    "start_time": "2022-04-24T09:43:51.636Z"
   },
   {
    "duration": 24,
    "start_time": "2022-04-24T09:43:53.547Z"
   },
   {
    "duration": 22,
    "start_time": "2022-04-24T09:44:08.393Z"
   },
   {
    "duration": 14,
    "start_time": "2022-04-24T09:44:24.193Z"
   },
   {
    "duration": 24,
    "start_time": "2022-04-24T09:44:27.517Z"
   },
   {
    "duration": 26,
    "start_time": "2022-04-24T09:44:32.342Z"
   },
   {
    "duration": 13,
    "start_time": "2022-04-24T09:45:44.660Z"
   },
   {
    "duration": 137,
    "start_time": "2022-04-24T09:46:25.234Z"
   },
   {
    "duration": 14,
    "start_time": "2022-04-24T09:46:30.049Z"
   },
   {
    "duration": 26,
    "start_time": "2022-04-24T09:46:32.405Z"
   },
   {
    "duration": 24,
    "start_time": "2022-04-24T09:58:00.816Z"
   },
   {
    "duration": 22,
    "start_time": "2022-04-24T10:00:05.136Z"
   },
   {
    "duration": 23,
    "start_time": "2022-04-24T10:00:48.215Z"
   },
   {
    "duration": 31,
    "start_time": "2022-04-24T10:01:41.656Z"
   },
   {
    "duration": 29,
    "start_time": "2022-04-24T10:01:47.497Z"
   },
   {
    "duration": 22,
    "start_time": "2022-04-24T10:02:03.979Z"
   },
   {
    "duration": 23,
    "start_time": "2022-04-24T10:02:23.259Z"
   },
   {
    "duration": 38,
    "start_time": "2022-04-24T10:05:31.866Z"
   },
   {
    "duration": 34,
    "start_time": "2022-04-24T10:05:59.233Z"
   },
   {
    "duration": 26,
    "start_time": "2022-04-24T10:06:15.349Z"
   },
   {
    "duration": 1189,
    "start_time": "2022-04-24T10:06:43.164Z"
   },
   {
    "duration": 392,
    "start_time": "2022-04-24T10:06:44.355Z"
   },
   {
    "duration": 73,
    "start_time": "2022-04-24T10:06:44.749Z"
   },
   {
    "duration": 12,
    "start_time": "2022-04-24T10:06:44.824Z"
   },
   {
    "duration": 31,
    "start_time": "2022-04-24T10:06:44.839Z"
   },
   {
    "duration": 23,
    "start_time": "2022-04-24T10:06:44.871Z"
   },
   {
    "duration": 33,
    "start_time": "2022-04-24T10:06:44.896Z"
   },
   {
    "duration": 8,
    "start_time": "2022-04-24T10:06:44.930Z"
   },
   {
    "duration": 17,
    "start_time": "2022-04-24T10:06:44.939Z"
   },
   {
    "duration": 9,
    "start_time": "2022-04-24T10:06:44.958Z"
   },
   {
    "duration": 28,
    "start_time": "2022-04-24T10:06:44.992Z"
   },
   {
    "duration": 17,
    "start_time": "2022-04-24T10:06:45.021Z"
   },
   {
    "duration": 16,
    "start_time": "2022-04-24T10:06:45.040Z"
   },
   {
    "duration": 252,
    "start_time": "2022-04-24T10:06:45.059Z"
   },
   {
    "duration": 83,
    "start_time": "2022-04-24T10:06:45.313Z"
   },
   {
    "duration": 108,
    "start_time": "2022-04-24T10:06:45.398Z"
   },
   {
    "duration": 3,
    "start_time": "2022-04-24T10:06:45.507Z"
   },
   {
    "duration": 56,
    "start_time": "2022-04-24T10:06:45.512Z"
   },
   {
    "duration": 43,
    "start_time": "2022-04-24T10:06:45.570Z"
   },
   {
    "duration": 26,
    "start_time": "2022-04-24T10:06:45.615Z"
   },
   {
    "duration": 17,
    "start_time": "2022-04-24T10:06:45.642Z"
   },
   {
    "duration": 47,
    "start_time": "2022-04-24T10:06:45.660Z"
   },
   {
    "duration": 27,
    "start_time": "2022-04-24T10:06:45.709Z"
   },
   {
    "duration": 8,
    "start_time": "2022-04-24T10:06:45.737Z"
   },
   {
    "duration": 63,
    "start_time": "2022-04-24T10:06:45.747Z"
   },
   {
    "duration": 4,
    "start_time": "2022-04-24T10:06:45.812Z"
   },
   {
    "duration": 119,
    "start_time": "2022-04-24T10:06:45.818Z"
   },
   {
    "duration": 35,
    "start_time": "2022-04-24T10:06:45.938Z"
   },
   {
    "duration": 266,
    "start_time": "2022-04-24T10:06:45.975Z"
   },
   {
    "duration": 259,
    "start_time": "2022-04-24T10:06:46.242Z"
   },
   {
    "duration": 250,
    "start_time": "2022-04-24T10:06:46.503Z"
   },
   {
    "duration": 273,
    "start_time": "2022-04-24T10:06:46.754Z"
   },
   {
    "duration": 35,
    "start_time": "2022-04-24T10:07:34.880Z"
   },
   {
    "duration": 2345,
    "start_time": "2022-04-24T10:10:42.283Z"
   },
   {
    "duration": 36,
    "start_time": "2022-04-24T10:11:06.576Z"
   },
   {
    "duration": 22,
    "start_time": "2022-04-24T10:14:44.047Z"
   },
   {
    "duration": 22,
    "start_time": "2022-04-24T10:14:53.474Z"
   },
   {
    "duration": 24,
    "start_time": "2022-04-24T10:15:09.718Z"
   },
   {
    "duration": 21,
    "start_time": "2022-04-24T10:16:29.024Z"
   },
   {
    "duration": 22,
    "start_time": "2022-04-24T10:19:35.301Z"
   },
   {
    "duration": 35,
    "start_time": "2022-04-24T10:20:43.471Z"
   },
   {
    "duration": 24,
    "start_time": "2022-04-24T10:27:39.642Z"
   },
   {
    "duration": 25,
    "start_time": "2022-04-24T10:30:10.035Z"
   },
   {
    "duration": 24,
    "start_time": "2022-04-24T10:30:55.623Z"
   },
   {
    "duration": 33,
    "start_time": "2022-04-24T10:32:09.882Z"
   },
   {
    "duration": 29,
    "start_time": "2022-04-24T10:34:32.658Z"
   },
   {
    "duration": 22,
    "start_time": "2022-04-24T10:34:39.273Z"
   },
   {
    "duration": 23,
    "start_time": "2022-04-24T10:35:00.757Z"
   },
   {
    "duration": 24,
    "start_time": "2022-04-24T10:35:46.172Z"
   },
   {
    "duration": 32,
    "start_time": "2022-04-24T10:36:24.457Z"
   },
   {
    "duration": 35,
    "start_time": "2022-04-24T10:36:29.666Z"
   },
   {
    "duration": 24,
    "start_time": "2022-04-24T10:36:35.394Z"
   },
   {
    "duration": 23,
    "start_time": "2022-04-24T10:36:43.881Z"
   },
   {
    "duration": 24,
    "start_time": "2022-04-24T10:36:52.243Z"
   },
   {
    "duration": 23,
    "start_time": "2022-04-24T10:37:35.107Z"
   },
   {
    "duration": 38,
    "start_time": "2022-04-24T10:39:34.931Z"
   },
   {
    "duration": 2278,
    "start_time": "2022-04-24T10:41:07.184Z"
   },
   {
    "duration": 1077,
    "start_time": "2022-04-24T10:41:25.959Z"
   },
   {
    "duration": 1090,
    "start_time": "2022-04-24T10:41:52.674Z"
   },
   {
    "duration": 36,
    "start_time": "2022-04-24T10:42:05.661Z"
   },
   {
    "duration": 38,
    "start_time": "2022-04-24T10:44:21.455Z"
   },
   {
    "duration": 37,
    "start_time": "2022-04-24T10:44:31.339Z"
   },
   {
    "duration": 28,
    "start_time": "2022-04-24T10:44:38.413Z"
   },
   {
    "duration": 37,
    "start_time": "2022-04-24T10:44:49.457Z"
   },
   {
    "duration": 32,
    "start_time": "2022-04-24T10:45:27.908Z"
   },
   {
    "duration": 1199,
    "start_time": "2022-04-24T10:47:31.264Z"
   },
   {
    "duration": 400,
    "start_time": "2022-04-24T10:47:32.465Z"
   },
   {
    "duration": 77,
    "start_time": "2022-04-24T10:47:32.866Z"
   },
   {
    "duration": 12,
    "start_time": "2022-04-24T10:47:32.945Z"
   },
   {
    "duration": 45,
    "start_time": "2022-04-24T10:47:32.959Z"
   },
   {
    "duration": 9,
    "start_time": "2022-04-24T10:47:33.005Z"
   },
   {
    "duration": 31,
    "start_time": "2022-04-24T10:47:33.015Z"
   },
   {
    "duration": 7,
    "start_time": "2022-04-24T10:47:33.048Z"
   },
   {
    "duration": 40,
    "start_time": "2022-04-24T10:47:33.056Z"
   },
   {
    "duration": 8,
    "start_time": "2022-04-24T10:47:33.098Z"
   },
   {
    "duration": 26,
    "start_time": "2022-04-24T10:47:33.108Z"
   },
   {
    "duration": 10,
    "start_time": "2022-04-24T10:47:33.136Z"
   },
   {
    "duration": 19,
    "start_time": "2022-04-24T10:47:33.148Z"
   },
   {
    "duration": 240,
    "start_time": "2022-04-24T10:47:33.194Z"
   },
   {
    "duration": 86,
    "start_time": "2022-04-24T10:47:33.436Z"
   },
   {
    "duration": 119,
    "start_time": "2022-04-24T10:47:33.524Z"
   },
   {
    "duration": 3,
    "start_time": "2022-04-24T10:47:33.645Z"
   },
   {
    "duration": 68,
    "start_time": "2022-04-24T10:47:33.650Z"
   },
   {
    "duration": 30,
    "start_time": "2022-04-24T10:47:33.720Z"
   },
   {
    "duration": 43,
    "start_time": "2022-04-24T10:47:33.752Z"
   },
   {
    "duration": 16,
    "start_time": "2022-04-24T10:47:33.797Z"
   },
   {
    "duration": 28,
    "start_time": "2022-04-24T10:47:33.814Z"
   },
   {
    "duration": 30,
    "start_time": "2022-04-24T10:47:37.117Z"
   },
   {
    "duration": 7,
    "start_time": "2022-04-24T10:50:16.730Z"
   },
   {
    "duration": 97,
    "start_time": "2022-04-24T10:58:50.505Z"
   },
   {
    "duration": 8,
    "start_time": "2022-04-24T10:58:57.668Z"
   },
   {
    "duration": 6,
    "start_time": "2022-04-24T10:59:05.848Z"
   },
   {
    "duration": 6,
    "start_time": "2022-04-24T10:59:12.446Z"
   },
   {
    "duration": 17,
    "start_time": "2022-04-24T11:00:28.420Z"
   },
   {
    "duration": 10,
    "start_time": "2022-04-24T11:01:01.264Z"
   },
   {
    "duration": 10,
    "start_time": "2022-04-24T11:01:14.081Z"
   },
   {
    "duration": 871,
    "start_time": "2022-04-24T11:01:48.291Z"
   },
   {
    "duration": 5,
    "start_time": "2022-04-24T11:02:14.984Z"
   },
   {
    "duration": 18,
    "start_time": "2022-04-24T11:02:21.188Z"
   },
   {
    "duration": 2267,
    "start_time": "2022-04-24T11:02:58.662Z"
   },
   {
    "duration": 4,
    "start_time": "2022-04-24T11:04:25.937Z"
   },
   {
    "duration": 18,
    "start_time": "2022-04-24T11:04:34.797Z"
   },
   {
    "duration": 5,
    "start_time": "2022-04-24T11:07:12.986Z"
   },
   {
    "duration": 4,
    "start_time": "2022-04-24T11:07:15.041Z"
   },
   {
    "duration": 18,
    "start_time": "2022-04-24T11:07:15.853Z"
   },
   {
    "duration": 5,
    "start_time": "2022-04-24T11:07:58.689Z"
   },
   {
    "duration": 13,
    "start_time": "2022-04-24T11:08:38.813Z"
   },
   {
    "duration": 8,
    "start_time": "2022-04-24T11:09:17.154Z"
   },
   {
    "duration": 14,
    "start_time": "2022-04-24T11:09:23.432Z"
   },
   {
    "duration": 11,
    "start_time": "2022-04-24T11:09:34.481Z"
   },
   {
    "duration": 8,
    "start_time": "2022-04-24T11:09:35.094Z"
   },
   {
    "duration": 16,
    "start_time": "2022-04-24T11:09:35.388Z"
   },
   {
    "duration": 655,
    "start_time": "2022-04-24T11:09:58.221Z"
   },
   {
    "duration": 4,
    "start_time": "2022-04-24T11:10:11.301Z"
   },
   {
    "duration": 620,
    "start_time": "2022-04-24T11:10:11.308Z"
   },
   {
    "duration": 138,
    "start_time": "2022-04-24T11:10:11.931Z"
   },
   {
    "duration": 14,
    "start_time": "2022-04-24T11:10:12.072Z"
   },
   {
    "duration": 45,
    "start_time": "2022-04-24T11:10:12.092Z"
   },
   {
    "duration": 16,
    "start_time": "2022-04-24T11:10:12.140Z"
   },
   {
    "duration": 74,
    "start_time": "2022-04-24T11:10:12.159Z"
   },
   {
    "duration": 14,
    "start_time": "2022-04-24T11:10:12.236Z"
   },
   {
    "duration": 46,
    "start_time": "2022-04-24T11:10:12.252Z"
   },
   {
    "duration": 16,
    "start_time": "2022-04-24T11:10:12.301Z"
   },
   {
    "duration": 54,
    "start_time": "2022-04-24T11:10:12.320Z"
   },
   {
    "duration": 16,
    "start_time": "2022-04-24T11:10:12.394Z"
   },
   {
    "duration": 23,
    "start_time": "2022-04-24T11:10:12.413Z"
   },
   {
    "duration": 526,
    "start_time": "2022-04-24T11:10:12.439Z"
   },
   {
    "duration": 83,
    "start_time": "2022-04-24T11:10:12.968Z"
   },
   {
    "duration": 555,
    "start_time": "2022-04-24T11:10:13.053Z"
   },
   {
    "duration": 4,
    "start_time": "2022-04-24T11:10:13.610Z"
   },
   {
    "duration": 81,
    "start_time": "2022-04-24T11:10:13.616Z"
   },
   {
    "duration": 27,
    "start_time": "2022-04-24T11:10:13.698Z"
   },
   {
    "duration": 31,
    "start_time": "2022-04-24T11:10:13.727Z"
   },
   {
    "duration": 33,
    "start_time": "2022-04-24T11:10:13.760Z"
   },
   {
    "duration": 45,
    "start_time": "2022-04-24T11:10:13.794Z"
   },
   {
    "duration": 47,
    "start_time": "2022-04-24T11:10:13.841Z"
   },
   {
    "duration": 5,
    "start_time": "2022-04-24T11:10:29.044Z"
   },
   {
    "duration": 7,
    "start_time": "2022-04-24T11:10:39.255Z"
   },
   {
    "duration": 19,
    "start_time": "2022-04-24T11:10:49.196Z"
   },
   {
    "duration": 1688,
    "start_time": "2022-04-24T11:11:16.975Z"
   },
   {
    "duration": 5,
    "start_time": "2022-04-24T11:11:18.893Z"
   },
   {
    "duration": 7,
    "start_time": "2022-04-24T11:11:31.881Z"
   },
   {
    "duration": 1688,
    "start_time": "2022-04-24T11:11:33.660Z"
   },
   {
    "duration": 0,
    "start_time": "2022-04-24T11:11:35.350Z"
   },
   {
    "duration": 3,
    "start_time": "2022-04-24T11:11:50.101Z"
   },
   {
    "duration": 385,
    "start_time": "2022-04-24T11:11:50.107Z"
   },
   {
    "duration": 77,
    "start_time": "2022-04-24T11:11:50.494Z"
   },
   {
    "duration": 21,
    "start_time": "2022-04-24T11:11:50.574Z"
   },
   {
    "duration": 27,
    "start_time": "2022-04-24T11:11:50.598Z"
   },
   {
    "duration": 9,
    "start_time": "2022-04-24T11:11:50.627Z"
   },
   {
    "duration": 55,
    "start_time": "2022-04-24T11:11:50.638Z"
   },
   {
    "duration": 8,
    "start_time": "2022-04-24T11:11:50.695Z"
   },
   {
    "duration": 14,
    "start_time": "2022-04-24T11:11:50.704Z"
   },
   {
    "duration": 8,
    "start_time": "2022-04-24T11:11:50.719Z"
   },
   {
    "duration": 25,
    "start_time": "2022-04-24T11:11:50.728Z"
   },
   {
    "duration": 40,
    "start_time": "2022-04-24T11:11:50.755Z"
   },
   {
    "duration": 15,
    "start_time": "2022-04-24T11:11:50.796Z"
   },
   {
    "duration": 207,
    "start_time": "2022-04-24T11:11:50.814Z"
   },
   {
    "duration": 86,
    "start_time": "2022-04-24T11:11:51.023Z"
   },
   {
    "duration": 108,
    "start_time": "2022-04-24T11:11:51.110Z"
   },
   {
    "duration": 4,
    "start_time": "2022-04-24T11:11:51.219Z"
   },
   {
    "duration": 68,
    "start_time": "2022-04-24T11:11:51.224Z"
   },
   {
    "duration": 27,
    "start_time": "2022-04-24T11:11:51.295Z"
   },
   {
    "duration": 23,
    "start_time": "2022-04-24T11:11:51.325Z"
   },
   {
    "duration": 15,
    "start_time": "2022-04-24T11:11:51.350Z"
   },
   {
    "duration": 26,
    "start_time": "2022-04-24T11:11:51.393Z"
   },
   {
    "duration": 33,
    "start_time": "2022-04-24T11:11:51.422Z"
   },
   {
    "duration": 35,
    "start_time": "2022-04-24T11:11:51.458Z"
   },
   {
    "duration": 7,
    "start_time": "2022-04-24T11:11:51.495Z"
   },
   {
    "duration": 1166,
    "start_time": "2022-04-24T11:12:13.976Z"
   },
   {
    "duration": 379,
    "start_time": "2022-04-24T11:12:15.144Z"
   },
   {
    "duration": 73,
    "start_time": "2022-04-24T11:12:15.525Z"
   },
   {
    "duration": 12,
    "start_time": "2022-04-24T11:12:15.601Z"
   },
   {
    "duration": 32,
    "start_time": "2022-04-24T11:12:15.614Z"
   },
   {
    "duration": 9,
    "start_time": "2022-04-24T11:12:15.647Z"
   },
   {
    "duration": 48,
    "start_time": "2022-04-24T11:12:15.657Z"
   },
   {
    "duration": 7,
    "start_time": "2022-04-24T11:12:15.707Z"
   },
   {
    "duration": 15,
    "start_time": "2022-04-24T11:12:15.715Z"
   },
   {
    "duration": 8,
    "start_time": "2022-04-24T11:12:15.733Z"
   },
   {
    "duration": 50,
    "start_time": "2022-04-24T11:12:15.743Z"
   },
   {
    "duration": 11,
    "start_time": "2022-04-24T11:12:15.795Z"
   },
   {
    "duration": 17,
    "start_time": "2022-04-24T11:12:15.807Z"
   },
   {
    "duration": 239,
    "start_time": "2022-04-24T11:12:15.826Z"
   },
   {
    "duration": 87,
    "start_time": "2022-04-24T11:12:16.067Z"
   },
   {
    "duration": 112,
    "start_time": "2022-04-24T11:12:16.155Z"
   },
   {
    "duration": 4,
    "start_time": "2022-04-24T11:12:16.269Z"
   },
   {
    "duration": 67,
    "start_time": "2022-04-24T11:12:16.274Z"
   },
   {
    "duration": 29,
    "start_time": "2022-04-24T11:12:16.343Z"
   },
   {
    "duration": 37,
    "start_time": "2022-04-24T11:12:16.374Z"
   },
   {
    "duration": 16,
    "start_time": "2022-04-24T11:12:16.412Z"
   },
   {
    "duration": 25,
    "start_time": "2022-04-24T11:12:16.430Z"
   },
   {
    "duration": 50,
    "start_time": "2022-04-24T11:12:16.456Z"
   },
   {
    "duration": 7,
    "start_time": "2022-04-24T11:12:16.508Z"
   },
   {
    "duration": 6,
    "start_time": "2022-04-24T11:12:24.956Z"
   },
   {
    "duration": 17,
    "start_time": "2022-04-24T11:12:26.097Z"
   },
   {
    "duration": 1868,
    "start_time": "2022-04-24T11:12:37.833Z"
   },
   {
    "duration": 1893,
    "start_time": "2022-04-24T11:13:31.737Z"
   },
   {
    "duration": 1733,
    "start_time": "2022-04-24T11:13:41.692Z"
   },
   {
    "duration": 5,
    "start_time": "2022-04-24T11:13:47.509Z"
   },
   {
    "duration": 1834,
    "start_time": "2022-04-24T11:14:02.792Z"
   },
   {
    "duration": 145,
    "start_time": "2022-04-24T11:15:13.726Z"
   },
   {
    "duration": 16,
    "start_time": "2022-04-24T11:15:23.841Z"
   },
   {
    "duration": 1176,
    "start_time": "2022-04-24T11:16:19.972Z"
   },
   {
    "duration": 383,
    "start_time": "2022-04-24T11:16:21.150Z"
   },
   {
    "duration": 72,
    "start_time": "2022-04-24T11:16:21.535Z"
   },
   {
    "duration": 14,
    "start_time": "2022-04-24T11:16:21.609Z"
   },
   {
    "duration": 32,
    "start_time": "2022-04-24T11:16:21.626Z"
   },
   {
    "duration": 9,
    "start_time": "2022-04-24T11:16:21.660Z"
   },
   {
    "duration": 52,
    "start_time": "2022-04-24T11:16:21.671Z"
   },
   {
    "duration": 7,
    "start_time": "2022-04-24T11:16:21.724Z"
   },
   {
    "duration": 13,
    "start_time": "2022-04-24T11:16:21.733Z"
   },
   {
    "duration": 8,
    "start_time": "2022-04-24T11:16:21.748Z"
   },
   {
    "duration": 56,
    "start_time": "2022-04-24T11:16:21.758Z"
   },
   {
    "duration": 10,
    "start_time": "2022-04-24T11:16:21.816Z"
   },
   {
    "duration": 14,
    "start_time": "2022-04-24T11:16:21.828Z"
   },
   {
    "duration": 246,
    "start_time": "2022-04-24T11:16:21.846Z"
   },
   {
    "duration": 77,
    "start_time": "2022-04-24T11:16:22.094Z"
   },
   {
    "duration": 122,
    "start_time": "2022-04-24T11:16:22.172Z"
   },
   {
    "duration": 3,
    "start_time": "2022-04-24T11:16:22.296Z"
   },
   {
    "duration": 55,
    "start_time": "2022-04-24T11:16:22.301Z"
   },
   {
    "duration": 45,
    "start_time": "2022-04-24T11:16:22.358Z"
   },
   {
    "duration": 24,
    "start_time": "2022-04-24T11:16:22.405Z"
   },
   {
    "duration": 14,
    "start_time": "2022-04-24T11:16:22.431Z"
   },
   {
    "duration": 24,
    "start_time": "2022-04-24T11:16:22.447Z"
   },
   {
    "duration": 46,
    "start_time": "2022-04-24T11:16:22.473Z"
   },
   {
    "duration": 6,
    "start_time": "2022-04-24T11:16:22.521Z"
   },
   {
    "duration": 6,
    "start_time": "2022-04-24T11:16:22.528Z"
   },
   {
    "duration": 19,
    "start_time": "2022-04-24T11:16:27.437Z"
   },
   {
    "duration": 6,
    "start_time": "2022-04-24T11:16:30.970Z"
   },
   {
    "duration": 14,
    "start_time": "2022-04-24T11:16:36.976Z"
   },
   {
    "duration": 146,
    "start_time": "2022-04-24T11:16:49.822Z"
   },
   {
    "duration": 4,
    "start_time": "2022-04-24T11:18:27.526Z"
   },
   {
    "duration": 14,
    "start_time": "2022-04-24T11:18:29.656Z"
   },
   {
    "duration": 1234,
    "start_time": "2022-04-24T11:18:49.821Z"
   },
   {
    "duration": 389,
    "start_time": "2022-04-24T11:18:51.057Z"
   },
   {
    "duration": 75,
    "start_time": "2022-04-24T11:18:51.447Z"
   },
   {
    "duration": 13,
    "start_time": "2022-04-24T11:18:51.524Z"
   },
   {
    "duration": 37,
    "start_time": "2022-04-24T11:18:51.539Z"
   },
   {
    "duration": 17,
    "start_time": "2022-04-24T11:18:51.577Z"
   },
   {
    "duration": 32,
    "start_time": "2022-04-24T11:18:51.596Z"
   },
   {
    "duration": 8,
    "start_time": "2022-04-24T11:18:51.630Z"
   },
   {
    "duration": 18,
    "start_time": "2022-04-24T11:18:51.640Z"
   },
   {
    "duration": 35,
    "start_time": "2022-04-24T11:18:51.660Z"
   },
   {
    "duration": 35,
    "start_time": "2022-04-24T11:18:51.696Z"
   },
   {
    "duration": 10,
    "start_time": "2022-04-24T11:18:51.732Z"
   },
   {
    "duration": 21,
    "start_time": "2022-04-24T11:18:51.744Z"
   },
   {
    "duration": 239,
    "start_time": "2022-04-24T11:18:51.793Z"
   },
   {
    "duration": 129,
    "start_time": "2022-04-24T11:18:52.034Z"
   },
   {
    "duration": 151,
    "start_time": "2022-04-24T11:18:52.165Z"
   },
   {
    "duration": 4,
    "start_time": "2022-04-24T11:18:52.319Z"
   },
   {
    "duration": 82,
    "start_time": "2022-04-24T11:18:52.325Z"
   },
   {
    "duration": 31,
    "start_time": "2022-04-24T11:18:52.409Z"
   },
   {
    "duration": 51,
    "start_time": "2022-04-24T11:18:52.442Z"
   },
   {
    "duration": 18,
    "start_time": "2022-04-24T11:18:52.495Z"
   },
   {
    "duration": 28,
    "start_time": "2022-04-24T11:18:52.515Z"
   },
   {
    "duration": 51,
    "start_time": "2022-04-24T11:18:52.545Z"
   },
   {
    "duration": 7,
    "start_time": "2022-04-24T11:18:52.598Z"
   },
   {
    "duration": 11,
    "start_time": "2022-04-24T11:18:52.607Z"
   },
   {
    "duration": 40,
    "start_time": "2022-04-24T11:18:52.620Z"
   },
   {
    "duration": 20,
    "start_time": "2022-04-24T11:18:52.662Z"
   },
   {
    "duration": 4,
    "start_time": "2022-04-24T11:18:56.123Z"
   },
   {
    "duration": 18,
    "start_time": "2022-04-24T11:18:57.210Z"
   },
   {
    "duration": 6,
    "start_time": "2022-04-24T11:19:19.945Z"
   },
   {
    "duration": 13,
    "start_time": "2022-04-24T11:19:21.322Z"
   },
   {
    "duration": 8,
    "start_time": "2022-04-24T11:26:14.571Z"
   },
   {
    "duration": 9,
    "start_time": "2022-04-24T11:35:05.408Z"
   },
   {
    "duration": 4,
    "start_time": "2022-04-24T11:36:38.347Z"
   },
   {
    "duration": 1773,
    "start_time": "2022-04-24T11:36:45.660Z"
   },
   {
    "duration": 6,
    "start_time": "2022-04-24T11:37:18.263Z"
   },
   {
    "duration": 8,
    "start_time": "2022-04-24T11:37:43.472Z"
   },
   {
    "duration": 8,
    "start_time": "2022-04-24T11:39:11.183Z"
   },
   {
    "duration": 8,
    "start_time": "2022-04-24T11:39:23.139Z"
   },
   {
    "duration": 1107,
    "start_time": "2022-04-24T11:39:57.538Z"
   },
   {
    "duration": 383,
    "start_time": "2022-04-24T11:39:58.647Z"
   },
   {
    "duration": 73,
    "start_time": "2022-04-24T11:39:59.032Z"
   },
   {
    "duration": 12,
    "start_time": "2022-04-24T11:39:59.107Z"
   },
   {
    "duration": 31,
    "start_time": "2022-04-24T11:39:59.121Z"
   },
   {
    "duration": 8,
    "start_time": "2022-04-24T11:39:59.153Z"
   },
   {
    "duration": 52,
    "start_time": "2022-04-24T11:39:59.163Z"
   },
   {
    "duration": 7,
    "start_time": "2022-04-24T11:39:59.217Z"
   },
   {
    "duration": 14,
    "start_time": "2022-04-24T11:39:59.225Z"
   },
   {
    "duration": 9,
    "start_time": "2022-04-24T11:39:59.240Z"
   },
   {
    "duration": 50,
    "start_time": "2022-04-24T11:39:59.250Z"
   },
   {
    "duration": 9,
    "start_time": "2022-04-24T11:39:59.302Z"
   },
   {
    "duration": 15,
    "start_time": "2022-04-24T11:39:59.312Z"
   },
   {
    "duration": 243,
    "start_time": "2022-04-24T11:39:59.329Z"
   },
   {
    "duration": 77,
    "start_time": "2022-04-24T11:39:59.574Z"
   },
   {
    "duration": 116,
    "start_time": "2022-04-24T11:39:59.653Z"
   },
   {
    "duration": 3,
    "start_time": "2022-04-24T11:39:59.771Z"
   },
   {
    "duration": 64,
    "start_time": "2022-04-24T11:39:59.776Z"
   },
   {
    "duration": 28,
    "start_time": "2022-04-24T11:39:59.842Z"
   },
   {
    "duration": 41,
    "start_time": "2022-04-24T11:39:59.871Z"
   },
   {
    "duration": 14,
    "start_time": "2022-04-24T11:39:59.913Z"
   },
   {
    "duration": 24,
    "start_time": "2022-04-24T11:39:59.929Z"
   },
   {
    "duration": 51,
    "start_time": "2022-04-24T11:39:59.954Z"
   },
   {
    "duration": 7,
    "start_time": "2022-04-24T11:40:00.006Z"
   },
   {
    "duration": 16,
    "start_time": "2022-04-24T11:40:00.015Z"
   },
   {
    "duration": 23,
    "start_time": "2022-04-24T11:40:00.033Z"
   },
   {
    "duration": 8,
    "start_time": "2022-04-24T11:40:04.460Z"
   },
   {
    "duration": 4,
    "start_time": "2022-04-24T11:40:07.620Z"
   },
   {
    "duration": 100,
    "start_time": "2022-04-24T11:40:13.838Z"
   },
   {
    "duration": 9,
    "start_time": "2022-04-24T11:43:02.379Z"
   },
   {
    "duration": 9,
    "start_time": "2022-04-24T11:44:05.609Z"
   },
   {
    "duration": 3,
    "start_time": "2022-04-24T11:44:12.169Z"
   },
   {
    "duration": 381,
    "start_time": "2022-04-24T11:44:12.174Z"
   },
   {
    "duration": 76,
    "start_time": "2022-04-24T11:44:12.557Z"
   },
   {
    "duration": 8,
    "start_time": "2022-04-24T11:44:12.635Z"
   },
   {
    "duration": 28,
    "start_time": "2022-04-24T11:44:12.645Z"
   },
   {
    "duration": 20,
    "start_time": "2022-04-24T11:44:12.674Z"
   },
   {
    "duration": 27,
    "start_time": "2022-04-24T11:44:12.695Z"
   },
   {
    "duration": 7,
    "start_time": "2022-04-24T11:44:12.724Z"
   },
   {
    "duration": 18,
    "start_time": "2022-04-24T11:44:12.733Z"
   },
   {
    "duration": 7,
    "start_time": "2022-04-24T11:44:12.753Z"
   },
   {
    "duration": 51,
    "start_time": "2022-04-24T11:44:12.762Z"
   },
   {
    "duration": 10,
    "start_time": "2022-04-24T11:44:12.814Z"
   },
   {
    "duration": 14,
    "start_time": "2022-04-24T11:44:12.825Z"
   },
   {
    "duration": 210,
    "start_time": "2022-04-24T11:44:12.842Z"
   },
   {
    "duration": 80,
    "start_time": "2022-04-24T11:44:13.053Z"
   },
   {
    "duration": 100,
    "start_time": "2022-04-24T11:44:13.135Z"
   },
   {
    "duration": 3,
    "start_time": "2022-04-24T11:44:13.236Z"
   },
   {
    "duration": 62,
    "start_time": "2022-04-24T11:44:13.241Z"
   },
   {
    "duration": 24,
    "start_time": "2022-04-24T11:44:13.305Z"
   },
   {
    "duration": 19,
    "start_time": "2022-04-24T11:44:13.331Z"
   },
   {
    "duration": 11,
    "start_time": "2022-04-24T11:44:13.351Z"
   },
   {
    "duration": 45,
    "start_time": "2022-04-24T11:44:13.364Z"
   },
   {
    "duration": 29,
    "start_time": "2022-04-24T11:44:13.411Z"
   },
   {
    "duration": 6,
    "start_time": "2022-04-24T11:44:13.441Z"
   },
   {
    "duration": 4,
    "start_time": "2022-04-24T11:44:13.449Z"
   },
   {
    "duration": 41,
    "start_time": "2022-04-24T11:44:13.455Z"
   },
   {
    "duration": 7,
    "start_time": "2022-04-24T11:44:13.498Z"
   },
   {
    "duration": 12,
    "start_time": "2022-04-24T11:44:13.507Z"
   },
   {
    "duration": 1200,
    "start_time": "2022-04-24T11:44:37.253Z"
   },
   {
    "duration": 389,
    "start_time": "2022-04-24T11:44:38.456Z"
   },
   {
    "duration": 73,
    "start_time": "2022-04-24T11:44:38.846Z"
   },
   {
    "duration": 12,
    "start_time": "2022-04-24T11:44:38.920Z"
   },
   {
    "duration": 29,
    "start_time": "2022-04-24T11:44:38.935Z"
   },
   {
    "duration": 27,
    "start_time": "2022-04-24T11:44:38.966Z"
   },
   {
    "duration": 29,
    "start_time": "2022-04-24T11:44:38.994Z"
   },
   {
    "duration": 7,
    "start_time": "2022-04-24T11:44:39.025Z"
   },
   {
    "duration": 14,
    "start_time": "2022-04-24T11:44:39.033Z"
   },
   {
    "duration": 9,
    "start_time": "2022-04-24T11:44:39.048Z"
   },
   {
    "duration": 54,
    "start_time": "2022-04-24T11:44:39.059Z"
   },
   {
    "duration": 9,
    "start_time": "2022-04-24T11:44:39.115Z"
   },
   {
    "duration": 14,
    "start_time": "2022-04-24T11:44:39.127Z"
   },
   {
    "duration": 255,
    "start_time": "2022-04-24T11:44:39.145Z"
   },
   {
    "duration": 90,
    "start_time": "2022-04-24T11:44:39.403Z"
   },
   {
    "duration": 118,
    "start_time": "2022-04-24T11:44:39.495Z"
   },
   {
    "duration": 4,
    "start_time": "2022-04-24T11:44:39.614Z"
   },
   {
    "duration": 53,
    "start_time": "2022-04-24T11:44:39.620Z"
   },
   {
    "duration": 38,
    "start_time": "2022-04-24T11:44:39.675Z"
   },
   {
    "duration": 26,
    "start_time": "2022-04-24T11:44:39.715Z"
   },
   {
    "duration": 16,
    "start_time": "2022-04-24T11:44:39.743Z"
   },
   {
    "duration": 55,
    "start_time": "2022-04-24T11:44:39.761Z"
   },
   {
    "duration": 30,
    "start_time": "2022-04-24T11:44:39.818Z"
   },
   {
    "duration": 7,
    "start_time": "2022-04-24T11:44:39.850Z"
   },
   {
    "duration": 5,
    "start_time": "2022-04-24T11:44:39.859Z"
   },
   {
    "duration": 15,
    "start_time": "2022-04-24T11:44:39.893Z"
   },
   {
    "duration": 7,
    "start_time": "2022-04-24T11:44:39.910Z"
   },
   {
    "duration": 9,
    "start_time": "2022-04-24T11:44:39.919Z"
   },
   {
    "duration": 8,
    "start_time": "2022-04-24T11:44:48.137Z"
   },
   {
    "duration": 8,
    "start_time": "2022-04-24T11:44:52.100Z"
   },
   {
    "duration": 9,
    "start_time": "2022-04-24T11:44:53.490Z"
   },
   {
    "duration": 9,
    "start_time": "2022-04-24T11:44:56.869Z"
   },
   {
    "duration": 8,
    "start_time": "2022-04-24T11:44:59.212Z"
   },
   {
    "duration": 1170,
    "start_time": "2022-04-24T11:45:34.791Z"
   },
   {
    "duration": 385,
    "start_time": "2022-04-24T11:45:35.963Z"
   },
   {
    "duration": 73,
    "start_time": "2022-04-24T11:45:36.349Z"
   },
   {
    "duration": 11,
    "start_time": "2022-04-24T11:45:36.424Z"
   },
   {
    "duration": 30,
    "start_time": "2022-04-24T11:45:36.437Z"
   },
   {
    "duration": 8,
    "start_time": "2022-04-24T11:45:36.468Z"
   },
   {
    "duration": 29,
    "start_time": "2022-04-24T11:45:36.493Z"
   },
   {
    "duration": 7,
    "start_time": "2022-04-24T11:45:36.523Z"
   },
   {
    "duration": 14,
    "start_time": "2022-04-24T11:45:36.532Z"
   },
   {
    "duration": 10,
    "start_time": "2022-04-24T11:45:36.548Z"
   },
   {
    "duration": 56,
    "start_time": "2022-04-24T11:45:36.560Z"
   },
   {
    "duration": 9,
    "start_time": "2022-04-24T11:45:36.618Z"
   },
   {
    "duration": 16,
    "start_time": "2022-04-24T11:45:36.629Z"
   },
   {
    "duration": 253,
    "start_time": "2022-04-24T11:45:36.648Z"
   },
   {
    "duration": 77,
    "start_time": "2022-04-24T11:45:36.902Z"
   },
   {
    "duration": 129,
    "start_time": "2022-04-24T11:45:36.981Z"
   },
   {
    "duration": 4,
    "start_time": "2022-04-24T11:45:37.112Z"
   },
   {
    "duration": 56,
    "start_time": "2022-04-24T11:45:37.117Z"
   },
   {
    "duration": 38,
    "start_time": "2022-04-24T11:45:37.174Z"
   },
   {
    "duration": 25,
    "start_time": "2022-04-24T11:45:37.213Z"
   },
   {
    "duration": 15,
    "start_time": "2022-04-24T11:45:37.239Z"
   },
   {
    "duration": 50,
    "start_time": "2022-04-24T11:45:37.256Z"
   },
   {
    "duration": 31,
    "start_time": "2022-04-24T11:45:37.307Z"
   },
   {
    "duration": 6,
    "start_time": "2022-04-24T11:45:37.339Z"
   },
   {
    "duration": 6,
    "start_time": "2022-04-24T11:45:37.347Z"
   },
   {
    "duration": 46,
    "start_time": "2022-04-24T11:45:37.355Z"
   },
   {
    "duration": 8,
    "start_time": "2022-04-24T11:45:37.402Z"
   },
   {
    "duration": 13,
    "start_time": "2022-04-24T11:45:37.411Z"
   },
   {
    "duration": 8,
    "start_time": "2022-04-24T11:45:50.806Z"
   },
   {
    "duration": 103,
    "start_time": "2022-04-24T11:48:28.379Z"
   },
   {
    "duration": 8,
    "start_time": "2022-04-24T11:48:53.807Z"
   },
   {
    "duration": 3,
    "start_time": "2022-04-24T11:49:07.408Z"
   },
   {
    "duration": 19,
    "start_time": "2022-04-24T11:49:08.599Z"
   },
   {
    "duration": 8,
    "start_time": "2022-04-24T11:49:16.003Z"
   },
   {
    "duration": 2355,
    "start_time": "2022-04-24T11:52:36.959Z"
   },
   {
    "duration": 0,
    "start_time": "2022-04-24T11:52:39.316Z"
   },
   {
    "duration": 28,
    "start_time": "2022-04-24T11:52:49.323Z"
   },
   {
    "duration": 1134,
    "start_time": "2022-04-24T11:53:27.313Z"
   },
   {
    "duration": 387,
    "start_time": "2022-04-24T11:53:28.449Z"
   },
   {
    "duration": 74,
    "start_time": "2022-04-24T11:53:28.838Z"
   },
   {
    "duration": 13,
    "start_time": "2022-04-24T11:53:28.914Z"
   },
   {
    "duration": 30,
    "start_time": "2022-04-24T11:53:28.931Z"
   },
   {
    "duration": 31,
    "start_time": "2022-04-24T11:53:28.963Z"
   },
   {
    "duration": 30,
    "start_time": "2022-04-24T11:53:28.996Z"
   },
   {
    "duration": 8,
    "start_time": "2022-04-24T11:53:29.027Z"
   },
   {
    "duration": 18,
    "start_time": "2022-04-24T11:53:29.036Z"
   },
   {
    "duration": 9,
    "start_time": "2022-04-24T11:53:29.056Z"
   },
   {
    "duration": 51,
    "start_time": "2022-04-24T11:53:29.067Z"
   },
   {
    "duration": 13,
    "start_time": "2022-04-24T11:53:29.119Z"
   },
   {
    "duration": 16,
    "start_time": "2022-04-24T11:53:29.134Z"
   },
   {
    "duration": 269,
    "start_time": "2022-04-24T11:53:29.153Z"
   },
   {
    "duration": 84,
    "start_time": "2022-04-24T11:53:29.424Z"
   },
   {
    "duration": 117,
    "start_time": "2022-04-24T11:53:29.510Z"
   },
   {
    "duration": 3,
    "start_time": "2022-04-24T11:53:29.629Z"
   },
   {
    "duration": 63,
    "start_time": "2022-04-24T11:53:29.634Z"
   },
   {
    "duration": 31,
    "start_time": "2022-04-24T11:53:29.699Z"
   },
   {
    "duration": 26,
    "start_time": "2022-04-24T11:53:29.731Z"
   },
   {
    "duration": 35,
    "start_time": "2022-04-24T11:53:29.759Z"
   },
   {
    "duration": 25,
    "start_time": "2022-04-24T11:53:29.796Z"
   },
   {
    "duration": 28,
    "start_time": "2022-04-24T11:53:29.823Z"
   },
   {
    "duration": 6,
    "start_time": "2022-04-24T11:53:29.853Z"
   },
   {
    "duration": 32,
    "start_time": "2022-04-24T11:53:29.860Z"
   },
   {
    "duration": 15,
    "start_time": "2022-04-24T11:53:29.894Z"
   },
   {
    "duration": 8,
    "start_time": "2022-04-24T11:53:29.911Z"
   },
   {
    "duration": 2502,
    "start_time": "2022-04-24T11:53:29.921Z"
   },
   {
    "duration": 0,
    "start_time": "2022-04-24T11:53:32.425Z"
   },
   {
    "duration": 5,
    "start_time": "2022-04-24T11:53:40.315Z"
   },
   {
    "duration": 22,
    "start_time": "2022-04-24T11:53:42.362Z"
   },
   {
    "duration": 14,
    "start_time": "2022-04-24T12:00:03.207Z"
   },
   {
    "duration": 1150,
    "start_time": "2022-04-24T12:00:32.588Z"
   },
   {
    "duration": 389,
    "start_time": "2022-04-24T12:00:33.740Z"
   },
   {
    "duration": 73,
    "start_time": "2022-04-24T12:00:34.130Z"
   },
   {
    "duration": 12,
    "start_time": "2022-04-24T12:00:34.205Z"
   },
   {
    "duration": 30,
    "start_time": "2022-04-24T12:00:34.219Z"
   },
   {
    "duration": 9,
    "start_time": "2022-04-24T12:00:34.251Z"
   },
   {
    "duration": 55,
    "start_time": "2022-04-24T12:00:34.262Z"
   },
   {
    "duration": 8,
    "start_time": "2022-04-24T12:00:34.318Z"
   },
   {
    "duration": 15,
    "start_time": "2022-04-24T12:00:34.328Z"
   },
   {
    "duration": 10,
    "start_time": "2022-04-24T12:00:34.344Z"
   },
   {
    "duration": 51,
    "start_time": "2022-04-24T12:00:34.355Z"
   },
   {
    "duration": 10,
    "start_time": "2022-04-24T12:00:34.408Z"
   },
   {
    "duration": 20,
    "start_time": "2022-04-24T12:00:34.419Z"
   },
   {
    "duration": 238,
    "start_time": "2022-04-24T12:00:34.442Z"
   },
   {
    "duration": 77,
    "start_time": "2022-04-24T12:00:34.682Z"
   },
   {
    "duration": 114,
    "start_time": "2022-04-24T12:00:34.761Z"
   },
   {
    "duration": 4,
    "start_time": "2022-04-24T12:00:34.877Z"
   },
   {
    "duration": 60,
    "start_time": "2022-04-24T12:00:34.882Z"
   },
   {
    "duration": 28,
    "start_time": "2022-04-24T12:00:34.944Z"
   },
   {
    "duration": 43,
    "start_time": "2022-04-24T12:00:34.974Z"
   },
   {
    "duration": 14,
    "start_time": "2022-04-24T12:00:35.019Z"
   },
   {
    "duration": 26,
    "start_time": "2022-04-24T12:00:35.035Z"
   },
   {
    "duration": 50,
    "start_time": "2022-04-24T12:00:35.063Z"
   },
   {
    "duration": 7,
    "start_time": "2022-04-24T12:00:35.115Z"
   },
   {
    "duration": 6,
    "start_time": "2022-04-24T12:00:35.124Z"
   },
   {
    "duration": 18,
    "start_time": "2022-04-24T12:00:35.133Z"
   },
   {
    "duration": 10,
    "start_time": "2022-04-24T12:00:35.153Z"
   },
   {
    "duration": 247,
    "start_time": "2022-04-24T12:00:39.891Z"
   },
   {
    "duration": 5,
    "start_time": "2022-04-24T12:01:29.732Z"
   },
   {
    "duration": 22,
    "start_time": "2022-04-24T12:01:31.737Z"
   },
   {
    "duration": 12,
    "start_time": "2022-04-24T12:01:39.172Z"
   },
   {
    "duration": 9,
    "start_time": "2022-04-24T12:01:53.049Z"
   },
   {
    "duration": 12,
    "start_time": "2022-04-24T12:01:59.909Z"
   },
   {
    "duration": 1093,
    "start_time": "2022-04-24T12:02:19.443Z"
   },
   {
    "duration": 554,
    "start_time": "2022-04-24T12:02:20.538Z"
   },
   {
    "duration": 75,
    "start_time": "2022-04-24T12:02:21.094Z"
   },
   {
    "duration": 29,
    "start_time": "2022-04-24T12:02:21.170Z"
   },
   {
    "duration": 30,
    "start_time": "2022-04-24T12:02:21.202Z"
   },
   {
    "duration": 9,
    "start_time": "2022-04-24T12:02:21.234Z"
   },
   {
    "duration": 65,
    "start_time": "2022-04-24T12:02:21.245Z"
   },
   {
    "duration": 8,
    "start_time": "2022-04-24T12:02:21.312Z"
   },
   {
    "duration": 28,
    "start_time": "2022-04-24T12:02:21.322Z"
   },
   {
    "duration": 15,
    "start_time": "2022-04-24T12:02:21.352Z"
   },
   {
    "duration": 45,
    "start_time": "2022-04-24T12:02:21.370Z"
   },
   {
    "duration": 14,
    "start_time": "2022-04-24T12:02:21.417Z"
   },
   {
    "duration": 26,
    "start_time": "2022-04-24T12:02:21.433Z"
   },
   {
    "duration": 341,
    "start_time": "2022-04-24T12:02:21.463Z"
   },
   {
    "duration": 89,
    "start_time": "2022-04-24T12:02:21.806Z"
   },
   {
    "duration": 111,
    "start_time": "2022-04-24T12:02:21.897Z"
   },
   {
    "duration": 3,
    "start_time": "2022-04-24T12:02:22.010Z"
   },
   {
    "duration": 66,
    "start_time": "2022-04-24T12:02:22.015Z"
   },
   {
    "duration": 30,
    "start_time": "2022-04-24T12:02:22.083Z"
   },
   {
    "duration": 27,
    "start_time": "2022-04-24T12:02:22.114Z"
   },
   {
    "duration": 14,
    "start_time": "2022-04-24T12:02:22.142Z"
   },
   {
    "duration": 45,
    "start_time": "2022-04-24T12:02:22.158Z"
   },
   {
    "duration": 30,
    "start_time": "2022-04-24T12:02:22.206Z"
   },
   {
    "duration": 7,
    "start_time": "2022-04-24T12:02:22.239Z"
   },
   {
    "duration": 7,
    "start_time": "2022-04-24T12:02:22.248Z"
   },
   {
    "duration": 47,
    "start_time": "2022-04-24T12:02:22.257Z"
   },
   {
    "duration": 8,
    "start_time": "2022-04-24T12:02:22.307Z"
   },
   {
    "duration": 12,
    "start_time": "2022-04-24T12:02:22.317Z"
   },
   {
    "duration": 23,
    "start_time": "2022-04-24T12:02:28.112Z"
   },
   {
    "duration": 151,
    "start_time": "2022-04-24T12:03:09.334Z"
   },
   {
    "duration": 105,
    "start_time": "2022-04-24T12:03:15.108Z"
   },
   {
    "duration": 1228,
    "start_time": "2022-04-24T12:03:24.890Z"
   },
   {
    "duration": 440,
    "start_time": "2022-04-24T12:03:26.120Z"
   },
   {
    "duration": 78,
    "start_time": "2022-04-24T12:03:26.562Z"
   },
   {
    "duration": 13,
    "start_time": "2022-04-24T12:03:26.642Z"
   },
   {
    "duration": 46,
    "start_time": "2022-04-24T12:03:26.657Z"
   },
   {
    "duration": 9,
    "start_time": "2022-04-24T12:03:26.705Z"
   },
   {
    "duration": 33,
    "start_time": "2022-04-24T12:03:26.715Z"
   },
   {
    "duration": 8,
    "start_time": "2022-04-24T12:03:26.749Z"
   },
   {
    "duration": 39,
    "start_time": "2022-04-24T12:03:26.758Z"
   },
   {
    "duration": 9,
    "start_time": "2022-04-24T12:03:26.798Z"
   },
   {
    "duration": 31,
    "start_time": "2022-04-24T12:03:26.808Z"
   },
   {
    "duration": 9,
    "start_time": "2022-04-24T12:03:26.840Z"
   },
   {
    "duration": 22,
    "start_time": "2022-04-24T12:03:26.851Z"
   },
   {
    "duration": 224,
    "start_time": "2022-04-24T12:03:26.893Z"
   },
   {
    "duration": 82,
    "start_time": "2022-04-24T12:03:27.119Z"
   },
   {
    "duration": 118,
    "start_time": "2022-04-24T12:03:27.202Z"
   },
   {
    "duration": 4,
    "start_time": "2022-04-24T12:03:27.322Z"
   },
   {
    "duration": 65,
    "start_time": "2022-04-24T12:03:27.328Z"
   },
   {
    "duration": 31,
    "start_time": "2022-04-24T12:03:27.395Z"
   },
   {
    "duration": 26,
    "start_time": "2022-04-24T12:03:27.428Z"
   },
   {
    "duration": 41,
    "start_time": "2022-04-24T12:03:27.455Z"
   },
   {
    "duration": 27,
    "start_time": "2022-04-24T12:03:27.497Z"
   },
   {
    "duration": 31,
    "start_time": "2022-04-24T12:03:27.525Z"
   },
   {
    "duration": 6,
    "start_time": "2022-04-24T12:03:27.558Z"
   },
   {
    "duration": 36,
    "start_time": "2022-04-24T12:03:27.566Z"
   },
   {
    "duration": 17,
    "start_time": "2022-04-24T12:03:27.605Z"
   },
   {
    "duration": 8,
    "start_time": "2022-04-24T12:03:27.623Z"
   },
   {
    "duration": 7,
    "start_time": "2022-04-24T12:03:27.632Z"
   },
   {
    "duration": 21,
    "start_time": "2022-04-24T12:03:27.640Z"
   },
   {
    "duration": 30,
    "start_time": "2022-04-24T12:03:27.663Z"
   },
   {
    "duration": 104,
    "start_time": "2022-04-24T12:03:27.695Z"
   },
   {
    "duration": 0,
    "start_time": "2022-04-24T12:03:27.802Z"
   },
   {
    "duration": 0,
    "start_time": "2022-04-24T12:03:27.803Z"
   },
   {
    "duration": 0,
    "start_time": "2022-04-24T12:03:27.804Z"
   },
   {
    "duration": 0,
    "start_time": "2022-04-24T12:03:27.806Z"
   },
   {
    "duration": 0,
    "start_time": "2022-04-24T12:03:27.807Z"
   },
   {
    "duration": 5,
    "start_time": "2022-04-24T12:05:58.708Z"
   },
   {
    "duration": 2228,
    "start_time": "2022-04-24T12:06:32.479Z"
   },
   {
    "duration": 4,
    "start_time": "2022-04-24T12:06:53.549Z"
   },
   {
    "duration": 2454,
    "start_time": "2022-04-24T12:06:55.129Z"
   },
   {
    "duration": 4,
    "start_time": "2022-04-24T12:07:05.405Z"
   },
   {
    "duration": 99,
    "start_time": "2022-04-24T12:07:06.388Z"
   },
   {
    "duration": 103,
    "start_time": "2022-04-24T12:07:22.031Z"
   },
   {
    "duration": 103,
    "start_time": "2022-04-24T12:07:32.812Z"
   },
   {
    "duration": 42,
    "start_time": "2022-04-24T12:10:17.091Z"
   },
   {
    "duration": 42,
    "start_time": "2022-04-24T12:11:13.086Z"
   },
   {
    "duration": 2396,
    "start_time": "2022-04-24T12:11:14.535Z"
   },
   {
    "duration": 362,
    "start_time": "2022-04-24T12:11:28.821Z"
   },
   {
    "duration": 2191,
    "start_time": "2022-04-24T12:11:39.694Z"
   },
   {
    "duration": 2345,
    "start_time": "2022-04-24T12:11:53.404Z"
   },
   {
    "duration": 233,
    "start_time": "2022-04-24T12:11:58.727Z"
   },
   {
    "duration": 237,
    "start_time": "2022-04-24T12:12:04.834Z"
   },
   {
    "duration": 240,
    "start_time": "2022-04-24T12:12:07.299Z"
   },
   {
    "duration": 1198,
    "start_time": "2022-04-24T12:13:32.160Z"
   },
   {
    "duration": 380,
    "start_time": "2022-04-24T12:13:33.360Z"
   },
   {
    "duration": 78,
    "start_time": "2022-04-24T12:13:33.742Z"
   },
   {
    "duration": 11,
    "start_time": "2022-04-24T12:13:33.822Z"
   },
   {
    "duration": 30,
    "start_time": "2022-04-24T12:13:33.835Z"
   },
   {
    "duration": 26,
    "start_time": "2022-04-24T12:13:33.867Z"
   },
   {
    "duration": 30,
    "start_time": "2022-04-24T12:13:33.895Z"
   },
   {
    "duration": 7,
    "start_time": "2022-04-24T12:13:33.927Z"
   },
   {
    "duration": 17,
    "start_time": "2022-04-24T12:13:33.935Z"
   },
   {
    "duration": 9,
    "start_time": "2022-04-24T12:13:33.954Z"
   },
   {
    "duration": 53,
    "start_time": "2022-04-24T12:13:33.965Z"
   },
   {
    "duration": 10,
    "start_time": "2022-04-24T12:13:34.019Z"
   },
   {
    "duration": 14,
    "start_time": "2022-04-24T12:13:34.031Z"
   },
   {
    "duration": 255,
    "start_time": "2022-04-24T12:13:34.047Z"
   },
   {
    "duration": 89,
    "start_time": "2022-04-24T12:13:34.304Z"
   },
   {
    "duration": 113,
    "start_time": "2022-04-24T12:13:34.394Z"
   },
   {
    "duration": 3,
    "start_time": "2022-04-24T12:13:34.509Z"
   },
   {
    "duration": 55,
    "start_time": "2022-04-24T12:13:34.515Z"
   },
   {
    "duration": 47,
    "start_time": "2022-04-24T12:13:34.571Z"
   },
   {
    "duration": 26,
    "start_time": "2022-04-24T12:13:34.620Z"
   },
   {
    "duration": 21,
    "start_time": "2022-04-24T12:13:34.648Z"
   },
   {
    "duration": 42,
    "start_time": "2022-04-24T12:13:34.671Z"
   },
   {
    "duration": 34,
    "start_time": "2022-04-24T12:13:34.716Z"
   },
   {
    "duration": 7,
    "start_time": "2022-04-24T12:13:34.752Z"
   },
   {
    "duration": 4,
    "start_time": "2022-04-24T12:13:34.793Z"
   },
   {
    "duration": 16,
    "start_time": "2022-04-24T12:13:34.799Z"
   },
   {
    "duration": 7,
    "start_time": "2022-04-24T12:13:34.817Z"
   },
   {
    "duration": 5,
    "start_time": "2022-04-24T12:13:34.828Z"
   },
   {
    "duration": 21,
    "start_time": "2022-04-24T12:13:34.835Z"
   },
   {
    "duration": 34,
    "start_time": "2022-04-24T12:13:34.858Z"
   },
   {
    "duration": 109,
    "start_time": "2022-04-24T12:13:34.894Z"
   },
   {
    "duration": 42,
    "start_time": "2022-04-24T12:13:35.005Z"
   },
   {
    "duration": 276,
    "start_time": "2022-04-24T12:13:35.048Z"
   },
   {
    "duration": 261,
    "start_time": "2022-04-24T12:13:35.325Z"
   },
   {
    "duration": 251,
    "start_time": "2022-04-24T12:13:35.588Z"
   },
   {
    "duration": 266,
    "start_time": "2022-04-24T12:13:35.841Z"
   },
   {
    "duration": 207,
    "start_time": "2022-04-24T12:17:33.516Z"
   },
   {
    "duration": 189,
    "start_time": "2022-04-24T12:17:42.282Z"
   },
   {
    "duration": 296,
    "start_time": "2022-04-24T12:17:57.868Z"
   },
   {
    "duration": 204,
    "start_time": "2022-04-24T12:18:02.956Z"
   },
   {
    "duration": 191,
    "start_time": "2022-04-24T12:18:17.004Z"
   },
   {
    "duration": 200,
    "start_time": "2022-04-24T12:18:31.158Z"
   },
   {
    "duration": 202,
    "start_time": "2022-04-24T12:18:35.449Z"
   },
   {
    "duration": 206,
    "start_time": "2022-04-24T12:18:47.295Z"
   },
   {
    "duration": 235,
    "start_time": "2022-04-24T12:18:59.814Z"
   },
   {
    "duration": 244,
    "start_time": "2022-04-24T12:19:11.492Z"
   },
   {
    "duration": 353,
    "start_time": "2022-04-24T12:19:22.701Z"
   },
   {
    "duration": 192,
    "start_time": "2022-04-24T12:19:35.638Z"
   },
   {
    "duration": 188,
    "start_time": "2022-04-24T12:19:52.347Z"
   },
   {
    "duration": 191,
    "start_time": "2022-04-24T12:20:01.359Z"
   },
   {
    "duration": 206,
    "start_time": "2022-04-24T12:20:08.277Z"
   },
   {
    "duration": 219,
    "start_time": "2022-04-24T12:20:19.501Z"
   },
   {
    "duration": 246,
    "start_time": "2022-04-24T12:20:24.754Z"
   },
   {
    "duration": 141,
    "start_time": "2022-04-24T12:26:50.416Z"
   },
   {
    "duration": 143,
    "start_time": "2022-04-24T14:04:17.062Z"
   },
   {
    "duration": 9,
    "start_time": "2022-04-24T14:25:36.325Z"
   },
   {
    "duration": 8,
    "start_time": "2022-04-24T14:26:26.897Z"
   },
   {
    "duration": 9,
    "start_time": "2022-04-24T14:35:03.652Z"
   },
   {
    "duration": 2345,
    "start_time": "2022-04-24T14:49:17.899Z"
   },
   {
    "duration": 32,
    "start_time": "2022-04-24T14:50:30.912Z"
   },
   {
    "duration": 3,
    "start_time": "2022-04-24T14:50:48.472Z"
   },
   {
    "duration": 415,
    "start_time": "2022-04-24T14:50:48.477Z"
   },
   {
    "duration": 75,
    "start_time": "2022-04-24T14:50:48.894Z"
   },
   {
    "duration": 9,
    "start_time": "2022-04-24T14:50:48.971Z"
   },
   {
    "duration": 25,
    "start_time": "2022-04-24T14:50:48.993Z"
   },
   {
    "duration": 9,
    "start_time": "2022-04-24T14:50:49.020Z"
   },
   {
    "duration": 28,
    "start_time": "2022-04-24T14:50:49.030Z"
   },
   {
    "duration": 7,
    "start_time": "2022-04-24T14:50:49.060Z"
   },
   {
    "duration": 14,
    "start_time": "2022-04-24T14:50:49.093Z"
   },
   {
    "duration": 8,
    "start_time": "2022-04-24T14:50:49.109Z"
   },
   {
    "duration": 32,
    "start_time": "2022-04-24T14:50:49.119Z"
   },
   {
    "duration": 9,
    "start_time": "2022-04-24T14:50:49.153Z"
   },
   {
    "duration": 15,
    "start_time": "2022-04-24T14:50:49.192Z"
   },
   {
    "duration": 217,
    "start_time": "2022-04-24T14:50:49.209Z"
   },
   {
    "duration": 80,
    "start_time": "2022-04-24T14:50:49.428Z"
   },
   {
    "duration": 100,
    "start_time": "2022-04-24T14:50:49.510Z"
   },
   {
    "duration": 3,
    "start_time": "2022-04-24T14:50:49.612Z"
   },
   {
    "duration": 56,
    "start_time": "2022-04-24T14:50:49.617Z"
   },
   {
    "duration": 38,
    "start_time": "2022-04-24T14:50:49.675Z"
   },
   {
    "duration": 26,
    "start_time": "2022-04-24T14:50:49.715Z"
   },
   {
    "duration": 12,
    "start_time": "2022-04-24T14:50:49.743Z"
   },
   {
    "duration": 49,
    "start_time": "2022-04-24T14:50:49.757Z"
   },
   {
    "duration": 31,
    "start_time": "2022-04-24T14:50:49.808Z"
   },
   {
    "duration": 7,
    "start_time": "2022-04-24T14:50:49.841Z"
   },
   {
    "duration": 8,
    "start_time": "2022-04-24T14:50:49.849Z"
   },
   {
    "duration": 41,
    "start_time": "2022-04-24T14:50:49.859Z"
   },
   {
    "duration": 9,
    "start_time": "2022-04-24T14:50:49.901Z"
   },
   {
    "duration": 6,
    "start_time": "2022-04-24T14:50:49.913Z"
   },
   {
    "duration": 24,
    "start_time": "2022-04-24T14:50:49.921Z"
   },
   {
    "duration": 4,
    "start_time": "2022-04-24T14:50:49.947Z"
   },
   {
    "duration": 127,
    "start_time": "2022-04-24T14:50:49.953Z"
   },
   {
    "duration": 49,
    "start_time": "2022-04-24T14:50:50.081Z"
   },
   {
    "duration": 251,
    "start_time": "2022-04-24T14:50:50.132Z"
   },
   {
    "duration": 214,
    "start_time": "2022-04-24T14:50:50.385Z"
   },
   {
    "duration": 345,
    "start_time": "2022-04-24T14:50:50.600Z"
   },
   {
    "duration": 246,
    "start_time": "2022-04-24T14:50:50.947Z"
   },
   {
    "duration": 8,
    "start_time": "2022-04-24T14:50:51.195Z"
   },
   {
    "duration": 1148,
    "start_time": "2022-04-24T14:51:07.093Z"
   },
   {
    "duration": 405,
    "start_time": "2022-04-24T14:51:08.243Z"
   },
   {
    "duration": 75,
    "start_time": "2022-04-24T14:51:08.650Z"
   },
   {
    "duration": 13,
    "start_time": "2022-04-24T14:51:08.727Z"
   },
   {
    "duration": 50,
    "start_time": "2022-04-24T14:51:08.743Z"
   },
   {
    "duration": 10,
    "start_time": "2022-04-24T14:51:08.795Z"
   },
   {
    "duration": 33,
    "start_time": "2022-04-24T14:51:08.807Z"
   },
   {
    "duration": 8,
    "start_time": "2022-04-24T14:51:08.841Z"
   },
   {
    "duration": 13,
    "start_time": "2022-04-24T14:51:08.851Z"
   },
   {
    "duration": 10,
    "start_time": "2022-04-24T14:51:08.892Z"
   },
   {
    "duration": 33,
    "start_time": "2022-04-24T14:51:08.904Z"
   },
   {
    "duration": 9,
    "start_time": "2022-04-24T14:51:08.940Z"
   },
   {
    "duration": 15,
    "start_time": "2022-04-24T14:51:08.951Z"
   },
   {
    "duration": 257,
    "start_time": "2022-04-24T14:51:08.992Z"
   },
   {
    "duration": 98,
    "start_time": "2022-04-24T14:51:09.251Z"
   },
   {
    "duration": 128,
    "start_time": "2022-04-24T14:51:09.351Z"
   },
   {
    "duration": 4,
    "start_time": "2022-04-24T14:51:09.480Z"
   },
   {
    "duration": 63,
    "start_time": "2022-04-24T14:51:09.485Z"
   },
   {
    "duration": 55,
    "start_time": "2022-04-24T14:51:09.550Z"
   },
   {
    "duration": 27,
    "start_time": "2022-04-24T14:51:09.608Z"
   },
   {
    "duration": 14,
    "start_time": "2022-04-24T14:51:09.637Z"
   },
   {
    "duration": 54,
    "start_time": "2022-04-24T14:51:09.652Z"
   },
   {
    "duration": 33,
    "start_time": "2022-04-24T14:51:09.708Z"
   },
   {
    "duration": 7,
    "start_time": "2022-04-24T14:51:09.743Z"
   },
   {
    "duration": 5,
    "start_time": "2022-04-24T14:51:09.751Z"
   },
   {
    "duration": 47,
    "start_time": "2022-04-24T14:51:09.758Z"
   },
   {
    "duration": 9,
    "start_time": "2022-04-24T14:51:09.807Z"
   },
   {
    "duration": 7,
    "start_time": "2022-04-24T14:51:09.817Z"
   },
   {
    "duration": 22,
    "start_time": "2022-04-24T14:51:09.826Z"
   },
   {
    "duration": 4,
    "start_time": "2022-04-24T14:51:09.850Z"
   },
   {
    "duration": 128,
    "start_time": "2022-04-24T14:51:09.855Z"
   },
   {
    "duration": 52,
    "start_time": "2022-04-24T14:51:09.985Z"
   },
   {
    "duration": 286,
    "start_time": "2022-04-24T14:51:10.038Z"
   },
   {
    "duration": 236,
    "start_time": "2022-04-24T14:51:10.326Z"
   },
   {
    "duration": 280,
    "start_time": "2022-04-24T14:51:10.564Z"
   },
   {
    "duration": 279,
    "start_time": "2022-04-24T14:51:10.846Z"
   },
   {
    "duration": 8,
    "start_time": "2022-04-24T14:51:11.127Z"
   },
   {
    "duration": 12,
    "start_time": "2022-04-24T14:51:16.390Z"
   },
   {
    "duration": 10,
    "start_time": "2022-04-24T14:51:51.590Z"
   },
   {
    "duration": 105,
    "start_time": "2022-04-24T14:53:59.789Z"
   },
   {
    "duration": 20,
    "start_time": "2022-04-24T14:54:17.129Z"
   },
   {
    "duration": 9,
    "start_time": "2022-04-24T14:54:34.029Z"
   },
   {
    "duration": 8,
    "start_time": "2022-04-24T14:55:25.183Z"
   },
   {
    "duration": 8,
    "start_time": "2022-04-24T15:00:42.327Z"
   },
   {
    "duration": 1203,
    "start_time": "2022-04-24T15:01:18.946Z"
   },
   {
    "duration": 389,
    "start_time": "2022-04-24T15:01:20.151Z"
   },
   {
    "duration": 74,
    "start_time": "2022-04-24T15:01:20.542Z"
   },
   {
    "duration": 13,
    "start_time": "2022-04-24T15:01:20.618Z"
   },
   {
    "duration": 29,
    "start_time": "2022-04-24T15:01:20.634Z"
   },
   {
    "duration": 8,
    "start_time": "2022-04-24T15:01:20.665Z"
   },
   {
    "duration": 46,
    "start_time": "2022-04-24T15:01:20.674Z"
   },
   {
    "duration": 7,
    "start_time": "2022-04-24T15:01:20.722Z"
   },
   {
    "duration": 17,
    "start_time": "2022-04-24T15:01:20.731Z"
   },
   {
    "duration": 9,
    "start_time": "2022-04-24T15:01:20.750Z"
   },
   {
    "duration": 57,
    "start_time": "2022-04-24T15:01:20.761Z"
   },
   {
    "duration": 10,
    "start_time": "2022-04-24T15:01:20.820Z"
   },
   {
    "duration": 16,
    "start_time": "2022-04-24T15:01:20.832Z"
   },
   {
    "duration": 265,
    "start_time": "2022-04-24T15:01:20.851Z"
   },
   {
    "duration": 86,
    "start_time": "2022-04-24T15:01:21.118Z"
   },
   {
    "duration": 122,
    "start_time": "2022-04-24T15:01:21.206Z"
   },
   {
    "duration": 4,
    "start_time": "2022-04-24T15:01:21.329Z"
   },
   {
    "duration": 65,
    "start_time": "2022-04-24T15:01:21.334Z"
   },
   {
    "duration": 31,
    "start_time": "2022-04-24T15:01:21.401Z"
   },
   {
    "duration": 28,
    "start_time": "2022-04-24T15:01:21.433Z"
   },
   {
    "duration": 36,
    "start_time": "2022-04-24T15:01:21.462Z"
   },
   {
    "duration": 26,
    "start_time": "2022-04-24T15:01:21.499Z"
   },
   {
    "duration": 32,
    "start_time": "2022-04-24T15:01:21.527Z"
   },
   {
    "duration": 6,
    "start_time": "2022-04-24T15:01:21.560Z"
   },
   {
    "duration": 28,
    "start_time": "2022-04-24T15:01:21.567Z"
   },
   {
    "duration": 32,
    "start_time": "2022-04-24T15:01:21.597Z"
   },
   {
    "duration": 11,
    "start_time": "2022-04-24T15:01:21.631Z"
   },
   {
    "duration": 29,
    "start_time": "2022-04-24T15:01:21.643Z"
   },
   {
    "duration": 29,
    "start_time": "2022-04-24T15:01:21.674Z"
   },
   {
    "duration": 5,
    "start_time": "2022-04-24T15:01:21.704Z"
   },
   {
    "duration": 128,
    "start_time": "2022-04-24T15:01:21.710Z"
   },
   {
    "duration": 42,
    "start_time": "2022-04-24T15:01:21.839Z"
   },
   {
    "duration": 268,
    "start_time": "2022-04-24T15:01:21.883Z"
   },
   {
    "duration": 210,
    "start_time": "2022-04-24T15:01:22.153Z"
   },
   {
    "duration": 253,
    "start_time": "2022-04-24T15:01:22.365Z"
   },
   {
    "duration": 249,
    "start_time": "2022-04-24T15:01:22.619Z"
   },
   {
    "duration": 9,
    "start_time": "2022-04-24T15:01:22.870Z"
   },
   {
    "duration": 8,
    "start_time": "2022-04-24T15:01:22.892Z"
   },
   {
    "duration": 239,
    "start_time": "2022-04-24T15:01:38.633Z"
   },
   {
    "duration": 242,
    "start_time": "2022-04-24T15:02:01.599Z"
   },
   {
    "duration": 316,
    "start_time": "2022-04-24T15:02:05.451Z"
   },
   {
    "duration": 232,
    "start_time": "2022-04-24T15:02:10.493Z"
   },
   {
    "duration": 1148,
    "start_time": "2022-04-24T15:02:38.094Z"
   },
   {
    "duration": 403,
    "start_time": "2022-04-24T15:02:39.244Z"
   },
   {
    "duration": 74,
    "start_time": "2022-04-24T15:02:39.649Z"
   },
   {
    "duration": 13,
    "start_time": "2022-04-24T15:02:39.726Z"
   },
   {
    "duration": 30,
    "start_time": "2022-04-24T15:02:39.741Z"
   },
   {
    "duration": 25,
    "start_time": "2022-04-24T15:02:39.773Z"
   },
   {
    "duration": 32,
    "start_time": "2022-04-24T15:02:39.800Z"
   },
   {
    "duration": 9,
    "start_time": "2022-04-24T15:02:39.833Z"
   },
   {
    "duration": 14,
    "start_time": "2022-04-24T15:02:39.844Z"
   },
   {
    "duration": 37,
    "start_time": "2022-04-24T15:02:39.862Z"
   },
   {
    "duration": 26,
    "start_time": "2022-04-24T15:02:39.902Z"
   },
   {
    "duration": 10,
    "start_time": "2022-04-24T15:02:39.930Z"
   },
   {
    "duration": 17,
    "start_time": "2022-04-24T15:02:39.941Z"
   },
   {
    "duration": 277,
    "start_time": "2022-04-24T15:02:39.960Z"
   },
   {
    "duration": 91,
    "start_time": "2022-04-24T15:02:40.239Z"
   },
   {
    "duration": 113,
    "start_time": "2022-04-24T15:02:40.332Z"
   },
   {
    "duration": 4,
    "start_time": "2022-04-24T15:02:40.446Z"
   },
   {
    "duration": 68,
    "start_time": "2022-04-24T15:02:40.452Z"
   },
   {
    "duration": 32,
    "start_time": "2022-04-24T15:02:40.521Z"
   },
   {
    "duration": 44,
    "start_time": "2022-04-24T15:02:40.554Z"
   },
   {
    "duration": 14,
    "start_time": "2022-04-24T15:02:40.600Z"
   },
   {
    "duration": 32,
    "start_time": "2022-04-24T15:02:40.616Z"
   },
   {
    "duration": 49,
    "start_time": "2022-04-24T15:02:40.649Z"
   },
   {
    "duration": 7,
    "start_time": "2022-04-24T15:02:40.700Z"
   },
   {
    "duration": 28,
    "start_time": "2022-04-24T15:02:40.709Z"
   },
   {
    "duration": 18,
    "start_time": "2022-04-24T15:02:40.739Z"
   },
   {
    "duration": 22,
    "start_time": "2022-04-24T15:02:40.758Z"
   },
   {
    "duration": 18,
    "start_time": "2022-04-24T15:02:40.783Z"
   },
   {
    "duration": 38,
    "start_time": "2022-04-24T15:02:40.803Z"
   },
   {
    "duration": 5,
    "start_time": "2022-04-24T15:02:40.842Z"
   },
   {
    "duration": 109,
    "start_time": "2022-04-24T15:02:40.848Z"
   },
   {
    "duration": 44,
    "start_time": "2022-04-24T15:02:40.959Z"
   },
   {
    "duration": 269,
    "start_time": "2022-04-24T15:02:41.005Z"
   },
   {
    "duration": 211,
    "start_time": "2022-04-24T15:02:41.275Z"
   },
   {
    "duration": 255,
    "start_time": "2022-04-24T15:02:41.491Z"
   },
   {
    "duration": 254,
    "start_time": "2022-04-24T15:02:41.747Z"
   },
   {
    "duration": 10,
    "start_time": "2022-04-24T15:02:42.002Z"
   },
   {
    "duration": 10,
    "start_time": "2022-04-24T15:02:42.014Z"
   },
   {
    "duration": 1120,
    "start_time": "2022-04-24T15:04:52.935Z"
   },
   {
    "duration": 404,
    "start_time": "2022-04-24T15:04:54.057Z"
   },
   {
    "duration": 85,
    "start_time": "2022-04-24T15:04:54.463Z"
   },
   {
    "duration": 14,
    "start_time": "2022-04-24T15:04:54.550Z"
   },
   {
    "duration": 47,
    "start_time": "2022-04-24T15:04:54.567Z"
   },
   {
    "duration": 9,
    "start_time": "2022-04-24T15:04:54.615Z"
   },
   {
    "duration": 34,
    "start_time": "2022-04-24T15:04:54.626Z"
   },
   {
    "duration": 30,
    "start_time": "2022-04-24T15:04:54.662Z"
   },
   {
    "duration": 19,
    "start_time": "2022-04-24T15:04:54.694Z"
   },
   {
    "duration": 9,
    "start_time": "2022-04-24T15:04:54.716Z"
   },
   {
    "duration": 29,
    "start_time": "2022-04-24T15:04:54.727Z"
   },
   {
    "duration": 36,
    "start_time": "2022-04-24T15:04:54.758Z"
   },
   {
    "duration": 15,
    "start_time": "2022-04-24T15:04:54.796Z"
   },
   {
    "duration": 268,
    "start_time": "2022-04-24T15:04:54.815Z"
   },
   {
    "duration": 80,
    "start_time": "2022-04-24T15:04:55.085Z"
   },
   {
    "duration": 120,
    "start_time": "2022-04-24T15:04:55.167Z"
   },
   {
    "duration": 3,
    "start_time": "2022-04-24T15:04:55.292Z"
   },
   {
    "duration": 59,
    "start_time": "2022-04-24T15:04:55.297Z"
   },
   {
    "duration": 47,
    "start_time": "2022-04-24T15:04:55.358Z"
   },
   {
    "duration": 28,
    "start_time": "2022-04-24T15:04:55.407Z"
   },
   {
    "duration": 16,
    "start_time": "2022-04-24T15:04:55.437Z"
   },
   {
    "duration": 48,
    "start_time": "2022-04-24T15:04:55.455Z"
   },
   {
    "duration": 31,
    "start_time": "2022-04-24T15:04:55.505Z"
   },
   {
    "duration": 7,
    "start_time": "2022-04-24T15:04:55.538Z"
   },
   {
    "duration": 6,
    "start_time": "2022-04-24T15:04:55.547Z"
   },
   {
    "duration": 46,
    "start_time": "2022-04-24T15:04:55.555Z"
   },
   {
    "duration": 8,
    "start_time": "2022-04-24T15:04:55.604Z"
   },
   {
    "duration": 9,
    "start_time": "2022-04-24T15:04:55.613Z"
   },
   {
    "duration": 25,
    "start_time": "2022-04-24T15:04:55.624Z"
   },
   {
    "duration": 5,
    "start_time": "2022-04-24T15:04:55.651Z"
   },
   {
    "duration": 130,
    "start_time": "2022-04-24T15:04:55.657Z"
   },
   {
    "duration": 44,
    "start_time": "2022-04-24T15:04:55.793Z"
   },
   {
    "duration": 280,
    "start_time": "2022-04-24T15:04:55.838Z"
   },
   {
    "duration": 212,
    "start_time": "2022-04-24T15:04:56.120Z"
   },
   {
    "duration": 247,
    "start_time": "2022-04-24T15:04:56.334Z"
   },
   {
    "duration": 237,
    "start_time": "2022-04-24T15:04:56.583Z"
   },
   {
    "duration": 8,
    "start_time": "2022-04-24T15:04:56.822Z"
   },
   {
    "duration": 13,
    "start_time": "2022-04-24T15:04:56.832Z"
   },
   {
    "duration": 340,
    "start_time": "2022-04-24T15:21:06.819Z"
   },
   {
    "duration": 390,
    "start_time": "2022-04-24T15:50:19.868Z"
   },
   {
    "duration": 189,
    "start_time": "2022-04-24T15:50:32.397Z"
   },
   {
    "duration": 228,
    "start_time": "2022-04-24T15:51:01.099Z"
   },
   {
    "duration": 187,
    "start_time": "2022-04-24T15:51:04.704Z"
   },
   {
    "duration": 230,
    "start_time": "2022-04-24T15:51:32.677Z"
   },
   {
    "duration": 333,
    "start_time": "2022-04-24T15:52:24.044Z"
   },
   {
    "duration": 191,
    "start_time": "2022-04-24T15:52:33.067Z"
   },
   {
    "duration": 202,
    "start_time": "2022-04-24T15:52:40.278Z"
   },
   {
    "duration": 283,
    "start_time": "2022-04-24T15:52:45.743Z"
   },
   {
    "duration": 191,
    "start_time": "2022-04-24T15:52:58.585Z"
   },
   {
    "duration": 198,
    "start_time": "2022-04-24T15:53:15.054Z"
   },
   {
    "duration": 177,
    "start_time": "2022-04-24T15:53:20.093Z"
   },
   {
    "duration": 236,
    "start_time": "2022-04-24T15:53:31.578Z"
   },
   {
    "duration": 283,
    "start_time": "2022-04-24T15:54:12.901Z"
   },
   {
    "duration": 303,
    "start_time": "2022-04-24T15:54:47.881Z"
   },
   {
    "duration": 360,
    "start_time": "2022-04-24T15:54:58.804Z"
   },
   {
    "duration": 249,
    "start_time": "2022-04-24T15:55:16.065Z"
   },
   {
    "duration": 236,
    "start_time": "2022-04-24T15:55:27.985Z"
   },
   {
    "duration": 226,
    "start_time": "2022-04-24T15:56:54.720Z"
   },
   {
    "duration": 230,
    "start_time": "2022-04-24T15:57:12.539Z"
   },
   {
    "duration": 230,
    "start_time": "2022-04-24T15:57:25.130Z"
   },
   {
    "duration": 188,
    "start_time": "2022-04-24T15:57:30.385Z"
   },
   {
    "duration": 218,
    "start_time": "2022-04-24T15:57:40.688Z"
   },
   {
    "duration": 372,
    "start_time": "2022-04-24T15:57:55.846Z"
   },
   {
    "duration": 210,
    "start_time": "2022-04-24T15:57:59.918Z"
   },
   {
    "duration": 215,
    "start_time": "2022-04-24T15:58:11.256Z"
   },
   {
    "duration": 225,
    "start_time": "2022-04-24T15:58:18.306Z"
   },
   {
    "duration": 1648,
    "start_time": "2022-04-26T13:17:55.710Z"
   },
   {
    "duration": 503,
    "start_time": "2022-04-26T13:17:57.360Z"
   },
   {
    "duration": 67,
    "start_time": "2022-04-26T13:17:57.868Z"
   },
   {
    "duration": 16,
    "start_time": "2022-04-26T13:17:57.938Z"
   },
   {
    "duration": 37,
    "start_time": "2022-04-26T13:17:57.956Z"
   },
   {
    "duration": 33,
    "start_time": "2022-04-26T13:17:57.995Z"
   },
   {
    "duration": 37,
    "start_time": "2022-04-26T13:17:58.030Z"
   },
   {
    "duration": 9,
    "start_time": "2022-04-26T13:17:58.068Z"
   },
   {
    "duration": 44,
    "start_time": "2022-04-26T13:17:58.082Z"
   },
   {
    "duration": 11,
    "start_time": "2022-04-26T13:17:58.128Z"
   },
   {
    "duration": 36,
    "start_time": "2022-04-26T13:17:58.142Z"
   },
   {
    "duration": 13,
    "start_time": "2022-04-26T13:17:58.180Z"
   },
   {
    "duration": 37,
    "start_time": "2022-04-26T13:17:58.195Z"
   },
   {
    "duration": 256,
    "start_time": "2022-04-26T13:17:58.234Z"
   },
   {
    "duration": 106,
    "start_time": "2022-04-26T13:17:58.492Z"
   },
   {
    "duration": 183,
    "start_time": "2022-04-26T13:17:58.600Z"
   },
   {
    "duration": 3,
    "start_time": "2022-04-26T13:17:58.786Z"
   },
   {
    "duration": 74,
    "start_time": "2022-04-26T13:17:58.791Z"
   },
   {
    "duration": 29,
    "start_time": "2022-04-26T13:17:58.867Z"
   },
   {
    "duration": 48,
    "start_time": "2022-04-26T13:17:58.897Z"
   },
   {
    "duration": 19,
    "start_time": "2022-04-26T13:17:58.947Z"
   },
   {
    "duration": 34,
    "start_time": "2022-04-26T13:17:58.969Z"
   },
   {
    "duration": 40,
    "start_time": "2022-04-26T13:17:59.026Z"
   },
   {
    "duration": 8,
    "start_time": "2022-04-26T13:17:59.068Z"
   },
   {
    "duration": 11,
    "start_time": "2022-04-26T13:17:59.078Z"
   },
   {
    "duration": 38,
    "start_time": "2022-04-26T13:17:59.090Z"
   },
   {
    "duration": 12,
    "start_time": "2022-04-26T13:17:59.133Z"
   },
   {
    "duration": 18,
    "start_time": "2022-04-26T13:17:59.147Z"
   },
   {
    "duration": 30,
    "start_time": "2022-04-26T13:17:59.167Z"
   },
   {
    "duration": 5,
    "start_time": "2022-04-26T13:17:59.199Z"
   },
   {
    "duration": 141,
    "start_time": "2022-04-26T13:17:59.206Z"
   },
   {
    "duration": 57,
    "start_time": "2022-04-26T13:17:59.349Z"
   },
   {
    "duration": 298,
    "start_time": "2022-04-26T13:17:59.408Z"
   },
   {
    "duration": 251,
    "start_time": "2022-04-26T13:17:59.708Z"
   },
   {
    "duration": 229,
    "start_time": "2022-04-26T13:17:59.961Z"
   },
   {
    "duration": 277,
    "start_time": "2022-04-26T13:18:00.192Z"
   },
   {
    "duration": 10,
    "start_time": "2022-04-26T13:18:00.471Z"
   },
   {
    "duration": 9,
    "start_time": "2022-04-26T13:18:00.485Z"
   },
   {
    "duration": 4,
    "start_time": "2022-04-26T13:21:00.418Z"
   },
   {
    "duration": 80,
    "start_time": "2022-04-26T13:44:05.371Z"
   },
   {
    "duration": 243,
    "start_time": "2022-04-26T13:56:57.996Z"
   },
   {
    "duration": 221,
    "start_time": "2022-04-26T13:57:09.909Z"
   },
   {
    "duration": 290,
    "start_time": "2022-04-26T13:57:53.548Z"
   },
   {
    "duration": 193,
    "start_time": "2022-04-26T13:58:07.173Z"
   },
   {
    "duration": 192,
    "start_time": "2022-04-26T13:58:16.265Z"
   },
   {
    "duration": 209,
    "start_time": "2022-04-26T13:58:31.717Z"
   },
   {
    "duration": 222,
    "start_time": "2022-04-26T13:58:38.501Z"
   },
   {
    "duration": 237,
    "start_time": "2022-04-26T13:59:13.838Z"
   },
   {
    "duration": 227,
    "start_time": "2022-04-26T13:59:30.597Z"
   },
   {
    "duration": 301,
    "start_time": "2022-04-26T13:59:46.724Z"
   },
   {
    "duration": 228,
    "start_time": "2022-04-26T14:00:00.684Z"
   },
   {
    "duration": 708,
    "start_time": "2022-04-26T14:26:06.740Z"
   },
   {
    "duration": 385,
    "start_time": "2022-04-26T14:26:17.780Z"
   },
   {
    "duration": 287,
    "start_time": "2022-04-26T14:26:25.076Z"
   },
   {
    "duration": 377,
    "start_time": "2022-04-26T14:47:39.243Z"
   },
   {
    "duration": 1346,
    "start_time": "2022-04-26T20:01:53.612Z"
   },
   {
    "duration": 402,
    "start_time": "2022-04-26T20:01:54.960Z"
   },
   {
    "duration": 74,
    "start_time": "2022-04-26T20:01:55.364Z"
   },
   {
    "duration": 14,
    "start_time": "2022-04-26T20:01:55.441Z"
   },
   {
    "duration": 29,
    "start_time": "2022-04-26T20:01:55.457Z"
   },
   {
    "duration": 8,
    "start_time": "2022-04-26T20:01:55.488Z"
   },
   {
    "duration": 52,
    "start_time": "2022-04-26T20:01:55.498Z"
   },
   {
    "duration": 7,
    "start_time": "2022-04-26T20:01:55.552Z"
   },
   {
    "duration": 20,
    "start_time": "2022-04-26T20:01:55.561Z"
   },
   {
    "duration": 39,
    "start_time": "2022-04-26T20:01:55.584Z"
   },
   {
    "duration": 33,
    "start_time": "2022-04-26T20:01:55.625Z"
   },
   {
    "duration": 12,
    "start_time": "2022-04-26T20:01:55.659Z"
   },
   {
    "duration": 22,
    "start_time": "2022-04-26T20:01:55.673Z"
   },
   {
    "duration": 305,
    "start_time": "2022-04-26T20:01:55.696Z"
   },
   {
    "duration": 86,
    "start_time": "2022-04-26T20:01:56.003Z"
   },
   {
    "duration": 111,
    "start_time": "2022-04-26T20:01:56.090Z"
   },
   {
    "duration": 3,
    "start_time": "2022-04-26T20:01:56.203Z"
   },
   {
    "duration": 62,
    "start_time": "2022-04-26T20:01:56.208Z"
   },
   {
    "duration": 28,
    "start_time": "2022-04-26T20:01:56.272Z"
   },
   {
    "duration": 48,
    "start_time": "2022-04-26T20:01:56.302Z"
   },
   {
    "duration": 14,
    "start_time": "2022-04-26T20:01:56.352Z"
   },
   {
    "duration": 23,
    "start_time": "2022-04-26T20:01:56.368Z"
   },
   {
    "duration": 59,
    "start_time": "2022-04-26T20:01:56.393Z"
   },
   {
    "duration": 7,
    "start_time": "2022-04-26T20:01:56.454Z"
   },
   {
    "duration": 6,
    "start_time": "2022-04-26T20:01:56.463Z"
   },
   {
    "duration": 16,
    "start_time": "2022-04-26T20:01:56.470Z"
   },
   {
    "duration": 7,
    "start_time": "2022-04-26T20:01:56.488Z"
   },
   {
    "duration": 38,
    "start_time": "2022-04-26T20:01:56.498Z"
   },
   {
    "duration": 28,
    "start_time": "2022-04-26T20:01:56.538Z"
   },
   {
    "duration": 4,
    "start_time": "2022-04-26T20:01:56.568Z"
   },
   {
    "duration": 115,
    "start_time": "2022-04-26T20:01:56.575Z"
   },
   {
    "duration": 62,
    "start_time": "2022-04-26T20:01:56.692Z"
   },
   {
    "duration": 279,
    "start_time": "2022-04-26T20:01:56.756Z"
   },
   {
    "duration": 313,
    "start_time": "2022-04-26T20:01:57.037Z"
   },
   {
    "duration": 212,
    "start_time": "2022-04-26T20:01:57.352Z"
   },
   {
    "duration": 248,
    "start_time": "2022-04-26T20:01:57.566Z"
   },
   {
    "duration": 26,
    "start_time": "2022-04-26T20:01:57.816Z"
   },
   {
    "duration": 16,
    "start_time": "2022-04-26T20:01:57.847Z"
   },
   {
    "duration": 1100,
    "start_time": "2022-05-02T07:18:31.816Z"
   },
   {
    "duration": 383,
    "start_time": "2022-05-02T07:18:32.918Z"
   },
   {
    "duration": 62,
    "start_time": "2022-05-02T07:18:33.302Z"
   },
   {
    "duration": 9,
    "start_time": "2022-05-02T07:18:33.366Z"
   },
   {
    "duration": 43,
    "start_time": "2022-05-02T07:18:33.377Z"
   },
   {
    "duration": 8,
    "start_time": "2022-05-02T07:18:33.421Z"
   },
   {
    "duration": 30,
    "start_time": "2022-05-02T07:18:33.430Z"
   },
   {
    "duration": 6,
    "start_time": "2022-05-02T07:18:33.462Z"
   },
   {
    "duration": 31,
    "start_time": "2022-05-02T07:18:33.470Z"
   },
   {
    "duration": 7,
    "start_time": "2022-05-02T07:18:33.505Z"
   },
   {
    "duration": 26,
    "start_time": "2022-05-02T07:18:33.513Z"
   },
   {
    "duration": 9,
    "start_time": "2022-05-02T07:18:33.540Z"
   },
   {
    "duration": 13,
    "start_time": "2022-05-02T07:18:33.550Z"
   },
   {
    "duration": 217,
    "start_time": "2022-05-02T07:18:33.565Z"
   },
   {
    "duration": 73,
    "start_time": "2022-05-02T07:18:33.784Z"
   },
   {
    "duration": 101,
    "start_time": "2022-05-02T07:18:33.859Z"
   },
   {
    "duration": 3,
    "start_time": "2022-05-02T07:18:33.961Z"
   },
   {
    "duration": 56,
    "start_time": "2022-05-02T07:18:33.965Z"
   },
   {
    "duration": 26,
    "start_time": "2022-05-02T07:18:34.023Z"
   },
   {
    "duration": 22,
    "start_time": "2022-05-02T07:18:34.050Z"
   },
   {
    "duration": 28,
    "start_time": "2022-05-02T07:18:34.073Z"
   },
   {
    "duration": 22,
    "start_time": "2022-05-02T07:18:34.102Z"
   },
   {
    "duration": 26,
    "start_time": "2022-05-02T07:18:34.126Z"
   },
   {
    "duration": 5,
    "start_time": "2022-05-02T07:18:34.154Z"
   },
   {
    "duration": 5,
    "start_time": "2022-05-02T07:18:34.161Z"
   },
   {
    "duration": 40,
    "start_time": "2022-05-02T07:18:34.167Z"
   },
   {
    "duration": 6,
    "start_time": "2022-05-02T07:18:34.208Z"
   },
   {
    "duration": 7,
    "start_time": "2022-05-02T07:18:34.217Z"
   },
   {
    "duration": 9,
    "start_time": "2022-05-02T07:18:34.225Z"
   },
   {
    "duration": 22,
    "start_time": "2022-05-02T07:18:34.236Z"
   },
   {
    "duration": 3,
    "start_time": "2022-05-02T07:18:34.259Z"
   },
   {
    "duration": 102,
    "start_time": "2022-05-02T07:18:34.264Z"
   },
   {
    "duration": 50,
    "start_time": "2022-05-02T07:18:34.368Z"
   },
   {
    "duration": 224,
    "start_time": "2022-05-02T07:18:34.420Z"
   },
   {
    "duration": 259,
    "start_time": "2022-05-02T07:18:34.646Z"
   },
   {
    "duration": 187,
    "start_time": "2022-05-02T07:18:34.906Z"
   },
   {
    "duration": 230,
    "start_time": "2022-05-02T07:18:35.094Z"
   },
   {
    "duration": 9,
    "start_time": "2022-05-02T07:18:35.326Z"
   },
   {
    "duration": 10,
    "start_time": "2022-05-02T07:18:35.336Z"
   },
   {
    "duration": 40,
    "start_time": "2022-05-02T07:21:39.577Z"
   },
   {
    "duration": 15,
    "start_time": "2022-05-02T07:21:41.134Z"
   },
   {
    "duration": 5,
    "start_time": "2022-05-02T07:21:44.995Z"
   },
   {
    "duration": 87,
    "start_time": "2022-05-02T07:21:55.961Z"
   },
   {
    "duration": 11,
    "start_time": "2022-05-02T07:21:58.969Z"
   },
   {
    "duration": 10,
    "start_time": "2022-05-02T07:22:02.766Z"
   },
   {
    "duration": 4,
    "start_time": "2022-05-02T07:22:04.834Z"
   },
   {
    "duration": 10,
    "start_time": "2022-05-02T07:24:44.187Z"
   },
   {
    "duration": 6,
    "start_time": "2022-05-02T07:24:47.023Z"
   },
   {
    "duration": 4,
    "start_time": "2022-05-02T07:25:01.248Z"
   },
   {
    "duration": 4,
    "start_time": "2022-05-02T07:25:18.717Z"
   },
   {
    "duration": 14,
    "start_time": "2022-05-02T07:25:57.542Z"
   },
   {
    "duration": 1224,
    "start_time": "2022-05-02T07:35:54.327Z"
   },
   {
    "duration": 398,
    "start_time": "2022-05-02T07:35:55.553Z"
   },
   {
    "duration": 71,
    "start_time": "2022-05-02T07:35:55.953Z"
   },
   {
    "duration": 10,
    "start_time": "2022-05-02T07:35:56.026Z"
   },
   {
    "duration": 26,
    "start_time": "2022-05-02T07:35:56.038Z"
   },
   {
    "duration": 7,
    "start_time": "2022-05-02T07:35:56.065Z"
   },
   {
    "duration": 53,
    "start_time": "2022-05-02T07:35:56.074Z"
   },
   {
    "duration": 6,
    "start_time": "2022-05-02T07:35:56.128Z"
   },
   {
    "duration": 13,
    "start_time": "2022-05-02T07:35:56.136Z"
   },
   {
    "duration": 6,
    "start_time": "2022-05-02T07:35:56.152Z"
   },
   {
    "duration": 49,
    "start_time": "2022-05-02T07:35:56.159Z"
   },
   {
    "duration": 10,
    "start_time": "2022-05-02T07:35:56.211Z"
   },
   {
    "duration": 13,
    "start_time": "2022-05-02T07:35:56.223Z"
   },
   {
    "duration": 212,
    "start_time": "2022-05-02T07:35:56.238Z"
   },
   {
    "duration": 80,
    "start_time": "2022-05-02T07:35:56.452Z"
   },
   {
    "duration": 109,
    "start_time": "2022-05-02T07:35:56.534Z"
   },
   {
    "duration": 4,
    "start_time": "2022-05-02T07:35:56.644Z"
   },
   {
    "duration": 60,
    "start_time": "2022-05-02T07:35:56.650Z"
   },
   {
    "duration": 29,
    "start_time": "2022-05-02T07:35:56.711Z"
   },
   {
    "duration": 22,
    "start_time": "2022-05-02T07:35:56.741Z"
   },
   {
    "duration": 13,
    "start_time": "2022-05-02T07:35:56.764Z"
   },
   {
    "duration": 49,
    "start_time": "2022-05-02T07:35:56.778Z"
   },
   {
    "duration": 27,
    "start_time": "2022-05-02T07:35:56.828Z"
   },
   {
    "duration": 5,
    "start_time": "2022-05-02T07:35:56.857Z"
   },
   {
    "duration": 5,
    "start_time": "2022-05-02T07:35:56.864Z"
   },
   {
    "duration": 48,
    "start_time": "2022-05-02T07:35:56.870Z"
   },
   {
    "duration": 7,
    "start_time": "2022-05-02T07:35:56.920Z"
   },
   {
    "duration": 6,
    "start_time": "2022-05-02T07:35:56.930Z"
   },
   {
    "duration": 19,
    "start_time": "2022-05-02T07:35:56.938Z"
   },
   {
    "duration": 4,
    "start_time": "2022-05-02T07:35:56.959Z"
   },
   {
    "duration": 117,
    "start_time": "2022-05-02T07:35:56.964Z"
   },
   {
    "duration": 57,
    "start_time": "2022-05-02T07:35:57.082Z"
   },
   {
    "duration": 238,
    "start_time": "2022-05-02T07:35:57.141Z"
   },
   {
    "duration": 285,
    "start_time": "2022-05-02T07:35:57.381Z"
   },
   {
    "duration": 203,
    "start_time": "2022-05-02T07:35:57.668Z"
   },
   {
    "duration": 237,
    "start_time": "2022-05-02T07:35:57.873Z"
   },
   {
    "duration": 7,
    "start_time": "2022-05-02T07:35:58.112Z"
   },
   {
    "duration": 21,
    "start_time": "2022-05-02T07:35:58.122Z"
   },
   {
    "duration": 1471,
    "start_time": "2022-05-02T07:36:10.027Z"
   },
   {
    "duration": 411,
    "start_time": "2022-05-02T07:36:11.503Z"
   },
   {
    "duration": 62,
    "start_time": "2022-05-02T07:36:11.916Z"
   },
   {
    "duration": 9,
    "start_time": "2022-05-02T07:36:11.980Z"
   },
   {
    "duration": 40,
    "start_time": "2022-05-02T07:36:11.991Z"
   },
   {
    "duration": 7,
    "start_time": "2022-05-02T07:36:12.032Z"
   },
   {
    "duration": 26,
    "start_time": "2022-05-02T07:36:12.041Z"
   },
   {
    "duration": 6,
    "start_time": "2022-05-02T07:36:12.069Z"
   },
   {
    "duration": 38,
    "start_time": "2022-05-02T07:36:12.076Z"
   },
   {
    "duration": 7,
    "start_time": "2022-05-02T07:36:12.118Z"
   },
   {
    "duration": 31,
    "start_time": "2022-05-02T07:36:12.127Z"
   },
   {
    "duration": 9,
    "start_time": "2022-05-02T07:36:12.159Z"
   },
   {
    "duration": 17,
    "start_time": "2022-05-02T07:36:12.169Z"
   },
   {
    "duration": 244,
    "start_time": "2022-05-02T07:36:12.187Z"
   },
   {
    "duration": 70,
    "start_time": "2022-05-02T07:36:12.433Z"
   },
   {
    "duration": 111,
    "start_time": "2022-05-02T07:36:12.506Z"
   },
   {
    "duration": 3,
    "start_time": "2022-05-02T07:36:12.619Z"
   },
   {
    "duration": 47,
    "start_time": "2022-05-02T07:36:12.623Z"
   },
   {
    "duration": 43,
    "start_time": "2022-05-02T07:36:12.672Z"
   },
   {
    "duration": 23,
    "start_time": "2022-05-02T07:36:12.718Z"
   },
   {
    "duration": 12,
    "start_time": "2022-05-02T07:36:12.742Z"
   },
   {
    "duration": 22,
    "start_time": "2022-05-02T07:36:12.756Z"
   },
   {
    "duration": 51,
    "start_time": "2022-05-02T07:36:12.779Z"
   },
   {
    "duration": 6,
    "start_time": "2022-05-02T07:36:12.831Z"
   },
   {
    "duration": 10,
    "start_time": "2022-05-02T07:36:12.838Z"
   },
   {
    "duration": 21,
    "start_time": "2022-05-02T07:36:12.850Z"
   },
   {
    "duration": 6,
    "start_time": "2022-05-02T07:36:12.873Z"
   },
   {
    "duration": 11,
    "start_time": "2022-05-02T07:36:12.900Z"
   },
   {
    "duration": 25,
    "start_time": "2022-05-02T07:36:12.913Z"
   },
   {
    "duration": 3,
    "start_time": "2022-05-02T07:36:12.940Z"
   },
   {
    "duration": 111,
    "start_time": "2022-05-02T07:36:12.945Z"
   },
   {
    "duration": 48,
    "start_time": "2022-05-02T07:36:13.057Z"
   },
   {
    "duration": 238,
    "start_time": "2022-05-02T07:36:13.108Z"
   },
   {
    "duration": 287,
    "start_time": "2022-05-02T07:36:13.347Z"
   },
   {
    "duration": 196,
    "start_time": "2022-05-02T07:36:13.636Z"
   },
   {
    "duration": 224,
    "start_time": "2022-05-02T07:36:13.834Z"
   },
   {
    "duration": 7,
    "start_time": "2022-05-02T07:36:14.060Z"
   },
   {
    "duration": 9,
    "start_time": "2022-05-02T07:36:14.069Z"
   },
   {
    "duration": 71,
    "start_time": "2022-05-02T08:52:22.560Z"
   },
   {
    "duration": 1781,
    "start_time": "2022-05-02T08:52:39.516Z"
   },
   {
    "duration": 525,
    "start_time": "2022-05-02T08:52:41.300Z"
   },
   {
    "duration": 116,
    "start_time": "2022-05-02T08:52:41.828Z"
   },
   {
    "duration": 17,
    "start_time": "2022-05-02T08:52:41.948Z"
   },
   {
    "duration": 66,
    "start_time": "2022-05-02T08:52:41.968Z"
   },
   {
    "duration": 13,
    "start_time": "2022-05-02T08:52:42.036Z"
   },
   {
    "duration": 42,
    "start_time": "2022-05-02T08:52:42.051Z"
   },
   {
    "duration": 11,
    "start_time": "2022-05-02T08:52:42.124Z"
   },
   {
    "duration": 21,
    "start_time": "2022-05-02T08:52:42.137Z"
   },
   {
    "duration": 13,
    "start_time": "2022-05-02T08:52:42.161Z"
   },
   {
    "duration": 82,
    "start_time": "2022-05-02T08:52:42.177Z"
   },
   {
    "duration": 15,
    "start_time": "2022-05-02T08:52:42.262Z"
   },
   {
    "duration": 52,
    "start_time": "2022-05-02T08:52:42.279Z"
   },
   {
    "duration": 474,
    "start_time": "2022-05-02T08:52:42.334Z"
   },
   {
    "duration": 182,
    "start_time": "2022-05-02T08:52:42.810Z"
   },
   {
    "duration": 7,
    "start_time": "2022-05-02T08:52:42.995Z"
   },
   {
    "duration": 5,
    "start_time": "2022-05-02T08:52:52.313Z"
   },
   {
    "duration": 94,
    "start_time": "2022-05-02T08:53:08.748Z"
   },
   {
    "duration": 57,
    "start_time": "2022-05-02T08:53:17.848Z"
   },
   {
    "duration": 36,
    "start_time": "2022-05-02T08:53:38.889Z"
   },
   {
    "duration": 5,
    "start_time": "2022-05-02T09:01:51.744Z"
   },
   {
    "duration": 24,
    "start_time": "2022-05-02T09:01:59.682Z"
   },
   {
    "duration": 34,
    "start_time": "2022-05-02T09:02:45.046Z"
   },
   {
    "duration": 142,
    "start_time": "2022-05-02T09:06:20.627Z"
   },
   {
    "duration": 56,
    "start_time": "2022-05-02T09:06:28.883Z"
   },
   {
    "duration": 12,
    "start_time": "2022-05-02T09:06:32.554Z"
   },
   {
    "duration": 1677,
    "start_time": "2022-05-02T09:06:57.810Z"
   },
   {
    "duration": 1691,
    "start_time": "2022-05-02T09:07:23.303Z"
   },
   {
    "duration": 8,
    "start_time": "2022-05-02T09:07:40.986Z"
   },
   {
    "duration": 2010,
    "start_time": "2022-05-02T09:08:10.395Z"
   },
   {
    "duration": 729,
    "start_time": "2022-05-02T09:08:12.408Z"
   },
   {
    "duration": 155,
    "start_time": "2022-05-02T09:08:13.139Z"
   },
   {
    "duration": 39,
    "start_time": "2022-05-02T09:08:13.297Z"
   },
   {
    "duration": 52,
    "start_time": "2022-05-02T09:08:13.338Z"
   },
   {
    "duration": 37,
    "start_time": "2022-05-02T09:08:13.392Z"
   },
   {
    "duration": 44,
    "start_time": "2022-05-02T09:08:13.432Z"
   },
   {
    "duration": 47,
    "start_time": "2022-05-02T09:08:13.478Z"
   },
   {
    "duration": 18,
    "start_time": "2022-05-02T09:08:13.527Z"
   },
   {
    "duration": 14,
    "start_time": "2022-05-02T09:08:13.549Z"
   },
   {
    "duration": 87,
    "start_time": "2022-05-02T09:08:13.565Z"
   },
   {
    "duration": 16,
    "start_time": "2022-05-02T09:08:13.654Z"
   },
   {
    "duration": 54,
    "start_time": "2022-05-02T09:08:13.672Z"
   },
   {
    "duration": 372,
    "start_time": "2022-05-02T09:08:13.728Z"
   },
   {
    "duration": 122,
    "start_time": "2022-05-02T09:08:14.102Z"
   },
   {
    "duration": 5,
    "start_time": "2022-05-02T09:08:14.227Z"
   },
   {
    "duration": 6,
    "start_time": "2022-05-02T09:08:14.234Z"
   },
   {
    "duration": 100,
    "start_time": "2022-05-02T09:08:14.242Z"
   },
   {
    "duration": 44,
    "start_time": "2022-05-02T09:08:14.344Z"
   },
   {
    "duration": 59,
    "start_time": "2022-05-02T09:08:14.390Z"
   },
   {
    "duration": 5,
    "start_time": "2022-05-02T09:08:14.452Z"
   },
   {
    "duration": 30,
    "start_time": "2022-05-02T09:08:14.459Z"
   },
   {
    "duration": 32,
    "start_time": "2022-05-02T09:08:14.525Z"
   },
   {
    "duration": 93,
    "start_time": "2022-05-02T09:08:14.559Z"
   },
   {
    "duration": 12,
    "start_time": "2022-05-02T09:08:14.654Z"
   },
   {
    "duration": 11,
    "start_time": "2022-05-02T09:08:20.667Z"
   },
   {
    "duration": 10,
    "start_time": "2022-05-02T09:08:43.930Z"
   },
   {
    "duration": 152,
    "start_time": "2022-05-02T09:08:58.460Z"
   },
   {
    "duration": 15,
    "start_time": "2022-05-02T09:09:12.492Z"
   },
   {
    "duration": 34,
    "start_time": "2022-05-02T09:09:30.805Z"
   },
   {
    "duration": 31,
    "start_time": "2022-05-02T09:10:13.481Z"
   },
   {
    "duration": 18,
    "start_time": "2022-05-02T09:10:33.799Z"
   },
   {
    "duration": 7,
    "start_time": "2022-05-02T09:10:51.843Z"
   },
   {
    "duration": 23,
    "start_time": "2022-05-02T09:10:52.858Z"
   },
   {
    "duration": 1622,
    "start_time": "2022-05-02T09:11:23.451Z"
   },
   {
    "duration": 560,
    "start_time": "2022-05-02T09:11:25.076Z"
   },
   {
    "duration": 122,
    "start_time": "2022-05-02T09:11:25.639Z"
   },
   {
    "duration": 21,
    "start_time": "2022-05-02T09:11:25.766Z"
   },
   {
    "duration": 84,
    "start_time": "2022-05-02T09:11:25.790Z"
   },
   {
    "duration": 15,
    "start_time": "2022-05-02T09:11:25.877Z"
   },
   {
    "duration": 74,
    "start_time": "2022-05-02T09:11:25.894Z"
   },
   {
    "duration": 11,
    "start_time": "2022-05-02T09:11:25.970Z"
   },
   {
    "duration": 60,
    "start_time": "2022-05-02T09:11:25.984Z"
   },
   {
    "duration": 16,
    "start_time": "2022-05-02T09:11:26.050Z"
   },
   {
    "duration": 94,
    "start_time": "2022-05-02T09:11:26.069Z"
   },
   {
    "duration": 14,
    "start_time": "2022-05-02T09:11:26.165Z"
   },
   {
    "duration": 24,
    "start_time": "2022-05-02T09:11:26.182Z"
   },
   {
    "duration": 470,
    "start_time": "2022-05-02T09:11:26.225Z"
   },
   {
    "duration": 191,
    "start_time": "2022-05-02T09:11:26.697Z"
   },
   {
    "duration": 7,
    "start_time": "2022-05-02T09:11:26.891Z"
   },
   {
    "duration": 28,
    "start_time": "2022-05-02T09:11:26.900Z"
   },
   {
    "duration": 87,
    "start_time": "2022-05-02T09:11:26.931Z"
   },
   {
    "duration": 54,
    "start_time": "2022-05-02T09:11:27.025Z"
   },
   {
    "duration": 80,
    "start_time": "2022-05-02T09:11:27.081Z"
   },
   {
    "duration": 6,
    "start_time": "2022-05-02T09:11:27.163Z"
   },
   {
    "duration": 37,
    "start_time": "2022-05-02T09:11:27.171Z"
   },
   {
    "duration": 55,
    "start_time": "2022-05-02T09:11:27.210Z"
   },
   {
    "duration": 88,
    "start_time": "2022-05-02T09:11:27.268Z"
   },
   {
    "duration": 15,
    "start_time": "2022-05-02T09:11:34.023Z"
   },
   {
    "duration": 32,
    "start_time": "2022-05-02T09:11:51.979Z"
   },
   {
    "duration": 2204,
    "start_time": "2022-05-02T09:13:40.586Z"
   },
   {
    "duration": 1023,
    "start_time": "2022-05-02T09:14:17.365Z"
   },
   {
    "duration": 1070,
    "start_time": "2022-05-02T09:14:36.248Z"
   },
   {
    "duration": 1491,
    "start_time": "2022-05-02T09:14:51.286Z"
   },
   {
    "duration": 521,
    "start_time": "2022-05-02T09:14:52.780Z"
   },
   {
    "duration": 100,
    "start_time": "2022-05-02T09:14:53.303Z"
   },
   {
    "duration": 25,
    "start_time": "2022-05-02T09:14:53.406Z"
   },
   {
    "duration": 41,
    "start_time": "2022-05-02T09:14:53.434Z"
   },
   {
    "duration": 13,
    "start_time": "2022-05-02T09:14:53.477Z"
   },
   {
    "duration": 41,
    "start_time": "2022-05-02T09:14:53.524Z"
   },
   {
    "duration": 11,
    "start_time": "2022-05-02T09:14:53.567Z"
   },
   {
    "duration": 56,
    "start_time": "2022-05-02T09:14:53.581Z"
   },
   {
    "duration": 15,
    "start_time": "2022-05-02T09:14:53.641Z"
   },
   {
    "duration": 76,
    "start_time": "2022-05-02T09:14:53.658Z"
   },
   {
    "duration": 16,
    "start_time": "2022-05-02T09:14:53.736Z"
   },
   {
    "duration": 37,
    "start_time": "2022-05-02T09:14:53.754Z"
   },
   {
    "duration": 412,
    "start_time": "2022-05-02T09:14:53.794Z"
   },
   {
    "duration": 196,
    "start_time": "2022-05-02T09:14:54.209Z"
   },
   {
    "duration": 19,
    "start_time": "2022-05-02T09:14:54.408Z"
   },
   {
    "duration": 6,
    "start_time": "2022-05-02T09:14:54.430Z"
   },
   {
    "duration": 103,
    "start_time": "2022-05-02T09:14:54.439Z"
   },
   {
    "duration": 43,
    "start_time": "2022-05-02T09:14:54.544Z"
   },
   {
    "duration": 63,
    "start_time": "2022-05-02T09:14:54.590Z"
   },
   {
    "duration": 6,
    "start_time": "2022-05-02T09:14:54.656Z"
   },
   {
    "duration": 62,
    "start_time": "2022-05-02T09:14:54.664Z"
   },
   {
    "duration": 37,
    "start_time": "2022-05-02T09:14:54.729Z"
   },
   {
    "duration": 91,
    "start_time": "2022-05-02T09:14:54.769Z"
   },
   {
    "duration": 12,
    "start_time": "2022-05-02T09:14:54.863Z"
   },
   {
    "duration": 1025,
    "start_time": "2022-05-02T09:14:59.369Z"
   },
   {
    "duration": 1766,
    "start_time": "2022-05-02T09:15:14.022Z"
   },
   {
    "duration": 4,
    "start_time": "2022-05-02T09:15:21.935Z"
   },
   {
    "duration": 1788,
    "start_time": "2022-05-02T09:15:32.778Z"
   },
   {
    "duration": 8,
    "start_time": "2022-05-02T09:15:53.990Z"
   },
   {
    "duration": 908,
    "start_time": "2022-05-02T09:16:45.832Z"
   },
   {
    "duration": 13,
    "start_time": "2022-05-02T09:22:15.025Z"
   },
   {
    "duration": 7,
    "start_time": "2022-05-02T09:22:20.886Z"
   },
   {
    "duration": 29,
    "start_time": "2022-05-02T09:22:27.162Z"
   },
   {
    "duration": 13,
    "start_time": "2022-05-02T09:23:24.876Z"
   },
   {
    "duration": 14,
    "start_time": "2022-05-02T09:23:37.881Z"
   },
   {
    "duration": 14,
    "start_time": "2022-05-02T09:29:50.781Z"
   },
   {
    "duration": 18,
    "start_time": "2022-05-02T09:33:36.572Z"
   },
   {
    "duration": 38,
    "start_time": "2022-05-02T09:34:23.148Z"
   },
   {
    "duration": 33,
    "start_time": "2022-05-02T09:34:26.243Z"
   },
   {
    "duration": 1420,
    "start_time": "2022-05-02T09:44:05.854Z"
   },
   {
    "duration": 496,
    "start_time": "2022-05-02T09:44:07.277Z"
   },
   {
    "duration": 101,
    "start_time": "2022-05-02T09:44:07.775Z"
   },
   {
    "duration": 16,
    "start_time": "2022-05-02T09:44:07.879Z"
   },
   {
    "duration": 62,
    "start_time": "2022-05-02T09:44:07.898Z"
   },
   {
    "duration": 15,
    "start_time": "2022-05-02T09:44:07.963Z"
   },
   {
    "duration": 87,
    "start_time": "2022-05-02T09:44:07.981Z"
   },
   {
    "duration": 11,
    "start_time": "2022-05-02T09:44:08.069Z"
   },
   {
    "duration": 48,
    "start_time": "2022-05-02T09:44:08.082Z"
   },
   {
    "duration": 14,
    "start_time": "2022-05-02T09:44:08.133Z"
   },
   {
    "duration": 53,
    "start_time": "2022-05-02T09:44:08.150Z"
   },
   {
    "duration": 31,
    "start_time": "2022-05-02T09:44:08.205Z"
   },
   {
    "duration": 25,
    "start_time": "2022-05-02T09:44:08.238Z"
   },
   {
    "duration": 354,
    "start_time": "2022-05-02T09:44:08.265Z"
   },
   {
    "duration": 122,
    "start_time": "2022-05-02T09:44:08.625Z"
   },
   {
    "duration": 5,
    "start_time": "2022-05-02T09:44:08.750Z"
   },
   {
    "duration": 12,
    "start_time": "2022-05-02T09:44:08.757Z"
   },
   {
    "duration": 94,
    "start_time": "2022-05-02T09:44:08.771Z"
   },
   {
    "duration": 41,
    "start_time": "2022-05-02T09:44:08.867Z"
   },
   {
    "duration": 43,
    "start_time": "2022-05-02T09:44:08.910Z"
   },
   {
    "duration": 5,
    "start_time": "2022-05-02T09:44:08.955Z"
   },
   {
    "duration": 30,
    "start_time": "2022-05-02T09:44:08.962Z"
   },
   {
    "duration": 33,
    "start_time": "2022-05-02T09:44:09.025Z"
   },
   {
    "duration": 73,
    "start_time": "2022-05-02T09:44:09.060Z"
   },
   {
    "duration": 10,
    "start_time": "2022-05-02T09:44:09.135Z"
   },
   {
    "duration": 6,
    "start_time": "2022-05-02T09:44:13.272Z"
   },
   {
    "duration": 6,
    "start_time": "2022-05-02T09:44:22.494Z"
   },
   {
    "duration": 1957,
    "start_time": "2022-05-02T09:49:24.549Z"
   },
   {
    "duration": 7,
    "start_time": "2022-05-02T09:49:48.701Z"
   },
   {
    "duration": 26,
    "start_time": "2022-05-02T09:49:56.109Z"
   },
   {
    "duration": 25,
    "start_time": "2022-05-02T09:50:52.998Z"
   },
   {
    "duration": 106,
    "start_time": "2022-05-02T09:52:12.360Z"
   },
   {
    "duration": 30,
    "start_time": "2022-05-02T09:52:33.167Z"
   },
   {
    "duration": 15,
    "start_time": "2022-05-02T09:54:29.241Z"
   },
   {
    "duration": 7,
    "start_time": "2022-05-02T09:54:38.110Z"
   },
   {
    "duration": 40,
    "start_time": "2022-05-02T09:54:41.084Z"
   },
   {
    "duration": 250,
    "start_time": "2022-05-02T09:57:34.991Z"
   },
   {
    "duration": 132,
    "start_time": "2022-05-02T09:58:31.395Z"
   },
   {
    "duration": 1832,
    "start_time": "2022-05-02T09:58:38.469Z"
   },
   {
    "duration": 686,
    "start_time": "2022-05-02T09:58:40.304Z"
   },
   {
    "duration": 246,
    "start_time": "2022-05-02T09:58:40.992Z"
   },
   {
    "duration": 18,
    "start_time": "2022-05-02T09:58:41.244Z"
   },
   {
    "duration": 80,
    "start_time": "2022-05-02T09:58:41.265Z"
   },
   {
    "duration": 14,
    "start_time": "2022-05-02T09:58:41.347Z"
   },
   {
    "duration": 75,
    "start_time": "2022-05-02T09:58:41.364Z"
   },
   {
    "duration": 11,
    "start_time": "2022-05-02T09:58:41.442Z"
   },
   {
    "duration": 24,
    "start_time": "2022-05-02T09:58:41.456Z"
   },
   {
    "duration": 41,
    "start_time": "2022-05-02T09:58:41.486Z"
   },
   {
    "duration": 41,
    "start_time": "2022-05-02T09:58:41.530Z"
   },
   {
    "duration": 51,
    "start_time": "2022-05-02T09:58:41.575Z"
   },
   {
    "duration": 29,
    "start_time": "2022-05-02T09:58:41.629Z"
   },
   {
    "duration": 403,
    "start_time": "2022-05-02T09:58:41.661Z"
   },
   {
    "duration": 129,
    "start_time": "2022-05-02T09:58:42.067Z"
   },
   {
    "duration": 6,
    "start_time": "2022-05-02T09:58:42.198Z"
   },
   {
    "duration": 19,
    "start_time": "2022-05-02T09:58:42.207Z"
   },
   {
    "duration": 79,
    "start_time": "2022-05-02T09:58:42.229Z"
   },
   {
    "duration": 41,
    "start_time": "2022-05-02T09:58:42.325Z"
   },
   {
    "duration": 59,
    "start_time": "2022-05-02T09:58:42.368Z"
   },
   {
    "duration": 7,
    "start_time": "2022-05-02T09:58:42.430Z"
   },
   {
    "duration": 39,
    "start_time": "2022-05-02T09:58:42.439Z"
   },
   {
    "duration": 74,
    "start_time": "2022-05-02T09:58:42.481Z"
   },
   {
    "duration": 72,
    "start_time": "2022-05-02T09:58:42.558Z"
   },
   {
    "duration": 12,
    "start_time": "2022-05-02T09:58:42.633Z"
   },
   {
    "duration": 42,
    "start_time": "2022-05-02T09:58:42.648Z"
   },
   {
    "duration": 33,
    "start_time": "2022-05-02T09:58:42.693Z"
   },
   {
    "duration": 7,
    "start_time": "2022-05-02T09:58:42.731Z"
   },
   {
    "duration": 62,
    "start_time": "2022-05-02T09:58:42.740Z"
   },
   {
    "duration": 45,
    "start_time": "2022-05-02T09:58:42.805Z"
   },
   {
    "duration": 195,
    "start_time": "2022-05-02T09:59:22.014Z"
   },
   {
    "duration": 100,
    "start_time": "2022-05-02T09:59:30.327Z"
   },
   {
    "duration": 107,
    "start_time": "2022-05-02T09:59:36.428Z"
   },
   {
    "duration": 111,
    "start_time": "2022-05-02T09:59:45.096Z"
   },
   {
    "duration": 257,
    "start_time": "2022-05-02T09:59:51.825Z"
   },
   {
    "duration": 27,
    "start_time": "2022-05-02T10:00:22.536Z"
   },
   {
    "duration": 5,
    "start_time": "2022-05-02T10:00:32.421Z"
   },
   {
    "duration": 528,
    "start_time": "2022-05-02T10:00:32.429Z"
   },
   {
    "duration": 122,
    "start_time": "2022-05-02T10:00:32.959Z"
   },
   {
    "duration": 16,
    "start_time": "2022-05-02T10:00:33.084Z"
   },
   {
    "duration": 61,
    "start_time": "2022-05-02T10:00:33.103Z"
   },
   {
    "duration": 15,
    "start_time": "2022-05-02T10:00:33.167Z"
   },
   {
    "duration": 72,
    "start_time": "2022-05-02T10:00:33.185Z"
   },
   {
    "duration": 12,
    "start_time": "2022-05-02T10:00:33.260Z"
   },
   {
    "duration": 53,
    "start_time": "2022-05-02T10:00:33.276Z"
   },
   {
    "duration": 13,
    "start_time": "2022-05-02T10:00:33.331Z"
   },
   {
    "duration": 93,
    "start_time": "2022-05-02T10:00:33.347Z"
   },
   {
    "duration": 20,
    "start_time": "2022-05-02T10:00:33.443Z"
   },
   {
    "duration": 28,
    "start_time": "2022-05-02T10:00:33.465Z"
   },
   {
    "duration": 365,
    "start_time": "2022-05-02T10:00:33.496Z"
   },
   {
    "duration": 150,
    "start_time": "2022-05-02T10:00:33.865Z"
   },
   {
    "duration": 7,
    "start_time": "2022-05-02T10:00:34.017Z"
   },
   {
    "duration": 7,
    "start_time": "2022-05-02T10:00:34.027Z"
   },
   {
    "duration": 117,
    "start_time": "2022-05-02T10:00:34.037Z"
   },
   {
    "duration": 51,
    "start_time": "2022-05-02T10:00:34.157Z"
   },
   {
    "duration": 44,
    "start_time": "2022-05-02T10:00:34.211Z"
   },
   {
    "duration": 5,
    "start_time": "2022-05-02T10:00:34.257Z"
   },
   {
    "duration": 26,
    "start_time": "2022-05-02T10:00:34.264Z"
   },
   {
    "duration": 30,
    "start_time": "2022-05-02T10:00:34.340Z"
   },
   {
    "duration": 60,
    "start_time": "2022-05-02T10:00:34.374Z"
   },
   {
    "duration": 14,
    "start_time": "2022-05-02T10:00:34.437Z"
   },
   {
    "duration": 37,
    "start_time": "2022-05-02T10:00:34.453Z"
   },
   {
    "duration": 43,
    "start_time": "2022-05-02T10:00:34.492Z"
   },
   {
    "duration": 15,
    "start_time": "2022-05-02T10:00:34.537Z"
   },
   {
    "duration": 47,
    "start_time": "2022-05-02T10:00:34.555Z"
   },
   {
    "duration": 1455,
    "start_time": "2022-05-02T10:01:00.542Z"
   },
   {
    "duration": 501,
    "start_time": "2022-05-02T10:01:02.000Z"
   },
   {
    "duration": 99,
    "start_time": "2022-05-02T10:01:02.504Z"
   },
   {
    "duration": 30,
    "start_time": "2022-05-02T10:01:02.607Z"
   },
   {
    "duration": 44,
    "start_time": "2022-05-02T10:01:02.640Z"
   },
   {
    "duration": 45,
    "start_time": "2022-05-02T10:01:02.687Z"
   },
   {
    "duration": 48,
    "start_time": "2022-05-02T10:01:02.734Z"
   },
   {
    "duration": 31,
    "start_time": "2022-05-02T10:01:02.784Z"
   },
   {
    "duration": 344,
    "start_time": "2022-05-02T10:01:02.825Z"
   },
   {
    "duration": 13,
    "start_time": "2022-05-02T10:01:03.173Z"
   },
   {
    "duration": 55,
    "start_time": "2022-05-02T10:01:03.189Z"
   },
   {
    "duration": 19,
    "start_time": "2022-05-02T10:01:03.247Z"
   },
   {
    "duration": 56,
    "start_time": "2022-05-02T10:01:03.269Z"
   },
   {
    "duration": 488,
    "start_time": "2022-05-02T10:01:03.328Z"
   },
   {
    "duration": 179,
    "start_time": "2022-05-02T10:01:03.818Z"
   },
   {
    "duration": 6,
    "start_time": "2022-05-02T10:01:04.000Z"
   },
   {
    "duration": 26,
    "start_time": "2022-05-02T10:01:04.009Z"
   },
   {
    "duration": 86,
    "start_time": "2022-05-02T10:01:04.039Z"
   },
   {
    "duration": 42,
    "start_time": "2022-05-02T10:01:04.127Z"
   },
   {
    "duration": 59,
    "start_time": "2022-05-02T10:01:04.171Z"
   },
   {
    "duration": 5,
    "start_time": "2022-05-02T10:01:04.232Z"
   },
   {
    "duration": 30,
    "start_time": "2022-05-02T10:01:04.239Z"
   },
   {
    "duration": 64,
    "start_time": "2022-05-02T10:01:04.271Z"
   },
   {
    "duration": 52,
    "start_time": "2022-05-02T10:01:04.337Z"
   },
   {
    "duration": 37,
    "start_time": "2022-05-02T10:01:04.391Z"
   },
   {
    "duration": 25,
    "start_time": "2022-05-02T10:01:04.430Z"
   },
   {
    "duration": 12,
    "start_time": "2022-05-02T10:01:04.457Z"
   },
   {
    "duration": 53,
    "start_time": "2022-05-02T10:01:04.473Z"
   },
   {
    "duration": 34,
    "start_time": "2022-05-02T10:01:04.528Z"
   },
   {
    "duration": 30,
    "start_time": "2022-05-02T10:01:13.403Z"
   },
   {
    "duration": 178,
    "start_time": "2022-05-02T10:01:23.933Z"
   },
   {
    "duration": 1466,
    "start_time": "2022-05-02T10:03:33.814Z"
   },
   {
    "duration": 502,
    "start_time": "2022-05-02T10:03:35.283Z"
   },
   {
    "duration": 173,
    "start_time": "2022-05-02T10:03:35.789Z"
   },
   {
    "duration": 26,
    "start_time": "2022-05-02T10:03:35.967Z"
   },
   {
    "duration": 81,
    "start_time": "2022-05-02T10:03:35.996Z"
   },
   {
    "duration": 16,
    "start_time": "2022-05-02T10:03:36.080Z"
   },
   {
    "duration": 51,
    "start_time": "2022-05-02T10:03:36.126Z"
   },
   {
    "duration": 13,
    "start_time": "2022-05-02T10:03:36.179Z"
   },
   {
    "duration": 55,
    "start_time": "2022-05-02T10:03:36.195Z"
   },
   {
    "duration": 19,
    "start_time": "2022-05-02T10:03:36.257Z"
   },
   {
    "duration": 72,
    "start_time": "2022-05-02T10:03:36.278Z"
   },
   {
    "duration": 16,
    "start_time": "2022-05-02T10:03:36.352Z"
   },
   {
    "duration": 63,
    "start_time": "2022-05-02T10:03:36.370Z"
   },
   {
    "duration": 368,
    "start_time": "2022-05-02T10:03:36.436Z"
   },
   {
    "duration": 126,
    "start_time": "2022-05-02T10:03:36.806Z"
   },
   {
    "duration": 6,
    "start_time": "2022-05-02T10:03:36.934Z"
   },
   {
    "duration": 8,
    "start_time": "2022-05-02T10:03:36.943Z"
   },
   {
    "duration": 97,
    "start_time": "2022-05-02T10:03:36.954Z"
   },
   {
    "duration": 47,
    "start_time": "2022-05-02T10:03:37.054Z"
   },
   {
    "duration": 54,
    "start_time": "2022-05-02T10:03:37.104Z"
   },
   {
    "duration": 9,
    "start_time": "2022-05-02T10:03:37.161Z"
   },
   {
    "duration": 73,
    "start_time": "2022-05-02T10:03:37.173Z"
   },
   {
    "duration": 36,
    "start_time": "2022-05-02T10:03:37.248Z"
   },
   {
    "duration": 78,
    "start_time": "2022-05-02T10:03:37.286Z"
   },
   {
    "duration": 11,
    "start_time": "2022-05-02T10:03:37.367Z"
   },
   {
    "duration": 66,
    "start_time": "2022-05-02T10:03:37.380Z"
   },
   {
    "duration": 18,
    "start_time": "2022-05-02T10:03:37.449Z"
   },
   {
    "duration": 10,
    "start_time": "2022-05-02T10:03:37.474Z"
   },
   {
    "duration": 84,
    "start_time": "2022-05-02T10:03:37.487Z"
   },
   {
    "duration": 101,
    "start_time": "2022-05-02T10:03:43.212Z"
   },
   {
    "duration": 96,
    "start_time": "2022-05-02T10:03:49.331Z"
   },
   {
    "duration": 171,
    "start_time": "2022-05-02T10:04:28.549Z"
   },
   {
    "duration": 91,
    "start_time": "2022-05-02T10:04:35.195Z"
   },
   {
    "duration": 105,
    "start_time": "2022-05-02T10:04:47.352Z"
   },
   {
    "duration": 106,
    "start_time": "2022-05-02T10:04:53.672Z"
   },
   {
    "duration": 97,
    "start_time": "2022-05-02T10:09:35.730Z"
   },
   {
    "duration": 24,
    "start_time": "2022-05-02T10:09:43.646Z"
   },
   {
    "duration": 92,
    "start_time": "2022-05-02T10:10:10.598Z"
   },
   {
    "duration": 92,
    "start_time": "2022-05-02T10:10:16.514Z"
   },
   {
    "duration": 91,
    "start_time": "2022-05-02T10:10:55.678Z"
   },
   {
    "duration": 101,
    "start_time": "2022-05-02T10:12:00.662Z"
   },
   {
    "duration": 109,
    "start_time": "2022-05-02T10:13:39.781Z"
   },
   {
    "duration": 193,
    "start_time": "2022-05-02T10:14:38.904Z"
   },
   {
    "duration": 1471,
    "start_time": "2022-05-02T10:15:28.775Z"
   },
   {
    "duration": 520,
    "start_time": "2022-05-02T10:15:30.249Z"
   },
   {
    "duration": 120,
    "start_time": "2022-05-02T10:15:30.772Z"
   },
   {
    "duration": 32,
    "start_time": "2022-05-02T10:15:30.896Z"
   },
   {
    "duration": 40,
    "start_time": "2022-05-02T10:15:30.930Z"
   },
   {
    "duration": 12,
    "start_time": "2022-05-02T10:15:30.972Z"
   },
   {
    "duration": 72,
    "start_time": "2022-05-02T10:15:30.986Z"
   },
   {
    "duration": 10,
    "start_time": "2022-05-02T10:15:31.061Z"
   },
   {
    "duration": 59,
    "start_time": "2022-05-02T10:15:31.073Z"
   },
   {
    "duration": 12,
    "start_time": "2022-05-02T10:15:31.138Z"
   },
   {
    "duration": 47,
    "start_time": "2022-05-02T10:15:31.152Z"
   },
   {
    "duration": 35,
    "start_time": "2022-05-02T10:15:31.202Z"
   },
   {
    "duration": 22,
    "start_time": "2022-05-02T10:15:31.239Z"
   },
   {
    "duration": 389,
    "start_time": "2022-05-02T10:15:31.263Z"
   },
   {
    "duration": 111,
    "start_time": "2022-05-02T10:15:31.654Z"
   },
   {
    "duration": 5,
    "start_time": "2022-05-02T10:15:31.767Z"
   },
   {
    "duration": 13,
    "start_time": "2022-05-02T10:15:31.774Z"
   },
   {
    "duration": 96,
    "start_time": "2022-05-02T10:15:31.790Z"
   },
   {
    "duration": 63,
    "start_time": "2022-05-02T10:15:31.889Z"
   },
   {
    "duration": 40,
    "start_time": "2022-05-02T10:15:31.955Z"
   },
   {
    "duration": 30,
    "start_time": "2022-05-02T10:15:31.998Z"
   },
   {
    "duration": 44,
    "start_time": "2022-05-02T10:15:32.031Z"
   },
   {
    "duration": 58,
    "start_time": "2022-05-02T10:15:32.078Z"
   },
   {
    "duration": 48,
    "start_time": "2022-05-02T10:15:32.138Z"
   },
   {
    "duration": 10,
    "start_time": "2022-05-02T10:15:32.188Z"
   },
   {
    "duration": 26,
    "start_time": "2022-05-02T10:15:32.225Z"
   },
   {
    "duration": 12,
    "start_time": "2022-05-02T10:15:32.253Z"
   },
   {
    "duration": 8,
    "start_time": "2022-05-02T10:15:32.270Z"
   },
   {
    "duration": 75,
    "start_time": "2022-05-02T10:15:32.280Z"
   },
   {
    "duration": 174,
    "start_time": "2022-05-02T10:15:42.655Z"
   },
   {
    "duration": 184,
    "start_time": "2022-05-02T10:15:50.315Z"
   },
   {
    "duration": 180,
    "start_time": "2022-05-02T10:15:58.018Z"
   },
   {
    "duration": 174,
    "start_time": "2022-05-02T10:16:49.767Z"
   },
   {
    "duration": 175,
    "start_time": "2022-05-02T10:16:55.809Z"
   },
   {
    "duration": 89,
    "start_time": "2022-05-02T10:18:57.151Z"
   },
   {
    "duration": 107,
    "start_time": "2022-05-02T10:19:15.866Z"
   },
   {
    "duration": 81,
    "start_time": "2022-05-02T10:19:25.720Z"
   },
   {
    "duration": 482,
    "start_time": "2022-05-02T10:22:14.191Z"
   },
   {
    "duration": 485,
    "start_time": "2022-05-02T10:22:17.158Z"
   },
   {
    "duration": 339,
    "start_time": "2022-05-02T10:22:19.396Z"
   },
   {
    "duration": 427,
    "start_time": "2022-05-02T10:22:21.730Z"
   },
   {
    "duration": 11,
    "start_time": "2022-05-02T10:30:41.136Z"
   },
   {
    "duration": 11,
    "start_time": "2022-05-02T10:30:44.695Z"
   },
   {
    "duration": 145,
    "start_time": "2022-05-02T10:39:52.891Z"
   },
   {
    "duration": 1735,
    "start_time": "2022-05-02T10:40:49.880Z"
   },
   {
    "duration": 1985,
    "start_time": "2022-05-02T10:41:32.336Z"
   },
   {
    "duration": 681,
    "start_time": "2022-05-02T10:41:34.326Z"
   },
   {
    "duration": 153,
    "start_time": "2022-05-02T10:41:35.010Z"
   },
   {
    "duration": 22,
    "start_time": "2022-05-02T10:41:35.166Z"
   },
   {
    "duration": 75,
    "start_time": "2022-05-02T10:41:35.191Z"
   },
   {
    "duration": 14,
    "start_time": "2022-05-02T10:41:35.268Z"
   },
   {
    "duration": 69,
    "start_time": "2022-05-02T10:41:35.285Z"
   },
   {
    "duration": 12,
    "start_time": "2022-05-02T10:41:35.356Z"
   },
   {
    "duration": 56,
    "start_time": "2022-05-02T10:41:35.370Z"
   },
   {
    "duration": 13,
    "start_time": "2022-05-02T10:41:35.430Z"
   },
   {
    "duration": 41,
    "start_time": "2022-05-02T10:41:35.446Z"
   },
   {
    "duration": 43,
    "start_time": "2022-05-02T10:41:35.490Z"
   },
   {
    "duration": 31,
    "start_time": "2022-05-02T10:41:35.535Z"
   },
   {
    "duration": 367,
    "start_time": "2022-05-02T10:41:35.568Z"
   },
   {
    "duration": 118,
    "start_time": "2022-05-02T10:41:35.937Z"
   },
   {
    "duration": 4,
    "start_time": "2022-05-02T10:41:36.058Z"
   },
   {
    "duration": 6,
    "start_time": "2022-05-02T10:41:36.065Z"
   },
   {
    "duration": 102,
    "start_time": "2022-05-02T10:41:36.073Z"
   },
   {
    "duration": 54,
    "start_time": "2022-05-02T10:41:36.177Z"
   },
   {
    "duration": 35,
    "start_time": "2022-05-02T10:41:36.233Z"
   },
   {
    "duration": 6,
    "start_time": "2022-05-02T10:41:36.271Z"
   },
   {
    "duration": 54,
    "start_time": "2022-05-02T10:41:36.279Z"
   },
   {
    "duration": 32,
    "start_time": "2022-05-02T10:41:36.335Z"
   },
   {
    "duration": 80,
    "start_time": "2022-05-02T10:41:36.370Z"
   },
   {
    "duration": 11,
    "start_time": "2022-05-02T10:41:36.452Z"
   },
   {
    "duration": 34,
    "start_time": "2022-05-02T10:41:36.465Z"
   },
   {
    "duration": 32,
    "start_time": "2022-05-02T10:41:36.501Z"
   },
   {
    "duration": 9,
    "start_time": "2022-05-02T10:41:36.538Z"
   },
   {
    "duration": 33,
    "start_time": "2022-05-02T10:41:36.550Z"
   },
   {
    "duration": 226,
    "start_time": "2022-05-02T10:41:36.585Z"
   },
   {
    "duration": 92,
    "start_time": "2022-05-02T10:41:36.813Z"
   },
   {
    "duration": 436,
    "start_time": "2022-05-02T10:41:36.908Z"
   },
   {
    "duration": 500,
    "start_time": "2022-05-02T10:41:37.346Z"
   },
   {
    "duration": 357,
    "start_time": "2022-05-02T10:41:37.848Z"
   },
   {
    "duration": 428,
    "start_time": "2022-05-02T10:41:38.207Z"
   },
   {
    "duration": 11,
    "start_time": "2022-05-02T10:41:38.637Z"
   },
   {
    "duration": 14,
    "start_time": "2022-05-02T10:41:38.650Z"
   },
   {
    "duration": 2009,
    "start_time": "2022-05-02T10:41:38.666Z"
   },
   {
    "duration": 10,
    "start_time": "2022-05-02T10:42:10.102Z"
   },
   {
    "duration": 1462,
    "start_time": "2022-05-02T11:05:08.226Z"
   },
   {
    "duration": 539,
    "start_time": "2022-05-02T11:05:09.691Z"
   },
   {
    "duration": 113,
    "start_time": "2022-05-02T11:05:10.233Z"
   },
   {
    "duration": 18,
    "start_time": "2022-05-02T11:05:10.350Z"
   },
   {
    "duration": 70,
    "start_time": "2022-05-02T11:05:10.370Z"
   },
   {
    "duration": 13,
    "start_time": "2022-05-02T11:05:10.443Z"
   },
   {
    "duration": 81,
    "start_time": "2022-05-02T11:05:10.458Z"
   },
   {
    "duration": 12,
    "start_time": "2022-05-02T11:05:10.542Z"
   },
   {
    "duration": 23,
    "start_time": "2022-05-02T11:05:10.557Z"
   },
   {
    "duration": 47,
    "start_time": "2022-05-02T11:05:10.584Z"
   },
   {
    "duration": 41,
    "start_time": "2022-05-02T11:05:10.633Z"
   },
   {
    "duration": 15,
    "start_time": "2022-05-02T11:05:10.677Z"
   },
   {
    "duration": 22,
    "start_time": "2022-05-02T11:05:10.725Z"
   },
   {
    "duration": 413,
    "start_time": "2022-05-02T11:05:10.750Z"
   },
   {
    "duration": 132,
    "start_time": "2022-05-02T11:05:11.166Z"
   },
   {
    "duration": 8,
    "start_time": "2022-05-02T11:05:11.304Z"
   },
   {
    "duration": 8,
    "start_time": "2022-05-02T11:05:11.325Z"
   },
   {
    "duration": 98,
    "start_time": "2022-05-02T11:05:11.336Z"
   },
   {
    "duration": 43,
    "start_time": "2022-05-02T11:05:11.436Z"
   },
   {
    "duration": 78,
    "start_time": "2022-05-02T11:05:11.481Z"
   },
   {
    "duration": 7,
    "start_time": "2022-05-02T11:05:11.562Z"
   },
   {
    "duration": 53,
    "start_time": "2022-05-02T11:05:11.571Z"
   },
   {
    "duration": 33,
    "start_time": "2022-05-02T11:05:11.627Z"
   },
   {
    "duration": 80,
    "start_time": "2022-05-02T11:05:11.662Z"
   },
   {
    "duration": 12,
    "start_time": "2022-05-02T11:05:11.744Z"
   },
   {
    "duration": 28,
    "start_time": "2022-05-02T11:05:11.758Z"
   },
   {
    "duration": 12,
    "start_time": "2022-05-02T11:05:11.824Z"
   },
   {
    "duration": 13,
    "start_time": "2022-05-02T11:05:11.841Z"
   },
   {
    "duration": 36,
    "start_time": "2022-05-02T11:05:11.857Z"
   },
   {
    "duration": 220,
    "start_time": "2022-05-02T11:05:11.896Z"
   },
   {
    "duration": 106,
    "start_time": "2022-05-02T11:05:12.118Z"
   },
   {
    "duration": 475,
    "start_time": "2022-05-02T11:05:12.228Z"
   },
   {
    "duration": 534,
    "start_time": "2022-05-02T11:05:12.706Z"
   },
   {
    "duration": 370,
    "start_time": "2022-05-02T11:05:13.243Z"
   },
   {
    "duration": 443,
    "start_time": "2022-05-02T11:05:13.616Z"
   },
   {
    "duration": 12,
    "start_time": "2022-05-02T11:05:14.062Z"
   },
   {
    "duration": 22,
    "start_time": "2022-05-02T11:05:14.076Z"
   },
   {
    "duration": 1937,
    "start_time": "2022-05-02T11:18:44.282Z"
   },
   {
    "duration": 753,
    "start_time": "2022-05-02T11:18:46.222Z"
   },
   {
    "duration": 161,
    "start_time": "2022-05-02T11:18:46.978Z"
   },
   {
    "duration": 25,
    "start_time": "2022-05-02T11:18:47.143Z"
   },
   {
    "duration": 71,
    "start_time": "2022-05-02T11:18:47.171Z"
   },
   {
    "duration": 13,
    "start_time": "2022-05-02T11:18:47.244Z"
   },
   {
    "duration": 78,
    "start_time": "2022-05-02T11:18:47.259Z"
   },
   {
    "duration": 11,
    "start_time": "2022-05-02T11:18:47.339Z"
   },
   {
    "duration": 20,
    "start_time": "2022-05-02T11:18:47.352Z"
   },
   {
    "duration": 50,
    "start_time": "2022-05-02T11:18:47.376Z"
   },
   {
    "duration": 41,
    "start_time": "2022-05-02T11:18:47.428Z"
   },
   {
    "duration": 63,
    "start_time": "2022-05-02T11:18:47.472Z"
   },
   {
    "duration": 21,
    "start_time": "2022-05-02T11:18:47.538Z"
   },
   {
    "duration": 396,
    "start_time": "2022-05-02T11:18:47.561Z"
   },
   {
    "duration": 126,
    "start_time": "2022-05-02T11:18:47.960Z"
   },
   {
    "duration": 6,
    "start_time": "2022-05-02T11:18:48.088Z"
   },
   {
    "duration": 5,
    "start_time": "2022-05-02T11:18:48.096Z"
   },
   {
    "duration": 91,
    "start_time": "2022-05-02T11:18:48.103Z"
   },
   {
    "duration": 62,
    "start_time": "2022-05-02T11:18:48.197Z"
   },
   {
    "duration": 63,
    "start_time": "2022-05-02T11:18:48.261Z"
   },
   {
    "duration": 6,
    "start_time": "2022-05-02T11:18:48.327Z"
   },
   {
    "duration": 23,
    "start_time": "2022-05-02T11:18:48.336Z"
   },
   {
    "duration": 74,
    "start_time": "2022-05-02T11:18:48.362Z"
   },
   {
    "duration": 86,
    "start_time": "2022-05-02T11:18:48.439Z"
   },
   {
    "duration": 13,
    "start_time": "2022-05-02T11:18:48.527Z"
   },
   {
    "duration": 34,
    "start_time": "2022-05-02T11:18:48.543Z"
   },
   {
    "duration": 50,
    "start_time": "2022-05-02T11:18:48.580Z"
   },
   {
    "duration": 8,
    "start_time": "2022-05-02T11:18:48.635Z"
   },
   {
    "duration": 38,
    "start_time": "2022-05-02T11:18:48.645Z"
   },
   {
    "duration": 311,
    "start_time": "2022-05-02T11:18:48.686Z"
   },
   {
    "duration": 93,
    "start_time": "2022-05-02T11:18:49.000Z"
   },
   {
    "duration": 452,
    "start_time": "2022-05-02T11:18:49.096Z"
   },
   {
    "duration": 617,
    "start_time": "2022-05-02T11:18:49.550Z"
   },
   {
    "duration": 367,
    "start_time": "2022-05-02T11:18:50.169Z"
   },
   {
    "duration": 664,
    "start_time": "2022-05-02T11:18:50.539Z"
   },
   {
    "duration": 27,
    "start_time": "2022-05-02T11:18:51.206Z"
   },
   {
    "duration": 12,
    "start_time": "2022-05-02T11:18:51.236Z"
   },
   {
    "duration": 12,
    "start_time": "2022-05-02T11:18:55.410Z"
   },
   {
    "duration": 1552,
    "start_time": "2022-05-02T11:19:08.729Z"
   },
   {
    "duration": 631,
    "start_time": "2022-05-02T11:19:10.284Z"
   },
   {
    "duration": 161,
    "start_time": "2022-05-02T11:19:10.918Z"
   },
   {
    "duration": 58,
    "start_time": "2022-05-02T11:19:11.083Z"
   },
   {
    "duration": 51,
    "start_time": "2022-05-02T11:19:11.143Z"
   },
   {
    "duration": 30,
    "start_time": "2022-05-02T11:19:11.197Z"
   },
   {
    "duration": 64,
    "start_time": "2022-05-02T11:19:11.229Z"
   },
   {
    "duration": 31,
    "start_time": "2022-05-02T11:19:11.295Z"
   },
   {
    "duration": 29,
    "start_time": "2022-05-02T11:19:11.329Z"
   },
   {
    "duration": 15,
    "start_time": "2022-05-02T11:19:11.365Z"
   },
   {
    "duration": 100,
    "start_time": "2022-05-02T11:19:11.383Z"
   },
   {
    "duration": 32,
    "start_time": "2022-05-02T11:19:11.486Z"
   },
   {
    "duration": 39,
    "start_time": "2022-05-02T11:19:11.524Z"
   },
   {
    "duration": 494,
    "start_time": "2022-05-02T11:19:11.566Z"
   },
   {
    "duration": 174,
    "start_time": "2022-05-02T11:19:12.064Z"
   },
   {
    "duration": 19,
    "start_time": "2022-05-02T11:19:12.243Z"
   },
   {
    "duration": 24,
    "start_time": "2022-05-02T11:19:12.265Z"
   },
   {
    "duration": 112,
    "start_time": "2022-05-02T11:19:12.291Z"
   },
   {
    "duration": 82,
    "start_time": "2022-05-02T11:19:12.406Z"
   },
   {
    "duration": 68,
    "start_time": "2022-05-02T11:19:12.495Z"
   },
   {
    "duration": 9,
    "start_time": "2022-05-02T11:19:12.565Z"
   },
   {
    "duration": 55,
    "start_time": "2022-05-02T11:19:12.578Z"
   },
   {
    "duration": 45,
    "start_time": "2022-05-02T11:19:12.638Z"
   },
   {
    "duration": 108,
    "start_time": "2022-05-02T11:19:12.686Z"
   },
   {
    "duration": 26,
    "start_time": "2022-05-02T11:19:12.798Z"
   },
   {
    "duration": 44,
    "start_time": "2022-05-02T11:19:12.829Z"
   },
   {
    "duration": 29,
    "start_time": "2022-05-02T11:19:12.876Z"
   },
   {
    "duration": 17,
    "start_time": "2022-05-02T11:19:12.925Z"
   },
   {
    "duration": 45,
    "start_time": "2022-05-02T11:19:12.945Z"
   },
   {
    "duration": 304,
    "start_time": "2022-05-02T11:19:12.993Z"
   },
   {
    "duration": 146,
    "start_time": "2022-05-02T11:19:13.300Z"
   },
   {
    "duration": 622,
    "start_time": "2022-05-02T11:19:13.449Z"
   },
   {
    "duration": 632,
    "start_time": "2022-05-02T11:19:14.074Z"
   },
   {
    "duration": 557,
    "start_time": "2022-05-02T11:19:14.709Z"
   },
   {
    "duration": 472,
    "start_time": "2022-05-02T11:19:15.269Z"
   },
   {
    "duration": 12,
    "start_time": "2022-05-02T11:19:15.743Z"
   },
   {
    "duration": 25,
    "start_time": "2022-05-02T11:19:15.758Z"
   },
   {
    "duration": 1127,
    "start_time": "2022-05-02T18:51:06.440Z"
   },
   {
    "duration": 357,
    "start_time": "2022-05-02T18:51:07.569Z"
   },
   {
    "duration": 66,
    "start_time": "2022-05-02T18:51:07.930Z"
   },
   {
    "duration": 28,
    "start_time": "2022-05-02T18:51:07.998Z"
   },
   {
    "duration": 39,
    "start_time": "2022-05-02T18:51:08.027Z"
   },
   {
    "duration": 8,
    "start_time": "2022-05-02T18:51:08.068Z"
   },
   {
    "duration": 49,
    "start_time": "2022-05-02T18:51:08.078Z"
   },
   {
    "duration": 10,
    "start_time": "2022-05-02T18:51:08.129Z"
   },
   {
    "duration": 18,
    "start_time": "2022-05-02T18:51:08.140Z"
   },
   {
    "duration": 7,
    "start_time": "2022-05-02T18:51:08.162Z"
   },
   {
    "duration": 24,
    "start_time": "2022-05-02T18:51:08.170Z"
   },
   {
    "duration": 30,
    "start_time": "2022-05-02T18:51:08.196Z"
   },
   {
    "duration": 29,
    "start_time": "2022-05-02T18:51:08.228Z"
   },
   {
    "duration": 215,
    "start_time": "2022-05-02T18:51:08.259Z"
   },
   {
    "duration": 77,
    "start_time": "2022-05-02T18:51:08.476Z"
   },
   {
    "duration": 4,
    "start_time": "2022-05-02T18:51:08.555Z"
   },
   {
    "duration": 6,
    "start_time": "2022-05-02T18:51:08.561Z"
   },
   {
    "duration": 66,
    "start_time": "2022-05-02T18:51:08.569Z"
   },
   {
    "duration": 30,
    "start_time": "2022-05-02T18:51:08.637Z"
   },
   {
    "duration": 24,
    "start_time": "2022-05-02T18:51:08.669Z"
   },
   {
    "duration": 29,
    "start_time": "2022-05-02T18:51:08.695Z"
   },
   {
    "duration": 18,
    "start_time": "2022-05-02T18:51:08.726Z"
   },
   {
    "duration": 34,
    "start_time": "2022-05-02T18:51:08.746Z"
   },
   {
    "duration": 50,
    "start_time": "2022-05-02T18:51:08.782Z"
   },
   {
    "duration": 8,
    "start_time": "2022-05-02T18:51:08.835Z"
   },
   {
    "duration": 18,
    "start_time": "2022-05-02T18:51:08.845Z"
   },
   {
    "duration": 9,
    "start_time": "2022-05-02T18:51:08.864Z"
   },
   {
    "duration": 5,
    "start_time": "2022-05-02T18:51:08.877Z"
   },
   {
    "duration": 55,
    "start_time": "2022-05-02T18:51:08.884Z"
   },
   {
    "duration": 113,
    "start_time": "2022-05-02T18:51:08.941Z"
   },
   {
    "duration": 68,
    "start_time": "2022-05-02T18:51:09.056Z"
   },
   {
    "duration": 391,
    "start_time": "2022-05-02T18:51:09.126Z"
   },
   {
    "duration": 289,
    "start_time": "2022-05-02T18:51:09.523Z"
   },
   {
    "duration": 213,
    "start_time": "2022-05-02T18:51:09.813Z"
   },
   {
    "duration": 248,
    "start_time": "2022-05-02T18:51:10.028Z"
   },
   {
    "duration": 8,
    "start_time": "2022-05-02T18:51:10.278Z"
   },
   {
    "duration": 14,
    "start_time": "2022-05-02T18:51:10.288Z"
   },
   {
    "duration": 1008,
    "start_time": "2022-10-02T11:08:34.854Z"
   },
   {
    "duration": 910,
    "start_time": "2022-10-02T11:08:35.863Z"
   },
   {
    "duration": 64,
    "start_time": "2022-10-02T11:08:36.774Z"
   },
   {
    "duration": 12,
    "start_time": "2022-10-02T11:08:36.840Z"
   },
   {
    "duration": 28,
    "start_time": "2022-10-02T11:08:36.854Z"
   },
   {
    "duration": 25,
    "start_time": "2022-10-02T11:08:36.884Z"
   },
   {
    "duration": 27,
    "start_time": "2022-10-02T11:08:36.911Z"
   },
   {
    "duration": 7,
    "start_time": "2022-10-02T11:08:36.939Z"
   },
   {
    "duration": 14,
    "start_time": "2022-10-02T11:08:36.948Z"
   },
   {
    "duration": 7,
    "start_time": "2022-10-02T11:08:36.965Z"
   },
   {
    "duration": 54,
    "start_time": "2022-10-02T11:08:36.974Z"
   },
   {
    "duration": 9,
    "start_time": "2022-10-02T11:08:37.030Z"
   },
   {
    "duration": 21,
    "start_time": "2022-10-02T11:08:37.041Z"
   },
   {
    "duration": 226,
    "start_time": "2022-10-02T11:08:37.064Z"
   },
   {
    "duration": 75,
    "start_time": "2022-10-02T11:08:37.292Z"
   },
   {
    "duration": 4,
    "start_time": "2022-10-02T11:08:37.369Z"
   },
   {
    "duration": 16,
    "start_time": "2022-10-02T11:08:37.374Z"
   },
   {
    "duration": 36,
    "start_time": "2022-10-02T11:08:37.391Z"
   },
   {
    "duration": 29,
    "start_time": "2022-10-02T11:08:37.429Z"
   },
   {
    "duration": 23,
    "start_time": "2022-10-02T11:08:37.460Z"
   },
   {
    "duration": 4,
    "start_time": "2022-10-02T11:08:37.485Z"
   },
   {
    "duration": 19,
    "start_time": "2022-10-02T11:08:37.508Z"
   },
   {
    "duration": 21,
    "start_time": "2022-10-02T11:08:37.529Z"
   },
   {
    "duration": 30,
    "start_time": "2022-10-02T11:08:37.552Z"
   },
   {
    "duration": 25,
    "start_time": "2022-10-02T11:08:37.584Z"
   },
   {
    "duration": 15,
    "start_time": "2022-10-02T11:08:37.610Z"
   },
   {
    "duration": 6,
    "start_time": "2022-10-02T11:08:37.627Z"
   },
   {
    "duration": 5,
    "start_time": "2022-10-02T11:08:37.636Z"
   },
   {
    "duration": 22,
    "start_time": "2022-10-02T11:08:37.643Z"
   },
   {
    "duration": 130,
    "start_time": "2022-10-02T11:08:37.666Z"
   },
   {
    "duration": 51,
    "start_time": "2022-10-02T11:08:37.797Z"
   },
   {
    "duration": 252,
    "start_time": "2022-10-02T11:08:37.849Z"
   },
   {
    "duration": 289,
    "start_time": "2022-10-02T11:08:38.103Z"
   },
   {
    "duration": 202,
    "start_time": "2022-10-02T11:08:38.393Z"
   },
   {
    "duration": 246,
    "start_time": "2022-10-02T11:08:38.597Z"
   },
   {
    "duration": 7,
    "start_time": "2022-10-02T11:08:38.844Z"
   },
   {
    "duration": 10,
    "start_time": "2022-10-02T11:08:38.852Z"
   }
  ],
  "kernelspec": {
   "display_name": "Python 3 (ipykernel)",
   "language": "python",
   "name": "python3"
  },
  "language_info": {
   "codemirror_mode": {
    "name": "ipython",
    "version": 3
   },
   "file_extension": ".py",
   "mimetype": "text/x-python",
   "name": "python",
   "nbconvert_exporter": "python",
   "pygments_lexer": "ipython3",
   "version": "3.9.5"
  },
  "toc": {
   "base_numbering": 1,
   "nav_menu": {},
   "number_sections": true,
   "sideBar": true,
   "skip_h1_title": true,
   "title_cell": "Содержание",
   "title_sidebar": "Contents",
   "toc_cell": false,
   "toc_position": {
    "height": "calc(100% - 180px)",
    "left": "10px",
    "top": "150px",
    "width": "286.237px"
   },
   "toc_section_display": true,
   "toc_window_display": false
  }
 },
 "nbformat": 4,
 "nbformat_minor": 2
}
