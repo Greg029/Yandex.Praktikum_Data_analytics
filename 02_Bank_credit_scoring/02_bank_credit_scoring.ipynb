{
 "cells": [
  {
   "cell_type": "markdown",
   "id": "41a12e46",
   "metadata": {},
   "source": [
    "# Исследование надежности заемщиков банка"
   ]
  },
  {
   "cell_type": "markdown",
   "id": "125e6727",
   "metadata": {},
   "source": [
    "**Описание проекта:**\n",
    "\n",
    "Заказчик — кредитный отдел банка. Нужно разобраться, влияет ли семейное положение и количество детей клиента на факт погашения кредита в срок. Входные данные от банка — статистика о платёжеспособности клиентов.\n",
    "\n",
    "Результаты исследования будут учтены при построении модели кредитного скоринга — специальной системы, которая оценивает способность потенциального заёмщика вернуть кредит банку.\n",
    "\n",
    "**Описание данных:**\n",
    "* `children` — количество детей в семье \n",
    "* `days_employed` — общий трудовой стаж в днях\n",
    "* `dob_years` — возраст клиента в годах\n",
    "* `education` — уровень образования клиента \n",
    "* `education_id` — идентификатор уровня образования\n",
    "* `family_status` — семейное положение\n",
    "* `family_status_id` — идентификатор семейного положения\n",
    "* `gender` — пол клиента \n",
    "* `income_type` — тип занятости \n",
    "* `debt` — имел ли задолженность по возврату кредитов \n",
    "* `total_income` — ежемесячный доход \n",
    "* `purpose` — цель получения кредита \n",
    "\n",
    "**Исследование проведем по следующему плану:**\n",
    "* обзор данных\n",
    "* предобработка \n",
    "* ответы на вопросы\n",
    "* общий вывод"
   ]
  },
  {
   "cell_type": "markdown",
   "id": "7bc9bc2f",
   "metadata": {},
   "source": [
    "## Обзор данных."
   ]
  },
  {
   "cell_type": "markdown",
   "id": "42edab95",
   "metadata": {},
   "source": [
    "Откроем таблицу и изучим общую информацию о данных."
   ]
  },
  {
   "cell_type": "code",
   "execution_count": 1,
   "id": "42c8c13c",
   "metadata": {},
   "outputs": [],
   "source": [
    "# импортируем библиотеку pandas\n",
    "import pandas as pd\n",
    "\n",
    "import warnings\n",
    "warnings.filterwarnings('ignore')"
   ]
  },
  {
   "cell_type": "code",
   "execution_count": 2,
   "id": "c46a16e3",
   "metadata": {},
   "outputs": [
    {
     "data": {
      "text/html": [
       "<div>\n",
       "<style scoped>\n",
       "    .dataframe tbody tr th:only-of-type {\n",
       "        vertical-align: middle;\n",
       "    }\n",
       "\n",
       "    .dataframe tbody tr th {\n",
       "        vertical-align: top;\n",
       "    }\n",
       "\n",
       "    .dataframe thead th {\n",
       "        text-align: right;\n",
       "    }\n",
       "</style>\n",
       "<table border=\"1\" class=\"dataframe\">\n",
       "  <thead>\n",
       "    <tr style=\"text-align: right;\">\n",
       "      <th></th>\n",
       "      <th>children</th>\n",
       "      <th>days_employed</th>\n",
       "      <th>dob_years</th>\n",
       "      <th>education</th>\n",
       "      <th>education_id</th>\n",
       "      <th>family_status</th>\n",
       "      <th>family_status_id</th>\n",
       "      <th>gender</th>\n",
       "      <th>income_type</th>\n",
       "      <th>debt</th>\n",
       "      <th>total_income</th>\n",
       "      <th>purpose</th>\n",
       "    </tr>\n",
       "  </thead>\n",
       "  <tbody>\n",
       "    <tr>\n",
       "      <th>0</th>\n",
       "      <td>1</td>\n",
       "      <td>-8437.673028</td>\n",
       "      <td>42</td>\n",
       "      <td>высшее</td>\n",
       "      <td>0</td>\n",
       "      <td>женат / замужем</td>\n",
       "      <td>0</td>\n",
       "      <td>F</td>\n",
       "      <td>сотрудник</td>\n",
       "      <td>0</td>\n",
       "      <td>253875.639453</td>\n",
       "      <td>покупка жилья</td>\n",
       "    </tr>\n",
       "    <tr>\n",
       "      <th>1</th>\n",
       "      <td>1</td>\n",
       "      <td>-4024.803754</td>\n",
       "      <td>36</td>\n",
       "      <td>среднее</td>\n",
       "      <td>1</td>\n",
       "      <td>женат / замужем</td>\n",
       "      <td>0</td>\n",
       "      <td>F</td>\n",
       "      <td>сотрудник</td>\n",
       "      <td>0</td>\n",
       "      <td>112080.014102</td>\n",
       "      <td>приобретение автомобиля</td>\n",
       "    </tr>\n",
       "    <tr>\n",
       "      <th>2</th>\n",
       "      <td>0</td>\n",
       "      <td>-5623.422610</td>\n",
       "      <td>33</td>\n",
       "      <td>Среднее</td>\n",
       "      <td>1</td>\n",
       "      <td>женат / замужем</td>\n",
       "      <td>0</td>\n",
       "      <td>M</td>\n",
       "      <td>сотрудник</td>\n",
       "      <td>0</td>\n",
       "      <td>145885.952297</td>\n",
       "      <td>покупка жилья</td>\n",
       "    </tr>\n",
       "    <tr>\n",
       "      <th>3</th>\n",
       "      <td>3</td>\n",
       "      <td>-4124.747207</td>\n",
       "      <td>32</td>\n",
       "      <td>среднее</td>\n",
       "      <td>1</td>\n",
       "      <td>женат / замужем</td>\n",
       "      <td>0</td>\n",
       "      <td>M</td>\n",
       "      <td>сотрудник</td>\n",
       "      <td>0</td>\n",
       "      <td>267628.550329</td>\n",
       "      <td>дополнительное образование</td>\n",
       "    </tr>\n",
       "    <tr>\n",
       "      <th>4</th>\n",
       "      <td>0</td>\n",
       "      <td>340266.072047</td>\n",
       "      <td>53</td>\n",
       "      <td>среднее</td>\n",
       "      <td>1</td>\n",
       "      <td>гражданский брак</td>\n",
       "      <td>1</td>\n",
       "      <td>F</td>\n",
       "      <td>пенсионер</td>\n",
       "      <td>0</td>\n",
       "      <td>158616.077870</td>\n",
       "      <td>сыграть свадьбу</td>\n",
       "    </tr>\n",
       "    <tr>\n",
       "      <th>5</th>\n",
       "      <td>0</td>\n",
       "      <td>-926.185831</td>\n",
       "      <td>27</td>\n",
       "      <td>высшее</td>\n",
       "      <td>0</td>\n",
       "      <td>гражданский брак</td>\n",
       "      <td>1</td>\n",
       "      <td>M</td>\n",
       "      <td>компаньон</td>\n",
       "      <td>0</td>\n",
       "      <td>255763.565419</td>\n",
       "      <td>покупка жилья</td>\n",
       "    </tr>\n",
       "    <tr>\n",
       "      <th>6</th>\n",
       "      <td>0</td>\n",
       "      <td>-2879.202052</td>\n",
       "      <td>43</td>\n",
       "      <td>высшее</td>\n",
       "      <td>0</td>\n",
       "      <td>женат / замужем</td>\n",
       "      <td>0</td>\n",
       "      <td>F</td>\n",
       "      <td>компаньон</td>\n",
       "      <td>0</td>\n",
       "      <td>240525.971920</td>\n",
       "      <td>операции с жильем</td>\n",
       "    </tr>\n",
       "    <tr>\n",
       "      <th>7</th>\n",
       "      <td>0</td>\n",
       "      <td>-152.779569</td>\n",
       "      <td>50</td>\n",
       "      <td>СРЕДНЕЕ</td>\n",
       "      <td>1</td>\n",
       "      <td>женат / замужем</td>\n",
       "      <td>0</td>\n",
       "      <td>M</td>\n",
       "      <td>сотрудник</td>\n",
       "      <td>0</td>\n",
       "      <td>135823.934197</td>\n",
       "      <td>образование</td>\n",
       "    </tr>\n",
       "    <tr>\n",
       "      <th>8</th>\n",
       "      <td>2</td>\n",
       "      <td>-6929.865299</td>\n",
       "      <td>35</td>\n",
       "      <td>ВЫСШЕЕ</td>\n",
       "      <td>0</td>\n",
       "      <td>гражданский брак</td>\n",
       "      <td>1</td>\n",
       "      <td>F</td>\n",
       "      <td>сотрудник</td>\n",
       "      <td>0</td>\n",
       "      <td>95856.832424</td>\n",
       "      <td>на проведение свадьбы</td>\n",
       "    </tr>\n",
       "    <tr>\n",
       "      <th>9</th>\n",
       "      <td>0</td>\n",
       "      <td>-2188.756445</td>\n",
       "      <td>41</td>\n",
       "      <td>среднее</td>\n",
       "      <td>1</td>\n",
       "      <td>женат / замужем</td>\n",
       "      <td>0</td>\n",
       "      <td>M</td>\n",
       "      <td>сотрудник</td>\n",
       "      <td>0</td>\n",
       "      <td>144425.938277</td>\n",
       "      <td>покупка жилья для семьи</td>\n",
       "    </tr>\n",
       "    <tr>\n",
       "      <th>10</th>\n",
       "      <td>2</td>\n",
       "      <td>-4171.483647</td>\n",
       "      <td>36</td>\n",
       "      <td>высшее</td>\n",
       "      <td>0</td>\n",
       "      <td>женат / замужем</td>\n",
       "      <td>0</td>\n",
       "      <td>M</td>\n",
       "      <td>компаньон</td>\n",
       "      <td>0</td>\n",
       "      <td>113943.491460</td>\n",
       "      <td>покупка недвижимости</td>\n",
       "    </tr>\n",
       "    <tr>\n",
       "      <th>11</th>\n",
       "      <td>0</td>\n",
       "      <td>-792.701887</td>\n",
       "      <td>40</td>\n",
       "      <td>среднее</td>\n",
       "      <td>1</td>\n",
       "      <td>женат / замужем</td>\n",
       "      <td>0</td>\n",
       "      <td>F</td>\n",
       "      <td>сотрудник</td>\n",
       "      <td>0</td>\n",
       "      <td>77069.234271</td>\n",
       "      <td>покупка коммерческой недвижимости</td>\n",
       "    </tr>\n",
       "    <tr>\n",
       "      <th>12</th>\n",
       "      <td>0</td>\n",
       "      <td>NaN</td>\n",
       "      <td>65</td>\n",
       "      <td>среднее</td>\n",
       "      <td>1</td>\n",
       "      <td>гражданский брак</td>\n",
       "      <td>1</td>\n",
       "      <td>M</td>\n",
       "      <td>пенсионер</td>\n",
       "      <td>0</td>\n",
       "      <td>NaN</td>\n",
       "      <td>сыграть свадьбу</td>\n",
       "    </tr>\n",
       "    <tr>\n",
       "      <th>13</th>\n",
       "      <td>0</td>\n",
       "      <td>-1846.641941</td>\n",
       "      <td>54</td>\n",
       "      <td>неоконченное высшее</td>\n",
       "      <td>2</td>\n",
       "      <td>женат / замужем</td>\n",
       "      <td>0</td>\n",
       "      <td>F</td>\n",
       "      <td>сотрудник</td>\n",
       "      <td>0</td>\n",
       "      <td>130458.228857</td>\n",
       "      <td>приобретение автомобиля</td>\n",
       "    </tr>\n",
       "    <tr>\n",
       "      <th>14</th>\n",
       "      <td>0</td>\n",
       "      <td>-1844.956182</td>\n",
       "      <td>56</td>\n",
       "      <td>высшее</td>\n",
       "      <td>0</td>\n",
       "      <td>гражданский брак</td>\n",
       "      <td>1</td>\n",
       "      <td>F</td>\n",
       "      <td>компаньон</td>\n",
       "      <td>1</td>\n",
       "      <td>165127.911772</td>\n",
       "      <td>покупка жилой недвижимости</td>\n",
       "    </tr>\n",
       "  </tbody>\n",
       "</table>\n",
       "</div>"
      ],
      "text/plain": [
       "    children  days_employed  dob_years            education  education_id  \\\n",
       "0          1   -8437.673028         42               высшее             0   \n",
       "1          1   -4024.803754         36              среднее             1   \n",
       "2          0   -5623.422610         33              Среднее             1   \n",
       "3          3   -4124.747207         32              среднее             1   \n",
       "4          0  340266.072047         53              среднее             1   \n",
       "5          0    -926.185831         27               высшее             0   \n",
       "6          0   -2879.202052         43               высшее             0   \n",
       "7          0    -152.779569         50              СРЕДНЕЕ             1   \n",
       "8          2   -6929.865299         35               ВЫСШЕЕ             0   \n",
       "9          0   -2188.756445         41              среднее             1   \n",
       "10         2   -4171.483647         36               высшее             0   \n",
       "11         0    -792.701887         40              среднее             1   \n",
       "12         0            NaN         65              среднее             1   \n",
       "13         0   -1846.641941         54  неоконченное высшее             2   \n",
       "14         0   -1844.956182         56               высшее             0   \n",
       "\n",
       "       family_status  family_status_id gender income_type  debt  \\\n",
       "0    женат / замужем                 0      F   сотрудник     0   \n",
       "1    женат / замужем                 0      F   сотрудник     0   \n",
       "2    женат / замужем                 0      M   сотрудник     0   \n",
       "3    женат / замужем                 0      M   сотрудник     0   \n",
       "4   гражданский брак                 1      F   пенсионер     0   \n",
       "5   гражданский брак                 1      M   компаньон     0   \n",
       "6    женат / замужем                 0      F   компаньон     0   \n",
       "7    женат / замужем                 0      M   сотрудник     0   \n",
       "8   гражданский брак                 1      F   сотрудник     0   \n",
       "9    женат / замужем                 0      M   сотрудник     0   \n",
       "10   женат / замужем                 0      M   компаньон     0   \n",
       "11   женат / замужем                 0      F   сотрудник     0   \n",
       "12  гражданский брак                 1      M   пенсионер     0   \n",
       "13   женат / замужем                 0      F   сотрудник     0   \n",
       "14  гражданский брак                 1      F   компаньон     1   \n",
       "\n",
       "     total_income                            purpose  \n",
       "0   253875.639453                      покупка жилья  \n",
       "1   112080.014102            приобретение автомобиля  \n",
       "2   145885.952297                      покупка жилья  \n",
       "3   267628.550329         дополнительное образование  \n",
       "4   158616.077870                    сыграть свадьбу  \n",
       "5   255763.565419                      покупка жилья  \n",
       "6   240525.971920                  операции с жильем  \n",
       "7   135823.934197                        образование  \n",
       "8    95856.832424              на проведение свадьбы  \n",
       "9   144425.938277            покупка жилья для семьи  \n",
       "10  113943.491460               покупка недвижимости  \n",
       "11   77069.234271  покупка коммерческой недвижимости  \n",
       "12            NaN                    сыграть свадьбу  \n",
       "13  130458.228857            приобретение автомобиля  \n",
       "14  165127.911772         покупка жилой недвижимости  "
      ]
     },
     "execution_count": 2,
     "metadata": {},
     "output_type": "execute_result"
    }
   ],
   "source": [
    "# откроем таблицу данных, с последующим сохранением в переменную data\n",
    "data = pd.read_csv('/datasets/data.csv')\n",
    "# посмотрим на первые 15 строк таблицы data\n",
    "data.head(15)"
   ]
  },
  {
   "cell_type": "code",
   "execution_count": 3,
   "id": "4885da8f",
   "metadata": {
    "scrolled": true
   },
   "outputs": [
    {
     "name": "stdout",
     "output_type": "stream",
     "text": [
      "<class 'pandas.core.frame.DataFrame'>\n",
      "RangeIndex: 21525 entries, 0 to 21524\n",
      "Data columns (total 12 columns):\n",
      " #   Column            Non-Null Count  Dtype  \n",
      "---  ------            --------------  -----  \n",
      " 0   children          21525 non-null  int64  \n",
      " 1   days_employed     19351 non-null  float64\n",
      " 2   dob_years         21525 non-null  int64  \n",
      " 3   education         21525 non-null  object \n",
      " 4   education_id      21525 non-null  int64  \n",
      " 5   family_status     21525 non-null  object \n",
      " 6   family_status_id  21525 non-null  int64  \n",
      " 7   gender            21525 non-null  object \n",
      " 8   income_type       21525 non-null  object \n",
      " 9   debt              21525 non-null  int64  \n",
      " 10  total_income      19351 non-null  float64\n",
      " 11  purpose           21525 non-null  object \n",
      "dtypes: float64(2), int64(5), object(5)\n",
      "memory usage: 2.0+ MB\n"
     ]
    }
   ],
   "source": [
    "# выведим общую информацию о таблице\n",
    "data.info()"
   ]
  },
  {
   "cell_type": "code",
   "execution_count": 4,
   "id": "e58290ef",
   "metadata": {},
   "outputs": [
    {
     "data": {
      "text/html": [
       "<div>\n",
       "<style scoped>\n",
       "    .dataframe tbody tr th:only-of-type {\n",
       "        vertical-align: middle;\n",
       "    }\n",
       "\n",
       "    .dataframe tbody tr th {\n",
       "        vertical-align: top;\n",
       "    }\n",
       "\n",
       "    .dataframe thead th {\n",
       "        text-align: right;\n",
       "    }\n",
       "</style>\n",
       "<table border=\"1\" class=\"dataframe\">\n",
       "  <thead>\n",
       "    <tr style=\"text-align: right;\">\n",
       "      <th></th>\n",
       "      <th>children</th>\n",
       "      <th>days_employed</th>\n",
       "      <th>dob_years</th>\n",
       "      <th>education_id</th>\n",
       "      <th>family_status_id</th>\n",
       "      <th>debt</th>\n",
       "      <th>total_income</th>\n",
       "    </tr>\n",
       "  </thead>\n",
       "  <tbody>\n",
       "    <tr>\n",
       "      <th>count</th>\n",
       "      <td>21525.000000</td>\n",
       "      <td>19351.000000</td>\n",
       "      <td>21525.000000</td>\n",
       "      <td>21525.000000</td>\n",
       "      <td>21525.000000</td>\n",
       "      <td>21525.000000</td>\n",
       "      <td>1.935100e+04</td>\n",
       "    </tr>\n",
       "    <tr>\n",
       "      <th>mean</th>\n",
       "      <td>0.538908</td>\n",
       "      <td>63046.497661</td>\n",
       "      <td>43.293380</td>\n",
       "      <td>0.817236</td>\n",
       "      <td>0.972544</td>\n",
       "      <td>0.080883</td>\n",
       "      <td>1.674223e+05</td>\n",
       "    </tr>\n",
       "    <tr>\n",
       "      <th>std</th>\n",
       "      <td>1.381587</td>\n",
       "      <td>140827.311974</td>\n",
       "      <td>12.574584</td>\n",
       "      <td>0.548138</td>\n",
       "      <td>1.420324</td>\n",
       "      <td>0.272661</td>\n",
       "      <td>1.029716e+05</td>\n",
       "    </tr>\n",
       "    <tr>\n",
       "      <th>min</th>\n",
       "      <td>-1.000000</td>\n",
       "      <td>-18388.949901</td>\n",
       "      <td>0.000000</td>\n",
       "      <td>0.000000</td>\n",
       "      <td>0.000000</td>\n",
       "      <td>0.000000</td>\n",
       "      <td>2.066726e+04</td>\n",
       "    </tr>\n",
       "    <tr>\n",
       "      <th>25%</th>\n",
       "      <td>0.000000</td>\n",
       "      <td>-2747.423625</td>\n",
       "      <td>33.000000</td>\n",
       "      <td>1.000000</td>\n",
       "      <td>0.000000</td>\n",
       "      <td>0.000000</td>\n",
       "      <td>1.030532e+05</td>\n",
       "    </tr>\n",
       "    <tr>\n",
       "      <th>50%</th>\n",
       "      <td>0.000000</td>\n",
       "      <td>-1203.369529</td>\n",
       "      <td>42.000000</td>\n",
       "      <td>1.000000</td>\n",
       "      <td>0.000000</td>\n",
       "      <td>0.000000</td>\n",
       "      <td>1.450179e+05</td>\n",
       "    </tr>\n",
       "    <tr>\n",
       "      <th>75%</th>\n",
       "      <td>1.000000</td>\n",
       "      <td>-291.095954</td>\n",
       "      <td>53.000000</td>\n",
       "      <td>1.000000</td>\n",
       "      <td>1.000000</td>\n",
       "      <td>0.000000</td>\n",
       "      <td>2.034351e+05</td>\n",
       "    </tr>\n",
       "    <tr>\n",
       "      <th>max</th>\n",
       "      <td>20.000000</td>\n",
       "      <td>401755.400475</td>\n",
       "      <td>75.000000</td>\n",
       "      <td>4.000000</td>\n",
       "      <td>4.000000</td>\n",
       "      <td>1.000000</td>\n",
       "      <td>2.265604e+06</td>\n",
       "    </tr>\n",
       "  </tbody>\n",
       "</table>\n",
       "</div>"
      ],
      "text/plain": [
       "           children  days_employed     dob_years  education_id  \\\n",
       "count  21525.000000   19351.000000  21525.000000  21525.000000   \n",
       "mean       0.538908   63046.497661     43.293380      0.817236   \n",
       "std        1.381587  140827.311974     12.574584      0.548138   \n",
       "min       -1.000000  -18388.949901      0.000000      0.000000   \n",
       "25%        0.000000   -2747.423625     33.000000      1.000000   \n",
       "50%        0.000000   -1203.369529     42.000000      1.000000   \n",
       "75%        1.000000    -291.095954     53.000000      1.000000   \n",
       "max       20.000000  401755.400475     75.000000      4.000000   \n",
       "\n",
       "       family_status_id          debt  total_income  \n",
       "count      21525.000000  21525.000000  1.935100e+04  \n",
       "mean           0.972544      0.080883  1.674223e+05  \n",
       "std            1.420324      0.272661  1.029716e+05  \n",
       "min            0.000000      0.000000  2.066726e+04  \n",
       "25%            0.000000      0.000000  1.030532e+05  \n",
       "50%            0.000000      0.000000  1.450179e+05  \n",
       "75%            1.000000      0.000000  2.034351e+05  \n",
       "max            4.000000      1.000000  2.265604e+06  "
      ]
     },
     "execution_count": 4,
     "metadata": {},
     "output_type": "execute_result"
    }
   ],
   "source": [
    "data.describe()"
   ]
  },
  {
   "cell_type": "markdown",
   "id": "7f3401f1",
   "metadata": {},
   "source": [
    " **Вывод:**\n",
    "\n",
    "Таблица содержит 12 столбцов и 21525 строк с разными типами данных.\n",
    "\n",
    "При этом в столбцах `days_employed` и `total_income` всего по 19351 строк, что означает наличие пропусков."
   ]
  },
  {
   "cell_type": "markdown",
   "id": "be4e33ee",
   "metadata": {},
   "source": [
    "* children — количество детей в семье (int64)\n",
    "* days_employed — общий трудовой стаж в днях (float64)\n",
    "* dob_years — возраст клиента в годах (int64)\n",
    "* education — уровень образования клиента (object)\n",
    "* education_id — идентификатор уровня образования (int64)\n",
    "* family_status — семейное положение (object)\n",
    "* family_status_id — идентификатор семейного положения (int64)\n",
    "* gender — пол клиента (object)\n",
    "* income_type — тип занятости (object)\n",
    "* debt — имел ли задолженность по возврату кредитов (int64)\n",
    "* total_income — ежемесячный доход (float64)\n",
    "* purpose — цель получения кредита (object)"
   ]
  },
  {
   "cell_type": "markdown",
   "id": "d22e96c8",
   "metadata": {},
   "source": [
    "## Предобработка данных."
   ]
  },
  {
   "cell_type": "markdown",
   "id": "0712ceae",
   "metadata": {},
   "source": [
    "###  Заполнение пропусков."
   ]
  },
  {
   "cell_type": "markdown",
   "id": "b94e778f",
   "metadata": {},
   "source": [
    "Начнем со столбца `days_employed`.\n",
    "Заменим пропуски на медианные значения. Но так как трудовой стаж не может быть отрицательным, то прежде всего вернем абсолютные значения чисел с помощью функции `abs()`."
   ]
  },
  {
   "cell_type": "code",
   "execution_count": 5,
   "id": "94d33a26",
   "metadata": {},
   "outputs": [],
   "source": [
    "data['days_employed'] = data['days_employed'].abs()"
   ]
  },
  {
   "cell_type": "markdown",
   "id": "2e617d28",
   "metadata": {},
   "source": [
    "В задании рекомендованно заполнить пропуски медианным значением по столбцу. Предполагаю, что для более точного заполнения пропусков, следует посчитать медианы общего трудового стажа в зависимости от возраста клиентов:\n",
    "* клиенты, возрастом до 25 лет\n",
    "* клиенты, возрастом от 25 до 50 лет\n",
    "* клиенты, возрастом старше 50 лет"
   ]
  },
  {
   "cell_type": "code",
   "execution_count": 6,
   "id": "cd19eccd",
   "metadata": {},
   "outputs": [
    {
     "name": "stdout",
     "output_type": "stream",
     "text": [
      "846.2133409029925\n",
      "1699.7022739850431\n",
      "333910.2258345897\n"
     ]
    }
   ],
   "source": [
    "days_employed_median_25 = data.loc[data['dob_years'] <= 25]['days_employed'].median()\n",
    "days_employed_median_25_50 = data.loc[(data['dob_years'] > 25) & (data['dob_years'] <= 50)]['days_employed'].median()\n",
    "days_employed_median_50 = data.loc[data['dob_years'] > 50]['days_employed'].median()\n",
    "\n",
    "# выведем медианы на экран\n",
    "print(days_employed_median_25)\n",
    "print(days_employed_median_25_50)\n",
    "print(days_employed_median_50)"
   ]
  },
  {
   "cell_type": "markdown",
   "id": "3c87ba1d",
   "metadata": {},
   "source": [
    "Заменим пропуски на медианы."
   ]
  },
  {
   "cell_type": "code",
   "execution_count": 7,
   "id": "a6773b88",
   "metadata": {},
   "outputs": [
    {
     "name": "stdout",
     "output_type": "stream",
     "text": [
      "<class 'pandas.core.frame.DataFrame'>\n",
      "RangeIndex: 21525 entries, 0 to 21524\n",
      "Data columns (total 12 columns):\n",
      " #   Column            Non-Null Count  Dtype  \n",
      "---  ------            --------------  -----  \n",
      " 0   children          21525 non-null  int64  \n",
      " 1   days_employed     21525 non-null  float64\n",
      " 2   dob_years         21525 non-null  int64  \n",
      " 3   education         21525 non-null  object \n",
      " 4   education_id      21525 non-null  int64  \n",
      " 5   family_status     21525 non-null  object \n",
      " 6   family_status_id  21525 non-null  int64  \n",
      " 7   gender            21525 non-null  object \n",
      " 8   income_type       21525 non-null  object \n",
      " 9   debt              21525 non-null  int64  \n",
      " 10  total_income      19351 non-null  float64\n",
      " 11  purpose           21525 non-null  object \n",
      "dtypes: float64(2), int64(5), object(5)\n",
      "memory usage: 2.0+ MB\n"
     ]
    }
   ],
   "source": [
    "data.loc[data['dob_years'] <= 25, 'days_employed'] = data.loc[data['dob_years'] <= 25, 'days_employed'].fillna(value=days_employed_median_25)\n",
    "data.loc[(data['dob_years'] > 25) & (data['dob_years'] <= 50),'days_employed'] = data.loc[(data['dob_years'] > 25) & (data['dob_years'] <= 50),'days_employed'].fillna(value=days_employed_median_25_50)\n",
    "data.loc[data['dob_years'] >= 50, 'days_employed'] = data.loc[data['dob_years'] >= 50, 'days_employed'].fillna(value=days_employed_median_50)\n",
    "# выполним проверку\n",
    "data.info()"
   ]
  },
  {
   "cell_type": "markdown",
   "id": "13270524",
   "metadata": {},
   "source": [
    "Пропуски в `days_employed` заполнили. Теперь расчитаем медианы для столбца `total_income`. Для этого выведем значения столбца по группам."
   ]
  },
  {
   "cell_type": "code",
   "execution_count": 8,
   "id": "ed9b33a8",
   "metadata": {
    "scrolled": false
   },
   "outputs": [
    {
     "data": {
      "text/plain": [
       "сотрудник          11119\n",
       "компаньон           5085\n",
       "пенсионер           3856\n",
       "госслужащий         1459\n",
       "безработный            2\n",
       "предприниматель        2\n",
       "студент                1\n",
       "в декрете              1\n",
       "Name: income_type, dtype: int64"
      ]
     },
     "execution_count": 8,
     "metadata": {},
     "output_type": "execute_result"
    }
   ],
   "source": [
    "data['income_type'].value_counts()"
   ]
  },
  {
   "cell_type": "markdown",
   "id": "2e0e1806",
   "metadata": {},
   "source": [
    "Выясним в каких группах имеются пропуски."
   ]
  },
  {
   "cell_type": "code",
   "execution_count": 9,
   "id": "3b686c67",
   "metadata": {
    "scrolled": true
   },
   "outputs": [
    {
     "data": {
      "text/plain": [
       "сотрудник          1105\n",
       "компаньон           508\n",
       "пенсионер           413\n",
       "госслужащий         147\n",
       "предприниматель       1\n",
       "Name: income_type, dtype: int64"
      ]
     },
     "execution_count": 9,
     "metadata": {},
     "output_type": "execute_result"
    }
   ],
   "source": [
    "data[data.total_income.isna()]['income_type'].value_counts()"
   ]
  },
  {
   "cell_type": "markdown",
   "id": "dc7ef985",
   "metadata": {},
   "source": [
    "Найдем медианы для столбца `total_income` по 5 категориям (категории, в которых имеются пропуски):\n",
    "* сотрудник          \n",
    "* компаньон\n",
    "* пенсионер           \n",
    "* госслужащий \n",
    "* предприниматель"
   ]
  },
  {
   "cell_type": "code",
   "execution_count": 10,
   "id": "daac4c79",
   "metadata": {
    "scrolled": true
   },
   "outputs": [],
   "source": [
    "# облегчим себе задачу, используя метод transform() \n",
    "data['total_income'] = data['total_income'].fillna(data.groupby('income_type')['total_income'].transform(\"median\"))"
   ]
  },
  {
   "cell_type": "markdown",
   "id": "42d8544b",
   "metadata": {},
   "source": [
    "Проверим, остались ли в таблице пропуски."
   ]
  },
  {
   "cell_type": "code",
   "execution_count": 11,
   "id": "c5e4d778",
   "metadata": {
    "scrolled": false
   },
   "outputs": [
    {
     "data": {
      "text/plain": [
       "children            0\n",
       "days_employed       0\n",
       "dob_years           0\n",
       "education           0\n",
       "education_id        0\n",
       "family_status       0\n",
       "family_status_id    0\n",
       "gender              0\n",
       "income_type         0\n",
       "debt                0\n",
       "total_income        0\n",
       "purpose             0\n",
       "dtype: int64"
      ]
     },
     "execution_count": 11,
     "metadata": {},
     "output_type": "execute_result"
    }
   ],
   "source": [
    "data.isna().sum()"
   ]
  },
  {
   "cell_type": "markdown",
   "id": "6f5f97fe",
   "metadata": {},
   "source": [
    "Все хорошо, пропусков не осталось."
   ]
  },
  {
   "cell_type": "markdown",
   "id": "8a7aee99",
   "metadata": {},
   "source": [
    "**Вывод:**\n",
    "\n",
    "В ходе исследования таблицы обнаружены пропуски значений. Скорее всего это является следствием технической ошибки програмы при заполнении данных, так как количество пропусков в двух столбцах совпадает по количеству. \n",
    "\n",
    "Заполнение пропусков медианными значениями, является наиболее оптимальным вариантом решения проблемы, так как удаление строк с пропусками может исказить результаты анализа. Особое внимание стоит уделять разбивке по категориям при расчете медианы.\n"
   ]
  },
  {
   "cell_type": "markdown",
   "id": "190869f1",
   "metadata": {},
   "source": [
    "###  Проверка данных на аномалии и исправления."
   ]
  },
  {
   "cell_type": "markdown",
   "id": "d76e0f9e",
   "metadata": {},
   "source": [
    "Проверим столбцы на аномальные значения. Для этого применим функцию `value_counts` поочередно к столбцам, значения в которых имют тип данных `object`."
   ]
  },
  {
   "cell_type": "code",
   "execution_count": 12,
   "id": "ee817b0c",
   "metadata": {},
   "outputs": [
    {
     "data": {
      "text/plain": [
       " 0     14149\n",
       " 1      4818\n",
       " 2      2055\n",
       " 3       330\n",
       " 20       76\n",
       "-1        47\n",
       " 4        41\n",
       " 5         9\n",
       "Name: children, dtype: int64"
      ]
     },
     "execution_count": 12,
     "metadata": {},
     "output_type": "execute_result"
    }
   ],
   "source": [
    "data['children'].value_counts()"
   ]
  },
  {
   "cell_type": "code",
   "execution_count": 13,
   "id": "b9bd1f53",
   "metadata": {},
   "outputs": [
    {
     "data": {
      "text/plain": [
       "35    617\n",
       "40    609\n",
       "41    607\n",
       "34    603\n",
       "38    598\n",
       "42    597\n",
       "33    581\n",
       "39    573\n",
       "31    560\n",
       "36    555\n",
       "44    547\n",
       "29    545\n",
       "30    540\n",
       "48    538\n",
       "37    537\n",
       "50    514\n",
       "43    513\n",
       "32    510\n",
       "49    508\n",
       "28    503\n",
       "45    497\n",
       "27    493\n",
       "56    487\n",
       "52    484\n",
       "47    480\n",
       "54    479\n",
       "46    475\n",
       "58    461\n",
       "57    460\n",
       "53    459\n",
       "51    448\n",
       "59    444\n",
       "55    443\n",
       "26    408\n",
       "60    377\n",
       "25    357\n",
       "61    355\n",
       "62    352\n",
       "63    269\n",
       "64    265\n",
       "24    264\n",
       "23    254\n",
       "65    194\n",
       "66    183\n",
       "22    183\n",
       "67    167\n",
       "21    111\n",
       "0     101\n",
       "68     99\n",
       "69     85\n",
       "70     65\n",
       "71     58\n",
       "20     51\n",
       "72     33\n",
       "19     14\n",
       "73      8\n",
       "74      6\n",
       "75      1\n",
       "Name: dob_years, dtype: int64"
      ]
     },
     "execution_count": 13,
     "metadata": {},
     "output_type": "execute_result"
    }
   ],
   "source": [
    "data['dob_years'].value_counts()"
   ]
  },
  {
   "cell_type": "code",
   "execution_count": 14,
   "id": "eee03080",
   "metadata": {},
   "outputs": [
    {
     "data": {
      "text/plain": [
       "F      14236\n",
       "M       7288\n",
       "XNA        1\n",
       "Name: gender, dtype: int64"
      ]
     },
     "execution_count": 14,
     "metadata": {},
     "output_type": "execute_result"
    }
   ],
   "source": [
    "data['gender'].value_counts()"
   ]
  },
  {
   "cell_type": "code",
   "execution_count": 15,
   "id": "6a0bcf10",
   "metadata": {},
   "outputs": [
    {
     "data": {
      "text/plain": [
       "свадьба                                   797\n",
       "на проведение свадьбы                     777\n",
       "сыграть свадьбу                           774\n",
       "операции с недвижимостью                  676\n",
       "покупка коммерческой недвижимости         664\n",
       "покупка жилья для сдачи                   653\n",
       "операции с жильем                         653\n",
       "операции с коммерческой недвижимостью     651\n",
       "жилье                                     647\n",
       "покупка жилья                             647\n",
       "покупка жилья для семьи                   641\n",
       "строительство собственной недвижимости    635\n",
       "недвижимость                              634\n",
       "операции со своей недвижимостью           630\n",
       "строительство жилой недвижимости          626\n",
       "покупка недвижимости                      624\n",
       "строительство недвижимости                620\n",
       "покупка своего жилья                      620\n",
       "ремонт жилью                              612\n",
       "покупка жилой недвижимости                607\n",
       "на покупку своего автомобиля              505\n",
       "заняться высшим образованием              496\n",
       "автомобиль                                495\n",
       "сделка с подержанным автомобилем          489\n",
       "свой автомобиль                           480\n",
       "на покупку подержанного автомобиля        479\n",
       "автомобили                                478\n",
       "на покупку автомобиля                     472\n",
       "дополнительное образование                462\n",
       "приобретение автомобиля                   462\n",
       "сделка с автомобилем                      455\n",
       "высшее образование                        453\n",
       "получение дополнительного образования     447\n",
       "образование                               447\n",
       "получение образования                     443\n",
       "профильное образование                    436\n",
       "получение высшего образования             426\n",
       "заняться образованием                     412\n",
       "Name: purpose, dtype: int64"
      ]
     },
     "execution_count": 15,
     "metadata": {},
     "output_type": "execute_result"
    }
   ],
   "source": [
    "data['purpose'].value_counts()"
   ]
  },
  {
   "cell_type": "markdown",
   "id": "efe42fec",
   "metadata": {},
   "source": [
    "**Итак, в каждом стобце имеются аномальные значения:**\n",
    "* в столбце `children` это значения `20` и `-1`\n",
    "* в столбце `dob_years` это значения `0`\n",
    "* в столбце `gender` это значение `xna`\n",
    "* в столбце `purpose` это значение   `ремонт жилью `"
   ]
  },
  {
   "cell_type": "markdown",
   "id": "f8c13ed0",
   "metadata": {},
   "source": [
    "Скорее всего значение `20` присвоено в результате случайного нажатия клавиши `0` на клавиатуры. Заменим на значение `2`.\n",
    "\n",
    "А вот значение `-1` скорее всего является следствием технической ошибки. Заменим на значение `1`."
   ]
  },
  {
   "cell_type": "code",
   "execution_count": 16,
   "id": "76307cd6",
   "metadata": {},
   "outputs": [
    {
     "data": {
      "text/plain": [
       "0    14149\n",
       "1     4865\n",
       "2     2131\n",
       "3      330\n",
       "4       41\n",
       "5        9\n",
       "Name: children, dtype: int64"
      ]
     },
     "execution_count": 16,
     "metadata": {},
     "output_type": "execute_result"
    }
   ],
   "source": [
    "data.loc[data['children'] == 20, 'children'] = 2\n",
    "data.loc[data['children'] == -1, 'children'] = 1\n",
    "# проверим\n",
    "data['children'].value_counts()"
   ]
  },
  {
   "cell_type": "markdown",
   "id": "4ab7d95a",
   "metadata": {},
   "source": [
    "Само собой возраст человека не может быть равен нулю. В нашей задаче данные возраста никак не повлияют на итоговые значения, поэтому оставим этот столбец без изменений."
   ]
  },
  {
   "cell_type": "markdown",
   "id": "5c2a9c70",
   "metadata": {},
   "source": [
    "Значение `xna` в столбце `gender` является единственным на всю таблицу, поэтому просто удалим эту строку."
   ]
  },
  {
   "cell_type": "code",
   "execution_count": 17,
   "id": "a4a7b4a7",
   "metadata": {},
   "outputs": [
    {
     "data": {
      "text/plain": [
       "F      14236\n",
       "M       7288\n",
       "XNA        1\n",
       "Name: gender, dtype: int64"
      ]
     },
     "execution_count": 17,
     "metadata": {},
     "output_type": "execute_result"
    }
   ],
   "source": [
    "data = data[data['gender'] != 'xna']\n",
    "# проверим\n",
    "data['gender'].value_counts()"
   ]
  },
  {
   "cell_type": "markdown",
   "id": "efbb4439",
   "metadata": {},
   "source": [
    "В столбце `purpose` обратим внимание на значение `ремонт жилью`. Скорее всего ошибка заключена непосредственно в самой категории, присваиваемой значению. Исправим на корректное значение `ремонт жилья`."
   ]
  },
  {
   "cell_type": "code",
   "execution_count": 18,
   "id": "c52286af",
   "metadata": {},
   "outputs": [
    {
     "data": {
      "text/plain": [
       "свадьба                                   797\n",
       "на проведение свадьбы                     777\n",
       "сыграть свадьбу                           774\n",
       "операции с недвижимостью                  676\n",
       "покупка коммерческой недвижимости         664\n",
       "операции с жильем                         653\n",
       "покупка жилья для сдачи                   653\n",
       "операции с коммерческой недвижимостью     651\n",
       "жилье                                     647\n",
       "покупка жилья                             647\n",
       "покупка жилья для семьи                   641\n",
       "строительство собственной недвижимости    635\n",
       "недвижимость                              634\n",
       "операции со своей недвижимостью           630\n",
       "строительство жилой недвижимости          626\n",
       "покупка недвижимости                      624\n",
       "покупка своего жилья                      620\n",
       "строительство недвижимости                620\n",
       "ремонт жилья                              612\n",
       "покупка жилой недвижимости                607\n",
       "на покупку своего автомобиля              505\n",
       "заняться высшим образованием              496\n",
       "автомобиль                                495\n",
       "сделка с подержанным автомобилем          489\n",
       "свой автомобиль                           480\n",
       "на покупку подержанного автомобиля        479\n",
       "автомобили                                478\n",
       "на покупку автомобиля                     472\n",
       "дополнительное образование                462\n",
       "приобретение автомобиля                   462\n",
       "сделка с автомобилем                      455\n",
       "высшее образование                        453\n",
       "получение дополнительного образования     447\n",
       "образование                               447\n",
       "получение образования                     443\n",
       "профильное образование                    436\n",
       "получение высшего образования             426\n",
       "заняться образованием                     412\n",
       "Name: purpose, dtype: int64"
      ]
     },
     "execution_count": 18,
     "metadata": {},
     "output_type": "execute_result"
    }
   ],
   "source": [
    "data.loc[data['purpose'] == 'ремонт жилью', 'purpose'] = 'ремонт жилья'\n",
    "# проверим\n",
    "data['purpose'].value_counts()"
   ]
  },
  {
   "cell_type": "markdown",
   "id": "cca8cd4e",
   "metadata": {},
   "source": [
    "###  Изменение типов данных."
   ]
  },
  {
   "cell_type": "markdown",
   "id": "8d4c4bbb",
   "metadata": {},
   "source": [
    "Так как общий трудовой стаж исчисляется полными днями, а ежемесячный доход нет смысла считать до копеек - приведем значения столбцов `days_employed` и `total_income` к целочисленным."
   ]
  },
  {
   "cell_type": "code",
   "execution_count": 19,
   "id": "b4ae452d",
   "metadata": {},
   "outputs": [
    {
     "name": "stdout",
     "output_type": "stream",
     "text": [
      "<class 'pandas.core.frame.DataFrame'>\n",
      "Int64Index: 21525 entries, 0 to 21524\n",
      "Data columns (total 12 columns):\n",
      " #   Column            Non-Null Count  Dtype \n",
      "---  ------            --------------  ----- \n",
      " 0   children          21525 non-null  int64 \n",
      " 1   days_employed     21525 non-null  int64 \n",
      " 2   dob_years         21525 non-null  int64 \n",
      " 3   education         21525 non-null  object\n",
      " 4   education_id      21525 non-null  int64 \n",
      " 5   family_status     21525 non-null  object\n",
      " 6   family_status_id  21525 non-null  int64 \n",
      " 7   gender            21525 non-null  object\n",
      " 8   income_type       21525 non-null  object\n",
      " 9   debt              21525 non-null  int64 \n",
      " 10  total_income      21525 non-null  int64 \n",
      " 11  purpose           21525 non-null  object\n",
      "dtypes: int64(7), object(5)\n",
      "memory usage: 2.1+ MB\n"
     ]
    }
   ],
   "source": [
    "data['days_employed'] = data['days_employed'].astype(int)\n",
    "data['total_income'] = data['total_income'].astype(int)\n",
    "# проверим\n",
    "data.info()"
   ]
  },
  {
   "cell_type": "markdown",
   "id": "cf6a08c3",
   "metadata": {},
   "source": [
    "###  Удаление дубликатов."
   ]
  },
  {
   "cell_type": "markdown",
   "id": "c43e7e27",
   "metadata": {},
   "source": [
    "Проверим таблицу на количество строк-дубликатов."
   ]
  },
  {
   "cell_type": "code",
   "execution_count": 20,
   "id": "f05aaf7b",
   "metadata": {
    "scrolled": false
   },
   "outputs": [
    {
     "data": {
      "text/plain": [
       "54"
      ]
     },
     "execution_count": 20,
     "metadata": {},
     "output_type": "execute_result"
    }
   ],
   "source": [
    "data.duplicated().sum()"
   ]
  },
  {
   "cell_type": "code",
   "execution_count": 21,
   "id": "e1c02f29",
   "metadata": {},
   "outputs": [
    {
     "data": {
      "text/html": [
       "<div>\n",
       "<style scoped>\n",
       "    .dataframe tbody tr th:only-of-type {\n",
       "        vertical-align: middle;\n",
       "    }\n",
       "\n",
       "    .dataframe tbody tr th {\n",
       "        vertical-align: top;\n",
       "    }\n",
       "\n",
       "    .dataframe thead th {\n",
       "        text-align: right;\n",
       "    }\n",
       "</style>\n",
       "<table border=\"1\" class=\"dataframe\">\n",
       "  <thead>\n",
       "    <tr style=\"text-align: right;\">\n",
       "      <th></th>\n",
       "      <th>children</th>\n",
       "      <th>days_employed</th>\n",
       "      <th>dob_years</th>\n",
       "      <th>education</th>\n",
       "      <th>education_id</th>\n",
       "      <th>family_status</th>\n",
       "      <th>family_status_id</th>\n",
       "      <th>gender</th>\n",
       "      <th>income_type</th>\n",
       "      <th>debt</th>\n",
       "      <th>total_income</th>\n",
       "      <th>purpose</th>\n",
       "    </tr>\n",
       "  </thead>\n",
       "  <tbody>\n",
       "    <tr>\n",
       "      <th>2849</th>\n",
       "      <td>0</td>\n",
       "      <td>1699</td>\n",
       "      <td>41</td>\n",
       "      <td>среднее</td>\n",
       "      <td>1</td>\n",
       "      <td>женат / замужем</td>\n",
       "      <td>0</td>\n",
       "      <td>F</td>\n",
       "      <td>сотрудник</td>\n",
       "      <td>0</td>\n",
       "      <td>142594</td>\n",
       "      <td>покупка жилья для семьи</td>\n",
       "    </tr>\n",
       "    <tr>\n",
       "      <th>4182</th>\n",
       "      <td>1</td>\n",
       "      <td>1699</td>\n",
       "      <td>34</td>\n",
       "      <td>ВЫСШЕЕ</td>\n",
       "      <td>0</td>\n",
       "      <td>гражданский брак</td>\n",
       "      <td>1</td>\n",
       "      <td>F</td>\n",
       "      <td>сотрудник</td>\n",
       "      <td>0</td>\n",
       "      <td>142594</td>\n",
       "      <td>свадьба</td>\n",
       "    </tr>\n",
       "    <tr>\n",
       "      <th>4851</th>\n",
       "      <td>0</td>\n",
       "      <td>333910</td>\n",
       "      <td>60</td>\n",
       "      <td>среднее</td>\n",
       "      <td>1</td>\n",
       "      <td>гражданский брак</td>\n",
       "      <td>1</td>\n",
       "      <td>F</td>\n",
       "      <td>пенсионер</td>\n",
       "      <td>0</td>\n",
       "      <td>118514</td>\n",
       "      <td>свадьба</td>\n",
       "    </tr>\n",
       "    <tr>\n",
       "      <th>5557</th>\n",
       "      <td>0</td>\n",
       "      <td>333910</td>\n",
       "      <td>58</td>\n",
       "      <td>среднее</td>\n",
       "      <td>1</td>\n",
       "      <td>гражданский брак</td>\n",
       "      <td>1</td>\n",
       "      <td>F</td>\n",
       "      <td>пенсионер</td>\n",
       "      <td>0</td>\n",
       "      <td>118514</td>\n",
       "      <td>сыграть свадьбу</td>\n",
       "    </tr>\n",
       "    <tr>\n",
       "      <th>7808</th>\n",
       "      <td>0</td>\n",
       "      <td>333910</td>\n",
       "      <td>57</td>\n",
       "      <td>среднее</td>\n",
       "      <td>1</td>\n",
       "      <td>гражданский брак</td>\n",
       "      <td>1</td>\n",
       "      <td>F</td>\n",
       "      <td>пенсионер</td>\n",
       "      <td>0</td>\n",
       "      <td>118514</td>\n",
       "      <td>на проведение свадьбы</td>\n",
       "    </tr>\n",
       "    <tr>\n",
       "      <th>8583</th>\n",
       "      <td>0</td>\n",
       "      <td>333910</td>\n",
       "      <td>58</td>\n",
       "      <td>высшее</td>\n",
       "      <td>0</td>\n",
       "      <td>Не женат / не замужем</td>\n",
       "      <td>4</td>\n",
       "      <td>F</td>\n",
       "      <td>пенсионер</td>\n",
       "      <td>0</td>\n",
       "      <td>118514</td>\n",
       "      <td>дополнительное образование</td>\n",
       "    </tr>\n",
       "    <tr>\n",
       "      <th>9238</th>\n",
       "      <td>2</td>\n",
       "      <td>1699</td>\n",
       "      <td>34</td>\n",
       "      <td>среднее</td>\n",
       "      <td>1</td>\n",
       "      <td>женат / замужем</td>\n",
       "      <td>0</td>\n",
       "      <td>F</td>\n",
       "      <td>сотрудник</td>\n",
       "      <td>0</td>\n",
       "      <td>142594</td>\n",
       "      <td>покупка жилья для сдачи</td>\n",
       "    </tr>\n",
       "    <tr>\n",
       "      <th>9528</th>\n",
       "      <td>0</td>\n",
       "      <td>333910</td>\n",
       "      <td>66</td>\n",
       "      <td>среднее</td>\n",
       "      <td>1</td>\n",
       "      <td>вдовец / вдова</td>\n",
       "      <td>2</td>\n",
       "      <td>F</td>\n",
       "      <td>пенсионер</td>\n",
       "      <td>0</td>\n",
       "      <td>118514</td>\n",
       "      <td>операции со своей недвижимостью</td>\n",
       "    </tr>\n",
       "    <tr>\n",
       "      <th>9627</th>\n",
       "      <td>0</td>\n",
       "      <td>333910</td>\n",
       "      <td>56</td>\n",
       "      <td>среднее</td>\n",
       "      <td>1</td>\n",
       "      <td>женат / замужем</td>\n",
       "      <td>0</td>\n",
       "      <td>F</td>\n",
       "      <td>пенсионер</td>\n",
       "      <td>0</td>\n",
       "      <td>118514</td>\n",
       "      <td>операции со своей недвижимостью</td>\n",
       "    </tr>\n",
       "    <tr>\n",
       "      <th>10462</th>\n",
       "      <td>0</td>\n",
       "      <td>333910</td>\n",
       "      <td>62</td>\n",
       "      <td>среднее</td>\n",
       "      <td>1</td>\n",
       "      <td>женат / замужем</td>\n",
       "      <td>0</td>\n",
       "      <td>F</td>\n",
       "      <td>пенсионер</td>\n",
       "      <td>0</td>\n",
       "      <td>118514</td>\n",
       "      <td>покупка коммерческой недвижимости</td>\n",
       "    </tr>\n",
       "    <tr>\n",
       "      <th>10697</th>\n",
       "      <td>0</td>\n",
       "      <td>1699</td>\n",
       "      <td>40</td>\n",
       "      <td>среднее</td>\n",
       "      <td>1</td>\n",
       "      <td>гражданский брак</td>\n",
       "      <td>1</td>\n",
       "      <td>F</td>\n",
       "      <td>компаньон</td>\n",
       "      <td>0</td>\n",
       "      <td>172357</td>\n",
       "      <td>сыграть свадьбу</td>\n",
       "    </tr>\n",
       "    <tr>\n",
       "      <th>10864</th>\n",
       "      <td>0</td>\n",
       "      <td>333910</td>\n",
       "      <td>62</td>\n",
       "      <td>среднее</td>\n",
       "      <td>1</td>\n",
       "      <td>женат / замужем</td>\n",
       "      <td>0</td>\n",
       "      <td>F</td>\n",
       "      <td>пенсионер</td>\n",
       "      <td>0</td>\n",
       "      <td>118514</td>\n",
       "      <td>ремонт жилья</td>\n",
       "    </tr>\n",
       "    <tr>\n",
       "      <th>10994</th>\n",
       "      <td>0</td>\n",
       "      <td>333910</td>\n",
       "      <td>62</td>\n",
       "      <td>среднее</td>\n",
       "      <td>1</td>\n",
       "      <td>женат / замужем</td>\n",
       "      <td>0</td>\n",
       "      <td>F</td>\n",
       "      <td>пенсионер</td>\n",
       "      <td>0</td>\n",
       "      <td>118514</td>\n",
       "      <td>ремонт жилья</td>\n",
       "    </tr>\n",
       "    <tr>\n",
       "      <th>11791</th>\n",
       "      <td>0</td>\n",
       "      <td>1699</td>\n",
       "      <td>47</td>\n",
       "      <td>среднее</td>\n",
       "      <td>1</td>\n",
       "      <td>женат / замужем</td>\n",
       "      <td>0</td>\n",
       "      <td>F</td>\n",
       "      <td>сотрудник</td>\n",
       "      <td>0</td>\n",
       "      <td>142594</td>\n",
       "      <td>строительство недвижимости</td>\n",
       "    </tr>\n",
       "    <tr>\n",
       "      <th>12373</th>\n",
       "      <td>0</td>\n",
       "      <td>333910</td>\n",
       "      <td>58</td>\n",
       "      <td>среднее</td>\n",
       "      <td>1</td>\n",
       "      <td>женат / замужем</td>\n",
       "      <td>0</td>\n",
       "      <td>M</td>\n",
       "      <td>сотрудник</td>\n",
       "      <td>0</td>\n",
       "      <td>142594</td>\n",
       "      <td>покупка недвижимости</td>\n",
       "    </tr>\n",
       "    <tr>\n",
       "      <th>12375</th>\n",
       "      <td>1</td>\n",
       "      <td>1699</td>\n",
       "      <td>37</td>\n",
       "      <td>среднее</td>\n",
       "      <td>1</td>\n",
       "      <td>женат / замужем</td>\n",
       "      <td>0</td>\n",
       "      <td>F</td>\n",
       "      <td>сотрудник</td>\n",
       "      <td>0</td>\n",
       "      <td>142594</td>\n",
       "      <td>покупка недвижимости</td>\n",
       "    </tr>\n",
       "    <tr>\n",
       "      <th>12736</th>\n",
       "      <td>0</td>\n",
       "      <td>333910</td>\n",
       "      <td>59</td>\n",
       "      <td>среднее</td>\n",
       "      <td>1</td>\n",
       "      <td>женат / замужем</td>\n",
       "      <td>0</td>\n",
       "      <td>F</td>\n",
       "      <td>пенсионер</td>\n",
       "      <td>0</td>\n",
       "      <td>118514</td>\n",
       "      <td>заняться образованием</td>\n",
       "    </tr>\n",
       "    <tr>\n",
       "      <th>13025</th>\n",
       "      <td>1</td>\n",
       "      <td>1699</td>\n",
       "      <td>44</td>\n",
       "      <td>среднее</td>\n",
       "      <td>1</td>\n",
       "      <td>женат / замужем</td>\n",
       "      <td>0</td>\n",
       "      <td>F</td>\n",
       "      <td>сотрудник</td>\n",
       "      <td>0</td>\n",
       "      <td>142594</td>\n",
       "      <td>сделка с подержанным автомобилем</td>\n",
       "    </tr>\n",
       "    <tr>\n",
       "      <th>13639</th>\n",
       "      <td>0</td>\n",
       "      <td>333910</td>\n",
       "      <td>64</td>\n",
       "      <td>среднее</td>\n",
       "      <td>1</td>\n",
       "      <td>женат / замужем</td>\n",
       "      <td>0</td>\n",
       "      <td>F</td>\n",
       "      <td>пенсионер</td>\n",
       "      <td>0</td>\n",
       "      <td>118514</td>\n",
       "      <td>автомобиль</td>\n",
       "    </tr>\n",
       "    <tr>\n",
       "      <th>13773</th>\n",
       "      <td>0</td>\n",
       "      <td>1699</td>\n",
       "      <td>35</td>\n",
       "      <td>среднее</td>\n",
       "      <td>1</td>\n",
       "      <td>гражданский брак</td>\n",
       "      <td>1</td>\n",
       "      <td>F</td>\n",
       "      <td>сотрудник</td>\n",
       "      <td>0</td>\n",
       "      <td>142594</td>\n",
       "      <td>сыграть свадьбу</td>\n",
       "    </tr>\n",
       "    <tr>\n",
       "      <th>13878</th>\n",
       "      <td>1</td>\n",
       "      <td>1699</td>\n",
       "      <td>31</td>\n",
       "      <td>среднее</td>\n",
       "      <td>1</td>\n",
       "      <td>женат / замужем</td>\n",
       "      <td>0</td>\n",
       "      <td>F</td>\n",
       "      <td>компаньон</td>\n",
       "      <td>0</td>\n",
       "      <td>172357</td>\n",
       "      <td>покупка жилья</td>\n",
       "    </tr>\n",
       "    <tr>\n",
       "      <th>13942</th>\n",
       "      <td>0</td>\n",
       "      <td>1699</td>\n",
       "      <td>44</td>\n",
       "      <td>среднее</td>\n",
       "      <td>1</td>\n",
       "      <td>женат / замужем</td>\n",
       "      <td>0</td>\n",
       "      <td>F</td>\n",
       "      <td>сотрудник</td>\n",
       "      <td>0</td>\n",
       "      <td>142594</td>\n",
       "      <td>приобретение автомобиля</td>\n",
       "    </tr>\n",
       "    <tr>\n",
       "      <th>14432</th>\n",
       "      <td>2</td>\n",
       "      <td>1699</td>\n",
       "      <td>36</td>\n",
       "      <td>высшее</td>\n",
       "      <td>0</td>\n",
       "      <td>женат / замужем</td>\n",
       "      <td>0</td>\n",
       "      <td>F</td>\n",
       "      <td>госслужащий</td>\n",
       "      <td>0</td>\n",
       "      <td>150447</td>\n",
       "      <td>получение образования</td>\n",
       "    </tr>\n",
       "    <tr>\n",
       "      <th>14832</th>\n",
       "      <td>0</td>\n",
       "      <td>1699</td>\n",
       "      <td>50</td>\n",
       "      <td>среднее</td>\n",
       "      <td>1</td>\n",
       "      <td>Не женат / не замужем</td>\n",
       "      <td>4</td>\n",
       "      <td>F</td>\n",
       "      <td>сотрудник</td>\n",
       "      <td>0</td>\n",
       "      <td>142594</td>\n",
       "      <td>недвижимость</td>\n",
       "    </tr>\n",
       "    <tr>\n",
       "      <th>15091</th>\n",
       "      <td>0</td>\n",
       "      <td>333910</td>\n",
       "      <td>58</td>\n",
       "      <td>среднее</td>\n",
       "      <td>1</td>\n",
       "      <td>гражданский брак</td>\n",
       "      <td>1</td>\n",
       "      <td>M</td>\n",
       "      <td>сотрудник</td>\n",
       "      <td>0</td>\n",
       "      <td>142594</td>\n",
       "      <td>на проведение свадьбы</td>\n",
       "    </tr>\n",
       "    <tr>\n",
       "      <th>15188</th>\n",
       "      <td>0</td>\n",
       "      <td>333910</td>\n",
       "      <td>60</td>\n",
       "      <td>среднее</td>\n",
       "      <td>1</td>\n",
       "      <td>женат / замужем</td>\n",
       "      <td>0</td>\n",
       "      <td>M</td>\n",
       "      <td>сотрудник</td>\n",
       "      <td>0</td>\n",
       "      <td>142594</td>\n",
       "      <td>покупка недвижимости</td>\n",
       "    </tr>\n",
       "    <tr>\n",
       "      <th>15273</th>\n",
       "      <td>0</td>\n",
       "      <td>333910</td>\n",
       "      <td>57</td>\n",
       "      <td>среднее</td>\n",
       "      <td>1</td>\n",
       "      <td>гражданский брак</td>\n",
       "      <td>1</td>\n",
       "      <td>F</td>\n",
       "      <td>пенсионер</td>\n",
       "      <td>0</td>\n",
       "      <td>118514</td>\n",
       "      <td>свадьба</td>\n",
       "    </tr>\n",
       "    <tr>\n",
       "      <th>16176</th>\n",
       "      <td>0</td>\n",
       "      <td>1699</td>\n",
       "      <td>47</td>\n",
       "      <td>среднее</td>\n",
       "      <td>1</td>\n",
       "      <td>женат / замужем</td>\n",
       "      <td>0</td>\n",
       "      <td>F</td>\n",
       "      <td>сотрудник</td>\n",
       "      <td>0</td>\n",
       "      <td>142594</td>\n",
       "      <td>ремонт жилья</td>\n",
       "    </tr>\n",
       "    <tr>\n",
       "      <th>16378</th>\n",
       "      <td>0</td>\n",
       "      <td>1699</td>\n",
       "      <td>46</td>\n",
       "      <td>среднее</td>\n",
       "      <td>1</td>\n",
       "      <td>женат / замужем</td>\n",
       "      <td>0</td>\n",
       "      <td>F</td>\n",
       "      <td>сотрудник</td>\n",
       "      <td>0</td>\n",
       "      <td>142594</td>\n",
       "      <td>высшее образование</td>\n",
       "    </tr>\n",
       "    <tr>\n",
       "      <th>16902</th>\n",
       "      <td>2</td>\n",
       "      <td>1699</td>\n",
       "      <td>39</td>\n",
       "      <td>среднее</td>\n",
       "      <td>1</td>\n",
       "      <td>гражданский брак</td>\n",
       "      <td>1</td>\n",
       "      <td>F</td>\n",
       "      <td>сотрудник</td>\n",
       "      <td>0</td>\n",
       "      <td>142594</td>\n",
       "      <td>сыграть свадьбу</td>\n",
       "    </tr>\n",
       "    <tr>\n",
       "      <th>16904</th>\n",
       "      <td>1</td>\n",
       "      <td>1699</td>\n",
       "      <td>32</td>\n",
       "      <td>высшее</td>\n",
       "      <td>0</td>\n",
       "      <td>женат / замужем</td>\n",
       "      <td>0</td>\n",
       "      <td>F</td>\n",
       "      <td>сотрудник</td>\n",
       "      <td>0</td>\n",
       "      <td>142594</td>\n",
       "      <td>на покупку подержанного автомобиля</td>\n",
       "    </tr>\n",
       "    <tr>\n",
       "      <th>17379</th>\n",
       "      <td>0</td>\n",
       "      <td>333910</td>\n",
       "      <td>54</td>\n",
       "      <td>высшее</td>\n",
       "      <td>0</td>\n",
       "      <td>женат / замужем</td>\n",
       "      <td>0</td>\n",
       "      <td>M</td>\n",
       "      <td>компаньон</td>\n",
       "      <td>0</td>\n",
       "      <td>172357</td>\n",
       "      <td>операции с коммерческой недвижимостью</td>\n",
       "    </tr>\n",
       "    <tr>\n",
       "      <th>17755</th>\n",
       "      <td>1</td>\n",
       "      <td>1699</td>\n",
       "      <td>43</td>\n",
       "      <td>среднее</td>\n",
       "      <td>1</td>\n",
       "      <td>женат / замужем</td>\n",
       "      <td>0</td>\n",
       "      <td>M</td>\n",
       "      <td>сотрудник</td>\n",
       "      <td>0</td>\n",
       "      <td>142594</td>\n",
       "      <td>заняться образованием</td>\n",
       "    </tr>\n",
       "    <tr>\n",
       "      <th>17774</th>\n",
       "      <td>1</td>\n",
       "      <td>1699</td>\n",
       "      <td>40</td>\n",
       "      <td>среднее</td>\n",
       "      <td>1</td>\n",
       "      <td>гражданский брак</td>\n",
       "      <td>1</td>\n",
       "      <td>F</td>\n",
       "      <td>компаньон</td>\n",
       "      <td>0</td>\n",
       "      <td>172357</td>\n",
       "      <td>строительство жилой недвижимости</td>\n",
       "    </tr>\n",
       "    <tr>\n",
       "      <th>18328</th>\n",
       "      <td>0</td>\n",
       "      <td>1699</td>\n",
       "      <td>29</td>\n",
       "      <td>высшее</td>\n",
       "      <td>0</td>\n",
       "      <td>женат / замужем</td>\n",
       "      <td>0</td>\n",
       "      <td>M</td>\n",
       "      <td>сотрудник</td>\n",
       "      <td>0</td>\n",
       "      <td>142594</td>\n",
       "      <td>покупка жилой недвижимости</td>\n",
       "    </tr>\n",
       "    <tr>\n",
       "      <th>18349</th>\n",
       "      <td>1</td>\n",
       "      <td>1699</td>\n",
       "      <td>30</td>\n",
       "      <td>высшее</td>\n",
       "      <td>0</td>\n",
       "      <td>женат / замужем</td>\n",
       "      <td>0</td>\n",
       "      <td>F</td>\n",
       "      <td>госслужащий</td>\n",
       "      <td>0</td>\n",
       "      <td>150447</td>\n",
       "      <td>покупка жилья для семьи</td>\n",
       "    </tr>\n",
       "    <tr>\n",
       "      <th>18428</th>\n",
       "      <td>0</td>\n",
       "      <td>333910</td>\n",
       "      <td>64</td>\n",
       "      <td>среднее</td>\n",
       "      <td>1</td>\n",
       "      <td>женат / замужем</td>\n",
       "      <td>0</td>\n",
       "      <td>F</td>\n",
       "      <td>пенсионер</td>\n",
       "      <td>0</td>\n",
       "      <td>118514</td>\n",
       "      <td>жилье</td>\n",
       "    </tr>\n",
       "    <tr>\n",
       "      <th>18521</th>\n",
       "      <td>0</td>\n",
       "      <td>333910</td>\n",
       "      <td>56</td>\n",
       "      <td>среднее</td>\n",
       "      <td>1</td>\n",
       "      <td>гражданский брак</td>\n",
       "      <td>1</td>\n",
       "      <td>F</td>\n",
       "      <td>сотрудник</td>\n",
       "      <td>0</td>\n",
       "      <td>142594</td>\n",
       "      <td>сыграть свадьбу</td>\n",
       "    </tr>\n",
       "    <tr>\n",
       "      <th>18563</th>\n",
       "      <td>0</td>\n",
       "      <td>333910</td>\n",
       "      <td>54</td>\n",
       "      <td>среднее</td>\n",
       "      <td>1</td>\n",
       "      <td>женат / замужем</td>\n",
       "      <td>0</td>\n",
       "      <td>F</td>\n",
       "      <td>сотрудник</td>\n",
       "      <td>0</td>\n",
       "      <td>142594</td>\n",
       "      <td>операции со своей недвижимостью</td>\n",
       "    </tr>\n",
       "    <tr>\n",
       "      <th>18755</th>\n",
       "      <td>0</td>\n",
       "      <td>333910</td>\n",
       "      <td>58</td>\n",
       "      <td>среднее</td>\n",
       "      <td>1</td>\n",
       "      <td>женат / замужем</td>\n",
       "      <td>0</td>\n",
       "      <td>F</td>\n",
       "      <td>пенсионер</td>\n",
       "      <td>0</td>\n",
       "      <td>118514</td>\n",
       "      <td>заняться образованием</td>\n",
       "    </tr>\n",
       "    <tr>\n",
       "      <th>19041</th>\n",
       "      <td>0</td>\n",
       "      <td>333910</td>\n",
       "      <td>56</td>\n",
       "      <td>среднее</td>\n",
       "      <td>1</td>\n",
       "      <td>гражданский брак</td>\n",
       "      <td>1</td>\n",
       "      <td>F</td>\n",
       "      <td>сотрудник</td>\n",
       "      <td>0</td>\n",
       "      <td>142594</td>\n",
       "      <td>на проведение свадьбы</td>\n",
       "    </tr>\n",
       "    <tr>\n",
       "      <th>19184</th>\n",
       "      <td>0</td>\n",
       "      <td>1699</td>\n",
       "      <td>46</td>\n",
       "      <td>среднее</td>\n",
       "      <td>1</td>\n",
       "      <td>женат / замужем</td>\n",
       "      <td>0</td>\n",
       "      <td>F</td>\n",
       "      <td>сотрудник</td>\n",
       "      <td>0</td>\n",
       "      <td>142594</td>\n",
       "      <td>свой автомобиль</td>\n",
       "    </tr>\n",
       "    <tr>\n",
       "      <th>19321</th>\n",
       "      <td>0</td>\n",
       "      <td>846</td>\n",
       "      <td>23</td>\n",
       "      <td>среднее</td>\n",
       "      <td>1</td>\n",
       "      <td>Не женат / не замужем</td>\n",
       "      <td>4</td>\n",
       "      <td>F</td>\n",
       "      <td>сотрудник</td>\n",
       "      <td>0</td>\n",
       "      <td>142594</td>\n",
       "      <td>сделка с подержанным автомобилем</td>\n",
       "    </tr>\n",
       "    <tr>\n",
       "      <th>19387</th>\n",
       "      <td>0</td>\n",
       "      <td>1699</td>\n",
       "      <td>38</td>\n",
       "      <td>высшее</td>\n",
       "      <td>0</td>\n",
       "      <td>гражданский брак</td>\n",
       "      <td>1</td>\n",
       "      <td>F</td>\n",
       "      <td>компаньон</td>\n",
       "      <td>0</td>\n",
       "      <td>172357</td>\n",
       "      <td>на проведение свадьбы</td>\n",
       "    </tr>\n",
       "    <tr>\n",
       "      <th>19688</th>\n",
       "      <td>0</td>\n",
       "      <td>333910</td>\n",
       "      <td>61</td>\n",
       "      <td>среднее</td>\n",
       "      <td>1</td>\n",
       "      <td>женат / замужем</td>\n",
       "      <td>0</td>\n",
       "      <td>F</td>\n",
       "      <td>пенсионер</td>\n",
       "      <td>0</td>\n",
       "      <td>118514</td>\n",
       "      <td>операции с недвижимостью</td>\n",
       "    </tr>\n",
       "    <tr>\n",
       "      <th>19832</th>\n",
       "      <td>0</td>\n",
       "      <td>1699</td>\n",
       "      <td>48</td>\n",
       "      <td>среднее</td>\n",
       "      <td>1</td>\n",
       "      <td>женат / замужем</td>\n",
       "      <td>0</td>\n",
       "      <td>F</td>\n",
       "      <td>сотрудник</td>\n",
       "      <td>0</td>\n",
       "      <td>142594</td>\n",
       "      <td>ремонт жилья</td>\n",
       "    </tr>\n",
       "    <tr>\n",
       "      <th>19946</th>\n",
       "      <td>0</td>\n",
       "      <td>333910</td>\n",
       "      <td>57</td>\n",
       "      <td>среднее</td>\n",
       "      <td>1</td>\n",
       "      <td>женат / замужем</td>\n",
       "      <td>0</td>\n",
       "      <td>F</td>\n",
       "      <td>сотрудник</td>\n",
       "      <td>0</td>\n",
       "      <td>142594</td>\n",
       "      <td>сделка с подержанным автомобилем</td>\n",
       "    </tr>\n",
       "    <tr>\n",
       "      <th>20116</th>\n",
       "      <td>0</td>\n",
       "      <td>333910</td>\n",
       "      <td>57</td>\n",
       "      <td>среднее</td>\n",
       "      <td>1</td>\n",
       "      <td>гражданский брак</td>\n",
       "      <td>1</td>\n",
       "      <td>M</td>\n",
       "      <td>пенсионер</td>\n",
       "      <td>0</td>\n",
       "      <td>118514</td>\n",
       "      <td>свадьба</td>\n",
       "    </tr>\n",
       "    <tr>\n",
       "      <th>20165</th>\n",
       "      <td>0</td>\n",
       "      <td>1699</td>\n",
       "      <td>42</td>\n",
       "      <td>среднее</td>\n",
       "      <td>1</td>\n",
       "      <td>женат / замужем</td>\n",
       "      <td>0</td>\n",
       "      <td>F</td>\n",
       "      <td>сотрудник</td>\n",
       "      <td>0</td>\n",
       "      <td>142594</td>\n",
       "      <td>покупка жилья для семьи</td>\n",
       "    </tr>\n",
       "    <tr>\n",
       "      <th>20702</th>\n",
       "      <td>0</td>\n",
       "      <td>333910</td>\n",
       "      <td>64</td>\n",
       "      <td>среднее</td>\n",
       "      <td>1</td>\n",
       "      <td>женат / замужем</td>\n",
       "      <td>0</td>\n",
       "      <td>F</td>\n",
       "      <td>пенсионер</td>\n",
       "      <td>0</td>\n",
       "      <td>118514</td>\n",
       "      <td>дополнительное образование</td>\n",
       "    </tr>\n",
       "    <tr>\n",
       "      <th>21032</th>\n",
       "      <td>0</td>\n",
       "      <td>333910</td>\n",
       "      <td>60</td>\n",
       "      <td>среднее</td>\n",
       "      <td>1</td>\n",
       "      <td>женат / замужем</td>\n",
       "      <td>0</td>\n",
       "      <td>F</td>\n",
       "      <td>пенсионер</td>\n",
       "      <td>0</td>\n",
       "      <td>118514</td>\n",
       "      <td>заняться образованием</td>\n",
       "    </tr>\n",
       "    <tr>\n",
       "      <th>21132</th>\n",
       "      <td>0</td>\n",
       "      <td>1699</td>\n",
       "      <td>47</td>\n",
       "      <td>среднее</td>\n",
       "      <td>1</td>\n",
       "      <td>женат / замужем</td>\n",
       "      <td>0</td>\n",
       "      <td>F</td>\n",
       "      <td>сотрудник</td>\n",
       "      <td>0</td>\n",
       "      <td>142594</td>\n",
       "      <td>ремонт жилья</td>\n",
       "    </tr>\n",
       "    <tr>\n",
       "      <th>21281</th>\n",
       "      <td>1</td>\n",
       "      <td>1699</td>\n",
       "      <td>30</td>\n",
       "      <td>высшее</td>\n",
       "      <td>0</td>\n",
       "      <td>женат / замужем</td>\n",
       "      <td>0</td>\n",
       "      <td>F</td>\n",
       "      <td>сотрудник</td>\n",
       "      <td>0</td>\n",
       "      <td>142594</td>\n",
       "      <td>покупка коммерческой недвижимости</td>\n",
       "    </tr>\n",
       "    <tr>\n",
       "      <th>21415</th>\n",
       "      <td>0</td>\n",
       "      <td>333910</td>\n",
       "      <td>54</td>\n",
       "      <td>среднее</td>\n",
       "      <td>1</td>\n",
       "      <td>женат / замужем</td>\n",
       "      <td>0</td>\n",
       "      <td>F</td>\n",
       "      <td>пенсионер</td>\n",
       "      <td>0</td>\n",
       "      <td>118514</td>\n",
       "      <td>операции с жильем</td>\n",
       "    </tr>\n",
       "  </tbody>\n",
       "</table>\n",
       "</div>"
      ],
      "text/plain": [
       "       children  days_employed  dob_years education  education_id  \\\n",
       "2849          0           1699         41   среднее             1   \n",
       "4182          1           1699         34    ВЫСШЕЕ             0   \n",
       "4851          0         333910         60   среднее             1   \n",
       "5557          0         333910         58   среднее             1   \n",
       "7808          0         333910         57   среднее             1   \n",
       "8583          0         333910         58    высшее             0   \n",
       "9238          2           1699         34   среднее             1   \n",
       "9528          0         333910         66   среднее             1   \n",
       "9627          0         333910         56   среднее             1   \n",
       "10462         0         333910         62   среднее             1   \n",
       "10697         0           1699         40   среднее             1   \n",
       "10864         0         333910         62   среднее             1   \n",
       "10994         0         333910         62   среднее             1   \n",
       "11791         0           1699         47   среднее             1   \n",
       "12373         0         333910         58   среднее             1   \n",
       "12375         1           1699         37   среднее             1   \n",
       "12736         0         333910         59   среднее             1   \n",
       "13025         1           1699         44   среднее             1   \n",
       "13639         0         333910         64   среднее             1   \n",
       "13773         0           1699         35   среднее             1   \n",
       "13878         1           1699         31   среднее             1   \n",
       "13942         0           1699         44   среднее             1   \n",
       "14432         2           1699         36    высшее             0   \n",
       "14832         0           1699         50   среднее             1   \n",
       "15091         0         333910         58   среднее             1   \n",
       "15188         0         333910         60   среднее             1   \n",
       "15273         0         333910         57   среднее             1   \n",
       "16176         0           1699         47   среднее             1   \n",
       "16378         0           1699         46   среднее             1   \n",
       "16902         2           1699         39   среднее             1   \n",
       "16904         1           1699         32    высшее             0   \n",
       "17379         0         333910         54    высшее             0   \n",
       "17755         1           1699         43   среднее             1   \n",
       "17774         1           1699         40   среднее             1   \n",
       "18328         0           1699         29    высшее             0   \n",
       "18349         1           1699         30    высшее             0   \n",
       "18428         0         333910         64   среднее             1   \n",
       "18521         0         333910         56   среднее             1   \n",
       "18563         0         333910         54   среднее             1   \n",
       "18755         0         333910         58   среднее             1   \n",
       "19041         0         333910         56   среднее             1   \n",
       "19184         0           1699         46   среднее             1   \n",
       "19321         0            846         23   среднее             1   \n",
       "19387         0           1699         38    высшее             0   \n",
       "19688         0         333910         61   среднее             1   \n",
       "19832         0           1699         48   среднее             1   \n",
       "19946         0         333910         57   среднее             1   \n",
       "20116         0         333910         57   среднее             1   \n",
       "20165         0           1699         42   среднее             1   \n",
       "20702         0         333910         64   среднее             1   \n",
       "21032         0         333910         60   среднее             1   \n",
       "21132         0           1699         47   среднее             1   \n",
       "21281         1           1699         30    высшее             0   \n",
       "21415         0         333910         54   среднее             1   \n",
       "\n",
       "               family_status  family_status_id gender  income_type  debt  \\\n",
       "2849         женат / замужем                 0      F    сотрудник     0   \n",
       "4182        гражданский брак                 1      F    сотрудник     0   \n",
       "4851        гражданский брак                 1      F    пенсионер     0   \n",
       "5557        гражданский брак                 1      F    пенсионер     0   \n",
       "7808        гражданский брак                 1      F    пенсионер     0   \n",
       "8583   Не женат / не замужем                 4      F    пенсионер     0   \n",
       "9238         женат / замужем                 0      F    сотрудник     0   \n",
       "9528          вдовец / вдова                 2      F    пенсионер     0   \n",
       "9627         женат / замужем                 0      F    пенсионер     0   \n",
       "10462        женат / замужем                 0      F    пенсионер     0   \n",
       "10697       гражданский брак                 1      F    компаньон     0   \n",
       "10864        женат / замужем                 0      F    пенсионер     0   \n",
       "10994        женат / замужем                 0      F    пенсионер     0   \n",
       "11791        женат / замужем                 0      F    сотрудник     0   \n",
       "12373        женат / замужем                 0      M    сотрудник     0   \n",
       "12375        женат / замужем                 0      F    сотрудник     0   \n",
       "12736        женат / замужем                 0      F    пенсионер     0   \n",
       "13025        женат / замужем                 0      F    сотрудник     0   \n",
       "13639        женат / замужем                 0      F    пенсионер     0   \n",
       "13773       гражданский брак                 1      F    сотрудник     0   \n",
       "13878        женат / замужем                 0      F    компаньон     0   \n",
       "13942        женат / замужем                 0      F    сотрудник     0   \n",
       "14432        женат / замужем                 0      F  госслужащий     0   \n",
       "14832  Не женат / не замужем                 4      F    сотрудник     0   \n",
       "15091       гражданский брак                 1      M    сотрудник     0   \n",
       "15188        женат / замужем                 0      M    сотрудник     0   \n",
       "15273       гражданский брак                 1      F    пенсионер     0   \n",
       "16176        женат / замужем                 0      F    сотрудник     0   \n",
       "16378        женат / замужем                 0      F    сотрудник     0   \n",
       "16902       гражданский брак                 1      F    сотрудник     0   \n",
       "16904        женат / замужем                 0      F    сотрудник     0   \n",
       "17379        женат / замужем                 0      M    компаньон     0   \n",
       "17755        женат / замужем                 0      M    сотрудник     0   \n",
       "17774       гражданский брак                 1      F    компаньон     0   \n",
       "18328        женат / замужем                 0      M    сотрудник     0   \n",
       "18349        женат / замужем                 0      F  госслужащий     0   \n",
       "18428        женат / замужем                 0      F    пенсионер     0   \n",
       "18521       гражданский брак                 1      F    сотрудник     0   \n",
       "18563        женат / замужем                 0      F    сотрудник     0   \n",
       "18755        женат / замужем                 0      F    пенсионер     0   \n",
       "19041       гражданский брак                 1      F    сотрудник     0   \n",
       "19184        женат / замужем                 0      F    сотрудник     0   \n",
       "19321  Не женат / не замужем                 4      F    сотрудник     0   \n",
       "19387       гражданский брак                 1      F    компаньон     0   \n",
       "19688        женат / замужем                 0      F    пенсионер     0   \n",
       "19832        женат / замужем                 0      F    сотрудник     0   \n",
       "19946        женат / замужем                 0      F    сотрудник     0   \n",
       "20116       гражданский брак                 1      M    пенсионер     0   \n",
       "20165        женат / замужем                 0      F    сотрудник     0   \n",
       "20702        женат / замужем                 0      F    пенсионер     0   \n",
       "21032        женат / замужем                 0      F    пенсионер     0   \n",
       "21132        женат / замужем                 0      F    сотрудник     0   \n",
       "21281        женат / замужем                 0      F    сотрудник     0   \n",
       "21415        женат / замужем                 0      F    пенсионер     0   \n",
       "\n",
       "       total_income                                purpose  \n",
       "2849         142594                покупка жилья для семьи  \n",
       "4182         142594                                свадьба  \n",
       "4851         118514                                свадьба  \n",
       "5557         118514                        сыграть свадьбу  \n",
       "7808         118514                  на проведение свадьбы  \n",
       "8583         118514             дополнительное образование  \n",
       "9238         142594                покупка жилья для сдачи  \n",
       "9528         118514        операции со своей недвижимостью  \n",
       "9627         118514        операции со своей недвижимостью  \n",
       "10462        118514      покупка коммерческой недвижимости  \n",
       "10697        172357                        сыграть свадьбу  \n",
       "10864        118514                           ремонт жилья  \n",
       "10994        118514                           ремонт жилья  \n",
       "11791        142594             строительство недвижимости  \n",
       "12373        142594                   покупка недвижимости  \n",
       "12375        142594                   покупка недвижимости  \n",
       "12736        118514                  заняться образованием  \n",
       "13025        142594       сделка с подержанным автомобилем  \n",
       "13639        118514                             автомобиль  \n",
       "13773        142594                        сыграть свадьбу  \n",
       "13878        172357                          покупка жилья  \n",
       "13942        142594                приобретение автомобиля  \n",
       "14432        150447                  получение образования  \n",
       "14832        142594                           недвижимость  \n",
       "15091        142594                  на проведение свадьбы  \n",
       "15188        142594                   покупка недвижимости  \n",
       "15273        118514                                свадьба  \n",
       "16176        142594                           ремонт жилья  \n",
       "16378        142594                     высшее образование  \n",
       "16902        142594                        сыграть свадьбу  \n",
       "16904        142594     на покупку подержанного автомобиля  \n",
       "17379        172357  операции с коммерческой недвижимостью  \n",
       "17755        142594                  заняться образованием  \n",
       "17774        172357       строительство жилой недвижимости  \n",
       "18328        142594             покупка жилой недвижимости  \n",
       "18349        150447                покупка жилья для семьи  \n",
       "18428        118514                                  жилье  \n",
       "18521        142594                        сыграть свадьбу  \n",
       "18563        142594        операции со своей недвижимостью  \n",
       "18755        118514                  заняться образованием  \n",
       "19041        142594                  на проведение свадьбы  \n",
       "19184        142594                        свой автомобиль  \n",
       "19321        142594       сделка с подержанным автомобилем  \n",
       "19387        172357                  на проведение свадьбы  \n",
       "19688        118514               операции с недвижимостью  \n",
       "19832        142594                           ремонт жилья  \n",
       "19946        142594       сделка с подержанным автомобилем  \n",
       "20116        118514                                свадьба  \n",
       "20165        142594                покупка жилья для семьи  \n",
       "20702        118514             дополнительное образование  \n",
       "21032        118514                  заняться образованием  \n",
       "21132        142594                           ремонт жилья  \n",
       "21281        142594      покупка коммерческой недвижимости  \n",
       "21415        118514                      операции с жильем  "
      ]
     },
     "execution_count": 21,
     "metadata": {},
     "output_type": "execute_result"
    }
   ],
   "source": [
    "# В таблице обнаружено 54 дубликата. Выведем их на экран.\n",
    "data[data.duplicated()]"
   ]
  },
  {
   "cell_type": "markdown",
   "id": "2106b67d",
   "metadata": {},
   "source": [
    "Применим функцию `drop_duplicates()`, чтобы избавиться от дубликатов."
   ]
  },
  {
   "cell_type": "code",
   "execution_count": 22,
   "id": "fe9d9d65",
   "metadata": {},
   "outputs": [
    {
     "data": {
      "text/plain": [
       "0"
      ]
     },
     "execution_count": 22,
     "metadata": {},
     "output_type": "execute_result"
    }
   ],
   "source": [
    "data = data.drop_duplicates()\n",
    "# проверим\n",
    "data.duplicated().sum()"
   ]
  },
  {
   "cell_type": "markdown",
   "id": "74dbd34e",
   "metadata": {},
   "source": [
    "Как, видим не осталось ни единой строки-дубликата. В задании также было указано обратить внимание на регистр значений в столбце `education` на неявные дубликаты. Проверим."
   ]
  },
  {
   "cell_type": "code",
   "execution_count": 23,
   "id": "b94daab6",
   "metadata": {
    "scrolled": false
   },
   "outputs": [
    {
     "data": {
      "text/plain": [
       "среднее                13705\n",
       "высшее                  4710\n",
       "СРЕДНЕЕ                  772\n",
       "Среднее                  711\n",
       "неоконченное высшее      668\n",
       "ВЫСШЕЕ                   273\n",
       "Высшее                   268\n",
       "начальное                250\n",
       "Неоконченное высшее       47\n",
       "НЕОКОНЧЕННОЕ ВЫСШЕЕ       29\n",
       "НАЧАЛЬНОЕ                 17\n",
       "Начальное                 15\n",
       "ученая степень             4\n",
       "Ученая степень             1\n",
       "УЧЕНАЯ СТЕПЕНЬ             1\n",
       "Name: education, dtype: int64"
      ]
     },
     "execution_count": 23,
     "metadata": {},
     "output_type": "execute_result"
    }
   ],
   "source": [
    "data['education'].value_counts()"
   ]
  },
  {
   "cell_type": "markdown",
   "id": "797f8c9d",
   "metadata": {},
   "source": [
    "Действительно, значения имеют разный регистр. Приведем столбец `education` и другие столбцы, имеющие тип данных `object`, к нижнему регистру."
   ]
  },
  {
   "cell_type": "code",
   "execution_count": 24,
   "id": "fd78765c",
   "metadata": {},
   "outputs": [
    {
     "data": {
      "text/html": [
       "<div>\n",
       "<style scoped>\n",
       "    .dataframe tbody tr th:only-of-type {\n",
       "        vertical-align: middle;\n",
       "    }\n",
       "\n",
       "    .dataframe tbody tr th {\n",
       "        vertical-align: top;\n",
       "    }\n",
       "\n",
       "    .dataframe thead th {\n",
       "        text-align: right;\n",
       "    }\n",
       "</style>\n",
       "<table border=\"1\" class=\"dataframe\">\n",
       "  <thead>\n",
       "    <tr style=\"text-align: right;\">\n",
       "      <th></th>\n",
       "      <th>children</th>\n",
       "      <th>days_employed</th>\n",
       "      <th>dob_years</th>\n",
       "      <th>education</th>\n",
       "      <th>education_id</th>\n",
       "      <th>family_status</th>\n",
       "      <th>family_status_id</th>\n",
       "      <th>gender</th>\n",
       "      <th>income_type</th>\n",
       "      <th>debt</th>\n",
       "      <th>total_income</th>\n",
       "      <th>purpose</th>\n",
       "    </tr>\n",
       "  </thead>\n",
       "  <tbody>\n",
       "    <tr>\n",
       "      <th>0</th>\n",
       "      <td>1</td>\n",
       "      <td>8437</td>\n",
       "      <td>42</td>\n",
       "      <td>высшее</td>\n",
       "      <td>0</td>\n",
       "      <td>женат / замужем</td>\n",
       "      <td>0</td>\n",
       "      <td>f</td>\n",
       "      <td>сотрудник</td>\n",
       "      <td>0</td>\n",
       "      <td>253875</td>\n",
       "      <td>покупка жилья</td>\n",
       "    </tr>\n",
       "    <tr>\n",
       "      <th>1</th>\n",
       "      <td>1</td>\n",
       "      <td>4024</td>\n",
       "      <td>36</td>\n",
       "      <td>среднее</td>\n",
       "      <td>1</td>\n",
       "      <td>женат / замужем</td>\n",
       "      <td>0</td>\n",
       "      <td>f</td>\n",
       "      <td>сотрудник</td>\n",
       "      <td>0</td>\n",
       "      <td>112080</td>\n",
       "      <td>приобретение автомобиля</td>\n",
       "    </tr>\n",
       "    <tr>\n",
       "      <th>2</th>\n",
       "      <td>0</td>\n",
       "      <td>5623</td>\n",
       "      <td>33</td>\n",
       "      <td>среднее</td>\n",
       "      <td>1</td>\n",
       "      <td>женат / замужем</td>\n",
       "      <td>0</td>\n",
       "      <td>m</td>\n",
       "      <td>сотрудник</td>\n",
       "      <td>0</td>\n",
       "      <td>145885</td>\n",
       "      <td>покупка жилья</td>\n",
       "    </tr>\n",
       "    <tr>\n",
       "      <th>3</th>\n",
       "      <td>3</td>\n",
       "      <td>4124</td>\n",
       "      <td>32</td>\n",
       "      <td>среднее</td>\n",
       "      <td>1</td>\n",
       "      <td>женат / замужем</td>\n",
       "      <td>0</td>\n",
       "      <td>m</td>\n",
       "      <td>сотрудник</td>\n",
       "      <td>0</td>\n",
       "      <td>267628</td>\n",
       "      <td>дополнительное образование</td>\n",
       "    </tr>\n",
       "    <tr>\n",
       "      <th>4</th>\n",
       "      <td>0</td>\n",
       "      <td>340266</td>\n",
       "      <td>53</td>\n",
       "      <td>среднее</td>\n",
       "      <td>1</td>\n",
       "      <td>гражданский брак</td>\n",
       "      <td>1</td>\n",
       "      <td>f</td>\n",
       "      <td>пенсионер</td>\n",
       "      <td>0</td>\n",
       "      <td>158616</td>\n",
       "      <td>сыграть свадьбу</td>\n",
       "    </tr>\n",
       "    <tr>\n",
       "      <th>5</th>\n",
       "      <td>0</td>\n",
       "      <td>926</td>\n",
       "      <td>27</td>\n",
       "      <td>высшее</td>\n",
       "      <td>0</td>\n",
       "      <td>гражданский брак</td>\n",
       "      <td>1</td>\n",
       "      <td>m</td>\n",
       "      <td>компаньон</td>\n",
       "      <td>0</td>\n",
       "      <td>255763</td>\n",
       "      <td>покупка жилья</td>\n",
       "    </tr>\n",
       "    <tr>\n",
       "      <th>6</th>\n",
       "      <td>0</td>\n",
       "      <td>2879</td>\n",
       "      <td>43</td>\n",
       "      <td>высшее</td>\n",
       "      <td>0</td>\n",
       "      <td>женат / замужем</td>\n",
       "      <td>0</td>\n",
       "      <td>f</td>\n",
       "      <td>компаньон</td>\n",
       "      <td>0</td>\n",
       "      <td>240525</td>\n",
       "      <td>операции с жильем</td>\n",
       "    </tr>\n",
       "    <tr>\n",
       "      <th>7</th>\n",
       "      <td>0</td>\n",
       "      <td>152</td>\n",
       "      <td>50</td>\n",
       "      <td>среднее</td>\n",
       "      <td>1</td>\n",
       "      <td>женат / замужем</td>\n",
       "      <td>0</td>\n",
       "      <td>m</td>\n",
       "      <td>сотрудник</td>\n",
       "      <td>0</td>\n",
       "      <td>135823</td>\n",
       "      <td>образование</td>\n",
       "    </tr>\n",
       "    <tr>\n",
       "      <th>8</th>\n",
       "      <td>2</td>\n",
       "      <td>6929</td>\n",
       "      <td>35</td>\n",
       "      <td>высшее</td>\n",
       "      <td>0</td>\n",
       "      <td>гражданский брак</td>\n",
       "      <td>1</td>\n",
       "      <td>f</td>\n",
       "      <td>сотрудник</td>\n",
       "      <td>0</td>\n",
       "      <td>95856</td>\n",
       "      <td>на проведение свадьбы</td>\n",
       "    </tr>\n",
       "    <tr>\n",
       "      <th>9</th>\n",
       "      <td>0</td>\n",
       "      <td>2188</td>\n",
       "      <td>41</td>\n",
       "      <td>среднее</td>\n",
       "      <td>1</td>\n",
       "      <td>женат / замужем</td>\n",
       "      <td>0</td>\n",
       "      <td>m</td>\n",
       "      <td>сотрудник</td>\n",
       "      <td>0</td>\n",
       "      <td>144425</td>\n",
       "      <td>покупка жилья для семьи</td>\n",
       "    </tr>\n",
       "    <tr>\n",
       "      <th>10</th>\n",
       "      <td>2</td>\n",
       "      <td>4171</td>\n",
       "      <td>36</td>\n",
       "      <td>высшее</td>\n",
       "      <td>0</td>\n",
       "      <td>женат / замужем</td>\n",
       "      <td>0</td>\n",
       "      <td>m</td>\n",
       "      <td>компаньон</td>\n",
       "      <td>0</td>\n",
       "      <td>113943</td>\n",
       "      <td>покупка недвижимости</td>\n",
       "    </tr>\n",
       "    <tr>\n",
       "      <th>11</th>\n",
       "      <td>0</td>\n",
       "      <td>792</td>\n",
       "      <td>40</td>\n",
       "      <td>среднее</td>\n",
       "      <td>1</td>\n",
       "      <td>женат / замужем</td>\n",
       "      <td>0</td>\n",
       "      <td>f</td>\n",
       "      <td>сотрудник</td>\n",
       "      <td>0</td>\n",
       "      <td>77069</td>\n",
       "      <td>покупка коммерческой недвижимости</td>\n",
       "    </tr>\n",
       "    <tr>\n",
       "      <th>12</th>\n",
       "      <td>0</td>\n",
       "      <td>333910</td>\n",
       "      <td>65</td>\n",
       "      <td>среднее</td>\n",
       "      <td>1</td>\n",
       "      <td>гражданский брак</td>\n",
       "      <td>1</td>\n",
       "      <td>m</td>\n",
       "      <td>пенсионер</td>\n",
       "      <td>0</td>\n",
       "      <td>118514</td>\n",
       "      <td>сыграть свадьбу</td>\n",
       "    </tr>\n",
       "    <tr>\n",
       "      <th>13</th>\n",
       "      <td>0</td>\n",
       "      <td>1846</td>\n",
       "      <td>54</td>\n",
       "      <td>неоконченное высшее</td>\n",
       "      <td>2</td>\n",
       "      <td>женат / замужем</td>\n",
       "      <td>0</td>\n",
       "      <td>f</td>\n",
       "      <td>сотрудник</td>\n",
       "      <td>0</td>\n",
       "      <td>130458</td>\n",
       "      <td>приобретение автомобиля</td>\n",
       "    </tr>\n",
       "    <tr>\n",
       "      <th>14</th>\n",
       "      <td>0</td>\n",
       "      <td>1844</td>\n",
       "      <td>56</td>\n",
       "      <td>высшее</td>\n",
       "      <td>0</td>\n",
       "      <td>гражданский брак</td>\n",
       "      <td>1</td>\n",
       "      <td>f</td>\n",
       "      <td>компаньон</td>\n",
       "      <td>1</td>\n",
       "      <td>165127</td>\n",
       "      <td>покупка жилой недвижимости</td>\n",
       "    </tr>\n",
       "  </tbody>\n",
       "</table>\n",
       "</div>"
      ],
      "text/plain": [
       "    children  days_employed  dob_years            education  education_id  \\\n",
       "0          1           8437         42               высшее             0   \n",
       "1          1           4024         36              среднее             1   \n",
       "2          0           5623         33              среднее             1   \n",
       "3          3           4124         32              среднее             1   \n",
       "4          0         340266         53              среднее             1   \n",
       "5          0            926         27               высшее             0   \n",
       "6          0           2879         43               высшее             0   \n",
       "7          0            152         50              среднее             1   \n",
       "8          2           6929         35               высшее             0   \n",
       "9          0           2188         41              среднее             1   \n",
       "10         2           4171         36               высшее             0   \n",
       "11         0            792         40              среднее             1   \n",
       "12         0         333910         65              среднее             1   \n",
       "13         0           1846         54  неоконченное высшее             2   \n",
       "14         0           1844         56               высшее             0   \n",
       "\n",
       "       family_status  family_status_id gender income_type  debt  total_income  \\\n",
       "0    женат / замужем                 0      f   сотрудник     0        253875   \n",
       "1    женат / замужем                 0      f   сотрудник     0        112080   \n",
       "2    женат / замужем                 0      m   сотрудник     0        145885   \n",
       "3    женат / замужем                 0      m   сотрудник     0        267628   \n",
       "4   гражданский брак                 1      f   пенсионер     0        158616   \n",
       "5   гражданский брак                 1      m   компаньон     0        255763   \n",
       "6    женат / замужем                 0      f   компаньон     0        240525   \n",
       "7    женат / замужем                 0      m   сотрудник     0        135823   \n",
       "8   гражданский брак                 1      f   сотрудник     0         95856   \n",
       "9    женат / замужем                 0      m   сотрудник     0        144425   \n",
       "10   женат / замужем                 0      m   компаньон     0        113943   \n",
       "11   женат / замужем                 0      f   сотрудник     0         77069   \n",
       "12  гражданский брак                 1      m   пенсионер     0        118514   \n",
       "13   женат / замужем                 0      f   сотрудник     0        130458   \n",
       "14  гражданский брак                 1      f   компаньон     1        165127   \n",
       "\n",
       "                              purpose  \n",
       "0                       покупка жилья  \n",
       "1             приобретение автомобиля  \n",
       "2                       покупка жилья  \n",
       "3          дополнительное образование  \n",
       "4                     сыграть свадьбу  \n",
       "5                       покупка жилья  \n",
       "6                   операции с жильем  \n",
       "7                         образование  \n",
       "8               на проведение свадьбы  \n",
       "9             покупка жилья для семьи  \n",
       "10               покупка недвижимости  \n",
       "11  покупка коммерческой недвижимости  \n",
       "12                    сыграть свадьбу  \n",
       "13            приобретение автомобиля  \n",
       "14         покупка жилой недвижимости  "
      ]
     },
     "execution_count": 24,
     "metadata": {},
     "output_type": "execute_result"
    }
   ],
   "source": [
    "data['education'] = data['education'].str.lower()\n",
    "data['family_status'] = data['family_status'].str.lower()\n",
    "data['gender'] = data['gender'].str.lower()\n",
    "data['income_type'] = data['income_type'].str.lower()\n",
    "# проверим, что регистр значений стал единым\n",
    "data.head(15)"
   ]
  },
  {
   "cell_type": "markdown",
   "id": "ef6c604a",
   "metadata": {},
   "source": [
    "**Вывод:**\n",
    "\n",
    "Выбор метода `duplicated()` обусловлен способностью находить в датафрейме явные дубликаты. Именно это и требовалось в задании.\n",
    "\n",
    "Причина появления явных дубликатов возможно заключается в повторной отправке заявок клиентами."
   ]
  },
  {
   "cell_type": "markdown",
   "id": "db5c7ec2",
   "metadata": {},
   "source": [
    "###  Формирование дополнительных датафреймов словарей, декомпозиция исходного датафрейма."
   ]
  },
  {
   "cell_type": "markdown",
   "id": "c78c060b",
   "metadata": {},
   "source": [
    "Сформируем новые датафреймы словари:\n",
    "* по столбцу `education`\n",
    "* по столбцу `family_status`\t"
   ]
  },
  {
   "cell_type": "markdown",
   "id": "a328a599",
   "metadata": {},
   "source": [
    "Начнем со столбца `education`."
   ]
  },
  {
   "cell_type": "code",
   "execution_count": 25,
   "id": "7078569d",
   "metadata": {},
   "outputs": [
    {
     "data": {
      "text/html": [
       "<div>\n",
       "<style scoped>\n",
       "    .dataframe tbody tr th:only-of-type {\n",
       "        vertical-align: middle;\n",
       "    }\n",
       "\n",
       "    .dataframe tbody tr th {\n",
       "        vertical-align: top;\n",
       "    }\n",
       "\n",
       "    .dataframe thead th {\n",
       "        text-align: right;\n",
       "    }\n",
       "</style>\n",
       "<table border=\"1\" class=\"dataframe\">\n",
       "  <thead>\n",
       "    <tr style=\"text-align: right;\">\n",
       "      <th></th>\n",
       "      <th>education_id</th>\n",
       "      <th>education</th>\n",
       "    </tr>\n",
       "  </thead>\n",
       "  <tbody>\n",
       "    <tr>\n",
       "      <th>0</th>\n",
       "      <td>0</td>\n",
       "      <td>высшее</td>\n",
       "    </tr>\n",
       "    <tr>\n",
       "      <th>1</th>\n",
       "      <td>1</td>\n",
       "      <td>среднее</td>\n",
       "    </tr>\n",
       "    <tr>\n",
       "      <th>2</th>\n",
       "      <td>2</td>\n",
       "      <td>неоконченное высшее</td>\n",
       "    </tr>\n",
       "    <tr>\n",
       "      <th>3</th>\n",
       "      <td>3</td>\n",
       "      <td>начальное</td>\n",
       "    </tr>\n",
       "    <tr>\n",
       "      <th>4</th>\n",
       "      <td>4</td>\n",
       "      <td>ученая степень</td>\n",
       "    </tr>\n",
       "  </tbody>\n",
       "</table>\n",
       "</div>"
      ],
      "text/plain": [
       "   education_id            education\n",
       "0             0               высшее\n",
       "1             1              среднее\n",
       "2             2  неоконченное высшее\n",
       "3             3            начальное\n",
       "4             4       ученая степень"
      ]
     },
     "execution_count": 25,
     "metadata": {},
     "output_type": "execute_result"
    }
   ],
   "source": [
    "education_new_dataframe = data[['education_id', 'education']]\n",
    "# удалим дубликаты\n",
    "education_new_dataframe = education_new_dataframe.drop_duplicates().reset_index(drop=True)\n",
    "# проверим\n",
    "education_new_dataframe.head(15)"
   ]
  },
  {
   "cell_type": "markdown",
   "id": "106c15d3",
   "metadata": {},
   "source": [
    "Сделаем тоже самое для столбца `family_status` и удалим дубликаты."
   ]
  },
  {
   "cell_type": "code",
   "execution_count": 26,
   "id": "582edcd5",
   "metadata": {},
   "outputs": [
    {
     "data": {
      "text/html": [
       "<div>\n",
       "<style scoped>\n",
       "    .dataframe tbody tr th:only-of-type {\n",
       "        vertical-align: middle;\n",
       "    }\n",
       "\n",
       "    .dataframe tbody tr th {\n",
       "        vertical-align: top;\n",
       "    }\n",
       "\n",
       "    .dataframe thead th {\n",
       "        text-align: right;\n",
       "    }\n",
       "</style>\n",
       "<table border=\"1\" class=\"dataframe\">\n",
       "  <thead>\n",
       "    <tr style=\"text-align: right;\">\n",
       "      <th></th>\n",
       "      <th>family_status_id</th>\n",
       "      <th>family_status</th>\n",
       "    </tr>\n",
       "  </thead>\n",
       "  <tbody>\n",
       "    <tr>\n",
       "      <th>0</th>\n",
       "      <td>0</td>\n",
       "      <td>женат / замужем</td>\n",
       "    </tr>\n",
       "    <tr>\n",
       "      <th>1</th>\n",
       "      <td>1</td>\n",
       "      <td>гражданский брак</td>\n",
       "    </tr>\n",
       "    <tr>\n",
       "      <th>2</th>\n",
       "      <td>2</td>\n",
       "      <td>вдовец / вдова</td>\n",
       "    </tr>\n",
       "    <tr>\n",
       "      <th>3</th>\n",
       "      <td>3</td>\n",
       "      <td>в разводе</td>\n",
       "    </tr>\n",
       "    <tr>\n",
       "      <th>4</th>\n",
       "      <td>4</td>\n",
       "      <td>не женат / не замужем</td>\n",
       "    </tr>\n",
       "  </tbody>\n",
       "</table>\n",
       "</div>"
      ],
      "text/plain": [
       "   family_status_id          family_status\n",
       "0                 0        женат / замужем\n",
       "1                 1       гражданский брак\n",
       "2                 2         вдовец / вдова\n",
       "3                 3              в разводе\n",
       "4                 4  не женат / не замужем"
      ]
     },
     "execution_count": 26,
     "metadata": {},
     "output_type": "execute_result"
    }
   ],
   "source": [
    "family_status_new_dataframe = data[['family_status_id','family_status']]\n",
    "# удалим дубликаты\n",
    "family_status_new_dataframe = family_status_new_dataframe[['family_status_id','family_status']].drop_duplicates().reset_index(drop=True)\n",
    "# проверим\n",
    "family_status_new_dataframe.head()"
   ]
  },
  {
   "cell_type": "markdown",
   "id": "172df310",
   "metadata": {},
   "source": [
    "Удалим из исходного датафрейма столбцы `education` и `family_status` и посмотрим, что получилось."
   ]
  },
  {
   "cell_type": "code",
   "execution_count": 27,
   "id": "46ef14e1",
   "metadata": {},
   "outputs": [
    {
     "name": "stdout",
     "output_type": "stream",
     "text": [
      "<class 'pandas.core.frame.DataFrame'>\n",
      "Int64Index: 21471 entries, 0 to 21524\n",
      "Data columns (total 10 columns):\n",
      " #   Column            Non-Null Count  Dtype \n",
      "---  ------            --------------  ----- \n",
      " 0   children          21471 non-null  int64 \n",
      " 1   days_employed     21471 non-null  int64 \n",
      " 2   dob_years         21471 non-null  int64 \n",
      " 3   education_id      21471 non-null  int64 \n",
      " 4   family_status_id  21471 non-null  int64 \n",
      " 5   gender            21471 non-null  object\n",
      " 6   income_type       21471 non-null  object\n",
      " 7   debt              21471 non-null  int64 \n",
      " 8   total_income      21471 non-null  int64 \n",
      " 9   purpose           21471 non-null  object\n",
      "dtypes: int64(7), object(3)\n",
      "memory usage: 1.8+ MB\n"
     ]
    }
   ],
   "source": [
    "del data['education']\n",
    "del data['family_status']\n",
    "data.info()"
   ]
  },
  {
   "cell_type": "markdown",
   "id": "a8240f4f",
   "metadata": {},
   "source": [
    "###  Категоризация дохода."
   ]
  },
  {
   "cell_type": "markdown",
   "id": "09fc15c6",
   "metadata": {},
   "source": [
    "Добавим в основной датафрейм новый столбец `total_income_category`. Каждому клиенту будет присвоена категория, в зависимости от уровня его дохода:\n",
    "\n",
    "* 0-30000 - категория `'e'`\n",
    "* 30001-50000 - категория `'d'`\n",
    "* 50001-200000 - категория `'c'`\n",
    "* 200001-1000000 - категория `'b'`\n",
    "* 1000001 и выше - категория `'a'`"
   ]
  },
  {
   "cell_type": "code",
   "execution_count": 28,
   "id": "4d9202a0",
   "metadata": {},
   "outputs": [
    {
     "data": {
      "text/plain": [
       "c    16032\n",
       "b     5041\n",
       "d      350\n",
       "a       25\n",
       "e       22\n",
       "Name: total_income_category, dtype: int64"
      ]
     },
     "execution_count": 28,
     "metadata": {},
     "output_type": "execute_result"
    }
   ],
   "source": [
    "def total_income_category(total_income):\n",
    "    if total_income <= 30000:\n",
    "        return 'e'\n",
    "    if 30001 < total_income <= 50000:\n",
    "        return 'd'\n",
    "    if 50001 < total_income <= 200000:\n",
    "        return 'c'\n",
    "    if 200001 < total_income <= 1000000:\n",
    "        return 'b'\n",
    "    if total_income >= 1000001:\n",
    "        return 'a'\n",
    "    \n",
    "# применим метод apply() \n",
    "data['total_income_category'] = data['total_income'].apply(total_income_category)\n",
    "# проверим\n",
    "data['total_income_category'].value_counts()"
   ]
  },
  {
   "cell_type": "markdown",
   "id": "a67bd725",
   "metadata": {},
   "source": [
    "###  Категоризация целей кредита."
   ]
  },
  {
   "cell_type": "markdown",
   "id": "7d52bf02",
   "metadata": {},
   "source": [
    "По аналогии с предыдущим расчетом, добавим новый столбец `purpose_category`. Каждому клиенту будет присвоена категория в зависимости от цели кредита:\n",
    "* слова с корнем `авто` войдут в категорию `'операции с автомобилем'`,\n",
    "* слова с корнем `недвиж` или `жил` войдут в категорию `'операции с недвижимостью'`,\n",
    "* слова с корнем `свадьб`  войдут в категорию `'проведение свадьбы'`,\n",
    "* слова с корнем `образован`  войдут в категорию `'получение образования'`."
   ]
  },
  {
   "cell_type": "code",
   "execution_count": 29,
   "id": "03ec807e",
   "metadata": {
    "scrolled": false
   },
   "outputs": [
    {
     "data": {
      "text/plain": [
       "операции с недвижимостью    10814\n",
       "операции с автомоблием       4308\n",
       "получение образования        4014\n",
       "проведение свадьбы           2335\n",
       "Name: purpose_category, dtype: int64"
      ]
     },
     "execution_count": 29,
     "metadata": {},
     "output_type": "execute_result"
    }
   ],
   "source": [
    "def purpose_category(purpose):\n",
    "    if 'авто' in purpose:\n",
    "        return 'операции с автомоблием'\n",
    "    if 'недвиж' in purpose or 'жил' in purpose:\n",
    "        return 'операции с недвижимостью'\n",
    "    if 'свадьб' in purpose:\n",
    "        return 'проведение свадьбы'\n",
    "    if 'образован' in purpose:\n",
    "        return 'получение образования'\n",
    "\n",
    "# применим метод apply()\n",
    "data['purpose_category'] = data['purpose'].apply(purpose_category)\n",
    "# проверим \n",
    "data['purpose_category'].value_counts()"
   ]
  },
  {
   "cell_type": "markdown",
   "id": "5f3ef7e3",
   "metadata": {},
   "source": [
    "## Ответы на вопросы."
   ]
  },
  {
   "cell_type": "markdown",
   "id": "9ef4a872",
   "metadata": {},
   "source": [
    "### Есть ли зависимость между количеством детей и возвратом кредита в срок?"
   ]
  },
  {
   "cell_type": "markdown",
   "id": "4c11831d",
   "metadata": {},
   "source": [
    "Для ответа на данный вопрос построим сводную таблицу с помощью метода `pivot_table()`:"
   ]
  },
  {
   "cell_type": "code",
   "execution_count": 30,
   "id": "0ad31b20",
   "metadata": {
    "scrolled": true
   },
   "outputs": [
    {
     "data": {
      "text/html": [
       "<div>\n",
       "<style scoped>\n",
       "    .dataframe tbody tr th:only-of-type {\n",
       "        vertical-align: middle;\n",
       "    }\n",
       "\n",
       "    .dataframe tbody tr th {\n",
       "        vertical-align: top;\n",
       "    }\n",
       "\n",
       "    .dataframe thead tr th {\n",
       "        text-align: left;\n",
       "    }\n",
       "\n",
       "    .dataframe thead tr:last-of-type th {\n",
       "        text-align: right;\n",
       "    }\n",
       "</style>\n",
       "<table border=\"1\" class=\"dataframe\">\n",
       "  <thead>\n",
       "    <tr>\n",
       "      <th></th>\n",
       "      <th>sum</th>\n",
       "      <th>count</th>\n",
       "      <th>ratio</th>\n",
       "    </tr>\n",
       "    <tr>\n",
       "      <th></th>\n",
       "      <th>debt</th>\n",
       "      <th>debt</th>\n",
       "      <th></th>\n",
       "    </tr>\n",
       "    <tr>\n",
       "      <th>children</th>\n",
       "      <th></th>\n",
       "      <th></th>\n",
       "      <th></th>\n",
       "    </tr>\n",
       "  </thead>\n",
       "  <tbody>\n",
       "    <tr>\n",
       "      <th>5</th>\n",
       "      <td>0</td>\n",
       "      <td>9</td>\n",
       "      <td>0.0%</td>\n",
       "    </tr>\n",
       "    <tr>\n",
       "      <th>0</th>\n",
       "      <td>1063</td>\n",
       "      <td>14107</td>\n",
       "      <td>7.54%</td>\n",
       "    </tr>\n",
       "    <tr>\n",
       "      <th>3</th>\n",
       "      <td>27</td>\n",
       "      <td>330</td>\n",
       "      <td>8.18%</td>\n",
       "    </tr>\n",
       "    <tr>\n",
       "      <th>1</th>\n",
       "      <td>445</td>\n",
       "      <td>4856</td>\n",
       "      <td>9.16%</td>\n",
       "    </tr>\n",
       "    <tr>\n",
       "      <th>2</th>\n",
       "      <td>202</td>\n",
       "      <td>2128</td>\n",
       "      <td>9.49%</td>\n",
       "    </tr>\n",
       "    <tr>\n",
       "      <th>4</th>\n",
       "      <td>4</td>\n",
       "      <td>41</td>\n",
       "      <td>9.76%</td>\n",
       "    </tr>\n",
       "  </tbody>\n",
       "</table>\n",
       "</div>"
      ],
      "text/plain": [
       "           sum  count  ratio\n",
       "          debt   debt       \n",
       "children                    \n",
       "5            0      9   0.0%\n",
       "0         1063  14107  7.54%\n",
       "3           27    330  8.18%\n",
       "1          445   4856  9.16%\n",
       "2          202   2128  9.49%\n",
       "4            4     41  9.76%"
      ]
     },
     "execution_count": 30,
     "metadata": {},
     "output_type": "execute_result"
    }
   ],
   "source": [
    "pivot_table_children = data.pivot_table(index=['children'], values='debt', aggfunc= ['sum', 'count'])\n",
    "\n",
    "# добавим в сводную таблицу новый столбец - отношение количества клиентов с \"просрочкой платежа\" к общему числу клиентов\n",
    "# используем команду round(2) для окургления значения до 2 знаков после запятой и astype(str) для приведения значения \n",
    "# к строковому значению, чтобы вывести итоговое значение в процентах\n",
    "pivot_table_children['ratio'] = ((pivot_table_children['sum'] / pivot_table_children['count']) * 100).round(2).astype(str) + '%'\n",
    "\n",
    "# отсортируем результаты просрочек по возрастанию\n",
    "pivot_table_children = pivot_table_children.sort_values(by='ratio')\n",
    "\n",
    "# выведем на экран \n",
    "pivot_table_children"
   ]
  },
  {
   "cell_type": "markdown",
   "id": "fc579fe5",
   "metadata": {},
   "source": [
    "**Вывод:**\n",
    "\n",
    "Как видим из результатов, самая ответственная категория заемщиков - `без детей`. При этом мы не берем в расчет заемкщок с 5 детьми, так их количество черезчур мало для анализа.\n",
    "\n",
    "В целом можно сделать вывод, что вместе с возрастанием колличества детей в семье растет и риск просрочки по кредиту.\n",
    "\n",
    "Возможно имело смысл объединить категории `3`,`4`,`5` в одну и посмотреть на результаты."
   ]
  },
  {
   "cell_type": "markdown",
   "id": "42ebde26",
   "metadata": {},
   "source": [
    "### Есть ли зависимость между семейным положением и возвратом кредита в срок?"
   ]
  },
  {
   "cell_type": "markdown",
   "id": "8a696ddf",
   "metadata": {},
   "source": [
    "**Построим сводную таблицу с помощью метода `pivot_table()`:**"
   ]
  },
  {
   "cell_type": "code",
   "execution_count": 31,
   "id": "cd0d5d16",
   "metadata": {
    "scrolled": false
   },
   "outputs": [
    {
     "data": {
      "text/html": [
       "<div>\n",
       "<style scoped>\n",
       "    .dataframe tbody tr th:only-of-type {\n",
       "        vertical-align: middle;\n",
       "    }\n",
       "\n",
       "    .dataframe tbody tr th {\n",
       "        vertical-align: top;\n",
       "    }\n",
       "\n",
       "    .dataframe thead th {\n",
       "        text-align: right;\n",
       "    }\n",
       "</style>\n",
       "<table border=\"1\" class=\"dataframe\">\n",
       "  <thead>\n",
       "    <tr style=\"text-align: right;\">\n",
       "      <th></th>\n",
       "      <th>family_status_id</th>\n",
       "      <th>(sum, debt)</th>\n",
       "      <th>(count, debt)</th>\n",
       "      <th>(ratio, )</th>\n",
       "      <th>family_status</th>\n",
       "    </tr>\n",
       "  </thead>\n",
       "  <tbody>\n",
       "    <tr>\n",
       "      <th>0</th>\n",
       "      <td>0</td>\n",
       "      <td>931</td>\n",
       "      <td>12344</td>\n",
       "      <td>7.54%</td>\n",
       "      <td>женат / замужем</td>\n",
       "    </tr>\n",
       "    <tr>\n",
       "      <th>1</th>\n",
       "      <td>1</td>\n",
       "      <td>388</td>\n",
       "      <td>4163</td>\n",
       "      <td>9.32%</td>\n",
       "      <td>гражданский брак</td>\n",
       "    </tr>\n",
       "    <tr>\n",
       "      <th>2</th>\n",
       "      <td>2</td>\n",
       "      <td>63</td>\n",
       "      <td>959</td>\n",
       "      <td>6.57%</td>\n",
       "      <td>вдовец / вдова</td>\n",
       "    </tr>\n",
       "    <tr>\n",
       "      <th>3</th>\n",
       "      <td>3</td>\n",
       "      <td>85</td>\n",
       "      <td>1195</td>\n",
       "      <td>7.11%</td>\n",
       "      <td>в разводе</td>\n",
       "    </tr>\n",
       "    <tr>\n",
       "      <th>4</th>\n",
       "      <td>4</td>\n",
       "      <td>274</td>\n",
       "      <td>2810</td>\n",
       "      <td>9.75%</td>\n",
       "      <td>не женат / не замужем</td>\n",
       "    </tr>\n",
       "  </tbody>\n",
       "</table>\n",
       "</div>"
      ],
      "text/plain": [
       "   family_status_id  (sum, debt)  (count, debt) (ratio, )  \\\n",
       "0                 0          931          12344     7.54%   \n",
       "1                 1          388           4163     9.32%   \n",
       "2                 2           63            959     6.57%   \n",
       "3                 3           85           1195     7.11%   \n",
       "4                 4          274           2810     9.75%   \n",
       "\n",
       "           family_status  \n",
       "0        женат / замужем  \n",
       "1       гражданский брак  \n",
       "2         вдовец / вдова  \n",
       "3              в разводе  \n",
       "4  не женат / не замужем  "
      ]
     },
     "execution_count": 31,
     "metadata": {},
     "output_type": "execute_result"
    }
   ],
   "source": [
    "pivot_table_family = data.pivot_table(index=['family_status_id'], values='debt', aggfunc= ['sum', 'count'])\n",
    "\n",
    "# добавим в сводную таблицу новый столбец - отношение количества клиентов с \"просрочкой платежа\" к общему числу клиентов\n",
    "# используем команду round(2) для окургления значения до 2 знаков после запятой  \n",
    "# и astype(str) для приведения значения к строковому значению, чтобы вывести итоговое значение в процентах\n",
    "pivot_table_family['ratio'] = ((pivot_table_family['sum'] / pivot_table_family['count']) * 100).round(2).astype(str) + '%'\n",
    "\n",
    "# отсортируем результаты просрочек по возрастанию\n",
    "pivot_table_family = pivot_table_family.sort_values(by='ratio')\n",
    "\n",
    "# для наглядности, добавим столбец с описанием семейного статуса, применив команду merge()\n",
    "pivot_table_family = pivot_table_family.merge(family_status_new_dataframe, on = 'family_status_id', how = 'right')\n",
    "\n",
    "# выведем на экран результат\n",
    "pivot_table_family"
   ]
  },
  {
   "cell_type": "markdown",
   "id": "82ebf6ae",
   "metadata": {},
   "source": [
    "**Вывод:**\n",
    "\n",
    "Исходя из результатов расчета видно, что наименее подвержены риску просрочки люди, потерявшие супруга(у). Возможно поэтому кредит берется более осознанно.\n",
    "\n",
    "А вот кто более подвержен риску просрочки так это люди, несостоящие в браке. Смею предположить, что таковыми являются клиенты более молодого возраста, как правило, не готовые к взрослой жизни."
   ]
  },
  {
   "cell_type": "markdown",
   "id": "20c83b8d",
   "metadata": {},
   "source": [
    "### Есть ли зависимость между уровнем дохода и возвратом кредита в срок?"
   ]
  },
  {
   "cell_type": "code",
   "execution_count": 32,
   "id": "5000e09c",
   "metadata": {},
   "outputs": [
    {
     "data": {
      "text/html": [
       "<div>\n",
       "<style scoped>\n",
       "    .dataframe tbody tr th:only-of-type {\n",
       "        vertical-align: middle;\n",
       "    }\n",
       "\n",
       "    .dataframe tbody tr th {\n",
       "        vertical-align: top;\n",
       "    }\n",
       "\n",
       "    .dataframe thead tr th {\n",
       "        text-align: left;\n",
       "    }\n",
       "\n",
       "    .dataframe thead tr:last-of-type th {\n",
       "        text-align: right;\n",
       "    }\n",
       "</style>\n",
       "<table border=\"1\" class=\"dataframe\">\n",
       "  <thead>\n",
       "    <tr>\n",
       "      <th></th>\n",
       "      <th>sum</th>\n",
       "      <th>count</th>\n",
       "      <th>ratio</th>\n",
       "    </tr>\n",
       "    <tr>\n",
       "      <th></th>\n",
       "      <th>debt</th>\n",
       "      <th>debt</th>\n",
       "      <th></th>\n",
       "    </tr>\n",
       "    <tr>\n",
       "      <th>total_income_category</th>\n",
       "      <th></th>\n",
       "      <th></th>\n",
       "      <th></th>\n",
       "    </tr>\n",
       "  </thead>\n",
       "  <tbody>\n",
       "    <tr>\n",
       "      <th>d</th>\n",
       "      <td>21</td>\n",
       "      <td>350</td>\n",
       "      <td>6.0%</td>\n",
       "    </tr>\n",
       "    <tr>\n",
       "      <th>b</th>\n",
       "      <td>356</td>\n",
       "      <td>5041</td>\n",
       "      <td>7.06%</td>\n",
       "    </tr>\n",
       "    <tr>\n",
       "      <th>a</th>\n",
       "      <td>2</td>\n",
       "      <td>25</td>\n",
       "      <td>8.0%</td>\n",
       "    </tr>\n",
       "    <tr>\n",
       "      <th>c</th>\n",
       "      <td>1360</td>\n",
       "      <td>16032</td>\n",
       "      <td>8.48%</td>\n",
       "    </tr>\n",
       "    <tr>\n",
       "      <th>e</th>\n",
       "      <td>2</td>\n",
       "      <td>22</td>\n",
       "      <td>9.09%</td>\n",
       "    </tr>\n",
       "  </tbody>\n",
       "</table>\n",
       "</div>"
      ],
      "text/plain": [
       "                        sum  count  ratio\n",
       "                       debt   debt       \n",
       "total_income_category                    \n",
       "d                        21    350   6.0%\n",
       "b                       356   5041  7.06%\n",
       "a                         2     25   8.0%\n",
       "c                      1360  16032  8.48%\n",
       "e                         2     22  9.09%"
      ]
     },
     "execution_count": 32,
     "metadata": {},
     "output_type": "execute_result"
    }
   ],
   "source": [
    "pivot_table_income = data.pivot_table(index=['total_income_category'], values='debt', aggfunc= ['sum', 'count'])\n",
    "\n",
    "# добавим в сводную таблицу новый столбец - отношение количества клиентов с \"просрочкой платежа\" к общему числу клиентов\n",
    "# используем команду round(2) для окургления значения до 2 знаков после запятой  \n",
    "# и astype(str) для приведения значения к строковому значению, чтобы вывести итоговое значение в процентах\n",
    "pivot_table_income['ratio'] = ((pivot_table_income['sum'] / pivot_table_income['count']) * 100).round(2).astype(str) + '%'\n",
    "\n",
    "# отсортируем результаты просрочек по возрастанию\n",
    "pivot_table_income = pivot_table_income.sort_values(by='ratio')\n",
    "\n",
    "# выведем на экран результат\n",
    "pivot_table_income"
   ]
  },
  {
   "cell_type": "markdown",
   "id": "5f477afe",
   "metadata": {},
   "source": [
    "**Вывод:**\n",
    "\n",
    "В данном сравнении однозначно отличились в лучшую сторону клиенты с уровнем дохода от 30 т. до 50 т. рублей.Так как этот класс можно считать уровнем достатка ниже среднего, то скорее всего люди подходят к вопросу кредитования крайне ответственно - доход распределяется заранее.\n",
    "\n",
    "Категории людей с достатком более 1 млн. рублей и менее 30 т. рублей не очень то активно берут кредиты. На основе такой маленькой выборки сложно дать точный ответ. \n",
    "\n",
    "Наиболее рискованной категорией остается сегмент клиентов с достатком выше среднего. Возможно это связано с преднамеренным завышением данных о своем достатке, что зачастую способствует невозможности платить вовремя."
   ]
  },
  {
   "cell_type": "markdown",
   "id": "5e296ec1",
   "metadata": {},
   "source": [
    "### Как разные цели кредита влияют на его возврат в срок?"
   ]
  },
  {
   "cell_type": "code",
   "execution_count": 33,
   "id": "1c6494ed",
   "metadata": {},
   "outputs": [
    {
     "data": {
      "text/html": [
       "<div>\n",
       "<style scoped>\n",
       "    .dataframe tbody tr th:only-of-type {\n",
       "        vertical-align: middle;\n",
       "    }\n",
       "\n",
       "    .dataframe tbody tr th {\n",
       "        vertical-align: top;\n",
       "    }\n",
       "\n",
       "    .dataframe thead tr th {\n",
       "        text-align: left;\n",
       "    }\n",
       "\n",
       "    .dataframe thead tr:last-of-type th {\n",
       "        text-align: right;\n",
       "    }\n",
       "</style>\n",
       "<table border=\"1\" class=\"dataframe\">\n",
       "  <thead>\n",
       "    <tr>\n",
       "      <th></th>\n",
       "      <th>sum</th>\n",
       "      <th>count</th>\n",
       "      <th>ratio</th>\n",
       "    </tr>\n",
       "    <tr>\n",
       "      <th></th>\n",
       "      <th>debt</th>\n",
       "      <th>debt</th>\n",
       "      <th></th>\n",
       "    </tr>\n",
       "    <tr>\n",
       "      <th>purpose_category</th>\n",
       "      <th></th>\n",
       "      <th></th>\n",
       "      <th></th>\n",
       "    </tr>\n",
       "  </thead>\n",
       "  <tbody>\n",
       "    <tr>\n",
       "      <th>операции с недвижимостью</th>\n",
       "      <td>782</td>\n",
       "      <td>10814</td>\n",
       "      <td>7.23%</td>\n",
       "    </tr>\n",
       "    <tr>\n",
       "      <th>проведение свадьбы</th>\n",
       "      <td>186</td>\n",
       "      <td>2335</td>\n",
       "      <td>7.97%</td>\n",
       "    </tr>\n",
       "    <tr>\n",
       "      <th>получение образования</th>\n",
       "      <td>370</td>\n",
       "      <td>4014</td>\n",
       "      <td>9.22%</td>\n",
       "    </tr>\n",
       "    <tr>\n",
       "      <th>операции с автомоблием</th>\n",
       "      <td>403</td>\n",
       "      <td>4308</td>\n",
       "      <td>9.35%</td>\n",
       "    </tr>\n",
       "  </tbody>\n",
       "</table>\n",
       "</div>"
      ],
      "text/plain": [
       "                          sum  count  ratio\n",
       "                         debt   debt       \n",
       "purpose_category                           \n",
       "операции с недвижимостью  782  10814  7.23%\n",
       "проведение свадьбы        186   2335  7.97%\n",
       "получение образования     370   4014  9.22%\n",
       "операции с автомоблием    403   4308  9.35%"
      ]
     },
     "execution_count": 33,
     "metadata": {},
     "output_type": "execute_result"
    }
   ],
   "source": [
    "pivot_table_purpose_category = data.pivot_table(index=['purpose_category'], values='debt', aggfunc= ['sum', 'count'])\n",
    "\n",
    "# добавим в сводную таблицу новый столбец - отношение количества клиентов с \"просрочкой платежа\" к общему числу клиентов\n",
    "# используем команду round(2) для окургления значения до 2 знаков после запятой  \n",
    "# и astype(str) для приведения значения к строковому значению, чтобы вывести итоговое значение в процентах\n",
    "pivot_table_purpose_category['ratio'] = ((pivot_table_purpose_category['sum'] / pivot_table_purpose_category['count']) * 100).round(2).astype(str) + '%'\n",
    "\n",
    "# отсортируем результаты просрочек по возрастанию\n",
    "pivot_table_purpose_category = pivot_table_purpose_category.sort_values(by='ratio')\n",
    "\n",
    "# выведем на экран результат\n",
    "pivot_table_purpose_category"
   ]
  },
  {
   "cell_type": "markdown",
   "id": "af34c44a",
   "metadata": {},
   "source": [
    "**Вывод:**\n",
    "\n",
    "Очевидно, в данной выборке самым желанным клиентом для банка являются ипотечные заемщики. На самом деле жилищный вопрос является наиважнейшим в жизни современного человека.\n",
    "\n",
    "Кредит на свадьбу так же берут люди, нацеленные на совместную жизнь. Они осознают ответсвенность как перед банком, так и друг перед другом.\n",
    "\n",
    "Самой рискованной покупкой на кредитные деньги остается автомобиль. Таким образом люди хотят показать свою статусность, которой на самом деле может и не быть. А это приводит к проблемам со своевременными оплатами."
   ]
  },
  {
   "cell_type": "markdown",
   "id": "50857a57",
   "metadata": {},
   "source": [
    "## Общий вывод:"
   ]
  },
  {
   "cell_type": "markdown",
   "id": "c804b611",
   "metadata": {},
   "source": [
    "Подводя итог, приходим к заключению, что идеальный клиент для банка это - клиент, потерявший супруга(у), без детей, с доходом от 30т. до 50т. рублей, планирующий к покупке собственное жилье.\n",
    "\n",
    "Полной противоположностью же будет иной образ - клиент, не состоящий в браке, с 2-мя детьми, с доходом от 50т. до 200т. рублей, планирующий купить автомобиль."
   ]
  }
 ],
 "metadata": {
  "ExecuteTimeLog": [
   {
    "duration": 695,
    "start_time": "2022-03-07T10:48:24.305Z"
   },
   {
    "duration": 61,
    "start_time": "2022-03-07T10:50:06.905Z"
   },
   {
    "duration": 79,
    "start_time": "2022-03-07T10:50:17.548Z"
   },
   {
    "duration": 72,
    "start_time": "2022-03-07T10:50:39.650Z"
   },
   {
    "duration": 70,
    "start_time": "2022-03-07T10:52:58.722Z"
   },
   {
    "duration": 73,
    "start_time": "2022-03-07T10:53:08.628Z"
   },
   {
    "duration": 75,
    "start_time": "2022-03-07T10:53:26.975Z"
   },
   {
    "duration": 71,
    "start_time": "2022-03-07T10:53:57.389Z"
   },
   {
    "duration": 3,
    "start_time": "2022-03-07T11:17:06.712Z"
   },
   {
    "duration": 55,
    "start_time": "2022-03-07T11:20:05.652Z"
   },
   {
    "duration": 21,
    "start_time": "2022-03-07T11:21:10.233Z"
   },
   {
    "duration": 3,
    "start_time": "2022-03-07T11:21:39.867Z"
   },
   {
    "duration": 689,
    "start_time": "2022-03-07T11:21:55.136Z"
   },
   {
    "duration": 63,
    "start_time": "2022-03-07T11:21:55.828Z"
   },
   {
    "duration": 29,
    "start_time": "2022-03-07T11:21:55.896Z"
   },
   {
    "duration": 17,
    "start_time": "2022-03-07T11:24:15.006Z"
   },
   {
    "duration": 96,
    "start_time": "2022-03-07T11:49:41.804Z"
   },
   {
    "duration": 84,
    "start_time": "2022-03-07T11:49:46.184Z"
   },
   {
    "duration": 23,
    "start_time": "2022-03-07T12:28:59.769Z"
   },
   {
    "duration": 429,
    "start_time": "2022-03-07T12:29:18.580Z"
   },
   {
    "duration": 34,
    "start_time": "2022-03-07T12:29:27.638Z"
   },
   {
    "duration": 242,
    "start_time": "2022-03-07T12:30:50.125Z"
   },
   {
    "duration": 20,
    "start_time": "2022-03-07T12:30:54.480Z"
   },
   {
    "duration": 13,
    "start_time": "2022-03-07T12:31:37.525Z"
   },
   {
    "duration": 37,
    "start_time": "2022-03-07T12:33:37.268Z"
   },
   {
    "duration": 11,
    "start_time": "2022-03-07T12:33:54.133Z"
   },
   {
    "duration": 136,
    "start_time": "2022-03-07T12:34:05.772Z"
   },
   {
    "duration": 35,
    "start_time": "2022-03-07T12:34:10.770Z"
   },
   {
    "duration": 710,
    "start_time": "2022-03-07T13:09:46.310Z"
   },
   {
    "duration": 59,
    "start_time": "2022-03-07T13:09:47.022Z"
   },
   {
    "duration": 30,
    "start_time": "2022-03-07T13:09:47.084Z"
   },
   {
    "duration": 43,
    "start_time": "2022-03-07T13:09:47.117Z"
   },
   {
    "duration": 29,
    "start_time": "2022-03-07T13:09:47.163Z"
   },
   {
    "duration": 10,
    "start_time": "2022-03-07T13:16:49.299Z"
   },
   {
    "duration": 307,
    "start_time": "2022-03-07T13:21:49.184Z"
   },
   {
    "duration": 43,
    "start_time": "2022-03-07T13:21:59.269Z"
   },
   {
    "duration": 6,
    "start_time": "2022-03-07T14:02:43.452Z"
   },
   {
    "duration": 5,
    "start_time": "2022-03-07T14:13:29.231Z"
   },
   {
    "duration": 225,
    "start_time": "2022-03-07T14:13:41.545Z"
   },
   {
    "duration": 4,
    "start_time": "2022-03-07T14:13:51.752Z"
   },
   {
    "duration": 4,
    "start_time": "2022-03-07T14:13:54.171Z"
   },
   {
    "duration": 4,
    "start_time": "2022-03-07T14:14:02.034Z"
   },
   {
    "duration": 224,
    "start_time": "2022-03-07T14:14:57.934Z"
   },
   {
    "duration": 222,
    "start_time": "2022-03-07T14:15:39.438Z"
   },
   {
    "duration": 9,
    "start_time": "2022-03-07T14:15:50.835Z"
   },
   {
    "duration": 8,
    "start_time": "2022-03-07T14:16:38.511Z"
   },
   {
    "duration": 215,
    "start_time": "2022-03-07T14:16:48.568Z"
   },
   {
    "duration": 8,
    "start_time": "2022-03-07T14:16:54.872Z"
   },
   {
    "duration": 8,
    "start_time": "2022-03-07T14:17:48.126Z"
   },
   {
    "duration": 9,
    "start_time": "2022-03-07T14:17:54.464Z"
   },
   {
    "duration": 210,
    "start_time": "2022-03-07T14:19:43.264Z"
   },
   {
    "duration": 10,
    "start_time": "2022-03-07T14:19:54.898Z"
   },
   {
    "duration": 6,
    "start_time": "2022-03-07T14:21:56.400Z"
   },
   {
    "duration": 7,
    "start_time": "2022-03-07T14:30:26.379Z"
   },
   {
    "duration": 28,
    "start_time": "2022-03-07T14:30:50.152Z"
   },
   {
    "duration": 7,
    "start_time": "2022-03-07T14:31:07.252Z"
   },
   {
    "duration": 27,
    "start_time": "2022-03-07T14:31:14.635Z"
   },
   {
    "duration": 5,
    "start_time": "2022-03-07T14:31:42.706Z"
   },
   {
    "duration": 5,
    "start_time": "2022-03-07T14:31:49.482Z"
   },
   {
    "duration": 4,
    "start_time": "2022-03-07T14:32:03.360Z"
   },
   {
    "duration": 27,
    "start_time": "2022-03-07T14:32:06.233Z"
   },
   {
    "duration": 749,
    "start_time": "2022-03-07T14:36:50.568Z"
   },
   {
    "duration": 58,
    "start_time": "2022-03-07T14:36:51.319Z"
   },
   {
    "duration": 36,
    "start_time": "2022-03-07T14:36:51.380Z"
   },
   {
    "duration": 16,
    "start_time": "2022-03-07T14:36:51.419Z"
   },
   {
    "duration": 15,
    "start_time": "2022-03-07T14:36:51.438Z"
   },
   {
    "duration": 50,
    "start_time": "2022-03-07T14:36:51.455Z"
   },
   {
    "duration": 19,
    "start_time": "2022-03-07T14:37:54.190Z"
   },
   {
    "duration": 331,
    "start_time": "2022-03-07T14:40:33.457Z"
   },
   {
    "duration": 235,
    "start_time": "2022-03-07T14:40:55.192Z"
   },
   {
    "duration": 6,
    "start_time": "2022-03-07T14:41:53.699Z"
   },
   {
    "duration": 6,
    "start_time": "2022-03-07T14:42:42.765Z"
   },
   {
    "duration": 8,
    "start_time": "2022-03-07T14:42:58.266Z"
   },
   {
    "duration": 18,
    "start_time": "2022-03-07T14:43:17.373Z"
   },
   {
    "duration": 20,
    "start_time": "2022-03-07T14:43:29.211Z"
   },
   {
    "duration": 30,
    "start_time": "2022-03-07T14:43:35.010Z"
   },
   {
    "duration": 362,
    "start_time": "2022-03-07T14:46:24.771Z"
   },
   {
    "duration": 7,
    "start_time": "2022-03-07T14:46:39.692Z"
   },
   {
    "duration": 9,
    "start_time": "2022-03-07T14:46:42.623Z"
   },
   {
    "duration": 29,
    "start_time": "2022-03-07T14:46:52.993Z"
   },
   {
    "duration": 9,
    "start_time": "2022-03-07T14:56:02.273Z"
   },
   {
    "duration": 5,
    "start_time": "2022-03-07T14:56:15.874Z"
   },
   {
    "duration": 82,
    "start_time": "2022-03-07T15:06:43.066Z"
   },
   {
    "duration": 4148,
    "start_time": "2022-03-07T15:17:31.695Z"
   },
   {
    "duration": -835,
    "start_time": "2022-03-07T15:17:51.284Z"
   },
   {
    "duration": 4255,
    "start_time": "2022-03-07T15:17:52.391Z"
   },
   {
    "duration": 78,
    "start_time": "2022-03-07T15:18:47.614Z"
   },
   {
    "duration": 11,
    "start_time": "2022-03-07T15:19:14.079Z"
   },
   {
    "duration": 8,
    "start_time": "2022-03-07T15:19:51.003Z"
   },
   {
    "duration": 229,
    "start_time": "2022-03-07T15:21:24.413Z"
   },
   {
    "duration": 250,
    "start_time": "2022-03-07T15:22:45.570Z"
   },
   {
    "duration": 246,
    "start_time": "2022-03-07T15:23:05.584Z"
   },
   {
    "duration": 12,
    "start_time": "2022-03-07T15:24:06.801Z"
   },
   {
    "duration": 16,
    "start_time": "2022-03-07T15:25:07.029Z"
   },
   {
    "duration": 230,
    "start_time": "2022-03-07T15:29:17.550Z"
   },
   {
    "duration": 233,
    "start_time": "2022-03-07T15:29:25.870Z"
   },
   {
    "duration": 11,
    "start_time": "2022-03-07T15:29:42.777Z"
   },
   {
    "duration": 11,
    "start_time": "2022-03-07T15:30:30.836Z"
   },
   {
    "duration": 17,
    "start_time": "2022-03-07T15:30:38.316Z"
   },
   {
    "duration": 15,
    "start_time": "2022-03-07T15:30:50.885Z"
   },
   {
    "duration": 256,
    "start_time": "2022-03-07T15:31:03.880Z"
   },
   {
    "duration": 11,
    "start_time": "2022-03-07T15:31:09.111Z"
   },
   {
    "duration": 10,
    "start_time": "2022-03-07T15:31:48.979Z"
   },
   {
    "duration": -825,
    "start_time": "2022-03-07T15:33:32.651Z"
   },
   {
    "duration": 5333,
    "start_time": "2022-03-07T15:33:32.631Z"
   },
   {
    "duration": 12,
    "start_time": "2022-03-07T15:33:54.540Z"
   },
   {
    "duration": 223,
    "start_time": "2022-03-07T15:35:57.014Z"
   },
   {
    "duration": 16,
    "start_time": "2022-03-07T15:36:06.020Z"
   },
   {
    "duration": 559,
    "start_time": "2022-03-07T15:37:07.416Z"
   },
   {
    "duration": 594,
    "start_time": "2022-03-07T15:37:20.289Z"
   },
   {
    "duration": 84,
    "start_time": "2022-03-07T15:38:19.091Z"
   },
   {
    "duration": 87,
    "start_time": "2022-03-07T15:38:30.042Z"
   },
   {
    "duration": 68,
    "start_time": "2022-03-07T15:39:37.285Z"
   },
   {
    "duration": 83,
    "start_time": "2022-03-07T15:40:24.998Z"
   },
   {
    "duration": 16,
    "start_time": "2022-03-07T15:40:37.432Z"
   },
   {
    "duration": 78,
    "start_time": "2022-03-07T15:42:03.218Z"
   },
   {
    "duration": 96,
    "start_time": "2022-03-07T15:42:11.761Z"
   },
   {
    "duration": 74,
    "start_time": "2022-03-07T15:42:28.542Z"
   },
   {
    "duration": 85,
    "start_time": "2022-03-07T15:42:50.343Z"
   },
   {
    "duration": 77,
    "start_time": "2022-03-07T15:42:57.445Z"
   },
   {
    "duration": 73,
    "start_time": "2022-03-07T15:43:06.227Z"
   },
   {
    "duration": 75,
    "start_time": "2022-03-07T15:43:10.174Z"
   },
   {
    "duration": 212,
    "start_time": "2022-03-07T15:44:39.165Z"
   },
   {
    "duration": 9,
    "start_time": "2022-03-07T15:44:45.664Z"
   },
   {
    "duration": 30,
    "start_time": "2022-03-07T15:45:03.829Z"
   },
   {
    "duration": 22,
    "start_time": "2022-03-07T15:45:29.811Z"
   },
   {
    "duration": 20,
    "start_time": "2022-03-07T15:49:58.129Z"
   },
   {
    "duration": 21,
    "start_time": "2022-03-07T15:51:52.520Z"
   },
   {
    "duration": 21,
    "start_time": "2022-03-07T16:55:46.593Z"
   },
   {
    "duration": 27,
    "start_time": "2022-03-07T16:56:19.154Z"
   },
   {
    "duration": 27,
    "start_time": "2022-03-07T16:58:08.674Z"
   },
   {
    "duration": 224,
    "start_time": "2022-03-07T17:00:36.253Z"
   },
   {
    "duration": 8,
    "start_time": "2022-03-07T17:01:13.983Z"
   },
   {
    "duration": 14,
    "start_time": "2022-03-07T17:01:40.265Z"
   },
   {
    "duration": 26,
    "start_time": "2022-03-07T17:01:52.090Z"
   },
   {
    "duration": 13,
    "start_time": "2022-03-07T17:02:05.186Z"
   },
   {
    "duration": 29,
    "start_time": "2022-03-07T17:02:06.841Z"
   },
   {
    "duration": 736,
    "start_time": "2022-03-07T17:02:17.088Z"
   },
   {
    "duration": 54,
    "start_time": "2022-03-07T17:02:17.826Z"
   },
   {
    "duration": 29,
    "start_time": "2022-03-07T17:02:17.888Z"
   },
   {
    "duration": 17,
    "start_time": "2022-03-07T17:02:17.920Z"
   },
   {
    "duration": 4,
    "start_time": "2022-03-07T17:02:17.939Z"
   },
   {
    "duration": 45,
    "start_time": "2022-03-07T17:02:17.945Z"
   },
   {
    "duration": 14,
    "start_time": "2022-03-07T17:02:17.992Z"
   },
   {
    "duration": 333,
    "start_time": "2022-03-07T17:02:18.008Z"
   },
   {
    "duration": 9,
    "start_time": "2022-03-07T17:02:41.453Z"
   },
   {
    "duration": 27,
    "start_time": "2022-03-07T17:02:59.500Z"
   },
   {
    "duration": 228,
    "start_time": "2022-03-07T17:03:41.655Z"
   },
   {
    "duration": 286,
    "start_time": "2022-03-07T17:03:49.083Z"
   },
   {
    "duration": 284,
    "start_time": "2022-03-07T17:03:50.844Z"
   },
   {
    "duration": 731,
    "start_time": "2022-03-07T17:04:05.660Z"
   },
   {
    "duration": 62,
    "start_time": "2022-03-07T17:04:06.394Z"
   },
   {
    "duration": 34,
    "start_time": "2022-03-07T17:04:06.459Z"
   },
   {
    "duration": 22,
    "start_time": "2022-03-07T17:04:06.496Z"
   },
   {
    "duration": 4,
    "start_time": "2022-03-07T17:04:06.520Z"
   },
   {
    "duration": 19,
    "start_time": "2022-03-07T17:04:06.526Z"
   },
   {
    "duration": 366,
    "start_time": "2022-03-07T17:04:06.547Z"
   },
   {
    "duration": -903,
    "start_time": "2022-03-07T17:04:07.819Z"
   },
   {
    "duration": 21,
    "start_time": "2022-03-07T17:04:34.869Z"
   },
   {
    "duration": 33,
    "start_time": "2022-03-07T17:04:37.547Z"
   },
   {
    "duration": 27,
    "start_time": "2022-03-07T17:04:51.421Z"
   },
   {
    "duration": 34,
    "start_time": "2022-03-07T17:06:07.193Z"
   },
   {
    "duration": 35,
    "start_time": "2022-03-07T17:06:50.410Z"
   },
   {
    "duration": 31,
    "start_time": "2022-03-07T17:07:00.437Z"
   },
   {
    "duration": 32,
    "start_time": "2022-03-07T17:07:06.070Z"
   },
   {
    "duration": 34,
    "start_time": "2022-03-07T17:07:18.753Z"
   },
   {
    "duration": 5,
    "start_time": "2022-03-07T17:08:09.550Z"
   },
   {
    "duration": 333,
    "start_time": "2022-03-09T11:54:29.892Z"
   },
   {
    "duration": 654,
    "start_time": "2022-03-09T11:54:45.354Z"
   },
   {
    "duration": 53,
    "start_time": "2022-03-09T11:54:46.010Z"
   },
   {
    "duration": 24,
    "start_time": "2022-03-09T11:54:46.069Z"
   },
   {
    "duration": 14,
    "start_time": "2022-03-09T11:54:46.095Z"
   },
   {
    "duration": 4,
    "start_time": "2022-03-09T11:54:46.111Z"
   },
   {
    "duration": 13,
    "start_time": "2022-03-09T11:54:46.117Z"
   },
   {
    "duration": 53,
    "start_time": "2022-03-09T11:54:46.132Z"
   },
   {
    "duration": 4,
    "start_time": "2022-03-09T11:54:46.186Z"
   },
   {
    "duration": 15,
    "start_time": "2022-03-09T11:54:53.637Z"
   },
   {
    "duration": 23,
    "start_time": "2022-03-09T11:59:00.286Z"
   },
   {
    "duration": 351,
    "start_time": "2022-03-09T12:17:43.506Z"
   },
   {
    "duration": 7,
    "start_time": "2022-03-09T12:17:48.449Z"
   },
   {
    "duration": 265,
    "start_time": "2022-03-09T12:24:27.258Z"
   },
   {
    "duration": 8,
    "start_time": "2022-03-09T12:24:54.306Z"
   },
   {
    "duration": 14,
    "start_time": "2022-03-09T12:29:17.329Z"
   },
   {
    "duration": 9,
    "start_time": "2022-03-09T12:29:35.442Z"
   },
   {
    "duration": 8,
    "start_time": "2022-03-09T12:29:59.740Z"
   },
   {
    "duration": 9,
    "start_time": "2022-03-09T12:30:18.714Z"
   },
   {
    "duration": 9,
    "start_time": "2022-03-09T12:30:29.003Z"
   },
   {
    "duration": 512,
    "start_time": "2022-03-09T12:35:30.628Z"
   },
   {
    "duration": 502,
    "start_time": "2022-03-09T12:35:56.867Z"
   },
   {
    "duration": 9,
    "start_time": "2022-03-09T12:36:33.084Z"
   },
   {
    "duration": 9,
    "start_time": "2022-03-09T12:36:51.068Z"
   },
   {
    "duration": 259,
    "start_time": "2022-03-09T12:37:20.988Z"
   },
   {
    "duration": 329,
    "start_time": "2022-03-09T12:37:32.796Z"
   },
   {
    "duration": 13,
    "start_time": "2022-03-09T12:41:22.677Z"
   },
   {
    "duration": 12,
    "start_time": "2022-03-09T12:43:25.731Z"
   },
   {
    "duration": 14,
    "start_time": "2022-03-09T12:43:27.126Z"
   },
   {
    "duration": 3,
    "start_time": "2022-03-09T12:43:29.342Z"
   },
   {
    "duration": 12,
    "start_time": "2022-03-09T12:43:40.733Z"
   },
   {
    "duration": 21,
    "start_time": "2022-03-09T12:43:58.590Z"
   },
   {
    "duration": 13,
    "start_time": "2022-03-09T12:44:22.060Z"
   },
   {
    "duration": 630,
    "start_time": "2022-03-09T12:44:43.477Z"
   },
   {
    "duration": 55,
    "start_time": "2022-03-09T12:44:44.109Z"
   },
   {
    "duration": 23,
    "start_time": "2022-03-09T12:44:44.168Z"
   },
   {
    "duration": 13,
    "start_time": "2022-03-09T12:44:44.193Z"
   },
   {
    "duration": 3,
    "start_time": "2022-03-09T12:44:44.208Z"
   },
   {
    "duration": 329,
    "start_time": "2022-03-09T12:44:44.213Z"
   },
   {
    "duration": -22,
    "start_time": "2022-03-09T12:44:44.566Z"
   },
   {
    "duration": -26,
    "start_time": "2022-03-09T12:44:44.571Z"
   },
   {
    "duration": -26,
    "start_time": "2022-03-09T12:44:44.572Z"
   },
   {
    "duration": 639,
    "start_time": "2022-03-09T12:45:14.781Z"
   },
   {
    "duration": 55,
    "start_time": "2022-03-09T12:45:15.422Z"
   },
   {
    "duration": 22,
    "start_time": "2022-03-09T12:45:15.481Z"
   },
   {
    "duration": 14,
    "start_time": "2022-03-09T12:45:15.505Z"
   },
   {
    "duration": 3,
    "start_time": "2022-03-09T12:45:15.521Z"
   },
   {
    "duration": 19,
    "start_time": "2022-03-09T12:45:15.526Z"
   },
   {
    "duration": 37,
    "start_time": "2022-03-09T12:45:15.546Z"
   },
   {
    "duration": 3,
    "start_time": "2022-03-09T12:45:15.586Z"
   },
   {
    "duration": 27,
    "start_time": "2022-03-09T12:45:15.591Z"
   },
   {
    "duration": 24,
    "start_time": "2022-03-09T12:46:52.359Z"
   },
   {
    "duration": 336,
    "start_time": "2022-03-09T12:49:50.039Z"
   },
   {
    "duration": 276,
    "start_time": "2022-03-09T12:53:19.248Z"
   },
   {
    "duration": 262,
    "start_time": "2022-03-09T12:53:35.272Z"
   },
   {
    "duration": 267,
    "start_time": "2022-03-09T12:54:11.360Z"
   },
   {
    "duration": 261,
    "start_time": "2022-03-09T12:55:21.928Z"
   },
   {
    "duration": 249,
    "start_time": "2022-03-09T12:55:48.673Z"
   },
   {
    "duration": 10,
    "start_time": "2022-03-09T12:57:32.961Z"
   },
   {
    "duration": 11,
    "start_time": "2022-03-09T13:16:16.628Z"
   },
   {
    "duration": 11,
    "start_time": "2022-03-09T13:16:38.556Z"
   },
   {
    "duration": 16,
    "start_time": "2022-03-09T13:17:00.794Z"
   },
   {
    "duration": 89,
    "start_time": "2022-03-09T13:17:23.517Z"
   },
   {
    "duration": 12,
    "start_time": "2022-03-09T13:17:27.565Z"
   },
   {
    "duration": 29,
    "start_time": "2022-03-09T13:17:45.781Z"
   },
   {
    "duration": 11,
    "start_time": "2022-03-09T13:18:09.654Z"
   },
   {
    "duration": 404,
    "start_time": "2022-03-09T13:34:18.845Z"
   },
   {
    "duration": 296,
    "start_time": "2022-03-09T13:34:24.664Z"
   },
   {
    "duration": 1436,
    "start_time": "2022-03-09T13:35:03.280Z"
   },
   {
    "duration": 7,
    "start_time": "2022-03-09T13:35:23.792Z"
   },
   {
    "duration": 7,
    "start_time": "2022-03-09T13:37:09.888Z"
   },
   {
    "duration": 9,
    "start_time": "2022-03-09T13:37:19.080Z"
   },
   {
    "duration": 19,
    "start_time": "2022-03-09T13:39:41.070Z"
   },
   {
    "duration": 8,
    "start_time": "2022-03-09T13:44:54.382Z"
   },
   {
    "duration": 7,
    "start_time": "2022-03-09T13:45:41.202Z"
   },
   {
    "duration": 27,
    "start_time": "2022-03-09T13:45:56.578Z"
   },
   {
    "duration": 604,
    "start_time": "2022-03-09T13:46:18.298Z"
   },
   {
    "duration": 62,
    "start_time": "2022-03-09T13:46:18.904Z"
   },
   {
    "duration": 21,
    "start_time": "2022-03-09T13:46:18.968Z"
   },
   {
    "duration": 13,
    "start_time": "2022-03-09T13:46:18.992Z"
   },
   {
    "duration": 3,
    "start_time": "2022-03-09T13:46:19.007Z"
   },
   {
    "duration": 15,
    "start_time": "2022-03-09T13:46:19.012Z"
   },
   {
    "duration": 16,
    "start_time": "2022-03-09T13:46:19.028Z"
   },
   {
    "duration": 3,
    "start_time": "2022-03-09T13:46:19.047Z"
   },
   {
    "duration": 16,
    "start_time": "2022-03-09T13:46:19.078Z"
   },
   {
    "duration": 332,
    "start_time": "2022-03-09T13:46:19.096Z"
   },
   {
    "duration": 281,
    "start_time": "2022-03-09T13:51:03.489Z"
   },
   {
    "duration": 589,
    "start_time": "2022-03-09T13:51:13.418Z"
   },
   {
    "duration": 54,
    "start_time": "2022-03-09T13:51:14.009Z"
   },
   {
    "duration": 22,
    "start_time": "2022-03-09T13:51:14.065Z"
   },
   {
    "duration": 32,
    "start_time": "2022-03-09T13:51:14.089Z"
   },
   {
    "duration": 3,
    "start_time": "2022-03-09T13:51:14.123Z"
   },
   {
    "duration": 16,
    "start_time": "2022-03-09T13:51:14.128Z"
   },
   {
    "duration": 16,
    "start_time": "2022-03-09T13:51:14.145Z"
   },
   {
    "duration": 4,
    "start_time": "2022-03-09T13:51:14.163Z"
   },
   {
    "duration": 18,
    "start_time": "2022-03-09T13:51:14.177Z"
   },
   {
    "duration": 373,
    "start_time": "2022-03-09T13:51:14.197Z"
   },
   {
    "duration": 60,
    "start_time": "2022-03-09T13:52:00.744Z"
   },
   {
    "duration": 16,
    "start_time": "2022-03-09T13:52:07.207Z"
   },
   {
    "duration": 54,
    "start_time": "2022-03-09T13:52:09.640Z"
   },
   {
    "duration": 576,
    "start_time": "2022-03-09T13:52:36.034Z"
   },
   {
    "duration": 54,
    "start_time": "2022-03-09T13:52:36.612Z"
   },
   {
    "duration": 21,
    "start_time": "2022-03-09T13:52:36.668Z"
   },
   {
    "duration": 15,
    "start_time": "2022-03-09T13:52:36.692Z"
   },
   {
    "duration": 3,
    "start_time": "2022-03-09T13:52:36.709Z"
   },
   {
    "duration": 14,
    "start_time": "2022-03-09T13:52:36.714Z"
   },
   {
    "duration": 16,
    "start_time": "2022-03-09T13:52:36.730Z"
   },
   {
    "duration": 30,
    "start_time": "2022-03-09T13:52:36.749Z"
   },
   {
    "duration": 18,
    "start_time": "2022-03-09T13:52:36.781Z"
   },
   {
    "duration": 47,
    "start_time": "2022-03-09T13:52:36.801Z"
   },
   {
    "duration": 345,
    "start_time": "2022-03-09T13:57:18.441Z"
   },
   {
    "duration": 17,
    "start_time": "2022-03-09T13:57:29.537Z"
   },
   {
    "duration": 16,
    "start_time": "2022-03-09T13:57:40.353Z"
   },
   {
    "duration": 171,
    "start_time": "2022-03-09T13:57:46.689Z"
   },
   {
    "duration": 18,
    "start_time": "2022-03-09T13:57:52.746Z"
   },
   {
    "duration": 355,
    "start_time": "2022-03-09T13:58:23.049Z"
   },
   {
    "duration": 5,
    "start_time": "2022-03-09T13:58:27.609Z"
   },
   {
    "duration": 5,
    "start_time": "2022-03-09T13:58:33.337Z"
   },
   {
    "duration": 8,
    "start_time": "2022-03-09T14:03:45.442Z"
   },
   {
    "duration": 8,
    "start_time": "2022-03-09T14:11:35.717Z"
   },
   {
    "duration": 8,
    "start_time": "2022-03-09T14:15:32.526Z"
   },
   {
    "duration": 87,
    "start_time": "2022-03-09T14:16:13.366Z"
   },
   {
    "duration": 9,
    "start_time": "2022-03-09T14:16:35.639Z"
   },
   {
    "duration": 13,
    "start_time": "2022-03-09T14:25:38.986Z"
   },
   {
    "duration": 13,
    "start_time": "2022-03-09T14:25:46.400Z"
   },
   {
    "duration": 12,
    "start_time": "2022-03-09T14:25:49.065Z"
   },
   {
    "duration": 8,
    "start_time": "2022-03-09T14:25:58.665Z"
   },
   {
    "duration": 8,
    "start_time": "2022-03-09T14:25:59.816Z"
   },
   {
    "duration": 12,
    "start_time": "2022-03-09T14:26:00.929Z"
   },
   {
    "duration": 315,
    "start_time": "2022-03-09T14:26:37.327Z"
   },
   {
    "duration": 12,
    "start_time": "2022-03-09T14:30:45.941Z"
   },
   {
    "duration": 16,
    "start_time": "2022-03-09T14:31:22.437Z"
   },
   {
    "duration": 21,
    "start_time": "2022-03-09T14:32:51.006Z"
   },
   {
    "duration": 23,
    "start_time": "2022-03-09T14:33:09.189Z"
   },
   {
    "duration": 724,
    "start_time": "2022-03-09T14:34:53.518Z"
   },
   {
    "duration": 900,
    "start_time": "2022-03-09T14:35:19.733Z"
   },
   {
    "duration": 54,
    "start_time": "2022-03-09T14:35:20.635Z"
   },
   {
    "duration": 22,
    "start_time": "2022-03-09T14:35:20.691Z"
   },
   {
    "duration": 20,
    "start_time": "2022-03-09T14:35:20.715Z"
   },
   {
    "duration": 3,
    "start_time": "2022-03-09T14:35:20.737Z"
   },
   {
    "duration": 13,
    "start_time": "2022-03-09T14:35:20.742Z"
   },
   {
    "duration": 33,
    "start_time": "2022-03-09T14:35:20.757Z"
   },
   {
    "duration": 3,
    "start_time": "2022-03-09T14:35:20.793Z"
   },
   {
    "duration": 18,
    "start_time": "2022-03-09T14:35:20.798Z"
   },
   {
    "duration": 12,
    "start_time": "2022-03-09T14:35:20.818Z"
   },
   {
    "duration": 22,
    "start_time": "2022-03-09T14:35:20.832Z"
   },
   {
    "duration": 1394,
    "start_time": "2022-03-09T14:35:20.878Z"
   },
   {
    "duration": 1601,
    "start_time": "2022-03-09T14:35:46.360Z"
   },
   {
    "duration": 22,
    "start_time": "2022-03-09T14:35:51.024Z"
   },
   {
    "duration": 1385,
    "start_time": "2022-03-09T14:35:52.336Z"
   },
   {
    "duration": 735,
    "start_time": "2022-03-09T14:36:49.321Z"
   },
   {
    "duration": 673,
    "start_time": "2022-03-09T14:37:49.354Z"
   },
   {
    "duration": 599,
    "start_time": "2022-03-09T14:38:11.738Z"
   },
   {
    "duration": 63,
    "start_time": "2022-03-09T14:38:12.339Z"
   },
   {
    "duration": 21,
    "start_time": "2022-03-09T14:38:12.404Z"
   },
   {
    "duration": 18,
    "start_time": "2022-03-09T14:38:12.427Z"
   },
   {
    "duration": 23,
    "start_time": "2022-03-09T14:38:12.447Z"
   },
   {
    "duration": 32,
    "start_time": "2022-03-09T14:38:12.472Z"
   },
   {
    "duration": 26,
    "start_time": "2022-03-09T14:38:12.506Z"
   },
   {
    "duration": 11,
    "start_time": "2022-03-09T14:38:12.534Z"
   },
   {
    "duration": 20,
    "start_time": "2022-03-09T14:38:12.548Z"
   },
   {
    "duration": 19,
    "start_time": "2022-03-09T14:38:12.570Z"
   },
   {
    "duration": 42,
    "start_time": "2022-03-09T14:38:12.591Z"
   },
   {
    "duration": 714,
    "start_time": "2022-03-09T14:38:12.635Z"
   },
   {
    "duration": -19,
    "start_time": "2022-03-09T14:38:13.370Z"
   },
   {
    "duration": 580,
    "start_time": "2022-03-09T14:38:23.031Z"
   },
   {
    "duration": 53,
    "start_time": "2022-03-09T14:38:23.613Z"
   },
   {
    "duration": 21,
    "start_time": "2022-03-09T14:38:23.669Z"
   },
   {
    "duration": 13,
    "start_time": "2022-03-09T14:38:23.692Z"
   },
   {
    "duration": 3,
    "start_time": "2022-03-09T14:38:23.707Z"
   },
   {
    "duration": 14,
    "start_time": "2022-03-09T14:38:23.712Z"
   },
   {
    "duration": 14,
    "start_time": "2022-03-09T14:38:23.727Z"
   },
   {
    "duration": 4,
    "start_time": "2022-03-09T14:38:23.743Z"
   },
   {
    "duration": 35,
    "start_time": "2022-03-09T14:38:23.748Z"
   },
   {
    "duration": 13,
    "start_time": "2022-03-09T14:38:23.784Z"
   },
   {
    "duration": 20,
    "start_time": "2022-03-09T14:38:23.798Z"
   },
   {
    "duration": 723,
    "start_time": "2022-03-09T14:38:23.820Z"
   },
   {
    "duration": -28,
    "start_time": "2022-03-09T14:38:24.572Z"
   },
   {
    "duration": 334,
    "start_time": "2022-03-09T14:38:26.897Z"
   },
   {
    "duration": 24,
    "start_time": "2022-03-09T14:38:37.209Z"
   },
   {
    "duration": 21,
    "start_time": "2022-03-09T14:38:46.793Z"
   },
   {
    "duration": 32,
    "start_time": "2022-03-09T14:39:21.145Z"
   },
   {
    "duration": 24,
    "start_time": "2022-03-09T14:39:26.370Z"
   },
   {
    "duration": 641,
    "start_time": "2022-03-09T14:39:53.878Z"
   },
   {
    "duration": 54,
    "start_time": "2022-03-09T14:39:54.522Z"
   },
   {
    "duration": 22,
    "start_time": "2022-03-09T14:39:54.578Z"
   },
   {
    "duration": 13,
    "start_time": "2022-03-09T14:39:54.603Z"
   },
   {
    "duration": 4,
    "start_time": "2022-03-09T14:39:54.618Z"
   },
   {
    "duration": 14,
    "start_time": "2022-03-09T14:39:54.624Z"
   },
   {
    "duration": 46,
    "start_time": "2022-03-09T14:39:54.640Z"
   },
   {
    "duration": 4,
    "start_time": "2022-03-09T14:39:54.688Z"
   },
   {
    "duration": 12,
    "start_time": "2022-03-09T14:39:54.694Z"
   },
   {
    "duration": 10,
    "start_time": "2022-03-09T14:39:54.707Z"
   },
   {
    "duration": 19,
    "start_time": "2022-03-09T14:39:54.719Z"
   },
   {
    "duration": 51,
    "start_time": "2022-03-09T14:39:54.741Z"
   },
   {
    "duration": 22,
    "start_time": "2022-03-09T14:39:54.794Z"
   },
   {
    "duration": 33,
    "start_time": "2022-03-09T14:42:19.295Z"
   },
   {
    "duration": 32,
    "start_time": "2022-03-09T14:42:23.871Z"
   },
   {
    "duration": 11,
    "start_time": "2022-03-09T14:42:58.655Z"
   },
   {
    "duration": 32,
    "start_time": "2022-03-09T14:48:18.977Z"
   },
   {
    "duration": 20,
    "start_time": "2022-03-09T14:49:26.337Z"
   },
   {
    "duration": 11,
    "start_time": "2022-03-09T14:49:32.825Z"
   },
   {
    "duration": 15,
    "start_time": "2022-03-09T14:49:38.793Z"
   },
   {
    "duration": 9,
    "start_time": "2022-03-09T14:49:53.121Z"
   },
   {
    "duration": 335,
    "start_time": "2022-03-09T18:41:54.274Z"
   },
   {
    "duration": 637,
    "start_time": "2022-03-09T18:42:02.949Z"
   },
   {
    "duration": 47,
    "start_time": "2022-03-09T18:42:03.588Z"
   },
   {
    "duration": 17,
    "start_time": "2022-03-09T18:42:03.636Z"
   },
   {
    "duration": 17,
    "start_time": "2022-03-09T18:42:03.654Z"
   },
   {
    "duration": 10,
    "start_time": "2022-03-09T18:42:03.672Z"
   },
   {
    "duration": 16,
    "start_time": "2022-03-09T18:42:03.683Z"
   },
   {
    "duration": 21,
    "start_time": "2022-03-09T18:42:03.700Z"
   },
   {
    "duration": 7,
    "start_time": "2022-03-09T18:42:03.723Z"
   },
   {
    "duration": 19,
    "start_time": "2022-03-09T18:42:03.731Z"
   },
   {
    "duration": 20,
    "start_time": "2022-03-09T18:42:03.751Z"
   },
   {
    "duration": 23,
    "start_time": "2022-03-09T18:42:03.773Z"
   },
   {
    "duration": 9,
    "start_time": "2022-03-09T18:42:03.797Z"
   },
   {
    "duration": 12,
    "start_time": "2022-03-09T18:42:03.807Z"
   },
   {
    "duration": 17,
    "start_time": "2022-03-09T18:42:18.602Z"
   },
   {
    "duration": 16,
    "start_time": "2022-03-09T18:42:23.633Z"
   },
   {
    "duration": 16,
    "start_time": "2022-03-09T18:42:28.999Z"
   },
   {
    "duration": 17,
    "start_time": "2022-03-09T18:42:40.129Z"
   },
   {
    "duration": 12,
    "start_time": "2022-03-09T18:47:00.524Z"
   },
   {
    "duration": 18,
    "start_time": "2022-03-09T18:47:05.222Z"
   },
   {
    "duration": 9,
    "start_time": "2022-03-09T18:47:06.841Z"
   },
   {
    "duration": 6,
    "start_time": "2022-03-09T18:47:10.259Z"
   },
   {
    "duration": 7,
    "start_time": "2022-03-09T18:47:19.023Z"
   },
   {
    "duration": 16,
    "start_time": "2022-03-09T18:47:20.160Z"
   },
   {
    "duration": 24,
    "start_time": "2022-03-09T18:47:33.014Z"
   },
   {
    "duration": 8,
    "start_time": "2022-03-09T18:47:35.291Z"
   },
   {
    "duration": 4,
    "start_time": "2022-03-09T18:47:40.133Z"
   },
   {
    "duration": 3,
    "start_time": "2022-03-09T18:49:56.874Z"
   },
   {
    "duration": 3,
    "start_time": "2022-03-09T18:49:58.295Z"
   },
   {
    "duration": 10,
    "start_time": "2022-03-09T18:50:13.616Z"
   },
   {
    "duration": 13,
    "start_time": "2022-03-09T18:50:14.768Z"
   },
   {
    "duration": 6,
    "start_time": "2022-03-09T18:50:16.153Z"
   },
   {
    "duration": 6,
    "start_time": "2022-03-09T18:50:19.177Z"
   },
   {
    "duration": 6,
    "start_time": "2022-03-09T18:50:21.837Z"
   },
   {
    "duration": 544,
    "start_time": "2022-03-09T18:50:27.525Z"
   },
   {
    "duration": 47,
    "start_time": "2022-03-09T18:50:28.071Z"
   },
   {
    "duration": 18,
    "start_time": "2022-03-09T18:50:28.120Z"
   },
   {
    "duration": 9,
    "start_time": "2022-03-09T18:50:28.139Z"
   },
   {
    "duration": 3,
    "start_time": "2022-03-09T18:50:28.150Z"
   },
   {
    "duration": 12,
    "start_time": "2022-03-09T18:50:28.155Z"
   },
   {
    "duration": 48,
    "start_time": "2022-03-09T18:50:28.168Z"
   },
   {
    "duration": 8,
    "start_time": "2022-03-09T18:50:28.218Z"
   },
   {
    "duration": 8,
    "start_time": "2022-03-09T18:50:28.228Z"
   },
   {
    "duration": 17,
    "start_time": "2022-03-09T18:50:28.238Z"
   },
   {
    "duration": 66,
    "start_time": "2022-03-09T18:50:28.257Z"
   },
   {
    "duration": 10,
    "start_time": "2022-03-09T18:50:28.325Z"
   },
   {
    "duration": 3,
    "start_time": "2022-03-09T18:50:28.337Z"
   },
   {
    "duration": 5,
    "start_time": "2022-03-09T18:50:28.342Z"
   },
   {
    "duration": 11,
    "start_time": "2022-03-09T18:50:46.064Z"
   },
   {
    "duration": 13,
    "start_time": "2022-03-09T18:50:46.533Z"
   },
   {
    "duration": 7,
    "start_time": "2022-03-09T18:50:47.534Z"
   },
   {
    "duration": 6,
    "start_time": "2022-03-09T18:50:49.538Z"
   },
   {
    "duration": 4,
    "start_time": "2022-03-09T18:50:53.414Z"
   },
   {
    "duration": 10,
    "start_time": "2022-03-09T18:50:54.326Z"
   },
   {
    "duration": 13,
    "start_time": "2022-03-09T18:50:55.248Z"
   },
   {
    "duration": 7,
    "start_time": "2022-03-09T18:50:56.737Z"
   },
   {
    "duration": 6,
    "start_time": "2022-03-09T18:50:59.290Z"
   },
   {
    "duration": 680,
    "start_time": "2022-03-09T18:51:07.306Z"
   },
   {
    "duration": 64,
    "start_time": "2022-03-09T18:51:07.988Z"
   },
   {
    "duration": 25,
    "start_time": "2022-03-09T18:51:08.054Z"
   },
   {
    "duration": 29,
    "start_time": "2022-03-09T18:51:08.081Z"
   },
   {
    "duration": 5,
    "start_time": "2022-03-09T18:51:08.112Z"
   },
   {
    "duration": 32,
    "start_time": "2022-03-09T18:51:08.119Z"
   },
   {
    "duration": 14,
    "start_time": "2022-03-09T18:51:08.153Z"
   },
   {
    "duration": 5,
    "start_time": "2022-03-09T18:51:08.169Z"
   },
   {
    "duration": 9,
    "start_time": "2022-03-09T18:51:08.176Z"
   },
   {
    "duration": 28,
    "start_time": "2022-03-09T18:51:08.187Z"
   },
   {
    "duration": 23,
    "start_time": "2022-03-09T18:51:08.216Z"
   },
   {
    "duration": 7,
    "start_time": "2022-03-09T18:51:08.241Z"
   },
   {
    "duration": 5,
    "start_time": "2022-03-09T18:51:08.250Z"
   },
   {
    "duration": 10,
    "start_time": "2022-03-09T18:51:08.256Z"
   },
   {
    "duration": 5,
    "start_time": "2022-03-09T18:52:57.289Z"
   },
   {
    "duration": 407,
    "start_time": "2022-03-09T18:53:35.081Z"
   },
   {
    "duration": 3,
    "start_time": "2022-03-09T18:53:41.946Z"
   },
   {
    "duration": 3,
    "start_time": "2022-03-09T18:53:44.418Z"
   },
   {
    "duration": 295,
    "start_time": "2022-03-09T18:54:20.286Z"
   },
   {
    "duration": 13,
    "start_time": "2022-03-09T18:54:37.161Z"
   },
   {
    "duration": 326,
    "start_time": "2022-03-09T18:55:08.139Z"
   },
   {
    "duration": 295,
    "start_time": "2022-03-09T18:55:26.230Z"
   },
   {
    "duration": 304,
    "start_time": "2022-03-09T18:55:44.650Z"
   },
   {
    "duration": 313,
    "start_time": "2022-03-09T18:55:53.342Z"
   },
   {
    "duration": 304,
    "start_time": "2022-03-09T18:56:27.276Z"
   },
   {
    "duration": 308,
    "start_time": "2022-03-09T18:56:32.587Z"
   },
   {
    "duration": 7,
    "start_time": "2022-03-09T18:56:56.010Z"
   },
   {
    "duration": 371,
    "start_time": "2022-03-09T18:58:16.248Z"
   },
   {
    "duration": 6,
    "start_time": "2022-03-09T18:59:02.782Z"
   },
   {
    "duration": 7,
    "start_time": "2022-03-09T19:02:46.422Z"
   },
   {
    "duration": 7,
    "start_time": "2022-03-09T19:03:20.015Z"
   },
   {
    "duration": 7,
    "start_time": "2022-03-09T19:03:55.432Z"
   },
   {
    "duration": 17,
    "start_time": "2022-03-09T19:04:25.992Z"
   },
   {
    "duration": 11,
    "start_time": "2022-03-09T19:05:00.359Z"
   },
   {
    "duration": 324,
    "start_time": "2022-03-09T19:24:25.345Z"
   },
   {
    "duration": 14,
    "start_time": "2022-03-09T19:24:48.830Z"
   },
   {
    "duration": 29,
    "start_time": "2022-03-09T19:27:44.999Z"
   },
   {
    "duration": 309,
    "start_time": "2022-03-09T19:29:47.363Z"
   },
   {
    "duration": 14,
    "start_time": "2022-03-09T19:29:57.481Z"
   },
   {
    "duration": 16,
    "start_time": "2022-03-09T19:30:02.255Z"
   },
   {
    "duration": 298,
    "start_time": "2022-03-09T19:30:27.451Z"
   },
   {
    "duration": 310,
    "start_time": "2022-03-09T19:30:30.552Z"
   },
   {
    "duration": 14,
    "start_time": "2022-03-09T19:30:39.279Z"
   },
   {
    "duration": 100,
    "start_time": "2022-03-09T19:55:00.109Z"
   },
   {
    "duration": 47,
    "start_time": "2022-03-09T19:56:04.546Z"
   },
   {
    "duration": 46,
    "start_time": "2022-03-09T19:56:18.580Z"
   },
   {
    "duration": 12,
    "start_time": "2022-03-09T19:57:34.708Z"
   },
   {
    "duration": 19,
    "start_time": "2022-03-09T19:58:07.113Z"
   },
   {
    "duration": 12,
    "start_time": "2022-03-09T19:58:34.694Z"
   },
   {
    "duration": 12,
    "start_time": "2022-03-09T20:07:01.974Z"
   },
   {
    "duration": 10,
    "start_time": "2022-03-09T20:07:06.865Z"
   },
   {
    "duration": 7,
    "start_time": "2022-03-09T20:07:30.082Z"
   },
   {
    "duration": 8,
    "start_time": "2022-03-09T20:07:55.558Z"
   },
   {
    "duration": 7,
    "start_time": "2022-03-09T20:08:24.006Z"
   },
   {
    "duration": 9,
    "start_time": "2022-03-09T20:09:37.223Z"
   },
   {
    "duration": 5,
    "start_time": "2022-03-09T20:09:49.518Z"
   },
   {
    "duration": 6,
    "start_time": "2022-03-09T20:10:15.656Z"
   },
   {
    "duration": 10,
    "start_time": "2022-03-09T20:11:12.221Z"
   },
   {
    "duration": 12,
    "start_time": "2022-03-09T20:11:23.801Z"
   },
   {
    "duration": 225,
    "start_time": "2022-03-10T13:20:18.247Z"
   },
   {
    "duration": 179,
    "start_time": "2022-03-10T13:20:26.875Z"
   },
   {
    "duration": 190,
    "start_time": "2022-03-10T13:20:42.300Z"
   },
   {
    "duration": 587,
    "start_time": "2022-03-10T13:20:48.891Z"
   },
   {
    "duration": 48,
    "start_time": "2022-03-10T13:20:49.480Z"
   },
   {
    "duration": 22,
    "start_time": "2022-03-10T13:20:49.530Z"
   },
   {
    "duration": 12,
    "start_time": "2022-03-10T13:20:49.560Z"
   },
   {
    "duration": 4,
    "start_time": "2022-03-10T13:20:49.574Z"
   },
   {
    "duration": 14,
    "start_time": "2022-03-10T13:20:49.579Z"
   },
   {
    "duration": 16,
    "start_time": "2022-03-10T13:20:49.595Z"
   },
   {
    "duration": 8,
    "start_time": "2022-03-10T13:20:49.613Z"
   },
   {
    "duration": 10,
    "start_time": "2022-03-10T13:20:49.661Z"
   },
   {
    "duration": 25,
    "start_time": "2022-03-10T13:20:49.673Z"
   },
   {
    "duration": 63,
    "start_time": "2022-03-10T13:20:49.700Z"
   },
   {
    "duration": 10,
    "start_time": "2022-03-10T13:20:49.765Z"
   },
   {
    "duration": 5,
    "start_time": "2022-03-10T13:20:49.776Z"
   },
   {
    "duration": 27,
    "start_time": "2022-03-10T13:20:49.784Z"
   },
   {
    "duration": 69,
    "start_time": "2022-03-10T13:20:49.814Z"
   },
   {
    "duration": 17,
    "start_time": "2022-03-10T13:20:49.885Z"
   },
   {
    "duration": 16,
    "start_time": "2022-03-10T13:20:49.904Z"
   },
   {
    "duration": 8,
    "start_time": "2022-03-10T13:20:49.922Z"
   },
   {
    "duration": 47,
    "start_time": "2022-03-10T13:20:49.959Z"
   },
   {
    "duration": 12,
    "start_time": "2022-03-10T13:20:50.008Z"
   },
   {
    "duration": 8,
    "start_time": "2022-03-10T13:20:50.021Z"
   },
   {
    "duration": 32,
    "start_time": "2022-03-10T13:20:50.031Z"
   },
   {
    "duration": 11,
    "start_time": "2022-03-10T13:20:50.068Z"
   },
   {
    "duration": 15,
    "start_time": "2022-03-10T13:20:50.081Z"
   },
   {
    "duration": 22,
    "start_time": "2022-03-10T13:20:50.098Z"
   },
   {
    "duration": 16,
    "start_time": "2022-03-10T13:20:54.759Z"
   },
   {
    "duration": 20,
    "start_time": "2022-03-10T13:21:17.318Z"
   },
   {
    "duration": 6,
    "start_time": "2022-03-10T14:16:52.751Z"
   },
   {
    "duration": 9,
    "start_time": "2022-03-10T14:17:52.956Z"
   },
   {
    "duration": 11,
    "start_time": "2022-03-10T14:18:39.680Z"
   },
   {
    "duration": 8,
    "start_time": "2022-03-10T14:18:53.248Z"
   },
   {
    "duration": 5,
    "start_time": "2022-03-10T14:23:28.696Z"
   },
   {
    "duration": 9,
    "start_time": "2022-03-10T14:23:39.280Z"
   },
   {
    "duration": 7,
    "start_time": "2022-03-10T14:31:51.847Z"
   },
   {
    "duration": 7,
    "start_time": "2022-03-10T14:33:51.990Z"
   },
   {
    "duration": 67,
    "start_time": "2022-03-10T14:38:19.551Z"
   },
   {
    "duration": 4779,
    "start_time": "2022-03-10T14:43:28.322Z"
   },
   {
    "duration": 7,
    "start_time": "2022-03-10T14:44:00.379Z"
   },
   {
    "duration": 14,
    "start_time": "2022-03-10T14:44:31.003Z"
   },
   {
    "duration": 8,
    "start_time": "2022-03-10T14:44:40.123Z"
   },
   {
    "duration": 8,
    "start_time": "2022-03-10T14:44:49.539Z"
   },
   {
    "duration": 9,
    "start_time": "2022-03-10T14:52:12.915Z"
   },
   {
    "duration": 8,
    "start_time": "2022-03-10T14:52:15.351Z"
   },
   {
    "duration": 14,
    "start_time": "2022-03-10T14:52:31.263Z"
   },
   {
    "duration": 7,
    "start_time": "2022-03-10T14:53:03.088Z"
   },
   {
    "duration": 596,
    "start_time": "2022-03-10T14:56:13.144Z"
   },
   {
    "duration": 51,
    "start_time": "2022-03-10T14:56:13.742Z"
   },
   {
    "duration": 21,
    "start_time": "2022-03-10T14:56:13.795Z"
   },
   {
    "duration": 12,
    "start_time": "2022-03-10T14:56:13.818Z"
   },
   {
    "duration": 4,
    "start_time": "2022-03-10T14:56:13.831Z"
   },
   {
    "duration": 34,
    "start_time": "2022-03-10T14:56:13.836Z"
   },
   {
    "duration": 16,
    "start_time": "2022-03-10T14:56:13.871Z"
   },
   {
    "duration": 7,
    "start_time": "2022-03-10T14:56:13.889Z"
   },
   {
    "duration": 8,
    "start_time": "2022-03-10T14:56:13.898Z"
   },
   {
    "duration": 19,
    "start_time": "2022-03-10T14:56:13.908Z"
   },
   {
    "duration": 55,
    "start_time": "2022-03-10T14:56:13.929Z"
   },
   {
    "duration": 9,
    "start_time": "2022-03-10T14:56:13.985Z"
   },
   {
    "duration": 5,
    "start_time": "2022-03-10T14:56:13.996Z"
   },
   {
    "duration": 19,
    "start_time": "2022-03-10T14:56:14.002Z"
   },
   {
    "duration": 64,
    "start_time": "2022-03-10T14:56:14.023Z"
   },
   {
    "duration": 17,
    "start_time": "2022-03-10T14:56:14.088Z"
   },
   {
    "duration": 17,
    "start_time": "2022-03-10T14:56:14.106Z"
   },
   {
    "duration": 7,
    "start_time": "2022-03-10T14:56:14.124Z"
   },
   {
    "duration": 76,
    "start_time": "2022-03-10T14:56:14.133Z"
   },
   {
    "duration": 10,
    "start_time": "2022-03-10T14:56:14.211Z"
   },
   {
    "duration": 7,
    "start_time": "2022-03-10T14:56:14.223Z"
   },
   {
    "duration": 28,
    "start_time": "2022-03-10T14:56:14.232Z"
   },
   {
    "duration": 15,
    "start_time": "2022-03-10T14:56:14.262Z"
   },
   {
    "duration": 10,
    "start_time": "2022-03-10T14:56:14.279Z"
   },
   {
    "duration": 11,
    "start_time": "2022-03-10T14:56:14.291Z"
   },
   {
    "duration": 16,
    "start_time": "2022-03-10T14:56:14.304Z"
   },
   {
    "duration": 9,
    "start_time": "2022-03-10T14:56:14.322Z"
   },
   {
    "duration": 739,
    "start_time": "2022-03-10T17:49:10.124Z"
   },
   {
    "duration": 61,
    "start_time": "2022-03-10T17:49:10.865Z"
   },
   {
    "duration": 61,
    "start_time": "2022-03-10T17:49:10.930Z"
   },
   {
    "duration": 16,
    "start_time": "2022-03-10T17:49:10.995Z"
   },
   {
    "duration": 5,
    "start_time": "2022-03-10T17:49:11.014Z"
   },
   {
    "duration": 70,
    "start_time": "2022-03-10T17:49:11.021Z"
   },
   {
    "duration": 25,
    "start_time": "2022-03-10T17:49:11.094Z"
   },
   {
    "duration": 10,
    "start_time": "2022-03-10T17:49:11.121Z"
   },
   {
    "duration": 54,
    "start_time": "2022-03-10T17:49:11.135Z"
   },
   {
    "duration": 32,
    "start_time": "2022-03-10T17:49:11.194Z"
   },
   {
    "duration": 93,
    "start_time": "2022-03-10T17:49:11.229Z"
   },
   {
    "duration": 18,
    "start_time": "2022-03-10T17:49:11.325Z"
   },
   {
    "duration": 40,
    "start_time": "2022-03-10T17:49:11.346Z"
   },
   {
    "duration": 29,
    "start_time": "2022-03-10T17:49:11.388Z"
   },
   {
    "duration": 90,
    "start_time": "2022-03-10T17:49:11.420Z"
   },
   {
    "duration": 25,
    "start_time": "2022-03-10T17:49:11.512Z"
   },
   {
    "duration": 58,
    "start_time": "2022-03-10T17:49:11.540Z"
   },
   {
    "duration": 13,
    "start_time": "2022-03-10T17:49:11.601Z"
   },
   {
    "duration": 147,
    "start_time": "2022-03-10T17:49:11.617Z"
   },
   {
    "duration": 26,
    "start_time": "2022-03-10T17:49:11.767Z"
   },
   {
    "duration": 18,
    "start_time": "2022-03-10T17:49:11.796Z"
   },
   {
    "duration": 15,
    "start_time": "2022-03-10T17:49:11.817Z"
   },
   {
    "duration": 51,
    "start_time": "2022-03-10T17:49:11.835Z"
   },
   {
    "duration": 27,
    "start_time": "2022-03-10T17:49:11.889Z"
   },
   {
    "duration": 12,
    "start_time": "2022-03-10T17:49:11.918Z"
   },
   {
    "duration": 58,
    "start_time": "2022-03-10T17:49:11.932Z"
   },
   {
    "duration": 10,
    "start_time": "2022-03-10T17:49:11.994Z"
   },
   {
    "duration": 769,
    "start_time": "2022-03-10T17:56:43.717Z"
   },
   {
    "duration": 63,
    "start_time": "2022-03-10T17:56:44.489Z"
   },
   {
    "duration": 53,
    "start_time": "2022-03-10T17:56:44.558Z"
   },
   {
    "duration": 22,
    "start_time": "2022-03-10T17:56:44.613Z"
   },
   {
    "duration": 7,
    "start_time": "2022-03-10T17:56:44.638Z"
   },
   {
    "duration": 19,
    "start_time": "2022-03-10T17:56:44.683Z"
   },
   {
    "duration": 20,
    "start_time": "2022-03-10T17:56:44.706Z"
   },
   {
    "duration": 57,
    "start_time": "2022-03-10T17:56:44.729Z"
   },
   {
    "duration": 33,
    "start_time": "2022-03-10T17:56:44.789Z"
   },
   {
    "duration": 32,
    "start_time": "2022-03-10T17:56:44.824Z"
   },
   {
    "duration": 63,
    "start_time": "2022-03-10T17:56:44.859Z"
   },
   {
    "duration": 16,
    "start_time": "2022-03-10T17:56:44.924Z"
   },
   {
    "duration": 41,
    "start_time": "2022-03-10T17:56:44.942Z"
   },
   {
    "duration": 8,
    "start_time": "2022-03-10T17:56:44.986Z"
   },
   {
    "duration": 27,
    "start_time": "2022-03-10T17:56:44.996Z"
   },
   {
    "duration": 64,
    "start_time": "2022-03-10T17:56:45.026Z"
   },
   {
    "duration": 34,
    "start_time": "2022-03-10T17:56:45.093Z"
   },
   {
    "duration": 16,
    "start_time": "2022-03-10T17:56:45.130Z"
   },
   {
    "duration": 16,
    "start_time": "2022-03-10T17:56:45.149Z"
   },
   {
    "duration": 40,
    "start_time": "2022-03-10T17:56:45.168Z"
   },
   {
    "duration": 39,
    "start_time": "2022-03-10T17:56:45.210Z"
   },
   {
    "duration": 78,
    "start_time": "2022-03-10T17:56:45.254Z"
   },
   {
    "duration": 55,
    "start_time": "2022-03-10T17:56:45.335Z"
   },
   {
    "duration": 27,
    "start_time": "2022-03-10T17:56:45.393Z"
   },
   {
    "duration": 13,
    "start_time": "2022-03-10T17:56:45.422Z"
   },
   {
    "duration": 99,
    "start_time": "2022-03-10T17:56:45.438Z"
   },
   {
    "duration": 17,
    "start_time": "2022-03-10T17:56:45.540Z"
   },
   {
    "duration": 311,
    "start_time": "2022-03-10T17:57:33.870Z"
   },
   {
    "duration": 783,
    "start_time": "2022-03-10T17:57:36.674Z"
   },
   {
    "duration": 66,
    "start_time": "2022-03-10T17:57:37.460Z"
   },
   {
    "duration": 35,
    "start_time": "2022-03-10T17:57:37.865Z"
   },
   {
    "duration": 15,
    "start_time": "2022-03-10T17:57:41.307Z"
   },
   {
    "duration": 26,
    "start_time": "2022-03-10T17:59:38.815Z"
   },
   {
    "duration": 20,
    "start_time": "2022-03-10T18:01:20.876Z"
   },
   {
    "duration": 298,
    "start_time": "2022-03-10T18:22:40.267Z"
   },
   {
    "duration": 12,
    "start_time": "2022-03-10T18:23:07.023Z"
   },
   {
    "duration": 730,
    "start_time": "2022-03-10T18:23:28.348Z"
   },
   {
    "duration": 57,
    "start_time": "2022-03-10T18:23:29.083Z"
   },
   {
    "duration": 44,
    "start_time": "2022-03-10T18:23:29.143Z"
   },
   {
    "duration": 16,
    "start_time": "2022-03-10T18:23:29.191Z"
   },
   {
    "duration": 5,
    "start_time": "2022-03-10T18:23:29.209Z"
   },
   {
    "duration": 17,
    "start_time": "2022-03-10T18:23:29.216Z"
   },
   {
    "duration": 67,
    "start_time": "2022-03-10T18:23:29.236Z"
   },
   {
    "duration": 10,
    "start_time": "2022-03-10T18:23:29.308Z"
   },
   {
    "duration": 10,
    "start_time": "2022-03-10T18:23:29.321Z"
   },
   {
    "duration": 66,
    "start_time": "2022-03-10T18:23:29.334Z"
   },
   {
    "duration": 38,
    "start_time": "2022-03-10T18:23:29.403Z"
   },
   {
    "duration": 41,
    "start_time": "2022-03-10T18:23:29.444Z"
   },
   {
    "duration": 6,
    "start_time": "2022-03-10T18:23:29.488Z"
   },
   {
    "duration": 8,
    "start_time": "2022-03-10T18:23:29.497Z"
   },
   {
    "duration": 10,
    "start_time": "2022-03-10T18:23:29.507Z"
   },
   {
    "duration": 63,
    "start_time": "2022-03-10T18:23:29.519Z"
   },
   {
    "duration": 12,
    "start_time": "2022-03-10T18:23:29.584Z"
   },
   {
    "duration": 10,
    "start_time": "2022-03-10T18:23:29.599Z"
   },
   {
    "duration": 8,
    "start_time": "2022-03-10T18:23:29.612Z"
   },
   {
    "duration": 9,
    "start_time": "2022-03-10T18:23:29.623Z"
   },
   {
    "duration": 64,
    "start_time": "2022-03-10T18:23:29.634Z"
   },
   {
    "duration": 47,
    "start_time": "2022-03-10T18:23:29.700Z"
   },
   {
    "duration": 47,
    "start_time": "2022-03-10T18:23:29.751Z"
   },
   {
    "duration": 22,
    "start_time": "2022-03-10T18:23:29.800Z"
   },
   {
    "duration": 9,
    "start_time": "2022-03-10T18:23:29.824Z"
   },
   {
    "duration": 103,
    "start_time": "2022-03-10T18:23:29.836Z"
   },
   {
    "duration": 19,
    "start_time": "2022-03-10T18:23:29.942Z"
   },
   {
    "duration": 12,
    "start_time": "2022-03-10T18:23:29.982Z"
   },
   {
    "duration": 23,
    "start_time": "2022-03-10T18:24:51.260Z"
   },
   {
    "duration": 12,
    "start_time": "2022-03-10T18:24:56.194Z"
   },
   {
    "duration": 413,
    "start_time": "2022-03-10T18:29:42.146Z"
   },
   {
    "duration": 247,
    "start_time": "2022-03-10T18:29:56.468Z"
   },
   {
    "duration": 18,
    "start_time": "2022-03-10T18:30:06.215Z"
   },
   {
    "duration": 6,
    "start_time": "2022-03-10T18:31:25.081Z"
   },
   {
    "duration": 13,
    "start_time": "2022-03-10T18:33:26.236Z"
   },
   {
    "duration": 14,
    "start_time": "2022-03-10T18:33:53.523Z"
   },
   {
    "duration": 255,
    "start_time": "2022-03-10T18:36:50.299Z"
   },
   {
    "duration": 399,
    "start_time": "2022-03-10T18:37:35.352Z"
   },
   {
    "duration": 6,
    "start_time": "2022-03-10T18:37:59.494Z"
   },
   {
    "duration": 15,
    "start_time": "2022-03-10T18:41:39.140Z"
   },
   {
    "duration": 18,
    "start_time": "2022-03-10T18:42:06.193Z"
   },
   {
    "duration": 20,
    "start_time": "2022-03-10T18:42:38.224Z"
   },
   {
    "duration": 318,
    "start_time": "2022-03-10T18:46:25.675Z"
   },
   {
    "duration": 251,
    "start_time": "2022-03-10T18:46:51.116Z"
   },
   {
    "duration": 97,
    "start_time": "2022-03-10T18:47:19.452Z"
   },
   {
    "duration": 88,
    "start_time": "2022-03-10T18:47:23.123Z"
   },
   {
    "duration": 256,
    "start_time": "2022-03-10T18:47:29.676Z"
   },
   {
    "duration": 683,
    "start_time": "2022-03-10T18:47:41.336Z"
   },
   {
    "duration": 69,
    "start_time": "2022-03-10T18:47:42.022Z"
   },
   {
    "duration": 33,
    "start_time": "2022-03-10T18:47:42.094Z"
   },
   {
    "duration": 16,
    "start_time": "2022-03-10T18:47:42.130Z"
   },
   {
    "duration": 4,
    "start_time": "2022-03-10T18:47:42.182Z"
   },
   {
    "duration": 18,
    "start_time": "2022-03-10T18:47:42.189Z"
   },
   {
    "duration": 20,
    "start_time": "2022-03-10T18:47:42.210Z"
   },
   {
    "duration": 9,
    "start_time": "2022-03-10T18:47:42.233Z"
   },
   {
    "duration": 10,
    "start_time": "2022-03-10T18:47:42.284Z"
   },
   {
    "duration": 25,
    "start_time": "2022-03-10T18:47:42.297Z"
   },
   {
    "duration": 78,
    "start_time": "2022-03-10T18:47:42.324Z"
   },
   {
    "duration": 13,
    "start_time": "2022-03-10T18:47:42.405Z"
   },
   {
    "duration": 7,
    "start_time": "2022-03-10T18:47:42.421Z"
   },
   {
    "duration": 8,
    "start_time": "2022-03-10T18:47:42.431Z"
   },
   {
    "duration": 11,
    "start_time": "2022-03-10T18:47:42.482Z"
   },
   {
    "duration": 21,
    "start_time": "2022-03-10T18:47:42.495Z"
   },
   {
    "duration": 18,
    "start_time": "2022-03-10T18:47:42.518Z"
   },
   {
    "duration": 10,
    "start_time": "2022-03-10T18:47:42.538Z"
   },
   {
    "duration": 38,
    "start_time": "2022-03-10T18:47:42.550Z"
   },
   {
    "duration": 9,
    "start_time": "2022-03-10T18:47:42.591Z"
   },
   {
    "duration": 26,
    "start_time": "2022-03-10T18:47:42.603Z"
   },
   {
    "duration": 93,
    "start_time": "2022-03-10T18:47:42.632Z"
   },
   {
    "duration": 51,
    "start_time": "2022-03-10T18:47:42.732Z"
   },
   {
    "duration": 25,
    "start_time": "2022-03-10T18:47:42.786Z"
   },
   {
    "duration": 11,
    "start_time": "2022-03-10T18:47:42.815Z"
   },
   {
    "duration": 105,
    "start_time": "2022-03-10T18:47:42.829Z"
   },
   {
    "duration": 20,
    "start_time": "2022-03-10T18:47:42.937Z"
   },
   {
    "duration": 30,
    "start_time": "2022-03-10T18:47:42.960Z"
   },
   {
    "duration": 15,
    "start_time": "2022-03-10T18:47:42.992Z"
   },
   {
    "duration": 21,
    "start_time": "2022-03-10T18:47:43.010Z"
   },
   {
    "duration": 19,
    "start_time": "2022-03-10T18:47:43.081Z"
   },
   {
    "duration": -241,
    "start_time": "2022-03-10T18:48:05.547Z"
   },
   {
    "duration": -244,
    "start_time": "2022-03-10T18:48:05.551Z"
   },
   {
    "duration": 698,
    "start_time": "2022-03-10T18:48:14.823Z"
   },
   {
    "duration": 59,
    "start_time": "2022-03-10T18:48:15.524Z"
   },
   {
    "duration": 31,
    "start_time": "2022-03-10T18:48:15.586Z"
   },
   {
    "duration": 15,
    "start_time": "2022-03-10T18:48:15.620Z"
   },
   {
    "duration": 5,
    "start_time": "2022-03-10T18:48:15.638Z"
   },
   {
    "duration": 17,
    "start_time": "2022-03-10T18:48:15.683Z"
   },
   {
    "duration": 21,
    "start_time": "2022-03-10T18:48:15.703Z"
   },
   {
    "duration": 8,
    "start_time": "2022-03-10T18:48:15.728Z"
   },
   {
    "duration": 11,
    "start_time": "2022-03-10T18:48:15.783Z"
   },
   {
    "duration": 27,
    "start_time": "2022-03-10T18:48:15.797Z"
   },
   {
    "duration": 79,
    "start_time": "2022-03-10T18:48:15.826Z"
   },
   {
    "duration": 12,
    "start_time": "2022-03-10T18:48:15.908Z"
   },
   {
    "duration": 7,
    "start_time": "2022-03-10T18:48:15.923Z"
   },
   {
    "duration": 10,
    "start_time": "2022-03-10T18:48:15.933Z"
   },
   {
    "duration": 45,
    "start_time": "2022-03-10T18:48:15.945Z"
   },
   {
    "duration": 14,
    "start_time": "2022-03-10T18:48:15.992Z"
   },
   {
    "duration": 16,
    "start_time": "2022-03-10T18:48:16.009Z"
   },
   {
    "duration": 20,
    "start_time": "2022-03-10T18:48:16.027Z"
   },
   {
    "duration": 37,
    "start_time": "2022-03-10T18:48:16.049Z"
   },
   {
    "duration": 13,
    "start_time": "2022-03-10T18:48:16.088Z"
   },
   {
    "duration": 23,
    "start_time": "2022-03-10T18:48:16.103Z"
   },
   {
    "duration": 79,
    "start_time": "2022-03-10T18:48:16.128Z"
   },
   {
    "duration": 23,
    "start_time": "2022-03-10T18:48:16.211Z"
   },
   {
    "duration": 47,
    "start_time": "2022-03-10T18:48:16.236Z"
   },
   {
    "duration": 12,
    "start_time": "2022-03-10T18:48:16.286Z"
   },
   {
    "duration": 97,
    "start_time": "2022-03-10T18:48:16.300Z"
   },
   {
    "duration": 21,
    "start_time": "2022-03-10T18:48:16.400Z"
   },
   {
    "duration": 28,
    "start_time": "2022-03-10T18:48:16.423Z"
   },
   {
    "duration": 42,
    "start_time": "2022-03-10T18:48:16.454Z"
   },
   {
    "duration": 29,
    "start_time": "2022-03-10T18:48:16.499Z"
   },
   {
    "duration": 62,
    "start_time": "2022-03-10T18:48:16.531Z"
   },
   {
    "duration": 6613,
    "start_time": "2022-03-10T18:48:34.746Z"
   },
   {
    "duration": 789,
    "start_time": "2022-03-10T18:48:54.760Z"
   },
   {
    "duration": 62,
    "start_time": "2022-03-10T18:48:55.551Z"
   },
   {
    "duration": 32,
    "start_time": "2022-03-10T18:48:55.615Z"
   },
   {
    "duration": 33,
    "start_time": "2022-03-10T18:48:55.650Z"
   },
   {
    "duration": 4,
    "start_time": "2022-03-10T18:48:55.686Z"
   },
   {
    "duration": 20,
    "start_time": "2022-03-10T18:48:55.692Z"
   },
   {
    "duration": 23,
    "start_time": "2022-03-10T18:48:55.714Z"
   },
   {
    "duration": 50,
    "start_time": "2022-03-10T18:48:55.741Z"
   },
   {
    "duration": 10,
    "start_time": "2022-03-10T18:48:55.795Z"
   },
   {
    "duration": 25,
    "start_time": "2022-03-10T18:48:55.808Z"
   },
   {
    "duration": 81,
    "start_time": "2022-03-10T18:48:55.835Z"
   },
   {
    "duration": 13,
    "start_time": "2022-03-10T18:48:55.918Z"
   },
   {
    "duration": 15,
    "start_time": "2022-03-10T18:48:55.933Z"
   },
   {
    "duration": 39,
    "start_time": "2022-03-10T18:48:55.950Z"
   },
   {
    "duration": 10,
    "start_time": "2022-03-10T18:48:55.992Z"
   },
   {
    "duration": 12,
    "start_time": "2022-03-10T18:48:56.004Z"
   },
   {
    "duration": 12,
    "start_time": "2022-03-10T18:48:56.019Z"
   },
   {
    "duration": 11,
    "start_time": "2022-03-10T18:48:56.082Z"
   },
   {
    "duration": 10,
    "start_time": "2022-03-10T18:48:56.096Z"
   },
   {
    "duration": 7,
    "start_time": "2022-03-10T18:48:56.109Z"
   },
   {
    "duration": 68,
    "start_time": "2022-03-10T18:48:56.119Z"
   },
   {
    "duration": 46,
    "start_time": "2022-03-10T18:48:56.189Z"
   },
   {
    "duration": 55,
    "start_time": "2022-03-10T18:48:56.239Z"
   },
   {
    "duration": 21,
    "start_time": "2022-03-10T18:48:56.297Z"
   },
   {
    "duration": 11,
    "start_time": "2022-03-10T18:48:56.321Z"
   },
   {
    "duration": 104,
    "start_time": "2022-03-10T18:48:56.335Z"
   },
   {
    "duration": 20,
    "start_time": "2022-03-10T18:48:56.441Z"
   },
   {
    "duration": 26,
    "start_time": "2022-03-10T18:48:56.463Z"
   },
   {
    "duration": 20,
    "start_time": "2022-03-10T18:48:56.491Z"
   },
   {
    "duration": 73,
    "start_time": "2022-03-10T18:48:56.514Z"
   },
   {
    "duration": 16,
    "start_time": "2022-03-10T18:48:56.590Z"
   },
   {
    "duration": 6,
    "start_time": "2022-03-11T11:08:09.988Z"
   },
   {
    "duration": 350,
    "start_time": "2022-03-11T11:44:11.000Z"
   },
   {
    "duration": 770,
    "start_time": "2022-03-11T11:44:42.312Z"
   },
   {
    "duration": 64,
    "start_time": "2022-03-11T11:44:43.086Z"
   },
   {
    "duration": 43,
    "start_time": "2022-03-11T11:44:43.154Z"
   },
   {
    "duration": 38,
    "start_time": "2022-03-11T11:44:43.201Z"
   },
   {
    "duration": 18,
    "start_time": "2022-03-11T11:44:43.242Z"
   },
   {
    "duration": 46,
    "start_time": "2022-03-11T11:44:43.263Z"
   },
   {
    "duration": 43,
    "start_time": "2022-03-11T11:44:43.312Z"
   },
   {
    "duration": 12,
    "start_time": "2022-03-11T11:44:43.361Z"
   },
   {
    "duration": 53,
    "start_time": "2022-03-11T11:44:43.376Z"
   },
   {
    "duration": 39,
    "start_time": "2022-03-11T11:44:43.431Z"
   },
   {
    "duration": 61,
    "start_time": "2022-03-11T11:44:43.473Z"
   },
   {
    "duration": 14,
    "start_time": "2022-03-11T11:44:43.537Z"
   },
   {
    "duration": 32,
    "start_time": "2022-03-11T11:44:43.554Z"
   },
   {
    "duration": 32,
    "start_time": "2022-03-11T11:44:43.588Z"
   },
   {
    "duration": 31,
    "start_time": "2022-03-11T11:44:43.623Z"
   },
   {
    "duration": 19,
    "start_time": "2022-03-11T11:44:43.656Z"
   },
   {
    "duration": 53,
    "start_time": "2022-03-11T11:44:43.677Z"
   },
   {
    "duration": 41,
    "start_time": "2022-03-11T11:44:43.733Z"
   },
   {
    "duration": 21,
    "start_time": "2022-03-11T11:44:43.776Z"
   },
   {
    "duration": 24,
    "start_time": "2022-03-11T11:44:43.799Z"
   },
   {
    "duration": 51,
    "start_time": "2022-03-11T11:44:43.826Z"
   },
   {
    "duration": 63,
    "start_time": "2022-03-11T11:44:43.880Z"
   },
   {
    "duration": 36,
    "start_time": "2022-03-11T11:44:43.947Z"
   },
   {
    "duration": 28,
    "start_time": "2022-03-11T11:44:43.987Z"
   },
   {
    "duration": 23,
    "start_time": "2022-03-11T11:44:44.018Z"
   },
   {
    "duration": 97,
    "start_time": "2022-03-11T11:44:44.043Z"
   },
   {
    "duration": 19,
    "start_time": "2022-03-11T11:44:44.143Z"
   },
   {
    "duration": 47,
    "start_time": "2022-03-11T11:44:44.165Z"
   },
   {
    "duration": 35,
    "start_time": "2022-03-11T11:44:44.215Z"
   },
   {
    "duration": 65,
    "start_time": "2022-03-11T11:44:44.253Z"
   },
   {
    "duration": 23,
    "start_time": "2022-03-11T11:44:44.321Z"
   },
   {
    "duration": 37,
    "start_time": "2022-03-11T11:44:44.347Z"
   },
   {
    "duration": 20,
    "start_time": "2022-03-11T11:44:49.257Z"
   },
   {
    "duration": 18,
    "start_time": "2022-03-11T11:44:55.208Z"
   },
   {
    "duration": 36,
    "start_time": "2022-03-11T11:45:09.770Z"
   },
   {
    "duration": 30,
    "start_time": "2022-03-11T12:01:36.555Z"
   },
   {
    "duration": 47,
    "start_time": "2022-03-11T12:02:14.974Z"
   },
   {
    "duration": 28,
    "start_time": "2022-03-11T12:02:58.918Z"
   },
   {
    "duration": 30,
    "start_time": "2022-03-11T12:03:33.510Z"
   },
   {
    "duration": 22,
    "start_time": "2022-03-11T12:03:51.126Z"
   },
   {
    "duration": 142,
    "start_time": "2022-03-11T12:08:01.326Z"
   },
   {
    "duration": 100,
    "start_time": "2022-03-11T12:08:13.638Z"
   },
   {
    "duration": 134,
    "start_time": "2022-03-11T12:08:27.414Z"
   },
   {
    "duration": 96,
    "start_time": "2022-03-11T12:08:34.343Z"
   },
   {
    "duration": 5,
    "start_time": "2022-03-11T12:36:46.352Z"
   },
   {
    "duration": 15,
    "start_time": "2022-03-11T12:38:02.536Z"
   },
   {
    "duration": 14,
    "start_time": "2022-03-11T12:38:19.384Z"
   },
   {
    "duration": 22,
    "start_time": "2022-03-11T12:39:11.522Z"
   },
   {
    "duration": 730,
    "start_time": "2022-03-11T12:40:41.659Z"
   },
   {
    "duration": 55,
    "start_time": "2022-03-11T12:40:42.392Z"
   },
   {
    "duration": 40,
    "start_time": "2022-03-11T12:40:42.450Z"
   },
   {
    "duration": 16,
    "start_time": "2022-03-11T12:40:42.494Z"
   },
   {
    "duration": 6,
    "start_time": "2022-03-11T12:40:42.513Z"
   },
   {
    "duration": 30,
    "start_time": "2022-03-11T12:40:42.521Z"
   },
   {
    "duration": 44,
    "start_time": "2022-03-11T12:40:42.554Z"
   },
   {
    "duration": 9,
    "start_time": "2022-03-11T12:40:42.600Z"
   },
   {
    "duration": 9,
    "start_time": "2022-03-11T12:40:42.613Z"
   },
   {
    "duration": 64,
    "start_time": "2022-03-11T12:40:42.625Z"
   },
   {
    "duration": 37,
    "start_time": "2022-03-11T12:40:42.692Z"
   },
   {
    "duration": 12,
    "start_time": "2022-03-11T12:40:42.732Z"
   },
   {
    "duration": 15,
    "start_time": "2022-03-11T12:40:42.746Z"
   },
   {
    "duration": 14,
    "start_time": "2022-03-11T12:40:42.783Z"
   },
   {
    "duration": 9,
    "start_time": "2022-03-11T12:40:42.800Z"
   },
   {
    "duration": 22,
    "start_time": "2022-03-11T12:40:42.811Z"
   },
   {
    "duration": 39,
    "start_time": "2022-03-11T12:40:42.835Z"
   },
   {
    "duration": 34,
    "start_time": "2022-03-11T12:40:42.876Z"
   },
   {
    "duration": 15,
    "start_time": "2022-03-11T12:40:42.912Z"
   },
   {
    "duration": 25,
    "start_time": "2022-03-11T12:40:42.929Z"
   },
   {
    "duration": 47,
    "start_time": "2022-03-11T12:40:42.956Z"
   },
   {
    "duration": 45,
    "start_time": "2022-03-11T12:40:43.006Z"
   },
   {
    "duration": 43,
    "start_time": "2022-03-11T12:40:43.054Z"
   },
   {
    "duration": 21,
    "start_time": "2022-03-11T12:40:43.099Z"
   },
   {
    "duration": 10,
    "start_time": "2022-03-11T12:40:43.123Z"
   },
   {
    "duration": 94,
    "start_time": "2022-03-11T12:40:43.135Z"
   },
   {
    "duration": 20,
    "start_time": "2022-03-11T12:40:43.234Z"
   },
   {
    "duration": 31,
    "start_time": "2022-03-11T12:40:43.257Z"
   },
   {
    "duration": 27,
    "start_time": "2022-03-11T12:40:43.291Z"
   },
   {
    "duration": 28,
    "start_time": "2022-03-11T12:40:43.320Z"
   },
   {
    "duration": 17,
    "start_time": "2022-03-11T12:40:43.351Z"
   },
   {
    "duration": 40,
    "start_time": "2022-03-11T12:40:43.370Z"
   },
   {
    "duration": 28,
    "start_time": "2022-03-11T12:40:43.412Z"
   },
   {
    "duration": 44,
    "start_time": "2022-03-11T12:41:13.361Z"
   },
   {
    "duration": 45,
    "start_time": "2022-03-11T12:41:27.162Z"
   },
   {
    "duration": 22,
    "start_time": "2022-03-11T12:41:43.690Z"
   },
   {
    "duration": 44,
    "start_time": "2022-03-11T12:42:01.224Z"
   },
   {
    "duration": 19,
    "start_time": "2022-03-11T12:44:56.131Z"
   },
   {
    "duration": 873,
    "start_time": "2022-03-11T12:47:04.030Z"
   },
   {
    "duration": 60,
    "start_time": "2022-03-11T12:47:04.906Z"
   },
   {
    "duration": 48,
    "start_time": "2022-03-11T12:47:04.973Z"
   },
   {
    "duration": 17,
    "start_time": "2022-03-11T12:47:05.024Z"
   },
   {
    "duration": 41,
    "start_time": "2022-03-11T12:47:05.043Z"
   },
   {
    "duration": 32,
    "start_time": "2022-03-11T12:47:05.088Z"
   },
   {
    "duration": 36,
    "start_time": "2022-03-11T12:47:05.124Z"
   },
   {
    "duration": 9,
    "start_time": "2022-03-11T12:47:05.163Z"
   },
   {
    "duration": 18,
    "start_time": "2022-03-11T12:47:05.174Z"
   },
   {
    "duration": 40,
    "start_time": "2022-03-11T12:47:05.195Z"
   },
   {
    "duration": 72,
    "start_time": "2022-03-11T12:47:05.238Z"
   },
   {
    "duration": 16,
    "start_time": "2022-03-11T12:47:05.313Z"
   },
   {
    "duration": 27,
    "start_time": "2022-03-11T12:47:05.332Z"
   },
   {
    "duration": 37,
    "start_time": "2022-03-11T12:47:05.361Z"
   },
   {
    "duration": 22,
    "start_time": "2022-03-11T12:47:05.401Z"
   },
   {
    "duration": 52,
    "start_time": "2022-03-11T12:47:05.426Z"
   },
   {
    "duration": 30,
    "start_time": "2022-03-11T12:47:05.481Z"
   },
   {
    "duration": 34,
    "start_time": "2022-03-11T12:47:05.513Z"
   },
   {
    "duration": 29,
    "start_time": "2022-03-11T12:47:05.549Z"
   },
   {
    "duration": 19,
    "start_time": "2022-03-11T12:47:05.580Z"
   },
   {
    "duration": 64,
    "start_time": "2022-03-11T12:47:05.602Z"
   },
   {
    "duration": 57,
    "start_time": "2022-03-11T12:47:05.671Z"
   },
   {
    "duration": 24,
    "start_time": "2022-03-11T12:47:05.730Z"
   },
   {
    "duration": 48,
    "start_time": "2022-03-11T12:47:05.757Z"
   },
   {
    "duration": 11,
    "start_time": "2022-03-11T12:47:05.808Z"
   },
   {
    "duration": 103,
    "start_time": "2022-03-11T12:47:05.821Z"
   },
   {
    "duration": 21,
    "start_time": "2022-03-11T12:47:05.926Z"
   },
   {
    "duration": 35,
    "start_time": "2022-03-11T12:47:05.949Z"
   },
   {
    "duration": 43,
    "start_time": "2022-03-11T12:47:05.988Z"
   },
   {
    "duration": 51,
    "start_time": "2022-03-11T12:47:06.033Z"
   },
   {
    "duration": 26,
    "start_time": "2022-03-11T12:47:06.087Z"
   },
   {
    "duration": 28,
    "start_time": "2022-03-11T12:47:06.116Z"
   },
   {
    "duration": 46,
    "start_time": "2022-03-11T12:47:06.147Z"
   },
   {
    "duration": 431,
    "start_time": "2022-03-11T12:49:19.410Z"
   },
   {
    "duration": 737,
    "start_time": "2022-03-11T13:08:39.884Z"
   },
   {
    "duration": 63,
    "start_time": "2022-03-11T13:08:40.623Z"
   },
   {
    "duration": 28,
    "start_time": "2022-03-11T13:08:40.689Z"
   },
   {
    "duration": 15,
    "start_time": "2022-03-11T13:08:40.720Z"
   },
   {
    "duration": 3,
    "start_time": "2022-03-11T13:08:40.738Z"
   },
   {
    "duration": 49,
    "start_time": "2022-03-11T13:08:40.744Z"
   },
   {
    "duration": 21,
    "start_time": "2022-03-11T13:08:40.795Z"
   },
   {
    "duration": 9,
    "start_time": "2022-03-11T13:08:40.819Z"
   },
   {
    "duration": 10,
    "start_time": "2022-03-11T13:08:40.831Z"
   },
   {
    "duration": 58,
    "start_time": "2022-03-11T13:08:40.844Z"
   },
   {
    "duration": 38,
    "start_time": "2022-03-11T13:08:40.904Z"
   },
   {
    "duration": 39,
    "start_time": "2022-03-11T13:08:40.944Z"
   },
   {
    "duration": 7,
    "start_time": "2022-03-11T13:08:40.986Z"
   },
   {
    "duration": 9,
    "start_time": "2022-03-11T13:08:40.996Z"
   },
   {
    "duration": 12,
    "start_time": "2022-03-11T13:08:41.008Z"
   },
   {
    "duration": 13,
    "start_time": "2022-03-11T13:08:41.023Z"
   },
   {
    "duration": 44,
    "start_time": "2022-03-11T13:08:41.038Z"
   },
   {
    "duration": 9,
    "start_time": "2022-03-11T13:08:41.085Z"
   },
   {
    "duration": 9,
    "start_time": "2022-03-11T13:08:41.096Z"
   },
   {
    "duration": 7,
    "start_time": "2022-03-11T13:08:41.108Z"
   },
   {
    "duration": 26,
    "start_time": "2022-03-11T13:08:41.117Z"
   },
   {
    "duration": 83,
    "start_time": "2022-03-11T13:08:41.145Z"
   },
   {
    "duration": 22,
    "start_time": "2022-03-11T13:08:41.232Z"
   },
   {
    "duration": 43,
    "start_time": "2022-03-11T13:08:41.257Z"
   },
   {
    "duration": 9,
    "start_time": "2022-03-11T13:08:41.302Z"
   },
   {
    "duration": 82,
    "start_time": "2022-03-11T13:08:41.314Z"
   },
   {
    "duration": 20,
    "start_time": "2022-03-11T13:08:41.398Z"
   },
   {
    "duration": 26,
    "start_time": "2022-03-11T13:08:41.420Z"
   },
   {
    "duration": 36,
    "start_time": "2022-03-11T13:08:41.448Z"
   },
   {
    "duration": 21,
    "start_time": "2022-03-11T13:08:41.486Z"
   },
   {
    "duration": 16,
    "start_time": "2022-03-11T13:08:41.509Z"
   },
   {
    "duration": 21,
    "start_time": "2022-03-11T13:08:41.528Z"
   },
   {
    "duration": 21,
    "start_time": "2022-03-11T13:08:41.583Z"
   },
   {
    "duration": 20,
    "start_time": "2022-03-11T13:10:02.530Z"
   },
   {
    "duration": 17,
    "start_time": "2022-03-11T13:10:09.474Z"
   },
   {
    "duration": 606,
    "start_time": "2022-03-13T18:26:13.935Z"
   },
   {
    "duration": 53,
    "start_time": "2022-03-13T18:26:14.543Z"
   },
   {
    "duration": 22,
    "start_time": "2022-03-13T18:26:14.598Z"
   },
   {
    "duration": 11,
    "start_time": "2022-03-13T18:26:14.622Z"
   },
   {
    "duration": 3,
    "start_time": "2022-03-13T18:26:14.635Z"
   },
   {
    "duration": 12,
    "start_time": "2022-03-13T18:26:14.660Z"
   },
   {
    "duration": 17,
    "start_time": "2022-03-13T18:26:14.674Z"
   },
   {
    "duration": 8,
    "start_time": "2022-03-13T18:26:14.693Z"
   },
   {
    "duration": 9,
    "start_time": "2022-03-13T18:26:14.703Z"
   },
   {
    "duration": 67,
    "start_time": "2022-03-13T18:26:14.714Z"
   },
   {
    "duration": 38,
    "start_time": "2022-03-13T18:26:14.784Z"
   },
   {
    "duration": 15,
    "start_time": "2022-03-13T18:26:14.824Z"
   },
   {
    "duration": 22,
    "start_time": "2022-03-13T18:26:14.842Z"
   },
   {
    "duration": 8,
    "start_time": "2022-03-13T18:26:14.866Z"
   },
   {
    "duration": 11,
    "start_time": "2022-03-13T18:26:14.876Z"
   },
   {
    "duration": 10,
    "start_time": "2022-03-13T18:26:14.888Z"
   },
   {
    "duration": 12,
    "start_time": "2022-03-13T18:26:14.900Z"
   },
   {
    "duration": 49,
    "start_time": "2022-03-13T18:26:14.914Z"
   },
   {
    "duration": 7,
    "start_time": "2022-03-13T18:26:14.965Z"
   },
   {
    "duration": 6,
    "start_time": "2022-03-13T18:26:14.974Z"
   },
   {
    "duration": 20,
    "start_time": "2022-03-13T18:26:14.982Z"
   },
   {
    "duration": 67,
    "start_time": "2022-03-13T18:26:15.004Z"
   },
   {
    "duration": 15,
    "start_time": "2022-03-13T18:26:15.074Z"
   },
   {
    "duration": 20,
    "start_time": "2022-03-13T18:26:15.092Z"
   },
   {
    "duration": 15,
    "start_time": "2022-03-13T18:26:15.114Z"
   },
   {
    "duration": 66,
    "start_time": "2022-03-13T18:26:15.131Z"
   },
   {
    "duration": 13,
    "start_time": "2022-03-13T18:26:15.199Z"
   },
   {
    "duration": 17,
    "start_time": "2022-03-13T18:26:15.214Z"
   },
   {
    "duration": 40,
    "start_time": "2022-03-13T18:26:15.233Z"
   },
   {
    "duration": 33,
    "start_time": "2022-03-13T18:26:15.275Z"
   },
   {
    "duration": 12,
    "start_time": "2022-03-13T18:26:15.309Z"
   },
   {
    "duration": 49,
    "start_time": "2022-03-13T18:26:15.323Z"
   },
   {
    "duration": 25,
    "start_time": "2022-03-13T18:26:15.374Z"
   },
   {
    "duration": 289,
    "start_time": "2022-03-13T18:26:15.401Z"
   },
   {
    "duration": 12,
    "start_time": "2022-03-13T18:26:36.387Z"
   },
   {
    "duration": 22,
    "start_time": "2022-03-13T18:26:58.191Z"
   },
   {
    "duration": 7,
    "start_time": "2022-03-13T18:28:37.489Z"
   },
   {
    "duration": 11,
    "start_time": "2022-03-13T18:30:46.834Z"
   },
   {
    "duration": 200,
    "start_time": "2022-03-13T18:33:27.425Z"
   },
   {
    "duration": 14,
    "start_time": "2022-03-13T18:33:44.003Z"
   },
   {
    "duration": 20,
    "start_time": "2022-03-13T18:35:36.429Z"
   },
   {
    "duration": 249,
    "start_time": "2022-03-13T18:39:56.169Z"
   },
   {
    "duration": 40,
    "start_time": "2022-03-13T18:40:14.923Z"
   },
   {
    "duration": 37,
    "start_time": "2022-03-13T18:40:35.800Z"
   },
   {
    "duration": 31,
    "start_time": "2022-03-13T18:41:00.135Z"
   },
   {
    "duration": 20,
    "start_time": "2022-03-13T18:54:13.743Z"
   },
   {
    "duration": -573,
    "start_time": "2022-03-13T18:54:53.283Z"
   },
   {
    "duration": -574,
    "start_time": "2022-03-13T18:55:14.179Z"
   },
   {
    "duration": -578,
    "start_time": "2022-03-13T18:55:14.184Z"
   },
   {
    "duration": -581,
    "start_time": "2022-03-13T18:55:14.188Z"
   },
   {
    "duration": -591,
    "start_time": "2022-03-13T18:55:14.199Z"
   },
   {
    "duration": -594,
    "start_time": "2022-03-13T18:55:14.204Z"
   },
   {
    "duration": -596,
    "start_time": "2022-03-13T18:55:14.207Z"
   },
   {
    "duration": -599,
    "start_time": "2022-03-13T18:55:14.211Z"
   },
   {
    "duration": -602,
    "start_time": "2022-03-13T18:55:14.215Z"
   },
   {
    "duration": -605,
    "start_time": "2022-03-13T18:55:14.220Z"
   },
   {
    "duration": -606,
    "start_time": "2022-03-13T18:55:14.222Z"
   },
   {
    "duration": -608,
    "start_time": "2022-03-13T18:55:14.225Z"
   },
   {
    "duration": -610,
    "start_time": "2022-03-13T18:55:14.228Z"
   },
   {
    "duration": -611,
    "start_time": "2022-03-13T18:55:14.231Z"
   },
   {
    "duration": -613,
    "start_time": "2022-03-13T18:55:14.234Z"
   },
   {
    "duration": -614,
    "start_time": "2022-03-13T18:55:14.237Z"
   },
   {
    "duration": -617,
    "start_time": "2022-03-13T18:55:14.241Z"
   },
   {
    "duration": -619,
    "start_time": "2022-03-13T18:55:14.245Z"
   },
   {
    "duration": -621,
    "start_time": "2022-03-13T18:55:14.248Z"
   },
   {
    "duration": -631,
    "start_time": "2022-03-13T18:55:14.260Z"
   },
   {
    "duration": -634,
    "start_time": "2022-03-13T18:55:14.264Z"
   },
   {
    "duration": -637,
    "start_time": "2022-03-13T18:55:14.269Z"
   },
   {
    "duration": -640,
    "start_time": "2022-03-13T18:55:14.273Z"
   },
   {
    "duration": -640,
    "start_time": "2022-03-13T18:55:14.275Z"
   },
   {
    "duration": -642,
    "start_time": "2022-03-13T18:55:14.278Z"
   },
   {
    "duration": -643,
    "start_time": "2022-03-13T18:55:14.281Z"
   },
   {
    "duration": -646,
    "start_time": "2022-03-13T18:55:14.285Z"
   },
   {
    "duration": -648,
    "start_time": "2022-03-13T18:55:14.288Z"
   },
   {
    "duration": -648,
    "start_time": "2022-03-13T18:55:14.290Z"
   },
   {
    "duration": -649,
    "start_time": "2022-03-13T18:55:14.293Z"
   },
   {
    "duration": -651,
    "start_time": "2022-03-13T18:55:14.296Z"
   },
   {
    "duration": -640,
    "start_time": "2022-03-13T18:55:14.298Z"
   },
   {
    "duration": -641,
    "start_time": "2022-03-13T18:55:14.301Z"
   },
   {
    "duration": -643,
    "start_time": "2022-03-13T18:55:14.305Z"
   },
   {
    "duration": -647,
    "start_time": "2022-03-13T18:55:14.310Z"
   },
   {
    "duration": -657,
    "start_time": "2022-03-13T18:55:14.322Z"
   },
   {
    "duration": 59,
    "start_time": "2022-03-13T18:55:19.444Z"
   },
   {
    "duration": 16,
    "start_time": "2022-03-13T18:55:24.612Z"
   },
   {
    "duration": 202,
    "start_time": "2022-03-13T18:55:28.295Z"
   },
   {
    "duration": 206,
    "start_time": "2022-03-13T18:55:32.560Z"
   },
   {
    "duration": 45,
    "start_time": "2022-03-13T18:55:43.700Z"
   },
   {
    "duration": 281,
    "start_time": "2022-03-13T19:05:21.646Z"
   },
   {
    "duration": 203,
    "start_time": "2022-03-13T19:05:30.031Z"
   },
   {
    "duration": 204,
    "start_time": "2022-03-13T19:05:49.597Z"
   },
   {
    "duration": 216,
    "start_time": "2022-03-13T19:06:08.380Z"
   },
   {
    "duration": 20,
    "start_time": "2022-03-13T19:07:06.441Z"
   },
   {
    "duration": -587,
    "start_time": "2022-03-13T19:09:19.670Z"
   },
   {
    "duration": 585,
    "start_time": "2022-03-13T19:09:24.363Z"
   },
   {
    "duration": 47,
    "start_time": "2022-03-13T19:09:24.950Z"
   },
   {
    "duration": 21,
    "start_time": "2022-03-13T19:09:25.001Z"
   },
   {
    "duration": 18,
    "start_time": "2022-03-13T19:09:25.024Z"
   },
   {
    "duration": 16,
    "start_time": "2022-03-13T19:09:25.044Z"
   },
   {
    "duration": 11,
    "start_time": "2022-03-13T19:09:25.062Z"
   },
   {
    "duration": 15,
    "start_time": "2022-03-13T19:09:25.074Z"
   },
   {
    "duration": 7,
    "start_time": "2022-03-13T19:09:25.092Z"
   },
   {
    "duration": 7,
    "start_time": "2022-03-13T19:09:25.101Z"
   },
   {
    "duration": 50,
    "start_time": "2022-03-13T19:09:25.110Z"
   },
   {
    "duration": 29,
    "start_time": "2022-03-13T19:09:25.162Z"
   },
   {
    "duration": 9,
    "start_time": "2022-03-13T19:09:25.193Z"
   },
   {
    "duration": 5,
    "start_time": "2022-03-13T19:09:25.204Z"
   },
   {
    "duration": 6,
    "start_time": "2022-03-13T19:09:25.211Z"
   },
   {
    "duration": 7,
    "start_time": "2022-03-13T19:09:25.218Z"
   },
   {
    "duration": 9,
    "start_time": "2022-03-13T19:09:25.260Z"
   },
   {
    "duration": 12,
    "start_time": "2022-03-13T19:09:25.270Z"
   },
   {
    "duration": 6,
    "start_time": "2022-03-13T19:09:25.284Z"
   },
   {
    "duration": 6,
    "start_time": "2022-03-13T19:09:25.292Z"
   },
   {
    "duration": 5,
    "start_time": "2022-03-13T19:09:25.300Z"
   },
   {
    "duration": 19,
    "start_time": "2022-03-13T19:09:25.306Z"
   },
   {
    "duration": 33,
    "start_time": "2022-03-13T19:09:25.360Z"
   },
   {
    "duration": 17,
    "start_time": "2022-03-13T19:09:25.395Z"
   },
   {
    "duration": 16,
    "start_time": "2022-03-13T19:09:25.414Z"
   },
   {
    "duration": 32,
    "start_time": "2022-03-13T19:09:25.431Z"
   },
   {
    "duration": 49,
    "start_time": "2022-03-13T19:09:25.467Z"
   },
   {
    "duration": 13,
    "start_time": "2022-03-13T19:09:25.518Z"
   },
   {
    "duration": 30,
    "start_time": "2022-03-13T19:09:25.533Z"
   },
   {
    "duration": 13,
    "start_time": "2022-03-13T19:09:25.565Z"
   },
   {
    "duration": 15,
    "start_time": "2022-03-13T19:09:25.579Z"
   },
   {
    "duration": 13,
    "start_time": "2022-03-13T19:09:25.596Z"
   },
   {
    "duration": 51,
    "start_time": "2022-03-13T19:09:25.611Z"
   },
   {
    "duration": 19,
    "start_time": "2022-03-13T19:09:25.663Z"
   },
   {
    "duration": 4625,
    "start_time": "2022-03-13T19:09:25.684Z"
   },
   {
    "duration": -829,
    "start_time": "2022-03-13T19:09:31.140Z"
   },
   {
    "duration": 562,
    "start_time": "2022-03-13T19:16:27.783Z"
   },
   {
    "duration": 48,
    "start_time": "2022-03-13T19:16:28.347Z"
   },
   {
    "duration": 21,
    "start_time": "2022-03-13T19:16:28.399Z"
   },
   {
    "duration": 13,
    "start_time": "2022-03-13T19:16:28.422Z"
   },
   {
    "duration": 3,
    "start_time": "2022-03-13T19:16:28.436Z"
   },
   {
    "duration": 26,
    "start_time": "2022-03-13T19:16:28.441Z"
   },
   {
    "duration": 15,
    "start_time": "2022-03-13T19:16:28.470Z"
   },
   {
    "duration": 7,
    "start_time": "2022-03-13T19:16:28.487Z"
   },
   {
    "duration": 8,
    "start_time": "2022-03-13T19:16:28.495Z"
   },
   {
    "duration": 21,
    "start_time": "2022-03-13T19:16:28.505Z"
   },
   {
    "duration": 31,
    "start_time": "2022-03-13T19:16:28.559Z"
   },
   {
    "duration": 9,
    "start_time": "2022-03-13T19:16:28.591Z"
   },
   {
    "duration": 7,
    "start_time": "2022-03-13T19:16:28.602Z"
   },
   {
    "duration": 7,
    "start_time": "2022-03-13T19:16:28.611Z"
   },
   {
    "duration": 40,
    "start_time": "2022-03-13T19:16:28.620Z"
   },
   {
    "duration": 8,
    "start_time": "2022-03-13T19:16:28.662Z"
   },
   {
    "duration": 13,
    "start_time": "2022-03-13T19:16:28.671Z"
   },
   {
    "duration": 7,
    "start_time": "2022-03-13T19:16:28.685Z"
   },
   {
    "duration": 8,
    "start_time": "2022-03-13T19:16:28.694Z"
   },
   {
    "duration": 7,
    "start_time": "2022-03-13T19:16:28.704Z"
   },
   {
    "duration": 57,
    "start_time": "2022-03-13T19:16:28.713Z"
   },
   {
    "duration": 41,
    "start_time": "2022-03-13T19:16:28.774Z"
   },
   {
    "duration": 17,
    "start_time": "2022-03-13T19:16:28.817Z"
   },
   {
    "duration": 33,
    "start_time": "2022-03-13T19:16:28.835Z"
   },
   {
    "duration": 7,
    "start_time": "2022-03-13T19:16:28.870Z"
   },
   {
    "duration": 47,
    "start_time": "2022-03-13T19:16:28.879Z"
   },
   {
    "duration": 35,
    "start_time": "2022-03-13T19:16:28.928Z"
   },
   {
    "duration": 10,
    "start_time": "2022-03-13T19:16:28.965Z"
   },
   {
    "duration": 16,
    "start_time": "2022-03-13T19:16:28.977Z"
   },
   {
    "duration": 23,
    "start_time": "2022-03-13T19:16:28.994Z"
   },
   {
    "duration": 46,
    "start_time": "2022-03-13T19:16:29.018Z"
   },
   {
    "duration": 18,
    "start_time": "2022-03-13T19:16:29.066Z"
   },
   {
    "duration": 17,
    "start_time": "2022-03-13T19:16:29.086Z"
   },
   {
    "duration": -606,
    "start_time": "2022-03-13T19:16:34.454Z"
   },
   {
    "duration": -607,
    "start_time": "2022-03-13T19:16:34.456Z"
   },
   {
    "duration": 15,
    "start_time": "2022-03-13T19:16:34.314Z"
   },
   {
    "duration": 4540,
    "start_time": "2022-03-13T19:16:36.139Z"
   },
   {
    "duration": 4759,
    "start_time": "2022-03-13T19:16:48.231Z"
   },
   {
    "duration": 239,
    "start_time": "2022-03-13T19:19:58.801Z"
   },
   {
    "duration": 4725,
    "start_time": "2022-03-13T19:20:20.799Z"
   },
   {
    "duration": 4569,
    "start_time": "2022-03-13T19:21:20.443Z"
   },
   {
    "duration": 5083,
    "start_time": "2022-03-13T19:22:07.881Z"
   },
   {
    "duration": 575,
    "start_time": "2022-03-13T19:22:53.775Z"
   },
   {
    "duration": 46,
    "start_time": "2022-03-13T19:22:54.352Z"
   },
   {
    "duration": 21,
    "start_time": "2022-03-13T19:22:54.400Z"
   },
   {
    "duration": 11,
    "start_time": "2022-03-13T19:22:54.423Z"
   },
   {
    "duration": 3,
    "start_time": "2022-03-13T19:22:54.436Z"
   },
   {
    "duration": 12,
    "start_time": "2022-03-13T19:22:54.459Z"
   },
   {
    "duration": 15,
    "start_time": "2022-03-13T19:22:54.473Z"
   },
   {
    "duration": 7,
    "start_time": "2022-03-13T19:22:54.490Z"
   },
   {
    "duration": 9,
    "start_time": "2022-03-13T19:22:54.499Z"
   },
   {
    "duration": 53,
    "start_time": "2022-03-13T19:22:54.509Z"
   },
   {
    "duration": 28,
    "start_time": "2022-03-13T19:22:54.564Z"
   },
   {
    "duration": 8,
    "start_time": "2022-03-13T19:22:54.593Z"
   },
   {
    "duration": 5,
    "start_time": "2022-03-13T19:22:54.603Z"
   },
   {
    "duration": 8,
    "start_time": "2022-03-13T19:22:54.609Z"
   },
   {
    "duration": 6,
    "start_time": "2022-03-13T19:22:54.619Z"
   },
   {
    "duration": 38,
    "start_time": "2022-03-13T19:22:54.627Z"
   },
   {
    "duration": 12,
    "start_time": "2022-03-13T19:22:54.666Z"
   },
   {
    "duration": 6,
    "start_time": "2022-03-13T19:22:54.679Z"
   },
   {
    "duration": 6,
    "start_time": "2022-03-13T19:22:54.687Z"
   },
   {
    "duration": 8,
    "start_time": "2022-03-13T19:22:54.694Z"
   },
   {
    "duration": 19,
    "start_time": "2022-03-13T19:22:54.703Z"
   },
   {
    "duration": 64,
    "start_time": "2022-03-13T19:22:54.723Z"
   },
   {
    "duration": 16,
    "start_time": "2022-03-13T19:22:54.790Z"
   },
   {
    "duration": 13,
    "start_time": "2022-03-13T19:22:54.808Z"
   },
   {
    "duration": 6,
    "start_time": "2022-03-13T19:22:54.823Z"
   },
   {
    "duration": 69,
    "start_time": "2022-03-13T19:22:54.831Z"
   },
   {
    "duration": 13,
    "start_time": "2022-03-13T19:22:54.902Z"
   },
   {
    "duration": 9,
    "start_time": "2022-03-13T19:22:54.917Z"
   },
   {
    "duration": 37,
    "start_time": "2022-03-13T19:22:54.927Z"
   },
   {
    "duration": 15,
    "start_time": "2022-03-13T19:22:54.965Z"
   },
   {
    "duration": 12,
    "start_time": "2022-03-13T19:22:54.982Z"
   },
   {
    "duration": 15,
    "start_time": "2022-03-13T19:22:54.996Z"
   },
   {
    "duration": 15,
    "start_time": "2022-03-13T19:22:55.012Z"
   },
   {
    "duration": 5280,
    "start_time": "2022-03-13T19:22:55.029Z"
   },
   {
    "duration": -621,
    "start_time": "2022-03-13T19:23:00.932Z"
   },
   {
    "duration": 17,
    "start_time": "2022-03-13T19:23:25.990Z"
   },
   {
    "duration": 19,
    "start_time": "2022-03-13T19:23:36.777Z"
   },
   {
    "duration": 4541,
    "start_time": "2022-03-13T19:24:24.476Z"
   },
   {
    "duration": 4657,
    "start_time": "2022-03-13T19:27:11.485Z"
   },
   {
    "duration": 22,
    "start_time": "2022-03-13T19:27:21.408Z"
   },
   {
    "duration": 6912,
    "start_time": "2022-03-13T19:28:05.606Z"
   },
   {
    "duration": 31,
    "start_time": "2022-03-13T19:28:51.314Z"
   },
   {
    "duration": 59,
    "start_time": "2022-03-13T19:29:06.977Z"
   },
   {
    "duration": 30,
    "start_time": "2022-03-13T19:29:23.551Z"
   },
   {
    "duration": 22,
    "start_time": "2022-03-13T19:31:28.740Z"
   },
   {
    "duration": 337,
    "start_time": "2022-03-13T19:33:50.765Z"
   },
   {
    "duration": 211,
    "start_time": "2022-03-13T19:34:27.975Z"
   },
   {
    "duration": 197,
    "start_time": "2022-03-13T19:36:17.255Z"
   },
   {
    "duration": 439,
    "start_time": "2022-03-13T19:37:04.505Z"
   },
   {
    "duration": 208,
    "start_time": "2022-03-13T19:37:44.620Z"
   },
   {
    "duration": 357,
    "start_time": "2022-03-13T19:38:08.734Z"
   },
   {
    "duration": 27,
    "start_time": "2022-03-13T19:38:18.840Z"
   },
   {
    "duration": 25,
    "start_time": "2022-03-13T19:38:35.896Z"
   },
   {
    "duration": 25,
    "start_time": "2022-03-13T19:38:42.049Z"
   },
   {
    "duration": 26,
    "start_time": "2022-03-13T19:38:53.505Z"
   },
   {
    "duration": 27,
    "start_time": "2022-03-13T19:39:12.511Z"
   },
   {
    "duration": 26,
    "start_time": "2022-03-13T19:39:17.275Z"
   },
   {
    "duration": 27,
    "start_time": "2022-03-13T19:39:20.589Z"
   },
   {
    "duration": 25,
    "start_time": "2022-03-13T19:49:09.658Z"
   },
   {
    "duration": 25,
    "start_time": "2022-03-13T19:49:43.711Z"
   },
   {
    "duration": 27,
    "start_time": "2022-03-13T21:16:27.895Z"
   },
   {
    "duration": 603,
    "start_time": "2022-03-13T21:29:41.176Z"
   },
   {
    "duration": 46,
    "start_time": "2022-03-13T21:29:41.781Z"
   },
   {
    "duration": 23,
    "start_time": "2022-03-13T21:29:41.830Z"
   },
   {
    "duration": 12,
    "start_time": "2022-03-13T21:29:41.860Z"
   },
   {
    "duration": 3,
    "start_time": "2022-03-13T21:29:41.874Z"
   },
   {
    "duration": 13,
    "start_time": "2022-03-13T21:29:41.878Z"
   },
   {
    "duration": 13,
    "start_time": "2022-03-13T21:29:41.893Z"
   },
   {
    "duration": 6,
    "start_time": "2022-03-13T21:29:41.909Z"
   },
   {
    "duration": 49,
    "start_time": "2022-03-13T21:29:41.917Z"
   },
   {
    "duration": 19,
    "start_time": "2022-03-13T21:29:41.967Z"
   },
   {
    "duration": 28,
    "start_time": "2022-03-13T21:29:41.988Z"
   },
   {
    "duration": 47,
    "start_time": "2022-03-13T21:29:42.017Z"
   },
   {
    "duration": 5,
    "start_time": "2022-03-13T21:29:42.066Z"
   },
   {
    "duration": 6,
    "start_time": "2022-03-13T21:29:42.073Z"
   },
   {
    "duration": 11,
    "start_time": "2022-03-13T21:29:42.081Z"
   },
   {
    "duration": 10,
    "start_time": "2022-03-13T21:29:42.094Z"
   },
   {
    "duration": 11,
    "start_time": "2022-03-13T21:29:42.106Z"
   },
   {
    "duration": 43,
    "start_time": "2022-03-13T21:29:42.119Z"
   },
   {
    "duration": 6,
    "start_time": "2022-03-13T21:29:42.163Z"
   },
   {
    "duration": 5,
    "start_time": "2022-03-13T21:29:42.171Z"
   },
   {
    "duration": 17,
    "start_time": "2022-03-13T21:29:42.178Z"
   },
   {
    "duration": 63,
    "start_time": "2022-03-13T21:29:42.197Z"
   },
   {
    "duration": 17,
    "start_time": "2022-03-13T21:29:42.263Z"
   },
   {
    "duration": 16,
    "start_time": "2022-03-13T21:29:42.281Z"
   },
   {
    "duration": 8,
    "start_time": "2022-03-13T21:29:42.298Z"
   },
   {
    "duration": 84,
    "start_time": "2022-03-13T21:29:42.307Z"
   },
   {
    "duration": 12,
    "start_time": "2022-03-13T21:29:42.392Z"
   },
   {
    "duration": 11,
    "start_time": "2022-03-13T21:29:42.406Z"
   },
   {
    "duration": 13,
    "start_time": "2022-03-13T21:29:42.419Z"
   },
   {
    "duration": 36,
    "start_time": "2022-03-13T21:29:42.434Z"
   },
   {
    "duration": 11,
    "start_time": "2022-03-13T21:29:42.472Z"
   },
   {
    "duration": 15,
    "start_time": "2022-03-13T21:29:42.485Z"
   },
   {
    "duration": 19,
    "start_time": "2022-03-13T21:29:42.502Z"
   },
   {
    "duration": 62,
    "start_time": "2022-03-13T21:29:42.523Z"
   },
   {
    "duration": 24,
    "start_time": "2022-03-13T21:29:42.587Z"
   },
   {
    "duration": 286,
    "start_time": "2022-03-13T21:36:37.802Z"
   },
   {
    "duration": 201,
    "start_time": "2022-03-13T21:37:12.277Z"
   },
   {
    "duration": 30,
    "start_time": "2022-03-13T21:37:19.948Z"
   },
   {
    "duration": 26,
    "start_time": "2022-03-13T21:41:53.239Z"
   },
   {
    "duration": 212,
    "start_time": "2022-03-13T21:43:32.508Z"
   },
   {
    "duration": 32,
    "start_time": "2022-03-13T21:45:48.406Z"
   },
   {
    "duration": 51,
    "start_time": "2022-03-13T21:46:19.829Z"
   },
   {
    "duration": 32,
    "start_time": "2022-03-13T21:46:26.136Z"
   },
   {
    "duration": 31,
    "start_time": "2022-03-13T21:46:37.529Z"
   },
   {
    "duration": 248,
    "start_time": "2022-03-14T13:48:41.569Z"
   },
   {
    "duration": 546,
    "start_time": "2022-03-14T13:48:46.981Z"
   },
   {
    "duration": 51,
    "start_time": "2022-03-14T13:48:47.529Z"
   },
   {
    "duration": 20,
    "start_time": "2022-03-14T13:48:47.584Z"
   },
   {
    "duration": 11,
    "start_time": "2022-03-14T13:48:47.606Z"
   },
   {
    "duration": 4,
    "start_time": "2022-03-14T13:48:47.618Z"
   },
   {
    "duration": 12,
    "start_time": "2022-03-14T13:48:47.638Z"
   },
   {
    "duration": 14,
    "start_time": "2022-03-14T13:48:47.653Z"
   },
   {
    "duration": 7,
    "start_time": "2022-03-14T13:48:47.668Z"
   },
   {
    "duration": 12,
    "start_time": "2022-03-14T13:48:47.676Z"
   },
   {
    "duration": 19,
    "start_time": "2022-03-14T13:48:47.689Z"
   },
   {
    "duration": 53,
    "start_time": "2022-03-14T13:48:47.709Z"
   },
   {
    "duration": 8,
    "start_time": "2022-03-14T13:48:47.763Z"
   },
   {
    "duration": 6,
    "start_time": "2022-03-14T13:48:47.773Z"
   },
   {
    "duration": 8,
    "start_time": "2022-03-14T13:48:47.781Z"
   },
   {
    "duration": 9,
    "start_time": "2022-03-14T13:48:47.790Z"
   },
   {
    "duration": 10,
    "start_time": "2022-03-14T13:48:47.801Z"
   },
   {
    "duration": 38,
    "start_time": "2022-03-14T13:48:47.813Z"
   },
   {
    "duration": 7,
    "start_time": "2022-03-14T13:48:47.852Z"
   },
   {
    "duration": 7,
    "start_time": "2022-03-14T13:48:47.860Z"
   },
   {
    "duration": 7,
    "start_time": "2022-03-14T13:48:47.868Z"
   },
   {
    "duration": 19,
    "start_time": "2022-03-14T13:48:47.877Z"
   },
   {
    "duration": 56,
    "start_time": "2022-03-14T13:48:47.899Z"
   },
   {
    "duration": 16,
    "start_time": "2022-03-14T13:48:47.957Z"
   },
   {
    "duration": 15,
    "start_time": "2022-03-14T13:48:47.975Z"
   },
   {
    "duration": 6,
    "start_time": "2022-03-14T13:48:47.992Z"
   },
   {
    "duration": 71,
    "start_time": "2022-03-14T13:48:48.000Z"
   },
   {
    "duration": 12,
    "start_time": "2022-03-14T13:48:48.073Z"
   },
   {
    "duration": 11,
    "start_time": "2022-03-14T13:48:48.087Z"
   },
   {
    "duration": 18,
    "start_time": "2022-03-14T13:48:48.100Z"
   },
   {
    "duration": 29,
    "start_time": "2022-03-14T13:48:48.119Z"
   },
   {
    "duration": 11,
    "start_time": "2022-03-14T13:48:48.150Z"
   },
   {
    "duration": 14,
    "start_time": "2022-03-14T13:48:48.163Z"
   },
   {
    "duration": 20,
    "start_time": "2022-03-14T13:48:48.178Z"
   },
   {
    "duration": 61,
    "start_time": "2022-03-14T13:48:48.199Z"
   },
   {
    "duration": 32,
    "start_time": "2022-03-14T13:48:48.262Z"
   },
   {
    "duration": 4577,
    "start_time": "2022-03-14T13:48:48.296Z"
   },
   {
    "duration": 31,
    "start_time": "2022-03-14T13:50:16.308Z"
   },
   {
    "duration": 29,
    "start_time": "2022-03-14T13:50:28.858Z"
   },
   {
    "duration": 555,
    "start_time": "2022-03-14T13:50:41.881Z"
   },
   {
    "duration": 51,
    "start_time": "2022-03-14T13:50:42.438Z"
   },
   {
    "duration": 20,
    "start_time": "2022-03-14T13:50:42.492Z"
   },
   {
    "duration": 15,
    "start_time": "2022-03-14T13:50:42.514Z"
   },
   {
    "duration": 11,
    "start_time": "2022-03-14T13:50:42.531Z"
   },
   {
    "duration": 21,
    "start_time": "2022-03-14T13:50:42.543Z"
   },
   {
    "duration": 14,
    "start_time": "2022-03-14T13:50:42.566Z"
   },
   {
    "duration": 15,
    "start_time": "2022-03-14T13:50:42.583Z"
   },
   {
    "duration": 22,
    "start_time": "2022-03-14T13:50:42.601Z"
   },
   {
    "duration": 31,
    "start_time": "2022-03-14T13:50:42.626Z"
   },
   {
    "duration": 29,
    "start_time": "2022-03-14T13:50:42.659Z"
   },
   {
    "duration": 9,
    "start_time": "2022-03-14T13:50:42.690Z"
   },
   {
    "duration": 20,
    "start_time": "2022-03-14T13:50:42.700Z"
   },
   {
    "duration": 20,
    "start_time": "2022-03-14T13:50:42.722Z"
   },
   {
    "duration": 22,
    "start_time": "2022-03-14T13:50:42.744Z"
   },
   {
    "duration": 21,
    "start_time": "2022-03-14T13:50:42.767Z"
   },
   {
    "duration": 13,
    "start_time": "2022-03-14T13:50:42.789Z"
   },
   {
    "duration": 7,
    "start_time": "2022-03-14T13:50:42.803Z"
   },
   {
    "duration": 7,
    "start_time": "2022-03-14T13:50:42.811Z"
   },
   {
    "duration": 15,
    "start_time": "2022-03-14T13:50:42.819Z"
   },
   {
    "duration": 35,
    "start_time": "2022-03-14T13:50:42.836Z"
   },
   {
    "duration": 36,
    "start_time": "2022-03-14T13:50:42.872Z"
   },
   {
    "duration": 15,
    "start_time": "2022-03-14T13:50:42.911Z"
   },
   {
    "duration": 32,
    "start_time": "2022-03-14T13:50:42.928Z"
   },
   {
    "duration": 12,
    "start_time": "2022-03-14T13:50:42.962Z"
   },
   {
    "duration": 65,
    "start_time": "2022-03-14T13:50:42.976Z"
   },
   {
    "duration": 13,
    "start_time": "2022-03-14T13:50:43.042Z"
   },
   {
    "duration": 13,
    "start_time": "2022-03-14T13:50:43.057Z"
   },
   {
    "duration": 28,
    "start_time": "2022-03-14T13:50:43.072Z"
   },
   {
    "duration": 31,
    "start_time": "2022-03-14T13:50:43.102Z"
   },
   {
    "duration": 12,
    "start_time": "2022-03-14T13:50:43.135Z"
   },
   {
    "duration": 16,
    "start_time": "2022-03-14T13:50:43.149Z"
   },
   {
    "duration": 17,
    "start_time": "2022-03-14T13:50:43.167Z"
   },
   {
    "duration": 59,
    "start_time": "2022-03-14T13:50:43.186Z"
   },
   {
    "duration": 32,
    "start_time": "2022-03-14T13:50:43.247Z"
   },
   {
    "duration": 35,
    "start_time": "2022-03-14T13:50:43.281Z"
   },
   {
    "duration": 30,
    "start_time": "2022-03-14T13:51:21.179Z"
   },
   {
    "duration": 41,
    "start_time": "2022-03-14T13:58:13.712Z"
   },
   {
    "duration": 564,
    "start_time": "2022-03-14T13:58:39.170Z"
   },
   {
    "duration": 48,
    "start_time": "2022-03-14T13:58:39.736Z"
   },
   {
    "duration": 22,
    "start_time": "2022-03-14T13:58:39.786Z"
   },
   {
    "duration": 29,
    "start_time": "2022-03-14T13:58:39.810Z"
   },
   {
    "duration": 4,
    "start_time": "2022-03-14T13:58:39.841Z"
   },
   {
    "duration": 12,
    "start_time": "2022-03-14T13:58:39.847Z"
   },
   {
    "duration": 14,
    "start_time": "2022-03-14T13:58:39.861Z"
   },
   {
    "duration": 8,
    "start_time": "2022-03-14T13:58:39.878Z"
   },
   {
    "duration": 8,
    "start_time": "2022-03-14T13:58:39.888Z"
   },
   {
    "duration": 57,
    "start_time": "2022-03-14T13:58:39.898Z"
   },
   {
    "duration": 27,
    "start_time": "2022-03-14T13:58:39.958Z"
   },
   {
    "duration": 12,
    "start_time": "2022-03-14T13:58:39.987Z"
   },
   {
    "duration": 9,
    "start_time": "2022-03-14T13:58:40.014Z"
   },
   {
    "duration": 21,
    "start_time": "2022-03-14T13:58:40.025Z"
   },
   {
    "duration": 13,
    "start_time": "2022-03-14T13:58:40.048Z"
   },
   {
    "duration": 12,
    "start_time": "2022-03-14T13:58:40.062Z"
   },
   {
    "duration": 18,
    "start_time": "2022-03-14T13:58:40.075Z"
   },
   {
    "duration": 6,
    "start_time": "2022-03-14T13:58:40.095Z"
   },
   {
    "duration": 10,
    "start_time": "2022-03-14T13:58:40.103Z"
   },
   {
    "duration": 27,
    "start_time": "2022-03-14T13:58:40.115Z"
   },
   {
    "duration": 16,
    "start_time": "2022-03-14T13:58:40.143Z"
   },
   {
    "duration": 29,
    "start_time": "2022-03-14T13:58:40.161Z"
   },
   {
    "duration": 15,
    "start_time": "2022-03-14T13:58:40.193Z"
   },
   {
    "duration": 36,
    "start_time": "2022-03-14T13:58:40.210Z"
   },
   {
    "duration": 7,
    "start_time": "2022-03-14T13:58:40.247Z"
   },
   {
    "duration": 47,
    "start_time": "2022-03-14T13:58:40.256Z"
   },
   {
    "duration": 34,
    "start_time": "2022-03-14T13:58:40.305Z"
   },
   {
    "duration": 11,
    "start_time": "2022-03-14T13:58:40.341Z"
   },
   {
    "duration": 22,
    "start_time": "2022-03-14T13:58:40.354Z"
   },
   {
    "duration": 15,
    "start_time": "2022-03-14T13:58:40.378Z"
   },
   {
    "duration": 12,
    "start_time": "2022-03-14T13:58:40.394Z"
   },
   {
    "duration": 37,
    "start_time": "2022-03-14T13:58:40.407Z"
   },
   {
    "duration": 14,
    "start_time": "2022-03-14T13:58:40.446Z"
   },
   {
    "duration": 36,
    "start_time": "2022-03-14T13:58:40.462Z"
   },
   {
    "duration": 49,
    "start_time": "2022-03-14T13:58:40.500Z"
   },
   {
    "duration": 28,
    "start_time": "2022-03-14T13:58:40.550Z"
   },
   {
    "duration": 36,
    "start_time": "2022-03-14T13:58:40.579Z"
   },
   {
    "duration": 269,
    "start_time": "2022-03-14T13:59:58.589Z"
   },
   {
    "duration": 33,
    "start_time": "2022-03-14T14:00:04.270Z"
   },
   {
    "duration": 665,
    "start_time": "2022-03-14T14:09:14.524Z"
   },
   {
    "duration": 70,
    "start_time": "2022-03-14T14:09:55.799Z"
   },
   {
    "duration": 12,
    "start_time": "2022-03-14T14:09:59.880Z"
   },
   {
    "duration": 57,
    "start_time": "2022-03-14T14:10:16.440Z"
   },
   {
    "duration": 62,
    "start_time": "2022-03-14T14:10:23.576Z"
   },
   {
    "duration": 55,
    "start_time": "2022-03-14T14:11:46.953Z"
   },
   {
    "duration": 11,
    "start_time": "2022-03-14T14:12:27.398Z"
   },
   {
    "duration": 14,
    "start_time": "2022-03-14T14:16:20.779Z"
   },
   {
    "duration": 4,
    "start_time": "2022-03-14T14:16:26.443Z"
   },
   {
    "duration": 14,
    "start_time": "2022-03-14T14:16:27.067Z"
   },
   {
    "duration": 468,
    "start_time": "2022-03-14T14:24:36.988Z"
   },
   {
    "duration": 1897,
    "start_time": "2022-03-14T14:24:43.080Z"
   },
   {
    "duration": 22,
    "start_time": "2022-03-14T14:24:44.981Z"
   },
   {
    "duration": 6,
    "start_time": "2022-03-14T14:24:45.007Z"
   },
   {
    "duration": 44,
    "start_time": "2022-03-14T14:24:45.019Z"
   },
   {
    "duration": 24,
    "start_time": "2022-03-14T14:24:45.067Z"
   },
   {
    "duration": 10,
    "start_time": "2022-03-14T14:24:45.093Z"
   },
   {
    "duration": 38,
    "start_time": "2022-03-14T14:24:45.106Z"
   },
   {
    "duration": 30,
    "start_time": "2022-03-14T14:24:45.148Z"
   },
   {
    "duration": 74,
    "start_time": "2022-03-14T14:24:45.182Z"
   },
   {
    "duration": 19,
    "start_time": "2022-03-14T14:24:45.259Z"
   },
   {
    "duration": 10,
    "start_time": "2022-03-14T14:24:45.281Z"
   },
   {
    "duration": 11,
    "start_time": "2022-03-14T14:24:45.294Z"
   },
   {
    "duration": 50,
    "start_time": "2022-03-14T14:24:45.307Z"
   },
   {
    "duration": 18,
    "start_time": "2022-03-14T14:24:45.359Z"
   },
   {
    "duration": 19,
    "start_time": "2022-03-14T14:24:45.380Z"
   },
   {
    "duration": 45,
    "start_time": "2022-03-14T14:24:45.402Z"
   },
   {
    "duration": 17,
    "start_time": "2022-03-14T14:24:45.449Z"
   },
   {
    "duration": 428,
    "start_time": "2022-03-14T14:24:45.469Z"
   },
   {
    "duration": 67,
    "start_time": "2022-03-14T14:24:45.900Z"
   },
   {
    "duration": 53,
    "start_time": "2022-03-14T14:24:45.969Z"
   },
   {
    "duration": 41,
    "start_time": "2022-03-14T14:24:46.025Z"
   },
   {
    "duration": 544,
    "start_time": "2022-03-14T14:24:46.068Z"
   },
   {
    "duration": 10,
    "start_time": "2022-03-14T14:24:46.617Z"
   },
   {
    "duration": 121,
    "start_time": "2022-03-14T14:24:46.630Z"
   },
   {
    "duration": 28,
    "start_time": "2022-03-14T14:24:46.754Z"
   },
   {
    "duration": 35,
    "start_time": "2022-03-14T14:24:46.785Z"
   },
   {
    "duration": 299,
    "start_time": "2022-03-14T14:24:46.823Z"
   },
   {
    "duration": 35,
    "start_time": "2022-03-14T14:24:47.125Z"
   },
   {
    "duration": 17,
    "start_time": "2022-03-14T14:24:47.163Z"
   },
   {
    "duration": 27,
    "start_time": "2022-03-14T14:24:47.184Z"
   },
   {
    "duration": 173,
    "start_time": "2022-03-14T14:24:47.213Z"
   },
   {
    "duration": 1092,
    "start_time": "2022-03-14T14:24:47.389Z"
   },
   {
    "duration": 108,
    "start_time": "2022-03-14T14:24:48.484Z"
   },
   {
    "duration": 105,
    "start_time": "2022-03-14T14:24:48.595Z"
   },
   {
    "duration": 109,
    "start_time": "2022-03-14T14:24:48.702Z"
   },
   {
    "duration": 24,
    "start_time": "2022-03-14T14:26:10.972Z"
   },
   {
    "duration": 442,
    "start_time": "2022-03-14T14:26:26.180Z"
   },
   {
    "duration": 1240,
    "start_time": "2022-03-14T14:27:11.536Z"
   },
   {
    "duration": 15,
    "start_time": "2022-03-14T14:27:12.779Z"
   },
   {
    "duration": 4,
    "start_time": "2022-03-14T14:27:12.797Z"
   },
   {
    "duration": 59,
    "start_time": "2022-03-14T14:27:12.804Z"
   },
   {
    "duration": 475,
    "start_time": "2022-03-14T14:27:12.865Z"
   },
   {
    "duration": -4,
    "start_time": "2022-03-14T14:27:13.348Z"
   },
   {
    "duration": -8,
    "start_time": "2022-03-14T14:27:13.354Z"
   },
   {
    "duration": -9,
    "start_time": "2022-03-14T14:27:13.357Z"
   },
   {
    "duration": -9,
    "start_time": "2022-03-14T14:27:13.359Z"
   },
   {
    "duration": -8,
    "start_time": "2022-03-14T14:27:13.360Z"
   },
   {
    "duration": -8,
    "start_time": "2022-03-14T14:27:13.362Z"
   },
   {
    "duration": -14,
    "start_time": "2022-03-14T14:27:13.369Z"
   },
   {
    "duration": -19,
    "start_time": "2022-03-14T14:27:13.376Z"
   },
   {
    "duration": -21,
    "start_time": "2022-03-14T14:27:13.379Z"
   },
   {
    "duration": -23,
    "start_time": "2022-03-14T14:27:13.383Z"
   },
   {
    "duration": -30,
    "start_time": "2022-03-14T14:27:13.392Z"
   },
   {
    "duration": -30,
    "start_time": "2022-03-14T14:27:13.394Z"
   },
   {
    "duration": -30,
    "start_time": "2022-03-14T14:27:13.396Z"
   },
   {
    "duration": -32,
    "start_time": "2022-03-14T14:27:13.402Z"
   },
   {
    "duration": -38,
    "start_time": "2022-03-14T14:27:13.409Z"
   },
   {
    "duration": -39,
    "start_time": "2022-03-14T14:27:13.412Z"
   },
   {
    "duration": -39,
    "start_time": "2022-03-14T14:27:13.414Z"
   },
   {
    "duration": -48,
    "start_time": "2022-03-14T14:27:13.424Z"
   },
   {
    "duration": -49,
    "start_time": "2022-03-14T14:27:13.427Z"
   },
   {
    "duration": -50,
    "start_time": "2022-03-14T14:27:13.429Z"
   },
   {
    "duration": -59,
    "start_time": "2022-03-14T14:27:13.440Z"
   },
   {
    "duration": -59,
    "start_time": "2022-03-14T14:27:13.442Z"
   },
   {
    "duration": -60,
    "start_time": "2022-03-14T14:27:13.444Z"
   },
   {
    "duration": -61,
    "start_time": "2022-03-14T14:27:13.446Z"
   },
   {
    "duration": -68,
    "start_time": "2022-03-14T14:27:13.455Z"
   },
   {
    "duration": -69,
    "start_time": "2022-03-14T14:27:13.457Z"
   },
   {
    "duration": -72,
    "start_time": "2022-03-14T14:27:13.461Z"
   },
   {
    "duration": -72,
    "start_time": "2022-03-14T14:27:13.463Z"
   },
   {
    "duration": -22,
    "start_time": "2022-03-14T14:27:13.465Z"
   },
   {
    "duration": -25,
    "start_time": "2022-03-14T14:27:13.470Z"
   },
   {
    "duration": 9,
    "start_time": "2022-03-14T14:27:21.872Z"
   },
   {
    "duration": 465,
    "start_time": "2022-03-14T14:27:24.288Z"
   },
   {
    "duration": 37,
    "start_time": "2022-03-14T14:27:52.712Z"
   },
   {
    "duration": 10,
    "start_time": "2022-03-14T14:29:18.167Z"
   },
   {
    "duration": 34,
    "start_time": "2022-03-14T14:29:39.129Z"
   },
   {
    "duration": 63,
    "start_time": "2022-03-14T14:29:54.584Z"
   },
   {
    "duration": 14,
    "start_time": "2022-03-14T14:29:56.384Z"
   },
   {
    "duration": 8,
    "start_time": "2022-03-14T14:30:42.659Z"
   },
   {
    "duration": 8,
    "start_time": "2022-03-14T14:30:43.704Z"
   },
   {
    "duration": 9,
    "start_time": "2022-03-14T14:30:51.696Z"
   },
   {
    "duration": 11,
    "start_time": "2022-03-14T14:30:53.896Z"
   },
   {
    "duration": 18,
    "start_time": "2022-03-14T14:32:13.113Z"
   },
   {
    "duration": 22,
    "start_time": "2022-03-14T14:34:10.713Z"
   },
   {
    "duration": 874,
    "start_time": "2022-03-14T14:34:20.914Z"
   },
   {
    "duration": 14,
    "start_time": "2022-03-14T14:34:21.791Z"
   },
   {
    "duration": 5,
    "start_time": "2022-03-14T14:34:21.808Z"
   },
   {
    "duration": 38,
    "start_time": "2022-03-14T14:34:21.815Z"
   },
   {
    "duration": 52,
    "start_time": "2022-03-14T14:34:21.855Z"
   },
   {
    "duration": 12,
    "start_time": "2022-03-14T14:34:21.910Z"
   },
   {
    "duration": 17,
    "start_time": "2022-03-14T14:34:21.944Z"
   },
   {
    "duration": 25,
    "start_time": "2022-03-14T14:34:21.967Z"
   },
   {
    "duration": 75,
    "start_time": "2022-03-14T14:34:21.995Z"
   },
   {
    "duration": 17,
    "start_time": "2022-03-14T14:34:22.072Z"
   },
   {
    "duration": 10,
    "start_time": "2022-03-14T14:34:22.092Z"
   },
   {
    "duration": 9,
    "start_time": "2022-03-14T14:34:22.104Z"
   },
   {
    "duration": 16,
    "start_time": "2022-03-14T14:34:22.149Z"
   },
   {
    "duration": 11,
    "start_time": "2022-03-14T14:34:22.167Z"
   },
   {
    "duration": 16,
    "start_time": "2022-03-14T14:34:22.180Z"
   },
   {
    "duration": 44,
    "start_time": "2022-03-14T14:34:22.199Z"
   },
   {
    "duration": 15,
    "start_time": "2022-03-14T14:34:22.251Z"
   },
   {
    "duration": 5,
    "start_time": "2022-03-14T14:34:22.268Z"
   },
   {
    "duration": 25,
    "start_time": "2022-03-14T14:34:22.276Z"
   },
   {
    "duration": 81,
    "start_time": "2022-03-14T14:34:22.303Z"
   },
   {
    "duration": 25,
    "start_time": "2022-03-14T14:34:22.386Z"
   },
   {
    "duration": 51,
    "start_time": "2022-03-14T14:34:22.414Z"
   },
   {
    "duration": 14,
    "start_time": "2022-03-14T14:34:22.472Z"
   },
   {
    "duration": 126,
    "start_time": "2022-03-14T14:34:22.491Z"
   },
   {
    "duration": 39,
    "start_time": "2022-03-14T14:34:22.620Z"
   },
   {
    "duration": 26,
    "start_time": "2022-03-14T14:34:22.662Z"
   },
   {
    "duration": 22,
    "start_time": "2022-03-14T14:34:22.692Z"
   },
   {
    "duration": 44,
    "start_time": "2022-03-14T14:34:22.717Z"
   },
   {
    "duration": 16,
    "start_time": "2022-03-14T14:34:22.766Z"
   },
   {
    "duration": 24,
    "start_time": "2022-03-14T14:34:22.785Z"
   },
   {
    "duration": 56,
    "start_time": "2022-03-14T14:34:22.812Z"
   },
   {
    "duration": 53,
    "start_time": "2022-03-14T14:34:22.871Z"
   },
   {
    "duration": 86,
    "start_time": "2022-03-14T14:34:22.927Z"
   },
   {
    "duration": 71,
    "start_time": "2022-03-14T14:34:23.016Z"
   },
   {
    "duration": 74,
    "start_time": "2022-03-14T14:34:23.090Z"
   },
   {
    "duration": 19,
    "start_time": "2022-03-14T14:36:05.934Z"
   },
   {
    "duration": 30,
    "start_time": "2022-03-14T14:39:03.646Z"
   },
   {
    "duration": 6,
    "start_time": "2022-03-14T14:43:53.887Z"
   },
   {
    "duration": 20,
    "start_time": "2022-03-14T14:44:04.135Z"
   },
   {
    "duration": 56,
    "start_time": "2022-03-14T14:45:08.953Z"
   },
   {
    "duration": 55,
    "start_time": "2022-03-14T14:46:46.835Z"
   },
   {
    "duration": 8153,
    "start_time": "2022-03-14T14:48:10.576Z"
   },
   {
    "duration": 1073,
    "start_time": "2022-03-14T14:48:39.612Z"
   },
   {
    "duration": 20,
    "start_time": "2022-03-14T14:48:40.688Z"
   },
   {
    "duration": 5,
    "start_time": "2022-03-14T14:48:40.712Z"
   },
   {
    "duration": 41,
    "start_time": "2022-03-14T14:48:40.721Z"
   },
   {
    "duration": 44,
    "start_time": "2022-03-14T14:48:40.765Z"
   },
   {
    "duration": 42,
    "start_time": "2022-03-14T14:48:40.812Z"
   },
   {
    "duration": 22,
    "start_time": "2022-03-14T14:48:40.857Z"
   },
   {
    "duration": 39,
    "start_time": "2022-03-14T14:48:40.884Z"
   },
   {
    "duration": 50,
    "start_time": "2022-03-14T14:48:40.943Z"
   },
   {
    "duration": 13,
    "start_time": "2022-03-14T14:48:40.995Z"
   },
   {
    "duration": 36,
    "start_time": "2022-03-14T14:48:41.011Z"
   },
   {
    "duration": 11,
    "start_time": "2022-03-14T14:48:41.054Z"
   },
   {
    "duration": 10,
    "start_time": "2022-03-14T14:48:41.067Z"
   },
   {
    "duration": 11,
    "start_time": "2022-03-14T14:48:41.079Z"
   },
   {
    "duration": 18,
    "start_time": "2022-03-14T14:48:41.093Z"
   },
   {
    "duration": 20,
    "start_time": "2022-03-14T14:48:41.146Z"
   },
   {
    "duration": 17,
    "start_time": "2022-03-14T14:48:41.169Z"
   },
   {
    "duration": 61,
    "start_time": "2022-03-14T14:48:41.189Z"
   },
   {
    "duration": 27,
    "start_time": "2022-03-14T14:48:41.252Z"
   },
   {
    "duration": 70,
    "start_time": "2022-03-14T14:48:41.281Z"
   },
   {
    "duration": 45,
    "start_time": "2022-03-14T14:48:41.354Z"
   },
   {
    "duration": 11,
    "start_time": "2022-03-14T14:48:41.401Z"
   },
   {
    "duration": 76,
    "start_time": "2022-03-14T14:48:41.444Z"
   },
   {
    "duration": 14,
    "start_time": "2022-03-14T14:48:41.553Z"
   },
   {
    "duration": 18,
    "start_time": "2022-03-14T14:48:41.570Z"
   },
   {
    "duration": 22,
    "start_time": "2022-03-14T14:48:41.590Z"
   },
   {
    "duration": 41,
    "start_time": "2022-03-14T14:48:41.615Z"
   },
   {
    "duration": 26,
    "start_time": "2022-03-14T14:48:41.658Z"
   },
   {
    "duration": 21,
    "start_time": "2022-03-14T14:48:41.686Z"
   },
   {
    "duration": 86,
    "start_time": "2022-03-14T14:48:41.709Z"
   },
   {
    "duration": 75,
    "start_time": "2022-03-14T14:48:41.797Z"
   },
   {
    "duration": 46,
    "start_time": "2022-03-14T14:48:41.875Z"
   },
   {
    "duration": 71,
    "start_time": "2022-03-14T14:48:41.924Z"
   },
   {
    "duration": 443,
    "start_time": "2022-03-14T18:36:55.705Z"
   },
   {
    "duration": 874,
    "start_time": "2022-03-14T18:37:31.738Z"
   },
   {
    "duration": 20,
    "start_time": "2022-03-14T18:37:32.615Z"
   },
   {
    "duration": 4,
    "start_time": "2022-03-14T18:37:32.639Z"
   },
   {
    "duration": 61,
    "start_time": "2022-03-14T18:37:32.646Z"
   },
   {
    "duration": 35,
    "start_time": "2022-03-14T18:37:32.711Z"
   },
   {
    "duration": 44,
    "start_time": "2022-03-14T18:37:32.750Z"
   },
   {
    "duration": 14,
    "start_time": "2022-03-14T18:37:32.796Z"
   },
   {
    "duration": 36,
    "start_time": "2022-03-14T18:37:32.814Z"
   },
   {
    "duration": 75,
    "start_time": "2022-03-14T18:37:32.854Z"
   },
   {
    "duration": 12,
    "start_time": "2022-03-14T18:37:32.932Z"
   },
   {
    "duration": 37,
    "start_time": "2022-03-14T18:37:32.947Z"
   },
   {
    "duration": 18,
    "start_time": "2022-03-14T18:37:32.986Z"
   },
   {
    "duration": 16,
    "start_time": "2022-03-14T18:37:33.006Z"
   },
   {
    "duration": 12,
    "start_time": "2022-03-14T18:37:33.024Z"
   },
   {
    "duration": 66,
    "start_time": "2022-03-14T18:37:33.040Z"
   },
   {
    "duration": 17,
    "start_time": "2022-03-14T18:37:33.109Z"
   },
   {
    "duration": 17,
    "start_time": "2022-03-14T18:37:33.128Z"
   },
   {
    "duration": 35,
    "start_time": "2022-03-14T18:37:33.182Z"
   },
   {
    "duration": 31,
    "start_time": "2022-03-14T18:37:33.221Z"
   },
   {
    "duration": 108,
    "start_time": "2022-03-14T18:37:33.256Z"
   },
   {
    "duration": 57,
    "start_time": "2022-03-14T18:37:33.367Z"
   },
   {
    "duration": 10,
    "start_time": "2022-03-14T18:37:33.426Z"
   },
   {
    "duration": 107,
    "start_time": "2022-03-14T18:37:33.442Z"
   },
   {
    "duration": 41,
    "start_time": "2022-03-14T18:37:33.552Z"
   },
   {
    "duration": 32,
    "start_time": "2022-03-14T18:37:33.596Z"
   },
   {
    "duration": 15,
    "start_time": "2022-03-14T18:37:33.630Z"
   },
   {
    "duration": 28,
    "start_time": "2022-03-14T18:37:33.684Z"
   },
   {
    "duration": 24,
    "start_time": "2022-03-14T18:37:33.715Z"
   },
   {
    "duration": 62,
    "start_time": "2022-03-14T18:37:33.782Z"
   },
   {
    "duration": 67,
    "start_time": "2022-03-14T18:37:33.846Z"
   },
   {
    "duration": 66,
    "start_time": "2022-03-14T18:37:33.916Z"
   },
   {
    "duration": 51,
    "start_time": "2022-03-14T18:37:33.985Z"
   },
   {
    "duration": 660,
    "start_time": "2022-03-15T13:18:51.842Z"
   },
   {
    "duration": 9,
    "start_time": "2022-03-15T13:18:52.504Z"
   },
   {
    "duration": 3,
    "start_time": "2022-03-15T13:18:52.515Z"
   },
   {
    "duration": 12,
    "start_time": "2022-03-15T13:18:52.520Z"
   },
   {
    "duration": 19,
    "start_time": "2022-03-15T13:18:52.533Z"
   },
   {
    "duration": 29,
    "start_time": "2022-03-15T13:18:52.553Z"
   },
   {
    "duration": 9,
    "start_time": "2022-03-15T13:18:52.583Z"
   },
   {
    "duration": 16,
    "start_time": "2022-03-15T13:18:52.594Z"
   },
   {
    "duration": 23,
    "start_time": "2022-03-15T13:18:52.612Z"
   },
   {
    "duration": 7,
    "start_time": "2022-03-15T13:18:52.637Z"
   },
   {
    "duration": 4,
    "start_time": "2022-03-15T13:18:52.646Z"
   },
   {
    "duration": 34,
    "start_time": "2022-03-15T13:18:52.651Z"
   },
   {
    "duration": 9,
    "start_time": "2022-03-15T13:18:52.687Z"
   },
   {
    "duration": 11,
    "start_time": "2022-03-15T13:18:52.697Z"
   },
   {
    "duration": 12,
    "start_time": "2022-03-15T13:18:52.709Z"
   },
   {
    "duration": 10,
    "start_time": "2022-03-15T13:18:52.723Z"
   },
   {
    "duration": 10,
    "start_time": "2022-03-15T13:18:52.734Z"
   },
   {
    "duration": 38,
    "start_time": "2022-03-15T13:18:52.745Z"
   },
   {
    "duration": 12,
    "start_time": "2022-03-15T13:18:52.785Z"
   },
   {
    "duration": 27,
    "start_time": "2022-03-15T13:18:52.799Z"
   },
   {
    "duration": 24,
    "start_time": "2022-03-15T13:18:52.827Z"
   },
   {
    "duration": 31,
    "start_time": "2022-03-15T13:18:52.853Z"
   },
   {
    "duration": 40,
    "start_time": "2022-03-15T13:18:52.887Z"
   },
   {
    "duration": 12,
    "start_time": "2022-03-15T13:18:52.929Z"
   },
   {
    "duration": 39,
    "start_time": "2022-03-15T13:18:52.942Z"
   },
   {
    "duration": 11,
    "start_time": "2022-03-15T13:18:52.983Z"
   },
   {
    "duration": 14,
    "start_time": "2022-03-15T13:18:52.995Z"
   },
   {
    "duration": 16,
    "start_time": "2022-03-15T13:18:53.011Z"
   },
   {
    "duration": 29,
    "start_time": "2022-03-15T13:18:53.028Z"
   },
   {
    "duration": 27,
    "start_time": "2022-03-15T13:18:53.081Z"
   },
   {
    "duration": 26,
    "start_time": "2022-03-15T13:18:53.110Z"
   },
   {
    "duration": 44,
    "start_time": "2022-03-15T13:18:53.138Z"
   },
   {
    "duration": 732,
    "start_time": "2022-03-15T13:33:08.985Z"
   },
   {
    "duration": 9,
    "start_time": "2022-03-15T13:33:09.719Z"
   },
   {
    "duration": 4,
    "start_time": "2022-03-15T13:33:09.730Z"
   },
   {
    "duration": 10,
    "start_time": "2022-03-15T13:33:09.736Z"
   },
   {
    "duration": 35,
    "start_time": "2022-03-15T13:33:09.748Z"
   },
   {
    "duration": 6,
    "start_time": "2022-03-15T13:33:09.784Z"
   },
   {
    "duration": 8,
    "start_time": "2022-03-15T13:33:09.792Z"
   },
   {
    "duration": 16,
    "start_time": "2022-03-15T13:33:09.802Z"
   },
   {
    "duration": 36,
    "start_time": "2022-03-15T13:33:09.819Z"
   },
   {
    "duration": 35,
    "start_time": "2022-03-15T13:33:09.856Z"
   },
   {
    "duration": 5,
    "start_time": "2022-03-15T13:33:09.893Z"
   },
   {
    "duration": 6,
    "start_time": "2022-03-15T13:33:09.900Z"
   },
   {
    "duration": 8,
    "start_time": "2022-03-15T13:33:09.908Z"
   },
   {
    "duration": 10,
    "start_time": "2022-03-15T13:33:09.917Z"
   },
   {
    "duration": 12,
    "start_time": "2022-03-15T13:33:09.928Z"
   },
   {
    "duration": 41,
    "start_time": "2022-03-15T13:33:09.942Z"
   },
   {
    "duration": 14,
    "start_time": "2022-03-15T13:33:09.984Z"
   },
   {
    "duration": 25,
    "start_time": "2022-03-15T13:33:10.000Z"
   },
   {
    "duration": 18,
    "start_time": "2022-03-15T13:33:10.027Z"
   },
   {
    "duration": 59,
    "start_time": "2022-03-15T13:33:10.047Z"
   },
   {
    "duration": 35,
    "start_time": "2022-03-15T13:33:10.108Z"
   },
   {
    "duration": 9,
    "start_time": "2022-03-15T13:33:10.145Z"
   },
   {
    "duration": 86,
    "start_time": "2022-03-15T13:33:10.158Z"
   },
   {
    "duration": 15,
    "start_time": "2022-03-15T13:33:10.246Z"
   },
   {
    "duration": 30,
    "start_time": "2022-03-15T13:33:10.262Z"
   },
   {
    "duration": 13,
    "start_time": "2022-03-15T13:33:10.294Z"
   },
   {
    "duration": 16,
    "start_time": "2022-03-15T13:33:10.308Z"
   },
   {
    "duration": 13,
    "start_time": "2022-03-15T13:33:10.325Z"
   },
   {
    "duration": 57,
    "start_time": "2022-03-15T13:33:10.339Z"
   },
   {
    "duration": 28,
    "start_time": "2022-03-15T13:33:10.397Z"
   },
   {
    "duration": 26,
    "start_time": "2022-03-15T13:33:10.427Z"
   },
   {
    "duration": 48,
    "start_time": "2022-03-15T13:33:10.455Z"
   },
   {
    "duration": 546,
    "start_time": "2022-03-25T19:09:06.053Z"
   },
   {
    "duration": 17,
    "start_time": "2022-03-25T19:09:06.601Z"
   },
   {
    "duration": 4,
    "start_time": "2022-03-25T19:09:06.619Z"
   },
   {
    "duration": 15,
    "start_time": "2022-03-25T19:09:06.632Z"
   },
   {
    "duration": 27,
    "start_time": "2022-03-25T19:09:06.649Z"
   },
   {
    "duration": 8,
    "start_time": "2022-03-25T19:09:06.677Z"
   },
   {
    "duration": 9,
    "start_time": "2022-03-25T19:09:06.687Z"
   },
   {
    "duration": 50,
    "start_time": "2022-03-25T19:09:06.697Z"
   },
   {
    "duration": 28,
    "start_time": "2022-03-25T19:09:06.749Z"
   },
   {
    "duration": 12,
    "start_time": "2022-03-25T19:09:06.781Z"
   },
   {
    "duration": 37,
    "start_time": "2022-03-25T19:09:06.795Z"
   },
   {
    "duration": 8,
    "start_time": "2022-03-25T19:09:06.834Z"
   },
   {
    "duration": 17,
    "start_time": "2022-03-25T19:09:06.844Z"
   },
   {
    "duration": 14,
    "start_time": "2022-03-25T19:09:06.863Z"
   },
   {
    "duration": 13,
    "start_time": "2022-03-25T19:09:06.879Z"
   },
   {
    "duration": 17,
    "start_time": "2022-03-25T19:09:06.894Z"
   },
   {
    "duration": 11,
    "start_time": "2022-03-25T19:09:06.931Z"
   },
   {
    "duration": 24,
    "start_time": "2022-03-25T19:09:06.944Z"
   },
   {
    "duration": 18,
    "start_time": "2022-03-25T19:09:06.970Z"
   },
   {
    "duration": 57,
    "start_time": "2022-03-25T19:09:06.990Z"
   },
   {
    "duration": 35,
    "start_time": "2022-03-25T19:09:07.049Z"
   },
   {
    "duration": 9,
    "start_time": "2022-03-25T19:09:07.086Z"
   },
   {
    "duration": 74,
    "start_time": "2022-03-25T19:09:07.097Z"
   },
   {
    "duration": 14,
    "start_time": "2022-03-25T19:09:07.173Z"
   },
   {
    "duration": 19,
    "start_time": "2022-03-25T19:09:07.188Z"
   },
   {
    "duration": 38,
    "start_time": "2022-03-25T19:09:07.209Z"
   },
   {
    "duration": 17,
    "start_time": "2022-03-25T19:09:07.248Z"
   },
   {
    "duration": 18,
    "start_time": "2022-03-25T19:09:07.269Z"
   },
   {
    "duration": 62,
    "start_time": "2022-03-25T19:09:07.288Z"
   },
   {
    "duration": 33,
    "start_time": "2022-03-25T19:09:07.352Z"
   },
   {
    "duration": 53,
    "start_time": "2022-03-25T19:09:07.387Z"
   },
   {
    "duration": 32,
    "start_time": "2022-03-25T19:09:07.442Z"
   },
   {
    "duration": 16,
    "start_time": "2022-03-25T19:09:55.699Z"
   },
   {
    "duration": 273,
    "start_time": "2022-03-26T09:44:27.782Z"
   },
   {
    "duration": 173,
    "start_time": "2022-03-26T09:44:35.625Z"
   },
   {
    "duration": 0,
    "start_time": "2022-03-26T09:44:35.801Z"
   },
   {
    "duration": 0,
    "start_time": "2022-03-26T09:44:35.802Z"
   },
   {
    "duration": 0,
    "start_time": "2022-03-26T09:44:35.804Z"
   },
   {
    "duration": 0,
    "start_time": "2022-03-26T09:44:35.805Z"
   },
   {
    "duration": 0,
    "start_time": "2022-03-26T09:44:35.807Z"
   },
   {
    "duration": 0,
    "start_time": "2022-03-26T09:44:35.808Z"
   },
   {
    "duration": 1,
    "start_time": "2022-03-26T09:44:35.809Z"
   },
   {
    "duration": 0,
    "start_time": "2022-03-26T09:44:35.811Z"
   },
   {
    "duration": 0,
    "start_time": "2022-03-26T09:44:35.813Z"
   },
   {
    "duration": 0,
    "start_time": "2022-03-26T09:44:35.814Z"
   },
   {
    "duration": 64,
    "start_time": "2022-03-26T09:44:35.817Z"
   },
   {
    "duration": 0,
    "start_time": "2022-03-26T09:44:35.883Z"
   },
   {
    "duration": 0,
    "start_time": "2022-03-26T09:44:35.885Z"
   },
   {
    "duration": 0,
    "start_time": "2022-03-26T09:44:35.886Z"
   },
   {
    "duration": 0,
    "start_time": "2022-03-26T09:44:35.888Z"
   },
   {
    "duration": 0,
    "start_time": "2022-03-26T09:44:35.889Z"
   },
   {
    "duration": 0,
    "start_time": "2022-03-26T09:44:35.890Z"
   },
   {
    "duration": 0,
    "start_time": "2022-03-26T09:44:35.892Z"
   },
   {
    "duration": 9,
    "start_time": "2022-03-26T09:44:35.933Z"
   },
   {
    "duration": 0,
    "start_time": "2022-03-26T09:44:35.945Z"
   },
   {
    "duration": 0,
    "start_time": "2022-03-26T09:44:35.946Z"
   },
   {
    "duration": 0,
    "start_time": "2022-03-26T09:44:35.947Z"
   },
   {
    "duration": 0,
    "start_time": "2022-03-26T09:44:35.949Z"
   },
   {
    "duration": 9,
    "start_time": "2022-03-26T09:44:35.951Z"
   },
   {
    "duration": 9,
    "start_time": "2022-03-26T09:44:35.964Z"
   },
   {
    "duration": 0,
    "start_time": "2022-03-26T09:44:35.974Z"
   },
   {
    "duration": 11,
    "start_time": "2022-03-26T09:44:36.039Z"
   },
   {
    "duration": 0,
    "start_time": "2022-03-26T09:44:36.052Z"
   },
   {
    "duration": 0,
    "start_time": "2022-03-26T09:44:36.054Z"
   },
   {
    "duration": 15,
    "start_time": "2022-03-26T09:44:36.064Z"
   },
   {
    "duration": 0,
    "start_time": "2022-03-26T09:44:36.082Z"
   },
   {
    "duration": 8,
    "start_time": "2022-03-26T09:44:36.133Z"
   },
   {
    "duration": 419,
    "start_time": "2022-03-26T09:49:16.950Z"
   },
   {
    "duration": 90,
    "start_time": "2022-03-26T09:49:17.371Z"
   },
   {
    "duration": 149,
    "start_time": "2022-03-26T09:49:17.463Z"
   },
   {
    "duration": 0,
    "start_time": "2022-03-26T09:49:17.614Z"
   },
   {
    "duration": 0,
    "start_time": "2022-03-26T09:49:17.615Z"
   },
   {
    "duration": 0,
    "start_time": "2022-03-26T09:49:17.616Z"
   },
   {
    "duration": 0,
    "start_time": "2022-03-26T09:49:17.618Z"
   },
   {
    "duration": 0,
    "start_time": "2022-03-26T09:49:17.619Z"
   },
   {
    "duration": 0,
    "start_time": "2022-03-26T09:49:17.620Z"
   },
   {
    "duration": 0,
    "start_time": "2022-03-26T09:49:17.622Z"
   },
   {
    "duration": 0,
    "start_time": "2022-03-26T09:49:17.622Z"
   },
   {
    "duration": 0,
    "start_time": "2022-03-26T09:49:17.623Z"
   },
   {
    "duration": 0,
    "start_time": "2022-03-26T09:49:17.624Z"
   },
   {
    "duration": 0,
    "start_time": "2022-03-26T09:49:17.625Z"
   },
   {
    "duration": 0,
    "start_time": "2022-03-26T09:49:17.626Z"
   },
   {
    "duration": 0,
    "start_time": "2022-03-26T09:49:17.627Z"
   },
   {
    "duration": 0,
    "start_time": "2022-03-26T09:49:17.628Z"
   },
   {
    "duration": 0,
    "start_time": "2022-03-26T09:49:17.629Z"
   },
   {
    "duration": 0,
    "start_time": "2022-03-26T09:49:17.630Z"
   },
   {
    "duration": 0,
    "start_time": "2022-03-26T09:49:17.631Z"
   },
   {
    "duration": 0,
    "start_time": "2022-03-26T09:49:17.632Z"
   },
   {
    "duration": 0,
    "start_time": "2022-03-26T09:49:17.633Z"
   },
   {
    "duration": 0,
    "start_time": "2022-03-26T09:49:17.634Z"
   },
   {
    "duration": 0,
    "start_time": "2022-03-26T09:49:17.635Z"
   },
   {
    "duration": 0,
    "start_time": "2022-03-26T09:49:17.636Z"
   },
   {
    "duration": 0,
    "start_time": "2022-03-26T09:49:17.636Z"
   },
   {
    "duration": 0,
    "start_time": "2022-03-26T09:49:17.637Z"
   },
   {
    "duration": 0,
    "start_time": "2022-03-26T09:49:17.640Z"
   },
   {
    "duration": 0,
    "start_time": "2022-03-26T09:49:17.641Z"
   },
   {
    "duration": 0,
    "start_time": "2022-03-26T09:49:17.642Z"
   },
   {
    "duration": 0,
    "start_time": "2022-03-26T09:49:17.643Z"
   },
   {
    "duration": 0,
    "start_time": "2022-03-26T09:49:17.644Z"
   },
   {
    "duration": 0,
    "start_time": "2022-03-26T09:49:17.645Z"
   },
   {
    "duration": 0,
    "start_time": "2022-03-26T09:49:17.646Z"
   },
   {
    "duration": 78,
    "start_time": "2022-03-26T09:50:22.458Z"
   },
   {
    "duration": 421,
    "start_time": "2022-03-26T09:50:28.947Z"
   },
   {
    "duration": 97,
    "start_time": "2022-03-26T09:50:29.370Z"
   },
   {
    "duration": 157,
    "start_time": "2022-03-26T09:50:29.469Z"
   },
   {
    "duration": 0,
    "start_time": "2022-03-26T09:50:29.628Z"
   },
   {
    "duration": 0,
    "start_time": "2022-03-26T09:50:29.630Z"
   },
   {
    "duration": 0,
    "start_time": "2022-03-26T09:50:29.631Z"
   },
   {
    "duration": 0,
    "start_time": "2022-03-26T09:50:29.632Z"
   },
   {
    "duration": 0,
    "start_time": "2022-03-26T09:50:29.633Z"
   },
   {
    "duration": 0,
    "start_time": "2022-03-26T09:50:29.634Z"
   },
   {
    "duration": 0,
    "start_time": "2022-03-26T09:50:29.635Z"
   },
   {
    "duration": 0,
    "start_time": "2022-03-26T09:50:29.636Z"
   },
   {
    "duration": 0,
    "start_time": "2022-03-26T09:50:29.637Z"
   },
   {
    "duration": 0,
    "start_time": "2022-03-26T09:50:29.638Z"
   },
   {
    "duration": 0,
    "start_time": "2022-03-26T09:50:29.639Z"
   },
   {
    "duration": 0,
    "start_time": "2022-03-26T09:50:29.640Z"
   },
   {
    "duration": 0,
    "start_time": "2022-03-26T09:50:29.641Z"
   },
   {
    "duration": 0,
    "start_time": "2022-03-26T09:50:29.641Z"
   },
   {
    "duration": 0,
    "start_time": "2022-03-26T09:50:29.643Z"
   },
   {
    "duration": 0,
    "start_time": "2022-03-26T09:50:29.644Z"
   },
   {
    "duration": 0,
    "start_time": "2022-03-26T09:50:29.645Z"
   },
   {
    "duration": 0,
    "start_time": "2022-03-26T09:50:29.646Z"
   },
   {
    "duration": 1,
    "start_time": "2022-03-26T09:50:29.646Z"
   },
   {
    "duration": 0,
    "start_time": "2022-03-26T09:50:29.647Z"
   },
   {
    "duration": 0,
    "start_time": "2022-03-26T09:50:29.648Z"
   },
   {
    "duration": 0,
    "start_time": "2022-03-26T09:50:29.649Z"
   },
   {
    "duration": 0,
    "start_time": "2022-03-26T09:50:29.650Z"
   },
   {
    "duration": 0,
    "start_time": "2022-03-26T09:50:29.653Z"
   },
   {
    "duration": 0,
    "start_time": "2022-03-26T09:50:29.654Z"
   },
   {
    "duration": 0,
    "start_time": "2022-03-26T09:50:29.655Z"
   },
   {
    "duration": 0,
    "start_time": "2022-03-26T09:50:29.656Z"
   },
   {
    "duration": 0,
    "start_time": "2022-03-26T09:50:29.657Z"
   },
   {
    "duration": 0,
    "start_time": "2022-03-26T09:50:29.658Z"
   },
   {
    "duration": 0,
    "start_time": "2022-03-26T09:50:29.659Z"
   },
   {
    "duration": 0,
    "start_time": "2022-03-26T09:50:29.660Z"
   },
   {
    "duration": 409,
    "start_time": "2022-03-26T09:51:16.378Z"
   },
   {
    "duration": 99,
    "start_time": "2022-03-26T09:51:16.789Z"
   },
   {
    "duration": 16,
    "start_time": "2022-03-26T09:51:16.890Z"
   },
   {
    "duration": 14,
    "start_time": "2022-03-26T09:51:16.909Z"
   },
   {
    "duration": 22,
    "start_time": "2022-03-26T09:51:16.925Z"
   },
   {
    "duration": 24,
    "start_time": "2022-03-26T09:51:16.949Z"
   },
   {
    "duration": 8,
    "start_time": "2022-03-26T09:51:16.975Z"
   },
   {
    "duration": 11,
    "start_time": "2022-03-26T09:51:16.984Z"
   },
   {
    "duration": 54,
    "start_time": "2022-03-26T09:51:16.997Z"
   },
   {
    "duration": 25,
    "start_time": "2022-03-26T09:51:17.054Z"
   },
   {
    "duration": 11,
    "start_time": "2022-03-26T09:51:17.081Z"
   },
   {
    "duration": 39,
    "start_time": "2022-03-26T09:51:17.094Z"
   },
   {
    "duration": 9,
    "start_time": "2022-03-26T09:51:17.135Z"
   },
   {
    "duration": 11,
    "start_time": "2022-03-26T09:51:17.146Z"
   },
   {
    "duration": 9,
    "start_time": "2022-03-26T09:51:17.159Z"
   },
   {
    "duration": 9,
    "start_time": "2022-03-26T09:51:17.170Z"
   },
   {
    "duration": 11,
    "start_time": "2022-03-26T09:51:17.181Z"
   },
   {
    "duration": 49,
    "start_time": "2022-03-26T09:51:17.193Z"
   },
   {
    "duration": 22,
    "start_time": "2022-03-26T09:51:17.243Z"
   },
   {
    "duration": 19,
    "start_time": "2022-03-26T09:51:17.267Z"
   },
   {
    "duration": 78,
    "start_time": "2022-03-26T09:51:17.288Z"
   },
   {
    "duration": 37,
    "start_time": "2022-03-26T09:51:17.368Z"
   },
   {
    "duration": 26,
    "start_time": "2022-03-26T09:51:17.407Z"
   },
   {
    "duration": 56,
    "start_time": "2022-03-26T09:51:17.435Z"
   },
   {
    "duration": 14,
    "start_time": "2022-03-26T09:51:17.492Z"
   },
   {
    "duration": 39,
    "start_time": "2022-03-26T09:51:17.508Z"
   },
   {
    "duration": 17,
    "start_time": "2022-03-26T09:51:17.549Z"
   },
   {
    "duration": 17,
    "start_time": "2022-03-26T09:51:17.570Z"
   },
   {
    "duration": 53,
    "start_time": "2022-03-26T09:51:17.588Z"
   },
   {
    "duration": 33,
    "start_time": "2022-03-26T09:51:17.643Z"
   },
   {
    "duration": 32,
    "start_time": "2022-03-26T09:51:17.678Z"
   },
   {
    "duration": 30,
    "start_time": "2022-03-26T09:51:17.732Z"
   },
   {
    "duration": 30,
    "start_time": "2022-03-26T09:51:17.764Z"
   },
   {
    "duration": 16,
    "start_time": "2022-03-26T09:54:38.118Z"
   },
   {
    "duration": 436,
    "start_time": "2022-03-26T10:00:01.859Z"
   },
   {
    "duration": 93,
    "start_time": "2022-03-26T10:00:02.298Z"
   },
   {
    "duration": 18,
    "start_time": "2022-03-26T10:00:02.393Z"
   },
   {
    "duration": 36,
    "start_time": "2022-03-26T10:00:02.414Z"
   },
   {
    "duration": 48,
    "start_time": "2022-03-26T10:00:02.452Z"
   },
   {
    "duration": 37,
    "start_time": "2022-03-26T10:00:02.502Z"
   },
   {
    "duration": 39,
    "start_time": "2022-03-26T10:00:02.542Z"
   },
   {
    "duration": 64,
    "start_time": "2022-03-26T10:00:02.583Z"
   },
   {
    "duration": 58,
    "start_time": "2022-03-26T10:00:02.649Z"
   },
   {
    "duration": 33,
    "start_time": "2022-03-26T10:00:02.710Z"
   },
   {
    "duration": 62,
    "start_time": "2022-03-26T10:00:02.745Z"
   },
   {
    "duration": 34,
    "start_time": "2022-03-26T10:00:02.808Z"
   },
   {
    "duration": 41,
    "start_time": "2022-03-26T10:00:02.844Z"
   },
   {
    "duration": 79,
    "start_time": "2022-03-26T10:00:02.887Z"
   },
   {
    "duration": 77,
    "start_time": "2022-03-26T10:00:02.967Z"
   },
   {
    "duration": 92,
    "start_time": "2022-03-26T10:00:03.047Z"
   },
   {
    "duration": 105,
    "start_time": "2022-03-26T10:00:03.141Z"
   },
   {
    "duration": 109,
    "start_time": "2022-03-26T10:00:03.248Z"
   },
   {
    "duration": 45,
    "start_time": "2022-03-26T10:00:03.359Z"
   },
   {
    "duration": 43,
    "start_time": "2022-03-26T10:00:03.407Z"
   },
   {
    "duration": 45,
    "start_time": "2022-03-26T10:00:03.452Z"
   },
   {
    "duration": 45,
    "start_time": "2022-03-26T10:00:03.499Z"
   },
   {
    "duration": 8,
    "start_time": "2022-03-26T10:00:03.546Z"
   },
   {
    "duration": 73,
    "start_time": "2022-03-26T10:00:03.556Z"
   },
   {
    "duration": 31,
    "start_time": "2022-03-26T10:00:03.631Z"
   },
   {
    "duration": 24,
    "start_time": "2022-03-26T10:00:03.664Z"
   },
   {
    "duration": 22,
    "start_time": "2022-03-26T10:00:03.690Z"
   },
   {
    "duration": 25,
    "start_time": "2022-03-26T10:00:03.718Z"
   },
   {
    "duration": 29,
    "start_time": "2022-03-26T10:00:03.746Z"
   },
   {
    "duration": 53,
    "start_time": "2022-03-26T10:00:03.777Z"
   },
   {
    "duration": 37,
    "start_time": "2022-03-26T10:00:03.832Z"
   },
   {
    "duration": 33,
    "start_time": "2022-03-26T10:00:03.871Z"
   },
   {
    "duration": 55,
    "start_time": "2022-03-26T10:00:03.906Z"
   },
   {
    "duration": 35,
    "start_time": "2022-03-26T10:01:13.509Z"
   },
   {
    "duration": 11,
    "start_time": "2022-03-26T10:21:18.549Z"
   },
   {
    "duration": 13,
    "start_time": "2022-03-26T10:21:22.828Z"
   },
   {
    "duration": 431,
    "start_time": "2022-03-26T10:21:27.848Z"
   },
   {
    "duration": 91,
    "start_time": "2022-03-26T10:21:28.281Z"
   },
   {
    "duration": 20,
    "start_time": "2022-03-26T10:21:28.374Z"
   },
   {
    "duration": 61,
    "start_time": "2022-03-26T10:21:28.397Z"
   },
   {
    "duration": 4,
    "start_time": "2022-03-26T10:21:28.461Z"
   },
   {
    "duration": 19,
    "start_time": "2022-03-26T10:21:28.468Z"
   },
   {
    "duration": 47,
    "start_time": "2022-03-26T10:21:28.489Z"
   },
   {
    "duration": 8,
    "start_time": "2022-03-26T10:21:28.539Z"
   },
   {
    "duration": 11,
    "start_time": "2022-03-26T10:21:28.549Z"
   },
   {
    "duration": 7,
    "start_time": "2022-03-26T10:21:28.564Z"
   },
   {
    "duration": 13,
    "start_time": "2022-03-26T10:21:28.573Z"
   },
   {
    "duration": 43,
    "start_time": "2022-03-26T10:21:28.588Z"
   },
   {
    "duration": 6,
    "start_time": "2022-03-26T10:21:28.633Z"
   },
   {
    "duration": 13,
    "start_time": "2022-03-26T10:21:28.640Z"
   },
   {
    "duration": 10,
    "start_time": "2022-03-26T10:21:28.655Z"
   },
   {
    "duration": 10,
    "start_time": "2022-03-26T10:21:28.667Z"
   },
   {
    "duration": 58,
    "start_time": "2022-03-26T10:21:28.679Z"
   },
   {
    "duration": 10,
    "start_time": "2022-03-26T10:21:28.739Z"
   },
   {
    "duration": 21,
    "start_time": "2022-03-26T10:21:28.750Z"
   },
   {
    "duration": 19,
    "start_time": "2022-03-26T10:21:28.773Z"
   },
   {
    "duration": 67,
    "start_time": "2022-03-26T10:21:28.793Z"
   },
   {
    "duration": 32,
    "start_time": "2022-03-26T10:21:28.862Z"
   },
   {
    "duration": 8,
    "start_time": "2022-03-26T10:21:28.896Z"
   },
   {
    "duration": 76,
    "start_time": "2022-03-26T10:21:28.905Z"
   },
   {
    "duration": 16,
    "start_time": "2022-03-26T10:21:28.983Z"
   },
   {
    "duration": 46,
    "start_time": "2022-03-26T10:21:29.001Z"
   },
   {
    "duration": 18,
    "start_time": "2022-03-26T10:21:29.050Z"
   },
   {
    "duration": 18,
    "start_time": "2022-03-26T10:21:29.073Z"
   },
   {
    "duration": 17,
    "start_time": "2022-03-26T10:21:29.133Z"
   },
   {
    "duration": 31,
    "start_time": "2022-03-26T10:21:29.153Z"
   },
   {
    "duration": 62,
    "start_time": "2022-03-26T10:21:29.186Z"
   },
   {
    "duration": 29,
    "start_time": "2022-03-26T10:21:29.250Z"
   },
   {
    "duration": 55,
    "start_time": "2022-03-26T10:21:29.281Z"
   },
   {
    "duration": 9,
    "start_time": "2022-03-26T10:23:59.546Z"
   },
   {
    "duration": 436,
    "start_time": "2022-03-26T10:28:54.370Z"
   },
   {
    "duration": 97,
    "start_time": "2022-03-26T10:28:54.809Z"
   },
   {
    "duration": 25,
    "start_time": "2022-03-26T10:28:54.908Z"
   },
   {
    "duration": 43,
    "start_time": "2022-03-26T10:28:54.936Z"
   },
   {
    "duration": 4,
    "start_time": "2022-03-26T10:28:54.981Z"
   },
   {
    "duration": 18,
    "start_time": "2022-03-26T10:28:54.987Z"
   },
   {
    "duration": 34,
    "start_time": "2022-03-26T10:28:55.033Z"
   },
   {
    "duration": 8,
    "start_time": "2022-03-26T10:28:55.069Z"
   },
   {
    "duration": 26,
    "start_time": "2022-03-26T10:28:55.080Z"
   },
   {
    "duration": 11,
    "start_time": "2022-03-26T10:28:55.131Z"
   },
   {
    "duration": 16,
    "start_time": "2022-03-26T10:28:55.144Z"
   },
   {
    "duration": 8,
    "start_time": "2022-03-26T10:28:55.162Z"
   },
   {
    "duration": 9,
    "start_time": "2022-03-26T10:28:55.173Z"
   },
   {
    "duration": 49,
    "start_time": "2022-03-26T10:28:55.184Z"
   },
   {
    "duration": 16,
    "start_time": "2022-03-26T10:28:55.236Z"
   },
   {
    "duration": 11,
    "start_time": "2022-03-26T10:28:55.254Z"
   },
   {
    "duration": 16,
    "start_time": "2022-03-26T10:28:55.267Z"
   },
   {
    "duration": 49,
    "start_time": "2022-03-26T10:28:55.286Z"
   },
   {
    "duration": 23,
    "start_time": "2022-03-26T10:28:55.338Z"
   },
   {
    "duration": 23,
    "start_time": "2022-03-26T10:28:55.364Z"
   },
   {
    "duration": 68,
    "start_time": "2022-03-26T10:28:55.389Z"
   },
   {
    "duration": 37,
    "start_time": "2022-03-26T10:28:55.459Z"
   },
   {
    "duration": 34,
    "start_time": "2022-03-26T10:28:55.498Z"
   },
   {
    "duration": 63,
    "start_time": "2022-03-26T10:28:55.535Z"
   },
   {
    "duration": 41,
    "start_time": "2022-03-26T10:28:55.600Z"
   },
   {
    "duration": 17,
    "start_time": "2022-03-26T10:28:55.644Z"
   },
   {
    "duration": 21,
    "start_time": "2022-03-26T10:28:55.664Z"
   },
   {
    "duration": 58,
    "start_time": "2022-03-26T10:28:55.689Z"
   },
   {
    "duration": 27,
    "start_time": "2022-03-26T10:28:55.749Z"
   },
   {
    "duration": 39,
    "start_time": "2022-03-26T10:28:55.778Z"
   },
   {
    "duration": 38,
    "start_time": "2022-03-26T10:28:55.831Z"
   },
   {
    "duration": 34,
    "start_time": "2022-03-26T10:28:55.870Z"
   },
   {
    "duration": 40,
    "start_time": "2022-03-26T10:28:55.931Z"
   },
   {
    "duration": 19,
    "start_time": "2022-03-26T10:30:30.844Z"
   },
   {
    "duration": 15,
    "start_time": "2022-03-26T10:30:32.890Z"
   },
   {
    "duration": 20,
    "start_time": "2022-03-26T10:30:38.005Z"
   },
   {
    "duration": 34,
    "start_time": "2022-03-26T10:30:39.725Z"
   },
   {
    "duration": 20,
    "start_time": "2022-03-26T10:30:45.982Z"
   },
   {
    "duration": 28,
    "start_time": "2022-03-26T10:30:50.051Z"
   },
   {
    "duration": 43,
    "start_time": "2022-03-26T10:30:51.953Z"
   },
   {
    "duration": 24,
    "start_time": "2022-03-26T10:30:57.005Z"
   },
   {
    "duration": 34,
    "start_time": "2022-03-26T10:31:00.451Z"
   },
   {
    "duration": 41,
    "start_time": "2022-03-26T10:31:36.524Z"
   },
   {
    "duration": 405,
    "start_time": "2022-03-26T10:32:18.168Z"
   },
   {
    "duration": 101,
    "start_time": "2022-03-26T10:32:18.575Z"
   },
   {
    "duration": 17,
    "start_time": "2022-03-26T10:32:18.678Z"
   },
   {
    "duration": 56,
    "start_time": "2022-03-26T10:32:18.698Z"
   },
   {
    "duration": 3,
    "start_time": "2022-03-26T10:32:18.756Z"
   },
   {
    "duration": 17,
    "start_time": "2022-03-26T10:32:18.761Z"
   },
   {
    "duration": 24,
    "start_time": "2022-03-26T10:32:18.780Z"
   },
   {
    "duration": 11,
    "start_time": "2022-03-26T10:32:18.835Z"
   },
   {
    "duration": 11,
    "start_time": "2022-03-26T10:32:18.848Z"
   },
   {
    "duration": 7,
    "start_time": "2022-03-26T10:32:18.862Z"
   },
   {
    "duration": 11,
    "start_time": "2022-03-26T10:32:18.871Z"
   },
   {
    "duration": 12,
    "start_time": "2022-03-26T10:32:18.884Z"
   },
   {
    "duration": 41,
    "start_time": "2022-03-26T10:32:18.898Z"
   },
   {
    "duration": 20,
    "start_time": "2022-03-26T10:32:18.940Z"
   },
   {
    "duration": 19,
    "start_time": "2022-03-26T10:32:18.962Z"
   },
   {
    "duration": 13,
    "start_time": "2022-03-26T10:32:18.982Z"
   },
   {
    "duration": 13,
    "start_time": "2022-03-26T10:32:18.997Z"
   },
   {
    "duration": 37,
    "start_time": "2022-03-26T10:32:19.012Z"
   },
   {
    "duration": 20,
    "start_time": "2022-03-26T10:32:19.051Z"
   },
   {
    "duration": 19,
    "start_time": "2022-03-26T10:32:19.073Z"
   },
   {
    "duration": 71,
    "start_time": "2022-03-26T10:32:19.094Z"
   },
   {
    "duration": 31,
    "start_time": "2022-03-26T10:32:19.167Z"
   },
   {
    "duration": 6,
    "start_time": "2022-03-26T10:32:19.200Z"
   },
   {
    "duration": 73,
    "start_time": "2022-03-26T10:32:19.208Z"
   },
   {
    "duration": 13,
    "start_time": "2022-03-26T10:32:19.283Z"
   },
   {
    "duration": 49,
    "start_time": "2022-03-26T10:32:19.298Z"
   },
   {
    "duration": 17,
    "start_time": "2022-03-26T10:32:19.349Z"
   },
   {
    "duration": 16,
    "start_time": "2022-03-26T10:32:19.370Z"
   },
   {
    "duration": 52,
    "start_time": "2022-03-26T10:32:19.388Z"
   },
   {
    "duration": 31,
    "start_time": "2022-03-26T10:32:19.442Z"
   },
   {
    "duration": 32,
    "start_time": "2022-03-26T10:32:19.475Z"
   },
   {
    "duration": 55,
    "start_time": "2022-03-26T10:32:19.508Z"
   },
   {
    "duration": 31,
    "start_time": "2022-03-26T10:32:19.565Z"
   },
   {
    "duration": 494,
    "start_time": "2022-03-26T10:37:32.604Z"
   },
   {
    "duration": 114,
    "start_time": "2022-03-26T10:37:33.100Z"
   },
   {
    "duration": 23,
    "start_time": "2022-03-26T10:37:33.216Z"
   },
   {
    "duration": 39,
    "start_time": "2022-03-26T10:37:33.241Z"
   },
   {
    "duration": 4,
    "start_time": "2022-03-26T10:37:33.283Z"
   },
   {
    "duration": 17,
    "start_time": "2022-03-26T10:37:33.289Z"
   },
   {
    "duration": 32,
    "start_time": "2022-03-26T10:37:33.331Z"
   },
   {
    "duration": 10,
    "start_time": "2022-03-26T10:37:33.365Z"
   },
   {
    "duration": 11,
    "start_time": "2022-03-26T10:37:33.377Z"
   },
   {
    "duration": 7,
    "start_time": "2022-03-26T10:37:33.392Z"
   },
   {
    "duration": 14,
    "start_time": "2022-03-26T10:37:33.431Z"
   },
   {
    "duration": 7,
    "start_time": "2022-03-26T10:37:33.447Z"
   },
   {
    "duration": 11,
    "start_time": "2022-03-26T10:37:33.456Z"
   },
   {
    "duration": 15,
    "start_time": "2022-03-26T10:37:33.469Z"
   },
   {
    "duration": 9,
    "start_time": "2022-03-26T10:37:33.486Z"
   },
   {
    "duration": 41,
    "start_time": "2022-03-26T10:37:33.497Z"
   },
   {
    "duration": 15,
    "start_time": "2022-03-26T10:37:33.541Z"
   },
   {
    "duration": 11,
    "start_time": "2022-03-26T10:37:33.559Z"
   },
   {
    "duration": 19,
    "start_time": "2022-03-26T10:37:33.572Z"
   },
   {
    "duration": 56,
    "start_time": "2022-03-26T10:37:33.594Z"
   },
   {
    "duration": 41,
    "start_time": "2022-03-26T10:37:33.652Z"
   },
   {
    "duration": 52,
    "start_time": "2022-03-26T10:37:33.695Z"
   },
   {
    "duration": 8,
    "start_time": "2022-03-26T10:37:33.749Z"
   },
   {
    "duration": 76,
    "start_time": "2022-03-26T10:37:33.759Z"
   },
   {
    "duration": 20,
    "start_time": "2022-03-26T10:37:33.837Z"
   },
   {
    "duration": 18,
    "start_time": "2022-03-26T10:37:33.860Z"
   },
   {
    "duration": 19,
    "start_time": "2022-03-26T10:37:33.880Z"
   },
   {
    "duration": 25,
    "start_time": "2022-03-26T10:37:33.931Z"
   },
   {
    "duration": 29,
    "start_time": "2022-03-26T10:37:33.959Z"
   },
   {
    "duration": 68,
    "start_time": "2022-03-26T10:37:33.991Z"
   },
   {
    "duration": 34,
    "start_time": "2022-03-26T10:37:34.061Z"
   },
   {
    "duration": 52,
    "start_time": "2022-03-26T10:37:34.096Z"
   },
   {
    "duration": 34,
    "start_time": "2022-03-26T10:37:34.150Z"
   },
   {
    "duration": 503,
    "start_time": "2022-03-26T19:53:07.210Z"
   },
   {
    "duration": 215,
    "start_time": "2022-03-26T19:53:07.715Z"
   },
   {
    "duration": 29,
    "start_time": "2022-03-26T19:53:07.933Z"
   },
   {
    "duration": 49,
    "start_time": "2022-03-26T19:53:08.002Z"
   },
   {
    "duration": 5,
    "start_time": "2022-03-26T19:53:08.054Z"
   },
   {
    "duration": 29,
    "start_time": "2022-03-26T19:53:08.061Z"
   },
   {
    "duration": 34,
    "start_time": "2022-03-26T19:53:08.092Z"
   },
   {
    "duration": 11,
    "start_time": "2022-03-26T19:53:08.141Z"
   },
   {
    "duration": 13,
    "start_time": "2022-03-26T19:53:08.191Z"
   },
   {
    "duration": 21,
    "start_time": "2022-03-26T19:53:08.207Z"
   },
   {
    "duration": 9,
    "start_time": "2022-03-26T19:53:08.230Z"
   },
   {
    "duration": 52,
    "start_time": "2022-03-26T19:53:08.241Z"
   },
   {
    "duration": 12,
    "start_time": "2022-03-26T19:53:08.301Z"
   },
   {
    "duration": 10,
    "start_time": "2022-03-26T19:53:08.316Z"
   },
   {
    "duration": 14,
    "start_time": "2022-03-26T19:53:08.329Z"
   },
   {
    "duration": 51,
    "start_time": "2022-03-26T19:53:08.346Z"
   },
   {
    "duration": 16,
    "start_time": "2022-03-26T19:53:08.399Z"
   },
   {
    "duration": 23,
    "start_time": "2022-03-26T19:53:08.417Z"
   },
   {
    "duration": 63,
    "start_time": "2022-03-26T19:53:08.443Z"
   },
   {
    "duration": 81,
    "start_time": "2022-03-26T19:53:08.509Z"
   },
   {
    "duration": 48,
    "start_time": "2022-03-26T19:53:08.603Z"
   },
   {
    "duration": 30,
    "start_time": "2022-03-26T19:53:08.654Z"
   },
   {
    "duration": 77,
    "start_time": "2022-03-26T19:53:08.689Z"
   },
   {
    "duration": 31,
    "start_time": "2022-03-26T19:53:08.768Z"
   },
   {
    "duration": 24,
    "start_time": "2022-03-26T19:53:08.802Z"
   },
   {
    "duration": 24,
    "start_time": "2022-03-26T19:53:08.831Z"
   },
   {
    "duration": 33,
    "start_time": "2022-03-26T19:53:08.888Z"
   },
   {
    "duration": 21,
    "start_time": "2022-03-26T19:53:08.924Z"
   },
   {
    "duration": 80,
    "start_time": "2022-03-26T19:53:08.947Z"
   },
   {
    "duration": 75,
    "start_time": "2022-03-26T19:53:09.030Z"
   },
   {
    "duration": 55,
    "start_time": "2022-03-26T19:53:09.108Z"
   },
   {
    "duration": 68,
    "start_time": "2022-03-26T19:53:09.165Z"
   },
   {
    "duration": 101,
    "start_time": "2022-03-26T19:54:31.732Z"
   },
   {
    "duration": 13,
    "start_time": "2022-03-26T19:54:36.128Z"
   },
   {
    "duration": 46,
    "start_time": "2022-03-26T19:54:43.895Z"
   },
   {
    "duration": 64,
    "start_time": "2022-08-18T11:11:11.958Z"
   },
   {
    "duration": 382,
    "start_time": "2022-08-18T11:11:16.996Z"
   },
   {
    "duration": 149,
    "start_time": "2022-08-18T11:11:17.380Z"
   },
   {
    "duration": 14,
    "start_time": "2022-08-18T11:11:17.530Z"
   },
   {
    "duration": 29,
    "start_time": "2022-08-18T11:11:17.545Z"
   },
   {
    "duration": 4,
    "start_time": "2022-08-18T11:11:17.576Z"
   },
   {
    "duration": 31,
    "start_time": "2022-08-18T11:11:17.582Z"
   },
   {
    "duration": 23,
    "start_time": "2022-08-18T11:11:17.615Z"
   },
   {
    "duration": 6,
    "start_time": "2022-08-18T11:11:17.640Z"
   },
   {
    "duration": 9,
    "start_time": "2022-08-18T11:11:17.648Z"
   },
   {
    "duration": 7,
    "start_time": "2022-08-18T11:11:17.660Z"
   },
   {
    "duration": 51,
    "start_time": "2022-08-18T11:11:17.668Z"
   },
   {
    "duration": 13,
    "start_time": "2022-08-18T11:11:17.721Z"
   },
   {
    "duration": 5,
    "start_time": "2022-08-18T11:11:17.736Z"
   },
   {
    "duration": 10,
    "start_time": "2022-08-18T11:11:17.742Z"
   },
   {
    "duration": 8,
    "start_time": "2022-08-18T11:11:17.754Z"
   },
   {
    "duration": 10,
    "start_time": "2022-08-18T11:11:17.763Z"
   },
   {
    "duration": 32,
    "start_time": "2022-08-18T11:11:17.775Z"
   },
   {
    "duration": 13,
    "start_time": "2022-08-18T11:11:17.809Z"
   },
   {
    "duration": 17,
    "start_time": "2022-08-18T11:11:17.824Z"
   },
   {
    "duration": 16,
    "start_time": "2022-08-18T11:11:17.842Z"
   },
   {
    "duration": 17,
    "start_time": "2022-08-18T11:11:17.859Z"
   },
   {
    "duration": 56,
    "start_time": "2022-08-18T11:11:17.877Z"
   },
   {
    "duration": 30,
    "start_time": "2022-08-18T11:11:17.935Z"
   },
   {
    "duration": 6,
    "start_time": "2022-08-18T11:11:17.967Z"
   },
   {
    "duration": 70,
    "start_time": "2022-08-18T11:11:17.974Z"
   },
   {
    "duration": 12,
    "start_time": "2022-08-18T11:11:18.045Z"
   },
   {
    "duration": 15,
    "start_time": "2022-08-18T11:11:18.058Z"
   },
   {
    "duration": 35,
    "start_time": "2022-08-18T11:11:18.075Z"
   },
   {
    "duration": 17,
    "start_time": "2022-08-18T11:11:18.113Z"
   },
   {
    "duration": 11,
    "start_time": "2022-08-18T11:11:18.132Z"
   },
   {
    "duration": 30,
    "start_time": "2022-08-18T11:11:18.145Z"
   },
   {
    "duration": 52,
    "start_time": "2022-08-18T11:11:18.177Z"
   },
   {
    "duration": 25,
    "start_time": "2022-08-18T11:11:18.230Z"
   },
   {
    "duration": 26,
    "start_time": "2022-08-18T11:11:18.256Z"
   },
   {
    "duration": 12,
    "start_time": "2022-08-18T11:12:15.826Z"
   },
   {
    "duration": 56,
    "start_time": "2022-08-18T11:13:07.045Z"
   },
   {
    "duration": 23,
    "start_time": "2022-08-18T11:14:36.149Z"
   },
   {
    "duration": 410,
    "start_time": "2022-08-18T11:17:57.693Z"
   },
   {
    "duration": 99,
    "start_time": "2022-08-18T11:17:58.105Z"
   },
   {
    "duration": 16,
    "start_time": "2022-08-18T11:17:58.215Z"
   },
   {
    "duration": 29,
    "start_time": "2022-08-18T11:17:58.233Z"
   },
   {
    "duration": 4,
    "start_time": "2022-08-18T11:17:58.263Z"
   },
   {
    "duration": 14,
    "start_time": "2022-08-18T11:17:58.269Z"
   },
   {
    "duration": 41,
    "start_time": "2022-08-18T11:17:58.285Z"
   },
   {
    "duration": 6,
    "start_time": "2022-08-18T11:17:58.328Z"
   },
   {
    "duration": 8,
    "start_time": "2022-08-18T11:17:58.335Z"
   },
   {
    "duration": 7,
    "start_time": "2022-08-18T11:17:58.345Z"
   },
   {
    "duration": 10,
    "start_time": "2022-08-18T11:17:58.353Z"
   },
   {
    "duration": 7,
    "start_time": "2022-08-18T11:17:58.364Z"
   },
   {
    "duration": 35,
    "start_time": "2022-08-18T11:17:58.373Z"
   },
   {
    "duration": 9,
    "start_time": "2022-08-18T11:17:58.410Z"
   },
   {
    "duration": 12,
    "start_time": "2022-08-18T11:17:58.421Z"
   },
   {
    "duration": 10,
    "start_time": "2022-08-18T11:17:58.434Z"
   },
   {
    "duration": 14,
    "start_time": "2022-08-18T11:17:58.445Z"
   },
   {
    "duration": 9,
    "start_time": "2022-08-18T11:17:58.460Z"
   },
   {
    "duration": 41,
    "start_time": "2022-08-18T11:17:58.471Z"
   },
   {
    "duration": 16,
    "start_time": "2022-08-18T11:17:58.521Z"
   },
   {
    "duration": 32,
    "start_time": "2022-08-18T11:17:58.539Z"
   },
   {
    "duration": 50,
    "start_time": "2022-08-18T11:17:58.573Z"
   },
   {
    "duration": 8,
    "start_time": "2022-08-18T11:17:58.625Z"
   },
   {
    "duration": 50,
    "start_time": "2022-08-18T11:17:58.635Z"
   },
   {
    "duration": 31,
    "start_time": "2022-08-18T11:17:58.687Z"
   },
   {
    "duration": 24,
    "start_time": "2022-08-18T11:17:58.720Z"
   },
   {
    "duration": 15,
    "start_time": "2022-08-18T11:17:58.746Z"
   },
   {
    "duration": 13,
    "start_time": "2022-08-18T11:17:58.764Z"
   },
   {
    "duration": 22,
    "start_time": "2022-08-18T11:17:58.805Z"
   },
   {
    "duration": 29,
    "start_time": "2022-08-18T11:17:58.829Z"
   },
   {
    "duration": 26,
    "start_time": "2022-08-18T11:17:58.860Z"
   },
   {
    "duration": 46,
    "start_time": "2022-08-18T11:17:58.887Z"
   },
   {
    "duration": 27,
    "start_time": "2022-08-18T11:17:58.935Z"
   },
   {
    "duration": 401,
    "start_time": "2022-08-18T11:21:38.236Z"
   },
   {
    "duration": 85,
    "start_time": "2022-08-18T11:21:38.639Z"
   },
   {
    "duration": 19,
    "start_time": "2022-08-18T11:21:38.726Z"
   },
   {
    "duration": 31,
    "start_time": "2022-08-18T11:21:38.748Z"
   },
   {
    "duration": 3,
    "start_time": "2022-08-18T11:21:38.781Z"
   },
   {
    "duration": 12,
    "start_time": "2022-08-18T11:21:38.805Z"
   },
   {
    "duration": 29,
    "start_time": "2022-08-18T11:21:38.819Z"
   },
   {
    "duration": 9,
    "start_time": "2022-08-18T11:21:38.849Z"
   },
   {
    "duration": 10,
    "start_time": "2022-08-18T11:21:38.860Z"
   },
   {
    "duration": 34,
    "start_time": "2022-08-18T11:21:38.873Z"
   },
   {
    "duration": 9,
    "start_time": "2022-08-18T11:21:38.909Z"
   },
   {
    "duration": 7,
    "start_time": "2022-08-18T11:21:38.920Z"
   },
   {
    "duration": 7,
    "start_time": "2022-08-18T11:21:38.928Z"
   },
   {
    "duration": 7,
    "start_time": "2022-08-18T11:21:38.937Z"
   },
   {
    "duration": 9,
    "start_time": "2022-08-18T11:21:38.945Z"
   },
   {
    "duration": 8,
    "start_time": "2022-08-18T11:21:38.956Z"
   },
   {
    "duration": 42,
    "start_time": "2022-08-18T11:21:38.965Z"
   },
   {
    "duration": 10,
    "start_time": "2022-08-18T11:21:39.008Z"
   },
   {
    "duration": 18,
    "start_time": "2022-08-18T11:21:39.019Z"
   },
   {
    "duration": 21,
    "start_time": "2022-08-18T11:21:39.039Z"
   },
   {
    "duration": 61,
    "start_time": "2022-08-18T11:21:39.062Z"
   },
   {
    "duration": 28,
    "start_time": "2022-08-18T11:21:39.124Z"
   },
   {
    "duration": 7,
    "start_time": "2022-08-18T11:21:39.153Z"
   },
   {
    "duration": 63,
    "start_time": "2022-08-18T11:21:39.162Z"
   },
   {
    "duration": 13,
    "start_time": "2022-08-18T11:21:39.227Z"
   },
   {
    "duration": 15,
    "start_time": "2022-08-18T11:21:39.241Z"
   },
   {
    "duration": 14,
    "start_time": "2022-08-18T11:21:39.257Z"
   },
   {
    "duration": 45,
    "start_time": "2022-08-18T11:21:39.273Z"
   },
   {
    "duration": 12,
    "start_time": "2022-08-18T11:21:39.320Z"
   },
   {
    "duration": 28,
    "start_time": "2022-08-18T11:21:39.334Z"
   },
   {
    "duration": 46,
    "start_time": "2022-08-18T11:21:39.363Z"
   },
   {
    "duration": 26,
    "start_time": "2022-08-18T11:21:39.411Z"
   },
   {
    "duration": 28,
    "start_time": "2022-08-18T11:21:39.438Z"
   },
   {
    "duration": 455,
    "start_time": "2022-10-01T15:22:20.173Z"
   },
   {
    "duration": 189,
    "start_time": "2022-10-01T15:22:20.630Z"
   },
   {
    "duration": 20,
    "start_time": "2022-10-01T15:22:20.821Z"
   },
   {
    "duration": 38,
    "start_time": "2022-10-01T15:22:20.844Z"
   },
   {
    "duration": 3,
    "start_time": "2022-10-01T15:22:20.884Z"
   },
   {
    "duration": 33,
    "start_time": "2022-10-01T15:22:20.889Z"
   },
   {
    "duration": 39,
    "start_time": "2022-10-01T15:22:20.925Z"
   },
   {
    "duration": 9,
    "start_time": "2022-10-01T15:22:20.966Z"
   },
   {
    "duration": 9,
    "start_time": "2022-10-01T15:22:20.977Z"
   },
   {
    "duration": 17,
    "start_time": "2022-10-01T15:22:20.988Z"
   },
   {
    "duration": 29,
    "start_time": "2022-10-01T15:22:21.008Z"
   },
   {
    "duration": 6,
    "start_time": "2022-10-01T15:22:21.038Z"
   },
   {
    "duration": 11,
    "start_time": "2022-10-01T15:22:21.046Z"
   },
   {
    "duration": 8,
    "start_time": "2022-10-01T15:22:21.060Z"
   },
   {
    "duration": 12,
    "start_time": "2022-10-01T15:22:21.070Z"
   },
   {
    "duration": 25,
    "start_time": "2022-10-01T15:22:21.084Z"
   },
   {
    "duration": 35,
    "start_time": "2022-10-01T15:22:21.114Z"
   },
   {
    "duration": 10,
    "start_time": "2022-10-01T15:22:21.150Z"
   },
   {
    "duration": 19,
    "start_time": "2022-10-01T15:22:21.162Z"
   },
   {
    "duration": 27,
    "start_time": "2022-10-01T15:22:21.182Z"
   },
   {
    "duration": 39,
    "start_time": "2022-10-01T15:22:21.215Z"
   },
   {
    "duration": 30,
    "start_time": "2022-10-01T15:22:21.256Z"
   },
   {
    "duration": 11,
    "start_time": "2022-10-01T15:22:21.288Z"
   },
   {
    "duration": 58,
    "start_time": "2022-10-01T15:22:21.300Z"
   },
   {
    "duration": 38,
    "start_time": "2022-10-01T15:22:21.361Z"
   },
   {
    "duration": 24,
    "start_time": "2022-10-01T15:22:21.403Z"
   },
   {
    "duration": 17,
    "start_time": "2022-10-01T15:22:21.430Z"
   },
   {
    "duration": 15,
    "start_time": "2022-10-01T15:22:21.449Z"
   },
   {
    "duration": 44,
    "start_time": "2022-10-01T15:22:21.465Z"
   },
   {
    "duration": 50,
    "start_time": "2022-10-01T15:22:21.511Z"
   },
   {
    "duration": 34,
    "start_time": "2022-10-01T15:22:21.562Z"
   },
   {
    "duration": 45,
    "start_time": "2022-10-01T15:22:21.601Z"
   },
   {
    "duration": 32,
    "start_time": "2022-10-01T15:22:21.648Z"
   },
   {
    "duration": 460,
    "start_time": "2022-10-01T15:23:07.988Z"
   },
   {
    "duration": 101,
    "start_time": "2022-10-01T15:23:08.450Z"
   },
   {
    "duration": 16,
    "start_time": "2022-10-01T15:23:08.552Z"
   },
   {
    "duration": 57,
    "start_time": "2022-10-01T15:23:08.570Z"
   },
   {
    "duration": 4,
    "start_time": "2022-10-01T15:23:08.629Z"
   },
   {
    "duration": 16,
    "start_time": "2022-10-01T15:23:08.634Z"
   },
   {
    "duration": 22,
    "start_time": "2022-10-01T15:23:08.651Z"
   },
   {
    "duration": 35,
    "start_time": "2022-10-01T15:23:08.675Z"
   },
   {
    "duration": 17,
    "start_time": "2022-10-01T15:23:08.719Z"
   },
   {
    "duration": 8,
    "start_time": "2022-10-01T15:23:08.740Z"
   },
   {
    "duration": 11,
    "start_time": "2022-10-01T15:23:08.749Z"
   },
   {
    "duration": 4,
    "start_time": "2022-10-01T15:23:08.762Z"
   },
   {
    "duration": 7,
    "start_time": "2022-10-01T15:23:08.768Z"
   },
   {
    "duration": 31,
    "start_time": "2022-10-01T15:23:08.776Z"
   },
   {
    "duration": 35,
    "start_time": "2022-10-01T15:23:08.809Z"
   },
   {
    "duration": 10,
    "start_time": "2022-10-01T15:23:08.847Z"
   },
   {
    "duration": 11,
    "start_time": "2022-10-01T15:23:08.859Z"
   },
   {
    "duration": 9,
    "start_time": "2022-10-01T15:23:08.872Z"
   },
   {
    "duration": 21,
    "start_time": "2022-10-01T15:23:08.882Z"
   },
   {
    "duration": 23,
    "start_time": "2022-10-01T15:23:08.905Z"
   },
   {
    "duration": 32,
    "start_time": "2022-10-01T15:23:08.930Z"
   },
   {
    "duration": 56,
    "start_time": "2022-10-01T15:23:08.964Z"
   },
   {
    "duration": 7,
    "start_time": "2022-10-01T15:23:09.025Z"
   },
   {
    "duration": 47,
    "start_time": "2022-10-01T15:23:09.034Z"
   },
   {
    "duration": 29,
    "start_time": "2022-10-01T15:23:09.095Z"
   },
   {
    "duration": 24,
    "start_time": "2022-10-01T15:23:09.126Z"
   },
   {
    "duration": 17,
    "start_time": "2022-10-01T15:23:09.152Z"
   },
   {
    "duration": 15,
    "start_time": "2022-10-01T15:23:09.171Z"
   },
   {
    "duration": 30,
    "start_time": "2022-10-01T15:23:09.199Z"
   },
   {
    "duration": 29,
    "start_time": "2022-10-01T15:23:09.231Z"
   },
   {
    "duration": 53,
    "start_time": "2022-10-01T15:23:09.262Z"
   },
   {
    "duration": 29,
    "start_time": "2022-10-01T15:23:09.322Z"
   },
   {
    "duration": 30,
    "start_time": "2022-10-01T15:23:09.352Z"
   }
  ],
  "kernelspec": {
   "display_name": "Python 3 (ipykernel)",
   "language": "python",
   "name": "python3"
  },
  "language_info": {
   "codemirror_mode": {
    "name": "ipython",
    "version": 3
   },
   "file_extension": ".py",
   "mimetype": "text/x-python",
   "name": "python",
   "nbconvert_exporter": "python",
   "pygments_lexer": "ipython3",
   "version": "3.9.5"
  },
  "toc": {
   "base_numbering": 1,
   "nav_menu": {},
   "number_sections": true,
   "sideBar": true,
   "skip_h1_title": true,
   "title_cell": "Содержание",
   "title_sidebar": "Contents",
   "toc_cell": false,
   "toc_position": {},
   "toc_section_display": true,
   "toc_window_display": false
  }
 },
 "nbformat": 4,
 "nbformat_minor": 5
}
