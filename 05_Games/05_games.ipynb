{
 "cells": [
  {
   "cell_type": "markdown",
   "metadata": {},
   "source": [
    "# Прогнозирование закономерностей успешности игр для интернет-магазина"
   ]
  },
  {
   "cell_type": "markdown",
   "metadata": {},
   "source": [
    "**Описание проекта:**\n",
    "\n",
    "Интернет-магазин «Стримчик» продаёт по всему миру компьютерные игры. Из открытых источников доступны исторические данные о продажах игр, оценки пользователей и экспертов, жанры и платформы (например, Xbox или PlayStation). \n",
    "\n",
    "Даны данные до 2016 года. По условию проекта, сейча декабрь 2016 г., и планируется кампания на 2017-й. \n",
    "\n",
    "**Задача проекта:**\n",
    "\n",
    "Необходимо выявить определяющие успешность игры закономерности, что позволит сделать ставку на потенциально популярный продукт и спланировать рекламные кампании.\n",
    "\n",
    "**Описание данных:**\n",
    "\n",
    "* `Name` — название игры\n",
    "* `Platform` — платформа\n",
    "* `Year_of_Release` — год выпуска\n",
    "* `Genre` — жанр игры\n",
    "* `NA_sales` — продажи в Северной Америке (миллионы проданных копий)\n",
    "* `EU_sales` — продажи в Европе (миллионы проданных копий)\n",
    "* `JP_sales` — продажи в Японии (миллионы проданных копий)\n",
    "* `Other_sales` — продажи в других странах (миллионы проданных копий)\n",
    "* `Critic_Score` — оценка критиков (максимум 100)\n",
    "* `User_Score` — оценка пользователей (максимум 10)\n",
    "* `Rating` — рейтинг от организации ESRB (англ. Entertainment Software Rating Board). Эта ассоциация определяет рейтинг компьютерных игр и присваивает им подходящую возрастную категорию.\n",
    "\n",
    "**Проведем исследование по следующему плану:**\n",
    "\n",
    "* обзор данных\n",
    "* подготовка данных\n",
    "* исследовательякий анализ данных\n",
    "* портрет пользователя по регионам\n",
    "* проверка гипотез\n",
    "* общий вывод"
   ]
  },
  {
   "cell_type": "markdown",
   "metadata": {},
   "source": [
    "## Обзор данных"
   ]
  },
  {
   "cell_type": "code",
   "execution_count": 1,
   "metadata": {},
   "outputs": [],
   "source": [
    "# импортируем нужные нам в проекте библиотеки\n",
    "import pandas as pd\n",
    "import numpy as np\n",
    "import matplotlib.pyplot as plt\n",
    "import seaborn as sns\n",
    "import scipy.stats as st"
   ]
  },
  {
   "cell_type": "code",
   "execution_count": 2,
   "metadata": {},
   "outputs": [
    {
     "name": "stdout",
     "output_type": "stream",
     "text": [
      "<class 'pandas.core.frame.DataFrame'>\n",
      "RangeIndex: 16715 entries, 0 to 16714\n",
      "Data columns (total 11 columns):\n",
      " #   Column           Non-Null Count  Dtype  \n",
      "---  ------           --------------  -----  \n",
      " 0   Name             16713 non-null  object \n",
      " 1   Platform         16715 non-null  object \n",
      " 2   Year_of_Release  16446 non-null  float64\n",
      " 3   Genre            16713 non-null  object \n",
      " 4   NA_sales         16715 non-null  float64\n",
      " 5   EU_sales         16715 non-null  float64\n",
      " 6   JP_sales         16715 non-null  float64\n",
      " 7   Other_sales      16715 non-null  float64\n",
      " 8   Critic_Score     8137 non-null   float64\n",
      " 9   User_Score       10014 non-null  object \n",
      " 10  Rating           9949 non-null   object \n",
      "dtypes: float64(6), object(5)\n",
      "memory usage: 1.4+ MB\n"
     ]
    }
   ],
   "source": [
    "df = pd.read_csv('/datasets/games.csv')\n",
    "df.info()"
   ]
  },
  {
   "cell_type": "code",
   "execution_count": 3,
   "metadata": {},
   "outputs": [
    {
     "data": {
      "text/html": [
       "<div>\n",
       "<style scoped>\n",
       "    .dataframe tbody tr th:only-of-type {\n",
       "        vertical-align: middle;\n",
       "    }\n",
       "\n",
       "    .dataframe tbody tr th {\n",
       "        vertical-align: top;\n",
       "    }\n",
       "\n",
       "    .dataframe thead th {\n",
       "        text-align: right;\n",
       "    }\n",
       "</style>\n",
       "<table border=\"1\" class=\"dataframe\">\n",
       "  <thead>\n",
       "    <tr style=\"text-align: right;\">\n",
       "      <th></th>\n",
       "      <th>Name</th>\n",
       "      <th>Platform</th>\n",
       "      <th>Year_of_Release</th>\n",
       "      <th>Genre</th>\n",
       "      <th>NA_sales</th>\n",
       "      <th>EU_sales</th>\n",
       "      <th>JP_sales</th>\n",
       "      <th>Other_sales</th>\n",
       "      <th>Critic_Score</th>\n",
       "      <th>User_Score</th>\n",
       "      <th>Rating</th>\n",
       "    </tr>\n",
       "  </thead>\n",
       "  <tbody>\n",
       "    <tr>\n",
       "      <th>0</th>\n",
       "      <td>Wii Sports</td>\n",
       "      <td>Wii</td>\n",
       "      <td>2006.0</td>\n",
       "      <td>Sports</td>\n",
       "      <td>41.36</td>\n",
       "      <td>28.96</td>\n",
       "      <td>3.77</td>\n",
       "      <td>8.45</td>\n",
       "      <td>76.0</td>\n",
       "      <td>8</td>\n",
       "      <td>E</td>\n",
       "    </tr>\n",
       "    <tr>\n",
       "      <th>1</th>\n",
       "      <td>Super Mario Bros.</td>\n",
       "      <td>NES</td>\n",
       "      <td>1985.0</td>\n",
       "      <td>Platform</td>\n",
       "      <td>29.08</td>\n",
       "      <td>3.58</td>\n",
       "      <td>6.81</td>\n",
       "      <td>0.77</td>\n",
       "      <td>NaN</td>\n",
       "      <td>NaN</td>\n",
       "      <td>NaN</td>\n",
       "    </tr>\n",
       "    <tr>\n",
       "      <th>2</th>\n",
       "      <td>Mario Kart Wii</td>\n",
       "      <td>Wii</td>\n",
       "      <td>2008.0</td>\n",
       "      <td>Racing</td>\n",
       "      <td>15.68</td>\n",
       "      <td>12.76</td>\n",
       "      <td>3.79</td>\n",
       "      <td>3.29</td>\n",
       "      <td>82.0</td>\n",
       "      <td>8.3</td>\n",
       "      <td>E</td>\n",
       "    </tr>\n",
       "    <tr>\n",
       "      <th>3</th>\n",
       "      <td>Wii Sports Resort</td>\n",
       "      <td>Wii</td>\n",
       "      <td>2009.0</td>\n",
       "      <td>Sports</td>\n",
       "      <td>15.61</td>\n",
       "      <td>10.93</td>\n",
       "      <td>3.28</td>\n",
       "      <td>2.95</td>\n",
       "      <td>80.0</td>\n",
       "      <td>8</td>\n",
       "      <td>E</td>\n",
       "    </tr>\n",
       "    <tr>\n",
       "      <th>4</th>\n",
       "      <td>Pokemon Red/Pokemon Blue</td>\n",
       "      <td>GB</td>\n",
       "      <td>1996.0</td>\n",
       "      <td>Role-Playing</td>\n",
       "      <td>11.27</td>\n",
       "      <td>8.89</td>\n",
       "      <td>10.22</td>\n",
       "      <td>1.00</td>\n",
       "      <td>NaN</td>\n",
       "      <td>NaN</td>\n",
       "      <td>NaN</td>\n",
       "    </tr>\n",
       "  </tbody>\n",
       "</table>\n",
       "</div>"
      ],
      "text/plain": [
       "                       Name Platform  Year_of_Release         Genre  NA_sales  \\\n",
       "0                Wii Sports      Wii           2006.0        Sports     41.36   \n",
       "1         Super Mario Bros.      NES           1985.0      Platform     29.08   \n",
       "2            Mario Kart Wii      Wii           2008.0        Racing     15.68   \n",
       "3         Wii Sports Resort      Wii           2009.0        Sports     15.61   \n",
       "4  Pokemon Red/Pokemon Blue       GB           1996.0  Role-Playing     11.27   \n",
       "\n",
       "   EU_sales  JP_sales  Other_sales  Critic_Score User_Score Rating  \n",
       "0     28.96      3.77         8.45          76.0          8      E  \n",
       "1      3.58      6.81         0.77           NaN        NaN    NaN  \n",
       "2     12.76      3.79         3.29          82.0        8.3      E  \n",
       "3     10.93      3.28         2.95          80.0          8      E  \n",
       "4      8.89     10.22         1.00           NaN        NaN    NaN  "
      ]
     },
     "execution_count": 3,
     "metadata": {},
     "output_type": "execute_result"
    }
   ],
   "source": [
    "df.head()"
   ]
  },
  {
   "cell_type": "code",
   "execution_count": 4,
   "metadata": {},
   "outputs": [
    {
     "data": {
      "text/plain": [
       "Index(['Name', 'Platform', 'Year_of_Release', 'Genre', 'NA_sales', 'EU_sales',\n",
       "       'JP_sales', 'Other_sales', 'Critic_Score', 'User_Score', 'Rating'],\n",
       "      dtype='object')"
      ]
     },
     "execution_count": 4,
     "metadata": {},
     "output_type": "execute_result"
    }
   ],
   "source": [
    "df.columns"
   ]
  },
  {
   "cell_type": "markdown",
   "metadata": {},
   "source": [
    "**Вывод:**\n",
    "\n",
    "Необходимо разобраться со следующими моментами:\n",
    "- изменить названия колонок\n",
    "- изменить тип данных по столбцам, где это необходимо  \n",
    "- проверить значение tbd в `User_Score`\n",
    "- заполнить пропуски"
   ]
  },
  {
   "cell_type": "markdown",
   "metadata": {},
   "source": [
    "## Подготовка данных"
   ]
  },
  {
   "cell_type": "code",
   "execution_count": 5,
   "metadata": {},
   "outputs": [],
   "source": [
    "# приведем названия колонок к нижнему регистру\n",
    "df.columns = df.columns.str.lower()"
   ]
  },
  {
   "cell_type": "markdown",
   "metadata": {},
   "source": [
    "По столбцу `year_of_release` имеются пропуски, поэтому пока не можем поменять тип данных на целочисленный."
   ]
  },
  {
   "cell_type": "code",
   "execution_count": 6,
   "metadata": {},
   "outputs": [
    {
     "name": "stdout",
     "output_type": "stream",
     "text": [
      "Объем удаленных даных 1.61%\n"
     ]
    }
   ],
   "source": [
    "# проверим сколько данных будет потеряно, при удалении пустых строк\n",
    "print('Объем удаленных даных {0:.2%}'.format(df[df.year_of_release.isna()].shape[0]/df.shape[0]))"
   ]
  },
  {
   "cell_type": "code",
   "execution_count": 7,
   "metadata": {},
   "outputs": [],
   "source": [
    "# на выходе останется достаточно большой объем данных, поэтому смело удаляем пустые строки\n",
    "df.dropna(subset=['year_of_release'], inplace=True)\n",
    "df['year_of_release'] = df['year_of_release'].astype('int')"
   ]
  },
  {
   "cell_type": "markdown",
   "metadata": {},
   "source": [
    "В столбце `genre` имеются 2 пропуска, взглянем на них"
   ]
  },
  {
   "cell_type": "code",
   "execution_count": 8,
   "metadata": {},
   "outputs": [
    {
     "data": {
      "text/html": [
       "<div>\n",
       "<style scoped>\n",
       "    .dataframe tbody tr th:only-of-type {\n",
       "        vertical-align: middle;\n",
       "    }\n",
       "\n",
       "    .dataframe tbody tr th {\n",
       "        vertical-align: top;\n",
       "    }\n",
       "\n",
       "    .dataframe thead th {\n",
       "        text-align: right;\n",
       "    }\n",
       "</style>\n",
       "<table border=\"1\" class=\"dataframe\">\n",
       "  <thead>\n",
       "    <tr style=\"text-align: right;\">\n",
       "      <th></th>\n",
       "      <th>name</th>\n",
       "      <th>platform</th>\n",
       "      <th>year_of_release</th>\n",
       "      <th>genre</th>\n",
       "      <th>na_sales</th>\n",
       "      <th>eu_sales</th>\n",
       "      <th>jp_sales</th>\n",
       "      <th>other_sales</th>\n",
       "      <th>critic_score</th>\n",
       "      <th>user_score</th>\n",
       "      <th>rating</th>\n",
       "    </tr>\n",
       "  </thead>\n",
       "  <tbody>\n",
       "    <tr>\n",
       "      <th>659</th>\n",
       "      <td>NaN</td>\n",
       "      <td>GEN</td>\n",
       "      <td>1993</td>\n",
       "      <td>NaN</td>\n",
       "      <td>1.78</td>\n",
       "      <td>0.53</td>\n",
       "      <td>0.00</td>\n",
       "      <td>0.08</td>\n",
       "      <td>NaN</td>\n",
       "      <td>NaN</td>\n",
       "      <td>NaN</td>\n",
       "    </tr>\n",
       "    <tr>\n",
       "      <th>14244</th>\n",
       "      <td>NaN</td>\n",
       "      <td>GEN</td>\n",
       "      <td>1993</td>\n",
       "      <td>NaN</td>\n",
       "      <td>0.00</td>\n",
       "      <td>0.00</td>\n",
       "      <td>0.03</td>\n",
       "      <td>0.00</td>\n",
       "      <td>NaN</td>\n",
       "      <td>NaN</td>\n",
       "      <td>NaN</td>\n",
       "    </tr>\n",
       "  </tbody>\n",
       "</table>\n",
       "</div>"
      ],
      "text/plain": [
       "      name platform  year_of_release genre  na_sales  eu_sales  jp_sales  \\\n",
       "659    NaN      GEN             1993   NaN      1.78      0.53      0.00   \n",
       "14244  NaN      GEN             1993   NaN      0.00      0.00      0.03   \n",
       "\n",
       "       other_sales  critic_score user_score rating  \n",
       "659           0.08           NaN        NaN    NaN  \n",
       "14244         0.00           NaN        NaN    NaN  "
      ]
     },
     "execution_count": 8,
     "metadata": {},
     "output_type": "execute_result"
    }
   ],
   "source": [
    "df[df['genre'].isnull()]"
   ]
  },
  {
   "cell_type": "code",
   "execution_count": 9,
   "metadata": {},
   "outputs": [],
   "source": [
    "# видим минимальное количество информации, можем также удалять\n",
    "df.dropna(subset=['genre'], inplace=True)"
   ]
  },
  {
   "cell_type": "markdown",
   "metadata": {},
   "source": [
    "В столбце `user_score` содержится значения tbd. **TBD** - это аббревеатура от `to be determined` - переводится как \"Будет определено\". Будем считать эти значения пропущенными, поэтому их стоит заменить на NaN."
   ]
  },
  {
   "cell_type": "code",
   "execution_count": 10,
   "metadata": {},
   "outputs": [
    {
     "name": "stdout",
     "output_type": "stream",
     "text": [
      "<class 'pandas.core.frame.DataFrame'>\n",
      "Int64Index: 16444 entries, 0 to 16714\n",
      "Data columns (total 11 columns):\n",
      " #   Column           Non-Null Count  Dtype  \n",
      "---  ------           --------------  -----  \n",
      " 0   name             16444 non-null  object \n",
      " 1   platform         16444 non-null  object \n",
      " 2   year_of_release  16444 non-null  int64  \n",
      " 3   genre            16444 non-null  object \n",
      " 4   na_sales         16444 non-null  float64\n",
      " 5   eu_sales         16444 non-null  float64\n",
      " 6   jp_sales         16444 non-null  float64\n",
      " 7   other_sales      16444 non-null  float64\n",
      " 8   critic_score     7983 non-null   float64\n",
      " 9   user_score       7463 non-null   float64\n",
      " 10  rating           9768 non-null   object \n",
      "dtypes: float64(6), int64(1), object(4)\n",
      "memory usage: 1.5+ MB\n"
     ]
    }
   ],
   "source": [
    "df.loc[df['user_score']=='tbd', 'user_score'] = np.nan\n",
    "df['user_score'] = df['user_score'].astype('float')\n",
    "\n",
    "df.info()"
   ]
  },
  {
   "cell_type": "markdown",
   "metadata": {},
   "source": [
    "Пропущенные значения в столбцах `critic_score` и `user_score` являются субьективными оценками критиков и пользователей, поэтому заполнять будет некорректно. Оставим как есть."
   ]
  },
  {
   "cell_type": "code",
   "execution_count": 11,
   "metadata": {},
   "outputs": [
    {
     "data": {
      "text/plain": [
       "E       3921\n",
       "T       2905\n",
       "M       1536\n",
       "E10+    1393\n",
       "EC         8\n",
       "K-A        3\n",
       "RP         1\n",
       "AO         1\n",
       "Name: rating, dtype: int64"
      ]
     },
     "execution_count": 11,
     "metadata": {},
     "output_type": "execute_result"
    }
   ],
   "source": [
    "# посмотрим на значения по столбцу rating\n",
    "df.rating.value_counts()"
   ]
  },
  {
   "cell_type": "markdown",
   "metadata": {},
   "source": [
    "Изучим информацию о ESRB (https://ru.wikipedia.org/wiki/Entertainment_Software_Rating_Board).\n",
    "Имеются актуальных 7 категорий. \n",
    "\n",
    "* «EC» («Early childhood») — «Для детей младшего возраста»: Игра подходит для детей от 3 лет\n",
    "* «E» («Everyone») — «Для всех»: Содержание вполне подходит для возрастной категории от 6 лет.\n",
    "* «E10+» («Everyone 10 and older») — «Для всех от 10 лет и старше»\n",
    "* «T» («Teen») — «Подросткам» Игра подходит для лиц от 13 лет.\n",
    "* «M» («Mature») — «Для взрослых»: Материалы игры не подходят для подростков младше 17 лет\n",
    "* «AO» («Adults Only 18+») — «Только для взрослых»: Содержание игры только для взрослых старше 18 лет.\n",
    "* «RP» («Rating Pending») — «Рейтинг ожидается»:\n",
    "\n",
    "K-A for Kids to Adults: Games that contain content that is suitable for a general audience. This rating was used until the year 1998 when it renamed to E"
   ]
  },
  {
   "cell_type": "markdown",
   "metadata": {},
   "source": [
    "Исходя из прочитанного, становится ясно, что рейтинг ESRB изначально был создан для игровой индустрии США и Канады. \n",
    "Поэтому можно предположить, что наличие пропусков обусловленно просто отсутвием рейтинга для игр.\n",
    "Помимо этого нельзя отвергать варианты человеческого фактора, такие как невнимательность. А возможно кто-то нарочно не указал информацию!"
   ]
  },
  {
   "cell_type": "markdown",
   "metadata": {},
   "source": [
    "Внесем изменения в наш датафрейм на основании информации выше."
   ]
  },
  {
   "cell_type": "code",
   "execution_count": 12,
   "metadata": {
    "scrolled": true
   },
   "outputs": [
    {
     "data": {
      "text/plain": [
       "RP      6677\n",
       "E       3932\n",
       "T       2905\n",
       "M       1537\n",
       "E10+    1393\n",
       "Name: rating, dtype: int64"
      ]
     },
     "execution_count": 12,
     "metadata": {},
     "output_type": "execute_result"
    }
   ],
   "source": [
    "# заменим категорию `K-A` на `E`\n",
    "df.loc[df['rating']=='K-A','rating'] = 'E'\n",
    "# категорию `EC` на `E`\n",
    "df.loc[df['rating']=='EC','rating'] = 'E'\n",
    "# а категорию `AO` на `M`\n",
    "df.loc[df['rating']=='AO','rating'] = 'M'\n",
    "\n",
    "# пропущенные значения заполним `RP`, как `рейтинг неопределен`\n",
    "df.loc[df.loc[:,'rating'].isnull(),'rating'] = 'RP'\n",
    "\n",
    "df.rating.value_counts()"
   ]
  },
  {
   "cell_type": "code",
   "execution_count": 13,
   "metadata": {
    "scrolled": false
   },
   "outputs": [
    {
     "data": {
      "text/plain": [
       "0"
      ]
     },
     "execution_count": 13,
     "metadata": {},
     "output_type": "execute_result"
    }
   ],
   "source": [
    "# проверим наличие дубликатов\n",
    "df.duplicated().sum()"
   ]
  },
  {
   "cell_type": "code",
   "execution_count": 14,
   "metadata": {},
   "outputs": [
    {
     "data": {
      "text/html": [
       "<div>\n",
       "<style scoped>\n",
       "    .dataframe tbody tr th:only-of-type {\n",
       "        vertical-align: middle;\n",
       "    }\n",
       "\n",
       "    .dataframe tbody tr th {\n",
       "        vertical-align: top;\n",
       "    }\n",
       "\n",
       "    .dataframe thead th {\n",
       "        text-align: right;\n",
       "    }\n",
       "</style>\n",
       "<table border=\"1\" class=\"dataframe\">\n",
       "  <thead>\n",
       "    <tr style=\"text-align: right;\">\n",
       "      <th></th>\n",
       "      <th>name</th>\n",
       "      <th>platform</th>\n",
       "      <th>year_of_release</th>\n",
       "      <th>genre</th>\n",
       "      <th>na_sales</th>\n",
       "      <th>eu_sales</th>\n",
       "      <th>jp_sales</th>\n",
       "      <th>other_sales</th>\n",
       "      <th>critic_score</th>\n",
       "      <th>user_score</th>\n",
       "      <th>rating</th>\n",
       "      <th>total_sales</th>\n",
       "    </tr>\n",
       "  </thead>\n",
       "  <tbody>\n",
       "    <tr>\n",
       "      <th>0</th>\n",
       "      <td>Wii Sports</td>\n",
       "      <td>Wii</td>\n",
       "      <td>2006</td>\n",
       "      <td>Sports</td>\n",
       "      <td>41.36</td>\n",
       "      <td>28.96</td>\n",
       "      <td>3.77</td>\n",
       "      <td>8.45</td>\n",
       "      <td>76.0</td>\n",
       "      <td>8.0</td>\n",
       "      <td>E</td>\n",
       "      <td>82.54</td>\n",
       "    </tr>\n",
       "    <tr>\n",
       "      <th>1</th>\n",
       "      <td>Super Mario Bros.</td>\n",
       "      <td>NES</td>\n",
       "      <td>1985</td>\n",
       "      <td>Platform</td>\n",
       "      <td>29.08</td>\n",
       "      <td>3.58</td>\n",
       "      <td>6.81</td>\n",
       "      <td>0.77</td>\n",
       "      <td>NaN</td>\n",
       "      <td>NaN</td>\n",
       "      <td>RP</td>\n",
       "      <td>40.24</td>\n",
       "    </tr>\n",
       "    <tr>\n",
       "      <th>2</th>\n",
       "      <td>Mario Kart Wii</td>\n",
       "      <td>Wii</td>\n",
       "      <td>2008</td>\n",
       "      <td>Racing</td>\n",
       "      <td>15.68</td>\n",
       "      <td>12.76</td>\n",
       "      <td>3.79</td>\n",
       "      <td>3.29</td>\n",
       "      <td>82.0</td>\n",
       "      <td>8.3</td>\n",
       "      <td>E</td>\n",
       "      <td>35.52</td>\n",
       "    </tr>\n",
       "    <tr>\n",
       "      <th>3</th>\n",
       "      <td>Wii Sports Resort</td>\n",
       "      <td>Wii</td>\n",
       "      <td>2009</td>\n",
       "      <td>Sports</td>\n",
       "      <td>15.61</td>\n",
       "      <td>10.93</td>\n",
       "      <td>3.28</td>\n",
       "      <td>2.95</td>\n",
       "      <td>80.0</td>\n",
       "      <td>8.0</td>\n",
       "      <td>E</td>\n",
       "      <td>32.77</td>\n",
       "    </tr>\n",
       "    <tr>\n",
       "      <th>4</th>\n",
       "      <td>Pokemon Red/Pokemon Blue</td>\n",
       "      <td>GB</td>\n",
       "      <td>1996</td>\n",
       "      <td>Role-Playing</td>\n",
       "      <td>11.27</td>\n",
       "      <td>8.89</td>\n",
       "      <td>10.22</td>\n",
       "      <td>1.00</td>\n",
       "      <td>NaN</td>\n",
       "      <td>NaN</td>\n",
       "      <td>RP</td>\n",
       "      <td>31.38</td>\n",
       "    </tr>\n",
       "  </tbody>\n",
       "</table>\n",
       "</div>"
      ],
      "text/plain": [
       "                       name platform  year_of_release         genre  na_sales  \\\n",
       "0                Wii Sports      Wii             2006        Sports     41.36   \n",
       "1         Super Mario Bros.      NES             1985      Platform     29.08   \n",
       "2            Mario Kart Wii      Wii             2008        Racing     15.68   \n",
       "3         Wii Sports Resort      Wii             2009        Sports     15.61   \n",
       "4  Pokemon Red/Pokemon Blue       GB             1996  Role-Playing     11.27   \n",
       "\n",
       "   eu_sales  jp_sales  other_sales  critic_score  user_score rating  \\\n",
       "0     28.96      3.77         8.45          76.0         8.0      E   \n",
       "1      3.58      6.81         0.77           NaN         NaN     RP   \n",
       "2     12.76      3.79         3.29          82.0         8.3      E   \n",
       "3     10.93      3.28         2.95          80.0         8.0      E   \n",
       "4      8.89     10.22         1.00           NaN         NaN     RP   \n",
       "\n",
       "   total_sales  \n",
       "0        82.54  \n",
       "1        40.24  \n",
       "2        35.52  \n",
       "3        32.77  \n",
       "4        31.38  "
      ]
     },
     "execution_count": 14,
     "metadata": {},
     "output_type": "execute_result"
    }
   ],
   "source": [
    "# посчитаем суммарные продажи во всех регионах\n",
    "df['total_sales'] = df[['na_sales', 'eu_sales', 'jp_sales', 'other_sales']].sum(axis = 1)\n",
    "\n",
    "# посмотрим, что в итоге имеем\n",
    "df.head()"
   ]
  },
  {
   "cell_type": "markdown",
   "metadata": {},
   "source": [
    "**Вывод:**\n",
    "\n",
    "Что было сделано в этом блоке:\n",
    "* названия колонок приведены к единому регистру - нижнему \n",
    "* удалены пустые строки в столбцах `year_of_release` и `genre`\n",
    "* расшифровано значение абривеатуры **TBD** в столбце `user_score`, при этом значения заменены на **NaN**\n",
    "* заменены значения категории `K-A` и `EC` на `E` в столбце `rating`, а значения категории `AO` на `M`; пропущенные значения заполнены `RP`, как рейтинг неопределен\n",
    "* добавлен столбец `total_sales` с суммами продажи во всех регионах"
   ]
  },
  {
   "cell_type": "markdown",
   "metadata": {},
   "source": [
    "## Исследовательский анализ данных"
   ]
  },
  {
   "cell_type": "markdown",
   "metadata": {},
   "source": [
    "### Количество выпущенных игр в разные годы"
   ]
  },
  {
   "cell_type": "code",
   "execution_count": 15,
   "metadata": {},
   "outputs": [
    {
     "data": {
      "text/plain": [
       "2008    1427\n",
       "2009    1426\n",
       "2010    1255\n",
       "2007    1197\n",
       "2011    1136\n",
       "2006    1006\n",
       "2005     939\n",
       "2002     829\n",
       "2003     775\n",
       "2004     762\n",
       "2012     653\n",
       "2015     606\n",
       "2014     581\n",
       "2013     544\n",
       "2016     502\n",
       "2001     482\n",
       "1998     379\n",
       "2000     350\n",
       "1999     338\n",
       "1997     289\n",
       "1996     263\n",
       "1995     219\n",
       "1994     121\n",
       "1993      60\n",
       "1981      46\n",
       "1992      43\n",
       "1991      41\n",
       "1982      36\n",
       "1986      21\n",
       "1983      17\n",
       "1989      17\n",
       "1990      16\n",
       "1987      16\n",
       "1988      15\n",
       "1985      14\n",
       "1984      14\n",
       "1980       9\n",
       "Name: year_of_release, dtype: int64"
      ]
     },
     "execution_count": 15,
     "metadata": {},
     "output_type": "execute_result"
    }
   ],
   "source": [
    "# посмотрим сколько игр выпускалось в разные годы\n",
    "df['year_of_release'].value_counts()"
   ]
  },
  {
   "cell_type": "code",
   "execution_count": 16,
   "metadata": {
    "scrolled": true
   },
   "outputs": [
    {
     "data": {
      "image/png": "[encoded data removed]",
      "text/plain": [
       "<Figure size 1080x360 with 1 Axes>"
      ]
     },
     "metadata": {
      "needs_background": "light"
     },
     "output_type": "display_data"
    }
   ],
   "source": [
    "# построим график выпуска игр по годам\n",
    "total_games_for_all_time = df.pivot_table(index='year_of_release', values='name', aggfunc='count')\n",
    "plt.figure(figsize=(15,5))\n",
    "sns.lineplot(data=total_games_for_all_time)\n",
    "plt.title(\"Количество выпущенных игр в разные года\")\n",
    "plt.xlabel(\"Год выпуска\")\n",
    "plt.ylabel(\"Количество выпущенных игр\")\n",
    "plt.show()"
   ]
  },
  {
   "cell_type": "markdown",
   "metadata": {},
   "source": [
    "По графику видно, что:\n",
    "* после 1995 года начался буйный рост выпуска игр, в связи с развитием игровой индустрии на консолях и персональных компьютерах\n",
    "* с 2008 года начался спад, скорее всего связано с переносом акцента на мобильные платформы"
   ]
  },
  {
   "cell_type": "markdown",
   "metadata": {},
   "source": [
    "### Посмотрим, как менялись продажи по платформам"
   ]
  },
  {
   "cell_type": "code",
   "execution_count": 17,
   "metadata": {},
   "outputs": [
    {
     "data": {
      "image/png": "[encoded data removed]",
      "text/plain": [
       "<Figure size 1080x360 with 1 Axes>"
      ]
     },
     "metadata": {
      "needs_background": "light"
     },
     "output_type": "display_data"
    }
   ],
   "source": [
    "# подготовим сводную таблицу с суммарными продажами по всем платформам за все время и построим график\n",
    "sales_on_platform = df.pivot_table(index='platform', \n",
    "                                   values='total_sales', \n",
    "                                   aggfunc='sum').sort_values(by='total_sales', ascending=False)\n",
    "plt.figure(figsize=(15,5))\n",
    "sns.barplot(x=sales_on_platform.index,y=sales_on_platform['total_sales'])\n",
    "plt.title('Продажи по каждой платформе за все время')\n",
    "plt.ylabel('Количество продаж')\n",
    "plt.xlabel('Платформа')\n",
    "plt.show()"
   ]
  },
  {
   "cell_type": "code",
   "execution_count": 18,
   "metadata": {},
   "outputs": [],
   "source": [
    "# выберем платформы с наибольшими суммарными продажами \n",
    "top_10_platforms = df.groupby('platform').agg({'total_sales':'sum'}).sort_values(by = 'total_sales', \n",
    "                                                                                ascending = False)[:10].index"
   ]
  },
  {
   "cell_type": "code",
   "execution_count": 19,
   "metadata": {},
   "outputs": [
    {
     "data": {
      "text/html": [
       "<div>\n",
       "<style scoped>\n",
       "    .dataframe tbody tr th:only-of-type {\n",
       "        vertical-align: middle;\n",
       "    }\n",
       "\n",
       "    .dataframe tbody tr th {\n",
       "        vertical-align: top;\n",
       "    }\n",
       "\n",
       "    .dataframe thead th {\n",
       "        text-align: right;\n",
       "    }\n",
       "</style>\n",
       "<table border=\"1\" class=\"dataframe\">\n",
       "  <thead>\n",
       "    <tr style=\"text-align: right;\">\n",
       "      <th></th>\n",
       "      <th></th>\n",
       "      <th>total_sales</th>\n",
       "      <th>years</th>\n",
       "    </tr>\n",
       "    <tr>\n",
       "      <th>platform</th>\n",
       "      <th>year_of_release</th>\n",
       "      <th></th>\n",
       "      <th></th>\n",
       "    </tr>\n",
       "  </thead>\n",
       "  <tbody>\n",
       "    <tr>\n",
       "      <th rowspan=\"5\" valign=\"top\">2600</th>\n",
       "      <th>1980</th>\n",
       "      <td>11.38</td>\n",
       "      <td>1980</td>\n",
       "    </tr>\n",
       "    <tr>\n",
       "      <th>1981</th>\n",
       "      <td>35.68</td>\n",
       "      <td>1981</td>\n",
       "    </tr>\n",
       "    <tr>\n",
       "      <th>1982</th>\n",
       "      <td>28.88</td>\n",
       "      <td>1982</td>\n",
       "    </tr>\n",
       "    <tr>\n",
       "      <th>1983</th>\n",
       "      <td>5.84</td>\n",
       "      <td>1983</td>\n",
       "    </tr>\n",
       "    <tr>\n",
       "      <th>1984</th>\n",
       "      <td>0.27</td>\n",
       "      <td>1984</td>\n",
       "    </tr>\n",
       "    <tr>\n",
       "      <th>...</th>\n",
       "      <th>...</th>\n",
       "      <td>...</td>\n",
       "      <td>...</td>\n",
       "    </tr>\n",
       "    <tr>\n",
       "      <th>XB</th>\n",
       "      <th>2008</th>\n",
       "      <td>0.18</td>\n",
       "      <td>2008</td>\n",
       "    </tr>\n",
       "    <tr>\n",
       "      <th rowspan=\"4\" valign=\"top\">XOne</th>\n",
       "      <th>2013</th>\n",
       "      <td>18.96</td>\n",
       "      <td>2013</td>\n",
       "    </tr>\n",
       "    <tr>\n",
       "      <th>2014</th>\n",
       "      <td>54.07</td>\n",
       "      <td>2014</td>\n",
       "    </tr>\n",
       "    <tr>\n",
       "      <th>2015</th>\n",
       "      <td>60.14</td>\n",
       "      <td>2015</td>\n",
       "    </tr>\n",
       "    <tr>\n",
       "      <th>2016</th>\n",
       "      <td>26.15</td>\n",
       "      <td>2016</td>\n",
       "    </tr>\n",
       "  </tbody>\n",
       "</table>\n",
       "<p>238 rows × 2 columns</p>\n",
       "</div>"
      ],
      "text/plain": [
       "                          total_sales  years\n",
       "platform year_of_release                    \n",
       "2600     1980                   11.38   1980\n",
       "         1981                   35.68   1981\n",
       "         1982                   28.88   1982\n",
       "         1983                    5.84   1983\n",
       "         1984                    0.27   1984\n",
       "...                               ...    ...\n",
       "XB       2008                    0.18   2008\n",
       "XOne     2013                   18.96   2013\n",
       "         2014                   54.07   2014\n",
       "         2015                   60.14   2015\n",
       "         2016                   26.15   2016\n",
       "\n",
       "[238 rows x 2 columns]"
      ]
     },
     "execution_count": 19,
     "metadata": {},
     "output_type": "execute_result"
    }
   ],
   "source": [
    "# подготовим сводную таблицу сумаррных продаж по платформам и годам\n",
    "life_platforms = df.pivot_table(index=['platform','year_of_release'], values = 'total_sales', aggfunc = 'sum')\n",
    "life_platforms['years'] = life_platforms.index.tolist()\n",
    "life_platforms['years'] = life_platforms['years'].apply (lambda row: row[1]).astype('int')\n",
    "life_platforms"
   ]
  },
  {
   "cell_type": "code",
   "execution_count": 20,
   "metadata": {},
   "outputs": [
    {
     "data": {
      "image/png": "[encoded data removed]",
      "text/plain": [
       "<Figure size 1080x360 with 1 Axes>"
      ]
     },
     "metadata": {
      "needs_background": "light"
     },
     "output_type": "display_data"
    }
   ],
   "source": [
    "# отрисуем график периода \"жизни\" платформ\n",
    "fig, ax = plt.subplots(figsize =(15,5))\n",
    "for platform in top_10_platforms:\n",
    "    life_platforms.loc[platform].plot('years','total_sales',rot=50, ax=ax)\n",
    "ax.legend(top_10_platforms,prop = {'size':10})\n",
    "ax.set_xlim([1985,2017])\n",
    "ax.set_xticks(np.arange(1985,2017))\n",
    "ax.set_xticklabels(range(1985,2017))\n",
    "plt.title('Период \"жизни\" платформы')\n",
    "plt.xlabel('Год')\n",
    "plt.ylabel('Количество продаж')\n",
    "plt.show()"
   ]
  },
  {
   "cell_type": "markdown",
   "metadata": {},
   "source": [
    "* По графику видно, что платформы живут в среднем 10-11 лет.\n",
    "* Появляются новые платформы в интервале от 1 до 5 лет."
   ]
  },
  {
   "cell_type": "markdown",
   "metadata": {},
   "source": [
    "### Возьмем данные за соответствующий актуальный период"
   ]
  },
  {
   "cell_type": "markdown",
   "metadata": {},
   "source": [
    "Для дальнейшего анализа выберем данные за последние несколько лет, т.к. они отражают последние тенденции и на их основании можно сделать прогноз на 2017 год.\n",
    "\n",
    "Актуальным периодом будем считать 2014 - 2016 года."
   ]
  },
  {
   "cell_type": "code",
   "execution_count": 21,
   "metadata": {},
   "outputs": [
    {
     "data": {
      "text/html": [
       "<div>\n",
       "<style scoped>\n",
       "    .dataframe tbody tr th:only-of-type {\n",
       "        vertical-align: middle;\n",
       "    }\n",
       "\n",
       "    .dataframe tbody tr th {\n",
       "        vertical-align: top;\n",
       "    }\n",
       "\n",
       "    .dataframe thead th {\n",
       "        text-align: right;\n",
       "    }\n",
       "</style>\n",
       "<table border=\"1\" class=\"dataframe\">\n",
       "  <thead>\n",
       "    <tr style=\"text-align: right;\">\n",
       "      <th></th>\n",
       "      <th>name</th>\n",
       "      <th>platform</th>\n",
       "      <th>year_of_release</th>\n",
       "      <th>genre</th>\n",
       "      <th>na_sales</th>\n",
       "      <th>eu_sales</th>\n",
       "      <th>jp_sales</th>\n",
       "      <th>other_sales</th>\n",
       "      <th>critic_score</th>\n",
       "      <th>user_score</th>\n",
       "      <th>rating</th>\n",
       "      <th>total_sales</th>\n",
       "    </tr>\n",
       "  </thead>\n",
       "  <tbody>\n",
       "    <tr>\n",
       "      <th>31</th>\n",
       "      <td>Call of Duty: Black Ops 3</td>\n",
       "      <td>PS4</td>\n",
       "      <td>2015</td>\n",
       "      <td>Shooter</td>\n",
       "      <td>6.03</td>\n",
       "      <td>5.86</td>\n",
       "      <td>0.36</td>\n",
       "      <td>2.38</td>\n",
       "      <td>NaN</td>\n",
       "      <td>NaN</td>\n",
       "      <td>RP</td>\n",
       "      <td>14.63</td>\n",
       "    </tr>\n",
       "    <tr>\n",
       "      <th>42</th>\n",
       "      <td>Grand Theft Auto V</td>\n",
       "      <td>PS4</td>\n",
       "      <td>2014</td>\n",
       "      <td>Action</td>\n",
       "      <td>3.96</td>\n",
       "      <td>6.31</td>\n",
       "      <td>0.38</td>\n",
       "      <td>1.97</td>\n",
       "      <td>97.0</td>\n",
       "      <td>8.3</td>\n",
       "      <td>M</td>\n",
       "      <td>12.62</td>\n",
       "    </tr>\n",
       "    <tr>\n",
       "      <th>47</th>\n",
       "      <td>Pokemon Omega Ruby/Pokemon Alpha Sapphire</td>\n",
       "      <td>3DS</td>\n",
       "      <td>2014</td>\n",
       "      <td>Role-Playing</td>\n",
       "      <td>4.35</td>\n",
       "      <td>3.49</td>\n",
       "      <td>3.10</td>\n",
       "      <td>0.74</td>\n",
       "      <td>NaN</td>\n",
       "      <td>NaN</td>\n",
       "      <td>RP</td>\n",
       "      <td>11.68</td>\n",
       "    </tr>\n",
       "    <tr>\n",
       "      <th>77</th>\n",
       "      <td>FIFA 16</td>\n",
       "      <td>PS4</td>\n",
       "      <td>2015</td>\n",
       "      <td>Sports</td>\n",
       "      <td>1.12</td>\n",
       "      <td>6.12</td>\n",
       "      <td>0.06</td>\n",
       "      <td>1.28</td>\n",
       "      <td>82.0</td>\n",
       "      <td>4.3</td>\n",
       "      <td>E</td>\n",
       "      <td>8.58</td>\n",
       "    </tr>\n",
       "    <tr>\n",
       "      <th>87</th>\n",
       "      <td>Star Wars Battlefront (2015)</td>\n",
       "      <td>PS4</td>\n",
       "      <td>2015</td>\n",
       "      <td>Shooter</td>\n",
       "      <td>2.99</td>\n",
       "      <td>3.49</td>\n",
       "      <td>0.22</td>\n",
       "      <td>1.28</td>\n",
       "      <td>NaN</td>\n",
       "      <td>NaN</td>\n",
       "      <td>RP</td>\n",
       "      <td>7.98</td>\n",
       "    </tr>\n",
       "  </tbody>\n",
       "</table>\n",
       "</div>"
      ],
      "text/plain": [
       "                                         name platform  year_of_release  \\\n",
       "31                  Call of Duty: Black Ops 3      PS4             2015   \n",
       "42                         Grand Theft Auto V      PS4             2014   \n",
       "47  Pokemon Omega Ruby/Pokemon Alpha Sapphire      3DS             2014   \n",
       "77                                    FIFA 16      PS4             2015   \n",
       "87               Star Wars Battlefront (2015)      PS4             2015   \n",
       "\n",
       "           genre  na_sales  eu_sales  jp_sales  other_sales  critic_score  \\\n",
       "31       Shooter      6.03      5.86      0.36         2.38           NaN   \n",
       "42        Action      3.96      6.31      0.38         1.97          97.0   \n",
       "47  Role-Playing      4.35      3.49      3.10         0.74           NaN   \n",
       "77        Sports      1.12      6.12      0.06         1.28          82.0   \n",
       "87       Shooter      2.99      3.49      0.22         1.28           NaN   \n",
       "\n",
       "    user_score rating  total_sales  \n",
       "31         NaN     RP        14.63  \n",
       "42         8.3      M        12.62  \n",
       "47         NaN     RP        11.68  \n",
       "77         4.3      E         8.58  \n",
       "87         NaN     RP         7.98  "
      ]
     },
     "execution_count": 21,
     "metadata": {},
     "output_type": "execute_result"
    }
   ],
   "source": [
    "actual_period = df.query('(year_of_release >= 2014)')\n",
    "actual_period.head()"
   ]
  },
  {
   "cell_type": "code",
   "execution_count": 22,
   "metadata": {
    "scrolled": false
   },
   "outputs": [],
   "source": [
    "# сгруппируем данные\n",
    "platform_pivot = actual_period.pivot_table(index=['platform', 'year_of_release'], values=['total_sales'], aggfunc=['sum'])\n",
    "platform_pivot = platform_pivot.reset_index(level='year_of_release')\n",
    "platform_pivot.columns = ['year_of_release', 'total_sales']\n",
    "platform_pivot = platform_pivot.reset_index()\n",
    "platform_pivot = platform_pivot.pivot(index='year_of_release', columns='platform', values='total_sales')"
   ]
  },
  {
   "cell_type": "code",
   "execution_count": 23,
   "metadata": {},
   "outputs": [
    {
     "data": {
      "image/png": "[encoded data removed]",
      "text/plain": [
       "<Figure size 1080x576 with 1 Axes>"
      ]
     },
     "metadata": {
      "needs_background": "light"
     },
     "output_type": "display_data"
    }
   ],
   "source": [
    "# построим график\n",
    "fig, ax = plt.subplots()\n",
    "platform_pivot.plot(figsize=(15,8), ax=ax)\n",
    "plt.title('Продажи игр на платформах по годам')\n",
    "plt.xlabel('Год выпуска игры')\n",
    "plt.ylabel('Суммарные продажи')\n",
    "plt.xticks([2014, 2015, 2016])\n",
    "plt.show()"
   ]
  },
  {
   "cell_type": "code",
   "execution_count": 24,
   "metadata": {},
   "outputs": [
    {
     "data": {
      "text/html": [
       "<div>\n",
       "<style scoped>\n",
       "    .dataframe tbody tr th:only-of-type {\n",
       "        vertical-align: middle;\n",
       "    }\n",
       "\n",
       "    .dataframe tbody tr th {\n",
       "        vertical-align: top;\n",
       "    }\n",
       "\n",
       "    .dataframe thead th {\n",
       "        text-align: right;\n",
       "    }\n",
       "</style>\n",
       "<table border=\"1\" class=\"dataframe\">\n",
       "  <thead>\n",
       "    <tr style=\"text-align: right;\">\n",
       "      <th></th>\n",
       "      <th>total_sales</th>\n",
       "    </tr>\n",
       "    <tr>\n",
       "      <th>platform</th>\n",
       "      <th></th>\n",
       "    </tr>\n",
       "  </thead>\n",
       "  <tbody>\n",
       "    <tr>\n",
       "      <th>PS4</th>\n",
       "      <td>288.15</td>\n",
       "    </tr>\n",
       "    <tr>\n",
       "      <th>XOne</th>\n",
       "      <td>140.36</td>\n",
       "    </tr>\n",
       "    <tr>\n",
       "      <th>3DS</th>\n",
       "      <td>86.68</td>\n",
       "    </tr>\n",
       "  </tbody>\n",
       "</table>\n",
       "</div>"
      ],
      "text/plain": [
       "          total_sales\n",
       "platform             \n",
       "PS4            288.15\n",
       "XOne           140.36\n",
       "3DS             86.68"
      ]
     },
     "execution_count": 24,
     "metadata": {},
     "output_type": "execute_result"
    }
   ],
   "source": [
    "# посмотрим общую прибыль и выведем из них 3 наиболее перспективные платформы\n",
    "top_selling_platforms = actual_period.pivot_table(index='platform', values='total_sales', aggfunc='sum').sort_values(\n",
    "    by='total_sales', ascending=False)\n",
    "top_selling_platforms.head(3)"
   ]
  },
  {
   "cell_type": "markdown",
   "metadata": {},
   "source": [
    "Построим график «ящик с усами» по глобальным продажам игр в разбивке по платформам."
   ]
  },
  {
   "cell_type": "code",
   "execution_count": 25,
   "metadata": {
    "scrolled": false
   },
   "outputs": [
    {
     "data": {
      "image/png": "[encoded data removed]",
      "text/plain": [
       "<Figure size 1152x576 with 1 Axes>"
      ]
     },
     "metadata": {
      "needs_background": "light"
     },
     "output_type": "display_data"
    }
   ],
   "source": [
    "fig, ax = plt.subplots(figsize =(16,8))\n",
    "sns.boxplot(x = 'platform', \n",
    "            y = 'total_sales',\n",
    "            data = actual_period,ax=ax)  \n",
    "plt.ylim(0, 2)\n",
    "plt.title('Распределение продаж по платформам')\n",
    "plt.xlabel('Платформа')\n",
    "plt.ylabel('Суммарные продажи')\n",
    "plt.show()"
   ]
  },
  {
   "cell_type": "code",
   "execution_count": 26,
   "metadata": {},
   "outputs": [
    {
     "data": {
      "image/png": "[encoded data removed]",
      "text/plain": [
       "<Figure size 1152x576 with 1 Axes>"
      ]
     },
     "metadata": {
      "needs_background": "light"
     },
     "output_type": "display_data"
    }
   ],
   "source": [
    "fig, ax = plt.subplots(figsize =(16,8))\n",
    "sns.boxplot(x = 'platform', \n",
    "            y = 'total_sales',\n",
    "            data = actual_period,ax=ax)  \n",
    "plt.title('Распределение продаж по платформам')\n",
    "plt.xlabel('Платформа')\n",
    "plt.ylabel('Суммарные продажи')\n",
    "plt.show()"
   ]
  },
  {
   "cell_type": "markdown",
   "metadata": {},
   "source": [
    "Хоть мы и имеем неполные данные за 2016 год, можно сказать, что:\n",
    "* Продажи по всем платформам падают со временем. \n",
    "* PS4 и XOne до 2015 показывали рост продаж.\n",
    "* Наиболее пепрспективными платформами отчасти можно считать PS4, XOne, 3DS. Так как они сохраняют достаточно высокий уровень продаж."
   ]
  },
  {
   "cell_type": "markdown",
   "metadata": {},
   "source": [
    "### Посмотрим, как влияют на продажи внутри одной популярной платформы отзывы пользователей и критиков"
   ]
  },
  {
   "cell_type": "code",
   "execution_count": 27,
   "metadata": {},
   "outputs": [
    {
     "data": {
      "image/png": "[encoded data removed]",
      "text/plain": [
       "<Figure size 1080x360 with 2 Axes>"
      ]
     },
     "metadata": {
      "needs_background": "light"
     },
     "output_type": "display_data"
    }
   ],
   "source": [
    "# возьмем за основу данные по Play Station 4\n",
    "df_ps4 = actual_period.query('platform == \"PS4\"')\n",
    "\n",
    "# построим диаграммы рассеяния\n",
    "fig, ax = plt.subplots(1, 2)\n",
    "df_ps4.plot(x='user_score', y='total_sales', kind='scatter', alpha=0.5, ax=ax[0], figsize=(15,5))\n",
    "df_ps4.plot(x='critic_score', y='total_sales', kind='scatter', alpha=0.5, ax=ax[1], figsize=(15,5))\n",
    "\n",
    "ax[0].set_title('Зависимость продаж от оценок пользователей')\n",
    "ax[0].set_xlabel('Оценка пользователей')\n",
    "ax[0].set_ylabel('Суммарные продажи')\n",
    "ax[1].set_title('Зависимость продаж от оценок критиков')\n",
    "ax[1].set_xlabel('Оценка критиков')\n",
    "ax[1].set_ylabel('Суммарные продажи')\n",
    "plt.show()"
   ]
  },
  {
   "cell_type": "code",
   "execution_count": 28,
   "metadata": {
    "scrolled": true
   },
   "outputs": [
    {
     "data": {
      "text/html": [
       "<div>\n",
       "<style scoped>\n",
       "    .dataframe tbody tr th:only-of-type {\n",
       "        vertical-align: middle;\n",
       "    }\n",
       "\n",
       "    .dataframe tbody tr th {\n",
       "        vertical-align: top;\n",
       "    }\n",
       "\n",
       "    .dataframe thead th {\n",
       "        text-align: right;\n",
       "    }\n",
       "</style>\n",
       "<table border=\"1\" class=\"dataframe\">\n",
       "  <thead>\n",
       "    <tr style=\"text-align: right;\">\n",
       "      <th></th>\n",
       "      <th>user_score</th>\n",
       "      <th>critic_score</th>\n",
       "      <th>total_sales</th>\n",
       "    </tr>\n",
       "  </thead>\n",
       "  <tbody>\n",
       "    <tr>\n",
       "      <th>user_score</th>\n",
       "      <td>1.00</td>\n",
       "      <td>0.55</td>\n",
       "      <td>-0.04</td>\n",
       "    </tr>\n",
       "    <tr>\n",
       "      <th>critic_score</th>\n",
       "      <td>0.55</td>\n",
       "      <td>1.00</td>\n",
       "      <td>0.40</td>\n",
       "    </tr>\n",
       "    <tr>\n",
       "      <th>total_sales</th>\n",
       "      <td>-0.04</td>\n",
       "      <td>0.40</td>\n",
       "      <td>1.00</td>\n",
       "    </tr>\n",
       "  </tbody>\n",
       "</table>\n",
       "</div>"
      ],
      "text/plain": [
       "              user_score  critic_score  total_sales\n",
       "user_score          1.00          0.55        -0.04\n",
       "critic_score        0.55          1.00         0.40\n",
       "total_sales        -0.04          0.40         1.00"
      ]
     },
     "execution_count": 28,
     "metadata": {},
     "output_type": "execute_result"
    }
   ],
   "source": [
    "# посчитаем корреляцию между отзывами и продажами\n",
    "df_ps4[['user_score', 'critic_score', 'total_sales']].corr().round(2)"
   ]
  },
  {
   "cell_type": "markdown",
   "metadata": {},
   "source": [
    "* Для оценок пользователей Коэффициент Пирсона равен -0.04, ни о какой зависимости речи и не может идти.\n",
    "* Для оценок критиков Коэффициент Пирсона равен 0.4. Что оказывает довольно приличное влияние на продажи. "
   ]
  },
  {
   "cell_type": "markdown",
   "metadata": {},
   "source": [
    "Теперь рассмотрим 2 другие платформы."
   ]
  },
  {
   "cell_type": "code",
   "execution_count": 29,
   "metadata": {
    "scrolled": false
   },
   "outputs": [
    {
     "data": {
      "image/png": "[encoded data removed]",
      "text/plain": [
       "<Figure size 1080x360 with 2 Axes>"
      ]
     },
     "metadata": {
      "needs_background": "light"
     },
     "output_type": "display_data"
    }
   ],
   "source": [
    "# рассмотрим платформу Xbox One\n",
    "df_xone = actual_period.query('platform == \"XOne\"')\n",
    "\n",
    "# построим диаграмму рассеяния\n",
    "fig, ax = plt.subplots(1, 2)\n",
    "df_xone.plot(x='user_score', y='total_sales', kind='scatter', alpha=0.3, ax=ax[0], figsize=(15,5))\n",
    "df_xone.plot(x='critic_score', y='total_sales', kind='scatter', alpha=0.3, ax=ax[1], figsize=(15,5))\n",
    "\n",
    "ax[0].set_title('Зависимость продаж от оценок пользователей')\n",
    "ax[0].set_xlabel('Оценка пользователей')\n",
    "ax[0].set_ylabel('Суммарные продажи')\n",
    "ax[1].set_title('Зависимость продаж от оценок критиков')\n",
    "ax[1].set_xlabel('Оценка критиков')\n",
    "ax[1].set_ylabel('Суммарные продажи')\n",
    "plt.show()"
   ]
  },
  {
   "cell_type": "code",
   "execution_count": 30,
   "metadata": {
    "scrolled": false
   },
   "outputs": [
    {
     "data": {
      "text/html": [
       "<div>\n",
       "<style scoped>\n",
       "    .dataframe tbody tr th:only-of-type {\n",
       "        vertical-align: middle;\n",
       "    }\n",
       "\n",
       "    .dataframe tbody tr th {\n",
       "        vertical-align: top;\n",
       "    }\n",
       "\n",
       "    .dataframe thead th {\n",
       "        text-align: right;\n",
       "    }\n",
       "</style>\n",
       "<table border=\"1\" class=\"dataframe\">\n",
       "  <thead>\n",
       "    <tr style=\"text-align: right;\">\n",
       "      <th></th>\n",
       "      <th>user_score</th>\n",
       "      <th>critic_score</th>\n",
       "      <th>total_sales</th>\n",
       "    </tr>\n",
       "  </thead>\n",
       "  <tbody>\n",
       "    <tr>\n",
       "      <th>user_score</th>\n",
       "      <td>1.00</td>\n",
       "      <td>0.44</td>\n",
       "      <td>-0.07</td>\n",
       "    </tr>\n",
       "    <tr>\n",
       "      <th>critic_score</th>\n",
       "      <td>0.44</td>\n",
       "      <td>1.00</td>\n",
       "      <td>0.43</td>\n",
       "    </tr>\n",
       "    <tr>\n",
       "      <th>total_sales</th>\n",
       "      <td>-0.07</td>\n",
       "      <td>0.43</td>\n",
       "      <td>1.00</td>\n",
       "    </tr>\n",
       "  </tbody>\n",
       "</table>\n",
       "</div>"
      ],
      "text/plain": [
       "              user_score  critic_score  total_sales\n",
       "user_score          1.00          0.44        -0.07\n",
       "critic_score        0.44          1.00         0.43\n",
       "total_sales        -0.07          0.43         1.00"
      ]
     },
     "execution_count": 30,
     "metadata": {},
     "output_type": "execute_result"
    }
   ],
   "source": [
    "# посчитаем корреляцию между отзывами и продажами\n",
    "df_xone[['user_score', 'critic_score', 'total_sales']].corr().round(2)"
   ]
  },
  {
   "cell_type": "markdown",
   "metadata": {},
   "source": [
    "По платформе Xbox One ситуация аналогична:\n",
    "* Для оценок пользователей Коэффициент Пирсона равен -0.07. Чуть лучше, но по-премжнему  зависимости между продажами и оценками пользователей нет.\n",
    "* Для оценок критиков Коэффициент Пирсона равен 0.43. Зависимость продаж сохраняется от оценок критиков."
   ]
  },
  {
   "cell_type": "code",
   "execution_count": 31,
   "metadata": {},
   "outputs": [
    {
     "data": {
      "image/png": "[encoded data removed]",
      "text/plain": [
       "<Figure size 1080x360 with 2 Axes>"
      ]
     },
     "metadata": {
      "needs_background": "light"
     },
     "output_type": "display_data"
    }
   ],
   "source": [
    "# рассмотрим персональные компьютеры\n",
    "df_pc = actual_period.query('platform == \"PC\"')\n",
    "\n",
    "# построим диаграмму рассеяния\n",
    "fig, ax = plt.subplots(1, 2)\n",
    "df_pc.plot(x='user_score', y='total_sales', kind='scatter', alpha=0.3, ax=ax[0], figsize=(15,5))\n",
    "df_pc.plot(x='critic_score', y='total_sales', kind='scatter', alpha=0.3, ax=ax[1], figsize=(15,5))\n",
    "\n",
    "ax[0].set_title('Зависимость продаж от оценок пользователей')\n",
    "ax[0].set_xlabel('Оценка пользователей')\n",
    "ax[0].set_ylabel('Суммарные продажи')\n",
    "ax[1].set_title('Зависимость продаж от оценок критиков')\n",
    "ax[1].set_xlabel('Оценка критиков')\n",
    "ax[1].set_ylabel('Суммарные продажи')\n",
    "plt.show()"
   ]
  },
  {
   "cell_type": "code",
   "execution_count": 32,
   "metadata": {
    "scrolled": true
   },
   "outputs": [
    {
     "data": {
      "text/html": [
       "<div>\n",
       "<style scoped>\n",
       "    .dataframe tbody tr th:only-of-type {\n",
       "        vertical-align: middle;\n",
       "    }\n",
       "\n",
       "    .dataframe tbody tr th {\n",
       "        vertical-align: top;\n",
       "    }\n",
       "\n",
       "    .dataframe thead th {\n",
       "        text-align: right;\n",
       "    }\n",
       "</style>\n",
       "<table border=\"1\" class=\"dataframe\">\n",
       "  <thead>\n",
       "    <tr style=\"text-align: right;\">\n",
       "      <th></th>\n",
       "      <th>user_score</th>\n",
       "      <th>critic_score</th>\n",
       "      <th>total_sales</th>\n",
       "    </tr>\n",
       "  </thead>\n",
       "  <tbody>\n",
       "    <tr>\n",
       "      <th>user_score</th>\n",
       "      <td>1.00</td>\n",
       "      <td>0.47</td>\n",
       "      <td>-0.07</td>\n",
       "    </tr>\n",
       "    <tr>\n",
       "      <th>critic_score</th>\n",
       "      <td>0.47</td>\n",
       "      <td>1.00</td>\n",
       "      <td>0.17</td>\n",
       "    </tr>\n",
       "    <tr>\n",
       "      <th>total_sales</th>\n",
       "      <td>-0.07</td>\n",
       "      <td>0.17</td>\n",
       "      <td>1.00</td>\n",
       "    </tr>\n",
       "  </tbody>\n",
       "</table>\n",
       "</div>"
      ],
      "text/plain": [
       "              user_score  critic_score  total_sales\n",
       "user_score          1.00          0.47        -0.07\n",
       "critic_score        0.47          1.00         0.17\n",
       "total_sales        -0.07          0.17         1.00"
      ]
     },
     "execution_count": 32,
     "metadata": {},
     "output_type": "execute_result"
    }
   ],
   "source": [
    "# посчитаем корреляцию между отзывами и продажами\n",
    "df_pc[['user_score', 'critic_score', 'total_sales']].corr().round(2)"
   ]
  },
  {
   "cell_type": "markdown",
   "metadata": {},
   "source": [
    "По персональному компьютеру все немного иначе:\n",
    "* Для оценок пользователей Коэффициент Пирсона все также равен -0.07. Зависимости между продажами и оценками пользователей нет.\n",
    "* Для оценок критиков Коэффициент Пирсона равен 0.17. Зависимости между продажами и оценками критиков также нет."
   ]
  },
  {
   "cell_type": "markdown",
   "metadata": {},
   "source": [
    "**Соотнесем выводы по продажами игр**:\n",
    "* Для оценок пользователей Коэффициент Пирсона во всех трех случаях оказался примерно одинаковым  -0.07. Зависимости между продажами и оценками пользователей нет.\n",
    "* А вот для оценок критиков Коэффициент ситуации отличаются. В отличии от PS4 и Xone, где показатели равны 0.4 и 0.43, что означает умеренную зависимость продаж от оценок критиков. То в ситуации с  персональном компьютером, Коэффициент Пирсона равен 0.17, значит зависимости между продажами и оценками критиков нет."
   ]
  },
  {
   "cell_type": "markdown",
   "metadata": {},
   "source": [
    "### Посмотрим на общее распределение игр по жанрам"
   ]
  },
  {
   "cell_type": "code",
   "execution_count": 33,
   "metadata": {},
   "outputs": [
    {
     "data": {
      "text/plain": [
       "genre\n",
       "Action          619\n",
       "Role-Playing    221\n",
       "Adventure       185\n",
       "Sports          161\n",
       "Shooter         128\n",
       "Misc            113\n",
       "Racing           69\n",
       "Fighting         60\n",
       "Simulation       44\n",
       "Platform         38\n",
       "Strategy         37\n",
       "Puzzle           14\n",
       "Name: genre, dtype: int64"
      ]
     },
     "execution_count": 33,
     "metadata": {},
     "output_type": "execute_result"
    }
   ],
   "source": [
    "# посмотрим на распределение количества игр по жанрам \n",
    "actual_period.groupby('genre')['genre'].count().sort_values(ascending = False)"
   ]
  },
  {
   "cell_type": "code",
   "execution_count": 34,
   "metadata": {},
   "outputs": [
    {
     "data": {
      "text/html": [
       "<div>\n",
       "<style scoped>\n",
       "    .dataframe tbody tr th:only-of-type {\n",
       "        vertical-align: middle;\n",
       "    }\n",
       "\n",
       "    .dataframe tbody tr th {\n",
       "        vertical-align: top;\n",
       "    }\n",
       "\n",
       "    .dataframe thead th {\n",
       "        text-align: right;\n",
       "    }\n",
       "</style>\n",
       "<table border=\"1\" class=\"dataframe\">\n",
       "  <thead>\n",
       "    <tr style=\"text-align: right;\">\n",
       "      <th></th>\n",
       "      <th>genre</th>\n",
       "      <th>total_sales</th>\n",
       "    </tr>\n",
       "  </thead>\n",
       "  <tbody>\n",
       "    <tr>\n",
       "      <th>0</th>\n",
       "      <td>Shooter</td>\n",
       "      <td>1.335469</td>\n",
       "    </tr>\n",
       "    <tr>\n",
       "      <th>1</th>\n",
       "      <td>Sports</td>\n",
       "      <td>0.680000</td>\n",
       "    </tr>\n",
       "    <tr>\n",
       "      <th>2</th>\n",
       "      <td>Platform</td>\n",
       "      <td>0.476053</td>\n",
       "    </tr>\n",
       "    <tr>\n",
       "      <th>3</th>\n",
       "      <td>Fighting</td>\n",
       "      <td>0.470333</td>\n",
       "    </tr>\n",
       "    <tr>\n",
       "      <th>4</th>\n",
       "      <td>Role-Playing</td>\n",
       "      <td>0.459005</td>\n",
       "    </tr>\n",
       "    <tr>\n",
       "      <th>5</th>\n",
       "      <td>Racing</td>\n",
       "      <td>0.398841</td>\n",
       "    </tr>\n",
       "    <tr>\n",
       "      <th>6</th>\n",
       "      <td>Misc</td>\n",
       "      <td>0.332301</td>\n",
       "    </tr>\n",
       "    <tr>\n",
       "      <th>7</th>\n",
       "      <td>Action</td>\n",
       "      <td>0.322068</td>\n",
       "    </tr>\n",
       "    <tr>\n",
       "      <th>8</th>\n",
       "      <td>Simulation</td>\n",
       "      <td>0.298409</td>\n",
       "    </tr>\n",
       "    <tr>\n",
       "      <th>9</th>\n",
       "      <td>Puzzle</td>\n",
       "      <td>0.157857</td>\n",
       "    </tr>\n",
       "    <tr>\n",
       "      <th>10</th>\n",
       "      <td>Strategy</td>\n",
       "      <td>0.107027</td>\n",
       "    </tr>\n",
       "    <tr>\n",
       "      <th>11</th>\n",
       "      <td>Adventure</td>\n",
       "      <td>0.094865</td>\n",
       "    </tr>\n",
       "  </tbody>\n",
       "</table>\n",
       "</div>"
      ],
      "text/plain": [
       "           genre  total_sales\n",
       "0        Shooter     1.335469\n",
       "1         Sports     0.680000\n",
       "2       Platform     0.476053\n",
       "3       Fighting     0.470333\n",
       "4   Role-Playing     0.459005\n",
       "5         Racing     0.398841\n",
       "6           Misc     0.332301\n",
       "7         Action     0.322068\n",
       "8     Simulation     0.298409\n",
       "9         Puzzle     0.157857\n",
       "10      Strategy     0.107027\n",
       "11     Adventure     0.094865"
      ]
     },
     "execution_count": 34,
     "metadata": {},
     "output_type": "execute_result"
    }
   ],
   "source": [
    "# посмотрим как распределены продажи по жанрам игр\n",
    "# возьмем среднее значение\n",
    "total_sales_genre = actual_period.pivot_table(index='genre', values='total_sales', aggfunc='mean').sort_values(\n",
    "    by='total_sales', ascending=False).reset_index().rename_axis(None, axis=1)\n",
    "total_sales_genre"
   ]
  },
  {
   "cell_type": "code",
   "execution_count": 35,
   "metadata": {
    "scrolled": false
   },
   "outputs": [
    {
     "data": {
      "image/png": "[encoded data removed]",
      "text/plain": [
       "<Figure size 1080x360 with 1 Axes>"
      ]
     },
     "metadata": {
      "needs_background": "light"
     },
     "output_type": "display_data"
    }
   ],
   "source": [
    "# построим барплот для наглядности\n",
    "plt.figure(figsize=(15,5))\n",
    "sns.barplot(x=total_sales_genre['genre'],\n",
    "            y=total_sales_genre['total_sales'])\n",
    "plt.title(\"Зависимость продаж от жанра\")\n",
    "plt.xlabel(\"Жанр\")\n",
    "plt.ylabel(\"Продажи (средние значения)\")\n",
    "plt.show()"
   ]
  },
  {
   "cell_type": "markdown",
   "metadata": {},
   "source": [
    "Вырисовывается интересная картина: \n",
    "* В топ-3 вырвались жанры `Shooter`, `Sports` и `Platform` c перовначальных 5, 4 и 10 позиций, соответсвенно.\n",
    "* В аутсайдерах на 11 месте как был `Strategy` так и осатлся. А вот `Adventure` с 3 позиции улетел аж на 12. Вот так поворот!\n",
    "\n",
    "Тот самый момент, когда качество оказывается выгоднее количества."
   ]
  },
  {
   "cell_type": "markdown",
   "metadata": {},
   "source": [
    "##  Портрет пользователя каждого региона"
   ]
  },
  {
   "cell_type": "markdown",
   "metadata": {},
   "source": [
    "### Самые популярные платформы (топ-5)"
   ]
  },
  {
   "cell_type": "code",
   "execution_count": 36,
   "metadata": {
    "scrolled": true
   },
   "outputs": [
    {
     "data": {
      "text/html": [
       "<div>\n",
       "<style scoped>\n",
       "    .dataframe tbody tr th:only-of-type {\n",
       "        vertical-align: middle;\n",
       "    }\n",
       "\n",
       "    .dataframe tbody tr th {\n",
       "        vertical-align: top;\n",
       "    }\n",
       "\n",
       "    .dataframe thead th {\n",
       "        text-align: right;\n",
       "    }\n",
       "</style>\n",
       "<table border=\"1\" class=\"dataframe\">\n",
       "  <thead>\n",
       "    <tr style=\"text-align: right;\">\n",
       "      <th></th>\n",
       "      <th>platform</th>\n",
       "      <th>eu_sales</th>\n",
       "      <th>jp_sales</th>\n",
       "      <th>na_sales</th>\n",
       "    </tr>\n",
       "  </thead>\n",
       "  <tbody>\n",
       "    <tr>\n",
       "      <th>0</th>\n",
       "      <td>3DS</td>\n",
       "      <td>16.12</td>\n",
       "      <td>44.24</td>\n",
       "      <td>22.64</td>\n",
       "    </tr>\n",
       "    <tr>\n",
       "      <th>1</th>\n",
       "      <td>PC</td>\n",
       "      <td>17.97</td>\n",
       "      <td>0.00</td>\n",
       "      <td>7.23</td>\n",
       "    </tr>\n",
       "    <tr>\n",
       "      <th>2</th>\n",
       "      <td>PS3</td>\n",
       "      <td>25.54</td>\n",
       "      <td>11.22</td>\n",
       "      <td>22.05</td>\n",
       "    </tr>\n",
       "    <tr>\n",
       "      <th>3</th>\n",
       "      <td>PS4</td>\n",
       "      <td>130.04</td>\n",
       "      <td>15.02</td>\n",
       "      <td>98.61</td>\n",
       "    </tr>\n",
       "    <tr>\n",
       "      <th>4</th>\n",
       "      <td>PSP</td>\n",
       "      <td>0.00</td>\n",
       "      <td>0.36</td>\n",
       "      <td>0.00</td>\n",
       "    </tr>\n",
       "    <tr>\n",
       "      <th>5</th>\n",
       "      <td>PSV</td>\n",
       "      <td>3.53</td>\n",
       "      <td>14.54</td>\n",
       "      <td>2.52</td>\n",
       "    </tr>\n",
       "    <tr>\n",
       "      <th>6</th>\n",
       "      <td>Wii</td>\n",
       "      <td>2.59</td>\n",
       "      <td>0.00</td>\n",
       "      <td>2.08</td>\n",
       "    </tr>\n",
       "    <tr>\n",
       "      <th>7</th>\n",
       "      <td>WiiU</td>\n",
       "      <td>13.15</td>\n",
       "      <td>7.31</td>\n",
       "      <td>19.36</td>\n",
       "    </tr>\n",
       "    <tr>\n",
       "      <th>8</th>\n",
       "      <td>X360</td>\n",
       "      <td>15.49</td>\n",
       "      <td>0.08</td>\n",
       "      <td>28.30</td>\n",
       "    </tr>\n",
       "    <tr>\n",
       "      <th>9</th>\n",
       "      <td>XOne</td>\n",
       "      <td>46.25</td>\n",
       "      <td>0.32</td>\n",
       "      <td>81.27</td>\n",
       "    </tr>\n",
       "  </tbody>\n",
       "</table>\n",
       "</div>"
      ],
      "text/plain": [
       "  platform  eu_sales  jp_sales  na_sales\n",
       "0      3DS     16.12     44.24     22.64\n",
       "1       PC     17.97      0.00      7.23\n",
       "2      PS3     25.54     11.22     22.05\n",
       "3      PS4    130.04     15.02     98.61\n",
       "4      PSP      0.00      0.36      0.00\n",
       "5      PSV      3.53     14.54      2.52\n",
       "6      Wii      2.59      0.00      2.08\n",
       "7     WiiU     13.15      7.31     19.36\n",
       "8     X360     15.49      0.08     28.30\n",
       "9     XOne     46.25      0.32     81.27"
      ]
     },
     "execution_count": 36,
     "metadata": {},
     "output_type": "execute_result"
    }
   ],
   "source": [
    "# посмотрим на продажи в регионах по платформам\n",
    "df_platform_sales = actual_period.pivot_table(index='platform', aggfunc={'na_sales':sum, 'eu_sales':sum, 'jp_sales':sum})\n",
    "df_platform_sales = df_platform_sales.reset_index()\n",
    "df_platform_sales"
   ]
  },
  {
   "cell_type": "code",
   "execution_count": 37,
   "metadata": {},
   "outputs": [
    {
     "data": {
      "text/plain": [
       "{'na_sales': platform\n",
       " PS4     98.61\n",
       " XOne    81.27\n",
       " X360    28.30\n",
       " 3DS     22.64\n",
       " PS3     22.05\n",
       " Name: na_sales, dtype: float64,\n",
       " 'eu_sales': platform\n",
       " PS4     130.04\n",
       " XOne     46.25\n",
       " PS3      25.54\n",
       " PC       17.97\n",
       " 3DS      16.12\n",
       " Name: eu_sales, dtype: float64,\n",
       " 'jp_sales': platform\n",
       " 3DS     44.24\n",
       " PS4     15.02\n",
       " PSV     14.54\n",
       " PS3     11.22\n",
       " WiiU     7.31\n",
       " Name: jp_sales, dtype: float64}"
      ]
     },
     "execution_count": 37,
     "metadata": {},
     "output_type": "execute_result"
    }
   ],
   "source": [
    "# создадим словарь, куда поместим список продаж с топ-5 платформами в трех регионах\n",
    "top5_platform_dict = {}\n",
    "regions = ['na_sales', 'eu_sales', 'jp_sales']\n",
    "\n",
    "for value in regions:\n",
    "    top5_platform_dict[value] = df_platform_sales.groupby('platform')[value].sum().sort_values(ascending=False).head(5)\n",
    "    \n",
    "top5_platform_dict"
   ]
  },
  {
   "cell_type": "code",
   "execution_count": 38,
   "metadata": {},
   "outputs": [
    {
     "data": {
      "image/png": "[encoded data removed]",
      "text/plain": [
       "<Figure size 1152x432 with 3 Axes>"
      ]
     },
     "metadata": {},
     "output_type": "display_data"
    }
   ],
   "source": [
    "# отобразим полученные результаты на графике\n",
    "fig, (ax1, ax2, ax3) = plt.subplots(nrows=1, ncols=3, figsize=(16, 6))\n",
    "x = [ax1, ax2, ax3]\n",
    "\n",
    "for i in [0,1,2]:\n",
    "    labels = top5_platform_dict[regions[i]].index\n",
    "    sizes = top5_platform_dict[regions[i]].values\n",
    "    ax = x[i]\n",
    "    ax.set_title(regions[i])\n",
    "    ax.pie(sizes, labels=labels, autopct='%1.1f%%') \n",
    "    \n",
    "plt.show()"
   ]
  },
  {
   "cell_type": "markdown",
   "metadata": {},
   "source": [
    "Топ платформ по регионам распределился в следующем порядке (по убыванию):\n",
    "\n",
    "* Северная Америка - `PS4`, `XOne`, `X360`, `3DS`, `PS3`\n",
    "* Европа - `PS4`, `XOne`, `PS3`, `PC`, `3DS`\n",
    "* Япония - `3DS`, `PS4`, `PSV`, `PS3`, `WiiU`\n",
    "\n",
    "На удивление в Северной Америке `Play Station 4` оказалась более популярной, нежели `XBox One`, хотя нужно признать что разрыв не такой уж и большой.\n",
    "\n",
    "В Европе также на первом месте `Play Station 4`, заметно меньшей популярностью пользуется `XBox One`. В отличии от Северной Америки и Японии, в Европе не брезгуют играми на персональном компьютере. \n",
    "\n",
    "В Японии наибольшее предпочтение отдано портативной приставке `Nintendo 3DS`. А вот `XBox`- у места не нашлось. Что-то мне подсказывает, что техника из США здесь не пользуется большим спросом."
   ]
  },
  {
   "cell_type": "markdown",
   "metadata": {},
   "source": [
    "### Самые популярные жанры (топ-5)"
   ]
  },
  {
   "cell_type": "code",
   "execution_count": 39,
   "metadata": {},
   "outputs": [
    {
     "data": {
      "text/html": [
       "<div>\n",
       "<style scoped>\n",
       "    .dataframe tbody tr th:only-of-type {\n",
       "        vertical-align: middle;\n",
       "    }\n",
       "\n",
       "    .dataframe tbody tr th {\n",
       "        vertical-align: top;\n",
       "    }\n",
       "\n",
       "    .dataframe thead th {\n",
       "        text-align: right;\n",
       "    }\n",
       "</style>\n",
       "<table border=\"1\" class=\"dataframe\">\n",
       "  <thead>\n",
       "    <tr style=\"text-align: right;\">\n",
       "      <th></th>\n",
       "      <th>genre</th>\n",
       "      <th>eu_sales</th>\n",
       "      <th>jp_sales</th>\n",
       "      <th>na_sales</th>\n",
       "    </tr>\n",
       "  </thead>\n",
       "  <tbody>\n",
       "    <tr>\n",
       "      <th>0</th>\n",
       "      <td>Action</td>\n",
       "      <td>74.68</td>\n",
       "      <td>29.58</td>\n",
       "      <td>72.53</td>\n",
       "    </tr>\n",
       "    <tr>\n",
       "      <th>1</th>\n",
       "      <td>Adventure</td>\n",
       "      <td>6.49</td>\n",
       "      <td>3.60</td>\n",
       "      <td>5.64</td>\n",
       "    </tr>\n",
       "    <tr>\n",
       "      <th>2</th>\n",
       "      <td>Fighting</td>\n",
       "      <td>6.69</td>\n",
       "      <td>6.37</td>\n",
       "      <td>12.43</td>\n",
       "    </tr>\n",
       "    <tr>\n",
       "      <th>3</th>\n",
       "      <td>Misc</td>\n",
       "      <td>12.86</td>\n",
       "      <td>5.61</td>\n",
       "      <td>15.05</td>\n",
       "    </tr>\n",
       "    <tr>\n",
       "      <th>4</th>\n",
       "      <td>Platform</td>\n",
       "      <td>6.80</td>\n",
       "      <td>2.69</td>\n",
       "      <td>6.79</td>\n",
       "    </tr>\n",
       "    <tr>\n",
       "      <th>5</th>\n",
       "      <td>Puzzle</td>\n",
       "      <td>0.52</td>\n",
       "      <td>0.93</td>\n",
       "      <td>0.65</td>\n",
       "    </tr>\n",
       "    <tr>\n",
       "      <th>6</th>\n",
       "      <td>Racing</td>\n",
       "      <td>14.13</td>\n",
       "      <td>1.76</td>\n",
       "      <td>8.74</td>\n",
       "    </tr>\n",
       "    <tr>\n",
       "      <th>7</th>\n",
       "      <td>Role-Playing</td>\n",
       "      <td>28.17</td>\n",
       "      <td>31.16</td>\n",
       "      <td>33.47</td>\n",
       "    </tr>\n",
       "    <tr>\n",
       "      <th>8</th>\n",
       "      <td>Shooter</td>\n",
       "      <td>65.52</td>\n",
       "      <td>4.87</td>\n",
       "      <td>79.02</td>\n",
       "    </tr>\n",
       "    <tr>\n",
       "      <th>9</th>\n",
       "      <td>Simulation</td>\n",
       "      <td>7.30</td>\n",
       "      <td>2.31</td>\n",
       "      <td>2.63</td>\n",
       "    </tr>\n",
       "    <tr>\n",
       "      <th>10</th>\n",
       "      <td>Sports</td>\n",
       "      <td>45.73</td>\n",
       "      <td>3.26</td>\n",
       "      <td>46.13</td>\n",
       "    </tr>\n",
       "    <tr>\n",
       "      <th>11</th>\n",
       "      <td>Strategy</td>\n",
       "      <td>1.79</td>\n",
       "      <td>0.95</td>\n",
       "      <td>0.98</td>\n",
       "    </tr>\n",
       "  </tbody>\n",
       "</table>\n",
       "</div>"
      ],
      "text/plain": [
       "           genre  eu_sales  jp_sales  na_sales\n",
       "0         Action     74.68     29.58     72.53\n",
       "1      Adventure      6.49      3.60      5.64\n",
       "2       Fighting      6.69      6.37     12.43\n",
       "3           Misc     12.86      5.61     15.05\n",
       "4       Platform      6.80      2.69      6.79\n",
       "5         Puzzle      0.52      0.93      0.65\n",
       "6         Racing     14.13      1.76      8.74\n",
       "7   Role-Playing     28.17     31.16     33.47\n",
       "8        Shooter     65.52      4.87     79.02\n",
       "9     Simulation      7.30      2.31      2.63\n",
       "10        Sports     45.73      3.26     46.13\n",
       "11      Strategy      1.79      0.95      0.98"
      ]
     },
     "execution_count": 39,
     "metadata": {},
     "output_type": "execute_result"
    }
   ],
   "source": [
    "# теперь посмотрим на продажи в регионах по жанрам\n",
    "df_genre_sales = actual_period.pivot_table(index='genre', aggfunc={'na_sales':sum, 'eu_sales':sum, 'jp_sales':sum})\n",
    "df_genre_sales = df_genre_sales.reset_index()\n",
    "df_genre_sales"
   ]
  },
  {
   "cell_type": "code",
   "execution_count": 40,
   "metadata": {},
   "outputs": [
    {
     "data": {
      "text/plain": [
       "{'na_sales': genre\n",
       " Shooter         79.02\n",
       " Action          72.53\n",
       " Sports          46.13\n",
       " Role-Playing    33.47\n",
       " Misc            15.05\n",
       " Name: na_sales, dtype: float64,\n",
       " 'eu_sales': genre\n",
       " Action          74.68\n",
       " Shooter         65.52\n",
       " Sports          45.73\n",
       " Role-Playing    28.17\n",
       " Racing          14.13\n",
       " Name: eu_sales, dtype: float64,\n",
       " 'jp_sales': genre\n",
       " Role-Playing    31.16\n",
       " Action          29.58\n",
       " Fighting         6.37\n",
       " Misc             5.61\n",
       " Shooter          4.87\n",
       " Name: jp_sales, dtype: float64}"
      ]
     },
     "execution_count": 40,
     "metadata": {},
     "output_type": "execute_result"
    }
   ],
   "source": [
    "# аналогично, создаем словарь и поместим в него список продаж с топ-5 жанрами в трех регионах\n",
    "top5_genre_dict = {}\n",
    "\n",
    "for region in regions:\n",
    "    top5_genre_dict[region] = df_genre_sales.groupby('genre')[region].sum().sort_values(ascending=False).head(5)\n",
    "top5_genre_dict"
   ]
  },
  {
   "cell_type": "code",
   "execution_count": 41,
   "metadata": {},
   "outputs": [
    {
     "data": {
      "image/png": "[encoded data removed]",
      "text/plain": [
       "<Figure size 1152x432 with 3 Axes>"
      ]
     },
     "metadata": {},
     "output_type": "display_data"
    }
   ],
   "source": [
    "# строим график\n",
    "fig, (ax1, ax2, ax3) = plt.subplots(nrows=1, ncols=3, figsize=(16, 6))\n",
    "\n",
    "x = [ax1, ax2, ax3]\n",
    "\n",
    "for i in [0,1,2]:\n",
    "    labels = top5_genre_dict[regions[i]].index\n",
    "    sizes = top5_genre_dict[regions[i]].values\n",
    "    ax = x[i]\n",
    "    ax.set_title(regions[i])\n",
    "    ax.pie(sizes, labels=labels, autopct='%1.1f%%') \n",
    "\n",
    "plt.show()"
   ]
  },
  {
   "cell_type": "markdown",
   "metadata": {},
   "source": [
    "Топ жанров по регионам распределился в следующем порядке (по убыванию):\n",
    "\n",
    "* Северная Америка - `Shooter`, `Action`, `Sports`, `Role_Playing`, `Misc`\n",
    "* Европа - `Action`, `Shooter`, `Sports`, `Role_Playing`, `Racing`\n",
    "* Япония - `Role_Playing`, `Action`, `Fighting`, `Misc`, `Shooter`\n",
    "\n",
    "Игроки в Северной Америке и Европе удивительным образом похожи, в плане выбора игрового жанра. Правда в Америке игроки немного больше любят пострелять, нежели европейцы. Одинаково распространены спортивные игры и ролевые игры. \n",
    "\n",
    "В Японии совсем иная ситуцация - здесь \"без ума\" от ролевых игр и экшена. Думаю это связано с местным менталитетом и культурой, потому как шутеры практически не интересуют японских игроков."
   ]
  },
  {
   "cell_type": "markdown",
   "metadata": {},
   "source": [
    "### Влияние рейтинга ESRB на продажи в отдельном регионе"
   ]
  },
  {
   "cell_type": "code",
   "execution_count": 42,
   "metadata": {
    "scrolled": true
   },
   "outputs": [
    {
     "data": {
      "text/html": [
       "<div>\n",
       "<style scoped>\n",
       "    .dataframe tbody tr th:only-of-type {\n",
       "        vertical-align: middle;\n",
       "    }\n",
       "\n",
       "    .dataframe tbody tr th {\n",
       "        vertical-align: top;\n",
       "    }\n",
       "\n",
       "    .dataframe thead th {\n",
       "        text-align: right;\n",
       "    }\n",
       "</style>\n",
       "<table border=\"1\" class=\"dataframe\">\n",
       "  <thead>\n",
       "    <tr style=\"text-align: right;\">\n",
       "      <th></th>\n",
       "      <th>rating</th>\n",
       "      <th>eu_sales</th>\n",
       "      <th>jp_sales</th>\n",
       "      <th>na_sales</th>\n",
       "      <th>total_sales</th>\n",
       "      <th>na_sales_rating</th>\n",
       "      <th>eu_sales_rating</th>\n",
       "      <th>jp_sales_rating</th>\n",
       "    </tr>\n",
       "  </thead>\n",
       "  <tbody>\n",
       "    <tr>\n",
       "      <th>0</th>\n",
       "      <td>M</td>\n",
       "      <td>93.44</td>\n",
       "      <td>8.01</td>\n",
       "      <td>96.42</td>\n",
       "      <td>226.54</td>\n",
       "      <td>33.94</td>\n",
       "      <td>34.52</td>\n",
       "      <td>8.60</td>\n",
       "    </tr>\n",
       "    <tr>\n",
       "      <th>1</th>\n",
       "      <td>RP</td>\n",
       "      <td>58.95</td>\n",
       "      <td>56.90</td>\n",
       "      <td>64.72</td>\n",
       "      <td>198.97</td>\n",
       "      <td>22.78</td>\n",
       "      <td>21.78</td>\n",
       "      <td>61.12</td>\n",
       "    </tr>\n",
       "    <tr>\n",
       "      <th>2</th>\n",
       "      <td>E</td>\n",
       "      <td>58.06</td>\n",
       "      <td>8.94</td>\n",
       "      <td>50.74</td>\n",
       "      <td>133.13</td>\n",
       "      <td>17.86</td>\n",
       "      <td>21.45</td>\n",
       "      <td>9.60</td>\n",
       "    </tr>\n",
       "    <tr>\n",
       "      <th>3</th>\n",
       "      <td>T</td>\n",
       "      <td>34.07</td>\n",
       "      <td>14.78</td>\n",
       "      <td>38.95</td>\n",
       "      <td>99.13</td>\n",
       "      <td>13.71</td>\n",
       "      <td>12.59</td>\n",
       "      <td>15.88</td>\n",
       "    </tr>\n",
       "    <tr>\n",
       "      <th>4</th>\n",
       "      <td>E10+</td>\n",
       "      <td>26.16</td>\n",
       "      <td>4.46</td>\n",
       "      <td>33.23</td>\n",
       "      <td>71.68</td>\n",
       "      <td>11.70</td>\n",
       "      <td>9.66</td>\n",
       "      <td>4.79</td>\n",
       "    </tr>\n",
       "  </tbody>\n",
       "</table>\n",
       "</div>"
      ],
      "text/plain": [
       "  rating  eu_sales  jp_sales  na_sales  total_sales  na_sales_rating  \\\n",
       "0      M     93.44      8.01     96.42       226.54            33.94   \n",
       "1     RP     58.95     56.90     64.72       198.97            22.78   \n",
       "2      E     58.06      8.94     50.74       133.13            17.86   \n",
       "3      T     34.07     14.78     38.95        99.13            13.71   \n",
       "4   E10+     26.16      4.46     33.23        71.68            11.70   \n",
       "\n",
       "   eu_sales_rating  jp_sales_rating  \n",
       "0            34.52             8.60  \n",
       "1            21.78            61.12  \n",
       "2            21.45             9.60  \n",
       "3            12.59            15.88  \n",
       "4             9.66             4.79  "
      ]
     },
     "execution_count": 42,
     "metadata": {},
     "output_type": "execute_result"
    }
   ],
   "source": [
    "# построим сводную таблицу по рейтингу ESRB по суммарным продажам\n",
    "esrb_rating = actual_period.pivot_table(index='rating',\n",
    "                                      values=['na_sales','eu_sales','jp_sales','total_sales'],\n",
    "                                      aggfunc=sum).sort_values(by='total_sales', ascending=False).reset_index()\n",
    "\n",
    "esrb_rating['na_sales_rating'] = (esrb_rating['na_sales']*100/esrb_rating['na_sales'].sum()).round(2)\n",
    "esrb_rating['eu_sales_rating'] = (esrb_rating['eu_sales']*100/esrb_rating['eu_sales'].sum()).round(2)\n",
    "esrb_rating['jp_sales_rating'] = (esrb_rating['jp_sales']*100/esrb_rating['jp_sales'].sum()).round(2)\n",
    "esrb_rating"
   ]
  },
  {
   "cell_type": "markdown",
   "metadata": {},
   "source": [
    "* «EC» («Early childhood») — «Для детей младшего возраста»: Игра подходит для детей от 3 лет\n",
    "* «E» («Everyone») — «Для всех»: Содержание вполне подходит для возрастной категории от 6 лет.\n",
    "* «E10+» («Everyone 10 and older») — «Для всех от 10 лет и старше»\n",
    "* «T» («Teen») — «Подросткам» Игра подходит для лиц от 13 лет.\n",
    "* «M» («Mature») — «Для взрослых»: Материалы игры не подходят для подростков младше 17 лет\n",
    "* «AO» («Adults Only 18+») — «Только для взрослых»: Содержание игры только для взрослых старше 18 лет.\n",
    "* «RP» («Rating Pending») — «Рейтинг ожидается»:"
   ]
  },
  {
   "cell_type": "code",
   "execution_count": 43,
   "metadata": {},
   "outputs": [
    {
     "data": {
      "text/plain": [
       "{'na_sales': rating\n",
       " M       96.42\n",
       " RP      64.72\n",
       " E       50.74\n",
       " T       38.95\n",
       " E10+    33.23\n",
       " Name: na_sales, dtype: float64,\n",
       " 'eu_sales': rating\n",
       " M       93.44\n",
       " RP      58.95\n",
       " E       58.06\n",
       " T       34.07\n",
       " E10+    26.16\n",
       " Name: eu_sales, dtype: float64,\n",
       " 'jp_sales': rating\n",
       " RP      56.90\n",
       " T       14.78\n",
       " E        8.94\n",
       " M        8.01\n",
       " E10+     4.46\n",
       " Name: jp_sales, dtype: float64}"
      ]
     },
     "execution_count": 43,
     "metadata": {},
     "output_type": "execute_result"
    }
   ],
   "source": [
    "# создаем список \n",
    "esrb_dict = {}\n",
    "for region in regions:\n",
    "    esrb_dict[region] = actual_period.groupby('rating')[region].sum().sort_values(ascending=False)\n",
    "esrb_dict"
   ]
  },
  {
   "cell_type": "code",
   "execution_count": 44,
   "metadata": {},
   "outputs": [
    {
     "data": {
      "image/png": "[encoded data removed]",
      "text/plain": [
       "<Figure size 1152x432 with 3 Axes>"
      ]
     },
     "metadata": {},
     "output_type": "display_data"
    }
   ],
   "source": [
    "# строим график\n",
    "fig, (ax1, ax2, ax3) = plt.subplots(nrows=1, ncols=3, figsize=(16, 6))\n",
    "\n",
    "x = [ax1, ax2, ax3]\n",
    "\n",
    "for i in [0,1,2]:\n",
    "    labels = esrb_dict[regions[i]].index\n",
    "    sizes = esrb_dict[regions[i]].values\n",
    "    ax = x[i]\n",
    "    ax.set_title(regions[i])\n",
    "    ax.pie(sizes, labels=labels, autopct='%1.1f%%') \n",
    "\n",
    "plt.show()"
   ]
  },
  {
   "cell_type": "markdown",
   "metadata": {},
   "source": [
    "Очевидно влияние рейтинга ESRB на продажи по регионам: \n",
    "\n",
    "* Так, например, в Северной Америке и Европе самые популярные рейтинги, хоть и с небольшой разницей в процентном соотношении - `M` «Для взрослых», `RP` «Рейтинг ожидается», `E` «Для всех», `T` «Подросткам», `E10+` «Для всех от 10 лет и старше».\n",
    "* Для Японии ситуация выглядит несколько иначе - `RP` «Рейтинг ожидается», `T` «Подросткам», `E` «Для всех», `M` «Для взрослых», `E10+` «Для всех от 10 лет и старше».\n",
    "\n",
    "Из-за того, что мы брали данные за последние три года рейтинг `RP` сильно выбился вверх, особенно в Японии. В целом, если закрыть на это глаза, то можно сказать что, в Америке и Европе предпочитают более \"взрослые\" игры, в Японии - более \"детские\" игры. "
   ]
  },
  {
   "cell_type": "markdown",
   "metadata": {},
   "source": [
    "## Проверка гипотез"
   ]
  },
  {
   "cell_type": "markdown",
   "metadata": {},
   "source": [
    "* Средние пользовательские рейтинги платформ Xbox One и PC одинаковые.\n",
    "* Средние пользовательские рейтинги жанров Action (англ. «действие», экшен-игры) и Sports (англ. «спортивные соревнования») разные."
   ]
  },
  {
   "cell_type": "markdown",
   "metadata": {},
   "source": [
    "### Средние пользовательские рейтинги платформ Xbox One и PC одинаковые"
   ]
  },
  {
   "cell_type": "markdown",
   "metadata": {},
   "source": [
    "**Нулевая гипотеза:** средние пользовательские рейтинги платформы Xbox One и PC равны.\n",
    "\n",
    "**Альтернативная гипотеза:** средние пользовательские рейтинги платформы Xbox One и PC отличаются.  "
   ]
  },
  {
   "cell_type": "code",
   "execution_count": 45,
   "metadata": {
    "scrolled": true
   },
   "outputs": [],
   "source": [
    "# зададим критический уровень статистической значимости равным 5%\n",
    "alpha = 0.05\n",
    "\n",
    "# подготовим выборки\n",
    "df_xbox_one = actual_period[actual_period['platform']=='XOne']['user_score'].dropna()\n",
    "df_pc = actual_period[actual_period['platform']=='PC']['user_score'].dropna()"
   ]
  },
  {
   "cell_type": "markdown",
   "metadata": {},
   "source": [
    "Проверим дисперсии выборок для определения значения `equal_var`"
   ]
  },
  {
   "cell_type": "code",
   "execution_count": 46,
   "metadata": {},
   "outputs": [
    {
     "data": {
      "text/plain": [
       "1.8795460055096425"
      ]
     },
     "execution_count": 46,
     "metadata": {},
     "output_type": "execute_result"
    }
   ],
   "source": [
    "# для Иксбокса \n",
    "np.var(df_xbox_one)"
   ]
  },
  {
   "cell_type": "code",
   "execution_count": 47,
   "metadata": {},
   "outputs": [
    {
     "data": {
      "text/plain": [
       "2.8773743617307175"
      ]
     },
     "execution_count": 47,
     "metadata": {},
     "output_type": "execute_result"
    }
   ],
   "source": [
    "# для ПК\n",
    "np.var(df_pc)"
   ]
  },
  {
   "cell_type": "code",
   "execution_count": 48,
   "metadata": {},
   "outputs": [
    {
     "name": "stdout",
     "output_type": "stream",
     "text": [
      "p-значение: 0.11601398086668832\n",
      "Не получилось отвергнуть нулевую гипотезу\n"
     ]
    }
   ],
   "source": [
    "# значение equal_var установим False, так как выборки имеют различные дисперсии\n",
    "results = st.ttest_ind(df_xbox_one, df_pc, equal_var=False)\n",
    "\n",
    "print('p-значение:', results.pvalue)\n",
    "\n",
    "if (results.pvalue < alpha):\n",
    "    print(\"Отвергаем нулевую гипотезу\")\n",
    "else:\n",
    "    print(\"Не получилось отвергнуть нулевую гипотезу\")"
   ]
  },
  {
   "cell_type": "markdown",
   "metadata": {},
   "source": [
    "**Вывод**:\n",
    "\n",
    "P-значение равно 11,6%, мы не можем отвергнуть нулевую гипотезу.\n",
    "\n",
    "То есть, с вероятностью в 11,6% можно получить различные значения рейтингов двух платформ."
   ]
  },
  {
   "cell_type": "markdown",
   "metadata": {},
   "source": [
    "### Средние пользовательские рейтинги жанров Action и Sports разные"
   ]
  },
  {
   "cell_type": "markdown",
   "metadata": {},
   "source": [
    "**Нулевая гипотеза:** средние пользовательские рейтинги жанров Action и Sports равны.\n",
    "\n",
    "**Альтернативная гипотеза:** средние пользовательские рейтинги жанров Action и Sports отличаются. "
   ]
  },
  {
   "cell_type": "code",
   "execution_count": 49,
   "metadata": {},
   "outputs": [],
   "source": [
    "# зададим критический уровень статистической значимости равным 5%\n",
    "alpha = 0.05\n",
    "\n",
    "# подготовим выборки\n",
    "df_action = actual_period[actual_period['genre']=='Action']['user_score'].dropna()\n",
    "df_sports = actual_period[actual_period['genre']=='Sports']['user_score'].dropna()"
   ]
  },
  {
   "cell_type": "markdown",
   "metadata": {},
   "source": [
    "Проверим дисперсии выборок для определения значения `equal_var`"
   ]
  },
  {
   "cell_type": "code",
   "execution_count": 50,
   "metadata": {},
   "outputs": [
    {
     "data": {
      "text/plain": [
       "1.89208448117539"
      ]
     },
     "execution_count": 50,
     "metadata": {},
     "output_type": "execute_result"
    }
   ],
   "source": [
    "# для жанра Экшн\n",
    "np.var(df_action)"
   ]
  },
  {
   "cell_type": "code",
   "execution_count": 51,
   "metadata": {},
   "outputs": [
    {
     "data": {
      "text/plain": [
       "3.4198375596751185"
      ]
     },
     "execution_count": 51,
     "metadata": {},
     "output_type": "execute_result"
    }
   ],
   "source": [
    "# для жанра Спорт\n",
    "np.var(df_sports)"
   ]
  },
  {
   "cell_type": "code",
   "execution_count": 52,
   "metadata": {},
   "outputs": [
    {
     "name": "stdout",
     "output_type": "stream",
     "text": [
      "p-значение: 1.1825550382644557e-14\n",
      "Отвергаем нулевую гипотезу\n"
     ]
    }
   ],
   "source": [
    "# значение equal_var установим False, так как выборки имеют различные дисперсии\n",
    "results = st.ttest_ind(df_action, df_sports, equal_var=False)\n",
    "\n",
    "print('p-значение:', results.pvalue)\n",
    "\n",
    "if (results.pvalue < alpha):\n",
    "    print(\"Отвергаем нулевую гипотезу\")\n",
    "else:\n",
    "    print(\"Не получилось отвергнуть нулевую гипотезу\")"
   ]
  },
  {
   "cell_type": "markdown",
   "metadata": {},
   "source": [
    "**Вывод**:\n",
    "\n",
    "Получив p-value меньше 0.05, мы отвергли нулевую гипотезу.\n",
    "\n",
    "Таким образом, вероятность получить одинаковые средние рейнтинги по двум жанрам практически нет."
   ]
  },
  {
   "cell_type": "markdown",
   "metadata": {},
   "source": [
    "## Общий вывод"
   ]
  },
  {
   "cell_type": "markdown",
   "metadata": {},
   "source": [
    "Подведем итоги по проделанной работе.\n",
    "\n",
    "**В ходе подготовки данных сделано**:\n",
    "* Названия колонок приведены к единому регистру - нижнему \n",
    "* удалены пустые строки в столбцах `year_of_release` и `genre`\n",
    "* расшифровано значение абривеатуры **TBD** в столбце `user_score`, при этом значения заменены на **NaN**\n",
    "* заменены значения категории `K-A` и `EC` на `E` в столбце `rating`, а значения категории `AO` на `M`; пропущенные значения заполнены `RP`, как рейтинг неопределен\n",
    "* добавлен столбец `total_sales` с суммами продажи во всех регионах\n",
    "\n",
    "**В ходе исследовательского анализа выяснили, что**:\n",
    "1. После 1995 года начался буйный рост выпуска игр, в связи с развитием игровой индустрии на консолях и персональных компьютерах. С 2008 года начался спад, скорее всего связано с переносом акцента на мобильные платформы\n",
    "2. Средний срок жизни Ппатформы 10-11 лет. Появляются новые платформы в интервале от 1 до 5 лет.\n",
    "3. Продажи по всем платформам падают со временем. PS4 и XOne до 2015 показывали рост продаж. Наиболее пепрспективными платформами отчасти можно считать PS4, XOne, 3DS. Так как они сохраняют достаточно высокий уровень продаж.\n",
    "4. Для оценок пользователей Коэффициент Пирсона во всех трех случаях оказался примерно одинаковым  -0.07. Зависимости между продажами и оценками пользователей нет. А вот для оценок критиков Коэффициент ситуации отличаются. В отличии от PS4 и Xone, где показатели равны 0.4 и 0.43, что означает умеренную зависимость продаж от оценок критиков. То в ситуации с  персональном компьютером, Коэффициент Пирсона равен 0.17, значит зависимости между продажами и оценками критиков нет.\n",
    "5. В топ-3 популярных жанров вырвались `Shooter`, `Sports` и `Platform` c перовначальных 5, 4 и 10 позиций, соответсвенно. В аутсайдерах на 11 месте как был `Strategy` так и осатлся. А вот `Adventure` с 3 позиции улетел аж на 12. Вот так поворот! Тот самый момент, когда качество оказывается выгоднее количества.\n",
    "\n",
    "**Портрет пользователя каждого региона**:\n",
    "* В Северной Америке, топ предпочтений у пользователей - это игры на платформе`PS4`, с жанром `Shooter` и рейтингом `M` «Для взрослых»\n",
    "* В Европе, топ предпочтений у пользователей - это игры на платформе`PS4`, с жанром `Action` и рейтингом `M` «Для взрослых» \n",
    "* В Японии, топ предпочтений у пользователей - это игры `3DS`, с жанром `Role_Playing` и рейтингом `RP` «Рейтинг ожидается»\n",
    "\n",
    "**В ходе проверки гипотез**:\n",
    "1. **Cредние пользовательские рейтинги платформы Xbox One и PC равны.**\n",
    "\n",
    "P-значение равно 11,6%, поэтому мы не можем отвергнуть нулевую гипотезу.\n",
    "То есть, с вероятностью в 11,6% можно получить различные значения рейтингов двух платформ.\n",
    "\n",
    "2. **Средние пользовательские рейтинги жанров Action и Sports равны.**\n",
    "\n",
    "Получив p-value меньше 0.05, мы отвергли нулевую гипотезу.\n",
    "Таким образом, вероятность получить одинаковые средние рейнтинги по двум жанрам практически нет."
   ]
  }
 ],
 "metadata": {
  "ExecuteTimeLog": [
   {
    "duration": 1805,
    "start_time": "2022-05-10T07:10:54.479Z"
   },
   {
    "duration": 212,
    "start_time": "2022-05-10T07:10:56.287Z"
   },
   {
    "duration": 72,
    "start_time": "2022-05-10T07:11:07.892Z"
   },
   {
    "duration": 66,
    "start_time": "2022-05-10T07:11:26.998Z"
   },
   {
    "duration": 27,
    "start_time": "2022-05-10T07:11:33.148Z"
   },
   {
    "duration": 6,
    "start_time": "2022-05-10T07:11:34.668Z"
   },
   {
    "duration": 4,
    "start_time": "2022-05-10T07:12:01.129Z"
   },
   {
    "duration": 6,
    "start_time": "2022-05-10T07:12:13.282Z"
   },
   {
    "duration": 16,
    "start_time": "2022-05-10T07:12:14.839Z"
   },
   {
    "duration": 19,
    "start_time": "2022-05-10T07:12:18.759Z"
   },
   {
    "duration": 10,
    "start_time": "2022-05-10T07:12:24.700Z"
   },
   {
    "duration": 97,
    "start_time": "2022-05-10T07:12:28.727Z"
   },
   {
    "duration": 25,
    "start_time": "2022-05-10T07:12:37.495Z"
   },
   {
    "duration": 8,
    "start_time": "2022-05-10T07:12:42.095Z"
   },
   {
    "duration": 95,
    "start_time": "2022-05-10T07:12:44.024Z"
   },
   {
    "duration": 14,
    "start_time": "2022-05-10T07:12:48.150Z"
   },
   {
    "duration": 23,
    "start_time": "2022-05-10T07:12:49.780Z"
   },
   {
    "duration": 26,
    "start_time": "2022-05-10T07:12:51.379Z"
   },
   {
    "duration": 8,
    "start_time": "2022-05-10T07:12:58.581Z"
   },
   {
    "duration": 348,
    "start_time": "2022-05-10T07:13:03.649Z"
   },
   {
    "duration": 109,
    "start_time": "2022-05-10T07:13:05.684Z"
   },
   {
    "duration": 635,
    "start_time": "2022-05-10T07:18:04.450Z"
   },
   {
    "duration": 11,
    "start_time": "2022-05-10T07:18:06.878Z"
   },
   {
    "duration": 36,
    "start_time": "2022-05-10T07:18:07.645Z"
   },
   {
    "duration": 702,
    "start_time": "2022-05-10T07:18:09.843Z"
   },
   {
    "duration": 103,
    "start_time": "2022-05-10T07:18:15.697Z"
   },
   {
    "duration": 47,
    "start_time": "2022-05-10T07:51:28.212Z"
   },
   {
    "duration": 54,
    "start_time": "2022-05-10T07:51:40.358Z"
   },
   {
    "duration": 46,
    "start_time": "2022-05-10T07:52:54.760Z"
   },
   {
    "duration": 33,
    "start_time": "2022-05-10T08:03:19.571Z"
   },
   {
    "duration": 21,
    "start_time": "2022-05-10T08:03:22.860Z"
   },
   {
    "duration": 126,
    "start_time": "2022-05-10T08:03:31.787Z"
   },
   {
    "duration": 1601,
    "start_time": "2022-05-10T08:03:44.465Z"
   },
   {
    "duration": 74,
    "start_time": "2022-05-10T08:03:46.068Z"
   },
   {
    "duration": 26,
    "start_time": "2022-05-10T08:03:46.144Z"
   },
   {
    "duration": 6,
    "start_time": "2022-05-10T08:03:46.173Z"
   },
   {
    "duration": 44,
    "start_time": "2022-05-10T08:03:46.181Z"
   },
   {
    "duration": 8,
    "start_time": "2022-05-10T08:03:46.228Z"
   },
   {
    "duration": 15,
    "start_time": "2022-05-10T08:03:46.239Z"
   },
   {
    "duration": 21,
    "start_time": "2022-05-10T08:03:46.256Z"
   },
   {
    "duration": 50,
    "start_time": "2022-05-10T08:03:46.280Z"
   },
   {
    "duration": 28,
    "start_time": "2022-05-10T08:03:46.336Z"
   },
   {
    "duration": 9,
    "start_time": "2022-05-10T08:03:46.368Z"
   },
   {
    "duration": 58,
    "start_time": "2022-05-10T08:03:46.381Z"
   },
   {
    "duration": 26,
    "start_time": "2022-05-10T08:03:46.442Z"
   },
   {
    "duration": 78,
    "start_time": "2022-05-10T08:03:46.471Z"
   },
   {
    "duration": 10,
    "start_time": "2022-05-10T08:03:46.552Z"
   },
   {
    "duration": 424,
    "start_time": "2022-05-10T08:03:46.565Z"
   },
   {
    "duration": 669,
    "start_time": "2022-05-10T08:03:46.992Z"
   },
   {
    "duration": 10,
    "start_time": "2022-05-10T08:03:47.663Z"
   },
   {
    "duration": 60,
    "start_time": "2022-05-10T08:03:47.676Z"
   },
   {
    "duration": 837,
    "start_time": "2022-05-10T08:03:47.739Z"
   },
   {
    "duration": 108,
    "start_time": "2022-05-10T08:03:48.579Z"
   },
   {
    "duration": 0,
    "start_time": "2022-05-10T08:03:48.690Z"
   },
   {
    "duration": 30,
    "start_time": "2022-05-10T08:04:04.639Z"
   },
   {
    "duration": 25,
    "start_time": "2022-05-10T08:04:07.958Z"
   },
   {
    "duration": 555,
    "start_time": "2022-05-10T08:05:38.090Z"
   },
   {
    "duration": 28,
    "start_time": "2022-05-10T08:06:17.023Z"
   },
   {
    "duration": 611,
    "start_time": "2022-05-10T08:06:19.576Z"
   },
   {
    "duration": 30,
    "start_time": "2022-05-10T08:07:15.026Z"
   },
   {
    "duration": 643,
    "start_time": "2022-05-10T08:07:27.572Z"
   },
   {
    "duration": 27,
    "start_time": "2022-05-10T08:07:44.514Z"
   },
   {
    "duration": 551,
    "start_time": "2022-05-10T08:07:46.068Z"
   },
   {
    "duration": 26,
    "start_time": "2022-05-10T08:07:55.833Z"
   },
   {
    "duration": 529,
    "start_time": "2022-05-10T08:07:58.041Z"
   },
   {
    "duration": 27,
    "start_time": "2022-05-10T08:08:54.712Z"
   },
   {
    "duration": 587,
    "start_time": "2022-05-10T08:08:57.215Z"
   },
   {
    "duration": 615,
    "start_time": "2022-05-10T08:11:01.864Z"
   },
   {
    "duration": 33,
    "start_time": "2022-05-10T08:13:21.994Z"
   },
   {
    "duration": 522,
    "start_time": "2022-05-10T08:16:47.459Z"
   },
   {
    "duration": 379,
    "start_time": "2022-05-10T08:17:12.568Z"
   },
   {
    "duration": 1770,
    "start_time": "2022-05-10T08:17:26.974Z"
   },
   {
    "duration": 64,
    "start_time": "2022-05-10T08:17:28.747Z"
   },
   {
    "duration": 33,
    "start_time": "2022-05-10T08:17:28.814Z"
   },
   {
    "duration": 5,
    "start_time": "2022-05-10T08:17:28.851Z"
   },
   {
    "duration": 6,
    "start_time": "2022-05-10T08:17:28.858Z"
   },
   {
    "duration": 10,
    "start_time": "2022-05-10T08:17:28.867Z"
   },
   {
    "duration": 13,
    "start_time": "2022-05-10T08:17:28.924Z"
   },
   {
    "duration": 25,
    "start_time": "2022-05-10T08:17:28.939Z"
   },
   {
    "duration": 14,
    "start_time": "2022-05-10T08:17:28.967Z"
   },
   {
    "duration": 72,
    "start_time": "2022-05-10T08:17:28.986Z"
   },
   {
    "duration": 11,
    "start_time": "2022-05-10T08:17:29.061Z"
   },
   {
    "duration": 57,
    "start_time": "2022-05-10T08:17:29.075Z"
   },
   {
    "duration": 27,
    "start_time": "2022-05-10T08:17:29.135Z"
   },
   {
    "duration": 62,
    "start_time": "2022-05-10T08:17:29.165Z"
   },
   {
    "duration": 9,
    "start_time": "2022-05-10T08:17:29.231Z"
   },
   {
    "duration": 389,
    "start_time": "2022-05-10T08:17:29.243Z"
   },
   {
    "duration": 548,
    "start_time": "2022-05-10T08:17:29.635Z"
   },
   {
    "duration": 14,
    "start_time": "2022-05-10T08:17:30.186Z"
   },
   {
    "duration": 60,
    "start_time": "2022-05-10T08:17:30.202Z"
   },
   {
    "duration": 850,
    "start_time": "2022-05-10T08:17:30.265Z"
   },
   {
    "duration": 27,
    "start_time": "2022-05-10T08:17:31.125Z"
   },
   {
    "duration": 403,
    "start_time": "2022-05-10T08:17:31.154Z"
   },
   {
    "duration": 28,
    "start_time": "2022-05-10T08:17:42.773Z"
   },
   {
    "duration": 370,
    "start_time": "2022-05-10T08:17:43.406Z"
   },
   {
    "duration": 616,
    "start_time": "2022-05-10T08:18:04.249Z"
   },
   {
    "duration": 455,
    "start_time": "2022-05-10T08:18:22.855Z"
   },
   {
    "duration": 498,
    "start_time": "2022-05-10T08:18:32.527Z"
   },
   {
    "duration": 511,
    "start_time": "2022-05-10T08:18:38.808Z"
   },
   {
    "duration": 475,
    "start_time": "2022-05-10T08:18:42.228Z"
   },
   {
    "duration": 473,
    "start_time": "2022-05-10T08:20:58.013Z"
   },
   {
    "duration": 460,
    "start_time": "2022-05-10T08:21:41.794Z"
   },
   {
    "duration": 276,
    "start_time": "2022-05-10T08:22:46.572Z"
   },
   {
    "duration": 448,
    "start_time": "2022-05-10T08:22:54.902Z"
   },
   {
    "duration": 25,
    "start_time": "2022-05-10T08:24:28.341Z"
   },
   {
    "duration": 426,
    "start_time": "2022-05-10T08:24:36.182Z"
   },
   {
    "duration": 22,
    "start_time": "2022-05-10T08:42:06.569Z"
   },
   {
    "duration": 22,
    "start_time": "2022-05-10T08:43:02.757Z"
   },
   {
    "duration": 22,
    "start_time": "2022-05-10T08:43:06.288Z"
   },
   {
    "duration": 22,
    "start_time": "2022-05-10T08:43:12.518Z"
   },
   {
    "duration": 27,
    "start_time": "2022-05-10T08:43:30.064Z"
   },
   {
    "duration": 25,
    "start_time": "2022-05-10T08:43:34.042Z"
   },
   {
    "duration": 6,
    "start_time": "2022-05-10T08:43:45.720Z"
   },
   {
    "duration": 411,
    "start_time": "2022-05-10T08:43:54.623Z"
   },
   {
    "duration": 23,
    "start_time": "2022-05-10T08:43:57.552Z"
   },
   {
    "duration": 38,
    "start_time": "2022-05-10T08:44:38.795Z"
   },
   {
    "duration": 33,
    "start_time": "2022-05-10T08:44:39.483Z"
   },
   {
    "duration": 23,
    "start_time": "2022-05-10T08:47:27.212Z"
   },
   {
    "duration": 19,
    "start_time": "2022-05-10T08:47:29.809Z"
   },
   {
    "duration": 30,
    "start_time": "2022-05-10T08:47:40.830Z"
   },
   {
    "duration": 1665,
    "start_time": "2022-05-10T08:47:54.241Z"
   },
   {
    "duration": 80,
    "start_time": "2022-05-10T08:47:55.909Z"
   },
   {
    "duration": 48,
    "start_time": "2022-05-10T08:47:55.991Z"
   },
   {
    "duration": 10,
    "start_time": "2022-05-10T08:47:56.042Z"
   },
   {
    "duration": 6,
    "start_time": "2022-05-10T08:47:56.057Z"
   },
   {
    "duration": 16,
    "start_time": "2022-05-10T08:47:56.065Z"
   },
   {
    "duration": 65,
    "start_time": "2022-05-10T08:47:56.083Z"
   },
   {
    "duration": 23,
    "start_time": "2022-05-10T08:47:56.151Z"
   },
   {
    "duration": 13,
    "start_time": "2022-05-10T08:47:56.177Z"
   },
   {
    "duration": 70,
    "start_time": "2022-05-10T08:47:56.193Z"
   },
   {
    "duration": 11,
    "start_time": "2022-05-10T08:47:56.266Z"
   },
   {
    "duration": 54,
    "start_time": "2022-05-10T08:47:56.280Z"
   },
   {
    "duration": 34,
    "start_time": "2022-05-10T08:47:56.337Z"
   },
   {
    "duration": 26,
    "start_time": "2022-05-10T08:47:56.377Z"
   },
   {
    "duration": 21,
    "start_time": "2022-05-10T08:47:56.428Z"
   },
   {
    "duration": 407,
    "start_time": "2022-05-10T08:47:56.452Z"
   },
   {
    "duration": 586,
    "start_time": "2022-05-10T08:47:56.862Z"
   },
   {
    "duration": 10,
    "start_time": "2022-05-10T08:47:57.453Z"
   },
   {
    "duration": 68,
    "start_time": "2022-05-10T08:47:57.465Z"
   },
   {
    "duration": 803,
    "start_time": "2022-05-10T08:47:57.536Z"
   },
   {
    "duration": 35,
    "start_time": "2022-05-10T08:47:58.343Z"
   },
   {
    "duration": 23,
    "start_time": "2022-05-10T08:47:58.380Z"
   },
   {
    "duration": 489,
    "start_time": "2022-05-10T08:47:58.405Z"
   },
   {
    "duration": 41,
    "start_time": "2022-05-10T08:47:58.897Z"
   },
   {
    "duration": 27,
    "start_time": "2022-05-10T08:47:58.941Z"
   },
   {
    "duration": 23,
    "start_time": "2022-05-10T08:48:12.069Z"
   },
   {
    "duration": 35,
    "start_time": "2022-05-10T08:48:31.022Z"
   },
   {
    "duration": 20,
    "start_time": "2022-05-10T08:49:23.357Z"
   },
   {
    "duration": 580,
    "start_time": "2022-05-10T09:15:55.550Z"
   },
   {
    "duration": 256,
    "start_time": "2022-05-10T09:16:00.978Z"
   },
   {
    "duration": 21,
    "start_time": "2022-05-10T09:16:24.964Z"
   },
   {
    "duration": 124,
    "start_time": "2022-05-10T09:17:58.286Z"
   },
   {
    "duration": 468,
    "start_time": "2022-05-10T09:18:02.049Z"
   },
   {
    "duration": 1640,
    "start_time": "2022-05-10T09:18:35.249Z"
   },
   {
    "duration": 77,
    "start_time": "2022-05-10T09:18:36.891Z"
   },
   {
    "duration": 25,
    "start_time": "2022-05-10T09:18:36.971Z"
   },
   {
    "duration": 6,
    "start_time": "2022-05-10T09:18:36.998Z"
   },
   {
    "duration": 6,
    "start_time": "2022-05-10T09:18:37.030Z"
   },
   {
    "duration": 18,
    "start_time": "2022-05-10T09:18:37.044Z"
   },
   {
    "duration": 16,
    "start_time": "2022-05-10T09:18:37.065Z"
   },
   {
    "duration": 69,
    "start_time": "2022-05-10T09:18:37.085Z"
   },
   {
    "duration": 15,
    "start_time": "2022-05-10T09:18:37.156Z"
   },
   {
    "duration": 26,
    "start_time": "2022-05-10T09:18:37.173Z"
   },
   {
    "duration": 44,
    "start_time": "2022-05-10T09:18:37.201Z"
   },
   {
    "duration": 22,
    "start_time": "2022-05-10T09:18:37.251Z"
   },
   {
    "duration": 22,
    "start_time": "2022-05-10T09:18:37.275Z"
   },
   {
    "duration": 62,
    "start_time": "2022-05-10T09:18:37.300Z"
   },
   {
    "duration": 8,
    "start_time": "2022-05-10T09:18:37.365Z"
   },
   {
    "duration": 436,
    "start_time": "2022-05-10T09:18:37.375Z"
   },
   {
    "duration": 591,
    "start_time": "2022-05-10T09:18:37.814Z"
   },
   {
    "duration": 20,
    "start_time": "2022-05-10T09:18:38.408Z"
   },
   {
    "duration": 40,
    "start_time": "2022-05-10T09:18:38.432Z"
   },
   {
    "duration": 793,
    "start_time": "2022-05-10T09:18:38.475Z"
   },
   {
    "duration": 27,
    "start_time": "2022-05-10T09:18:39.271Z"
   },
   {
    "duration": 32,
    "start_time": "2022-05-10T09:18:39.328Z"
   },
   {
    "duration": 482,
    "start_time": "2022-05-10T09:18:39.364Z"
   },
   {
    "duration": 20,
    "start_time": "2022-05-10T09:18:39.849Z"
   },
   {
    "duration": 611,
    "start_time": "2022-05-10T09:18:39.871Z"
   },
   {
    "duration": 188,
    "start_time": "2022-05-10T09:18:40.485Z"
   },
   {
    "duration": 23,
    "start_time": "2022-05-10T09:19:52.450Z"
   },
   {
    "duration": 30,
    "start_time": "2022-05-10T09:20:11.274Z"
   },
   {
    "duration": 24,
    "start_time": "2022-05-10T09:20:37.361Z"
   },
   {
    "duration": 1733,
    "start_time": "2022-05-10T09:21:16.624Z"
   },
   {
    "duration": 81,
    "start_time": "2022-05-10T09:21:18.360Z"
   },
   {
    "duration": 26,
    "start_time": "2022-05-10T09:21:18.443Z"
   },
   {
    "duration": 7,
    "start_time": "2022-05-10T09:21:18.473Z"
   },
   {
    "duration": 8,
    "start_time": "2022-05-10T09:21:18.482Z"
   },
   {
    "duration": 11,
    "start_time": "2022-05-10T09:21:18.532Z"
   },
   {
    "duration": 18,
    "start_time": "2022-05-10T09:21:18.546Z"
   },
   {
    "duration": 31,
    "start_time": "2022-05-10T09:21:18.566Z"
   },
   {
    "duration": 37,
    "start_time": "2022-05-10T09:21:18.600Z"
   },
   {
    "duration": 30,
    "start_time": "2022-05-10T09:21:18.644Z"
   },
   {
    "duration": 12,
    "start_time": "2022-05-10T09:21:18.678Z"
   },
   {
    "duration": 20,
    "start_time": "2022-05-10T09:21:18.727Z"
   },
   {
    "duration": 22,
    "start_time": "2022-05-10T09:21:18.750Z"
   },
   {
    "duration": 77,
    "start_time": "2022-05-10T09:21:18.774Z"
   },
   {
    "duration": 8,
    "start_time": "2022-05-10T09:21:18.854Z"
   },
   {
    "duration": 444,
    "start_time": "2022-05-10T09:21:18.865Z"
   },
   {
    "duration": 566,
    "start_time": "2022-05-10T09:21:19.312Z"
   },
   {
    "duration": 10,
    "start_time": "2022-05-10T09:21:19.880Z"
   },
   {
    "duration": 63,
    "start_time": "2022-05-10T09:21:19.892Z"
   },
   {
    "duration": 731,
    "start_time": "2022-05-10T09:21:19.958Z"
   },
   {
    "duration": 56,
    "start_time": "2022-05-10T09:21:20.691Z"
   },
   {
    "duration": 23,
    "start_time": "2022-05-10T09:21:20.750Z"
   },
   {
    "duration": 457,
    "start_time": "2022-05-10T09:21:20.775Z"
   },
   {
    "duration": 26,
    "start_time": "2022-05-10T09:21:21.235Z"
   },
   {
    "duration": 271,
    "start_time": "2022-05-10T09:21:24.938Z"
   },
   {
    "duration": 24,
    "start_time": "2022-05-10T09:21:46.244Z"
   },
   {
    "duration": 1591,
    "start_time": "2022-05-10T09:23:21.353Z"
   },
   {
    "duration": 69,
    "start_time": "2022-05-10T09:23:22.947Z"
   },
   {
    "duration": 43,
    "start_time": "2022-05-10T09:23:23.018Z"
   },
   {
    "duration": 7,
    "start_time": "2022-05-10T09:23:23.066Z"
   },
   {
    "duration": 12,
    "start_time": "2022-05-10T09:23:23.075Z"
   },
   {
    "duration": 40,
    "start_time": "2022-05-10T09:23:23.089Z"
   },
   {
    "duration": 18,
    "start_time": "2022-05-10T09:23:23.133Z"
   },
   {
    "duration": 34,
    "start_time": "2022-05-10T09:23:23.153Z"
   },
   {
    "duration": 13,
    "start_time": "2022-05-10T09:23:23.190Z"
   },
   {
    "duration": 52,
    "start_time": "2022-05-10T09:23:23.207Z"
   },
   {
    "duration": 9,
    "start_time": "2022-05-10T09:23:23.262Z"
   },
   {
    "duration": 14,
    "start_time": "2022-05-10T09:23:23.273Z"
   },
   {
    "duration": 69,
    "start_time": "2022-05-10T09:23:23.289Z"
   },
   {
    "duration": 26,
    "start_time": "2022-05-10T09:23:23.360Z"
   },
   {
    "duration": 41,
    "start_time": "2022-05-10T09:23:23.388Z"
   },
   {
    "duration": 406,
    "start_time": "2022-05-10T09:23:23.432Z"
   },
   {
    "duration": 584,
    "start_time": "2022-05-10T09:23:23.841Z"
   },
   {
    "duration": 13,
    "start_time": "2022-05-10T09:23:24.428Z"
   },
   {
    "duration": 36,
    "start_time": "2022-05-10T09:23:24.443Z"
   },
   {
    "duration": 797,
    "start_time": "2022-05-10T09:23:24.481Z"
   },
   {
    "duration": 57,
    "start_time": "2022-05-10T09:23:25.280Z"
   },
   {
    "duration": 21,
    "start_time": "2022-05-10T09:23:25.340Z"
   },
   {
    "duration": 470,
    "start_time": "2022-05-10T09:23:25.364Z"
   },
   {
    "duration": 21,
    "start_time": "2022-05-10T09:23:25.837Z"
   },
   {
    "duration": 209,
    "start_time": "2022-05-10T09:23:25.860Z"
   },
   {
    "duration": 0,
    "start_time": "2022-05-10T09:23:26.072Z"
   },
   {
    "duration": 23,
    "start_time": "2022-05-10T09:23:40.067Z"
   },
   {
    "duration": 76,
    "start_time": "2022-05-10T09:25:49.494Z"
   },
   {
    "duration": 1574,
    "start_time": "2022-05-10T09:25:54.782Z"
   },
   {
    "duration": 71,
    "start_time": "2022-05-10T09:25:56.359Z"
   },
   {
    "duration": 27,
    "start_time": "2022-05-10T09:25:56.433Z"
   },
   {
    "duration": 6,
    "start_time": "2022-05-10T09:25:56.463Z"
   },
   {
    "duration": 8,
    "start_time": "2022-05-10T09:25:56.472Z"
   },
   {
    "duration": 50,
    "start_time": "2022-05-10T09:25:56.483Z"
   },
   {
    "duration": 17,
    "start_time": "2022-05-10T09:25:56.535Z"
   },
   {
    "duration": 22,
    "start_time": "2022-05-10T09:25:56.554Z"
   },
   {
    "duration": 47,
    "start_time": "2022-05-10T09:25:56.578Z"
   },
   {
    "duration": 27,
    "start_time": "2022-05-10T09:25:56.629Z"
   },
   {
    "duration": 10,
    "start_time": "2022-05-10T09:25:56.658Z"
   },
   {
    "duration": 54,
    "start_time": "2022-05-10T09:25:56.670Z"
   },
   {
    "duration": 23,
    "start_time": "2022-05-10T09:25:56.727Z"
   },
   {
    "duration": 26,
    "start_time": "2022-05-10T09:25:56.753Z"
   },
   {
    "duration": 45,
    "start_time": "2022-05-10T09:25:56.781Z"
   },
   {
    "duration": 364,
    "start_time": "2022-05-10T09:25:56.828Z"
   },
   {
    "duration": 520,
    "start_time": "2022-05-10T09:25:57.194Z"
   },
   {
    "duration": 11,
    "start_time": "2022-05-10T09:25:57.724Z"
   },
   {
    "duration": 34,
    "start_time": "2022-05-10T09:25:57.737Z"
   },
   {
    "duration": 716,
    "start_time": "2022-05-10T09:25:57.773Z"
   },
   {
    "duration": 43,
    "start_time": "2022-05-10T09:25:58.492Z"
   },
   {
    "duration": 24,
    "start_time": "2022-05-10T09:25:58.537Z"
   },
   {
    "duration": 441,
    "start_time": "2022-05-10T09:25:58.564Z"
   },
   {
    "duration": 32,
    "start_time": "2022-05-10T09:25:59.007Z"
   },
   {
    "duration": 537,
    "start_time": "2022-05-10T09:25:59.042Z"
   },
   {
    "duration": 418,
    "start_time": "2022-05-10T09:26:45.430Z"
   },
   {
    "duration": 405,
    "start_time": "2022-05-10T09:27:33.696Z"
   },
   {
    "duration": 1051,
    "start_time": "2022-05-10T09:30:06.732Z"
   },
   {
    "duration": 1574,
    "start_time": "2022-05-10T09:30:28.866Z"
   },
   {
    "duration": 73,
    "start_time": "2022-05-10T09:30:30.443Z"
   },
   {
    "duration": 34,
    "start_time": "2022-05-10T09:30:30.518Z"
   },
   {
    "duration": 7,
    "start_time": "2022-05-10T09:30:30.556Z"
   },
   {
    "duration": 9,
    "start_time": "2022-05-10T09:30:30.565Z"
   },
   {
    "duration": 55,
    "start_time": "2022-05-10T09:30:30.577Z"
   },
   {
    "duration": 27,
    "start_time": "2022-05-10T09:30:30.635Z"
   },
   {
    "duration": 30,
    "start_time": "2022-05-10T09:30:30.665Z"
   },
   {
    "duration": 32,
    "start_time": "2022-05-10T09:30:30.699Z"
   },
   {
    "duration": 36,
    "start_time": "2022-05-10T09:30:30.736Z"
   },
   {
    "duration": 11,
    "start_time": "2022-05-10T09:30:30.776Z"
   },
   {
    "duration": 51,
    "start_time": "2022-05-10T09:30:30.790Z"
   },
   {
    "duration": 34,
    "start_time": "2022-05-10T09:30:30.845Z"
   },
   {
    "duration": 79,
    "start_time": "2022-05-10T09:30:30.882Z"
   },
   {
    "duration": 11,
    "start_time": "2022-05-10T09:30:30.964Z"
   },
   {
    "duration": 607,
    "start_time": "2022-05-10T09:30:30.978Z"
   },
   {
    "duration": 938,
    "start_time": "2022-05-10T09:30:31.588Z"
   },
   {
    "duration": 15,
    "start_time": "2022-05-10T09:30:32.529Z"
   },
   {
    "duration": 84,
    "start_time": "2022-05-10T09:30:32.547Z"
   },
   {
    "duration": 718,
    "start_time": "2022-05-10T09:30:32.634Z"
   },
   {
    "duration": 29,
    "start_time": "2022-05-10T09:30:33.355Z"
   },
   {
    "duration": 69,
    "start_time": "2022-05-10T09:30:33.387Z"
   },
   {
    "duration": 723,
    "start_time": "2022-05-10T09:30:33.459Z"
   },
   {
    "duration": 46,
    "start_time": "2022-05-10T09:30:34.186Z"
   },
   {
    "duration": 889,
    "start_time": "2022-05-10T09:30:34.235Z"
   },
   {
    "duration": 252,
    "start_time": "2022-05-10T09:31:59.625Z"
   },
   {
    "duration": 2287,
    "start_time": "2022-05-10T09:32:37.503Z"
   },
   {
    "duration": 109,
    "start_time": "2022-05-10T09:32:39.794Z"
   },
   {
    "duration": 38,
    "start_time": "2022-05-10T09:32:39.905Z"
   },
   {
    "duration": 8,
    "start_time": "2022-05-10T09:32:39.946Z"
   },
   {
    "duration": 31,
    "start_time": "2022-05-10T09:32:39.956Z"
   },
   {
    "duration": 37,
    "start_time": "2022-05-10T09:32:39.989Z"
   },
   {
    "duration": 19,
    "start_time": "2022-05-10T09:32:40.029Z"
   },
   {
    "duration": 35,
    "start_time": "2022-05-10T09:32:40.050Z"
   },
   {
    "duration": 23,
    "start_time": "2022-05-10T09:32:40.088Z"
   },
   {
    "duration": 37,
    "start_time": "2022-05-10T09:32:40.116Z"
   },
   {
    "duration": 9,
    "start_time": "2022-05-10T09:32:40.156Z"
   },
   {
    "duration": 25,
    "start_time": "2022-05-10T09:32:40.167Z"
   },
   {
    "duration": 64,
    "start_time": "2022-05-10T09:32:40.195Z"
   },
   {
    "duration": 37,
    "start_time": "2022-05-10T09:32:40.261Z"
   },
   {
    "duration": 8,
    "start_time": "2022-05-10T09:32:40.300Z"
   },
   {
    "duration": 367,
    "start_time": "2022-05-10T09:32:40.325Z"
   },
   {
    "duration": 542,
    "start_time": "2022-05-10T09:32:40.694Z"
   },
   {
    "duration": 10,
    "start_time": "2022-05-10T09:32:41.239Z"
   },
   {
    "duration": 38,
    "start_time": "2022-05-10T09:32:41.251Z"
   },
   {
    "duration": 764,
    "start_time": "2022-05-10T09:32:41.292Z"
   },
   {
    "duration": 42,
    "start_time": "2022-05-10T09:32:42.059Z"
   },
   {
    "duration": 38,
    "start_time": "2022-05-10T09:32:42.126Z"
   },
   {
    "duration": 706,
    "start_time": "2022-05-10T09:32:42.167Z"
   },
   {
    "duration": 29,
    "start_time": "2022-05-10T09:32:42.876Z"
   },
   {
    "duration": 671,
    "start_time": "2022-05-10T09:32:46.922Z"
   },
   {
    "duration": 324,
    "start_time": "2022-05-10T09:33:42.952Z"
   },
   {
    "duration": 410,
    "start_time": "2022-05-10T09:35:00.629Z"
   },
   {
    "duration": 459,
    "start_time": "2022-05-10T09:35:43.553Z"
   },
   {
    "duration": 439,
    "start_time": "2022-05-10T09:36:19.932Z"
   },
   {
    "duration": 388,
    "start_time": "2022-05-10T09:36:33.606Z"
   },
   {
    "duration": 421,
    "start_time": "2022-05-10T09:37:01.127Z"
   },
   {
    "duration": 493,
    "start_time": "2022-05-10T09:37:07.809Z"
   },
   {
    "duration": 396,
    "start_time": "2022-05-10T09:40:04.468Z"
   },
   {
    "duration": 439,
    "start_time": "2022-05-10T09:40:21.573Z"
   },
   {
    "duration": 462,
    "start_time": "2022-05-10T09:43:29.711Z"
   },
   {
    "duration": 1520,
    "start_time": "2022-05-10T09:47:38.949Z"
   },
   {
    "duration": 73,
    "start_time": "2022-05-10T09:47:40.472Z"
   },
   {
    "duration": 27,
    "start_time": "2022-05-10T09:47:40.547Z"
   },
   {
    "duration": 5,
    "start_time": "2022-05-10T09:47:40.576Z"
   },
   {
    "duration": 41,
    "start_time": "2022-05-10T09:47:40.584Z"
   },
   {
    "duration": 10,
    "start_time": "2022-05-10T09:47:40.627Z"
   },
   {
    "duration": 15,
    "start_time": "2022-05-10T09:47:40.639Z"
   },
   {
    "duration": 19,
    "start_time": "2022-05-10T09:47:40.656Z"
   },
   {
    "duration": 51,
    "start_time": "2022-05-10T09:47:40.678Z"
   },
   {
    "duration": 33,
    "start_time": "2022-05-10T09:47:40.732Z"
   },
   {
    "duration": 9,
    "start_time": "2022-05-10T09:47:40.768Z"
   },
   {
    "duration": 47,
    "start_time": "2022-05-10T09:47:40.779Z"
   },
   {
    "duration": 23,
    "start_time": "2022-05-10T09:47:40.828Z"
   },
   {
    "duration": 26,
    "start_time": "2022-05-10T09:47:40.855Z"
   },
   {
    "duration": 46,
    "start_time": "2022-05-10T09:47:40.884Z"
   },
   {
    "duration": 383,
    "start_time": "2022-05-10T09:47:40.932Z"
   },
   {
    "duration": 532,
    "start_time": "2022-05-10T09:47:41.317Z"
   },
   {
    "duration": 10,
    "start_time": "2022-05-10T09:47:41.852Z"
   },
   {
    "duration": 66,
    "start_time": "2022-05-10T09:47:41.864Z"
   },
   {
    "duration": 700,
    "start_time": "2022-05-10T09:47:41.932Z"
   },
   {
    "duration": 27,
    "start_time": "2022-05-10T09:47:42.634Z"
   },
   {
    "duration": 22,
    "start_time": "2022-05-10T09:47:42.664Z"
   },
   {
    "duration": 455,
    "start_time": "2022-05-10T09:47:42.688Z"
   },
   {
    "duration": 20,
    "start_time": "2022-05-10T09:47:43.145Z"
   },
   {
    "duration": 570,
    "start_time": "2022-05-10T09:47:43.167Z"
   },
   {
    "duration": 458,
    "start_time": "2022-05-10T10:29:39.495Z"
   },
   {
    "duration": 22,
    "start_time": "2022-05-10T10:35:03.780Z"
   },
   {
    "duration": 22,
    "start_time": "2022-05-10T10:35:06.922Z"
   },
   {
    "duration": 28,
    "start_time": "2022-05-10T10:36:15.601Z"
   },
   {
    "duration": 26,
    "start_time": "2022-05-10T10:36:51.922Z"
   },
   {
    "duration": 21,
    "start_time": "2022-05-10T10:36:53.136Z"
   },
   {
    "duration": 436,
    "start_time": "2022-05-10T10:36:54.684Z"
   },
   {
    "duration": 21,
    "start_time": "2022-05-10T10:36:58.044Z"
   },
   {
    "duration": 502,
    "start_time": "2022-05-10T10:37:06.568Z"
   },
   {
    "duration": 28,
    "start_time": "2022-05-10T10:37:46.454Z"
   },
   {
    "duration": 24,
    "start_time": "2022-05-10T10:37:46.898Z"
   },
   {
    "duration": 435,
    "start_time": "2022-05-10T10:37:47.215Z"
   },
   {
    "duration": 20,
    "start_time": "2022-05-10T10:37:47.673Z"
   },
   {
    "duration": 491,
    "start_time": "2022-05-10T10:37:52.530Z"
   },
   {
    "duration": 472,
    "start_time": "2022-05-10T10:39:22.835Z"
   },
   {
    "duration": 597,
    "start_time": "2022-05-10T10:39:30.980Z"
   },
   {
    "duration": 26,
    "start_time": "2022-05-10T10:39:42.823Z"
   },
   {
    "duration": 24,
    "start_time": "2022-05-10T10:39:43.747Z"
   },
   {
    "duration": 412,
    "start_time": "2022-05-10T10:39:44.242Z"
   },
   {
    "duration": 27,
    "start_time": "2022-05-10T10:39:44.680Z"
   },
   {
    "duration": 663,
    "start_time": "2022-05-10T10:39:50.001Z"
   },
   {
    "duration": 20,
    "start_time": "2022-05-10T10:42:07.850Z"
   },
   {
    "duration": 459,
    "start_time": "2022-05-10T10:42:13.276Z"
   },
   {
    "duration": 294,
    "start_time": "2022-05-10T12:22:09.464Z"
   },
   {
    "duration": 20,
    "start_time": "2022-05-10T12:23:20.904Z"
   },
   {
    "duration": 707,
    "start_time": "2022-05-10T12:23:41.821Z"
   },
   {
    "duration": 513,
    "start_time": "2022-05-10T12:24:14.818Z"
   },
   {
    "duration": 18,
    "start_time": "2022-05-10T12:24:32.789Z"
   },
   {
    "duration": 519,
    "start_time": "2022-05-10T12:26:40.930Z"
   },
   {
    "duration": 496,
    "start_time": "2022-05-10T12:28:23.073Z"
   },
   {
    "duration": 596,
    "start_time": "2022-05-10T12:31:50.907Z"
   },
   {
    "duration": 600,
    "start_time": "2022-05-10T12:37:41.682Z"
   },
   {
    "duration": 585,
    "start_time": "2022-05-10T12:38:59.215Z"
   },
   {
    "duration": 18,
    "start_time": "2022-05-10T12:39:06.887Z"
   },
   {
    "duration": 903,
    "start_time": "2022-05-10T12:39:23.178Z"
   },
   {
    "duration": 592,
    "start_time": "2022-05-10T12:40:03.863Z"
   },
   {
    "duration": 395,
    "start_time": "2022-05-10T12:45:15.511Z"
   },
   {
    "duration": 388,
    "start_time": "2022-05-10T12:45:29.847Z"
   },
   {
    "duration": 2290,
    "start_time": "2022-05-10T12:45:39.012Z"
   },
   {
    "duration": 106,
    "start_time": "2022-05-10T12:45:41.305Z"
   },
   {
    "duration": 44,
    "start_time": "2022-05-10T12:45:41.414Z"
   },
   {
    "duration": 7,
    "start_time": "2022-05-10T12:45:41.462Z"
   },
   {
    "duration": 18,
    "start_time": "2022-05-10T12:45:41.472Z"
   },
   {
    "duration": 20,
    "start_time": "2022-05-10T12:45:41.492Z"
   },
   {
    "duration": 27,
    "start_time": "2022-05-10T12:45:41.514Z"
   },
   {
    "duration": 20,
    "start_time": "2022-05-10T12:45:41.543Z"
   },
   {
    "duration": 27,
    "start_time": "2022-05-10T12:45:41.565Z"
   },
   {
    "duration": 40,
    "start_time": "2022-05-10T12:45:41.596Z"
   },
   {
    "duration": 10,
    "start_time": "2022-05-10T12:45:41.639Z"
   },
   {
    "duration": 21,
    "start_time": "2022-05-10T12:45:41.651Z"
   },
   {
    "duration": 52,
    "start_time": "2022-05-10T12:45:41.674Z"
   },
   {
    "duration": 30,
    "start_time": "2022-05-10T12:45:41.728Z"
   },
   {
    "duration": 9,
    "start_time": "2022-05-10T12:45:41.760Z"
   },
   {
    "duration": 405,
    "start_time": "2022-05-10T12:45:41.771Z"
   },
   {
    "duration": 530,
    "start_time": "2022-05-10T12:45:42.178Z"
   },
   {
    "duration": 24,
    "start_time": "2022-05-10T12:45:42.712Z"
   },
   {
    "duration": 77,
    "start_time": "2022-05-10T12:45:42.739Z"
   },
   {
    "duration": 730,
    "start_time": "2022-05-10T12:45:42.819Z"
   },
   {
    "duration": 31,
    "start_time": "2022-05-10T12:45:43.552Z"
   },
   {
    "duration": 50,
    "start_time": "2022-05-10T12:45:43.585Z"
   },
   {
    "duration": 429,
    "start_time": "2022-05-10T12:45:43.637Z"
   },
   {
    "duration": 22,
    "start_time": "2022-05-10T12:45:44.069Z"
   },
   {
    "duration": 688,
    "start_time": "2022-05-10T12:45:44.093Z"
   },
   {
    "duration": 430,
    "start_time": "2022-05-10T12:45:44.784Z"
   },
   {
    "duration": 0,
    "start_time": "2022-05-10T12:45:45.217Z"
   },
   {
    "duration": 0,
    "start_time": "2022-05-10T12:45:45.218Z"
   },
   {
    "duration": 301,
    "start_time": "2022-05-10T12:46:34.355Z"
   },
   {
    "duration": 295,
    "start_time": "2022-05-10T12:47:07.530Z"
   },
   {
    "duration": 1682,
    "start_time": "2022-05-10T12:47:24.680Z"
   },
   {
    "duration": 74,
    "start_time": "2022-05-10T12:47:26.364Z"
   },
   {
    "duration": 36,
    "start_time": "2022-05-10T12:47:26.441Z"
   },
   {
    "duration": 7,
    "start_time": "2022-05-10T12:47:26.481Z"
   },
   {
    "duration": 35,
    "start_time": "2022-05-10T12:47:26.490Z"
   },
   {
    "duration": 17,
    "start_time": "2022-05-10T12:47:26.527Z"
   },
   {
    "duration": 21,
    "start_time": "2022-05-10T12:47:26.546Z"
   },
   {
    "duration": 34,
    "start_time": "2022-05-10T12:47:26.569Z"
   },
   {
    "duration": 18,
    "start_time": "2022-05-10T12:47:26.605Z"
   },
   {
    "duration": 32,
    "start_time": "2022-05-10T12:47:26.627Z"
   },
   {
    "duration": 9,
    "start_time": "2022-05-10T12:47:26.662Z"
   },
   {
    "duration": 30,
    "start_time": "2022-05-10T12:47:26.673Z"
   },
   {
    "duration": 36,
    "start_time": "2022-05-10T12:47:26.706Z"
   },
   {
    "duration": 36,
    "start_time": "2022-05-10T12:47:26.744Z"
   },
   {
    "duration": 10,
    "start_time": "2022-05-10T12:47:26.783Z"
   },
   {
    "duration": 506,
    "start_time": "2022-05-10T12:47:26.796Z"
   },
   {
    "duration": 529,
    "start_time": "2022-05-10T12:47:27.305Z"
   },
   {
    "duration": 10,
    "start_time": "2022-05-10T12:47:27.836Z"
   },
   {
    "duration": 56,
    "start_time": "2022-05-10T12:47:27.848Z"
   },
   {
    "duration": 723,
    "start_time": "2022-05-10T12:47:27.906Z"
   },
   {
    "duration": 28,
    "start_time": "2022-05-10T12:47:28.632Z"
   },
   {
    "duration": 26,
    "start_time": "2022-05-10T12:47:28.663Z"
   },
   {
    "duration": 444,
    "start_time": "2022-05-10T12:47:28.692Z"
   },
   {
    "duration": 21,
    "start_time": "2022-05-10T12:47:29.140Z"
   },
   {
    "duration": 593,
    "start_time": "2022-05-10T12:47:29.163Z"
   },
   {
    "duration": 449,
    "start_time": "2022-05-10T12:47:29.758Z"
   },
   {
    "duration": 0,
    "start_time": "2022-05-10T12:47:30.210Z"
   },
   {
    "duration": 0,
    "start_time": "2022-05-10T12:47:30.224Z"
   },
   {
    "duration": 451,
    "start_time": "2022-05-10T12:47:44.284Z"
   },
   {
    "duration": 12,
    "start_time": "2022-05-10T12:47:46.869Z"
   },
   {
    "duration": 14,
    "start_time": "2022-05-10T12:47:56.492Z"
   },
   {
    "duration": 667,
    "start_time": "2022-05-10T13:00:27.316Z"
   },
   {
    "duration": 454,
    "start_time": "2022-05-10T13:00:37.713Z"
   },
   {
    "duration": 16,
    "start_time": "2022-05-10T13:01:03.829Z"
   },
   {
    "duration": 9,
    "start_time": "2022-05-10T13:05:23.596Z"
   },
   {
    "duration": 11,
    "start_time": "2022-05-10T13:05:28.656Z"
   },
   {
    "duration": 5,
    "start_time": "2022-05-10T13:10:00.210Z"
   },
   {
    "duration": 4774,
    "start_time": "2022-05-10T13:10:02.457Z"
   },
   {
    "duration": 9,
    "start_time": "2022-05-10T13:12:21.956Z"
   },
   {
    "duration": 4,
    "start_time": "2022-05-10T13:12:24.193Z"
   },
   {
    "duration": 4841,
    "start_time": "2022-05-10T13:12:24.899Z"
   },
   {
    "duration": 5,
    "start_time": "2022-05-10T13:12:59.473Z"
   },
   {
    "duration": 4651,
    "start_time": "2022-05-10T13:13:00.002Z"
   },
   {
    "duration": 67,
    "start_time": "2022-05-10T13:19:31.098Z"
   },
   {
    "duration": 122,
    "start_time": "2022-05-10T13:21:00.636Z"
   },
   {
    "duration": 190,
    "start_time": "2022-05-10T13:21:10.121Z"
   },
   {
    "duration": 486,
    "start_time": "2022-05-10T13:21:21.369Z"
   },
   {
    "duration": 36,
    "start_time": "2022-05-10T13:21:43.981Z"
   },
   {
    "duration": 353,
    "start_time": "2022-05-10T13:21:49.686Z"
   },
   {
    "duration": 1976,
    "start_time": "2022-05-10T13:43:24.236Z"
   },
   {
    "duration": 83,
    "start_time": "2022-05-10T13:43:26.216Z"
   },
   {
    "duration": 46,
    "start_time": "2022-05-10T13:43:26.303Z"
   },
   {
    "duration": 9,
    "start_time": "2022-05-10T13:43:26.353Z"
   },
   {
    "duration": 8,
    "start_time": "2022-05-10T13:43:26.365Z"
   },
   {
    "duration": 50,
    "start_time": "2022-05-10T13:43:26.376Z"
   },
   {
    "duration": 20,
    "start_time": "2022-05-10T13:43:26.429Z"
   },
   {
    "duration": 28,
    "start_time": "2022-05-10T13:43:26.452Z"
   },
   {
    "duration": 43,
    "start_time": "2022-05-10T13:43:26.482Z"
   },
   {
    "duration": 27,
    "start_time": "2022-05-10T13:43:26.530Z"
   },
   {
    "duration": 9,
    "start_time": "2022-05-10T13:43:26.560Z"
   },
   {
    "duration": 53,
    "start_time": "2022-05-10T13:43:26.571Z"
   },
   {
    "duration": 31,
    "start_time": "2022-05-10T13:43:26.628Z"
   },
   {
    "duration": 64,
    "start_time": "2022-05-10T13:43:26.662Z"
   },
   {
    "duration": 8,
    "start_time": "2022-05-10T13:43:26.728Z"
   },
   {
    "duration": 501,
    "start_time": "2022-05-10T13:43:26.739Z"
   },
   {
    "duration": 545,
    "start_time": "2022-05-10T13:43:27.243Z"
   },
   {
    "duration": 13,
    "start_time": "2022-05-10T13:43:27.791Z"
   },
   {
    "duration": 56,
    "start_time": "2022-05-10T13:43:27.806Z"
   },
   {
    "duration": 917,
    "start_time": "2022-05-10T13:43:27.864Z"
   },
   {
    "duration": 39,
    "start_time": "2022-05-10T13:43:28.784Z"
   },
   {
    "duration": 24,
    "start_time": "2022-05-10T13:43:28.826Z"
   },
   {
    "duration": 453,
    "start_time": "2022-05-10T13:43:28.853Z"
   },
   {
    "duration": 30,
    "start_time": "2022-05-10T13:43:29.308Z"
   },
   {
    "duration": 581,
    "start_time": "2022-05-10T13:43:29.340Z"
   },
   {
    "duration": 704,
    "start_time": "2022-05-10T13:43:29.925Z"
   },
   {
    "duration": 19,
    "start_time": "2022-05-10T13:43:30.632Z"
   },
   {
    "duration": 716,
    "start_time": "2022-05-10T13:43:30.657Z"
   },
   {
    "duration": 28,
    "start_time": "2022-05-10T13:43:31.377Z"
   },
   {
    "duration": 26,
    "start_time": "2022-05-10T13:43:31.408Z"
   },
   {
    "duration": 29,
    "start_time": "2022-05-10T13:43:31.438Z"
   },
   {
    "duration": 4937,
    "start_time": "2022-05-10T13:43:31.470Z"
   },
   {
    "duration": 4,
    "start_time": "2022-05-10T13:43:45.833Z"
   },
   {
    "duration": 4166,
    "start_time": "2022-05-10T13:43:47.901Z"
   },
   {
    "duration": 164,
    "start_time": "2022-05-10T13:44:46.730Z"
   },
   {
    "duration": 4,
    "start_time": "2022-05-10T13:44:47.423Z"
   },
   {
    "duration": 4331,
    "start_time": "2022-05-10T13:44:52.164Z"
   },
   {
    "duration": 17,
    "start_time": "2022-05-10T13:45:14.937Z"
   },
   {
    "duration": 100,
    "start_time": "2022-05-10T13:45:22.962Z"
   },
   {
    "duration": 159,
    "start_time": "2022-05-10T13:45:26.052Z"
   },
   {
    "duration": 19,
    "start_time": "2022-05-10T13:45:43.615Z"
   },
   {
    "duration": 17,
    "start_time": "2022-05-10T13:45:59.817Z"
   },
   {
    "duration": 12,
    "start_time": "2022-05-10T13:47:13.721Z"
   },
   {
    "duration": 5,
    "start_time": "2022-05-10T13:47:14.108Z"
   },
   {
    "duration": 4339,
    "start_time": "2022-05-10T13:47:14.507Z"
   },
   {
    "duration": 10,
    "start_time": "2022-05-10T13:47:41.642Z"
   },
   {
    "duration": 5,
    "start_time": "2022-05-10T13:47:43.092Z"
   },
   {
    "duration": 453,
    "start_time": "2022-05-10T13:47:43.373Z"
   },
   {
    "duration": 2035,
    "start_time": "2022-05-10T13:48:02.561Z"
   },
   {
    "duration": 1192,
    "start_time": "2022-05-10T13:48:04.600Z"
   },
   {
    "duration": 44,
    "start_time": "2022-05-10T13:48:05.795Z"
   },
   {
    "duration": 8,
    "start_time": "2022-05-10T13:48:05.842Z"
   },
   {
    "duration": 8,
    "start_time": "2022-05-10T13:48:05.853Z"
   },
   {
    "duration": 11,
    "start_time": "2022-05-10T13:48:05.863Z"
   },
   {
    "duration": 27,
    "start_time": "2022-05-10T13:48:05.878Z"
   },
   {
    "duration": 43,
    "start_time": "2022-05-10T13:48:05.907Z"
   },
   {
    "duration": 21,
    "start_time": "2022-05-10T13:48:05.953Z"
   },
   {
    "duration": 36,
    "start_time": "2022-05-10T13:48:05.979Z"
   },
   {
    "duration": 13,
    "start_time": "2022-05-10T13:48:06.018Z"
   },
   {
    "duration": 29,
    "start_time": "2022-05-10T13:48:06.034Z"
   },
   {
    "duration": 29,
    "start_time": "2022-05-10T13:48:06.067Z"
   },
   {
    "duration": 33,
    "start_time": "2022-05-10T13:48:06.099Z"
   },
   {
    "duration": 10,
    "start_time": "2022-05-10T13:48:06.135Z"
   },
   {
    "duration": 656,
    "start_time": "2022-05-10T13:48:06.147Z"
   },
   {
    "duration": 646,
    "start_time": "2022-05-10T13:48:06.806Z"
   },
   {
    "duration": 10,
    "start_time": "2022-05-10T13:48:07.455Z"
   },
   {
    "duration": 51,
    "start_time": "2022-05-10T13:48:07.467Z"
   },
   {
    "duration": 724,
    "start_time": "2022-05-10T13:48:07.525Z"
   },
   {
    "duration": 26,
    "start_time": "2022-05-10T13:48:08.252Z"
   },
   {
    "duration": 26,
    "start_time": "2022-05-10T13:48:08.280Z"
   },
   {
    "duration": 451,
    "start_time": "2022-05-10T13:48:08.309Z"
   },
   {
    "duration": 24,
    "start_time": "2022-05-10T13:48:08.762Z"
   },
   {
    "duration": 709,
    "start_time": "2022-05-10T13:48:08.788Z"
   },
   {
    "duration": 490,
    "start_time": "2022-05-10T13:48:09.499Z"
   },
   {
    "duration": 18,
    "start_time": "2022-05-10T13:48:09.991Z"
   },
   {
    "duration": 484,
    "start_time": "2022-05-10T13:48:10.030Z"
   },
   {
    "duration": 24,
    "start_time": "2022-05-10T13:48:10.517Z"
   },
   {
    "duration": 10,
    "start_time": "2022-05-10T13:48:10.543Z"
   },
   {
    "duration": 15,
    "start_time": "2022-05-10T13:48:10.555Z"
   },
   {
    "duration": 4683,
    "start_time": "2022-05-10T13:48:10.572Z"
   },
   {
    "duration": 12,
    "start_time": "2022-05-10T13:48:33.615Z"
   },
   {
    "duration": 4,
    "start_time": "2022-05-10T13:48:34.056Z"
   },
   {
    "duration": 625,
    "start_time": "2022-05-10T13:48:34.352Z"
   },
   {
    "duration": 8,
    "start_time": "2022-05-10T13:48:45.908Z"
   },
   {
    "duration": 4,
    "start_time": "2022-05-10T13:48:46.084Z"
   },
   {
    "duration": 4045,
    "start_time": "2022-05-10T13:48:46.254Z"
   },
   {
    "duration": 118,
    "start_time": "2022-05-10T13:48:51.824Z"
   },
   {
    "duration": 5,
    "start_time": "2022-05-10T13:48:53.184Z"
   },
   {
    "duration": 464,
    "start_time": "2022-05-10T13:48:53.367Z"
   },
   {
    "duration": 9,
    "start_time": "2022-05-10T13:50:11.669Z"
   },
   {
    "duration": 4,
    "start_time": "2022-05-10T13:50:12.175Z"
   },
   {
    "duration": 4775,
    "start_time": "2022-05-10T13:50:12.640Z"
   },
   {
    "duration": 9,
    "start_time": "2022-05-10T13:53:07.958Z"
   },
   {
    "duration": 4,
    "start_time": "2022-05-10T13:53:08.331Z"
   },
   {
    "duration": 4593,
    "start_time": "2022-05-10T13:53:42.240Z"
   },
   {
    "duration": 434,
    "start_time": "2022-05-10T13:54:14.752Z"
   },
   {
    "duration": 16,
    "start_time": "2022-05-10T13:54:18.082Z"
   },
   {
    "duration": 476,
    "start_time": "2022-05-10T13:54:50.535Z"
   },
   {
    "duration": 17,
    "start_time": "2022-05-10T13:54:53.870Z"
   },
   {
    "duration": 424,
    "start_time": "2022-05-10T13:55:06.461Z"
   },
   {
    "duration": 17,
    "start_time": "2022-05-10T13:55:07.541Z"
   },
   {
    "duration": 1589,
    "start_time": "2022-05-10T13:55:32.726Z"
   },
   {
    "duration": 66,
    "start_time": "2022-05-10T13:55:34.318Z"
   },
   {
    "duration": 39,
    "start_time": "2022-05-10T13:55:34.387Z"
   },
   {
    "duration": 6,
    "start_time": "2022-05-10T13:55:34.428Z"
   },
   {
    "duration": 13,
    "start_time": "2022-05-10T13:55:34.437Z"
   },
   {
    "duration": 17,
    "start_time": "2022-05-10T13:55:34.452Z"
   },
   {
    "duration": 17,
    "start_time": "2022-05-10T13:55:34.472Z"
   },
   {
    "duration": 36,
    "start_time": "2022-05-10T13:55:34.492Z"
   },
   {
    "duration": 16,
    "start_time": "2022-05-10T13:55:34.531Z"
   },
   {
    "duration": 38,
    "start_time": "2022-05-10T13:55:34.552Z"
   },
   {
    "duration": 8,
    "start_time": "2022-05-10T13:55:34.593Z"
   },
   {
    "duration": 33,
    "start_time": "2022-05-10T13:55:34.603Z"
   },
   {
    "duration": 25,
    "start_time": "2022-05-10T13:55:34.638Z"
   },
   {
    "duration": 25,
    "start_time": "2022-05-10T13:55:34.665Z"
   },
   {
    "duration": 37,
    "start_time": "2022-05-10T13:55:34.693Z"
   },
   {
    "duration": 369,
    "start_time": "2022-05-10T13:55:34.732Z"
   },
   {
    "duration": 524,
    "start_time": "2022-05-10T13:55:35.103Z"
   },
   {
    "duration": 10,
    "start_time": "2022-05-10T13:55:35.629Z"
   },
   {
    "duration": 43,
    "start_time": "2022-05-10T13:55:35.641Z"
   },
   {
    "duration": 734,
    "start_time": "2022-05-10T13:55:35.687Z"
   },
   {
    "duration": 27,
    "start_time": "2022-05-10T13:55:36.424Z"
   },
   {
    "duration": 24,
    "start_time": "2022-05-10T13:55:36.454Z"
   },
   {
    "duration": 454,
    "start_time": "2022-05-10T13:55:36.480Z"
   },
   {
    "duration": 20,
    "start_time": "2022-05-10T13:55:36.936Z"
   },
   {
    "duration": 817,
    "start_time": "2022-05-10T13:55:36.959Z"
   },
   {
    "duration": 474,
    "start_time": "2022-05-10T13:55:37.778Z"
   },
   {
    "duration": 18,
    "start_time": "2022-05-10T13:55:38.254Z"
   },
   {
    "duration": 487,
    "start_time": "2022-05-10T13:55:38.276Z"
   },
   {
    "duration": 16,
    "start_time": "2022-05-10T13:55:38.766Z"
   },
   {
    "duration": 499,
    "start_time": "2022-05-10T13:55:38.784Z"
   },
   {
    "duration": 17,
    "start_time": "2022-05-10T13:55:39.285Z"
   },
   {
    "duration": 26,
    "start_time": "2022-05-10T13:55:39.305Z"
   },
   {
    "duration": 14,
    "start_time": "2022-05-10T13:55:39.334Z"
   },
   {
    "duration": 4102,
    "start_time": "2022-05-10T13:55:39.351Z"
   },
   {
    "duration": 9,
    "start_time": "2022-05-10T13:57:33.720Z"
   },
   {
    "duration": 3,
    "start_time": "2022-05-10T13:57:34.721Z"
   },
   {
    "duration": 165,
    "start_time": "2022-05-10T13:57:36.153Z"
   },
   {
    "duration": 3,
    "start_time": "2022-05-10T13:58:37.659Z"
   },
   {
    "duration": 25,
    "start_time": "2022-05-10T13:58:40.581Z"
   },
   {
    "duration": 4,
    "start_time": "2022-05-10T13:58:40.818Z"
   },
   {
    "duration": 463,
    "start_time": "2022-05-10T13:59:46.315Z"
   },
   {
    "duration": 16,
    "start_time": "2022-05-10T13:59:49.596Z"
   },
   {
    "duration": 29,
    "start_time": "2022-05-10T14:19:11.698Z"
   },
   {
    "duration": 24,
    "start_time": "2022-05-10T14:19:22.483Z"
   },
   {
    "duration": 23,
    "start_time": "2022-05-10T14:25:52.163Z"
   },
   {
    "duration": 27,
    "start_time": "2022-05-10T14:25:59.712Z"
   },
   {
    "duration": 4,
    "start_time": "2022-05-10T14:27:12.678Z"
   },
   {
    "duration": 344,
    "start_time": "2022-05-10T14:29:07.069Z"
   },
   {
    "duration": 10,
    "start_time": "2022-05-10T14:31:16.308Z"
   },
   {
    "duration": 349,
    "start_time": "2022-05-10T14:42:22.018Z"
   },
   {
    "duration": 2056,
    "start_time": "2022-05-10T14:50:17.905Z"
   },
   {
    "duration": 111,
    "start_time": "2022-05-10T14:50:19.968Z"
   },
   {
    "duration": 58,
    "start_time": "2022-05-10T14:50:20.083Z"
   },
   {
    "duration": 11,
    "start_time": "2022-05-10T14:50:20.147Z"
   },
   {
    "duration": 11,
    "start_time": "2022-05-10T14:50:20.162Z"
   },
   {
    "duration": 11,
    "start_time": "2022-05-10T14:50:20.176Z"
   },
   {
    "duration": 44,
    "start_time": "2022-05-10T14:50:20.190Z"
   },
   {
    "duration": 54,
    "start_time": "2022-05-10T14:50:20.237Z"
   },
   {
    "duration": 17,
    "start_time": "2022-05-10T14:50:20.293Z"
   },
   {
    "duration": 58,
    "start_time": "2022-05-10T14:50:20.314Z"
   },
   {
    "duration": 24,
    "start_time": "2022-05-10T14:50:20.375Z"
   },
   {
    "duration": 34,
    "start_time": "2022-05-10T14:50:20.402Z"
   },
   {
    "duration": 51,
    "start_time": "2022-05-10T14:50:20.440Z"
   },
   {
    "duration": 36,
    "start_time": "2022-05-10T14:50:20.494Z"
   },
   {
    "duration": 11,
    "start_time": "2022-05-10T14:50:20.532Z"
   },
   {
    "duration": 480,
    "start_time": "2022-05-10T14:50:20.547Z"
   },
   {
    "duration": 813,
    "start_time": "2022-05-10T14:50:21.030Z"
   },
   {
    "duration": 15,
    "start_time": "2022-05-10T14:50:21.847Z"
   },
   {
    "duration": 38,
    "start_time": "2022-05-10T14:50:21.864Z"
   },
   {
    "duration": 982,
    "start_time": "2022-05-10T14:50:21.927Z"
   },
   {
    "duration": 31,
    "start_time": "2022-05-10T14:50:22.911Z"
   },
   {
    "duration": 39,
    "start_time": "2022-05-10T14:50:22.944Z"
   },
   {
    "duration": 478,
    "start_time": "2022-05-10T14:50:22.986Z"
   },
   {
    "duration": 22,
    "start_time": "2022-05-10T14:50:23.466Z"
   },
   {
    "duration": 669,
    "start_time": "2022-05-10T14:50:23.491Z"
   },
   {
    "duration": 573,
    "start_time": "2022-05-10T14:50:24.165Z"
   },
   {
    "duration": 21,
    "start_time": "2022-05-10T14:50:24.741Z"
   },
   {
    "duration": 535,
    "start_time": "2022-05-10T14:50:24.766Z"
   },
   {
    "duration": 32,
    "start_time": "2022-05-10T14:50:25.303Z"
   },
   {
    "duration": 18,
    "start_time": "2022-05-10T14:50:25.339Z"
   },
   {
    "duration": 44,
    "start_time": "2022-05-10T14:50:25.360Z"
   },
   {
    "duration": 391,
    "start_time": "2022-05-10T14:50:25.407Z"
   },
   {
    "duration": 16,
    "start_time": "2022-05-10T15:09:01.181Z"
   },
   {
    "duration": 1879,
    "start_time": "2022-05-10T15:17:11.901Z"
   },
   {
    "duration": 26,
    "start_time": "2022-05-10T15:17:38.041Z"
   },
   {
    "duration": 2381,
    "start_time": "2022-05-10T15:18:06.782Z"
   },
   {
    "duration": 1886,
    "start_time": "2022-05-10T15:18:19.287Z"
   },
   {
    "duration": 1141,
    "start_time": "2022-05-10T15:19:05.393Z"
   },
   {
    "duration": 1588,
    "start_time": "2022-05-10T15:19:32.996Z"
   },
   {
    "duration": 128,
    "start_time": "2022-05-10T15:29:26.834Z"
   },
   {
    "duration": 35,
    "start_time": "2022-05-10T15:29:30.741Z"
   },
   {
    "duration": 1660,
    "start_time": "2022-05-10T15:29:48.279Z"
   },
   {
    "duration": 1234,
    "start_time": "2022-05-10T15:30:19.078Z"
   },
   {
    "duration": 2054,
    "start_time": "2022-05-10T15:31:34.628Z"
   },
   {
    "duration": 1924,
    "start_time": "2022-05-10T15:31:49.903Z"
   },
   {
    "duration": 27,
    "start_time": "2022-05-10T15:32:22.429Z"
   },
   {
    "duration": 38,
    "start_time": "2022-05-10T15:32:51.193Z"
   },
   {
    "duration": 29,
    "start_time": "2022-05-10T15:33:02.268Z"
   },
   {
    "duration": 47,
    "start_time": "2022-05-14T08:58:31.313Z"
   },
   {
    "duration": 1260,
    "start_time": "2022-05-14T08:58:37.932Z"
   },
   {
    "duration": 1509,
    "start_time": "2022-05-14T08:58:39.194Z"
   },
   {
    "duration": 17,
    "start_time": "2022-05-14T08:58:40.704Z"
   },
   {
    "duration": 4,
    "start_time": "2022-05-14T08:58:40.723Z"
   },
   {
    "duration": 8,
    "start_time": "2022-05-14T08:58:40.729Z"
   },
   {
    "duration": 10,
    "start_time": "2022-05-14T08:58:40.738Z"
   },
   {
    "duration": 14,
    "start_time": "2022-05-14T08:58:40.749Z"
   },
   {
    "duration": 29,
    "start_time": "2022-05-14T08:58:40.764Z"
   },
   {
    "duration": 11,
    "start_time": "2022-05-14T08:58:40.795Z"
   },
   {
    "duration": 20,
    "start_time": "2022-05-14T08:58:40.808Z"
   },
   {
    "duration": 7,
    "start_time": "2022-05-14T08:58:40.829Z"
   },
   {
    "duration": 15,
    "start_time": "2022-05-14T08:58:40.837Z"
   },
   {
    "duration": 14,
    "start_time": "2022-05-14T08:58:40.853Z"
   },
   {
    "duration": 17,
    "start_time": "2022-05-14T08:58:40.888Z"
   },
   {
    "duration": 5,
    "start_time": "2022-05-14T08:58:40.907Z"
   },
   {
    "duration": 216,
    "start_time": "2022-05-14T08:58:40.913Z"
   },
   {
    "duration": 295,
    "start_time": "2022-05-14T08:58:41.130Z"
   },
   {
    "duration": 7,
    "start_time": "2022-05-14T08:58:41.427Z"
   },
   {
    "duration": 23,
    "start_time": "2022-05-14T08:58:41.435Z"
   },
   {
    "duration": 437,
    "start_time": "2022-05-14T08:58:41.459Z"
   },
   {
    "duration": 17,
    "start_time": "2022-05-14T08:58:41.898Z"
   },
   {
    "duration": 15,
    "start_time": "2022-05-14T08:58:41.917Z"
   },
   {
    "duration": 248,
    "start_time": "2022-05-14T08:58:41.933Z"
   },
   {
    "duration": 15,
    "start_time": "2022-05-14T08:58:42.182Z"
   },
   {
    "duration": 344,
    "start_time": "2022-05-14T08:58:42.199Z"
   },
   {
    "duration": 275,
    "start_time": "2022-05-14T08:58:42.545Z"
   },
   {
    "duration": 10,
    "start_time": "2022-05-14T08:58:42.822Z"
   },
   {
    "duration": 279,
    "start_time": "2022-05-14T08:58:42.835Z"
   },
   {
    "duration": 12,
    "start_time": "2022-05-14T08:58:43.115Z"
   },
   {
    "duration": 9,
    "start_time": "2022-05-14T08:58:43.128Z"
   },
   {
    "duration": 16,
    "start_time": "2022-05-14T08:58:43.139Z"
   },
   {
    "duration": 212,
    "start_time": "2022-05-14T08:58:43.157Z"
   },
   {
    "duration": 22,
    "start_time": "2022-05-14T08:58:43.370Z"
   },
   {
    "duration": 94,
    "start_time": "2022-05-14T08:59:03.593Z"
   },
   {
    "duration": 12,
    "start_time": "2022-05-14T08:59:15.211Z"
   },
   {
    "duration": 12,
    "start_time": "2022-05-14T08:59:40.437Z"
   },
   {
    "duration": 13,
    "start_time": "2022-05-14T08:59:51.031Z"
   },
   {
    "duration": 10,
    "start_time": "2022-05-14T09:11:56.227Z"
   },
   {
    "duration": 15,
    "start_time": "2022-05-14T09:13:38.699Z"
   },
   {
    "duration": 13,
    "start_time": "2022-05-14T09:14:14.027Z"
   },
   {
    "duration": 16,
    "start_time": "2022-05-14T09:14:17.611Z"
   },
   {
    "duration": 17,
    "start_time": "2022-05-14T09:15:34.177Z"
   },
   {
    "duration": 18,
    "start_time": "2022-05-14T09:15:49.633Z"
   },
   {
    "duration": 16,
    "start_time": "2022-05-14T09:17:44.951Z"
   },
   {
    "duration": 17,
    "start_time": "2022-05-14T09:17:54.250Z"
   },
   {
    "duration": 13,
    "start_time": "2022-05-14T09:19:00.419Z"
   },
   {
    "duration": 17,
    "start_time": "2022-05-14T09:19:20.119Z"
   },
   {
    "duration": 15,
    "start_time": "2022-05-14T09:20:30.011Z"
   },
   {
    "duration": 295,
    "start_time": "2022-05-14T09:20:40.613Z"
   },
   {
    "duration": 303,
    "start_time": "2022-05-14T09:20:54.407Z"
   },
   {
    "duration": 308,
    "start_time": "2022-05-14T09:21:03.315Z"
   },
   {
    "duration": 355,
    "start_time": "2022-05-14T09:21:09.954Z"
   },
   {
    "duration": 317,
    "start_time": "2022-05-14T09:21:13.261Z"
   },
   {
    "duration": 249,
    "start_time": "2022-05-14T09:21:25.907Z"
   },
   {
    "duration": 113,
    "start_time": "2022-05-14T09:21:30.711Z"
   },
   {
    "duration": 257,
    "start_time": "2022-05-14T09:21:35.516Z"
   },
   {
    "duration": 261,
    "start_time": "2022-05-14T09:21:46.005Z"
   },
   {
    "duration": 262,
    "start_time": "2022-05-14T09:21:53.556Z"
   },
   {
    "duration": 331,
    "start_time": "2022-05-14T09:22:56.888Z"
   },
   {
    "duration": 239,
    "start_time": "2022-05-14T09:23:03.248Z"
   },
   {
    "duration": 238,
    "start_time": "2022-05-14T09:23:13.866Z"
   },
   {
    "duration": 238,
    "start_time": "2022-05-14T09:23:57.731Z"
   },
   {
    "duration": 109,
    "start_time": "2022-05-14T09:28:36.878Z"
   },
   {
    "duration": 19,
    "start_time": "2022-05-14T09:29:04.148Z"
   },
   {
    "duration": 1104,
    "start_time": "2022-05-14T09:29:17.670Z"
   },
   {
    "duration": 47,
    "start_time": "2022-05-14T09:29:18.776Z"
   },
   {
    "duration": 16,
    "start_time": "2022-05-14T09:29:18.825Z"
   },
   {
    "duration": 4,
    "start_time": "2022-05-14T09:29:18.844Z"
   },
   {
    "duration": 9,
    "start_time": "2022-05-14T09:29:18.850Z"
   },
   {
    "duration": 6,
    "start_time": "2022-05-14T09:29:18.860Z"
   },
   {
    "duration": 29,
    "start_time": "2022-05-14T09:29:18.868Z"
   },
   {
    "duration": 13,
    "start_time": "2022-05-14T09:29:18.899Z"
   },
   {
    "duration": 8,
    "start_time": "2022-05-14T09:29:18.914Z"
   },
   {
    "duration": 19,
    "start_time": "2022-05-14T09:29:18.925Z"
   },
   {
    "duration": 6,
    "start_time": "2022-05-14T09:29:18.946Z"
   },
   {
    "duration": 44,
    "start_time": "2022-05-14T09:29:18.954Z"
   },
   {
    "duration": 16,
    "start_time": "2022-05-14T09:29:19.000Z"
   },
   {
    "duration": 18,
    "start_time": "2022-05-14T09:29:19.018Z"
   },
   {
    "duration": 6,
    "start_time": "2022-05-14T09:29:19.038Z"
   },
   {
    "duration": 234,
    "start_time": "2022-05-14T09:29:19.046Z"
   },
   {
    "duration": 300,
    "start_time": "2022-05-14T09:29:19.282Z"
   },
   {
    "duration": 11,
    "start_time": "2022-05-14T09:29:19.584Z"
   },
   {
    "duration": 23,
    "start_time": "2022-05-14T09:29:19.596Z"
   },
   {
    "duration": 431,
    "start_time": "2022-05-14T09:29:19.621Z"
   },
   {
    "duration": 19,
    "start_time": "2022-05-14T09:29:20.054Z"
   },
   {
    "duration": 22,
    "start_time": "2022-05-14T09:29:20.075Z"
   },
   {
    "duration": 245,
    "start_time": "2022-05-14T09:29:20.099Z"
   },
   {
    "duration": 15,
    "start_time": "2022-05-14T09:29:20.346Z"
   },
   {
    "duration": 357,
    "start_time": "2022-05-14T09:29:20.362Z"
   },
   {
    "duration": 272,
    "start_time": "2022-05-14T09:29:20.721Z"
   },
   {
    "duration": 11,
    "start_time": "2022-05-14T09:29:20.994Z"
   },
   {
    "duration": 272,
    "start_time": "2022-05-14T09:29:21.010Z"
   },
   {
    "duration": 11,
    "start_time": "2022-05-14T09:29:21.288Z"
   },
   {
    "duration": 10,
    "start_time": "2022-05-14T09:29:21.301Z"
   },
   {
    "duration": 18,
    "start_time": "2022-05-14T09:29:21.313Z"
   },
   {
    "duration": 204,
    "start_time": "2022-05-14T09:29:21.333Z"
   },
   {
    "duration": 21,
    "start_time": "2022-05-14T09:29:21.539Z"
   },
   {
    "duration": 34,
    "start_time": "2022-05-14T09:29:21.562Z"
   },
   {
    "duration": 251,
    "start_time": "2022-05-14T09:29:21.598Z"
   },
   {
    "duration": 255,
    "start_time": "2022-05-14T09:29:21.851Z"
   },
   {
    "duration": 13,
    "start_time": "2022-05-14T09:31:12.071Z"
   },
   {
    "duration": 114,
    "start_time": "2022-05-14T09:31:16.926Z"
   },
   {
    "duration": 15,
    "start_time": "2022-05-14T09:31:20.947Z"
   },
   {
    "duration": 1251,
    "start_time": "2022-05-14T09:31:24.946Z"
   },
   {
    "duration": 1179,
    "start_time": "2022-05-14T09:31:26.516Z"
   },
   {
    "duration": 21,
    "start_time": "2022-05-14T09:33:50.978Z"
   },
   {
    "duration": 99,
    "start_time": "2022-05-14T09:34:34.781Z"
   },
   {
    "duration": 14,
    "start_time": "2022-05-14T09:36:15.135Z"
   },
   {
    "duration": 13,
    "start_time": "2022-05-14T09:36:20.835Z"
   },
   {
    "duration": 241,
    "start_time": "2022-05-14T09:36:21.070Z"
   },
   {
    "duration": 245,
    "start_time": "2022-05-14T09:36:21.887Z"
   },
   {
    "duration": 17,
    "start_time": "2022-05-14T09:38:33.709Z"
   },
   {
    "duration": 122,
    "start_time": "2022-05-14T09:38:42.158Z"
   },
   {
    "duration": 2040,
    "start_time": "2022-05-14T09:38:50.860Z"
   },
   {
    "duration": 23,
    "start_time": "2022-05-14T09:39:01.623Z"
   },
   {
    "duration": 25,
    "start_time": "2022-05-14T09:39:07.259Z"
   },
   {
    "duration": 117,
    "start_time": "2022-05-14T09:46:51.627Z"
   },
   {
    "duration": 9,
    "start_time": "2022-05-14T09:46:57.718Z"
   },
   {
    "duration": 11,
    "start_time": "2022-05-14T09:47:02.623Z"
   },
   {
    "duration": 12,
    "start_time": "2022-05-14T09:47:24.969Z"
   },
   {
    "duration": 10,
    "start_time": "2022-05-14T09:47:38.389Z"
   },
   {
    "duration": 561,
    "start_time": "2022-05-14T09:47:46.130Z"
   },
   {
    "duration": 4,
    "start_time": "2022-05-14T09:49:35.491Z"
   },
   {
    "duration": 519,
    "start_time": "2022-05-14T09:49:47.813Z"
   },
   {
    "duration": 12,
    "start_time": "2022-05-14T09:50:38.223Z"
   },
   {
    "duration": 12,
    "start_time": "2022-05-14T09:50:59.177Z"
   },
   {
    "duration": 12,
    "start_time": "2022-05-14T09:51:01.198Z"
   },
   {
    "duration": 13,
    "start_time": "2022-05-14T09:51:15.439Z"
   },
   {
    "duration": 13,
    "start_time": "2022-05-14T09:51:20.258Z"
   },
   {
    "duration": 13,
    "start_time": "2022-05-14T09:51:32.324Z"
   },
   {
    "duration": 1191,
    "start_time": "2022-05-14T09:51:37.469Z"
   },
   {
    "duration": 48,
    "start_time": "2022-05-14T09:51:38.662Z"
   },
   {
    "duration": 17,
    "start_time": "2022-05-14T09:51:38.712Z"
   },
   {
    "duration": 9,
    "start_time": "2022-05-14T09:51:38.731Z"
   },
   {
    "duration": 6,
    "start_time": "2022-05-14T09:51:38.742Z"
   },
   {
    "duration": 6,
    "start_time": "2022-05-14T09:51:38.750Z"
   },
   {
    "duration": 11,
    "start_time": "2022-05-14T09:51:38.757Z"
   },
   {
    "duration": 13,
    "start_time": "2022-05-14T09:51:38.787Z"
   },
   {
    "duration": 11,
    "start_time": "2022-05-14T09:51:38.802Z"
   },
   {
    "duration": 17,
    "start_time": "2022-05-14T09:51:38.816Z"
   },
   {
    "duration": 6,
    "start_time": "2022-05-14T09:51:38.834Z"
   },
   {
    "duration": 11,
    "start_time": "2022-05-14T09:51:38.842Z"
   },
   {
    "duration": 38,
    "start_time": "2022-05-14T09:51:38.855Z"
   },
   {
    "duration": 18,
    "start_time": "2022-05-14T09:51:38.895Z"
   },
   {
    "duration": 5,
    "start_time": "2022-05-14T09:51:38.914Z"
   },
   {
    "duration": 216,
    "start_time": "2022-05-14T09:51:38.921Z"
   },
   {
    "duration": 299,
    "start_time": "2022-05-14T09:51:39.139Z"
   },
   {
    "duration": 7,
    "start_time": "2022-05-14T09:51:39.440Z"
   },
   {
    "duration": 22,
    "start_time": "2022-05-14T09:51:39.449Z"
   },
   {
    "duration": 413,
    "start_time": "2022-05-14T09:51:39.487Z"
   },
   {
    "duration": 17,
    "start_time": "2022-05-14T09:51:39.902Z"
   },
   {
    "duration": 15,
    "start_time": "2022-05-14T09:51:39.921Z"
   },
   {
    "duration": 246,
    "start_time": "2022-05-14T09:51:39.938Z"
   },
   {
    "duration": 15,
    "start_time": "2022-05-14T09:51:40.185Z"
   },
   {
    "duration": 347,
    "start_time": "2022-05-14T09:51:40.202Z"
   },
   {
    "duration": 269,
    "start_time": "2022-05-14T09:51:40.551Z"
   },
   {
    "duration": 11,
    "start_time": "2022-05-14T09:51:40.821Z"
   },
   {
    "duration": 268,
    "start_time": "2022-05-14T09:51:40.835Z"
   },
   {
    "duration": 11,
    "start_time": "2022-05-14T09:51:41.105Z"
   },
   {
    "duration": 9,
    "start_time": "2022-05-14T09:51:41.118Z"
   },
   {
    "duration": 18,
    "start_time": "2022-05-14T09:51:41.128Z"
   },
   {
    "duration": 201,
    "start_time": "2022-05-14T09:51:41.148Z"
   },
   {
    "duration": 23,
    "start_time": "2022-05-14T09:51:41.351Z"
   },
   {
    "duration": 575,
    "start_time": "2022-05-14T09:51:41.376Z"
   },
   {
    "duration": 301,
    "start_time": "2022-05-14T09:52:14.512Z"
   },
   {
    "duration": 11,
    "start_time": "2022-05-14T09:52:48.306Z"
   },
   {
    "duration": 12,
    "start_time": "2022-05-14T09:52:55.378Z"
   },
   {
    "duration": 12,
    "start_time": "2022-05-14T09:53:32.546Z"
   },
   {
    "duration": 1210,
    "start_time": "2022-05-14T09:53:38.073Z"
   },
   {
    "duration": 48,
    "start_time": "2022-05-14T09:53:39.285Z"
   },
   {
    "duration": 17,
    "start_time": "2022-05-14T09:53:39.335Z"
   },
   {
    "duration": 5,
    "start_time": "2022-05-14T09:53:39.354Z"
   },
   {
    "duration": 6,
    "start_time": "2022-05-14T09:53:39.360Z"
   },
   {
    "duration": 21,
    "start_time": "2022-05-14T09:53:39.367Z"
   },
   {
    "duration": 10,
    "start_time": "2022-05-14T09:53:39.389Z"
   },
   {
    "duration": 13,
    "start_time": "2022-05-14T09:53:39.400Z"
   },
   {
    "duration": 10,
    "start_time": "2022-05-14T09:53:39.414Z"
   },
   {
    "duration": 18,
    "start_time": "2022-05-14T09:53:39.426Z"
   },
   {
    "duration": 6,
    "start_time": "2022-05-14T09:53:39.446Z"
   },
   {
    "duration": 42,
    "start_time": "2022-05-14T09:53:39.453Z"
   },
   {
    "duration": 14,
    "start_time": "2022-05-14T09:53:39.497Z"
   },
   {
    "duration": 16,
    "start_time": "2022-05-14T09:53:39.513Z"
   },
   {
    "duration": 5,
    "start_time": "2022-05-14T09:53:39.531Z"
   },
   {
    "duration": 227,
    "start_time": "2022-05-14T09:53:39.538Z"
   },
   {
    "duration": 307,
    "start_time": "2022-05-14T09:53:39.766Z"
   },
   {
    "duration": 13,
    "start_time": "2022-05-14T09:53:40.075Z"
   },
   {
    "duration": 30,
    "start_time": "2022-05-14T09:53:40.090Z"
   },
   {
    "duration": 438,
    "start_time": "2022-05-14T09:53:40.122Z"
   },
   {
    "duration": 18,
    "start_time": "2022-05-14T09:53:40.562Z"
   },
   {
    "duration": 29,
    "start_time": "2022-05-14T09:53:40.582Z"
   },
   {
    "duration": 244,
    "start_time": "2022-05-14T09:53:40.613Z"
   },
   {
    "duration": 14,
    "start_time": "2022-05-14T09:53:40.859Z"
   },
   {
    "duration": 350,
    "start_time": "2022-05-14T09:53:40.874Z"
   },
   {
    "duration": 271,
    "start_time": "2022-05-14T09:53:41.225Z"
   },
   {
    "duration": 11,
    "start_time": "2022-05-14T09:53:41.498Z"
   },
   {
    "duration": 283,
    "start_time": "2022-05-14T09:53:41.511Z"
   },
   {
    "duration": 10,
    "start_time": "2022-05-14T09:53:41.796Z"
   },
   {
    "duration": 12,
    "start_time": "2022-05-14T09:53:41.808Z"
   },
   {
    "duration": 24,
    "start_time": "2022-05-14T09:53:41.821Z"
   },
   {
    "duration": 204,
    "start_time": "2022-05-14T09:53:41.847Z"
   },
   {
    "duration": 36,
    "start_time": "2022-05-14T09:53:42.052Z"
   },
   {
    "duration": 606,
    "start_time": "2022-05-14T09:53:42.090Z"
   },
   {
    "duration": 507,
    "start_time": "2022-05-14T09:54:24.958Z"
   },
   {
    "duration": 521,
    "start_time": "2022-05-14T09:56:22.108Z"
   },
   {
    "duration": 598,
    "start_time": "2022-05-14T09:56:59.105Z"
   },
   {
    "duration": 588,
    "start_time": "2022-05-14T09:58:27.024Z"
   },
   {
    "duration": 13,
    "start_time": "2022-05-14T10:02:12.059Z"
   },
   {
    "duration": 1144,
    "start_time": "2022-05-14T10:02:17.753Z"
   },
   {
    "duration": 49,
    "start_time": "2022-05-14T10:02:18.899Z"
   },
   {
    "duration": 18,
    "start_time": "2022-05-14T10:02:18.949Z"
   },
   {
    "duration": 19,
    "start_time": "2022-05-14T10:02:18.969Z"
   },
   {
    "duration": 3,
    "start_time": "2022-05-14T10:02:18.990Z"
   },
   {
    "duration": 9,
    "start_time": "2022-05-14T10:02:18.995Z"
   },
   {
    "duration": 10,
    "start_time": "2022-05-14T10:02:19.006Z"
   },
   {
    "duration": 14,
    "start_time": "2022-05-14T10:02:19.017Z"
   },
   {
    "duration": 9,
    "start_time": "2022-05-14T10:02:19.032Z"
   },
   {
    "duration": 18,
    "start_time": "2022-05-14T10:02:19.043Z"
   },
   {
    "duration": 7,
    "start_time": "2022-05-14T10:02:19.088Z"
   },
   {
    "duration": 15,
    "start_time": "2022-05-14T10:02:19.096Z"
   },
   {
    "duration": 14,
    "start_time": "2022-05-14T10:02:19.113Z"
   },
   {
    "duration": 19,
    "start_time": "2022-05-14T10:02:19.128Z"
   },
   {
    "duration": 5,
    "start_time": "2022-05-14T10:02:19.149Z"
   },
   {
    "duration": 232,
    "start_time": "2022-05-14T10:02:19.156Z"
   },
   {
    "duration": 294,
    "start_time": "2022-05-14T10:02:19.389Z"
   },
   {
    "duration": 8,
    "start_time": "2022-05-14T10:02:19.685Z"
   },
   {
    "duration": 22,
    "start_time": "2022-05-14T10:02:19.694Z"
   },
   {
    "duration": 434,
    "start_time": "2022-05-14T10:02:19.718Z"
   },
   {
    "duration": 18,
    "start_time": "2022-05-14T10:02:20.154Z"
   },
   {
    "duration": 15,
    "start_time": "2022-05-14T10:02:20.173Z"
   },
   {
    "duration": 234,
    "start_time": "2022-05-14T10:02:20.190Z"
   },
   {
    "duration": 14,
    "start_time": "2022-05-14T10:02:20.425Z"
   },
   {
    "duration": 349,
    "start_time": "2022-05-14T10:02:20.440Z"
   },
   {
    "duration": 266,
    "start_time": "2022-05-14T10:02:20.791Z"
   },
   {
    "duration": 11,
    "start_time": "2022-05-14T10:02:21.058Z"
   },
   {
    "duration": 272,
    "start_time": "2022-05-14T10:02:21.072Z"
   },
   {
    "duration": 10,
    "start_time": "2022-05-14T10:02:21.346Z"
   },
   {
    "duration": 11,
    "start_time": "2022-05-14T10:02:21.358Z"
   },
   {
    "duration": 26,
    "start_time": "2022-05-14T10:02:21.371Z"
   },
   {
    "duration": 206,
    "start_time": "2022-05-14T10:02:21.399Z"
   },
   {
    "duration": 26,
    "start_time": "2022-05-14T10:02:21.607Z"
   },
   {
    "duration": 582,
    "start_time": "2022-05-14T10:02:21.634Z"
   },
   {
    "duration": 568,
    "start_time": "2022-05-14T10:02:43.199Z"
   },
   {
    "duration": 560,
    "start_time": "2022-05-14T10:02:54.268Z"
   },
   {
    "duration": 658,
    "start_time": "2022-05-14T10:03:48.985Z"
   },
   {
    "duration": 596,
    "start_time": "2022-05-14T10:04:07.154Z"
   },
   {
    "duration": 505,
    "start_time": "2022-05-14T10:05:54.959Z"
   },
   {
    "duration": 537,
    "start_time": "2022-05-14T10:05:58.547Z"
   },
   {
    "duration": 508,
    "start_time": "2022-05-14T10:06:36.401Z"
   },
   {
    "duration": 542,
    "start_time": "2022-05-14T10:06:52.240Z"
   },
   {
    "duration": 658,
    "start_time": "2022-05-14T10:06:57.744Z"
   },
   {
    "duration": 503,
    "start_time": "2022-05-14T10:07:32.315Z"
   },
   {
    "duration": 519,
    "start_time": "2022-05-14T10:09:32.148Z"
   },
   {
    "duration": 517,
    "start_time": "2022-05-14T10:10:05.447Z"
   },
   {
    "duration": 1979,
    "start_time": "2022-05-14T10:12:49.026Z"
   },
   {
    "duration": 11,
    "start_time": "2022-05-14T10:18:35.885Z"
   },
   {
    "duration": 18,
    "start_time": "2022-05-14T10:18:42.360Z"
   },
   {
    "duration": 18,
    "start_time": "2022-05-14T10:20:16.906Z"
   },
   {
    "duration": 17,
    "start_time": "2022-05-14T10:25:57.126Z"
   },
   {
    "duration": 12,
    "start_time": "2022-05-14T10:29:38.734Z"
   },
   {
    "duration": 19,
    "start_time": "2022-05-14T10:31:13.513Z"
   },
   {
    "duration": 15,
    "start_time": "2022-05-14T10:32:46.808Z"
   },
   {
    "duration": 241,
    "start_time": "2022-05-14T10:34:04.681Z"
   },
   {
    "duration": 348,
    "start_time": "2022-05-14T10:34:23.525Z"
   },
   {
    "duration": 239,
    "start_time": "2022-05-14T10:35:43.818Z"
   },
   {
    "duration": 235,
    "start_time": "2022-05-14T10:35:50.823Z"
   },
   {
    "duration": 241,
    "start_time": "2022-05-14T10:36:37.237Z"
   },
   {
    "duration": 231,
    "start_time": "2022-05-14T10:36:46.965Z"
   },
   {
    "duration": 392,
    "start_time": "2022-05-14T10:36:58.376Z"
   },
   {
    "duration": 317,
    "start_time": "2022-05-14T10:37:08.941Z"
   },
   {
    "duration": 230,
    "start_time": "2022-05-14T10:37:15.363Z"
   },
   {
    "duration": 242,
    "start_time": "2022-05-14T10:38:38.227Z"
   },
   {
    "duration": 258,
    "start_time": "2022-05-14T10:38:49.113Z"
   },
   {
    "duration": 236,
    "start_time": "2022-05-14T10:39:03.297Z"
   },
   {
    "duration": 342,
    "start_time": "2022-05-14T10:39:10.394Z"
   },
   {
    "duration": 238,
    "start_time": "2022-05-14T10:39:19.951Z"
   },
   {
    "duration": 238,
    "start_time": "2022-05-14T10:39:26.326Z"
   },
   {
    "duration": 237,
    "start_time": "2022-05-14T10:41:00.473Z"
   },
   {
    "duration": 1153,
    "start_time": "2022-05-14T10:41:55.416Z"
   },
   {
    "duration": 55,
    "start_time": "2022-05-14T10:41:56.571Z"
   },
   {
    "duration": 16,
    "start_time": "2022-05-14T10:41:56.627Z"
   },
   {
    "duration": 3,
    "start_time": "2022-05-14T10:41:56.645Z"
   },
   {
    "duration": 7,
    "start_time": "2022-05-14T10:41:56.650Z"
   },
   {
    "duration": 8,
    "start_time": "2022-05-14T10:41:56.658Z"
   },
   {
    "duration": 25,
    "start_time": "2022-05-14T10:41:56.667Z"
   },
   {
    "duration": 13,
    "start_time": "2022-05-14T10:41:56.694Z"
   },
   {
    "duration": 13,
    "start_time": "2022-05-14T10:41:56.708Z"
   },
   {
    "duration": 22,
    "start_time": "2022-05-14T10:41:56.723Z"
   },
   {
    "duration": 6,
    "start_time": "2022-05-14T10:41:56.747Z"
   },
   {
    "duration": 11,
    "start_time": "2022-05-14T10:41:56.755Z"
   },
   {
    "duration": 16,
    "start_time": "2022-05-14T10:41:56.789Z"
   },
   {
    "duration": 17,
    "start_time": "2022-05-14T10:41:56.809Z"
   },
   {
    "duration": 6,
    "start_time": "2022-05-14T10:41:56.828Z"
   },
   {
    "duration": 225,
    "start_time": "2022-05-14T10:41:56.836Z"
   },
   {
    "duration": 304,
    "start_time": "2022-05-14T10:41:57.063Z"
   },
   {
    "duration": 7,
    "start_time": "2022-05-14T10:41:57.368Z"
   },
   {
    "duration": 30,
    "start_time": "2022-05-14T10:41:57.377Z"
   },
   {
    "duration": 427,
    "start_time": "2022-05-14T10:41:57.409Z"
   },
   {
    "duration": 18,
    "start_time": "2022-05-14T10:41:57.838Z"
   },
   {
    "duration": 15,
    "start_time": "2022-05-14T10:41:57.858Z"
   },
   {
    "duration": 242,
    "start_time": "2022-05-14T10:41:57.874Z"
   },
   {
    "duration": 14,
    "start_time": "2022-05-14T10:41:58.118Z"
   },
   {
    "duration": 356,
    "start_time": "2022-05-14T10:41:58.134Z"
   },
   {
    "duration": 271,
    "start_time": "2022-05-14T10:41:58.492Z"
   },
   {
    "duration": 11,
    "start_time": "2022-05-14T10:41:58.764Z"
   },
   {
    "duration": 269,
    "start_time": "2022-05-14T10:41:58.788Z"
   },
   {
    "duration": 10,
    "start_time": "2022-05-14T10:41:59.059Z"
   },
   {
    "duration": 17,
    "start_time": "2022-05-14T10:41:59.071Z"
   },
   {
    "duration": 14,
    "start_time": "2022-05-14T10:41:59.090Z"
   },
   {
    "duration": 203,
    "start_time": "2022-05-14T10:41:59.105Z"
   },
   {
    "duration": 18,
    "start_time": "2022-05-14T10:41:59.309Z"
   },
   {
    "duration": 18,
    "start_time": "2022-05-14T10:41:59.329Z"
   },
   {
    "duration": 253,
    "start_time": "2022-05-14T10:41:59.348Z"
   },
   {
    "duration": 221,
    "start_time": "2022-05-14T10:42:16.817Z"
   },
   {
    "duration": 226,
    "start_time": "2022-05-14T10:42:40.633Z"
   },
   {
    "duration": 1192,
    "start_time": "2022-05-14T10:43:21.962Z"
   },
   {
    "duration": 53,
    "start_time": "2022-05-14T10:43:23.156Z"
   },
   {
    "duration": 16,
    "start_time": "2022-05-14T10:43:23.210Z"
   },
   {
    "duration": 4,
    "start_time": "2022-05-14T10:43:23.229Z"
   },
   {
    "duration": 4,
    "start_time": "2022-05-14T10:43:23.234Z"
   },
   {
    "duration": 7,
    "start_time": "2022-05-14T10:43:23.240Z"
   },
   {
    "duration": 10,
    "start_time": "2022-05-14T10:43:23.248Z"
   },
   {
    "duration": 12,
    "start_time": "2022-05-14T10:43:23.289Z"
   },
   {
    "duration": 9,
    "start_time": "2022-05-14T10:43:23.303Z"
   },
   {
    "duration": 16,
    "start_time": "2022-05-14T10:43:23.315Z"
   },
   {
    "duration": 5,
    "start_time": "2022-05-14T10:43:23.333Z"
   },
   {
    "duration": 11,
    "start_time": "2022-05-14T10:43:23.340Z"
   },
   {
    "duration": 46,
    "start_time": "2022-05-14T10:43:23.353Z"
   },
   {
    "duration": 19,
    "start_time": "2022-05-14T10:43:23.401Z"
   },
   {
    "duration": 6,
    "start_time": "2022-05-14T10:43:23.422Z"
   },
   {
    "duration": 240,
    "start_time": "2022-05-14T10:43:23.430Z"
   },
   {
    "duration": 310,
    "start_time": "2022-05-14T10:43:23.672Z"
   },
   {
    "duration": 8,
    "start_time": "2022-05-14T10:43:23.984Z"
   },
   {
    "duration": 22,
    "start_time": "2022-05-14T10:43:23.994Z"
   },
   {
    "duration": 418,
    "start_time": "2022-05-14T10:43:24.018Z"
   },
   {
    "duration": 18,
    "start_time": "2022-05-14T10:43:24.438Z"
   },
   {
    "duration": 36,
    "start_time": "2022-05-14T10:43:24.458Z"
   },
   {
    "duration": 243,
    "start_time": "2022-05-14T10:43:24.496Z"
   },
   {
    "duration": 16,
    "start_time": "2022-05-14T10:43:24.741Z"
   },
   {
    "duration": 374,
    "start_time": "2022-05-14T10:43:24.759Z"
   },
   {
    "duration": 274,
    "start_time": "2022-05-14T10:43:25.135Z"
   },
   {
    "duration": 12,
    "start_time": "2022-05-14T10:43:25.411Z"
   },
   {
    "duration": 282,
    "start_time": "2022-05-14T10:43:25.426Z"
   },
   {
    "duration": 11,
    "start_time": "2022-05-14T10:43:25.710Z"
   },
   {
    "duration": 8,
    "start_time": "2022-05-14T10:43:25.722Z"
   },
   {
    "duration": 19,
    "start_time": "2022-05-14T10:43:25.731Z"
   },
   {
    "duration": 226,
    "start_time": "2022-05-14T10:43:25.751Z"
   },
   {
    "duration": 25,
    "start_time": "2022-05-14T10:43:25.978Z"
   },
   {
    "duration": 16,
    "start_time": "2022-05-14T10:43:26.004Z"
   },
   {
    "duration": 237,
    "start_time": "2022-05-14T10:43:26.021Z"
   },
   {
    "duration": 305,
    "start_time": "2022-05-14T10:43:52.913Z"
   },
   {
    "duration": 137,
    "start_time": "2022-05-14T10:46:35.783Z"
   },
   {
    "duration": 219,
    "start_time": "2022-05-14T10:48:34.387Z"
   },
   {
    "duration": 19,
    "start_time": "2022-05-14T10:53:26.485Z"
   },
   {
    "duration": 15,
    "start_time": "2022-05-14T10:54:31.708Z"
   },
   {
    "duration": 14,
    "start_time": "2022-05-14T10:58:10.296Z"
   },
   {
    "duration": 37,
    "start_time": "2022-05-14T10:58:22.030Z"
   },
   {
    "duration": 17,
    "start_time": "2022-05-14T10:58:30.864Z"
   },
   {
    "duration": 337,
    "start_time": "2022-05-14T10:58:33.899Z"
   },
   {
    "duration": 220,
    "start_time": "2022-05-14T10:59:21.910Z"
   },
   {
    "duration": 1187,
    "start_time": "2022-05-14T10:59:29.700Z"
   },
   {
    "duration": 51,
    "start_time": "2022-05-14T10:59:30.889Z"
   },
   {
    "duration": 18,
    "start_time": "2022-05-14T10:59:30.942Z"
   },
   {
    "duration": 4,
    "start_time": "2022-05-14T10:59:30.962Z"
   },
   {
    "duration": 22,
    "start_time": "2022-05-14T10:59:30.967Z"
   },
   {
    "duration": 9,
    "start_time": "2022-05-14T10:59:30.991Z"
   },
   {
    "duration": 16,
    "start_time": "2022-05-14T10:59:31.002Z"
   },
   {
    "duration": 40,
    "start_time": "2022-05-14T10:59:31.019Z"
   },
   {
    "duration": 13,
    "start_time": "2022-05-14T10:59:31.061Z"
   },
   {
    "duration": 22,
    "start_time": "2022-05-14T10:59:31.077Z"
   },
   {
    "duration": 6,
    "start_time": "2022-05-14T10:59:31.101Z"
   },
   {
    "duration": 15,
    "start_time": "2022-05-14T10:59:31.109Z"
   },
   {
    "duration": 17,
    "start_time": "2022-05-14T10:59:31.126Z"
   },
   {
    "duration": 18,
    "start_time": "2022-05-14T10:59:31.145Z"
   },
   {
    "duration": 27,
    "start_time": "2022-05-14T10:59:31.165Z"
   },
   {
    "duration": 222,
    "start_time": "2022-05-14T10:59:31.194Z"
   },
   {
    "duration": 328,
    "start_time": "2022-05-14T10:59:31.418Z"
   },
   {
    "duration": 9,
    "start_time": "2022-05-14T10:59:31.748Z"
   },
   {
    "duration": 38,
    "start_time": "2022-05-14T10:59:31.758Z"
   },
   {
    "duration": 450,
    "start_time": "2022-05-14T10:59:31.798Z"
   },
   {
    "duration": 20,
    "start_time": "2022-05-14T10:59:32.251Z"
   },
   {
    "duration": 16,
    "start_time": "2022-05-14T10:59:32.273Z"
   },
   {
    "duration": 250,
    "start_time": "2022-05-14T10:59:32.291Z"
   },
   {
    "duration": 14,
    "start_time": "2022-05-14T10:59:32.543Z"
   },
   {
    "duration": 372,
    "start_time": "2022-05-14T10:59:32.559Z"
   },
   {
    "duration": 280,
    "start_time": "2022-05-14T10:59:32.933Z"
   },
   {
    "duration": 12,
    "start_time": "2022-05-14T10:59:33.215Z"
   },
   {
    "duration": 292,
    "start_time": "2022-05-14T10:59:33.231Z"
   },
   {
    "duration": 13,
    "start_time": "2022-05-14T10:59:33.525Z"
   },
   {
    "duration": 8,
    "start_time": "2022-05-14T10:59:33.540Z"
   },
   {
    "duration": 37,
    "start_time": "2022-05-14T10:59:33.550Z"
   },
   {
    "duration": 205,
    "start_time": "2022-05-14T10:59:33.590Z"
   },
   {
    "duration": 18,
    "start_time": "2022-05-14T10:59:33.797Z"
   },
   {
    "duration": 24,
    "start_time": "2022-05-14T10:59:33.817Z"
   },
   {
    "duration": 246,
    "start_time": "2022-05-14T10:59:33.842Z"
   },
   {
    "duration": 17,
    "start_time": "2022-05-14T10:59:34.090Z"
   },
   {
    "duration": 16,
    "start_time": "2022-05-14T10:59:34.109Z"
   },
   {
    "duration": 250,
    "start_time": "2022-05-14T10:59:34.127Z"
   },
   {
    "duration": 231,
    "start_time": "2022-05-14T11:11:52.960Z"
   },
   {
    "duration": 235,
    "start_time": "2022-05-14T11:11:59.137Z"
   },
   {
    "duration": 18,
    "start_time": "2022-05-14T11:19:26.599Z"
   },
   {
    "duration": 14,
    "start_time": "2022-05-14T11:19:31.290Z"
   },
   {
    "duration": 330,
    "start_time": "2022-05-14T11:19:32.074Z"
   },
   {
    "duration": 19,
    "start_time": "2022-05-14T11:19:33.405Z"
   },
   {
    "duration": 13,
    "start_time": "2022-05-14T11:19:33.784Z"
   },
   {
    "duration": 226,
    "start_time": "2022-05-14T11:19:34.251Z"
   },
   {
    "duration": 17,
    "start_time": "2022-05-14T11:19:55.627Z"
   },
   {
    "duration": 14,
    "start_time": "2022-05-14T11:19:56.011Z"
   },
   {
    "duration": 218,
    "start_time": "2022-05-14T11:19:56.364Z"
   },
   {
    "duration": 18,
    "start_time": "2022-05-14T11:19:56.947Z"
   },
   {
    "duration": 14,
    "start_time": "2022-05-14T11:19:57.236Z"
   },
   {
    "duration": 222,
    "start_time": "2022-05-14T11:19:57.485Z"
   },
   {
    "duration": 3,
    "start_time": "2022-05-14T11:20:35.995Z"
   },
   {
    "duration": 15,
    "start_time": "2022-05-14T11:21:08.874Z"
   },
   {
    "duration": 98,
    "start_time": "2022-05-14T11:22:42.355Z"
   },
   {
    "duration": 11,
    "start_time": "2022-05-14T11:23:17.453Z"
   },
   {
    "duration": 16,
    "start_time": "2022-05-14T11:23:22.327Z"
   },
   {
    "duration": 18,
    "start_time": "2022-05-14T12:00:12.511Z"
   },
   {
    "duration": 25,
    "start_time": "2022-05-14T12:18:16.397Z"
   },
   {
    "duration": 13,
    "start_time": "2022-05-14T12:18:50.553Z"
   },
   {
    "duration": 14,
    "start_time": "2022-05-14T12:19:10.314Z"
   },
   {
    "duration": 9,
    "start_time": "2022-05-14T12:21:48.950Z"
   },
   {
    "duration": 11,
    "start_time": "2022-05-14T12:22:37.395Z"
   },
   {
    "duration": 11,
    "start_time": "2022-05-14T12:22:43.538Z"
   },
   {
    "duration": 17,
    "start_time": "2022-05-14T12:25:28.283Z"
   },
   {
    "duration": 2084,
    "start_time": "2022-05-14T12:27:09.685Z"
   },
   {
    "duration": 2179,
    "start_time": "2022-05-14T12:27:21.276Z"
   },
   {
    "duration": 1818,
    "start_time": "2022-05-14T12:27:26.619Z"
   },
   {
    "duration": 24,
    "start_time": "2022-05-14T12:29:05.372Z"
   },
   {
    "duration": 23,
    "start_time": "2022-05-14T12:29:35.554Z"
   },
   {
    "duration": 23,
    "start_time": "2022-05-14T12:30:13.242Z"
   },
   {
    "duration": 23,
    "start_time": "2022-05-14T12:30:56.689Z"
   },
   {
    "duration": 21,
    "start_time": "2022-05-14T12:35:05.045Z"
   },
   {
    "duration": 25,
    "start_time": "2022-05-14T12:35:37.418Z"
   },
   {
    "duration": 11,
    "start_time": "2022-05-14T13:44:18.509Z"
   },
   {
    "duration": 8,
    "start_time": "2022-05-14T13:44:32.894Z"
   },
   {
    "duration": 7,
    "start_time": "2022-05-14T13:44:37.804Z"
   },
   {
    "duration": 7,
    "start_time": "2022-05-14T13:45:13.564Z"
   },
   {
    "duration": 8,
    "start_time": "2022-05-14T13:45:18.693Z"
   },
   {
    "duration": 6,
    "start_time": "2022-05-14T13:45:37.963Z"
   },
   {
    "duration": 4,
    "start_time": "2022-05-14T13:46:53.740Z"
   },
   {
    "duration": 6,
    "start_time": "2022-05-14T13:46:57.035Z"
   },
   {
    "duration": 5,
    "start_time": "2022-05-14T13:49:02.597Z"
   },
   {
    "duration": 5,
    "start_time": "2022-05-14T13:50:01.105Z"
   },
   {
    "duration": 5,
    "start_time": "2022-05-14T13:50:40.395Z"
   },
   {
    "duration": 5,
    "start_time": "2022-05-14T13:50:41.256Z"
   },
   {
    "duration": 5,
    "start_time": "2022-05-14T13:50:41.700Z"
   },
   {
    "duration": 5,
    "start_time": "2022-05-14T13:50:42.143Z"
   },
   {
    "duration": 5,
    "start_time": "2022-05-14T13:50:57.912Z"
   },
   {
    "duration": 4,
    "start_time": "2022-05-14T13:50:58.743Z"
   },
   {
    "duration": 4,
    "start_time": "2022-05-14T13:50:59.262Z"
   },
   {
    "duration": 5,
    "start_time": "2022-05-14T13:50:59.924Z"
   },
   {
    "duration": 4,
    "start_time": "2022-05-14T13:52:52.446Z"
   },
   {
    "duration": 4,
    "start_time": "2022-05-14T13:52:56.909Z"
   },
   {
    "duration": 8,
    "start_time": "2022-05-14T14:00:10.267Z"
   },
   {
    "duration": 1178,
    "start_time": "2022-05-14T14:01:29.406Z"
   },
   {
    "duration": 51,
    "start_time": "2022-05-14T14:01:30.586Z"
   },
   {
    "duration": 17,
    "start_time": "2022-05-14T14:01:30.639Z"
   },
   {
    "duration": 12,
    "start_time": "2022-05-14T14:01:30.658Z"
   },
   {
    "duration": 14,
    "start_time": "2022-05-14T14:01:30.671Z"
   },
   {
    "duration": 14,
    "start_time": "2022-05-14T14:01:30.687Z"
   },
   {
    "duration": 31,
    "start_time": "2022-05-14T14:01:30.703Z"
   },
   {
    "duration": 24,
    "start_time": "2022-05-14T14:01:30.736Z"
   },
   {
    "duration": 12,
    "start_time": "2022-05-14T14:01:30.762Z"
   },
   {
    "duration": 17,
    "start_time": "2022-05-14T14:01:30.777Z"
   },
   {
    "duration": 6,
    "start_time": "2022-05-14T14:01:30.796Z"
   },
   {
    "duration": 25,
    "start_time": "2022-05-14T14:01:30.803Z"
   },
   {
    "duration": 24,
    "start_time": "2022-05-14T14:01:30.830Z"
   },
   {
    "duration": 18,
    "start_time": "2022-05-14T14:01:30.856Z"
   },
   {
    "duration": 13,
    "start_time": "2022-05-14T14:01:30.876Z"
   },
   {
    "duration": 217,
    "start_time": "2022-05-14T14:01:30.890Z"
   },
   {
    "duration": 309,
    "start_time": "2022-05-14T14:01:31.109Z"
   },
   {
    "duration": 7,
    "start_time": "2022-05-14T14:01:31.420Z"
   },
   {
    "duration": 27,
    "start_time": "2022-05-14T14:01:31.429Z"
   },
   {
    "duration": 454,
    "start_time": "2022-05-14T14:01:31.458Z"
   },
   {
    "duration": 20,
    "start_time": "2022-05-14T14:01:31.914Z"
   },
   {
    "duration": 17,
    "start_time": "2022-05-14T14:01:31.936Z"
   },
   {
    "duration": 252,
    "start_time": "2022-05-14T14:01:31.955Z"
   },
   {
    "duration": 14,
    "start_time": "2022-05-14T14:01:32.209Z"
   },
   {
    "duration": 363,
    "start_time": "2022-05-14T14:01:32.225Z"
   },
   {
    "duration": 278,
    "start_time": "2022-05-14T14:01:32.590Z"
   },
   {
    "duration": 22,
    "start_time": "2022-05-14T14:01:32.869Z"
   },
   {
    "duration": 277,
    "start_time": "2022-05-14T14:01:32.894Z"
   },
   {
    "duration": 20,
    "start_time": "2022-05-14T14:01:33.173Z"
   },
   {
    "duration": 6,
    "start_time": "2022-05-14T14:01:33.195Z"
   },
   {
    "duration": 26,
    "start_time": "2022-05-14T14:01:33.203Z"
   },
   {
    "duration": 203,
    "start_time": "2022-05-14T14:01:33.231Z"
   },
   {
    "duration": 17,
    "start_time": "2022-05-14T14:01:33.436Z"
   },
   {
    "duration": 37,
    "start_time": "2022-05-14T14:01:33.454Z"
   },
   {
    "duration": 231,
    "start_time": "2022-05-14T14:01:33.493Z"
   },
   {
    "duration": 19,
    "start_time": "2022-05-14T14:01:33.726Z"
   },
   {
    "duration": 12,
    "start_time": "2022-05-14T14:01:33.747Z"
   },
   {
    "duration": 256,
    "start_time": "2022-05-14T14:01:33.761Z"
   },
   {
    "duration": 25,
    "start_time": "2022-05-14T14:01:34.019Z"
   },
   {
    "duration": 10,
    "start_time": "2022-05-14T14:01:34.046Z"
   },
   {
    "duration": 30,
    "start_time": "2022-05-14T14:01:34.057Z"
   },
   {
    "duration": 15,
    "start_time": "2022-05-14T14:01:34.088Z"
   },
   {
    "duration": 32,
    "start_time": "2022-05-14T14:01:34.105Z"
   },
   {
    "duration": 7,
    "start_time": "2022-05-14T14:06:15.168Z"
   },
   {
    "duration": 5,
    "start_time": "2022-05-14T14:06:25.027Z"
   },
   {
    "duration": 4,
    "start_time": "2022-05-14T14:06:25.714Z"
   },
   {
    "duration": 4,
    "start_time": "2022-05-14T14:07:31.872Z"
   },
   {
    "duration": 123,
    "start_time": "2022-05-14T14:07:36.746Z"
   },
   {
    "duration": 1190,
    "start_time": "2022-05-14T14:10:19.002Z"
   },
   {
    "duration": 51,
    "start_time": "2022-05-14T14:10:20.194Z"
   },
   {
    "duration": 18,
    "start_time": "2022-05-14T14:10:20.246Z"
   },
   {
    "duration": 5,
    "start_time": "2022-05-14T14:10:20.266Z"
   },
   {
    "duration": 4,
    "start_time": "2022-05-14T14:10:20.288Z"
   },
   {
    "duration": 7,
    "start_time": "2022-05-14T14:10:20.294Z"
   },
   {
    "duration": 21,
    "start_time": "2022-05-14T14:10:20.303Z"
   },
   {
    "duration": 15,
    "start_time": "2022-05-14T14:10:20.325Z"
   },
   {
    "duration": 11,
    "start_time": "2022-05-14T14:10:20.341Z"
   },
   {
    "duration": 17,
    "start_time": "2022-05-14T14:10:20.355Z"
   },
   {
    "duration": 6,
    "start_time": "2022-05-14T14:10:20.388Z"
   },
   {
    "duration": 16,
    "start_time": "2022-05-14T14:10:20.396Z"
   },
   {
    "duration": 15,
    "start_time": "2022-05-14T14:10:20.414Z"
   },
   {
    "duration": 18,
    "start_time": "2022-05-14T14:10:20.431Z"
   },
   {
    "duration": 6,
    "start_time": "2022-05-14T14:10:20.450Z"
   },
   {
    "duration": 234,
    "start_time": "2022-05-14T14:10:20.457Z"
   },
   {
    "duration": 307,
    "start_time": "2022-05-14T14:10:20.693Z"
   },
   {
    "duration": 7,
    "start_time": "2022-05-14T14:10:21.002Z"
   },
   {
    "duration": 27,
    "start_time": "2022-05-14T14:10:21.011Z"
   },
   {
    "duration": 445,
    "start_time": "2022-05-14T14:10:21.040Z"
   },
   {
    "duration": 19,
    "start_time": "2022-05-14T14:10:21.486Z"
   },
   {
    "duration": 18,
    "start_time": "2022-05-14T14:10:21.507Z"
   },
   {
    "duration": 251,
    "start_time": "2022-05-14T14:10:21.526Z"
   },
   {
    "duration": 21,
    "start_time": "2022-05-14T14:10:21.779Z"
   },
   {
    "duration": 358,
    "start_time": "2022-05-14T14:10:21.801Z"
   },
   {
    "duration": 281,
    "start_time": "2022-05-14T14:10:22.160Z"
   },
   {
    "duration": 11,
    "start_time": "2022-05-14T14:10:22.443Z"
   },
   {
    "duration": 286,
    "start_time": "2022-05-14T14:10:22.457Z"
   },
   {
    "duration": 12,
    "start_time": "2022-05-14T14:10:22.744Z"
   },
   {
    "duration": 11,
    "start_time": "2022-05-14T14:10:22.758Z"
   },
   {
    "duration": 30,
    "start_time": "2022-05-14T14:10:22.771Z"
   },
   {
    "duration": 209,
    "start_time": "2022-05-14T14:10:22.803Z"
   },
   {
    "duration": 19,
    "start_time": "2022-05-14T14:10:23.014Z"
   },
   {
    "duration": 16,
    "start_time": "2022-05-14T14:10:23.035Z"
   },
   {
    "duration": 254,
    "start_time": "2022-05-14T14:10:23.052Z"
   },
   {
    "duration": 18,
    "start_time": "2022-05-14T14:10:23.308Z"
   },
   {
    "duration": 19,
    "start_time": "2022-05-14T14:10:23.328Z"
   },
   {
    "duration": 274,
    "start_time": "2022-05-14T14:10:23.349Z"
   },
   {
    "duration": 23,
    "start_time": "2022-05-14T14:10:23.625Z"
   },
   {
    "duration": 26,
    "start_time": "2022-05-14T14:10:23.650Z"
   },
   {
    "duration": 17,
    "start_time": "2022-05-14T14:10:23.678Z"
   },
   {
    "duration": 17,
    "start_time": "2022-05-14T14:10:23.697Z"
   },
   {
    "duration": 14,
    "start_time": "2022-05-14T14:10:23.716Z"
   },
   {
    "duration": 9,
    "start_time": "2022-05-14T14:10:23.732Z"
   },
   {
    "duration": 7,
    "start_time": "2022-05-14T14:10:23.743Z"
   },
   {
    "duration": 9,
    "start_time": "2022-05-14T14:10:23.751Z"
   },
   {
    "duration": 27,
    "start_time": "2022-05-14T14:10:23.761Z"
   },
   {
    "duration": 1345,
    "start_time": "2022-05-15T14:06:54.606Z"
   },
   {
    "duration": 50,
    "start_time": "2022-05-15T14:06:55.953Z"
   },
   {
    "duration": 22,
    "start_time": "2022-05-15T14:06:56.008Z"
   },
   {
    "duration": 4,
    "start_time": "2022-05-15T14:06:56.032Z"
   },
   {
    "duration": 5,
    "start_time": "2022-05-15T14:06:56.037Z"
   },
   {
    "duration": 6,
    "start_time": "2022-05-15T14:06:56.044Z"
   },
   {
    "duration": 8,
    "start_time": "2022-05-15T14:06:56.052Z"
   },
   {
    "duration": 13,
    "start_time": "2022-05-15T14:06:56.062Z"
   },
   {
    "duration": 9,
    "start_time": "2022-05-15T14:06:56.108Z"
   },
   {
    "duration": 19,
    "start_time": "2022-05-15T14:06:56.121Z"
   },
   {
    "duration": 7,
    "start_time": "2022-05-15T14:06:56.142Z"
   },
   {
    "duration": 14,
    "start_time": "2022-05-15T14:06:56.151Z"
   },
   {
    "duration": 52,
    "start_time": "2022-05-15T14:06:56.167Z"
   },
   {
    "duration": 18,
    "start_time": "2022-05-15T14:06:56.221Z"
   },
   {
    "duration": 7,
    "start_time": "2022-05-15T14:06:56.241Z"
   },
   {
    "duration": 244,
    "start_time": "2022-05-15T14:06:56.250Z"
   },
   {
    "duration": 334,
    "start_time": "2022-05-15T14:06:56.496Z"
   },
   {
    "duration": 8,
    "start_time": "2022-05-15T14:06:56.831Z"
   },
   {
    "duration": 24,
    "start_time": "2022-05-15T14:06:56.841Z"
   },
   {
    "duration": 497,
    "start_time": "2022-05-15T14:06:56.867Z"
   },
   {
    "duration": 20,
    "start_time": "2022-05-15T14:06:57.365Z"
   },
   {
    "duration": 16,
    "start_time": "2022-05-15T14:06:57.386Z"
   },
   {
    "duration": 264,
    "start_time": "2022-05-15T14:06:57.403Z"
   },
   {
    "duration": 13,
    "start_time": "2022-05-15T14:06:57.669Z"
   },
   {
    "duration": 366,
    "start_time": "2022-05-15T14:06:57.684Z"
   },
   {
    "duration": 310,
    "start_time": "2022-05-15T14:06:58.051Z"
   },
   {
    "duration": 11,
    "start_time": "2022-05-15T14:06:58.363Z"
   },
   {
    "duration": 310,
    "start_time": "2022-05-15T14:06:58.378Z"
   },
   {
    "duration": 20,
    "start_time": "2022-05-15T14:06:58.689Z"
   },
   {
    "duration": 8,
    "start_time": "2022-05-15T14:06:58.711Z"
   },
   {
    "duration": 22,
    "start_time": "2022-05-15T14:06:58.722Z"
   },
   {
    "duration": 239,
    "start_time": "2022-05-15T14:06:58.745Z"
   },
   {
    "duration": 29,
    "start_time": "2022-05-15T14:06:58.985Z"
   },
   {
    "duration": 14,
    "start_time": "2022-05-15T14:06:59.015Z"
   },
   {
    "duration": 280,
    "start_time": "2022-05-15T14:06:59.031Z"
   },
   {
    "duration": 20,
    "start_time": "2022-05-15T14:06:59.312Z"
   },
   {
    "duration": 15,
    "start_time": "2022-05-15T14:06:59.333Z"
   },
   {
    "duration": 313,
    "start_time": "2022-05-15T14:06:59.350Z"
   },
   {
    "duration": 27,
    "start_time": "2022-05-15T14:06:59.665Z"
   },
   {
    "duration": 19,
    "start_time": "2022-05-15T14:06:59.693Z"
   },
   {
    "duration": 6,
    "start_time": "2022-05-15T14:06:59.714Z"
   },
   {
    "duration": 7,
    "start_time": "2022-05-15T14:06:59.721Z"
   },
   {
    "duration": 6,
    "start_time": "2022-05-15T14:06:59.729Z"
   },
   {
    "duration": 9,
    "start_time": "2022-05-15T14:06:59.737Z"
   },
   {
    "duration": 10,
    "start_time": "2022-05-15T14:06:59.748Z"
   },
   {
    "duration": 5,
    "start_time": "2022-05-15T14:06:59.759Z"
   },
   {
    "duration": 5,
    "start_time": "2022-05-15T14:06:59.766Z"
   },
   {
    "duration": 3,
    "start_time": "2022-05-15T14:21:13.755Z"
   },
   {
    "duration": 1095,
    "start_time": "2022-05-15T14:23:27.512Z"
   },
   {
    "duration": 47,
    "start_time": "2022-05-15T14:23:28.609Z"
   },
   {
    "duration": 17,
    "start_time": "2022-05-15T14:23:28.657Z"
   },
   {
    "duration": 7,
    "start_time": "2022-05-15T14:23:28.676Z"
   },
   {
    "duration": 26,
    "start_time": "2022-05-15T14:23:28.684Z"
   },
   {
    "duration": 5,
    "start_time": "2022-05-15T14:23:28.712Z"
   },
   {
    "duration": 10,
    "start_time": "2022-05-15T14:23:28.719Z"
   },
   {
    "duration": 17,
    "start_time": "2022-05-15T14:23:28.730Z"
   },
   {
    "duration": 10,
    "start_time": "2022-05-15T14:23:28.748Z"
   },
   {
    "duration": 18,
    "start_time": "2022-05-15T14:23:28.760Z"
   },
   {
    "duration": 32,
    "start_time": "2022-05-15T14:23:28.780Z"
   },
   {
    "duration": 11,
    "start_time": "2022-05-15T14:23:28.813Z"
   },
   {
    "duration": 15,
    "start_time": "2022-05-15T14:23:28.826Z"
   },
   {
    "duration": 18,
    "start_time": "2022-05-15T14:23:28.843Z"
   },
   {
    "duration": 46,
    "start_time": "2022-05-15T14:23:28.862Z"
   },
   {
    "duration": 231,
    "start_time": "2022-05-15T14:23:28.910Z"
   },
   {
    "duration": 325,
    "start_time": "2022-05-15T14:23:29.143Z"
   },
   {
    "duration": 8,
    "start_time": "2022-05-15T14:23:29.470Z"
   },
   {
    "duration": 39,
    "start_time": "2022-05-15T14:23:29.480Z"
   },
   {
    "duration": 439,
    "start_time": "2022-05-15T14:23:29.521Z"
   },
   {
    "duration": 19,
    "start_time": "2022-05-15T14:23:29.961Z"
   },
   {
    "duration": 36,
    "start_time": "2022-05-15T14:23:29.982Z"
   },
   {
    "duration": 261,
    "start_time": "2022-05-15T14:23:30.019Z"
   },
   {
    "duration": 26,
    "start_time": "2022-05-15T14:23:30.282Z"
   },
   {
    "duration": 347,
    "start_time": "2022-05-15T14:23:30.310Z"
   },
   {
    "duration": 297,
    "start_time": "2022-05-15T14:23:30.659Z"
   },
   {
    "duration": 11,
    "start_time": "2022-05-15T14:23:30.958Z"
   },
   {
    "duration": 290,
    "start_time": "2022-05-15T14:23:30.973Z"
   },
   {
    "duration": 11,
    "start_time": "2022-05-15T14:23:31.265Z"
   },
   {
    "duration": 12,
    "start_time": "2022-05-15T14:23:31.277Z"
   },
   {
    "duration": 14,
    "start_time": "2022-05-15T14:23:31.308Z"
   },
   {
    "duration": 221,
    "start_time": "2022-05-15T14:23:31.324Z"
   },
   {
    "duration": 18,
    "start_time": "2022-05-15T14:23:31.546Z"
   },
   {
    "duration": 12,
    "start_time": "2022-05-15T14:23:31.566Z"
   },
   {
    "duration": 267,
    "start_time": "2022-05-15T14:23:31.579Z"
   },
   {
    "duration": 18,
    "start_time": "2022-05-15T14:23:31.848Z"
   },
   {
    "duration": 17,
    "start_time": "2022-05-15T14:23:31.868Z"
   },
   {
    "duration": 278,
    "start_time": "2022-05-15T14:23:31.887Z"
   },
   {
    "duration": 24,
    "start_time": "2022-05-15T14:23:32.166Z"
   },
   {
    "duration": 6,
    "start_time": "2022-05-15T14:23:32.207Z"
   },
   {
    "duration": 8,
    "start_time": "2022-05-15T14:23:32.214Z"
   },
   {
    "duration": 8,
    "start_time": "2022-05-15T14:23:32.224Z"
   },
   {
    "duration": 7,
    "start_time": "2022-05-15T14:23:32.233Z"
   },
   {
    "duration": 9,
    "start_time": "2022-05-15T14:23:32.242Z"
   },
   {
    "duration": 5,
    "start_time": "2022-05-15T14:23:32.253Z"
   },
   {
    "duration": 7,
    "start_time": "2022-05-15T14:23:32.260Z"
   },
   {
    "duration": 4,
    "start_time": "2022-05-15T14:23:32.307Z"
   },
   {
    "duration": 297,
    "start_time": "2022-05-15T15:48:43.386Z"
   },
   {
    "duration": 321,
    "start_time": "2022-05-15T15:49:00.346Z"
   },
   {
    "duration": 7,
    "start_time": "2022-05-15T15:53:02.996Z"
   },
   {
    "duration": 16,
    "start_time": "2022-05-15T15:53:06.374Z"
   },
   {
    "duration": 18,
    "start_time": "2022-05-15T15:53:20.014Z"
   },
   {
    "duration": 17,
    "start_time": "2022-05-15T15:53:21.554Z"
   },
   {
    "duration": 59,
    "start_time": "2022-05-15T16:45:27.634Z"
   },
   {
    "duration": 1825,
    "start_time": "2022-05-16T08:28:44.787Z"
   },
   {
    "duration": 72,
    "start_time": "2022-05-16T08:28:46.616Z"
   },
   {
    "duration": 28,
    "start_time": "2022-05-16T08:28:46.690Z"
   },
   {
    "duration": 5,
    "start_time": "2022-05-16T08:28:46.722Z"
   },
   {
    "duration": 7,
    "start_time": "2022-05-16T08:28:46.729Z"
   },
   {
    "duration": 8,
    "start_time": "2022-05-16T08:28:46.738Z"
   },
   {
    "duration": 13,
    "start_time": "2022-05-16T08:28:46.782Z"
   },
   {
    "duration": 19,
    "start_time": "2022-05-16T08:28:46.797Z"
   },
   {
    "duration": 10,
    "start_time": "2022-05-16T08:28:46.818Z"
   },
   {
    "duration": 61,
    "start_time": "2022-05-16T08:28:46.832Z"
   },
   {
    "duration": 9,
    "start_time": "2022-05-16T08:28:46.895Z"
   },
   {
    "duration": 14,
    "start_time": "2022-05-16T08:28:46.906Z"
   },
   {
    "duration": 22,
    "start_time": "2022-05-16T08:28:46.922Z"
   },
   {
    "duration": 58,
    "start_time": "2022-05-16T08:28:46.946Z"
   },
   {
    "duration": 8,
    "start_time": "2022-05-16T08:28:47.007Z"
   },
   {
    "duration": 386,
    "start_time": "2022-05-16T08:28:47.017Z"
   },
   {
    "duration": 639,
    "start_time": "2022-05-16T08:28:47.406Z"
   },
   {
    "duration": 11,
    "start_time": "2022-05-16T08:28:48.049Z"
   },
   {
    "duration": 51,
    "start_time": "2022-05-16T08:28:48.063Z"
   },
   {
    "duration": 829,
    "start_time": "2022-05-16T08:28:48.117Z"
   },
   {
    "duration": 37,
    "start_time": "2022-05-16T08:28:48.949Z"
   },
   {
    "duration": 23,
    "start_time": "2022-05-16T08:28:48.989Z"
   },
   {
    "duration": 493,
    "start_time": "2022-05-16T08:28:49.014Z"
   },
   {
    "duration": 21,
    "start_time": "2022-05-16T08:28:49.509Z"
   },
   {
    "duration": 749,
    "start_time": "2022-05-16T08:28:49.533Z"
   },
   {
    "duration": 497,
    "start_time": "2022-05-16T08:28:50.284Z"
   },
   {
    "duration": 16,
    "start_time": "2022-05-16T08:28:50.783Z"
   },
   {
    "duration": 479,
    "start_time": "2022-05-16T08:28:50.804Z"
   },
   {
    "duration": 17,
    "start_time": "2022-05-16T08:28:51.286Z"
   },
   {
    "duration": 14,
    "start_time": "2022-05-16T08:28:51.305Z"
   },
   {
    "duration": 38,
    "start_time": "2022-05-16T08:28:51.321Z"
   },
   {
    "duration": 351,
    "start_time": "2022-05-16T08:28:51.362Z"
   },
   {
    "duration": 26,
    "start_time": "2022-05-16T08:28:51.715Z"
   },
   {
    "duration": 43,
    "start_time": "2022-05-16T08:28:51.743Z"
   },
   {
    "duration": 404,
    "start_time": "2022-05-16T08:28:51.788Z"
   },
   {
    "duration": 27,
    "start_time": "2022-05-16T08:28:52.194Z"
   },
   {
    "duration": 26,
    "start_time": "2022-05-16T08:28:52.223Z"
   },
   {
    "duration": 433,
    "start_time": "2022-05-16T08:28:52.251Z"
   },
   {
    "duration": 37,
    "start_time": "2022-05-16T08:28:52.686Z"
   },
   {
    "duration": 12,
    "start_time": "2022-05-16T08:28:52.725Z"
   },
   {
    "duration": 9,
    "start_time": "2022-05-16T08:28:52.739Z"
   },
   {
    "duration": 33,
    "start_time": "2022-05-16T08:28:52.750Z"
   },
   {
    "duration": 11,
    "start_time": "2022-05-16T08:28:52.785Z"
   },
   {
    "duration": 13,
    "start_time": "2022-05-16T08:28:52.798Z"
   },
   {
    "duration": 5,
    "start_time": "2022-05-16T08:28:52.814Z"
   },
   {
    "duration": 8,
    "start_time": "2022-05-16T08:28:52.821Z"
   },
   {
    "duration": 7,
    "start_time": "2022-05-16T08:28:52.831Z"
   },
   {
    "duration": 26,
    "start_time": "2022-05-16T08:35:54.211Z"
   },
   {
    "duration": 512,
    "start_time": "2022-05-16T08:37:17.299Z"
   },
   {
    "duration": 748,
    "start_time": "2022-05-16T08:38:27.107Z"
   },
   {
    "duration": 1494,
    "start_time": "2022-05-16T08:41:33.320Z"
   },
   {
    "duration": 70,
    "start_time": "2022-05-16T08:41:34.817Z"
   },
   {
    "duration": 25,
    "start_time": "2022-05-16T08:41:34.889Z"
   },
   {
    "duration": 5,
    "start_time": "2022-05-16T08:41:34.918Z"
   },
   {
    "duration": 8,
    "start_time": "2022-05-16T08:41:34.925Z"
   },
   {
    "duration": 8,
    "start_time": "2022-05-16T08:41:34.935Z"
   },
   {
    "duration": 46,
    "start_time": "2022-05-16T08:41:34.945Z"
   },
   {
    "duration": 18,
    "start_time": "2022-05-16T08:41:34.993Z"
   },
   {
    "duration": 12,
    "start_time": "2022-05-16T08:41:35.013Z"
   },
   {
    "duration": 54,
    "start_time": "2022-05-16T08:41:35.029Z"
   },
   {
    "duration": 9,
    "start_time": "2022-05-16T08:41:35.085Z"
   },
   {
    "duration": 17,
    "start_time": "2022-05-16T08:41:35.096Z"
   },
   {
    "duration": 21,
    "start_time": "2022-05-16T08:41:35.115Z"
   },
   {
    "duration": 62,
    "start_time": "2022-05-16T08:41:35.138Z"
   },
   {
    "duration": 7,
    "start_time": "2022-05-16T08:41:35.202Z"
   },
   {
    "duration": 373,
    "start_time": "2022-05-16T08:41:35.211Z"
   },
   {
    "duration": 596,
    "start_time": "2022-05-16T08:41:35.586Z"
   },
   {
    "duration": 11,
    "start_time": "2022-05-16T08:41:36.184Z"
   },
   {
    "duration": 38,
    "start_time": "2022-05-16T08:41:36.197Z"
   },
   {
    "duration": 736,
    "start_time": "2022-05-16T08:41:36.237Z"
   },
   {
    "duration": 27,
    "start_time": "2022-05-16T08:41:36.976Z"
   },
   {
    "duration": 22,
    "start_time": "2022-05-16T08:41:37.005Z"
   },
   {
    "duration": 447,
    "start_time": "2022-05-16T08:41:37.030Z"
   },
   {
    "duration": 20,
    "start_time": "2022-05-16T08:41:37.482Z"
   },
   {
    "duration": 557,
    "start_time": "2022-05-16T08:41:37.504Z"
   },
   {
    "duration": 474,
    "start_time": "2022-05-16T08:41:38.063Z"
   },
   {
    "duration": 16,
    "start_time": "2022-05-16T08:41:38.539Z"
   },
   {
    "duration": 481,
    "start_time": "2022-05-16T08:41:38.561Z"
   },
   {
    "duration": 16,
    "start_time": "2022-05-16T08:41:39.045Z"
   },
   {
    "duration": 11,
    "start_time": "2022-05-16T08:41:39.082Z"
   },
   {
    "duration": 24,
    "start_time": "2022-05-16T08:41:39.096Z"
   },
   {
    "duration": 379,
    "start_time": "2022-05-16T08:41:39.122Z"
   },
   {
    "duration": 28,
    "start_time": "2022-05-16T08:41:39.504Z"
   },
   {
    "duration": 49,
    "start_time": "2022-05-16T08:41:39.535Z"
   },
   {
    "duration": 412,
    "start_time": "2022-05-16T08:41:39.587Z"
   },
   {
    "duration": 30,
    "start_time": "2022-05-16T08:41:40.001Z"
   },
   {
    "duration": 49,
    "start_time": "2022-05-16T08:41:40.034Z"
   },
   {
    "duration": 425,
    "start_time": "2022-05-16T08:41:40.086Z"
   },
   {
    "duration": 37,
    "start_time": "2022-05-16T08:41:40.514Z"
   },
   {
    "duration": 29,
    "start_time": "2022-05-16T08:41:40.553Z"
   },
   {
    "duration": 22,
    "start_time": "2022-05-16T08:41:40.584Z"
   },
   {
    "duration": 19,
    "start_time": "2022-05-16T08:41:40.608Z"
   },
   {
    "duration": 15,
    "start_time": "2022-05-16T08:41:40.629Z"
   },
   {
    "duration": 16,
    "start_time": "2022-05-16T08:41:40.646Z"
   },
   {
    "duration": 11,
    "start_time": "2022-05-16T08:41:40.664Z"
   },
   {
    "duration": 6,
    "start_time": "2022-05-16T08:41:40.677Z"
   },
   {
    "duration": 7,
    "start_time": "2022-05-16T08:41:40.685Z"
   },
   {
    "duration": 138,
    "start_time": "2022-05-17T05:06:08.065Z"
   },
   {
    "duration": 1261,
    "start_time": "2022-05-17T05:13:43.943Z"
   },
   {
    "duration": 56,
    "start_time": "2022-05-17T05:13:45.206Z"
   },
   {
    "duration": 16,
    "start_time": "2022-05-17T05:13:45.264Z"
   },
   {
    "duration": 7,
    "start_time": "2022-05-17T05:13:45.282Z"
   },
   {
    "duration": 16,
    "start_time": "2022-05-17T05:13:45.291Z"
   },
   {
    "duration": 22,
    "start_time": "2022-05-17T05:13:45.309Z"
   },
   {
    "duration": 14,
    "start_time": "2022-05-17T05:13:45.333Z"
   },
   {
    "duration": 13,
    "start_time": "2022-05-17T05:13:45.348Z"
   },
   {
    "duration": 11,
    "start_time": "2022-05-17T05:13:45.363Z"
   },
   {
    "duration": 20,
    "start_time": "2022-05-17T05:13:45.376Z"
   },
   {
    "duration": 7,
    "start_time": "2022-05-17T05:13:45.397Z"
   },
   {
    "duration": 14,
    "start_time": "2022-05-17T05:13:45.406Z"
   },
   {
    "duration": 18,
    "start_time": "2022-05-17T05:13:45.422Z"
   },
   {
    "duration": 18,
    "start_time": "2022-05-17T05:13:45.443Z"
   },
   {
    "duration": 31,
    "start_time": "2022-05-17T05:13:45.462Z"
   },
   {
    "duration": 212,
    "start_time": "2022-05-17T05:13:45.495Z"
   },
   {
    "duration": 312,
    "start_time": "2022-05-17T05:13:45.709Z"
   },
   {
    "duration": 9,
    "start_time": "2022-05-17T05:13:46.023Z"
   },
   {
    "duration": 27,
    "start_time": "2022-05-17T05:13:46.034Z"
   },
   {
    "duration": 447,
    "start_time": "2022-05-17T05:13:46.062Z"
   },
   {
    "duration": 19,
    "start_time": "2022-05-17T05:13:46.511Z"
   },
   {
    "duration": 28,
    "start_time": "2022-05-17T05:13:46.532Z"
   },
   {
    "duration": 246,
    "start_time": "2022-05-17T05:13:46.562Z"
   },
   {
    "duration": 14,
    "start_time": "2022-05-17T05:13:46.810Z"
   },
   {
    "duration": 355,
    "start_time": "2022-05-17T05:13:46.826Z"
   },
   {
    "duration": 277,
    "start_time": "2022-05-17T05:13:47.182Z"
   },
   {
    "duration": 12,
    "start_time": "2022-05-17T05:13:47.461Z"
   },
   {
    "duration": 291,
    "start_time": "2022-05-17T05:13:47.474Z"
   },
   {
    "duration": 12,
    "start_time": "2022-05-17T05:13:47.767Z"
   },
   {
    "duration": 7,
    "start_time": "2022-05-17T05:13:47.788Z"
   },
   {
    "duration": 18,
    "start_time": "2022-05-17T05:13:47.796Z"
   },
   {
    "duration": 210,
    "start_time": "2022-05-17T05:13:47.816Z"
   },
   {
    "duration": 19,
    "start_time": "2022-05-17T05:13:48.029Z"
   },
   {
    "duration": 19,
    "start_time": "2022-05-17T05:13:48.050Z"
   },
   {
    "duration": 444,
    "start_time": "2022-05-17T05:13:48.088Z"
   },
   {
    "duration": 72,
    "start_time": "2022-05-17T05:13:48.534Z"
   },
   {
    "duration": 16,
    "start_time": "2022-05-17T05:13:48.608Z"
   },
   {
    "duration": 567,
    "start_time": "2022-05-17T05:13:48.626Z"
   },
   {
    "duration": 26,
    "start_time": "2022-05-17T05:13:49.195Z"
   },
   {
    "duration": 5,
    "start_time": "2022-05-17T05:13:49.223Z"
   },
   {
    "duration": 61,
    "start_time": "2022-05-17T05:13:49.232Z"
   },
   {
    "duration": 10,
    "start_time": "2022-05-17T05:13:49.295Z"
   },
   {
    "duration": 11,
    "start_time": "2022-05-17T05:13:49.307Z"
   },
   {
    "duration": 9,
    "start_time": "2022-05-17T05:13:49.319Z"
   },
   {
    "duration": 8,
    "start_time": "2022-05-17T05:13:49.329Z"
   },
   {
    "duration": 50,
    "start_time": "2022-05-17T05:13:49.339Z"
   },
   {
    "duration": 4,
    "start_time": "2022-05-17T05:13:49.391Z"
   },
   {
    "duration": 14,
    "start_time": "2022-05-17T05:14:02.854Z"
   },
   {
    "duration": 112,
    "start_time": "2022-05-17T05:24:14.095Z"
   },
   {
    "duration": 1251,
    "start_time": "2022-05-24T07:58:01.706Z"
   },
   {
    "duration": 201,
    "start_time": "2022-05-24T07:58:02.960Z"
   },
   {
    "duration": 15,
    "start_time": "2022-05-24T07:58:03.163Z"
   },
   {
    "duration": 9,
    "start_time": "2022-05-24T07:58:03.180Z"
   },
   {
    "duration": 8,
    "start_time": "2022-05-24T07:58:03.190Z"
   },
   {
    "duration": 6,
    "start_time": "2022-05-24T07:58:03.199Z"
   },
   {
    "duration": 8,
    "start_time": "2022-05-24T07:58:03.207Z"
   },
   {
    "duration": 12,
    "start_time": "2022-05-24T07:58:03.216Z"
   },
   {
    "duration": 9,
    "start_time": "2022-05-24T07:58:03.230Z"
   },
   {
    "duration": 24,
    "start_time": "2022-05-24T07:58:03.241Z"
   },
   {
    "duration": 5,
    "start_time": "2022-05-24T07:58:03.274Z"
   },
   {
    "duration": 15,
    "start_time": "2022-05-24T07:58:03.281Z"
   },
   {
    "duration": 13,
    "start_time": "2022-05-24T07:58:03.297Z"
   },
   {
    "duration": 15,
    "start_time": "2022-05-24T07:58:03.311Z"
   },
   {
    "duration": 5,
    "start_time": "2022-05-24T07:58:03.327Z"
   },
   {
    "duration": 278,
    "start_time": "2022-05-24T07:58:03.333Z"
   },
   {
    "duration": 298,
    "start_time": "2022-05-24T07:58:03.612Z"
   },
   {
    "duration": 6,
    "start_time": "2022-05-24T07:58:03.912Z"
   },
   {
    "duration": 22,
    "start_time": "2022-05-24T07:58:03.919Z"
   },
   {
    "duration": 439,
    "start_time": "2022-05-24T07:58:03.942Z"
   },
   {
    "duration": 16,
    "start_time": "2022-05-24T07:58:04.382Z"
   },
   {
    "duration": 13,
    "start_time": "2022-05-24T07:58:04.400Z"
   },
   {
    "duration": 242,
    "start_time": "2022-05-24T07:58:04.415Z"
   },
   {
    "duration": 20,
    "start_time": "2022-05-24T07:58:04.659Z"
   },
   {
    "duration": 251,
    "start_time": "2022-05-24T07:58:04.680Z"
   },
   {
    "duration": 269,
    "start_time": "2022-05-24T07:58:04.933Z"
   },
   {
    "duration": 11,
    "start_time": "2022-05-24T07:58:05.203Z"
   },
   {
    "duration": 282,
    "start_time": "2022-05-24T07:58:05.218Z"
   },
   {
    "duration": 10,
    "start_time": "2022-05-24T07:58:05.501Z"
   },
   {
    "duration": 7,
    "start_time": "2022-05-24T07:58:05.513Z"
   },
   {
    "duration": 15,
    "start_time": "2022-05-24T07:58:05.521Z"
   },
   {
    "duration": 287,
    "start_time": "2022-05-24T07:58:05.537Z"
   },
   {
    "duration": 17,
    "start_time": "2022-05-24T07:58:05.826Z"
   },
   {
    "duration": 12,
    "start_time": "2022-05-24T07:58:05.844Z"
   },
   {
    "duration": 240,
    "start_time": "2022-05-24T07:58:05.857Z"
   },
   {
    "duration": 15,
    "start_time": "2022-05-24T07:58:06.099Z"
   },
   {
    "duration": 15,
    "start_time": "2022-05-24T07:58:06.116Z"
   },
   {
    "duration": 242,
    "start_time": "2022-05-24T07:58:06.132Z"
   },
   {
    "duration": 20,
    "start_time": "2022-05-24T07:58:06.375Z"
   },
   {
    "duration": 11,
    "start_time": "2022-05-24T07:58:06.397Z"
   },
   {
    "duration": 18,
    "start_time": "2022-05-24T07:58:06.410Z"
   },
   {
    "duration": 8,
    "start_time": "2022-05-24T07:58:06.429Z"
   },
   {
    "duration": 9,
    "start_time": "2022-05-24T07:58:06.439Z"
   },
   {
    "duration": 12,
    "start_time": "2022-05-24T07:58:06.449Z"
   },
   {
    "duration": 13,
    "start_time": "2022-05-24T07:58:06.462Z"
   },
   {
    "duration": 11,
    "start_time": "2022-05-24T07:58:06.476Z"
   },
   {
    "duration": 7,
    "start_time": "2022-05-24T07:58:06.488Z"
   },
   {
    "duration": 13,
    "start_time": "2022-05-24T08:03:07.793Z"
   },
   {
    "duration": 1110,
    "start_time": "2022-05-24T08:03:19.037Z"
   },
   {
    "duration": 63,
    "start_time": "2022-05-24T08:03:20.149Z"
   },
   {
    "duration": 19,
    "start_time": "2022-05-24T08:03:20.214Z"
   },
   {
    "duration": 6,
    "start_time": "2022-05-24T08:03:20.236Z"
   },
   {
    "duration": 8,
    "start_time": "2022-05-24T08:03:20.244Z"
   },
   {
    "duration": 21,
    "start_time": "2022-05-24T08:03:20.254Z"
   },
   {
    "duration": 12,
    "start_time": "2022-05-24T08:03:20.276Z"
   },
   {
    "duration": 16,
    "start_time": "2022-05-24T08:03:20.289Z"
   },
   {
    "duration": 11,
    "start_time": "2022-05-24T08:03:20.306Z"
   },
   {
    "duration": 15,
    "start_time": "2022-05-24T08:03:20.320Z"
   },
   {
    "duration": 6,
    "start_time": "2022-05-24T08:03:20.336Z"
   },
   {
    "duration": 33,
    "start_time": "2022-05-24T08:03:20.343Z"
   },
   {
    "duration": 14,
    "start_time": "2022-05-24T08:03:20.377Z"
   },
   {
    "duration": 15,
    "start_time": "2022-05-24T08:03:20.392Z"
   },
   {
    "duration": 4,
    "start_time": "2022-05-24T08:03:20.409Z"
   },
   {
    "duration": 235,
    "start_time": "2022-05-24T08:03:20.415Z"
   },
   {
    "duration": 365,
    "start_time": "2022-05-24T08:03:20.651Z"
   },
   {
    "duration": 6,
    "start_time": "2022-05-24T08:03:21.018Z"
   },
   {
    "duration": 26,
    "start_time": "2022-05-24T08:03:21.025Z"
   },
   {
    "duration": 436,
    "start_time": "2022-05-24T08:03:21.053Z"
   },
   {
    "duration": 18,
    "start_time": "2022-05-24T08:03:21.491Z"
   },
   {
    "duration": 15,
    "start_time": "2022-05-24T08:03:21.510Z"
   },
   {
    "duration": 248,
    "start_time": "2022-05-24T08:03:21.527Z"
   },
   {
    "duration": 13,
    "start_time": "2022-05-24T08:03:21.777Z"
   },
   {
    "duration": 280,
    "start_time": "2022-05-24T08:03:21.792Z"
   },
   {
    "duration": 279,
    "start_time": "2022-05-24T08:03:22.075Z"
   },
   {
    "duration": 10,
    "start_time": "2022-05-24T08:03:22.356Z"
   },
   {
    "duration": 528,
    "start_time": "2022-05-24T08:03:22.376Z"
   },
   {
    "duration": 71,
    "start_time": "2022-05-24T08:03:22.906Z"
   },
   {
    "duration": 8,
    "start_time": "2022-05-24T08:03:22.980Z"
   },
   {
    "duration": 89,
    "start_time": "2022-05-24T08:03:22.990Z"
   },
   {
    "duration": 423,
    "start_time": "2022-05-24T08:03:23.081Z"
   },
   {
    "duration": 71,
    "start_time": "2022-05-24T08:03:23.505Z"
   },
   {
    "duration": 34,
    "start_time": "2022-05-24T08:03:23.578Z"
   },
   {
    "duration": 629,
    "start_time": "2022-05-24T08:03:23.613Z"
   },
   {
    "duration": 45,
    "start_time": "2022-05-24T08:03:24.244Z"
   },
   {
    "duration": 34,
    "start_time": "2022-05-24T08:03:24.290Z"
   },
   {
    "duration": 495,
    "start_time": "2022-05-24T08:03:24.326Z"
   },
   {
    "duration": 22,
    "start_time": "2022-05-24T08:03:24.823Z"
   },
   {
    "duration": 28,
    "start_time": "2022-05-24T08:03:24.847Z"
   },
   {
    "duration": 16,
    "start_time": "2022-05-24T08:03:24.877Z"
   },
   {
    "duration": 32,
    "start_time": "2022-05-24T08:03:24.894Z"
   },
   {
    "duration": 7,
    "start_time": "2022-05-24T08:03:24.928Z"
   },
   {
    "duration": 20,
    "start_time": "2022-05-24T08:03:24.936Z"
   },
   {
    "duration": 16,
    "start_time": "2022-05-24T08:03:24.957Z"
   },
   {
    "duration": 22,
    "start_time": "2022-05-24T08:03:24.974Z"
   },
   {
    "duration": 26,
    "start_time": "2022-05-24T08:03:24.998Z"
   },
   {
    "duration": 496,
    "start_time": "2022-05-24T08:12:04.269Z"
   },
   {
    "duration": 490,
    "start_time": "2022-05-24T08:12:22.951Z"
   },
   {
    "duration": 583,
    "start_time": "2022-05-24T08:12:34.070Z"
   },
   {
    "duration": 514,
    "start_time": "2022-05-24T08:12:41.773Z"
   },
   {
    "duration": 484,
    "start_time": "2022-05-24T08:12:46.540Z"
   },
   {
    "duration": 630,
    "start_time": "2022-05-24T08:13:11.285Z"
   },
   {
    "duration": 503,
    "start_time": "2022-05-24T08:13:17.534Z"
   },
   {
    "duration": 484,
    "start_time": "2022-05-24T08:13:23.213Z"
   },
   {
    "duration": 1013,
    "start_time": "2022-05-24T08:13:46.579Z"
   },
   {
    "duration": 62,
    "start_time": "2022-05-24T08:13:47.593Z"
   },
   {
    "duration": 16,
    "start_time": "2022-05-24T08:13:47.656Z"
   },
   {
    "duration": 9,
    "start_time": "2022-05-24T08:13:47.674Z"
   },
   {
    "duration": 11,
    "start_time": "2022-05-24T08:13:47.684Z"
   },
   {
    "duration": 6,
    "start_time": "2022-05-24T08:13:47.696Z"
   },
   {
    "duration": 11,
    "start_time": "2022-05-24T08:13:47.704Z"
   },
   {
    "duration": 14,
    "start_time": "2022-05-24T08:13:47.717Z"
   },
   {
    "duration": 10,
    "start_time": "2022-05-24T08:13:47.733Z"
   },
   {
    "duration": 16,
    "start_time": "2022-05-24T08:13:47.745Z"
   },
   {
    "duration": 16,
    "start_time": "2022-05-24T08:13:47.762Z"
   },
   {
    "duration": 13,
    "start_time": "2022-05-24T08:13:47.779Z"
   },
   {
    "duration": 13,
    "start_time": "2022-05-24T08:13:47.793Z"
   },
   {
    "duration": 15,
    "start_time": "2022-05-24T08:13:47.808Z"
   },
   {
    "duration": 4,
    "start_time": "2022-05-24T08:13:47.825Z"
   },
   {
    "duration": 229,
    "start_time": "2022-05-24T08:13:47.830Z"
   },
   {
    "duration": 376,
    "start_time": "2022-05-24T08:13:48.060Z"
   },
   {
    "duration": 8,
    "start_time": "2022-05-24T08:13:48.438Z"
   },
   {
    "duration": 34,
    "start_time": "2022-05-24T08:13:48.447Z"
   },
   {
    "duration": 399,
    "start_time": "2022-05-24T08:13:48.482Z"
   },
   {
    "duration": 16,
    "start_time": "2022-05-24T08:13:48.882Z"
   },
   {
    "duration": 13,
    "start_time": "2022-05-24T08:13:48.899Z"
   },
   {
    "duration": 237,
    "start_time": "2022-05-24T08:13:48.913Z"
   },
   {
    "duration": 12,
    "start_time": "2022-05-24T08:13:49.151Z"
   },
   {
    "duration": 245,
    "start_time": "2022-05-24T08:13:49.175Z"
   },
   {
    "duration": 606,
    "start_time": "2022-05-24T08:13:49.422Z"
   },
   {
    "duration": 262,
    "start_time": "2022-05-24T08:13:50.030Z"
   },
   {
    "duration": 11,
    "start_time": "2022-05-24T08:13:50.296Z"
   },
   {
    "duration": 258,
    "start_time": "2022-05-24T08:13:50.308Z"
   },
   {
    "duration": 14,
    "start_time": "2022-05-24T08:13:50.568Z"
   },
   {
    "duration": 5,
    "start_time": "2022-05-24T08:13:50.583Z"
   },
   {
    "duration": 14,
    "start_time": "2022-05-24T08:13:50.589Z"
   },
   {
    "duration": 196,
    "start_time": "2022-05-24T08:13:50.604Z"
   },
   {
    "duration": 17,
    "start_time": "2022-05-24T08:13:50.801Z"
   },
   {
    "duration": 21,
    "start_time": "2022-05-24T08:13:50.819Z"
   },
   {
    "duration": 233,
    "start_time": "2022-05-24T08:13:50.841Z"
   },
   {
    "duration": 16,
    "start_time": "2022-05-24T08:13:51.076Z"
   },
   {
    "duration": 11,
    "start_time": "2022-05-24T08:13:51.093Z"
   },
   {
    "duration": 239,
    "start_time": "2022-05-24T08:13:51.105Z"
   },
   {
    "duration": 31,
    "start_time": "2022-05-24T08:13:51.345Z"
   },
   {
    "duration": 9,
    "start_time": "2022-05-24T08:13:51.377Z"
   },
   {
    "duration": 10,
    "start_time": "2022-05-24T08:13:51.387Z"
   },
   {
    "duration": 6,
    "start_time": "2022-05-24T08:13:51.399Z"
   },
   {
    "duration": 6,
    "start_time": "2022-05-24T08:13:51.407Z"
   },
   {
    "duration": 7,
    "start_time": "2022-05-24T08:13:51.415Z"
   },
   {
    "duration": 6,
    "start_time": "2022-05-24T08:13:51.423Z"
   },
   {
    "duration": 5,
    "start_time": "2022-05-24T08:13:51.430Z"
   },
   {
    "duration": 6,
    "start_time": "2022-05-24T08:13:51.436Z"
   },
   {
    "duration": 251,
    "start_time": "2022-05-24T08:14:17.730Z"
   },
   {
    "duration": 334,
    "start_time": "2022-05-24T08:14:21.409Z"
   },
   {
    "duration": 254,
    "start_time": "2022-05-24T08:14:32.969Z"
   },
   {
    "duration": 240,
    "start_time": "2022-05-24T08:17:30.498Z"
   },
   {
    "duration": 1006,
    "start_time": "2022-05-24T08:20:51.119Z"
   },
   {
    "duration": 65,
    "start_time": "2022-05-24T08:20:52.126Z"
   },
   {
    "duration": 17,
    "start_time": "2022-05-24T08:20:52.193Z"
   },
   {
    "duration": 3,
    "start_time": "2022-05-24T08:20:52.212Z"
   },
   {
    "duration": 8,
    "start_time": "2022-05-24T08:20:52.217Z"
   },
   {
    "duration": 8,
    "start_time": "2022-05-24T08:20:52.227Z"
   },
   {
    "duration": 13,
    "start_time": "2022-05-24T08:20:52.236Z"
   },
   {
    "duration": 17,
    "start_time": "2022-05-24T08:20:52.251Z"
   },
   {
    "duration": 7,
    "start_time": "2022-05-24T08:20:52.274Z"
   },
   {
    "duration": 22,
    "start_time": "2022-05-24T08:20:52.283Z"
   },
   {
    "duration": 7,
    "start_time": "2022-05-24T08:20:52.307Z"
   },
   {
    "duration": 15,
    "start_time": "2022-05-24T08:20:52.315Z"
   },
   {
    "duration": 12,
    "start_time": "2022-05-24T08:20:52.332Z"
   },
   {
    "duration": 37,
    "start_time": "2022-05-24T08:20:52.345Z"
   },
   {
    "duration": 4,
    "start_time": "2022-05-24T08:20:52.384Z"
   },
   {
    "duration": 205,
    "start_time": "2022-05-24T08:20:52.389Z"
   },
   {
    "duration": 417,
    "start_time": "2022-05-24T08:20:52.595Z"
   },
   {
    "duration": 6,
    "start_time": "2022-05-24T08:20:53.013Z"
   },
   {
    "duration": 23,
    "start_time": "2022-05-24T08:20:53.021Z"
   },
   {
    "duration": 507,
    "start_time": "2022-05-24T08:20:53.046Z"
   },
   {
    "duration": 16,
    "start_time": "2022-05-24T08:20:53.555Z"
   },
   {
    "duration": 17,
    "start_time": "2022-05-24T08:20:53.572Z"
   },
   {
    "duration": 242,
    "start_time": "2022-05-24T08:20:53.590Z"
   },
   {
    "duration": 12,
    "start_time": "2022-05-24T08:20:53.833Z"
   },
   {
    "duration": 269,
    "start_time": "2022-05-24T08:20:53.846Z"
   },
   {
    "duration": 279,
    "start_time": "2022-05-24T08:20:54.116Z"
   },
   {
    "duration": 275,
    "start_time": "2022-05-24T08:20:54.396Z"
   },
   {
    "duration": 10,
    "start_time": "2022-05-24T08:20:54.674Z"
   },
   {
    "duration": 339,
    "start_time": "2022-05-24T08:20:54.686Z"
   },
   {
    "duration": 10,
    "start_time": "2022-05-24T08:20:55.026Z"
   },
   {
    "duration": 8,
    "start_time": "2022-05-24T08:20:55.038Z"
   },
   {
    "duration": 28,
    "start_time": "2022-05-24T08:20:55.047Z"
   },
   {
    "duration": 174,
    "start_time": "2022-05-24T08:20:55.077Z"
   },
   {
    "duration": 24,
    "start_time": "2022-05-24T08:20:55.252Z"
   },
   {
    "duration": 15,
    "start_time": "2022-05-24T08:20:55.277Z"
   },
   {
    "duration": 245,
    "start_time": "2022-05-24T08:20:55.294Z"
   },
   {
    "duration": 17,
    "start_time": "2022-05-24T08:20:55.540Z"
   },
   {
    "duration": 29,
    "start_time": "2022-05-24T08:20:55.559Z"
   },
   {
    "duration": 227,
    "start_time": "2022-05-24T08:20:55.589Z"
   },
   {
    "duration": 22,
    "start_time": "2022-05-24T08:20:55.817Z"
   },
   {
    "duration": 8,
    "start_time": "2022-05-24T08:20:55.841Z"
   },
   {
    "duration": 10,
    "start_time": "2022-05-24T08:20:55.851Z"
   },
   {
    "duration": 13,
    "start_time": "2022-05-24T08:20:55.862Z"
   },
   {
    "duration": 6,
    "start_time": "2022-05-24T08:20:55.876Z"
   },
   {
    "duration": 8,
    "start_time": "2022-05-24T08:20:55.884Z"
   },
   {
    "duration": 5,
    "start_time": "2022-05-24T08:20:55.893Z"
   },
   {
    "duration": 8,
    "start_time": "2022-05-24T08:20:55.900Z"
   },
   {
    "duration": 7,
    "start_time": "2022-05-24T08:20:55.909Z"
   },
   {
    "duration": 257,
    "start_time": "2022-05-24T08:22:26.551Z"
   },
   {
    "duration": 13,
    "start_time": "2022-05-24T08:22:30.014Z"
   },
   {
    "duration": 239,
    "start_time": "2022-05-24T08:22:31.422Z"
   },
   {
    "duration": 333,
    "start_time": "2022-05-24T08:22:36.087Z"
   },
   {
    "duration": 262,
    "start_time": "2022-05-24T08:22:38.146Z"
   },
   {
    "duration": 263,
    "start_time": "2022-05-24T08:22:44.166Z"
   },
   {
    "duration": 250,
    "start_time": "2022-05-24T08:24:13.727Z"
   },
   {
    "duration": 254,
    "start_time": "2022-05-24T08:24:34.248Z"
   },
   {
    "duration": 246,
    "start_time": "2022-05-24T08:24:52.486Z"
   },
   {
    "duration": 282,
    "start_time": "2022-05-24T08:25:59.816Z"
   },
   {
    "duration": 241,
    "start_time": "2022-05-24T08:26:29.144Z"
   },
   {
    "duration": 10,
    "start_time": "2022-05-24T08:26:36.712Z"
   },
   {
    "duration": 253,
    "start_time": "2022-05-24T08:26:49.129Z"
   },
   {
    "duration": 1120,
    "start_time": "2022-05-24T08:26:55.370Z"
   },
   {
    "duration": 64,
    "start_time": "2022-05-24T08:26:56.491Z"
   },
   {
    "duration": 18,
    "start_time": "2022-05-24T08:26:56.557Z"
   },
   {
    "duration": 4,
    "start_time": "2022-05-24T08:26:56.577Z"
   },
   {
    "duration": 6,
    "start_time": "2022-05-24T08:26:56.583Z"
   },
   {
    "duration": 7,
    "start_time": "2022-05-24T08:26:56.590Z"
   },
   {
    "duration": 10,
    "start_time": "2022-05-24T08:26:56.598Z"
   },
   {
    "duration": 13,
    "start_time": "2022-05-24T08:26:56.609Z"
   },
   {
    "duration": 12,
    "start_time": "2022-05-24T08:26:56.624Z"
   },
   {
    "duration": 37,
    "start_time": "2022-05-24T08:26:56.638Z"
   },
   {
    "duration": 7,
    "start_time": "2022-05-24T08:26:56.677Z"
   },
   {
    "duration": 17,
    "start_time": "2022-05-24T08:26:56.685Z"
   },
   {
    "duration": 14,
    "start_time": "2022-05-24T08:26:56.703Z"
   },
   {
    "duration": 18,
    "start_time": "2022-05-24T08:26:56.719Z"
   },
   {
    "duration": 37,
    "start_time": "2022-05-24T08:26:56.739Z"
   },
   {
    "duration": 218,
    "start_time": "2022-05-24T08:26:56.777Z"
   },
   {
    "duration": 349,
    "start_time": "2022-05-24T08:26:56.996Z"
   },
   {
    "duration": 6,
    "start_time": "2022-05-24T08:26:57.346Z"
   },
   {
    "duration": 31,
    "start_time": "2022-05-24T08:26:57.354Z"
   },
   {
    "duration": 442,
    "start_time": "2022-05-24T08:26:57.387Z"
   },
   {
    "duration": 51,
    "start_time": "2022-05-24T08:26:57.831Z"
   },
   {
    "duration": 16,
    "start_time": "2022-05-24T08:26:57.883Z"
   },
   {
    "duration": 498,
    "start_time": "2022-05-24T08:26:57.900Z"
   },
   {
    "duration": 11,
    "start_time": "2022-05-24T08:26:58.400Z"
   },
   {
    "duration": 565,
    "start_time": "2022-05-24T08:26:58.413Z"
   },
   {
    "duration": 406,
    "start_time": "2022-05-24T08:26:58.979Z"
   },
   {
    "duration": 269,
    "start_time": "2022-05-24T08:26:59.387Z"
   },
   {
    "duration": 17,
    "start_time": "2022-05-24T08:26:59.659Z"
   },
   {
    "duration": 345,
    "start_time": "2022-05-24T08:26:59.677Z"
   },
   {
    "duration": 12,
    "start_time": "2022-05-24T08:27:00.023Z"
   },
   {
    "duration": 9,
    "start_time": "2022-05-24T08:27:00.036Z"
   },
   {
    "duration": 29,
    "start_time": "2022-05-24T08:27:00.047Z"
   },
   {
    "duration": 204,
    "start_time": "2022-05-24T08:27:00.078Z"
   },
   {
    "duration": 19,
    "start_time": "2022-05-24T08:27:00.283Z"
   },
   {
    "duration": 19,
    "start_time": "2022-05-24T08:27:00.303Z"
   },
   {
    "duration": 241,
    "start_time": "2022-05-24T08:27:00.323Z"
   },
   {
    "duration": 21,
    "start_time": "2022-05-24T08:27:00.565Z"
   },
   {
    "duration": 15,
    "start_time": "2022-05-24T08:27:00.587Z"
   },
   {
    "duration": 248,
    "start_time": "2022-05-24T08:27:00.603Z"
   },
   {
    "duration": 31,
    "start_time": "2022-05-24T08:27:00.853Z"
   },
   {
    "duration": 5,
    "start_time": "2022-05-24T08:27:00.885Z"
   },
   {
    "duration": 7,
    "start_time": "2022-05-24T08:27:00.891Z"
   },
   {
    "duration": 15,
    "start_time": "2022-05-24T08:27:00.900Z"
   },
   {
    "duration": 9,
    "start_time": "2022-05-24T08:27:00.916Z"
   },
   {
    "duration": 8,
    "start_time": "2022-05-24T08:27:00.927Z"
   },
   {
    "duration": 9,
    "start_time": "2022-05-24T08:27:00.936Z"
   },
   {
    "duration": 11,
    "start_time": "2022-05-24T08:27:00.946Z"
   },
   {
    "duration": 10,
    "start_time": "2022-05-24T08:27:00.959Z"
   },
   {
    "duration": 281,
    "start_time": "2022-05-24T08:31:50.269Z"
   },
   {
    "duration": 11,
    "start_time": "2022-05-24T08:31:53.572Z"
   },
   {
    "duration": 268,
    "start_time": "2022-05-24T08:32:34.117Z"
   },
   {
    "duration": 10,
    "start_time": "2022-05-24T08:32:35.525Z"
   },
   {
    "duration": 279,
    "start_time": "2022-05-24T08:39:36.087Z"
   },
   {
    "duration": 11,
    "start_time": "2022-05-24T08:39:40.095Z"
   },
   {
    "duration": 257,
    "start_time": "2022-05-24T08:42:47.055Z"
   },
   {
    "duration": 10,
    "start_time": "2022-05-24T08:42:47.936Z"
   },
   {
    "duration": 253,
    "start_time": "2022-05-24T08:57:58.642Z"
   },
   {
    "duration": 22,
    "start_time": "2022-05-24T09:31:09.866Z"
   },
   {
    "duration": 14,
    "start_time": "2022-05-24T09:31:56.236Z"
   },
   {
    "duration": 277,
    "start_time": "2022-05-24T09:31:57.090Z"
   },
   {
    "duration": 23,
    "start_time": "2022-05-24T09:35:42.227Z"
   },
   {
    "duration": 200,
    "start_time": "2022-05-24T09:35:46.602Z"
   },
   {
    "duration": 15,
    "start_time": "2022-05-24T09:36:57.346Z"
   },
   {
    "duration": 205,
    "start_time": "2022-05-24T09:37:01.858Z"
   },
   {
    "duration": 15,
    "start_time": "2022-05-24T09:37:55.634Z"
   },
   {
    "duration": 201,
    "start_time": "2022-05-24T09:38:12.443Z"
   },
   {
    "duration": 190,
    "start_time": "2022-05-24T09:38:15.603Z"
   },
   {
    "duration": 47,
    "start_time": "2022-05-24T09:46:38.092Z"
   },
   {
    "duration": 12,
    "start_time": "2022-05-24T11:10:33.813Z"
   },
   {
    "duration": 12,
    "start_time": "2022-05-24T11:10:46.853Z"
   },
   {
    "duration": 14,
    "start_time": "2022-05-24T11:11:30.053Z"
   },
   {
    "duration": 13,
    "start_time": "2022-05-24T11:12:01.608Z"
   },
   {
    "duration": 13,
    "start_time": "2022-05-24T11:12:13.710Z"
   },
   {
    "duration": 17,
    "start_time": "2022-05-24T11:13:42.836Z"
   },
   {
    "duration": 15,
    "start_time": "2022-05-24T11:15:57.191Z"
   },
   {
    "duration": 18,
    "start_time": "2022-05-24T11:17:16.901Z"
   },
   {
    "duration": 14,
    "start_time": "2022-05-24T11:17:23.396Z"
   },
   {
    "duration": 13,
    "start_time": "2022-05-24T11:17:35.902Z"
   },
   {
    "duration": 10,
    "start_time": "2022-05-24T11:18:06.650Z"
   },
   {
    "duration": 14,
    "start_time": "2022-05-24T11:18:53.998Z"
   },
   {
    "duration": 16,
    "start_time": "2022-05-24T11:19:02.752Z"
   },
   {
    "duration": 12,
    "start_time": "2022-05-24T11:20:33.851Z"
   },
   {
    "duration": 15,
    "start_time": "2022-05-24T11:21:02.942Z"
   },
   {
    "duration": 11,
    "start_time": "2022-05-24T11:21:11.939Z"
   },
   {
    "duration": 12,
    "start_time": "2022-05-24T11:21:27.204Z"
   },
   {
    "duration": 14,
    "start_time": "2022-05-24T11:23:09.136Z"
   },
   {
    "duration": 62,
    "start_time": "2022-05-24T11:23:17.885Z"
   },
   {
    "duration": 12,
    "start_time": "2022-05-24T11:23:21.645Z"
   },
   {
    "duration": 254,
    "start_time": "2022-05-24T11:24:06.054Z"
   },
   {
    "duration": 13,
    "start_time": "2022-05-24T11:24:27.945Z"
   },
   {
    "duration": 270,
    "start_time": "2022-05-24T11:24:28.957Z"
   },
   {
    "duration": 11,
    "start_time": "2022-05-24T11:25:47.646Z"
   },
   {
    "duration": 298,
    "start_time": "2022-05-24T11:25:49.998Z"
   },
   {
    "duration": 10,
    "start_time": "2022-05-24T11:26:21.838Z"
   },
   {
    "duration": 255,
    "start_time": "2022-05-24T11:26:26.821Z"
   },
   {
    "duration": 26,
    "start_time": "2022-05-24T11:27:26.282Z"
   },
   {
    "duration": 14,
    "start_time": "2022-05-24T11:27:34.502Z"
   },
   {
    "duration": 19,
    "start_time": "2022-05-24T11:27:41.702Z"
   },
   {
    "duration": 345,
    "start_time": "2022-05-24T11:27:45.718Z"
   },
   {
    "duration": 20,
    "start_time": "2022-05-24T11:29:01.690Z"
   },
   {
    "duration": 21,
    "start_time": "2022-05-24T11:30:11.070Z"
   },
   {
    "duration": 12,
    "start_time": "2022-05-24T11:30:30.543Z"
   },
   {
    "duration": 16,
    "start_time": "2022-05-24T11:30:43.848Z"
   },
   {
    "duration": 16,
    "start_time": "2022-05-24T11:30:46.582Z"
   },
   {
    "duration": 1121,
    "start_time": "2022-05-24T11:30:58.048Z"
   },
   {
    "duration": 70,
    "start_time": "2022-05-24T11:30:59.171Z"
   },
   {
    "duration": 16,
    "start_time": "2022-05-24T11:30:59.242Z"
   },
   {
    "duration": 4,
    "start_time": "2022-05-24T11:30:59.260Z"
   },
   {
    "duration": 19,
    "start_time": "2022-05-24T11:30:59.266Z"
   },
   {
    "duration": 9,
    "start_time": "2022-05-24T11:30:59.287Z"
   },
   {
    "duration": 9,
    "start_time": "2022-05-24T11:30:59.298Z"
   },
   {
    "duration": 12,
    "start_time": "2022-05-24T11:30:59.309Z"
   },
   {
    "duration": 8,
    "start_time": "2022-05-24T11:30:59.322Z"
   },
   {
    "duration": 29,
    "start_time": "2022-05-24T11:30:59.332Z"
   },
   {
    "duration": 18,
    "start_time": "2022-05-24T11:30:59.364Z"
   },
   {
    "duration": 25,
    "start_time": "2022-05-24T11:30:59.388Z"
   },
   {
    "duration": 13,
    "start_time": "2022-05-24T11:30:59.414Z"
   },
   {
    "duration": 16,
    "start_time": "2022-05-24T11:30:59.428Z"
   },
   {
    "duration": 4,
    "start_time": "2022-05-24T11:30:59.446Z"
   },
   {
    "duration": 236,
    "start_time": "2022-05-24T11:30:59.452Z"
   },
   {
    "duration": 415,
    "start_time": "2022-05-24T11:30:59.690Z"
   },
   {
    "duration": 7,
    "start_time": "2022-05-24T11:31:00.107Z"
   },
   {
    "duration": 24,
    "start_time": "2022-05-24T11:31:00.115Z"
   },
   {
    "duration": 464,
    "start_time": "2022-05-24T11:31:00.140Z"
   },
   {
    "duration": 17,
    "start_time": "2022-05-24T11:31:00.606Z"
   },
   {
    "duration": 30,
    "start_time": "2022-05-24T11:31:00.625Z"
   },
   {
    "duration": 270,
    "start_time": "2022-05-24T11:31:00.657Z"
   },
   {
    "duration": 14,
    "start_time": "2022-05-24T11:31:00.928Z"
   },
   {
    "duration": 301,
    "start_time": "2022-05-24T11:31:00.943Z"
   },
   {
    "duration": 289,
    "start_time": "2022-05-24T11:31:01.245Z"
   },
   {
    "duration": 292,
    "start_time": "2022-05-24T11:31:01.536Z"
   },
   {
    "duration": 14,
    "start_time": "2022-05-24T11:31:01.833Z"
   },
   {
    "duration": 403,
    "start_time": "2022-05-24T11:31:01.849Z"
   },
   {
    "duration": 36,
    "start_time": "2022-05-24T11:31:02.254Z"
   },
   {
    "duration": 335,
    "start_time": "2022-05-24T11:31:02.291Z"
   },
   {
    "duration": 11,
    "start_time": "2022-05-24T11:31:02.627Z"
   },
   {
    "duration": 62,
    "start_time": "2022-05-24T11:31:02.640Z"
   },
   {
    "duration": 54,
    "start_time": "2022-05-24T11:31:02.703Z"
   },
   {
    "duration": 308,
    "start_time": "2022-05-24T11:31:02.759Z"
   },
   {
    "duration": 26,
    "start_time": "2022-05-24T11:31:03.069Z"
   },
   {
    "duration": 187,
    "start_time": "2022-05-24T11:31:03.097Z"
   },
   {
    "duration": 0,
    "start_time": "2022-05-24T11:31:03.285Z"
   },
   {
    "duration": 0,
    "start_time": "2022-05-24T11:31:03.286Z"
   },
   {
    "duration": 0,
    "start_time": "2022-05-24T11:31:03.287Z"
   },
   {
    "duration": 0,
    "start_time": "2022-05-24T11:31:03.288Z"
   },
   {
    "duration": 0,
    "start_time": "2022-05-24T11:31:03.289Z"
   },
   {
    "duration": 0,
    "start_time": "2022-05-24T11:31:03.290Z"
   },
   {
    "duration": 0,
    "start_time": "2022-05-24T11:31:03.291Z"
   },
   {
    "duration": 0,
    "start_time": "2022-05-24T11:31:03.292Z"
   },
   {
    "duration": 0,
    "start_time": "2022-05-24T11:31:03.293Z"
   },
   {
    "duration": 0,
    "start_time": "2022-05-24T11:31:03.294Z"
   },
   {
    "duration": 0,
    "start_time": "2022-05-24T11:31:03.295Z"
   },
   {
    "duration": 0,
    "start_time": "2022-05-24T11:31:03.297Z"
   },
   {
    "duration": 0,
    "start_time": "2022-05-24T11:31:03.298Z"
   },
   {
    "duration": 13,
    "start_time": "2022-05-24T11:31:20.050Z"
   },
   {
    "duration": 13,
    "start_time": "2022-05-24T11:31:27.589Z"
   },
   {
    "duration": 11,
    "start_time": "2022-05-24T11:32:21.195Z"
   },
   {
    "duration": 13,
    "start_time": "2022-05-24T11:33:18.002Z"
   },
   {
    "duration": 11,
    "start_time": "2022-05-24T11:33:32.331Z"
   },
   {
    "duration": 13,
    "start_time": "2022-05-24T11:52:40.633Z"
   },
   {
    "duration": 256,
    "start_time": "2022-05-24T11:52:42.806Z"
   },
   {
    "duration": 16,
    "start_time": "2022-05-24T11:52:44.517Z"
   },
   {
    "duration": 10,
    "start_time": "2022-05-24T11:52:44.933Z"
   },
   {
    "duration": 241,
    "start_time": "2022-05-24T11:52:45.357Z"
   },
   {
    "duration": 23,
    "start_time": "2022-05-24T11:52:47.389Z"
   },
   {
    "duration": 11,
    "start_time": "2022-05-24T11:54:46.097Z"
   },
   {
    "duration": 13,
    "start_time": "2022-05-24T11:54:59.920Z"
   },
   {
    "duration": 9,
    "start_time": "2022-05-24T11:55:30.478Z"
   },
   {
    "duration": 10,
    "start_time": "2022-05-24T11:55:46.942Z"
   },
   {
    "duration": 12,
    "start_time": "2022-05-24T11:55:52.509Z"
   },
   {
    "duration": 11,
    "start_time": "2022-05-24T11:55:57.453Z"
   },
   {
    "duration": 1074,
    "start_time": "2022-05-24T11:56:05.808Z"
   },
   {
    "duration": 75,
    "start_time": "2022-05-24T11:56:06.884Z"
   },
   {
    "duration": 16,
    "start_time": "2022-05-24T11:56:06.961Z"
   },
   {
    "duration": 4,
    "start_time": "2022-05-24T11:56:06.979Z"
   },
   {
    "duration": 4,
    "start_time": "2022-05-24T11:56:06.984Z"
   },
   {
    "duration": 9,
    "start_time": "2022-05-24T11:56:06.990Z"
   },
   {
    "duration": 9,
    "start_time": "2022-05-24T11:56:07.000Z"
   },
   {
    "duration": 12,
    "start_time": "2022-05-24T11:56:07.011Z"
   },
   {
    "duration": 15,
    "start_time": "2022-05-24T11:56:07.024Z"
   },
   {
    "duration": 48,
    "start_time": "2022-05-24T11:56:07.041Z"
   },
   {
    "duration": 5,
    "start_time": "2022-05-24T11:56:07.091Z"
   },
   {
    "duration": 16,
    "start_time": "2022-05-24T11:56:07.098Z"
   },
   {
    "duration": 14,
    "start_time": "2022-05-24T11:56:07.115Z"
   },
   {
    "duration": 45,
    "start_time": "2022-05-24T11:56:07.130Z"
   },
   {
    "duration": 5,
    "start_time": "2022-05-24T11:56:07.177Z"
   },
   {
    "duration": 225,
    "start_time": "2022-05-24T11:56:07.183Z"
   },
   {
    "duration": 387,
    "start_time": "2022-05-24T11:56:07.409Z"
   },
   {
    "duration": 6,
    "start_time": "2022-05-24T11:56:07.798Z"
   },
   {
    "duration": 22,
    "start_time": "2022-05-24T11:56:07.806Z"
   },
   {
    "duration": 408,
    "start_time": "2022-05-24T11:56:07.830Z"
   },
   {
    "duration": 17,
    "start_time": "2022-05-24T11:56:08.240Z"
   },
   {
    "duration": 30,
    "start_time": "2022-05-24T11:56:08.258Z"
   },
   {
    "duration": 263,
    "start_time": "2022-05-24T11:56:08.289Z"
   },
   {
    "duration": 27,
    "start_time": "2022-05-24T11:56:08.553Z"
   },
   {
    "duration": 268,
    "start_time": "2022-05-24T11:56:08.582Z"
   },
   {
    "duration": 262,
    "start_time": "2022-05-24T11:56:08.852Z"
   },
   {
    "duration": 288,
    "start_time": "2022-05-24T11:56:09.116Z"
   },
   {
    "duration": 11,
    "start_time": "2022-05-24T11:56:09.407Z"
   },
   {
    "duration": 372,
    "start_time": "2022-05-24T11:56:09.419Z"
   },
   {
    "duration": 11,
    "start_time": "2022-05-24T11:56:09.792Z"
   },
   {
    "duration": 280,
    "start_time": "2022-05-24T11:56:09.805Z"
   },
   {
    "duration": 11,
    "start_time": "2022-05-24T11:56:10.087Z"
   },
   {
    "duration": 11,
    "start_time": "2022-05-24T11:56:10.100Z"
   },
   {
    "duration": 17,
    "start_time": "2022-05-24T11:56:10.113Z"
   },
   {
    "duration": 216,
    "start_time": "2022-05-24T11:56:10.131Z"
   },
   {
    "duration": 29,
    "start_time": "2022-05-24T11:56:10.348Z"
   },
   {
    "duration": 13,
    "start_time": "2022-05-24T11:56:10.378Z"
   },
   {
    "duration": 247,
    "start_time": "2022-05-24T11:56:10.392Z"
   },
   {
    "duration": 16,
    "start_time": "2022-05-24T11:56:10.641Z"
   },
   {
    "duration": 23,
    "start_time": "2022-05-24T11:56:10.659Z"
   },
   {
    "duration": 252,
    "start_time": "2022-05-24T11:56:10.683Z"
   },
   {
    "duration": 24,
    "start_time": "2022-05-24T11:56:10.936Z"
   },
   {
    "duration": 9,
    "start_time": "2022-05-24T11:56:10.975Z"
   },
   {
    "duration": 4,
    "start_time": "2022-05-24T11:56:10.986Z"
   },
   {
    "duration": 8,
    "start_time": "2022-05-24T11:56:10.992Z"
   },
   {
    "duration": 6,
    "start_time": "2022-05-24T11:56:11.001Z"
   },
   {
    "duration": 6,
    "start_time": "2022-05-24T11:56:11.008Z"
   },
   {
    "duration": 7,
    "start_time": "2022-05-24T11:56:11.015Z"
   },
   {
    "duration": 8,
    "start_time": "2022-05-24T11:56:11.023Z"
   },
   {
    "duration": 5,
    "start_time": "2022-05-24T11:56:11.033Z"
   },
   {
    "duration": 38,
    "start_time": "2022-05-24T11:56:11.039Z"
   },
   {
    "duration": 238,
    "start_time": "2022-05-24T11:56:37.155Z"
   },
   {
    "duration": 1077,
    "start_time": "2022-05-24T11:57:15.207Z"
   },
   {
    "duration": 63,
    "start_time": "2022-05-24T11:57:16.286Z"
   },
   {
    "duration": 18,
    "start_time": "2022-05-24T11:57:16.350Z"
   },
   {
    "duration": 4,
    "start_time": "2022-05-24T11:57:16.370Z"
   },
   {
    "duration": 6,
    "start_time": "2022-05-24T11:57:16.375Z"
   },
   {
    "duration": 6,
    "start_time": "2022-05-24T11:57:16.382Z"
   },
   {
    "duration": 9,
    "start_time": "2022-05-24T11:57:16.389Z"
   },
   {
    "duration": 12,
    "start_time": "2022-05-24T11:57:16.399Z"
   },
   {
    "duration": 8,
    "start_time": "2022-05-24T11:57:16.412Z"
   },
   {
    "duration": 19,
    "start_time": "2022-05-24T11:57:16.422Z"
   },
   {
    "duration": 35,
    "start_time": "2022-05-24T11:57:16.443Z"
   },
   {
    "duration": 18,
    "start_time": "2022-05-24T11:57:16.480Z"
   },
   {
    "duration": 13,
    "start_time": "2022-05-24T11:57:16.500Z"
   },
   {
    "duration": 16,
    "start_time": "2022-05-24T11:57:16.514Z"
   },
   {
    "duration": 5,
    "start_time": "2022-05-24T11:57:16.531Z"
   },
   {
    "duration": 238,
    "start_time": "2022-05-24T11:57:16.537Z"
   },
   {
    "duration": 365,
    "start_time": "2022-05-24T11:57:16.776Z"
   },
   {
    "duration": 6,
    "start_time": "2022-05-24T11:57:17.142Z"
   },
   {
    "duration": 37,
    "start_time": "2022-05-24T11:57:17.149Z"
   },
   {
    "duration": 710,
    "start_time": "2022-05-24T11:57:17.187Z"
   },
   {
    "duration": 16,
    "start_time": "2022-05-24T11:57:17.899Z"
   },
   {
    "duration": 70,
    "start_time": "2022-05-24T11:57:17.916Z"
   },
   {
    "duration": 506,
    "start_time": "2022-05-24T11:57:17.988Z"
   },
   {
    "duration": 12,
    "start_time": "2022-05-24T11:57:18.495Z"
   },
   {
    "duration": 451,
    "start_time": "2022-05-24T11:57:18.509Z"
   },
   {
    "duration": 252,
    "start_time": "2022-05-24T11:57:18.962Z"
   },
   {
    "duration": 278,
    "start_time": "2022-05-24T11:57:19.215Z"
   },
   {
    "duration": 11,
    "start_time": "2022-05-24T11:57:19.495Z"
   },
   {
    "duration": 397,
    "start_time": "2022-05-24T11:57:19.507Z"
   },
   {
    "duration": 13,
    "start_time": "2022-05-24T11:57:19.906Z"
   },
   {
    "duration": 275,
    "start_time": "2022-05-24T11:57:19.921Z"
   },
   {
    "duration": 11,
    "start_time": "2022-05-24T11:57:20.198Z"
   },
   {
    "duration": 11,
    "start_time": "2022-05-24T11:57:20.211Z"
   },
   {
    "duration": 17,
    "start_time": "2022-05-24T11:57:20.223Z"
   },
   {
    "duration": 203,
    "start_time": "2022-05-24T11:57:20.241Z"
   },
   {
    "duration": 29,
    "start_time": "2022-05-24T11:57:20.446Z"
   },
   {
    "duration": 11,
    "start_time": "2022-05-24T11:57:20.476Z"
   },
   {
    "duration": 241,
    "start_time": "2022-05-24T11:57:20.489Z"
   },
   {
    "duration": 16,
    "start_time": "2022-05-24T11:57:20.732Z"
   },
   {
    "duration": 26,
    "start_time": "2022-05-24T11:57:20.749Z"
   },
   {
    "duration": 244,
    "start_time": "2022-05-24T11:57:20.777Z"
   },
   {
    "duration": 23,
    "start_time": "2022-05-24T11:57:21.023Z"
   },
   {
    "duration": 354,
    "start_time": "2022-05-24T11:57:21.048Z"
   },
   {
    "duration": 0,
    "start_time": "2022-05-24T11:57:21.403Z"
   },
   {
    "duration": 0,
    "start_time": "2022-05-24T11:57:21.404Z"
   },
   {
    "duration": 0,
    "start_time": "2022-05-24T11:57:21.405Z"
   },
   {
    "duration": 0,
    "start_time": "2022-05-24T11:57:21.407Z"
   },
   {
    "duration": 0,
    "start_time": "2022-05-24T11:57:21.408Z"
   },
   {
    "duration": 0,
    "start_time": "2022-05-24T11:57:21.409Z"
   },
   {
    "duration": 0,
    "start_time": "2022-05-24T11:57:21.410Z"
   },
   {
    "duration": 0,
    "start_time": "2022-05-24T11:57:21.411Z"
   },
   {
    "duration": 222,
    "start_time": "2022-05-24T11:57:40.758Z"
   },
   {
    "duration": 126,
    "start_time": "2022-05-24T11:58:03.337Z"
   },
   {
    "duration": 259,
    "start_time": "2022-05-24T11:58:06.942Z"
   },
   {
    "duration": 10,
    "start_time": "2022-05-24T12:00:28.399Z"
   },
   {
    "duration": 259,
    "start_time": "2022-05-24T12:00:30.191Z"
   },
   {
    "duration": 24,
    "start_time": "2022-05-24T12:00:52.382Z"
   },
   {
    "duration": 10,
    "start_time": "2022-05-24T12:00:55.431Z"
   },
   {
    "duration": 302,
    "start_time": "2022-05-24T12:00:56.644Z"
   },
   {
    "duration": 10,
    "start_time": "2022-05-24T12:07:25.344Z"
   },
   {
    "duration": 15,
    "start_time": "2022-05-24T12:07:29.871Z"
   },
   {
    "duration": 11,
    "start_time": "2022-05-24T12:09:40.679Z"
   },
   {
    "duration": 247,
    "start_time": "2022-05-24T12:09:46.377Z"
   },
   {
    "duration": 12,
    "start_time": "2022-05-24T12:10:30.705Z"
   },
   {
    "duration": 10,
    "start_time": "2022-05-24T12:10:35.449Z"
   },
   {
    "duration": 10,
    "start_time": "2022-05-24T12:10:39.009Z"
   },
   {
    "duration": 10,
    "start_time": "2022-05-24T12:10:44.520Z"
   },
   {
    "duration": 229,
    "start_time": "2022-05-24T12:10:47.641Z"
   },
   {
    "duration": 10,
    "start_time": "2022-05-24T12:11:12.665Z"
   },
   {
    "duration": 239,
    "start_time": "2022-05-24T12:11:14.473Z"
   },
   {
    "duration": 11,
    "start_time": "2022-05-24T12:11:48.346Z"
   },
   {
    "duration": 322,
    "start_time": "2022-05-24T12:11:53.714Z"
   },
   {
    "duration": 1068,
    "start_time": "2022-05-24T12:12:36.638Z"
   },
   {
    "duration": 62,
    "start_time": "2022-05-24T12:12:37.708Z"
   },
   {
    "duration": 16,
    "start_time": "2022-05-24T12:12:37.773Z"
   },
   {
    "duration": 4,
    "start_time": "2022-05-24T12:12:37.790Z"
   },
   {
    "duration": 5,
    "start_time": "2022-05-24T12:12:37.796Z"
   },
   {
    "duration": 7,
    "start_time": "2022-05-24T12:12:37.802Z"
   },
   {
    "duration": 8,
    "start_time": "2022-05-24T12:12:37.810Z"
   },
   {
    "duration": 12,
    "start_time": "2022-05-24T12:12:37.820Z"
   },
   {
    "duration": 43,
    "start_time": "2022-05-24T12:12:37.833Z"
   },
   {
    "duration": 16,
    "start_time": "2022-05-24T12:12:37.877Z"
   },
   {
    "duration": 5,
    "start_time": "2022-05-24T12:12:37.894Z"
   },
   {
    "duration": 15,
    "start_time": "2022-05-24T12:12:37.901Z"
   },
   {
    "duration": 14,
    "start_time": "2022-05-24T12:12:37.918Z"
   },
   {
    "duration": 50,
    "start_time": "2022-05-24T12:12:37.933Z"
   },
   {
    "duration": 5,
    "start_time": "2022-05-24T12:12:37.984Z"
   },
   {
    "duration": 209,
    "start_time": "2022-05-24T12:12:37.990Z"
   },
   {
    "duration": 372,
    "start_time": "2022-05-24T12:12:38.201Z"
   },
   {
    "duration": 6,
    "start_time": "2022-05-24T12:12:38.575Z"
   },
   {
    "duration": 21,
    "start_time": "2022-05-24T12:12:38.582Z"
   },
   {
    "duration": 419,
    "start_time": "2022-05-24T12:12:38.605Z"
   },
   {
    "duration": 19,
    "start_time": "2022-05-24T12:12:39.026Z"
   },
   {
    "duration": 36,
    "start_time": "2022-05-24T12:12:39.046Z"
   },
   {
    "duration": 260,
    "start_time": "2022-05-24T12:12:39.084Z"
   },
   {
    "duration": 14,
    "start_time": "2022-05-24T12:12:39.345Z"
   },
   {
    "duration": 270,
    "start_time": "2022-05-24T12:12:39.375Z"
   },
   {
    "duration": 263,
    "start_time": "2022-05-24T12:12:39.647Z"
   },
   {
    "duration": 280,
    "start_time": "2022-05-24T12:12:39.912Z"
   },
   {
    "duration": 12,
    "start_time": "2022-05-24T12:12:40.194Z"
   },
   {
    "duration": 384,
    "start_time": "2022-05-24T12:12:40.208Z"
   },
   {
    "duration": 12,
    "start_time": "2022-05-24T12:12:40.593Z"
   },
   {
    "duration": 284,
    "start_time": "2022-05-24T12:12:40.606Z"
   },
   {
    "duration": 10,
    "start_time": "2022-05-24T12:12:40.892Z"
   },
   {
    "duration": 9,
    "start_time": "2022-05-24T12:12:40.904Z"
   },
   {
    "duration": 18,
    "start_time": "2022-05-24T12:12:40.914Z"
   },
   {
    "duration": 210,
    "start_time": "2022-05-24T12:12:40.933Z"
   },
   {
    "duration": 17,
    "start_time": "2022-05-24T12:12:41.144Z"
   },
   {
    "duration": 20,
    "start_time": "2022-05-24T12:12:41.162Z"
   },
   {
    "duration": 257,
    "start_time": "2022-05-24T12:12:41.184Z"
   },
   {
    "duration": 19,
    "start_time": "2022-05-24T12:12:41.443Z"
   },
   {
    "duration": 10,
    "start_time": "2022-05-24T12:12:41.478Z"
   },
   {
    "duration": 277,
    "start_time": "2022-05-24T12:12:41.490Z"
   },
   {
    "duration": 23,
    "start_time": "2022-05-24T12:12:41.774Z"
   },
   {
    "duration": 12,
    "start_time": "2022-05-24T12:12:41.799Z"
   },
   {
    "duration": 253,
    "start_time": "2022-05-24T12:12:41.812Z"
   },
   {
    "duration": 8,
    "start_time": "2022-05-24T12:12:42.067Z"
   },
   {
    "duration": 9,
    "start_time": "2022-05-24T12:12:42.076Z"
   },
   {
    "duration": 7,
    "start_time": "2022-05-24T12:12:42.086Z"
   },
   {
    "duration": 7,
    "start_time": "2022-05-24T12:12:42.094Z"
   },
   {
    "duration": 8,
    "start_time": "2022-05-24T12:12:42.102Z"
   },
   {
    "duration": 6,
    "start_time": "2022-05-24T12:12:42.112Z"
   },
   {
    "duration": 6,
    "start_time": "2022-05-24T12:12:42.120Z"
   },
   {
    "duration": 6,
    "start_time": "2022-05-24T12:12:42.128Z"
   },
   {
    "duration": 11,
    "start_time": "2022-05-24T12:19:31.219Z"
   },
   {
    "duration": 521,
    "start_time": "2022-05-24T12:19:35.002Z"
   },
   {
    "duration": 11,
    "start_time": "2022-05-24T12:23:47.189Z"
   },
   {
    "duration": 344,
    "start_time": "2022-05-24T12:23:47.974Z"
   },
   {
    "duration": 1218,
    "start_time": "2022-05-30T11:14:33.783Z"
   },
   {
    "duration": 181,
    "start_time": "2022-05-30T11:14:35.003Z"
   },
   {
    "duration": 15,
    "start_time": "2022-05-30T11:14:35.185Z"
   },
   {
    "duration": 4,
    "start_time": "2022-05-30T11:14:35.202Z"
   },
   {
    "duration": 5,
    "start_time": "2022-05-30T11:14:35.207Z"
   },
   {
    "duration": 9,
    "start_time": "2022-05-30T11:14:35.213Z"
   },
   {
    "duration": 10,
    "start_time": "2022-05-30T11:14:35.223Z"
   },
   {
    "duration": 11,
    "start_time": "2022-05-30T11:14:35.234Z"
   },
   {
    "duration": 8,
    "start_time": "2022-05-30T11:14:35.246Z"
   },
   {
    "duration": 14,
    "start_time": "2022-05-30T11:14:35.275Z"
   },
   {
    "duration": 6,
    "start_time": "2022-05-30T11:14:35.290Z"
   },
   {
    "duration": 11,
    "start_time": "2022-05-30T11:14:35.297Z"
   },
   {
    "duration": 11,
    "start_time": "2022-05-30T11:14:35.309Z"
   },
   {
    "duration": 14,
    "start_time": "2022-05-30T11:14:35.321Z"
   },
   {
    "duration": 4,
    "start_time": "2022-05-30T11:14:35.337Z"
   },
   {
    "duration": 193,
    "start_time": "2022-05-30T11:14:35.375Z"
   },
   {
    "duration": 339,
    "start_time": "2022-05-30T11:14:35.570Z"
   },
   {
    "duration": 6,
    "start_time": "2022-05-30T11:14:35.910Z"
   },
   {
    "duration": 28,
    "start_time": "2022-05-30T11:14:35.918Z"
   },
   {
    "duration": 402,
    "start_time": "2022-05-30T11:14:35.947Z"
   },
   {
    "duration": 16,
    "start_time": "2022-05-30T11:14:36.350Z"
   },
   {
    "duration": 16,
    "start_time": "2022-05-30T11:14:36.367Z"
   },
   {
    "duration": 229,
    "start_time": "2022-05-30T11:14:36.384Z"
   },
   {
    "duration": 12,
    "start_time": "2022-05-30T11:14:36.614Z"
   },
   {
    "duration": 271,
    "start_time": "2022-05-30T11:14:36.628Z"
   },
   {
    "duration": 239,
    "start_time": "2022-05-30T11:14:36.900Z"
   },
   {
    "duration": 254,
    "start_time": "2022-05-30T11:14:37.141Z"
   },
   {
    "duration": 9,
    "start_time": "2022-05-30T11:14:37.398Z"
   },
   {
    "duration": 356,
    "start_time": "2022-05-30T11:14:37.408Z"
   },
   {
    "duration": 16,
    "start_time": "2022-05-30T11:14:37.765Z"
   },
   {
    "duration": 321,
    "start_time": "2022-05-30T11:14:37.782Z"
   },
   {
    "duration": 10,
    "start_time": "2022-05-30T11:14:38.105Z"
   },
   {
    "duration": 68,
    "start_time": "2022-05-30T11:14:38.116Z"
   },
   {
    "duration": 22,
    "start_time": "2022-05-30T11:14:38.186Z"
   },
   {
    "duration": 371,
    "start_time": "2022-05-30T11:14:38.210Z"
   },
   {
    "duration": 18,
    "start_time": "2022-05-30T11:14:38.583Z"
   },
   {
    "duration": 9,
    "start_time": "2022-05-30T11:14:38.603Z"
   },
   {
    "duration": 488,
    "start_time": "2022-05-30T11:14:38.614Z"
   },
   {
    "duration": 16,
    "start_time": "2022-05-30T11:14:39.103Z"
   },
   {
    "duration": 62,
    "start_time": "2022-05-30T11:14:39.120Z"
   },
   {
    "duration": 433,
    "start_time": "2022-05-30T11:14:39.183Z"
   },
   {
    "duration": 74,
    "start_time": "2022-05-30T11:14:39.618Z"
   },
   {
    "duration": 12,
    "start_time": "2022-05-30T11:14:39.693Z"
   },
   {
    "duration": 476,
    "start_time": "2022-05-30T11:14:39.706Z"
   },
   {
    "duration": 5,
    "start_time": "2022-05-30T11:14:40.183Z"
   },
   {
    "duration": 10,
    "start_time": "2022-05-30T11:14:40.189Z"
   },
   {
    "duration": 6,
    "start_time": "2022-05-30T11:14:40.201Z"
   },
   {
    "duration": 9,
    "start_time": "2022-05-30T11:14:40.208Z"
   },
   {
    "duration": 56,
    "start_time": "2022-05-30T11:14:40.219Z"
   },
   {
    "duration": 4,
    "start_time": "2022-05-30T11:14:40.276Z"
   },
   {
    "duration": 7,
    "start_time": "2022-05-30T11:14:40.281Z"
   },
   {
    "duration": 5,
    "start_time": "2022-05-30T11:14:40.289Z"
   },
   {
    "duration": 10,
    "start_time": "2022-05-30T11:16:49.813Z"
   },
   {
    "duration": 10,
    "start_time": "2022-05-30T11:17:10.366Z"
   },
   {
    "duration": 16,
    "start_time": "2022-05-30T11:17:13.254Z"
   },
   {
    "duration": 14,
    "start_time": "2022-05-30T11:17:14.221Z"
   },
   {
    "duration": 221,
    "start_time": "2022-05-30T11:17:15.510Z"
   },
   {
    "duration": 10,
    "start_time": "2022-05-30T11:20:35.046Z"
   },
   {
    "duration": 319,
    "start_time": "2022-05-30T11:20:36.486Z"
   },
   {
    "duration": 16,
    "start_time": "2022-05-30T11:22:11.734Z"
   },
   {
    "duration": 10,
    "start_time": "2022-05-30T11:22:12.983Z"
   },
   {
    "duration": 234,
    "start_time": "2022-05-30T11:22:14.736Z"
   },
   {
    "duration": 46,
    "start_time": "2022-05-30T11:23:52.784Z"
   },
   {
    "duration": 67,
    "start_time": "2022-05-30T21:27:20.288Z"
   },
   {
    "duration": 1213,
    "start_time": "2022-05-30T21:27:26.914Z"
   },
   {
    "duration": 102,
    "start_time": "2022-05-30T21:27:28.129Z"
   },
   {
    "duration": 16,
    "start_time": "2022-05-30T21:27:28.232Z"
   },
   {
    "duration": 3,
    "start_time": "2022-05-30T21:27:28.250Z"
   },
   {
    "duration": 4,
    "start_time": "2022-05-30T21:27:28.255Z"
   },
   {
    "duration": 6,
    "start_time": "2022-05-30T21:27:28.261Z"
   },
   {
    "duration": 8,
    "start_time": "2022-05-30T21:27:28.268Z"
   },
   {
    "duration": 23,
    "start_time": "2022-05-30T21:27:28.277Z"
   },
   {
    "duration": 7,
    "start_time": "2022-05-30T21:27:28.301Z"
   },
   {
    "duration": 16,
    "start_time": "2022-05-30T21:27:28.311Z"
   },
   {
    "duration": 7,
    "start_time": "2022-05-30T21:27:28.329Z"
   },
   {
    "duration": 13,
    "start_time": "2022-05-30T21:27:28.337Z"
   },
   {
    "duration": 14,
    "start_time": "2022-05-30T21:27:28.351Z"
   },
   {
    "duration": 46,
    "start_time": "2022-05-30T21:27:28.366Z"
   },
   {
    "duration": 5,
    "start_time": "2022-05-30T21:27:28.414Z"
   },
   {
    "duration": 211,
    "start_time": "2022-05-30T21:27:28.421Z"
   },
   {
    "duration": 361,
    "start_time": "2022-05-30T21:27:28.633Z"
   },
   {
    "duration": 6,
    "start_time": "2022-05-30T21:27:28.996Z"
   },
   {
    "duration": 25,
    "start_time": "2022-05-30T21:27:29.004Z"
   },
   {
    "duration": 433,
    "start_time": "2022-05-30T21:27:29.030Z"
   },
   {
    "duration": 15,
    "start_time": "2022-05-30T21:27:29.465Z"
   },
   {
    "duration": 14,
    "start_time": "2022-05-30T21:27:29.481Z"
   },
   {
    "duration": 243,
    "start_time": "2022-05-30T21:27:29.496Z"
   },
   {
    "duration": 13,
    "start_time": "2022-05-30T21:27:29.741Z"
   },
   {
    "duration": 267,
    "start_time": "2022-05-30T21:27:29.756Z"
   },
   {
    "duration": 279,
    "start_time": "2022-05-30T21:27:30.025Z"
   },
   {
    "duration": 293,
    "start_time": "2022-05-30T21:27:30.306Z"
   },
   {
    "duration": 10,
    "start_time": "2022-05-30T21:27:30.602Z"
   },
   {
    "duration": 368,
    "start_time": "2022-05-30T21:27:30.614Z"
   },
   {
    "duration": 18,
    "start_time": "2022-05-30T21:27:30.984Z"
   },
   {
    "duration": 255,
    "start_time": "2022-05-30T21:27:31.004Z"
   },
   {
    "duration": 11,
    "start_time": "2022-05-30T21:27:31.260Z"
   },
   {
    "duration": 9,
    "start_time": "2022-05-30T21:27:31.272Z"
   },
   {
    "duration": 31,
    "start_time": "2022-05-30T21:27:31.282Z"
   },
   {
    "duration": 197,
    "start_time": "2022-05-30T21:27:31.315Z"
   },
   {
    "duration": 20,
    "start_time": "2022-05-30T21:27:31.514Z"
   },
   {
    "duration": 20,
    "start_time": "2022-05-30T21:27:31.536Z"
   },
   {
    "duration": 563,
    "start_time": "2022-05-30T21:27:31.557Z"
   },
   {
    "duration": 79,
    "start_time": "2022-05-30T21:27:32.123Z"
   },
   {
    "duration": 15,
    "start_time": "2022-05-30T21:27:32.204Z"
   },
   {
    "duration": 515,
    "start_time": "2022-05-30T21:27:32.221Z"
   },
   {
    "duration": 82,
    "start_time": "2022-05-30T21:27:32.738Z"
   },
   {
    "duration": 30,
    "start_time": "2022-05-30T21:27:32.821Z"
   },
   {
    "duration": 470,
    "start_time": "2022-05-30T21:27:32.852Z"
   },
   {
    "duration": 6,
    "start_time": "2022-05-30T21:27:33.323Z"
   },
   {
    "duration": 7,
    "start_time": "2022-05-30T21:27:33.331Z"
   },
   {
    "duration": 9,
    "start_time": "2022-05-30T21:27:33.340Z"
   },
   {
    "duration": 8,
    "start_time": "2022-05-30T21:27:33.350Z"
   },
   {
    "duration": 12,
    "start_time": "2022-05-30T21:27:33.360Z"
   },
   {
    "duration": 6,
    "start_time": "2022-05-30T21:27:33.374Z"
   },
   {
    "duration": 19,
    "start_time": "2022-05-30T21:27:33.381Z"
   },
   {
    "duration": 11,
    "start_time": "2022-05-30T21:27:33.401Z"
   },
   {
    "duration": 240,
    "start_time": "2022-05-30T21:27:47.241Z"
   },
   {
    "duration": 1064,
    "start_time": "2022-05-30T21:35:57.256Z"
   },
   {
    "duration": 61,
    "start_time": "2022-05-30T21:35:58.322Z"
   },
   {
    "duration": 15,
    "start_time": "2022-05-30T21:35:58.385Z"
   },
   {
    "duration": 3,
    "start_time": "2022-05-30T21:35:58.402Z"
   },
   {
    "duration": 6,
    "start_time": "2022-05-30T21:35:58.407Z"
   },
   {
    "duration": 9,
    "start_time": "2022-05-30T21:35:58.414Z"
   },
   {
    "duration": 9,
    "start_time": "2022-05-30T21:35:58.424Z"
   },
   {
    "duration": 12,
    "start_time": "2022-05-30T21:35:58.435Z"
   },
   {
    "duration": 12,
    "start_time": "2022-05-30T21:35:58.449Z"
   },
   {
    "duration": 19,
    "start_time": "2022-05-30T21:35:58.462Z"
   },
   {
    "duration": 25,
    "start_time": "2022-05-30T21:35:58.482Z"
   },
   {
    "duration": 18,
    "start_time": "2022-05-30T21:35:58.508Z"
   },
   {
    "duration": 13,
    "start_time": "2022-05-30T21:35:58.527Z"
   },
   {
    "duration": 17,
    "start_time": "2022-05-30T21:35:58.542Z"
   },
   {
    "duration": 5,
    "start_time": "2022-05-30T21:35:58.560Z"
   },
   {
    "duration": 245,
    "start_time": "2022-05-30T21:35:58.566Z"
   },
   {
    "duration": 380,
    "start_time": "2022-05-30T21:35:58.813Z"
   },
   {
    "duration": 7,
    "start_time": "2022-05-30T21:35:59.198Z"
   },
   {
    "duration": 24,
    "start_time": "2022-05-30T21:35:59.207Z"
   },
   {
    "duration": 460,
    "start_time": "2022-05-30T21:35:59.232Z"
   },
   {
    "duration": 20,
    "start_time": "2022-05-30T21:35:59.694Z"
   },
   {
    "duration": 18,
    "start_time": "2022-05-30T21:35:59.715Z"
   },
   {
    "duration": 302,
    "start_time": "2022-05-30T21:35:59.736Z"
   },
   {
    "duration": 16,
    "start_time": "2022-05-30T21:36:00.040Z"
   },
   {
    "duration": 319,
    "start_time": "2022-05-30T21:36:00.057Z"
   },
   {
    "duration": 303,
    "start_time": "2022-05-30T21:36:00.378Z"
   },
   {
    "duration": 311,
    "start_time": "2022-05-30T21:36:00.683Z"
   },
   {
    "duration": 11,
    "start_time": "2022-05-30T21:36:00.996Z"
   },
   {
    "duration": 377,
    "start_time": "2022-05-30T21:36:01.009Z"
   },
   {
    "duration": 16,
    "start_time": "2022-05-30T21:36:01.388Z"
   },
   {
    "duration": 295,
    "start_time": "2022-05-30T21:36:01.405Z"
   },
   {
    "duration": 11,
    "start_time": "2022-05-30T21:36:01.701Z"
   },
   {
    "duration": 51,
    "start_time": "2022-05-30T21:36:01.714Z"
   },
   {
    "duration": 113,
    "start_time": "2022-05-30T21:36:01.767Z"
   },
   {
    "duration": 242,
    "start_time": "2022-05-30T21:36:01.882Z"
   },
   {
    "duration": 20,
    "start_time": "2022-05-30T21:36:02.126Z"
   },
   {
    "duration": 39,
    "start_time": "2022-05-30T21:36:02.148Z"
   },
   {
    "duration": 308,
    "start_time": "2022-05-30T21:36:02.189Z"
   },
   {
    "duration": 20,
    "start_time": "2022-05-30T21:36:02.499Z"
   },
   {
    "duration": 314,
    "start_time": "2022-05-30T21:36:02.521Z"
   },
   {
    "duration": 377,
    "start_time": "2022-05-30T21:36:02.840Z"
   },
   {
    "duration": 26,
    "start_time": "2022-05-30T21:36:03.218Z"
   },
   {
    "duration": 20,
    "start_time": "2022-05-30T21:36:03.245Z"
   },
   {
    "duration": 266,
    "start_time": "2022-05-30T21:36:03.267Z"
   },
   {
    "duration": 6,
    "start_time": "2022-05-30T21:36:03.534Z"
   },
   {
    "duration": 15,
    "start_time": "2022-05-30T21:36:03.541Z"
   },
   {
    "duration": 6,
    "start_time": "2022-05-30T21:36:03.558Z"
   },
   {
    "duration": 10,
    "start_time": "2022-05-30T21:36:03.566Z"
   },
   {
    "duration": 10,
    "start_time": "2022-05-30T21:36:03.577Z"
   },
   {
    "duration": 12,
    "start_time": "2022-05-30T21:36:03.588Z"
   },
   {
    "duration": 5,
    "start_time": "2022-05-30T21:36:03.601Z"
   },
   {
    "duration": 17,
    "start_time": "2022-05-30T21:36:03.607Z"
   },
   {
    "duration": 10,
    "start_time": "2022-05-31T01:02:07.635Z"
   },
   {
    "duration": 46,
    "start_time": "2022-05-31T01:03:02.350Z"
   },
   {
    "duration": 27,
    "start_time": "2022-05-31T01:03:50.806Z"
   },
   {
    "duration": 1004,
    "start_time": "2022-08-18T13:17:53.857Z"
   },
   {
    "duration": 192,
    "start_time": "2022-08-18T13:17:54.863Z"
   },
   {
    "duration": 16,
    "start_time": "2022-08-18T13:17:55.056Z"
   },
   {
    "duration": 3,
    "start_time": "2022-08-18T13:17:55.074Z"
   },
   {
    "duration": 6,
    "start_time": "2022-08-18T13:17:55.078Z"
   },
   {
    "duration": 9,
    "start_time": "2022-08-18T13:17:55.085Z"
   },
   {
    "duration": 8,
    "start_time": "2022-08-18T13:17:55.095Z"
   },
   {
    "duration": 11,
    "start_time": "2022-08-18T13:17:55.104Z"
   },
   {
    "duration": 8,
    "start_time": "2022-08-18T13:17:55.117Z"
   },
   {
    "duration": 15,
    "start_time": "2022-08-18T13:17:55.127Z"
   },
   {
    "duration": 5,
    "start_time": "2022-08-18T13:17:55.143Z"
   },
   {
    "duration": 12,
    "start_time": "2022-08-18T13:17:55.149Z"
   },
   {
    "duration": 13,
    "start_time": "2022-08-18T13:17:55.163Z"
   },
   {
    "duration": 42,
    "start_time": "2022-08-18T13:17:55.178Z"
   },
   {
    "duration": 5,
    "start_time": "2022-08-18T13:17:55.221Z"
   },
   {
    "duration": 203,
    "start_time": "2022-08-18T13:17:55.227Z"
   },
   {
    "duration": 294,
    "start_time": "2022-08-18T13:17:55.432Z"
   },
   {
    "duration": 7,
    "start_time": "2022-08-18T13:17:55.727Z"
   },
   {
    "duration": 25,
    "start_time": "2022-08-18T13:17:55.735Z"
   },
   {
    "duration": 581,
    "start_time": "2022-08-18T13:17:55.761Z"
   },
   {
    "duration": 69,
    "start_time": "2022-08-18T13:17:56.343Z"
   },
   {
    "duration": 18,
    "start_time": "2022-08-18T13:17:56.413Z"
   },
   {
    "duration": 507,
    "start_time": "2022-08-18T13:17:56.433Z"
   },
   {
    "duration": 66,
    "start_time": "2022-08-18T13:17:56.941Z"
   },
   {
    "duration": 629,
    "start_time": "2022-08-18T13:17:57.008Z"
   },
   {
    "duration": 324,
    "start_time": "2022-08-18T13:17:57.638Z"
   },
   {
    "duration": 260,
    "start_time": "2022-08-18T13:17:57.964Z"
   },
   {
    "duration": 10,
    "start_time": "2022-08-18T13:17:58.227Z"
   },
   {
    "duration": 279,
    "start_time": "2022-08-18T13:17:58.238Z"
   },
   {
    "duration": 10,
    "start_time": "2022-08-18T13:17:58.519Z"
   },
   {
    "duration": 256,
    "start_time": "2022-08-18T13:17:58.530Z"
   },
   {
    "duration": 18,
    "start_time": "2022-08-18T13:17:58.788Z"
   },
   {
    "duration": 6,
    "start_time": "2022-08-18T13:17:58.807Z"
   },
   {
    "duration": 14,
    "start_time": "2022-08-18T13:17:58.814Z"
   },
   {
    "duration": 190,
    "start_time": "2022-08-18T13:17:58.830Z"
   },
   {
    "duration": 17,
    "start_time": "2022-08-18T13:17:59.021Z"
   },
   {
    "duration": 12,
    "start_time": "2022-08-18T13:17:59.039Z"
   },
   {
    "duration": 253,
    "start_time": "2022-08-18T13:17:59.052Z"
   },
   {
    "duration": 17,
    "start_time": "2022-08-18T13:17:59.307Z"
   },
   {
    "duration": 12,
    "start_time": "2022-08-18T13:17:59.325Z"
   },
   {
    "duration": 245,
    "start_time": "2022-08-18T13:17:59.338Z"
   },
   {
    "duration": 100,
    "start_time": "2022-08-18T13:17:59.584Z"
   },
   {
    "duration": 22,
    "start_time": "2022-08-18T13:17:59.685Z"
   },
   {
    "duration": 236,
    "start_time": "2022-08-18T13:17:59.709Z"
   },
   {
    "duration": 5,
    "start_time": "2022-08-18T13:17:59.947Z"
   },
   {
    "duration": 7,
    "start_time": "2022-08-18T13:17:59.953Z"
   },
   {
    "duration": 6,
    "start_time": "2022-08-18T13:17:59.961Z"
   },
   {
    "duration": 6,
    "start_time": "2022-08-18T13:17:59.968Z"
   },
   {
    "duration": 7,
    "start_time": "2022-08-18T13:17:59.975Z"
   },
   {
    "duration": 23,
    "start_time": "2022-08-18T13:17:59.983Z"
   },
   {
    "duration": 3,
    "start_time": "2022-08-18T13:18:00.008Z"
   },
   {
    "duration": 13,
    "start_time": "2022-08-18T13:18:00.013Z"
   },
   {
    "duration": 1150,
    "start_time": "2022-08-18T13:26:45.452Z"
   },
   {
    "duration": 60,
    "start_time": "2022-08-18T13:26:46.605Z"
   },
   {
    "duration": 15,
    "start_time": "2022-08-18T13:26:46.667Z"
   },
   {
    "duration": 6,
    "start_time": "2022-08-18T13:26:46.683Z"
   },
   {
    "duration": 4,
    "start_time": "2022-08-18T13:26:46.691Z"
   },
   {
    "duration": 8,
    "start_time": "2022-08-18T13:26:46.697Z"
   },
   {
    "duration": 11,
    "start_time": "2022-08-18T13:26:46.706Z"
   },
   {
    "duration": 12,
    "start_time": "2022-08-18T13:26:46.718Z"
   },
   {
    "duration": 9,
    "start_time": "2022-08-18T13:26:46.731Z"
   },
   {
    "duration": 15,
    "start_time": "2022-08-18T13:26:46.743Z"
   },
   {
    "duration": 6,
    "start_time": "2022-08-18T13:26:46.759Z"
   },
   {
    "duration": 17,
    "start_time": "2022-08-18T13:26:46.767Z"
   },
   {
    "duration": 14,
    "start_time": "2022-08-18T13:26:46.806Z"
   },
   {
    "duration": 15,
    "start_time": "2022-08-18T13:26:46.821Z"
   },
   {
    "duration": 5,
    "start_time": "2022-08-18T13:26:46.838Z"
   },
   {
    "duration": 220,
    "start_time": "2022-08-18T13:26:46.844Z"
   },
   {
    "duration": 308,
    "start_time": "2022-08-18T13:26:47.066Z"
   },
   {
    "duration": 6,
    "start_time": "2022-08-18T13:26:47.376Z"
   },
   {
    "duration": 33,
    "start_time": "2022-08-18T13:26:47.383Z"
   },
   {
    "duration": 410,
    "start_time": "2022-08-18T13:26:47.417Z"
   },
   {
    "duration": 17,
    "start_time": "2022-08-18T13:26:47.829Z"
   },
   {
    "duration": 14,
    "start_time": "2022-08-18T13:26:47.847Z"
   },
   {
    "duration": 288,
    "start_time": "2022-08-18T13:26:47.862Z"
   },
   {
    "duration": 14,
    "start_time": "2022-08-18T13:26:48.152Z"
   },
   {
    "duration": 331,
    "start_time": "2022-08-18T13:26:48.168Z"
   },
   {
    "duration": 246,
    "start_time": "2022-08-18T13:26:48.501Z"
   },
   {
    "duration": 275,
    "start_time": "2022-08-18T13:26:48.749Z"
   },
   {
    "duration": 11,
    "start_time": "2022-08-18T13:26:49.028Z"
   },
   {
    "duration": 280,
    "start_time": "2022-08-18T13:26:49.041Z"
   },
   {
    "duration": 11,
    "start_time": "2022-08-18T13:26:49.323Z"
   },
   {
    "duration": 269,
    "start_time": "2022-08-18T13:26:49.335Z"
   },
   {
    "duration": 11,
    "start_time": "2022-08-18T13:26:49.606Z"
   },
   {
    "duration": 7,
    "start_time": "2022-08-18T13:26:49.619Z"
   },
   {
    "duration": 17,
    "start_time": "2022-08-18T13:26:49.628Z"
   },
   {
    "duration": 203,
    "start_time": "2022-08-18T13:26:49.647Z"
   },
   {
    "duration": 18,
    "start_time": "2022-08-18T13:26:49.851Z"
   },
   {
    "duration": 10,
    "start_time": "2022-08-18T13:26:49.870Z"
   },
   {
    "duration": 264,
    "start_time": "2022-08-18T13:26:49.881Z"
   },
   {
    "duration": 17,
    "start_time": "2022-08-18T13:26:50.146Z"
   },
   {
    "duration": 12,
    "start_time": "2022-08-18T13:26:50.165Z"
   },
   {
    "duration": 257,
    "start_time": "2022-08-18T13:26:50.179Z"
   },
   {
    "duration": 114,
    "start_time": "2022-08-18T13:26:50.439Z"
   },
   {
    "duration": 16,
    "start_time": "2022-08-18T13:26:50.554Z"
   },
   {
    "duration": 228,
    "start_time": "2022-08-18T13:26:50.571Z"
   },
   {
    "duration": 7,
    "start_time": "2022-08-18T13:26:50.801Z"
   },
   {
    "duration": 11,
    "start_time": "2022-08-18T13:26:50.809Z"
   },
   {
    "duration": 8,
    "start_time": "2022-08-18T13:26:50.821Z"
   },
   {
    "duration": 12,
    "start_time": "2022-08-18T13:26:50.830Z"
   },
   {
    "duration": 13,
    "start_time": "2022-08-18T13:26:50.844Z"
   },
   {
    "duration": 5,
    "start_time": "2022-08-18T13:26:50.859Z"
   },
   {
    "duration": 8,
    "start_time": "2022-08-18T13:26:50.865Z"
   },
   {
    "duration": 7,
    "start_time": "2022-08-18T13:26:50.875Z"
   },
   {
    "duration": 1190,
    "start_time": "2022-10-02T11:24:00.409Z"
   },
   {
    "duration": 101,
    "start_time": "2022-10-02T11:24:01.601Z"
   },
   {
    "duration": 15,
    "start_time": "2022-10-02T11:24:01.703Z"
   },
   {
    "duration": 3,
    "start_time": "2022-10-02T11:24:01.720Z"
   },
   {
    "duration": 6,
    "start_time": "2022-10-02T11:24:01.725Z"
   },
   {
    "duration": 21,
    "start_time": "2022-10-02T11:24:01.732Z"
   },
   {
    "duration": 19,
    "start_time": "2022-10-02T11:24:01.755Z"
   },
   {
    "duration": 45,
    "start_time": "2022-10-02T11:24:01.775Z"
   },
   {
    "duration": 21,
    "start_time": "2022-10-02T11:24:01.822Z"
   },
   {
    "duration": 28,
    "start_time": "2022-10-02T11:24:01.846Z"
   },
   {
    "duration": 6,
    "start_time": "2022-10-02T11:24:01.876Z"
   },
   {
    "duration": 17,
    "start_time": "2022-10-02T11:24:01.883Z"
   },
   {
    "duration": 16,
    "start_time": "2022-10-02T11:24:01.901Z"
   },
   {
    "duration": 15,
    "start_time": "2022-10-02T11:24:01.918Z"
   },
   {
    "duration": 5,
    "start_time": "2022-10-02T11:24:01.935Z"
   },
   {
    "duration": 218,
    "start_time": "2022-10-02T11:24:01.941Z"
   },
   {
    "duration": 300,
    "start_time": "2022-10-02T11:24:02.160Z"
   },
   {
    "duration": 6,
    "start_time": "2022-10-02T11:24:02.461Z"
   },
   {
    "duration": 27,
    "start_time": "2022-10-02T11:24:02.469Z"
   },
   {
    "duration": 430,
    "start_time": "2022-10-02T11:24:02.498Z"
   },
   {
    "duration": 16,
    "start_time": "2022-10-02T11:24:02.929Z"
   },
   {
    "duration": 51,
    "start_time": "2022-10-02T11:24:02.946Z"
   },
   {
    "duration": 269,
    "start_time": "2022-10-02T11:24:02.999Z"
   },
   {
    "duration": 12,
    "start_time": "2022-10-02T11:24:03.270Z"
   },
   {
    "duration": 325,
    "start_time": "2022-10-02T11:24:03.284Z"
   },
   {
    "duration": 263,
    "start_time": "2022-10-02T11:24:03.611Z"
   },
   {
    "duration": 287,
    "start_time": "2022-10-02T11:24:03.876Z"
   },
   {
    "duration": 41,
    "start_time": "2022-10-02T11:24:04.168Z"
   },
   {
    "duration": 282,
    "start_time": "2022-10-02T11:24:04.211Z"
   },
   {
    "duration": 15,
    "start_time": "2022-10-02T11:24:04.494Z"
   },
   {
    "duration": 336,
    "start_time": "2022-10-02T11:24:04.510Z"
   },
   {
    "duration": 11,
    "start_time": "2022-10-02T11:24:04.848Z"
   },
   {
    "duration": 56,
    "start_time": "2022-10-02T11:24:04.860Z"
   },
   {
    "duration": 19,
    "start_time": "2022-10-02T11:24:04.918Z"
   },
   {
    "duration": 207,
    "start_time": "2022-10-02T11:24:04.938Z"
   },
   {
    "duration": 17,
    "start_time": "2022-10-02T11:24:05.146Z"
   },
   {
    "duration": 9,
    "start_time": "2022-10-02T11:24:05.164Z"
   },
   {
    "duration": 256,
    "start_time": "2022-10-02T11:24:05.175Z"
   },
   {
    "duration": 17,
    "start_time": "2022-10-02T11:24:05.433Z"
   },
   {
    "duration": 10,
    "start_time": "2022-10-02T11:24:05.451Z"
   },
   {
    "duration": 266,
    "start_time": "2022-10-02T11:24:05.462Z"
   },
   {
    "duration": 94,
    "start_time": "2022-10-02T11:24:05.729Z"
   },
   {
    "duration": 9,
    "start_time": "2022-10-02T11:24:05.825Z"
   },
   {
    "duration": 236,
    "start_time": "2022-10-02T11:24:05.835Z"
   },
   {
    "duration": 5,
    "start_time": "2022-10-02T11:24:06.073Z"
   },
   {
    "duration": 8,
    "start_time": "2022-10-02T11:24:06.080Z"
   },
   {
    "duration": 5,
    "start_time": "2022-10-02T11:24:06.089Z"
   },
   {
    "duration": 5,
    "start_time": "2022-10-02T11:24:06.108Z"
   },
   {
    "duration": 6,
    "start_time": "2022-10-02T11:24:06.114Z"
   },
   {
    "duration": 5,
    "start_time": "2022-10-02T11:24:06.121Z"
   },
   {
    "duration": 8,
    "start_time": "2022-10-02T11:24:06.127Z"
   },
   {
    "duration": 13,
    "start_time": "2022-10-02T11:24:06.136Z"
   }
  ],
  "kernelspec": {
   "display_name": "Python 3 (ipykernel)",
   "language": "python",
   "name": "python3"
  },
  "language_info": {
   "codemirror_mode": {
    "name": "ipython",
    "version": 3
   },
   "file_extension": ".py",
   "mimetype": "text/x-python",
   "name": "python",
   "nbconvert_exporter": "python",
   "pygments_lexer": "ipython3",
   "version": "3.9.5"
  },
  "toc": {
   "base_numbering": 1,
   "nav_menu": {
    "height": "596px",
    "width": "584px"
   },
   "number_sections": true,
   "sideBar": true,
   "skip_h1_title": true,
   "title_cell": "Содержание",
   "title_sidebar": "Contents",
   "toc_cell": false,
   "toc_position": {
    "height": "calc(100% - 180px)",
    "left": "10px",
    "top": "150px",
    "width": "252.225px"
   },
   "toc_section_display": true,
   "toc_window_display": false
  }
 },
 "nbformat": 4,
 "nbformat_minor": 2
}
