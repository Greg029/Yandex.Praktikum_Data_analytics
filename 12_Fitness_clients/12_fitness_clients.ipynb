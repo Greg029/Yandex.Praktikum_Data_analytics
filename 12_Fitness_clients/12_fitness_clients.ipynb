{
 "cells": [
  {
   "cell_type": "markdown",
   "metadata": {},
   "source": [
    "# Прогнозирование вероятности оттока клиентов фитнес-центра"
   ]
  },
  {
   "cell_type": "markdown",
   "metadata": {},
   "source": [
    "**Описание проекта**\n",
    "\n",
    "Сеть фитнес-центров разрабатывает стратегию взаимодействия с клиентами на основе аналитических данных.\n",
    "\n",
    "Распространённая проблема фитнес-клубов и других сервисов — отток клиентов. Как понять, что клиент больше не с вами? Можно записать в отток тех, кто попросил закрыть договор или удалил аккаунт. Однако клиенты не всегда уходят демонстративно: чаще перестают пользоваться сервисом тихо.\n",
    "\n",
    "**Задачи проекта:**\n",
    "\n",
    "* научиться прогнозировать вероятность оттока (на уровне следующего месяца) для каждого клиента;\n",
    "* сформировать типичные портреты клиентов: выделить несколько наиболее ярких групп и охарактеризовать их основные свойства;\n",
    "* проанализировать основные признаки, наиболее сильно влияющие на отток;\n",
    "* сформулировать основные выводы и разработать рекомендации по повышению качества работы с клиентами:\n",
    "\n",
    " * выделить целевые группы клиентов; \n",
    " * предложить меры по снижению оттока;\n",
    " * определить другие особенности взаимодействия с клиентами.\n",
    " \n",
    "**Описание данных:**\n",
    "\n",
    "**Данные клиента за предыдущий до проверки факта оттока месяц:**\n",
    "\n",
    "* `gender` — пол;\n",
    "* `Near_Location` — проживание или работа в районе, где находится фитнес-центр;\n",
    "* `Partner` — сотрудник компании-партнёра клуба (сотрудничество с компаниями, чьи сотрудники могут получать скидки на абонемент — в таком случае фитнес-центр хранит информацию о работодателе клиента);\n",
    "* `Promo_friends` — факт первоначальной записи в рамках акции «приведи друга» (использовал промо-код от знакомого при оплате первого абонемента);\n",
    "* `Phone` — наличие контактного телефона;\n",
    "* `Age` — возраст;\n",
    "* `Lifetime` — время с момента первого обращения в фитнес-центр (в месяцах).\n",
    "\n",
    "**Информация на основе журнала посещений, покупок и информация о текущем статусе абонемента клиента:**\n",
    "\n",
    "* `Contract_period` — длительность текущего действующего абонемента (месяц, 6 месяцев, год);\n",
    "* `Month_to_end_contract` — срок до окончания текущего действующего абонемента (в месяцах);\n",
    "* `Group_visits` — факт посещения групповых занятий;\n",
    "* `Avg_class_frequency_total` — средняя частота посещений в неделю за все время с начала действия абонемента;\n",
    "* `Avg_class_frequency_current_month` — средняя частота посещений в неделю за предыдущий месяц;\n",
    "* `Avg_additional_charges_total` — суммарная выручка от других услуг фитнес-центра: кафе, спорттовары, косметический и массажный салон.\n",
    "* `Churn` — факт оттока в текущем месяце."
   ]
  },
  {
   "cell_type": "markdown",
   "metadata": {},
   "source": [
    "## Загрузим и подготовим данные"
   ]
  },
  {
   "cell_type": "markdown",
   "metadata": {},
   "source": [
    "Добавим необходимые библиотеки."
   ]
  },
  {
   "cell_type": "code",
   "execution_count": 1,
   "metadata": {},
   "outputs": [],
   "source": [
    "import numpy as np\n",
    "import pandas as pd\n",
    "from matplotlib import pyplot as plt\n",
    "import seaborn as sns\n",
    "\n",
    "from sklearn.preprocessing import StandardScaler\n",
    "from sklearn.model_selection import train_test_split\n",
    "\n",
    "from sklearn.linear_model import LogisticRegression\n",
    "from sklearn.ensemble import RandomForestClassifier\n",
    "from sklearn.metrics import confusion_matrix, accuracy_score, precision_score, recall_score, silhouette_score\n",
    "from scipy.cluster.hierarchy import dendrogram, linkage\n",
    "from sklearn.cluster import KMeans\n",
    "\n",
    "import warnings\n",
    "warnings.filterwarnings('ignore')"
   ]
  },
  {
   "cell_type": "markdown",
   "metadata": {},
   "source": [
    "Загрузим и посмотрим данные."
   ]
  },
  {
   "cell_type": "code",
   "execution_count": 2,
   "metadata": {
    "scrolled": false
   },
   "outputs": [
    {
     "data": {
      "text/html": [
       "<div>\n",
       "<style scoped>\n",
       "    .dataframe tbody tr th:only-of-type {\n",
       "        vertical-align: middle;\n",
       "    }\n",
       "\n",
       "    .dataframe tbody tr th {\n",
       "        vertical-align: top;\n",
       "    }\n",
       "\n",
       "    .dataframe thead th {\n",
       "        text-align: right;\n",
       "    }\n",
       "</style>\n",
       "<table border=\"1\" class=\"dataframe\">\n",
       "  <thead>\n",
       "    <tr style=\"text-align: right;\">\n",
       "      <th></th>\n",
       "      <th>gender</th>\n",
       "      <th>Near_Location</th>\n",
       "      <th>Partner</th>\n",
       "      <th>Promo_friends</th>\n",
       "      <th>Phone</th>\n",
       "      <th>Contract_period</th>\n",
       "      <th>Group_visits</th>\n",
       "      <th>Age</th>\n",
       "      <th>Avg_additional_charges_total</th>\n",
       "      <th>Month_to_end_contract</th>\n",
       "      <th>Lifetime</th>\n",
       "      <th>Avg_class_frequency_total</th>\n",
       "      <th>Avg_class_frequency_current_month</th>\n",
       "      <th>Churn</th>\n",
       "    </tr>\n",
       "  </thead>\n",
       "  <tbody>\n",
       "    <tr>\n",
       "      <th>0</th>\n",
       "      <td>1</td>\n",
       "      <td>1</td>\n",
       "      <td>1</td>\n",
       "      <td>1</td>\n",
       "      <td>0</td>\n",
       "      <td>6</td>\n",
       "      <td>1</td>\n",
       "      <td>29</td>\n",
       "      <td>14.227470</td>\n",
       "      <td>5.0</td>\n",
       "      <td>3</td>\n",
       "      <td>0.020398</td>\n",
       "      <td>0.000000</td>\n",
       "      <td>0</td>\n",
       "    </tr>\n",
       "    <tr>\n",
       "      <th>1</th>\n",
       "      <td>0</td>\n",
       "      <td>1</td>\n",
       "      <td>0</td>\n",
       "      <td>0</td>\n",
       "      <td>1</td>\n",
       "      <td>12</td>\n",
       "      <td>1</td>\n",
       "      <td>31</td>\n",
       "      <td>113.202938</td>\n",
       "      <td>12.0</td>\n",
       "      <td>7</td>\n",
       "      <td>1.922936</td>\n",
       "      <td>1.910244</td>\n",
       "      <td>0</td>\n",
       "    </tr>\n",
       "    <tr>\n",
       "      <th>2</th>\n",
       "      <td>0</td>\n",
       "      <td>1</td>\n",
       "      <td>1</td>\n",
       "      <td>0</td>\n",
       "      <td>1</td>\n",
       "      <td>1</td>\n",
       "      <td>0</td>\n",
       "      <td>28</td>\n",
       "      <td>129.448479</td>\n",
       "      <td>1.0</td>\n",
       "      <td>2</td>\n",
       "      <td>1.859098</td>\n",
       "      <td>1.736502</td>\n",
       "      <td>0</td>\n",
       "    </tr>\n",
       "    <tr>\n",
       "      <th>3</th>\n",
       "      <td>0</td>\n",
       "      <td>1</td>\n",
       "      <td>1</td>\n",
       "      <td>1</td>\n",
       "      <td>1</td>\n",
       "      <td>12</td>\n",
       "      <td>1</td>\n",
       "      <td>33</td>\n",
       "      <td>62.669863</td>\n",
       "      <td>12.0</td>\n",
       "      <td>2</td>\n",
       "      <td>3.205633</td>\n",
       "      <td>3.357215</td>\n",
       "      <td>0</td>\n",
       "    </tr>\n",
       "    <tr>\n",
       "      <th>4</th>\n",
       "      <td>1</td>\n",
       "      <td>1</td>\n",
       "      <td>1</td>\n",
       "      <td>1</td>\n",
       "      <td>1</td>\n",
       "      <td>1</td>\n",
       "      <td>0</td>\n",
       "      <td>26</td>\n",
       "      <td>198.362265</td>\n",
       "      <td>1.0</td>\n",
       "      <td>3</td>\n",
       "      <td>1.113884</td>\n",
       "      <td>1.120078</td>\n",
       "      <td>0</td>\n",
       "    </tr>\n",
       "  </tbody>\n",
       "</table>\n",
       "</div>"
      ],
      "text/plain": [
       "   gender  Near_Location  Partner  Promo_friends  Phone  Contract_period  \\\n",
       "0       1              1        1              1      0                6   \n",
       "1       0              1        0              0      1               12   \n",
       "2       0              1        1              0      1                1   \n",
       "3       0              1        1              1      1               12   \n",
       "4       1              1        1              1      1                1   \n",
       "\n",
       "   Group_visits  Age  Avg_additional_charges_total  Month_to_end_contract  \\\n",
       "0             1   29                     14.227470                    5.0   \n",
       "1             1   31                    113.202938                   12.0   \n",
       "2             0   28                    129.448479                    1.0   \n",
       "3             1   33                     62.669863                   12.0   \n",
       "4             0   26                    198.362265                    1.0   \n",
       "\n",
       "   Lifetime  Avg_class_frequency_total  Avg_class_frequency_current_month  \\\n",
       "0         3                   0.020398                           0.000000   \n",
       "1         7                   1.922936                           1.910244   \n",
       "2         2                   1.859098                           1.736502   \n",
       "3         2                   3.205633                           3.357215   \n",
       "4         3                   1.113884                           1.120078   \n",
       "\n",
       "   Churn  \n",
       "0      0  \n",
       "1      0  \n",
       "2      0  \n",
       "3      0  \n",
       "4      0  "
      ]
     },
     "execution_count": 2,
     "metadata": {},
     "output_type": "execute_result"
    }
   ],
   "source": [
    "df = pd.read_csv('/datasets/gym_churn.csv')\n",
    "df.head()"
   ]
  },
  {
   "cell_type": "markdown",
   "metadata": {},
   "source": [
    "Изучим общую информацию."
   ]
  },
  {
   "cell_type": "code",
   "execution_count": 3,
   "metadata": {
    "scrolled": false
   },
   "outputs": [
    {
     "name": "stdout",
     "output_type": "stream",
     "text": [
      "<class 'pandas.core.frame.DataFrame'>\n",
      "RangeIndex: 4000 entries, 0 to 3999\n",
      "Data columns (total 14 columns):\n",
      " #   Column                             Non-Null Count  Dtype  \n",
      "---  ------                             --------------  -----  \n",
      " 0   gender                             4000 non-null   int64  \n",
      " 1   Near_Location                      4000 non-null   int64  \n",
      " 2   Partner                            4000 non-null   int64  \n",
      " 3   Promo_friends                      4000 non-null   int64  \n",
      " 4   Phone                              4000 non-null   int64  \n",
      " 5   Contract_period                    4000 non-null   int64  \n",
      " 6   Group_visits                       4000 non-null   int64  \n",
      " 7   Age                                4000 non-null   int64  \n",
      " 8   Avg_additional_charges_total       4000 non-null   float64\n",
      " 9   Month_to_end_contract              4000 non-null   float64\n",
      " 10  Lifetime                           4000 non-null   int64  \n",
      " 11  Avg_class_frequency_total          4000 non-null   float64\n",
      " 12  Avg_class_frequency_current_month  4000 non-null   float64\n",
      " 13  Churn                              4000 non-null   int64  \n",
      "dtypes: float64(4), int64(10)\n",
      "memory usage: 437.6 KB\n"
     ]
    }
   ],
   "source": [
    "df.info()"
   ]
  },
  {
   "cell_type": "markdown",
   "metadata": {},
   "source": [
    "С типами данных всё в порядке. Приведем к нижнему регистру названия столбцов."
   ]
  },
  {
   "cell_type": "code",
   "execution_count": 4,
   "metadata": {},
   "outputs": [],
   "source": [
    "df.columns = df.columns.str.lower()"
   ]
  },
  {
   "cell_type": "markdown",
   "metadata": {},
   "source": [
    "Проверим наличие пропусков."
   ]
  },
  {
   "cell_type": "code",
   "execution_count": 5,
   "metadata": {
    "scrolled": true
   },
   "outputs": [
    {
     "data": {
      "text/plain": [
       "gender                               0\n",
       "near_location                        0\n",
       "partner                              0\n",
       "promo_friends                        0\n",
       "phone                                0\n",
       "contract_period                      0\n",
       "group_visits                         0\n",
       "age                                  0\n",
       "avg_additional_charges_total         0\n",
       "month_to_end_contract                0\n",
       "lifetime                             0\n",
       "avg_class_frequency_total            0\n",
       "avg_class_frequency_current_month    0\n",
       "churn                                0\n",
       "dtype: int64"
      ]
     },
     "execution_count": 5,
     "metadata": {},
     "output_type": "execute_result"
    }
   ],
   "source": [
    "df.isna().sum()"
   ]
  },
  {
   "cell_type": "markdown",
   "metadata": {},
   "source": [
    "Пропуски не обнаружены. Проверим наличие дублиакатов."
   ]
  },
  {
   "cell_type": "code",
   "execution_count": 6,
   "metadata": {
    "scrolled": true
   },
   "outputs": [
    {
     "data": {
      "text/plain": [
       "0"
      ]
     },
     "execution_count": 6,
     "metadata": {},
     "output_type": "execute_result"
    }
   ],
   "source": [
    "df.duplicated().sum()"
   ]
  },
  {
   "cell_type": "markdown",
   "metadata": {},
   "source": [
    "Дубликаты также не обнаружены."
   ]
  },
  {
   "cell_type": "markdown",
   "metadata": {},
   "source": [
    "**Вывод:** \n",
    "* Всего имеется 14 столбцов и 4000 строк с двумя типами данных `int64` и `float64`.\n",
    "* Названия столбцов приведены к единому регистру - нижнему.\n",
    "* С типами данных всё в порядке, вмешательство не требуется.\n",
    "* Пропуски не обнаружены.\n",
    "* Дубликаты не обнаружены."
   ]
  },
  {
   "cell_type": "markdown",
   "metadata": {},
   "source": [
    "## Исследовательский анализ данных (EDA)"
   ]
  },
  {
   "cell_type": "markdown",
   "metadata": {},
   "source": [
    "**Посмотрим на датасет: есть ли в нем отсутствующие признаки, изучите средние значения и стандартные отклонения**"
   ]
  },
  {
   "cell_type": "markdown",
   "metadata": {},
   "source": [
    "Воспользуемся методом `describe()`, посмотрим на средние и стандартные значения."
   ]
  },
  {
   "cell_type": "code",
   "execution_count": 7,
   "metadata": {
    "scrolled": true
   },
   "outputs": [
    {
     "data": {
      "text/html": [
       "<div>\n",
       "<style scoped>\n",
       "    .dataframe tbody tr th:only-of-type {\n",
       "        vertical-align: middle;\n",
       "    }\n",
       "\n",
       "    .dataframe tbody tr th {\n",
       "        vertical-align: top;\n",
       "    }\n",
       "\n",
       "    .dataframe thead th {\n",
       "        text-align: right;\n",
       "    }\n",
       "</style>\n",
       "<table border=\"1\" class=\"dataframe\">\n",
       "  <thead>\n",
       "    <tr style=\"text-align: right;\">\n",
       "      <th></th>\n",
       "      <th>gender</th>\n",
       "      <th>near_location</th>\n",
       "      <th>partner</th>\n",
       "      <th>promo_friends</th>\n",
       "      <th>phone</th>\n",
       "      <th>contract_period</th>\n",
       "      <th>group_visits</th>\n",
       "      <th>age</th>\n",
       "      <th>avg_additional_charges_total</th>\n",
       "      <th>month_to_end_contract</th>\n",
       "      <th>lifetime</th>\n",
       "      <th>avg_class_frequency_total</th>\n",
       "      <th>avg_class_frequency_current_month</th>\n",
       "      <th>churn</th>\n",
       "    </tr>\n",
       "  </thead>\n",
       "  <tbody>\n",
       "    <tr>\n",
       "      <th>count</th>\n",
       "      <td>4000.000000</td>\n",
       "      <td>4000.000000</td>\n",
       "      <td>4000.000000</td>\n",
       "      <td>4000.000000</td>\n",
       "      <td>4000.000000</td>\n",
       "      <td>4000.000000</td>\n",
       "      <td>4000.000000</td>\n",
       "      <td>4000.000000</td>\n",
       "      <td>4000.000000</td>\n",
       "      <td>4000.000000</td>\n",
       "      <td>4000.000000</td>\n",
       "      <td>4000.000000</td>\n",
       "      <td>4000.000000</td>\n",
       "      <td>4000.000000</td>\n",
       "    </tr>\n",
       "    <tr>\n",
       "      <th>mean</th>\n",
       "      <td>0.510250</td>\n",
       "      <td>0.845250</td>\n",
       "      <td>0.486750</td>\n",
       "      <td>0.308500</td>\n",
       "      <td>0.903500</td>\n",
       "      <td>4.681250</td>\n",
       "      <td>0.412250</td>\n",
       "      <td>29.184250</td>\n",
       "      <td>146.943728</td>\n",
       "      <td>4.322750</td>\n",
       "      <td>3.724750</td>\n",
       "      <td>1.879020</td>\n",
       "      <td>1.767052</td>\n",
       "      <td>0.265250</td>\n",
       "    </tr>\n",
       "    <tr>\n",
       "      <th>std</th>\n",
       "      <td>0.499957</td>\n",
       "      <td>0.361711</td>\n",
       "      <td>0.499887</td>\n",
       "      <td>0.461932</td>\n",
       "      <td>0.295313</td>\n",
       "      <td>4.549706</td>\n",
       "      <td>0.492301</td>\n",
       "      <td>3.258367</td>\n",
       "      <td>96.355602</td>\n",
       "      <td>4.191297</td>\n",
       "      <td>3.749267</td>\n",
       "      <td>0.972245</td>\n",
       "      <td>1.052906</td>\n",
       "      <td>0.441521</td>\n",
       "    </tr>\n",
       "    <tr>\n",
       "      <th>min</th>\n",
       "      <td>0.000000</td>\n",
       "      <td>0.000000</td>\n",
       "      <td>0.000000</td>\n",
       "      <td>0.000000</td>\n",
       "      <td>0.000000</td>\n",
       "      <td>1.000000</td>\n",
       "      <td>0.000000</td>\n",
       "      <td>18.000000</td>\n",
       "      <td>0.148205</td>\n",
       "      <td>1.000000</td>\n",
       "      <td>0.000000</td>\n",
       "      <td>0.000000</td>\n",
       "      <td>0.000000</td>\n",
       "      <td>0.000000</td>\n",
       "    </tr>\n",
       "    <tr>\n",
       "      <th>25%</th>\n",
       "      <td>0.000000</td>\n",
       "      <td>1.000000</td>\n",
       "      <td>0.000000</td>\n",
       "      <td>0.000000</td>\n",
       "      <td>1.000000</td>\n",
       "      <td>1.000000</td>\n",
       "      <td>0.000000</td>\n",
       "      <td>27.000000</td>\n",
       "      <td>68.868830</td>\n",
       "      <td>1.000000</td>\n",
       "      <td>1.000000</td>\n",
       "      <td>1.180875</td>\n",
       "      <td>0.963003</td>\n",
       "      <td>0.000000</td>\n",
       "    </tr>\n",
       "    <tr>\n",
       "      <th>50%</th>\n",
       "      <td>1.000000</td>\n",
       "      <td>1.000000</td>\n",
       "      <td>0.000000</td>\n",
       "      <td>0.000000</td>\n",
       "      <td>1.000000</td>\n",
       "      <td>1.000000</td>\n",
       "      <td>0.000000</td>\n",
       "      <td>29.000000</td>\n",
       "      <td>136.220159</td>\n",
       "      <td>1.000000</td>\n",
       "      <td>3.000000</td>\n",
       "      <td>1.832768</td>\n",
       "      <td>1.719574</td>\n",
       "      <td>0.000000</td>\n",
       "    </tr>\n",
       "    <tr>\n",
       "      <th>75%</th>\n",
       "      <td>1.000000</td>\n",
       "      <td>1.000000</td>\n",
       "      <td>1.000000</td>\n",
       "      <td>1.000000</td>\n",
       "      <td>1.000000</td>\n",
       "      <td>6.000000</td>\n",
       "      <td>1.000000</td>\n",
       "      <td>31.000000</td>\n",
       "      <td>210.949625</td>\n",
       "      <td>6.000000</td>\n",
       "      <td>5.000000</td>\n",
       "      <td>2.536078</td>\n",
       "      <td>2.510336</td>\n",
       "      <td>1.000000</td>\n",
       "    </tr>\n",
       "    <tr>\n",
       "      <th>max</th>\n",
       "      <td>1.000000</td>\n",
       "      <td>1.000000</td>\n",
       "      <td>1.000000</td>\n",
       "      <td>1.000000</td>\n",
       "      <td>1.000000</td>\n",
       "      <td>12.000000</td>\n",
       "      <td>1.000000</td>\n",
       "      <td>41.000000</td>\n",
       "      <td>552.590740</td>\n",
       "      <td>12.000000</td>\n",
       "      <td>31.000000</td>\n",
       "      <td>6.023668</td>\n",
       "      <td>6.146783</td>\n",
       "      <td>1.000000</td>\n",
       "    </tr>\n",
       "  </tbody>\n",
       "</table>\n",
       "</div>"
      ],
      "text/plain": [
       "            gender  near_location      partner  promo_friends        phone  \\\n",
       "count  4000.000000    4000.000000  4000.000000    4000.000000  4000.000000   \n",
       "mean      0.510250       0.845250     0.486750       0.308500     0.903500   \n",
       "std       0.499957       0.361711     0.499887       0.461932     0.295313   \n",
       "min       0.000000       0.000000     0.000000       0.000000     0.000000   \n",
       "25%       0.000000       1.000000     0.000000       0.000000     1.000000   \n",
       "50%       1.000000       1.000000     0.000000       0.000000     1.000000   \n",
       "75%       1.000000       1.000000     1.000000       1.000000     1.000000   \n",
       "max       1.000000       1.000000     1.000000       1.000000     1.000000   \n",
       "\n",
       "       contract_period  group_visits          age  \\\n",
       "count      4000.000000   4000.000000  4000.000000   \n",
       "mean          4.681250      0.412250    29.184250   \n",
       "std           4.549706      0.492301     3.258367   \n",
       "min           1.000000      0.000000    18.000000   \n",
       "25%           1.000000      0.000000    27.000000   \n",
       "50%           1.000000      0.000000    29.000000   \n",
       "75%           6.000000      1.000000    31.000000   \n",
       "max          12.000000      1.000000    41.000000   \n",
       "\n",
       "       avg_additional_charges_total  month_to_end_contract     lifetime  \\\n",
       "count                   4000.000000            4000.000000  4000.000000   \n",
       "mean                     146.943728               4.322750     3.724750   \n",
       "std                       96.355602               4.191297     3.749267   \n",
       "min                        0.148205               1.000000     0.000000   \n",
       "25%                       68.868830               1.000000     1.000000   \n",
       "50%                      136.220159               1.000000     3.000000   \n",
       "75%                      210.949625               6.000000     5.000000   \n",
       "max                      552.590740              12.000000    31.000000   \n",
       "\n",
       "       avg_class_frequency_total  avg_class_frequency_current_month  \\\n",
       "count                4000.000000                        4000.000000   \n",
       "mean                    1.879020                           1.767052   \n",
       "std                     0.972245                           1.052906   \n",
       "min                     0.000000                           0.000000   \n",
       "25%                     1.180875                           0.963003   \n",
       "50%                     1.832768                           1.719574   \n",
       "75%                     2.536078                           2.510336   \n",
       "max                     6.023668                           6.146783   \n",
       "\n",
       "             churn  \n",
       "count  4000.000000  \n",
       "mean      0.265250  \n",
       "std       0.441521  \n",
       "min       0.000000  \n",
       "25%       0.000000  \n",
       "50%       0.000000  \n",
       "75%       1.000000  \n",
       "max       1.000000  "
      ]
     },
     "execution_count": 7,
     "metadata": {},
     "output_type": "execute_result"
    }
   ],
   "source": [
    "df.describe()"
   ]
  },
  {
   "cell_type": "markdown",
   "metadata": {},
   "source": [
    "Как видно, стандартные отклонения не сильно отличаются от средних значений."
   ]
  },
  {
   "cell_type": "markdown",
   "metadata": {},
   "source": [
    "**Промежуточный вывод:**\n",
    "\n",
    "* Распределение по полу примерно одинаково\n",
    "* Большинство клиентов живет или работает рядом с фитнес-клубом - 85%\n",
    "* Почти половина клиентов являются сотрудниками партнерских организаций\n",
    "* По программе \"Приведи друга\" пришли 30% клиентов\n",
    "* Известны контактные телефоны примерно 90% клиентов\n",
    "* Средняя длительность абонементов клиентов - 4.6 месяцев\n",
    "* Групповые занятия посещают около 40% клиентов  \n",
    "* Средний возраст клиентов 29 лет\n",
    "* Средние дополнительные расходы клиентов - 146.9\n",
    "* Средний срок до окончания договора - 4.3 месяцев\n",
    "* Среднее время с момента первого обращения в фитнес-центр - 3.7 месяцев\n",
    "* Средняя частота посещений за все время - 1.87 раз в неделю\n",
    "* Средняя частота посещений за последний месяц - 1.76 раз в неделю\n",
    "* Доля оттока клиентов ~ 27%"
   ]
  },
  {
   "cell_type": "markdown",
   "metadata": {},
   "source": [
    "**Посмотрим на средние значения признаков в двух группах — тех, кто ушел в отток и тех, кто остался**"
   ]
  },
  {
   "cell_type": "code",
   "execution_count": 8,
   "metadata": {},
   "outputs": [
    {
     "data": {
      "text/html": [
       "<div>\n",
       "<style scoped>\n",
       "    .dataframe tbody tr th:only-of-type {\n",
       "        vertical-align: middle;\n",
       "    }\n",
       "\n",
       "    .dataframe tbody tr th {\n",
       "        vertical-align: top;\n",
       "    }\n",
       "\n",
       "    .dataframe thead th {\n",
       "        text-align: right;\n",
       "    }\n",
       "</style>\n",
       "<table border=\"1\" class=\"dataframe\">\n",
       "  <thead>\n",
       "    <tr style=\"text-align: right;\">\n",
       "      <th></th>\n",
       "      <th>gender</th>\n",
       "      <th>near_location</th>\n",
       "      <th>partner</th>\n",
       "      <th>promo_friends</th>\n",
       "      <th>phone</th>\n",
       "      <th>contract_period</th>\n",
       "      <th>group_visits</th>\n",
       "      <th>age</th>\n",
       "      <th>avg_additional_charges_total</th>\n",
       "      <th>month_to_end_contract</th>\n",
       "      <th>lifetime</th>\n",
       "      <th>avg_class_frequency_total</th>\n",
       "      <th>avg_class_frequency_current_month</th>\n",
       "    </tr>\n",
       "    <tr>\n",
       "      <th>churn</th>\n",
       "      <th></th>\n",
       "      <th></th>\n",
       "      <th></th>\n",
       "      <th></th>\n",
       "      <th></th>\n",
       "      <th></th>\n",
       "      <th></th>\n",
       "      <th></th>\n",
       "      <th></th>\n",
       "      <th></th>\n",
       "      <th></th>\n",
       "      <th></th>\n",
       "      <th></th>\n",
       "    </tr>\n",
       "  </thead>\n",
       "  <tbody>\n",
       "    <tr>\n",
       "      <th>0</th>\n",
       "      <td>0.510037</td>\n",
       "      <td>0.873086</td>\n",
       "      <td>0.534195</td>\n",
       "      <td>0.353522</td>\n",
       "      <td>0.903709</td>\n",
       "      <td>5.747193</td>\n",
       "      <td>0.464103</td>\n",
       "      <td>29.976523</td>\n",
       "      <td>158.445715</td>\n",
       "      <td>5.283089</td>\n",
       "      <td>4.711807</td>\n",
       "      <td>2.024876</td>\n",
       "      <td>2.027882</td>\n",
       "    </tr>\n",
       "    <tr>\n",
       "      <th>1</th>\n",
       "      <td>0.510839</td>\n",
       "      <td>0.768143</td>\n",
       "      <td>0.355325</td>\n",
       "      <td>0.183789</td>\n",
       "      <td>0.902922</td>\n",
       "      <td>1.728558</td>\n",
       "      <td>0.268615</td>\n",
       "      <td>26.989632</td>\n",
       "      <td>115.082899</td>\n",
       "      <td>1.662582</td>\n",
       "      <td>0.990575</td>\n",
       "      <td>1.474995</td>\n",
       "      <td>1.044546</td>\n",
       "    </tr>\n",
       "  </tbody>\n",
       "</table>\n",
       "</div>"
      ],
      "text/plain": [
       "         gender  near_location   partner  promo_friends     phone  \\\n",
       "churn                                                               \n",
       "0      0.510037       0.873086  0.534195       0.353522  0.903709   \n",
       "1      0.510839       0.768143  0.355325       0.183789  0.902922   \n",
       "\n",
       "       contract_period  group_visits        age  avg_additional_charges_total  \\\n",
       "churn                                                                           \n",
       "0             5.747193      0.464103  29.976523                    158.445715   \n",
       "1             1.728558      0.268615  26.989632                    115.082899   \n",
       "\n",
       "       month_to_end_contract  lifetime  avg_class_frequency_total  \\\n",
       "churn                                                               \n",
       "0                   5.283089  4.711807                   2.024876   \n",
       "1                   1.662582  0.990575                   1.474995   \n",
       "\n",
       "       avg_class_frequency_current_month  \n",
       "churn                                     \n",
       "0                               2.027882  \n",
       "1                               1.044546  "
      ]
     },
     "execution_count": 8,
     "metadata": {},
     "output_type": "execute_result"
    }
   ],
   "source": [
    "df.groupby('churn').mean()"
   ]
  },
  {
   "cell_type": "markdown",
   "metadata": {},
   "source": [
    "**Вывод:**\n",
    "\n",
    "* Распределение по полу примерно равное как для тех кто ушел, так и для тех, кто остался.\n",
    "* Клиенты, живущие/работающие недалеко реже попадают в отток.\n",
    "* Сотрудники компаний-партнеров реже перестают посещать фитнесс-клуб чем остальные клиенты.\n",
    "* Клиенты, пришедшие по акции \"Приведи друга\" в два раза реже попадают в отток.\n",
    "* Признак phone (контактный телефон) для обеих групп одинаков по 90%.\n",
    "* Средняя длительность договора полне логично больше у оставшихся пользователей - 5-6 месяцев, у большей части клиентов в оттоке срок договора составляет 1-2 месяца.\n",
    "* Заметно, что среди тех, кто ушел, только 26% посещали групповые занятие, а среди тех, кто остался, таких 46%.\n",
    "* Средний возрастр клиентов оттока чуть меньше - 27 лет против 30 лет.\n",
    "* Есть небольшое различие в выручке от других услуг фитнес-центра 115 у.е. - для ушедших, а среди оставшихся - 158 у.е.\n",
    "* Лайфтайм для групп сильно отличается. Для ушедших он равен меньше 1 месяца, что свидетельствует от незаинтересованности последних.\n",
    "* В среднем те, кто ушел, приходили на занятия:\n",
    "   - за все время - на ~25% реже;\n",
    "   - за предыдущий месяц - в два раза реже;"
   ]
  },
  {
   "cell_type": "markdown",
   "metadata": {},
   "source": [
    "**Построим столбчатые гистограммы и распределения признаков для тех, кто ушёл (отток) и тех, кто остался (не попали в отток)**"
   ]
  },
  {
   "cell_type": "code",
   "execution_count": 9,
   "metadata": {
    "scrolled": false
   },
   "outputs": [],
   "source": [
    "# поделим клиентов на две группы:\n",
    "churn = df[df['churn']==1] # отток\n",
    "not_churn = df[df['churn']==0] # оставшиеся\n",
    "\n",
    "# и разделим признаки на две группы:\n",
    "\n",
    "# числовые\n",
    "numeric_feature = ['contract_period', 'age', 'avg_additional_charges_total', \n",
    "                    'month_to_end_contract','lifetime', \n",
    "                     'avg_class_frequency_total', 'avg_class_frequency_current_month']\n",
    "# и булевы\n",
    "boolean_feature = ['gender', 'near_location', 'partner',\n",
    "                   'promo_friends', 'phone', 'group_visits'] "
   ]
  },
  {
   "cell_type": "code",
   "execution_count": 10,
   "metadata": {
    "scrolled": true
   },
   "outputs": [
    {
     "data": {
      "image/png": "[encoded data removed]",
      "text/plain": [
       "<Figure size 720x360 with 1 Axes>"
      ]
     },
     "metadata": {
      "needs_background": "light"
     },
     "output_type": "display_data"
    },
    {
     "data": {
      "image/png": "[encoded data removed]",
      "text/plain": [
       "<Figure size 720x360 with 1 Axes>"
      ]
     },
     "metadata": {
      "needs_background": "light"
     },
     "output_type": "display_data"
    },
    {
     "data": {
      "image/png": "[encoded data removed]",
      "text/plain": [
       "<Figure size 720x360 with 1 Axes>"
      ]
     },
     "metadata": {
      "needs_background": "light"
     },
     "output_type": "display_data"
    },
    {
     "data": {
      "image/png": "[encoded data removed]",
      "text/plain": [
       "<Figure size 720x360 with 1 Axes>"
      ]
     },
     "metadata": {
      "needs_background": "light"
     },
     "output_type": "display_data"
    },
    {
     "data": {
      "image/png": "[encoded data removed]",
      "text/plain": [
       "<Figure size 720x360 with 1 Axes>"
      ]
     },
     "metadata": {
      "needs_background": "light"
     },
     "output_type": "display_data"
    },
    {
     "data": {
      "image/png": "[encoded data removed]",
      "text/plain": [
       "<Figure size 720x360 with 1 Axes>"
      ]
     },
     "metadata": {
      "needs_background": "light"
     },
     "output_type": "display_data"
    },
    {
     "data": {
      "image/png": "[encoded data removed]",
      "text/plain": [
       "<Figure size 720x360 with 1 Axes>"
      ]
     },
     "metadata": {
      "needs_background": "light"
     },
     "output_type": "display_data"
    }
   ],
   "source": [
    "for column in numeric_feature: \n",
    "    plt.figure(figsize=(10,5))\n",
    "    sns.distplot(churn[column], color = 'red')\n",
    "    sns.distplot(not_churn[column], color = 'blue')\n",
    "    plt.legend(['Отток', 'Оставлись'])\n",
    "    plt.show()"
   ]
  },
  {
   "cell_type": "markdown",
   "metadata": {},
   "source": [
    "**Вывод:**\n",
    "\n",
    "* `contract_period` - чем дольше срок действия аббонемента, тем меньше отток\n",
    "\n",
    "* `age` - клиенты возрастом возраста 25-27 лет больше склонны уйти, остаются клиенты более взрослого возраста 27-32 лет\n",
    "\n",
    "* `avg_additional_charges_total` - доп. расходы для ушедших практически не превышали  300 у.е, доп. расходы для оставшихся - не более 400 у.е.\n",
    "\n",
    "* `month_to_end_contract` - ситуация схожа с график срока действия аббонемента, практически у всех ушедших клиентов остается не более 1 месяца\n",
    "\n",
    "* `lifetime` - видно, что уходят клиенты с \"периодом жизни\" до 3 месяцев\n",
    "\n",
    "* `avg_class_frequency_total` - по графику видно, что при посещении зала 1 раз в неделю, доли ушедших и оставшихся примерно равны. Однако потом ситуация меняется при увеличении кол-ва походов в зал; так если клиент посещает спортзал 3 раза и более - вероятность его ухода практически равна нулю\n",
    "\n",
    "* `avg_class_frequency_current_month` - ситуация схожа с предыдущим признаком, чем больше посещений в неделю за последний месяц, тем меньше отток"
   ]
  },
  {
   "cell_type": "code",
   "execution_count": 11,
   "metadata": {
    "scrolled": false
   },
   "outputs": [
    {
     "data": {
      "image/png": "[encoded data removed]",
      "text/plain": [
       "<Figure size 576x288 with 1 Axes>"
      ]
     },
     "metadata": {
      "needs_background": "light"
     },
     "output_type": "display_data"
    },
    {
     "data": {
      "image/png": "[encoded data removed]",
      "text/plain": [
       "<Figure size 576x288 with 1 Axes>"
      ]
     },
     "metadata": {
      "needs_background": "light"
     },
     "output_type": "display_data"
    },
    {
     "data": {
      "image/png": "[encoded data removed]",
      "text/plain": [
       "<Figure size 576x288 with 1 Axes>"
      ]
     },
     "metadata": {
      "needs_background": "light"
     },
     "output_type": "display_data"
    },
    {
     "data": {
      "image/png": "[encoded data removed]",
      "text/plain": [
       "<Figure size 576x288 with 1 Axes>"
      ]
     },
     "metadata": {
      "needs_background": "light"
     },
     "output_type": "display_data"
    },
    {
     "data": {
      "image/png": "[encoded data removed]",
      "text/plain": [
       "<Figure size 576x288 with 1 Axes>"
      ]
     },
     "metadata": {
      "needs_background": "light"
     },
     "output_type": "display_data"
    },
    {
     "data": {
      "image/png": "[encoded data removed]",
      "text/plain": [
       "<Figure size 576x288 with 1 Axes>"
      ]
     },
     "metadata": {
      "needs_background": "light"
     },
     "output_type": "display_data"
    }
   ],
   "source": [
    "for column in df.columns:\n",
    "    if column in boolean_feature:\n",
    "        plt.figure(figsize=(8,4))\n",
    "        df.groupby('churn')[column].hist(alpha = 0.7)\n",
    "        plt.title(column)\n",
    "        plt.legend(['Остались', 'Отток'])\n",
    "        plt.show()"
   ]
  },
  {
   "cell_type": "markdown",
   "metadata": {},
   "source": [
    "**Вывод:**\n",
    "\n",
    "* `gender` - доли оттока примерно равны и для мужчин и для женщин\n",
    "\n",
    "* `near_location` - живущих ближе значительно больше и среди них доля оставшихся тоже значительно больше\n",
    "\n",
    "* `partner` - участвующих в партнерской программе примерно столько же скольтех кто не участвовал, также первые все же склонны продолжать ходить в зал\n",
    "\n",
    "* `promo_friends` - доля клиентов по акции \"приведи друга\" меньше, однако  доля оставшихся среди них значительно больше\n",
    "\n",
    "* `phone` - очевидно, что факт оставления клиентами номеров своих телефонов не влияет на факт \"оттока\"\n",
    "\n",
    "* `group_visits` - посетители групповых занятий больше склонны продолжать тренировки"
   ]
  },
  {
   "cell_type": "markdown",
   "metadata": {},
   "source": [
    "**Построим матрицу корреляций и отобразим её**"
   ]
  },
  {
   "cell_type": "code",
   "execution_count": 12,
   "metadata": {},
   "outputs": [
    {
     "data": {
      "image/png": "[encoded data removed]",
      "text/plain": [
       "<Figure size 1080x720 with 2 Axes>"
      ]
     },
     "metadata": {
      "needs_background": "light"
     },
     "output_type": "display_data"
    }
   ],
   "source": [
    "plt.figure(figsize=(15,10))\n",
    "sns.heatmap(data = df.corr(), annot=True)\n",
    "plt.title('Матрица корреляций')\n",
    "plt.show()"
   ]
  },
  {
   "cell_type": "markdown",
   "metadata": {},
   "source": [
    "**Вывод:**\n",
    "\n",
    "Явной зависимости факта оттока `churn` от признаков не обнаружено. \n",
    "\n",
    "Наиболее сильно влияют три следующих признака (отрицательное значение, говорит об обратной зависимости - чем больше значение, тем меньше отток):\n",
    "\n",
    "* `lifetime` - (-0.44)\n",
    "* `avg_class_frequency_current_month` - (-0.41)\n",
    "* `age` -  (-0.4)\n",
    "\n",
    "Также следует отметить очень сильную корреляцию двух пар признаков:\n",
    "\n",
    "* `contract_period` и `month_to_end_contract` (0.97) - чем больше период действия аббонемент, тем больше месяцев до окончания аббонемента\n",
    "* `avg_class_frequency_current_month` и `avg_class_frequency_total` (0.95) - если количество походов в зал в за все время было постоянным, то скорее всего в прошлом месяце будет таким же\n",
    "\n"
   ]
  },
  {
   "cell_type": "markdown",
   "metadata": {},
   "source": [
    "## Построение модели прогнозирования оттока клиентов"
   ]
  },
  {
   "cell_type": "markdown",
   "metadata": {},
   "source": [
    "Построим модель бинарной классификации клиентов, где целевой признак — факт оттока клиента в следующем месяце:"
   ]
  },
  {
   "cell_type": "markdown",
   "metadata": {},
   "source": [
    "**Разобъем данные на обучающую и валидационную выборку функцией train_test_split().**"
   ]
  },
  {
   "cell_type": "code",
   "execution_count": 13,
   "metadata": {},
   "outputs": [],
   "source": [
    "# разделим наши данные на признаки (матрица X) и целевую переменную (y)\n",
    "X = df.drop(columns=['churn'])\n",
    "y = df['churn']\n",
    "\n",
    "# разделяем модель на обучающую и валидационную выборку\n",
    "X_train, X_test, y_train, y_test = train_test_split(X, y, test_size=0.2)"
   ]
  },
  {
   "cell_type": "markdown",
   "metadata": {},
   "source": [
    "**Обучим модель на train-выборке двумя способами: логистической регрессией и случайным лесом.**"
   ]
  },
  {
   "cell_type": "code",
   "execution_count": 14,
   "metadata": {},
   "outputs": [],
   "source": [
    "# создадим объект класса StandardScaler и применим его к обучающей выборке\n",
    "scaler = StandardScaler()\n",
    "\n",
    " # обучаем scaler и одновременно трансформируем матрицу для обучающей выборки\n",
    "X_train_st = scaler.fit_transform(X_train) \n",
    "\n",
    "# применяем стандартизацию к матрице признаков для тестовой выборки\n",
    "X_test_st = scaler.transform(X_test)"
   ]
  },
  {
   "cell_type": "code",
   "execution_count": 15,
   "metadata": {},
   "outputs": [],
   "source": [
    "# зададим список моделей\n",
    "models = [LogisticRegression(random_state=0), \n",
    "          RandomForestClassifier(random_state=0)]\n",
    "\n",
    "# функция, которая принимает на вход модель и данные и выводит метрики\n",
    "def make_prediction(m, X_train, y_train, X_test, y_test):\n",
    "    model = m\n",
    "    model.fit(X_train, y_train)\n",
    "    y_pred = model.predict(X_test)\n",
    "    print(\n",
    "        'Accuracy: {:.3f}\\nPrecision: {:.3f}\\nRecall: {:.3f}'.format(\n",
    "            accuracy_score(y_test, y_pred),\n",
    "            precision_score(y_test, y_pred),\n",
    "            recall_score(y_test, y_pred),\n",
    "        )\n",
    "    )\n",
    "    print()"
   ]
  },
  {
   "cell_type": "markdown",
   "metadata": {},
   "source": [
    "**Оценим метрики accuracy, precision и recall для обеих моделей на валидационной выборке и сравним их по ним модели.**"
   ]
  },
  {
   "cell_type": "code",
   "execution_count": 16,
   "metadata": {},
   "outputs": [
    {
     "name": "stdout",
     "output_type": "stream",
     "text": [
      "LogisticRegression(random_state=0)\n",
      "Accuracy: 0.920\n",
      "Precision: 0.883\n",
      "Recall: 0.808\n",
      "\n",
      "RandomForestClassifier(random_state=0)\n",
      "Accuracy: 0.909\n",
      "Precision: 0.865\n",
      "Recall: 0.780\n",
      "\n"
     ]
    }
   ],
   "source": [
    "for i in models:\n",
    "    print(i)\n",
    "    make_prediction(\n",
    "        m=i,\n",
    "        X_train=X_train_st,\n",
    "        y_train=y_train,\n",
    "        X_test=X_test_st,\n",
    "        y_test=y_test\n",
    "    )"
   ]
  },
  {
   "cell_type": "markdown",
   "metadata": {},
   "source": [
    "**Вывод:** \n",
    "* по параметру `Accuracy` \"Логистическая регрессия\" немного выигрывает у \"Случайный лес\" (0.926 против 0.921)\n",
    "* по параметру `Precision` также \"Логистическая регрессия\" получше (0.879 проитив 0.866) \n",
    "* по параметру `Recall` также \"Логистическая регрессия\" немного лучше (0.833 против 0.829)\n",
    "\n",
    "Обе модели дают доволньно неплохие результаты, однако всё же немного лучше именно \"Логистическая регрессия\"."
   ]
  },
  {
   "cell_type": "markdown",
   "metadata": {},
   "source": [
    "## Кластеризация клиентов"
   ]
  },
  {
   "cell_type": "markdown",
   "metadata": {},
   "source": [
    "**Стандартизируем данные.**"
   ]
  },
  {
   "cell_type": "code",
   "execution_count": 17,
   "metadata": {},
   "outputs": [],
   "source": [
    "sc = StandardScaler()\n",
    "X_sc = sc.fit_transform(X)"
   ]
  },
  {
   "cell_type": "markdown",
   "metadata": {},
   "source": [
    "**Построим матрицу расстояний функцией `linkage()` на стандартизованной матрице признаков и отрисуем дендрограмму.**"
   ]
  },
  {
   "cell_type": "code",
   "execution_count": 18,
   "metadata": {},
   "outputs": [
    {
     "data": {
      "image/png": "[encoded data removed]",
      "text/plain": [
       "<Figure size 1080x720 with 1 Axes>"
      ]
     },
     "metadata": {
      "needs_background": "light"
     },
     "output_type": "display_data"
    }
   ],
   "source": [
    "linked = linkage(X_sc, method = 'ward')\n",
    "\n",
    "plt.figure(figsize=(15, 10))  \n",
    "dendrogram(linked, orientation='top')\n",
    "plt.title('\\n Иерархическая кластеризация', fontsize=15)\n",
    "plt.show() "
   ]
  },
  {
   "cell_type": "markdown",
   "metadata": {},
   "source": [
    "**Предварительный вывод:**\n",
    "\n",
    "На графике выделяются 4 кластера клиентов, судя по разным цветам нижних делений."
   ]
  },
  {
   "cell_type": "markdown",
   "metadata": {},
   "source": [
    "**Обучим модель кластеризации на основании алгоритма `K-Means` и спрогнозируем кластеры клиентов. По заданию за число кластеров `n` возьмем 5 кластеров.**"
   ]
  },
  {
   "cell_type": "code",
   "execution_count": 19,
   "metadata": {},
   "outputs": [],
   "source": [
    "km = KMeans(n_clusters = 5, random_state=0) # задаём число кластеров, равное 5\n",
    "labels = km.fit_predict(X_sc) # применяем алгоритм к данным и формируем вектор кластеров"
   ]
  },
  {
   "cell_type": "markdown",
   "metadata": {},
   "source": [
    "**Посмотрим на средние значения признаков для кластеров.**"
   ]
  },
  {
   "cell_type": "code",
   "execution_count": 20,
   "metadata": {
    "scrolled": true
   },
   "outputs": [
    {
     "data": {
      "text/html": [
       "<div>\n",
       "<style scoped>\n",
       "    .dataframe tbody tr th:only-of-type {\n",
       "        vertical-align: middle;\n",
       "    }\n",
       "\n",
       "    .dataframe tbody tr th {\n",
       "        vertical-align: top;\n",
       "    }\n",
       "\n",
       "    .dataframe thead th {\n",
       "        text-align: right;\n",
       "    }\n",
       "</style>\n",
       "<table border=\"1\" class=\"dataframe\">\n",
       "  <thead>\n",
       "    <tr style=\"text-align: right;\">\n",
       "      <th></th>\n",
       "      <th>gender</th>\n",
       "      <th>near_location</th>\n",
       "      <th>partner</th>\n",
       "      <th>promo_friends</th>\n",
       "      <th>phone</th>\n",
       "      <th>contract_period</th>\n",
       "      <th>group_visits</th>\n",
       "      <th>age</th>\n",
       "      <th>avg_additional_charges_total</th>\n",
       "      <th>month_to_end_contract</th>\n",
       "      <th>lifetime</th>\n",
       "      <th>avg_class_frequency_total</th>\n",
       "      <th>avg_class_frequency_current_month</th>\n",
       "      <th>churn</th>\n",
       "    </tr>\n",
       "    <tr>\n",
       "      <th>cluster_km</th>\n",
       "      <th></th>\n",
       "      <th></th>\n",
       "      <th></th>\n",
       "      <th></th>\n",
       "      <th></th>\n",
       "      <th></th>\n",
       "      <th></th>\n",
       "      <th></th>\n",
       "      <th></th>\n",
       "      <th></th>\n",
       "      <th></th>\n",
       "      <th></th>\n",
       "      <th></th>\n",
       "      <th></th>\n",
       "    </tr>\n",
       "  </thead>\n",
       "  <tbody>\n",
       "    <tr>\n",
       "      <th>0</th>\n",
       "      <td>0.502970</td>\n",
       "      <td>0.959406</td>\n",
       "      <td>0.783168</td>\n",
       "      <td>0.574257</td>\n",
       "      <td>1.000000</td>\n",
       "      <td>10.889109</td>\n",
       "      <td>0.542574</td>\n",
       "      <td>29.982178</td>\n",
       "      <td>160.761016</td>\n",
       "      <td>9.954455</td>\n",
       "      <td>4.736634</td>\n",
       "      <td>1.982055</td>\n",
       "      <td>1.974789</td>\n",
       "      <td>0.027723</td>\n",
       "    </tr>\n",
       "    <tr>\n",
       "      <th>1</th>\n",
       "      <td>0.522078</td>\n",
       "      <td>0.862338</td>\n",
       "      <td>0.470130</td>\n",
       "      <td>0.306494</td>\n",
       "      <td>0.000000</td>\n",
       "      <td>4.787013</td>\n",
       "      <td>0.425974</td>\n",
       "      <td>29.301299</td>\n",
       "      <td>143.957664</td>\n",
       "      <td>4.475325</td>\n",
       "      <td>3.924675</td>\n",
       "      <td>1.847220</td>\n",
       "      <td>1.716369</td>\n",
       "      <td>0.267532</td>\n",
       "    </tr>\n",
       "    <tr>\n",
       "      <th>2</th>\n",
       "      <td>0.495050</td>\n",
       "      <td>0.000000</td>\n",
       "      <td>0.463366</td>\n",
       "      <td>0.079208</td>\n",
       "      <td>1.000000</td>\n",
       "      <td>2.352475</td>\n",
       "      <td>0.215842</td>\n",
       "      <td>28.477228</td>\n",
       "      <td>135.457501</td>\n",
       "      <td>2.198020</td>\n",
       "      <td>2.809901</td>\n",
       "      <td>1.660461</td>\n",
       "      <td>1.477324</td>\n",
       "      <td>0.443564</td>\n",
       "    </tr>\n",
       "    <tr>\n",
       "      <th>3</th>\n",
       "      <td>0.485737</td>\n",
       "      <td>1.000000</td>\n",
       "      <td>0.350238</td>\n",
       "      <td>0.240095</td>\n",
       "      <td>1.000000</td>\n",
       "      <td>1.948494</td>\n",
       "      <td>0.341521</td>\n",
       "      <td>28.167987</td>\n",
       "      <td>131.622204</td>\n",
       "      <td>1.856577</td>\n",
       "      <td>2.440571</td>\n",
       "      <td>1.247634</td>\n",
       "      <td>1.012983</td>\n",
       "      <td>0.514263</td>\n",
       "    </tr>\n",
       "    <tr>\n",
       "      <th>4</th>\n",
       "      <td>0.559666</td>\n",
       "      <td>0.976134</td>\n",
       "      <td>0.356802</td>\n",
       "      <td>0.230310</td>\n",
       "      <td>0.998807</td>\n",
       "      <td>2.669451</td>\n",
       "      <td>0.473747</td>\n",
       "      <td>30.125298</td>\n",
       "      <td>161.657905</td>\n",
       "      <td>2.459427</td>\n",
       "      <td>4.898568</td>\n",
       "      <td>2.852002</td>\n",
       "      <td>2.850161</td>\n",
       "      <td>0.068019</td>\n",
       "    </tr>\n",
       "  </tbody>\n",
       "</table>\n",
       "</div>"
      ],
      "text/plain": [
       "              gender  near_location   partner  promo_friends     phone  \\\n",
       "cluster_km                                                               \n",
       "0           0.502970       0.959406  0.783168       0.574257  1.000000   \n",
       "1           0.522078       0.862338  0.470130       0.306494  0.000000   \n",
       "2           0.495050       0.000000  0.463366       0.079208  1.000000   \n",
       "3           0.485737       1.000000  0.350238       0.240095  1.000000   \n",
       "4           0.559666       0.976134  0.356802       0.230310  0.998807   \n",
       "\n",
       "            contract_period  group_visits        age  \\\n",
       "cluster_km                                             \n",
       "0                 10.889109      0.542574  29.982178   \n",
       "1                  4.787013      0.425974  29.301299   \n",
       "2                  2.352475      0.215842  28.477228   \n",
       "3                  1.948494      0.341521  28.167987   \n",
       "4                  2.669451      0.473747  30.125298   \n",
       "\n",
       "            avg_additional_charges_total  month_to_end_contract  lifetime  \\\n",
       "cluster_km                                                                  \n",
       "0                             160.761016               9.954455  4.736634   \n",
       "1                             143.957664               4.475325  3.924675   \n",
       "2                             135.457501               2.198020  2.809901   \n",
       "3                             131.622204               1.856577  2.440571   \n",
       "4                             161.657905               2.459427  4.898568   \n",
       "\n",
       "            avg_class_frequency_total  avg_class_frequency_current_month  \\\n",
       "cluster_km                                                                 \n",
       "0                            1.982055                           1.974789   \n",
       "1                            1.847220                           1.716369   \n",
       "2                            1.660461                           1.477324   \n",
       "3                            1.247634                           1.012983   \n",
       "4                            2.852002                           2.850161   \n",
       "\n",
       "               churn  \n",
       "cluster_km            \n",
       "0           0.027723  \n",
       "1           0.267532  \n",
       "2           0.443564  \n",
       "3           0.514263  \n",
       "4           0.068019  "
      ]
     },
     "execution_count": 20,
     "metadata": {},
     "output_type": "execute_result"
    }
   ],
   "source": [
    "# сохраняем метки кластера в поле нашего датасета\n",
    "df['cluster_km'] = labels\n",
    "\n",
    "# выводим статистику по средним значениям признаков по кластеру\n",
    "df.groupby('cluster_km').agg('mean')"
   ]
  },
  {
   "cell_type": "markdown",
   "metadata": {},
   "source": [
    "**Вывод:**\n",
    "\n",
    "**Кластер 0:**\n",
    "\n",
    "* Живут или работают недалеко от фитнес-центра\n",
    "* Большинство являются сотрудниами компаний-партнеров - 78%\n",
    "* Пришли по акции друзей - 57%\n",
    "* Заключают договора на длительный срок - 11 месяцев\n",
    "* Чаще всех посещают групповые занятия - 54%\n",
    "* Самый долгий срок окончания абонемента - 10 месяцев\n",
    "* **Самый низкий отток - 3 %** \n",
    "\n",
    "**Кластер 1:**\n",
    "\n",
    "* Средний отток - 26%\n",
    "* Живут или работают недалеко от фитнес-центра\n",
    "* Единственный кластер, в котором клиенты не оставили номера телефонов\n",
    "* Заключают договора на средний срок - 4-5 месяцев\n",
    "* Чаще всех посещают клуб - 2.81 раз в неделю\n",
    "\n",
    "**Кластер 2:**\n",
    "\n",
    "* Живут или работают далеко от фитнес-центра\n",
    "* Пришли не по приглашению друзей - 7%\n",
    "* Заключают договора на малый срок - 2 месяца\n",
    "* Реже всех посещают групповые занятия - 21%\n",
    "* Высокий отток - 44% \n",
    "\n",
    "**Кластер 3:**\n",
    "\n",
    "* Живут или работают недалеко от фитнес-центра\n",
    "* Заключают договора на самый малый срок - 2 месяца\n",
    "* Реже всех посещают групповые занятия\n",
    "* Наименьший срок окончания абонемента - 2 месяцев\n",
    "* Наименьшее кол-во посещений за всё время и в последний месяц - 1.24\n",
    "* **Самый высокий отток - 51%**\n",
    "\n",
    "**Кластер 4:**\n",
    "\n",
    "* Живут или работают недалеко от фитнес-центра\n",
    "* Заключают договора на малый срок - 2 месяца\n",
    "* Самые большие траты на дополнительный услуги - 161 у.е.\n",
    "* Наибольшее кол-во посещений за всё время и в последний месяц - 2.85\n",
    "* Низкий отток - 6%"
   ]
  },
  {
   "cell_type": "markdown",
   "metadata": {},
   "source": [
    "**Распределение признаков для кластеров.**"
   ]
  },
  {
   "cell_type": "code",
   "execution_count": 21,
   "metadata": {
    "scrolled": true
   },
   "outputs": [
    {
     "data": {
      "image/png": "[encoded data removed]",
      "text/plain": [
       "<Figure size 1008x504 with 1 Axes>"
      ]
     },
     "metadata": {
      "needs_background": "light"
     },
     "output_type": "display_data"
    },
    {
     "data": {
      "image/png": "[encoded data removed]",
      "text/plain": [
       "<Figure size 1008x504 with 1 Axes>"
      ]
     },
     "metadata": {
      "needs_background": "light"
     },
     "output_type": "display_data"
    },
    {
     "data": {
      "image/png": "[encoded data removed]",
      "text/plain": [
       "<Figure size 1008x504 with 1 Axes>"
      ]
     },
     "metadata": {
      "needs_background": "light"
     },
     "output_type": "display_data"
    },
    {
     "data": {
      "image/png": "[encoded data removed]",
      "text/plain": [
       "<Figure size 1008x504 with 1 Axes>"
      ]
     },
     "metadata": {
      "needs_background": "light"
     },
     "output_type": "display_data"
    },
    {
     "data": {
      "image/png": "[encoded data removed]",
      "text/plain": [
       "<Figure size 1008x504 with 1 Axes>"
      ]
     },
     "metadata": {
      "needs_background": "light"
     },
     "output_type": "display_data"
    },
    {
     "data": {
      "image/png": "[encoded data removed]",
      "text/plain": [
       "<Figure size 1008x504 with 1 Axes>"
      ]
     },
     "metadata": {
      "needs_background": "light"
     },
     "output_type": "display_data"
    },
    {
     "data": {
      "image/png": "[encoded data removed]",
      "text/plain": [
       "<Figure size 1008x504 with 1 Axes>"
      ]
     },
     "metadata": {
      "needs_background": "light"
     },
     "output_type": "display_data"
    },
    {
     "data": {
      "image/png": "[encoded data removed]",
      "text/plain": [
       "<Figure size 1008x504 with 1 Axes>"
      ]
     },
     "metadata": {
      "needs_background": "light"
     },
     "output_type": "display_data"
    },
    {
     "data": {
      "image/png": "[encoded data removed]",
      "text/plain": [
       "<Figure size 1008x504 with 1 Axes>"
      ]
     },
     "metadata": {
      "needs_background": "light"
     },
     "output_type": "display_data"
    },
    {
     "data": {
      "image/png": "[encoded data removed]",
      "text/plain": [
       "<Figure size 1008x504 with 1 Axes>"
      ]
     },
     "metadata": {
      "needs_background": "light"
     },
     "output_type": "display_data"
    },
    {
     "data": {
      "image/png": "[encoded data removed]",
      "text/plain": [
       "<Figure size 1008x504 with 1 Axes>"
      ]
     },
     "metadata": {
      "needs_background": "light"
     },
     "output_type": "display_data"
    },
    {
     "data": {
      "image/png": "[encoded data removed]",
      "text/plain": [
       "<Figure size 1008x504 with 1 Axes>"
      ]
     },
     "metadata": {
      "needs_background": "light"
     },
     "output_type": "display_data"
    },
    {
     "data": {
      "image/png": "[encoded data removed]",
      "text/plain": [
       "<Figure size 1008x504 with 1 Axes>"
      ]
     },
     "metadata": {
      "needs_background": "light"
     },
     "output_type": "display_data"
    },
    {
     "data": {
      "image/png": "[encoded data removed]",
      "text/plain": [
       "<Figure size 1008x504 with 1 Axes>"
      ]
     },
     "metadata": {
      "needs_background": "light"
     },
     "output_type": "display_data"
    }
   ],
   "source": [
    "columns = df.drop(columns=['cluster_km'])\n",
    "for f in columns:\n",
    "    g = sns.displot(df, x=df[f], hue='cluster_km', multiple ='stack', palette='pastel') \n",
    "\n",
    "    plt.title(f'Признак - {f}')\n",
    "    plt.ylabel('Кол-во клиентов')\n",
    "    plt.xlabel('')\n",
    "    g.fig.set_figwidth(14)\n",
    "    g.fig.set_figheight(7)"
   ]
  },
  {
   "cell_type": "markdown",
   "metadata": {},
   "source": [
    "**Вывод:**\n",
    "\n",
    "* Распределение по полу во всех кластерах практически равное. В кластере 3 больше больше всего клиентов.\n",
    "* Кластер 2 - единственный, в котором клиенты живущут далеко от фитнес-зала.\n",
    "* В кластере 2 наибольшая часть клиентов (78%) - сотрудники компании-партнёра клуба. В остальных кластерах количество таких клиентов меньше половины.\n",
    "* В кластере 0, клиенты, которые пришли в фитнес-зал по акции. В кластере 2 находятся клиенты, пришедшие в фитнес-зал сами.\n",
    "* Клиенты всех кластеров, кроме 1, оставили номер телефона.\n",
    "* В 4 кластере - клиенты с максимально долгим абонементом. В 3 кластере - наоборот наименьший срок действия абонемента (меньше  2 месяцев).\n",
    "* Клиенты кластера 3 меньше всего посещают групповые занятия (21%). В остальных кластерах клиенты разделены примерно поровну.\n",
    "* Средний возраст клиентов всех кластеров распределен равномерно,в районе 28-30 лет.\n",
    "* Чуть больше трат замечено в кластерах 0 и 4 (160 у.е.), в остальных траты в районе (131 -143 у.е.).\n",
    "* Больше всего времени до окончания абонемента осталось у клиентов кластера 0 (10 месяцев), меньше всего времени есть у кластеров 2,3,и 4 (около 2 месяцев).\n",
    "* Среднее время с момента первого обращения в фитнес-зал у кластера 0 (4.7 месяца), у клиентов из кластера 3 это значение наименьшее (2.4 месяца).\n",
    "* За прошедших месяц чаще всего ходят в зал клиенты из кластера 4 (2.8 раз в неделю), меньше всего из кластера 3 (1.24 раз в неделю). \n",
    "* За всё время картина частоты похода в зал практически идентична предыдущему графику.\n",
    "* В 0 и 4 кластерах собраны клиенты с меньшим оттоком (2% и 6%), в 3 и 4 кластерах средний отток больше (44% и 51%)."
   ]
  },
  {
   "cell_type": "markdown",
   "metadata": {},
   "source": [
    "**Для каждого полученного кластера посчитаем долю оттока методом groupby().**"
   ]
  },
  {
   "cell_type": "code",
   "execution_count": 22,
   "metadata": {},
   "outputs": [
    {
     "data": {
      "text/plain": [
       "cluster_km\n",
       "0    0.027723\n",
       "1    0.267532\n",
       "2    0.443564\n",
       "3    0.514263\n",
       "4    0.068019\n",
       "Name: churn, dtype: float64"
      ]
     },
     "execution_count": 22,
     "metadata": {},
     "output_type": "execute_result"
    }
   ],
   "source": [
    "churn_share = df.groupby('cluster_km')['churn'].agg('sum') / df.groupby('cluster_km')['churn'].count()\n",
    "churn_share"
   ]
  },
  {
   "cell_type": "markdown",
   "metadata": {},
   "source": [
    "Кластеры 1 и 3 склонны к оттоку (41 - 51% клентов ушло), кластеры 0 и 4 более надёжны (ушло только 2 - 6% клиентов)."
   ]
  },
  {
   "cell_type": "markdown",
   "metadata": {},
   "source": [
    "## Общие выводы и рекомендации"
   ]
  },
  {
   "cell_type": "markdown",
   "metadata": {},
   "source": [
    "Была проведена большая работа по прогнозированию оттока клиентов сети фитнес-центров «Культурист-датасаентист». На основе чего можно сделать следующие выводы.\n",
    "\n",
    "1\\. **Подготовка данных:**\n",
    "\n",
    "* Всего имеется 14 столбцов и 4000 строк с двумя типами данных `int64` и `float64`.\n",
    "* Названия столбцов приведены к единому регистру - нижнему.\n",
    "* С типами данных всё в порядке, вмешательство не требуется.\n",
    "* Пропуски не обнаружены.\n",
    "* Дубликаты не обнаружены.\n",
    "\n",
    "2\\. **Исследовательский анализ данных EDA:**\n",
    "\n",
    "* Распределение по полу примерно равное как для тех кто ушел, так и для тех, кто остался.\n",
    "* Клиенты, живущие/работающие недалеко реже попадают в отток.\n",
    "* Сотрудники компаний-партнеров реже перестают посещать фитнесс-клуб чем остальные клиенты.\n",
    "* Клиенты, пришедшие по акции \"Приведи друга\" в два раза реже попадают в отток.\n",
    "* Признак phone (контактный телефон) для обеих групп одинаков по 90%.\n",
    "* Средняя длительность договора полне логично больше у оставшихся пользователей - 5-6 месяцев, у большей части клиентов в оттоке срок договора составляет 1-2 месяца.\n",
    "* Заметно, что среди тех, кто ушел, только 26% посещали групповые занятие, а среди тех, кто остался, таких 46%.\n",
    "* Средний возрастр клиентов оттока чуть меньше - 27 лет против 30 лет.\n",
    "* Есть небольшое различие в выручке от других услуг фитнес-центра 115 у.е. - для ушедших, а среди оставшихся - 158 у.е.\n",
    "* Лайфтайм для групп сильно отличается. Для ушедших он равен меньше 1 месяца, что свидетельствует от незаинтересованности последних.\n",
    "* В среднем те, кто ушел, приходили на занятия:\n",
    "   - за все время - на ~25% реже;\n",
    "   - за предыдущий месяц - в два раза реже;\n",
    " \n",
    "3\\. **Кластеризация:**\n",
    "\n",
    "**Кластер 0:**\n",
    "\n",
    "* Живут или работают недалеко от фитнес-центра\n",
    "* Большинство являются сотрудниами компаний-партнеров - 78%\n",
    "* Пришли по акции друзей - 57%\n",
    "* Заключают договора на длительный срок - 11 месяцев\n",
    "* Чаще всех посещают групповые занятия - 54%\n",
    "* Самый долгий срок окончания абонемента - 10 месяцев\n",
    "* **Самый низкий отток - 3 %** \n",
    "\n",
    "**Кластер 1:**\n",
    "\n",
    "* Средний отток - 26%\n",
    "* Живут или работают недалеко от фитнес-центра\n",
    "* Единственный кластер, в котором клиенты не оставили номера телефонов\n",
    "* Заключают договора на средний срок - 4-5 месяцев\n",
    "* Чаще всех посещают клуб - 2.81 раз в неделю\n",
    "\n",
    "**Кластер 2:**\n",
    "\n",
    "* Живут или работают далеко от фитнес-центра\n",
    "* Пришли не по приглашению друзей - 7%\n",
    "* Заключают договора на малый срок - 2 месяца\n",
    "* Реже всех посещают групповые занятия - 21%\n",
    "* Высокий отток - 44% \n",
    "\n",
    "**Кластер 3:**\n",
    "\n",
    "* Живут или работают недалеко от фитнес-центра\n",
    "* Заключают договора на самый малый срок - 2 месяца\n",
    "* Реже всех посещают групповые занятия\n",
    "* Наименьший срок окончания абонемента - 2 месяцев\n",
    "* Наименьшее кол-во посещений за всё время и в последний месяц - 1.24\n",
    "* **Самый высокий отток - 51%**\n",
    "\n",
    "**Кластер 4:**\n",
    "\n",
    "* Живут или работают недалеко от фитнес-центра\n",
    "* Заключают договора на малый срок - 2 месяца\n",
    "* Самые большие траты на дополнительный услуги - 161 у.е.\n",
    "* Наибольшее кол-во посещений за всё время и в последний месяц - 2.85\n",
    "* Низкий отток - 6%\n",
    "\n",
    "**Рекомендации по работе с клиентами:**\n",
    "1. Внедрение индивидуального подхода к клиентам. Проявление заинтересованности в их целях, предложение советов и помощи в достижении желаемого результата.\n",
    "2. Организация приятной атмосферы в зале, поддержание чистоты и исправности тренажеров для стимулирования клиентов к более частым походам на тренировки.\n",
    "3. Развитие социального взаимодействия через популярные интернет-ресурсы. Там же афишировать партнерские программы и промо-акции."
   ]
  }
 ],
 "metadata": {
  "ExecuteTimeLog": [
   {
    "duration": 1329,
    "start_time": "2022-08-08T13:13:43.946Z"
   },
   {
    "duration": 68,
    "start_time": "2022-08-08T13:27:00.963Z"
   },
   {
    "duration": 44,
    "start_time": "2022-08-08T13:27:10.984Z"
   },
   {
    "duration": 11,
    "start_time": "2022-08-08T13:31:43.617Z"
   },
   {
    "duration": 39,
    "start_time": "2022-08-08T13:35:03.228Z"
   },
   {
    "duration": 3,
    "start_time": "2022-08-08T13:39:20.822Z"
   },
   {
    "duration": 15,
    "start_time": "2022-08-08T13:39:24.340Z"
   },
   {
    "duration": 6,
    "start_time": "2022-08-08T13:41:19.540Z"
   },
   {
    "duration": 8,
    "start_time": "2022-08-08T13:41:40.725Z"
   },
   {
    "duration": 1857,
    "start_time": "2022-08-08T13:43:07.693Z"
   },
   {
    "duration": 44,
    "start_time": "2022-08-08T13:43:09.552Z"
   },
   {
    "duration": 10,
    "start_time": "2022-08-08T13:43:09.597Z"
   },
   {
    "duration": 3,
    "start_time": "2022-08-08T13:43:09.610Z"
   },
   {
    "duration": 33,
    "start_time": "2022-08-08T13:43:09.615Z"
   },
   {
    "duration": 11,
    "start_time": "2022-08-08T13:43:09.649Z"
   },
   {
    "duration": 49,
    "start_time": "2022-08-08T13:43:09.661Z"
   },
   {
    "duration": 15,
    "start_time": "2022-08-08T14:50:08.128Z"
   },
   {
    "duration": 1662,
    "start_time": "2022-08-09T13:18:14.944Z"
   },
   {
    "duration": 154,
    "start_time": "2022-08-09T13:18:16.608Z"
   },
   {
    "duration": 19,
    "start_time": "2022-08-09T13:18:16.765Z"
   },
   {
    "duration": 4,
    "start_time": "2022-08-09T13:18:16.786Z"
   },
   {
    "duration": 18,
    "start_time": "2022-08-09T13:18:16.792Z"
   },
   {
    "duration": 14,
    "start_time": "2022-08-09T13:18:16.811Z"
   },
   {
    "duration": 57,
    "start_time": "2022-08-09T13:18:16.827Z"
   },
   {
    "duration": 28,
    "start_time": "2022-08-09T13:18:16.905Z"
   },
   {
    "duration": 133,
    "start_time": "2022-08-09T13:18:16.936Z"
   },
   {
    "duration": 0,
    "start_time": "2022-08-09T13:18:17.071Z"
   },
   {
    "duration": 0,
    "start_time": "2022-08-09T13:18:17.073Z"
   },
   {
    "duration": 15,
    "start_time": "2022-08-09T13:18:55.002Z"
   },
   {
    "duration": 14,
    "start_time": "2022-08-09T13:19:04.435Z"
   },
   {
    "duration": 5,
    "start_time": "2022-08-09T13:20:10.869Z"
   },
   {
    "duration": 38,
    "start_time": "2022-08-09T13:20:11.310Z"
   },
   {
    "duration": 9,
    "start_time": "2022-08-09T13:20:11.766Z"
   },
   {
    "duration": 3,
    "start_time": "2022-08-09T13:20:12.237Z"
   },
   {
    "duration": 6,
    "start_time": "2022-08-09T13:20:12.805Z"
   },
   {
    "duration": 12,
    "start_time": "2022-08-09T13:20:13.693Z"
   },
   {
    "duration": 77,
    "start_time": "2022-08-09T13:20:15.101Z"
   },
   {
    "duration": 25,
    "start_time": "2022-08-09T13:20:16.181Z"
   },
   {
    "duration": 23,
    "start_time": "2022-08-09T13:20:17.222Z"
   },
   {
    "duration": 10,
    "start_time": "2022-08-09T13:20:17.837Z"
   },
   {
    "duration": 11,
    "start_time": "2022-08-09T13:20:26.269Z"
   },
   {
    "duration": 2341,
    "start_time": "2022-08-09T13:20:51.277Z"
   },
   {
    "duration": 14,
    "start_time": "2022-08-09T13:23:26.068Z"
   },
   {
    "duration": 2385,
    "start_time": "2022-08-09T13:23:50.055Z"
   },
   {
    "duration": 4,
    "start_time": "2022-08-09T13:33:36.128Z"
   },
   {
    "duration": 3,
    "start_time": "2022-08-09T13:33:51.274Z"
   },
   {
    "duration": 10,
    "start_time": "2022-08-09T13:44:09.610Z"
   },
   {
    "duration": 16,
    "start_time": "2022-08-09T13:45:08.239Z"
   },
   {
    "duration": 1681,
    "start_time": "2022-08-09T13:46:58.520Z"
   },
   {
    "duration": 75,
    "start_time": "2022-08-09T13:47:07.639Z"
   },
   {
    "duration": 2123,
    "start_time": "2022-08-09T13:47:17.087Z"
   },
   {
    "duration": 2397,
    "start_time": "2022-08-09T13:47:28.345Z"
   },
   {
    "duration": 2294,
    "start_time": "2022-08-09T13:48:27.765Z"
   },
   {
    "duration": 310,
    "start_time": "2022-08-09T13:48:30.061Z"
   },
   {
    "duration": 2298,
    "start_time": "2022-08-09T13:48:31.128Z"
   },
   {
    "duration": 11,
    "start_time": "2022-08-09T13:52:54.239Z"
   },
   {
    "duration": 13,
    "start_time": "2022-08-09T13:52:58.905Z"
   },
   {
    "duration": 16,
    "start_time": "2022-08-09T13:52:59.192Z"
   },
   {
    "duration": 2303,
    "start_time": "2022-08-09T13:53:08.305Z"
   },
   {
    "duration": 2416,
    "start_time": "2022-08-09T13:53:10.609Z"
   },
   {
    "duration": 1410,
    "start_time": "2022-08-09T13:54:38.736Z"
   },
   {
    "duration": 45,
    "start_time": "2022-08-09T13:54:40.148Z"
   },
   {
    "duration": 18,
    "start_time": "2022-08-09T13:54:40.195Z"
   },
   {
    "duration": 4,
    "start_time": "2022-08-09T13:54:40.216Z"
   },
   {
    "duration": 11,
    "start_time": "2022-08-09T13:54:40.223Z"
   },
   {
    "duration": 12,
    "start_time": "2022-08-09T13:54:40.236Z"
   },
   {
    "duration": 75,
    "start_time": "2022-08-09T13:54:40.250Z"
   },
   {
    "duration": 16,
    "start_time": "2022-08-09T13:54:40.327Z"
   },
   {
    "duration": 173,
    "start_time": "2022-08-09T13:54:40.344Z"
   },
   {
    "duration": 0,
    "start_time": "2022-08-09T13:54:40.519Z"
   },
   {
    "duration": 2222,
    "start_time": "2022-08-09T13:55:00.851Z"
   },
   {
    "duration": 1441,
    "start_time": "2022-08-09T13:55:03.075Z"
   },
   {
    "duration": 2261,
    "start_time": "2022-08-09T13:57:08.129Z"
   },
   {
    "duration": 2394,
    "start_time": "2022-08-09T13:57:48.486Z"
   },
   {
    "duration": 2335,
    "start_time": "2022-08-09T13:57:59.111Z"
   },
   {
    "duration": 2238,
    "start_time": "2022-08-09T13:58:44.359Z"
   },
   {
    "duration": 2530,
    "start_time": "2022-08-09T13:58:54.687Z"
   },
   {
    "duration": 2194,
    "start_time": "2022-08-09T13:59:06.974Z"
   },
   {
    "duration": 18,
    "start_time": "2022-08-09T13:59:29.478Z"
   },
   {
    "duration": 2611,
    "start_time": "2022-08-09T14:01:33.143Z"
   },
   {
    "duration": 2157,
    "start_time": "2022-08-09T14:03:05.440Z"
   },
   {
    "duration": 2163,
    "start_time": "2022-08-09T14:03:20.545Z"
   },
   {
    "duration": 156,
    "start_time": "2022-08-09T14:03:29.009Z"
   },
   {
    "duration": 2166,
    "start_time": "2022-08-09T14:03:37.345Z"
   },
   {
    "duration": 2159,
    "start_time": "2022-08-09T14:04:42.282Z"
   },
   {
    "duration": 1465,
    "start_time": "2022-08-09T14:07:15.265Z"
   },
   {
    "duration": 1451,
    "start_time": "2022-08-09T14:07:46.465Z"
   },
   {
    "duration": 2456,
    "start_time": "2022-08-09T14:09:49.434Z"
   },
   {
    "duration": 1561,
    "start_time": "2022-08-09T14:10:06.892Z"
   },
   {
    "duration": 2286,
    "start_time": "2022-08-09T14:10:25.698Z"
   },
   {
    "duration": 1742,
    "start_time": "2022-08-09T14:10:32.236Z"
   },
   {
    "duration": 1474,
    "start_time": "2022-08-09T14:10:37.562Z"
   },
   {
    "duration": 2369,
    "start_time": "2022-08-09T14:15:28.901Z"
   },
   {
    "duration": 1465,
    "start_time": "2022-08-09T14:15:36.852Z"
   },
   {
    "duration": 1516,
    "start_time": "2022-08-09T14:15:49.085Z"
   },
   {
    "duration": 1362,
    "start_time": "2022-08-09T14:18:37.512Z"
   },
   {
    "duration": 45,
    "start_time": "2022-08-09T14:18:38.876Z"
   },
   {
    "duration": 13,
    "start_time": "2022-08-09T14:18:38.923Z"
   },
   {
    "duration": 3,
    "start_time": "2022-08-09T14:18:38.938Z"
   },
   {
    "duration": 13,
    "start_time": "2022-08-09T14:18:38.942Z"
   },
   {
    "duration": 10,
    "start_time": "2022-08-09T14:18:38.956Z"
   },
   {
    "duration": 76,
    "start_time": "2022-08-09T14:18:38.968Z"
   },
   {
    "duration": 18,
    "start_time": "2022-08-09T14:18:39.045Z"
   },
   {
    "duration": 2180,
    "start_time": "2022-08-09T14:18:39.066Z"
   },
   {
    "duration": 1494,
    "start_time": "2022-08-09T14:18:41.249Z"
   },
   {
    "duration": 2002,
    "start_time": "2022-08-09T14:19:07.070Z"
   },
   {
    "duration": 1313,
    "start_time": "2022-08-09T14:19:18.405Z"
   },
   {
    "duration": 87,
    "start_time": "2022-08-09T14:21:16.095Z"
   },
   {
    "duration": 104,
    "start_time": "2022-08-09T14:28:46.912Z"
   },
   {
    "duration": 1511,
    "start_time": "2022-08-09T14:28:53.138Z"
   },
   {
    "duration": 1361,
    "start_time": "2022-08-09T14:29:11.201Z"
   },
   {
    "duration": 1383,
    "start_time": "2022-08-09T14:29:34.378Z"
   },
   {
    "duration": 1599,
    "start_time": "2022-08-09T14:29:38.577Z"
   },
   {
    "duration": 1353,
    "start_time": "2022-08-09T14:29:58.754Z"
   },
   {
    "duration": 2,
    "start_time": "2022-08-09T14:33:38.692Z"
   },
   {
    "duration": 2,
    "start_time": "2022-08-09T14:33:40.043Z"
   },
   {
    "duration": 1313,
    "start_time": "2022-08-09T14:57:54.042Z"
   },
   {
    "duration": 44,
    "start_time": "2022-08-09T14:57:55.357Z"
   },
   {
    "duration": 11,
    "start_time": "2022-08-09T14:57:55.402Z"
   },
   {
    "duration": 4,
    "start_time": "2022-08-09T14:57:55.415Z"
   },
   {
    "duration": 9,
    "start_time": "2022-08-09T14:57:55.420Z"
   },
   {
    "duration": 13,
    "start_time": "2022-08-09T14:57:55.431Z"
   },
   {
    "duration": 77,
    "start_time": "2022-08-09T14:57:55.446Z"
   },
   {
    "duration": 16,
    "start_time": "2022-08-09T14:57:55.524Z"
   },
   {
    "duration": 2350,
    "start_time": "2022-08-09T14:57:55.542Z"
   },
   {
    "duration": 1530,
    "start_time": "2022-08-09T14:57:57.894Z"
   },
   {
    "duration": 1482,
    "start_time": "2022-08-09T14:57:59.425Z"
   },
   {
    "duration": 7,
    "start_time": "2022-08-09T14:58:00.908Z"
   },
   {
    "duration": 27,
    "start_time": "2022-08-09T14:58:00.916Z"
   },
   {
    "duration": 1583,
    "start_time": "2022-08-09T17:46:29.395Z"
   },
   {
    "duration": 80,
    "start_time": "2022-08-09T17:46:30.981Z"
   },
   {
    "duration": 12,
    "start_time": "2022-08-09T17:46:31.063Z"
   },
   {
    "duration": 3,
    "start_time": "2022-08-09T17:46:31.077Z"
   },
   {
    "duration": 9,
    "start_time": "2022-08-09T17:46:31.081Z"
   },
   {
    "duration": 26,
    "start_time": "2022-08-09T17:46:31.092Z"
   },
   {
    "duration": 47,
    "start_time": "2022-08-09T17:46:31.119Z"
   },
   {
    "duration": 20,
    "start_time": "2022-08-09T17:46:31.167Z"
   },
   {
    "duration": 2350,
    "start_time": "2022-08-09T17:46:31.189Z"
   },
   {
    "duration": 1373,
    "start_time": "2022-08-09T17:46:33.541Z"
   },
   {
    "duration": 1552,
    "start_time": "2022-08-09T17:46:34.915Z"
   },
   {
    "duration": 6,
    "start_time": "2022-08-09T17:46:36.469Z"
   },
   {
    "duration": 11,
    "start_time": "2022-08-09T17:46:36.477Z"
   },
   {
    "duration": 1284,
    "start_time": "2022-08-09T17:46:36.490Z"
   },
   {
    "duration": 16,
    "start_time": "2022-08-09T17:57:38.938Z"
   },
   {
    "duration": 591,
    "start_time": "2022-08-09T17:57:53.661Z"
   },
   {
    "duration": 12,
    "start_time": "2022-08-09T18:28:55.153Z"
   },
   {
    "duration": 747,
    "start_time": "2022-08-09T18:29:01.025Z"
   },
   {
    "duration": 1373,
    "start_time": "2022-08-09T18:40:55.779Z"
   },
   {
    "duration": 43,
    "start_time": "2022-08-09T18:40:57.154Z"
   },
   {
    "duration": 11,
    "start_time": "2022-08-09T18:40:57.199Z"
   },
   {
    "duration": 3,
    "start_time": "2022-08-09T18:40:57.211Z"
   },
   {
    "duration": 9,
    "start_time": "2022-08-09T18:40:57.216Z"
   },
   {
    "duration": 13,
    "start_time": "2022-08-09T18:40:57.227Z"
   },
   {
    "duration": 39,
    "start_time": "2022-08-09T18:40:57.242Z"
   },
   {
    "duration": 39,
    "start_time": "2022-08-09T18:40:57.282Z"
   },
   {
    "duration": 2000,
    "start_time": "2022-08-09T18:40:57.322Z"
   },
   {
    "duration": 1368,
    "start_time": "2022-08-09T18:40:59.325Z"
   },
   {
    "duration": 1317,
    "start_time": "2022-08-09T18:41:00.695Z"
   },
   {
    "duration": 7,
    "start_time": "2022-08-09T18:41:02.014Z"
   },
   {
    "duration": 40,
    "start_time": "2022-08-09T18:41:02.023Z"
   },
   {
    "duration": 5,
    "start_time": "2022-08-09T18:41:02.065Z"
   },
   {
    "duration": 929,
    "start_time": "2022-08-09T18:41:02.071Z"
   },
   {
    "duration": 4,
    "start_time": "2022-08-09T18:41:22.227Z"
   },
   {
    "duration": 648,
    "start_time": "2022-08-09T18:41:23.501Z"
   },
   {
    "duration": 57,
    "start_time": "2022-08-09T18:45:55.838Z"
   },
   {
    "duration": 46,
    "start_time": "2022-08-09T18:45:58.491Z"
   },
   {
    "duration": 66,
    "start_time": "2022-08-09T18:46:44.494Z"
   },
   {
    "duration": 1378,
    "start_time": "2022-08-09T18:46:53.355Z"
   },
   {
    "duration": 43,
    "start_time": "2022-08-09T18:46:54.735Z"
   },
   {
    "duration": 11,
    "start_time": "2022-08-09T18:46:54.780Z"
   },
   {
    "duration": 3,
    "start_time": "2022-08-09T18:46:54.793Z"
   },
   {
    "duration": 7,
    "start_time": "2022-08-09T18:46:54.798Z"
   },
   {
    "duration": 9,
    "start_time": "2022-08-09T18:46:54.807Z"
   },
   {
    "duration": 42,
    "start_time": "2022-08-09T18:46:54.818Z"
   },
   {
    "duration": 13,
    "start_time": "2022-08-09T18:46:54.861Z"
   },
   {
    "duration": 2001,
    "start_time": "2022-08-09T18:46:54.876Z"
   },
   {
    "duration": 1388,
    "start_time": "2022-08-09T18:46:56.880Z"
   },
   {
    "duration": 1348,
    "start_time": "2022-08-09T18:46:58.270Z"
   },
   {
    "duration": 6,
    "start_time": "2022-08-09T18:46:59.620Z"
   },
   {
    "duration": 27,
    "start_time": "2022-08-09T18:46:59.627Z"
   },
   {
    "duration": 48,
    "start_time": "2022-08-09T18:46:59.655Z"
   },
   {
    "duration": 0,
    "start_time": "2022-08-09T18:46:59.705Z"
   },
   {
    "duration": 4,
    "start_time": "2022-08-09T18:47:23.647Z"
   },
   {
    "duration": 516,
    "start_time": "2022-08-09T18:47:27.729Z"
   },
   {
    "duration": 4,
    "start_time": "2022-08-09T18:48:51.859Z"
   },
   {
    "duration": 521,
    "start_time": "2022-08-09T18:48:53.319Z"
   },
   {
    "duration": 5,
    "start_time": "2022-08-09T18:50:12.854Z"
   },
   {
    "duration": 498,
    "start_time": "2022-08-09T18:50:14.264Z"
   },
   {
    "duration": 4,
    "start_time": "2022-08-09T18:50:54.282Z"
   },
   {
    "duration": 585,
    "start_time": "2022-08-09T18:50:54.969Z"
   },
   {
    "duration": 4,
    "start_time": "2022-08-09T18:51:05.291Z"
   },
   {
    "duration": 581,
    "start_time": "2022-08-09T18:51:08.363Z"
   },
   {
    "duration": 4,
    "start_time": "2022-08-09T18:51:14.840Z"
   },
   {
    "duration": 620,
    "start_time": "2022-08-09T18:51:18.134Z"
   },
   {
    "duration": 4,
    "start_time": "2022-08-09T18:51:23.689Z"
   },
   {
    "duration": 639,
    "start_time": "2022-08-09T18:51:26.112Z"
   },
   {
    "duration": 4,
    "start_time": "2022-08-09T18:55:29.878Z"
   },
   {
    "duration": 503,
    "start_time": "2022-08-09T18:55:33.471Z"
   },
   {
    "duration": 3,
    "start_time": "2022-08-09T18:55:45.675Z"
   },
   {
    "duration": 498,
    "start_time": "2022-08-09T18:55:49.448Z"
   },
   {
    "duration": 4,
    "start_time": "2022-08-09T18:56:12.294Z"
   },
   {
    "duration": 504,
    "start_time": "2022-08-09T18:57:04.046Z"
   },
   {
    "duration": 9,
    "start_time": "2022-08-09T19:05:16.609Z"
   },
   {
    "duration": 97209,
    "start_time": "2022-08-09T19:05:55.065Z"
   },
   {
    "duration": 0,
    "start_time": "2022-08-09T19:10:58.610Z"
   },
   {
    "duration": 9,
    "start_time": "2022-08-09T19:15:32.076Z"
   },
   {
    "duration": 982,
    "start_time": "2022-08-09T19:15:42.931Z"
   },
   {
    "duration": 1003,
    "start_time": "2022-08-09T19:15:50.613Z"
   },
   {
    "duration": 910,
    "start_time": "2022-08-09T19:15:55.604Z"
   },
   {
    "duration": 718,
    "start_time": "2022-08-09T19:16:06.094Z"
   },
   {
    "duration": 438,
    "start_time": "2022-08-09T19:16:31.585Z"
   },
   {
    "duration": 18,
    "start_time": "2022-08-09T19:17:25.978Z"
   },
   {
    "duration": 11,
    "start_time": "2022-08-09T19:22:18.291Z"
   },
   {
    "duration": 1394,
    "start_time": "2022-08-09T19:23:09.576Z"
   },
   {
    "duration": 44,
    "start_time": "2022-08-09T19:23:10.972Z"
   },
   {
    "duration": 12,
    "start_time": "2022-08-09T19:23:11.018Z"
   },
   {
    "duration": 3,
    "start_time": "2022-08-09T19:23:11.033Z"
   },
   {
    "duration": 9,
    "start_time": "2022-08-09T19:23:11.037Z"
   },
   {
    "duration": 11,
    "start_time": "2022-08-09T19:23:11.047Z"
   },
   {
    "duration": 81,
    "start_time": "2022-08-09T19:23:11.059Z"
   },
   {
    "duration": 15,
    "start_time": "2022-08-09T19:23:11.142Z"
   },
   {
    "duration": 2111,
    "start_time": "2022-08-09T19:23:11.158Z"
   },
   {
    "duration": 1376,
    "start_time": "2022-08-09T19:23:13.272Z"
   },
   {
    "duration": 1297,
    "start_time": "2022-08-09T19:23:14.650Z"
   },
   {
    "duration": 6,
    "start_time": "2022-08-09T19:23:15.948Z"
   },
   {
    "duration": 12,
    "start_time": "2022-08-09T19:23:15.956Z"
   },
   {
    "duration": 5,
    "start_time": "2022-08-09T19:23:15.969Z"
   },
   {
    "duration": 591,
    "start_time": "2022-08-09T19:23:15.975Z"
   },
   {
    "duration": 8,
    "start_time": "2022-08-09T19:23:16.567Z"
   },
   {
    "duration": 97683,
    "start_time": "2022-08-09T19:23:16.576Z"
   },
   {
    "duration": 1051,
    "start_time": "2022-08-09T19:24:54.261Z"
   },
   {
    "duration": 96,
    "start_time": "2022-08-09T19:24:55.314Z"
   },
   {
    "duration": 499,
    "start_time": "2022-08-09T19:24:55.413Z"
   },
   {
    "duration": 128,
    "start_time": "2022-08-09T19:45:18.210Z"
   },
   {
    "duration": 12,
    "start_time": "2022-08-09T19:45:30.599Z"
   },
   {
    "duration": 9,
    "start_time": "2022-08-09T19:46:39.332Z"
   },
   {
    "duration": 10,
    "start_time": "2022-08-09T19:47:39.310Z"
   },
   {
    "duration": 11381,
    "start_time": "2022-08-09T19:48:41.131Z"
   },
   {
    "duration": 11,
    "start_time": "2022-08-09T19:49:39.532Z"
   },
   {
    "duration": 1388,
    "start_time": "2022-08-09T20:19:03.088Z"
   },
   {
    "duration": 43,
    "start_time": "2022-08-09T20:19:04.478Z"
   },
   {
    "duration": 12,
    "start_time": "2022-08-09T20:19:04.523Z"
   },
   {
    "duration": 20,
    "start_time": "2022-08-09T20:19:04.537Z"
   },
   {
    "duration": 22,
    "start_time": "2022-08-09T20:19:04.559Z"
   },
   {
    "duration": 25,
    "start_time": "2022-08-09T20:19:04.582Z"
   },
   {
    "duration": 47,
    "start_time": "2022-08-09T20:19:04.608Z"
   },
   {
    "duration": 14,
    "start_time": "2022-08-09T20:19:04.657Z"
   },
   {
    "duration": 1871,
    "start_time": "2022-08-09T20:19:04.672Z"
   },
   {
    "duration": 1227,
    "start_time": "2022-08-09T20:19:06.546Z"
   },
   {
    "duration": 1408,
    "start_time": "2022-08-09T20:19:07.775Z"
   },
   {
    "duration": 9,
    "start_time": "2022-08-09T20:19:09.185Z"
   },
   {
    "duration": 13,
    "start_time": "2022-08-09T20:19:09.198Z"
   },
   {
    "duration": 5,
    "start_time": "2022-08-09T20:19:09.213Z"
   },
   {
    "duration": 718,
    "start_time": "2022-08-09T20:19:09.220Z"
   },
   {
    "duration": 10,
    "start_time": "2022-08-09T20:19:09.940Z"
   },
   {
    "duration": 95239,
    "start_time": "2022-08-09T20:19:09.952Z"
   },
   {
    "duration": 1723,
    "start_time": "2022-08-09T20:20:45.193Z"
   },
   {
    "duration": 111,
    "start_time": "2022-08-09T20:20:46.918Z"
   },
   {
    "duration": 131,
    "start_time": "2022-08-09T20:20:47.031Z"
   },
   {
    "duration": 1294,
    "start_time": "2022-08-09T20:24:33.939Z"
   },
   {
    "duration": 45,
    "start_time": "2022-08-09T20:24:35.235Z"
   },
   {
    "duration": 11,
    "start_time": "2022-08-09T20:24:35.281Z"
   },
   {
    "duration": 3,
    "start_time": "2022-08-09T20:24:35.294Z"
   },
   {
    "duration": 7,
    "start_time": "2022-08-09T20:24:35.298Z"
   },
   {
    "duration": 15,
    "start_time": "2022-08-09T20:24:35.306Z"
   },
   {
    "duration": 39,
    "start_time": "2022-08-09T20:24:35.323Z"
   },
   {
    "duration": 14,
    "start_time": "2022-08-09T20:24:35.363Z"
   },
   {
    "duration": 1756,
    "start_time": "2022-08-09T20:24:35.378Z"
   },
   {
    "duration": 1166,
    "start_time": "2022-08-09T20:24:37.137Z"
   },
   {
    "duration": 1290,
    "start_time": "2022-08-09T20:24:38.305Z"
   },
   {
    "duration": 8,
    "start_time": "2022-08-09T20:24:39.597Z"
   },
   {
    "duration": 21,
    "start_time": "2022-08-09T20:24:39.606Z"
   },
   {
    "duration": 7,
    "start_time": "2022-08-09T20:24:39.628Z"
   },
   {
    "duration": 383,
    "start_time": "2022-08-09T20:24:39.636Z"
   },
   {
    "duration": 0,
    "start_time": "2022-08-09T20:24:40.021Z"
   },
   {
    "duration": 0,
    "start_time": "2022-08-09T20:24:40.022Z"
   },
   {
    "duration": 0,
    "start_time": "2022-08-09T20:24:40.023Z"
   },
   {
    "duration": 0,
    "start_time": "2022-08-09T20:24:40.025Z"
   },
   {
    "duration": 1698,
    "start_time": "2022-08-10T13:22:54.149Z"
   },
   {
    "duration": 176,
    "start_time": "2022-08-10T13:22:55.849Z"
   },
   {
    "duration": 16,
    "start_time": "2022-08-10T13:22:56.027Z"
   },
   {
    "duration": 3,
    "start_time": "2022-08-10T13:22:56.046Z"
   },
   {
    "duration": 12,
    "start_time": "2022-08-10T13:22:56.051Z"
   },
   {
    "duration": 11,
    "start_time": "2022-08-10T13:22:56.064Z"
   },
   {
    "duration": 59,
    "start_time": "2022-08-10T13:22:56.077Z"
   },
   {
    "duration": 18,
    "start_time": "2022-08-10T13:22:56.138Z"
   },
   {
    "duration": 2157,
    "start_time": "2022-08-10T13:22:56.158Z"
   },
   {
    "duration": 1463,
    "start_time": "2022-08-10T13:22:58.318Z"
   },
   {
    "duration": 1732,
    "start_time": "2022-08-10T13:22:59.783Z"
   },
   {
    "duration": 8,
    "start_time": "2022-08-10T13:23:01.517Z"
   },
   {
    "duration": 133,
    "start_time": "2022-08-10T13:23:01.527Z"
   },
   {
    "duration": 38,
    "start_time": "2022-08-10T13:23:01.662Z"
   },
   {
    "duration": 532,
    "start_time": "2022-08-10T13:23:01.702Z"
   },
   {
    "duration": 0,
    "start_time": "2022-08-10T13:23:02.236Z"
   },
   {
    "duration": 0,
    "start_time": "2022-08-10T13:23:02.237Z"
   },
   {
    "duration": 0,
    "start_time": "2022-08-10T13:23:02.239Z"
   },
   {
    "duration": 0,
    "start_time": "2022-08-10T13:23:02.240Z"
   },
   {
    "duration": 0,
    "start_time": "2022-08-10T13:23:02.241Z"
   },
   {
    "duration": 1512,
    "start_time": "2022-08-10T13:26:42.885Z"
   },
   {
    "duration": 50,
    "start_time": "2022-08-10T13:26:44.399Z"
   },
   {
    "duration": 12,
    "start_time": "2022-08-10T13:26:44.451Z"
   },
   {
    "duration": 17,
    "start_time": "2022-08-10T13:26:44.466Z"
   },
   {
    "duration": 9,
    "start_time": "2022-08-10T13:26:44.485Z"
   },
   {
    "duration": 13,
    "start_time": "2022-08-10T13:26:44.495Z"
   },
   {
    "duration": 50,
    "start_time": "2022-08-10T13:26:44.510Z"
   },
   {
    "duration": 35,
    "start_time": "2022-08-10T13:26:44.561Z"
   },
   {
    "duration": 2102,
    "start_time": "2022-08-10T13:26:44.597Z"
   },
   {
    "duration": 1409,
    "start_time": "2022-08-10T13:26:46.702Z"
   },
   {
    "duration": 1602,
    "start_time": "2022-08-10T13:26:48.113Z"
   },
   {
    "duration": 7,
    "start_time": "2022-08-10T13:26:49.717Z"
   },
   {
    "duration": 15,
    "start_time": "2022-08-10T13:26:49.725Z"
   },
   {
    "duration": 4,
    "start_time": "2022-08-10T13:26:49.742Z"
   },
   {
    "duration": 708,
    "start_time": "2022-08-10T13:26:49.748Z"
   },
   {
    "duration": 8,
    "start_time": "2022-08-10T13:26:50.458Z"
   },
   {
    "duration": 119331,
    "start_time": "2022-08-10T13:26:50.467Z"
   },
   {
    "duration": 1497,
    "start_time": "2022-08-10T13:28:49.800Z"
   },
   {
    "duration": 105,
    "start_time": "2022-08-10T13:28:51.299Z"
   },
   {
    "duration": 6826,
    "start_time": "2022-08-10T13:28:51.405Z"
   },
   {
    "duration": 6808,
    "start_time": "2022-08-10T13:36:29.631Z"
   },
   {
    "duration": 7164,
    "start_time": "2022-08-10T13:38:57.423Z"
   },
   {
    "duration": 7042,
    "start_time": "2022-08-10T13:39:13.504Z"
   },
   {
    "duration": 119,
    "start_time": "2022-08-10T13:39:51.639Z"
   },
   {
    "duration": 8701,
    "start_time": "2022-08-10T13:39:56.063Z"
   },
   {
    "duration": 2727,
    "start_time": "2022-08-10T13:49:19.460Z"
   },
   {
    "duration": 6957,
    "start_time": "2022-08-10T13:59:41.143Z"
   },
   {
    "duration": 7015,
    "start_time": "2022-08-10T14:00:06.207Z"
   },
   {
    "duration": 7056,
    "start_time": "2022-08-10T14:00:45.047Z"
   },
   {
    "duration": 6891,
    "start_time": "2022-08-10T14:01:23.285Z"
   },
   {
    "duration": 7115,
    "start_time": "2022-08-10T14:12:56.507Z"
   },
   {
    "duration": 6989,
    "start_time": "2022-08-10T14:13:26.180Z"
   },
   {
    "duration": 6836,
    "start_time": "2022-08-10T14:14:20.676Z"
   },
   {
    "duration": 7053,
    "start_time": "2022-08-10T14:15:01.027Z"
   },
   {
    "duration": 7054,
    "start_time": "2022-08-10T14:16:01.757Z"
   },
   {
    "duration": 7092,
    "start_time": "2022-08-10T14:17:09.228Z"
   },
   {
    "duration": 7132,
    "start_time": "2022-08-10T14:17:28.189Z"
   },
   {
    "duration": 306,
    "start_time": "2022-08-10T14:18:00.653Z"
   },
   {
    "duration": 6857,
    "start_time": "2022-08-10T14:21:03.598Z"
   },
   {
    "duration": 7129,
    "start_time": "2022-08-10T14:22:02.278Z"
   },
   {
    "duration": 7105,
    "start_time": "2022-08-10T14:22:28.950Z"
   },
   {
    "duration": 1093,
    "start_time": "2022-08-10T14:24:26.607Z"
   },
   {
    "duration": 19,
    "start_time": "2022-08-10T14:24:27.793Z"
   },
   {
    "duration": 9006,
    "start_time": "2022-08-10T14:24:34.766Z"
   },
   {
    "duration": 5584,
    "start_time": "2022-08-10T14:24:49.439Z"
   },
   {
    "duration": 1537,
    "start_time": "2022-08-10T14:25:28.255Z"
   },
   {
    "duration": 19,
    "start_time": "2022-08-10T14:25:29.794Z"
   },
   {
    "duration": 8637,
    "start_time": "2022-08-10T14:25:29.815Z"
   },
   {
    "duration": 6985,
    "start_time": "2022-08-10T14:25:38.455Z"
   },
   {
    "duration": 1533,
    "start_time": "2022-08-10T14:33:59.988Z"
   },
   {
    "duration": 50,
    "start_time": "2022-08-10T14:34:01.523Z"
   },
   {
    "duration": 13,
    "start_time": "2022-08-10T14:34:01.574Z"
   },
   {
    "duration": 28,
    "start_time": "2022-08-10T14:34:01.589Z"
   },
   {
    "duration": 44,
    "start_time": "2022-08-10T14:34:01.619Z"
   },
   {
    "duration": 18,
    "start_time": "2022-08-10T14:34:01.665Z"
   },
   {
    "duration": 49,
    "start_time": "2022-08-10T14:34:01.686Z"
   },
   {
    "duration": 18,
    "start_time": "2022-08-10T14:34:01.737Z"
   },
   {
    "duration": 2245,
    "start_time": "2022-08-10T14:34:01.757Z"
   },
   {
    "duration": 1464,
    "start_time": "2022-08-10T14:34:04.004Z"
   },
   {
    "duration": 1629,
    "start_time": "2022-08-10T14:34:05.470Z"
   },
   {
    "duration": 4,
    "start_time": "2022-08-10T14:34:07.101Z"
   },
   {
    "duration": 22,
    "start_time": "2022-08-10T14:34:07.107Z"
   },
   {
    "duration": 12,
    "start_time": "2022-08-10T14:34:07.132Z"
   },
   {
    "duration": 6,
    "start_time": "2022-08-10T14:34:07.146Z"
   },
   {
    "duration": 591,
    "start_time": "2022-08-10T14:34:07.155Z"
   },
   {
    "duration": 9,
    "start_time": "2022-08-10T14:34:07.747Z"
   },
   {
    "duration": 121334,
    "start_time": "2022-08-10T14:34:07.757Z"
   },
   {
    "duration": 1603,
    "start_time": "2022-08-10T14:36:09.092Z"
   },
   {
    "duration": 115,
    "start_time": "2022-08-10T14:36:10.697Z"
   },
   {
    "duration": 7916,
    "start_time": "2022-08-10T14:36:10.814Z"
   },
   {
    "duration": 6644,
    "start_time": "2022-08-10T14:36:18.732Z"
   },
   {
    "duration": 1521,
    "start_time": "2022-08-10T14:38:33.626Z"
   },
   {
    "duration": 55,
    "start_time": "2022-08-10T14:38:35.149Z"
   },
   {
    "duration": 15,
    "start_time": "2022-08-10T14:38:35.206Z"
   },
   {
    "duration": 10,
    "start_time": "2022-08-10T14:38:35.223Z"
   },
   {
    "duration": 12,
    "start_time": "2022-08-10T14:38:35.235Z"
   },
   {
    "duration": 47,
    "start_time": "2022-08-10T14:38:35.249Z"
   },
   {
    "duration": 54,
    "start_time": "2022-08-10T14:38:35.298Z"
   },
   {
    "duration": 39,
    "start_time": "2022-08-10T14:38:35.354Z"
   },
   {
    "duration": 2283,
    "start_time": "2022-08-10T14:38:35.395Z"
   },
   {
    "duration": 1501,
    "start_time": "2022-08-10T14:38:37.680Z"
   },
   {
    "duration": 1702,
    "start_time": "2022-08-10T14:38:39.182Z"
   },
   {
    "duration": 8,
    "start_time": "2022-08-10T14:38:40.885Z"
   },
   {
    "duration": 14,
    "start_time": "2022-08-10T14:38:40.895Z"
   },
   {
    "duration": 15,
    "start_time": "2022-08-10T14:38:40.911Z"
   },
   {
    "duration": 1147,
    "start_time": "2022-08-10T14:38:40.928Z"
   },
   {
    "duration": 9,
    "start_time": "2022-08-10T14:38:42.079Z"
   },
   {
    "duration": 124833,
    "start_time": "2022-08-10T14:38:42.092Z"
   },
   {
    "duration": 1262,
    "start_time": "2022-08-10T14:40:46.930Z"
   },
   {
    "duration": 22,
    "start_time": "2022-08-10T14:40:48.194Z"
   },
   {
    "duration": 9384,
    "start_time": "2022-08-10T14:40:48.218Z"
   },
   {
    "duration": 6946,
    "start_time": "2022-08-10T14:40:57.605Z"
   },
   {
    "duration": 7524,
    "start_time": "2022-08-10T14:42:23.240Z"
   },
   {
    "duration": 7229,
    "start_time": "2022-08-10T14:42:52.488Z"
   },
   {
    "duration": 7289,
    "start_time": "2022-08-10T14:43:09.544Z"
   },
   {
    "duration": 7125,
    "start_time": "2022-08-10T14:43:41.314Z"
   },
   {
    "duration": 7334,
    "start_time": "2022-08-10T14:44:00.929Z"
   },
   {
    "duration": 7140,
    "start_time": "2022-08-10T14:44:11.152Z"
   },
   {
    "duration": 6888,
    "start_time": "2022-08-10T14:44:23.305Z"
   },
   {
    "duration": 7043,
    "start_time": "2022-08-10T14:44:32.868Z"
   },
   {
    "duration": 7213,
    "start_time": "2022-08-10T14:45:57.001Z"
   },
   {
    "duration": 125,
    "start_time": "2022-08-10T14:46:16.561Z"
   },
   {
    "duration": 82,
    "start_time": "2022-08-10T14:46:30.745Z"
   },
   {
    "duration": 7259,
    "start_time": "2022-08-10T14:46:52.329Z"
   },
   {
    "duration": 7492,
    "start_time": "2022-08-10T14:47:18.370Z"
   },
   {
    "duration": 7655,
    "start_time": "2022-08-10T14:47:33.425Z"
   },
   {
    "duration": 75,
    "start_time": "2022-08-10T14:48:35.162Z"
   },
   {
    "duration": 1915,
    "start_time": "2022-08-10T14:58:09.221Z"
   },
   {
    "duration": 2427,
    "start_time": "2022-08-10T14:58:39.275Z"
   },
   {
    "duration": 1248,
    "start_time": "2022-08-10T14:59:09.741Z"
   },
   {
    "duration": 4720,
    "start_time": "2022-08-10T14:59:35.117Z"
   },
   {
    "duration": 7918,
    "start_time": "2022-08-10T14:59:50.733Z"
   },
   {
    "duration": 52,
    "start_time": "2022-08-10T17:23:26.736Z"
   },
   {
    "duration": 1500,
    "start_time": "2022-08-10T17:23:31.848Z"
   },
   {
    "duration": 84,
    "start_time": "2022-08-10T17:23:33.349Z"
   },
   {
    "duration": 12,
    "start_time": "2022-08-10T17:23:33.434Z"
   },
   {
    "duration": 4,
    "start_time": "2022-08-10T17:23:33.448Z"
   },
   {
    "duration": 7,
    "start_time": "2022-08-10T17:23:33.453Z"
   },
   {
    "duration": 7,
    "start_time": "2022-08-10T17:23:33.462Z"
   },
   {
    "duration": 49,
    "start_time": "2022-08-10T17:23:33.470Z"
   },
   {
    "duration": 12,
    "start_time": "2022-08-10T17:23:33.520Z"
   },
   {
    "duration": 1670,
    "start_time": "2022-08-10T17:23:33.534Z"
   },
   {
    "duration": 985,
    "start_time": "2022-08-10T17:23:35.210Z"
   },
   {
    "duration": 1334,
    "start_time": "2022-08-10T17:23:36.197Z"
   },
   {
    "duration": 6,
    "start_time": "2022-08-10T17:23:37.533Z"
   },
   {
    "duration": 12,
    "start_time": "2022-08-10T17:23:37.540Z"
   },
   {
    "duration": 3,
    "start_time": "2022-08-10T17:23:37.554Z"
   },
   {
    "duration": 601,
    "start_time": "2022-08-10T17:23:37.558Z"
   },
   {
    "duration": 6,
    "start_time": "2022-08-10T17:23:38.161Z"
   },
   {
    "duration": 91398,
    "start_time": "2022-08-10T17:23:38.169Z"
   },
   {
    "duration": 1042,
    "start_time": "2022-08-10T17:25:09.569Z"
   },
   {
    "duration": 110,
    "start_time": "2022-08-10T17:25:10.613Z"
   },
   {
    "duration": 5955,
    "start_time": "2022-08-10T17:25:10.724Z"
   },
   {
    "duration": 3735,
    "start_time": "2022-08-10T17:25:16.680Z"
   },
   {
    "duration": 115,
    "start_time": "2022-08-10T17:48:17.644Z"
   },
   {
    "duration": 5856,
    "start_time": "2022-08-10T17:48:32.227Z"
   },
   {
    "duration": 5842,
    "start_time": "2022-08-10T17:49:36.529Z"
   },
   {
    "duration": 9718,
    "start_time": "2022-08-10T17:50:06.097Z"
   },
   {
    "duration": 43,
    "start_time": "2022-08-10T17:50:52.018Z"
   },
   {
    "duration": 10360,
    "start_time": "2022-08-10T17:51:05.082Z"
   },
   {
    "duration": 10708,
    "start_time": "2022-08-10T17:54:10.217Z"
   },
   {
    "duration": 11244,
    "start_time": "2022-08-10T17:55:02.553Z"
   },
   {
    "duration": 11401,
    "start_time": "2022-08-10T17:55:27.415Z"
   },
   {
    "duration": 9807,
    "start_time": "2022-08-10T17:55:49.653Z"
   },
   {
    "duration": 9972,
    "start_time": "2022-08-10T17:56:22.863Z"
   },
   {
    "duration": 9792,
    "start_time": "2022-08-10T18:05:14.550Z"
   },
   {
    "duration": 1319,
    "start_time": "2022-08-10T18:05:29.245Z"
   },
   {
    "duration": 46,
    "start_time": "2022-08-10T18:05:30.566Z"
   },
   {
    "duration": 10,
    "start_time": "2022-08-10T18:05:30.613Z"
   },
   {
    "duration": 9,
    "start_time": "2022-08-10T18:05:30.624Z"
   },
   {
    "duration": 22,
    "start_time": "2022-08-10T18:05:30.634Z"
   },
   {
    "duration": 22,
    "start_time": "2022-08-10T18:05:30.657Z"
   },
   {
    "duration": 39,
    "start_time": "2022-08-10T18:05:30.681Z"
   },
   {
    "duration": 15,
    "start_time": "2022-08-10T18:05:30.722Z"
   },
   {
    "duration": 1748,
    "start_time": "2022-08-10T18:05:30.739Z"
   },
   {
    "duration": 1078,
    "start_time": "2022-08-10T18:05:32.490Z"
   },
   {
    "duration": 1266,
    "start_time": "2022-08-10T18:05:33.570Z"
   },
   {
    "duration": 6,
    "start_time": "2022-08-10T18:05:34.837Z"
   },
   {
    "duration": 10,
    "start_time": "2022-08-10T18:05:34.844Z"
   },
   {
    "duration": 5,
    "start_time": "2022-08-10T18:05:34.856Z"
   },
   {
    "duration": 575,
    "start_time": "2022-08-10T18:05:34.862Z"
   },
   {
    "duration": 8,
    "start_time": "2022-08-10T18:05:35.438Z"
   },
   {
    "duration": 1064,
    "start_time": "2022-08-10T18:05:35.447Z"
   },
   {
    "duration": 106,
    "start_time": "2022-08-10T18:05:36.515Z"
   },
   {
    "duration": 9684,
    "start_time": "2022-08-10T18:05:46.429Z"
   },
   {
    "duration": 10476,
    "start_time": "2022-08-10T18:07:05.668Z"
   },
   {
    "duration": 117,
    "start_time": "2022-08-10T18:17:08.242Z"
   },
   {
    "duration": 8,
    "start_time": "2022-08-10T18:17:14.148Z"
   },
   {
    "duration": 11,
    "start_time": "2022-08-10T18:17:18.185Z"
   },
   {
    "duration": 22,
    "start_time": "2022-08-10T18:18:59.571Z"
   },
   {
    "duration": 10,
    "start_time": "2022-08-10T18:19:19.850Z"
   },
   {
    "duration": 169,
    "start_time": "2022-08-10T18:19:28.254Z"
   },
   {
    "duration": 11,
    "start_time": "2022-08-10T18:19:35.648Z"
   },
   {
    "duration": 7,
    "start_time": "2022-08-10T18:19:41.272Z"
   },
   {
    "duration": 6,
    "start_time": "2022-08-10T18:19:50.191Z"
   },
   {
    "duration": 10,
    "start_time": "2022-08-10T18:20:04.096Z"
   },
   {
    "duration": 1349,
    "start_time": "2022-08-10T18:21:32.788Z"
   },
   {
    "duration": 45,
    "start_time": "2022-08-10T18:21:34.139Z"
   },
   {
    "duration": 12,
    "start_time": "2022-08-10T18:21:34.187Z"
   },
   {
    "duration": 3,
    "start_time": "2022-08-10T18:21:34.201Z"
   },
   {
    "duration": 9,
    "start_time": "2022-08-10T18:21:34.205Z"
   },
   {
    "duration": 10,
    "start_time": "2022-08-10T18:21:34.215Z"
   },
   {
    "duration": 47,
    "start_time": "2022-08-10T18:21:34.227Z"
   },
   {
    "duration": 38,
    "start_time": "2022-08-10T18:21:34.275Z"
   },
   {
    "duration": 1740,
    "start_time": "2022-08-10T18:21:34.315Z"
   },
   {
    "duration": 1054,
    "start_time": "2022-08-10T18:21:36.057Z"
   },
   {
    "duration": 1276,
    "start_time": "2022-08-10T18:21:37.112Z"
   },
   {
    "duration": 6,
    "start_time": "2022-08-10T18:21:38.389Z"
   },
   {
    "duration": 18,
    "start_time": "2022-08-10T18:21:38.397Z"
   },
   {
    "duration": 4,
    "start_time": "2022-08-10T18:21:38.416Z"
   },
   {
    "duration": 630,
    "start_time": "2022-08-10T18:21:38.422Z"
   },
   {
    "duration": 7,
    "start_time": "2022-08-10T18:21:39.054Z"
   },
   {
    "duration": 93319,
    "start_time": "2022-08-10T18:21:39.062Z"
   },
   {
    "duration": 1034,
    "start_time": "2022-08-10T18:23:12.383Z"
   },
   {
    "duration": 110,
    "start_time": "2022-08-10T18:23:13.419Z"
   },
   {
    "duration": 10319,
    "start_time": "2022-08-10T18:23:13.531Z"
   },
   {
    "duration": 10,
    "start_time": "2022-08-10T18:23:23.852Z"
   },
   {
    "duration": 6,
    "start_time": "2022-08-10T18:23:23.863Z"
   },
   {
    "duration": 10,
    "start_time": "2022-08-10T18:31:14.374Z"
   },
   {
    "duration": 7,
    "start_time": "2022-08-10T18:31:15.688Z"
   },
   {
    "duration": 1652,
    "start_time": "2022-08-11T11:38:02.295Z"
   },
   {
    "duration": 89,
    "start_time": "2022-08-11T11:38:03.950Z"
   },
   {
    "duration": 13,
    "start_time": "2022-08-11T11:38:04.041Z"
   },
   {
    "duration": 8,
    "start_time": "2022-08-11T11:38:04.056Z"
   },
   {
    "duration": 8,
    "start_time": "2022-08-11T11:38:04.067Z"
   },
   {
    "duration": 22,
    "start_time": "2022-08-11T11:38:04.077Z"
   },
   {
    "duration": 53,
    "start_time": "2022-08-11T11:38:04.101Z"
   },
   {
    "duration": 19,
    "start_time": "2022-08-11T11:38:04.156Z"
   },
   {
    "duration": 2212,
    "start_time": "2022-08-11T11:38:04.177Z"
   },
   {
    "duration": 1297,
    "start_time": "2022-08-11T11:38:06.392Z"
   },
   {
    "duration": 1662,
    "start_time": "2022-08-11T11:38:07.691Z"
   },
   {
    "duration": 7,
    "start_time": "2022-08-11T11:38:09.355Z"
   },
   {
    "duration": 17,
    "start_time": "2022-08-11T11:38:09.363Z"
   },
   {
    "duration": 5,
    "start_time": "2022-08-11T11:38:09.382Z"
   },
   {
    "duration": 678,
    "start_time": "2022-08-11T11:38:09.388Z"
   },
   {
    "duration": 8,
    "start_time": "2022-08-11T11:38:10.067Z"
   },
   {
    "duration": 119468,
    "start_time": "2022-08-11T11:38:10.077Z"
   },
   {
    "duration": 1257,
    "start_time": "2022-08-11T11:40:09.547Z"
   },
   {
    "duration": 109,
    "start_time": "2022-08-11T11:40:10.805Z"
   },
   {
    "duration": 12637,
    "start_time": "2022-08-11T11:40:10.916Z"
   },
   {
    "duration": 14,
    "start_time": "2022-08-11T11:40:23.555Z"
   },
   {
    "duration": 8,
    "start_time": "2022-08-11T11:40:23.571Z"
   },
   {
    "duration": 12,
    "start_time": "2022-08-11T11:40:38.591Z"
   },
   {
    "duration": 11,
    "start_time": "2022-08-11T11:40:38.955Z"
   },
   {
    "duration": 9,
    "start_time": "2022-08-11T11:42:50.905Z"
   },
   {
    "duration": 9,
    "start_time": "2022-08-11T11:43:04.962Z"
   },
   {
    "duration": 9,
    "start_time": "2022-08-11T11:44:19.048Z"
   },
   {
    "duration": 9,
    "start_time": "2022-08-11T11:44:50.834Z"
   },
   {
    "duration": 1130,
    "start_time": "2022-08-11T11:57:33.960Z"
   },
   {
    "duration": 1468,
    "start_time": "2022-08-11T11:57:37.374Z"
   },
   {
    "duration": 1159,
    "start_time": "2022-08-11T11:57:55.366Z"
   },
   {
    "duration": 1294,
    "start_time": "2022-08-11T12:09:52.346Z"
   },
   {
    "duration": 268,
    "start_time": "2022-08-11T12:10:12.779Z"
   },
   {
    "duration": 157,
    "start_time": "2022-08-11T12:11:38.396Z"
   },
   {
    "duration": 1380,
    "start_time": "2022-08-11T12:11:49.445Z"
   },
   {
    "duration": 1194,
    "start_time": "2022-08-11T12:11:53.227Z"
   },
   {
    "duration": 1317,
    "start_time": "2022-08-11T12:11:56.739Z"
   },
   {
    "duration": 1552,
    "start_time": "2022-08-11T12:13:05.620Z"
   },
   {
    "duration": 65,
    "start_time": "2022-08-11T12:13:07.174Z"
   },
   {
    "duration": 12,
    "start_time": "2022-08-11T12:13:07.241Z"
   },
   {
    "duration": 20,
    "start_time": "2022-08-11T12:13:07.255Z"
   },
   {
    "duration": 9,
    "start_time": "2022-08-11T12:13:07.278Z"
   },
   {
    "duration": 25,
    "start_time": "2022-08-11T12:13:07.289Z"
   },
   {
    "duration": 54,
    "start_time": "2022-08-11T12:13:07.319Z"
   },
   {
    "duration": 31,
    "start_time": "2022-08-11T12:13:07.375Z"
   },
   {
    "duration": 9,
    "start_time": "2022-08-11T12:13:07.408Z"
   },
   {
    "duration": 2449,
    "start_time": "2022-08-11T12:13:07.419Z"
   },
   {
    "duration": 1388,
    "start_time": "2022-08-11T12:13:09.870Z"
   },
   {
    "duration": 1780,
    "start_time": "2022-08-11T12:13:11.261Z"
   },
   {
    "duration": 8,
    "start_time": "2022-08-11T12:13:13.043Z"
   },
   {
    "duration": 13,
    "start_time": "2022-08-11T12:13:13.055Z"
   },
   {
    "duration": 5,
    "start_time": "2022-08-11T12:13:13.070Z"
   },
   {
    "duration": 944,
    "start_time": "2022-08-11T12:13:13.077Z"
   },
   {
    "duration": 7,
    "start_time": "2022-08-11T12:13:14.023Z"
   },
   {
    "duration": 129736,
    "start_time": "2022-08-11T12:13:14.032Z"
   },
   {
    "duration": 1235,
    "start_time": "2022-08-11T12:15:23.770Z"
   },
   {
    "duration": 106,
    "start_time": "2022-08-11T12:15:25.011Z"
   },
   {
    "duration": 13432,
    "start_time": "2022-08-11T12:15:25.119Z"
   },
   {
    "duration": 10,
    "start_time": "2022-08-11T12:15:38.553Z"
   },
   {
    "duration": 9,
    "start_time": "2022-08-11T12:23:00.725Z"
   },
   {
    "duration": 2797,
    "start_time": "2022-08-11T12:23:00.955Z"
   },
   {
    "duration": 1239,
    "start_time": "2022-08-11T12:23:03.756Z"
   },
   {
    "duration": 1565,
    "start_time": "2022-08-11T17:19:22.535Z"
   },
   {
    "duration": 85,
    "start_time": "2022-08-11T17:19:24.102Z"
   },
   {
    "duration": 11,
    "start_time": "2022-08-11T17:19:24.188Z"
   },
   {
    "duration": 3,
    "start_time": "2022-08-11T17:19:24.201Z"
   },
   {
    "duration": 7,
    "start_time": "2022-08-11T17:19:24.205Z"
   },
   {
    "duration": 8,
    "start_time": "2022-08-11T17:19:24.213Z"
   },
   {
    "duration": 38,
    "start_time": "2022-08-11T17:19:24.223Z"
   },
   {
    "duration": 15,
    "start_time": "2022-08-11T17:19:24.263Z"
   },
   {
    "duration": 6,
    "start_time": "2022-08-11T17:19:24.280Z"
   },
   {
    "duration": 1755,
    "start_time": "2022-08-11T17:19:24.288Z"
   },
   {
    "duration": 1067,
    "start_time": "2022-08-11T17:19:26.044Z"
   },
   {
    "duration": 1366,
    "start_time": "2022-08-11T17:19:27.113Z"
   },
   {
    "duration": 8,
    "start_time": "2022-08-11T17:19:28.481Z"
   },
   {
    "duration": 27,
    "start_time": "2022-08-11T17:19:28.491Z"
   },
   {
    "duration": 6,
    "start_time": "2022-08-11T17:19:28.520Z"
   },
   {
    "duration": 617,
    "start_time": "2022-08-11T17:19:28.528Z"
   },
   {
    "duration": 9,
    "start_time": "2022-08-11T17:19:29.147Z"
   },
   {
    "duration": 93639,
    "start_time": "2022-08-11T17:19:29.157Z"
   },
   {
    "duration": 922,
    "start_time": "2022-08-11T17:21:02.798Z"
   },
   {
    "duration": 17,
    "start_time": "2022-08-11T17:21:03.812Z"
   },
   {
    "duration": 10439,
    "start_time": "2022-08-11T17:21:03.830Z"
   },
   {
    "duration": 7,
    "start_time": "2022-08-11T17:21:14.271Z"
   },
   {
    "duration": 71,
    "start_time": "2022-08-11T21:28:47.293Z"
   },
   {
    "duration": 1443,
    "start_time": "2022-08-11T21:40:26.238Z"
   },
   {
    "duration": 82,
    "start_time": "2022-08-11T21:40:27.683Z"
   },
   {
    "duration": 10,
    "start_time": "2022-08-11T21:40:27.767Z"
   },
   {
    "duration": 3,
    "start_time": "2022-08-11T21:40:27.778Z"
   },
   {
    "duration": 8,
    "start_time": "2022-08-11T21:40:27.782Z"
   },
   {
    "duration": 9,
    "start_time": "2022-08-11T21:40:27.792Z"
   },
   {
    "duration": 40,
    "start_time": "2022-08-11T21:40:27.802Z"
   },
   {
    "duration": 14,
    "start_time": "2022-08-11T21:40:27.843Z"
   },
   {
    "duration": 5,
    "start_time": "2022-08-11T21:40:27.859Z"
   },
   {
    "duration": 1749,
    "start_time": "2022-08-11T21:40:27.867Z"
   },
   {
    "duration": 997,
    "start_time": "2022-08-11T21:40:29.618Z"
   },
   {
    "duration": 1348,
    "start_time": "2022-08-11T21:40:30.617Z"
   },
   {
    "duration": 7,
    "start_time": "2022-08-11T21:40:31.967Z"
   },
   {
    "duration": 26,
    "start_time": "2022-08-11T21:40:31.975Z"
   },
   {
    "duration": 17,
    "start_time": "2022-08-11T21:40:32.003Z"
   },
   {
    "duration": 623,
    "start_time": "2022-08-11T21:40:32.021Z"
   },
   {
    "duration": 7,
    "start_time": "2022-08-11T21:40:32.645Z"
   },
   {
    "duration": 98561,
    "start_time": "2022-08-11T21:40:32.654Z"
   },
   {
    "duration": 1323,
    "start_time": "2022-08-11T21:42:11.216Z"
   },
   {
    "duration": 100,
    "start_time": "2022-08-11T21:42:12.541Z"
   },
   {
    "duration": 10263,
    "start_time": "2022-08-11T21:42:12.643Z"
   },
   {
    "duration": 7,
    "start_time": "2022-08-11T21:42:22.907Z"
   },
   {
    "duration": 1638,
    "start_time": "2022-08-18T18:31:03.030Z"
   },
   {
    "duration": 151,
    "start_time": "2022-08-18T18:31:04.670Z"
   },
   {
    "duration": 50,
    "start_time": "2022-08-18T18:31:04.822Z"
   },
   {
    "duration": 9,
    "start_time": "2022-08-18T18:31:04.873Z"
   },
   {
    "duration": 8,
    "start_time": "2022-08-18T18:31:04.884Z"
   },
   {
    "duration": 9,
    "start_time": "2022-08-18T18:31:04.894Z"
   },
   {
    "duration": 100,
    "start_time": "2022-08-18T18:31:04.904Z"
   },
   {
    "duration": 74,
    "start_time": "2022-08-18T18:31:05.006Z"
   },
   {
    "duration": 7,
    "start_time": "2022-08-18T18:31:05.082Z"
   },
   {
    "duration": 2759,
    "start_time": "2022-08-18T18:31:05.091Z"
   },
   {
    "duration": 1216,
    "start_time": "2022-08-18T18:31:07.852Z"
   },
   {
    "duration": 1526,
    "start_time": "2022-08-18T18:31:09.069Z"
   },
   {
    "duration": 6,
    "start_time": "2022-08-18T18:31:10.597Z"
   },
   {
    "duration": 12,
    "start_time": "2022-08-18T18:31:10.605Z"
   },
   {
    "duration": 5,
    "start_time": "2022-08-18T18:31:10.618Z"
   },
   {
    "duration": 687,
    "start_time": "2022-08-18T18:31:10.624Z"
   },
   {
    "duration": 8,
    "start_time": "2022-08-18T18:31:11.313Z"
   },
   {
    "duration": 118792,
    "start_time": "2022-08-18T18:31:11.322Z"
   },
   {
    "duration": 1157,
    "start_time": "2022-08-18T18:33:10.116Z"
   },
   {
    "duration": 107,
    "start_time": "2022-08-18T18:33:11.275Z"
   },
   {
    "duration": 12504,
    "start_time": "2022-08-18T18:33:11.385Z"
   },
   {
    "duration": 7,
    "start_time": "2022-08-18T18:33:23.891Z"
   },
   {
    "duration": 15,
    "start_time": "2022-08-18T18:33:23.901Z"
   },
   {
    "duration": 8,
    "start_time": "2022-08-18T18:34:30.176Z"
   },
   {
    "duration": 8,
    "start_time": "2022-08-18T18:34:37.830Z"
   },
   {
    "duration": 4,
    "start_time": "2022-08-18T18:34:44.926Z"
   },
   {
    "duration": 4,
    "start_time": "2022-08-18T18:34:51.815Z"
   }
  ],
  "kernelspec": {
   "display_name": "Python 3 (ipykernel)",
   "language": "python",
   "name": "python3"
  },
  "language_info": {
   "codemirror_mode": {
    "name": "ipython",
    "version": 3
   },
   "file_extension": ".py",
   "mimetype": "text/x-python",
   "name": "python",
   "nbconvert_exporter": "python",
   "pygments_lexer": "ipython3",
   "version": "3.9.5"
  },
  "toc": {
   "base_numbering": 1,
   "nav_menu": {},
   "number_sections": true,
   "sideBar": true,
   "skip_h1_title": true,
   "title_cell": "Содержание",
   "title_sidebar": "Contents",
   "toc_cell": false,
   "toc_position": {
    "height": "calc(100% - 180px)",
    "left": "10px",
    "top": "150px",
    "width": "278px"
   },
   "toc_section_display": true,
   "toc_window_display": false
  }
 },
 "nbformat": 4,
 "nbformat_minor": 2
}
