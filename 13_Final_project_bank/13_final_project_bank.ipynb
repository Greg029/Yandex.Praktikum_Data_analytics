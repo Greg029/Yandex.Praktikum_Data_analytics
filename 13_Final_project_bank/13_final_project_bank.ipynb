{
 "cells": [
  {
   "cell_type": "markdown",
   "id": "f7ba3fcd",
   "metadata": {},
   "source": [
    "# Финальный проект. Анализ оттока клиентов банка"
   ]
  },
  {
   "cell_type": "markdown",
   "id": "c7cabb2b",
   "metadata": {},
   "source": [
    "# Материалы\n",
    "\n",
    "**Презентация** - https://disk.yandex.ru/i/f6QX_aULG2yF4w\n",
    "\n",
    "**Дашборд** - https://public.tableau.com/app/profile/grigoriy3340/viz/___16618826404430/Dashboard1?publish=yes"
   ]
  },
  {
   "cell_type": "markdown",
   "id": "b99c53bd",
   "metadata": {},
   "source": [
    "**Описание проекта:**\n",
    "\n",
    "Необходимо проанализировать клиентов регионального банка и выделить портрет клиентов, которые склонны уходить из банка."
   ]
  },
  {
   "cell_type": "markdown",
   "id": "43c2669c",
   "metadata": {},
   "source": [
    "**Описание данных:**\n",
    "\n",
    "- `userid` — идентификатор пользователя,\n",
    "- `score` — баллы кредитного скоринга,\n",
    "- `City` — город,\n",
    "- `Gender` — пол,\n",
    "- `Age` — возраст,\n",
    "- `Objects` — количество объектов в собственности,\n",
    "- `Balance` — баланс на счёте,\n",
    "- `Products` — количество продуктов, которыми пользуется клиент,\n",
    "- `CreditCard` — есть ли кредитная карта,\n",
    "- `Loyalty` — активный клиент,\n",
    "- `estimated_salary` — заработная плата клиента,\n",
    "- `Churn` — ушёл или нет."
   ]
  },
  {
   "cell_type": "markdown",
   "id": "95f55774",
   "metadata": {},
   "source": [
    "**Декомпозация (задачи проекта):**\n",
    "\n",
    "1. Загрузка данных и первый взгляд.\n",
    "2. Предобработка данных:\n",
    " - приведение названий строк/столбцов к единому регистру;\n",
    " - проверка на пропуски, дубликаты.\n",
    "3. Исследовательский анализ данных EDA.\n",
    "4. Портрет клиентов, склонных уходить из банка.\n",
    "5. Формулировка и проверка гиппотез:\n",
    " - гипотеза различия дохода между теми клиентами, которые ушли и теми, которые остались;\n",
    " - гипотеза различия возраста между теми клиентами, которые ушли и теми, которые остались.\n",
    "6. Общий вывод и рекомендации."
   ]
  },
  {
   "cell_type": "markdown",
   "id": "46a98a27",
   "metadata": {},
   "source": [
    "## Загрузка данных"
   ]
  },
  {
   "cell_type": "code",
   "execution_count": 1,
   "id": "6770f380",
   "metadata": {},
   "outputs": [],
   "source": [
    "# импортируем нужные нам в проекте библиотеки\n",
    "import pandas as pd\n",
    "import numpy as np\n",
    "import matplotlib.pyplot as plt\n",
    "import seaborn as sns\n",
    "from scipy import stats as st\n",
    "\n",
    "\n",
    "import warnings\n",
    "warnings.filterwarnings('ignore')"
   ]
  },
  {
   "cell_type": "code",
   "execution_count": 2,
   "id": "83f7bde1",
   "metadata": {},
   "outputs": [],
   "source": [
    "# загрузим данные и сохраним в переменной df\n",
    "df = pd.read_csv('/datasets/bank_dataset.csv')"
   ]
  },
  {
   "cell_type": "code",
   "execution_count": 3,
   "id": "90b44a55",
   "metadata": {},
   "outputs": [
    {
     "data": {
      "text/html": [
       "<div>\n",
       "<style scoped>\n",
       "    .dataframe tbody tr th:only-of-type {\n",
       "        vertical-align: middle;\n",
       "    }\n",
       "\n",
       "    .dataframe tbody tr th {\n",
       "        vertical-align: top;\n",
       "    }\n",
       "\n",
       "    .dataframe thead th {\n",
       "        text-align: right;\n",
       "    }\n",
       "</style>\n",
       "<table border=\"1\" class=\"dataframe\">\n",
       "  <thead>\n",
       "    <tr style=\"text-align: right;\">\n",
       "      <th></th>\n",
       "      <th>userid</th>\n",
       "      <th>score</th>\n",
       "      <th>City</th>\n",
       "      <th>Gender</th>\n",
       "      <th>Age</th>\n",
       "      <th>Objects</th>\n",
       "      <th>Balance</th>\n",
       "      <th>Products</th>\n",
       "      <th>CreditCard</th>\n",
       "      <th>Loyalty</th>\n",
       "      <th>estimated_salary</th>\n",
       "      <th>Churn</th>\n",
       "    </tr>\n",
       "  </thead>\n",
       "  <tbody>\n",
       "    <tr>\n",
       "      <th>0</th>\n",
       "      <td>15677338</td>\n",
       "      <td>619</td>\n",
       "      <td>Ярославль</td>\n",
       "      <td>Ж</td>\n",
       "      <td>42</td>\n",
       "      <td>2</td>\n",
       "      <td>NaN</td>\n",
       "      <td>1</td>\n",
       "      <td>1</td>\n",
       "      <td>1</td>\n",
       "      <td>101348.88</td>\n",
       "      <td>1</td>\n",
       "    </tr>\n",
       "    <tr>\n",
       "      <th>1</th>\n",
       "      <td>15690047</td>\n",
       "      <td>608</td>\n",
       "      <td>Рыбинск</td>\n",
       "      <td>Ж</td>\n",
       "      <td>41</td>\n",
       "      <td>1</td>\n",
       "      <td>83807.86</td>\n",
       "      <td>1</td>\n",
       "      <td>0</td>\n",
       "      <td>1</td>\n",
       "      <td>112542.58</td>\n",
       "      <td>0</td>\n",
       "    </tr>\n",
       "    <tr>\n",
       "      <th>2</th>\n",
       "      <td>15662040</td>\n",
       "      <td>502</td>\n",
       "      <td>Ярославль</td>\n",
       "      <td>Ж</td>\n",
       "      <td>42</td>\n",
       "      <td>8</td>\n",
       "      <td>159660.80</td>\n",
       "      <td>3</td>\n",
       "      <td>1</td>\n",
       "      <td>0</td>\n",
       "      <td>113931.57</td>\n",
       "      <td>1</td>\n",
       "    </tr>\n",
       "    <tr>\n",
       "      <th>3</th>\n",
       "      <td>15744090</td>\n",
       "      <td>699</td>\n",
       "      <td>Ярославль</td>\n",
       "      <td>Ж</td>\n",
       "      <td>39</td>\n",
       "      <td>1</td>\n",
       "      <td>NaN</td>\n",
       "      <td>2</td>\n",
       "      <td>0</td>\n",
       "      <td>0</td>\n",
       "      <td>93826.63</td>\n",
       "      <td>0</td>\n",
       "    </tr>\n",
       "    <tr>\n",
       "      <th>4</th>\n",
       "      <td>15780624</td>\n",
       "      <td>850</td>\n",
       "      <td>Рыбинск</td>\n",
       "      <td>Ж</td>\n",
       "      <td>43</td>\n",
       "      <td>2</td>\n",
       "      <td>125510.82</td>\n",
       "      <td>1</td>\n",
       "      <td>1</td>\n",
       "      <td>1</td>\n",
       "      <td>79084.10</td>\n",
       "      <td>0</td>\n",
       "    </tr>\n",
       "  </tbody>\n",
       "</table>\n",
       "</div>"
      ],
      "text/plain": [
       "     userid  score       City Gender  Age  Objects    Balance  Products  \\\n",
       "0  15677338    619  Ярославль      Ж   42        2        NaN         1   \n",
       "1  15690047    608    Рыбинск      Ж   41        1   83807.86         1   \n",
       "2  15662040    502  Ярославль      Ж   42        8  159660.80         3   \n",
       "3  15744090    699  Ярославль      Ж   39        1        NaN         2   \n",
       "4  15780624    850    Рыбинск      Ж   43        2  125510.82         1   \n",
       "\n",
       "   CreditCard  Loyalty  estimated_salary  Churn  \n",
       "0           1        1         101348.88      1  \n",
       "1           0        1         112542.58      0  \n",
       "2           1        0         113931.57      1  \n",
       "3           0        0          93826.63      0  \n",
       "4           1        1          79084.10      0  "
      ]
     },
     "execution_count": 3,
     "metadata": {},
     "output_type": "execute_result"
    }
   ],
   "source": [
    "df.head()"
   ]
  },
  {
   "cell_type": "code",
   "execution_count": 4,
   "id": "ca0b0cb5",
   "metadata": {
    "scrolled": false
   },
   "outputs": [
    {
     "name": "stdout",
     "output_type": "stream",
     "text": [
      "<class 'pandas.core.frame.DataFrame'>\n",
      "RangeIndex: 10000 entries, 0 to 9999\n",
      "Data columns (total 12 columns):\n",
      " #   Column            Non-Null Count  Dtype  \n",
      "---  ------            --------------  -----  \n",
      " 0   userid            10000 non-null  int64  \n",
      " 1   score             10000 non-null  int64  \n",
      " 2   City              10000 non-null  object \n",
      " 3   Gender            10000 non-null  object \n",
      " 4   Age               10000 non-null  int64  \n",
      " 5   Objects           10000 non-null  int64  \n",
      " 6   Balance           6383 non-null   float64\n",
      " 7   Products          10000 non-null  int64  \n",
      " 8   CreditCard        10000 non-null  int64  \n",
      " 9   Loyalty           10000 non-null  int64  \n",
      " 10  estimated_salary  10000 non-null  float64\n",
      " 11  Churn             10000 non-null  int64  \n",
      "dtypes: float64(2), int64(8), object(2)\n",
      "memory usage: 937.6+ KB\n"
     ]
    }
   ],
   "source": [
    "df.info()"
   ]
  },
  {
   "cell_type": "markdown",
   "id": "a221da53",
   "metadata": {},
   "source": [
    "**Вывод:**\n",
    "\n",
    "Датасет состоит из 12 столбцов и 10 000 строк. По столбцу `Balance` (баланс на карте) видны попуски - либо у клиентов нет денег на картах, либо связано с технической неполадкой выгрузки данных.\n",
    "\n",
    "Необходимо разобраться со следующими моментами:\n",
    "- привести названия колонок к нижнему регистру\n",
    "- подумать над необходимостью заполнения пропусков\n",
    "- проверить наличие дубликатов  \n",
    "- заменить тип данных в столбцах `gender` и `city`, из категориальных в колличественные"
   ]
  },
  {
   "cell_type": "markdown",
   "id": "af208c4b",
   "metadata": {},
   "source": [
    "## Предобработка данных"
   ]
  },
  {
   "cell_type": "markdown",
   "id": "abc383c4",
   "metadata": {},
   "source": [
    "Приведем названия столбцов в нижнему регистру."
   ]
  },
  {
   "cell_type": "code",
   "execution_count": 5,
   "id": "8ac6335b",
   "metadata": {
    "scrolled": true
   },
   "outputs": [
    {
     "data": {
      "text/html": [
       "<div>\n",
       "<style scoped>\n",
       "    .dataframe tbody tr th:only-of-type {\n",
       "        vertical-align: middle;\n",
       "    }\n",
       "\n",
       "    .dataframe tbody tr th {\n",
       "        vertical-align: top;\n",
       "    }\n",
       "\n",
       "    .dataframe thead th {\n",
       "        text-align: right;\n",
       "    }\n",
       "</style>\n",
       "<table border=\"1\" class=\"dataframe\">\n",
       "  <thead>\n",
       "    <tr style=\"text-align: right;\">\n",
       "      <th></th>\n",
       "      <th>userid</th>\n",
       "      <th>score</th>\n",
       "      <th>city</th>\n",
       "      <th>gender</th>\n",
       "      <th>age</th>\n",
       "      <th>objects</th>\n",
       "      <th>balance</th>\n",
       "      <th>products</th>\n",
       "      <th>creditcard</th>\n",
       "      <th>loyalty</th>\n",
       "      <th>estimated_salary</th>\n",
       "      <th>churn</th>\n",
       "    </tr>\n",
       "  </thead>\n",
       "  <tbody>\n",
       "    <tr>\n",
       "      <th>0</th>\n",
       "      <td>15677338</td>\n",
       "      <td>619</td>\n",
       "      <td>Ярославль</td>\n",
       "      <td>Ж</td>\n",
       "      <td>42</td>\n",
       "      <td>2</td>\n",
       "      <td>NaN</td>\n",
       "      <td>1</td>\n",
       "      <td>1</td>\n",
       "      <td>1</td>\n",
       "      <td>101348.88</td>\n",
       "      <td>1</td>\n",
       "    </tr>\n",
       "  </tbody>\n",
       "</table>\n",
       "</div>"
      ],
      "text/plain": [
       "     userid  score       city gender  age  objects  balance  products  \\\n",
       "0  15677338    619  Ярославль      Ж   42        2      NaN         1   \n",
       "\n",
       "   creditcard  loyalty  estimated_salary  churn  \n",
       "0           1        1         101348.88      1  "
      ]
     },
     "execution_count": 5,
     "metadata": {},
     "output_type": "execute_result"
    }
   ],
   "source": [
    "df.columns = df.columns.str.lower()\n",
    "df.head(1)"
   ]
  },
  {
   "cell_type": "markdown",
   "id": "67ad8be5",
   "metadata": {},
   "source": [
    "Займемся пропусками. "
   ]
  },
  {
   "cell_type": "code",
   "execution_count": 6,
   "id": "00fca1a3",
   "metadata": {},
   "outputs": [
    {
     "data": {
      "text/plain": [
       "userid                 0\n",
       "score                  0\n",
       "city                   0\n",
       "gender                 0\n",
       "age                    0\n",
       "objects                0\n",
       "balance             3617\n",
       "products               0\n",
       "creditcard             0\n",
       "loyalty                0\n",
       "estimated_salary       0\n",
       "churn                  0\n",
       "dtype: int64"
      ]
     },
     "execution_count": 6,
     "metadata": {},
     "output_type": "execute_result"
    }
   ],
   "source": [
    "df.isna().sum()"
   ]
  },
  {
   "cell_type": "markdown",
   "id": "be23b7a4",
   "metadata": {},
   "source": [
    "3617 пропуска - это больше трети от всех значений. Посмотрим, как распределены пропуски в столбце баланс и попробуем найти зависимость."
   ]
  },
  {
   "cell_type": "code",
   "execution_count": 7,
   "id": "efa1391c",
   "metadata": {
    "scrolled": false
   },
   "outputs": [
    {
     "data": {
      "text/plain": [
       "Ярославль    2418\n",
       "Рыбинск      1199\n",
       "Name: city, dtype: int64"
      ]
     },
     "execution_count": 7,
     "metadata": {},
     "output_type": "execute_result"
    }
   ],
   "source": [
    "df[df['balance'].isna()]['city'].value_counts()"
   ]
  },
  {
   "cell_type": "code",
   "execution_count": 8,
   "id": "0e9cc864",
   "metadata": {
    "scrolled": true
   },
   "outputs": [
    {
     "data": {
      "text/plain": [
       "1    2592\n",
       "0    1025\n",
       "Name: creditcard, dtype: int64"
      ]
     },
     "execution_count": 8,
     "metadata": {},
     "output_type": "execute_result"
    }
   ],
   "source": [
    "df[df['balance'].isna()]['creditcard'].value_counts()"
   ]
  },
  {
   "cell_type": "code",
   "execution_count": 9,
   "id": "c4f5b541",
   "metadata": {
    "scrolled": true
   },
   "outputs": [
    {
     "data": {
      "text/plain": [
       "2    2600\n",
       "1     905\n",
       "3      98\n",
       "4      14\n",
       "Name: products, dtype: int64"
      ]
     },
     "execution_count": 9,
     "metadata": {},
     "output_type": "execute_result"
    }
   ],
   "source": [
    "df[df['balance'].isna()]['products'].value_counts()"
   ]
  },
  {
   "cell_type": "code",
   "execution_count": 10,
   "id": "9365fdeb",
   "metadata": {
    "scrolled": true
   },
   "outputs": [
    {
     "data": {
      "text/plain": [
       "0    3117\n",
       "1     500\n",
       "Name: churn, dtype: int64"
      ]
     },
     "execution_count": 10,
     "metadata": {},
     "output_type": "execute_result"
    }
   ],
   "source": [
    "df[df['balance'].isna()]['churn'].value_counts()"
   ]
  },
  {
   "cell_type": "markdown",
   "id": "d2ef0c55",
   "metadata": {},
   "source": [
    "Итак пропущенные значения баланса оказались:\n",
    "- только двух городах (Ярославль и Рыбинск),\n",
    "- у держателей кредитных карт пропусков больше в 2.5 раза, \n",
    "- у пользователей двух продуктов больше всего пропусков, \n",
    "- в категории \"оставшихся в банке\" клиентов в 6.2 раза больше пропущенных значений. "
   ]
  },
  {
   "cell_type": "markdown",
   "id": "bc6fb1b9",
   "metadata": {},
   "source": [
    "По логике баланс может быть как положительным, нулевым, либо вообще отрицательным. Можно было бы заполнить пропуски нулями, но для этого следует уточнить природу их возникновения у тех, кто передал данные. \n",
    "\n",
    "В виду невозможности этого сделать, пропущенные значения оставим, как есть."
   ]
  },
  {
   "cell_type": "markdown",
   "id": "8140bff9",
   "metadata": {},
   "source": [
    "Проверим наличие дубликатов."
   ]
  },
  {
   "cell_type": "code",
   "execution_count": 11,
   "id": "2a25a2d0",
   "metadata": {},
   "outputs": [
    {
     "data": {
      "text/plain": [
       "0"
      ]
     },
     "execution_count": 11,
     "metadata": {},
     "output_type": "execute_result"
    }
   ],
   "source": [
    "df.duplicated().sum()"
   ]
  },
  {
   "cell_type": "markdown",
   "id": "d3ba7499",
   "metadata": {},
   "source": [
    "Дубликаты не обнаружены."
   ]
  },
  {
   "cell_type": "markdown",
   "id": "89ac8041",
   "metadata": {},
   "source": [
    "Для проведения дальнейшего корректного анализа, в том числе корреляционного, категориальные переменные в `gender` и `city` меняем на колличественные. "
   ]
  },
  {
   "cell_type": "code",
   "execution_count": 12,
   "id": "03786b2c",
   "metadata": {},
   "outputs": [
    {
     "data": {
      "text/html": [
       "<div>\n",
       "<style scoped>\n",
       "    .dataframe tbody tr th:only-of-type {\n",
       "        vertical-align: middle;\n",
       "    }\n",
       "\n",
       "    .dataframe tbody tr th {\n",
       "        vertical-align: top;\n",
       "    }\n",
       "\n",
       "    .dataframe thead th {\n",
       "        text-align: right;\n",
       "    }\n",
       "</style>\n",
       "<table border=\"1\" class=\"dataframe\">\n",
       "  <thead>\n",
       "    <tr style=\"text-align: right;\">\n",
       "      <th></th>\n",
       "      <th>userid</th>\n",
       "      <th>score</th>\n",
       "      <th>age</th>\n",
       "      <th>objects</th>\n",
       "      <th>balance</th>\n",
       "      <th>products</th>\n",
       "      <th>creditcard</th>\n",
       "      <th>loyalty</th>\n",
       "      <th>estimated_salary</th>\n",
       "      <th>churn</th>\n",
       "    </tr>\n",
       "  </thead>\n",
       "  <tbody>\n",
       "    <tr>\n",
       "      <th>count</th>\n",
       "      <td>1.000000e+04</td>\n",
       "      <td>10000.000000</td>\n",
       "      <td>10000.000000</td>\n",
       "      <td>10000.000000</td>\n",
       "      <td>6383.000000</td>\n",
       "      <td>10000.000000</td>\n",
       "      <td>10000.00000</td>\n",
       "      <td>10000.000000</td>\n",
       "      <td>10000.000000</td>\n",
       "      <td>10000.000000</td>\n",
       "    </tr>\n",
       "    <tr>\n",
       "      <th>mean</th>\n",
       "      <td>1.573368e+07</td>\n",
       "      <td>650.528800</td>\n",
       "      <td>38.921800</td>\n",
       "      <td>5.012800</td>\n",
       "      <td>119827.493793</td>\n",
       "      <td>1.530200</td>\n",
       "      <td>0.70550</td>\n",
       "      <td>0.515100</td>\n",
       "      <td>100090.239881</td>\n",
       "      <td>0.203700</td>\n",
       "    </tr>\n",
       "    <tr>\n",
       "      <th>std</th>\n",
       "      <td>7.193619e+04</td>\n",
       "      <td>96.653299</td>\n",
       "      <td>10.487806</td>\n",
       "      <td>2.892174</td>\n",
       "      <td>30095.056462</td>\n",
       "      <td>0.581654</td>\n",
       "      <td>0.45584</td>\n",
       "      <td>0.499797</td>\n",
       "      <td>57510.492818</td>\n",
       "      <td>0.402769</td>\n",
       "    </tr>\n",
       "    <tr>\n",
       "      <th>min</th>\n",
       "      <td>1.560844e+07</td>\n",
       "      <td>350.000000</td>\n",
       "      <td>18.000000</td>\n",
       "      <td>0.000000</td>\n",
       "      <td>3768.690000</td>\n",
       "      <td>1.000000</td>\n",
       "      <td>0.00000</td>\n",
       "      <td>0.000000</td>\n",
       "      <td>11.580000</td>\n",
       "      <td>0.000000</td>\n",
       "    </tr>\n",
       "    <tr>\n",
       "      <th>25%</th>\n",
       "      <td>1.567126e+07</td>\n",
       "      <td>584.000000</td>\n",
       "      <td>32.000000</td>\n",
       "      <td>3.000000</td>\n",
       "      <td>100181.975000</td>\n",
       "      <td>1.000000</td>\n",
       "      <td>0.00000</td>\n",
       "      <td>0.000000</td>\n",
       "      <td>51002.110000</td>\n",
       "      <td>0.000000</td>\n",
       "    </tr>\n",
       "    <tr>\n",
       "      <th>50%</th>\n",
       "      <td>1.573347e+07</td>\n",
       "      <td>652.000000</td>\n",
       "      <td>37.000000</td>\n",
       "      <td>5.000000</td>\n",
       "      <td>119839.690000</td>\n",
       "      <td>1.000000</td>\n",
       "      <td>1.00000</td>\n",
       "      <td>1.000000</td>\n",
       "      <td>100193.915000</td>\n",
       "      <td>0.000000</td>\n",
       "    </tr>\n",
       "    <tr>\n",
       "      <th>75%</th>\n",
       "      <td>1.579597e+07</td>\n",
       "      <td>718.000000</td>\n",
       "      <td>44.000000</td>\n",
       "      <td>7.000000</td>\n",
       "      <td>139512.290000</td>\n",
       "      <td>2.000000</td>\n",
       "      <td>1.00000</td>\n",
       "      <td>1.000000</td>\n",
       "      <td>149388.247500</td>\n",
       "      <td>0.000000</td>\n",
       "    </tr>\n",
       "    <tr>\n",
       "      <th>max</th>\n",
       "      <td>1.585843e+07</td>\n",
       "      <td>850.000000</td>\n",
       "      <td>92.000000</td>\n",
       "      <td>10.000000</td>\n",
       "      <td>250898.090000</td>\n",
       "      <td>4.000000</td>\n",
       "      <td>1.00000</td>\n",
       "      <td>1.000000</td>\n",
       "      <td>199992.480000</td>\n",
       "      <td>1.000000</td>\n",
       "    </tr>\n",
       "  </tbody>\n",
       "</table>\n",
       "</div>"
      ],
      "text/plain": [
       "             userid         score           age       objects        balance  \\\n",
       "count  1.000000e+04  10000.000000  10000.000000  10000.000000    6383.000000   \n",
       "mean   1.573368e+07    650.528800     38.921800      5.012800  119827.493793   \n",
       "std    7.193619e+04     96.653299     10.487806      2.892174   30095.056462   \n",
       "min    1.560844e+07    350.000000     18.000000      0.000000    3768.690000   \n",
       "25%    1.567126e+07    584.000000     32.000000      3.000000  100181.975000   \n",
       "50%    1.573347e+07    652.000000     37.000000      5.000000  119839.690000   \n",
       "75%    1.579597e+07    718.000000     44.000000      7.000000  139512.290000   \n",
       "max    1.585843e+07    850.000000     92.000000     10.000000  250898.090000   \n",
       "\n",
       "           products   creditcard       loyalty  estimated_salary         churn  \n",
       "count  10000.000000  10000.00000  10000.000000      10000.000000  10000.000000  \n",
       "mean       1.530200      0.70550      0.515100     100090.239881      0.203700  \n",
       "std        0.581654      0.45584      0.499797      57510.492818      0.402769  \n",
       "min        1.000000      0.00000      0.000000         11.580000      0.000000  \n",
       "25%        1.000000      0.00000      0.000000      51002.110000      0.000000  \n",
       "50%        1.000000      1.00000      1.000000     100193.915000      0.000000  \n",
       "75%        2.000000      1.00000      1.000000     149388.247500      0.000000  \n",
       "max        4.000000      1.00000      1.000000     199992.480000      1.000000  "
      ]
     },
     "execution_count": 12,
     "metadata": {},
     "output_type": "execute_result"
    }
   ],
   "source": [
    "df.describe()"
   ]
  },
  {
   "cell_type": "code",
   "execution_count": 13,
   "id": "6aff9072",
   "metadata": {},
   "outputs": [
    {
     "data": {
      "text/html": [
       "<div>\n",
       "<style scoped>\n",
       "    .dataframe tbody tr th:only-of-type {\n",
       "        vertical-align: middle;\n",
       "    }\n",
       "\n",
       "    .dataframe tbody tr th {\n",
       "        vertical-align: top;\n",
       "    }\n",
       "\n",
       "    .dataframe thead th {\n",
       "        text-align: right;\n",
       "    }\n",
       "</style>\n",
       "<table border=\"1\" class=\"dataframe\">\n",
       "  <thead>\n",
       "    <tr style=\"text-align: right;\">\n",
       "      <th></th>\n",
       "      <th>userid</th>\n",
       "      <th>score</th>\n",
       "      <th>age</th>\n",
       "      <th>objects</th>\n",
       "      <th>balance</th>\n",
       "      <th>products</th>\n",
       "      <th>creditcard</th>\n",
       "      <th>loyalty</th>\n",
       "      <th>estimated_salary</th>\n",
       "      <th>churn</th>\n",
       "      <th>city_Ростов Великий</th>\n",
       "      <th>city_Рыбинск</th>\n",
       "      <th>city_Ярославль</th>\n",
       "      <th>gender_Ж</th>\n",
       "      <th>gender_М</th>\n",
       "    </tr>\n",
       "  </thead>\n",
       "  <tbody>\n",
       "    <tr>\n",
       "      <th>0</th>\n",
       "      <td>15677338</td>\n",
       "      <td>619</td>\n",
       "      <td>42</td>\n",
       "      <td>2</td>\n",
       "      <td>NaN</td>\n",
       "      <td>1</td>\n",
       "      <td>1</td>\n",
       "      <td>1</td>\n",
       "      <td>101348.88</td>\n",
       "      <td>1</td>\n",
       "      <td>0</td>\n",
       "      <td>0</td>\n",
       "      <td>1</td>\n",
       "      <td>1</td>\n",
       "      <td>0</td>\n",
       "    </tr>\n",
       "    <tr>\n",
       "      <th>1</th>\n",
       "      <td>15690047</td>\n",
       "      <td>608</td>\n",
       "      <td>41</td>\n",
       "      <td>1</td>\n",
       "      <td>83807.86</td>\n",
       "      <td>1</td>\n",
       "      <td>0</td>\n",
       "      <td>1</td>\n",
       "      <td>112542.58</td>\n",
       "      <td>0</td>\n",
       "      <td>0</td>\n",
       "      <td>1</td>\n",
       "      <td>0</td>\n",
       "      <td>1</td>\n",
       "      <td>0</td>\n",
       "    </tr>\n",
       "    <tr>\n",
       "      <th>2</th>\n",
       "      <td>15662040</td>\n",
       "      <td>502</td>\n",
       "      <td>42</td>\n",
       "      <td>8</td>\n",
       "      <td>159660.80</td>\n",
       "      <td>3</td>\n",
       "      <td>1</td>\n",
       "      <td>0</td>\n",
       "      <td>113931.57</td>\n",
       "      <td>1</td>\n",
       "      <td>0</td>\n",
       "      <td>0</td>\n",
       "      <td>1</td>\n",
       "      <td>1</td>\n",
       "      <td>0</td>\n",
       "    </tr>\n",
       "    <tr>\n",
       "      <th>3</th>\n",
       "      <td>15744090</td>\n",
       "      <td>699</td>\n",
       "      <td>39</td>\n",
       "      <td>1</td>\n",
       "      <td>NaN</td>\n",
       "      <td>2</td>\n",
       "      <td>0</td>\n",
       "      <td>0</td>\n",
       "      <td>93826.63</td>\n",
       "      <td>0</td>\n",
       "      <td>0</td>\n",
       "      <td>0</td>\n",
       "      <td>1</td>\n",
       "      <td>1</td>\n",
       "      <td>0</td>\n",
       "    </tr>\n",
       "    <tr>\n",
       "      <th>4</th>\n",
       "      <td>15780624</td>\n",
       "      <td>850</td>\n",
       "      <td>43</td>\n",
       "      <td>2</td>\n",
       "      <td>125510.82</td>\n",
       "      <td>1</td>\n",
       "      <td>1</td>\n",
       "      <td>1</td>\n",
       "      <td>79084.10</td>\n",
       "      <td>0</td>\n",
       "      <td>0</td>\n",
       "      <td>1</td>\n",
       "      <td>0</td>\n",
       "      <td>1</td>\n",
       "      <td>0</td>\n",
       "    </tr>\n",
       "    <tr>\n",
       "      <th>...</th>\n",
       "      <td>...</td>\n",
       "      <td>...</td>\n",
       "      <td>...</td>\n",
       "      <td>...</td>\n",
       "      <td>...</td>\n",
       "      <td>...</td>\n",
       "      <td>...</td>\n",
       "      <td>...</td>\n",
       "      <td>...</td>\n",
       "      <td>...</td>\n",
       "      <td>...</td>\n",
       "      <td>...</td>\n",
       "      <td>...</td>\n",
       "      <td>...</td>\n",
       "      <td>...</td>\n",
       "    </tr>\n",
       "    <tr>\n",
       "      <th>9995</th>\n",
       "      <td>15648965</td>\n",
       "      <td>771</td>\n",
       "      <td>39</td>\n",
       "      <td>5</td>\n",
       "      <td>NaN</td>\n",
       "      <td>2</td>\n",
       "      <td>1</td>\n",
       "      <td>0</td>\n",
       "      <td>96270.64</td>\n",
       "      <td>0</td>\n",
       "      <td>0</td>\n",
       "      <td>0</td>\n",
       "      <td>1</td>\n",
       "      <td>0</td>\n",
       "      <td>1</td>\n",
       "    </tr>\n",
       "    <tr>\n",
       "      <th>9996</th>\n",
       "      <td>15612628</td>\n",
       "      <td>516</td>\n",
       "      <td>35</td>\n",
       "      <td>10</td>\n",
       "      <td>57369.61</td>\n",
       "      <td>1</td>\n",
       "      <td>1</td>\n",
       "      <td>1</td>\n",
       "      <td>101699.77</td>\n",
       "      <td>0</td>\n",
       "      <td>0</td>\n",
       "      <td>0</td>\n",
       "      <td>1</td>\n",
       "      <td>0</td>\n",
       "      <td>1</td>\n",
       "    </tr>\n",
       "    <tr>\n",
       "      <th>9997</th>\n",
       "      <td>15627268</td>\n",
       "      <td>709</td>\n",
       "      <td>36</td>\n",
       "      <td>7</td>\n",
       "      <td>NaN</td>\n",
       "      <td>1</td>\n",
       "      <td>0</td>\n",
       "      <td>1</td>\n",
       "      <td>42085.58</td>\n",
       "      <td>1</td>\n",
       "      <td>0</td>\n",
       "      <td>0</td>\n",
       "      <td>1</td>\n",
       "      <td>1</td>\n",
       "      <td>0</td>\n",
       "    </tr>\n",
       "    <tr>\n",
       "      <th>9998</th>\n",
       "      <td>15725091</td>\n",
       "      <td>772</td>\n",
       "      <td>42</td>\n",
       "      <td>3</td>\n",
       "      <td>75075.31</td>\n",
       "      <td>2</td>\n",
       "      <td>1</td>\n",
       "      <td>0</td>\n",
       "      <td>92888.52</td>\n",
       "      <td>1</td>\n",
       "      <td>1</td>\n",
       "      <td>0</td>\n",
       "      <td>0</td>\n",
       "      <td>0</td>\n",
       "      <td>1</td>\n",
       "    </tr>\n",
       "    <tr>\n",
       "      <th>9999</th>\n",
       "      <td>15671055</td>\n",
       "      <td>792</td>\n",
       "      <td>28</td>\n",
       "      <td>4</td>\n",
       "      <td>130142.79</td>\n",
       "      <td>1</td>\n",
       "      <td>1</td>\n",
       "      <td>0</td>\n",
       "      <td>38190.78</td>\n",
       "      <td>0</td>\n",
       "      <td>0</td>\n",
       "      <td>0</td>\n",
       "      <td>1</td>\n",
       "      <td>1</td>\n",
       "      <td>0</td>\n",
       "    </tr>\n",
       "  </tbody>\n",
       "</table>\n",
       "<p>10000 rows × 15 columns</p>\n",
       "</div>"
      ],
      "text/plain": [
       "        userid  score  age  objects    balance  products  creditcard  loyalty  \\\n",
       "0     15677338    619   42        2        NaN         1           1        1   \n",
       "1     15690047    608   41        1   83807.86         1           0        1   \n",
       "2     15662040    502   42        8  159660.80         3           1        0   \n",
       "3     15744090    699   39        1        NaN         2           0        0   \n",
       "4     15780624    850   43        2  125510.82         1           1        1   \n",
       "...        ...    ...  ...      ...        ...       ...         ...      ...   \n",
       "9995  15648965    771   39        5        NaN         2           1        0   \n",
       "9996  15612628    516   35       10   57369.61         1           1        1   \n",
       "9997  15627268    709   36        7        NaN         1           0        1   \n",
       "9998  15725091    772   42        3   75075.31         2           1        0   \n",
       "9999  15671055    792   28        4  130142.79         1           1        0   \n",
       "\n",
       "      estimated_salary  churn  city_Ростов Великий  city_Рыбинск  \\\n",
       "0            101348.88      1                    0             0   \n",
       "1            112542.58      0                    0             1   \n",
       "2            113931.57      1                    0             0   \n",
       "3             93826.63      0                    0             0   \n",
       "4             79084.10      0                    0             1   \n",
       "...                ...    ...                  ...           ...   \n",
       "9995          96270.64      0                    0             0   \n",
       "9996         101699.77      0                    0             0   \n",
       "9997          42085.58      1                    0             0   \n",
       "9998          92888.52      1                    1             0   \n",
       "9999          38190.78      0                    0             0   \n",
       "\n",
       "      city_Ярославль  gender_Ж  gender_М  \n",
       "0                  1         1         0  \n",
       "1                  0         1         0  \n",
       "2                  1         1         0  \n",
       "3                  1         1         0  \n",
       "4                  0         1         0  \n",
       "...              ...       ...       ...  \n",
       "9995               1         0         1  \n",
       "9996               1         0         1  \n",
       "9997               1         1         0  \n",
       "9998               0         0         1  \n",
       "9999               1         1         0  \n",
       "\n",
       "[10000 rows x 15 columns]"
      ]
     },
     "execution_count": 13,
     "metadata": {},
     "output_type": "execute_result"
    }
   ],
   "source": [
    "# используем метод One-Hot Encoding\n",
    "df = pd.get_dummies(df)\n",
    "df"
   ]
  },
  {
   "cell_type": "markdown",
   "id": "36828ced",
   "metadata": {},
   "source": [
    "**Вывод:** \n",
    "\n",
    "* Названия столбцов приведены к единому регистру - нижнему.\n",
    "* Пропуски обнаружены по столбцу `balance`, принято решение пока оставить как есть.\n",
    "* Дубликаты не обнаружены.\n",
    "* Заменены типы данных в столбцах `gender` и `city`."
   ]
  },
  {
   "cell_type": "markdown",
   "id": "41ae75fc",
   "metadata": {},
   "source": [
    "## Исследовательский анализ данных EDA"
   ]
  },
  {
   "cell_type": "markdown",
   "id": "8348d3db",
   "metadata": {},
   "source": [
    "### Анализ средних значений признаков и стандартного отклонения без разреза по оттоку"
   ]
  },
  {
   "cell_type": "markdown",
   "id": "4b088dbf",
   "metadata": {},
   "source": [
    "Посмотрим на распределение значений. Применим функцию `describe`."
   ]
  },
  {
   "cell_type": "code",
   "execution_count": 14,
   "id": "52743e5c",
   "metadata": {
    "scrolled": false
   },
   "outputs": [
    {
     "data": {
      "text/html": [
       "<div>\n",
       "<style scoped>\n",
       "    .dataframe tbody tr th:only-of-type {\n",
       "        vertical-align: middle;\n",
       "    }\n",
       "\n",
       "    .dataframe tbody tr th {\n",
       "        vertical-align: top;\n",
       "    }\n",
       "\n",
       "    .dataframe thead th {\n",
       "        text-align: right;\n",
       "    }\n",
       "</style>\n",
       "<table border=\"1\" class=\"dataframe\">\n",
       "  <thead>\n",
       "    <tr style=\"text-align: right;\">\n",
       "      <th></th>\n",
       "      <th>userid</th>\n",
       "      <th>score</th>\n",
       "      <th>age</th>\n",
       "      <th>objects</th>\n",
       "      <th>balance</th>\n",
       "      <th>products</th>\n",
       "      <th>creditcard</th>\n",
       "      <th>loyalty</th>\n",
       "      <th>estimated_salary</th>\n",
       "      <th>churn</th>\n",
       "      <th>city_Ростов Великий</th>\n",
       "      <th>city_Рыбинск</th>\n",
       "      <th>city_Ярославль</th>\n",
       "      <th>gender_Ж</th>\n",
       "      <th>gender_М</th>\n",
       "    </tr>\n",
       "  </thead>\n",
       "  <tbody>\n",
       "    <tr>\n",
       "      <th>count</th>\n",
       "      <td>1.000000e+04</td>\n",
       "      <td>10000.000000</td>\n",
       "      <td>10000.000000</td>\n",
       "      <td>10000.000000</td>\n",
       "      <td>6383.000000</td>\n",
       "      <td>10000.000000</td>\n",
       "      <td>10000.00000</td>\n",
       "      <td>10000.000000</td>\n",
       "      <td>10000.000000</td>\n",
       "      <td>10000.000000</td>\n",
       "      <td>10000.000000</td>\n",
       "      <td>10000.000000</td>\n",
       "      <td>10000.000000</td>\n",
       "      <td>10000.000000</td>\n",
       "      <td>10000.000000</td>\n",
       "    </tr>\n",
       "    <tr>\n",
       "      <th>mean</th>\n",
       "      <td>1.573368e+07</td>\n",
       "      <td>650.528800</td>\n",
       "      <td>38.921800</td>\n",
       "      <td>5.012800</td>\n",
       "      <td>119827.493793</td>\n",
       "      <td>1.530200</td>\n",
       "      <td>0.70550</td>\n",
       "      <td>0.515100</td>\n",
       "      <td>100090.239881</td>\n",
       "      <td>0.203700</td>\n",
       "      <td>0.250900</td>\n",
       "      <td>0.247700</td>\n",
       "      <td>0.501400</td>\n",
       "      <td>0.454300</td>\n",
       "      <td>0.545700</td>\n",
       "    </tr>\n",
       "    <tr>\n",
       "      <th>std</th>\n",
       "      <td>7.193619e+04</td>\n",
       "      <td>96.653299</td>\n",
       "      <td>10.487806</td>\n",
       "      <td>2.892174</td>\n",
       "      <td>30095.056462</td>\n",
       "      <td>0.581654</td>\n",
       "      <td>0.45584</td>\n",
       "      <td>0.499797</td>\n",
       "      <td>57510.492818</td>\n",
       "      <td>0.402769</td>\n",
       "      <td>0.433553</td>\n",
       "      <td>0.431698</td>\n",
       "      <td>0.500023</td>\n",
       "      <td>0.497932</td>\n",
       "      <td>0.497932</td>\n",
       "    </tr>\n",
       "    <tr>\n",
       "      <th>min</th>\n",
       "      <td>1.560844e+07</td>\n",
       "      <td>350.000000</td>\n",
       "      <td>18.000000</td>\n",
       "      <td>0.000000</td>\n",
       "      <td>3768.690000</td>\n",
       "      <td>1.000000</td>\n",
       "      <td>0.00000</td>\n",
       "      <td>0.000000</td>\n",
       "      <td>11.580000</td>\n",
       "      <td>0.000000</td>\n",
       "      <td>0.000000</td>\n",
       "      <td>0.000000</td>\n",
       "      <td>0.000000</td>\n",
       "      <td>0.000000</td>\n",
       "      <td>0.000000</td>\n",
       "    </tr>\n",
       "    <tr>\n",
       "      <th>25%</th>\n",
       "      <td>1.567126e+07</td>\n",
       "      <td>584.000000</td>\n",
       "      <td>32.000000</td>\n",
       "      <td>3.000000</td>\n",
       "      <td>100181.975000</td>\n",
       "      <td>1.000000</td>\n",
       "      <td>0.00000</td>\n",
       "      <td>0.000000</td>\n",
       "      <td>51002.110000</td>\n",
       "      <td>0.000000</td>\n",
       "      <td>0.000000</td>\n",
       "      <td>0.000000</td>\n",
       "      <td>0.000000</td>\n",
       "      <td>0.000000</td>\n",
       "      <td>0.000000</td>\n",
       "    </tr>\n",
       "    <tr>\n",
       "      <th>50%</th>\n",
       "      <td>1.573347e+07</td>\n",
       "      <td>652.000000</td>\n",
       "      <td>37.000000</td>\n",
       "      <td>5.000000</td>\n",
       "      <td>119839.690000</td>\n",
       "      <td>1.000000</td>\n",
       "      <td>1.00000</td>\n",
       "      <td>1.000000</td>\n",
       "      <td>100193.915000</td>\n",
       "      <td>0.000000</td>\n",
       "      <td>0.000000</td>\n",
       "      <td>0.000000</td>\n",
       "      <td>1.000000</td>\n",
       "      <td>0.000000</td>\n",
       "      <td>1.000000</td>\n",
       "    </tr>\n",
       "    <tr>\n",
       "      <th>75%</th>\n",
       "      <td>1.579597e+07</td>\n",
       "      <td>718.000000</td>\n",
       "      <td>44.000000</td>\n",
       "      <td>7.000000</td>\n",
       "      <td>139512.290000</td>\n",
       "      <td>2.000000</td>\n",
       "      <td>1.00000</td>\n",
       "      <td>1.000000</td>\n",
       "      <td>149388.247500</td>\n",
       "      <td>0.000000</td>\n",
       "      <td>1.000000</td>\n",
       "      <td>0.000000</td>\n",
       "      <td>1.000000</td>\n",
       "      <td>1.000000</td>\n",
       "      <td>1.000000</td>\n",
       "    </tr>\n",
       "    <tr>\n",
       "      <th>max</th>\n",
       "      <td>1.585843e+07</td>\n",
       "      <td>850.000000</td>\n",
       "      <td>92.000000</td>\n",
       "      <td>10.000000</td>\n",
       "      <td>250898.090000</td>\n",
       "      <td>4.000000</td>\n",
       "      <td>1.00000</td>\n",
       "      <td>1.000000</td>\n",
       "      <td>199992.480000</td>\n",
       "      <td>1.000000</td>\n",
       "      <td>1.000000</td>\n",
       "      <td>1.000000</td>\n",
       "      <td>1.000000</td>\n",
       "      <td>1.000000</td>\n",
       "      <td>1.000000</td>\n",
       "    </tr>\n",
       "  </tbody>\n",
       "</table>\n",
       "</div>"
      ],
      "text/plain": [
       "             userid         score           age       objects        balance  \\\n",
       "count  1.000000e+04  10000.000000  10000.000000  10000.000000    6383.000000   \n",
       "mean   1.573368e+07    650.528800     38.921800      5.012800  119827.493793   \n",
       "std    7.193619e+04     96.653299     10.487806      2.892174   30095.056462   \n",
       "min    1.560844e+07    350.000000     18.000000      0.000000    3768.690000   \n",
       "25%    1.567126e+07    584.000000     32.000000      3.000000  100181.975000   \n",
       "50%    1.573347e+07    652.000000     37.000000      5.000000  119839.690000   \n",
       "75%    1.579597e+07    718.000000     44.000000      7.000000  139512.290000   \n",
       "max    1.585843e+07    850.000000     92.000000     10.000000  250898.090000   \n",
       "\n",
       "           products   creditcard       loyalty  estimated_salary  \\\n",
       "count  10000.000000  10000.00000  10000.000000      10000.000000   \n",
       "mean       1.530200      0.70550      0.515100     100090.239881   \n",
       "std        0.581654      0.45584      0.499797      57510.492818   \n",
       "min        1.000000      0.00000      0.000000         11.580000   \n",
       "25%        1.000000      0.00000      0.000000      51002.110000   \n",
       "50%        1.000000      1.00000      1.000000     100193.915000   \n",
       "75%        2.000000      1.00000      1.000000     149388.247500   \n",
       "max        4.000000      1.00000      1.000000     199992.480000   \n",
       "\n",
       "              churn  city_Ростов Великий  city_Рыбинск  city_Ярославль  \\\n",
       "count  10000.000000         10000.000000  10000.000000    10000.000000   \n",
       "mean       0.203700             0.250900      0.247700        0.501400   \n",
       "std        0.402769             0.433553      0.431698        0.500023   \n",
       "min        0.000000             0.000000      0.000000        0.000000   \n",
       "25%        0.000000             0.000000      0.000000        0.000000   \n",
       "50%        0.000000             0.000000      0.000000        1.000000   \n",
       "75%        0.000000             1.000000      0.000000        1.000000   \n",
       "max        1.000000             1.000000      1.000000        1.000000   \n",
       "\n",
       "           gender_Ж      gender_М  \n",
       "count  10000.000000  10000.000000  \n",
       "mean       0.454300      0.545700  \n",
       "std        0.497932      0.497932  \n",
       "min        0.000000      0.000000  \n",
       "25%        0.000000      0.000000  \n",
       "50%        0.000000      1.000000  \n",
       "75%        1.000000      1.000000  \n",
       "max        1.000000      1.000000  "
      ]
     },
     "execution_count": 14,
     "metadata": {},
     "output_type": "execute_result"
    }
   ],
   "source": [
    "df.describe()"
   ]
  },
  {
   "cell_type": "markdown",
   "id": "179d5cf5",
   "metadata": {},
   "source": [
    "**Предварительный вывод**\n",
    "* все клиенты уникальные, всего 10 000 чел.\n",
    "* в среднем, кредитный рейтинг нелохой - 650 и практически равен медианному\n",
    "* все клиенты совершеннолетние, возрастом от 18 до 92 лет, средний возраст 39 лет\n",
    "* у большинства клиентов в собственности 5 объектов\n",
    "* среднее количество денег на счете равно 119 тыс. \n",
    "* клиенты пользуются 1-2 продуктами банка\n",
    "* большинство имеют кредитную карту\n",
    "* активность проявляют чуть больше половины клиентов\n",
    "* средний отток составляет 20%, что довольно много\n",
    "* по географии распределения клиентов: половина всех живет в Ярославле, еще по четверти в Ростове Великом и Рыбинске\n",
    "* мужчин немного больше - на 4.5%"
   ]
  },
  {
   "cell_type": "markdown",
   "id": "90adb837",
   "metadata": {},
   "source": [
    "Больше всего вопросов вызывает подозрительно низкая граница заработной платы клиентов. Рассмотрим поподробней этот момент."
   ]
  },
  {
   "cell_type": "code",
   "execution_count": 15,
   "id": "7fa52f15",
   "metadata": {
    "scrolled": true
   },
   "outputs": [
    {
     "data": {
      "text/html": [
       "<div>\n",
       "<style scoped>\n",
       "    .dataframe tbody tr th:only-of-type {\n",
       "        vertical-align: middle;\n",
       "    }\n",
       "\n",
       "    .dataframe tbody tr th {\n",
       "        vertical-align: top;\n",
       "    }\n",
       "\n",
       "    .dataframe thead th {\n",
       "        text-align: right;\n",
       "    }\n",
       "</style>\n",
       "<table border=\"1\" class=\"dataframe\">\n",
       "  <thead>\n",
       "    <tr style=\"text-align: right;\">\n",
       "      <th></th>\n",
       "      <th>userid</th>\n",
       "      <th>score</th>\n",
       "      <th>age</th>\n",
       "      <th>objects</th>\n",
       "      <th>balance</th>\n",
       "      <th>products</th>\n",
       "      <th>creditcard</th>\n",
       "      <th>loyalty</th>\n",
       "      <th>estimated_salary</th>\n",
       "      <th>churn</th>\n",
       "      <th>city_Ростов Великий</th>\n",
       "      <th>city_Рыбинск</th>\n",
       "      <th>city_Ярославль</th>\n",
       "      <th>gender_Ж</th>\n",
       "      <th>gender_М</th>\n",
       "    </tr>\n",
       "  </thead>\n",
       "  <tbody>\n",
       "    <tr>\n",
       "      <th>2362</th>\n",
       "      <td>15833789</td>\n",
       "      <td>709</td>\n",
       "      <td>45</td>\n",
       "      <td>4</td>\n",
       "      <td>122917.71</td>\n",
       "      <td>1</td>\n",
       "      <td>1</td>\n",
       "      <td>1</td>\n",
       "      <td>11.58</td>\n",
       "      <td>1</td>\n",
       "      <td>1</td>\n",
       "      <td>0</td>\n",
       "      <td>0</td>\n",
       "      <td>0</td>\n",
       "      <td>1</td>\n",
       "    </tr>\n",
       "    <tr>\n",
       "      <th>9647</th>\n",
       "      <td>15722429</td>\n",
       "      <td>625</td>\n",
       "      <td>31</td>\n",
       "      <td>5</td>\n",
       "      <td>NaN</td>\n",
       "      <td>2</td>\n",
       "      <td>0</td>\n",
       "      <td>1</td>\n",
       "      <td>90.07</td>\n",
       "      <td>0</td>\n",
       "      <td>0</td>\n",
       "      <td>0</td>\n",
       "      <td>1</td>\n",
       "      <td>0</td>\n",
       "      <td>1</td>\n",
       "    </tr>\n",
       "    <tr>\n",
       "      <th>9010</th>\n",
       "      <td>15829199</td>\n",
       "      <td>645</td>\n",
       "      <td>59</td>\n",
       "      <td>8</td>\n",
       "      <td>121669.93</td>\n",
       "      <td>2</td>\n",
       "      <td>0</td>\n",
       "      <td>0</td>\n",
       "      <td>91.75</td>\n",
       "      <td>1</td>\n",
       "      <td>1</td>\n",
       "      <td>0</td>\n",
       "      <td>0</td>\n",
       "      <td>1</td>\n",
       "      <td>0</td>\n",
       "    </tr>\n",
       "    <tr>\n",
       "      <th>5548</th>\n",
       "      <td>15682398</td>\n",
       "      <td>710</td>\n",
       "      <td>38</td>\n",
       "      <td>2</td>\n",
       "      <td>NaN</td>\n",
       "      <td>2</td>\n",
       "      <td>1</td>\n",
       "      <td>0</td>\n",
       "      <td>96.27</td>\n",
       "      <td>0</td>\n",
       "      <td>0</td>\n",
       "      <td>0</td>\n",
       "      <td>1</td>\n",
       "      <td>0</td>\n",
       "      <td>1</td>\n",
       "    </tr>\n",
       "    <tr>\n",
       "      <th>4989</th>\n",
       "      <td>15645587</td>\n",
       "      <td>629</td>\n",
       "      <td>40</td>\n",
       "      <td>9</td>\n",
       "      <td>NaN</td>\n",
       "      <td>1</td>\n",
       "      <td>1</td>\n",
       "      <td>0</td>\n",
       "      <td>106.67</td>\n",
       "      <td>0</td>\n",
       "      <td>0</td>\n",
       "      <td>0</td>\n",
       "      <td>1</td>\n",
       "      <td>0</td>\n",
       "      <td>1</td>\n",
       "    </tr>\n",
       "    <tr>\n",
       "      <th>7565</th>\n",
       "      <td>15666105</td>\n",
       "      <td>708</td>\n",
       "      <td>52</td>\n",
       "      <td>10</td>\n",
       "      <td>105355.81</td>\n",
       "      <td>1</td>\n",
       "      <td>1</td>\n",
       "      <td>0</td>\n",
       "      <td>123.07</td>\n",
       "      <td>1</td>\n",
       "      <td>0</td>\n",
       "      <td>0</td>\n",
       "      <td>1</td>\n",
       "      <td>0</td>\n",
       "      <td>1</td>\n",
       "    </tr>\n",
       "    <tr>\n",
       "      <th>2498</th>\n",
       "      <td>15691471</td>\n",
       "      <td>718</td>\n",
       "      <td>37</td>\n",
       "      <td>8</td>\n",
       "      <td>NaN</td>\n",
       "      <td>2</td>\n",
       "      <td>1</td>\n",
       "      <td>1</td>\n",
       "      <td>142.81</td>\n",
       "      <td>0</td>\n",
       "      <td>0</td>\n",
       "      <td>0</td>\n",
       "      <td>1</td>\n",
       "      <td>0</td>\n",
       "      <td>1</td>\n",
       "    </tr>\n",
       "    <tr>\n",
       "      <th>8722</th>\n",
       "      <td>15761403</td>\n",
       "      <td>621</td>\n",
       "      <td>35</td>\n",
       "      <td>7</td>\n",
       "      <td>87619.29</td>\n",
       "      <td>1</td>\n",
       "      <td>1</td>\n",
       "      <td>0</td>\n",
       "      <td>143.34</td>\n",
       "      <td>0</td>\n",
       "      <td>0</td>\n",
       "      <td>0</td>\n",
       "      <td>1</td>\n",
       "      <td>0</td>\n",
       "      <td>1</td>\n",
       "    </tr>\n",
       "    <tr>\n",
       "      <th>4774</th>\n",
       "      <td>15683157</td>\n",
       "      <td>811</td>\n",
       "      <td>35</td>\n",
       "      <td>7</td>\n",
       "      <td>NaN</td>\n",
       "      <td>1</td>\n",
       "      <td>1</td>\n",
       "      <td>1</td>\n",
       "      <td>178.19</td>\n",
       "      <td>0</td>\n",
       "      <td>0</td>\n",
       "      <td>0</td>\n",
       "      <td>1</td>\n",
       "      <td>1</td>\n",
       "      <td>0</td>\n",
       "    </tr>\n",
       "    <tr>\n",
       "      <th>1451</th>\n",
       "      <td>15726934</td>\n",
       "      <td>551</td>\n",
       "      <td>38</td>\n",
       "      <td>10</td>\n",
       "      <td>NaN</td>\n",
       "      <td>2</td>\n",
       "      <td>1</td>\n",
       "      <td>1</td>\n",
       "      <td>216.27</td>\n",
       "      <td>0</td>\n",
       "      <td>0</td>\n",
       "      <td>0</td>\n",
       "      <td>1</td>\n",
       "      <td>1</td>\n",
       "      <td>0</td>\n",
       "    </tr>\n",
       "  </tbody>\n",
       "</table>\n",
       "</div>"
      ],
      "text/plain": [
       "        userid  score  age  objects    balance  products  creditcard  loyalty  \\\n",
       "2362  15833789    709   45        4  122917.71         1           1        1   \n",
       "9647  15722429    625   31        5        NaN         2           0        1   \n",
       "9010  15829199    645   59        8  121669.93         2           0        0   \n",
       "5548  15682398    710   38        2        NaN         2           1        0   \n",
       "4989  15645587    629   40        9        NaN         1           1        0   \n",
       "7565  15666105    708   52       10  105355.81         1           1        0   \n",
       "2498  15691471    718   37        8        NaN         2           1        1   \n",
       "8722  15761403    621   35        7   87619.29         1           1        0   \n",
       "4774  15683157    811   35        7        NaN         1           1        1   \n",
       "1451  15726934    551   38       10        NaN         2           1        1   \n",
       "\n",
       "      estimated_salary  churn  city_Ростов Великий  city_Рыбинск  \\\n",
       "2362             11.58      1                    1             0   \n",
       "9647             90.07      0                    0             0   \n",
       "9010             91.75      1                    1             0   \n",
       "5548             96.27      0                    0             0   \n",
       "4989            106.67      0                    0             0   \n",
       "7565            123.07      1                    0             0   \n",
       "2498            142.81      0                    0             0   \n",
       "8722            143.34      0                    0             0   \n",
       "4774            178.19      0                    0             0   \n",
       "1451            216.27      0                    0             0   \n",
       "\n",
       "      city_Ярославль  gender_Ж  gender_М  \n",
       "2362               0         0         1  \n",
       "9647               1         0         1  \n",
       "9010               0         1         0  \n",
       "5548               1         0         1  \n",
       "4989               1         0         1  \n",
       "7565               1         0         1  \n",
       "2498               1         0         1  \n",
       "8722               1         0         1  \n",
       "4774               1         1         0  \n",
       "1451               1         1         0  "
      ]
     },
     "execution_count": 15,
     "metadata": {},
     "output_type": "execute_result"
    }
   ],
   "source": [
    "df.sort_values('estimated_salary').head(10)"
   ]
  },
  {
   "cell_type": "markdown",
   "id": "1d0de373",
   "metadata": {},
   "source": [
    "Сразу заметим, что у большинства клиентов с самой низкой зарплатой показатель баланса либо примерно равен среднему (а то и выше), либо информация отсутсвует. Помимо этого у большинства клиентов оформлена кредитная карта. Что также же наводит на мысли о взаимосвязи пропусков."
   ]
  },
  {
   "cell_type": "markdown",
   "id": "91aeb33a",
   "metadata": {},
   "source": [
    "### Анализ средних значений признаков для групп с оттоком и без"
   ]
  },
  {
   "cell_type": "markdown",
   "id": "af7dc994",
   "metadata": {},
   "source": [
    "Рассчитаем средние значения признаков для ушедших и оставшихся."
   ]
  },
  {
   "cell_type": "code",
   "execution_count": 16,
   "id": "e36b646a",
   "metadata": {
    "scrolled": false
   },
   "outputs": [
    {
     "data": {
      "text/html": [
       "<div>\n",
       "<style scoped>\n",
       "    .dataframe tbody tr th:only-of-type {\n",
       "        vertical-align: middle;\n",
       "    }\n",
       "\n",
       "    .dataframe tbody tr th {\n",
       "        vertical-align: top;\n",
       "    }\n",
       "\n",
       "    .dataframe thead th {\n",
       "        text-align: right;\n",
       "    }\n",
       "</style>\n",
       "<table border=\"1\" class=\"dataframe\">\n",
       "  <thead>\n",
       "    <tr style=\"text-align: right;\">\n",
       "      <th></th>\n",
       "      <th>userid</th>\n",
       "      <th>score</th>\n",
       "      <th>age</th>\n",
       "      <th>objects</th>\n",
       "      <th>balance</th>\n",
       "      <th>products</th>\n",
       "      <th>creditcard</th>\n",
       "      <th>loyalty</th>\n",
       "      <th>estimated_salary</th>\n",
       "      <th>city_Ростов Великий</th>\n",
       "      <th>city_Рыбинск</th>\n",
       "      <th>city_Ярославль</th>\n",
       "      <th>gender_Ж</th>\n",
       "      <th>gender_М</th>\n",
       "    </tr>\n",
       "    <tr>\n",
       "      <th>churn</th>\n",
       "      <th></th>\n",
       "      <th></th>\n",
       "      <th></th>\n",
       "      <th></th>\n",
       "      <th></th>\n",
       "      <th></th>\n",
       "      <th></th>\n",
       "      <th></th>\n",
       "      <th></th>\n",
       "      <th></th>\n",
       "      <th></th>\n",
       "      <th></th>\n",
       "      <th></th>\n",
       "      <th></th>\n",
       "    </tr>\n",
       "  </thead>\n",
       "  <tbody>\n",
       "    <tr>\n",
       "      <th>0</th>\n",
       "      <td>1.573390e+07</td>\n",
       "      <td>651.853196</td>\n",
       "      <td>37.408389</td>\n",
       "      <td>5.033279</td>\n",
       "      <td>119535.864270</td>\n",
       "      <td>1.544267</td>\n",
       "      <td>0.707146</td>\n",
       "      <td>0.554565</td>\n",
       "      <td>99738.391772</td>\n",
       "      <td>0.212859</td>\n",
       "      <td>0.259199</td>\n",
       "      <td>0.527942</td>\n",
       "      <td>0.427477</td>\n",
       "      <td>0.572523</td>\n",
       "    </tr>\n",
       "    <tr>\n",
       "      <th>1</th>\n",
       "      <td>1.573279e+07</td>\n",
       "      <td>645.351497</td>\n",
       "      <td>44.837997</td>\n",
       "      <td>4.932744</td>\n",
       "      <td>120746.971132</td>\n",
       "      <td>1.475209</td>\n",
       "      <td>0.699067</td>\n",
       "      <td>0.360825</td>\n",
       "      <td>101465.677531</td>\n",
       "      <td>0.399607</td>\n",
       "      <td>0.202749</td>\n",
       "      <td>0.397644</td>\n",
       "      <td>0.559156</td>\n",
       "      <td>0.440844</td>\n",
       "    </tr>\n",
       "  </tbody>\n",
       "</table>\n",
       "</div>"
      ],
      "text/plain": [
       "             userid       score        age   objects        balance  products  \\\n",
       "churn                                                                           \n",
       "0      1.573390e+07  651.853196  37.408389  5.033279  119535.864270  1.544267   \n",
       "1      1.573279e+07  645.351497  44.837997  4.932744  120746.971132  1.475209   \n",
       "\n",
       "       creditcard   loyalty  estimated_salary  city_Ростов Великий  \\\n",
       "churn                                                                \n",
       "0        0.707146  0.554565      99738.391772             0.212859   \n",
       "1        0.699067  0.360825     101465.677531             0.399607   \n",
       "\n",
       "       city_Рыбинск  city_Ярославль  gender_Ж  gender_М  \n",
       "churn                                                    \n",
       "0          0.259199        0.527942  0.427477  0.572523  \n",
       "1          0.202749        0.397644  0.559156  0.440844  "
      ]
     },
     "execution_count": 16,
     "metadata": {},
     "output_type": "execute_result"
    }
   ],
   "source": [
    "df.groupby('churn').mean()"
   ]
  },
  {
   "cell_type": "markdown",
   "id": "a448e96f",
   "metadata": {},
   "source": [
    "**Предварительный вывод**\n",
    "\n",
    "В целом можно сказать, что ушедшие клиенты мало, чем отличаются от тех, кто остался. Но различия все же присутствуют, вот наболее сильные:\n",
    "* уходят в основном те, кто постарше\n",
    "* активные клиенты чаще остаются \n",
    "* в Ростове отточных клиентов больше оставшихся, а вот в Рыбинске и Ярославле- наооборот\n",
    "* среди ушедших клиентов - больше женщин"
   ]
  },
  {
   "cell_type": "code",
   "execution_count": 17,
   "id": "cf95c64d",
   "metadata": {},
   "outputs": [],
   "source": [
    "numeric = ['score', 'age', 'balance', 'estimated_salary']\n",
    "categorical = ['creditcard', 'loyalty', 'objects', 'products', \n",
    "               'city_Ростов Великий','city_Рыбинск', 'city_Ярославль', 'gender_Ж', 'gender_М' ]"
   ]
  },
  {
   "cell_type": "code",
   "execution_count": 18,
   "id": "45367a91",
   "metadata": {
    "scrolled": false
   },
   "outputs": [
    {
     "data": {
      "text/plain": [
       "Text(0.5, 0.98, 'Количество клиентов в разрезе категориальных переменных')"
      ]
     },
     "execution_count": 18,
     "metadata": {},
     "output_type": "execute_result"
    },
    {
     "data": {
      "image/png": "[encoded data removed]",
      "text/plain": [
       "<Figure size 1440x864 with 4 Axes>"
      ]
     },
     "metadata": {
      "needs_background": "light"
     },
     "output_type": "display_data"
    }
   ],
   "source": [
    "fig, ax = plt.subplots(2, 2, figsize=(20, 12))\n",
    "ax = ax.flatten()\n",
    "for col, subplot in zip(numeric, ax):\n",
    "    sns.histplot(df, x=col, ax=subplot, hue=\"churn\", element=\"step\", stat=\"density\", common_norm=False)\n",
    "    subplot.set_ylabel('Количество')\n",
    "    subplot.set_xlabel(col)\n",
    "    subplot.set_title('Гистограмма распределения признака {}'. format(col), size=15)\n",
    "fig.suptitle(\"Количество клиентов в разрезе категориальных переменных\", size=20)"
   ]
  },
  {
   "cell_type": "markdown",
   "id": "bcd26b73",
   "metadata": {},
   "source": [
    "**Вывод:** \n",
    "* Чаще уходят из банка клиенты с более низким кредитным рейтингом, хотя в цифрах эта разница не значительна - в среднем это 6.5 кредитных балов.\n",
    "* Чем старше клиент, тем больше вероятность его ухода - средний возраст 45 лет, против 37 лет у оставшихся.\n",
    "* По балансу на счете нет сильной разницы. Разве что у остающихся клиентов график имеет более равномерное распределение.\n",
    "* Зарплата у тех, кто уходит немного выше (~ 1700 рублей)."
   ]
  },
  {
   "cell_type": "code",
   "execution_count": 19,
   "id": "9bab7068",
   "metadata": {
    "scrolled": false
   },
   "outputs": [
    {
     "data": {
      "text/plain": [
       "Text(0.5, 0.98, 'Количество клиентов в разрезе колличественных переменных')"
      ]
     },
     "execution_count": 19,
     "metadata": {},
     "output_type": "execute_result"
    },
    {
     "data": {
      "image/png": "[encoded data removed]",
      "text/plain": [
       "<Figure size 1152x1152 with 9 Axes>"
      ]
     },
     "metadata": {
      "needs_background": "light"
     },
     "output_type": "display_data"
    }
   ],
   "source": [
    "fig, ax = plt.subplots(3,3, figsize=(16, 16))\n",
    "ax = ax.flatten()\n",
    "for col, subplot in zip(categorical, ax):\n",
    "    sns.histplot(df, x=col, ax=subplot, hue=\"churn\", element=\"step\", stat=\"density\", common_norm=False)\n",
    "    subplot.set_ylabel('Количество')\n",
    "    subplot.set_xlabel(col)\n",
    "    subplot.set_title('Гистограмма распределения признака {}'. format(col), size=10)\n",
    "fig.suptitle(\"Количество клиентов в разрезе колличественных переменных\", size=20)"
   ]
  },
  {
   "cell_type": "markdown",
   "id": "335b989f",
   "metadata": {},
   "source": [
    "**Вывод:**\n",
    "* Обе группы в равной мере пользуются кредитными картами.\n",
    "* Среди оставшихся клиентов, доля активных больше - 55% против 45% неактивных. В группе ушедших ситуация другая - 34% активных против 64% неактивных.\n",
    "* Ситуация более менее схожа. Чем большим количеством объектов владеют клиенты, там меньше вероятность их оттока.\n",
    "* По количеству человек, чаще всего уходят клиенты, пользующиеся 1 продуктом. Но также можно сказать, что с вероятностью 90-100% уходят клиенты, у которых 3-4 продукта в пользовании. Менее всего подвержены оттоку клиенты с 2 продуктами.\n",
    "* В Ростове Великом самая высокая динамика оттока клиентов.\n",
    "* В Рыбинске, как и в Ярославле динамика удержания пока что в норме - отток не превышает удержание.\n",
    "* Женщины более склонны уходить - почти 60% покидают банк.\n",
    "* С мужчинами ситуация лучше - более 57% остаются."
   ]
  },
  {
   "cell_type": "markdown",
   "id": "4df72bf3",
   "metadata": {},
   "source": [
    "### Корреляционный анализ"
   ]
  },
  {
   "cell_type": "markdown",
   "id": "755932af",
   "metadata": {},
   "source": [
    "Проведем корреляционный анализ."
   ]
  },
  {
   "cell_type": "code",
   "execution_count": 20,
   "id": "91bf56f3",
   "metadata": {
    "scrolled": false
   },
   "outputs": [
    {
     "data": {
      "image/png": "[encoded data removed]",
      "text/plain": [
       "<Figure size 1080x720 with 2 Axes>"
      ]
     },
     "metadata": {
      "needs_background": "light"
     },
     "output_type": "display_data"
    }
   ],
   "source": [
    "plt.figure(figsize=(15,10))\n",
    "\n",
    "sns.heatmap(df.corr(), annot=True, cmap=\"coolwarm\")\n",
    "plt.title('Матрица корреляций')\n",
    "plt.show()"
   ]
  },
  {
   "cell_type": "markdown",
   "id": "bf182295",
   "metadata": {},
   "source": [
    "**Вывод:**\n",
    "* Мультиколлинеарных признаков не наблюдается.\n",
    "* Наиболее сильное влияние на отток оказывают:\n",
    "    * возраст клиентов - `0.29`;\n",
    "    * город (особенно Ростов Великий) - `0.17`;\n",
    "    * активность клиентов -  `-0.16`; причем здесь наблюдается именно обратная корреляция, т.е. чем больше активность, тем меньше отток;\n",
    "    * пол клиентов - `0.11` (одинаково для обоих гендеров); для женщин - прямая зависимость, а для мужчин обратная;\n",
    "    \n",
    "В общем и в целом нельзя сказать о какой-то сильной зависимости признаков. Тем не менее, стоит проверить возраст клиентов в дальнейшем при проверке гипоттез, как фактор влияния на отток."
   ]
  },
  {
   "cell_type": "markdown",
   "id": "ae53e454",
   "metadata": {},
   "source": [
    "## Портрет клиентов, склонных уходить из банка"
   ]
  },
  {
   "cell_type": "markdown",
   "id": "fbf96f51",
   "metadata": {},
   "source": [
    "На основе проведенного исследовательского анализа составим портреты клиентов, которые склонны уходить, а также тех, кто остается."
   ]
  },
  {
   "cell_type": "markdown",
   "id": "40be7c6b",
   "metadata": {},
   "source": [
    "**Портрет клиентов, склонных к оттоку**\n",
    "* В основном женщины;\n",
    "* Средний возраст - 45 лет;\n",
    "* Город проживания - Ростов Великий;\n",
    "* Низкое проявление активности;\n",
    "* Средняя зарплата 99 738 рублей;\n",
    "* В среднем имеют меньше 5 объектов в собственности;\n",
    "* Средний кредитный рейтинг 645;\n",
    "* В основном пользуются 1 продуктом, плюс 100% отток у тех, кто пользуется 4 продуктами;\n",
    "* Пользуются кредитными картами."
   ]
  },
  {
   "cell_type": "markdown",
   "id": "508a0928",
   "metadata": {},
   "source": [
    "**Портрет клиентов, несклонных к оттоку**\n",
    "* В основном мужчины;\n",
    "* Средний возраст - 37 лет;\n",
    "* Город проживания - Ярославль и Рыбинск;\n",
    "* Высокое проявление активности;\n",
    "* Средняя зарплата 101 465 рублей;\n",
    "* В среднем имеют больше 5 объектов в собственности;\n",
    "* Средний кредитный рейтинг 651;\n",
    "* В основном пользуются 2 продуктами;\n",
    "* Пользуются кредитными картами."
   ]
  },
  {
   "cell_type": "markdown",
   "id": "094f7fdd",
   "metadata": {},
   "source": [
    "## Формулировка и проверка гипотез"
   ]
  },
  {
   "cell_type": "markdown",
   "id": "670d434e",
   "metadata": {},
   "source": [
    "### Гипотеза различия дохода между теми клиентами, которые ушли и теми, которые остались"
   ]
  },
  {
   "cell_type": "markdown",
   "id": "a18abc4a",
   "metadata": {},
   "source": [
    "**Нулевая гипотеза:** доход клиентов, которые ушли равен доходу оставшихся клиентов.\n",
    "\n",
    "**Альтернативная гипотеза:** доход клиентов, которые ушли и доход оставшихся клиентов различаются. "
   ]
  },
  {
   "cell_type": "markdown",
   "id": "814d9f07",
   "metadata": {},
   "source": [
    "Поскольку мы имеем дело со средними, то применим метод проверки гипотезы о равенстве двух средних. Для проверки подойдёт t-test(тест Стьюдента)."
   ]
  },
  {
   "cell_type": "code",
   "execution_count": 21,
   "id": "1c97556d",
   "metadata": {},
   "outputs": [],
   "source": [
    "# подготовим выборки\n",
    "df_churn_1 = df[df['churn']==1]['estimated_salary'] # для тех, кто ушел\n",
    "df_churn_0 = df[df['churn']==0]['estimated_salary'] # для тех, кто остался"
   ]
  },
  {
   "cell_type": "markdown",
   "id": "1f37f731",
   "metadata": {},
   "source": [
    "Определим равны ли выборки по количеству значений."
   ]
  },
  {
   "cell_type": "code",
   "execution_count": 22,
   "id": "e078fae5",
   "metadata": {},
   "outputs": [
    {
     "name": "stdout",
     "output_type": "stream",
     "text": [
      "Размеры выборок составляют:\n",
      " для попавших в отток - 2037\n",
      " для оставшихся в банке - 7963\n"
     ]
    }
   ],
   "source": [
    "print(\n",
    "    F\"Размеры выборок составляют:\\n для попавших в отток - {df_churn_1.count()}\"\n",
    "    F\"\\n для оставшихся в банке - {df_churn_0.count()}\"\n",
    ")"
   ]
  },
  {
   "cell_type": "markdown",
   "id": "4894b0fa",
   "metadata": {},
   "source": [
    "Так как выбороки имеют разные размеры, установим значение параметра `equal_var` равное  `False`"
   ]
  },
  {
   "cell_type": "code",
   "execution_count": 23,
   "id": "eb6f0d83",
   "metadata": {},
   "outputs": [
    {
     "name": "stdout",
     "output_type": "stream",
     "text": [
      "p-значение: 0.22892461305145798\n",
      "Не получилось отвергнуть нулевую гипотезу\n"
     ]
    }
   ],
   "source": [
    "# зададим критический уровень статистической значимости равным 5%\n",
    "alpha = 0.05\n",
    "\n",
    "results = st.ttest_ind(df_churn_1, df_churn_0, equal_var = False)\n",
    "\n",
    "print('p-значение:', results.pvalue)\n",
    "\n",
    "if (results.pvalue < alpha):\n",
    "    print(\"Отвергаем нулевую гипотезу\")\n",
    "else:\n",
    "    print(\"Не получилось отвергнуть нулевую гипотезу\")"
   ]
  },
  {
   "cell_type": "markdown",
   "id": "70fa9833",
   "metadata": {},
   "source": [
    "**Вывод:**\n",
    "\n",
    "Не получилось отвергнуть нулевую гипотезу: нельзя сказать о том, что разница между средними значениями статистически значима."
   ]
  },
  {
   "cell_type": "markdown",
   "id": "55772923",
   "metadata": {},
   "source": [
    "### Гипотеза различия возраста между теми клиентами, которые ушли и теми, которые остались"
   ]
  },
  {
   "cell_type": "markdown",
   "id": "b9a478ba",
   "metadata": {},
   "source": [
    "**Нулевая гипотеза:** возраст клиентов, которые ушли равен возрасту оставшихся клиентов.\n",
    "\n",
    "**Альтернативная гипотеза:** возраст клиентов, которые ушли и возраст оставшихся клиентов различаются. "
   ]
  },
  {
   "cell_type": "code",
   "execution_count": 24,
   "id": "2f362867",
   "metadata": {},
   "outputs": [],
   "source": [
    "# подготовим выборки\n",
    "df_age_1 = df[df['churn']==1]['age'] # для тех, кто ушел\n",
    "df_age_0 = df[df['churn']==0]['age'] # для тех, кто остался"
   ]
  },
  {
   "cell_type": "markdown",
   "id": "3d3ec77a",
   "metadata": {},
   "source": [
    "Размер выборок для признака \"возраст\" равен размеру выборки для признака \"доход\", поэтому параметр `equal_var` оставляем  `False`"
   ]
  },
  {
   "cell_type": "code",
   "execution_count": 25,
   "id": "005f5edd",
   "metadata": {},
   "outputs": [
    {
     "name": "stdout",
     "output_type": "stream",
     "text": [
      "p-значение: 4.7127272656641046e-179\n",
      "Отвергаем нулевую гипотезу.\n"
     ]
    }
   ],
   "source": [
    "alpha = 0.05\n",
    "\n",
    "results = st.ttest_ind(df_age_1, df_age_0, equal_var = False)\n",
    "\n",
    "print('p-значение:', results.pvalue)\n",
    "\n",
    "if (results.pvalue < alpha):\n",
    "    print(\"Отвергаем нулевую гипотезу.\")\n",
    "else:\n",
    "    print(\"Не получилось отвергнуть нулевую гипотезу.\")"
   ]
  },
  {
   "cell_type": "markdown",
   "id": "e85100a0",
   "metadata": {},
   "source": [
    "**Вывод:**\n",
    "\n",
    "Отвергаем нулевую гипотезу. Значит между средним возрастом ушедших и оставшихся клиентов имеется статистически значимая разница."
   ]
  },
  {
   "cell_type": "markdown",
   "id": "1e577f7e",
   "metadata": {},
   "source": [
    "## Общий вывод и рекомендации"
   ]
  },
  {
   "cell_type": "markdown",
   "id": "d68b6274",
   "metadata": {},
   "source": [
    "1\\. В процессе **загрузки и предобработки** было определено, что датасет состоит из 12 столбцов и 10 000 строк. Выполнены следующий действия:\n",
    "* Названия столбцов приведены к единому регистру - нижнему.\n",
    "* Пропуски, обнаруженные по столбцу `balance`, было принято решение не трогать.\n",
    "* Заменены типы данных в столбцах `gender` и `city`.\n",
    "\n",
    "2\\. В результате **исследовательского анализа EDA** были определены портреты клиентов:\n",
    "\n",
    "**Портрет клиентов, склонных к оттоку**\n",
    "* В основном женщины;\n",
    "* Средний возраст - 45 лет;\n",
    "* Город проживания - Ростов Великий;\n",
    "* Низкое проявление активности;\n",
    "* Средняя зарплата 99 738 рублей;\n",
    "* В среднем имеют меньше 5 объектов в собственности;\n",
    "* Средний кредитный рейтинг 645;\n",
    "* В основном пользуются 1 продуктом, плюс 100% отток у тех, кто пользуется 4 продуктами;\n",
    "* Пользуются кредитными картами.\n",
    "\n",
    "**Портрет клиентов, несклонных к оттоку**\n",
    "* В основном мужчины;\n",
    "* Средний возраст - 37 лет;\n",
    "* Город проживания - Ярославль и Рыбинск;\n",
    "* Высокое проявление активности;\n",
    "* Средняя зарплата 101 465 рублей;\n",
    "* В среднем имеют больше 5 объектов в собственности;\n",
    "* Средний кредитный рейтинг 651;\n",
    "* В основном пользуются 2 продуктами;\n",
    "* Пользуются кредитными картами.\n",
    "\n",
    "3\\. В процессе **проверки гипотез**:\n",
    "\n",
    "* не получилось отвергнуть гипотезу `о различии дохода между теми клиентами, которые ушли и теми, которые остались`, так как нельзя сказать, что разница между средними значениями статистически значима;\n",
    "* была отвергнута гипотеза `о равенстве возраста ушедших и оставшихся клиентов`, что означает наличие статистически значимой разницы между средним возрастом ушедших и оставшихся клиентов.\n"
   ]
  },
  {
   "cell_type": "markdown",
   "id": "6f09953e",
   "metadata": {},
   "source": [
    "**Рекомендации:**\n",
    "1. В первую очередь обратить внимание на клиентов старшей возрастной группы. Как вариант, предлагать комплексные предложения, например дебетовые карты с повышенным кэшбеком в аптеках и на остаток баланса карты. Также будет неплохим подспорьем увеличить процентную ставку на вклады, т.к. пенсионеры склонны откладывать деньги.\n",
    "2. Провести разбор оттока клиентов в городе Ростов Великий. Возможно банки-конкуренты предлагают лучшие условия обслуживания. \n",
    "3. Необходимо повысить активность клиентов. Как именно: внедрение различных бонусных программ при пользовании продуктами банка, оповещать об интересных событиях и акциях путем смс-информирования и push-уведомлений, возможно доработать приложение банка - повысить удобство пользования и качество работы.\n",
    "4. Улучшить отдельные кредитные условия для клиентов-женщин. Возможно необходимо проработать смягчение требований к получению займов."
   ]
  }
 ],
 "metadata": {
  "ExecuteTimeLog": [
   {
    "duration": 387,
    "start_time": "2022-08-23T13:30:41.899Z"
   },
   {
    "duration": 61,
    "start_time": "2022-08-23T13:38:25.061Z"
   },
   {
    "duration": 8,
    "start_time": "2022-08-23T13:38:31.855Z"
   },
   {
    "duration": 909,
    "start_time": "2022-08-23T13:38:39.654Z"
   },
   {
    "duration": 83,
    "start_time": "2022-08-23T13:41:15.310Z"
   },
   {
    "duration": 20,
    "start_time": "2022-08-23T13:41:17.765Z"
   },
   {
    "duration": 42,
    "start_time": "2022-08-23T13:42:56.334Z"
   },
   {
    "duration": 12,
    "start_time": "2022-08-23T13:43:01.934Z"
   },
   {
    "duration": 18,
    "start_time": "2022-08-23T13:43:07.518Z"
   },
   {
    "duration": 1983,
    "start_time": "2022-08-24T11:21:18.628Z"
   },
   {
    "duration": 177,
    "start_time": "2022-08-24T11:21:20.614Z"
   },
   {
    "duration": 27,
    "start_time": "2022-08-24T11:21:20.794Z"
   },
   {
    "duration": 24,
    "start_time": "2022-08-24T11:21:20.824Z"
   },
   {
    "duration": 1716,
    "start_time": "2022-08-24T11:21:31.276Z"
   },
   {
    "duration": 55,
    "start_time": "2022-08-24T11:21:32.995Z"
   },
   {
    "duration": 29,
    "start_time": "2022-08-24T11:21:33.052Z"
   },
   {
    "duration": 25,
    "start_time": "2022-08-24T11:21:33.085Z"
   },
   {
    "duration": 10,
    "start_time": "2022-08-24T11:26:59.660Z"
   },
   {
    "duration": 4,
    "start_time": "2022-08-24T11:27:18.096Z"
   },
   {
    "duration": 31,
    "start_time": "2022-08-24T11:27:26.985Z"
   },
   {
    "duration": 55,
    "start_time": "2022-08-24T11:29:44.905Z"
   },
   {
    "duration": 84,
    "start_time": "2022-08-24T11:55:23.999Z"
   },
   {
    "duration": 10,
    "start_time": "2022-08-24T12:19:51.406Z"
   },
   {
    "duration": 18,
    "start_time": "2022-08-24T12:28:17.385Z"
   },
   {
    "duration": 7,
    "start_time": "2022-08-24T12:30:19.044Z"
   },
   {
    "duration": 9,
    "start_time": "2022-08-24T12:30:35.954Z"
   },
   {
    "duration": 1264,
    "start_time": "2022-08-24T12:30:53.929Z"
   },
   {
    "duration": 8,
    "start_time": "2022-08-24T12:30:57.402Z"
   },
   {
    "duration": 10,
    "start_time": "2022-08-24T12:31:32.953Z"
   },
   {
    "duration": 9,
    "start_time": "2022-08-24T12:31:41.489Z"
   },
   {
    "duration": 7,
    "start_time": "2022-08-24T12:31:53.258Z"
   },
   {
    "duration": 7,
    "start_time": "2022-08-24T12:32:15.074Z"
   },
   {
    "duration": 8,
    "start_time": "2022-08-24T12:35:14.378Z"
   },
   {
    "duration": 1334,
    "start_time": "2022-08-24T12:42:50.893Z"
   },
   {
    "duration": 48,
    "start_time": "2022-08-24T12:42:52.229Z"
   },
   {
    "duration": 18,
    "start_time": "2022-08-24T12:42:52.279Z"
   },
   {
    "duration": 17,
    "start_time": "2022-08-24T12:42:52.300Z"
   },
   {
    "duration": 9,
    "start_time": "2022-08-24T12:42:52.319Z"
   },
   {
    "duration": 56,
    "start_time": "2022-08-24T12:42:52.330Z"
   },
   {
    "duration": 9,
    "start_time": "2022-08-24T12:42:52.388Z"
   },
   {
    "duration": 16,
    "start_time": "2022-08-24T12:42:52.399Z"
   },
   {
    "duration": 9,
    "start_time": "2022-08-24T12:42:52.417Z"
   },
   {
    "duration": 8,
    "start_time": "2022-08-24T12:42:52.429Z"
   },
   {
    "duration": 11,
    "start_time": "2022-08-24T12:42:52.439Z"
   },
   {
    "duration": 149,
    "start_time": "2022-08-24T12:42:52.452Z"
   },
   {
    "duration": 0,
    "start_time": "2022-08-24T12:42:52.603Z"
   },
   {
    "duration": 8,
    "start_time": "2022-08-24T12:43:34.724Z"
   },
   {
    "duration": 20,
    "start_time": "2022-08-24T13:08:11.789Z"
   },
   {
    "duration": 1364,
    "start_time": "2022-08-24T13:08:17.134Z"
   },
   {
    "duration": 50,
    "start_time": "2022-08-24T13:08:18.501Z"
   },
   {
    "duration": 19,
    "start_time": "2022-08-24T13:08:18.553Z"
   },
   {
    "duration": 28,
    "start_time": "2022-08-24T13:08:18.574Z"
   },
   {
    "duration": 14,
    "start_time": "2022-08-24T13:08:18.606Z"
   },
   {
    "duration": 50,
    "start_time": "2022-08-24T13:08:18.622Z"
   },
   {
    "duration": 18,
    "start_time": "2022-08-24T13:08:18.674Z"
   },
   {
    "duration": 11,
    "start_time": "2022-08-24T13:08:18.694Z"
   },
   {
    "duration": 9,
    "start_time": "2022-08-24T13:08:18.707Z"
   },
   {
    "duration": 8,
    "start_time": "2022-08-24T13:08:18.718Z"
   },
   {
    "duration": 15,
    "start_time": "2022-08-24T13:08:18.728Z"
   },
   {
    "duration": 60,
    "start_time": "2022-08-24T13:08:18.745Z"
   },
   {
    "duration": 8,
    "start_time": "2022-08-24T13:13:42.442Z"
   },
   {
    "duration": 29,
    "start_time": "2022-08-24T13:14:41.625Z"
   },
   {
    "duration": 7,
    "start_time": "2022-08-24T13:15:00.601Z"
   },
   {
    "duration": 6,
    "start_time": "2022-08-24T13:15:04.146Z"
   },
   {
    "duration": 6,
    "start_time": "2022-08-24T13:15:08.177Z"
   },
   {
    "duration": 6,
    "start_time": "2022-08-24T13:15:15.105Z"
   },
   {
    "duration": 16,
    "start_time": "2022-08-24T13:18:14.507Z"
   },
   {
    "duration": 18,
    "start_time": "2022-08-24T13:18:19.078Z"
   },
   {
    "duration": 35,
    "start_time": "2022-08-24T13:18:43.261Z"
   },
   {
    "duration": 1332,
    "start_time": "2022-08-24T13:22:18.307Z"
   },
   {
    "duration": 42,
    "start_time": "2022-08-24T13:22:19.642Z"
   },
   {
    "duration": 18,
    "start_time": "2022-08-24T13:22:19.686Z"
   },
   {
    "duration": 23,
    "start_time": "2022-08-24T13:22:19.705Z"
   },
   {
    "duration": 4,
    "start_time": "2022-08-24T13:22:19.732Z"
   },
   {
    "duration": 11,
    "start_time": "2022-08-24T13:22:19.738Z"
   },
   {
    "duration": 43,
    "start_time": "2022-08-24T13:22:19.751Z"
   },
   {
    "duration": 8,
    "start_time": "2022-08-24T13:22:19.797Z"
   },
   {
    "duration": 9,
    "start_time": "2022-08-24T13:22:19.807Z"
   },
   {
    "duration": 12,
    "start_time": "2022-08-24T13:22:19.817Z"
   },
   {
    "duration": 27,
    "start_time": "2022-08-24T13:22:19.831Z"
   },
   {
    "duration": 57,
    "start_time": "2022-08-24T13:22:19.860Z"
   },
   {
    "duration": 30,
    "start_time": "2022-08-24T13:22:40.895Z"
   },
   {
    "duration": 20,
    "start_time": "2022-08-24T13:23:26.368Z"
   },
   {
    "duration": 13,
    "start_time": "2022-08-24T13:23:29.663Z"
   },
   {
    "duration": 18,
    "start_time": "2022-08-24T13:24:42.754Z"
   },
   {
    "duration": 61,
    "start_time": "2022-08-24T13:24:52.232Z"
   },
   {
    "duration": 27,
    "start_time": "2022-08-24T13:40:29.485Z"
   },
   {
    "duration": 24,
    "start_time": "2022-08-24T14:02:05.133Z"
   },
   {
    "duration": 79,
    "start_time": "2022-08-24T14:06:05.684Z"
   },
   {
    "duration": 63,
    "start_time": "2022-08-24T14:06:16.042Z"
   },
   {
    "duration": 14,
    "start_time": "2022-08-24T14:06:33.237Z"
   },
   {
    "duration": 17,
    "start_time": "2022-08-24T14:06:48.724Z"
   },
   {
    "duration": 34,
    "start_time": "2022-08-24T14:54:27.014Z"
   },
   {
    "duration": 17,
    "start_time": "2022-08-24T14:54:36.216Z"
   },
   {
    "duration": 18,
    "start_time": "2022-08-24T14:54:42.434Z"
   },
   {
    "duration": 33,
    "start_time": "2022-08-24T14:54:52.700Z"
   },
   {
    "duration": 1278,
    "start_time": "2022-08-25T06:23:37.004Z"
   },
   {
    "duration": 150,
    "start_time": "2022-08-25T06:23:38.284Z"
   },
   {
    "duration": 16,
    "start_time": "2022-08-25T06:23:38.436Z"
   },
   {
    "duration": 12,
    "start_time": "2022-08-25T06:23:38.453Z"
   },
   {
    "duration": 9,
    "start_time": "2022-08-25T06:23:38.467Z"
   },
   {
    "duration": 9,
    "start_time": "2022-08-25T06:23:38.477Z"
   },
   {
    "duration": 6,
    "start_time": "2022-08-25T06:23:38.488Z"
   },
   {
    "duration": 11,
    "start_time": "2022-08-25T06:23:38.495Z"
   },
   {
    "duration": 5,
    "start_time": "2022-08-25T06:23:38.507Z"
   },
   {
    "duration": 5,
    "start_time": "2022-08-25T06:23:38.514Z"
   },
   {
    "duration": 14,
    "start_time": "2022-08-25T06:23:38.520Z"
   },
   {
    "duration": 35,
    "start_time": "2022-08-25T06:23:38.535Z"
   },
   {
    "duration": 42,
    "start_time": "2022-08-25T06:23:38.571Z"
   },
   {
    "duration": 15,
    "start_time": "2022-08-25T06:23:38.615Z"
   },
   {
    "duration": 9,
    "start_time": "2022-08-25T06:40:48.725Z"
   },
   {
    "duration": 122,
    "start_time": "2022-08-25T07:11:36.044Z"
   },
   {
    "duration": 9,
    "start_time": "2022-08-25T07:12:06.585Z"
   },
   {
    "duration": 9,
    "start_time": "2022-08-25T07:12:15.729Z"
   },
   {
    "duration": 10,
    "start_time": "2022-08-25T07:12:24.153Z"
   },
   {
    "duration": 18,
    "start_time": "2022-08-25T07:12:34.401Z"
   },
   {
    "duration": 1101,
    "start_time": "2022-08-25T07:16:34.174Z"
   },
   {
    "duration": 41,
    "start_time": "2022-08-25T07:16:35.277Z"
   },
   {
    "duration": 17,
    "start_time": "2022-08-25T07:16:35.319Z"
   },
   {
    "duration": 12,
    "start_time": "2022-08-25T07:16:35.338Z"
   },
   {
    "duration": 10,
    "start_time": "2022-08-25T07:16:35.351Z"
   },
   {
    "duration": 12,
    "start_time": "2022-08-25T07:16:35.363Z"
   },
   {
    "duration": 40,
    "start_time": "2022-08-25T07:16:35.376Z"
   },
   {
    "duration": 5,
    "start_time": "2022-08-25T07:16:35.418Z"
   },
   {
    "duration": 1585,
    "start_time": "2022-08-25T07:16:35.425Z"
   },
   {
    "duration": 0,
    "start_time": "2022-08-25T07:16:37.012Z"
   },
   {
    "duration": 0,
    "start_time": "2022-08-25T07:16:37.013Z"
   },
   {
    "duration": 0,
    "start_time": "2022-08-25T07:16:37.014Z"
   },
   {
    "duration": 0,
    "start_time": "2022-08-25T07:16:37.015Z"
   },
   {
    "duration": 0,
    "start_time": "2022-08-25T07:16:37.016Z"
   },
   {
    "duration": 0,
    "start_time": "2022-08-25T07:16:37.017Z"
   },
   {
    "duration": 0,
    "start_time": "2022-08-25T07:16:37.018Z"
   },
   {
    "duration": 7,
    "start_time": "2022-08-25T07:17:15.356Z"
   },
   {
    "duration": 6,
    "start_time": "2022-08-25T07:17:15.828Z"
   },
   {
    "duration": 7,
    "start_time": "2022-08-25T07:17:16.255Z"
   },
   {
    "duration": 1022,
    "start_time": "2022-08-25T07:18:32.561Z"
   },
   {
    "duration": 41,
    "start_time": "2022-08-25T07:18:33.585Z"
   },
   {
    "duration": 15,
    "start_time": "2022-08-25T07:18:33.628Z"
   },
   {
    "duration": 20,
    "start_time": "2022-08-25T07:18:33.645Z"
   },
   {
    "duration": 20,
    "start_time": "2022-08-25T07:18:33.667Z"
   },
   {
    "duration": 18,
    "start_time": "2022-08-25T07:18:33.688Z"
   },
   {
    "duration": 21,
    "start_time": "2022-08-25T07:18:33.707Z"
   },
   {
    "duration": 11,
    "start_time": "2022-08-25T07:18:33.730Z"
   },
   {
    "duration": 22,
    "start_time": "2022-08-25T07:18:33.742Z"
   },
   {
    "duration": 13,
    "start_time": "2022-08-25T07:18:33.766Z"
   },
   {
    "duration": 22,
    "start_time": "2022-08-25T07:18:33.781Z"
   },
   {
    "duration": 16,
    "start_time": "2022-08-25T07:18:33.805Z"
   },
   {
    "duration": 58,
    "start_time": "2022-08-25T07:18:33.822Z"
   },
   {
    "duration": 14,
    "start_time": "2022-08-25T07:18:33.881Z"
   },
   {
    "duration": 23,
    "start_time": "2022-08-25T07:18:33.897Z"
   },
   {
    "duration": 7,
    "start_time": "2022-08-25T07:20:27.497Z"
   },
   {
    "duration": 20,
    "start_time": "2022-08-25T07:20:36.921Z"
   },
   {
    "duration": 1012,
    "start_time": "2022-08-25T08:14:19.957Z"
   },
   {
    "duration": 39,
    "start_time": "2022-08-25T08:14:20.971Z"
   },
   {
    "duration": 14,
    "start_time": "2022-08-25T08:14:21.011Z"
   },
   {
    "duration": 11,
    "start_time": "2022-08-25T08:14:21.028Z"
   },
   {
    "duration": 10,
    "start_time": "2022-08-25T08:14:21.041Z"
   },
   {
    "duration": 8,
    "start_time": "2022-08-25T08:14:21.052Z"
   },
   {
    "duration": 6,
    "start_time": "2022-08-25T08:14:21.061Z"
   },
   {
    "duration": 6,
    "start_time": "2022-08-25T08:14:21.069Z"
   },
   {
    "duration": 6,
    "start_time": "2022-08-25T08:14:21.106Z"
   },
   {
    "duration": 5,
    "start_time": "2022-08-25T08:14:21.115Z"
   },
   {
    "duration": 10,
    "start_time": "2022-08-25T08:14:21.121Z"
   },
   {
    "duration": 21,
    "start_time": "2022-08-25T08:14:21.132Z"
   },
   {
    "duration": 67,
    "start_time": "2022-08-25T08:14:21.154Z"
   },
   {
    "duration": 13,
    "start_time": "2022-08-25T08:14:21.223Z"
   },
   {
    "duration": 17,
    "start_time": "2022-08-25T08:14:21.237Z"
   },
   {
    "duration": 13,
    "start_time": "2022-08-25T08:36:23.765Z"
   },
   {
    "duration": 12,
    "start_time": "2022-08-25T08:37:51.046Z"
   },
   {
    "duration": 1047,
    "start_time": "2022-08-25T08:37:58.925Z"
   },
   {
    "duration": 40,
    "start_time": "2022-08-25T08:37:59.974Z"
   },
   {
    "duration": 15,
    "start_time": "2022-08-25T08:38:00.015Z"
   },
   {
    "duration": 22,
    "start_time": "2022-08-25T08:38:00.032Z"
   },
   {
    "duration": 14,
    "start_time": "2022-08-25T08:38:00.055Z"
   },
   {
    "duration": 20,
    "start_time": "2022-08-25T08:38:00.070Z"
   },
   {
    "duration": 10,
    "start_time": "2022-08-25T08:38:00.091Z"
   },
   {
    "duration": 6,
    "start_time": "2022-08-25T08:38:00.103Z"
   },
   {
    "duration": 7,
    "start_time": "2022-08-25T08:38:00.110Z"
   },
   {
    "duration": 5,
    "start_time": "2022-08-25T08:38:00.119Z"
   },
   {
    "duration": 8,
    "start_time": "2022-08-25T08:38:00.126Z"
   },
   {
    "duration": 24,
    "start_time": "2022-08-25T08:38:00.135Z"
   },
   {
    "duration": 62,
    "start_time": "2022-08-25T08:38:00.160Z"
   },
   {
    "duration": 11,
    "start_time": "2022-08-25T08:38:00.224Z"
   },
   {
    "duration": 11,
    "start_time": "2022-08-25T08:38:00.237Z"
   },
   {
    "duration": 16,
    "start_time": "2022-08-25T08:38:11.277Z"
   },
   {
    "duration": 1084,
    "start_time": "2022-08-25T08:55:47.885Z"
   },
   {
    "duration": 39,
    "start_time": "2022-08-25T08:55:48.971Z"
   },
   {
    "duration": 14,
    "start_time": "2022-08-25T08:55:49.012Z"
   },
   {
    "duration": 12,
    "start_time": "2022-08-25T08:55:49.028Z"
   },
   {
    "duration": 11,
    "start_time": "2022-08-25T08:55:49.042Z"
   },
   {
    "duration": 7,
    "start_time": "2022-08-25T08:55:49.054Z"
   },
   {
    "duration": 7,
    "start_time": "2022-08-25T08:55:49.063Z"
   },
   {
    "duration": 37,
    "start_time": "2022-08-25T08:55:49.072Z"
   },
   {
    "duration": 6,
    "start_time": "2022-08-25T08:55:49.110Z"
   },
   {
    "duration": 6,
    "start_time": "2022-08-25T08:55:49.118Z"
   },
   {
    "duration": 9,
    "start_time": "2022-08-25T08:55:49.125Z"
   },
   {
    "duration": 22,
    "start_time": "2022-08-25T08:55:49.135Z"
   },
   {
    "duration": 75,
    "start_time": "2022-08-25T08:55:49.158Z"
   },
   {
    "duration": 12,
    "start_time": "2022-08-25T08:55:49.235Z"
   },
   {
    "duration": 15,
    "start_time": "2022-08-25T08:55:49.248Z"
   },
   {
    "duration": 1293,
    "start_time": "2022-08-25T12:44:54.676Z"
   },
   {
    "duration": 39,
    "start_time": "2022-08-25T12:44:55.971Z"
   },
   {
    "duration": 17,
    "start_time": "2022-08-25T12:44:56.012Z"
   },
   {
    "duration": 12,
    "start_time": "2022-08-25T12:44:56.032Z"
   },
   {
    "duration": 21,
    "start_time": "2022-08-25T12:44:56.046Z"
   },
   {
    "duration": 23,
    "start_time": "2022-08-25T12:44:56.069Z"
   },
   {
    "duration": 37,
    "start_time": "2022-08-25T12:44:56.094Z"
   },
   {
    "duration": 28,
    "start_time": "2022-08-25T12:44:56.133Z"
   },
   {
    "duration": 20,
    "start_time": "2022-08-25T12:44:56.163Z"
   },
   {
    "duration": 10,
    "start_time": "2022-08-25T12:44:56.185Z"
   },
   {
    "duration": 32,
    "start_time": "2022-08-25T12:44:56.197Z"
   },
   {
    "duration": 33,
    "start_time": "2022-08-25T12:44:56.230Z"
   },
   {
    "duration": 52,
    "start_time": "2022-08-25T12:44:56.265Z"
   },
   {
    "duration": 13,
    "start_time": "2022-08-25T12:44:56.319Z"
   },
   {
    "duration": 5,
    "start_time": "2022-08-25T12:44:56.334Z"
   },
   {
    "duration": 20,
    "start_time": "2022-08-25T12:44:56.340Z"
   },
   {
    "duration": 1140,
    "start_time": "2022-08-25T12:45:20.062Z"
   },
   {
    "duration": 89,
    "start_time": "2022-08-25T12:46:54.458Z"
   },
   {
    "duration": 3,
    "start_time": "2022-08-25T12:46:56.914Z"
   },
   {
    "duration": 1831,
    "start_time": "2022-08-25T12:46:57.458Z"
   },
   {
    "duration": 3,
    "start_time": "2022-08-25T12:47:10.018Z"
   },
   {
    "duration": 3,
    "start_time": "2022-08-25T12:47:13.546Z"
   },
   {
    "duration": 1718,
    "start_time": "2022-08-25T12:47:14.035Z"
   },
   {
    "duration": 2,
    "start_time": "2022-08-25T12:47:21.562Z"
   },
   {
    "duration": 508,
    "start_time": "2022-08-25T12:47:24.187Z"
   },
   {
    "duration": 1604,
    "start_time": "2022-08-25T12:49:23.668Z"
   },
   {
    "duration": 1624,
    "start_time": "2022-08-25T12:49:35.708Z"
   },
   {
    "duration": 9,
    "start_time": "2022-08-25T12:52:02.356Z"
   },
   {
    "duration": 1599,
    "start_time": "2022-08-25T12:52:09.140Z"
   },
   {
    "duration": 18,
    "start_time": "2022-08-25T12:57:32.417Z"
   },
   {
    "duration": 1606,
    "start_time": "2022-08-25T12:58:54.073Z"
   },
   {
    "duration": 1487,
    "start_time": "2022-08-25T12:59:30.551Z"
   },
   {
    "duration": 23,
    "start_time": "2022-08-25T13:01:31.968Z"
   },
   {
    "duration": 1627,
    "start_time": "2022-08-25T13:01:40.368Z"
   },
   {
    "duration": 1041,
    "start_time": "2022-08-25T13:09:13.150Z"
   },
   {
    "duration": 39,
    "start_time": "2022-08-25T13:09:14.193Z"
   },
   {
    "duration": 14,
    "start_time": "2022-08-25T13:09:14.233Z"
   },
   {
    "duration": 10,
    "start_time": "2022-08-25T13:09:14.249Z"
   },
   {
    "duration": 15,
    "start_time": "2022-08-25T13:09:14.261Z"
   },
   {
    "duration": 8,
    "start_time": "2022-08-25T13:09:14.277Z"
   },
   {
    "duration": 6,
    "start_time": "2022-08-25T13:09:14.287Z"
   },
   {
    "duration": 15,
    "start_time": "2022-08-25T13:09:14.294Z"
   },
   {
    "duration": 6,
    "start_time": "2022-08-25T13:09:14.311Z"
   },
   {
    "duration": 6,
    "start_time": "2022-08-25T13:09:14.319Z"
   },
   {
    "duration": 10,
    "start_time": "2022-08-25T13:09:14.327Z"
   },
   {
    "duration": 23,
    "start_time": "2022-08-25T13:09:14.338Z"
   },
   {
    "duration": 72,
    "start_time": "2022-08-25T13:09:14.363Z"
   },
   {
    "duration": 13,
    "start_time": "2022-08-25T13:09:14.437Z"
   },
   {
    "duration": 18,
    "start_time": "2022-08-25T13:09:14.451Z"
   },
   {
    "duration": 1470,
    "start_time": "2022-08-25T13:09:14.470Z"
   },
   {
    "duration": 1075,
    "start_time": "2022-08-25T13:11:55.612Z"
   },
   {
    "duration": 40,
    "start_time": "2022-08-25T13:11:56.689Z"
   },
   {
    "duration": 13,
    "start_time": "2022-08-25T13:11:56.730Z"
   },
   {
    "duration": 11,
    "start_time": "2022-08-25T13:11:56.745Z"
   },
   {
    "duration": 9,
    "start_time": "2022-08-25T13:11:56.757Z"
   },
   {
    "duration": 9,
    "start_time": "2022-08-25T13:11:56.768Z"
   },
   {
    "duration": 6,
    "start_time": "2022-08-25T13:11:56.778Z"
   },
   {
    "duration": 21,
    "start_time": "2022-08-25T13:11:56.785Z"
   },
   {
    "duration": 5,
    "start_time": "2022-08-25T13:11:56.808Z"
   },
   {
    "duration": 6,
    "start_time": "2022-08-25T13:11:56.815Z"
   },
   {
    "duration": 9,
    "start_time": "2022-08-25T13:11:56.822Z"
   },
   {
    "duration": 22,
    "start_time": "2022-08-25T13:11:56.832Z"
   },
   {
    "duration": 70,
    "start_time": "2022-08-25T13:11:56.856Z"
   },
   {
    "duration": 18,
    "start_time": "2022-08-25T13:11:56.929Z"
   },
   {
    "duration": 17,
    "start_time": "2022-08-25T13:11:56.948Z"
   },
   {
    "duration": 1458,
    "start_time": "2022-08-25T13:11:56.966Z"
   },
   {
    "duration": 170,
    "start_time": "2022-08-25T13:26:50.796Z"
   },
   {
    "duration": 195,
    "start_time": "2022-08-25T13:27:06.529Z"
   },
   {
    "duration": 170,
    "start_time": "2022-08-25T13:27:33.350Z"
   },
   {
    "duration": 1073,
    "start_time": "2022-08-25T13:55:08.151Z"
   },
   {
    "duration": 8,
    "start_time": "2022-08-25T14:01:29.751Z"
   },
   {
    "duration": 17,
    "start_time": "2022-08-25T14:01:57.073Z"
   },
   {
    "duration": 134,
    "start_time": "2022-08-25T14:02:20.890Z"
   },
   {
    "duration": 616,
    "start_time": "2022-08-25T14:02:32.786Z"
   },
   {
    "duration": 592,
    "start_time": "2022-08-25T14:03:02.761Z"
   },
   {
    "duration": 277,
    "start_time": "2022-08-25T14:03:46.050Z"
   },
   {
    "duration": 1057,
    "start_time": "2022-08-25T14:04:49.017Z"
   },
   {
    "duration": 39,
    "start_time": "2022-08-25T14:04:50.076Z"
   },
   {
    "duration": 14,
    "start_time": "2022-08-25T14:04:50.117Z"
   },
   {
    "duration": 11,
    "start_time": "2022-08-25T14:04:50.132Z"
   },
   {
    "duration": 9,
    "start_time": "2022-08-25T14:04:50.144Z"
   },
   {
    "duration": 10,
    "start_time": "2022-08-25T14:04:50.154Z"
   },
   {
    "duration": 7,
    "start_time": "2022-08-25T14:04:50.165Z"
   },
   {
    "duration": 7,
    "start_time": "2022-08-25T14:04:50.173Z"
   },
   {
    "duration": 6,
    "start_time": "2022-08-25T14:04:50.207Z"
   },
   {
    "duration": 5,
    "start_time": "2022-08-25T14:04:50.216Z"
   },
   {
    "duration": 10,
    "start_time": "2022-08-25T14:04:50.222Z"
   },
   {
    "duration": 20,
    "start_time": "2022-08-25T14:04:50.234Z"
   },
   {
    "duration": 69,
    "start_time": "2022-08-25T14:04:50.256Z"
   },
   {
    "duration": 13,
    "start_time": "2022-08-25T14:04:50.326Z"
   },
   {
    "duration": 15,
    "start_time": "2022-08-25T14:04:50.340Z"
   },
   {
    "duration": 1474,
    "start_time": "2022-08-25T14:04:50.357Z"
   },
   {
    "duration": 3,
    "start_time": "2022-08-25T14:05:40.923Z"
   },
   {
    "duration": 96,
    "start_time": "2022-08-25T14:05:41.518Z"
   },
   {
    "duration": 14,
    "start_time": "2022-08-25T14:06:00.455Z"
   },
   {
    "duration": 14,
    "start_time": "2022-08-25T14:06:02.478Z"
   },
   {
    "duration": 14,
    "start_time": "2022-08-25T14:06:06.215Z"
   },
   {
    "duration": 1003,
    "start_time": "2022-08-25T14:06:18.667Z"
   },
   {
    "duration": 40,
    "start_time": "2022-08-25T14:06:19.672Z"
   },
   {
    "duration": 14,
    "start_time": "2022-08-25T14:06:19.714Z"
   },
   {
    "duration": 19,
    "start_time": "2022-08-25T14:06:19.729Z"
   },
   {
    "duration": 23,
    "start_time": "2022-08-25T14:06:19.749Z"
   },
   {
    "duration": 24,
    "start_time": "2022-08-25T14:06:19.774Z"
   },
   {
    "duration": 26,
    "start_time": "2022-08-25T14:06:19.800Z"
   },
   {
    "duration": 15,
    "start_time": "2022-08-25T14:06:19.828Z"
   },
   {
    "duration": 19,
    "start_time": "2022-08-25T14:06:19.844Z"
   },
   {
    "duration": 7,
    "start_time": "2022-08-25T14:06:19.865Z"
   },
   {
    "duration": 12,
    "start_time": "2022-08-25T14:06:19.873Z"
   },
   {
    "duration": 42,
    "start_time": "2022-08-25T14:06:19.886Z"
   },
   {
    "duration": 47,
    "start_time": "2022-08-25T14:06:19.929Z"
   },
   {
    "duration": 12,
    "start_time": "2022-08-25T14:06:19.978Z"
   },
   {
    "duration": 28,
    "start_time": "2022-08-25T14:06:19.991Z"
   },
   {
    "duration": 106,
    "start_time": "2022-08-25T14:06:20.020Z"
   },
   {
    "duration": 0,
    "start_time": "2022-08-25T14:06:20.128Z"
   },
   {
    "duration": 120,
    "start_time": "2022-08-25T14:07:01.506Z"
   },
   {
    "duration": 178,
    "start_time": "2022-08-25T14:07:06.610Z"
   },
   {
    "duration": 5,
    "start_time": "2022-08-25T14:17:33.013Z"
   },
   {
    "duration": 3,
    "start_time": "2022-08-25T14:17:33.645Z"
   },
   {
    "duration": 1218,
    "start_time": "2022-08-25T14:17:34.430Z"
   },
   {
    "duration": 3,
    "start_time": "2022-08-25T14:17:47.221Z"
   },
   {
    "duration": 372,
    "start_time": "2022-08-25T14:17:48.773Z"
   },
   {
    "duration": 291,
    "start_time": "2022-08-25T14:19:20.790Z"
   },
   {
    "duration": 155,
    "start_time": "2022-08-25T14:19:42.175Z"
   },
   {
    "duration": 148,
    "start_time": "2022-08-25T14:19:57.934Z"
   },
   {
    "duration": 1093,
    "start_time": "2022-08-25T14:20:31.480Z"
   },
   {
    "duration": 39,
    "start_time": "2022-08-25T14:20:32.574Z"
   },
   {
    "duration": 14,
    "start_time": "2022-08-25T14:20:32.614Z"
   },
   {
    "duration": 10,
    "start_time": "2022-08-25T14:20:32.630Z"
   },
   {
    "duration": 10,
    "start_time": "2022-08-25T14:20:32.641Z"
   },
   {
    "duration": 12,
    "start_time": "2022-08-25T14:20:32.652Z"
   },
   {
    "duration": 6,
    "start_time": "2022-08-25T14:20:32.665Z"
   },
   {
    "duration": 7,
    "start_time": "2022-08-25T14:20:32.672Z"
   },
   {
    "duration": 30,
    "start_time": "2022-08-25T14:20:32.680Z"
   },
   {
    "duration": 10,
    "start_time": "2022-08-25T14:20:32.712Z"
   },
   {
    "duration": 9,
    "start_time": "2022-08-25T14:20:32.723Z"
   },
   {
    "duration": 26,
    "start_time": "2022-08-25T14:20:32.733Z"
   },
   {
    "duration": 59,
    "start_time": "2022-08-25T14:20:32.760Z"
   },
   {
    "duration": 13,
    "start_time": "2022-08-25T14:20:32.821Z"
   },
   {
    "duration": 15,
    "start_time": "2022-08-25T14:20:32.836Z"
   },
   {
    "duration": 4,
    "start_time": "2022-08-25T14:20:32.853Z"
   },
   {
    "duration": 3,
    "start_time": "2022-08-25T14:20:32.859Z"
   },
   {
    "duration": 192,
    "start_time": "2022-08-25T14:20:32.863Z"
   },
   {
    "duration": 171,
    "start_time": "2022-08-25T14:20:33.056Z"
   },
   {
    "duration": 1566,
    "start_time": "2022-08-25T14:20:33.229Z"
   },
   {
    "duration": 180,
    "start_time": "2022-08-25T14:23:37.598Z"
   },
   {
    "duration": 107,
    "start_time": "2022-08-25T14:23:45.007Z"
   },
   {
    "duration": 162,
    "start_time": "2022-08-25T14:24:12.551Z"
   },
   {
    "duration": 1009,
    "start_time": "2022-08-25T14:24:18.558Z"
   },
   {
    "duration": 38,
    "start_time": "2022-08-25T14:24:19.569Z"
   },
   {
    "duration": 14,
    "start_time": "2022-08-25T14:24:19.608Z"
   },
   {
    "duration": 11,
    "start_time": "2022-08-25T14:24:19.624Z"
   },
   {
    "duration": 10,
    "start_time": "2022-08-25T14:24:19.637Z"
   },
   {
    "duration": 12,
    "start_time": "2022-08-25T14:24:19.649Z"
   },
   {
    "duration": 17,
    "start_time": "2022-08-25T14:24:19.663Z"
   },
   {
    "duration": 11,
    "start_time": "2022-08-25T14:24:19.681Z"
   },
   {
    "duration": 16,
    "start_time": "2022-08-25T14:24:19.693Z"
   },
   {
    "duration": 33,
    "start_time": "2022-08-25T14:24:19.710Z"
   },
   {
    "duration": 15,
    "start_time": "2022-08-25T14:24:19.745Z"
   },
   {
    "duration": 48,
    "start_time": "2022-08-25T14:24:19.762Z"
   },
   {
    "duration": 45,
    "start_time": "2022-08-25T14:24:19.812Z"
   },
   {
    "duration": 12,
    "start_time": "2022-08-25T14:24:19.859Z"
   },
   {
    "duration": 33,
    "start_time": "2022-08-25T14:24:19.872Z"
   },
   {
    "duration": 15,
    "start_time": "2022-08-25T14:24:19.906Z"
   },
   {
    "duration": 15,
    "start_time": "2022-08-25T14:24:19.922Z"
   },
   {
    "duration": 199,
    "start_time": "2022-08-25T14:24:19.938Z"
   },
   {
    "duration": 169,
    "start_time": "2022-08-25T14:24:20.138Z"
   },
   {
    "duration": 1454,
    "start_time": "2022-08-25T14:24:20.309Z"
   },
   {
    "duration": 154,
    "start_time": "2022-08-25T14:24:37.919Z"
   },
   {
    "duration": 152,
    "start_time": "2022-08-25T14:25:13.215Z"
   },
   {
    "duration": 159,
    "start_time": "2022-08-25T14:25:17.207Z"
   },
   {
    "duration": 4,
    "start_time": "2022-08-25T14:28:21.999Z"
   },
   {
    "duration": 3,
    "start_time": "2022-08-25T14:28:24.382Z"
   },
   {
    "duration": 5,
    "start_time": "2022-08-25T14:28:24.934Z"
   },
   {
    "duration": 4,
    "start_time": "2022-08-25T14:28:34.239Z"
   },
   {
    "duration": 87,
    "start_time": "2022-08-25T14:28:42.495Z"
   },
   {
    "duration": 92,
    "start_time": "2022-08-25T14:28:46.790Z"
   },
   {
    "duration": 4,
    "start_time": "2022-08-25T14:29:03.839Z"
   },
   {
    "duration": 18,
    "start_time": "2022-08-25T14:29:05.399Z"
   },
   {
    "duration": 5,
    "start_time": "2022-08-25T14:29:20.871Z"
   },
   {
    "duration": 18,
    "start_time": "2022-08-25T14:29:21.911Z"
   },
   {
    "duration": 4,
    "start_time": "2022-08-25T14:29:36.815Z"
   },
   {
    "duration": 142,
    "start_time": "2022-08-25T14:29:37.807Z"
   },
   {
    "duration": 3,
    "start_time": "2022-08-25T14:30:07.351Z"
   },
   {
    "duration": 5,
    "start_time": "2022-08-25T14:30:08.366Z"
   },
   {
    "duration": 137,
    "start_time": "2022-08-25T14:30:08.936Z"
   },
   {
    "duration": 7,
    "start_time": "2022-08-25T14:30:16.145Z"
   },
   {
    "duration": 329,
    "start_time": "2022-08-25T14:30:16.790Z"
   },
   {
    "duration": 4,
    "start_time": "2022-08-25T14:30:55.647Z"
   },
   {
    "duration": 139,
    "start_time": "2022-08-25T14:30:55.879Z"
   },
   {
    "duration": 170,
    "start_time": "2022-08-25T14:32:38.568Z"
   },
   {
    "duration": 3,
    "start_time": "2022-08-25T14:32:53.919Z"
   },
   {
    "duration": 693,
    "start_time": "2022-08-25T14:32:55.519Z"
   },
   {
    "duration": 737,
    "start_time": "2022-08-25T14:37:17.616Z"
   },
   {
    "duration": 954,
    "start_time": "2022-08-25T14:43:10.546Z"
   },
   {
    "duration": 17,
    "start_time": "2022-08-25T14:43:26.369Z"
   },
   {
    "duration": 1096,
    "start_time": "2022-08-25T14:43:30.554Z"
   },
   {
    "duration": 957,
    "start_time": "2022-08-25T14:44:10.325Z"
   },
   {
    "duration": 960,
    "start_time": "2022-08-25T14:49:31.967Z"
   },
   {
    "duration": 2360,
    "start_time": "2022-08-25T14:50:07.364Z"
   },
   {
    "duration": 899,
    "start_time": "2022-08-25T14:51:37.285Z"
   },
   {
    "duration": 719,
    "start_time": "2022-08-25T14:54:13.429Z"
   },
   {
    "duration": 632,
    "start_time": "2022-08-25T14:54:30.781Z"
   },
   {
    "duration": 590,
    "start_time": "2022-08-25T14:54:41.645Z"
   },
   {
    "duration": 3,
    "start_time": "2022-08-25T14:55:54.988Z"
   },
   {
    "duration": 875,
    "start_time": "2022-08-25T14:55:58.308Z"
   },
   {
    "duration": 3,
    "start_time": "2022-08-25T14:57:27.325Z"
   },
   {
    "duration": 634,
    "start_time": "2022-08-25T14:57:28.349Z"
   },
   {
    "duration": 590,
    "start_time": "2022-08-25T14:57:32.293Z"
   },
   {
    "duration": 3,
    "start_time": "2022-08-25T14:57:56.151Z"
   },
   {
    "duration": 729,
    "start_time": "2022-08-25T14:57:57.573Z"
   },
   {
    "duration": 3,
    "start_time": "2022-08-25T14:58:13.453Z"
   },
   {
    "duration": 678,
    "start_time": "2022-08-25T14:58:14.424Z"
   },
   {
    "duration": 1313,
    "start_time": "2022-08-25T14:58:19.070Z"
   },
   {
    "duration": 679,
    "start_time": "2022-08-25T14:58:37.373Z"
   },
   {
    "duration": 1398,
    "start_time": "2022-08-25T14:58:38.277Z"
   },
   {
    "duration": 1325,
    "start_time": "2022-08-25T17:07:42.473Z"
   },
   {
    "duration": 82,
    "start_time": "2022-08-25T17:07:43.801Z"
   },
   {
    "duration": 15,
    "start_time": "2022-08-25T17:07:43.885Z"
   },
   {
    "duration": 11,
    "start_time": "2022-08-25T17:07:43.901Z"
   },
   {
    "duration": 20,
    "start_time": "2022-08-25T17:07:43.914Z"
   },
   {
    "duration": 23,
    "start_time": "2022-08-25T17:07:43.936Z"
   },
   {
    "duration": 14,
    "start_time": "2022-08-25T17:07:43.961Z"
   },
   {
    "duration": 15,
    "start_time": "2022-08-25T17:07:43.976Z"
   },
   {
    "duration": 20,
    "start_time": "2022-08-25T17:07:43.993Z"
   },
   {
    "duration": 7,
    "start_time": "2022-08-25T17:07:44.015Z"
   },
   {
    "duration": 9,
    "start_time": "2022-08-25T17:07:44.023Z"
   },
   {
    "duration": 22,
    "start_time": "2022-08-25T17:07:44.034Z"
   },
   {
    "duration": 71,
    "start_time": "2022-08-25T17:07:44.058Z"
   },
   {
    "duration": 13,
    "start_time": "2022-08-25T17:07:44.131Z"
   },
   {
    "duration": 20,
    "start_time": "2022-08-25T17:07:44.146Z"
   },
   {
    "duration": 4,
    "start_time": "2022-08-25T17:07:44.167Z"
   },
   {
    "duration": 678,
    "start_time": "2022-08-25T17:07:44.173Z"
   },
   {
    "duration": 1195,
    "start_time": "2022-08-25T17:07:44.852Z"
   },
   {
    "duration": 1550,
    "start_time": "2022-08-25T17:07:46.048Z"
   },
   {
    "duration": 3,
    "start_time": "2022-08-25T17:08:48.986Z"
   },
   {
    "duration": 565,
    "start_time": "2022-08-25T17:08:51.260Z"
   },
   {
    "duration": 1314,
    "start_time": "2022-08-25T17:08:51.827Z"
   },
   {
    "duration": 1083,
    "start_time": "2022-08-25T17:15:52.642Z"
   },
   {
    "duration": 952,
    "start_time": "2022-08-25T17:16:19.532Z"
   },
   {
    "duration": 620,
    "start_time": "2022-08-25T17:17:15.426Z"
   },
   {
    "duration": 555,
    "start_time": "2022-08-25T17:17:57.859Z"
   },
   {
    "duration": 56,
    "start_time": "2022-08-25T17:18:10.953Z"
   },
   {
    "duration": 53,
    "start_time": "2022-08-25T17:18:21.085Z"
   },
   {
    "duration": 602,
    "start_time": "2022-08-25T17:18:28.746Z"
   },
   {
    "duration": 79,
    "start_time": "2022-08-25T17:18:36.879Z"
   },
   {
    "duration": 479,
    "start_time": "2022-08-25T17:18:49.181Z"
   },
   {
    "duration": 412,
    "start_time": "2022-08-25T17:19:00.087Z"
   },
   {
    "duration": 436,
    "start_time": "2022-08-25T17:19:11.737Z"
   },
   {
    "duration": 609,
    "start_time": "2022-08-25T17:19:15.746Z"
   },
   {
    "duration": 1589,
    "start_time": "2022-08-25T17:19:26.362Z"
   },
   {
    "duration": 917,
    "start_time": "2022-08-25T17:19:42.835Z"
   },
   {
    "duration": 1146,
    "start_time": "2022-08-25T17:19:58.212Z"
   },
   {
    "duration": 134,
    "start_time": "2022-08-25T17:20:08.603Z"
   },
   {
    "duration": 83,
    "start_time": "2022-08-25T17:20:12.149Z"
   },
   {
    "duration": 685,
    "start_time": "2022-08-25T17:20:18.679Z"
   },
   {
    "duration": 419,
    "start_time": "2022-08-25T17:20:24.952Z"
   },
   {
    "duration": 51,
    "start_time": "2022-08-25T17:24:34.785Z"
   },
   {
    "duration": 447,
    "start_time": "2022-08-25T17:25:11.943Z"
   },
   {
    "duration": 433,
    "start_time": "2022-08-25T17:25:22.165Z"
   },
   {
    "duration": 684,
    "start_time": "2022-08-25T17:33:46.117Z"
   },
   {
    "duration": 3,
    "start_time": "2022-08-25T17:34:05.935Z"
   },
   {
    "duration": 771,
    "start_time": "2022-08-25T17:34:07.789Z"
   },
   {
    "duration": 418,
    "start_time": "2022-08-25T17:34:14.938Z"
   },
   {
    "duration": 986,
    "start_time": "2022-08-25T17:34:24.678Z"
   },
   {
    "duration": 791,
    "start_time": "2022-08-25T17:34:58.276Z"
   },
   {
    "duration": 461,
    "start_time": "2022-08-25T17:35:20.286Z"
   },
   {
    "duration": 518,
    "start_time": "2022-08-25T17:36:07.574Z"
   },
   {
    "duration": 506,
    "start_time": "2022-08-25T17:36:18.263Z"
   },
   {
    "duration": 816,
    "start_time": "2022-08-25T17:36:40.940Z"
   },
   {
    "duration": 411,
    "start_time": "2022-08-25T17:37:25.674Z"
   },
   {
    "duration": 357,
    "start_time": "2022-08-25T17:44:06.754Z"
   },
   {
    "duration": 728,
    "start_time": "2022-08-25T17:45:08.348Z"
   },
   {
    "duration": 343,
    "start_time": "2022-08-25T17:45:28.603Z"
   },
   {
    "duration": 724,
    "start_time": "2022-08-25T17:45:31.306Z"
   },
   {
    "duration": 331,
    "start_time": "2022-08-25T17:46:54.554Z"
   },
   {
    "duration": 417,
    "start_time": "2022-08-25T17:47:04.757Z"
   },
   {
    "duration": 1081,
    "start_time": "2022-08-25T17:47:20.900Z"
   },
   {
    "duration": 37,
    "start_time": "2022-08-25T17:47:21.983Z"
   },
   {
    "duration": 13,
    "start_time": "2022-08-25T17:47:22.022Z"
   },
   {
    "duration": 10,
    "start_time": "2022-08-25T17:47:22.037Z"
   },
   {
    "duration": 9,
    "start_time": "2022-08-25T17:47:22.049Z"
   },
   {
    "duration": 9,
    "start_time": "2022-08-25T17:47:22.059Z"
   },
   {
    "duration": 5,
    "start_time": "2022-08-25T17:47:22.070Z"
   },
   {
    "duration": 35,
    "start_time": "2022-08-25T17:47:22.077Z"
   },
   {
    "duration": 6,
    "start_time": "2022-08-25T17:47:22.113Z"
   },
   {
    "duration": 9,
    "start_time": "2022-08-25T17:47:22.121Z"
   },
   {
    "duration": 32,
    "start_time": "2022-08-25T17:47:22.131Z"
   },
   {
    "duration": 28,
    "start_time": "2022-08-25T17:47:22.165Z"
   },
   {
    "duration": 41,
    "start_time": "2022-08-25T17:47:22.195Z"
   },
   {
    "duration": 13,
    "start_time": "2022-08-25T17:47:22.238Z"
   },
   {
    "duration": 17,
    "start_time": "2022-08-25T17:47:22.252Z"
   },
   {
    "duration": 2,
    "start_time": "2022-08-25T17:47:22.271Z"
   },
   {
    "duration": 547,
    "start_time": "2022-08-25T17:47:22.274Z"
   },
   {
    "duration": 0,
    "start_time": "2022-08-25T17:47:22.822Z"
   },
   {
    "duration": 0,
    "start_time": "2022-08-25T17:47:22.824Z"
   },
   {
    "duration": 0,
    "start_time": "2022-08-25T17:47:22.825Z"
   },
   {
    "duration": 0,
    "start_time": "2022-08-25T17:47:22.827Z"
   },
   {
    "duration": 337,
    "start_time": "2022-08-25T17:47:47.451Z"
   },
   {
    "duration": 1101,
    "start_time": "2022-08-25T17:48:06.123Z"
   },
   {
    "duration": 41,
    "start_time": "2022-08-25T17:48:07.226Z"
   },
   {
    "duration": 15,
    "start_time": "2022-08-25T17:48:07.268Z"
   },
   {
    "duration": 11,
    "start_time": "2022-08-25T17:48:07.284Z"
   },
   {
    "duration": 9,
    "start_time": "2022-08-25T17:48:07.296Z"
   },
   {
    "duration": 8,
    "start_time": "2022-08-25T17:48:07.310Z"
   },
   {
    "duration": 15,
    "start_time": "2022-08-25T17:48:07.320Z"
   },
   {
    "duration": 9,
    "start_time": "2022-08-25T17:48:07.336Z"
   },
   {
    "duration": 12,
    "start_time": "2022-08-25T17:48:07.347Z"
   },
   {
    "duration": 9,
    "start_time": "2022-08-25T17:48:07.360Z"
   },
   {
    "duration": 11,
    "start_time": "2022-08-25T17:48:07.371Z"
   },
   {
    "duration": 36,
    "start_time": "2022-08-25T17:48:07.384Z"
   },
   {
    "duration": 48,
    "start_time": "2022-08-25T17:48:07.422Z"
   },
   {
    "duration": 15,
    "start_time": "2022-08-25T17:48:07.473Z"
   },
   {
    "duration": 37,
    "start_time": "2022-08-25T17:48:07.489Z"
   },
   {
    "duration": 3,
    "start_time": "2022-08-25T17:48:07.527Z"
   },
   {
    "duration": 484,
    "start_time": "2022-08-25T17:48:07.533Z"
   },
   {
    "duration": 0,
    "start_time": "2022-08-25T17:48:08.019Z"
   },
   {
    "duration": 0,
    "start_time": "2022-08-25T17:48:08.020Z"
   },
   {
    "duration": 0,
    "start_time": "2022-08-25T17:48:08.022Z"
   },
   {
    "duration": 425,
    "start_time": "2022-08-25T17:48:40.140Z"
   },
   {
    "duration": 337,
    "start_time": "2022-08-25T17:49:13.452Z"
   },
   {
    "duration": 751,
    "start_time": "2022-08-25T17:49:18.435Z"
   },
   {
    "duration": 896,
    "start_time": "2022-08-25T17:49:32.320Z"
   },
   {
    "duration": 338,
    "start_time": "2022-08-25T17:51:15.960Z"
   },
   {
    "duration": 350,
    "start_time": "2022-08-25T17:52:26.834Z"
   },
   {
    "duration": 741,
    "start_time": "2022-08-25T17:52:44.335Z"
   },
   {
    "duration": 354,
    "start_time": "2022-08-25T17:53:06.624Z"
   },
   {
    "duration": 421,
    "start_time": "2022-08-25T17:54:18.130Z"
   },
   {
    "duration": 337,
    "start_time": "2022-08-25T17:54:38.124Z"
   },
   {
    "duration": 352,
    "start_time": "2022-08-25T17:55:00.327Z"
   },
   {
    "duration": 743,
    "start_time": "2022-08-25T17:56:50.451Z"
   },
   {
    "duration": 768,
    "start_time": "2022-08-25T17:57:28.383Z"
   },
   {
    "duration": 812,
    "start_time": "2022-08-25T17:57:56.135Z"
   },
   {
    "duration": 858,
    "start_time": "2022-08-25T17:58:02.562Z"
   },
   {
    "duration": 568,
    "start_time": "2022-08-25T17:59:38.715Z"
   },
   {
    "duration": 1237,
    "start_time": "2022-08-25T17:59:45.265Z"
   },
   {
    "duration": 1277,
    "start_time": "2022-08-25T17:59:54.139Z"
   },
   {
    "duration": 1358,
    "start_time": "2022-08-25T18:00:09.457Z"
   },
   {
    "duration": 1348,
    "start_time": "2022-08-25T18:00:18.383Z"
   },
   {
    "duration": 1382,
    "start_time": "2022-08-25T18:00:26.083Z"
   },
   {
    "duration": 1444,
    "start_time": "2022-08-25T18:00:32.794Z"
   },
   {
    "duration": 1616,
    "start_time": "2022-08-25T18:00:44.168Z"
   },
   {
    "duration": 1424,
    "start_time": "2022-08-25T18:01:13.327Z"
   },
   {
    "duration": 1329,
    "start_time": "2022-08-25T18:01:27.423Z"
   },
   {
    "duration": 1298,
    "start_time": "2022-08-25T18:01:39.664Z"
   },
   {
    "duration": 856,
    "start_time": "2022-08-25T18:07:33.429Z"
   },
   {
    "duration": 60,
    "start_time": "2022-08-25T18:09:01.557Z"
   },
   {
    "duration": 425,
    "start_time": "2022-08-25T18:09:26.067Z"
   },
   {
    "duration": 889,
    "start_time": "2022-08-25T18:09:33.422Z"
   },
   {
    "duration": 806,
    "start_time": "2022-08-25T18:13:14.485Z"
   },
   {
    "duration": 791,
    "start_time": "2022-08-25T18:13:23.744Z"
   },
   {
    "duration": 964,
    "start_time": "2022-08-25T18:13:47.547Z"
   },
   {
    "duration": 1383,
    "start_time": "2022-08-25T18:15:34.798Z"
   },
   {
    "duration": 824,
    "start_time": "2022-08-25T18:15:54.157Z"
   },
   {
    "duration": 1336,
    "start_time": "2022-08-25T18:16:16.308Z"
   },
   {
    "duration": 797,
    "start_time": "2022-08-25T18:16:36.925Z"
   },
   {
    "duration": 764,
    "start_time": "2022-08-25T18:16:44.071Z"
   },
   {
    "duration": 898,
    "start_time": "2022-08-25T18:17:11.441Z"
   },
   {
    "duration": 1198,
    "start_time": "2022-08-25T18:19:20.897Z"
   },
   {
    "duration": 1383,
    "start_time": "2022-08-25T18:22:06.036Z"
   },
   {
    "duration": 1474,
    "start_time": "2022-08-25T18:22:18.873Z"
   },
   {
    "duration": 1393,
    "start_time": "2022-08-25T18:22:26.628Z"
   },
   {
    "duration": 1417,
    "start_time": "2022-08-25T18:22:32.713Z"
   },
   {
    "duration": 1446,
    "start_time": "2022-08-25T18:22:53.790Z"
   },
   {
    "duration": 1439,
    "start_time": "2022-08-25T18:23:02.112Z"
   },
   {
    "duration": 1417,
    "start_time": "2022-08-25T18:23:17.662Z"
   },
   {
    "duration": 1595,
    "start_time": "2022-08-25T18:23:51.586Z"
   },
   {
    "duration": 1365,
    "start_time": "2022-08-25T18:24:04.432Z"
   },
   {
    "duration": 64,
    "start_time": "2022-08-25T18:24:17.546Z"
   },
   {
    "duration": 1332,
    "start_time": "2022-08-25T18:24:23.055Z"
   },
   {
    "duration": 1326,
    "start_time": "2022-08-25T18:24:33.508Z"
   },
   {
    "duration": 1539,
    "start_time": "2022-08-25T18:24:44.541Z"
   },
   {
    "duration": 1249,
    "start_time": "2022-08-25T18:24:57.933Z"
   },
   {
    "duration": 1343,
    "start_time": "2022-08-25T18:25:11.440Z"
   },
   {
    "duration": 1277,
    "start_time": "2022-08-25T18:25:25.907Z"
   },
   {
    "duration": 1114,
    "start_time": "2022-08-25T18:26:12.451Z"
   },
   {
    "duration": 40,
    "start_time": "2022-08-25T18:26:13.567Z"
   },
   {
    "duration": 16,
    "start_time": "2022-08-25T18:26:13.608Z"
   },
   {
    "duration": 12,
    "start_time": "2022-08-25T18:26:13.625Z"
   },
   {
    "duration": 9,
    "start_time": "2022-08-25T18:26:13.640Z"
   },
   {
    "duration": 9,
    "start_time": "2022-08-25T18:26:13.651Z"
   },
   {
    "duration": 8,
    "start_time": "2022-08-25T18:26:13.662Z"
   },
   {
    "duration": 7,
    "start_time": "2022-08-25T18:26:13.671Z"
   },
   {
    "duration": 33,
    "start_time": "2022-08-25T18:26:13.680Z"
   },
   {
    "duration": 6,
    "start_time": "2022-08-25T18:26:13.714Z"
   },
   {
    "duration": 10,
    "start_time": "2022-08-25T18:26:13.721Z"
   },
   {
    "duration": 21,
    "start_time": "2022-08-25T18:26:13.732Z"
   },
   {
    "duration": 62,
    "start_time": "2022-08-25T18:26:13.754Z"
   },
   {
    "duration": 13,
    "start_time": "2022-08-25T18:26:13.819Z"
   },
   {
    "duration": 16,
    "start_time": "2022-08-25T18:26:13.833Z"
   },
   {
    "duration": 3,
    "start_time": "2022-08-25T18:26:13.850Z"
   },
   {
    "duration": 819,
    "start_time": "2022-08-25T18:26:13.854Z"
   },
   {
    "duration": 1309,
    "start_time": "2022-08-25T18:26:14.674Z"
   },
   {
    "duration": 1459,
    "start_time": "2022-08-25T18:26:15.985Z"
   },
   {
    "duration": 1377,
    "start_time": "2022-08-25T18:30:48.712Z"
   },
   {
    "duration": 882,
    "start_time": "2022-08-25T20:11:31.653Z"
   },
   {
    "duration": 1406,
    "start_time": "2022-08-25T20:11:43.031Z"
   },
   {
    "duration": 45,
    "start_time": "2022-08-25T20:13:42.013Z"
   },
   {
    "duration": 1438,
    "start_time": "2022-08-26T12:31:44.571Z"
   },
   {
    "duration": 314,
    "start_time": "2022-08-26T12:31:46.011Z"
   },
   {
    "duration": 17,
    "start_time": "2022-08-26T12:31:46.326Z"
   },
   {
    "duration": 38,
    "start_time": "2022-08-26T12:31:46.345Z"
   },
   {
    "duration": 27,
    "start_time": "2022-08-26T12:31:46.384Z"
   },
   {
    "duration": 43,
    "start_time": "2022-08-26T12:31:46.413Z"
   },
   {
    "duration": 24,
    "start_time": "2022-08-26T12:31:46.458Z"
   },
   {
    "duration": 38,
    "start_time": "2022-08-26T12:31:46.484Z"
   },
   {
    "duration": 21,
    "start_time": "2022-08-26T12:31:46.524Z"
   },
   {
    "duration": 24,
    "start_time": "2022-08-26T12:31:46.549Z"
   },
   {
    "duration": 41,
    "start_time": "2022-08-26T12:31:46.576Z"
   },
   {
    "duration": 47,
    "start_time": "2022-08-26T12:31:46.619Z"
   },
   {
    "duration": 69,
    "start_time": "2022-08-26T12:31:46.668Z"
   },
   {
    "duration": 37,
    "start_time": "2022-08-26T12:31:46.739Z"
   },
   {
    "duration": 65,
    "start_time": "2022-08-26T12:31:46.782Z"
   },
   {
    "duration": 4,
    "start_time": "2022-08-26T12:31:46.849Z"
   },
   {
    "duration": 1089,
    "start_time": "2022-08-26T12:31:46.855Z"
   },
   {
    "duration": 1708,
    "start_time": "2022-08-26T12:31:47.946Z"
   },
   {
    "duration": 1930,
    "start_time": "2022-08-26T12:31:49.656Z"
   },
   {
    "duration": 8,
    "start_time": "2022-08-26T12:31:51.588Z"
   },
   {
    "duration": 7,
    "start_time": "2022-08-26T12:31:51.598Z"
   },
   {
    "duration": 9,
    "start_time": "2022-08-26T12:31:51.607Z"
   },
   {
    "duration": 5,
    "start_time": "2022-08-26T12:41:15.983Z"
   },
   {
    "duration": 5,
    "start_time": "2022-08-26T12:41:25.352Z"
   },
   {
    "duration": 217,
    "start_time": "2022-08-26T12:50:24.338Z"
   },
   {
    "duration": 210,
    "start_time": "2022-08-26T12:50:45.173Z"
   },
   {
    "duration": 168,
    "start_time": "2022-08-26T12:55:10.374Z"
   },
   {
    "duration": 5,
    "start_time": "2022-08-26T12:55:22.988Z"
   },
   {
    "duration": 6,
    "start_time": "2022-08-26T12:55:44.782Z"
   },
   {
    "duration": 6,
    "start_time": "2022-08-26T12:55:50.749Z"
   },
   {
    "duration": 11,
    "start_time": "2022-08-26T12:57:11.478Z"
   },
   {
    "duration": 21,
    "start_time": "2022-08-26T13:02:15.069Z"
   },
   {
    "duration": 11,
    "start_time": "2022-08-26T13:02:41.392Z"
   },
   {
    "duration": 16,
    "start_time": "2022-08-26T13:02:52.913Z"
   },
   {
    "duration": 12,
    "start_time": "2022-08-26T13:02:57.953Z"
   },
   {
    "duration": 4,
    "start_time": "2022-08-26T13:03:34.929Z"
   },
   {
    "duration": 5,
    "start_time": "2022-08-26T13:03:42.073Z"
   },
   {
    "duration": 10,
    "start_time": "2022-08-26T13:04:05.186Z"
   },
   {
    "duration": 4,
    "start_time": "2022-08-26T13:04:05.545Z"
   },
   {
    "duration": 9,
    "start_time": "2022-08-26T13:04:07.633Z"
   },
   {
    "duration": 10,
    "start_time": "2022-08-26T13:04:07.810Z"
   },
   {
    "duration": 3,
    "start_time": "2022-08-26T13:04:15.706Z"
   },
   {
    "duration": 17,
    "start_time": "2022-08-26T13:04:16.401Z"
   },
   {
    "duration": 9,
    "start_time": "2022-08-26T13:04:42.450Z"
   },
   {
    "duration": 19,
    "start_time": "2022-08-26T13:04:42.769Z"
   },
   {
    "duration": 11,
    "start_time": "2022-08-26T13:04:47.634Z"
   },
   {
    "duration": 18,
    "start_time": "2022-08-26T13:04:48.033Z"
   },
   {
    "duration": 4,
    "start_time": "2022-08-26T13:04:49.905Z"
   },
   {
    "duration": 1180,
    "start_time": "2022-08-26T13:05:07.210Z"
   },
   {
    "duration": 43,
    "start_time": "2022-08-26T13:05:08.393Z"
   },
   {
    "duration": 18,
    "start_time": "2022-08-26T13:05:08.438Z"
   },
   {
    "duration": 14,
    "start_time": "2022-08-26T13:05:08.459Z"
   },
   {
    "duration": 11,
    "start_time": "2022-08-26T13:05:08.475Z"
   },
   {
    "duration": 13,
    "start_time": "2022-08-26T13:05:08.488Z"
   },
   {
    "duration": 9,
    "start_time": "2022-08-26T13:05:08.502Z"
   },
   {
    "duration": 13,
    "start_time": "2022-08-26T13:05:08.513Z"
   },
   {
    "duration": 9,
    "start_time": "2022-08-26T13:05:08.528Z"
   },
   {
    "duration": 9,
    "start_time": "2022-08-26T13:05:08.569Z"
   },
   {
    "duration": 15,
    "start_time": "2022-08-26T13:05:08.580Z"
   },
   {
    "duration": 28,
    "start_time": "2022-08-26T13:05:08.597Z"
   },
   {
    "duration": 84,
    "start_time": "2022-08-26T13:05:08.626Z"
   },
   {
    "duration": 16,
    "start_time": "2022-08-26T13:05:08.712Z"
   },
   {
    "duration": 38,
    "start_time": "2022-08-26T13:05:08.730Z"
   },
   {
    "duration": 4,
    "start_time": "2022-08-26T13:05:08.770Z"
   },
   {
    "duration": 967,
    "start_time": "2022-08-26T13:05:08.777Z"
   },
   {
    "duration": 1631,
    "start_time": "2022-08-26T13:05:09.746Z"
   },
   {
    "duration": 1789,
    "start_time": "2022-08-26T13:05:11.379Z"
   },
   {
    "duration": 11,
    "start_time": "2022-08-26T13:05:13.170Z"
   },
   {
    "duration": 9,
    "start_time": "2022-08-26T13:05:13.183Z"
   },
   {
    "duration": 134,
    "start_time": "2022-08-26T13:05:13.194Z"
   },
   {
    "duration": 0,
    "start_time": "2022-08-26T13:05:13.329Z"
   },
   {
    "duration": 0,
    "start_time": "2022-08-26T13:05:13.333Z"
   },
   {
    "duration": 0,
    "start_time": "2022-08-26T13:05:13.334Z"
   },
   {
    "duration": 0,
    "start_time": "2022-08-26T13:05:13.337Z"
   },
   {
    "duration": 0,
    "start_time": "2022-08-26T13:05:13.338Z"
   },
   {
    "duration": 0,
    "start_time": "2022-08-26T13:05:13.339Z"
   },
   {
    "duration": 0,
    "start_time": "2022-08-26T13:05:13.340Z"
   },
   {
    "duration": 9,
    "start_time": "2022-08-26T13:05:24.034Z"
   },
   {
    "duration": 11,
    "start_time": "2022-08-26T13:05:29.378Z"
   },
   {
    "duration": 10,
    "start_time": "2022-08-26T13:05:34.289Z"
   },
   {
    "duration": 4,
    "start_time": "2022-08-26T13:05:41.754Z"
   },
   {
    "duration": 9,
    "start_time": "2022-08-26T13:23:39.122Z"
   },
   {
    "duration": 7,
    "start_time": "2022-08-26T13:23:41.962Z"
   },
   {
    "duration": 4,
    "start_time": "2022-08-26T13:23:43.034Z"
   },
   {
    "duration": 4,
    "start_time": "2022-08-26T13:25:01.138Z"
   },
   {
    "duration": 84,
    "start_time": "2022-08-26T13:25:45.458Z"
   },
   {
    "duration": 116,
    "start_time": "2022-08-26T13:26:07.538Z"
   },
   {
    "duration": 4,
    "start_time": "2022-08-26T13:26:51.858Z"
   },
   {
    "duration": 88,
    "start_time": "2022-08-26T13:26:58.034Z"
   },
   {
    "duration": 4,
    "start_time": "2022-08-26T13:27:09.817Z"
   },
   {
    "duration": 105,
    "start_time": "2022-08-26T13:27:16.798Z"
   },
   {
    "duration": 126,
    "start_time": "2022-08-26T13:27:22.091Z"
   },
   {
    "duration": 3,
    "start_time": "2022-08-26T13:28:13.594Z"
   },
   {
    "duration": 4,
    "start_time": "2022-08-26T13:28:30.314Z"
   },
   {
    "duration": 134,
    "start_time": "2022-08-26T13:28:40.250Z"
   },
   {
    "duration": 4,
    "start_time": "2022-08-26T13:28:55.802Z"
   },
   {
    "duration": 4,
    "start_time": "2022-08-26T13:29:03.363Z"
   },
   {
    "duration": 4,
    "start_time": "2022-08-26T13:29:12.722Z"
   },
   {
    "duration": 4,
    "start_time": "2022-08-26T13:30:05.885Z"
   },
   {
    "duration": 146,
    "start_time": "2022-08-26T13:31:24.635Z"
   },
   {
    "duration": 4,
    "start_time": "2022-08-26T13:31:52.299Z"
   },
   {
    "duration": 4,
    "start_time": "2022-08-26T13:32:59.691Z"
   },
   {
    "duration": 4,
    "start_time": "2022-08-26T13:33:08.563Z"
   },
   {
    "duration": 5,
    "start_time": "2022-08-26T13:33:22.979Z"
   },
   {
    "duration": 5,
    "start_time": "2022-08-26T13:55:30.702Z"
   },
   {
    "duration": 1301,
    "start_time": "2022-08-26T14:05:29.756Z"
   },
   {
    "duration": 49,
    "start_time": "2022-08-26T14:05:31.059Z"
   },
   {
    "duration": 16,
    "start_time": "2022-08-26T14:05:31.111Z"
   },
   {
    "duration": 22,
    "start_time": "2022-08-26T14:05:31.129Z"
   },
   {
    "duration": 42,
    "start_time": "2022-08-26T14:05:31.153Z"
   },
   {
    "duration": 17,
    "start_time": "2022-08-26T14:05:31.197Z"
   },
   {
    "duration": 9,
    "start_time": "2022-08-26T14:05:31.215Z"
   },
   {
    "duration": 11,
    "start_time": "2022-08-26T14:05:31.226Z"
   },
   {
    "duration": 9,
    "start_time": "2022-08-26T14:05:31.239Z"
   },
   {
    "duration": 10,
    "start_time": "2022-08-26T14:05:31.251Z"
   },
   {
    "duration": 12,
    "start_time": "2022-08-26T14:05:31.263Z"
   },
   {
    "duration": 31,
    "start_time": "2022-08-26T14:05:31.277Z"
   },
   {
    "duration": 73,
    "start_time": "2022-08-26T14:05:31.310Z"
   },
   {
    "duration": 14,
    "start_time": "2022-08-26T14:05:31.385Z"
   },
   {
    "duration": 18,
    "start_time": "2022-08-26T14:05:31.401Z"
   },
   {
    "duration": 3,
    "start_time": "2022-08-26T14:05:31.422Z"
   },
   {
    "duration": 1041,
    "start_time": "2022-08-26T14:05:31.427Z"
   },
   {
    "duration": 1656,
    "start_time": "2022-08-26T14:05:32.469Z"
   },
   {
    "duration": 1936,
    "start_time": "2022-08-26T14:05:34.127Z"
   },
   {
    "duration": 8,
    "start_time": "2022-08-26T14:05:36.068Z"
   },
   {
    "duration": 124,
    "start_time": "2022-08-26T14:05:36.078Z"
   },
   {
    "duration": 0,
    "start_time": "2022-08-26T14:05:36.204Z"
   },
   {
    "duration": 4,
    "start_time": "2022-08-26T14:06:25.280Z"
   },
   {
    "duration": 10,
    "start_time": "2022-08-26T14:06:26.324Z"
   },
   {
    "duration": 6,
    "start_time": "2022-08-26T14:06:35.156Z"
   },
   {
    "duration": 5,
    "start_time": "2022-08-26T14:14:15.486Z"
   },
   {
    "duration": 3,
    "start_time": "2022-08-26T14:14:16.014Z"
   },
   {
    "duration": 6,
    "start_time": "2022-08-26T14:14:16.622Z"
   },
   {
    "duration": 10,
    "start_time": "2022-08-26T14:14:17.086Z"
   },
   {
    "duration": 10,
    "start_time": "2022-08-26T14:14:28.782Z"
   },
   {
    "duration": 17,
    "start_time": "2022-08-26T14:15:02.366Z"
   },
   {
    "duration": 14,
    "start_time": "2022-08-26T14:19:16.840Z"
   },
   {
    "duration": 15,
    "start_time": "2022-08-26T14:27:10.363Z"
   },
   {
    "duration": 5,
    "start_time": "2022-08-26T14:27:12.531Z"
   },
   {
    "duration": 1214,
    "start_time": "2022-08-26T14:29:30.531Z"
   },
   {
    "duration": 49,
    "start_time": "2022-08-26T14:29:31.748Z"
   },
   {
    "duration": 17,
    "start_time": "2022-08-26T14:29:31.799Z"
   },
   {
    "duration": 19,
    "start_time": "2022-08-26T14:29:31.818Z"
   },
   {
    "duration": 14,
    "start_time": "2022-08-26T14:29:31.839Z"
   },
   {
    "duration": 31,
    "start_time": "2022-08-26T14:29:31.855Z"
   },
   {
    "duration": 9,
    "start_time": "2022-08-26T14:29:31.887Z"
   },
   {
    "duration": 10,
    "start_time": "2022-08-26T14:29:31.898Z"
   },
   {
    "duration": 8,
    "start_time": "2022-08-26T14:29:31.910Z"
   },
   {
    "duration": 9,
    "start_time": "2022-08-26T14:29:31.922Z"
   },
   {
    "duration": 15,
    "start_time": "2022-08-26T14:29:31.933Z"
   },
   {
    "duration": 47,
    "start_time": "2022-08-26T14:29:31.951Z"
   },
   {
    "duration": 52,
    "start_time": "2022-08-26T14:29:31.999Z"
   },
   {
    "duration": 27,
    "start_time": "2022-08-26T14:29:32.053Z"
   },
   {
    "duration": 20,
    "start_time": "2022-08-26T14:29:32.082Z"
   },
   {
    "duration": 3,
    "start_time": "2022-08-26T14:29:32.104Z"
   },
   {
    "duration": 1016,
    "start_time": "2022-08-26T14:29:32.108Z"
   },
   {
    "duration": 1635,
    "start_time": "2022-08-26T14:29:33.125Z"
   },
   {
    "duration": 1938,
    "start_time": "2022-08-26T14:29:34.768Z"
   },
   {
    "duration": 9,
    "start_time": "2022-08-26T14:29:36.709Z"
   },
   {
    "duration": 72,
    "start_time": "2022-08-26T14:29:36.721Z"
   },
   {
    "duration": 35,
    "start_time": "2022-08-26T14:29:36.796Z"
   },
   {
    "duration": 56,
    "start_time": "2022-08-26T14:29:36.833Z"
   },
   {
    "duration": 13,
    "start_time": "2022-08-26T14:29:36.891Z"
   },
   {
    "duration": 13,
    "start_time": "2022-08-26T14:29:36.906Z"
   },
   {
    "duration": 1484,
    "start_time": "2022-08-26T18:21:46.570Z"
   },
   {
    "duration": 172,
    "start_time": "2022-08-26T18:21:48.056Z"
   },
   {
    "duration": 21,
    "start_time": "2022-08-26T18:21:48.229Z"
   },
   {
    "duration": 17,
    "start_time": "2022-08-26T18:21:48.252Z"
   },
   {
    "duration": 14,
    "start_time": "2022-08-26T18:21:48.270Z"
   },
   {
    "duration": 7,
    "start_time": "2022-08-26T18:21:48.286Z"
   },
   {
    "duration": 9,
    "start_time": "2022-08-26T18:21:48.294Z"
   },
   {
    "duration": 8,
    "start_time": "2022-08-26T18:21:48.305Z"
   },
   {
    "duration": 7,
    "start_time": "2022-08-26T18:21:48.315Z"
   },
   {
    "duration": 6,
    "start_time": "2022-08-26T18:21:48.325Z"
   },
   {
    "duration": 9,
    "start_time": "2022-08-26T18:21:48.333Z"
   },
   {
    "duration": 19,
    "start_time": "2022-08-26T18:21:48.343Z"
   },
   {
    "duration": 24,
    "start_time": "2022-08-26T18:21:48.398Z"
   },
   {
    "duration": 44,
    "start_time": "2022-08-26T18:21:48.423Z"
   },
   {
    "duration": 32,
    "start_time": "2022-08-26T18:21:48.469Z"
   },
   {
    "duration": 17,
    "start_time": "2022-08-26T18:21:48.502Z"
   },
   {
    "duration": 3,
    "start_time": "2022-08-26T18:21:48.520Z"
   },
   {
    "duration": 827,
    "start_time": "2022-08-26T18:21:48.525Z"
   },
   {
    "duration": 1329,
    "start_time": "2022-08-26T18:21:49.353Z"
   },
   {
    "duration": 2553,
    "start_time": "2022-08-26T18:21:50.684Z"
   },
   {
    "duration": 6,
    "start_time": "2022-08-26T18:21:53.239Z"
   },
   {
    "duration": 12,
    "start_time": "2022-08-26T18:21:53.246Z"
   },
   {
    "duration": 5,
    "start_time": "2022-08-26T18:21:53.298Z"
   },
   {
    "duration": 30,
    "start_time": "2022-08-26T18:21:53.304Z"
   },
   {
    "duration": 7,
    "start_time": "2022-08-26T18:21:53.336Z"
   },
   {
    "duration": 12,
    "start_time": "2022-08-26T18:21:53.344Z"
   },
   {
    "duration": 1107,
    "start_time": "2022-08-26T18:47:34.026Z"
   },
   {
    "duration": 41,
    "start_time": "2022-08-26T18:47:35.135Z"
   },
   {
    "duration": 15,
    "start_time": "2022-08-26T18:47:35.178Z"
   },
   {
    "duration": 17,
    "start_time": "2022-08-26T18:47:35.195Z"
   },
   {
    "duration": 18,
    "start_time": "2022-08-26T18:47:35.217Z"
   },
   {
    "duration": 13,
    "start_time": "2022-08-26T18:47:35.237Z"
   },
   {
    "duration": 8,
    "start_time": "2022-08-26T18:47:35.251Z"
   },
   {
    "duration": 6,
    "start_time": "2022-08-26T18:47:35.260Z"
   },
   {
    "duration": 11,
    "start_time": "2022-08-26T18:47:35.267Z"
   },
   {
    "duration": 23,
    "start_time": "2022-08-26T18:47:35.281Z"
   },
   {
    "duration": 15,
    "start_time": "2022-08-26T18:47:35.305Z"
   },
   {
    "duration": 5,
    "start_time": "2022-08-26T18:47:35.321Z"
   },
   {
    "duration": 1521,
    "start_time": "2022-08-26T18:47:35.328Z"
   },
   {
    "duration": 23,
    "start_time": "2022-08-26T18:47:36.851Z"
   },
   {
    "duration": 53,
    "start_time": "2022-08-26T18:47:36.876Z"
   },
   {
    "duration": 15,
    "start_time": "2022-08-26T18:47:36.933Z"
   },
   {
    "duration": 15,
    "start_time": "2022-08-26T18:47:36.950Z"
   },
   {
    "duration": 11,
    "start_time": "2022-08-26T18:47:36.966Z"
   },
   {
    "duration": 1831,
    "start_time": "2022-08-26T18:47:36.979Z"
   },
   {
    "duration": 1522,
    "start_time": "2022-08-26T18:47:38.812Z"
   },
   {
    "duration": 1477,
    "start_time": "2022-08-26T18:47:40.335Z"
   },
   {
    "duration": 6,
    "start_time": "2022-08-26T18:47:41.814Z"
   },
   {
    "duration": 8,
    "start_time": "2022-08-26T18:47:41.821Z"
   },
   {
    "duration": 6,
    "start_time": "2022-08-26T18:47:41.830Z"
   },
   {
    "duration": 14,
    "start_time": "2022-08-26T18:47:41.838Z"
   },
   {
    "duration": 5,
    "start_time": "2022-08-26T18:47:41.853Z"
   },
   {
    "duration": 5,
    "start_time": "2022-08-26T18:47:41.859Z"
   },
   {
    "duration": 1574,
    "start_time": "2022-08-26T18:49:17.311Z"
   },
   {
    "duration": 1055,
    "start_time": "2022-08-26T18:49:41.817Z"
   },
   {
    "duration": 49,
    "start_time": "2022-08-26T18:49:42.874Z"
   },
   {
    "duration": 16,
    "start_time": "2022-08-26T18:49:42.925Z"
   },
   {
    "duration": 24,
    "start_time": "2022-08-26T18:49:42.942Z"
   },
   {
    "duration": 12,
    "start_time": "2022-08-26T18:49:42.967Z"
   },
   {
    "duration": 20,
    "start_time": "2022-08-26T18:49:42.980Z"
   },
   {
    "duration": 33,
    "start_time": "2022-08-26T18:49:43.002Z"
   },
   {
    "duration": 12,
    "start_time": "2022-08-26T18:49:43.037Z"
   },
   {
    "duration": 32,
    "start_time": "2022-08-26T18:49:43.050Z"
   },
   {
    "duration": 23,
    "start_time": "2022-08-26T18:49:43.085Z"
   },
   {
    "duration": 28,
    "start_time": "2022-08-26T18:49:43.109Z"
   },
   {
    "duration": 5,
    "start_time": "2022-08-26T18:49:43.139Z"
   },
   {
    "duration": 1537,
    "start_time": "2022-08-26T18:49:43.145Z"
   },
   {
    "duration": 32,
    "start_time": "2022-08-26T18:49:44.684Z"
   },
   {
    "duration": 47,
    "start_time": "2022-08-26T18:49:44.718Z"
   },
   {
    "duration": 13,
    "start_time": "2022-08-26T18:49:44.767Z"
   },
   {
    "duration": 34,
    "start_time": "2022-08-26T18:49:44.781Z"
   },
   {
    "duration": 3,
    "start_time": "2022-08-26T18:49:44.816Z"
   },
   {
    "duration": 1967,
    "start_time": "2022-08-26T18:49:44.821Z"
   },
   {
    "duration": 1327,
    "start_time": "2022-08-26T18:49:46.790Z"
   },
   {
    "duration": 1425,
    "start_time": "2022-08-26T18:49:48.119Z"
   },
   {
    "duration": 6,
    "start_time": "2022-08-26T18:49:49.546Z"
   },
   {
    "duration": 4,
    "start_time": "2022-08-26T18:49:49.554Z"
   },
   {
    "duration": 5,
    "start_time": "2022-08-26T18:49:49.560Z"
   },
   {
    "duration": 46,
    "start_time": "2022-08-26T18:49:49.567Z"
   },
   {
    "duration": 6,
    "start_time": "2022-08-26T18:49:49.614Z"
   },
   {
    "duration": 8,
    "start_time": "2022-08-26T18:49:49.622Z"
   },
   {
    "duration": 1464,
    "start_time": "2022-08-26T18:50:19.715Z"
   },
   {
    "duration": 1283,
    "start_time": "2022-08-26T18:50:28.740Z"
   },
   {
    "duration": 88,
    "start_time": "2022-08-26T18:50:30.025Z"
   },
   {
    "duration": 21,
    "start_time": "2022-08-26T18:50:30.118Z"
   },
   {
    "duration": 77,
    "start_time": "2022-08-26T18:50:30.140Z"
   },
   {
    "duration": 14,
    "start_time": "2022-08-26T18:50:30.220Z"
   },
   {
    "duration": 18,
    "start_time": "2022-08-26T18:50:30.236Z"
   },
   {
    "duration": 10,
    "start_time": "2022-08-26T18:50:30.308Z"
   },
   {
    "duration": 18,
    "start_time": "2022-08-26T18:50:30.319Z"
   },
   {
    "duration": 12,
    "start_time": "2022-08-26T18:50:30.338Z"
   },
   {
    "duration": 60,
    "start_time": "2022-08-26T18:50:30.352Z"
   },
   {
    "duration": 13,
    "start_time": "2022-08-26T18:50:30.414Z"
   },
   {
    "duration": 9,
    "start_time": "2022-08-26T18:50:30.429Z"
   },
   {
    "duration": 1834,
    "start_time": "2022-08-26T18:50:30.439Z"
   },
   {
    "duration": 38,
    "start_time": "2022-08-26T18:50:32.275Z"
   },
   {
    "duration": 41,
    "start_time": "2022-08-26T18:50:32.314Z"
   },
   {
    "duration": 13,
    "start_time": "2022-08-26T18:50:32.356Z"
   },
   {
    "duration": 15,
    "start_time": "2022-08-26T18:50:32.370Z"
   },
   {
    "duration": 21,
    "start_time": "2022-08-26T18:50:32.387Z"
   },
   {
    "duration": 871,
    "start_time": "2022-08-26T18:50:32.410Z"
   },
   {
    "duration": 1373,
    "start_time": "2022-08-26T18:50:33.282Z"
   },
   {
    "duration": 1492,
    "start_time": "2022-08-26T18:50:34.657Z"
   },
   {
    "duration": 7,
    "start_time": "2022-08-26T18:50:36.151Z"
   },
   {
    "duration": 4,
    "start_time": "2022-08-26T18:50:36.160Z"
   },
   {
    "duration": 5,
    "start_time": "2022-08-26T18:50:36.166Z"
   },
   {
    "duration": 44,
    "start_time": "2022-08-26T18:50:36.173Z"
   },
   {
    "duration": 20,
    "start_time": "2022-08-26T18:50:36.219Z"
   },
   {
    "duration": 6,
    "start_time": "2022-08-26T18:50:36.241Z"
   },
   {
    "duration": 1098,
    "start_time": "2022-08-26T18:51:47.337Z"
   },
   {
    "duration": 40,
    "start_time": "2022-08-26T18:51:48.437Z"
   },
   {
    "duration": 14,
    "start_time": "2022-08-26T18:51:48.478Z"
   },
   {
    "duration": 19,
    "start_time": "2022-08-26T18:51:48.494Z"
   },
   {
    "duration": 21,
    "start_time": "2022-08-26T18:51:48.515Z"
   },
   {
    "duration": 17,
    "start_time": "2022-08-26T18:51:48.538Z"
   },
   {
    "duration": 7,
    "start_time": "2022-08-26T18:51:48.557Z"
   },
   {
    "duration": 8,
    "start_time": "2022-08-26T18:51:48.566Z"
   },
   {
    "duration": 8,
    "start_time": "2022-08-26T18:51:48.575Z"
   },
   {
    "duration": 24,
    "start_time": "2022-08-26T18:51:48.586Z"
   },
   {
    "duration": 9,
    "start_time": "2022-08-26T18:51:48.612Z"
   },
   {
    "duration": 7,
    "start_time": "2022-08-26T18:51:48.623Z"
   },
   {
    "duration": 1502,
    "start_time": "2022-08-26T18:51:48.631Z"
   },
   {
    "duration": 22,
    "start_time": "2022-08-26T18:51:50.135Z"
   },
   {
    "duration": 54,
    "start_time": "2022-08-26T18:51:50.158Z"
   },
   {
    "duration": 20,
    "start_time": "2022-08-26T18:51:50.214Z"
   },
   {
    "duration": 23,
    "start_time": "2022-08-26T18:51:50.236Z"
   },
   {
    "duration": 3,
    "start_time": "2022-08-26T18:51:50.260Z"
   },
   {
    "duration": 1280,
    "start_time": "2022-08-26T18:51:50.265Z"
   },
   {
    "duration": 2095,
    "start_time": "2022-08-26T18:51:51.599Z"
   },
   {
    "duration": 1521,
    "start_time": "2022-08-26T18:51:53.695Z"
   },
   {
    "duration": 6,
    "start_time": "2022-08-26T18:51:55.218Z"
   },
   {
    "duration": 7,
    "start_time": "2022-08-26T18:51:55.226Z"
   },
   {
    "duration": 22,
    "start_time": "2022-08-26T18:51:55.234Z"
   },
   {
    "duration": 14,
    "start_time": "2022-08-26T18:51:55.257Z"
   },
   {
    "duration": 5,
    "start_time": "2022-08-26T18:51:55.272Z"
   },
   {
    "duration": 7,
    "start_time": "2022-08-26T18:51:55.278Z"
   },
   {
    "duration": 1051,
    "start_time": "2022-08-26T18:53:48.512Z"
   },
   {
    "duration": 42,
    "start_time": "2022-08-26T18:53:49.565Z"
   },
   {
    "duration": 23,
    "start_time": "2022-08-26T18:53:49.609Z"
   },
   {
    "duration": 18,
    "start_time": "2022-08-26T18:53:49.633Z"
   },
   {
    "duration": 16,
    "start_time": "2022-08-26T18:53:49.653Z"
   },
   {
    "duration": 32,
    "start_time": "2022-08-26T18:53:49.671Z"
   },
   {
    "duration": 9,
    "start_time": "2022-08-26T18:53:49.705Z"
   },
   {
    "duration": 8,
    "start_time": "2022-08-26T18:53:49.718Z"
   },
   {
    "duration": 8,
    "start_time": "2022-08-26T18:53:49.728Z"
   },
   {
    "duration": 7,
    "start_time": "2022-08-26T18:53:49.739Z"
   },
   {
    "duration": 15,
    "start_time": "2022-08-26T18:53:49.748Z"
   },
   {
    "duration": 44,
    "start_time": "2022-08-26T18:53:49.799Z"
   },
   {
    "duration": 4,
    "start_time": "2022-08-26T18:53:49.845Z"
   },
   {
    "duration": 1598,
    "start_time": "2022-08-26T18:53:49.851Z"
   },
   {
    "duration": 74,
    "start_time": "2022-08-26T18:53:51.451Z"
   },
   {
    "duration": 117,
    "start_time": "2022-08-26T18:53:51.527Z"
   },
   {
    "duration": 72,
    "start_time": "2022-08-26T18:53:51.645Z"
   },
   {
    "duration": 20,
    "start_time": "2022-08-26T18:53:51.719Z"
   },
   {
    "duration": 59,
    "start_time": "2022-08-26T18:53:51.740Z"
   },
   {
    "duration": 2144,
    "start_time": "2022-08-26T18:53:51.801Z"
   },
   {
    "duration": 1685,
    "start_time": "2022-08-26T18:53:53.948Z"
   },
   {
    "duration": 1463,
    "start_time": "2022-08-26T18:53:55.634Z"
   },
   {
    "duration": 6,
    "start_time": "2022-08-26T18:53:57.100Z"
   },
   {
    "duration": 5,
    "start_time": "2022-08-26T18:53:57.107Z"
   },
   {
    "duration": 8,
    "start_time": "2022-08-26T18:53:57.113Z"
   },
   {
    "duration": 16,
    "start_time": "2022-08-26T18:53:57.123Z"
   },
   {
    "duration": 7,
    "start_time": "2022-08-26T18:53:57.141Z"
   },
   {
    "duration": 5,
    "start_time": "2022-08-26T18:53:57.150Z"
   },
   {
    "duration": 1275,
    "start_time": "2022-08-26T18:59:12.889Z"
   },
   {
    "duration": 46,
    "start_time": "2022-08-26T18:59:14.166Z"
   },
   {
    "duration": 22,
    "start_time": "2022-08-26T18:59:14.214Z"
   },
   {
    "duration": 16,
    "start_time": "2022-08-26T18:59:14.238Z"
   },
   {
    "duration": 20,
    "start_time": "2022-08-26T18:59:14.255Z"
   },
   {
    "duration": 30,
    "start_time": "2022-08-26T18:59:14.277Z"
   },
   {
    "duration": 21,
    "start_time": "2022-08-26T18:59:14.309Z"
   },
   {
    "duration": 13,
    "start_time": "2022-08-26T18:59:14.332Z"
   },
   {
    "duration": 19,
    "start_time": "2022-08-26T18:59:14.346Z"
   },
   {
    "duration": 50,
    "start_time": "2022-08-26T18:59:14.369Z"
   },
   {
    "duration": 39,
    "start_time": "2022-08-26T18:59:14.421Z"
   },
   {
    "duration": 60,
    "start_time": "2022-08-26T18:59:14.462Z"
   },
   {
    "duration": 37,
    "start_time": "2022-08-26T18:59:14.525Z"
   },
   {
    "duration": 82,
    "start_time": "2022-08-26T18:59:14.564Z"
   },
   {
    "duration": 20,
    "start_time": "2022-08-26T18:59:14.647Z"
   },
   {
    "duration": 34,
    "start_time": "2022-08-26T18:59:14.668Z"
   },
   {
    "duration": 19,
    "start_time": "2022-08-26T18:59:14.704Z"
   },
   {
    "duration": 926,
    "start_time": "2022-08-26T18:59:14.726Z"
   },
   {
    "duration": 1484,
    "start_time": "2022-08-26T18:59:15.653Z"
   },
   {
    "duration": 1467,
    "start_time": "2022-08-26T18:59:17.139Z"
   },
   {
    "duration": 7,
    "start_time": "2022-08-26T18:59:18.609Z"
   },
   {
    "duration": 5,
    "start_time": "2022-08-26T18:59:18.618Z"
   },
   {
    "duration": 18,
    "start_time": "2022-08-26T18:59:18.625Z"
   },
   {
    "duration": 16,
    "start_time": "2022-08-26T18:59:18.645Z"
   },
   {
    "duration": 6,
    "start_time": "2022-08-26T18:59:18.663Z"
   },
   {
    "duration": 31,
    "start_time": "2022-08-26T18:59:18.671Z"
   },
   {
    "duration": 4,
    "start_time": "2022-08-26T18:59:37.017Z"
   },
   {
    "duration": 800,
    "start_time": "2022-08-26T18:59:38.367Z"
   },
   {
    "duration": 1489,
    "start_time": "2022-08-26T18:59:39.169Z"
   },
   {
    "duration": 1527,
    "start_time": "2022-08-26T18:59:40.661Z"
   },
   {
    "duration": 1172,
    "start_time": "2022-08-26T18:59:46.491Z"
   },
   {
    "duration": 41,
    "start_time": "2022-08-26T18:59:47.665Z"
   },
   {
    "duration": 20,
    "start_time": "2022-08-26T18:59:47.711Z"
   },
   {
    "duration": 15,
    "start_time": "2022-08-26T18:59:47.734Z"
   },
   {
    "duration": 14,
    "start_time": "2022-08-26T18:59:47.751Z"
   },
   {
    "duration": 7,
    "start_time": "2022-08-26T18:59:47.799Z"
   },
   {
    "duration": 14,
    "start_time": "2022-08-26T18:59:47.808Z"
   },
   {
    "duration": 9,
    "start_time": "2022-08-26T18:59:47.824Z"
   },
   {
    "duration": 6,
    "start_time": "2022-08-26T18:59:47.835Z"
   },
   {
    "duration": 7,
    "start_time": "2022-08-26T18:59:47.844Z"
   },
   {
    "duration": 45,
    "start_time": "2022-08-26T18:59:47.854Z"
   },
   {
    "duration": 51,
    "start_time": "2022-08-26T18:59:47.901Z"
   },
   {
    "duration": 49,
    "start_time": "2022-08-26T18:59:47.954Z"
   },
   {
    "duration": 70,
    "start_time": "2022-08-26T18:59:48.005Z"
   },
   {
    "duration": 34,
    "start_time": "2022-08-26T18:59:48.078Z"
   },
   {
    "duration": 16,
    "start_time": "2022-08-26T18:59:48.113Z"
   },
   {
    "duration": 4,
    "start_time": "2022-08-26T18:59:48.131Z"
   },
   {
    "duration": 864,
    "start_time": "2022-08-26T18:59:48.136Z"
   },
   {
    "duration": 1397,
    "start_time": "2022-08-26T18:59:49.001Z"
   },
   {
    "duration": 1542,
    "start_time": "2022-08-26T18:59:50.400Z"
   },
   {
    "duration": 8,
    "start_time": "2022-08-26T18:59:51.943Z"
   },
   {
    "duration": 8,
    "start_time": "2022-08-26T18:59:51.953Z"
   },
   {
    "duration": 56,
    "start_time": "2022-08-26T18:59:51.963Z"
   },
   {
    "duration": 26,
    "start_time": "2022-08-26T18:59:52.021Z"
   },
   {
    "duration": 7,
    "start_time": "2022-08-26T18:59:52.049Z"
   },
   {
    "duration": 6,
    "start_time": "2022-08-26T18:59:52.059Z"
   },
   {
    "duration": 1199,
    "start_time": "2022-08-26T19:01:10.758Z"
   },
   {
    "duration": 70,
    "start_time": "2022-08-26T19:01:11.959Z"
   },
   {
    "duration": 20,
    "start_time": "2022-08-26T19:01:12.030Z"
   },
   {
    "duration": 13,
    "start_time": "2022-08-26T19:01:12.052Z"
   },
   {
    "duration": 10,
    "start_time": "2022-08-26T19:01:12.067Z"
   },
   {
    "duration": 25,
    "start_time": "2022-08-26T19:01:12.079Z"
   },
   {
    "duration": 10,
    "start_time": "2022-08-26T19:01:12.106Z"
   },
   {
    "duration": 7,
    "start_time": "2022-08-26T19:01:12.118Z"
   },
   {
    "duration": 9,
    "start_time": "2022-08-26T19:01:12.127Z"
   },
   {
    "duration": 7,
    "start_time": "2022-08-26T19:01:12.138Z"
   },
   {
    "duration": 53,
    "start_time": "2022-08-26T19:01:12.146Z"
   },
   {
    "duration": 49,
    "start_time": "2022-08-26T19:01:12.201Z"
   },
   {
    "duration": 48,
    "start_time": "2022-08-26T19:01:12.252Z"
   },
   {
    "duration": 40,
    "start_time": "2022-08-26T19:01:12.303Z"
   },
   {
    "duration": 14,
    "start_time": "2022-08-26T19:01:12.345Z"
   },
   {
    "duration": 42,
    "start_time": "2022-08-26T19:01:12.360Z"
   },
   {
    "duration": 3,
    "start_time": "2022-08-26T19:01:12.404Z"
   },
   {
    "duration": 842,
    "start_time": "2022-08-26T19:01:12.409Z"
   },
   {
    "duration": 1464,
    "start_time": "2022-08-26T19:01:13.253Z"
   },
   {
    "duration": 1607,
    "start_time": "2022-08-26T19:01:14.721Z"
   },
   {
    "duration": 8,
    "start_time": "2022-08-26T19:01:16.330Z"
   },
   {
    "duration": 8,
    "start_time": "2022-08-26T19:01:16.339Z"
   },
   {
    "duration": 7,
    "start_time": "2022-08-26T19:01:16.349Z"
   },
   {
    "duration": 12,
    "start_time": "2022-08-26T19:01:16.357Z"
   },
   {
    "duration": 29,
    "start_time": "2022-08-26T19:01:16.371Z"
   },
   {
    "duration": 1459,
    "start_time": "2022-08-29T11:07:27.670Z"
   },
   {
    "duration": 92,
    "start_time": "2022-08-29T11:07:29.132Z"
   },
   {
    "duration": 19,
    "start_time": "2022-08-29T11:07:29.226Z"
   },
   {
    "duration": 13,
    "start_time": "2022-08-29T11:07:29.247Z"
   },
   {
    "duration": 11,
    "start_time": "2022-08-29T11:07:29.263Z"
   },
   {
    "duration": 14,
    "start_time": "2022-08-29T11:07:29.275Z"
   },
   {
    "duration": 18,
    "start_time": "2022-08-29T11:07:29.290Z"
   },
   {
    "duration": 7,
    "start_time": "2022-08-29T11:07:29.310Z"
   },
   {
    "duration": 10,
    "start_time": "2022-08-29T11:07:29.319Z"
   },
   {
    "duration": 10,
    "start_time": "2022-08-29T11:07:29.330Z"
   },
   {
    "duration": 15,
    "start_time": "2022-08-29T11:07:29.342Z"
   },
   {
    "duration": 67,
    "start_time": "2022-08-29T11:07:29.359Z"
   },
   {
    "duration": 25,
    "start_time": "2022-08-29T11:07:29.428Z"
   },
   {
    "duration": 66,
    "start_time": "2022-08-29T11:07:29.456Z"
   },
   {
    "duration": 16,
    "start_time": "2022-08-29T11:07:29.524Z"
   },
   {
    "duration": 23,
    "start_time": "2022-08-29T11:07:29.542Z"
   },
   {
    "duration": 7,
    "start_time": "2022-08-29T11:07:29.567Z"
   },
   {
    "duration": 949,
    "start_time": "2022-08-29T11:07:29.576Z"
   },
   {
    "duration": 1621,
    "start_time": "2022-08-29T11:07:30.528Z"
   },
   {
    "duration": 1896,
    "start_time": "2022-08-29T11:07:32.151Z"
   },
   {
    "duration": 6,
    "start_time": "2022-08-29T11:07:34.048Z"
   },
   {
    "duration": 19,
    "start_time": "2022-08-29T11:07:34.056Z"
   },
   {
    "duration": 31,
    "start_time": "2022-08-29T11:07:34.077Z"
   },
   {
    "duration": 17,
    "start_time": "2022-08-29T11:07:34.110Z"
   },
   {
    "duration": 25,
    "start_time": "2022-08-29T11:07:34.129Z"
   },
   {
    "duration": 1307,
    "start_time": "2022-08-29T12:31:31.832Z"
   },
   {
    "duration": 42,
    "start_time": "2022-08-29T12:31:33.141Z"
   },
   {
    "duration": 16,
    "start_time": "2022-08-29T12:31:33.185Z"
   },
   {
    "duration": 31,
    "start_time": "2022-08-29T12:31:33.205Z"
   },
   {
    "duration": 20,
    "start_time": "2022-08-29T12:31:33.239Z"
   },
   {
    "duration": 23,
    "start_time": "2022-08-29T12:31:33.261Z"
   },
   {
    "duration": 26,
    "start_time": "2022-08-29T12:31:33.285Z"
   },
   {
    "duration": 37,
    "start_time": "2022-08-29T12:31:33.314Z"
   },
   {
    "duration": 17,
    "start_time": "2022-08-29T12:31:33.352Z"
   },
   {
    "duration": 26,
    "start_time": "2022-08-29T12:31:33.371Z"
   },
   {
    "duration": 48,
    "start_time": "2022-08-29T12:31:33.399Z"
   },
   {
    "duration": 50,
    "start_time": "2022-08-29T12:31:33.448Z"
   },
   {
    "duration": 34,
    "start_time": "2022-08-29T12:31:33.500Z"
   },
   {
    "duration": 71,
    "start_time": "2022-08-29T12:31:33.537Z"
   },
   {
    "duration": 31,
    "start_time": "2022-08-29T12:31:33.611Z"
   },
   {
    "duration": 20,
    "start_time": "2022-08-29T12:31:33.644Z"
   },
   {
    "duration": 4,
    "start_time": "2022-08-29T12:31:33.665Z"
   },
   {
    "duration": 1179,
    "start_time": "2022-08-29T12:31:33.671Z"
   },
   {
    "duration": 1759,
    "start_time": "2022-08-29T12:31:34.853Z"
   },
   {
    "duration": 1931,
    "start_time": "2022-08-29T12:31:36.614Z"
   },
   {
    "duration": 6,
    "start_time": "2022-08-29T12:31:38.547Z"
   },
   {
    "duration": 51,
    "start_time": "2022-08-29T12:31:38.555Z"
   },
   {
    "duration": 9,
    "start_time": "2022-08-29T12:31:38.609Z"
   },
   {
    "duration": 24,
    "start_time": "2022-08-29T12:31:38.620Z"
   },
   {
    "duration": 8,
    "start_time": "2022-08-29T12:31:38.647Z"
   },
   {
    "duration": 1263,
    "start_time": "2022-08-29T14:00:13.377Z"
   },
   {
    "duration": 47,
    "start_time": "2022-08-29T14:00:14.642Z"
   },
   {
    "duration": 17,
    "start_time": "2022-08-29T14:00:14.691Z"
   },
   {
    "duration": 24,
    "start_time": "2022-08-29T14:00:14.711Z"
   },
   {
    "duration": 11,
    "start_time": "2022-08-29T14:00:14.737Z"
   },
   {
    "duration": 15,
    "start_time": "2022-08-29T14:00:14.750Z"
   },
   {
    "duration": 7,
    "start_time": "2022-08-29T14:00:14.766Z"
   },
   {
    "duration": 6,
    "start_time": "2022-08-29T14:00:14.775Z"
   },
   {
    "duration": 24,
    "start_time": "2022-08-29T14:00:14.783Z"
   },
   {
    "duration": 19,
    "start_time": "2022-08-29T14:00:14.810Z"
   },
   {
    "duration": 11,
    "start_time": "2022-08-29T14:00:14.831Z"
   },
   {
    "duration": 38,
    "start_time": "2022-08-29T14:00:14.843Z"
   },
   {
    "duration": 42,
    "start_time": "2022-08-29T14:00:14.883Z"
   },
   {
    "duration": 51,
    "start_time": "2022-08-29T14:00:14.927Z"
   },
   {
    "duration": 41,
    "start_time": "2022-08-29T14:00:14.979Z"
   },
   {
    "duration": 29,
    "start_time": "2022-08-29T14:00:15.021Z"
   },
   {
    "duration": 2,
    "start_time": "2022-08-29T14:00:15.052Z"
   },
   {
    "duration": 991,
    "start_time": "2022-08-29T14:00:15.056Z"
   },
   {
    "duration": 1708,
    "start_time": "2022-08-29T14:00:16.049Z"
   },
   {
    "duration": 1930,
    "start_time": "2022-08-29T14:00:17.759Z"
   },
   {
    "duration": 12,
    "start_time": "2022-08-29T14:00:19.691Z"
   },
   {
    "duration": 24,
    "start_time": "2022-08-29T14:00:19.705Z"
   },
   {
    "duration": 9,
    "start_time": "2022-08-29T14:00:19.731Z"
   },
   {
    "duration": 20,
    "start_time": "2022-08-29T14:00:19.741Z"
   },
   {
    "duration": 6,
    "start_time": "2022-08-29T14:00:19.763Z"
   },
   {
    "duration": 1326,
    "start_time": "2022-08-29T14:40:08.585Z"
   },
   {
    "duration": 44,
    "start_time": "2022-08-29T14:40:09.914Z"
   },
   {
    "duration": 18,
    "start_time": "2022-08-29T14:40:09.960Z"
   },
   {
    "duration": 17,
    "start_time": "2022-08-29T14:40:09.982Z"
   },
   {
    "duration": 12,
    "start_time": "2022-08-29T14:40:10.003Z"
   },
   {
    "duration": 25,
    "start_time": "2022-08-29T14:40:10.018Z"
   },
   {
    "duration": 34,
    "start_time": "2022-08-29T14:40:10.045Z"
   },
   {
    "duration": 18,
    "start_time": "2022-08-29T14:40:10.081Z"
   },
   {
    "duration": 9,
    "start_time": "2022-08-29T14:40:10.101Z"
   },
   {
    "duration": 17,
    "start_time": "2022-08-29T14:40:10.114Z"
   },
   {
    "duration": 50,
    "start_time": "2022-08-29T14:40:10.133Z"
   },
   {
    "duration": 48,
    "start_time": "2022-08-29T14:40:10.186Z"
   },
   {
    "duration": 45,
    "start_time": "2022-08-29T14:40:10.237Z"
   },
   {
    "duration": 95,
    "start_time": "2022-08-29T14:40:10.284Z"
   },
   {
    "duration": 33,
    "start_time": "2022-08-29T14:40:10.382Z"
   },
   {
    "duration": 27,
    "start_time": "2022-08-29T14:40:10.417Z"
   },
   {
    "duration": 3,
    "start_time": "2022-08-29T14:40:10.446Z"
   },
   {
    "duration": 1060,
    "start_time": "2022-08-29T14:40:10.451Z"
   },
   {
    "duration": 1758,
    "start_time": "2022-08-29T14:40:11.513Z"
   },
   {
    "duration": 1831,
    "start_time": "2022-08-29T14:40:13.273Z"
   },
   {
    "duration": 8,
    "start_time": "2022-08-29T14:40:15.105Z"
   },
   {
    "duration": 7,
    "start_time": "2022-08-29T14:40:15.114Z"
   },
   {
    "duration": 12,
    "start_time": "2022-08-29T14:40:15.123Z"
   },
   {
    "duration": 11,
    "start_time": "2022-08-29T14:40:15.137Z"
   },
   {
    "duration": 16,
    "start_time": "2022-08-29T14:40:15.151Z"
   },
   {
    "duration": 1357,
    "start_time": "2022-08-30T18:26:38.369Z"
   },
   {
    "duration": 349,
    "start_time": "2022-08-30T18:26:39.728Z"
   },
   {
    "duration": 18,
    "start_time": "2022-08-30T18:26:40.078Z"
   },
   {
    "duration": 13,
    "start_time": "2022-08-30T18:26:40.098Z"
   },
   {
    "duration": 12,
    "start_time": "2022-08-30T18:26:40.112Z"
   },
   {
    "duration": 9,
    "start_time": "2022-08-30T18:26:40.125Z"
   },
   {
    "duration": 12,
    "start_time": "2022-08-30T18:26:40.136Z"
   },
   {
    "duration": 12,
    "start_time": "2022-08-30T18:26:40.150Z"
   },
   {
    "duration": 29,
    "start_time": "2022-08-30T18:26:40.164Z"
   },
   {
    "duration": 9,
    "start_time": "2022-08-30T18:26:40.196Z"
   },
   {
    "duration": 11,
    "start_time": "2022-08-30T18:26:40.206Z"
   },
   {
    "duration": 37,
    "start_time": "2022-08-30T18:26:40.219Z"
   },
   {
    "duration": 56,
    "start_time": "2022-08-30T18:26:40.258Z"
   },
   {
    "duration": 58,
    "start_time": "2022-08-30T18:26:40.316Z"
   },
   {
    "duration": 16,
    "start_time": "2022-08-30T18:26:40.391Z"
   },
   {
    "duration": 21,
    "start_time": "2022-08-30T18:26:40.409Z"
   },
   {
    "duration": 3,
    "start_time": "2022-08-30T18:26:40.432Z"
   },
   {
    "duration": 964,
    "start_time": "2022-08-30T18:26:40.436Z"
   },
   {
    "duration": 1621,
    "start_time": "2022-08-30T18:26:41.402Z"
   },
   {
    "duration": 1815,
    "start_time": "2022-08-30T18:26:43.026Z"
   },
   {
    "duration": 6,
    "start_time": "2022-08-30T18:26:44.843Z"
   },
   {
    "duration": 6,
    "start_time": "2022-08-30T18:26:44.850Z"
   },
   {
    "duration": 9,
    "start_time": "2022-08-30T18:26:44.857Z"
   },
   {
    "duration": 26,
    "start_time": "2022-08-30T18:26:44.867Z"
   },
   {
    "duration": 6,
    "start_time": "2022-08-30T18:26:44.895Z"
   },
   {
    "duration": 1276,
    "start_time": "2022-08-31T10:17:43.364Z"
   },
   {
    "duration": 74,
    "start_time": "2022-08-31T10:17:44.642Z"
   },
   {
    "duration": 14,
    "start_time": "2022-08-31T10:17:44.718Z"
   },
   {
    "duration": 11,
    "start_time": "2022-08-31T10:17:44.734Z"
   },
   {
    "duration": 9,
    "start_time": "2022-08-31T10:17:44.747Z"
   },
   {
    "duration": 7,
    "start_time": "2022-08-31T10:17:44.758Z"
   },
   {
    "duration": 9,
    "start_time": "2022-08-31T10:17:44.767Z"
   },
   {
    "duration": 14,
    "start_time": "2022-08-31T10:17:44.777Z"
   },
   {
    "duration": 7,
    "start_time": "2022-08-31T10:17:44.792Z"
   },
   {
    "duration": 6,
    "start_time": "2022-08-31T10:17:44.801Z"
   },
   {
    "duration": 16,
    "start_time": "2022-08-31T10:17:44.808Z"
   },
   {
    "duration": 52,
    "start_time": "2022-08-31T10:17:44.826Z"
   },
   {
    "duration": 21,
    "start_time": "2022-08-31T10:17:44.880Z"
   },
   {
    "duration": 58,
    "start_time": "2022-08-31T10:17:44.902Z"
   },
   {
    "duration": 13,
    "start_time": "2022-08-31T10:17:44.962Z"
   },
   {
    "duration": 16,
    "start_time": "2022-08-31T10:17:44.976Z"
   },
   {
    "duration": 2,
    "start_time": "2022-08-31T10:17:44.994Z"
   },
   {
    "duration": 898,
    "start_time": "2022-08-31T10:17:44.997Z"
   },
   {
    "duration": 1388,
    "start_time": "2022-08-31T10:17:45.897Z"
   },
   {
    "duration": 1613,
    "start_time": "2022-08-31T10:17:47.286Z"
   },
   {
    "duration": 6,
    "start_time": "2022-08-31T10:17:48.901Z"
   },
   {
    "duration": 18,
    "start_time": "2022-08-31T10:17:48.908Z"
   },
   {
    "duration": 24,
    "start_time": "2022-08-31T10:17:48.928Z"
   },
   {
    "duration": 32,
    "start_time": "2022-08-31T10:17:48.953Z"
   },
   {
    "duration": 25,
    "start_time": "2022-08-31T10:17:48.986Z"
   },
   {
    "duration": 1121,
    "start_time": "2022-08-31T10:34:50.229Z"
   },
   {
    "duration": 38,
    "start_time": "2022-08-31T10:34:51.352Z"
   },
   {
    "duration": 16,
    "start_time": "2022-08-31T10:34:51.392Z"
   },
   {
    "duration": 17,
    "start_time": "2022-08-31T10:34:51.410Z"
   },
   {
    "duration": 17,
    "start_time": "2022-08-31T10:34:51.429Z"
   },
   {
    "duration": 21,
    "start_time": "2022-08-31T10:34:51.447Z"
   },
   {
    "duration": 23,
    "start_time": "2022-08-31T10:34:51.470Z"
   },
   {
    "duration": 11,
    "start_time": "2022-08-31T10:34:51.494Z"
   },
   {
    "duration": 8,
    "start_time": "2022-08-31T10:34:51.507Z"
   },
   {
    "duration": 12,
    "start_time": "2022-08-31T10:34:51.517Z"
   },
   {
    "duration": 17,
    "start_time": "2022-08-31T10:34:51.530Z"
   },
   {
    "duration": 38,
    "start_time": "2022-08-31T10:34:51.549Z"
   },
   {
    "duration": 22,
    "start_time": "2022-08-31T10:34:51.589Z"
   },
   {
    "duration": 62,
    "start_time": "2022-08-31T10:34:51.613Z"
   },
   {
    "duration": 14,
    "start_time": "2022-08-31T10:34:51.677Z"
   },
   {
    "duration": 17,
    "start_time": "2022-08-31T10:34:51.692Z"
   },
   {
    "duration": 2,
    "start_time": "2022-08-31T10:34:51.711Z"
   },
   {
    "duration": 883,
    "start_time": "2022-08-31T10:34:51.715Z"
   },
   {
    "duration": 1525,
    "start_time": "2022-08-31T10:34:52.600Z"
   },
   {
    "duration": 1797,
    "start_time": "2022-08-31T10:34:54.127Z"
   },
   {
    "duration": 7,
    "start_time": "2022-08-31T10:34:55.925Z"
   },
   {
    "duration": 21,
    "start_time": "2022-08-31T10:34:55.933Z"
   },
   {
    "duration": 18,
    "start_time": "2022-08-31T10:34:55.956Z"
   },
   {
    "duration": 10,
    "start_time": "2022-08-31T10:34:55.975Z"
   },
   {
    "duration": 7,
    "start_time": "2022-08-31T10:34:55.987Z"
   },
   {
    "duration": 1127,
    "start_time": "2022-08-31T13:20:27.420Z"
   },
   {
    "duration": 39,
    "start_time": "2022-08-31T13:20:28.549Z"
   },
   {
    "duration": 20,
    "start_time": "2022-08-31T13:20:28.590Z"
   },
   {
    "duration": 17,
    "start_time": "2022-08-31T13:20:28.612Z"
   },
   {
    "duration": 15,
    "start_time": "2022-08-31T13:20:28.632Z"
   },
   {
    "duration": 18,
    "start_time": "2022-08-31T13:20:28.649Z"
   },
   {
    "duration": 11,
    "start_time": "2022-08-31T13:20:28.669Z"
   },
   {
    "duration": 20,
    "start_time": "2022-08-31T13:20:28.681Z"
   },
   {
    "duration": 14,
    "start_time": "2022-08-31T13:20:28.702Z"
   },
   {
    "duration": 17,
    "start_time": "2022-08-31T13:20:28.718Z"
   },
   {
    "duration": 29,
    "start_time": "2022-08-31T13:20:28.737Z"
   },
   {
    "duration": 52,
    "start_time": "2022-08-31T13:20:28.768Z"
   },
   {
    "duration": 24,
    "start_time": "2022-08-31T13:20:28.821Z"
   },
   {
    "duration": 66,
    "start_time": "2022-08-31T13:20:28.847Z"
   },
   {
    "duration": 31,
    "start_time": "2022-08-31T13:20:28.915Z"
   },
   {
    "duration": 45,
    "start_time": "2022-08-31T13:20:28.947Z"
   },
   {
    "duration": 8,
    "start_time": "2022-08-31T13:20:28.995Z"
   },
   {
    "duration": 931,
    "start_time": "2022-08-31T13:20:29.005Z"
   },
   {
    "duration": 1475,
    "start_time": "2022-08-31T13:20:29.938Z"
   },
   {
    "duration": 1701,
    "start_time": "2022-08-31T13:20:31.415Z"
   },
   {
    "duration": 7,
    "start_time": "2022-08-31T13:20:33.118Z"
   },
   {
    "duration": 18,
    "start_time": "2022-08-31T13:20:33.126Z"
   },
   {
    "duration": 14,
    "start_time": "2022-08-31T13:20:33.145Z"
   },
   {
    "duration": 47,
    "start_time": "2022-08-31T13:20:33.161Z"
   },
   {
    "duration": 8,
    "start_time": "2022-08-31T13:20:33.210Z"
   },
   {
    "duration": 1127,
    "start_time": "2022-10-07T19:47:06.754Z"
   },
   {
    "duration": 76,
    "start_time": "2022-10-07T19:47:07.883Z"
   },
   {
    "duration": 16,
    "start_time": "2022-10-07T19:47:07.961Z"
   },
   {
    "duration": 12,
    "start_time": "2022-10-07T19:47:07.978Z"
   },
   {
    "duration": 9,
    "start_time": "2022-10-07T19:47:07.992Z"
   },
   {
    "duration": 10,
    "start_time": "2022-10-07T19:47:08.003Z"
   },
   {
    "duration": 9,
    "start_time": "2022-10-07T19:47:08.015Z"
   },
   {
    "duration": 7,
    "start_time": "2022-10-07T19:47:08.026Z"
   },
   {
    "duration": 14,
    "start_time": "2022-10-07T19:47:08.035Z"
   },
   {
    "duration": 7,
    "start_time": "2022-10-07T19:47:08.078Z"
   },
   {
    "duration": 16,
    "start_time": "2022-10-07T19:47:08.086Z"
   },
   {
    "duration": 37,
    "start_time": "2022-10-07T19:47:08.104Z"
   },
   {
    "duration": 40,
    "start_time": "2022-10-07T19:47:08.143Z"
   },
   {
    "duration": 47,
    "start_time": "2022-10-07T19:47:08.184Z"
   },
   {
    "duration": 14,
    "start_time": "2022-10-07T19:47:08.232Z"
   },
   {
    "duration": 40,
    "start_time": "2022-10-07T19:47:08.248Z"
   },
   {
    "duration": 4,
    "start_time": "2022-10-07T19:47:08.290Z"
   },
   {
    "duration": 893,
    "start_time": "2022-10-07T19:47:08.295Z"
   },
   {
    "duration": 1414,
    "start_time": "2022-10-07T19:47:09.190Z"
   },
   {
    "duration": 1653,
    "start_time": "2022-10-07T19:47:10.605Z"
   },
   {
    "duration": 6,
    "start_time": "2022-10-07T19:47:12.260Z"
   },
   {
    "duration": 11,
    "start_time": "2022-10-07T19:47:12.267Z"
   },
   {
    "duration": 8,
    "start_time": "2022-10-07T19:47:12.280Z"
   },
   {
    "duration": 13,
    "start_time": "2022-10-07T19:47:12.289Z"
   },
   {
    "duration": 10,
    "start_time": "2022-10-07T19:47:12.303Z"
   }
  ],
  "kernelspec": {
   "display_name": "Python 3 (ipykernel)",
   "language": "python",
   "name": "python3"
  },
  "language_info": {
   "codemirror_mode": {
    "name": "ipython",
    "version": 3
   },
   "file_extension": ".py",
   "mimetype": "text/x-python",
   "name": "python",
   "nbconvert_exporter": "python",
   "pygments_lexer": "ipython3",
   "version": "3.9.5"
  },
  "toc": {
   "base_numbering": 1,
   "nav_menu": {},
   "number_sections": true,
   "sideBar": true,
   "skip_h1_title": true,
   "title_cell": "Содержание",
   "title_sidebar": "Contents",
   "toc_cell": false,
   "toc_position": {
    "height": "calc(100% - 180px)",
    "left": "10px",
    "top": "150px",
    "width": "395px"
   },
   "toc_section_display": true,
   "toc_window_display": false
  }
 },
 "nbformat": 4,
 "nbformat_minor": 5
}
