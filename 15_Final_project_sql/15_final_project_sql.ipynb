{
 "cells": [
  {
   "cell_type": "markdown",
   "metadata": {},
   "source": [
    "# Финальный проект. SQL. Анализ базы данных книжного сервиса"
   ]
  },
  {
   "cell_type": "markdown",
   "metadata": {},
   "source": [
    "**Описание проекта**\n",
    "\n",
    "Коронавирус застал мир врасплох, изменив привычный порядок вещей. В свободное время жители городов больше не выходят на улицу, не посещают кафе и торговые центры. Зато стало больше времени для книг. Это заметили стартаперы — и бросились создавать приложения для тех, кто любит читать.\n",
    "\n",
    "Ваша компания решила быть на волне и купила крупный сервис для чтения книг по подписке. Ваша первая задача как аналитика — проанализировать базу данных. В ней — информация о книгах, издательствах, авторах, а также пользовательские обзоры книг. Эти данные помогут сформулировать ценностное предложение для нового продукта.\n",
    "\n",
    "**Задачи проекта:**\n",
    "\n",
    "* посчитать, сколько книг вышло после 1 января 2000 года;\n",
    "* для каждой книги посчитать количество обзоров и среднюю оценку;\n",
    "* определить издательство, которое выпустило наибольшее число книг толще 50 страниц — (исключение из анализа брошюр);\n",
    "* определить автора с самой высокой средней оценкой книг, учитывая только книги с 50 и более оценками;\n",
    "* посчитайть среднее количество обзоров от пользователей, которые поставили больше 50 оценок.\n",
    "\n",
    "**Описание данных**\n",
    "\n",
    "**Таблица `books`**\n",
    "\n",
    "Содержит данные о книгах:\n",
    "\n",
    "* `book_id` — идентификатор книги;\n",
    "* `author_id` — идентификатор автора;\n",
    "* `title` — название книги;\n",
    "* `num_pages` — количество страниц;\n",
    "* `publication_date` — дата публикации книги;\n",
    "* `publisher_id` — идентификатор издателя.\n",
    "\n",
    "**Таблица `authors`**\n",
    "\n",
    "Содержит данные об авторах:\n",
    "\n",
    "* `author_id` — идентификатор автора;\n",
    "* `author` — имя автора.\n",
    "\n",
    "**Таблица `publishers`**\n",
    "\n",
    "Содержит данные об издательствах:\n",
    "\n",
    "* `publisher_id` — идентификатор издательства;\n",
    "* `publisher` — название издательства;\n",
    "\n",
    "**Таблица `ratings`**\n",
    "\n",
    "Содержит данные о пользовательских оценках книг:\n",
    "\n",
    "* `rating_id` — идентификатор оценки;\n",
    "* `book_id` — идентификатор книги;\n",
    "* `username` — имя пользователя, оставившего оценку;\n",
    "* `rating` — оценка книги.\n",
    "\n",
    "**Таблица `reviews`**\n",
    "\n",
    "Содержит данные о пользовательских обзорах:\n",
    "\n",
    "* `review_id` — идентификатор обзора;\n",
    "* `book_id` — идентификатор книги;\n",
    "* `username` — имя автора обзора;\n",
    "* `text` — текст обзора."
   ]
  },
  {
   "cell_type": "markdown",
   "metadata": {},
   "source": [
    "## Загрузка данных"
   ]
  },
  {
   "cell_type": "code",
   "execution_count": 1,
   "metadata": {},
   "outputs": [],
   "source": [
    "# импортируем библиотеки\n",
    "import pandas as pd\n",
    "from sqlalchemy import create_engine"
   ]
  },
  {
   "cell_type": "code",
   "execution_count": 2,
   "metadata": {},
   "outputs": [],
   "source": [
    "# установим параметры\n",
    "db_config = {'user': 'praktikum_student', # имя пользователя\n",
    "             'pwd': 'Sdf4$2;d-d30pp', # пароль\n",
    "             'host': 'rc1b-wcoijxj3yxfsf3fs.mdb.yandexcloud.net',\n",
    "             'port': 6432, # порт подключения\n",
    "             'db': 'data-analyst-final-project-db'} # название базы данных\n",
    "\n",
    "connection_string = 'postgresql://{}:{}@{}:{}/{}'.format(db_config['user'], \n",
    "                                                         db_config['pwd'],\n",
    "                                                         db_config['host'],\n",
    "                                                         db_config['port'],\n",
    "                                                         db_config['db'])\n",
    "\n",
    "# сохраним коннектор\n",
    "engine = create_engine(connection_string, connect_args={'sslmode':'require'}) "
   ]
  },
  {
   "cell_type": "markdown",
   "metadata": {},
   "source": [
    "**Функция для поочередного вывода таблиц `books`, `authors`, `publishers`, `ratings`, `reviews`**"
   ]
  },
  {
   "cell_type": "code",
   "execution_count": 3,
   "metadata": {
    "scrolled": false
   },
   "outputs": [
    {
     "data": {
      "text/html": [
       "<div>\n",
       "<style scoped>\n",
       "    .dataframe tbody tr th:only-of-type {\n",
       "        vertical-align: middle;\n",
       "    }\n",
       "\n",
       "    .dataframe tbody tr th {\n",
       "        vertical-align: top;\n",
       "    }\n",
       "\n",
       "    .dataframe thead th {\n",
       "        text-align: right;\n",
       "    }\n",
       "</style>\n",
       "<table border=\"1\" class=\"dataframe\">\n",
       "  <thead>\n",
       "    <tr style=\"text-align: right;\">\n",
       "      <th></th>\n",
       "      <th>book_id</th>\n",
       "      <th>author_id</th>\n",
       "      <th>title</th>\n",
       "      <th>num_pages</th>\n",
       "      <th>publication_date</th>\n",
       "      <th>publisher_id</th>\n",
       "    </tr>\n",
       "  </thead>\n",
       "  <tbody>\n",
       "    <tr>\n",
       "      <th>0</th>\n",
       "      <td>1</td>\n",
       "      <td>546</td>\n",
       "      <td>'Salem's Lot</td>\n",
       "      <td>594</td>\n",
       "      <td>2005-11-01</td>\n",
       "      <td>93</td>\n",
       "    </tr>\n",
       "    <tr>\n",
       "      <th>1</th>\n",
       "      <td>2</td>\n",
       "      <td>465</td>\n",
       "      <td>1 000 Places to See Before You Die</td>\n",
       "      <td>992</td>\n",
       "      <td>2003-05-22</td>\n",
       "      <td>336</td>\n",
       "    </tr>\n",
       "    <tr>\n",
       "      <th>2</th>\n",
       "      <td>3</td>\n",
       "      <td>407</td>\n",
       "      <td>13 Little Blue Envelopes (Little Blue Envelope...</td>\n",
       "      <td>322</td>\n",
       "      <td>2010-12-21</td>\n",
       "      <td>135</td>\n",
       "    </tr>\n",
       "    <tr>\n",
       "      <th>3</th>\n",
       "      <td>4</td>\n",
       "      <td>82</td>\n",
       "      <td>1491: New Revelations of the Americas Before C...</td>\n",
       "      <td>541</td>\n",
       "      <td>2006-10-10</td>\n",
       "      <td>309</td>\n",
       "    </tr>\n",
       "    <tr>\n",
       "      <th>4</th>\n",
       "      <td>5</td>\n",
       "      <td>125</td>\n",
       "      <td>1776</td>\n",
       "      <td>386</td>\n",
       "      <td>2006-07-04</td>\n",
       "      <td>268</td>\n",
       "    </tr>\n",
       "    <tr>\n",
       "      <th>...</th>\n",
       "      <td>...</td>\n",
       "      <td>...</td>\n",
       "      <td>...</td>\n",
       "      <td>...</td>\n",
       "      <td>...</td>\n",
       "      <td>...</td>\n",
       "    </tr>\n",
       "    <tr>\n",
       "      <th>995</th>\n",
       "      <td>996</td>\n",
       "      <td>571</td>\n",
       "      <td>Wyrd Sisters (Discworld  #6; Witches #2)</td>\n",
       "      <td>265</td>\n",
       "      <td>2001-02-06</td>\n",
       "      <td>147</td>\n",
       "    </tr>\n",
       "    <tr>\n",
       "      <th>996</th>\n",
       "      <td>997</td>\n",
       "      <td>454</td>\n",
       "      <td>Xenocide (Ender's Saga  #3)</td>\n",
       "      <td>592</td>\n",
       "      <td>1996-07-15</td>\n",
       "      <td>297</td>\n",
       "    </tr>\n",
       "    <tr>\n",
       "      <th>997</th>\n",
       "      <td>998</td>\n",
       "      <td>201</td>\n",
       "      <td>Year of Wonders</td>\n",
       "      <td>358</td>\n",
       "      <td>2002-04-30</td>\n",
       "      <td>212</td>\n",
       "    </tr>\n",
       "    <tr>\n",
       "      <th>998</th>\n",
       "      <td>999</td>\n",
       "      <td>94</td>\n",
       "      <td>You Suck (A Love Story  #2)</td>\n",
       "      <td>328</td>\n",
       "      <td>2007-01-16</td>\n",
       "      <td>331</td>\n",
       "    </tr>\n",
       "    <tr>\n",
       "      <th>999</th>\n",
       "      <td>1000</td>\n",
       "      <td>509</td>\n",
       "      <td>Zen and the Art of Motorcycle Maintenance: An ...</td>\n",
       "      <td>540</td>\n",
       "      <td>2006-04-25</td>\n",
       "      <td>143</td>\n",
       "    </tr>\n",
       "  </tbody>\n",
       "</table>\n",
       "<p>1000 rows × 6 columns</p>\n",
       "</div>"
      ],
      "text/plain": [
       "     book_id  author_id                                              title  \\\n",
       "0          1        546                                       'Salem's Lot   \n",
       "1          2        465                 1 000 Places to See Before You Die   \n",
       "2          3        407  13 Little Blue Envelopes (Little Blue Envelope...   \n",
       "3          4         82  1491: New Revelations of the Americas Before C...   \n",
       "4          5        125                                               1776   \n",
       "..       ...        ...                                                ...   \n",
       "995      996        571           Wyrd Sisters (Discworld  #6; Witches #2)   \n",
       "996      997        454                        Xenocide (Ender's Saga  #3)   \n",
       "997      998        201                                    Year of Wonders   \n",
       "998      999         94                        You Suck (A Love Story  #2)   \n",
       "999     1000        509  Zen and the Art of Motorcycle Maintenance: An ...   \n",
       "\n",
       "     num_pages publication_date  publisher_id  \n",
       "0          594       2005-11-01            93  \n",
       "1          992       2003-05-22           336  \n",
       "2          322       2010-12-21           135  \n",
       "3          541       2006-10-10           309  \n",
       "4          386       2006-07-04           268  \n",
       "..         ...              ...           ...  \n",
       "995        265       2001-02-06           147  \n",
       "996        592       1996-07-15           297  \n",
       "997        358       2002-04-30           212  \n",
       "998        328       2007-01-16           331  \n",
       "999        540       2006-04-25           143  \n",
       "\n",
       "[1000 rows x 6 columns]"
      ]
     },
     "metadata": {},
     "output_type": "display_data"
    },
    {
     "data": {
      "text/html": [
       "<div>\n",
       "<style scoped>\n",
       "    .dataframe tbody tr th:only-of-type {\n",
       "        vertical-align: middle;\n",
       "    }\n",
       "\n",
       "    .dataframe tbody tr th {\n",
       "        vertical-align: top;\n",
       "    }\n",
       "\n",
       "    .dataframe thead th {\n",
       "        text-align: right;\n",
       "    }\n",
       "</style>\n",
       "<table border=\"1\" class=\"dataframe\">\n",
       "  <thead>\n",
       "    <tr style=\"text-align: right;\">\n",
       "      <th></th>\n",
       "      <th>author_id</th>\n",
       "      <th>author</th>\n",
       "    </tr>\n",
       "  </thead>\n",
       "  <tbody>\n",
       "    <tr>\n",
       "      <th>0</th>\n",
       "      <td>1</td>\n",
       "      <td>A.S. Byatt</td>\n",
       "    </tr>\n",
       "    <tr>\n",
       "      <th>1</th>\n",
       "      <td>2</td>\n",
       "      <td>Aesop/Laura Harris/Laura Gibbs</td>\n",
       "    </tr>\n",
       "    <tr>\n",
       "      <th>2</th>\n",
       "      <td>3</td>\n",
       "      <td>Agatha Christie</td>\n",
       "    </tr>\n",
       "    <tr>\n",
       "      <th>3</th>\n",
       "      <td>4</td>\n",
       "      <td>Alan Brennert</td>\n",
       "    </tr>\n",
       "    <tr>\n",
       "      <th>4</th>\n",
       "      <td>5</td>\n",
       "      <td>Alan Moore/David   Lloyd</td>\n",
       "    </tr>\n",
       "    <tr>\n",
       "      <th>...</th>\n",
       "      <td>...</td>\n",
       "      <td>...</td>\n",
       "    </tr>\n",
       "    <tr>\n",
       "      <th>631</th>\n",
       "      <td>632</td>\n",
       "      <td>William Strunk Jr./E.B. White</td>\n",
       "    </tr>\n",
       "    <tr>\n",
       "      <th>632</th>\n",
       "      <td>633</td>\n",
       "      <td>Zadie Smith</td>\n",
       "    </tr>\n",
       "    <tr>\n",
       "      <th>633</th>\n",
       "      <td>634</td>\n",
       "      <td>Zilpha Keatley Snyder</td>\n",
       "    </tr>\n",
       "    <tr>\n",
       "      <th>634</th>\n",
       "      <td>635</td>\n",
       "      <td>Zora Neale Hurston</td>\n",
       "    </tr>\n",
       "    <tr>\n",
       "      <th>635</th>\n",
       "      <td>636</td>\n",
       "      <td>Åsne Seierstad/Ingrid Christopherson</td>\n",
       "    </tr>\n",
       "  </tbody>\n",
       "</table>\n",
       "<p>636 rows × 2 columns</p>\n",
       "</div>"
      ],
      "text/plain": [
       "     author_id                                author\n",
       "0            1                            A.S. Byatt\n",
       "1            2        Aesop/Laura Harris/Laura Gibbs\n",
       "2            3                       Agatha Christie\n",
       "3            4                         Alan Brennert\n",
       "4            5              Alan Moore/David   Lloyd\n",
       "..         ...                                   ...\n",
       "631        632         William Strunk Jr./E.B. White\n",
       "632        633                           Zadie Smith\n",
       "633        634                 Zilpha Keatley Snyder\n",
       "634        635                    Zora Neale Hurston\n",
       "635        636  Åsne Seierstad/Ingrid Christopherson\n",
       "\n",
       "[636 rows x 2 columns]"
      ]
     },
     "metadata": {},
     "output_type": "display_data"
    },
    {
     "data": {
      "text/html": [
       "<div>\n",
       "<style scoped>\n",
       "    .dataframe tbody tr th:only-of-type {\n",
       "        vertical-align: middle;\n",
       "    }\n",
       "\n",
       "    .dataframe tbody tr th {\n",
       "        vertical-align: top;\n",
       "    }\n",
       "\n",
       "    .dataframe thead th {\n",
       "        text-align: right;\n",
       "    }\n",
       "</style>\n",
       "<table border=\"1\" class=\"dataframe\">\n",
       "  <thead>\n",
       "    <tr style=\"text-align: right;\">\n",
       "      <th></th>\n",
       "      <th>publisher_id</th>\n",
       "      <th>publisher</th>\n",
       "    </tr>\n",
       "  </thead>\n",
       "  <tbody>\n",
       "    <tr>\n",
       "      <th>0</th>\n",
       "      <td>1</td>\n",
       "      <td>Ace</td>\n",
       "    </tr>\n",
       "    <tr>\n",
       "      <th>1</th>\n",
       "      <td>2</td>\n",
       "      <td>Ace Book</td>\n",
       "    </tr>\n",
       "    <tr>\n",
       "      <th>2</th>\n",
       "      <td>3</td>\n",
       "      <td>Ace Books</td>\n",
       "    </tr>\n",
       "    <tr>\n",
       "      <th>3</th>\n",
       "      <td>4</td>\n",
       "      <td>Ace Hardcover</td>\n",
       "    </tr>\n",
       "    <tr>\n",
       "      <th>4</th>\n",
       "      <td>5</td>\n",
       "      <td>Addison Wesley Publishing Company</td>\n",
       "    </tr>\n",
       "    <tr>\n",
       "      <th>...</th>\n",
       "      <td>...</td>\n",
       "      <td>...</td>\n",
       "    </tr>\n",
       "    <tr>\n",
       "      <th>335</th>\n",
       "      <td>336</td>\n",
       "      <td>Workman Publishing Company</td>\n",
       "    </tr>\n",
       "    <tr>\n",
       "      <th>336</th>\n",
       "      <td>337</td>\n",
       "      <td>Wyatt Book</td>\n",
       "    </tr>\n",
       "    <tr>\n",
       "      <th>337</th>\n",
       "      <td>338</td>\n",
       "      <td>Yale University Press</td>\n",
       "    </tr>\n",
       "    <tr>\n",
       "      <th>338</th>\n",
       "      <td>339</td>\n",
       "      <td>Yearling</td>\n",
       "    </tr>\n",
       "    <tr>\n",
       "      <th>339</th>\n",
       "      <td>340</td>\n",
       "      <td>Yearling Books</td>\n",
       "    </tr>\n",
       "  </tbody>\n",
       "</table>\n",
       "<p>340 rows × 2 columns</p>\n",
       "</div>"
      ],
      "text/plain": [
       "     publisher_id                          publisher\n",
       "0               1                                Ace\n",
       "1               2                           Ace Book\n",
       "2               3                          Ace Books\n",
       "3               4                      Ace Hardcover\n",
       "4               5  Addison Wesley Publishing Company\n",
       "..            ...                                ...\n",
       "335           336         Workman Publishing Company\n",
       "336           337                         Wyatt Book\n",
       "337           338              Yale University Press\n",
       "338           339                           Yearling\n",
       "339           340                     Yearling Books\n",
       "\n",
       "[340 rows x 2 columns]"
      ]
     },
     "metadata": {},
     "output_type": "display_data"
    },
    {
     "data": {
      "text/html": [
       "<div>\n",
       "<style scoped>\n",
       "    .dataframe tbody tr th:only-of-type {\n",
       "        vertical-align: middle;\n",
       "    }\n",
       "\n",
       "    .dataframe tbody tr th {\n",
       "        vertical-align: top;\n",
       "    }\n",
       "\n",
       "    .dataframe thead th {\n",
       "        text-align: right;\n",
       "    }\n",
       "</style>\n",
       "<table border=\"1\" class=\"dataframe\">\n",
       "  <thead>\n",
       "    <tr style=\"text-align: right;\">\n",
       "      <th></th>\n",
       "      <th>rating_id</th>\n",
       "      <th>book_id</th>\n",
       "      <th>username</th>\n",
       "      <th>rating</th>\n",
       "    </tr>\n",
       "  </thead>\n",
       "  <tbody>\n",
       "    <tr>\n",
       "      <th>0</th>\n",
       "      <td>1</td>\n",
       "      <td>1</td>\n",
       "      <td>ryanfranco</td>\n",
       "      <td>4</td>\n",
       "    </tr>\n",
       "    <tr>\n",
       "      <th>1</th>\n",
       "      <td>2</td>\n",
       "      <td>1</td>\n",
       "      <td>grantpatricia</td>\n",
       "      <td>2</td>\n",
       "    </tr>\n",
       "    <tr>\n",
       "      <th>2</th>\n",
       "      <td>3</td>\n",
       "      <td>1</td>\n",
       "      <td>brandtandrea</td>\n",
       "      <td>5</td>\n",
       "    </tr>\n",
       "    <tr>\n",
       "      <th>3</th>\n",
       "      <td>4</td>\n",
       "      <td>2</td>\n",
       "      <td>lorichen</td>\n",
       "      <td>3</td>\n",
       "    </tr>\n",
       "    <tr>\n",
       "      <th>4</th>\n",
       "      <td>5</td>\n",
       "      <td>2</td>\n",
       "      <td>mariokeller</td>\n",
       "      <td>2</td>\n",
       "    </tr>\n",
       "    <tr>\n",
       "      <th>...</th>\n",
       "      <td>...</td>\n",
       "      <td>...</td>\n",
       "      <td>...</td>\n",
       "      <td>...</td>\n",
       "    </tr>\n",
       "    <tr>\n",
       "      <th>6451</th>\n",
       "      <td>6452</td>\n",
       "      <td>1000</td>\n",
       "      <td>carolrodriguez</td>\n",
       "      <td>4</td>\n",
       "    </tr>\n",
       "    <tr>\n",
       "      <th>6452</th>\n",
       "      <td>6453</td>\n",
       "      <td>1000</td>\n",
       "      <td>wendy18</td>\n",
       "      <td>4</td>\n",
       "    </tr>\n",
       "    <tr>\n",
       "      <th>6453</th>\n",
       "      <td>6454</td>\n",
       "      <td>1000</td>\n",
       "      <td>jarvispaul</td>\n",
       "      <td>5</td>\n",
       "    </tr>\n",
       "    <tr>\n",
       "      <th>6454</th>\n",
       "      <td>6455</td>\n",
       "      <td>1000</td>\n",
       "      <td>zross</td>\n",
       "      <td>2</td>\n",
       "    </tr>\n",
       "    <tr>\n",
       "      <th>6455</th>\n",
       "      <td>6456</td>\n",
       "      <td>1000</td>\n",
       "      <td>fharris</td>\n",
       "      <td>5</td>\n",
       "    </tr>\n",
       "  </tbody>\n",
       "</table>\n",
       "<p>6456 rows × 4 columns</p>\n",
       "</div>"
      ],
      "text/plain": [
       "      rating_id  book_id        username  rating\n",
       "0             1        1      ryanfranco       4\n",
       "1             2        1   grantpatricia       2\n",
       "2             3        1    brandtandrea       5\n",
       "3             4        2        lorichen       3\n",
       "4             5        2     mariokeller       2\n",
       "...         ...      ...             ...     ...\n",
       "6451       6452     1000  carolrodriguez       4\n",
       "6452       6453     1000         wendy18       4\n",
       "6453       6454     1000      jarvispaul       5\n",
       "6454       6455     1000           zross       2\n",
       "6455       6456     1000         fharris       5\n",
       "\n",
       "[6456 rows x 4 columns]"
      ]
     },
     "metadata": {},
     "output_type": "display_data"
    },
    {
     "data": {
      "text/html": [
       "<div>\n",
       "<style scoped>\n",
       "    .dataframe tbody tr th:only-of-type {\n",
       "        vertical-align: middle;\n",
       "    }\n",
       "\n",
       "    .dataframe tbody tr th {\n",
       "        vertical-align: top;\n",
       "    }\n",
       "\n",
       "    .dataframe thead th {\n",
       "        text-align: right;\n",
       "    }\n",
       "</style>\n",
       "<table border=\"1\" class=\"dataframe\">\n",
       "  <thead>\n",
       "    <tr style=\"text-align: right;\">\n",
       "      <th></th>\n",
       "      <th>review_id</th>\n",
       "      <th>book_id</th>\n",
       "      <th>username</th>\n",
       "      <th>text</th>\n",
       "    </tr>\n",
       "  </thead>\n",
       "  <tbody>\n",
       "    <tr>\n",
       "      <th>0</th>\n",
       "      <td>1</td>\n",
       "      <td>1</td>\n",
       "      <td>brandtandrea</td>\n",
       "      <td>Mention society tell send professor analysis. ...</td>\n",
       "    </tr>\n",
       "    <tr>\n",
       "      <th>1</th>\n",
       "      <td>2</td>\n",
       "      <td>1</td>\n",
       "      <td>ryanfranco</td>\n",
       "      <td>Foot glass pretty audience hit themselves. Amo...</td>\n",
       "    </tr>\n",
       "    <tr>\n",
       "      <th>2</th>\n",
       "      <td>3</td>\n",
       "      <td>2</td>\n",
       "      <td>lorichen</td>\n",
       "      <td>Listen treat keep worry. Miss husband tax but ...</td>\n",
       "    </tr>\n",
       "    <tr>\n",
       "      <th>3</th>\n",
       "      <td>4</td>\n",
       "      <td>3</td>\n",
       "      <td>johnsonamanda</td>\n",
       "      <td>Finally month interesting blue could nature cu...</td>\n",
       "    </tr>\n",
       "    <tr>\n",
       "      <th>4</th>\n",
       "      <td>5</td>\n",
       "      <td>3</td>\n",
       "      <td>scotttamara</td>\n",
       "      <td>Nation purpose heavy give wait song will. List...</td>\n",
       "    </tr>\n",
       "    <tr>\n",
       "      <th>...</th>\n",
       "      <td>...</td>\n",
       "      <td>...</td>\n",
       "      <td>...</td>\n",
       "      <td>...</td>\n",
       "    </tr>\n",
       "    <tr>\n",
       "      <th>2788</th>\n",
       "      <td>2789</td>\n",
       "      <td>999</td>\n",
       "      <td>martinadam</td>\n",
       "      <td>Later hospital turn easy community. Fact same ...</td>\n",
       "    </tr>\n",
       "    <tr>\n",
       "      <th>2789</th>\n",
       "      <td>2790</td>\n",
       "      <td>1000</td>\n",
       "      <td>wknight</td>\n",
       "      <td>Change lose answer close pressure. Spend so now.</td>\n",
       "    </tr>\n",
       "    <tr>\n",
       "      <th>2790</th>\n",
       "      <td>2791</td>\n",
       "      <td>1000</td>\n",
       "      <td>carolrodriguez</td>\n",
       "      <td>Authority go who television entire hair guy po...</td>\n",
       "    </tr>\n",
       "    <tr>\n",
       "      <th>2791</th>\n",
       "      <td>2792</td>\n",
       "      <td>1000</td>\n",
       "      <td>wendy18</td>\n",
       "      <td>Or western offer wonder ask. More hear phone f...</td>\n",
       "    </tr>\n",
       "    <tr>\n",
       "      <th>2792</th>\n",
       "      <td>2793</td>\n",
       "      <td>1000</td>\n",
       "      <td>jarvispaul</td>\n",
       "      <td>Republican staff bit eat material measure plan...</td>\n",
       "    </tr>\n",
       "  </tbody>\n",
       "</table>\n",
       "<p>2793 rows × 4 columns</p>\n",
       "</div>"
      ],
      "text/plain": [
       "      review_id  book_id        username  \\\n",
       "0             1        1    brandtandrea   \n",
       "1             2        1      ryanfranco   \n",
       "2             3        2        lorichen   \n",
       "3             4        3   johnsonamanda   \n",
       "4             5        3     scotttamara   \n",
       "...         ...      ...             ...   \n",
       "2788       2789      999      martinadam   \n",
       "2789       2790     1000         wknight   \n",
       "2790       2791     1000  carolrodriguez   \n",
       "2791       2792     1000         wendy18   \n",
       "2792       2793     1000      jarvispaul   \n",
       "\n",
       "                                                   text  \n",
       "0     Mention society tell send professor analysis. ...  \n",
       "1     Foot glass pretty audience hit themselves. Amo...  \n",
       "2     Listen treat keep worry. Miss husband tax but ...  \n",
       "3     Finally month interesting blue could nature cu...  \n",
       "4     Nation purpose heavy give wait song will. List...  \n",
       "...                                                 ...  \n",
       "2788  Later hospital turn easy community. Fact same ...  \n",
       "2789   Change lose answer close pressure. Spend so now.  \n",
       "2790  Authority go who television entire hair guy po...  \n",
       "2791  Or western offer wonder ask. More hear phone f...  \n",
       "2792  Republican staff bit eat material measure plan...  \n",
       "\n",
       "[2793 rows x 4 columns]"
      ]
     },
     "metadata": {},
     "output_type": "display_data"
    }
   ],
   "source": [
    "table = [\n",
    "    'books', \n",
    "    'authors', \n",
    "    'publishers', \n",
    "    'ratings', \n",
    "    'reviews'\n",
    "]\n",
    "\n",
    "for name in table:\n",
    "    query = f'SELECT * FROM {name}'\n",
    "    display(pd.io.sql.read_sql(query, con = engine))"
   ]
  },
  {
   "cell_type": "markdown",
   "metadata": {},
   "source": [
    "## Количество книг, вышедших после 1 января 2000 год"
   ]
  },
  {
   "cell_type": "code",
   "execution_count": 4,
   "metadata": {
    "scrolled": true
   },
   "outputs": [
    {
     "data": {
      "text/html": [
       "<div>\n",
       "<style scoped>\n",
       "    .dataframe tbody tr th:only-of-type {\n",
       "        vertical-align: middle;\n",
       "    }\n",
       "\n",
       "    .dataframe tbody tr th {\n",
       "        vertical-align: top;\n",
       "    }\n",
       "\n",
       "    .dataframe thead th {\n",
       "        text-align: right;\n",
       "    }\n",
       "</style>\n",
       "<table border=\"1\" class=\"dataframe\">\n",
       "  <thead>\n",
       "    <tr style=\"text-align: right;\">\n",
       "      <th></th>\n",
       "      <th>count</th>\n",
       "    </tr>\n",
       "  </thead>\n",
       "  <tbody>\n",
       "    <tr>\n",
       "      <th>0</th>\n",
       "      <td>819</td>\n",
       "    </tr>\n",
       "  </tbody>\n",
       "</table>\n",
       "</div>"
      ],
      "text/plain": [
       "   count\n",
       "0    819"
      ]
     },
     "execution_count": 4,
     "metadata": {},
     "output_type": "execute_result"
    }
   ],
   "source": [
    "query = '''\n",
    "    SELECT COUNT(book_id)\n",
    "    FROM books\n",
    "    WHERE publication_date > '01.01.2000'\n",
    "    '''\n",
    "pd.io.sql.read_sql(query, con = engine)"
   ]
  },
  {
   "cell_type": "markdown",
   "metadata": {},
   "source": [
    "**Вывод:** после 1 января 2000 года было издано 819 книг"
   ]
  },
  {
   "cell_type": "markdown",
   "metadata": {},
   "source": [
    "## Количество обзоров и средняя оценка для каждой книги"
   ]
  },
  {
   "cell_type": "code",
   "execution_count": 5,
   "metadata": {
    "scrolled": true
   },
   "outputs": [
    {
     "data": {
      "text/html": [
       "<div>\n",
       "<style scoped>\n",
       "    .dataframe tbody tr th:only-of-type {\n",
       "        vertical-align: middle;\n",
       "    }\n",
       "\n",
       "    .dataframe tbody tr th {\n",
       "        vertical-align: top;\n",
       "    }\n",
       "\n",
       "    .dataframe thead th {\n",
       "        text-align: right;\n",
       "    }\n",
       "</style>\n",
       "<table border=\"1\" class=\"dataframe\">\n",
       "  <thead>\n",
       "    <tr style=\"text-align: right;\">\n",
       "      <th></th>\n",
       "      <th>book_id</th>\n",
       "      <th>title_book</th>\n",
       "      <th>reviews</th>\n",
       "      <th>avg_rating</th>\n",
       "    </tr>\n",
       "  </thead>\n",
       "  <tbody>\n",
       "    <tr>\n",
       "      <th>0</th>\n",
       "      <td>948</td>\n",
       "      <td>Twilight (Twilight  #1)</td>\n",
       "      <td>7</td>\n",
       "      <td>3.662500</td>\n",
       "    </tr>\n",
       "    <tr>\n",
       "      <th>1</th>\n",
       "      <td>497</td>\n",
       "      <td>Outlander (Outlander  #1)</td>\n",
       "      <td>6</td>\n",
       "      <td>4.125000</td>\n",
       "    </tr>\n",
       "    <tr>\n",
       "      <th>2</th>\n",
       "      <td>207</td>\n",
       "      <td>Eat  Pray  Love</td>\n",
       "      <td>6</td>\n",
       "      <td>3.395833</td>\n",
       "    </tr>\n",
       "    <tr>\n",
       "      <th>3</th>\n",
       "      <td>299</td>\n",
       "      <td>Harry Potter and the Chamber of Secrets (Harry...</td>\n",
       "      <td>6</td>\n",
       "      <td>4.287500</td>\n",
       "    </tr>\n",
       "    <tr>\n",
       "      <th>4</th>\n",
       "      <td>302</td>\n",
       "      <td>Harry Potter and the Prisoner of Azkaban (Harr...</td>\n",
       "      <td>6</td>\n",
       "      <td>4.414634</td>\n",
       "    </tr>\n",
       "  </tbody>\n",
       "</table>\n",
       "</div>"
      ],
      "text/plain": [
       "   book_id                                         title_book  reviews  \\\n",
       "0      948                            Twilight (Twilight  #1)        7   \n",
       "1      497                          Outlander (Outlander  #1)        6   \n",
       "2      207                                    Eat  Pray  Love        6   \n",
       "3      299  Harry Potter and the Chamber of Secrets (Harry...        6   \n",
       "4      302  Harry Potter and the Prisoner of Azkaban (Harr...        6   \n",
       "\n",
       "   avg_rating  \n",
       "0    3.662500  \n",
       "1    4.125000  \n",
       "2    3.395833  \n",
       "3    4.287500  \n",
       "4    4.414634  "
      ]
     },
     "execution_count": 5,
     "metadata": {},
     "output_type": "execute_result"
    }
   ],
   "source": [
    "query = '''\n",
    "    SELECT b.book_id AS book_id,\n",
    "           b.title AS title_book,\n",
    "           COUNT(DISTINCT rev.review_id) AS reviews,\n",
    "           AVG(rat.rating) AS avg_rating\n",
    "    FROM books b\n",
    "    LEFT JOIN reviews rev ON rev.book_id=b.book_id\n",
    "    LEFT JOIN ratings rat ON rat.book_id=b.book_id\n",
    "    GROUP BY b.book_id\n",
    "    ORDER BY reviews desc\n",
    "    LIMIT 5\n",
    "    '''\n",
    "pd.io.sql.read_sql(query, con = engine)        "
   ]
  },
  {
   "cell_type": "markdown",
   "metadata": {},
   "source": [
    "**Вывод:** наибольшее количество обзоров у книги `Twilight (Twilight #1)` со средним рейтингом 3.66"
   ]
  },
  {
   "cell_type": "markdown",
   "metadata": {},
   "source": [
    "## Издательство, выпустившее наибольшее число книг толще 50 страниц. Исключение из анализа брошюр"
   ]
  },
  {
   "cell_type": "code",
   "execution_count": 6,
   "metadata": {
    "scrolled": true
   },
   "outputs": [
    {
     "data": {
      "text/html": [
       "<div>\n",
       "<style scoped>\n",
       "    .dataframe tbody tr th:only-of-type {\n",
       "        vertical-align: middle;\n",
       "    }\n",
       "\n",
       "    .dataframe tbody tr th {\n",
       "        vertical-align: top;\n",
       "    }\n",
       "\n",
       "    .dataframe thead th {\n",
       "        text-align: right;\n",
       "    }\n",
       "</style>\n",
       "<table border=\"1\" class=\"dataframe\">\n",
       "  <thead>\n",
       "    <tr style=\"text-align: right;\">\n",
       "      <th></th>\n",
       "      <th>publisher</th>\n",
       "      <th>books</th>\n",
       "    </tr>\n",
       "  </thead>\n",
       "  <tbody>\n",
       "    <tr>\n",
       "      <th>0</th>\n",
       "      <td>Penguin Books</td>\n",
       "      <td>42</td>\n",
       "    </tr>\n",
       "  </tbody>\n",
       "</table>\n",
       "</div>"
      ],
      "text/plain": [
       "       publisher  books\n",
       "0  Penguin Books     42"
      ]
     },
     "execution_count": 6,
     "metadata": {},
     "output_type": "execute_result"
    }
   ],
   "source": [
    "query = '''\n",
    "    SELECT pub.publisher,\n",
    "           COUNT(b.book_id) AS books\n",
    "    FROM books b \n",
    "    LEFT JOIN publishers pub ON pub.publisher_id=b.publisher_id\n",
    "    WHERE b.num_pages > 50\n",
    "    GROUP BY publisher\n",
    "    ORDER BY books DESC\n",
    "    LIMIT 1\n",
    "    '''\n",
    "pd.io.sql.read_sql(query, con = engine)            "
   ]
  },
  {
   "cell_type": "markdown",
   "metadata": {},
   "source": [
    "**Вывод:** 42 - ровно столько выпустило издательство `Penguin Books`. Оно же является абсолютным лидером по количеству выпущенных книг"
   ]
  },
  {
   "cell_type": "markdown",
   "metadata": {},
   "source": [
    "## Автор с наивысшей средней оценкой книг, учитывая только книги с 50 и более оценками"
   ]
  },
  {
   "cell_type": "code",
   "execution_count": 7,
   "metadata": {},
   "outputs": [
    {
     "data": {
      "text/html": [
       "<div>\n",
       "<style scoped>\n",
       "    .dataframe tbody tr th:only-of-type {\n",
       "        vertical-align: middle;\n",
       "    }\n",
       "\n",
       "    .dataframe tbody tr th {\n",
       "        vertical-align: top;\n",
       "    }\n",
       "\n",
       "    .dataframe thead th {\n",
       "        text-align: right;\n",
       "    }\n",
       "</style>\n",
       "<table border=\"1\" class=\"dataframe\">\n",
       "  <thead>\n",
       "    <tr style=\"text-align: right;\">\n",
       "      <th></th>\n",
       "      <th>author</th>\n",
       "      <th>author_avg_rating</th>\n",
       "    </tr>\n",
       "  </thead>\n",
       "  <tbody>\n",
       "    <tr>\n",
       "      <th>0</th>\n",
       "      <td>J.K. Rowling/Mary GrandPré</td>\n",
       "      <td>4.283844</td>\n",
       "    </tr>\n",
       "  </tbody>\n",
       "</table>\n",
       "</div>"
      ],
      "text/plain": [
       "                       author  author_avg_rating\n",
       "0  J.K. Rowling/Mary GrandPré           4.283844"
      ]
     },
     "execution_count": 7,
     "metadata": {},
     "output_type": "execute_result"
    }
   ],
   "source": [
    "query = '''\n",
    "    SELECT author,\n",
    "           AVG(sub.book_avg_rating) AS author_avg_rating\n",
    "    FROM books b\n",
    "    INNER JOIN (SELECT book_id,\n",
    "                        AVG(rating) AS book_avg_rating\n",
    "                FROM ratings \n",
    "                GROUP BY book_id\n",
    "                HAVING COUNT(rating_id) >= 50) AS sub\n",
    "    ON sub.book_id=b.book_id\n",
    "    INNER JOIN authors aut ON aut.author_id = b.author_id\n",
    "    GROUP BY author\n",
    "    ORDER BY author_avg_rating DESC\n",
    "    LIMIT 1\n",
    "    '''\n",
    "pd.io.sql.read_sql(query, con = engine)"
   ]
  },
  {
   "cell_type": "markdown",
   "metadata": {},
   "source": [
    "**Вывод:** наивысшая средняя оценка среди книг с 50 и более оценками у Джоан Роулинг и её коллеги Мэри Грандпре - 4.28"
   ]
  },
  {
   "cell_type": "markdown",
   "metadata": {},
   "source": [
    "## Среднее количество обзоров от пользователей, которые поставили больше 50 оценок"
   ]
  },
  {
   "cell_type": "code",
   "execution_count": 8,
   "metadata": {
    "scrolled": true
   },
   "outputs": [
    {
     "data": {
      "text/html": [
       "<div>\n",
       "<style scoped>\n",
       "    .dataframe tbody tr th:only-of-type {\n",
       "        vertical-align: middle;\n",
       "    }\n",
       "\n",
       "    .dataframe tbody tr th {\n",
       "        vertical-align: top;\n",
       "    }\n",
       "\n",
       "    .dataframe thead th {\n",
       "        text-align: right;\n",
       "    }\n",
       "</style>\n",
       "<table border=\"1\" class=\"dataframe\">\n",
       "  <thead>\n",
       "    <tr style=\"text-align: right;\">\n",
       "      <th></th>\n",
       "      <th>round</th>\n",
       "    </tr>\n",
       "  </thead>\n",
       "  <tbody>\n",
       "    <tr>\n",
       "      <th>0</th>\n",
       "      <td>24.0</td>\n",
       "    </tr>\n",
       "  </tbody>\n",
       "</table>\n",
       "</div>"
      ],
      "text/plain": [
       "   round\n",
       "0   24.0"
      ]
     },
     "execution_count": 8,
     "metadata": {},
     "output_type": "execute_result"
    }
   ],
   "source": [
    "query = '''\n",
    "    SELECT ROUND(AVG(review_count),0)\n",
    "    FROM (SELECT COUNT(review_id) as review_count\n",
    "          FROM reviews\n",
    "          WHERE username IN\n",
    "                           (SELECT username\n",
    "                           FROM ratings\n",
    "                           GROUP BY username\n",
    "                           HAVING COUNT(rating) > 50) \n",
    "    GROUP BY username) rev                          \n",
    "    '''\n",
    "pd.io.sql.read_sql(query, con = engine)"
   ]
  },
  {
   "cell_type": "markdown",
   "metadata": {},
   "source": [
    "**Вывод:** как видим, для пользователей, оставивших 50 оценок и более, показатель среднего количества обзоров равен 24"
   ]
  },
  {
   "cell_type": "markdown",
   "metadata": {},
   "source": [
    "## Общий вывод"
   ]
  },
  {
   "cell_type": "markdown",
   "metadata": {},
   "source": [
    "На основе проведенной работы подытожим:\n",
    "\n",
    "* после 1 января 2000 года было издано 819 книг;\n",
    "* наибольшее количество обзоров у книги `Twilight (Twilight #1)` со средним рейтингом 3.66;\n",
    "* 42 книги - ровно столько выпустило издательство `Penguin Books`. Оно же является абсолютным лидером по количеству выпущенных книг;\n",
    "* наивысшая средняя оценка среди книг с 50 и более оценками у Джоан Роулинг и её коллеги Мэри Грандпре - 4.28;\n",
    "* как видим, для пользователей, оставивших 50 оценок и более, показатель среднего количества обзоров равен 24."
   ]
  }
 ],
 "metadata": {
  "ExecuteTimeLog": [
   {
    "duration": 508,
    "start_time": "2022-09-06T21:44:46.278Z"
   },
   {
    "duration": 5816,
    "start_time": "2022-09-06T21:44:46.788Z"
   },
   {
    "duration": 79,
    "start_time": "2022-09-06T21:45:06.881Z"
   },
   {
    "duration": 3,
    "start_time": "2022-09-06T21:47:25.138Z"
   },
   {
    "duration": 306,
    "start_time": "2022-09-06T21:47:47.088Z"
   },
   {
    "duration": 102,
    "start_time": "2022-09-06T21:49:00.581Z"
   },
   {
    "duration": 97,
    "start_time": "2022-09-06T21:51:26.642Z"
   },
   {
    "duration": 513,
    "start_time": "2022-09-06T21:51:55.218Z"
   },
   {
    "duration": 5057,
    "start_time": "2022-09-06T21:51:55.733Z"
   },
   {
    "duration": 276,
    "start_time": "2022-09-06T21:52:00.791Z"
   },
   {
    "duration": 76,
    "start_time": "2022-09-06T21:52:01.069Z"
   },
   {
    "duration": 75,
    "start_time": "2022-09-06T21:52:01.147Z"
   },
   {
    "duration": 99,
    "start_time": "2022-09-06T21:52:01.223Z"
   },
   {
    "duration": 90,
    "start_time": "2022-09-06T21:52:01.324Z"
   },
   {
    "duration": 521,
    "start_time": "2022-09-07T18:04:40.493Z"
   },
   {
    "duration": 6554,
    "start_time": "2022-09-07T18:04:41.015Z"
   },
   {
    "duration": 325,
    "start_time": "2022-09-07T18:04:47.571Z"
   },
   {
    "duration": 83,
    "start_time": "2022-09-07T18:04:47.898Z"
   },
   {
    "duration": 79,
    "start_time": "2022-09-07T18:04:47.984Z"
   },
   {
    "duration": 115,
    "start_time": "2022-09-07T18:04:48.064Z"
   },
   {
    "duration": 93,
    "start_time": "2022-09-07T18:04:48.180Z"
   },
   {
    "duration": 82,
    "start_time": "2022-09-07T18:04:48.275Z"
   },
   {
    "duration": 3,
    "start_time": "2022-09-07T18:06:42.035Z"
   },
   {
    "duration": 204,
    "start_time": "2022-09-07T18:06:52.181Z"
   },
   {
    "duration": 70,
    "start_time": "2022-09-07T18:07:02.227Z"
   },
   {
    "duration": 196,
    "start_time": "2022-09-07T18:10:07.745Z"
   },
   {
    "duration": 75,
    "start_time": "2022-09-07T18:10:40.733Z"
   },
   {
    "duration": 35,
    "start_time": "2022-09-07T19:26:59.878Z"
   },
   {
    "duration": 518,
    "start_time": "2022-09-07T19:27:07.382Z"
   },
   {
    "duration": 9591,
    "start_time": "2022-09-07T19:27:07.902Z"
   },
   {
    "duration": 322,
    "start_time": "2022-09-07T19:27:17.495Z"
   },
   {
    "duration": 79,
    "start_time": "2022-09-07T19:27:17.819Z"
   },
   {
    "duration": 86,
    "start_time": "2022-09-07T19:27:17.899Z"
   },
   {
    "duration": 121,
    "start_time": "2022-09-07T19:27:17.986Z"
   },
   {
    "duration": 105,
    "start_time": "2022-09-07T19:27:18.109Z"
   },
   {
    "duration": 77,
    "start_time": "2022-09-07T19:27:18.215Z"
   },
   {
    "duration": 101,
    "start_time": "2022-09-07T19:27:18.294Z"
   },
   {
    "duration": 46,
    "start_time": "2022-09-07T19:27:37.002Z"
   },
   {
    "duration": 2,
    "start_time": "2022-09-07T19:27:52.842Z"
   },
   {
    "duration": 71,
    "start_time": "2022-09-07T19:28:11.487Z"
   },
   {
    "duration": 459,
    "start_time": "2022-09-07T19:28:18.927Z"
   },
   {
    "duration": 8392,
    "start_time": "2022-09-07T19:28:19.388Z"
   },
   {
    "duration": 273,
    "start_time": "2022-09-07T19:28:27.782Z"
   },
   {
    "duration": 74,
    "start_time": "2022-09-07T19:28:28.056Z"
   },
   {
    "duration": 74,
    "start_time": "2022-09-07T19:28:28.131Z"
   },
   {
    "duration": 104,
    "start_time": "2022-09-07T19:28:28.206Z"
   },
   {
    "duration": 89,
    "start_time": "2022-09-07T19:28:28.311Z"
   },
   {
    "duration": 70,
    "start_time": "2022-09-07T19:28:28.402Z"
   },
   {
    "duration": 68,
    "start_time": "2022-09-07T19:28:28.474Z"
   },
   {
    "duration": 501,
    "start_time": "2022-09-07T19:28:34.963Z"
   },
   {
    "duration": 8086,
    "start_time": "2022-09-07T19:28:35.466Z"
   },
   {
    "duration": 275,
    "start_time": "2022-09-07T19:28:43.554Z"
   },
   {
    "duration": 75,
    "start_time": "2022-09-07T19:28:43.831Z"
   },
   {
    "duration": 78,
    "start_time": "2022-09-07T19:28:43.908Z"
   },
   {
    "duration": 108,
    "start_time": "2022-09-07T19:28:43.988Z"
   },
   {
    "duration": 92,
    "start_time": "2022-09-07T19:28:44.097Z"
   },
   {
    "duration": 71,
    "start_time": "2022-09-07T19:28:44.190Z"
   },
   {
    "duration": 217,
    "start_time": "2022-09-07T19:28:44.262Z"
   },
   {
    "duration": 150,
    "start_time": "2022-09-07T19:29:08.796Z"
   },
   {
    "duration": 129,
    "start_time": "2022-09-07T19:29:42.557Z"
   },
   {
    "duration": 124,
    "start_time": "2022-09-07T19:30:23.679Z"
   },
   {
    "duration": 114,
    "start_time": "2022-09-07T19:30:38.025Z"
   },
   {
    "duration": 107,
    "start_time": "2022-09-07T19:30:45.805Z"
   },
   {
    "duration": 106,
    "start_time": "2022-09-07T19:33:21.418Z"
   },
   {
    "duration": 110,
    "start_time": "2022-09-07T19:34:01.803Z"
   },
   {
    "duration": 107,
    "start_time": "2022-09-07T19:34:12.842Z"
   },
   {
    "duration": 108,
    "start_time": "2022-09-07T19:34:16.702Z"
   },
   {
    "duration": 108,
    "start_time": "2022-09-07T19:34:31.201Z"
   },
   {
    "duration": 108,
    "start_time": "2022-09-07T19:35:40.668Z"
   },
   {
    "duration": 110,
    "start_time": "2022-09-07T19:36:11.694Z"
   },
   {
    "duration": 110,
    "start_time": "2022-09-07T19:36:41.728Z"
   },
   {
    "duration": 109,
    "start_time": "2022-09-07T19:36:50.046Z"
   },
   {
    "duration": 107,
    "start_time": "2022-09-07T19:37:13.643Z"
   },
   {
    "duration": 85,
    "start_time": "2022-09-07T19:37:27.654Z"
   },
   {
    "duration": 114,
    "start_time": "2022-09-07T19:39:45.594Z"
   },
   {
    "duration": 84,
    "start_time": "2022-09-07T19:40:54.183Z"
   },
   {
    "duration": 2,
    "start_time": "2022-09-07T19:50:12.144Z"
   },
   {
    "duration": 132,
    "start_time": "2022-09-07T19:50:20.463Z"
   },
   {
    "duration": 126,
    "start_time": "2022-09-07T19:51:07.992Z"
   },
   {
    "duration": 132,
    "start_time": "2022-09-07T19:52:02.467Z"
   },
   {
    "duration": 136,
    "start_time": "2022-09-07T19:52:15.222Z"
   },
   {
    "duration": 126,
    "start_time": "2022-09-07T19:52:36.885Z"
   },
   {
    "duration": 76,
    "start_time": "2022-09-07T19:52:49.398Z"
   },
   {
    "duration": 131,
    "start_time": "2022-09-07T19:53:21.838Z"
   },
   {
    "duration": 138,
    "start_time": "2022-09-07T19:53:32.635Z"
   },
   {
    "duration": 128,
    "start_time": "2022-09-07T19:54:50.567Z"
   },
   {
    "duration": 86,
    "start_time": "2022-09-07T19:55:04.532Z"
   },
   {
    "duration": 73,
    "start_time": "2022-09-07T19:55:13.852Z"
   },
   {
    "duration": 83,
    "start_time": "2022-09-07T20:29:02.321Z"
   },
   {
    "duration": 134,
    "start_time": "2022-09-07T20:36:55.437Z"
   },
   {
    "duration": 126,
    "start_time": "2022-09-07T20:37:05.330Z"
   },
   {
    "duration": 140,
    "start_time": "2022-09-07T20:38:11.347Z"
   },
   {
    "duration": 170,
    "start_time": "2022-09-07T20:38:27.446Z"
   },
   {
    "duration": 130,
    "start_time": "2022-09-07T20:39:01.652Z"
   },
   {
    "duration": 131,
    "start_time": "2022-09-07T20:39:08.284Z"
   },
   {
    "duration": 87,
    "start_time": "2022-09-07T20:39:24.044Z"
   },
   {
    "duration": 81,
    "start_time": "2022-09-07T20:40:10.796Z"
   },
   {
    "duration": 79,
    "start_time": "2022-09-07T20:40:18.776Z"
   },
   {
    "duration": 89,
    "start_time": "2022-09-07T20:40:49.756Z"
   },
   {
    "duration": 153,
    "start_time": "2022-09-07T20:40:55.910Z"
   },
   {
    "duration": 129,
    "start_time": "2022-09-07T20:41:17.019Z"
   },
   {
    "duration": 145,
    "start_time": "2022-09-07T20:41:22.438Z"
   },
   {
    "duration": 150,
    "start_time": "2022-09-07T20:42:22.118Z"
   },
   {
    "duration": 81,
    "start_time": "2022-09-07T20:42:30.217Z"
   },
   {
    "duration": 72,
    "start_time": "2022-09-07T20:42:40.208Z"
   },
   {
    "duration": 150,
    "start_time": "2022-09-07T20:42:46.181Z"
   },
   {
    "duration": 82,
    "start_time": "2022-09-07T20:42:55.248Z"
   },
   {
    "duration": 152,
    "start_time": "2022-09-07T20:43:44.480Z"
   },
   {
    "duration": 131,
    "start_time": "2022-09-07T20:44:36.100Z"
   },
   {
    "duration": 81,
    "start_time": "2022-09-07T20:44:51.600Z"
   },
   {
    "duration": 77,
    "start_time": "2022-09-07T20:46:29.200Z"
   },
   {
    "duration": 137,
    "start_time": "2022-09-07T21:02:23.601Z"
   },
   {
    "duration": 131,
    "start_time": "2022-09-07T21:03:57.770Z"
   },
   {
    "duration": 274,
    "start_time": "2022-09-07T21:04:08.370Z"
   },
   {
    "duration": 129,
    "start_time": "2022-09-07T21:06:26.357Z"
   },
   {
    "duration": 129,
    "start_time": "2022-09-07T21:07:02.714Z"
   },
   {
    "duration": 132,
    "start_time": "2022-09-07T21:36:47.168Z"
   },
   {
    "duration": 141,
    "start_time": "2022-09-07T21:40:15.543Z"
   },
   {
    "duration": 133,
    "start_time": "2022-09-07T21:41:24.318Z"
   },
   {
    "duration": 131,
    "start_time": "2022-09-07T21:48:03.699Z"
   },
   {
    "duration": 123,
    "start_time": "2022-09-07T21:48:53.371Z"
   },
   {
    "duration": 123,
    "start_time": "2022-09-07T21:49:49.668Z"
   },
   {
    "duration": 138,
    "start_time": "2022-09-07T21:53:52.697Z"
   },
   {
    "duration": 123,
    "start_time": "2022-09-07T21:54:12.174Z"
   },
   {
    "duration": 79,
    "start_time": "2022-09-07T21:55:02.504Z"
   },
   {
    "duration": 577,
    "start_time": "2022-09-08T11:03:46.121Z"
   },
   {
    "duration": 22871,
    "start_time": "2022-09-08T11:03:46.700Z"
   },
   {
    "duration": 90,
    "start_time": "2022-09-08T11:04:09.573Z"
   },
   {
    "duration": 17,
    "start_time": "2022-09-08T11:04:09.665Z"
   },
   {
    "duration": 21,
    "start_time": "2022-09-08T11:04:09.684Z"
   },
   {
    "duration": 52,
    "start_time": "2022-09-08T11:04:09.707Z"
   },
   {
    "duration": 26,
    "start_time": "2022-09-08T11:04:09.761Z"
   },
   {
    "duration": 17,
    "start_time": "2022-09-08T11:04:09.789Z"
   },
   {
    "duration": 28,
    "start_time": "2022-09-08T11:04:09.807Z"
   },
   {
    "duration": 14,
    "start_time": "2022-09-08T11:04:09.838Z"
   },
   {
    "duration": 35,
    "start_time": "2022-09-08T11:04:09.854Z"
   },
   {
    "duration": 972,
    "start_time": "2022-09-08T11:04:09.891Z"
   },
   {
    "duration": 562,
    "start_time": "2022-09-08T11:10:14.656Z"
   },
   {
    "duration": 15450,
    "start_time": "2022-09-08T11:10:15.219Z"
   },
   {
    "duration": 73,
    "start_time": "2022-09-08T11:10:30.671Z"
   },
   {
    "duration": 16,
    "start_time": "2022-09-08T11:10:30.746Z"
   },
   {
    "duration": 14,
    "start_time": "2022-09-08T11:10:30.765Z"
   },
   {
    "duration": 32,
    "start_time": "2022-09-08T11:10:30.781Z"
   },
   {
    "duration": 24,
    "start_time": "2022-09-08T11:10:30.815Z"
   },
   {
    "duration": 21,
    "start_time": "2022-09-08T11:10:30.840Z"
   },
   {
    "duration": 40,
    "start_time": "2022-09-08T11:10:30.862Z"
   },
   {
    "duration": 15,
    "start_time": "2022-09-08T11:10:30.903Z"
   },
   {
    "duration": 15,
    "start_time": "2022-09-08T11:10:30.921Z"
   },
   {
    "duration": 555,
    "start_time": "2022-09-08T11:10:30.938Z"
   },
   {
    "duration": 108,
    "start_time": "2022-09-08T11:15:22.594Z"
   },
   {
    "duration": 148,
    "start_time": "2022-09-08T11:16:00.942Z"
   },
   {
    "duration": 183,
    "start_time": "2022-09-08T11:17:23.569Z"
   },
   {
    "duration": 176,
    "start_time": "2022-09-08T11:19:44.792Z"
   },
   {
    "duration": 156,
    "start_time": "2022-09-08T11:19:52.275Z"
   },
   {
    "duration": 115,
    "start_time": "2022-09-08T11:19:57.439Z"
   },
   {
    "duration": 17,
    "start_time": "2022-09-08T11:20:31.172Z"
   },
   {
    "duration": 22,
    "start_time": "2022-09-08T11:20:37.139Z"
   },
   {
    "duration": 16,
    "start_time": "2022-09-08T11:26:45.540Z"
   },
   {
    "duration": 16,
    "start_time": "2022-09-08T11:27:33.484Z"
   },
   {
    "duration": 117,
    "start_time": "2022-09-08T11:30:00.323Z"
   },
   {
    "duration": 139,
    "start_time": "2022-09-08T11:30:31.485Z"
   },
   {
    "duration": 323,
    "start_time": "2022-09-08T11:31:07.718Z"
   },
   {
    "duration": 127,
    "start_time": "2022-09-08T11:32:41.773Z"
   },
   {
    "duration": 169,
    "start_time": "2022-09-08T11:33:49.822Z"
   },
   {
    "duration": 146,
    "start_time": "2022-09-08T11:34:02.958Z"
   },
   {
    "duration": 135,
    "start_time": "2022-09-08T11:34:11.342Z"
   },
   {
    "duration": 124,
    "start_time": "2022-09-08T11:37:44.438Z"
   },
   {
    "duration": 123,
    "start_time": "2022-09-08T11:37:54.270Z"
   },
   {
    "duration": 15,
    "start_time": "2022-09-08T11:38:15.502Z"
   },
   {
    "duration": 150,
    "start_time": "2022-09-08T11:38:25.140Z"
   },
   {
    "duration": 129,
    "start_time": "2022-09-08T11:38:39.894Z"
   },
   {
    "duration": 129,
    "start_time": "2022-09-08T11:38:59.135Z"
   },
   {
    "duration": 15,
    "start_time": "2022-09-08T11:39:01.734Z"
   },
   {
    "duration": 15,
    "start_time": "2022-09-08T14:20:10.675Z"
   },
   {
    "duration": 16,
    "start_time": "2022-09-08T14:27:47.106Z"
   },
   {
    "duration": 534,
    "start_time": "2022-09-08T17:45:22.029Z"
   },
   {
    "duration": 9464,
    "start_time": "2022-09-08T17:45:22.565Z"
   },
   {
    "duration": 128,
    "start_time": "2022-09-08T17:45:32.031Z"
   },
   {
    "duration": 24,
    "start_time": "2022-09-08T17:45:32.161Z"
   },
   {
    "duration": 21,
    "start_time": "2022-09-08T17:45:32.188Z"
   },
   {
    "duration": 33,
    "start_time": "2022-09-08T17:45:32.211Z"
   },
   {
    "duration": 24,
    "start_time": "2022-09-08T17:45:32.246Z"
   },
   {
    "duration": 21,
    "start_time": "2022-09-08T17:45:32.272Z"
   },
   {
    "duration": 31,
    "start_time": "2022-09-08T17:45:32.295Z"
   },
   {
    "duration": 14,
    "start_time": "2022-09-08T17:45:32.329Z"
   },
   {
    "duration": 16,
    "start_time": "2022-09-08T17:45:32.345Z"
   },
   {
    "duration": 76,
    "start_time": "2022-09-08T17:45:32.363Z"
   },
   {
    "duration": 4,
    "start_time": "2022-09-08T17:45:39.424Z"
   },
   {
    "duration": 2,
    "start_time": "2022-09-08T17:45:47.837Z"
   },
   {
    "duration": 14,
    "start_time": "2022-09-08T17:45:57.207Z"
   },
   {
    "duration": 14,
    "start_time": "2022-09-08T17:46:17.595Z"
   },
   {
    "duration": 13,
    "start_time": "2022-09-08T17:46:25.217Z"
   },
   {
    "duration": 14,
    "start_time": "2022-09-08T17:47:21.700Z"
   },
   {
    "duration": 577,
    "start_time": "2022-09-08T17:47:29.397Z"
   },
   {
    "duration": 10351,
    "start_time": "2022-09-08T17:47:29.977Z"
   },
   {
    "duration": 77,
    "start_time": "2022-09-08T17:47:40.331Z"
   },
   {
    "duration": 16,
    "start_time": "2022-09-08T17:47:40.411Z"
   },
   {
    "duration": 20,
    "start_time": "2022-09-08T17:47:40.429Z"
   },
   {
    "duration": 42,
    "start_time": "2022-09-08T17:47:40.451Z"
   },
   {
    "duration": 21,
    "start_time": "2022-09-08T17:47:40.495Z"
   },
   {
    "duration": 9,
    "start_time": "2022-09-08T17:47:40.518Z"
   },
   {
    "duration": 21,
    "start_time": "2022-09-08T17:47:40.528Z"
   },
   {
    "duration": 13,
    "start_time": "2022-09-08T17:47:40.551Z"
   },
   {
    "duration": 31,
    "start_time": "2022-09-08T17:47:40.566Z"
   },
   {
    "duration": 17,
    "start_time": "2022-09-08T17:47:40.600Z"
   },
   {
    "duration": 161,
    "start_time": "2022-09-08T17:47:55.891Z"
   },
   {
    "duration": 15,
    "start_time": "2022-09-08T17:50:41.438Z"
   },
   {
    "duration": 18,
    "start_time": "2022-09-08T17:52:19.608Z"
   },
   {
    "duration": 101,
    "start_time": "2022-09-08T17:52:38.416Z"
   },
   {
    "duration": 23,
    "start_time": "2022-09-08T17:53:01.939Z"
   },
   {
    "duration": 18,
    "start_time": "2022-09-08T17:54:32.172Z"
   },
   {
    "duration": 61,
    "start_time": "2022-09-08T17:54:41.688Z"
   },
   {
    "duration": 13,
    "start_time": "2022-09-08T18:28:22.824Z"
   },
   {
    "duration": 16,
    "start_time": "2022-09-08T18:29:28.664Z"
   },
   {
    "duration": 95,
    "start_time": "2022-09-08T18:54:31.139Z"
   },
   {
    "duration": 100,
    "start_time": "2022-09-08T18:55:32.894Z"
   },
   {
    "duration": 14,
    "start_time": "2022-09-08T18:56:59.305Z"
   },
   {
    "duration": 99,
    "start_time": "2022-09-08T19:00:22.107Z"
   },
   {
    "duration": 642,
    "start_time": "2022-09-08T19:00:46.407Z"
   },
   {
    "duration": 577,
    "start_time": "2022-09-08T19:00:59.019Z"
   },
   {
    "duration": 27242,
    "start_time": "2022-09-08T19:00:59.599Z"
   },
   {
    "duration": 76,
    "start_time": "2022-09-08T19:01:26.843Z"
   },
   {
    "duration": 15,
    "start_time": "2022-09-08T19:01:26.921Z"
   },
   {
    "duration": 13,
    "start_time": "2022-09-08T19:01:26.937Z"
   },
   {
    "duration": 32,
    "start_time": "2022-09-08T19:01:26.952Z"
   },
   {
    "duration": 24,
    "start_time": "2022-09-08T19:01:26.986Z"
   },
   {
    "duration": 11,
    "start_time": "2022-09-08T19:01:27.011Z"
   },
   {
    "duration": 27,
    "start_time": "2022-09-08T19:01:27.023Z"
   },
   {
    "duration": 10,
    "start_time": "2022-09-08T19:01:27.052Z"
   },
   {
    "duration": 25,
    "start_time": "2022-09-08T19:01:27.064Z"
   },
   {
    "duration": 2,
    "start_time": "2022-09-08T19:01:27.091Z"
   },
   {
    "duration": 167,
    "start_time": "2022-09-08T19:01:27.095Z"
   },
   {
    "duration": 0,
    "start_time": "2022-09-08T19:01:27.264Z"
   },
   {
    "duration": 0,
    "start_time": "2022-09-08T19:01:27.265Z"
   },
   {
    "duration": 105,
    "start_time": "2022-09-08T19:02:05.510Z"
   },
   {
    "duration": 103,
    "start_time": "2022-09-08T19:03:21.510Z"
   },
   {
    "duration": 113,
    "start_time": "2022-09-08T19:04:46.265Z"
   },
   {
    "duration": 131,
    "start_time": "2022-09-08T19:05:37.952Z"
   },
   {
    "duration": 131,
    "start_time": "2022-09-08T19:06:20.766Z"
   },
   {
    "duration": 97,
    "start_time": "2022-09-08T19:11:15.511Z"
   },
   {
    "duration": 94,
    "start_time": "2022-09-08T19:11:29.291Z"
   },
   {
    "duration": 96,
    "start_time": "2022-09-08T19:11:35.992Z"
   },
   {
    "duration": 95,
    "start_time": "2022-09-08T19:11:54.144Z"
   },
   {
    "duration": 103,
    "start_time": "2022-09-08T19:16:57.792Z"
   },
   {
    "duration": 2,
    "start_time": "2022-09-08T19:17:10.921Z"
   },
   {
    "duration": 16,
    "start_time": "2022-09-08T19:17:21.466Z"
   },
   {
    "duration": 121,
    "start_time": "2022-09-08T19:17:51.898Z"
   },
   {
    "duration": 23,
    "start_time": "2022-09-08T19:18:50.998Z"
   },
   {
    "duration": 264,
    "start_time": "2022-09-08T19:19:38.066Z"
   },
   {
    "duration": 124,
    "start_time": "2022-09-08T19:19:53.354Z"
   },
   {
    "duration": 114,
    "start_time": "2022-09-08T19:20:23.364Z"
   },
   {
    "duration": 14,
    "start_time": "2022-09-08T19:21:55.304Z"
   },
   {
    "duration": 166,
    "start_time": "2022-09-08T19:22:09.954Z"
   },
   {
    "duration": 93,
    "start_time": "2022-09-08T19:22:29.600Z"
   },
   {
    "duration": 129,
    "start_time": "2022-09-08T19:22:37.319Z"
   },
   {
    "duration": 96,
    "start_time": "2022-09-08T19:22:52.122Z"
   },
   {
    "duration": 122,
    "start_time": "2022-09-08T19:23:01.749Z"
   },
   {
    "duration": 97,
    "start_time": "2022-09-08T19:23:57.446Z"
   },
   {
    "duration": 119,
    "start_time": "2022-09-08T19:24:02.315Z"
   },
   {
    "duration": 109,
    "start_time": "2022-09-08T19:24:07.924Z"
   },
   {
    "duration": 15,
    "start_time": "2022-09-08T19:24:22.204Z"
   },
   {
    "duration": 189,
    "start_time": "2022-09-08T19:24:31.267Z"
   },
   {
    "duration": 123,
    "start_time": "2022-09-08T19:24:38.904Z"
   },
   {
    "duration": 16,
    "start_time": "2022-09-08T19:24:57.985Z"
   },
   {
    "duration": 17,
    "start_time": "2022-09-08T19:25:09.657Z"
   },
   {
    "duration": 95,
    "start_time": "2022-09-08T19:26:24.852Z"
   },
   {
    "duration": 126,
    "start_time": "2022-09-08T19:29:23.246Z"
   },
   {
    "duration": 109,
    "start_time": "2022-09-08T19:30:44.374Z"
   },
   {
    "duration": 97,
    "start_time": "2022-09-08T19:32:35.551Z"
   },
   {
    "duration": 15,
    "start_time": "2022-09-08T19:33:08.958Z"
   },
   {
    "duration": 13,
    "start_time": "2022-09-08T19:34:38.470Z"
   },
   {
    "duration": 495,
    "start_time": "2022-09-08T22:22:35.837Z"
   },
   {
    "duration": 9005,
    "start_time": "2022-09-08T22:22:36.334Z"
   },
   {
    "duration": 78,
    "start_time": "2022-09-08T22:22:45.344Z"
   },
   {
    "duration": 15,
    "start_time": "2022-09-08T22:22:45.424Z"
   },
   {
    "duration": 18,
    "start_time": "2022-09-08T22:22:45.441Z"
   },
   {
    "duration": 46,
    "start_time": "2022-09-08T22:22:45.462Z"
   },
   {
    "duration": 24,
    "start_time": "2022-09-08T22:22:45.510Z"
   },
   {
    "duration": 11,
    "start_time": "2022-09-08T22:22:45.536Z"
   },
   {
    "duration": 22,
    "start_time": "2022-09-08T22:22:45.549Z"
   },
   {
    "duration": 21,
    "start_time": "2022-09-08T22:22:45.573Z"
   },
   {
    "duration": 14,
    "start_time": "2022-09-08T22:22:45.596Z"
   },
   {
    "duration": 12,
    "start_time": "2022-09-08T22:22:45.612Z"
   },
   {
    "duration": 565,
    "start_time": "2022-09-08T22:26:43.136Z"
   },
   {
    "duration": 11824,
    "start_time": "2022-09-08T22:26:43.703Z"
   },
   {
    "duration": 80,
    "start_time": "2022-09-08T22:26:55.529Z"
   },
   {
    "duration": 16,
    "start_time": "2022-09-08T22:26:55.612Z"
   },
   {
    "duration": 15,
    "start_time": "2022-09-08T22:26:55.630Z"
   },
   {
    "duration": 29,
    "start_time": "2022-09-08T22:26:55.646Z"
   },
   {
    "duration": 36,
    "start_time": "2022-09-08T22:26:55.677Z"
   },
   {
    "duration": 11,
    "start_time": "2022-09-08T22:26:55.714Z"
   },
   {
    "duration": 27,
    "start_time": "2022-09-08T22:26:55.727Z"
   },
   {
    "duration": 12,
    "start_time": "2022-09-08T22:26:55.755Z"
   },
   {
    "duration": 23,
    "start_time": "2022-09-08T22:26:55.769Z"
   },
   {
    "duration": 14,
    "start_time": "2022-09-08T22:26:55.794Z"
   },
   {
    "duration": 48,
    "start_time": "2022-09-09T10:53:43.757Z"
   },
   {
    "duration": 479,
    "start_time": "2022-09-09T10:54:57.781Z"
   },
   {
    "duration": 7071,
    "start_time": "2022-09-09T10:54:58.262Z"
   },
   {
    "duration": 294,
    "start_time": "2022-09-09T10:55:05.334Z"
   },
   {
    "duration": 72,
    "start_time": "2022-09-09T10:55:05.630Z"
   },
   {
    "duration": 72,
    "start_time": "2022-09-09T10:55:05.703Z"
   },
   {
    "duration": 105,
    "start_time": "2022-09-09T10:55:05.777Z"
   },
   {
    "duration": 90,
    "start_time": "2022-09-09T10:55:05.884Z"
   },
   {
    "duration": 71,
    "start_time": "2022-09-09T10:55:05.975Z"
   },
   {
    "duration": 87,
    "start_time": "2022-09-09T10:55:06.047Z"
   },
   {
    "duration": 71,
    "start_time": "2022-09-09T10:55:06.136Z"
   },
   {
    "duration": 73,
    "start_time": "2022-09-09T10:55:06.209Z"
   },
   {
    "duration": 72,
    "start_time": "2022-09-09T10:55:06.284Z"
   },
   {
    "duration": 75,
    "start_time": "2022-09-09T10:56:42.027Z"
   },
   {
    "duration": 76,
    "start_time": "2022-09-09T10:56:48.500Z"
   },
   {
    "duration": 72,
    "start_time": "2022-09-09T10:56:51.908Z"
   },
   {
    "duration": 82,
    "start_time": "2022-09-09T10:56:55.067Z"
   },
   {
    "duration": 96,
    "start_time": "2022-09-09T10:57:30.284Z"
   },
   {
    "duration": 74,
    "start_time": "2022-09-09T10:59:27.964Z"
   },
   {
    "duration": 70,
    "start_time": "2022-09-09T10:59:40.492Z"
   },
   {
    "duration": 2652,
    "start_time": "2022-09-09T11:40:44.303Z"
   },
   {
    "duration": 205,
    "start_time": "2022-09-09T11:41:04.105Z"
   },
   {
    "duration": 138,
    "start_time": "2022-09-09T11:41:11.914Z"
   },
   {
    "duration": 2625,
    "start_time": "2022-09-09T11:41:17.746Z"
   },
   {
    "duration": 2688,
    "start_time": "2022-09-09T11:41:27.466Z"
   },
   {
    "duration": 97,
    "start_time": "2022-09-09T11:41:39.074Z"
   },
   {
    "duration": 48,
    "start_time": "2022-09-09T12:48:42.334Z"
   },
   {
    "duration": 129,
    "start_time": "2022-09-09T12:48:47.479Z"
   },
   {
    "duration": 133,
    "start_time": "2022-09-09T12:50:38.793Z"
   },
   {
    "duration": 130,
    "start_time": "2022-09-09T12:50:55.305Z"
   },
   {
    "duration": 146,
    "start_time": "2022-09-09T12:51:18.177Z"
   },
   {
    "duration": 131,
    "start_time": "2022-09-09T12:51:37.825Z"
   },
   {
    "duration": 490,
    "start_time": "2022-09-09T12:54:14.037Z"
   },
   {
    "duration": 6336,
    "start_time": "2022-09-09T12:54:14.529Z"
   },
   {
    "duration": 354,
    "start_time": "2022-09-09T12:54:20.866Z"
   },
   {
    "duration": 0,
    "start_time": "2022-09-09T12:54:21.221Z"
   },
   {
    "duration": 0,
    "start_time": "2022-09-09T12:54:21.223Z"
   },
   {
    "duration": 0,
    "start_time": "2022-09-09T12:54:21.224Z"
   },
   {
    "duration": 0,
    "start_time": "2022-09-09T12:54:21.225Z"
   },
   {
    "duration": 0,
    "start_time": "2022-09-09T12:54:21.225Z"
   },
   {
    "duration": 0,
    "start_time": "2022-09-09T12:54:21.226Z"
   },
   {
    "duration": 0,
    "start_time": "2022-09-09T12:54:21.227Z"
   },
   {
    "duration": 0,
    "start_time": "2022-09-09T12:54:21.227Z"
   },
   {
    "duration": 0,
    "start_time": "2022-09-09T12:54:21.229Z"
   },
   {
    "duration": 0,
    "start_time": "2022-09-09T12:54:21.230Z"
   },
   {
    "duration": 0,
    "start_time": "2022-09-09T12:54:21.231Z"
   },
   {
    "duration": 144,
    "start_time": "2022-09-09T12:55:01.246Z"
   },
   {
    "duration": 46,
    "start_time": "2022-09-09T12:55:07.046Z"
   },
   {
    "duration": 54,
    "start_time": "2022-09-09T12:55:53.837Z"
   },
   {
    "duration": 7,
    "start_time": "2022-09-09T12:56:02.006Z"
   },
   {
    "duration": 7,
    "start_time": "2022-09-09T12:56:10.094Z"
   },
   {
    "duration": 128,
    "start_time": "2022-09-09T12:56:16.046Z"
   },
   {
    "duration": 141,
    "start_time": "2022-09-09T12:56:21.622Z"
   },
   {
    "duration": 141,
    "start_time": "2022-09-09T12:56:40.151Z"
   },
   {
    "duration": 132,
    "start_time": "2022-09-09T12:57:02.495Z"
   },
   {
    "duration": 494,
    "start_time": "2022-09-09T12:59:26.793Z"
   },
   {
    "duration": 5871,
    "start_time": "2022-09-09T12:59:27.289Z"
   },
   {
    "duration": 446,
    "start_time": "2022-09-09T12:59:33.161Z"
   },
   {
    "duration": 1,
    "start_time": "2022-09-09T12:59:33.608Z"
   },
   {
    "duration": 0,
    "start_time": "2022-09-09T12:59:33.610Z"
   },
   {
    "duration": 0,
    "start_time": "2022-09-09T12:59:33.611Z"
   },
   {
    "duration": 0,
    "start_time": "2022-09-09T12:59:33.612Z"
   },
   {
    "duration": 0,
    "start_time": "2022-09-09T12:59:33.612Z"
   },
   {
    "duration": 0,
    "start_time": "2022-09-09T12:59:33.613Z"
   },
   {
    "duration": 0,
    "start_time": "2022-09-09T12:59:33.614Z"
   },
   {
    "duration": 0,
    "start_time": "2022-09-09T12:59:33.615Z"
   },
   {
    "duration": 0,
    "start_time": "2022-09-09T12:59:33.615Z"
   },
   {
    "duration": 0,
    "start_time": "2022-09-09T12:59:33.616Z"
   },
   {
    "duration": 0,
    "start_time": "2022-09-09T12:59:33.617Z"
   },
   {
    "duration": 149,
    "start_time": "2022-09-09T12:59:58.274Z"
   },
   {
    "duration": 446,
    "start_time": "2022-09-09T13:00:48.852Z"
   },
   {
    "duration": 393,
    "start_time": "2022-09-09T13:00:55.139Z"
   },
   {
    "duration": 504,
    "start_time": "2022-09-09T13:00:59.722Z"
   },
   {
    "duration": 481,
    "start_time": "2022-09-09T13:01:15.825Z"
   },
   {
    "duration": 6262,
    "start_time": "2022-09-09T13:01:16.308Z"
   },
   {
    "duration": 578,
    "start_time": "2022-09-09T13:01:22.575Z"
   },
   {
    "duration": 86,
    "start_time": "2022-09-09T13:01:23.155Z"
   },
   {
    "duration": 74,
    "start_time": "2022-09-09T13:01:23.243Z"
   },
   {
    "duration": 73,
    "start_time": "2022-09-09T13:01:23.318Z"
   },
   {
    "duration": 86,
    "start_time": "2022-09-09T13:01:23.392Z"
   },
   {
    "duration": 79,
    "start_time": "2022-09-09T13:01:23.480Z"
   },
   {
    "duration": 72,
    "start_time": "2022-09-09T13:01:23.561Z"
   },
   {
    "duration": 81,
    "start_time": "2022-09-09T13:01:23.635Z"
   },
   {
    "duration": 72,
    "start_time": "2022-09-09T13:01:23.717Z"
   },
   {
    "duration": 75,
    "start_time": "2022-09-09T13:01:23.790Z"
   },
   {
    "duration": 72,
    "start_time": "2022-09-09T13:01:23.867Z"
   },
   {
    "duration": 521,
    "start_time": "2022-09-09T13:02:00.131Z"
   },
   {
    "duration": 609,
    "start_time": "2022-09-09T13:02:47.747Z"
   },
   {
    "duration": 50,
    "start_time": "2022-09-09T13:02:58.331Z"
   },
   {
    "duration": 478,
    "start_time": "2022-09-09T13:03:07.051Z"
   },
   {
    "duration": 52,
    "start_time": "2022-09-09T13:03:15.235Z"
   },
   {
    "duration": 64,
    "start_time": "2022-09-09T13:03:22.763Z"
   },
   {
    "duration": 78,
    "start_time": "2022-09-09T13:03:27.587Z"
   },
   {
    "duration": 490,
    "start_time": "2022-09-09T13:03:31.980Z"
   },
   {
    "duration": 458,
    "start_time": "2022-09-09T13:03:39.419Z"
   },
   {
    "duration": 45,
    "start_time": "2022-09-09T13:03:45.107Z"
   },
   {
    "duration": 48,
    "start_time": "2022-09-09T13:03:48.163Z"
   },
   {
    "duration": 121,
    "start_time": "2022-09-09T13:04:08.826Z"
   },
   {
    "duration": 480,
    "start_time": "2022-09-09T13:04:25.737Z"
   },
   {
    "duration": 6869,
    "start_time": "2022-09-09T13:04:26.219Z"
   },
   {
    "duration": 301,
    "start_time": "2022-09-09T13:04:33.091Z"
   },
   {
    "duration": 86,
    "start_time": "2022-09-09T13:04:33.394Z"
   },
   {
    "duration": 75,
    "start_time": "2022-09-09T13:04:33.481Z"
   },
   {
    "duration": 70,
    "start_time": "2022-09-09T13:04:33.558Z"
   },
   {
    "duration": 93,
    "start_time": "2022-09-09T13:04:33.630Z"
   },
   {
    "duration": 80,
    "start_time": "2022-09-09T13:04:33.724Z"
   },
   {
    "duration": 80,
    "start_time": "2022-09-09T13:04:33.806Z"
   },
   {
    "duration": 80,
    "start_time": "2022-09-09T13:04:33.889Z"
   },
   {
    "duration": 79,
    "start_time": "2022-09-09T13:04:33.971Z"
   },
   {
    "duration": 74,
    "start_time": "2022-09-09T13:04:34.052Z"
   },
   {
    "duration": 73,
    "start_time": "2022-09-09T13:04:34.128Z"
   },
   {
    "duration": 368,
    "start_time": "2022-09-09T13:05:49.966Z"
   },
   {
    "duration": 469,
    "start_time": "2022-09-09T13:05:55.441Z"
   },
   {
    "duration": 6884,
    "start_time": "2022-09-09T13:05:55.912Z"
   },
   {
    "duration": 583,
    "start_time": "2022-09-09T13:06:02.797Z"
   },
   {
    "duration": 89,
    "start_time": "2022-09-09T13:06:03.382Z"
   },
   {
    "duration": 75,
    "start_time": "2022-09-09T13:06:03.473Z"
   },
   {
    "duration": 75,
    "start_time": "2022-09-09T13:06:03.550Z"
   },
   {
    "duration": 86,
    "start_time": "2022-09-09T13:06:03.626Z"
   },
   {
    "duration": 82,
    "start_time": "2022-09-09T13:06:03.713Z"
   },
   {
    "duration": 73,
    "start_time": "2022-09-09T13:06:03.797Z"
   },
   {
    "duration": 84,
    "start_time": "2022-09-09T13:06:03.871Z"
   },
   {
    "duration": 74,
    "start_time": "2022-09-09T13:06:03.956Z"
   },
   {
    "duration": 78,
    "start_time": "2022-09-09T13:06:04.032Z"
   },
   {
    "duration": 77,
    "start_time": "2022-09-09T13:06:04.111Z"
   },
   {
    "duration": 473,
    "start_time": "2022-09-09T13:12:00.214Z"
   },
   {
    "duration": 534,
    "start_time": "2022-09-09T13:12:05.189Z"
   },
   {
    "duration": 7331,
    "start_time": "2022-09-09T13:12:05.725Z"
   },
   {
    "duration": 554,
    "start_time": "2022-09-09T13:12:13.057Z"
   },
   {
    "duration": 84,
    "start_time": "2022-09-09T13:12:13.613Z"
   },
   {
    "duration": 76,
    "start_time": "2022-09-09T13:12:13.698Z"
   },
   {
    "duration": 74,
    "start_time": "2022-09-09T13:12:13.775Z"
   },
   {
    "duration": 87,
    "start_time": "2022-09-09T13:12:13.850Z"
   },
   {
    "duration": 80,
    "start_time": "2022-09-09T13:12:13.938Z"
   },
   {
    "duration": 71,
    "start_time": "2022-09-09T13:12:14.019Z"
   },
   {
    "duration": 83,
    "start_time": "2022-09-09T13:12:14.092Z"
   },
   {
    "duration": 73,
    "start_time": "2022-09-09T13:12:14.176Z"
   },
   {
    "duration": 75,
    "start_time": "2022-09-09T13:12:14.250Z"
   },
   {
    "duration": 73,
    "start_time": "2022-09-09T13:12:14.326Z"
   },
   {
    "duration": 426,
    "start_time": "2022-09-09T13:13:44.700Z"
   },
   {
    "duration": 480,
    "start_time": "2022-09-09T13:13:55.940Z"
   },
   {
    "duration": 399,
    "start_time": "2022-09-09T13:14:11.372Z"
   },
   {
    "duration": 415,
    "start_time": "2022-09-09T13:14:16.436Z"
   },
   {
    "duration": 406,
    "start_time": "2022-09-09T13:14:20.484Z"
   },
   {
    "duration": 248,
    "start_time": "2022-09-09T13:14:28.252Z"
   },
   {
    "duration": 427,
    "start_time": "2022-09-09T13:50:27.534Z"
   },
   {
    "duration": 126,
    "start_time": "2022-09-09T13:50:31.816Z"
   },
   {
    "duration": 3,
    "start_time": "2022-09-09T13:55:20.481Z"
   },
   {
    "duration": 129,
    "start_time": "2022-09-09T13:55:21.369Z"
   },
   {
    "duration": 519,
    "start_time": "2022-09-09T13:55:27.590Z"
   },
   {
    "duration": 5549,
    "start_time": "2022-09-09T13:55:28.111Z"
   },
   {
    "duration": 2,
    "start_time": "2022-09-09T13:55:33.662Z"
   },
   {
    "duration": 295,
    "start_time": "2022-09-09T13:55:33.666Z"
   },
   {
    "duration": 81,
    "start_time": "2022-09-09T13:55:33.962Z"
   },
   {
    "duration": 75,
    "start_time": "2022-09-09T13:55:34.044Z"
   },
   {
    "duration": 74,
    "start_time": "2022-09-09T13:55:34.121Z"
   },
   {
    "duration": 85,
    "start_time": "2022-09-09T13:55:34.197Z"
   },
   {
    "duration": 79,
    "start_time": "2022-09-09T13:55:34.283Z"
   },
   {
    "duration": 70,
    "start_time": "2022-09-09T13:55:34.364Z"
   },
   {
    "duration": 81,
    "start_time": "2022-09-09T13:55:34.435Z"
   },
   {
    "duration": 79,
    "start_time": "2022-09-09T13:55:34.518Z"
   },
   {
    "duration": 73,
    "start_time": "2022-09-09T13:55:34.599Z"
   },
   {
    "duration": 76,
    "start_time": "2022-09-09T13:55:34.673Z"
   },
   {
    "duration": 407,
    "start_time": "2022-09-09T13:55:54.635Z"
   },
   {
    "duration": 416,
    "start_time": "2022-09-09T14:07:42.749Z"
   },
   {
    "duration": 462,
    "start_time": "2022-09-09T14:07:56.249Z"
   },
   {
    "duration": 68,
    "start_time": "2022-09-09T14:08:18.170Z"
   },
   {
    "duration": 389,
    "start_time": "2022-09-09T14:08:27.193Z"
   },
   {
    "duration": 87,
    "start_time": "2022-09-09T14:08:33.263Z"
   },
   {
    "duration": 445,
    "start_time": "2022-09-09T14:08:37.369Z"
   },
   {
    "duration": 402,
    "start_time": "2022-09-09T14:08:43.210Z"
   },
   {
    "duration": 402,
    "start_time": "2022-09-09T14:08:46.409Z"
   },
   {
    "duration": 49,
    "start_time": "2022-09-09T14:10:12.058Z"
   },
   {
    "duration": 400,
    "start_time": "2022-09-09T14:10:17.630Z"
   },
   {
    "duration": 532,
    "start_time": "2022-09-09T17:54:32.542Z"
   },
   {
    "duration": 7713,
    "start_time": "2022-09-09T17:54:33.076Z"
   },
   {
    "duration": 766,
    "start_time": "2022-09-09T17:54:40.791Z"
   },
   {
    "duration": 121,
    "start_time": "2022-09-09T17:54:41.560Z"
   },
   {
    "duration": 96,
    "start_time": "2022-09-09T17:54:41.682Z"
   },
   {
    "duration": 92,
    "start_time": "2022-09-09T17:54:41.781Z"
   },
   {
    "duration": 112,
    "start_time": "2022-09-09T17:54:41.875Z"
   },
   {
    "duration": 102,
    "start_time": "2022-09-09T17:54:41.988Z"
   },
   {
    "duration": 94,
    "start_time": "2022-09-09T17:54:42.092Z"
   },
   {
    "duration": 112,
    "start_time": "2022-09-09T17:54:42.189Z"
   },
   {
    "duration": 96,
    "start_time": "2022-09-09T17:54:42.302Z"
   },
   {
    "duration": 102,
    "start_time": "2022-09-09T17:54:42.400Z"
   },
   {
    "duration": 89,
    "start_time": "2022-09-09T17:54:42.504Z"
   },
   {
    "duration": 609,
    "start_time": "2022-09-09T17:54:46.236Z"
   },
   {
    "duration": 525,
    "start_time": "2022-09-09T17:55:00.633Z"
   },
   {
    "duration": 537,
    "start_time": "2022-09-09T17:55:10.221Z"
   },
   {
    "duration": 559,
    "start_time": "2022-09-09T17:55:20.271Z"
   },
   {
    "duration": 971,
    "start_time": "2022-09-09T17:55:37.389Z"
   },
   {
    "duration": 536,
    "start_time": "2022-09-09T17:58:06.166Z"
   },
   {
    "duration": 151,
    "start_time": "2022-09-09T17:58:20.757Z"
   },
   {
    "duration": 653,
    "start_time": "2022-09-09T17:58:34.279Z"
   },
   {
    "duration": 485,
    "start_time": "2022-09-09T18:00:35.351Z"
   },
   {
    "duration": 8102,
    "start_time": "2022-09-09T18:00:35.837Z"
   },
   {
    "duration": 765,
    "start_time": "2022-09-09T18:00:43.940Z"
   },
   {
    "duration": 82,
    "start_time": "2022-09-09T18:00:44.707Z"
   },
   {
    "duration": 91,
    "start_time": "2022-09-09T18:00:44.792Z"
   },
   {
    "duration": 83,
    "start_time": "2022-09-09T18:00:44.884Z"
   },
   {
    "duration": 88,
    "start_time": "2022-09-09T18:00:44.968Z"
   },
   {
    "duration": 86,
    "start_time": "2022-09-09T18:00:45.058Z"
   },
   {
    "duration": 606,
    "start_time": "2022-09-09T18:01:17.245Z"
   },
   {
    "duration": 11211,
    "start_time": "2022-09-09T18:01:17.855Z"
   },
   {
    "duration": 757,
    "start_time": "2022-09-09T18:01:29.068Z"
   },
   {
    "duration": 110,
    "start_time": "2022-09-09T18:01:29.827Z"
   },
   {
    "duration": 104,
    "start_time": "2022-09-09T18:01:29.940Z"
   },
   {
    "duration": 90,
    "start_time": "2022-09-09T18:01:30.045Z"
   },
   {
    "duration": 108,
    "start_time": "2022-09-09T18:01:30.137Z"
   },
   {
    "duration": 94,
    "start_time": "2022-09-09T18:01:30.247Z"
   },
   {
    "duration": 471,
    "start_time": "2022-10-02T16:36:23.068Z"
   },
   {
    "duration": 6965,
    "start_time": "2022-10-02T16:36:23.540Z"
   },
   {
    "duration": 665,
    "start_time": "2022-10-02T16:36:30.506Z"
   },
   {
    "duration": 90,
    "start_time": "2022-10-02T16:36:31.173Z"
   },
   {
    "duration": 98,
    "start_time": "2022-10-02T16:36:31.265Z"
   },
   {
    "duration": 78,
    "start_time": "2022-10-02T16:36:31.365Z"
   },
   {
    "duration": 100,
    "start_time": "2022-10-02T16:36:31.444Z"
   },
   {
    "duration": 78,
    "start_time": "2022-10-02T16:36:31.545Z"
   }
  ],
  "kernelspec": {
   "display_name": "Python 3 (ipykernel)",
   "language": "python",
   "name": "python3"
  },
  "language_info": {
   "codemirror_mode": {
    "name": "ipython",
    "version": 3
   },
   "file_extension": ".py",
   "mimetype": "text/x-python",
   "name": "python",
   "nbconvert_exporter": "python",
   "pygments_lexer": "ipython3",
   "version": "3.9.5"
  },
  "toc": {
   "base_numbering": 1,
   "nav_menu": {},
   "number_sections": true,
   "sideBar": true,
   "skip_h1_title": true,
   "title_cell": "Table of Contents",
   "title_sidebar": "Contents",
   "toc_cell": false,
   "toc_position": {
    "height": "calc(100% - 180px)",
    "left": "10px",
    "top": "150px",
    "width": "165px"
   },
   "toc_section_display": true,
   "toc_window_display": false
  }
 },
 "nbformat": 4,
 "nbformat_minor": 2
}
